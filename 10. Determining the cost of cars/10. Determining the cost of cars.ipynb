{
 "cells": [
  {
   "cell_type": "markdown",
   "metadata": {},
   "source": [
    "# Определение стоимости автомобилей"
   ]
  },
  {
   "cell_type": "markdown",
   "metadata": {},
   "source": [
    "Сервис по продаже автомобилей с пробегом «Не бит, не крашен» разрабатывает приложение для привлечения новых клиентов. В нём можно быстро узнать рыночную стоимость своего автомобиля. В вашем распоряжении исторические данные: технические характеристики, комплектации и цены автомобилей. Вам нужно построить модель для определения стоимости. \n",
    "\n",
    "Заказчику важны:\n",
    "\n",
    "- качество предсказания;\n",
    "- скорость предсказания;\n",
    "- время обучения."
   ]
  },
  {
   "cell_type": "markdown",
   "metadata": {},
   "source": [
    "# Описание данных\n",
    "\n",
    "Признаки:\n",
    "\n",
    "- DateCrawled — дата скачивания анкеты из базы\n",
    "- VehicleType — тип автомобильного кузова\n",
    "- RegistrationYear — год регистрации автомобиля\n",
    "- Gearbox — тип коробки передач\n",
    "- Power — мощность (л. с.)\n",
    "- Model — модель автомобиля\n",
    "- Kilometer — пробег (км)\n",
    "- RegistrationMonth — месяц регистрации автомобиля\n",
    "- FuelType — тип топлива\n",
    "- Brand — марка автомобиля\n",
    "- NotRepaired — была машина в ремонте или нет\n",
    "- DateCreated — дата создания анкеты\n",
    "- NumberOfPictures — количество фотографий автомобиля\n",
    "- PostalCode — почтовый индекс владельца анкеты (пользователя)\n",
    "- LastSeen — дата последней активности пользователя\n",
    "\n",
    "Целевой признак:\n",
    "\n",
    "- Price — цена (евро)"
   ]
  },
  {
   "cell_type": "markdown",
   "metadata": {},
   "source": [
    "## Подготовка данных\n",
    "### Подключение библиотек"
   ]
  },
  {
   "cell_type": "code",
   "execution_count": 1,
   "metadata": {},
   "outputs": [],
   "source": [
    "# Подключим все необходимые библиотеки:\n",
    "import pandas as pd\n",
    "import numpy as np\n",
    "import seaborn as sns\n",
    "import time \n",
    "from sklearn.model_selection import train_test_split\n",
    "from catboost import Pool, CatBoostRegressor\n",
    "from lightgbm import LGBMRegressor\n",
    "from sklearn.metrics import mean_squared_error\n",
    "from sklearn.preprocessing import OrdinalEncoder, StandardScaler\n",
    "from sklearn.model_selection import GridSearchCV\n",
    "from sklearn.tree import DecisionTreeRegressor\n",
    "from sklearn.model_selection import cross_val_score"
   ]
  },
  {
   "cell_type": "markdown",
   "metadata": {},
   "source": [
    "### Изучение данных"
   ]
  },
  {
   "cell_type": "code",
   "execution_count": 2,
   "metadata": {
    "scrolled": true
   },
   "outputs": [
    {
     "data": {
      "text/html": [
       "<div>\n",
       "<style scoped>\n",
       "    .dataframe tbody tr th:only-of-type {\n",
       "        vertical-align: middle;\n",
       "    }\n",
       "\n",
       "    .dataframe tbody tr th {\n",
       "        vertical-align: top;\n",
       "    }\n",
       "\n",
       "    .dataframe thead th {\n",
       "        text-align: right;\n",
       "    }\n",
       "</style>\n",
       "<table border=\"1\" class=\"dataframe\">\n",
       "  <thead>\n",
       "    <tr style=\"text-align: right;\">\n",
       "      <th></th>\n",
       "      <th>DateCrawled</th>\n",
       "      <th>Price</th>\n",
       "      <th>VehicleType</th>\n",
       "      <th>RegistrationYear</th>\n",
       "      <th>Gearbox</th>\n",
       "      <th>Power</th>\n",
       "      <th>Model</th>\n",
       "      <th>Kilometer</th>\n",
       "      <th>RegistrationMonth</th>\n",
       "      <th>FuelType</th>\n",
       "      <th>Brand</th>\n",
       "      <th>Repaired</th>\n",
       "      <th>DateCreated</th>\n",
       "      <th>NumberOfPictures</th>\n",
       "      <th>PostalCode</th>\n",
       "      <th>LastSeen</th>\n",
       "    </tr>\n",
       "  </thead>\n",
       "  <tbody>\n",
       "    <tr>\n",
       "      <th>0</th>\n",
       "      <td>2016-03-24 11:52:17</td>\n",
       "      <td>480</td>\n",
       "      <td>NaN</td>\n",
       "      <td>1993</td>\n",
       "      <td>manual</td>\n",
       "      <td>0</td>\n",
       "      <td>golf</td>\n",
       "      <td>150000</td>\n",
       "      <td>0</td>\n",
       "      <td>petrol</td>\n",
       "      <td>volkswagen</td>\n",
       "      <td>NaN</td>\n",
       "      <td>2016-03-24 00:00:00</td>\n",
       "      <td>0</td>\n",
       "      <td>70435</td>\n",
       "      <td>2016-04-07 03:16:57</td>\n",
       "    </tr>\n",
       "    <tr>\n",
       "      <th>1</th>\n",
       "      <td>2016-03-24 10:58:45</td>\n",
       "      <td>18300</td>\n",
       "      <td>coupe</td>\n",
       "      <td>2011</td>\n",
       "      <td>manual</td>\n",
       "      <td>190</td>\n",
       "      <td>NaN</td>\n",
       "      <td>125000</td>\n",
       "      <td>5</td>\n",
       "      <td>gasoline</td>\n",
       "      <td>audi</td>\n",
       "      <td>yes</td>\n",
       "      <td>2016-03-24 00:00:00</td>\n",
       "      <td>0</td>\n",
       "      <td>66954</td>\n",
       "      <td>2016-04-07 01:46:50</td>\n",
       "    </tr>\n",
       "    <tr>\n",
       "      <th>2</th>\n",
       "      <td>2016-03-14 12:52:21</td>\n",
       "      <td>9800</td>\n",
       "      <td>suv</td>\n",
       "      <td>2004</td>\n",
       "      <td>auto</td>\n",
       "      <td>163</td>\n",
       "      <td>grand</td>\n",
       "      <td>125000</td>\n",
       "      <td>8</td>\n",
       "      <td>gasoline</td>\n",
       "      <td>jeep</td>\n",
       "      <td>NaN</td>\n",
       "      <td>2016-03-14 00:00:00</td>\n",
       "      <td>0</td>\n",
       "      <td>90480</td>\n",
       "      <td>2016-04-05 12:47:46</td>\n",
       "    </tr>\n",
       "    <tr>\n",
       "      <th>3</th>\n",
       "      <td>2016-03-17 16:54:04</td>\n",
       "      <td>1500</td>\n",
       "      <td>small</td>\n",
       "      <td>2001</td>\n",
       "      <td>manual</td>\n",
       "      <td>75</td>\n",
       "      <td>golf</td>\n",
       "      <td>150000</td>\n",
       "      <td>6</td>\n",
       "      <td>petrol</td>\n",
       "      <td>volkswagen</td>\n",
       "      <td>no</td>\n",
       "      <td>2016-03-17 00:00:00</td>\n",
       "      <td>0</td>\n",
       "      <td>91074</td>\n",
       "      <td>2016-03-17 17:40:17</td>\n",
       "    </tr>\n",
       "    <tr>\n",
       "      <th>4</th>\n",
       "      <td>2016-03-31 17:25:20</td>\n",
       "      <td>3600</td>\n",
       "      <td>small</td>\n",
       "      <td>2008</td>\n",
       "      <td>manual</td>\n",
       "      <td>69</td>\n",
       "      <td>fabia</td>\n",
       "      <td>90000</td>\n",
       "      <td>7</td>\n",
       "      <td>gasoline</td>\n",
       "      <td>skoda</td>\n",
       "      <td>no</td>\n",
       "      <td>2016-03-31 00:00:00</td>\n",
       "      <td>0</td>\n",
       "      <td>60437</td>\n",
       "      <td>2016-04-06 10:17:21</td>\n",
       "    </tr>\n",
       "  </tbody>\n",
       "</table>\n",
       "</div>"
      ],
      "text/plain": [
       "           DateCrawled  Price VehicleType  RegistrationYear Gearbox  Power  \\\n",
       "0  2016-03-24 11:52:17    480         NaN              1993  manual      0   \n",
       "1  2016-03-24 10:58:45  18300       coupe              2011  manual    190   \n",
       "2  2016-03-14 12:52:21   9800         suv              2004    auto    163   \n",
       "3  2016-03-17 16:54:04   1500       small              2001  manual     75   \n",
       "4  2016-03-31 17:25:20   3600       small              2008  manual     69   \n",
       "\n",
       "   Model  Kilometer  RegistrationMonth  FuelType       Brand Repaired  \\\n",
       "0   golf     150000                  0    petrol  volkswagen      NaN   \n",
       "1    NaN     125000                  5  gasoline        audi      yes   \n",
       "2  grand     125000                  8  gasoline        jeep      NaN   \n",
       "3   golf     150000                  6    petrol  volkswagen       no   \n",
       "4  fabia      90000                  7  gasoline       skoda       no   \n",
       "\n",
       "           DateCreated  NumberOfPictures  PostalCode             LastSeen  \n",
       "0  2016-03-24 00:00:00                 0       70435  2016-04-07 03:16:57  \n",
       "1  2016-03-24 00:00:00                 0       66954  2016-04-07 01:46:50  \n",
       "2  2016-03-14 00:00:00                 0       90480  2016-04-05 12:47:46  \n",
       "3  2016-03-17 00:00:00                 0       91074  2016-03-17 17:40:17  \n",
       "4  2016-03-31 00:00:00                 0       60437  2016-04-06 10:17:21  "
      ]
     },
     "execution_count": 2,
     "metadata": {},
     "output_type": "execute_result"
    }
   ],
   "source": [
    "data = pd.read_csv('/datasets/autos.csv')\n",
    "data.head()"
   ]
  },
  {
   "cell_type": "code",
   "execution_count": 3,
   "metadata": {},
   "outputs": [
    {
     "name": "stdout",
     "output_type": "stream",
     "text": [
      "<class 'pandas.core.frame.DataFrame'>\n",
      "RangeIndex: 354369 entries, 0 to 354368\n",
      "Data columns (total 16 columns):\n",
      " #   Column             Non-Null Count   Dtype \n",
      "---  ------             --------------   ----- \n",
      " 0   DateCrawled        354369 non-null  object\n",
      " 1   Price              354369 non-null  int64 \n",
      " 2   VehicleType        316879 non-null  object\n",
      " 3   RegistrationYear   354369 non-null  int64 \n",
      " 4   Gearbox            334536 non-null  object\n",
      " 5   Power              354369 non-null  int64 \n",
      " 6   Model              334664 non-null  object\n",
      " 7   Kilometer          354369 non-null  int64 \n",
      " 8   RegistrationMonth  354369 non-null  int64 \n",
      " 9   FuelType           321474 non-null  object\n",
      " 10  Brand              354369 non-null  object\n",
      " 11  Repaired           283215 non-null  object\n",
      " 12  DateCreated        354369 non-null  object\n",
      " 13  NumberOfPictures   354369 non-null  int64 \n",
      " 14  PostalCode         354369 non-null  int64 \n",
      " 15  LastSeen           354369 non-null  object\n",
      "dtypes: int64(7), object(9)\n",
      "memory usage: 43.3+ MB\n"
     ]
    }
   ],
   "source": [
    "data.info()"
   ]
  },
  {
   "cell_type": "code",
   "execution_count": 4,
   "metadata": {},
   "outputs": [
    {
     "data": {
      "text/html": [
       "<div>\n",
       "<style scoped>\n",
       "    .dataframe tbody tr th:only-of-type {\n",
       "        vertical-align: middle;\n",
       "    }\n",
       "\n",
       "    .dataframe tbody tr th {\n",
       "        vertical-align: top;\n",
       "    }\n",
       "\n",
       "    .dataframe thead th {\n",
       "        text-align: right;\n",
       "    }\n",
       "</style>\n",
       "<table border=\"1\" class=\"dataframe\">\n",
       "  <thead>\n",
       "    <tr style=\"text-align: right;\">\n",
       "      <th></th>\n",
       "      <th>Price</th>\n",
       "      <th>RegistrationYear</th>\n",
       "      <th>Power</th>\n",
       "      <th>Kilometer</th>\n",
       "      <th>RegistrationMonth</th>\n",
       "      <th>NumberOfPictures</th>\n",
       "      <th>PostalCode</th>\n",
       "    </tr>\n",
       "  </thead>\n",
       "  <tbody>\n",
       "    <tr>\n",
       "      <th>count</th>\n",
       "      <td>354369.000000</td>\n",
       "      <td>354369.000000</td>\n",
       "      <td>354369.000000</td>\n",
       "      <td>354369.000000</td>\n",
       "      <td>354369.000000</td>\n",
       "      <td>354369.0</td>\n",
       "      <td>354369.000000</td>\n",
       "    </tr>\n",
       "    <tr>\n",
       "      <th>mean</th>\n",
       "      <td>4416.656776</td>\n",
       "      <td>2004.234448</td>\n",
       "      <td>110.094337</td>\n",
       "      <td>128211.172535</td>\n",
       "      <td>5.714645</td>\n",
       "      <td>0.0</td>\n",
       "      <td>50508.689087</td>\n",
       "    </tr>\n",
       "    <tr>\n",
       "      <th>std</th>\n",
       "      <td>4514.158514</td>\n",
       "      <td>90.227958</td>\n",
       "      <td>189.850405</td>\n",
       "      <td>37905.341530</td>\n",
       "      <td>3.726421</td>\n",
       "      <td>0.0</td>\n",
       "      <td>25783.096248</td>\n",
       "    </tr>\n",
       "    <tr>\n",
       "      <th>min</th>\n",
       "      <td>0.000000</td>\n",
       "      <td>1000.000000</td>\n",
       "      <td>0.000000</td>\n",
       "      <td>5000.000000</td>\n",
       "      <td>0.000000</td>\n",
       "      <td>0.0</td>\n",
       "      <td>1067.000000</td>\n",
       "    </tr>\n",
       "    <tr>\n",
       "      <th>25%</th>\n",
       "      <td>1050.000000</td>\n",
       "      <td>1999.000000</td>\n",
       "      <td>69.000000</td>\n",
       "      <td>125000.000000</td>\n",
       "      <td>3.000000</td>\n",
       "      <td>0.0</td>\n",
       "      <td>30165.000000</td>\n",
       "    </tr>\n",
       "    <tr>\n",
       "      <th>50%</th>\n",
       "      <td>2700.000000</td>\n",
       "      <td>2003.000000</td>\n",
       "      <td>105.000000</td>\n",
       "      <td>150000.000000</td>\n",
       "      <td>6.000000</td>\n",
       "      <td>0.0</td>\n",
       "      <td>49413.000000</td>\n",
       "    </tr>\n",
       "    <tr>\n",
       "      <th>75%</th>\n",
       "      <td>6400.000000</td>\n",
       "      <td>2008.000000</td>\n",
       "      <td>143.000000</td>\n",
       "      <td>150000.000000</td>\n",
       "      <td>9.000000</td>\n",
       "      <td>0.0</td>\n",
       "      <td>71083.000000</td>\n",
       "    </tr>\n",
       "    <tr>\n",
       "      <th>max</th>\n",
       "      <td>20000.000000</td>\n",
       "      <td>9999.000000</td>\n",
       "      <td>20000.000000</td>\n",
       "      <td>150000.000000</td>\n",
       "      <td>12.000000</td>\n",
       "      <td>0.0</td>\n",
       "      <td>99998.000000</td>\n",
       "    </tr>\n",
       "  </tbody>\n",
       "</table>\n",
       "</div>"
      ],
      "text/plain": [
       "               Price  RegistrationYear          Power      Kilometer  \\\n",
       "count  354369.000000     354369.000000  354369.000000  354369.000000   \n",
       "mean     4416.656776       2004.234448     110.094337  128211.172535   \n",
       "std      4514.158514         90.227958     189.850405   37905.341530   \n",
       "min         0.000000       1000.000000       0.000000    5000.000000   \n",
       "25%      1050.000000       1999.000000      69.000000  125000.000000   \n",
       "50%      2700.000000       2003.000000     105.000000  150000.000000   \n",
       "75%      6400.000000       2008.000000     143.000000  150000.000000   \n",
       "max     20000.000000       9999.000000   20000.000000  150000.000000   \n",
       "\n",
       "       RegistrationMonth  NumberOfPictures     PostalCode  \n",
       "count      354369.000000          354369.0  354369.000000  \n",
       "mean            5.714645               0.0   50508.689087  \n",
       "std             3.726421               0.0   25783.096248  \n",
       "min             0.000000               0.0    1067.000000  \n",
       "25%             3.000000               0.0   30165.000000  \n",
       "50%             6.000000               0.0   49413.000000  \n",
       "75%             9.000000               0.0   71083.000000  \n",
       "max            12.000000               0.0   99998.000000  "
      ]
     },
     "execution_count": 4,
     "metadata": {},
     "output_type": "execute_result"
    }
   ],
   "source": [
    "data.describe()"
   ]
  },
  {
   "cell_type": "code",
   "execution_count": 5,
   "metadata": {},
   "outputs": [
    {
     "data": {
      "text/plain": [
       "DateCrawled              0\n",
       "Price                    0\n",
       "VehicleType          37490\n",
       "RegistrationYear         0\n",
       "Gearbox              19833\n",
       "Power                    0\n",
       "Model                19705\n",
       "Kilometer                0\n",
       "RegistrationMonth        0\n",
       "FuelType             32895\n",
       "Brand                    0\n",
       "Repaired             71154\n",
       "DateCreated              0\n",
       "NumberOfPictures         0\n",
       "PostalCode               0\n",
       "LastSeen                 0\n",
       "dtype: int64"
      ]
     },
     "execution_count": 5,
     "metadata": {},
     "output_type": "execute_result"
    }
   ],
   "source": [
    "data.isna().sum()"
   ]
  },
  {
   "cell_type": "code",
   "execution_count": 6,
   "metadata": {
    "scrolled": false
   },
   "outputs": [
    {
     "data": {
      "text/html": [
       "<div>\n",
       "<style scoped>\n",
       "    .dataframe tbody tr th:only-of-type {\n",
       "        vertical-align: middle;\n",
       "    }\n",
       "\n",
       "    .dataframe tbody tr th {\n",
       "        vertical-align: top;\n",
       "    }\n",
       "\n",
       "    .dataframe thead th {\n",
       "        text-align: right;\n",
       "    }\n",
       "</style>\n",
       "<table border=\"1\" class=\"dataframe\">\n",
       "  <thead>\n",
       "    <tr style=\"text-align: right;\">\n",
       "      <th></th>\n",
       "      <th>DateCrawled</th>\n",
       "      <th>Price</th>\n",
       "      <th>VehicleType</th>\n",
       "      <th>RegistrationYear</th>\n",
       "      <th>Gearbox</th>\n",
       "      <th>Power</th>\n",
       "      <th>Model</th>\n",
       "      <th>Kilometer</th>\n",
       "      <th>RegistrationMonth</th>\n",
       "      <th>FuelType</th>\n",
       "      <th>Brand</th>\n",
       "      <th>Repaired</th>\n",
       "      <th>DateCreated</th>\n",
       "      <th>NumberOfPictures</th>\n",
       "      <th>PostalCode</th>\n",
       "      <th>LastSeen</th>\n",
       "    </tr>\n",
       "  </thead>\n",
       "  <tbody>\n",
       "    <tr>\n",
       "      <th>171088</th>\n",
       "      <td>2016-03-08 18:42:48</td>\n",
       "      <td>1799</td>\n",
       "      <td>coupe</td>\n",
       "      <td>1999</td>\n",
       "      <td>auto</td>\n",
       "      <td>193</td>\n",
       "      <td>clk</td>\n",
       "      <td>20000</td>\n",
       "      <td>7</td>\n",
       "      <td>petrol</td>\n",
       "      <td>mercedes_benz</td>\n",
       "      <td>no</td>\n",
       "      <td>2016-03-08 00:00:00</td>\n",
       "      <td>0</td>\n",
       "      <td>89518</td>\n",
       "      <td>2016-03-09 09:46:57</td>\n",
       "    </tr>\n",
       "    <tr>\n",
       "      <th>231258</th>\n",
       "      <td>2016-03-28 00:56:10</td>\n",
       "      <td>1000</td>\n",
       "      <td>small</td>\n",
       "      <td>2002</td>\n",
       "      <td>manual</td>\n",
       "      <td>83</td>\n",
       "      <td>other</td>\n",
       "      <td>150000</td>\n",
       "      <td>1</td>\n",
       "      <td>petrol</td>\n",
       "      <td>suzuki</td>\n",
       "      <td>no</td>\n",
       "      <td>2016-03-28 00:00:00</td>\n",
       "      <td>0</td>\n",
       "      <td>66589</td>\n",
       "      <td>2016-03-28 08:46:21</td>\n",
       "    </tr>\n",
       "    <tr>\n",
       "      <th>258109</th>\n",
       "      <td>2016-04-03 09:01:15</td>\n",
       "      <td>4699</td>\n",
       "      <td>coupe</td>\n",
       "      <td>2003</td>\n",
       "      <td>auto</td>\n",
       "      <td>218</td>\n",
       "      <td>clk</td>\n",
       "      <td>125000</td>\n",
       "      <td>6</td>\n",
       "      <td>petrol</td>\n",
       "      <td>mercedes_benz</td>\n",
       "      <td>yes</td>\n",
       "      <td>2016-04-03 00:00:00</td>\n",
       "      <td>0</td>\n",
       "      <td>75196</td>\n",
       "      <td>2016-04-07 09:44:54</td>\n",
       "    </tr>\n",
       "    <tr>\n",
       "      <th>325651</th>\n",
       "      <td>2016-03-18 18:46:15</td>\n",
       "      <td>1999</td>\n",
       "      <td>wagon</td>\n",
       "      <td>2001</td>\n",
       "      <td>manual</td>\n",
       "      <td>131</td>\n",
       "      <td>passat</td>\n",
       "      <td>150000</td>\n",
       "      <td>7</td>\n",
       "      <td>gasoline</td>\n",
       "      <td>volkswagen</td>\n",
       "      <td>no</td>\n",
       "      <td>2016-03-18 00:00:00</td>\n",
       "      <td>0</td>\n",
       "      <td>36391</td>\n",
       "      <td>2016-03-18 18:46:15</td>\n",
       "    </tr>\n",
       "  </tbody>\n",
       "</table>\n",
       "</div>"
      ],
      "text/plain": [
       "                DateCrawled  Price VehicleType  RegistrationYear Gearbox  \\\n",
       "171088  2016-03-08 18:42:48   1799       coupe              1999    auto   \n",
       "231258  2016-03-28 00:56:10   1000       small              2002  manual   \n",
       "258109  2016-04-03 09:01:15   4699       coupe              2003    auto   \n",
       "325651  2016-03-18 18:46:15   1999       wagon              2001  manual   \n",
       "\n",
       "        Power   Model  Kilometer  RegistrationMonth  FuelType          Brand  \\\n",
       "171088    193     clk      20000                  7    petrol  mercedes_benz   \n",
       "231258     83   other     150000                  1    petrol         suzuki   \n",
       "258109    218     clk     125000                  6    petrol  mercedes_benz   \n",
       "325651    131  passat     150000                  7  gasoline     volkswagen   \n",
       "\n",
       "       Repaired          DateCreated  NumberOfPictures  PostalCode  \\\n",
       "171088       no  2016-03-08 00:00:00                 0       89518   \n",
       "231258       no  2016-03-28 00:00:00                 0       66589   \n",
       "258109      yes  2016-04-03 00:00:00                 0       75196   \n",
       "325651       no  2016-03-18 00:00:00                 0       36391   \n",
       "\n",
       "                   LastSeen  \n",
       "171088  2016-03-09 09:46:57  \n",
       "231258  2016-03-28 08:46:21  \n",
       "258109  2016-04-07 09:44:54  \n",
       "325651  2016-03-18 18:46:15  "
      ]
     },
     "execution_count": 6,
     "metadata": {},
     "output_type": "execute_result"
    }
   ],
   "source": [
    "data[data.duplicated()]"
   ]
  },
  {
   "cell_type": "markdown",
   "metadata": {},
   "source": [
    "По результатам исследования очевидно, что данные нужно предобработать. Необходимо:\n",
    "\n",
    "1. Определить наиболее значимые признаки для обучения модели и избавиться от остальных;\n",
    "1. Привести названия столбцов к нужному виду;\n",
    "1. Избавиться от пропусков;\n",
    "1. Избавиться от дубликатов;\n",
    "1. Более детально изучить аномальные значения и принять соответствующие меры.\n",
    "\n",
    "### Предобработка данных\n",
    "\n",
    "Выведем на экран корреляции всех столбцов, чтобы определить какие из них имеют наименьшее влияние на целевой признак (столбец `Price`), а значит, которые целесообразно удалить из выборки:"
   ]
  },
  {
   "cell_type": "code",
   "execution_count": 7,
   "metadata": {},
   "outputs": [
    {
     "data": {
      "text/html": [
       "<div>\n",
       "<style scoped>\n",
       "    .dataframe tbody tr th:only-of-type {\n",
       "        vertical-align: middle;\n",
       "    }\n",
       "\n",
       "    .dataframe tbody tr th {\n",
       "        vertical-align: top;\n",
       "    }\n",
       "\n",
       "    .dataframe thead th {\n",
       "        text-align: right;\n",
       "    }\n",
       "</style>\n",
       "<table border=\"1\" class=\"dataframe\">\n",
       "  <thead>\n",
       "    <tr style=\"text-align: right;\">\n",
       "      <th></th>\n",
       "      <th>Price</th>\n",
       "      <th>RegistrationYear</th>\n",
       "      <th>Power</th>\n",
       "      <th>Kilometer</th>\n",
       "      <th>RegistrationMonth</th>\n",
       "      <th>NumberOfPictures</th>\n",
       "      <th>PostalCode</th>\n",
       "    </tr>\n",
       "  </thead>\n",
       "  <tbody>\n",
       "    <tr>\n",
       "      <th>Price</th>\n",
       "      <td>1.000000</td>\n",
       "      <td>0.026916</td>\n",
       "      <td>0.158872</td>\n",
       "      <td>-0.333199</td>\n",
       "      <td>0.110581</td>\n",
       "      <td>NaN</td>\n",
       "      <td>0.076055</td>\n",
       "    </tr>\n",
       "    <tr>\n",
       "      <th>RegistrationYear</th>\n",
       "      <td>0.026916</td>\n",
       "      <td>1.000000</td>\n",
       "      <td>-0.000828</td>\n",
       "      <td>-0.053447</td>\n",
       "      <td>-0.011619</td>\n",
       "      <td>NaN</td>\n",
       "      <td>-0.003459</td>\n",
       "    </tr>\n",
       "    <tr>\n",
       "      <th>Power</th>\n",
       "      <td>0.158872</td>\n",
       "      <td>-0.000828</td>\n",
       "      <td>1.000000</td>\n",
       "      <td>0.024002</td>\n",
       "      <td>0.043380</td>\n",
       "      <td>NaN</td>\n",
       "      <td>0.021665</td>\n",
       "    </tr>\n",
       "    <tr>\n",
       "      <th>Kilometer</th>\n",
       "      <td>-0.333199</td>\n",
       "      <td>-0.053447</td>\n",
       "      <td>0.024002</td>\n",
       "      <td>1.000000</td>\n",
       "      <td>0.009571</td>\n",
       "      <td>NaN</td>\n",
       "      <td>-0.007698</td>\n",
       "    </tr>\n",
       "    <tr>\n",
       "      <th>RegistrationMonth</th>\n",
       "      <td>0.110581</td>\n",
       "      <td>-0.011619</td>\n",
       "      <td>0.043380</td>\n",
       "      <td>0.009571</td>\n",
       "      <td>1.000000</td>\n",
       "      <td>NaN</td>\n",
       "      <td>0.013995</td>\n",
       "    </tr>\n",
       "    <tr>\n",
       "      <th>NumberOfPictures</th>\n",
       "      <td>NaN</td>\n",
       "      <td>NaN</td>\n",
       "      <td>NaN</td>\n",
       "      <td>NaN</td>\n",
       "      <td>NaN</td>\n",
       "      <td>NaN</td>\n",
       "      <td>NaN</td>\n",
       "    </tr>\n",
       "    <tr>\n",
       "      <th>PostalCode</th>\n",
       "      <td>0.076055</td>\n",
       "      <td>-0.003459</td>\n",
       "      <td>0.021665</td>\n",
       "      <td>-0.007698</td>\n",
       "      <td>0.013995</td>\n",
       "      <td>NaN</td>\n",
       "      <td>1.000000</td>\n",
       "    </tr>\n",
       "  </tbody>\n",
       "</table>\n",
       "</div>"
      ],
      "text/plain": [
       "                      Price  RegistrationYear     Power  Kilometer  \\\n",
       "Price              1.000000          0.026916  0.158872  -0.333199   \n",
       "RegistrationYear   0.026916          1.000000 -0.000828  -0.053447   \n",
       "Power              0.158872         -0.000828  1.000000   0.024002   \n",
       "Kilometer         -0.333199         -0.053447  0.024002   1.000000   \n",
       "RegistrationMonth  0.110581         -0.011619  0.043380   0.009571   \n",
       "NumberOfPictures        NaN               NaN       NaN        NaN   \n",
       "PostalCode         0.076055         -0.003459  0.021665  -0.007698   \n",
       "\n",
       "                   RegistrationMonth  NumberOfPictures  PostalCode  \n",
       "Price                       0.110581               NaN    0.076055  \n",
       "RegistrationYear           -0.011619               NaN   -0.003459  \n",
       "Power                       0.043380               NaN    0.021665  \n",
       "Kilometer                   0.009571               NaN   -0.007698  \n",
       "RegistrationMonth           1.000000               NaN    0.013995  \n",
       "NumberOfPictures                 NaN               NaN         NaN  \n",
       "PostalCode                  0.013995               NaN    1.000000  "
      ]
     },
     "execution_count": 7,
     "metadata": {},
     "output_type": "execute_result"
    }
   ],
   "source": [
    "data.corr()"
   ]
  },
  {
   "cell_type": "markdown",
   "metadata": {},
   "source": [
    "Создадим новую переменную data_filtered, куда поместим данные, напрямую влияющие на цену авто. Для этого из генеральной выборки исключим данные, связанные с датами (кроме года выпуска авто) и столбцы \"почтовый индекс владельца\", \"количество фотографий авто\"."
   ]
  },
  {
   "cell_type": "code",
   "execution_count": 8,
   "metadata": {
    "scrolled": false
   },
   "outputs": [
    {
     "name": "stdout",
     "output_type": "stream",
     "text": [
      "В результате предобработки будет удалено 99753 строк или 32.25 % генеральной выборки\n",
      "\n"
     ]
    }
   ],
   "source": [
    "data_filtered = data.drop(['DateCrawled', 'RegistrationMonth', 'DateCreated', 'NumberOfPictures', 'PostalCode', 'LastSeen'], axis='columns')\n",
    "\n",
    "# Приведём к sanke_case названия столбцов:\n",
    "data_filtered.columns = data_filtered.columns.str.lower()\n",
    "data_filtered = data_filtered.rename(columns={'vehicletype': 'vehicle_type',\n",
    "                            'registrationyear': 'registration_year',\n",
    "                            'fueltype': 'fuel_type'})\n",
    "\n",
    "# Удалим 4 дубликата:\n",
    "data_filtered = data_filtered.drop_duplicates().reset_index(drop=True)\n",
    "\n",
    "# Удалим все строки с пропусками и оценим, как много данных будет утрачено в результате:\n",
    "data_filtered_temp = data_filtered.dropna()\n",
    "print('В результате предобработки будет удалено',data_filtered.shape[0] - data_filtered_temp.shape[0], 'строк или',round(100 - (data_filtered_temp.shape[0] / data_filtered.shape[0] * 100), 2),\"% генеральной выборки\\n\")\n",
    "del data_filtered_temp"
   ]
  },
  {
   "cell_type": "markdown",
   "metadata": {},
   "source": [
    "Терять более 30% выборки, чтобы избавиться от пропусков нецелесообразно. Заменим пропуски в столбцах `model` и `repaired` категорией  `uknown`, а в столбцах, содержащих категориальные данные, модой:"
   ]
  },
  {
   "cell_type": "code",
   "execution_count": 9,
   "metadata": {
    "scrolled": true
   },
   "outputs": [],
   "source": [
    "categ_columns = ['vehicle_type', 'gearbox', 'fuel_type']\n",
    "\n",
    "for column in categ_columns:\n",
    "    data_filtered[column].fillna(data_filtered[column].mode()[0], inplace=True)\n",
    "    \n",
    "data_filtered['repaired'] = data_filtered['repaired'].fillna('unknown')\n",
    "data_filtered['model'] = data_filtered['model'].fillna('unknown')"
   ]
  },
  {
   "cell_type": "markdown",
   "metadata": {},
   "source": [
    "Ещё раз выведем на экран`describe` и ящики с усами для определения дальнейшей работы."
   ]
  },
  {
   "cell_type": "code",
   "execution_count": 10,
   "metadata": {},
   "outputs": [
    {
     "data": {
      "text/html": [
       "<div>\n",
       "<style scoped>\n",
       "    .dataframe tbody tr th:only-of-type {\n",
       "        vertical-align: middle;\n",
       "    }\n",
       "\n",
       "    .dataframe tbody tr th {\n",
       "        vertical-align: top;\n",
       "    }\n",
       "\n",
       "    .dataframe thead th {\n",
       "        text-align: right;\n",
       "    }\n",
       "</style>\n",
       "<table border=\"1\" class=\"dataframe\">\n",
       "  <thead>\n",
       "    <tr style=\"text-align: right;\">\n",
       "      <th></th>\n",
       "      <th>price</th>\n",
       "      <th>registration_year</th>\n",
       "      <th>power</th>\n",
       "      <th>kilometer</th>\n",
       "    </tr>\n",
       "  </thead>\n",
       "  <tbody>\n",
       "    <tr>\n",
       "      <th>count</th>\n",
       "      <td>309329.000000</td>\n",
       "      <td>309329.000000</td>\n",
       "      <td>309329.000000</td>\n",
       "      <td>309329.000000</td>\n",
       "    </tr>\n",
       "    <tr>\n",
       "      <th>mean</th>\n",
       "      <td>4486.937196</td>\n",
       "      <td>2004.360105</td>\n",
       "      <td>110.976908</td>\n",
       "      <td>127217.735809</td>\n",
       "    </tr>\n",
       "    <tr>\n",
       "      <th>std</th>\n",
       "      <td>4564.852796</td>\n",
       "      <td>92.541399</td>\n",
       "      <td>200.969473</td>\n",
       "      <td>38532.941010</td>\n",
       "    </tr>\n",
       "    <tr>\n",
       "      <th>min</th>\n",
       "      <td>0.000000</td>\n",
       "      <td>1000.000000</td>\n",
       "      <td>0.000000</td>\n",
       "      <td>5000.000000</td>\n",
       "    </tr>\n",
       "    <tr>\n",
       "      <th>25%</th>\n",
       "      <td>1100.000000</td>\n",
       "      <td>1999.000000</td>\n",
       "      <td>69.000000</td>\n",
       "      <td>125000.000000</td>\n",
       "    </tr>\n",
       "    <tr>\n",
       "      <th>50%</th>\n",
       "      <td>2800.000000</td>\n",
       "      <td>2003.000000</td>\n",
       "      <td>105.000000</td>\n",
       "      <td>150000.000000</td>\n",
       "    </tr>\n",
       "    <tr>\n",
       "      <th>75%</th>\n",
       "      <td>6500.000000</td>\n",
       "      <td>2008.000000</td>\n",
       "      <td>143.000000</td>\n",
       "      <td>150000.000000</td>\n",
       "    </tr>\n",
       "    <tr>\n",
       "      <th>max</th>\n",
       "      <td>20000.000000</td>\n",
       "      <td>9999.000000</td>\n",
       "      <td>20000.000000</td>\n",
       "      <td>150000.000000</td>\n",
       "    </tr>\n",
       "  </tbody>\n",
       "</table>\n",
       "</div>"
      ],
      "text/plain": [
       "               price  registration_year          power      kilometer\n",
       "count  309329.000000      309329.000000  309329.000000  309329.000000\n",
       "mean     4486.937196        2004.360105     110.976908  127217.735809\n",
       "std      4564.852796          92.541399     200.969473   38532.941010\n",
       "min         0.000000        1000.000000       0.000000    5000.000000\n",
       "25%      1100.000000        1999.000000      69.000000  125000.000000\n",
       "50%      2800.000000        2003.000000     105.000000  150000.000000\n",
       "75%      6500.000000        2008.000000     143.000000  150000.000000\n",
       "max     20000.000000        9999.000000   20000.000000  150000.000000"
      ]
     },
     "execution_count": 10,
     "metadata": {},
     "output_type": "execute_result"
    }
   ],
   "source": [
    "data_filtered.describe()"
   ]
  },
  {
   "cell_type": "code",
   "execution_count": 11,
   "metadata": {},
   "outputs": [
    {
     "data": {
      "text/plain": [
       "<AxesSubplot:>"
      ]
     },
     "execution_count": 11,
     "metadata": {},
     "output_type": "execute_result"
    },
    {
     "data": {
      "image/png": "[encoded data removed]",
      "text/plain": [
       "<Figure size 432x288 with 1 Axes>"
      ]
     },
     "metadata": {
      "needs_background": "light"
     },
     "output_type": "display_data"
    }
   ],
   "source": [
    "data_filtered.boxplot()"
   ]
  },
  {
   "cell_type": "markdown",
   "metadata": {},
   "source": [
    "Выявлены аномальные выбросы в нескольких столбцах, а именно: `Price` (минимальное значение столбца = 0), `RegistrationYear` и `Power`. Пробег может быть разный и этот столбец не стоит обрабатывать. Детально изучим каждый из интересующих нас столбцов.\n",
    "\n",
    "Чтобы выявить аномилии в данных года регистрации авто, изучим столбец `DateCrawled` из генеральной выборки. Отсортировав его по возрастанию и рассмотрев первые и последние даты можно будет понять, в каком временном промежутке скачаны все анкеты."
   ]
  },
  {
   "cell_type": "code",
   "execution_count": 12,
   "metadata": {},
   "outputs": [
    {
     "data": {
      "text/plain": [
       "array(['2016-03-05 14:06:22', '2016-03-05 14:06:23',\n",
       "       '2016-03-05 14:06:24', ..., '2016-04-07 14:36:55',\n",
       "       '2016-04-07 14:36:56', '2016-04-07 14:36:58'], dtype=object)"
      ]
     },
     "execution_count": 12,
     "metadata": {},
     "output_type": "execute_result"
    }
   ],
   "source": [
    "np.sort(data['DateCrawled'])"
   ]
  },
  {
   "cell_type": "markdown",
   "metadata": {},
   "source": [
    "Все анкеты ограничены 2016 годом. Следовательно, все автомобили, зарегестрированные позже 2016 стоит исключить. Так же, согласно результатам `describe` минимальный год регистрации авто - 1000 год, что, очевидно, аномалия. За нижний предел в дальнейшем возьмём 1950 год.\n",
    "\n",
    "Итак, в целях исключения аномалий в данных необходимо:\n",
    "\n",
    "1. Согласно столбцу `DateCrawled`генеральной выборки, все анкеты скачаны в 2016 году. Следовательно, стоит отсеять все авто, зарегестрированные после 2016. Так же предположим, что все автомобили, зарегестрированные раньше 1950г. тоже являются аномалиями;\n",
    "1. В столбце с ценами следует исключить строки со значением 0, поскольку машину даром никто продавать не станет;\n",
    "1. Верхним пределом показателя мощности двигателя возьмём двигатель БелАЗа 75710 с его 2330 л.с. Все авто с большим показателем исключим.\n",
    "\n",
    "Проведём обработку данных, чтобы избавиться от выявленных аномалий и оценим долю удалённых данных:"
   ]
  },
  {
   "cell_type": "code",
   "execution_count": 13,
   "metadata": {},
   "outputs": [],
   "source": [
    "data_filtered_temp = data_filtered[(data_filtered['registration_year'] > 1949) & (data_filtered['registration_year'] < 2017) &\n",
    "                                  (data_filtered['price'] > 0) &\n",
    "                                  (data_filtered['power'] < 2331)]"
   ]
  },
  {
   "cell_type": "code",
   "execution_count": 14,
   "metadata": {},
   "outputs": [
    {
     "name": "stdout",
     "output_type": "stream",
     "text": [
      "В результате исключения автомобилей с аномальными показателями будет удалено 22085 строк, или 7.14 % генеральной выборки.\n",
      "\n",
      "Остаточная выборка содержит 287244 строк.\n"
     ]
    }
   ],
   "source": [
    "print('В результате исключения автомобилей с аномальными показателями будет удалено',data_filtered.shape[0] - data_filtered_temp.shape[0], 'строк, или',round(100 - (data_filtered_temp.shape[0] / data_filtered.shape[0] * 100), 2),\"% генеральной выборки.\\n\")\n",
    "print('Остаточная выборка содержит',data_filtered_temp.shape[0],'строк.')\n",
    "data_filtered = data_filtered_temp\n",
    "del data_filtered_temp"
   ]
  },
  {
   "cell_type": "markdown",
   "metadata": {},
   "source": [
    "Избавиться от 7% выборки целесообразно, поскольку чем более достоверные данные мы сможем предоставить модели для обучения - тем лучше она научиться прогнозироавть. \n",
    "\n",
    "В ходе предобработки были:\n",
    "- Заполнены пропуски;\n",
    "- Преведены к правильному формату названия столбцов;\n",
    "- Исключены объявления с аномальными показателями.\n",
    "\n",
    "## Обучение моделей\n",
    "\n",
    "Масштабируем данные и разделим выборку на обучающую и тестовую."
   ]
  },
  {
   "cell_type": "code",
   "execution_count": 15,
   "metadata": {},
   "outputs": [
    {
     "name": "stdout",
     "output_type": "stream",
     "text": [
      "Обучающая выборка составляет 75.0 % от общей\n",
      "Тестовая выборка составляет 25.0 % от общей\n"
     ]
    }
   ],
   "source": [
    "state = 0\n",
    "\n",
    "X, y = data_filtered.drop(columns=['price']), data_filtered['price']\n",
    "column_category = list(X.select_dtypes('object').columns)\n",
    "X_train, X_test, y_train, y_test = train_test_split(X, y, test_size=0.25, random_state=state)\n",
    " \n",
    "encoder = OrdinalEncoder(handle_unknown='use_encoded_value', unknown_value=-1)\n",
    "X_train_1 = X_train.copy()\n",
    "X_test_1 = X_test.copy()\n",
    "X_train_1.loc[:,column_category] = \\\n",
    "    pd.DataFrame(encoder.fit_transform(X_train.loc[:,column_category]),\n",
    "                 columns=column_category, index=X_train.index)\n",
    "X_test_1.loc[:,column_category] = \\\n",
    "    pd.DataFrame(encoder.transform(X_test.loc[:,column_category]),\n",
    "                 columns=column_category,index=X_test.index)\n",
    "X_train = X_train_1\n",
    "X_test = X_test_1\n",
    " \n",
    "scaler = StandardScaler()\n",
    "X_train = scaler.fit_transform(X_train)\n",
    "X_test = scaler.transform(X_test)\n",
    "\n",
    "print('Обучающая выборка составляет',round(X_train.shape[0]/X.shape[0]*100, 2) ,\"% от общей\")\n",
    "print('Тестовая выборка составляет',round(X_test.shape[0]/X.shape[0]*100, 2) ,\"% от общей\")"
   ]
  },
  {
   "cell_type": "code",
   "execution_count": 16,
   "metadata": {},
   "outputs": [],
   "source": [
    "# Напишем функцию для оценеки среднеквадратичной ошибки, с помощью которой будем оценивать качество обученных моделей:\n",
    "def rmse (target, predictions):\n",
    "    mse = mean_squared_error(target, predictions)\n",
    "    return mse ** 0.5"
   ]
  },
  {
   "cell_type": "markdown",
   "metadata": {},
   "source": [
    "### DecisionTreeRegressor\n",
    "Обучим модель DecisionTreeRegressor с измерением времени обучения и предсказания:"
   ]
  },
  {
   "cell_type": "code",
   "execution_count": 17,
   "metadata": {
    "scrolled": true
   },
   "outputs": [
    {
     "name": "stdout",
     "output_type": "stream",
     "text": [
      "Наилучшие гиперпараметры для модели DecisionTreeRegressor:  {'max_depth': 9, 'max_features': 4, 'min_samples_leaf': 4}\n",
      "\n",
      "Показатель RMSE для указанных параметров: 2213.12\n",
      "\n",
      "CPU times: user 46.7 s, sys: 33.5 ms, total: 46.8 s\n",
      "Wall time: 46.8 s\n"
     ]
    }
   ],
   "source": [
    "%%time\n",
    "model = DecisionTreeRegressor(random_state=state)\n",
    "parameters = {'max_depth': range(1, 10),\n",
    "              'min_samples_leaf' : range (1,5),\n",
    "              'max_features' : range(1,5)\n",
    "             }\n",
    "\n",
    "dtr_cv = GridSearchCV(model, parameters, scoring='neg_mean_squared_error', n_jobs = -1) \n",
    "dtr_cv.fit(X_train, y_train)\n",
    " \n",
    "print('Наилучшие гиперпараметры для модели DecisionTreeRegressor: ', dtr_cv.best_params_)\n",
    "print()\n",
    "print('Показатель RMSE для указанных параметров:', round((-1*dtr_cv.best_score_) ** 0.5, 2))\n",
    "print()"
   ]
  },
  {
   "cell_type": "code",
   "execution_count": 18,
   "metadata": {
    "scrolled": true
   },
   "outputs": [],
   "source": [
    "model = DecisionTreeRegressor(random_state=state, max_depth= 9, max_features= 4, min_samples_leaf= 4)"
   ]
  },
  {
   "cell_type": "code",
   "execution_count": 19,
   "metadata": {
    "scrolled": false
   },
   "outputs": [
    {
     "name": "stdout",
     "output_type": "stream",
     "text": [
      "CPU times: user 162 ms, sys: 0 ns, total: 162 ms\n",
      "Wall time: 162 ms\n"
     ]
    },
    {
     "data": {
      "text/plain": [
       "DecisionTreeRegressor(max_depth=9, max_features=4, min_samples_leaf=4,\n",
       "                      random_state=0)"
      ]
     },
     "execution_count": 19,
     "metadata": {},
     "output_type": "execute_result"
    }
   ],
   "source": [
    "%%time\n",
    "model.fit(X_train, y_train)"
   ]
  },
  {
   "cell_type": "code",
   "execution_count": 20,
   "metadata": {},
   "outputs": [
    {
     "name": "stdout",
     "output_type": "stream",
     "text": [
      "CPU times: user 20.2 ms, sys: 48 µs, total: 20.3 ms\n",
      "Wall time: 19.4 ms\n"
     ]
    }
   ],
   "source": [
    "%%time\n",
    "dtr_predictions = model.predict(X_train)"
   ]
  },
  {
   "cell_type": "code",
   "execution_count": 21,
   "metadata": {},
   "outputs": [
    {
     "name": "stdout",
     "output_type": "stream",
     "text": [
      "Показатель RMSE для предсказаний: 2147.4\n"
     ]
    }
   ],
   "source": [
    "dtr_rmse = round(rmse(y_train, dtr_predictions),2)\n",
    "print('Показатель RMSE для предсказаний:', dtr_rmse)"
   ]
  },
  {
   "cell_type": "markdown",
   "metadata": {},
   "source": [
    "**Модель DecisionTreeRegressor** обучилась и сделала предсказание менее чем за минуту, и **показала достаточную точность,** чтобы использовать её для предсказания."
   ]
  },
  {
   "cell_type": "markdown",
   "metadata": {},
   "source": [
    "### CatBoostRegressor\n",
    "\n",
    "Обучим модель CBR с измерением времени обучения и предсказания при изменении гиперпараметров `iterations` и `learning_rate`:"
   ]
  },
  {
   "cell_type": "code",
   "execution_count": 22,
   "metadata": {
    "scrolled": true
   },
   "outputs": [
    {
     "name": "stdout",
     "output_type": "stream",
     "text": [
      "Learning rate set to 0.5\n",
      "0:\tlearn: 3459.1685353\ttotal: 61.2ms\tremaining: 551ms\n",
      "9:\tlearn: 2206.1280931\ttotal: 162ms\tremaining: 0us\n",
      "Learning rate set to 0.5\n",
      "0:\tlearn: 3424.8900028\ttotal: 11.3ms\tremaining: 101ms\n",
      "9:\tlearn: 2184.6388816\ttotal: 103ms\tremaining: 0us\n",
      "Learning rate set to 0.5\n",
      "0:\tlearn: 3459.1685353\ttotal: 11ms\tremaining: 319ms\n",
      "10:\tlearn: 2185.0282260\ttotal: 117ms\tremaining: 202ms\n",
      "20:\tlearn: 2014.4293927\ttotal: 223ms\tremaining: 95.6ms\n",
      "29:\tlearn: 1942.8817531\ttotal: 314ms\tremaining: 0us\n",
      "Learning rate set to 0.5\n",
      "0:\tlearn: 3424.8900028\ttotal: 11.7ms\tremaining: 340ms\n",
      "10:\tlearn: 2167.6080511\ttotal: 126ms\tremaining: 218ms\n",
      "20:\tlearn: 2018.6424996\ttotal: 234ms\tremaining: 100ms\n",
      "29:\tlearn: 1946.3440842\ttotal: 332ms\tremaining: 0us\n",
      "Learning rate set to 0.5\n",
      "0:\tlearn: 3459.1685353\ttotal: 11ms\tremaining: 540ms\n",
      "10:\tlearn: 2185.0282260\ttotal: 114ms\tremaining: 405ms\n",
      "20:\tlearn: 2014.4293927\ttotal: 216ms\tremaining: 299ms\n",
      "30:\tlearn: 1936.9034737\ttotal: 319ms\tremaining: 196ms\n",
      "40:\tlearn: 1886.2918278\ttotal: 420ms\tremaining: 92.2ms\n",
      "49:\tlearn: 1857.1835254\ttotal: 514ms\tremaining: 0us\n",
      "Learning rate set to 0.5\n",
      "0:\tlearn: 3424.8900028\ttotal: 10.9ms\tremaining: 535ms\n",
      "10:\tlearn: 2167.6080511\ttotal: 117ms\tremaining: 415ms\n",
      "20:\tlearn: 2018.6424996\ttotal: 221ms\tremaining: 305ms\n",
      "30:\tlearn: 1939.7906755\ttotal: 325ms\tremaining: 199ms\n",
      "40:\tlearn: 1891.2160378\ttotal: 426ms\tremaining: 93.5ms\n",
      "49:\tlearn: 1860.9033106\ttotal: 521ms\tremaining: 0us\n",
      "Learning rate set to 0.5\n",
      "0:\tlearn: 3459.1685353\ttotal: 11.1ms\tremaining: 764ms\n",
      "10:\tlearn: 2185.0282260\ttotal: 115ms\tremaining: 615ms\n",
      "20:\tlearn: 2014.4293927\ttotal: 219ms\tremaining: 510ms\n",
      "30:\tlearn: 1936.9034737\ttotal: 322ms\tremaining: 406ms\n",
      "40:\tlearn: 1886.2918278\ttotal: 424ms\tremaining: 300ms\n",
      "50:\tlearn: 1854.1635108\ttotal: 527ms\tremaining: 196ms\n",
      "60:\tlearn: 1831.7079176\ttotal: 628ms\tremaining: 92.7ms\n",
      "69:\tlearn: 1814.1499210\ttotal: 723ms\tremaining: 0us\n",
      "Learning rate set to 0.5\n",
      "0:\tlearn: 3424.8900028\ttotal: 11.7ms\tremaining: 810ms\n",
      "10:\tlearn: 2167.6080511\ttotal: 121ms\tremaining: 646ms\n",
      "20:\tlearn: 2018.6424996\ttotal: 229ms\tremaining: 535ms\n",
      "30:\tlearn: 1939.7906755\ttotal: 335ms\tremaining: 422ms\n",
      "40:\tlearn: 1891.2160378\ttotal: 441ms\tremaining: 312ms\n",
      "50:\tlearn: 1855.6800156\ttotal: 548ms\tremaining: 204ms\n",
      "60:\tlearn: 1833.6299585\ttotal: 654ms\tremaining: 96.5ms\n",
      "69:\tlearn: 1815.9606732\ttotal: 758ms\tremaining: 0us\n",
      "Learning rate set to 0.5\n",
      "0:\tlearn: 3329.7071121\ttotal: 13.4ms\tremaining: 121ms\n",
      "9:\tlearn: 2030.9042092\ttotal: 131ms\tremaining: 0us\n",
      "Learning rate set to 0.5\n",
      "0:\tlearn: 3309.4488698\ttotal: 13.7ms\tremaining: 123ms\n",
      "9:\tlearn: 2029.3211451\ttotal: 123ms\tremaining: 0us\n",
      "Learning rate set to 0.5\n",
      "0:\tlearn: 3329.7071121\ttotal: 16.9ms\tremaining: 491ms\n",
      "10:\tlearn: 2009.7615424\ttotal: 194ms\tremaining: 336ms\n",
      "20:\tlearn: 1890.4796647\ttotal: 332ms\tremaining: 142ms\n",
      "29:\tlearn: 1830.4309352\ttotal: 464ms\tremaining: 0us\n",
      "Learning rate set to 0.5\n",
      "0:\tlearn: 3309.4488698\ttotal: 14.1ms\tremaining: 409ms\n",
      "10:\tlearn: 2014.8507412\ttotal: 151ms\tremaining: 262ms\n",
      "20:\tlearn: 1891.3441021\ttotal: 279ms\tremaining: 120ms\n",
      "29:\tlearn: 1832.3042725\ttotal: 403ms\tremaining: 0us\n",
      "Learning rate set to 0.5\n",
      "0:\tlearn: 3329.7071121\ttotal: 13.5ms\tremaining: 661ms\n",
      "10:\tlearn: 2009.7615424\ttotal: 138ms\tremaining: 490ms\n",
      "20:\tlearn: 1890.4796647\ttotal: 264ms\tremaining: 364ms\n",
      "30:\tlearn: 1824.7381866\ttotal: 396ms\tremaining: 243ms\n",
      "40:\tlearn: 1781.3822517\ttotal: 521ms\tremaining: 114ms\n",
      "49:\tlearn: 1757.8559349\ttotal: 633ms\tremaining: 0us\n",
      "Learning rate set to 0.5\n",
      "0:\tlearn: 3309.4488698\ttotal: 13.8ms\tremaining: 674ms\n",
      "10:\tlearn: 2014.8507412\ttotal: 138ms\tremaining: 490ms\n",
      "20:\tlearn: 1891.3441021\ttotal: 264ms\tremaining: 365ms\n",
      "30:\tlearn: 1827.9638983\ttotal: 391ms\tremaining: 240ms\n",
      "40:\tlearn: 1788.2715868\ttotal: 515ms\tremaining: 113ms\n",
      "49:\tlearn: 1758.6243563\ttotal: 631ms\tremaining: 0us\n",
      "Learning rate set to 0.5\n",
      "0:\tlearn: 3329.7071121\ttotal: 13.6ms\tremaining: 942ms\n",
      "10:\tlearn: 2009.7615424\ttotal: 138ms\tremaining: 740ms\n",
      "20:\tlearn: 1890.4796647\ttotal: 264ms\tremaining: 617ms\n",
      "30:\tlearn: 1824.7381866\ttotal: 384ms\tremaining: 484ms\n",
      "40:\tlearn: 1781.3822517\ttotal: 509ms\tremaining: 360ms\n",
      "50:\tlearn: 1755.2741858\ttotal: 633ms\tremaining: 236ms\n",
      "60:\tlearn: 1726.9500864\ttotal: 760ms\tremaining: 112ms\n",
      "69:\tlearn: 1709.7519046\ttotal: 871ms\tremaining: 0us\n",
      "Learning rate set to 0.5\n",
      "0:\tlearn: 3309.4488698\ttotal: 13.6ms\tremaining: 942ms\n",
      "10:\tlearn: 2014.8507412\ttotal: 139ms\tremaining: 745ms\n",
      "20:\tlearn: 1891.3441021\ttotal: 266ms\tremaining: 622ms\n",
      "30:\tlearn: 1827.9638983\ttotal: 397ms\tremaining: 500ms\n",
      "40:\tlearn: 1788.2715868\ttotal: 520ms\tremaining: 368ms\n",
      "50:\tlearn: 1756.1557257\ttotal: 651ms\tremaining: 243ms\n",
      "60:\tlearn: 1733.7962467\ttotal: 781ms\tremaining: 115ms\n",
      "69:\tlearn: 1717.2191645\ttotal: 897ms\tremaining: 0us\n",
      "Learning rate set to 0.5\n",
      "0:\tlearn: 3239.4644627\ttotal: 18.6ms\tremaining: 167ms\n",
      "9:\tlearn: 1923.6599907\ttotal: 165ms\tremaining: 0us\n",
      "Learning rate set to 0.5\n",
      "0:\tlearn: 3238.7441803\ttotal: 17.7ms\tremaining: 159ms\n",
      "9:\tlearn: 1923.5663302\ttotal: 174ms\tremaining: 0us\n",
      "Learning rate set to 0.5\n",
      "0:\tlearn: 3239.4644627\ttotal: 16.5ms\tremaining: 480ms\n",
      "10:\tlearn: 1905.5813331\ttotal: 176ms\tremaining: 305ms\n",
      "20:\tlearn: 1804.1410896\ttotal: 334ms\tremaining: 143ms\n",
      "29:\tlearn: 1752.4759991\ttotal: 478ms\tremaining: 0us\n",
      "Learning rate set to 0.5\n",
      "0:\tlearn: 3238.7441803\ttotal: 17.3ms\tremaining: 501ms\n",
      "10:\tlearn: 1907.2209848\ttotal: 188ms\tremaining: 325ms\n",
      "20:\tlearn: 1803.9672229\ttotal: 346ms\tremaining: 148ms\n",
      "29:\tlearn: 1752.0734104\ttotal: 483ms\tremaining: 0us\n",
      "Learning rate set to 0.5\n",
      "0:\tlearn: 3239.4644627\ttotal: 16.1ms\tremaining: 789ms\n",
      "10:\tlearn: 1905.5813331\ttotal: 170ms\tremaining: 604ms\n",
      "20:\tlearn: 1804.1410896\ttotal: 327ms\tremaining: 452ms\n",
      "30:\tlearn: 1745.6705657\ttotal: 487ms\tremaining: 298ms\n",
      "40:\tlearn: 1700.0333325\ttotal: 656ms\tremaining: 144ms\n",
      "49:\tlearn: 1670.3631901\ttotal: 814ms\tremaining: 0us\n",
      "Learning rate set to 0.5\n",
      "0:\tlearn: 3238.7441803\ttotal: 17.5ms\tremaining: 856ms\n",
      "10:\tlearn: 1907.2209848\ttotal: 181ms\tremaining: 640ms\n",
      "20:\tlearn: 1803.9672229\ttotal: 347ms\tremaining: 479ms\n",
      "30:\tlearn: 1748.0099009\ttotal: 518ms\tremaining: 317ms\n",
      "40:\tlearn: 1701.5233254\ttotal: 701ms\tremaining: 154ms\n",
      "49:\tlearn: 1673.6054736\ttotal: 853ms\tremaining: 0us\n",
      "Learning rate set to 0.5\n",
      "0:\tlearn: 3239.4644627\ttotal: 17.7ms\tremaining: 1.22s\n",
      "10:\tlearn: 1905.5813331\ttotal: 206ms\tremaining: 1.1s\n",
      "20:\tlearn: 1804.1410896\ttotal: 366ms\tremaining: 854ms\n",
      "30:\tlearn: 1745.6705657\ttotal: 526ms\tremaining: 662ms\n",
      "40:\tlearn: 1700.0333325\ttotal: 689ms\tremaining: 488ms\n",
      "50:\tlearn: 1668.3577762\ttotal: 851ms\tremaining: 317ms\n",
      "60:\tlearn: 1642.0303768\ttotal: 1.06s\tremaining: 156ms\n",
      "69:\tlearn: 1620.8719157\ttotal: 1.2s\tremaining: 0us\n",
      "Learning rate set to 0.5\n",
      "0:\tlearn: 3238.7441803\ttotal: 17.1ms\tremaining: 1.18s\n",
      "10:\tlearn: 1907.2209848\ttotal: 180ms\tremaining: 965ms\n",
      "20:\tlearn: 1803.9672229\ttotal: 352ms\tremaining: 820ms\n",
      "30:\tlearn: 1748.0099009\ttotal: 521ms\tremaining: 655ms\n",
      "40:\tlearn: 1701.5233254\ttotal: 696ms\tremaining: 492ms\n",
      "50:\tlearn: 1670.5815133\ttotal: 867ms\tremaining: 323ms\n",
      "60:\tlearn: 1641.3691571\ttotal: 1.03s\tremaining: 152ms\n",
      "69:\tlearn: 1621.1928197\ttotal: 1.18s\tremaining: 0us\n",
      "Learning rate set to 0.5\n",
      "0:\tlearn: 3236.8729049\ttotal: 37ms\tremaining: 2.55s\n",
      "10:\tlearn: 1915.1178813\ttotal: 352ms\tremaining: 1.89s\n",
      "20:\tlearn: 1811.3122124\ttotal: 674ms\tremaining: 1.57s\n",
      "30:\tlearn: 1754.7996003\ttotal: 1.01s\tremaining: 1.27s\n",
      "40:\tlearn: 1719.2685907\ttotal: 1.35s\tremaining: 957ms\n",
      "50:\tlearn: 1691.7250952\ttotal: 1.7s\tremaining: 634ms\n",
      "60:\tlearn: 1669.4214194\ttotal: 2.03s\tremaining: 299ms\n",
      "69:\tlearn: 1652.5100861\ttotal: 2.32s\tremaining: 0us\n",
      "\n",
      " Показатель RMSE для указанных параметров: 1744.88\n",
      "\n",
      " Наилучшие гиперпараметры для модели: {'depth': 8, 'iterations': 70}\n",
      "CPU times: user 26.6 s, sys: 212 ms, total: 26.8 s\n",
      "Wall time: 42.6 s\n"
     ]
    }
   ],
   "source": [
    "%%time\n",
    "start_time = time.time()\n",
    "model = CatBoostRegressor(verbose=10, random_state=0)\n",
    "\n",
    "parameters = {'depth'          : [4, 6, 8],\n",
    "               'iterations'    : [10,30,50,70]\n",
    "              }\n",
    "\n",
    "cbr_cv = GridSearchCV(estimator=model, param_grid = parameters, scoring='neg_mean_squared_error', cv = 2, n_jobs=-1)\n",
    "cbr_cv.fit(X_train, y_train)\n",
    "\n",
    "print(\"\\n Показатель RMSE для указанных параметров:\", round((-1*cbr_cv.best_score_) ** 0.5, 2))\n",
    "\n",
    "print(\"\\n Наилучшие гиперпараметры для модели:\", cbr_cv.best_params_)\n",
    "end_time = time.time()\n",
    "sh_time = (end_time - start_time) / 60"
   ]
  },
  {
   "cell_type": "code",
   "execution_count": 23,
   "metadata": {
    "scrolled": true
   },
   "outputs": [],
   "source": [
    "model = CatBoostRegressor(depth=8, iterations=70, random_state=state, verbose=False)"
   ]
  },
  {
   "cell_type": "code",
   "execution_count": 24,
   "metadata": {
    "scrolled": false
   },
   "outputs": [
    {
     "name": "stdout",
     "output_type": "stream",
     "text": [
      "CPU times: user 2.41 s, sys: 11.9 ms, total: 2.42 s\n",
      "Wall time: 3.22 s\n"
     ]
    },
    {
     "data": {
      "text/plain": [
       "<catboost.core.CatBoostRegressor at 0x7f0fe54fc820>"
      ]
     },
     "execution_count": 24,
     "metadata": {},
     "output_type": "execute_result"
    }
   ],
   "source": [
    "%%time\n",
    "model.fit(X_train, y_train)"
   ]
  },
  {
   "cell_type": "code",
   "execution_count": 25,
   "metadata": {},
   "outputs": [
    {
     "name": "stdout",
     "output_type": "stream",
     "text": [
      "CPU times: user 55.4 ms, sys: 36 µs, total: 55.4 ms\n",
      "Wall time: 53.2 ms\n"
     ]
    }
   ],
   "source": [
    "%%time\n",
    "cbr_predictions = model.predict(X_train)"
   ]
  },
  {
   "cell_type": "code",
   "execution_count": 26,
   "metadata": {},
   "outputs": [
    {
     "name": "stdout",
     "output_type": "stream",
     "text": [
      "Показатель RMSE для предсказаний: 1652.51\n"
     ]
    }
   ],
   "source": [
    "cbr_rmse = round(rmse(y_train, cbr_predictions),2)\n",
    "print('Показатель RMSE для предсказаний:', cbr_rmse)"
   ]
  },
  {
   "cell_type": "markdown",
   "metadata": {},
   "source": [
    "Обучение модели заняло 3 секунды, предсказание - 33 мс. Показатель RMSE менее 2500. **Модель CatBoostRegressor проходит по условию задачи.** Обучим последню модель, LightBGM.\n",
    "\n",
    "### LightBGM\n",
    "\n",
    "При обучении изменим гиперпараметры `num_leaves` и `learning_rate`:"
   ]
  },
  {
   "cell_type": "code",
   "execution_count": 27,
   "metadata": {
    "scrolled": true
   },
   "outputs": [
    {
     "name": "stdout",
     "output_type": "stream",
     "text": [
      "[LightGBM] [Warning] Auto-choosing row-wise multi-threading, the overhead of testing was 0.100420 seconds.\n",
      "You can set `force_row_wise=true` to remove the overhead.\n",
      "And if memory is not enough, you can set `force_col_wise=true`.\n",
      "[LightGBM] [Warning] Auto-choosing col-wise multi-threading, the overhead of testing was 0.093365 seconds.\n",
      "You can set `force_col_wise=true` to remove the overhead.\n",
      "[LightGBM] [Warning] Auto-choosing row-wise multi-threading, the overhead of testing was 0.003943 seconds.\n",
      "You can set `force_row_wise=true` to remove the overhead.\n",
      "And if memory is not enough, you can set `force_col_wise=true`.\n",
      "[LightGBM] [Warning] Auto-choosing row-wise multi-threading, the overhead of testing was 0.001787 seconds.\n",
      "You can set `force_row_wise=true` to remove the overhead.\n",
      "And if memory is not enough, you can set `force_col_wise=true`.\n",
      "[LightGBM] [Warning] Auto-choosing row-wise multi-threading, the overhead of testing was 0.000814 seconds.\n",
      "You can set `force_row_wise=true` to remove the overhead.\n",
      "And if memory is not enough, you can set `force_col_wise=true`.\n",
      "[LightGBM] [Warning] Auto-choosing col-wise multi-threading, the overhead of testing was 0.199208 seconds.\n",
      "You can set `force_col_wise=true` to remove the overhead.\n",
      "[LightGBM] [Warning] Auto-choosing row-wise multi-threading, the overhead of testing was 0.000767 seconds.\n",
      "You can set `force_row_wise=true` to remove the overhead.\n",
      "And if memory is not enough, you can set `force_col_wise=true`.\n",
      "[LightGBM] [Warning] Auto-choosing row-wise multi-threading, the overhead of testing was 0.183010 seconds.\n",
      "You can set `force_row_wise=true` to remove the overhead.\n",
      "And if memory is not enough, you can set `force_col_wise=true`.\n",
      "[LightGBM] [Warning] Auto-choosing row-wise multi-threading, the overhead of testing was 0.001245 seconds.\n",
      "You can set `force_row_wise=true` to remove the overhead.\n",
      "And if memory is not enough, you can set `force_col_wise=true`.\n",
      "[LightGBM] [Warning] Auto-choosing row-wise multi-threading, the overhead of testing was 0.001561 seconds.\n",
      "You can set `force_row_wise=true` to remove the overhead.\n",
      "And if memory is not enough, you can set `force_col_wise=true`.\n",
      "[LightGBM] [Warning] Auto-choosing row-wise multi-threading, the overhead of testing was 0.000965 seconds.\n",
      "You can set `force_row_wise=true` to remove the overhead.\n",
      "And if memory is not enough, you can set `force_col_wise=true`.\n",
      "[LightGBM] [Warning] Auto-choosing row-wise multi-threading, the overhead of testing was 0.001401 seconds.\n",
      "You can set `force_row_wise=true` to remove the overhead.\n",
      "And if memory is not enough, you can set `force_col_wise=true`.\n",
      "[LightGBM] [Warning] Auto-choosing col-wise multi-threading, the overhead of testing was 0.202341 seconds.\n",
      "You can set `force_col_wise=true` to remove the overhead.\n",
      "[LightGBM] [Warning] Auto-choosing row-wise multi-threading, the overhead of testing was 0.001367 seconds.\n",
      "You can set `force_row_wise=true` to remove the overhead.\n",
      "And if memory is not enough, you can set `force_col_wise=true`.\n",
      "[LightGBM] [Warning] Auto-choosing row-wise multi-threading, the overhead of testing was 0.082270 seconds.\n",
      "You can set `force_row_wise=true` to remove the overhead.\n",
      "And if memory is not enough, you can set `force_col_wise=true`.\n",
      "[LightGBM] [Warning] Auto-choosing row-wise multi-threading, the overhead of testing was 0.001652 seconds.\n",
      "You can set `force_row_wise=true` to remove the overhead.\n",
      "And if memory is not enough, you can set `force_col_wise=true`.\n",
      "[LightGBM] [Warning] Auto-choosing row-wise multi-threading, the overhead of testing was 0.090343 seconds.\n",
      "You can set `force_row_wise=true` to remove the overhead.\n",
      "And if memory is not enough, you can set `force_col_wise=true`.\n",
      "[LightGBM] [Warning] Auto-choosing row-wise multi-threading, the overhead of testing was 0.001767 seconds.\n",
      "You can set `force_row_wise=true` to remove the overhead.\n",
      "And if memory is not enough, you can set `force_col_wise=true`.\n",
      "[LightGBM] [Warning] Auto-choosing row-wise multi-threading, the overhead of testing was 0.091103 seconds.\n",
      "You can set `force_row_wise=true` to remove the overhead.\n",
      "And if memory is not enough, you can set `force_col_wise=true`.\n",
      "\n",
      " Показатель RMSE для указанных параметров: 1721.83\n",
      "\n",
      " Наилучшие гиперпараметры для модели: {'learning_rate': 0.3, 'num_leaves': 40}\n",
      "CPU times: user 1min 31s, sys: 590 ms, total: 1min 32s\n",
      "Wall time: 1min 36s\n"
     ]
    }
   ],
   "source": [
    "%%time\n",
    "start_time = time.time()\n",
    "model = LGBMRegressor(verbose=0)\n",
    "\n",
    "parameters = {'num_leaves'     : [20, 30, 40],\n",
    "              'learning_rate'  : [0.1, 0.2, 0.3]\n",
    "              }\n",
    "\n",
    "lbgm_cv = GridSearchCV(estimator=model, param_grid = parameters, scoring='neg_mean_squared_error', cv = 2, n_jobs=-1)\n",
    "lbgm_cv.fit(X_train, y_train)\n",
    "\n",
    "print(\"\\n Показатель RMSE для указанных параметров:\", round((-1*lbgm_cv.best_score_) ** 0.5, 2))\n",
    "\n",
    "print(\"\\n Наилучшие гиперпараметры для модели:\", lbgm_cv.best_params_)\n",
    "end_time = time.time()\n",
    "sh_time = (end_time - start_time) / 60"
   ]
  },
  {
   "cell_type": "code",
   "execution_count": 28,
   "metadata": {
    "scrolled": true
   },
   "outputs": [],
   "source": [
    "model = LGBMRegressor(learning_rate=0.3, num_leaves=40, random_state=state, verbose=0)"
   ]
  },
  {
   "cell_type": "code",
   "execution_count": 29,
   "metadata": {
    "scrolled": false
   },
   "outputs": [
    {
     "name": "stdout",
     "output_type": "stream",
     "text": [
      "[LightGBM] [Warning] Auto-choosing col-wise multi-threading, the overhead of testing was 0.293028 seconds.\n",
      "You can set `force_col_wise=true` to remove the overhead.\n",
      "CPU times: user 49.6 s, sys: 312 ms, total: 49.9 s\n",
      "Wall time: 59.9 s\n"
     ]
    },
    {
     "data": {
      "text/plain": [
       "LGBMRegressor(learning_rate=0.3, num_leaves=40, random_state=0, verbose=0)"
      ]
     },
     "execution_count": 29,
     "metadata": {},
     "output_type": "execute_result"
    }
   ],
   "source": [
    "%%time\n",
    "model.fit(X_train, y_train)"
   ]
  },
  {
   "cell_type": "code",
   "execution_count": 30,
   "metadata": {},
   "outputs": [
    {
     "name": "stdout",
     "output_type": "stream",
     "text": [
      "CPU times: user 1.18 s, sys: 3 ms, total: 1.18 s\n",
      "Wall time: 1.3 s\n"
     ]
    }
   ],
   "source": [
    "%%time\n",
    "lbgm_predictions = model.predict(X_train)"
   ]
  },
  {
   "cell_type": "code",
   "execution_count": 31,
   "metadata": {
    "scrolled": true
   },
   "outputs": [
    {
     "name": "stdout",
     "output_type": "stream",
     "text": [
      "Показатель RMSE для предсказаний: 1595.91\n"
     ]
    }
   ],
   "source": [
    "lbgm_rmse = round(rmse(y_train, lbgm_predictions),2)\n",
    "print('Показатель RMSE для предсказаний:', lbgm_rmse)"
   ]
  },
  {
   "cell_type": "markdown",
   "metadata": {},
   "source": [
    "RMSE модели LBGM оказалсось ещё ниже, чем у CatBoost, однако время обучения и предсказания модели оказалось не выдающимися. Сделаем сводную таблицу для подведения итогов:"
   ]
  },
  {
   "cell_type": "code",
   "execution_count": 32,
   "metadata": {},
   "outputs": [
    {
     "data": {
      "text/html": [
       "<div>\n",
       "<style scoped>\n",
       "    .dataframe tbody tr th:only-of-type {\n",
       "        vertical-align: middle;\n",
       "    }\n",
       "\n",
       "    .dataframe tbody tr th {\n",
       "        vertical-align: top;\n",
       "    }\n",
       "\n",
       "    .dataframe thead th {\n",
       "        text-align: right;\n",
       "    }\n",
       "</style>\n",
       "<table border=\"1\" class=\"dataframe\">\n",
       "  <thead>\n",
       "    <tr style=\"text-align: right;\">\n",
       "      <th></th>\n",
       "      <th>model</th>\n",
       "      <th>train_time, sec</th>\n",
       "      <th>prediction_time, msec</th>\n",
       "      <th>rmse</th>\n",
       "    </tr>\n",
       "  </thead>\n",
       "  <tbody>\n",
       "    <tr>\n",
       "      <th>0</th>\n",
       "      <td>DTR</td>\n",
       "      <td>0.185</td>\n",
       "      <td>19</td>\n",
       "      <td>2147.40</td>\n",
       "    </tr>\n",
       "    <tr>\n",
       "      <th>1</th>\n",
       "      <td>CBR</td>\n",
       "      <td>3.000</td>\n",
       "      <td>37</td>\n",
       "      <td>1652.51</td>\n",
       "    </tr>\n",
       "    <tr>\n",
       "      <th>2</th>\n",
       "      <td>LGBM</td>\n",
       "      <td>5.000</td>\n",
       "      <td>1300</td>\n",
       "      <td>1595.91</td>\n",
       "    </tr>\n",
       "  </tbody>\n",
       "</table>\n",
       "</div>"
      ],
      "text/plain": [
       "  model  train_time, sec  prediction_time, msec     rmse\n",
       "0   DTR            0.185                     19  2147.40\n",
       "1   CBR            3.000                     37  1652.51\n",
       "2  LGBM            5.000                   1300  1595.91"
      ]
     },
     "execution_count": 32,
     "metadata": {},
     "output_type": "execute_result"
    }
   ],
   "source": [
    "models = [['DTR', 0.185, 19, dtr_rmse], ['CBR', 3, 37, cbr_rmse], ['LGBM', 5, 1300, lbgm_rmse]] \n",
    "    \n",
    "results = pd.DataFrame(models, columns = ['model', 'train_time, sec', 'prediction_time, msec', 'rmse']) \n",
    "results.set_index('model')\n",
    "results"
   ]
  },
  {
   "cell_type": "markdown",
   "metadata": {},
   "source": [
    "Выявлена прямая зависимость между длительностью обучения модели и точности предсказания. Хотя по параметрам скорости лидирует модель DecisionTreeRegressor, считаю оптимальной для проверки на тестовой выборке модель CatBoostRegressor, т.к. она обладает значитльно меньшей квадратичной ошибкой, чем DTR, и работает гораздо быстрее модели LGBM.\n",
    "\n",
    "## Анализ моделей\n",
    "Сделаем предсказание моделью CatBoostRegressor на тестовой выборке."
   ]
  },
  {
   "cell_type": "code",
   "execution_count": 33,
   "metadata": {
    "scrolled": true
   },
   "outputs": [
    {
     "data": {
      "text/plain": [
       "<catboost.core.CatBoostRegressor at 0x7f0fe5504a60>"
      ]
     },
     "execution_count": 33,
     "metadata": {},
     "output_type": "execute_result"
    }
   ],
   "source": [
    "model = CatBoostRegressor(depth=8, iterations=70, random_state=state, verbose=False)\n",
    "model.fit(X_train, y_train)"
   ]
  },
  {
   "cell_type": "code",
   "execution_count": 34,
   "metadata": {},
   "outputs": [
    {
     "name": "stdout",
     "output_type": "stream",
     "text": [
      "CPU times: user 16.3 ms, sys: 0 ns, total: 16.3 ms\n",
      "Wall time: 36.3 ms\n"
     ]
    }
   ],
   "source": [
    "%%time\n",
    "cbr_predictions = model.predict(X_test)"
   ]
  },
  {
   "cell_type": "code",
   "execution_count": 35,
   "metadata": {
    "scrolled": true
   },
   "outputs": [
    {
     "name": "stdout",
     "output_type": "stream",
     "text": [
      "Показатель RMSE для предсказаний: 1714.98\n"
     ]
    }
   ],
   "source": [
    "cbr_rmse = round(rmse(y_test, cbr_predictions),2)\n",
    "print('Показатель RMSE для предсказаний:', cbr_rmse)"
   ]
  },
  {
   "cell_type": "markdown",
   "metadata": {},
   "source": [
    "На тестовой выборке модель CatBoostRegressor сделала предсказание за 68 мс с точностью 1546.74 евро.\n",
    "## Выводы\n",
    "В ходе работы:\n",
    "- Была произведена предобработка данных: удалены аномалии, пропуски и названия столбцов сведены к правильному формату. \n",
    "- Подобраны наилучшие гиперпараметры для 3 моделей: DecisionTreeRegressor, CatBoostRegressor и LGBMRegressor.\n",
    "- С помощью оценки метрики RMSE и скорости работы каддой модели была выбрана лучшая, плодходящая под условие задачи, модель CatBoostRegressor.\n",
    "- По результатам тестовой проверки модели с гиперпараметрами `depth= 8, iterations= 70` модель обучилась за 10 секунд и сделала предсказание со среднеквадратичной ошибкой эквивалентной 1546.74 евро за 68 мс."
   ]
  }
 ],
 "metadata": {
  "ExecuteTimeLog": [
   {
    "duration": 1751,
    "start_time": "2023-05-14T07:17:44.509Z"
   },
   {
    "duration": 3095,
    "start_time": "2023-05-14T07:19:43.195Z"
   },
   {
    "duration": 144,
    "start_time": "2023-05-14T07:19:57.662Z"
   },
   {
    "duration": 154,
    "start_time": "2023-05-14T07:22:10.351Z"
   },
   {
    "duration": 149,
    "start_time": "2023-05-14T07:22:18.779Z"
   },
   {
    "duration": 123,
    "start_time": "2023-05-14T07:22:24.156Z"
   },
   {
    "duration": 448,
    "start_time": "2023-05-14T07:23:13.152Z"
   },
   {
    "duration": 460,
    "start_time": "2023-05-14T07:23:18.753Z"
   },
   {
    "duration": 575,
    "start_time": "2023-05-14T07:24:36.304Z"
   },
   {
    "duration": 94,
    "start_time": "2023-05-14T07:27:19.940Z"
   },
   {
    "duration": 45,
    "start_time": "2023-05-14T09:17:51.493Z"
   },
   {
    "duration": 1579,
    "start_time": "2023-05-14T09:18:11.271Z"
   },
   {
    "duration": 1271,
    "start_time": "2023-05-14T09:18:12.852Z"
   },
   {
    "duration": 115,
    "start_time": "2023-05-14T09:18:14.125Z"
   },
   {
    "duration": 115,
    "start_time": "2023-05-14T09:18:14.242Z"
   },
   {
    "duration": 106,
    "start_time": "2023-05-14T09:18:14.359Z"
   },
   {
    "duration": 488,
    "start_time": "2023-05-14T09:18:14.467Z"
   },
   {
    "duration": 26,
    "start_time": "2023-05-14T09:18:14.957Z"
   },
   {
    "duration": 36,
    "start_time": "2023-05-14T09:27:20.062Z"
   },
   {
    "duration": 33,
    "start_time": "2023-05-14T09:27:26.492Z"
   },
   {
    "duration": 43,
    "start_time": "2023-05-14T09:27:58.953Z"
   },
   {
    "duration": 57,
    "start_time": "2023-05-14T09:28:12.203Z"
   },
   {
    "duration": 118,
    "start_time": "2023-05-14T09:28:14.463Z"
   },
   {
    "duration": 12,
    "start_time": "2023-05-14T09:28:35.117Z"
   },
   {
    "duration": 1425,
    "start_time": "2023-05-14T09:29:11.263Z"
   },
   {
    "duration": 869,
    "start_time": "2023-05-14T09:29:12.690Z"
   },
   {
    "duration": 114,
    "start_time": "2023-05-14T09:29:13.561Z"
   },
   {
    "duration": 145,
    "start_time": "2023-05-14T09:29:13.677Z"
   },
   {
    "duration": 106,
    "start_time": "2023-05-14T09:29:13.824Z"
   },
   {
    "duration": 509,
    "start_time": "2023-05-14T09:29:13.931Z"
   },
   {
    "duration": 35,
    "start_time": "2023-05-14T09:29:14.441Z"
   },
   {
    "duration": 38,
    "start_time": "2023-05-14T09:29:14.478Z"
   },
   {
    "duration": 11,
    "start_time": "2023-05-14T09:29:14.519Z"
   },
   {
    "duration": 70,
    "start_time": "2023-05-14T09:42:01.193Z"
   },
   {
    "duration": 80,
    "start_time": "2023-05-14T09:42:26.204Z"
   },
   {
    "duration": 403,
    "start_time": "2023-05-14T09:48:08.908Z"
   },
   {
    "duration": 101,
    "start_time": "2023-05-14T09:48:12.110Z"
   },
   {
    "duration": 49,
    "start_time": "2023-05-14T09:48:19.102Z"
   },
   {
    "duration": 110,
    "start_time": "2023-05-14T09:48:34.753Z"
   },
   {
    "duration": 10,
    "start_time": "2023-05-14T09:48:41.610Z"
   },
   {
    "duration": 4,
    "start_time": "2023-05-14T09:48:47.255Z"
   },
   {
    "duration": 10,
    "start_time": "2023-05-14T09:49:00.706Z"
   },
   {
    "duration": 4,
    "start_time": "2023-05-14T09:49:08.492Z"
   },
   {
    "duration": 6,
    "start_time": "2023-05-14T09:49:20.044Z"
   },
   {
    "duration": 134,
    "start_time": "2023-05-14T09:58:33.258Z"
   },
   {
    "duration": 6,
    "start_time": "2023-05-14T09:58:38.658Z"
   },
   {
    "duration": 4,
    "start_time": "2023-05-14T09:59:26.854Z"
   },
   {
    "duration": 5,
    "start_time": "2023-05-14T10:00:23.990Z"
   },
   {
    "duration": 5,
    "start_time": "2023-05-14T10:00:45.499Z"
   },
   {
    "duration": 6,
    "start_time": "2023-05-14T10:01:00.938Z"
   },
   {
    "duration": 5,
    "start_time": "2023-05-14T10:01:09.312Z"
   },
   {
    "duration": 6,
    "start_time": "2023-05-14T10:01:13.444Z"
   },
   {
    "duration": 5,
    "start_time": "2023-05-14T10:01:23.127Z"
   },
   {
    "duration": 5,
    "start_time": "2023-05-14T10:01:29.826Z"
   },
   {
    "duration": 337,
    "start_time": "2023-05-14T10:03:13.999Z"
   },
   {
    "duration": 44,
    "start_time": "2023-05-14T10:03:46.293Z"
   },
   {
    "duration": 5,
    "start_time": "2023-05-14T10:03:51.607Z"
   },
   {
    "duration": 6,
    "start_time": "2023-05-14T10:03:56.400Z"
   },
   {
    "duration": 5,
    "start_time": "2023-05-14T10:04:30.296Z"
   },
   {
    "duration": 5,
    "start_time": "2023-05-14T10:04:36.296Z"
   },
   {
    "duration": 5,
    "start_time": "2023-05-14T10:04:41.948Z"
   },
   {
    "duration": 5,
    "start_time": "2023-05-14T10:04:45.112Z"
   },
   {
    "duration": 1720,
    "start_time": "2023-05-14T10:06:58.350Z"
   },
   {
    "duration": 1000,
    "start_time": "2023-05-14T10:07:00.072Z"
   },
   {
    "duration": 149,
    "start_time": "2023-05-14T10:07:01.074Z"
   },
   {
    "duration": 122,
    "start_time": "2023-05-14T10:07:01.225Z"
   },
   {
    "duration": 119,
    "start_time": "2023-05-14T10:07:01.350Z"
   },
   {
    "duration": 570,
    "start_time": "2023-05-14T10:07:01.471Z"
   },
   {
    "duration": 41,
    "start_time": "2023-05-14T10:07:02.043Z"
   },
   {
    "duration": 434,
    "start_time": "2023-05-14T10:07:02.086Z"
   },
   {
    "duration": 5,
    "start_time": "2023-05-14T10:07:02.523Z"
   },
   {
    "duration": 18,
    "start_time": "2023-05-14T10:07:02.530Z"
   },
   {
    "duration": 13,
    "start_time": "2023-05-14T10:07:02.550Z"
   },
   {
    "duration": 304,
    "start_time": "2023-05-14T10:07:37.925Z"
   },
   {
    "duration": 328,
    "start_time": "2023-05-14T10:11:13.687Z"
   },
   {
    "duration": 121,
    "start_time": "2023-05-14T10:11:18.584Z"
   },
   {
    "duration": 61,
    "start_time": "2023-05-14T10:12:03.342Z"
   },
   {
    "duration": 79,
    "start_time": "2023-05-14T10:12:10.084Z"
   },
   {
    "duration": 77,
    "start_time": "2023-05-14T10:12:25.187Z"
   },
   {
    "duration": 45,
    "start_time": "2023-05-14T12:01:10.342Z"
   },
   {
    "duration": 1596,
    "start_time": "2023-05-14T12:01:19.305Z"
   },
   {
    "duration": 1025,
    "start_time": "2023-05-14T12:01:20.903Z"
   },
   {
    "duration": 126,
    "start_time": "2023-05-14T12:01:21.929Z"
   },
   {
    "duration": 96,
    "start_time": "2023-05-14T12:01:22.056Z"
   },
   {
    "duration": 121,
    "start_time": "2023-05-14T12:01:22.154Z"
   },
   {
    "duration": 447,
    "start_time": "2023-05-14T12:01:22.277Z"
   },
   {
    "duration": 25,
    "start_time": "2023-05-14T12:01:22.725Z"
   },
   {
    "duration": 347,
    "start_time": "2023-05-14T12:01:22.751Z"
   },
   {
    "duration": 85,
    "start_time": "2023-05-14T12:01:23.100Z"
   },
   {
    "duration": 46,
    "start_time": "2023-05-14T16:21:43.407Z"
   },
   {
    "duration": 6,
    "start_time": "2023-05-14T16:21:50.200Z"
   },
   {
    "duration": 1577,
    "start_time": "2023-05-14T16:21:53.750Z"
   },
   {
    "duration": 1191,
    "start_time": "2023-05-14T16:21:55.329Z"
   },
   {
    "duration": 131,
    "start_time": "2023-05-14T16:21:56.522Z"
   },
   {
    "duration": 110,
    "start_time": "2023-05-14T16:21:56.656Z"
   },
   {
    "duration": 133,
    "start_time": "2023-05-14T16:21:56.768Z"
   },
   {
    "duration": 494,
    "start_time": "2023-05-14T16:21:56.903Z"
   },
   {
    "duration": 35,
    "start_time": "2023-05-14T16:21:57.399Z"
   },
   {
    "duration": 387,
    "start_time": "2023-05-14T16:21:57.435Z"
   },
   {
    "duration": 72,
    "start_time": "2023-05-14T16:21:57.825Z"
   },
   {
    "duration": 31,
    "start_time": "2023-05-14T16:21:57.899Z"
   },
   {
    "duration": 118,
    "start_time": "2023-05-14T16:21:57.932Z"
   },
   {
    "duration": 705,
    "start_time": "2023-05-14T16:23:08.708Z"
   },
   {
    "duration": 56,
    "start_time": "2023-05-14T16:23:17.620Z"
   },
   {
    "duration": 17,
    "start_time": "2023-05-14T16:23:21.415Z"
   },
   {
    "duration": 33,
    "start_time": "2023-05-14T16:25:11.375Z"
   },
   {
    "duration": 4,
    "start_time": "2023-05-14T16:27:22.772Z"
   },
   {
    "duration": 1344,
    "start_time": "2023-05-14T16:28:31.574Z"
   },
   {
    "duration": 811,
    "start_time": "2023-05-14T16:28:32.920Z"
   },
   {
    "duration": 164,
    "start_time": "2023-05-14T16:28:33.733Z"
   },
   {
    "duration": 100,
    "start_time": "2023-05-14T16:28:33.899Z"
   },
   {
    "duration": 153,
    "start_time": "2023-05-14T16:28:34.002Z"
   },
   {
    "duration": 465,
    "start_time": "2023-05-14T16:28:34.157Z"
   },
   {
    "duration": 24,
    "start_time": "2023-05-14T16:28:34.624Z"
   },
   {
    "duration": 384,
    "start_time": "2023-05-14T16:28:34.650Z"
   },
   {
    "duration": 92,
    "start_time": "2023-05-14T16:28:35.036Z"
   },
   {
    "duration": 17,
    "start_time": "2023-05-14T16:28:35.130Z"
   },
   {
    "duration": 76,
    "start_time": "2023-05-14T16:28:35.149Z"
   },
   {
    "duration": 1363,
    "start_time": "2023-05-14T16:29:12.641Z"
   },
   {
    "duration": 828,
    "start_time": "2023-05-14T16:29:14.006Z"
   },
   {
    "duration": 137,
    "start_time": "2023-05-14T16:29:14.835Z"
   },
   {
    "duration": 113,
    "start_time": "2023-05-14T16:29:14.974Z"
   },
   {
    "duration": 144,
    "start_time": "2023-05-14T16:29:15.089Z"
   },
   {
    "duration": 484,
    "start_time": "2023-05-14T16:29:15.235Z"
   },
   {
    "duration": 24,
    "start_time": "2023-05-14T16:29:15.720Z"
   },
   {
    "duration": 375,
    "start_time": "2023-05-14T16:29:15.746Z"
   },
   {
    "duration": 72,
    "start_time": "2023-05-14T16:29:16.125Z"
   },
   {
    "duration": 109,
    "start_time": "2023-05-14T16:29:26.061Z"
   },
   {
    "duration": 34,
    "start_time": "2023-05-14T16:29:33.342Z"
   },
   {
    "duration": 4,
    "start_time": "2023-05-14T16:29:35.372Z"
   },
   {
    "duration": 23,
    "start_time": "2023-05-14T16:29:59.169Z"
   },
   {
    "duration": 5,
    "start_time": "2023-05-14T16:30:00.834Z"
   },
   {
    "duration": 18,
    "start_time": "2023-05-14T16:30:17.845Z"
   },
   {
    "duration": 4,
    "start_time": "2023-05-14T16:30:20.232Z"
   },
   {
    "duration": 1382,
    "start_time": "2023-05-14T16:40:27.244Z"
   },
   {
    "duration": 806,
    "start_time": "2023-05-14T16:40:28.627Z"
   },
   {
    "duration": 126,
    "start_time": "2023-05-14T16:40:29.435Z"
   },
   {
    "duration": 118,
    "start_time": "2023-05-14T16:40:29.563Z"
   },
   {
    "duration": 127,
    "start_time": "2023-05-14T16:40:29.684Z"
   },
   {
    "duration": 465,
    "start_time": "2023-05-14T16:40:29.813Z"
   },
   {
    "duration": 31,
    "start_time": "2023-05-14T16:40:30.279Z"
   },
   {
    "duration": 417,
    "start_time": "2023-05-14T16:40:30.312Z"
   },
   {
    "duration": 73,
    "start_time": "2023-05-14T16:40:30.731Z"
   },
   {
    "duration": 141,
    "start_time": "2023-05-14T16:40:30.806Z"
   },
   {
    "duration": 1374,
    "start_time": "2023-05-14T16:41:15.425Z"
   },
   {
    "duration": 825,
    "start_time": "2023-05-14T16:41:16.801Z"
   },
   {
    "duration": 130,
    "start_time": "2023-05-14T16:41:17.627Z"
   },
   {
    "duration": 148,
    "start_time": "2023-05-14T16:41:17.759Z"
   },
   {
    "duration": 127,
    "start_time": "2023-05-14T16:41:17.909Z"
   },
   {
    "duration": 491,
    "start_time": "2023-05-14T16:41:18.038Z"
   },
   {
    "duration": 33,
    "start_time": "2023-05-14T16:41:18.531Z"
   },
   {
    "duration": 401,
    "start_time": "2023-05-14T16:41:18.566Z"
   },
   {
    "duration": 79,
    "start_time": "2023-05-14T16:41:18.968Z"
   },
   {
    "duration": 45,
    "start_time": "2023-05-14T16:41:19.048Z"
   },
   {
    "duration": 46,
    "start_time": "2023-05-14T16:41:26.526Z"
   },
   {
    "duration": 22,
    "start_time": "2023-05-14T16:41:31.817Z"
   },
   {
    "duration": 44,
    "start_time": "2023-05-14T16:41:36.546Z"
   },
   {
    "duration": 16,
    "start_time": "2023-05-14T16:42:48.142Z"
   },
   {
    "duration": 47,
    "start_time": "2023-05-14T16:42:51.143Z"
   },
   {
    "duration": 63,
    "start_time": "2023-05-14T16:42:52.772Z"
   },
   {
    "duration": 1422,
    "start_time": "2023-05-14T16:43:24.833Z"
   },
   {
    "duration": 845,
    "start_time": "2023-05-14T16:43:26.257Z"
   },
   {
    "duration": 152,
    "start_time": "2023-05-14T16:43:27.104Z"
   },
   {
    "duration": 116,
    "start_time": "2023-05-14T16:43:27.258Z"
   },
   {
    "duration": 129,
    "start_time": "2023-05-14T16:43:27.376Z"
   },
   {
    "duration": 452,
    "start_time": "2023-05-14T16:43:27.506Z"
   },
   {
    "duration": 32,
    "start_time": "2023-05-14T16:43:27.960Z"
   },
   {
    "duration": 371,
    "start_time": "2023-05-14T16:43:27.994Z"
   },
   {
    "duration": 79,
    "start_time": "2023-05-14T16:43:28.366Z"
   },
   {
    "duration": 31,
    "start_time": "2023-05-14T16:43:31.014Z"
   },
   {
    "duration": 48,
    "start_time": "2023-05-14T16:43:36.965Z"
   },
   {
    "duration": 46,
    "start_time": "2023-05-14T16:43:51.375Z"
   },
   {
    "duration": 50,
    "start_time": "2023-05-14T16:44:00.045Z"
   },
   {
    "duration": 4,
    "start_time": "2023-05-14T16:44:09.947Z"
   },
   {
    "duration": 1395,
    "start_time": "2023-05-14T16:44:38.651Z"
   },
   {
    "duration": 849,
    "start_time": "2023-05-14T16:44:40.048Z"
   },
   {
    "duration": 143,
    "start_time": "2023-05-14T16:44:40.898Z"
   },
   {
    "duration": 108,
    "start_time": "2023-05-14T16:44:41.042Z"
   },
   {
    "duration": 135,
    "start_time": "2023-05-14T16:44:41.152Z"
   },
   {
    "duration": 481,
    "start_time": "2023-05-14T16:44:41.289Z"
   },
   {
    "duration": 24,
    "start_time": "2023-05-14T16:44:41.771Z"
   },
   {
    "duration": 400,
    "start_time": "2023-05-14T16:44:41.796Z"
   },
   {
    "duration": 82,
    "start_time": "2023-05-14T16:44:42.197Z"
   },
   {
    "duration": 45,
    "start_time": "2023-05-14T16:44:42.281Z"
   },
   {
    "duration": 4,
    "start_time": "2023-05-14T16:44:46.200Z"
   },
   {
    "duration": 1406,
    "start_time": "2023-05-14T16:53:59.935Z"
   },
   {
    "duration": 875,
    "start_time": "2023-05-14T16:54:01.343Z"
   },
   {
    "duration": 137,
    "start_time": "2023-05-14T16:54:02.220Z"
   },
   {
    "duration": 109,
    "start_time": "2023-05-14T16:54:02.359Z"
   },
   {
    "duration": 136,
    "start_time": "2023-05-14T16:54:02.469Z"
   },
   {
    "duration": 460,
    "start_time": "2023-05-14T16:54:02.607Z"
   },
   {
    "duration": 26,
    "start_time": "2023-05-14T16:54:03.068Z"
   },
   {
    "duration": 375,
    "start_time": "2023-05-14T16:54:03.095Z"
   },
   {
    "duration": 84,
    "start_time": "2023-05-14T16:54:03.472Z"
   },
   {
    "duration": 78,
    "start_time": "2023-05-14T16:54:03.559Z"
   },
   {
    "duration": 1363,
    "start_time": "2023-05-14T16:55:03.436Z"
   },
   {
    "duration": 803,
    "start_time": "2023-05-14T16:55:04.801Z"
   },
   {
    "duration": 131,
    "start_time": "2023-05-14T16:55:05.606Z"
   },
   {
    "duration": 150,
    "start_time": "2023-05-14T16:55:05.739Z"
   },
   {
    "duration": 136,
    "start_time": "2023-05-14T16:55:05.892Z"
   },
   {
    "duration": 478,
    "start_time": "2023-05-14T16:55:06.030Z"
   },
   {
    "duration": 37,
    "start_time": "2023-05-14T16:55:06.510Z"
   },
   {
    "duration": 381,
    "start_time": "2023-05-14T16:55:06.549Z"
   },
   {
    "duration": 73,
    "start_time": "2023-05-14T16:55:06.932Z"
   },
   {
    "duration": 123,
    "start_time": "2023-05-14T16:55:07.007Z"
   },
   {
    "duration": 1397,
    "start_time": "2023-05-14T17:01:15.317Z"
   },
   {
    "duration": 855,
    "start_time": "2023-05-14T17:01:16.716Z"
   },
   {
    "duration": 144,
    "start_time": "2023-05-14T17:01:17.572Z"
   },
   {
    "duration": 97,
    "start_time": "2023-05-14T17:01:17.717Z"
   },
   {
    "duration": 131,
    "start_time": "2023-05-14T17:01:17.825Z"
   },
   {
    "duration": 477,
    "start_time": "2023-05-14T17:01:17.958Z"
   },
   {
    "duration": 34,
    "start_time": "2023-05-14T17:01:18.437Z"
   },
   {
    "duration": 391,
    "start_time": "2023-05-14T17:01:18.473Z"
   },
   {
    "duration": 79,
    "start_time": "2023-05-14T17:01:18.866Z"
   },
   {
    "duration": 96,
    "start_time": "2023-05-14T17:01:18.947Z"
   },
   {
    "duration": 4,
    "start_time": "2023-05-14T17:04:25.193Z"
   },
   {
    "duration": 1332,
    "start_time": "2023-05-14T17:04:55.761Z"
   },
   {
    "duration": 805,
    "start_time": "2023-05-14T17:04:57.095Z"
   },
   {
    "duration": 144,
    "start_time": "2023-05-14T17:04:57.901Z"
   },
   {
    "duration": 98,
    "start_time": "2023-05-14T17:04:58.047Z"
   },
   {
    "duration": 130,
    "start_time": "2023-05-14T17:04:58.147Z"
   },
   {
    "duration": 465,
    "start_time": "2023-05-14T17:04:58.279Z"
   },
   {
    "duration": 34,
    "start_time": "2023-05-14T17:04:58.745Z"
   },
   {
    "duration": 375,
    "start_time": "2023-05-14T17:04:58.781Z"
   },
   {
    "duration": 79,
    "start_time": "2023-05-14T17:04:59.158Z"
   },
   {
    "duration": 87,
    "start_time": "2023-05-14T17:04:59.238Z"
   },
   {
    "duration": 4,
    "start_time": "2023-05-14T17:04:59.326Z"
   },
   {
    "duration": 1404,
    "start_time": "2023-05-14T17:07:00.753Z"
   },
   {
    "duration": 842,
    "start_time": "2023-05-14T17:07:02.159Z"
   },
   {
    "duration": 129,
    "start_time": "2023-05-14T17:07:03.003Z"
   },
   {
    "duration": 96,
    "start_time": "2023-05-14T17:07:03.134Z"
   },
   {
    "duration": 127,
    "start_time": "2023-05-14T17:07:03.232Z"
   },
   {
    "duration": 468,
    "start_time": "2023-05-14T17:07:03.361Z"
   },
   {
    "duration": 30,
    "start_time": "2023-05-14T17:07:03.832Z"
   },
   {
    "duration": 377,
    "start_time": "2023-05-14T17:07:03.864Z"
   },
   {
    "duration": 83,
    "start_time": "2023-05-14T17:07:04.242Z"
   },
   {
    "duration": 117,
    "start_time": "2023-05-14T17:07:04.327Z"
   },
   {
    "duration": 0,
    "start_time": "2023-05-14T17:07:04.446Z"
   },
   {
    "duration": 0,
    "start_time": "2023-05-14T17:07:04.447Z"
   },
   {
    "duration": 47,
    "start_time": "2023-05-14T17:07:30.722Z"
   },
   {
    "duration": 4,
    "start_time": "2023-05-14T17:07:33.193Z"
   },
   {
    "duration": 3,
    "start_time": "2023-05-14T17:07:44.714Z"
   },
   {
    "duration": 4,
    "start_time": "2023-05-14T17:08:47.957Z"
   },
   {
    "duration": 27,
    "start_time": "2023-05-14T17:10:16.886Z"
   },
   {
    "duration": 18,
    "start_time": "2023-05-14T17:10:29.781Z"
   },
   {
    "duration": 19,
    "start_time": "2023-05-14T17:10:32.371Z"
   },
   {
    "duration": 1402,
    "start_time": "2023-05-14T17:10:46.136Z"
   },
   {
    "duration": 835,
    "start_time": "2023-05-14T17:10:47.540Z"
   },
   {
    "duration": 144,
    "start_time": "2023-05-14T17:10:48.376Z"
   },
   {
    "duration": 105,
    "start_time": "2023-05-14T17:10:48.525Z"
   },
   {
    "duration": 126,
    "start_time": "2023-05-14T17:10:48.631Z"
   },
   {
    "duration": 478,
    "start_time": "2023-05-14T17:10:48.758Z"
   },
   {
    "duration": 33,
    "start_time": "2023-05-14T17:10:49.237Z"
   },
   {
    "duration": 411,
    "start_time": "2023-05-14T17:10:49.272Z"
   },
   {
    "duration": 77,
    "start_time": "2023-05-14T17:10:49.685Z"
   },
   {
    "duration": 33,
    "start_time": "2023-05-14T17:10:49.764Z"
   },
   {
    "duration": 10,
    "start_time": "2023-05-14T17:10:49.799Z"
   },
   {
    "duration": 117,
    "start_time": "2023-05-14T17:11:04.869Z"
   },
   {
    "duration": 1396,
    "start_time": "2023-05-14T17:11:09.711Z"
   },
   {
    "duration": 842,
    "start_time": "2023-05-14T17:11:11.109Z"
   },
   {
    "duration": 154,
    "start_time": "2023-05-14T17:11:11.952Z"
   },
   {
    "duration": 101,
    "start_time": "2023-05-14T17:11:12.108Z"
   },
   {
    "duration": 136,
    "start_time": "2023-05-14T17:11:12.211Z"
   },
   {
    "duration": 477,
    "start_time": "2023-05-14T17:11:12.349Z"
   },
   {
    "duration": 34,
    "start_time": "2023-05-14T17:11:12.828Z"
   },
   {
    "duration": 390,
    "start_time": "2023-05-14T17:11:12.864Z"
   },
   {
    "duration": 80,
    "start_time": "2023-05-14T17:11:13.256Z"
   },
   {
    "duration": 33,
    "start_time": "2023-05-14T17:11:13.337Z"
   },
   {
    "duration": 11,
    "start_time": "2023-05-14T17:11:13.372Z"
   },
   {
    "duration": 1352,
    "start_time": "2023-05-14T17:16:35.384Z"
   },
   {
    "duration": 842,
    "start_time": "2023-05-14T17:16:36.738Z"
   },
   {
    "duration": 137,
    "start_time": "2023-05-14T17:16:37.583Z"
   },
   {
    "duration": 89,
    "start_time": "2023-05-14T17:16:37.726Z"
   },
   {
    "duration": 124,
    "start_time": "2023-05-14T17:16:37.825Z"
   },
   {
    "duration": 463,
    "start_time": "2023-05-14T17:16:37.951Z"
   },
   {
    "duration": 23,
    "start_time": "2023-05-14T17:16:38.416Z"
   },
   {
    "duration": 371,
    "start_time": "2023-05-14T17:16:38.441Z"
   },
   {
    "duration": 83,
    "start_time": "2023-05-14T17:16:38.813Z"
   },
   {
    "duration": 75,
    "start_time": "2023-05-14T17:16:38.898Z"
   },
   {
    "duration": 8,
    "start_time": "2023-05-14T17:16:38.975Z"
   },
   {
    "duration": 16,
    "start_time": "2023-05-14T17:19:50.539Z"
   },
   {
    "duration": 18,
    "start_time": "2023-05-14T17:21:06.478Z"
   },
   {
    "duration": 17,
    "start_time": "2023-05-14T17:39:33.595Z"
   },
   {
    "duration": 15,
    "start_time": "2023-05-14T17:44:48.451Z"
   },
   {
    "duration": 1391,
    "start_time": "2023-05-14T17:44:53.847Z"
   },
   {
    "duration": 852,
    "start_time": "2023-05-14T17:44:55.240Z"
   },
   {
    "duration": 142,
    "start_time": "2023-05-14T17:44:56.093Z"
   },
   {
    "duration": 99,
    "start_time": "2023-05-14T17:44:56.237Z"
   },
   {
    "duration": 124,
    "start_time": "2023-05-14T17:44:56.337Z"
   },
   {
    "duration": 459,
    "start_time": "2023-05-14T17:44:56.463Z"
   },
   {
    "duration": 355,
    "start_time": "2023-05-14T17:44:56.924Z"
   },
   {
    "duration": 85,
    "start_time": "2023-05-14T17:44:57.281Z"
   },
   {
    "duration": 29,
    "start_time": "2023-05-14T17:44:57.368Z"
   },
   {
    "duration": 44,
    "start_time": "2023-05-14T17:44:57.399Z"
   },
   {
    "duration": 5,
    "start_time": "2023-05-14T17:44:57.444Z"
   },
   {
    "duration": 17,
    "start_time": "2023-05-14T17:44:57.450Z"
   },
   {
    "duration": 31,
    "start_time": "2023-05-14T17:44:57.468Z"
   },
   {
    "duration": 119,
    "start_time": "2023-05-14T17:45:09.670Z"
   },
   {
    "duration": 1390,
    "start_time": "2023-05-14T17:45:15.142Z"
   },
   {
    "duration": 840,
    "start_time": "2023-05-14T17:45:16.534Z"
   },
   {
    "duration": 145,
    "start_time": "2023-05-14T17:45:17.376Z"
   },
   {
    "duration": 100,
    "start_time": "2023-05-14T17:45:17.526Z"
   },
   {
    "duration": 127,
    "start_time": "2023-05-14T17:45:17.628Z"
   },
   {
    "duration": 474,
    "start_time": "2023-05-14T17:45:17.756Z"
   },
   {
    "duration": 361,
    "start_time": "2023-05-14T17:45:18.232Z"
   },
   {
    "duration": 75,
    "start_time": "2023-05-14T17:45:18.594Z"
   },
   {
    "duration": 39,
    "start_time": "2023-05-14T17:45:18.671Z"
   },
   {
    "duration": 25,
    "start_time": "2023-05-14T17:45:18.712Z"
   },
   {
    "duration": 35,
    "start_time": "2023-05-14T17:45:18.738Z"
   },
   {
    "duration": 9,
    "start_time": "2023-05-14T17:45:18.775Z"
   },
   {
    "duration": 29,
    "start_time": "2023-05-14T17:45:18.786Z"
   },
   {
    "duration": 20,
    "start_time": "2023-05-14T17:45:28.254Z"
   },
   {
    "duration": 12,
    "start_time": "2023-05-14T17:46:35.618Z"
   },
   {
    "duration": 3,
    "start_time": "2023-05-14T17:48:25.347Z"
   },
   {
    "duration": 2,
    "start_time": "2023-05-14T17:48:45.766Z"
   },
   {
    "duration": 109,
    "start_time": "2023-05-14T17:49:29.749Z"
   },
   {
    "duration": 463,
    "start_time": "2023-05-14T17:49:35.823Z"
   },
   {
    "duration": 15,
    "start_time": "2023-05-14T17:49:41.450Z"
   },
   {
    "duration": 447,
    "start_time": "2023-05-14T17:55:05.208Z"
   },
   {
    "duration": 346,
    "start_time": "2023-05-14T18:03:13.656Z"
   },
   {
    "duration": 334,
    "start_time": "2023-05-14T18:03:27.822Z"
   },
   {
    "duration": 303,
    "start_time": "2023-05-14T18:05:06.565Z"
   },
   {
    "duration": 313,
    "start_time": "2023-05-14T18:05:39.302Z"
   },
   {
    "duration": 3,
    "start_time": "2023-05-14T18:07:05.051Z"
   },
   {
    "duration": 3,
    "start_time": "2023-05-14T18:07:23.452Z"
   },
   {
    "duration": 3,
    "start_time": "2023-05-14T18:08:21.087Z"
   },
   {
    "duration": 4,
    "start_time": "2023-05-14T18:09:26.770Z"
   },
   {
    "duration": 3,
    "start_time": "2023-05-14T18:09:29.621Z"
   },
   {
    "duration": 3,
    "start_time": "2023-05-14T18:12:53.960Z"
   },
   {
    "duration": 54,
    "start_time": "2023-05-14T18:13:05.640Z"
   },
   {
    "duration": 3,
    "start_time": "2023-05-14T18:13:09.907Z"
   },
   {
    "duration": 13953,
    "start_time": "2023-05-14T18:13:18.176Z"
   },
   {
    "duration": 13066,
    "start_time": "2023-05-14T18:13:38.466Z"
   },
   {
    "duration": 46,
    "start_time": "2023-05-14T18:14:44.358Z"
   },
   {
    "duration": 40,
    "start_time": "2023-05-14T18:14:48.603Z"
   },
   {
    "duration": 9,
    "start_time": "2023-05-14T18:14:55.224Z"
   },
   {
    "duration": 13,
    "start_time": "2023-05-14T18:15:04.076Z"
   },
   {
    "duration": 3,
    "start_time": "2023-05-14T18:15:24.363Z"
   },
   {
    "duration": 5,
    "start_time": "2023-05-14T18:15:26.967Z"
   },
   {
    "duration": 49,
    "start_time": "2023-05-14T18:17:04.012Z"
   },
   {
    "duration": 4,
    "start_time": "2023-05-14T18:17:08.650Z"
   },
   {
    "duration": 5,
    "start_time": "2023-05-14T18:17:22.479Z"
   },
   {
    "duration": 137,
    "start_time": "2023-05-14T18:55:02.917Z"
   },
   {
    "duration": 18,
    "start_time": "2023-05-14T18:55:04.339Z"
   },
   {
    "duration": 146,
    "start_time": "2023-05-14T18:55:18.184Z"
   },
   {
    "duration": 18,
    "start_time": "2023-05-14T18:55:19.159Z"
   },
   {
    "duration": 1390,
    "start_time": "2023-05-14T18:55:23.811Z"
   },
   {
    "duration": 832,
    "start_time": "2023-05-14T18:55:25.203Z"
   },
   {
    "duration": 155,
    "start_time": "2023-05-14T18:55:26.036Z"
   },
   {
    "duration": 97,
    "start_time": "2023-05-14T18:55:26.192Z"
   },
   {
    "duration": 134,
    "start_time": "2023-05-14T18:55:26.291Z"
   },
   {
    "duration": 476,
    "start_time": "2023-05-14T18:55:26.427Z"
   },
   {
    "duration": 368,
    "start_time": "2023-05-14T18:55:26.904Z"
   },
   {
    "duration": 95,
    "start_time": "2023-05-14T18:55:27.274Z"
   },
   {
    "duration": 71,
    "start_time": "2023-05-14T18:55:27.371Z"
   },
   {
    "duration": 8,
    "start_time": "2023-05-14T18:55:27.444Z"
   },
   {
    "duration": 395,
    "start_time": "2023-05-14T18:55:27.454Z"
   },
   {
    "duration": 363,
    "start_time": "2023-05-14T18:55:27.851Z"
   },
   {
    "duration": 9,
    "start_time": "2023-05-14T18:55:28.216Z"
   },
   {
    "duration": 13,
    "start_time": "2023-05-14T18:55:28.228Z"
   },
   {
    "duration": 13286,
    "start_time": "2023-05-14T18:55:28.242Z"
   },
   {
    "duration": 196,
    "start_time": "2023-05-14T18:55:41.530Z"
   },
   {
    "duration": 269,
    "start_time": "2023-05-14T18:55:41.729Z"
   },
   {
    "duration": 9,
    "start_time": "2023-05-14T18:55:53.503Z"
   },
   {
    "duration": 5,
    "start_time": "2023-05-14T18:56:01.045Z"
   },
   {
    "duration": 56,
    "start_time": "2023-05-14T18:57:37.105Z"
   },
   {
    "duration": 47,
    "start_time": "2023-05-14T18:57:57.202Z"
   },
   {
    "duration": 56,
    "start_time": "2023-05-14T18:58:38.471Z"
   },
   {
    "duration": 300,
    "start_time": "2023-05-14T18:58:47.930Z"
   },
   {
    "duration": 53,
    "start_time": "2023-05-14T18:58:50.845Z"
   },
   {
    "duration": 12,
    "start_time": "2023-05-14T19:02:57.807Z"
   },
   {
    "duration": 307,
    "start_time": "2023-05-14T19:03:27.294Z"
   },
   {
    "duration": 1445,
    "start_time": "2023-05-14T19:04:02.157Z"
   },
   {
    "duration": 31917,
    "start_time": "2023-05-14T19:05:51.995Z"
   },
   {
    "duration": 31678,
    "start_time": "2023-05-14T19:11:42.808Z"
   },
   {
    "duration": 31874,
    "start_time": "2023-05-14T19:12:17.419Z"
   },
   {
    "duration": 4128,
    "start_time": "2023-05-14T19:19:56.485Z"
   },
   {
    "duration": 3911,
    "start_time": "2023-05-14T19:20:11.598Z"
   },
   {
    "duration": 3936,
    "start_time": "2023-05-14T19:20:53.107Z"
   },
   {
    "duration": 30426,
    "start_time": "2023-05-14T19:22:04.381Z"
   },
   {
    "duration": 307,
    "start_time": "2023-05-15T07:41:48.523Z"
   },
   {
    "duration": 2363,
    "start_time": "2023-05-15T07:41:58.053Z"
   },
   {
    "duration": 3301,
    "start_time": "2023-05-15T07:42:00.419Z"
   },
   {
    "duration": 173,
    "start_time": "2023-05-15T07:42:03.723Z"
   },
   {
    "duration": 126,
    "start_time": "2023-05-15T07:42:03.898Z"
   },
   {
    "duration": 147,
    "start_time": "2023-05-15T07:42:04.026Z"
   },
   {
    "duration": 616,
    "start_time": "2023-05-15T07:42:04.176Z"
   },
   {
    "duration": 429,
    "start_time": "2023-05-15T07:42:04.794Z"
   },
   {
    "duration": 90,
    "start_time": "2023-05-15T07:42:05.224Z"
   },
   {
    "duration": 75,
    "start_time": "2023-05-15T07:42:05.316Z"
   },
   {
    "duration": 19,
    "start_time": "2023-05-15T07:42:05.395Z"
   },
   {
    "duration": 629,
    "start_time": "2023-05-15T07:42:05.418Z"
   },
   {
    "duration": 400,
    "start_time": "2023-05-15T07:42:06.049Z"
   },
   {
    "duration": 3,
    "start_time": "2023-05-15T07:42:06.451Z"
   },
   {
    "duration": 17,
    "start_time": "2023-05-15T07:42:06.456Z"
   },
   {
    "duration": 30125,
    "start_time": "2023-05-15T07:42:06.475Z"
   },
   {
    "duration": 210,
    "start_time": "2023-05-15T07:42:36.604Z"
   },
   {
    "duration": 7,
    "start_time": "2023-05-15T07:42:36.899Z"
   },
   {
    "duration": 437,
    "start_time": "2023-05-15T07:42:36.909Z"
   },
   {
    "duration": 167,
    "start_time": "2023-05-15T07:43:16.858Z"
   },
   {
    "duration": 178,
    "start_time": "2023-05-15T07:43:24.782Z"
   },
   {
    "duration": 412,
    "start_time": "2023-05-15T07:43:31.077Z"
   },
   {
    "duration": 135,
    "start_time": "2023-05-15T07:44:00.997Z"
   },
   {
    "duration": 345,
    "start_time": "2023-05-15T07:44:11.505Z"
   },
   {
    "duration": 5609,
    "start_time": "2023-05-15T07:44:32.946Z"
   },
   {
    "duration": 36,
    "start_time": "2023-05-15T07:47:18.698Z"
   },
   {
    "duration": 7,
    "start_time": "2023-05-15T07:49:11.600Z"
   },
   {
    "duration": 5,
    "start_time": "2023-05-15T07:50:19.136Z"
   },
   {
    "duration": 4,
    "start_time": "2023-05-15T07:50:58.708Z"
   },
   {
    "duration": 5005,
    "start_time": "2023-05-15T07:52:16.280Z"
   },
   {
    "duration": 4851,
    "start_time": "2023-05-15T07:52:33.306Z"
   },
   {
    "duration": 27,
    "start_time": "2023-05-15T07:52:39.692Z"
   },
   {
    "duration": 4,
    "start_time": "2023-05-15T07:52:44.257Z"
   },
   {
    "duration": 6128,
    "start_time": "2023-05-15T07:54:17.157Z"
   },
   {
    "duration": 29,
    "start_time": "2023-05-15T07:54:26.881Z"
   },
   {
    "duration": 7708,
    "start_time": "2023-05-15T07:57:16.491Z"
   },
   {
    "duration": 598,
    "start_time": "2023-05-15T07:57:24.200Z"
   },
   {
    "duration": 5,
    "start_time": "2023-05-15T07:57:24.800Z"
   },
   {
    "duration": 2076,
    "start_time": "2023-05-15T07:58:26.246Z"
   },
   {
    "duration": 928,
    "start_time": "2023-05-15T07:58:28.325Z"
   },
   {
    "duration": 153,
    "start_time": "2023-05-15T07:58:29.254Z"
   },
   {
    "duration": 163,
    "start_time": "2023-05-15T07:58:29.410Z"
   },
   {
    "duration": 151,
    "start_time": "2023-05-15T07:58:29.575Z"
   },
   {
    "duration": 558,
    "start_time": "2023-05-15T07:58:29.728Z"
   },
   {
    "duration": 469,
    "start_time": "2023-05-15T07:58:30.288Z"
   },
   {
    "duration": 87,
    "start_time": "2023-05-15T07:58:30.759Z"
   },
   {
    "duration": 100,
    "start_time": "2023-05-15T07:58:30.850Z"
   },
   {
    "duration": 8,
    "start_time": "2023-05-15T07:58:30.953Z"
   },
   {
    "duration": 535,
    "start_time": "2023-05-15T07:58:30.963Z"
   },
   {
    "duration": 404,
    "start_time": "2023-05-15T07:58:31.500Z"
   },
   {
    "duration": 4,
    "start_time": "2023-05-15T07:58:31.906Z"
   },
   {
    "duration": 23,
    "start_time": "2023-05-15T07:58:31.912Z"
   },
   {
    "duration": 25271,
    "start_time": "2023-05-15T07:58:31.937Z"
   },
   {
    "duration": 289,
    "start_time": "2023-05-15T07:58:57.210Z"
   },
   {
    "duration": 7,
    "start_time": "2023-05-15T07:58:57.501Z"
   },
   {
    "duration": 5536,
    "start_time": "2023-05-15T07:58:57.598Z"
   },
   {
    "duration": 40,
    "start_time": "2023-05-15T07:59:03.136Z"
   },
   {
    "duration": 5,
    "start_time": "2023-05-15T07:59:03.178Z"
   },
   {
    "duration": 0,
    "start_time": "2023-05-15T08:00:07.986Z"
   },
   {
    "duration": 0,
    "start_time": "2023-05-15T08:00:07.988Z"
   },
   {
    "duration": 0,
    "start_time": "2023-05-15T08:00:07.990Z"
   },
   {
    "duration": 116020,
    "start_time": "2023-05-15T08:00:11.882Z"
   },
   {
    "duration": 504,
    "start_time": "2023-05-15T08:02:07.904Z"
   },
   {
    "duration": 5,
    "start_time": "2023-05-15T08:02:08.410Z"
   },
   {
    "duration": 11,
    "start_time": "2023-05-15T08:36:05.559Z"
   },
   {
    "duration": 12,
    "start_time": "2023-05-15T08:38:52.941Z"
   },
   {
    "duration": 14,
    "start_time": "2023-05-15T08:38:57.949Z"
   },
   {
    "duration": 334,
    "start_time": "2023-05-15T08:39:22.127Z"
   },
   {
    "duration": 11,
    "start_time": "2023-05-15T08:39:27.307Z"
   },
   {
    "duration": 1808,
    "start_time": "2023-05-15T08:43:45.886Z"
   },
   {
    "duration": 970,
    "start_time": "2023-05-15T08:43:47.696Z"
   },
   {
    "duration": 161,
    "start_time": "2023-05-15T08:43:48.668Z"
   },
   {
    "duration": 118,
    "start_time": "2023-05-15T08:43:48.833Z"
   },
   {
    "duration": 153,
    "start_time": "2023-05-15T08:43:48.953Z"
   },
   {
    "duration": 539,
    "start_time": "2023-05-15T08:43:49.108Z"
   },
   {
    "duration": 387,
    "start_time": "2023-05-15T08:43:49.649Z"
   },
   {
    "duration": 80,
    "start_time": "2023-05-15T08:43:50.038Z"
   },
   {
    "duration": 46,
    "start_time": "2023-05-15T08:43:50.120Z"
   },
   {
    "duration": 10,
    "start_time": "2023-05-15T08:43:50.169Z"
   },
   {
    "duration": 455,
    "start_time": "2023-05-15T08:43:50.198Z"
   },
   {
    "duration": 380,
    "start_time": "2023-05-15T08:43:50.655Z"
   },
   {
    "duration": 3,
    "start_time": "2023-05-15T08:43:51.037Z"
   },
   {
    "duration": 15,
    "start_time": "2023-05-15T08:43:51.042Z"
   },
   {
    "duration": 15244,
    "start_time": "2023-05-15T08:43:51.058Z"
   },
   {
    "duration": 297,
    "start_time": "2023-05-15T08:44:06.306Z"
   },
   {
    "duration": 96,
    "start_time": "2023-05-15T08:44:06.607Z"
   },
   {
    "duration": 5458,
    "start_time": "2023-05-15T08:44:06.706Z"
   },
   {
    "duration": 41,
    "start_time": "2023-05-15T08:44:12.165Z"
   },
   {
    "duration": 5,
    "start_time": "2023-05-15T08:44:12.208Z"
   },
   {
    "duration": 1964,
    "start_time": "2023-05-15T08:44:19.806Z"
   },
   {
    "duration": 1013,
    "start_time": "2023-05-15T08:44:21.772Z"
   },
   {
    "duration": 145,
    "start_time": "2023-05-15T08:44:22.787Z"
   },
   {
    "duration": 113,
    "start_time": "2023-05-15T08:44:22.934Z"
   },
   {
    "duration": 137,
    "start_time": "2023-05-15T08:44:23.049Z"
   },
   {
    "duration": 521,
    "start_time": "2023-05-15T08:44:23.196Z"
   },
   {
    "duration": 376,
    "start_time": "2023-05-15T08:44:23.719Z"
   },
   {
    "duration": 79,
    "start_time": "2023-05-15T08:44:24.098Z"
   },
   {
    "duration": 55,
    "start_time": "2023-05-15T08:44:24.179Z"
   },
   {
    "duration": 12,
    "start_time": "2023-05-15T08:44:24.237Z"
   },
   {
    "duration": 502,
    "start_time": "2023-05-15T08:44:24.252Z"
   },
   {
    "duration": 379,
    "start_time": "2023-05-15T08:44:24.756Z"
   },
   {
    "duration": 3,
    "start_time": "2023-05-15T08:44:25.137Z"
   },
   {
    "duration": 25,
    "start_time": "2023-05-15T08:44:25.142Z"
   },
   {
    "duration": 15939,
    "start_time": "2023-05-15T08:44:25.169Z"
   },
   {
    "duration": 301,
    "start_time": "2023-05-15T08:44:41.110Z"
   },
   {
    "duration": 87,
    "start_time": "2023-05-15T08:44:41.414Z"
   },
   {
    "duration": 6485,
    "start_time": "2023-05-15T08:44:41.503Z"
   },
   {
    "duration": 40,
    "start_time": "2023-05-15T08:44:47.990Z"
   },
   {
    "duration": 5,
    "start_time": "2023-05-15T08:44:48.032Z"
   },
   {
    "duration": 5364,
    "start_time": "2023-05-15T08:44:48.038Z"
   },
   {
    "duration": 503,
    "start_time": "2023-05-15T08:44:53.404Z"
   },
   {
    "duration": 4,
    "start_time": "2023-05-15T08:44:53.909Z"
   },
   {
    "duration": 38,
    "start_time": "2023-05-15T08:44:53.915Z"
   },
   {
    "duration": 1606,
    "start_time": "2023-05-15T09:05:09.687Z"
   },
   {
    "duration": 3023,
    "start_time": "2023-05-15T09:05:11.295Z"
   },
   {
    "duration": 129,
    "start_time": "2023-05-15T09:05:14.320Z"
   },
   {
    "duration": 122,
    "start_time": "2023-05-15T09:05:14.452Z"
   },
   {
    "duration": 119,
    "start_time": "2023-05-15T09:05:14.576Z"
   },
   {
    "duration": 547,
    "start_time": "2023-05-15T09:05:14.697Z"
   },
   {
    "duration": 393,
    "start_time": "2023-05-15T09:05:15.246Z"
   },
   {
    "duration": 73,
    "start_time": "2023-05-15T09:05:15.641Z"
   },
   {
    "duration": 79,
    "start_time": "2023-05-15T09:05:15.717Z"
   },
   {
    "duration": 11,
    "start_time": "2023-05-15T09:05:15.800Z"
   },
   {
    "duration": 721,
    "start_time": "2023-05-15T09:05:15.813Z"
   },
   {
    "duration": 423,
    "start_time": "2023-05-15T09:05:16.536Z"
   },
   {
    "duration": 12,
    "start_time": "2023-05-15T09:05:16.961Z"
   },
   {
    "duration": 25,
    "start_time": "2023-05-15T09:05:16.975Z"
   },
   {
    "duration": 22885,
    "start_time": "2023-05-15T09:05:17.002Z"
   },
   {
    "duration": 210,
    "start_time": "2023-05-15T09:05:39.889Z"
   },
   {
    "duration": 76,
    "start_time": "2023-05-15T09:05:40.101Z"
   },
   {
    "duration": 6341,
    "start_time": "2023-05-15T09:05:40.179Z"
   },
   {
    "duration": 43,
    "start_time": "2023-05-15T09:05:46.522Z"
   },
   {
    "duration": 5,
    "start_time": "2023-05-15T09:05:46.567Z"
   },
   {
    "duration": 357909,
    "start_time": "2023-05-15T09:05:46.574Z"
   },
   {
    "duration": 606,
    "start_time": "2023-05-15T09:11:44.485Z"
   },
   {
    "duration": 6,
    "start_time": "2023-05-15T09:11:45.093Z"
   },
   {
    "duration": 83,
    "start_time": "2023-05-15T09:11:45.100Z"
   },
   {
    "duration": 30,
    "start_time": "2023-05-15T10:05:03.155Z"
   },
   {
    "duration": 123,
    "start_time": "2023-05-15T10:10:53.480Z"
   },
   {
    "duration": 10,
    "start_time": "2023-05-15T10:12:28.336Z"
   },
   {
    "duration": 350,
    "start_time": "2023-05-15T10:14:48.010Z"
   },
   {
    "duration": 54,
    "start_time": "2023-05-15T17:22:25.776Z"
   },
   {
    "duration": 1688,
    "start_time": "2023-05-15T17:22:30.518Z"
   },
   {
    "duration": 2836,
    "start_time": "2023-05-15T17:22:32.209Z"
   },
   {
    "duration": 130,
    "start_time": "2023-05-15T17:22:35.047Z"
   },
   {
    "duration": 104,
    "start_time": "2023-05-15T17:22:35.178Z"
   },
   {
    "duration": 135,
    "start_time": "2023-05-15T17:22:35.284Z"
   },
   {
    "duration": 451,
    "start_time": "2023-05-15T17:22:35.425Z"
   },
   {
    "duration": 84,
    "start_time": "2023-05-15T17:22:35.878Z"
   },
   {
    "duration": 354,
    "start_time": "2023-05-15T17:22:35.964Z"
   },
   {
    "duration": 76,
    "start_time": "2023-05-15T17:22:36.320Z"
   },
   {
    "duration": 46,
    "start_time": "2023-05-15T17:22:36.398Z"
   },
   {
    "duration": 8,
    "start_time": "2023-05-15T17:22:36.446Z"
   },
   {
    "duration": 401,
    "start_time": "2023-05-15T17:22:36.456Z"
   },
   {
    "duration": 367,
    "start_time": "2023-05-15T17:22:36.859Z"
   },
   {
    "duration": 3,
    "start_time": "2023-05-15T17:22:37.228Z"
   },
   {
    "duration": 6,
    "start_time": "2023-05-15T17:22:37.233Z"
   },
   {
    "duration": 13790,
    "start_time": "2023-05-15T17:22:37.240Z"
   },
   {
    "duration": 200,
    "start_time": "2023-05-15T17:22:51.032Z"
   },
   {
    "duration": 95,
    "start_time": "2023-05-15T17:22:51.234Z"
   },
   {
    "duration": 3707,
    "start_time": "2023-05-15T17:22:51.331Z"
   },
   {
    "duration": 35,
    "start_time": "2023-05-15T17:22:55.039Z"
   },
   {
    "duration": 4,
    "start_time": "2023-05-15T17:22:55.076Z"
   },
   {
    "duration": 5855,
    "start_time": "2023-05-15T17:22:55.081Z"
   },
   {
    "duration": 588,
    "start_time": "2023-05-15T17:23:00.938Z"
   },
   {
    "duration": 4,
    "start_time": "2023-05-15T17:23:01.528Z"
   },
   {
    "duration": 34,
    "start_time": "2023-05-15T17:23:01.534Z"
   },
   {
    "duration": 821,
    "start_time": "2023-05-15T17:27:15.786Z"
   },
   {
    "duration": 108,
    "start_time": "2023-05-15T17:28:55.121Z"
   },
   {
    "duration": 71,
    "start_time": "2023-05-15T17:29:00.381Z"
   },
   {
    "duration": 2260,
    "start_time": "2023-05-15T18:02:24.136Z"
   },
   {
    "duration": 2159,
    "start_time": "2023-05-15T18:03:00.825Z"
   },
   {
    "duration": 1618,
    "start_time": "2023-05-15T18:03:17.376Z"
   },
   {
    "duration": 926,
    "start_time": "2023-05-15T18:03:18.996Z"
   },
   {
    "duration": 154,
    "start_time": "2023-05-15T18:03:19.926Z"
   },
   {
    "duration": 109,
    "start_time": "2023-05-15T18:03:20.082Z"
   },
   {
    "duration": 142,
    "start_time": "2023-05-15T18:03:20.193Z"
   },
   {
    "duration": 902,
    "start_time": "2023-05-15T18:03:20.337Z"
   },
   {
    "duration": 196,
    "start_time": "2023-05-15T18:03:21.242Z"
   },
   {
    "duration": 792,
    "start_time": "2023-05-15T18:03:21.440Z"
   },
   {
    "duration": 2655,
    "start_time": "2023-05-15T18:03:22.235Z"
   },
   {
    "duration": 0,
    "start_time": "2023-05-15T18:03:24.891Z"
   },
   {
    "duration": 0,
    "start_time": "2023-05-15T18:03:24.893Z"
   },
   {
    "duration": 0,
    "start_time": "2023-05-15T18:03:24.894Z"
   },
   {
    "duration": 0,
    "start_time": "2023-05-15T18:03:24.895Z"
   },
   {
    "duration": 0,
    "start_time": "2023-05-15T18:03:24.896Z"
   },
   {
    "duration": 0,
    "start_time": "2023-05-15T18:03:24.898Z"
   },
   {
    "duration": 0,
    "start_time": "2023-05-15T18:03:24.899Z"
   },
   {
    "duration": 0,
    "start_time": "2023-05-15T18:03:24.900Z"
   },
   {
    "duration": 0,
    "start_time": "2023-05-15T18:03:24.901Z"
   },
   {
    "duration": 0,
    "start_time": "2023-05-15T18:03:24.902Z"
   },
   {
    "duration": 0,
    "start_time": "2023-05-15T18:03:24.904Z"
   },
   {
    "duration": 0,
    "start_time": "2023-05-15T18:03:24.905Z"
   },
   {
    "duration": 0,
    "start_time": "2023-05-15T18:03:24.906Z"
   },
   {
    "duration": 0,
    "start_time": "2023-05-15T18:03:24.907Z"
   },
   {
    "duration": 0,
    "start_time": "2023-05-15T18:03:24.908Z"
   },
   {
    "duration": 0,
    "start_time": "2023-05-15T18:03:24.909Z"
   },
   {
    "duration": 21,
    "start_time": "2023-05-15T18:03:34.425Z"
   },
   {
    "duration": 114,
    "start_time": "2023-05-15T18:05:07.429Z"
   },
   {
    "duration": 22,
    "start_time": "2023-05-15T18:05:13.312Z"
   },
   {
    "duration": 71,
    "start_time": "2023-05-15T18:05:58.312Z"
   },
   {
    "duration": 112,
    "start_time": "2023-05-15T18:07:31.919Z"
   },
   {
    "duration": 127,
    "start_time": "2023-05-15T18:08:31.861Z"
   },
   {
    "duration": 127,
    "start_time": "2023-05-15T18:09:03.568Z"
   },
   {
    "duration": 16,
    "start_time": "2023-05-15T18:09:07.815Z"
   },
   {
    "duration": 6,
    "start_time": "2023-05-15T18:09:09.981Z"
   },
   {
    "duration": 1443,
    "start_time": "2023-05-15T18:09:16.711Z"
   },
   {
    "duration": 815,
    "start_time": "2023-05-15T18:09:18.156Z"
   },
   {
    "duration": 143,
    "start_time": "2023-05-15T18:09:18.972Z"
   },
   {
    "duration": 108,
    "start_time": "2023-05-15T18:09:19.118Z"
   },
   {
    "duration": 128,
    "start_time": "2023-05-15T18:09:19.228Z"
   },
   {
    "duration": 533,
    "start_time": "2023-05-15T18:09:19.358Z"
   },
   {
    "duration": 89,
    "start_time": "2023-05-15T18:09:19.893Z"
   },
   {
    "duration": 356,
    "start_time": "2023-05-15T18:09:19.984Z"
   },
   {
    "duration": 138,
    "start_time": "2023-05-15T18:09:20.342Z"
   },
   {
    "duration": 6,
    "start_time": "2023-05-15T18:09:20.482Z"
   },
   {
    "duration": 125,
    "start_time": "2023-05-15T18:09:20.489Z"
   },
   {
    "duration": 0,
    "start_time": "2023-05-15T18:09:20.615Z"
   },
   {
    "duration": 0,
    "start_time": "2023-05-15T18:09:20.616Z"
   },
   {
    "duration": 0,
    "start_time": "2023-05-15T18:09:20.624Z"
   },
   {
    "duration": 0,
    "start_time": "2023-05-15T18:09:20.626Z"
   },
   {
    "duration": 0,
    "start_time": "2023-05-15T18:09:20.627Z"
   },
   {
    "duration": 0,
    "start_time": "2023-05-15T18:09:20.628Z"
   },
   {
    "duration": 0,
    "start_time": "2023-05-15T18:09:20.629Z"
   },
   {
    "duration": 0,
    "start_time": "2023-05-15T18:09:20.630Z"
   },
   {
    "duration": 0,
    "start_time": "2023-05-15T18:09:20.631Z"
   },
   {
    "duration": 0,
    "start_time": "2023-05-15T18:09:20.632Z"
   },
   {
    "duration": 0,
    "start_time": "2023-05-15T18:09:20.633Z"
   },
   {
    "duration": 0,
    "start_time": "2023-05-15T18:09:20.634Z"
   },
   {
    "duration": 0,
    "start_time": "2023-05-15T18:09:20.635Z"
   },
   {
    "duration": 0,
    "start_time": "2023-05-15T18:09:20.636Z"
   },
   {
    "duration": 0,
    "start_time": "2023-05-15T18:09:20.637Z"
   },
   {
    "duration": 1481,
    "start_time": "2023-05-15T18:09:43.681Z"
   },
   {
    "duration": 872,
    "start_time": "2023-05-15T18:09:45.164Z"
   },
   {
    "duration": 139,
    "start_time": "2023-05-15T18:09:46.038Z"
   },
   {
    "duration": 108,
    "start_time": "2023-05-15T18:09:46.179Z"
   },
   {
    "duration": 122,
    "start_time": "2023-05-15T18:09:46.288Z"
   },
   {
    "duration": 456,
    "start_time": "2023-05-15T18:09:46.411Z"
   },
   {
    "duration": 81,
    "start_time": "2023-05-15T18:09:46.870Z"
   },
   {
    "duration": 370,
    "start_time": "2023-05-15T18:09:46.952Z"
   },
   {
    "duration": 143,
    "start_time": "2023-05-15T18:09:47.325Z"
   },
   {
    "duration": 23,
    "start_time": "2023-05-15T18:09:47.471Z"
   },
   {
    "duration": 10,
    "start_time": "2023-05-15T18:09:47.496Z"
   },
   {
    "duration": 411,
    "start_time": "2023-05-15T18:09:47.508Z"
   },
   {
    "duration": 363,
    "start_time": "2023-05-15T18:09:47.921Z"
   },
   {
    "duration": 2,
    "start_time": "2023-05-15T18:09:48.286Z"
   },
   {
    "duration": 16,
    "start_time": "2023-05-15T18:09:48.290Z"
   },
   {
    "duration": 13123,
    "start_time": "2023-05-15T18:09:48.308Z"
   },
   {
    "duration": 195,
    "start_time": "2023-05-15T18:10:01.432Z"
   },
   {
    "duration": 98,
    "start_time": "2023-05-15T18:10:01.630Z"
   },
   {
    "duration": 1415,
    "start_time": "2023-05-15T18:10:06.434Z"
   },
   {
    "duration": 1418,
    "start_time": "2023-05-15T18:10:07.850Z"
   },
   {
    "duration": 300,
    "start_time": "2023-05-15T18:10:09.269Z"
   },
   {
    "duration": 256,
    "start_time": "2023-05-15T18:10:09.571Z"
   },
   {
    "duration": 220,
    "start_time": "2023-05-15T18:10:09.829Z"
   },
   {
    "duration": 474,
    "start_time": "2023-05-15T18:10:10.051Z"
   },
   {
    "duration": 78,
    "start_time": "2023-05-15T18:10:10.527Z"
   },
   {
    "duration": 380,
    "start_time": "2023-05-15T18:10:10.607Z"
   },
   {
    "duration": 155,
    "start_time": "2023-05-15T18:10:10.989Z"
   },
   {
    "duration": 26,
    "start_time": "2023-05-15T18:10:11.147Z"
   },
   {
    "duration": 11,
    "start_time": "2023-05-15T18:10:11.175Z"
   },
   {
    "duration": 458,
    "start_time": "2023-05-15T18:10:11.188Z"
   },
   {
    "duration": 355,
    "start_time": "2023-05-15T18:10:11.648Z"
   },
   {
    "duration": 3,
    "start_time": "2023-05-15T18:10:12.005Z"
   },
   {
    "duration": 16,
    "start_time": "2023-05-15T18:10:12.009Z"
   },
   {
    "duration": 15101,
    "start_time": "2023-05-15T18:10:12.027Z"
   },
   {
    "duration": 201,
    "start_time": "2023-05-15T18:10:27.129Z"
   },
   {
    "duration": 97,
    "start_time": "2023-05-15T18:10:27.332Z"
   },
   {
    "duration": 4159,
    "start_time": "2023-05-15T18:10:27.431Z"
   },
   {
    "duration": 37,
    "start_time": "2023-05-15T18:10:31.592Z"
   },
   {
    "duration": 4,
    "start_time": "2023-05-15T18:10:31.631Z"
   },
   {
    "duration": 1517,
    "start_time": "2023-05-15T18:10:35.160Z"
   },
   {
    "duration": 818,
    "start_time": "2023-05-15T18:10:36.679Z"
   },
   {
    "duration": 247,
    "start_time": "2023-05-15T18:10:37.499Z"
   },
   {
    "duration": 289,
    "start_time": "2023-05-15T18:10:37.747Z"
   },
   {
    "duration": 228,
    "start_time": "2023-05-15T18:10:38.039Z"
   },
   {
    "duration": 927,
    "start_time": "2023-05-15T18:10:38.325Z"
   },
   {
    "duration": 182,
    "start_time": "2023-05-15T18:10:39.253Z"
   },
   {
    "duration": 795,
    "start_time": "2023-05-15T18:10:39.437Z"
   },
   {
    "duration": 296,
    "start_time": "2023-05-15T18:10:40.233Z"
   },
   {
    "duration": 24,
    "start_time": "2023-05-15T18:10:40.531Z"
   },
   {
    "duration": 10,
    "start_time": "2023-05-15T18:10:40.557Z"
   },
   {
    "duration": 844,
    "start_time": "2023-05-15T18:10:40.568Z"
   },
   {
    "duration": 369,
    "start_time": "2023-05-15T18:10:41.414Z"
   },
   {
    "duration": 2,
    "start_time": "2023-05-15T18:10:41.786Z"
   },
   {
    "duration": 9,
    "start_time": "2023-05-15T18:10:41.790Z"
   },
   {
    "duration": 13127,
    "start_time": "2023-05-15T18:10:41.800Z"
   },
   {
    "duration": 200,
    "start_time": "2023-05-15T18:10:54.929Z"
   },
   {
    "duration": 96,
    "start_time": "2023-05-15T18:10:55.132Z"
   },
   {
    "duration": 4136,
    "start_time": "2023-05-15T18:10:55.230Z"
   },
   {
    "duration": 36,
    "start_time": "2023-05-15T18:10:59.368Z"
   },
   {
    "duration": 4,
    "start_time": "2023-05-15T18:10:59.406Z"
   },
   {
    "duration": 6618,
    "start_time": "2023-05-15T18:10:59.412Z"
   },
   {
    "duration": 505,
    "start_time": "2023-05-15T18:11:06.031Z"
   },
   {
    "duration": 5,
    "start_time": "2023-05-15T18:11:06.538Z"
   },
   {
    "duration": 23,
    "start_time": "2023-05-15T18:11:06.544Z"
   },
   {
    "duration": 41,
    "start_time": "2023-05-15T18:12:58.528Z"
   },
   {
    "duration": 1523,
    "start_time": "2023-05-15T18:13:10.739Z"
   },
   {
    "duration": 826,
    "start_time": "2023-05-15T18:13:12.264Z"
   },
   {
    "duration": 163,
    "start_time": "2023-05-15T18:13:13.092Z"
   },
   {
    "duration": 102,
    "start_time": "2023-05-15T18:13:13.257Z"
   },
   {
    "duration": 130,
    "start_time": "2023-05-15T18:13:13.361Z"
   },
   {
    "duration": 468,
    "start_time": "2023-05-15T18:13:13.492Z"
   },
   {
    "duration": 81,
    "start_time": "2023-05-15T18:13:13.961Z"
   },
   {
    "duration": 354,
    "start_time": "2023-05-15T18:13:14.044Z"
   },
   {
    "duration": 127,
    "start_time": "2023-05-15T18:13:14.400Z"
   },
   {
    "duration": 50,
    "start_time": "2023-05-15T18:13:14.528Z"
   },
   {
    "duration": 24,
    "start_time": "2023-05-15T18:13:14.580Z"
   },
   {
    "duration": 11,
    "start_time": "2023-05-15T18:13:14.624Z"
   },
   {
    "duration": 401,
    "start_time": "2023-05-15T18:13:14.637Z"
   },
   {
    "duration": 364,
    "start_time": "2023-05-15T18:13:15.041Z"
   },
   {
    "duration": 3,
    "start_time": "2023-05-15T18:13:15.406Z"
   },
   {
    "duration": 14,
    "start_time": "2023-05-15T18:13:15.411Z"
   },
   {
    "duration": 12500,
    "start_time": "2023-05-15T18:13:15.427Z"
   },
   {
    "duration": 203,
    "start_time": "2023-05-15T18:13:27.928Z"
   },
   {
    "duration": 94,
    "start_time": "2023-05-15T18:13:28.133Z"
   },
   {
    "duration": 4137,
    "start_time": "2023-05-15T18:13:28.229Z"
   },
   {
    "duration": 34,
    "start_time": "2023-05-15T18:13:32.367Z"
   },
   {
    "duration": 5,
    "start_time": "2023-05-15T18:13:32.402Z"
   },
   {
    "duration": 5618,
    "start_time": "2023-05-15T18:13:32.409Z"
   },
   {
    "duration": 499,
    "start_time": "2023-05-15T18:13:38.029Z"
   },
   {
    "duration": 5,
    "start_time": "2023-05-15T18:13:38.529Z"
   },
   {
    "duration": 11,
    "start_time": "2023-05-15T18:13:38.536Z"
   },
   {
    "duration": 83,
    "start_time": "2023-05-15T18:34:16.032Z"
   },
   {
    "duration": 368,
    "start_time": "2023-05-15T18:34:41.941Z"
   },
   {
    "duration": 265,
    "start_time": "2023-05-15T18:35:06.812Z"
   },
   {
    "duration": 411,
    "start_time": "2023-05-15T18:35:15.316Z"
   },
   {
    "duration": 14,
    "start_time": "2023-05-15T18:41:37.425Z"
   },
   {
    "duration": 880,
    "start_time": "2023-05-15T18:42:14.065Z"
   },
   {
    "duration": 48,
    "start_time": "2023-05-15T18:43:16.013Z"
   },
   {
    "duration": 1552,
    "start_time": "2023-05-15T18:43:21.554Z"
   },
   {
    "duration": 888,
    "start_time": "2023-05-15T18:43:23.108Z"
   },
   {
    "duration": 147,
    "start_time": "2023-05-15T18:43:23.998Z"
   },
   {
    "duration": 113,
    "start_time": "2023-05-15T18:43:24.147Z"
   },
   {
    "duration": 135,
    "start_time": "2023-05-15T18:43:24.263Z"
   },
   {
    "duration": 478,
    "start_time": "2023-05-15T18:43:24.400Z"
   },
   {
    "duration": 81,
    "start_time": "2023-05-15T18:43:24.880Z"
   },
   {
    "duration": 350,
    "start_time": "2023-05-15T18:43:24.963Z"
   },
   {
    "duration": 141,
    "start_time": "2023-05-15T18:43:25.315Z"
   },
   {
    "duration": 49,
    "start_time": "2023-05-15T18:43:25.458Z"
   },
   {
    "duration": 1187,
    "start_time": "2023-05-15T18:43:25.508Z"
   },
   {
    "duration": 490,
    "start_time": "2023-05-15T18:46:10.806Z"
   },
   {
    "duration": 30,
    "start_time": "2023-05-15T18:56:22.607Z"
   },
   {
    "duration": 12,
    "start_time": "2023-05-15T18:56:23.793Z"
   },
   {
    "duration": 1487,
    "start_time": "2023-05-15T18:56:54.294Z"
   },
   {
    "duration": 935,
    "start_time": "2023-05-15T18:56:55.784Z"
   },
   {
    "duration": 156,
    "start_time": "2023-05-15T18:56:56.720Z"
   },
   {
    "duration": 99,
    "start_time": "2023-05-15T18:56:56.878Z"
   },
   {
    "duration": 138,
    "start_time": "2023-05-15T18:56:56.979Z"
   },
   {
    "duration": 524,
    "start_time": "2023-05-15T18:56:57.119Z"
   },
   {
    "duration": 74,
    "start_time": "2023-05-15T18:56:57.645Z"
   },
   {
    "duration": 380,
    "start_time": "2023-05-15T18:56:57.728Z"
   },
   {
    "duration": 151,
    "start_time": "2023-05-15T18:56:58.110Z"
   },
   {
    "duration": 50,
    "start_time": "2023-05-15T18:56:58.263Z"
   },
   {
    "duration": 1324,
    "start_time": "2023-05-15T18:56:58.329Z"
   },
   {
    "duration": 552,
    "start_time": "2023-05-15T18:56:59.655Z"
   },
   {
    "duration": 33,
    "start_time": "2023-05-15T18:57:00.209Z"
   },
   {
    "duration": 22,
    "start_time": "2023-05-15T18:57:00.245Z"
   },
   {
    "duration": 25,
    "start_time": "2023-05-15T18:57:39.096Z"
   },
   {
    "duration": 5,
    "start_time": "2023-05-15T18:57:39.880Z"
   },
   {
    "duration": 28,
    "start_time": "2023-05-15T18:57:49.162Z"
   },
   {
    "duration": 6,
    "start_time": "2023-05-15T18:57:49.960Z"
   },
   {
    "duration": 21,
    "start_time": "2023-05-15T18:58:50.285Z"
   },
   {
    "duration": 4,
    "start_time": "2023-05-15T18:58:51.444Z"
   },
   {
    "duration": 26,
    "start_time": "2023-05-15T18:59:00.480Z"
   },
   {
    "duration": 6,
    "start_time": "2023-05-15T18:59:00.802Z"
   },
   {
    "duration": 128,
    "start_time": "2023-05-15T19:00:08.835Z"
   },
   {
    "duration": 5,
    "start_time": "2023-05-15T19:00:09.055Z"
   },
   {
    "duration": 14,
    "start_time": "2023-05-15T19:00:32.834Z"
   },
   {
    "duration": 21,
    "start_time": "2023-05-15T19:00:56.075Z"
   },
   {
    "duration": 4,
    "start_time": "2023-05-15T19:00:57.486Z"
   },
   {
    "duration": 32,
    "start_time": "2023-05-15T19:11:25.819Z"
   },
   {
    "duration": 5,
    "start_time": "2023-05-15T19:11:26.179Z"
   },
   {
    "duration": 1507,
    "start_time": "2023-05-15T19:21:58.419Z"
   },
   {
    "duration": 1031,
    "start_time": "2023-05-15T19:21:59.935Z"
   },
   {
    "duration": 172,
    "start_time": "2023-05-15T19:22:00.968Z"
   },
   {
    "duration": 109,
    "start_time": "2023-05-15T19:22:01.141Z"
   },
   {
    "duration": 147,
    "start_time": "2023-05-15T19:22:01.256Z"
   },
   {
    "duration": 593,
    "start_time": "2023-05-15T19:22:01.405Z"
   },
   {
    "duration": 115,
    "start_time": "2023-05-15T19:22:02.000Z"
   },
   {
    "duration": 466,
    "start_time": "2023-05-15T19:22:02.117Z"
   },
   {
    "duration": 1166,
    "start_time": "2023-05-15T19:22:02.584Z"
   },
   {
    "duration": 0,
    "start_time": "2023-05-15T19:22:03.753Z"
   },
   {
    "duration": 0,
    "start_time": "2023-05-15T19:22:03.754Z"
   },
   {
    "duration": 0,
    "start_time": "2023-05-15T19:22:03.756Z"
   },
   {
    "duration": 0,
    "start_time": "2023-05-15T19:22:03.757Z"
   },
   {
    "duration": 0,
    "start_time": "2023-05-15T19:22:03.758Z"
   },
   {
    "duration": 201,
    "start_time": "2023-05-15T19:26:01.706Z"
   },
   {
    "duration": 1187,
    "start_time": "2023-05-15T19:26:19.596Z"
   },
   {
    "duration": 559,
    "start_time": "2023-05-15T19:27:10.261Z"
   },
   {
    "duration": 136,
    "start_time": "2023-05-15T19:29:03.455Z"
   },
   {
    "duration": 63,
    "start_time": "2023-05-15T19:29:06.690Z"
   },
   {
    "duration": 1493,
    "start_time": "2023-05-15T19:29:07.480Z"
   },
   {
    "duration": 517,
    "start_time": "2023-05-15T19:29:09.212Z"
   },
   {
    "duration": 33,
    "start_time": "2023-05-15T19:29:11.438Z"
   },
   {
    "duration": 5,
    "start_time": "2023-05-15T19:29:11.689Z"
   },
   {
    "duration": 597,
    "start_time": "2023-05-15T19:30:17.248Z"
   },
   {
    "duration": 523,
    "start_time": "2023-05-15T19:30:17.852Z"
   },
   {
    "duration": 3,
    "start_time": "2023-05-15T19:30:18.377Z"
   },
   {
    "duration": 13,
    "start_time": "2023-05-15T19:30:18.381Z"
   },
   {
    "duration": 68146,
    "start_time": "2023-05-15T19:30:18.396Z"
   },
   {
    "duration": 291,
    "start_time": "2023-05-15T19:31:26.545Z"
   },
   {
    "duration": 10,
    "start_time": "2023-05-15T19:31:26.842Z"
   },
   {
    "duration": 5334,
    "start_time": "2023-05-15T19:31:26.853Z"
   },
   {
    "duration": 50,
    "start_time": "2023-05-15T19:31:32.189Z"
   },
   {
    "duration": 12,
    "start_time": "2023-05-15T19:31:32.244Z"
   },
   {
    "duration": 156074,
    "start_time": "2023-05-15T19:31:32.257Z"
   },
   {
    "duration": 623,
    "start_time": "2023-05-15T19:34:08.335Z"
   },
   {
    "duration": 4,
    "start_time": "2023-05-15T19:34:08.960Z"
   },
   {
    "duration": 68,
    "start_time": "2023-05-15T19:34:08.967Z"
   },
   {
    "duration": 3,
    "start_time": "2023-05-15T20:05:23.149Z"
   },
   {
    "duration": 161,
    "start_time": "2023-05-15T20:07:46.509Z"
   },
   {
    "duration": 1534,
    "start_time": "2023-05-15T20:07:58.424Z"
   },
   {
    "duration": 958,
    "start_time": "2023-05-15T20:07:59.960Z"
   },
   {
    "duration": 190,
    "start_time": "2023-05-15T20:08:00.920Z"
   },
   {
    "duration": 134,
    "start_time": "2023-05-15T20:08:01.113Z"
   },
   {
    "duration": 150,
    "start_time": "2023-05-15T20:08:01.249Z"
   },
   {
    "duration": 607,
    "start_time": "2023-05-15T20:08:01.401Z"
   },
   {
    "duration": 88,
    "start_time": "2023-05-15T20:08:02.010Z"
   },
   {
    "duration": 437,
    "start_time": "2023-05-15T20:08:02.099Z"
   },
   {
    "duration": 131,
    "start_time": "2023-05-15T20:08:02.543Z"
   },
   {
    "duration": 69,
    "start_time": "2023-05-15T20:08:02.677Z"
   },
   {
    "duration": 1423,
    "start_time": "2023-05-15T20:08:02.752Z"
   },
   {
    "duration": 489,
    "start_time": "2023-05-15T20:08:04.177Z"
   },
   {
    "duration": 21,
    "start_time": "2023-05-15T20:08:04.668Z"
   },
   {
    "duration": 7,
    "start_time": "2023-05-15T20:08:04.691Z"
   },
   {
    "duration": 267,
    "start_time": "2023-05-15T20:08:04.700Z"
   },
   {
    "duration": 0,
    "start_time": "2023-05-15T20:08:04.969Z"
   },
   {
    "duration": 0,
    "start_time": "2023-05-15T20:08:04.970Z"
   },
   {
    "duration": 0,
    "start_time": "2023-05-15T20:08:04.971Z"
   },
   {
    "duration": 0,
    "start_time": "2023-05-15T20:08:04.972Z"
   },
   {
    "duration": 0,
    "start_time": "2023-05-15T20:08:04.974Z"
   },
   {
    "duration": 0,
    "start_time": "2023-05-15T20:08:04.975Z"
   },
   {
    "duration": 0,
    "start_time": "2023-05-15T20:08:04.976Z"
   },
   {
    "duration": 0,
    "start_time": "2023-05-15T20:08:04.977Z"
   },
   {
    "duration": 0,
    "start_time": "2023-05-15T20:08:04.978Z"
   },
   {
    "duration": 0,
    "start_time": "2023-05-15T20:08:04.979Z"
   },
   {
    "duration": 0,
    "start_time": "2023-05-15T20:08:04.980Z"
   },
   {
    "duration": 0,
    "start_time": "2023-05-15T20:08:04.981Z"
   },
   {
    "duration": 23,
    "start_time": "2023-05-15T20:08:59.531Z"
   },
   {
    "duration": 13,
    "start_time": "2023-05-15T20:09:26.812Z"
   },
   {
    "duration": 143,
    "start_time": "2023-05-15T20:09:52.141Z"
   },
   {
    "duration": 78,
    "start_time": "2023-05-15T20:10:06.890Z"
   },
   {
    "duration": 146,
    "start_time": "2023-05-15T20:10:27.254Z"
   },
   {
    "duration": 108,
    "start_time": "2023-05-15T20:10:31.099Z"
   },
   {
    "duration": 125,
    "start_time": "2023-05-15T20:10:55.705Z"
   },
   {
    "duration": 85,
    "start_time": "2023-05-15T20:11:03.324Z"
   },
   {
    "duration": 1546,
    "start_time": "2023-05-15T20:11:15.529Z"
   },
   {
    "duration": 980,
    "start_time": "2023-05-15T20:11:17.077Z"
   },
   {
    "duration": 149,
    "start_time": "2023-05-15T20:11:18.059Z"
   },
   {
    "duration": 115,
    "start_time": "2023-05-15T20:11:18.211Z"
   },
   {
    "duration": 168,
    "start_time": "2023-05-15T20:11:18.330Z"
   },
   {
    "duration": 576,
    "start_time": "2023-05-15T20:11:18.500Z"
   },
   {
    "duration": 100,
    "start_time": "2023-05-15T20:11:19.078Z"
   },
   {
    "duration": 422,
    "start_time": "2023-05-15T20:11:19.180Z"
   },
   {
    "duration": 199,
    "start_time": "2023-05-15T20:11:19.605Z"
   },
   {
    "duration": 81,
    "start_time": "2023-05-15T20:11:19.806Z"
   },
   {
    "duration": 1454,
    "start_time": "2023-05-15T20:11:19.890Z"
   },
   {
    "duration": 497,
    "start_time": "2023-05-15T20:11:21.346Z"
   },
   {
    "duration": 28,
    "start_time": "2023-05-15T20:11:21.845Z"
   },
   {
    "duration": 9,
    "start_time": "2023-05-15T20:11:21.877Z"
   },
   {
    "duration": 105,
    "start_time": "2023-05-15T20:11:21.888Z"
   },
   {
    "duration": 278,
    "start_time": "2023-05-15T20:11:21.995Z"
   },
   {
    "duration": 0,
    "start_time": "2023-05-15T20:11:22.275Z"
   },
   {
    "duration": 0,
    "start_time": "2023-05-15T20:11:22.277Z"
   },
   {
    "duration": 0,
    "start_time": "2023-05-15T20:11:22.279Z"
   },
   {
    "duration": 0,
    "start_time": "2023-05-15T20:11:22.280Z"
   },
   {
    "duration": 0,
    "start_time": "2023-05-15T20:11:22.281Z"
   },
   {
    "duration": 0,
    "start_time": "2023-05-15T20:11:22.282Z"
   },
   {
    "duration": 0,
    "start_time": "2023-05-15T20:11:22.283Z"
   },
   {
    "duration": 0,
    "start_time": "2023-05-15T20:11:22.285Z"
   },
   {
    "duration": 0,
    "start_time": "2023-05-15T20:11:22.286Z"
   },
   {
    "duration": 0,
    "start_time": "2023-05-15T20:11:22.287Z"
   },
   {
    "duration": 0,
    "start_time": "2023-05-15T20:11:22.289Z"
   },
   {
    "duration": 0,
    "start_time": "2023-05-15T20:11:22.290Z"
   },
   {
    "duration": 140,
    "start_time": "2023-05-15T20:11:34.045Z"
   },
   {
    "duration": 78,
    "start_time": "2023-05-15T20:11:48.889Z"
   },
   {
    "duration": 671,
    "start_time": "2023-05-15T20:11:51.405Z"
   },
   {
    "duration": 662,
    "start_time": "2023-05-15T20:14:36.715Z"
   },
   {
    "duration": 4,
    "start_time": "2023-05-15T20:14:39.899Z"
   },
   {
    "duration": 4,
    "start_time": "2023-05-15T20:15:58.458Z"
   },
   {
    "duration": 77,
    "start_time": "2023-05-15T20:16:30.299Z"
   },
   {
    "duration": 22,
    "start_time": "2023-05-15T20:17:03.262Z"
   },
   {
    "duration": 57514,
    "start_time": "2023-05-15T20:17:08.351Z"
   },
   {
    "duration": 56640,
    "start_time": "2023-05-15T20:18:58.693Z"
   },
   {
    "duration": 57,
    "start_time": "2023-05-15T20:21:31.745Z"
   },
   {
    "duration": 57091,
    "start_time": "2023-05-15T20:22:46.383Z"
   },
   {
    "duration": 76,
    "start_time": "2023-05-15T20:28:18.000Z"
   },
   {
    "duration": 67,
    "start_time": "2023-05-15T20:32:55.450Z"
   },
   {
    "duration": 45,
    "start_time": "2023-05-15T20:34:17.762Z"
   },
   {
    "duration": 3,
    "start_time": "2023-05-15T20:36:03.611Z"
   },
   {
    "duration": 12,
    "start_time": "2023-05-15T20:37:46.500Z"
   },
   {
    "duration": 2675,
    "start_time": "2023-05-15T20:39:10.066Z"
   },
   {
    "duration": 32348,
    "start_time": "2023-05-15T20:39:19.217Z"
   },
   {
    "duration": 42,
    "start_time": "2023-05-15T20:40:56.754Z"
   },
   {
    "duration": 32166,
    "start_time": "2023-05-15T20:41:09.038Z"
   },
   {
    "duration": 10,
    "start_time": "2023-05-15T20:44:40.425Z"
   },
   {
    "duration": 5,
    "start_time": "2023-05-15T20:44:46.474Z"
   },
   {
    "duration": 52,
    "start_time": "2023-05-15T20:44:50.571Z"
   },
   {
    "duration": 59,
    "start_time": "2023-05-15T20:45:19.662Z"
   },
   {
    "duration": 4,
    "start_time": "2023-05-15T20:45:24.816Z"
   },
   {
    "duration": 53,
    "start_time": "2023-05-15T20:45:28.675Z"
   },
   {
    "duration": 66,
    "start_time": "2023-05-15T20:45:38.606Z"
   },
   {
    "duration": 80,
    "start_time": "2023-05-15T20:47:23.580Z"
   },
   {
    "duration": 70,
    "start_time": "2023-05-15T20:50:48.881Z"
   },
   {
    "duration": 59,
    "start_time": "2023-05-15T20:51:00.718Z"
   },
   {
    "duration": 60,
    "start_time": "2023-05-15T20:51:26.825Z"
   },
   {
    "duration": 60,
    "start_time": "2023-05-15T20:52:04.638Z"
   },
   {
    "duration": 53,
    "start_time": "2023-05-15T20:52:12.449Z"
   },
   {
    "duration": 50,
    "start_time": "2023-05-15T20:53:17.873Z"
   },
   {
    "duration": 55,
    "start_time": "2023-05-15T20:53:19.189Z"
   },
   {
    "duration": 203438,
    "start_time": "2023-05-15T20:54:54.762Z"
   },
   {
    "duration": 42379,
    "start_time": "2023-05-15T20:58:18.836Z"
   },
   {
    "duration": 40,
    "start_time": "2023-05-15T21:01:30.317Z"
   },
   {
    "duration": 36,
    "start_time": "2023-05-15T21:01:45.175Z"
   },
   {
    "duration": 24,
    "start_time": "2023-05-15T21:02:10.050Z"
   },
   {
    "duration": 32,
    "start_time": "2023-05-15T21:02:42.400Z"
   },
   {
    "duration": 39804,
    "start_time": "2023-05-15T21:03:47.724Z"
   },
   {
    "duration": 130240,
    "start_time": "2023-05-15T21:07:52.999Z"
   },
   {
    "duration": 87834,
    "start_time": "2023-05-15T21:10:28.398Z"
   },
   {
    "duration": 41,
    "start_time": "2023-05-15T21:14:31.496Z"
   },
   {
    "duration": 46,
    "start_time": "2023-05-15T21:14:50.795Z"
   },
   {
    "duration": 53,
    "start_time": "2023-05-15T21:15:05.534Z"
   },
   {
    "duration": 3,
    "start_time": "2023-05-15T21:16:35.490Z"
   },
   {
    "duration": 192,
    "start_time": "2023-05-15T21:17:25.195Z"
   },
   {
    "duration": 11,
    "start_time": "2023-05-15T21:17:57.361Z"
   },
   {
    "duration": 13,
    "start_time": "2023-05-15T21:18:05.139Z"
   },
   {
    "duration": 13,
    "start_time": "2023-05-15T21:18:36.160Z"
   },
   {
    "duration": 23,
    "start_time": "2023-05-15T21:18:42.111Z"
   },
   {
    "duration": 23,
    "start_time": "2023-05-15T21:18:58.978Z"
   },
   {
    "duration": 17,
    "start_time": "2023-05-15T21:19:10.890Z"
   },
   {
    "duration": 6,
    "start_time": "2023-05-15T21:19:21.786Z"
   },
   {
    "duration": 3,
    "start_time": "2023-05-15T21:21:51.358Z"
   },
   {
    "duration": 3108,
    "start_time": "2023-05-15T21:22:04.750Z"
   },
   {
    "duration": 9,
    "start_time": "2023-05-15T21:22:16.279Z"
   },
   {
    "duration": 9,
    "start_time": "2023-05-15T21:22:21.506Z"
   },
   {
    "duration": 2,
    "start_time": "2023-05-15T21:22:31.975Z"
   },
   {
    "duration": 3040,
    "start_time": "2023-05-15T21:22:37.125Z"
   },
   {
    "duration": 37,
    "start_time": "2023-05-15T21:22:43.812Z"
   },
   {
    "duration": 5,
    "start_time": "2023-05-15T21:22:47.370Z"
   },
   {
    "duration": 3,
    "start_time": "2023-05-15T21:27:15.057Z"
   },
   {
    "duration": 4412,
    "start_time": "2023-05-15T21:27:15.524Z"
   },
   {
    "duration": 1408,
    "start_time": "2023-05-15T21:27:19.938Z"
   },
   {
    "duration": 5,
    "start_time": "2023-05-15T21:27:21.348Z"
   },
   {
    "duration": 6,
    "start_time": "2023-05-15T21:29:49.287Z"
   },
   {
    "duration": 5,
    "start_time": "2023-05-15T21:30:08.602Z"
   },
   {
    "duration": 1410,
    "start_time": "2023-05-15T21:33:47.174Z"
   },
   {
    "duration": 852,
    "start_time": "2023-05-15T21:33:48.586Z"
   },
   {
    "duration": 134,
    "start_time": "2023-05-15T21:33:49.440Z"
   },
   {
    "duration": 140,
    "start_time": "2023-05-15T21:33:49.577Z"
   },
   {
    "duration": 155,
    "start_time": "2023-05-15T21:33:49.720Z"
   },
   {
    "duration": 507,
    "start_time": "2023-05-15T21:33:49.877Z"
   },
   {
    "duration": 84,
    "start_time": "2023-05-15T21:33:50.386Z"
   },
   {
    "duration": 368,
    "start_time": "2023-05-15T21:33:50.472Z"
   },
   {
    "duration": 130,
    "start_time": "2023-05-15T21:33:50.842Z"
   },
   {
    "duration": 60,
    "start_time": "2023-05-15T21:33:50.973Z"
   },
   {
    "duration": 1211,
    "start_time": "2023-05-15T21:33:51.035Z"
   },
   {
    "duration": 535,
    "start_time": "2023-05-15T21:33:52.248Z"
   },
   {
    "duration": 51,
    "start_time": "2023-05-15T21:33:52.784Z"
   },
   {
    "duration": 13,
    "start_time": "2023-05-15T21:33:52.839Z"
   },
   {
    "duration": 720,
    "start_time": "2023-05-15T21:33:52.854Z"
   },
   {
    "duration": 3,
    "start_time": "2023-05-15T21:33:53.575Z"
   },
   {
    "duration": 54430,
    "start_time": "2023-05-15T21:33:53.580Z"
   },
   {
    "duration": 3,
    "start_time": "2023-05-15T21:34:48.012Z"
   },
   {
    "duration": 198,
    "start_time": "2023-05-15T21:34:48.016Z"
   },
   {
    "duration": 31,
    "start_time": "2023-05-15T21:34:48.216Z"
   },
   {
    "duration": 6,
    "start_time": "2023-05-15T21:34:48.248Z"
   },
   {
    "duration": 39888,
    "start_time": "2023-05-15T21:34:48.256Z"
   },
   {
    "duration": 4,
    "start_time": "2023-05-15T21:35:28.146Z"
   },
   {
    "duration": 3185,
    "start_time": "2023-05-15T21:35:28.151Z"
   },
   {
    "duration": 41,
    "start_time": "2023-05-15T21:35:31.337Z"
   },
   {
    "duration": 30,
    "start_time": "2023-05-15T21:35:31.380Z"
   },
   {
    "duration": 229714,
    "start_time": "2023-05-15T21:35:31.412Z"
   },
   {
    "duration": 3,
    "start_time": "2023-05-15T21:39:21.128Z"
   },
   {
    "duration": 4602,
    "start_time": "2023-05-15T21:39:21.132Z"
   },
   {
    "duration": 1302,
    "start_time": "2023-05-15T21:39:25.736Z"
   },
   {
    "duration": 5,
    "start_time": "2023-05-15T21:39:27.040Z"
   },
   {
    "duration": 168,
    "start_time": "2023-05-15T21:39:27.047Z"
   },
   {
    "duration": 16,
    "start_time": "2023-05-15T21:39:43.670Z"
   },
   {
    "duration": 10,
    "start_time": "2023-05-15T21:39:57.663Z"
   },
   {
    "duration": 10,
    "start_time": "2023-05-15T21:40:49.445Z"
   },
   {
    "duration": 11,
    "start_time": "2023-05-15T21:41:23.729Z"
   },
   {
    "duration": 20124,
    "start_time": "2023-05-15T21:46:30.231Z"
   },
   {
    "duration": 10537,
    "start_time": "2023-05-15T21:48:26.908Z"
   },
   {
    "duration": 214,
    "start_time": "2023-05-15T21:48:37.447Z"
   },
   {
    "duration": 6,
    "start_time": "2023-05-15T21:48:37.662Z"
   },
   {
    "duration": 71,
    "start_time": "2023-05-15T21:48:51.829Z"
   },
   {
    "duration": 4,
    "start_time": "2023-05-15T21:48:52.876Z"
   },
   {
    "duration": 4486,
    "start_time": "2023-05-16T12:20:28.251Z"
   },
   {
    "duration": 6009,
    "start_time": "2023-05-16T12:20:32.741Z"
   },
   {
    "duration": 241,
    "start_time": "2023-05-16T12:20:38.754Z"
   },
   {
    "duration": 133,
    "start_time": "2023-05-16T12:20:38.997Z"
   },
   {
    "duration": 201,
    "start_time": "2023-05-16T12:20:39.136Z"
   },
   {
    "duration": 704,
    "start_time": "2023-05-16T12:20:39.341Z"
   },
   {
    "duration": 136,
    "start_time": "2023-05-16T12:20:40.053Z"
   },
   {
    "duration": 519,
    "start_time": "2023-05-16T12:20:40.195Z"
   },
   {
    "duration": 175,
    "start_time": "2023-05-16T12:20:40.719Z"
   },
   {
    "duration": 121,
    "start_time": "2023-05-16T12:20:40.905Z"
   },
   {
    "duration": 1753,
    "start_time": "2023-05-16T12:20:41.031Z"
   },
   {
    "duration": 662,
    "start_time": "2023-05-16T12:20:42.794Z"
   },
   {
    "duration": 63,
    "start_time": "2023-05-16T12:20:43.465Z"
   },
   {
    "duration": 39,
    "start_time": "2023-05-16T12:20:43.540Z"
   },
   {
    "duration": 1017,
    "start_time": "2023-05-16T12:20:43.589Z"
   },
   {
    "duration": 17,
    "start_time": "2023-05-16T12:20:44.618Z"
   },
   {
    "duration": 2274,
    "start_time": "2023-05-16T12:21:08.255Z"
   },
   {
    "duration": 1202,
    "start_time": "2023-05-16T12:21:10.531Z"
   },
   {
    "duration": 221,
    "start_time": "2023-05-16T12:21:11.735Z"
   },
   {
    "duration": 152,
    "start_time": "2023-05-16T12:21:11.972Z"
   },
   {
    "duration": 201,
    "start_time": "2023-05-16T12:21:12.137Z"
   },
   {
    "duration": 808,
    "start_time": "2023-05-16T12:21:12.347Z"
   },
   {
    "duration": 127,
    "start_time": "2023-05-16T12:21:13.163Z"
   },
   {
    "duration": 532,
    "start_time": "2023-05-16T12:21:13.296Z"
   },
   {
    "duration": 179,
    "start_time": "2023-05-16T12:21:13.834Z"
   },
   {
    "duration": 89,
    "start_time": "2023-05-16T12:21:14.021Z"
   },
   {
    "duration": 1793,
    "start_time": "2023-05-16T12:21:14.115Z"
   },
   {
    "duration": 669,
    "start_time": "2023-05-16T12:21:15.911Z"
   },
   {
    "duration": 60,
    "start_time": "2023-05-16T12:21:16.582Z"
   },
   {
    "duration": 17,
    "start_time": "2023-05-16T12:21:16.643Z"
   },
   {
    "duration": 1095,
    "start_time": "2023-05-16T12:21:16.662Z"
   },
   {
    "duration": 7,
    "start_time": "2023-05-16T12:21:17.759Z"
   },
   {
    "duration": 84339,
    "start_time": "2023-05-16T12:21:17.767Z"
   },
   {
    "duration": 14,
    "start_time": "2023-05-16T12:22:42.115Z"
   },
   {
    "duration": 369,
    "start_time": "2023-05-16T12:22:42.143Z"
   },
   {
    "duration": 43,
    "start_time": "2023-05-16T12:22:42.520Z"
   },
   {
    "duration": 35,
    "start_time": "2023-05-16T12:22:42.579Z"
   },
   {
    "duration": 85768,
    "start_time": "2023-05-16T12:22:42.630Z"
   },
   {
    "duration": 10,
    "start_time": "2023-05-16T12:24:08.408Z"
   },
   {
    "duration": 4745,
    "start_time": "2023-05-16T12:24:08.428Z"
   },
   {
    "duration": 61,
    "start_time": "2023-05-16T12:24:13.175Z"
   },
   {
    "duration": 7,
    "start_time": "2023-05-16T12:24:13.238Z"
   },
   {
    "duration": 1298181,
    "start_time": "2023-05-16T12:24:13.247Z"
   },
   {
    "duration": 11,
    "start_time": "2023-05-16T12:45:51.434Z"
   },
   {
    "duration": 2109,
    "start_time": "2023-05-16T13:27:38.611Z"
   },
   {
    "duration": 4590,
    "start_time": "2023-05-16T13:27:40.726Z"
   },
   {
    "duration": 143,
    "start_time": "2023-05-16T13:27:45.318Z"
   },
   {
    "duration": 140,
    "start_time": "2023-05-16T13:27:45.465Z"
   },
   {
    "duration": 179,
    "start_time": "2023-05-16T13:27:45.613Z"
   },
   {
    "duration": 708,
    "start_time": "2023-05-16T13:27:45.803Z"
   },
   {
    "duration": 100,
    "start_time": "2023-05-16T13:27:46.514Z"
   },
   {
    "duration": 476,
    "start_time": "2023-05-16T13:27:46.616Z"
   },
   {
    "duration": 157,
    "start_time": "2023-05-16T13:27:47.100Z"
   },
   {
    "duration": 75,
    "start_time": "2023-05-16T13:27:47.260Z"
   },
   {
    "duration": 1530,
    "start_time": "2023-05-16T13:27:47.337Z"
   },
   {
    "duration": 613,
    "start_time": "2023-05-16T13:27:48.868Z"
   },
   {
    "duration": 34,
    "start_time": "2023-05-16T13:27:49.483Z"
   },
   {
    "duration": 12,
    "start_time": "2023-05-16T13:27:49.519Z"
   },
   {
    "duration": 857,
    "start_time": "2023-05-16T13:27:49.534Z"
   },
   {
    "duration": 7,
    "start_time": "2023-05-16T13:27:50.404Z"
   },
   {
    "duration": 79329,
    "start_time": "2023-05-16T13:27:50.414Z"
   },
   {
    "duration": 4,
    "start_time": "2023-05-16T13:29:09.746Z"
   },
   {
    "duration": 345,
    "start_time": "2023-05-16T13:29:09.752Z"
   },
   {
    "duration": 48,
    "start_time": "2023-05-16T13:29:10.104Z"
   },
   {
    "duration": 10,
    "start_time": "2023-05-16T13:29:10.154Z"
   },
   {
    "duration": 57596,
    "start_time": "2023-05-16T13:29:10.167Z"
   },
   {
    "duration": 4,
    "start_time": "2023-05-16T13:30:07.765Z"
   },
   {
    "duration": 4055,
    "start_time": "2023-05-16T13:30:07.771Z"
   },
   {
    "duration": 40,
    "start_time": "2023-05-16T13:30:11.827Z"
   },
   {
    "duration": 8,
    "start_time": "2023-05-16T13:30:11.871Z"
   },
   {
    "duration": 1791,
    "start_time": "2023-05-16T13:42:49.646Z"
   },
   {
    "duration": 1089,
    "start_time": "2023-05-16T13:42:51.440Z"
   },
   {
    "duration": 194,
    "start_time": "2023-05-16T13:42:52.532Z"
   },
   {
    "duration": 164,
    "start_time": "2023-05-16T13:42:52.727Z"
   },
   {
    "duration": 141,
    "start_time": "2023-05-16T13:42:52.895Z"
   },
   {
    "duration": 688,
    "start_time": "2023-05-16T13:42:53.038Z"
   },
   {
    "duration": 127,
    "start_time": "2023-05-16T13:42:53.731Z"
   },
   {
    "duration": 440,
    "start_time": "2023-05-16T13:42:53.860Z"
   },
   {
    "duration": 146,
    "start_time": "2023-05-16T13:42:54.302Z"
   },
   {
    "duration": 60,
    "start_time": "2023-05-16T13:42:54.449Z"
   },
   {
    "duration": 1611,
    "start_time": "2023-05-16T13:42:54.511Z"
   },
   {
    "duration": 604,
    "start_time": "2023-05-16T13:42:56.124Z"
   },
   {
    "duration": 29,
    "start_time": "2023-05-16T13:42:56.731Z"
   },
   {
    "duration": 22,
    "start_time": "2023-05-16T13:42:56.765Z"
   },
   {
    "duration": 817,
    "start_time": "2023-05-16T13:42:56.789Z"
   },
   {
    "duration": 6,
    "start_time": "2023-05-16T13:42:57.611Z"
   },
   {
    "duration": 72988,
    "start_time": "2023-05-16T13:42:57.619Z"
   },
   {
    "duration": 4,
    "start_time": "2023-05-16T13:44:10.610Z"
   },
   {
    "duration": 306,
    "start_time": "2023-05-16T13:44:10.616Z"
   },
   {
    "duration": 26,
    "start_time": "2023-05-16T13:44:10.924Z"
   },
   {
    "duration": 6,
    "start_time": "2023-05-16T13:44:10.952Z"
   },
   {
    "duration": 59066,
    "start_time": "2023-05-16T13:44:10.981Z"
   },
   {
    "duration": 3,
    "start_time": "2023-05-16T13:45:10.049Z"
   },
   {
    "duration": 4584,
    "start_time": "2023-05-16T13:45:10.054Z"
   },
   {
    "duration": 81,
    "start_time": "2023-05-16T13:45:14.640Z"
   },
   {
    "duration": 10,
    "start_time": "2023-05-16T13:45:14.728Z"
   },
   {
    "duration": 232,
    "start_time": "2023-05-17T12:24:23.457Z"
   },
   {
    "duration": 1519,
    "start_time": "2023-08-06T11:02:26.717Z"
   },
   {
    "duration": 991,
    "start_time": "2023-08-06T11:02:28.238Z"
   },
   {
    "duration": 117,
    "start_time": "2023-08-06T11:02:29.231Z"
   },
   {
    "duration": 86,
    "start_time": "2023-08-06T11:02:29.350Z"
   },
   {
    "duration": 118,
    "start_time": "2023-08-06T11:02:29.438Z"
   },
   {
    "duration": 402,
    "start_time": "2023-08-06T11:02:29.557Z"
   },
   {
    "duration": 72,
    "start_time": "2023-08-06T11:02:29.961Z"
   },
   {
    "duration": 321,
    "start_time": "2023-08-06T11:02:30.035Z"
   },
   {
    "duration": 133,
    "start_time": "2023-08-06T11:02:30.357Z"
   },
   {
    "duration": 47,
    "start_time": "2023-08-06T11:02:30.492Z"
   },
   {
    "duration": 1092,
    "start_time": "2023-08-06T11:02:30.540Z"
   },
   {
    "duration": 331,
    "start_time": "2023-08-06T11:02:31.633Z"
   },
   {
    "duration": 85,
    "start_time": "2023-08-06T11:02:31.966Z"
   },
   {
    "duration": 28,
    "start_time": "2023-08-06T11:02:32.054Z"
   },
   {
    "duration": 704,
    "start_time": "2023-08-06T11:02:32.084Z"
   },
   {
    "duration": 3,
    "start_time": "2023-08-06T11:02:32.789Z"
   },
   {
    "duration": 46802,
    "start_time": "2023-08-06T11:02:32.793Z"
   },
   {
    "duration": 3,
    "start_time": "2023-08-06T11:03:19.596Z"
   },
   {
    "duration": 190,
    "start_time": "2023-08-06T11:03:19.600Z"
   },
   {
    "duration": 22,
    "start_time": "2023-08-06T11:03:19.792Z"
   },
   {
    "duration": 5,
    "start_time": "2023-08-06T11:03:19.816Z"
   },
   {
    "duration": 42675,
    "start_time": "2023-08-06T11:03:19.822Z"
   },
   {
    "duration": 4,
    "start_time": "2023-08-06T11:04:02.498Z"
   },
   {
    "duration": 3243,
    "start_time": "2023-08-06T11:04:02.504Z"
   },
   {
    "duration": 58,
    "start_time": "2023-08-06T11:04:05.748Z"
   },
   {
    "duration": 6,
    "start_time": "2023-08-06T11:04:05.807Z"
   },
   {
    "duration": 96980,
    "start_time": "2023-08-06T11:04:05.815Z"
   },
   {
    "duration": 3,
    "start_time": "2023-08-06T11:05:42.797Z"
   },
   {
    "duration": 59895,
    "start_time": "2023-08-06T11:05:42.801Z"
   },
   {
    "duration": 1304,
    "start_time": "2023-08-06T11:06:42.697Z"
   },
   {
    "duration": 4,
    "start_time": "2023-08-06T11:06:44.003Z"
   },
   {
    "duration": 82,
    "start_time": "2023-08-06T11:06:44.009Z"
   },
   {
    "duration": 5560,
    "start_time": "2023-08-06T11:06:44.093Z"
   },
   {
    "duration": 40,
    "start_time": "2023-08-06T11:06:49.655Z"
   },
   {
    "duration": 4,
    "start_time": "2023-08-06T11:06:49.698Z"
   }
  ],
  "kernelspec": {
   "display_name": "Python 3 (ipykernel)",
   "language": "python",
   "name": "python3"
  },
  "language_info": {
   "codemirror_mode": {
    "name": "ipython",
    "version": 3
   },
   "file_extension": ".py",
   "mimetype": "text/x-python",
   "name": "python",
   "nbconvert_exporter": "python",
   "pygments_lexer": "ipython3",
   "version": "3.10.12"
  },
  "toc": {
   "base_numbering": 1,
   "nav_menu": {},
   "number_sections": true,
   "sideBar": true,
   "skip_h1_title": true,
   "title_cell": "Table of Contents",
   "title_sidebar": "Contents",
   "toc_cell": false,
   "toc_position": {
    "height": "calc(100% - 180px)",
    "left": "10px",
    "top": "150px",
    "width": "221.391px"
   },
   "toc_section_display": true,
   "toc_window_display": true
  }
 },
 "nbformat": 4,
 "nbformat_minor": 2
}
