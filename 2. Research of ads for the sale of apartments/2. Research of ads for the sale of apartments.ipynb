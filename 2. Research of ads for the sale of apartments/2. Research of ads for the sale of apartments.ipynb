{
 "cells": [
  {
   "cell_type": "markdown",
   "metadata": {},
   "source": [
    "# Исследование объявлений о продаже квартир\n",
    "\n",
    "В вашем распоряжении данные сервиса Яндекс.Недвижимость — архив объявлений о продаже квартир в Санкт-Петербурге и соседних населённых пунктов за несколько лет. Нужно научиться определять рыночную стоимость объектов недвижимости. Ваша задача — установить параметры. Это позволит построить автоматизированную систему: она отследит аномалии и мошенническую деятельность. \n",
    "\n",
    "По каждой квартире на продажу доступны два вида данных. Первые вписаны пользователем, вторые — получены автоматически на основе картографических данных. Например, расстояние до центра, аэропорта, ближайшего парка и водоёма. "
   ]
  },
  {
   "cell_type": "markdown",
   "metadata": {},
   "source": [
    "Цель работы: изучить и описать связь цены квартиры и её харктеристик: квадратуры, жилплощади, удалённости от центра и т.д.\n",
    "\n",
    "Для изучения представлены следующие данные по недвижимости:\n",
    "- расстояние до ближайшего аэропорта в метрах (м);\n",
    "- число балконов;\n",
    "- высота потолков (м);\n",
    "- расстояние до центра города (м);\n",
    "- сколько дней было размещено объявление (от публикации до снятия);\n",
    "- дата публикации;\n",
    "- этаж;\n",
    "- всего этажей в доме;\n",
    "- является ли квартира апартаментами;\n",
    "- площадь кухни в квадратных метрах;\n",
    "- цена на момент снятия с публикации;\n",
    "- жилая площадь в квадратных метрах;\n",
    "- название населённого пункта;\n",
    "- свободная ли у квартиры планировка;\n",
    "- число парков в радиусе 3 км;\n",
    "- расстояние до ближайшего парка (м);\n",
    "- число водоёмов в радиусе 3 км;\n",
    "- расстояние до ближайшего водоёма (м);\n",
    "- число комнат;\n",
    "- является ли квартира студией;\n",
    "- общая площадь квартиры в квадратных метрах;\n",
    "- число фотографий квартиры в объявлении.\n",
    "\n",
    "План работы:\n",
    "1. Провести предобработку данных:\n",
    "    1. Изучить названия столбцов данных;\n",
    "    2. Заполнить пропуски;\n",
    "    3. Привести данные к нужному формату;\n",
    "    4. Исправить или исключить аномальные значения.\n",
    "1. Провести анализ данных:\n",
    "    1. Добавить новые столбцы в общую таблицу;\n",
    "    1. Исследовать полученные данные;\n",
    "    1. Определить наиболее значимые факторы, влияющие на продажу квартиры.\n",
    "1. Сделать выводы."
   ]
  },
  {
   "cell_type": "markdown",
   "metadata": {},
   "source": [
    "## Откроем файл с данными и изучим общую информацию. "
   ]
  },
  {
   "cell_type": "code",
   "execution_count": 1,
   "metadata": {},
   "outputs": [],
   "source": [
    "import pandas as pd\n",
    "import numpy as np\n",
    "import matplotlib.pyplot as plt\n",
    "import seaborn as sbn"
   ]
  },
  {
   "cell_type": "code",
   "execution_count": 2,
   "metadata": {},
   "outputs": [],
   "source": [
    "data = pd.read_csv('/datasets/real_estate_data.csv', sep='\\t')\n",
    "original_data_shape = data.shape[0]"
   ]
  },
  {
   "cell_type": "markdown",
   "metadata": {},
   "source": [
    "Изучим общую информацию полученного датафрейма, выведем первые 10 строк и построем гистограмму для каждого числового столбца:"
   ]
  },
  {
   "cell_type": "code",
   "execution_count": 3,
   "metadata": {},
   "outputs": [
    {
     "name": "stdout",
     "output_type": "stream",
     "text": [
      "<class 'pandas.core.frame.DataFrame'>\n",
      "RangeIndex: 23699 entries, 0 to 23698\n",
      "Data columns (total 22 columns):\n",
      " #   Column                Non-Null Count  Dtype  \n",
      "---  ------                --------------  -----  \n",
      " 0   total_images          23699 non-null  int64  \n",
      " 1   last_price            23699 non-null  float64\n",
      " 2   total_area            23699 non-null  float64\n",
      " 3   first_day_exposition  23699 non-null  object \n",
      " 4   rooms                 23699 non-null  int64  \n",
      " 5   ceiling_height        14504 non-null  float64\n",
      " 6   floors_total          23613 non-null  float64\n",
      " 7   living_area           21796 non-null  float64\n",
      " 8   floor                 23699 non-null  int64  \n",
      " 9   is_apartment          2775 non-null   object \n",
      " 10  studio                23699 non-null  bool   \n",
      " 11  open_plan             23699 non-null  bool   \n",
      " 12  kitchen_area          21421 non-null  float64\n",
      " 13  balcony               12180 non-null  float64\n",
      " 14  locality_name         23650 non-null  object \n",
      " 15  airports_nearest      18157 non-null  float64\n",
      " 16  cityCenters_nearest   18180 non-null  float64\n",
      " 17  parks_around3000      18181 non-null  float64\n",
      " 18  parks_nearest         8079 non-null   float64\n",
      " 19  ponds_around3000      18181 non-null  float64\n",
      " 20  ponds_nearest         9110 non-null   float64\n",
      " 21  days_exposition       20518 non-null  float64\n",
      "dtypes: bool(2), float64(14), int64(3), object(3)\n",
      "memory usage: 3.7+ MB\n"
     ]
    }
   ],
   "source": [
    "data.info()"
   ]
  },
  {
   "cell_type": "code",
   "execution_count": 4,
   "metadata": {
    "scrolled": true
   },
   "outputs": [
    {
     "data": {
      "text/html": [
       "<div>\n",
       "<style scoped>\n",
       "    .dataframe tbody tr th:only-of-type {\n",
       "        vertical-align: middle;\n",
       "    }\n",
       "\n",
       "    .dataframe tbody tr th {\n",
       "        vertical-align: top;\n",
       "    }\n",
       "\n",
       "    .dataframe thead th {\n",
       "        text-align: right;\n",
       "    }\n",
       "</style>\n",
       "<table border=\"1\" class=\"dataframe\">\n",
       "  <thead>\n",
       "    <tr style=\"text-align: right;\">\n",
       "      <th></th>\n",
       "      <th>total_images</th>\n",
       "      <th>last_price</th>\n",
       "      <th>total_area</th>\n",
       "      <th>first_day_exposition</th>\n",
       "      <th>rooms</th>\n",
       "      <th>ceiling_height</th>\n",
       "      <th>floors_total</th>\n",
       "      <th>living_area</th>\n",
       "      <th>floor</th>\n",
       "      <th>is_apartment</th>\n",
       "      <th>studio</th>\n",
       "      <th>open_plan</th>\n",
       "      <th>kitchen_area</th>\n",
       "      <th>balcony</th>\n",
       "      <th>locality_name</th>\n",
       "      <th>airports_nearest</th>\n",
       "      <th>cityCenters_nearest</th>\n",
       "      <th>parks_around3000</th>\n",
       "      <th>parks_nearest</th>\n",
       "      <th>ponds_around3000</th>\n",
       "      <th>ponds_nearest</th>\n",
       "      <th>days_exposition</th>\n",
       "    </tr>\n",
       "  </thead>\n",
       "  <tbody>\n",
       "    <tr>\n",
       "      <th>0</th>\n",
       "      <td>20</td>\n",
       "      <td>13000000.0</td>\n",
       "      <td>108.00</td>\n",
       "      <td>2019-03-07T00:00:00</td>\n",
       "      <td>3</td>\n",
       "      <td>2.70</td>\n",
       "      <td>16.0</td>\n",
       "      <td>51.00</td>\n",
       "      <td>8</td>\n",
       "      <td>NaN</td>\n",
       "      <td>False</td>\n",
       "      <td>False</td>\n",
       "      <td>25.00</td>\n",
       "      <td>NaN</td>\n",
       "      <td>Санкт-Петербург</td>\n",
       "      <td>18863.0</td>\n",
       "      <td>16028.0</td>\n",
       "      <td>1.0</td>\n",
       "      <td>482.0</td>\n",
       "      <td>2.0</td>\n",
       "      <td>755.0</td>\n",
       "      <td>NaN</td>\n",
       "    </tr>\n",
       "    <tr>\n",
       "      <th>1</th>\n",
       "      <td>7</td>\n",
       "      <td>3350000.0</td>\n",
       "      <td>40.40</td>\n",
       "      <td>2018-12-04T00:00:00</td>\n",
       "      <td>1</td>\n",
       "      <td>NaN</td>\n",
       "      <td>11.0</td>\n",
       "      <td>18.60</td>\n",
       "      <td>1</td>\n",
       "      <td>NaN</td>\n",
       "      <td>False</td>\n",
       "      <td>False</td>\n",
       "      <td>11.00</td>\n",
       "      <td>2.0</td>\n",
       "      <td>посёлок Шушары</td>\n",
       "      <td>12817.0</td>\n",
       "      <td>18603.0</td>\n",
       "      <td>0.0</td>\n",
       "      <td>NaN</td>\n",
       "      <td>0.0</td>\n",
       "      <td>NaN</td>\n",
       "      <td>81.0</td>\n",
       "    </tr>\n",
       "    <tr>\n",
       "      <th>2</th>\n",
       "      <td>10</td>\n",
       "      <td>5196000.0</td>\n",
       "      <td>56.00</td>\n",
       "      <td>2015-08-20T00:00:00</td>\n",
       "      <td>2</td>\n",
       "      <td>NaN</td>\n",
       "      <td>5.0</td>\n",
       "      <td>34.30</td>\n",
       "      <td>4</td>\n",
       "      <td>NaN</td>\n",
       "      <td>False</td>\n",
       "      <td>False</td>\n",
       "      <td>8.30</td>\n",
       "      <td>0.0</td>\n",
       "      <td>Санкт-Петербург</td>\n",
       "      <td>21741.0</td>\n",
       "      <td>13933.0</td>\n",
       "      <td>1.0</td>\n",
       "      <td>90.0</td>\n",
       "      <td>2.0</td>\n",
       "      <td>574.0</td>\n",
       "      <td>558.0</td>\n",
       "    </tr>\n",
       "    <tr>\n",
       "      <th>3</th>\n",
       "      <td>0</td>\n",
       "      <td>64900000.0</td>\n",
       "      <td>159.00</td>\n",
       "      <td>2015-07-24T00:00:00</td>\n",
       "      <td>3</td>\n",
       "      <td>NaN</td>\n",
       "      <td>14.0</td>\n",
       "      <td>NaN</td>\n",
       "      <td>9</td>\n",
       "      <td>NaN</td>\n",
       "      <td>False</td>\n",
       "      <td>False</td>\n",
       "      <td>NaN</td>\n",
       "      <td>0.0</td>\n",
       "      <td>Санкт-Петербург</td>\n",
       "      <td>28098.0</td>\n",
       "      <td>6800.0</td>\n",
       "      <td>2.0</td>\n",
       "      <td>84.0</td>\n",
       "      <td>3.0</td>\n",
       "      <td>234.0</td>\n",
       "      <td>424.0</td>\n",
       "    </tr>\n",
       "    <tr>\n",
       "      <th>4</th>\n",
       "      <td>2</td>\n",
       "      <td>10000000.0</td>\n",
       "      <td>100.00</td>\n",
       "      <td>2018-06-19T00:00:00</td>\n",
       "      <td>2</td>\n",
       "      <td>3.03</td>\n",
       "      <td>14.0</td>\n",
       "      <td>32.00</td>\n",
       "      <td>13</td>\n",
       "      <td>NaN</td>\n",
       "      <td>False</td>\n",
       "      <td>False</td>\n",
       "      <td>41.00</td>\n",
       "      <td>NaN</td>\n",
       "      <td>Санкт-Петербург</td>\n",
       "      <td>31856.0</td>\n",
       "      <td>8098.0</td>\n",
       "      <td>2.0</td>\n",
       "      <td>112.0</td>\n",
       "      <td>1.0</td>\n",
       "      <td>48.0</td>\n",
       "      <td>121.0</td>\n",
       "    </tr>\n",
       "    <tr>\n",
       "      <th>5</th>\n",
       "      <td>10</td>\n",
       "      <td>2890000.0</td>\n",
       "      <td>30.40</td>\n",
       "      <td>2018-09-10T00:00:00</td>\n",
       "      <td>1</td>\n",
       "      <td>NaN</td>\n",
       "      <td>12.0</td>\n",
       "      <td>14.40</td>\n",
       "      <td>5</td>\n",
       "      <td>NaN</td>\n",
       "      <td>False</td>\n",
       "      <td>False</td>\n",
       "      <td>9.10</td>\n",
       "      <td>NaN</td>\n",
       "      <td>городской посёлок Янино-1</td>\n",
       "      <td>NaN</td>\n",
       "      <td>NaN</td>\n",
       "      <td>NaN</td>\n",
       "      <td>NaN</td>\n",
       "      <td>NaN</td>\n",
       "      <td>NaN</td>\n",
       "      <td>55.0</td>\n",
       "    </tr>\n",
       "    <tr>\n",
       "      <th>6</th>\n",
       "      <td>6</td>\n",
       "      <td>3700000.0</td>\n",
       "      <td>37.30</td>\n",
       "      <td>2017-11-02T00:00:00</td>\n",
       "      <td>1</td>\n",
       "      <td>NaN</td>\n",
       "      <td>26.0</td>\n",
       "      <td>10.60</td>\n",
       "      <td>6</td>\n",
       "      <td>NaN</td>\n",
       "      <td>False</td>\n",
       "      <td>False</td>\n",
       "      <td>14.40</td>\n",
       "      <td>1.0</td>\n",
       "      <td>посёлок Парголово</td>\n",
       "      <td>52996.0</td>\n",
       "      <td>19143.0</td>\n",
       "      <td>0.0</td>\n",
       "      <td>NaN</td>\n",
       "      <td>0.0</td>\n",
       "      <td>NaN</td>\n",
       "      <td>155.0</td>\n",
       "    </tr>\n",
       "    <tr>\n",
       "      <th>7</th>\n",
       "      <td>5</td>\n",
       "      <td>7915000.0</td>\n",
       "      <td>71.60</td>\n",
       "      <td>2019-04-18T00:00:00</td>\n",
       "      <td>2</td>\n",
       "      <td>NaN</td>\n",
       "      <td>24.0</td>\n",
       "      <td>NaN</td>\n",
       "      <td>22</td>\n",
       "      <td>NaN</td>\n",
       "      <td>False</td>\n",
       "      <td>False</td>\n",
       "      <td>18.90</td>\n",
       "      <td>2.0</td>\n",
       "      <td>Санкт-Петербург</td>\n",
       "      <td>23982.0</td>\n",
       "      <td>11634.0</td>\n",
       "      <td>0.0</td>\n",
       "      <td>NaN</td>\n",
       "      <td>0.0</td>\n",
       "      <td>NaN</td>\n",
       "      <td>NaN</td>\n",
       "    </tr>\n",
       "    <tr>\n",
       "      <th>8</th>\n",
       "      <td>20</td>\n",
       "      <td>2900000.0</td>\n",
       "      <td>33.16</td>\n",
       "      <td>2018-05-23T00:00:00</td>\n",
       "      <td>1</td>\n",
       "      <td>NaN</td>\n",
       "      <td>27.0</td>\n",
       "      <td>15.43</td>\n",
       "      <td>26</td>\n",
       "      <td>NaN</td>\n",
       "      <td>False</td>\n",
       "      <td>False</td>\n",
       "      <td>8.81</td>\n",
       "      <td>NaN</td>\n",
       "      <td>посёлок Мурино</td>\n",
       "      <td>NaN</td>\n",
       "      <td>NaN</td>\n",
       "      <td>NaN</td>\n",
       "      <td>NaN</td>\n",
       "      <td>NaN</td>\n",
       "      <td>NaN</td>\n",
       "      <td>189.0</td>\n",
       "    </tr>\n",
       "    <tr>\n",
       "      <th>9</th>\n",
       "      <td>18</td>\n",
       "      <td>5400000.0</td>\n",
       "      <td>61.00</td>\n",
       "      <td>2017-02-26T00:00:00</td>\n",
       "      <td>3</td>\n",
       "      <td>2.50</td>\n",
       "      <td>9.0</td>\n",
       "      <td>43.60</td>\n",
       "      <td>7</td>\n",
       "      <td>NaN</td>\n",
       "      <td>False</td>\n",
       "      <td>False</td>\n",
       "      <td>6.50</td>\n",
       "      <td>2.0</td>\n",
       "      <td>Санкт-Петербург</td>\n",
       "      <td>50898.0</td>\n",
       "      <td>15008.0</td>\n",
       "      <td>0.0</td>\n",
       "      <td>NaN</td>\n",
       "      <td>0.0</td>\n",
       "      <td>NaN</td>\n",
       "      <td>289.0</td>\n",
       "    </tr>\n",
       "  </tbody>\n",
       "</table>\n",
       "</div>"
      ],
      "text/plain": [
       "   total_images  last_price  total_area first_day_exposition  rooms  \\\n",
       "0            20  13000000.0      108.00  2019-03-07T00:00:00      3   \n",
       "1             7   3350000.0       40.40  2018-12-04T00:00:00      1   \n",
       "2            10   5196000.0       56.00  2015-08-20T00:00:00      2   \n",
       "3             0  64900000.0      159.00  2015-07-24T00:00:00      3   \n",
       "4             2  10000000.0      100.00  2018-06-19T00:00:00      2   \n",
       "5            10   2890000.0       30.40  2018-09-10T00:00:00      1   \n",
       "6             6   3700000.0       37.30  2017-11-02T00:00:00      1   \n",
       "7             5   7915000.0       71.60  2019-04-18T00:00:00      2   \n",
       "8            20   2900000.0       33.16  2018-05-23T00:00:00      1   \n",
       "9            18   5400000.0       61.00  2017-02-26T00:00:00      3   \n",
       "\n",
       "   ceiling_height  floors_total  living_area  floor is_apartment  studio  \\\n",
       "0            2.70          16.0        51.00      8          NaN   False   \n",
       "1             NaN          11.0        18.60      1          NaN   False   \n",
       "2             NaN           5.0        34.30      4          NaN   False   \n",
       "3             NaN          14.0          NaN      9          NaN   False   \n",
       "4            3.03          14.0        32.00     13          NaN   False   \n",
       "5             NaN          12.0        14.40      5          NaN   False   \n",
       "6             NaN          26.0        10.60      6          NaN   False   \n",
       "7             NaN          24.0          NaN     22          NaN   False   \n",
       "8             NaN          27.0        15.43     26          NaN   False   \n",
       "9            2.50           9.0        43.60      7          NaN   False   \n",
       "\n",
       "   open_plan  kitchen_area  balcony              locality_name  \\\n",
       "0      False         25.00      NaN            Санкт-Петербург   \n",
       "1      False         11.00      2.0             посёлок Шушары   \n",
       "2      False          8.30      0.0            Санкт-Петербург   \n",
       "3      False           NaN      0.0            Санкт-Петербург   \n",
       "4      False         41.00      NaN            Санкт-Петербург   \n",
       "5      False          9.10      NaN  городской посёлок Янино-1   \n",
       "6      False         14.40      1.0          посёлок Парголово   \n",
       "7      False         18.90      2.0            Санкт-Петербург   \n",
       "8      False          8.81      NaN             посёлок Мурино   \n",
       "9      False          6.50      2.0            Санкт-Петербург   \n",
       "\n",
       "   airports_nearest  cityCenters_nearest  parks_around3000  parks_nearest  \\\n",
       "0           18863.0              16028.0               1.0          482.0   \n",
       "1           12817.0              18603.0               0.0            NaN   \n",
       "2           21741.0              13933.0               1.0           90.0   \n",
       "3           28098.0               6800.0               2.0           84.0   \n",
       "4           31856.0               8098.0               2.0          112.0   \n",
       "5               NaN                  NaN               NaN            NaN   \n",
       "6           52996.0              19143.0               0.0            NaN   \n",
       "7           23982.0              11634.0               0.0            NaN   \n",
       "8               NaN                  NaN               NaN            NaN   \n",
       "9           50898.0              15008.0               0.0            NaN   \n",
       "\n",
       "   ponds_around3000  ponds_nearest  days_exposition  \n",
       "0               2.0          755.0              NaN  \n",
       "1               0.0            NaN             81.0  \n",
       "2               2.0          574.0            558.0  \n",
       "3               3.0          234.0            424.0  \n",
       "4               1.0           48.0            121.0  \n",
       "5               NaN            NaN             55.0  \n",
       "6               0.0            NaN            155.0  \n",
       "7               0.0            NaN              NaN  \n",
       "8               NaN            NaN            189.0  \n",
       "9               0.0            NaN            289.0  "
      ]
     },
     "execution_count": 4,
     "metadata": {},
     "output_type": "execute_result"
    }
   ],
   "source": [
    "pd.set_option('display.max_columns', None)\n",
    "data.head(10)"
   ]
  },
  {
   "cell_type": "code",
   "execution_count": 5,
   "metadata": {},
   "outputs": [
    {
     "data": {
      "image/png": "[encoded data removed]",
      "text/plain": [
       "<Figure size 1080x1440 with 20 Axes>"
      ]
     },
     "metadata": {
      "needs_background": "light"
     },
     "output_type": "display_data"
    }
   ],
   "source": [
    "data.hist(figsize=(15, 20));"
   ]
  },
  {
   "cell_type": "markdown",
   "metadata": {},
   "source": [
    "Изучив исходные данные, имеем следующие выводы:\n",
    "- Название столбца до центра города написано некорректно;\n",
    "- Имеются пропуски в столбцах ceiling_height, living_area, is_apartment, kitchen_area, balcony, airports_nearest, cityCenters_nearest, parks_around3000, parks_nearest, ponds_around3000, ponds_nearest, days_exposition;\n",
    "- Многие данные, которые должны храниться целыми числами, указаны дробными;\n",
    "- Стоит изучить столбец с населённым пунктом, в котором находится недвижимость на наличие дубликатов;\n",
    "- В количестве балконов квартиры возможны аномальные значения."
   ]
  },
  {
   "cell_type": "markdown",
   "metadata": {},
   "source": [
    "## Предобработка данных"
   ]
  },
  {
   "cell_type": "markdown",
   "metadata": {},
   "source": [
    "### Исправление названий стобцов"
   ]
  },
  {
   "cell_type": "markdown",
   "metadata": {},
   "source": [
    "Название столбца \"cityCenters_nearest\" некорректное. Переведём его в lower_case и поставим разделительный знак."
   ]
  },
  {
   "cell_type": "code",
   "execution_count": 6,
   "metadata": {},
   "outputs": [],
   "source": [
    "data.rename(columns={'cityCenters_nearest': 'city_centers_nearest'}, inplace=True)"
   ]
  },
  {
   "cell_type": "markdown",
   "metadata": {},
   "source": [
    "### Заполнение пропусков"
   ]
  },
  {
   "cell_type": "markdown",
   "metadata": {},
   "source": [
    "Определим в каких столбцах датафрейма есть пропуски:"
   ]
  },
  {
   "cell_type": "code",
   "execution_count": 7,
   "metadata": {
    "scrolled": false
   },
   "outputs": [
    {
     "data": {
      "text/plain": [
       "total_images                0\n",
       "last_price                  0\n",
       "total_area                  0\n",
       "first_day_exposition        0\n",
       "rooms                       0\n",
       "ceiling_height           9195\n",
       "floors_total               86\n",
       "living_area              1903\n",
       "floor                       0\n",
       "is_apartment            20924\n",
       "studio                      0\n",
       "open_plan                   0\n",
       "kitchen_area             2278\n",
       "balcony                 11519\n",
       "locality_name              49\n",
       "airports_nearest         5542\n",
       "city_centers_nearest     5519\n",
       "parks_around3000         5518\n",
       "parks_nearest           15620\n",
       "ponds_around3000         5518\n",
       "ponds_nearest           14589\n",
       "days_exposition          3181\n",
       "dtype: int64"
      ]
     },
     "execution_count": 7,
     "metadata": {},
     "output_type": "execute_result"
    }
   ],
   "source": [
    "data.isna().sum()"
   ]
  },
  {
   "cell_type": "markdown",
   "metadata": {},
   "source": [
    "Замечена нехватка данных в некоторых квартирах о:\n",
    "\n",
    "    - Высоте потолка;\n",
    "    - Этажности здания, в котором находится квартира;\n",
    "    - Жилплощади;\n",
    "    - Является ли помещение жилым;\n",
    "    - Площади кухни;\n",
    "    - Числе балконов;\n",
    "    - Названии населённого пункта;\n",
    "    - Расстоянии до ближайшего аэропорта;\n",
    "    - Расстоянии до центра города;\n",
    "    - Расстоянии до ближайшего парка и их количество в радиусе 3км;\n",
    "    - Расстоянии до ближайшего пруда и их количество в радиусе 3км;\n",
    "    - Сколько дней было размещено объявление (от публикации до снятия).\n",
    "    \n",
    "С целью проведения дальнейшего анализа необходимо заполнить пропуски там, где это возможно. Например, в столбце \"балконы\" и количестве парков и прудов в радиусе 3км от квартиры. Предположим, что пропуски в этих данных подразумевают отствутие у квартиры указанного объекта (балкона, парка или пруда поблизости) и заполним такие пропуски нулём.\n",
    "\n",
    "Что касается пропусков этажности здания, в котором находится квартира на продажу - укажем сам этаж нахождения квартиры, как крайний. Вероятно, заполняющий данные из объявления работник, счёл ненужным дублировать этаж квартиры, находящейся на последнем этаже."
   ]
  },
  {
   "cell_type": "code",
   "execution_count": 8,
   "metadata": {},
   "outputs": [],
   "source": [
    "data[['balcony', 'parks_around3000', 'ponds_around3000']] = data[['balcony', 'parks_around3000', 'ponds_around3000']].fillna(0)\n",
    "data['floors_total'] = data['floors_total'].fillna(data['floor'])"
   ]
  },
  {
   "cell_type": "markdown",
   "metadata": {},
   "source": [
    "Поскольку мы знаем наверняка, какие квартиры в выборке являются студиями, площадь кухни в них так же заменим на 0:"
   ]
  },
  {
   "cell_type": "code",
   "execution_count": 9,
   "metadata": {},
   "outputs": [],
   "source": [
    "data['kitchen_area'] = data['kitchen_area'].where(data['studio'] == 0, 0)"
   ]
  },
  {
   "cell_type": "markdown",
   "metadata": {},
   "source": [
    "Чаще всего подобного рода пропуски в данных происходят по причине человеческого фактора. Возможно, работник, заполняющий данные, счёл ненужным указывать 0 в информации о квартирах без балконов и парках/пруда поблизости, ровно как и указать, что в студиях площадь кухни равна 0.\n",
    "\n",
    "Оставшиеся пропуски в столбцах о жилплощади, высоте потолков, этажности здания и прочих данных, тесно связанных с городом, в котором находится помещение, мы заполним позже."
   ]
  },
  {
   "cell_type": "markdown",
   "metadata": {},
   "source": [
    "### Изменение типов данных"
   ]
  },
  {
   "cell_type": "markdown",
   "metadata": {},
   "source": [
    "Необходимо изучить столбцы с несоответствующими типами данных и исправить их."
   ]
  },
  {
   "cell_type": "code",
   "execution_count": 10,
   "metadata": {
    "scrolled": true
   },
   "outputs": [
    {
     "data": {
      "text/plain": [
       "total_images              int64\n",
       "last_price              float64\n",
       "total_area              float64\n",
       "first_day_exposition     object\n",
       "rooms                     int64\n",
       "ceiling_height          float64\n",
       "floors_total            float64\n",
       "living_area             float64\n",
       "floor                     int64\n",
       "is_apartment             object\n",
       "studio                     bool\n",
       "open_plan                  bool\n",
       "kitchen_area            float64\n",
       "balcony                 float64\n",
       "locality_name            object\n",
       "airports_nearest        float64\n",
       "city_centers_nearest    float64\n",
       "parks_around3000        float64\n",
       "parks_nearest           float64\n",
       "ponds_around3000        float64\n",
       "ponds_nearest           float64\n",
       "days_exposition         float64\n",
       "dtype: object"
      ]
     },
     "execution_count": 10,
     "metadata": {},
     "output_type": "execute_result"
    }
   ],
   "source": [
    "data.dtypes"
   ]
  },
  {
   "cell_type": "markdown",
   "metadata": {},
   "source": [
    "Такие данные, как цена на момент публикации, этажность здания, количество близлежащих прудов и парков, балконов, дней с момента размещения публкации объявения о продажи, расстояние до центра/аэропорта указаны дробью (float64), хотя должны быть целыми числами (int64). Для этого создадим список change_list, куда внесём все столбцы, где нужны изменения.\n",
    "\n",
    "Оставшиеся дробные величины переведём в float32 для экономии памяти."
   ]
  },
  {
   "cell_type": "code",
   "execution_count": 11,
   "metadata": {},
   "outputs": [],
   "source": [
    "change_list = ['balcony',\n",
    "               'floors_total',\n",
    "               'parks_around3000',\n",
    "               'ponds_around3000',\n",
    "               'last_price',\n",
    "               'days_exposition']\n",
    "\n",
    "data[change_list] = data[change_list].round(0).astype('Int64')\n",
    "\n",
    "change_list = ['total_area',\n",
    "               'ceiling_height',\n",
    "               'living_area',\n",
    "               'kitchen_area',\n",
    "               'airports_nearest',\n",
    "               'city_centers_nearest',\n",
    "               'parks_nearest',\n",
    "               'ponds_nearest'\n",
    "]\n",
    "data[change_list] = data[change_list].astype('float32')"
   ]
  },
  {
   "cell_type": "markdown",
   "metadata": {},
   "source": [
    "**Данные важно хранить в соответствущем формате, чтобы при дальнейшем анализе не возникало ошибок, ведущих к ложным выводам и гипотезам.**\n",
    "\n",
    "Сперва исправим формат столбца с днём, когда появилось объявление о продаже квартиры."
   ]
  },
  {
   "cell_type": "code",
   "execution_count": 12,
   "metadata": {},
   "outputs": [],
   "source": [
    "data['first_day_exposition'] = pd.to_datetime(data['first_day_exposition'], format = '%Y/%m/%dT%H:%M:%S')"
   ]
  },
  {
   "cell_type": "markdown",
   "metadata": {},
   "source": [
    "Следующим шагом предобработки данных будет создание нового столбца location_sorted, где будет указано только название населённого пунтка, в котором находится недвижимость, без указания его типа. Это необходимо, чтобы помещения, находящиеся в одном населённом пункте, записаным под разными вариациями (посёлок Мурино и поселок Мурино) корретно учитывались при анализе.\n",
    "\n",
    "Для удобства создадим список words_to_filter, в котором перечислим все слова, которые удалим из locality_name для формирования нового столбца."
   ]
  },
  {
   "cell_type": "code",
   "execution_count": 13,
   "metadata": {},
   "outputs": [],
   "source": [
    "words_to_filter = ['деревня ', 'садовое товарищество ', 'село ', 'городской поселок ', 'поселок станции ', 'поселок при железнодорожной станции ', 'коттеджный поселок ', 'поселок ', 'городского типа ', 'имени ', 'садоводческое некоммерческое товарищество ', ]\n",
    "data['location_sorted'] = data['locality_name'].str.replace('ё', 'е')\n",
    "for word in words_to_filter:\n",
    "    data['location_sorted'] = data['location_sorted'].str.replace(word, '')"
   ]
  },
  {
   "cell_type": "markdown",
   "metadata": {},
   "source": [
    "### Заполнение оставшихся пропусков"
   ]
  },
  {
   "cell_type": "markdown",
   "metadata": {},
   "source": [
    "Теперь мы можем корректно отсортировать недвижимость по её принадлежности к населённому пункту. Заполним пропуски у оставшихся единиц недвижимости, по которым отсутствует информация о её местонахождения, словом \"Неизвестно\" в столбце location_sorted."
   ]
  },
  {
   "cell_type": "code",
   "execution_count": 14,
   "metadata": {},
   "outputs": [],
   "source": [
    "data['location_sorted'] = data['location_sorted'].fillna('Неизвестно')"
   ]
  },
  {
   "cell_type": "markdown",
   "metadata": {},
   "source": [
    "Далее напишем цикл, заменяющий пропуски в столбцах жилплощади и высоты потолков медианным значением по месту принадлежности недвижимости. В случаях, когда медиану по населённому пункту посчитать невозможно, заполним пропуск медианой по всему датафрейму. Мы используем медиану, а не среднюю арифметическую, потому что с помощью медианы можно получить более точные данные и правильнее интерпретировать статистику."
   ]
  },
  {
   "cell_type": "code",
   "execution_count": 15,
   "metadata": {
    "scrolled": true
   },
   "outputs": [],
   "source": [
    "for location in data['location_sorted'].unique():\n",
    "    # В каждой итерации цикла создаём срез по текущему населённому пункту\n",
    "    location_data = data.loc[data['location_sorted'] == location]\n",
    "    # Чтобы не повторять код, создадим функцию:\n",
    "    def fill_with_median(column):\n",
    "        # Проверяем, что данные по исследуемому параметру отсутствуют у всех зданий в анализируемом населённом пункте\n",
    "        if location_data[column].isnull().all():\n",
    "        # Если да - заменяем в data все пропуски медианой по всему датафрейму\n",
    "            data.loc[data['location_sorted'] == location, column] = data[column].median()\n",
    "        else:\n",
    "        # Если нет - заменяем в data все пропуски медианой по анализируемому населённому пункту\n",
    "            data.loc[(data['location_sorted'] == location) & (data[column].isna()), column] = \\\n",
    "            location_data[column].median()\n",
    "    # Вызовем функцию для заполнения пропуска в данных, медиана которых может зависеть от местопоожения\n",
    "    fill_with_median('ceiling_height')\n",
    "    fill_with_median('living_area')"
   ]
  },
  {
   "cell_type": "markdown",
   "metadata": {},
   "source": [
    "Посмотрим на оставшееся количество пропусков."
   ]
  },
  {
   "cell_type": "code",
   "execution_count": 16,
   "metadata": {},
   "outputs": [
    {
     "data": {
      "text/plain": [
       "total_images                0\n",
       "last_price                  0\n",
       "total_area                  0\n",
       "first_day_exposition        0\n",
       "rooms                       0\n",
       "ceiling_height              0\n",
       "floors_total                0\n",
       "living_area                 0\n",
       "floor                       0\n",
       "is_apartment            20924\n",
       "studio                      0\n",
       "open_plan                   0\n",
       "kitchen_area             2129\n",
       "balcony                     0\n",
       "locality_name              49\n",
       "airports_nearest         5542\n",
       "city_centers_nearest     5519\n",
       "parks_around3000            0\n",
       "parks_nearest           15620\n",
       "ponds_around3000            0\n",
       "ponds_nearest           14589\n",
       "days_exposition          3181\n",
       "location_sorted             0\n",
       "dtype: int64"
      ]
     },
     "execution_count": 16,
     "metadata": {},
     "output_type": "execute_result"
    }
   ],
   "source": [
    "data.isna().sum()"
   ]
  },
  {
   "cell_type": "markdown",
   "metadata": {},
   "source": [
    "Осталось заполнить пропуски в столбце \"площадь кухни\". Рассмотрим взаимосвязь общей площади квартиры, жилплощади и площади кухни. Для этого создадим срез area_values из указанных данных и добавим столбец \"areas_sum\", где будем посчитана сумма площадей кухни и жилой."
   ]
  },
  {
   "cell_type": "code",
   "execution_count": 17,
   "metadata": {
    "scrolled": false
   },
   "outputs": [
    {
     "data": {
      "text/html": [
       "<div>\n",
       "<style scoped>\n",
       "    .dataframe tbody tr th:only-of-type {\n",
       "        vertical-align: middle;\n",
       "    }\n",
       "\n",
       "    .dataframe tbody tr th {\n",
       "        vertical-align: top;\n",
       "    }\n",
       "\n",
       "    .dataframe thead th {\n",
       "        text-align: right;\n",
       "    }\n",
       "</style>\n",
       "<table border=\"1\" class=\"dataframe\">\n",
       "  <thead>\n",
       "    <tr style=\"text-align: right;\">\n",
       "      <th></th>\n",
       "      <th>kitchen_area</th>\n",
       "      <th>living_area</th>\n",
       "      <th>areas_sum</th>\n",
       "    </tr>\n",
       "    <tr>\n",
       "      <th>total_area</th>\n",
       "      <th></th>\n",
       "      <th></th>\n",
       "      <th></th>\n",
       "    </tr>\n",
       "  </thead>\n",
       "  <tbody>\n",
       "    <tr>\n",
       "      <th>14.000000</th>\n",
       "      <td>2.00</td>\n",
       "      <td>11.000</td>\n",
       "      <td>13.000</td>\n",
       "    </tr>\n",
       "    <tr>\n",
       "      <th>15.500000</th>\n",
       "      <td>0.00</td>\n",
       "      <td>10.000</td>\n",
       "      <td>10.000</td>\n",
       "    </tr>\n",
       "    <tr>\n",
       "      <th>17.000000</th>\n",
       "      <td>1.50</td>\n",
       "      <td>12.500</td>\n",
       "      <td>14.000</td>\n",
       "    </tr>\n",
       "    <tr>\n",
       "      <th>18.000000</th>\n",
       "      <td>1.50</td>\n",
       "      <td>15.480</td>\n",
       "      <td>16.980</td>\n",
       "    </tr>\n",
       "    <tr>\n",
       "      <th>18.400000</th>\n",
       "      <td>2.40</td>\n",
       "      <td>14.000</td>\n",
       "      <td>16.400</td>\n",
       "    </tr>\n",
       "    <tr>\n",
       "      <th>18.799999</th>\n",
       "      <td>0.00</td>\n",
       "      <td>15.800</td>\n",
       "      <td>15.800</td>\n",
       "    </tr>\n",
       "    <tr>\n",
       "      <th>19.000000</th>\n",
       "      <td>0.00</td>\n",
       "      <td>23.150</td>\n",
       "      <td>23.150</td>\n",
       "    </tr>\n",
       "    <tr>\n",
       "      <th>19.500000</th>\n",
       "      <td>0.00</td>\n",
       "      <td>12.700</td>\n",
       "      <td>12.700</td>\n",
       "    </tr>\n",
       "    <tr>\n",
       "      <th>20.000000</th>\n",
       "      <td>3.40</td>\n",
       "      <td>17.225</td>\n",
       "      <td>20.625</td>\n",
       "    </tr>\n",
       "    <tr>\n",
       "      <th>20.299999</th>\n",
       "      <td>4.00</td>\n",
       "      <td>16.000</td>\n",
       "      <td>20.000</td>\n",
       "    </tr>\n",
       "    <tr>\n",
       "      <th>20.500000</th>\n",
       "      <td>0.00</td>\n",
       "      <td>15.650</td>\n",
       "      <td>15.650</td>\n",
       "    </tr>\n",
       "    <tr>\n",
       "      <th>20.670000</th>\n",
       "      <td>14.95</td>\n",
       "      <td>14.900</td>\n",
       "      <td>29.850</td>\n",
       "    </tr>\n",
       "  </tbody>\n",
       "</table>\n",
       "</div>"
      ],
      "text/plain": [
       "            kitchen_area  living_area  areas_sum\n",
       "total_area                                      \n",
       "14.000000           2.00       11.000     13.000\n",
       "15.500000           0.00       10.000     10.000\n",
       "17.000000           1.50       12.500     14.000\n",
       "18.000000           1.50       15.480     16.980\n",
       "18.400000           2.40       14.000     16.400\n",
       "18.799999           0.00       15.800     15.800\n",
       "19.000000           0.00       23.150     23.150\n",
       "19.500000           0.00       12.700     12.700\n",
       "20.000000           3.40       17.225     20.625\n",
       "20.299999           4.00       16.000     20.000\n",
       "20.500000           0.00       15.650     15.650\n",
       "20.670000          14.95       14.900     29.850"
      ]
     },
     "execution_count": 17,
     "metadata": {},
     "output_type": "execute_result"
    }
   ],
   "source": [
    "area_values = data.pivot_table(index=['total_area'], values=['kitchen_area', 'living_area'])\n",
    "area_values['areas_sum'] = area_values['kitchen_area'] + area_values['living_area']\n",
    "area_values.dropna().round(3).head(12)"
   ]
  },
  {
   "cell_type": "markdown",
   "metadata": {},
   "source": [
    "Замечена квартира, у которых сумма площадей кухни и жилой больше общей. Уместно исключить её и ей подобные из датафрейма, поскольку это очевидные ошибки. Так же избавимся от квартир с жилплощадью больше, чем общая."
   ]
  },
  {
   "cell_type": "code",
   "execution_count": 18,
   "metadata": {},
   "outputs": [],
   "source": [
    "data = data.drop(data.loc[data['total_area'] < (data['kitchen_area'] + data['living_area'])].index)\n",
    "data = data.drop(data.loc[data['total_area'] < data['living_area']].index)"
   ]
  },
  {
   "cell_type": "markdown",
   "metadata": {},
   "source": [
    "Заполним пропуски в квартирах до 85 кв.м (допустим, что это наибольшая площадь 4 комнатной квартиры). Предположим, что сумма жилой и кухонной площадей равна общей площади квартиры. Следовательно, имеем формулу:\n",
    "Площадь кухни =  Площадь квартиры - Жилплощадь. "
   ]
  },
  {
   "cell_type": "code",
   "execution_count": 19,
   "metadata": {},
   "outputs": [],
   "source": [
    "data.loc[(data['total_area'] <= 85) & (data['kitchen_area'].isna()), 'kitchen_area'] = \\\n",
    "data['total_area'] - data['living_area']"
   ]
  },
  {
   "cell_type": "markdown",
   "metadata": {},
   "source": [
    "Посмотрим на оставшееся количество пропусков в площадях кухни."
   ]
  },
  {
   "cell_type": "code",
   "execution_count": 20,
   "metadata": {},
   "outputs": [
    {
     "data": {
      "text/plain": [
       "274"
      ]
     },
     "execution_count": 20,
     "metadata": {},
     "output_type": "execute_result"
    }
   ],
   "source": [
    "data['kitchen_area'].isna().sum()"
   ]
  },
  {
   "cell_type": "markdown",
   "metadata": {},
   "source": [
    "Исключим данные 274 квартиры из датафрейма, поскольку:\n",
    "- для недвижимости с большой площадью будет ошибочно заполнить пропуски выведенной выше формулой;\n",
    "- квартиры с такой большой площадью могут быть ошибкой при заполнении данных."
   ]
  },
  {
   "cell_type": "code",
   "execution_count": 21,
   "metadata": {},
   "outputs": [],
   "source": [
    "data = data.drop(data.loc[data['kitchen_area'].isna()].index)"
   ]
  },
  {
   "cell_type": "markdown",
   "metadata": {},
   "source": [
    "### Исправление аномальных значений\n",
    "\n",
    "Начнём с крайних значений цены на недвижимость."
   ]
  },
  {
   "cell_type": "code",
   "execution_count": 22,
   "metadata": {},
   "outputs": [
    {
     "data": {
      "text/plain": [
       "12190        1\n",
       "430000       2\n",
       "440000       1\n",
       "450000       4\n",
       "470000       3\n",
       "            ..\n",
       "289238400    1\n",
       "300000000    1\n",
       "330000000    1\n",
       "401300000    1\n",
       "420000000    1\n",
       "Name: last_price, Length: 2873, dtype: Int64"
      ]
     },
     "execution_count": 22,
     "metadata": {},
     "output_type": "execute_result"
    }
   ],
   "source": [
    "data['last_price'].value_counts().sort_index()"
   ]
  },
  {
   "cell_type": "markdown",
   "metadata": {},
   "source": [
    "Очевидно, 12190 - ошибочная цена для недвижимости. Уберём строку с этой квартиры из датафрейма."
   ]
  },
  {
   "cell_type": "code",
   "execution_count": 23,
   "metadata": {},
   "outputs": [],
   "source": [
    "data = data.drop(data.loc[data['last_price'] == 12190].index)"
   ]
  },
  {
   "cell_type": "markdown",
   "metadata": {},
   "source": [
    "Далее рассмотрим количества комнат."
   ]
  },
  {
   "cell_type": "code",
   "execution_count": 24,
   "metadata": {},
   "outputs": [
    {
     "data": {
      "text/plain": [
       "15     1\n",
       "16     1\n",
       "19     1\n",
       "12     1\n",
       "14     2\n",
       "11     2\n",
       "10     3\n",
       "9      7\n",
       "8      9\n",
       "7     52\n",
       "Name: rooms, dtype: int64"
      ]
     },
     "execution_count": 24,
     "metadata": {},
     "output_type": "execute_result"
    }
   ],
   "source": [
    "data['rooms'].value_counts().sort_values().head(10)"
   ]
  },
  {
   "cell_type": "markdown",
   "metadata": {},
   "source": [
    "Целесообразно исключить квартиры с количеством комнат более 8, а 0 исправить на 1. Очевидно, это какие-то ошибки, возникшие при сборе/заполнении данных в объявлении."
   ]
  },
  {
   "cell_type": "code",
   "execution_count": 25,
   "metadata": {},
   "outputs": [],
   "source": [
    "data = data.drop(data.loc[data['rooms'] >= 8].index).replace(0, 1)"
   ]
  },
  {
   "cell_type": "markdown",
   "metadata": {},
   "source": [
    "Далее рассмотрим крайние значения высоты потолков."
   ]
  },
  {
   "cell_type": "code",
   "execution_count": 26,
   "metadata": {},
   "outputs": [
    {
     "data": {
      "text/plain": [
       "1.00     1\n",
       "1.20     1\n",
       "1.75     1\n",
       "2.00    11\n",
       "2.20     1\n",
       "Name: ceiling_height, dtype: int64"
      ]
     },
     "metadata": {},
     "output_type": "display_data"
    },
    {
     "data": {
      "text/plain": [
       "10.3     1\n",
       "14.0     1\n",
       "20.0     1\n",
       "22.6     1\n",
       "24.0     1\n",
       "25.0     7\n",
       "26.0     1\n",
       "27.0     8\n",
       "32.0     2\n",
       "100.0    1\n",
       "Name: ceiling_height, dtype: int64"
      ]
     },
     "execution_count": 26,
     "metadata": {},
     "output_type": "execute_result"
    }
   ],
   "source": [
    "display(data['ceiling_height'].value_counts().sort_index().head())\n",
    "data['ceiling_height'].value_counts().sort_index().tail(10)"
   ]
  },
  {
   "cell_type": "markdown",
   "metadata": {},
   "source": [
    "Предположим, что в промежутке от 20 до 32м. опечатка, и разделим эти значения на 10. Из этих же соображений уберём из датафрейма квартиры со значениями высоты потолка меньше 2м."
   ]
  },
  {
   "cell_type": "code",
   "execution_count": 27,
   "metadata": {},
   "outputs": [],
   "source": [
    "data.loc[data['ceiling_height'] > 10, 'ceiling_height'] = data['ceiling_height'] / 10\n",
    "data = data.drop(data.loc[(data['ceiling_height'] < 2)].index)"
   ]
  },
  {
   "cell_type": "markdown",
   "metadata": {},
   "source": [
    "Следующим параметром изучим количество балконов."
   ]
  },
  {
   "cell_type": "code",
   "execution_count": 28,
   "metadata": {},
   "outputs": [
    {
     "data": {
      "text/plain": [
       "1    18998\n",
       "2     3605\n",
       "3       79\n",
       "4      180\n",
       "5      299\n",
       "Name: balcony, dtype: Int64"
      ]
     },
     "execution_count": 28,
     "metadata": {},
     "output_type": "execute_result"
    }
   ],
   "source": [
    "data['balcony'].value_counts().sort_index()"
   ]
  },
  {
   "cell_type": "markdown",
   "metadata": {},
   "source": [
    "Пять балконов в одной квартире сложно представить. Предположим, что это опечатка и заменим 5 на 4."
   ]
  },
  {
   "cell_type": "code",
   "execution_count": 29,
   "metadata": {},
   "outputs": [],
   "source": [
    "data.loc[data['balcony'] > 4, 'balcony'] = 4"
   ]
  },
  {
   "cell_type": "markdown",
   "metadata": {},
   "source": [
    "Посмотрим, какой процент исходных данных остался после удаления аномалий и ошибок:"
   ]
  },
  {
   "cell_type": "code",
   "execution_count": 30,
   "metadata": {},
   "outputs": [
    {
     "data": {
      "text/plain": [
       "97.72986201949449"
      ]
     },
     "execution_count": 30,
     "metadata": {},
     "output_type": "execute_result"
    }
   ],
   "source": [
    "data.shape[0] / original_data_shape * 100"
   ]
  },
  {
   "cell_type": "markdown",
   "metadata": {},
   "source": [
    "Наши манипуляции удалили меньше 3% данных. Выборка всё ещё адекватная."
   ]
  },
  {
   "cell_type": "markdown",
   "metadata": {},
   "source": [
    "**На этом предобработка данных закончена, можем переходить к анализу данных и созданию новых значений.**"
   ]
  },
  {
   "cell_type": "markdown",
   "metadata": {},
   "source": [
    "## Проведём анализ данных"
   ]
  },
  {
   "cell_type": "markdown",
   "metadata": {},
   "source": [
    "### Добавим в датафрейм следующие столбцы:\n",
    "- цена одного квадратного метра (_square_meter_price_);\n",
    "- количественное обозначение дня недели публикации объявления (_day_num_);\n",
    "- месяц публикации объявления (_month_num_);\n",
    "- год публикации объявления (_year_num_);\n",
    "- тип этажа квартиры (_floor_type_);\n",
    "- расстояние до центра города в километрах (_km_to_center_)."
   ]
  },
  {
   "cell_type": "code",
   "execution_count": 31,
   "metadata": {},
   "outputs": [],
   "source": [
    "data['square_meter_price'] = data['last_price'] / data['total_area']\n",
    "data['weekday_num'] = data['first_day_exposition'].dt.dayofweek\n",
    "data['month_num'] = data['first_day_exposition'].dt.month\n",
    "data['year_num'] = data['first_day_exposition'].dt.year\n",
    "\n",
    "# Создадим функцию, вычисляющую нахождение квартиры на первом, последнем, или другом этаже\n",
    "def floor_type_determiner(row):\n",
    "    if row['floor'] == row['floors_total']:\n",
    "        return 'последний'\n",
    "    elif row['floor'] == 1:\n",
    "        return 'первый'\n",
    "    else:\n",
    "        return 'другой'\n",
    "data['floor_type'] = data.apply(floor_type_determiner, axis=1)\n",
    "# \n",
    "data['km_to_center'] = ( \n",
    "    (data['city_centers_nearest']/1000)\n",
    "    .fillna(0)\n",
    "    .astype(int)\n",
    ")"
   ]
  },
  {
   "cell_type": "markdown",
   "metadata": {},
   "source": [
    "### Исследовательский анализ данных"
   ]
  },
  {
   "cell_type": "code",
   "execution_count": 32,
   "metadata": {
    "scrolled": true
   },
   "outputs": [
    {
     "data": {
      "image/png": "[encoded data removed]",
      "text/plain": [
       "<Figure size 1080x1440 with 12 Axes>"
      ]
     },
     "metadata": {
      "needs_background": "light"
     },
     "output_type": "display_data"
    }
   ],
   "source": [
    "data.hist(column=['total_area', \n",
    "                  'living_area', \n",
    "                  'kitchen_area', \n",
    "                  'last_price',\n",
    "                  'rooms', \n",
    "                  'floor',\n",
    "                  'ceiling_height', \n",
    "                  'floors_total', \n",
    "                  'city_centers_nearest',\n",
    "                  'parks_nearest',\n",
    "                  'airports_nearest', \n",
    "                 ], figsize=(15, 20), bins=30);"
   ]
  },
  {
   "cell_type": "markdown",
   "metadata": {},
   "source": [
    "Из построенных гистограм имеем выводы, что для большинства продаваемого имущества характерны следующие черты:\n",
    "- общая площадь до 100 кв.м;\n",
    "- жилплощадь до 50 кв.м;\n",
    "- площадь кухни от 2 до 10 кв.м.;\n",
    "- стоимость до 100 млн. руб.;\n",
    "- одно- и двухкомнатные;\n",
    "- с высотой потолков около 2.6 м;\n",
    "- распологается на первых пяти этажах;\n",
    "- в 5-ти и 9-ти этажных домах;\n",
    "- удалено от центра в среднем на 11-15 км;\n",
    "- находится в 500 метрах от ближайшего парка и 20-22 км от аэропорта."
   ]
  },
  {
   "cell_type": "code",
   "execution_count": 33,
   "metadata": {
    "scrolled": true
   },
   "outputs": [
    {
     "data": {
      "image/png": "[encoded data removed]",
      "text/plain": [
       "<Figure size 432x288 with 1 Axes>"
      ]
     },
     "metadata": {
      "needs_background": "light"
     },
     "output_type": "display_data"
    }
   ],
   "source": [
    "fig, ax = plt.subplots()\n",
    "ax.hist(data['floor_type'], bins = 5)\n",
    "ax.grid()\n",
    "ax.set_title('Этаж квартиры', fontsize = 20)\n",
    "ax.set_ylabel('Кол-во объявлений', fontsize = 15)\n",
    "ax.set_xlabel('Тип этажа', fontsize = 15)\n",
    "plt.show()"
   ]
  },
  {
   "cell_type": "markdown",
   "metadata": {},
   "source": [
    "Подавляющее большинство квартир на продажу не находится ни на первом, ни на последнем этаже в здании."
   ]
  },
  {
   "cell_type": "code",
   "execution_count": 34,
   "metadata": {
    "scrolled": true
   },
   "outputs": [
    {
     "data": {
      "image/png": "[encoded data removed]",
      "text/plain": [
       "<Figure size 432x288 with 1 Axes>"
      ]
     },
     "metadata": {
      "needs_background": "light"
     },
     "output_type": "display_data"
    }
   ],
   "source": [
    "fig, ax = plt.subplots()\n",
    "ax.hist(data['weekday_num'], bins = 7)\n",
    "ax.grid()\n",
    "ax.set_title('День подачи объявления', fontsize = 20)\n",
    "ax.set_ylabel('Кол-во объявлений', fontsize = 15)\n",
    "ax.set_xlabel('День недели по порядку', fontsize = 15)\n",
    "plt.show()"
   ]
  },
  {
   "cell_type": "code",
   "execution_count": 35,
   "metadata": {},
   "outputs": [
    {
     "data": {
      "image/png": "[encoded data removed]",
      "text/plain": [
       "<Figure size 432x288 with 1 Axes>"
      ]
     },
     "metadata": {
      "needs_background": "light"
     },
     "output_type": "display_data"
    }
   ],
   "source": [
    "fig, ax = plt.subplots()\n",
    "ax.hist(data['month_num'], bins = 12)\n",
    "ax.grid()\n",
    "ax.set_title('Месяц подачи объявления', fontsize = 20)\n",
    "ax.set_ylabel('Кол-во объявлений', fontsize = 15)\n",
    "ax.set_xlabel('Порядковый номер месяца', fontsize = 15)\n",
    "plt.show()"
   ]
  },
  {
   "cell_type": "markdown",
   "metadata": {},
   "source": [
    "Чаще всего квартиры выставляют на продажу в будние дни с февраля по апрель, а так же в ноябре."
   ]
  },
  {
   "cell_type": "markdown",
   "metadata": {},
   "source": [
    "### Как бысто продаются квартиры"
   ]
  },
  {
   "cell_type": "markdown",
   "metadata": {},
   "source": [
    "Изучим вопрос скорость продажи квартиры. Построим график на основании имеющихся данных в столбце \"days_exposition\"."
   ]
  },
  {
   "cell_type": "code",
   "execution_count": 36,
   "metadata": {},
   "outputs": [
    {
     "data": {
      "text/plain": [
       "<AxesSubplot:>"
      ]
     },
     "execution_count": 36,
     "metadata": {},
     "output_type": "execute_result"
    },
    {
     "data": {
      "image/png": "[encoded data removed]",
      "text/plain": [
       "<Figure size 432x288 with 1 Axes>"
      ]
     },
     "metadata": {
      "needs_background": "light"
     },
     "output_type": "display_data"
    }
   ],
   "source": [
    "data['days_exposition'].hist(bins=30)"
   ]
  },
  {
   "cell_type": "markdown",
   "metadata": {},
   "source": [
    "Более 8 тысяч квартир продались за 100 дней, и около 4 тысяч за 200. Посмотрим на среднее арифметическое и медианное значение исследуемого показателя."
   ]
  },
  {
   "cell_type": "code",
   "execution_count": 37,
   "metadata": {},
   "outputs": [
    {
     "data": {
      "text/plain": [
       "'среднее арифметическое: 180.73'"
      ]
     },
     "metadata": {},
     "output_type": "display_data"
    },
    {
     "data": {
      "text/plain": [
       "'медианное значение: 96.0'"
      ]
     },
     "execution_count": 37,
     "metadata": {},
     "output_type": "execute_result"
    }
   ],
   "source": [
    "display(f\"среднее арифметическое: {data['days_exposition'].mean().round(2)}\")\n",
    "f\"медианное значение: {data['days_exposition'].median()}\""
   ]
  },
  {
   "cell_type": "markdown",
   "metadata": {},
   "source": [
    "**Итого, недвижимость в датафрейме в среднем продалась за 97 суток.**\n",
    "\n",
    "Чтобы понять, какой срок продажи недвижимости можно назвать долгим, построим диаграмму с усами."
   ]
  },
  {
   "cell_type": "code",
   "execution_count": 38,
   "metadata": {},
   "outputs": [
    {
     "data": {
      "text/plain": [
       "<AxesSubplot:>"
      ]
     },
     "execution_count": 38,
     "metadata": {},
     "output_type": "execute_result"
    },
    {
     "data": {
      "image/png": "[encoded data removed]",
      "text/plain": [
       "<Figure size 432x288 with 1 Axes>"
      ]
     },
     "metadata": {
      "needs_background": "light"
     },
     "output_type": "display_data"
    }
   ],
   "source": [
    "data.boxplot(column='days_exposition')"
   ]
  },
  {
   "cell_type": "markdown",
   "metadata": {},
   "source": [
    "**Как видно из графика, продажу недвижимости в промежутке от 20 до 220 дней можно назвать быстрой, а 500 дней спустя - чрезвычайно долгой.**"
   ]
  },
  {
   "cell_type": "markdown",
   "metadata": {},
   "source": [
    "Рассмотрим квартиры, которые продали в диапазоне от 0 до 100 дней:"
   ]
  },
  {
   "cell_type": "code",
   "execution_count": 39,
   "metadata": {},
   "outputs": [
    {
     "data": {
      "image/png": "[encoded data removed]",
      "text/plain": [
       "<Figure size 432x288 with 1 Axes>"
      ]
     },
     "metadata": {
      "needs_background": "light"
     },
     "output_type": "display_data"
    }
   ],
   "source": [
    "fig, az = plt.subplots()\n",
    "temp = data.query('days_exposition < 100')\n",
    "temp = temp['days_exposition']\n",
    "az.hist(temp, bins = 50)\n",
    "az.grid()\n",
    "az.set_title('Квартир продано через N дней', fontsize = 15)\n",
    "az.set_ylabel('Продано квартир', fontsize = 10)\n",
    "az.set_xlabel('Дней с подачи объявления', fontsize = 10)\n",
    "plt.show()"
   ]
  },
  {
   "cell_type": "markdown",
   "metadata": {},
   "source": [
    "Обнаржуены два пика: в 44-45 и 60-61 дни. К сожалению, автор не смог придумать логического объяснения почему именно через столько дней продано так много квартир. Заместо этого он написал хокку, чтобы добрый ревьюер помог пролить свет на эту тайну."
   ]
  },
  {
   "cell_type": "markdown",
   "metadata": {},
   "source": [
    "### Факторы, имеющие наибольшее влияние на стоимость объекта"
   ]
  },
  {
   "cell_type": "markdown",
   "metadata": {},
   "source": [
    "Изучим, зависит ли цена от:\n",
    "- общей площади;\n",
    "- жилой площади;\n",
    "- площади кухни;\n",
    "- количества комнат;\n",
    "- этажа, на котором расположена квартира (первый, последний, другой);\n",
    "- даты размещения (день недели, месяц, год).\n",
    "\n",
    "Для этого построим диаграммы рассеивания и матрицы корреляций."
   ]
  },
  {
   "cell_type": "code",
   "execution_count": 40,
   "metadata": {},
   "outputs": [
    {
     "data": {
      "text/plain": [
       "<AxesSubplot:xlabel='year_num'>"
      ]
     },
     "execution_count": 40,
     "metadata": {},
     "output_type": "execute_result"
    },
    {
     "data": {
      "image/png": "[encoded data removed]",
      "text/plain": [
       "<Figure size 432x288 with 1 Axes>"
      ]
     },
     "metadata": {
      "needs_background": "light"
     },
     "output_type": "display_data"
    },
    {
     "data": {
      "image/png": "[encoded data removed]",
      "text/plain": [
       "<Figure size 432x288 with 1 Axes>"
      ]
     },
     "metadata": {
      "needs_background": "light"
     },
     "output_type": "display_data"
    },
    {
     "data": {
      "image/png": "[encoded data removed]",
      "text/plain": [
       "<Figure size 432x288 with 1 Axes>"
      ]
     },
     "metadata": {
      "needs_background": "light"
     },
     "output_type": "display_data"
    },
    {
     "data": {
      "image/png": "[encoded data removed]",
      "text/plain": [
       "<Figure size 432x288 with 1 Axes>"
      ]
     },
     "metadata": {
      "needs_background": "light"
     },
     "output_type": "display_data"
    },
    {
     "data": {
      "image/png": "[encoded data removed]",
      "text/plain": [
       "<Figure size 432x288 with 1 Axes>"
      ]
     },
     "metadata": {
      "needs_background": "light"
     },
     "output_type": "display_data"
    },
    {
     "data": {
      "image/png": "[encoded data removed]",
      "text/plain": [
       "<Figure size 432x288 with 1 Axes>"
      ]
     },
     "metadata": {
      "needs_background": "light"
     },
     "output_type": "display_data"
    },
    {
     "data": {
      "image/png": "[encoded data removed]",
      "text/plain": [
       "<Figure size 432x288 with 1 Axes>"
      ]
     },
     "metadata": {
      "needs_background": "light"
     },
     "output_type": "display_data"
    },
    {
     "data": {
      "image/png": "[encoded data removed]",
      "text/plain": [
       "<Figure size 432x288 with 1 Axes>"
      ]
     },
     "metadata": {
      "needs_background": "light"
     },
     "output_type": "display_data"
    }
   ],
   "source": [
    "data.pivot_table(index='total_area', values='last_price').reset_index().plot(x='total_area', y='last_price', kind='scatter', alpha=0.3)\n",
    "data.pivot_table(index='living_area', values='last_price').reset_index().plot(x='living_area', y='last_price', kind='scatter', alpha=0.3)\n",
    "data.pivot_table(index='kitchen_area', values='last_price').reset_index().plot(x='kitchen_area', y='last_price', kind='scatter', alpha=0.3)\n",
    "data.pivot_table(index='rooms', values='last_price').reset_index().plot(x='rooms', y='last_price', kind='bar')\n",
    "data.pivot_table(index='floor_type', values='last_price').reset_index().plot(x='floor_type', y='last_price', kind='bar')\n",
    "data.pivot_table(index='weekday_num', values='last_price').reset_index().plot(x='weekday_num', y='last_price', kind='bar')\n",
    "data.pivot_table(index='month_num', values='last_price').reset_index().plot(x='month_num', y='last_price', kind='bar')\n",
    "data.pivot_table(index='year_num', values='last_price').reset_index().plot(x='year_num', y='last_price', kind='bar')"
   ]
  },
  {
   "cell_type": "code",
   "execution_count": 41,
   "metadata": {
    "scrolled": true
   },
   "outputs": [
    {
     "data": {
      "image/png": "[encoded data removed]",
      "text/plain": [
       "<Figure size 720x180 with 4 Axes>"
      ]
     },
     "metadata": {
      "needs_background": "light"
     },
     "output_type": "display_data"
    }
   ],
   "source": [
    "sbn.pairplot(\n",
    "    data,\n",
    "    x_vars=[\"total_area\", \"living_area\", \"kitchen_area\", 'rooms'],\n",
    "    y_vars=[\"last_price\"],\n",
    ");"
   ]
  },
  {
   "cell_type": "code",
   "execution_count": 42,
   "metadata": {},
   "outputs": [
    {
     "data": {
      "image/png": "[encoded data removed]",
      "text/plain": [
       "<Figure size 720x180 with 4 Axes>"
      ]
     },
     "metadata": {
      "needs_background": "light"
     },
     "output_type": "display_data"
    }
   ],
   "source": [
    "sbn.pairplot(\n",
    "    data,\n",
    "    x_vars=['floor_type', 'weekday_num', 'month_num', 'year_num'],\n",
    "    y_vars=[\"last_price\"],\n",
    ");"
   ]
  },
  {
   "cell_type": "markdown",
   "metadata": {},
   "source": [
    "Добавим расчет корреляции для общей цены, общей площади, жилой площади, площади кухни и количества комнат:"
   ]
  },
  {
   "cell_type": "code",
   "execution_count": 43,
   "metadata": {},
   "outputs": [
    {
     "data": {
      "text/html": [
       "<div>\n",
       "<style scoped>\n",
       "    .dataframe tbody tr th:only-of-type {\n",
       "        vertical-align: middle;\n",
       "    }\n",
       "\n",
       "    .dataframe tbody tr th {\n",
       "        vertical-align: top;\n",
       "    }\n",
       "\n",
       "    .dataframe thead th {\n",
       "        text-align: right;\n",
       "    }\n",
       "</style>\n",
       "<table border=\"1\" class=\"dataframe\">\n",
       "  <thead>\n",
       "    <tr style=\"text-align: right;\">\n",
       "      <th></th>\n",
       "      <th>last_price</th>\n",
       "      <th>total_area</th>\n",
       "      <th>living_area</th>\n",
       "      <th>kitchen_area</th>\n",
       "      <th>rooms</th>\n",
       "    </tr>\n",
       "  </thead>\n",
       "  <tbody>\n",
       "    <tr>\n",
       "      <th>last_price</th>\n",
       "      <td>1.000000</td>\n",
       "      <td>0.686472</td>\n",
       "      <td>0.577546</td>\n",
       "      <td>0.393279</td>\n",
       "      <td>0.378255</td>\n",
       "    </tr>\n",
       "    <tr>\n",
       "      <th>total_area</th>\n",
       "      <td>0.686472</td>\n",
       "      <td>1.000000</td>\n",
       "      <td>0.905938</td>\n",
       "      <td>0.487960</td>\n",
       "      <td>0.755133</td>\n",
       "    </tr>\n",
       "    <tr>\n",
       "      <th>living_area</th>\n",
       "      <td>0.577546</td>\n",
       "      <td>0.905938</td>\n",
       "      <td>1.000000</td>\n",
       "      <td>0.285201</td>\n",
       "      <td>0.824601</td>\n",
       "    </tr>\n",
       "    <tr>\n",
       "      <th>kitchen_area</th>\n",
       "      <td>0.393279</td>\n",
       "      <td>0.487960</td>\n",
       "      <td>0.285201</td>\n",
       "      <td>1.000000</td>\n",
       "      <td>0.238623</td>\n",
       "    </tr>\n",
       "    <tr>\n",
       "      <th>rooms</th>\n",
       "      <td>0.378255</td>\n",
       "      <td>0.755133</td>\n",
       "      <td>0.824601</td>\n",
       "      <td>0.238623</td>\n",
       "      <td>1.000000</td>\n",
       "    </tr>\n",
       "  </tbody>\n",
       "</table>\n",
       "</div>"
      ],
      "text/plain": [
       "              last_price  total_area  living_area  kitchen_area     rooms\n",
       "last_price      1.000000    0.686472     0.577546      0.393279  0.378255\n",
       "total_area      0.686472    1.000000     0.905938      0.487960  0.755133\n",
       "living_area     0.577546    0.905938     1.000000      0.285201  0.824601\n",
       "kitchen_area    0.393279    0.487960     0.285201      1.000000  0.238623\n",
       "rooms           0.378255    0.755133     0.824601      0.238623  1.000000"
      ]
     },
     "execution_count": 43,
     "metadata": {},
     "output_type": "execute_result"
    }
   ],
   "source": [
    "data[['last_price', 'total_area', \"living_area\", \"kitchen_area\", 'rooms']].corr()"
   ]
  },
  {
   "cell_type": "markdown",
   "metadata": {},
   "source": [
    "Исходя из построенных графиков имеем следующие выводы:\n",
    "- Замечен планомерный рост цены на квартиры с:\n",
    "  1. площадью до 200 метров квадратных;\n",
    "  2. жилплощадью до 120 метров квадратных;\n",
    "  3. площадью кухни до 50 м.кв.;\n",
    "\n",
    "\n",
    "\n",
    "- доказана зависимость между количеством комнат и ростом цены;\n",
    "- квартиры на первых этажах значительно дешевле, чем на других этажах;\n",
    "- зависимости между днём и месяцем публикации объявления о продажи и стоимости недвижимости не обнаружено;\n",
    "- замечен значительный спад цен с 2014 до 2018 года.\n",
    "- больше всего (на 68,6%) на цену квартиры влияет общая площадь. Меньше всего (на 37,8%) - количество комнат.\n",
    "\n",
    "\n",
    "Выведем с помощью графика среднюю цену одного квадратного метра в 10 населённых пунктах с наибольшим числом объявлений. "
   ]
  },
  {
   "cell_type": "code",
   "execution_count": 44,
   "metadata": {
    "scrolled": true
   },
   "outputs": [
    {
     "data": {
      "image/png": "[encoded data removed]",
      "text/plain": [
       "<Figure size 432x288 with 1 Axes>"
      ]
     },
     "metadata": {
      "needs_background": "light"
     },
     "output_type": "display_data"
    }
   ],
   "source": [
    "(data\n",
    "    .query('location_sorted in @data[\"location_sorted\"].value_counts().head(10).index')\n",
    "    .pivot_table(index='location_sorted', values='square_meter_price', aggfunc='mean')\n",
    "    .sort_values(by='square_meter_price', ascending=False)\n",
    "    .plot(kind='bar')\n",
    ");"
   ]
  },
  {
   "cell_type": "markdown",
   "metadata": {},
   "source": [
    "Итого, наибольшая медианная цена за кв.м. из выбраных городов присуща Санкт-Петербургу (114126 руб.), а наименьшая Выборгу - (57810 руб.)\n",
    "\n",
    "Опишем с помощью графику зависимость цены от удалённости квартиры от центра в Санкт-Питербурге."
   ]
  },
  {
   "cell_type": "code",
   "execution_count": 45,
   "metadata": {
    "scrolled": false
   },
   "outputs": [
    {
     "data": {
      "text/plain": [
       "<AxesSubplot:xlabel='km_to_center'>"
      ]
     },
     "execution_count": 45,
     "metadata": {},
     "output_type": "execute_result"
    },
    {
     "data": {
      "image/png": "[encoded data removed]",
      "text/plain": [
       "<Figure size 1080x360 with 1 Axes>"
      ]
     },
     "metadata": {
      "needs_background": "light"
     },
     "output_type": "display_data"
    }
   ],
   "source": [
    "(data\n",
    " .query('location_sorted == \"Санкт-Петербург\"')\n",
    " .pivot_table(index='km_to_center', values='last_price')\n",
    " .plot(figsize=(15, 5), grid=True)\n",
    ")"
   ]
  },
  {
   "cell_type": "markdown",
   "metadata": {},
   "source": [
    "Выявлен спад на стоимость квартиры при удалении от центра с двумя аномальными скачками: на 5 и 27 км от центра. Это может быть связано с близостью к главным веткам метро, или обилием популярных мест в этой протяжённости."
   ]
  },
  {
   "cell_type": "markdown",
   "metadata": {},
   "source": [
    "## Общий вывод"
   ]
  },
  {
   "cell_type": "markdown",
   "metadata": {},
   "source": [
    "С целью определния факторов, влияющих на цену квартиры, были проаналзированы следующие факторы:\n",
    "  - общая площадь;\n",
    "  - жилая площадь;\n",
    "  - площадь кухни;\n",
    "  - цена объекта;\n",
    "  - количество комнат;\n",
    "  - высота потолков;\n",
    "  - этаж квартиры;\n",
    "  - тип этажа квартиры («первый», «последний», «другой»);\n",
    "  - общее количество этажей в доме;\n",
    "  - расстояние до центра города в метрах;\n",
    "  - расстояние до ближайшего аэропорта;\n",
    "  - расстояние до ближайшего парка;\n",
    "  - день и месяц публикации объявления.\n",
    "  \n",
    "На этапе предобработки данные были переведены в правильный формат, пропуски заполнены наиболее подходящими значениями, а аномальные значения вычислины и удалены для избежания ошибок в дальнейшем анализе. Всего удалено менее 3% от изначальной выборки. Далее мы расчитали расстояние от центра города до продаваемой недвижимости в километрах, и все квартиры сгруппировали по этажу, на котором она находится: \"первый\", \"последний\" и \"другой\".\n",
    "\n",
    "На основании наиболее значимых показателей построены гистограмы, и получены выводы:\n",
    "- Большинству квартир присущи следующие черты:\n",
    "    - общая площадь до 100 кв.м;\n",
    "    - жилплощадь до 50 кв.м;\n",
    "    - площадь кухни от 2 до 10 кв.м.;\n",
    "    - стоимость до 100 млн. руб.;\n",
    "    - одно- или двухкомнатные;\n",
    "    - высота потолков около 2.6 м;\n",
    "    - распологается на первых пяти этажах;\n",
    "    - в 5-ти и 9-ти этажных домах;\n",
    "    - удалены от центра в среднем на 11-15 км;\n",
    "    - находятся в 500 метрах от ближайшего парка и 20-22 км от аэропорта.\n",
    "\n",
    "\n",
    "- Замечен планомерный рост цены на квартиры с:\n",
    "    - площадью до 200 метров квадратных;\n",
    "    - жилплощадью до 120 метров квадратных;\n",
    "    - площадью кухни в до 50 м.кв.;\n",
    "\n",
    "- Продажу недвижимости в промежутке от 20 до 220 дней можно назвать быстрой, а 500 дней спустя - чрезвычайно долгой. В среднем квартиру покупают за 97 суток;\n",
    "- За первые 100 дней продажи квартиры чаще всего покупают в 44-45 и 60-61 дни;\n",
    "- Доказана зависимость между количеством комнат и ростом цены;\n",
    "- Квартиры на первых этажах значительно дешевле, чем на других этажах;\n",
    "- Зависимости между днём и месяцем публикации объявления о продажи и стоимости недвижимости не обнаружено;\n",
    "- Замечен значительный спад цен с 2014 до 2018 года;\n",
    "- Больше всего (на 68,6%) на цену квартиры влияет общая площадь. Меньше всего (на 37,8%) - количество комнат;\n",
    "- Наибольшая медианная цена за квадратный метр из десяти самых популярных для продажи недвижимости городов присуща Санкт-Петербургу (114126 руб.), а наименьшая Выборгу - 57810 руб."
   ]
  }
 ],
 "metadata": {
  "ExecuteTimeLog": [
   {
    "duration": 656,
    "start_time": "2022-12-31T08:54:01.171Z"
   },
   {
    "duration": 11,
    "start_time": "2022-12-31T08:55:48.287Z"
   },
   {
    "duration": 9,
    "start_time": "2022-12-31T08:56:00.778Z"
   },
   {
    "duration": 14,
    "start_time": "2022-12-31T08:56:19.389Z"
   },
   {
    "duration": 1335,
    "start_time": "2022-12-31T08:56:59.258Z"
   },
   {
    "duration": 855,
    "start_time": "2022-12-31T08:58:02.131Z"
   },
   {
    "duration": 870,
    "start_time": "2022-12-31T08:59:42.338Z"
   },
   {
    "duration": 17,
    "start_time": "2022-12-31T08:59:51.821Z"
   },
   {
    "duration": 965,
    "start_time": "2022-12-31T09:00:03.250Z"
   },
   {
    "duration": 283,
    "start_time": "2022-12-31T09:01:12.032Z"
   },
   {
    "duration": 7,
    "start_time": "2022-12-31T09:01:14.391Z"
   },
   {
    "duration": 45,
    "start_time": "2022-12-31T09:02:02.436Z"
   },
   {
    "duration": 47,
    "start_time": "2022-12-31T09:02:52.895Z"
   },
   {
    "duration": 82,
    "start_time": "2022-12-31T09:03:21.271Z"
   },
   {
    "duration": 7,
    "start_time": "2022-12-31T09:03:23.564Z"
   },
   {
    "duration": 94,
    "start_time": "2022-12-31T09:03:28.982Z"
   },
   {
    "duration": 8,
    "start_time": "2022-12-31T09:03:30.629Z"
   },
   {
    "duration": 77,
    "start_time": "2022-12-31T09:09:42.947Z"
   },
   {
    "duration": 7,
    "start_time": "2022-12-31T09:09:45.510Z"
   },
   {
    "duration": 8,
    "start_time": "2022-12-31T09:09:49.751Z"
   },
   {
    "duration": 7,
    "start_time": "2022-12-31T09:09:57.700Z"
   },
   {
    "duration": 83,
    "start_time": "2022-12-31T09:10:01.964Z"
   },
   {
    "duration": 75,
    "start_time": "2022-12-31T09:14:52.063Z"
   },
   {
    "duration": 7,
    "start_time": "2022-12-31T09:14:54.948Z"
   },
   {
    "duration": 373,
    "start_time": "2022-12-31T09:15:03.963Z"
   },
   {
    "duration": 78,
    "start_time": "2022-12-31T09:16:11.819Z"
   },
   {
    "duration": 7,
    "start_time": "2022-12-31T09:16:14.731Z"
   },
   {
    "duration": 429,
    "start_time": "2022-12-31T09:16:20.958Z"
   },
   {
    "duration": 13,
    "start_time": "2022-12-31T09:16:21.389Z"
   },
   {
    "duration": 224,
    "start_time": "2022-12-31T09:16:21.403Z"
   },
   {
    "duration": 92,
    "start_time": "2022-12-31T09:16:42.929Z"
   },
   {
    "duration": 39,
    "start_time": "2022-12-31T09:16:44.992Z"
   },
   {
    "duration": 83,
    "start_time": "2022-12-31T09:17:13.899Z"
   },
   {
    "duration": 36,
    "start_time": "2022-12-31T09:17:15.777Z"
   },
   {
    "duration": 2199,
    "start_time": "2022-12-31T09:18:23.500Z"
   },
   {
    "duration": 13,
    "start_time": "2022-12-31T09:23:43.695Z"
   },
   {
    "duration": 15,
    "start_time": "2022-12-31T09:23:47.708Z"
   },
   {
    "duration": 11,
    "start_time": "2022-12-31T09:29:35.303Z"
   },
   {
    "duration": 67,
    "start_time": "2022-12-31T09:30:20.908Z"
   },
   {
    "duration": 45,
    "start_time": "2022-12-31T09:30:23.223Z"
   },
   {
    "duration": 9,
    "start_time": "2022-12-31T10:59:32.682Z"
   },
   {
    "duration": 6,
    "start_time": "2022-12-31T11:01:03.230Z"
   },
   {
    "duration": 60,
    "start_time": "2022-12-31T11:01:42.541Z"
   },
   {
    "duration": 16,
    "start_time": "2022-12-31T11:01:49.641Z"
   },
   {
    "duration": 16,
    "start_time": "2022-12-31T11:02:09.044Z"
   },
   {
    "duration": 13,
    "start_time": "2022-12-31T11:02:58.988Z"
   },
   {
    "duration": 6,
    "start_time": "2022-12-31T11:05:50.179Z"
   },
   {
    "duration": 53,
    "start_time": "2022-12-31T11:27:50.470Z"
   },
   {
    "duration": 20,
    "start_time": "2022-12-31T11:30:52.995Z"
   },
   {
    "duration": 6,
    "start_time": "2022-12-31T11:32:34.773Z"
   },
   {
    "duration": 8,
    "start_time": "2022-12-31T11:32:59.723Z"
   },
   {
    "duration": 13,
    "start_time": "2022-12-31T11:33:08.210Z"
   },
   {
    "duration": 9,
    "start_time": "2022-12-31T11:38:53.499Z"
   },
   {
    "duration": 7,
    "start_time": "2022-12-31T11:38:59.568Z"
   },
   {
    "duration": 8,
    "start_time": "2022-12-31T11:44:13.051Z"
   },
   {
    "duration": 8,
    "start_time": "2022-12-31T11:45:34.574Z"
   },
   {
    "duration": 5,
    "start_time": "2022-12-31T11:52:17.147Z"
   },
   {
    "duration": 13,
    "start_time": "2022-12-31T11:55:48.162Z"
   },
   {
    "duration": 7,
    "start_time": "2022-12-31T11:55:51.094Z"
   },
   {
    "duration": 20,
    "start_time": "2022-12-31T11:56:02.295Z"
   },
   {
    "duration": 20,
    "start_time": "2022-12-31T11:56:19.362Z"
   },
   {
    "duration": 14,
    "start_time": "2022-12-31T11:59:30.718Z"
   },
   {
    "duration": 23,
    "start_time": "2022-12-31T11:59:36.033Z"
   },
   {
    "duration": 13,
    "start_time": "2022-12-31T11:59:52.408Z"
   },
   {
    "duration": 8,
    "start_time": "2022-12-31T12:00:09.384Z"
   },
   {
    "duration": 9,
    "start_time": "2022-12-31T12:00:16.808Z"
   },
   {
    "duration": 9,
    "start_time": "2022-12-31T12:00:24.855Z"
   },
   {
    "duration": 10,
    "start_time": "2022-12-31T12:00:35.596Z"
   },
   {
    "duration": 10,
    "start_time": "2022-12-31T12:00:50.264Z"
   },
   {
    "duration": 23,
    "start_time": "2022-12-31T12:01:22.260Z"
   },
   {
    "duration": 7,
    "start_time": "2022-12-31T12:02:20.191Z"
   },
   {
    "duration": 13,
    "start_time": "2022-12-31T12:02:31.126Z"
   },
   {
    "duration": 7,
    "start_time": "2022-12-31T12:02:48.269Z"
   },
   {
    "duration": 23,
    "start_time": "2022-12-31T12:02:51.678Z"
   },
   {
    "duration": 13,
    "start_time": "2022-12-31T12:03:01.264Z"
   },
   {
    "duration": 13,
    "start_time": "2022-12-31T12:03:05.397Z"
   },
   {
    "duration": 13,
    "start_time": "2022-12-31T12:03:11.232Z"
   },
   {
    "duration": 14,
    "start_time": "2022-12-31T12:03:34.869Z"
   },
   {
    "duration": 23,
    "start_time": "2022-12-31T12:03:48.642Z"
   },
   {
    "duration": 15,
    "start_time": "2022-12-31T12:04:19.346Z"
   },
   {
    "duration": 10,
    "start_time": "2022-12-31T12:04:37.398Z"
   },
   {
    "duration": 28,
    "start_time": "2022-12-31T12:04:52.299Z"
   },
   {
    "duration": 9,
    "start_time": "2022-12-31T12:04:59.552Z"
   },
   {
    "duration": 6,
    "start_time": "2022-12-31T12:05:10.328Z"
   },
   {
    "duration": 11,
    "start_time": "2022-12-31T12:05:34.927Z"
   },
   {
    "duration": 7,
    "start_time": "2022-12-31T12:05:38.542Z"
   },
   {
    "duration": 5,
    "start_time": "2022-12-31T12:05:48.197Z"
   },
   {
    "duration": 31,
    "start_time": "2022-12-31T12:06:17.464Z"
   },
   {
    "duration": 41,
    "start_time": "2022-12-31T12:06:20.384Z"
   },
   {
    "duration": 20,
    "start_time": "2022-12-31T12:06:39.708Z"
   },
   {
    "duration": 12,
    "start_time": "2022-12-31T12:06:49.865Z"
   },
   {
    "duration": 12,
    "start_time": "2022-12-31T12:07:06.828Z"
   },
   {
    "duration": 5,
    "start_time": "2022-12-31T12:07:14.756Z"
   },
   {
    "duration": 6,
    "start_time": "2022-12-31T12:08:01.281Z"
   },
   {
    "duration": 5,
    "start_time": "2022-12-31T12:08:11.673Z"
   },
   {
    "duration": 6,
    "start_time": "2022-12-31T12:08:14.467Z"
   },
   {
    "duration": 6,
    "start_time": "2022-12-31T12:08:20.866Z"
   },
   {
    "duration": 8,
    "start_time": "2022-12-31T12:08:25.911Z"
   },
   {
    "duration": 19,
    "start_time": "2022-12-31T12:09:01.822Z"
   },
   {
    "duration": 9,
    "start_time": "2022-12-31T12:09:28.348Z"
   },
   {
    "duration": 6,
    "start_time": "2022-12-31T12:09:31.452Z"
   },
   {
    "duration": 8,
    "start_time": "2022-12-31T12:09:39.470Z"
   },
   {
    "duration": 7,
    "start_time": "2022-12-31T12:09:44.561Z"
   },
   {
    "duration": 513,
    "start_time": "2022-12-31T12:09:50.000Z"
   },
   {
    "duration": 19,
    "start_time": "2022-12-31T12:09:50.515Z"
   },
   {
    "duration": 51,
    "start_time": "2022-12-31T12:09:50.535Z"
   },
   {
    "duration": 2288,
    "start_time": "2022-12-31T12:09:50.588Z"
   },
   {
    "duration": 10,
    "start_time": "2022-12-31T12:09:52.877Z"
   },
   {
    "duration": 8,
    "start_time": "2022-12-31T12:09:52.888Z"
   },
   {
    "duration": 8,
    "start_time": "2022-12-31T12:09:52.898Z"
   },
   {
    "duration": 39,
    "start_time": "2022-12-31T12:09:52.908Z"
   },
   {
    "duration": 15,
    "start_time": "2022-12-31T12:10:13.641Z"
   },
   {
    "duration": 68,
    "start_time": "2022-12-31T12:10:30.329Z"
   },
   {
    "duration": 6,
    "start_time": "2022-12-31T12:10:35.467Z"
   },
   {
    "duration": 7,
    "start_time": "2022-12-31T12:10:42.828Z"
   },
   {
    "duration": 8,
    "start_time": "2022-12-31T12:11:13.232Z"
   },
   {
    "duration": 32,
    "start_time": "2022-12-31T12:11:16.594Z"
   },
   {
    "duration": 10,
    "start_time": "2022-12-31T12:11:25.865Z"
   },
   {
    "duration": 9,
    "start_time": "2022-12-31T12:11:45.178Z"
   },
   {
    "duration": 6,
    "start_time": "2022-12-31T12:11:55.429Z"
   },
   {
    "duration": 488,
    "start_time": "2022-12-31T12:12:03.521Z"
   },
   {
    "duration": 29,
    "start_time": "2022-12-31T12:12:04.011Z"
   },
   {
    "duration": 63,
    "start_time": "2022-12-31T12:12:04.043Z"
   },
   {
    "duration": 2447,
    "start_time": "2022-12-31T12:12:04.108Z"
   },
   {
    "duration": 12,
    "start_time": "2022-12-31T12:12:06.558Z"
   },
   {
    "duration": 25,
    "start_time": "2022-12-31T12:12:06.572Z"
   },
   {
    "duration": 33,
    "start_time": "2022-12-31T12:12:06.599Z"
   },
   {
    "duration": 49,
    "start_time": "2022-12-31T12:12:06.637Z"
   },
   {
    "duration": 10,
    "start_time": "2022-12-31T12:12:29.550Z"
   },
   {
    "duration": 12,
    "start_time": "2022-12-31T12:13:04.132Z"
   },
   {
    "duration": 15,
    "start_time": "2022-12-31T12:13:31.429Z"
   },
   {
    "duration": 81,
    "start_time": "2022-12-31T12:13:38.278Z"
   },
   {
    "duration": 48,
    "start_time": "2022-12-31T12:14:21.411Z"
   },
   {
    "duration": 98,
    "start_time": "2022-12-31T12:25:59.859Z"
   },
   {
    "duration": 8,
    "start_time": "2022-12-31T12:26:05.191Z"
   },
   {
    "duration": 7,
    "start_time": "2022-12-31T12:26:20.840Z"
   },
   {
    "duration": 11,
    "start_time": "2022-12-31T12:26:26.097Z"
   },
   {
    "duration": 11,
    "start_time": "2022-12-31T12:26:34.991Z"
   },
   {
    "duration": 7,
    "start_time": "2022-12-31T12:26:52.740Z"
   },
   {
    "duration": 10,
    "start_time": "2022-12-31T12:28:19.896Z"
   },
   {
    "duration": 7,
    "start_time": "2022-12-31T12:28:27.569Z"
   },
   {
    "duration": 8,
    "start_time": "2022-12-31T12:29:27.870Z"
   },
   {
    "duration": 40,
    "start_time": "2022-12-31T12:29:50.209Z"
   },
   {
    "duration": 23,
    "start_time": "2022-12-31T12:31:12.232Z"
   },
   {
    "duration": 17,
    "start_time": "2022-12-31T12:32:38.373Z"
   },
   {
    "duration": 29,
    "start_time": "2022-12-31T12:32:46.105Z"
   },
   {
    "duration": 18,
    "start_time": "2022-12-31T12:32:58.514Z"
   },
   {
    "duration": 19,
    "start_time": "2022-12-31T12:34:14.368Z"
   },
   {
    "duration": 29,
    "start_time": "2022-12-31T12:34:25.112Z"
   },
   {
    "duration": 20,
    "start_time": "2022-12-31T12:34:43.380Z"
   },
   {
    "duration": 21,
    "start_time": "2022-12-31T12:35:06.698Z"
   },
   {
    "duration": 12,
    "start_time": "2022-12-31T12:37:15.192Z"
   },
   {
    "duration": 31,
    "start_time": "2022-12-31T12:38:16.692Z"
   },
   {
    "duration": 46,
    "start_time": "2022-12-31T12:39:16.401Z"
   },
   {
    "duration": 5,
    "start_time": "2022-12-31T12:45:07.874Z"
   },
   {
    "duration": 14,
    "start_time": "2022-12-31T12:48:43.536Z"
   },
   {
    "duration": 12,
    "start_time": "2022-12-31T12:50:18.007Z"
   },
   {
    "duration": 8,
    "start_time": "2022-12-31T12:56:46.423Z"
   },
   {
    "duration": 15,
    "start_time": "2022-12-31T12:56:56.527Z"
   },
   {
    "duration": 18,
    "start_time": "2022-12-31T13:07:04.833Z"
   },
   {
    "duration": 9,
    "start_time": "2022-12-31T13:07:46.632Z"
   },
   {
    "duration": 5,
    "start_time": "2022-12-31T13:07:57.533Z"
   },
   {
    "duration": 487,
    "start_time": "2022-12-31T13:08:12.916Z"
   },
   {
    "duration": 26,
    "start_time": "2022-12-31T13:08:13.406Z"
   },
   {
    "duration": 32,
    "start_time": "2022-12-31T13:08:13.433Z"
   },
   {
    "duration": 2086,
    "start_time": "2022-12-31T13:08:13.466Z"
   },
   {
    "duration": 10,
    "start_time": "2022-12-31T13:08:15.554Z"
   },
   {
    "duration": 14,
    "start_time": "2022-12-31T13:08:15.565Z"
   },
   {
    "duration": 9,
    "start_time": "2022-12-31T13:08:15.580Z"
   },
   {
    "duration": 5,
    "start_time": "2022-12-31T13:08:15.591Z"
   },
   {
    "duration": 21,
    "start_time": "2022-12-31T13:08:40.008Z"
   },
   {
    "duration": 50,
    "start_time": "2022-12-31T13:09:07.026Z"
   },
   {
    "duration": 41,
    "start_time": "2022-12-31T13:10:36.754Z"
   },
   {
    "duration": 45,
    "start_time": "2022-12-31T13:10:48.741Z"
   },
   {
    "duration": 110,
    "start_time": "2022-12-31T13:11:09.133Z"
   },
   {
    "duration": 23,
    "start_time": "2022-12-31T13:11:23.424Z"
   },
   {
    "duration": 17,
    "start_time": "2022-12-31T13:12:08.586Z"
   },
   {
    "duration": 21,
    "start_time": "2022-12-31T13:12:25.807Z"
   },
   {
    "duration": 12,
    "start_time": "2022-12-31T13:12:43.580Z"
   },
   {
    "duration": 10,
    "start_time": "2022-12-31T13:12:52.855Z"
   },
   {
    "duration": 19,
    "start_time": "2022-12-31T13:13:01.513Z"
   },
   {
    "duration": 14,
    "start_time": "2022-12-31T13:13:12.676Z"
   },
   {
    "duration": 11,
    "start_time": "2022-12-31T13:13:56.388Z"
   },
   {
    "duration": 486,
    "start_time": "2022-12-31T13:14:15.143Z"
   },
   {
    "duration": 17,
    "start_time": "2022-12-31T13:14:15.634Z"
   },
   {
    "duration": 35,
    "start_time": "2022-12-31T13:14:15.653Z"
   },
   {
    "duration": 2283,
    "start_time": "2022-12-31T13:14:15.691Z"
   },
   {
    "duration": 9,
    "start_time": "2022-12-31T13:14:17.976Z"
   },
   {
    "duration": 6,
    "start_time": "2022-12-31T13:14:17.987Z"
   },
   {
    "duration": 5,
    "start_time": "2022-12-31T13:14:17.995Z"
   },
   {
    "duration": 14,
    "start_time": "2022-12-31T13:14:18.002Z"
   },
   {
    "duration": 107,
    "start_time": "2022-12-31T13:14:18.023Z"
   },
   {
    "duration": 28,
    "start_time": "2022-12-31T13:14:45.852Z"
   },
   {
    "duration": 16,
    "start_time": "2022-12-31T13:15:40.084Z"
   },
   {
    "duration": 465,
    "start_time": "2022-12-31T13:16:01.242Z"
   },
   {
    "duration": 20,
    "start_time": "2022-12-31T13:16:01.709Z"
   },
   {
    "duration": 44,
    "start_time": "2022-12-31T13:16:01.731Z"
   },
   {
    "duration": 2210,
    "start_time": "2022-12-31T13:16:01.777Z"
   },
   {
    "duration": 9,
    "start_time": "2022-12-31T13:16:03.989Z"
   },
   {
    "duration": 6,
    "start_time": "2022-12-31T13:16:04.000Z"
   },
   {
    "duration": 14,
    "start_time": "2022-12-31T13:16:04.008Z"
   },
   {
    "duration": 13,
    "start_time": "2022-12-31T13:16:04.023Z"
   },
   {
    "duration": 72,
    "start_time": "2022-12-31T13:16:04.037Z"
   },
   {
    "duration": 31,
    "start_time": "2022-12-31T13:16:54.290Z"
   },
   {
    "duration": 453,
    "start_time": "2022-12-31T13:17:11.177Z"
   },
   {
    "duration": 15,
    "start_time": "2022-12-31T13:17:11.632Z"
   },
   {
    "duration": 35,
    "start_time": "2022-12-31T13:17:11.648Z"
   },
   {
    "duration": 2190,
    "start_time": "2022-12-31T13:17:11.686Z"
   },
   {
    "duration": 10,
    "start_time": "2022-12-31T13:17:13.877Z"
   },
   {
    "duration": 6,
    "start_time": "2022-12-31T13:17:13.889Z"
   },
   {
    "duration": 6,
    "start_time": "2022-12-31T13:17:13.896Z"
   },
   {
    "duration": 6,
    "start_time": "2022-12-31T13:17:13.916Z"
   },
   {
    "duration": 24,
    "start_time": "2022-12-31T13:17:13.928Z"
   },
   {
    "duration": 9,
    "start_time": "2022-12-31T13:17:16.633Z"
   },
   {
    "duration": 82,
    "start_time": "2022-12-31T13:17:46.782Z"
   },
   {
    "duration": 14,
    "start_time": "2022-12-31T13:18:01.924Z"
   },
   {
    "duration": 475,
    "start_time": "2022-12-31T13:18:11.082Z"
   },
   {
    "duration": 15,
    "start_time": "2022-12-31T13:18:11.560Z"
   },
   {
    "duration": 49,
    "start_time": "2022-12-31T13:18:11.577Z"
   },
   {
    "duration": 2232,
    "start_time": "2022-12-31T13:18:11.628Z"
   },
   {
    "duration": 9,
    "start_time": "2022-12-31T13:18:13.861Z"
   },
   {
    "duration": 7,
    "start_time": "2022-12-31T13:18:13.871Z"
   },
   {
    "duration": 10,
    "start_time": "2022-12-31T13:18:13.879Z"
   },
   {
    "duration": 8,
    "start_time": "2022-12-31T13:18:13.891Z"
   },
   {
    "duration": 29,
    "start_time": "2022-12-31T13:18:13.901Z"
   },
   {
    "duration": 5,
    "start_time": "2022-12-31T13:18:13.932Z"
   },
   {
    "duration": 90,
    "start_time": "2022-12-31T13:19:07.540Z"
   },
   {
    "duration": 486,
    "start_time": "2022-12-31T13:19:13.605Z"
   },
   {
    "duration": 15,
    "start_time": "2022-12-31T13:19:14.092Z"
   },
   {
    "duration": 58,
    "start_time": "2022-12-31T13:19:14.108Z"
   },
   {
    "duration": 2227,
    "start_time": "2022-12-31T13:19:14.169Z"
   },
   {
    "duration": 14,
    "start_time": "2022-12-31T13:19:16.399Z"
   },
   {
    "duration": 16,
    "start_time": "2022-12-31T13:19:16.419Z"
   },
   {
    "duration": 29,
    "start_time": "2022-12-31T13:19:16.438Z"
   },
   {
    "duration": 14,
    "start_time": "2022-12-31T13:19:16.470Z"
   },
   {
    "duration": 49,
    "start_time": "2022-12-31T13:19:16.486Z"
   },
   {
    "duration": 25,
    "start_time": "2022-12-31T13:33:30.901Z"
   },
   {
    "duration": 7,
    "start_time": "2022-12-31T13:33:36.454Z"
   },
   {
    "duration": 6,
    "start_time": "2022-12-31T13:33:53.565Z"
   },
   {
    "duration": 15,
    "start_time": "2022-12-31T13:37:39.274Z"
   },
   {
    "duration": 93,
    "start_time": "2022-12-31T13:39:50.035Z"
   },
   {
    "duration": 15,
    "start_time": "2022-12-31T13:40:46.656Z"
   },
   {
    "duration": 6,
    "start_time": "2022-12-31T13:40:49.463Z"
   },
   {
    "duration": 14,
    "start_time": "2022-12-31T13:41:12.447Z"
   },
   {
    "duration": 9,
    "start_time": "2022-12-31T13:41:19.553Z"
   },
   {
    "duration": 494,
    "start_time": "2022-12-31T13:41:32.911Z"
   },
   {
    "duration": 22,
    "start_time": "2022-12-31T13:41:33.407Z"
   },
   {
    "duration": 42,
    "start_time": "2022-12-31T13:41:33.435Z"
   },
   {
    "duration": 2255,
    "start_time": "2022-12-31T13:41:33.480Z"
   },
   {
    "duration": 9,
    "start_time": "2022-12-31T13:41:35.737Z"
   },
   {
    "duration": 5,
    "start_time": "2022-12-31T13:41:35.748Z"
   },
   {
    "duration": 5,
    "start_time": "2022-12-31T13:41:35.755Z"
   },
   {
    "duration": 11,
    "start_time": "2022-12-31T13:41:35.762Z"
   },
   {
    "duration": 25,
    "start_time": "2022-12-31T13:41:35.774Z"
   },
   {
    "duration": 27,
    "start_time": "2022-12-31T13:41:35.802Z"
   },
   {
    "duration": 9,
    "start_time": "2022-12-31T13:41:35.831Z"
   },
   {
    "duration": 11,
    "start_time": "2022-12-31T13:42:43.081Z"
   },
   {
    "duration": 6,
    "start_time": "2022-12-31T13:42:45.504Z"
   },
   {
    "duration": 13,
    "start_time": "2022-12-31T13:43:24.373Z"
   },
   {
    "duration": 6,
    "start_time": "2022-12-31T13:43:28.491Z"
   },
   {
    "duration": 14,
    "start_time": "2022-12-31T13:43:39.745Z"
   },
   {
    "duration": 6,
    "start_time": "2022-12-31T13:43:42.496Z"
   },
   {
    "duration": 7,
    "start_time": "2022-12-31T13:43:52.047Z"
   },
   {
    "duration": 6,
    "start_time": "2022-12-31T13:43:53.825Z"
   },
   {
    "duration": 13,
    "start_time": "2022-12-31T13:44:08.769Z"
   },
   {
    "duration": 6,
    "start_time": "2022-12-31T13:44:11.449Z"
   },
   {
    "duration": 16,
    "start_time": "2022-12-31T13:45:35.791Z"
   },
   {
    "duration": 8,
    "start_time": "2022-12-31T13:45:37.809Z"
   },
   {
    "duration": 13,
    "start_time": "2022-12-31T13:45:46.128Z"
   },
   {
    "duration": 6,
    "start_time": "2022-12-31T13:45:48.400Z"
   },
   {
    "duration": 13,
    "start_time": "2022-12-31T13:46:14.476Z"
   },
   {
    "duration": 14,
    "start_time": "2022-12-31T13:46:17.780Z"
   },
   {
    "duration": 11,
    "start_time": "2022-12-31T13:46:24.476Z"
   },
   {
    "duration": 7,
    "start_time": "2022-12-31T13:46:25.964Z"
   },
   {
    "duration": 12,
    "start_time": "2022-12-31T13:46:37.534Z"
   },
   {
    "duration": 7,
    "start_time": "2022-12-31T13:46:39.255Z"
   },
   {
    "duration": 12,
    "start_time": "2022-12-31T13:46:47.462Z"
   },
   {
    "duration": 7,
    "start_time": "2022-12-31T13:46:49.030Z"
   },
   {
    "duration": 491,
    "start_time": "2022-12-31T13:47:55.135Z"
   },
   {
    "duration": 16,
    "start_time": "2022-12-31T13:47:55.628Z"
   },
   {
    "duration": 35,
    "start_time": "2022-12-31T13:47:55.645Z"
   },
   {
    "duration": 2242,
    "start_time": "2022-12-31T13:47:55.682Z"
   },
   {
    "duration": 10,
    "start_time": "2022-12-31T13:47:57.926Z"
   },
   {
    "duration": 7,
    "start_time": "2022-12-31T13:47:57.938Z"
   },
   {
    "duration": 7,
    "start_time": "2022-12-31T13:47:57.947Z"
   },
   {
    "duration": 11,
    "start_time": "2022-12-31T13:47:57.955Z"
   },
   {
    "duration": 96,
    "start_time": "2022-12-31T13:47:57.968Z"
   },
   {
    "duration": 0,
    "start_time": "2022-12-31T13:47:58.066Z"
   },
   {
    "duration": 0,
    "start_time": "2022-12-31T13:47:58.068Z"
   },
   {
    "duration": 434,
    "start_time": "2022-12-31T13:48:23.469Z"
   },
   {
    "duration": 22,
    "start_time": "2022-12-31T13:48:23.905Z"
   },
   {
    "duration": 37,
    "start_time": "2022-12-31T13:48:23.928Z"
   },
   {
    "duration": 2204,
    "start_time": "2022-12-31T13:48:23.967Z"
   },
   {
    "duration": 13,
    "start_time": "2022-12-31T13:48:26.173Z"
   },
   {
    "duration": 17,
    "start_time": "2022-12-31T13:48:26.187Z"
   },
   {
    "duration": 37,
    "start_time": "2022-12-31T13:48:26.206Z"
   },
   {
    "duration": 9,
    "start_time": "2022-12-31T13:48:26.245Z"
   },
   {
    "duration": 27,
    "start_time": "2022-12-31T13:48:26.256Z"
   },
   {
    "duration": 11,
    "start_time": "2022-12-31T13:48:26.285Z"
   },
   {
    "duration": 9,
    "start_time": "2022-12-31T13:48:26.297Z"
   },
   {
    "duration": 19,
    "start_time": "2022-12-31T13:50:30.900Z"
   },
   {
    "duration": 6,
    "start_time": "2022-12-31T13:50:31.568Z"
   },
   {
    "duration": 479,
    "start_time": "2022-12-31T13:50:53.090Z"
   },
   {
    "duration": 15,
    "start_time": "2022-12-31T13:50:53.571Z"
   },
   {
    "duration": 45,
    "start_time": "2022-12-31T13:50:53.588Z"
   },
   {
    "duration": 2255,
    "start_time": "2022-12-31T13:50:53.637Z"
   },
   {
    "duration": 11,
    "start_time": "2022-12-31T13:50:55.893Z"
   },
   {
    "duration": 9,
    "start_time": "2022-12-31T13:50:55.907Z"
   },
   {
    "duration": 24,
    "start_time": "2022-12-31T13:50:55.919Z"
   },
   {
    "duration": 14,
    "start_time": "2022-12-31T13:50:55.945Z"
   },
   {
    "duration": 29,
    "start_time": "2022-12-31T13:50:55.961Z"
   },
   {
    "duration": 13,
    "start_time": "2022-12-31T13:50:55.993Z"
   },
   {
    "duration": 10,
    "start_time": "2022-12-31T13:50:56.007Z"
   },
   {
    "duration": 13,
    "start_time": "2022-12-31T13:51:15.030Z"
   },
   {
    "duration": 14,
    "start_time": "2022-12-31T13:51:15.715Z"
   },
   {
    "duration": 102,
    "start_time": "2022-12-31T13:52:33.876Z"
   },
   {
    "duration": 6,
    "start_time": "2022-12-31T13:52:36.980Z"
   },
   {
    "duration": 109,
    "start_time": "2022-12-31T13:52:52.428Z"
   },
   {
    "duration": 108,
    "start_time": "2022-12-31T13:52:54.124Z"
   },
   {
    "duration": 13,
    "start_time": "2022-12-31T13:52:55.014Z"
   },
   {
    "duration": 110,
    "start_time": "2022-12-31T13:53:13.196Z"
   },
   {
    "duration": 8,
    "start_time": "2022-12-31T13:53:16.432Z"
   },
   {
    "duration": 102,
    "start_time": "2022-12-31T13:54:14.047Z"
   },
   {
    "duration": 106,
    "start_time": "2022-12-31T13:54:15.037Z"
   },
   {
    "duration": 6,
    "start_time": "2022-12-31T13:54:15.456Z"
   },
   {
    "duration": 126,
    "start_time": "2022-12-31T13:54:30.705Z"
   },
   {
    "duration": 13,
    "start_time": "2022-12-31T13:54:33.110Z"
   },
   {
    "duration": 122,
    "start_time": "2022-12-31T13:56:44.428Z"
   },
   {
    "duration": 7,
    "start_time": "2022-12-31T13:56:46.237Z"
   },
   {
    "duration": 131,
    "start_time": "2022-12-31T13:58:02.231Z"
   },
   {
    "duration": 7,
    "start_time": "2022-12-31T13:58:04.296Z"
   },
   {
    "duration": 154,
    "start_time": "2022-12-31T13:58:39.810Z"
   },
   {
    "duration": 7,
    "start_time": "2022-12-31T13:58:42.902Z"
   },
   {
    "duration": 136,
    "start_time": "2022-12-31T13:58:52.338Z"
   },
   {
    "duration": 9,
    "start_time": "2022-12-31T13:58:53.767Z"
   },
   {
    "duration": 23,
    "start_time": "2022-12-31T14:01:00.799Z"
   },
   {
    "duration": 5,
    "start_time": "2022-12-31T14:01:02.896Z"
   },
   {
    "duration": 32,
    "start_time": "2022-12-31T14:01:08.695Z"
   },
   {
    "duration": 6,
    "start_time": "2022-12-31T14:01:10.265Z"
   },
   {
    "duration": 99,
    "start_time": "2022-12-31T14:01:16.977Z"
   },
   {
    "duration": 18,
    "start_time": "2022-12-31T14:01:27.975Z"
   },
   {
    "duration": 19,
    "start_time": "2022-12-31T14:01:31.252Z"
   },
   {
    "duration": 7,
    "start_time": "2022-12-31T14:01:32.861Z"
   },
   {
    "duration": 30,
    "start_time": "2022-12-31T14:01:37.198Z"
   },
   {
    "duration": 13,
    "start_time": "2022-12-31T14:01:39.313Z"
   },
   {
    "duration": 23,
    "start_time": "2022-12-31T14:02:03.698Z"
   },
   {
    "duration": 5,
    "start_time": "2022-12-31T14:02:05.441Z"
   },
   {
    "duration": 14,
    "start_time": "2022-12-31T14:02:08.627Z"
   },
   {
    "duration": 9,
    "start_time": "2022-12-31T14:02:10.382Z"
   },
   {
    "duration": 13,
    "start_time": "2022-12-31T14:02:17.028Z"
   },
   {
    "duration": 16,
    "start_time": "2022-12-31T14:02:18.329Z"
   },
   {
    "duration": 14,
    "start_time": "2022-12-31T14:02:18.714Z"
   },
   {
    "duration": 23,
    "start_time": "2022-12-31T14:02:38.182Z"
   },
   {
    "duration": 7,
    "start_time": "2022-12-31T14:02:38.828Z"
   },
   {
    "duration": 18,
    "start_time": "2022-12-31T14:02:45.725Z"
   },
   {
    "duration": 27,
    "start_time": "2022-12-31T14:02:48.797Z"
   },
   {
    "duration": 7,
    "start_time": "2022-12-31T14:02:49.198Z"
   },
   {
    "duration": 14,
    "start_time": "2022-12-31T14:03:02.572Z"
   },
   {
    "duration": 8,
    "start_time": "2022-12-31T14:03:03.495Z"
   },
   {
    "duration": 15,
    "start_time": "2022-12-31T14:03:14.483Z"
   },
   {
    "duration": 6,
    "start_time": "2022-12-31T14:03:15.399Z"
   },
   {
    "duration": 15,
    "start_time": "2022-12-31T14:03:21.638Z"
   },
   {
    "duration": 7,
    "start_time": "2022-12-31T14:03:22.760Z"
   },
   {
    "duration": 18,
    "start_time": "2022-12-31T14:03:35.991Z"
   },
   {
    "duration": 7,
    "start_time": "2022-12-31T14:03:37.048Z"
   },
   {
    "duration": 23,
    "start_time": "2022-12-31T14:03:50.942Z"
   },
   {
    "duration": 7,
    "start_time": "2022-12-31T14:03:52.052Z"
   },
   {
    "duration": 23,
    "start_time": "2022-12-31T14:04:03.255Z"
   },
   {
    "duration": 21,
    "start_time": "2022-12-31T14:04:25.463Z"
   },
   {
    "duration": 18,
    "start_time": "2022-12-31T14:07:06.872Z"
   },
   {
    "duration": 27,
    "start_time": "2022-12-31T14:07:28.395Z"
   },
   {
    "duration": 13,
    "start_time": "2022-12-31T14:09:33.951Z"
   },
   {
    "duration": 8,
    "start_time": "2022-12-31T14:09:36.576Z"
   },
   {
    "duration": 22,
    "start_time": "2022-12-31T14:09:48.144Z"
   },
   {
    "duration": 49,
    "start_time": "2022-12-31T14:12:39.033Z"
   },
   {
    "duration": 15,
    "start_time": "2022-12-31T14:12:55.281Z"
   },
   {
    "duration": 6,
    "start_time": "2022-12-31T14:12:59.484Z"
   },
   {
    "duration": 118,
    "start_time": "2022-12-31T14:17:28.063Z"
   },
   {
    "duration": 6,
    "start_time": "2022-12-31T14:17:28.663Z"
   },
   {
    "duration": 85,
    "start_time": "2022-12-31T14:17:43.329Z"
   },
   {
    "duration": 6,
    "start_time": "2022-12-31T14:17:43.433Z"
   },
   {
    "duration": 94,
    "start_time": "2022-12-31T14:17:55.749Z"
   },
   {
    "duration": 7,
    "start_time": "2022-12-31T14:17:55.876Z"
   },
   {
    "duration": 64,
    "start_time": "2022-12-31T14:18:02.588Z"
   },
   {
    "duration": 116,
    "start_time": "2022-12-31T14:18:08.627Z"
   },
   {
    "duration": 7,
    "start_time": "2022-12-31T14:18:15.472Z"
   },
   {
    "duration": 11,
    "start_time": "2022-12-31T14:18:50.140Z"
   },
   {
    "duration": 14,
    "start_time": "2022-12-31T14:19:00.812Z"
   },
   {
    "duration": 332,
    "start_time": "2022-12-31T14:19:25.860Z"
   },
   {
    "duration": 25,
    "start_time": "2022-12-31T14:19:29.317Z"
   },
   {
    "duration": 10,
    "start_time": "2022-12-31T14:19:37.951Z"
   },
   {
    "duration": 9,
    "start_time": "2022-12-31T14:19:48.195Z"
   },
   {
    "duration": 7,
    "start_time": "2022-12-31T14:19:54.107Z"
   },
   {
    "duration": 11,
    "start_time": "2022-12-31T14:34:58.351Z"
   },
   {
    "duration": 1216,
    "start_time": "2022-12-31T14:36:36.255Z"
   },
   {
    "duration": 6,
    "start_time": "2022-12-31T14:38:23.590Z"
   },
   {
    "duration": 1217,
    "start_time": "2022-12-31T14:39:35.130Z"
   },
   {
    "duration": 956,
    "start_time": "2022-12-31T14:40:59.670Z"
   },
   {
    "duration": 608,
    "start_time": "2022-12-31T14:41:52.124Z"
   },
   {
    "duration": 26,
    "start_time": "2022-12-31T14:46:10.250Z"
   },
   {
    "duration": 521,
    "start_time": "2022-12-31T14:47:21.646Z"
   },
   {
    "duration": 400,
    "start_time": "2022-12-31T14:47:35.292Z"
   },
   {
    "duration": 1658,
    "start_time": "2022-12-31T14:47:41.580Z"
   },
   {
    "duration": 1338,
    "start_time": "2022-12-31T14:48:48.524Z"
   },
   {
    "duration": 1536,
    "start_time": "2022-12-31T14:48:55.509Z"
   },
   {
    "duration": 2135,
    "start_time": "2022-12-31T14:49:58.800Z"
   },
   {
    "duration": 15,
    "start_time": "2022-12-31T14:51:21.628Z"
   },
   {
    "duration": 19,
    "start_time": "2022-12-31T14:51:34.309Z"
   },
   {
    "duration": 1169,
    "start_time": "2022-12-31T14:51:53.887Z"
   },
   {
    "duration": 702,
    "start_time": "2022-12-31T14:52:25.232Z"
   },
   {
    "duration": 1122,
    "start_time": "2022-12-31T14:52:47.126Z"
   },
   {
    "duration": 1388,
    "start_time": "2022-12-31T14:54:53.070Z"
   },
   {
    "duration": 59,
    "start_time": "2022-12-31T14:56:11.905Z"
   },
   {
    "duration": 1378,
    "start_time": "2022-12-31T14:56:16.191Z"
   },
   {
    "duration": 1140,
    "start_time": "2022-12-31T14:56:29.413Z"
   },
   {
    "duration": 488,
    "start_time": "2022-12-31T14:56:46.341Z"
   },
   {
    "duration": 16,
    "start_time": "2022-12-31T14:56:46.832Z"
   },
   {
    "duration": 34,
    "start_time": "2022-12-31T14:56:46.850Z"
   },
   {
    "duration": 2082,
    "start_time": "2022-12-31T14:56:46.886Z"
   },
   {
    "duration": 10,
    "start_time": "2022-12-31T14:56:48.969Z"
   },
   {
    "duration": 5,
    "start_time": "2022-12-31T14:56:48.981Z"
   },
   {
    "duration": 8,
    "start_time": "2022-12-31T14:56:48.987Z"
   },
   {
    "duration": 22,
    "start_time": "2022-12-31T14:56:48.996Z"
   },
   {
    "duration": 25,
    "start_time": "2022-12-31T14:56:49.020Z"
   },
   {
    "duration": 119,
    "start_time": "2022-12-31T14:56:49.048Z"
   },
   {
    "duration": 12,
    "start_time": "2022-12-31T14:56:49.168Z"
   },
   {
    "duration": 6,
    "start_time": "2022-12-31T14:56:49.182Z"
   },
   {
    "duration": 1366,
    "start_time": "2022-12-31T14:56:49.190Z"
   },
   {
    "duration": 1082,
    "start_time": "2022-12-31T14:56:50.557Z"
   },
   {
    "duration": 511,
    "start_time": "2022-12-31T14:57:21.684Z"
   },
   {
    "duration": 19,
    "start_time": "2022-12-31T14:57:22.198Z"
   },
   {
    "duration": 42,
    "start_time": "2022-12-31T14:57:22.218Z"
   },
   {
    "duration": 2102,
    "start_time": "2022-12-31T14:57:22.262Z"
   },
   {
    "duration": 9,
    "start_time": "2022-12-31T14:57:24.365Z"
   },
   {
    "duration": 6,
    "start_time": "2022-12-31T14:57:24.376Z"
   },
   {
    "duration": 11,
    "start_time": "2022-12-31T14:57:24.383Z"
   },
   {
    "duration": 11,
    "start_time": "2022-12-31T14:57:24.396Z"
   },
   {
    "duration": 35,
    "start_time": "2022-12-31T14:57:24.409Z"
   },
   {
    "duration": 109,
    "start_time": "2022-12-31T14:57:24.447Z"
   },
   {
    "duration": 11,
    "start_time": "2022-12-31T14:57:24.557Z"
   },
   {
    "duration": 7,
    "start_time": "2022-12-31T14:57:24.570Z"
   },
   {
    "duration": 4,
    "start_time": "2022-12-31T14:57:24.579Z"
   },
   {
    "duration": 1107,
    "start_time": "2022-12-31T14:57:24.585Z"
   },
   {
    "duration": 461,
    "start_time": "2022-12-31T15:02:51.647Z"
   },
   {
    "duration": 22,
    "start_time": "2022-12-31T15:02:52.109Z"
   },
   {
    "duration": 36,
    "start_time": "2022-12-31T15:02:52.133Z"
   },
   {
    "duration": 2196,
    "start_time": "2022-12-31T15:02:52.171Z"
   },
   {
    "duration": 9,
    "start_time": "2022-12-31T15:02:54.369Z"
   },
   {
    "duration": 11,
    "start_time": "2022-12-31T15:02:54.379Z"
   },
   {
    "duration": 8,
    "start_time": "2022-12-31T15:02:54.392Z"
   },
   {
    "duration": 6,
    "start_time": "2022-12-31T15:02:54.402Z"
   },
   {
    "duration": 33,
    "start_time": "2022-12-31T15:02:54.410Z"
   },
   {
    "duration": 121,
    "start_time": "2022-12-31T15:02:54.446Z"
   },
   {
    "duration": 10,
    "start_time": "2022-12-31T15:02:54.568Z"
   },
   {
    "duration": 873,
    "start_time": "2022-12-31T15:02:54.580Z"
   },
   {
    "duration": 0,
    "start_time": "2022-12-31T15:02:55.455Z"
   },
   {
    "duration": 0,
    "start_time": "2022-12-31T15:02:55.457Z"
   },
   {
    "duration": 443,
    "start_time": "2022-12-31T15:03:23.163Z"
   },
   {
    "duration": 25,
    "start_time": "2022-12-31T15:03:23.608Z"
   },
   {
    "duration": 33,
    "start_time": "2022-12-31T15:03:23.635Z"
   },
   {
    "duration": 2213,
    "start_time": "2022-12-31T15:03:23.670Z"
   },
   {
    "duration": 9,
    "start_time": "2022-12-31T15:03:25.885Z"
   },
   {
    "duration": 7,
    "start_time": "2022-12-31T15:03:25.895Z"
   },
   {
    "duration": 15,
    "start_time": "2022-12-31T15:03:25.903Z"
   },
   {
    "duration": 9,
    "start_time": "2022-12-31T15:03:25.919Z"
   },
   {
    "duration": 22,
    "start_time": "2022-12-31T15:03:25.929Z"
   },
   {
    "duration": 114,
    "start_time": "2022-12-31T15:03:25.954Z"
   },
   {
    "duration": 11,
    "start_time": "2022-12-31T15:03:26.070Z"
   },
   {
    "duration": 6,
    "start_time": "2022-12-31T15:03:26.083Z"
   },
   {
    "duration": 23,
    "start_time": "2022-12-31T15:03:26.091Z"
   },
   {
    "duration": 1277,
    "start_time": "2022-12-31T15:03:26.115Z"
   },
   {
    "duration": 116,
    "start_time": "2022-12-31T15:04:03.490Z"
   },
   {
    "duration": 6,
    "start_time": "2022-12-31T15:04:14.289Z"
   },
   {
    "duration": 224,
    "start_time": "2022-12-31T15:05:23.191Z"
   },
   {
    "duration": 9,
    "start_time": "2022-12-31T15:05:25.916Z"
   },
   {
    "duration": 505,
    "start_time": "2022-12-31T15:05:44.294Z"
   },
   {
    "duration": 28,
    "start_time": "2022-12-31T15:05:44.802Z"
   },
   {
    "duration": 71,
    "start_time": "2022-12-31T15:05:44.832Z"
   },
   {
    "duration": 2258,
    "start_time": "2022-12-31T15:05:44.906Z"
   },
   {
    "duration": 10,
    "start_time": "2022-12-31T15:05:47.166Z"
   },
   {
    "duration": 10,
    "start_time": "2022-12-31T15:05:47.177Z"
   },
   {
    "duration": 19,
    "start_time": "2022-12-31T15:05:47.189Z"
   },
   {
    "duration": 31,
    "start_time": "2022-12-31T15:05:47.210Z"
   },
   {
    "duration": 44,
    "start_time": "2022-12-31T15:05:47.244Z"
   },
   {
    "duration": 229,
    "start_time": "2022-12-31T15:05:47.290Z"
   },
   {
    "duration": 7,
    "start_time": "2022-12-31T15:05:47.524Z"
   },
   {
    "duration": 38,
    "start_time": "2022-12-31T15:05:47.533Z"
   },
   {
    "duration": 15,
    "start_time": "2022-12-31T15:05:47.572Z"
   },
   {
    "duration": 1176,
    "start_time": "2022-12-31T15:05:47.588Z"
   },
   {
    "duration": 562,
    "start_time": "2022-12-31T15:06:22.809Z"
   },
   {
    "duration": 16,
    "start_time": "2022-12-31T15:06:23.373Z"
   },
   {
    "duration": 56,
    "start_time": "2022-12-31T15:06:23.390Z"
   },
   {
    "duration": 2282,
    "start_time": "2022-12-31T15:06:23.448Z"
   },
   {
    "duration": 10,
    "start_time": "2022-12-31T15:06:25.732Z"
   },
   {
    "duration": 7,
    "start_time": "2022-12-31T15:06:25.743Z"
   },
   {
    "duration": 6,
    "start_time": "2022-12-31T15:06:25.753Z"
   },
   {
    "duration": 7,
    "start_time": "2022-12-31T15:06:25.760Z"
   },
   {
    "duration": 25,
    "start_time": "2022-12-31T15:06:25.769Z"
   },
   {
    "duration": 133,
    "start_time": "2022-12-31T15:06:25.797Z"
   },
   {
    "duration": 6,
    "start_time": "2022-12-31T15:06:25.932Z"
   },
   {
    "duration": 12,
    "start_time": "2022-12-31T15:06:25.939Z"
   },
   {
    "duration": 2,
    "start_time": "2022-12-31T15:06:25.954Z"
   },
   {
    "duration": 1436,
    "start_time": "2022-12-31T15:06:25.958Z"
   },
   {
    "duration": 128,
    "start_time": "2022-12-31T15:06:42.786Z"
   },
   {
    "duration": 7,
    "start_time": "2022-12-31T15:06:44.530Z"
   },
   {
    "duration": 111,
    "start_time": "2022-12-31T15:07:08.429Z"
   },
   {
    "duration": 17,
    "start_time": "2022-12-31T15:07:10.612Z"
   },
   {
    "duration": 78,
    "start_time": "2022-12-31T15:08:55.208Z"
   },
   {
    "duration": 7,
    "start_time": "2022-12-31T15:09:06.958Z"
   },
   {
    "duration": 59,
    "start_time": "2022-12-31T15:10:24.386Z"
   },
   {
    "duration": 8,
    "start_time": "2022-12-31T15:11:03.076Z"
   },
   {
    "duration": 20,
    "start_time": "2022-12-31T15:11:05.910Z"
   },
   {
    "duration": 6,
    "start_time": "2022-12-31T15:12:04.688Z"
   },
   {
    "duration": 122,
    "start_time": "2022-12-31T15:12:20.580Z"
   },
   {
    "duration": 6,
    "start_time": "2022-12-31T15:12:22.646Z"
   },
   {
    "duration": 17,
    "start_time": "2022-12-31T15:13:18.327Z"
   },
   {
    "duration": 15,
    "start_time": "2022-12-31T15:13:43.879Z"
   },
   {
    "duration": 16,
    "start_time": "2022-12-31T15:13:53.980Z"
   },
   {
    "duration": 23,
    "start_time": "2022-12-31T15:14:02.807Z"
   },
   {
    "duration": 27,
    "start_time": "2022-12-31T15:14:10.895Z"
   },
   {
    "duration": 17,
    "start_time": "2022-12-31T15:14:58.032Z"
   },
   {
    "duration": 18,
    "start_time": "2022-12-31T15:15:26.539Z"
   },
   {
    "duration": 508,
    "start_time": "2022-12-31T15:15:52.480Z"
   },
   {
    "duration": 15,
    "start_time": "2022-12-31T15:15:52.991Z"
   },
   {
    "duration": 40,
    "start_time": "2022-12-31T15:15:53.007Z"
   },
   {
    "duration": 2279,
    "start_time": "2022-12-31T15:15:53.049Z"
   },
   {
    "duration": 9,
    "start_time": "2022-12-31T15:15:55.329Z"
   },
   {
    "duration": 10,
    "start_time": "2022-12-31T15:15:55.340Z"
   },
   {
    "duration": 5,
    "start_time": "2022-12-31T15:15:55.352Z"
   },
   {
    "duration": 5,
    "start_time": "2022-12-31T15:15:55.358Z"
   },
   {
    "duration": 24,
    "start_time": "2022-12-31T15:15:55.365Z"
   },
   {
    "duration": 147,
    "start_time": "2022-12-31T15:15:55.391Z"
   },
   {
    "duration": 11,
    "start_time": "2022-12-31T15:15:55.540Z"
   },
   {
    "duration": 1138,
    "start_time": "2022-12-31T15:15:55.553Z"
   },
   {
    "duration": 568,
    "start_time": "2022-12-31T15:17:24.363Z"
   },
   {
    "duration": 1400,
    "start_time": "2022-12-31T15:17:34.871Z"
   },
   {
    "duration": 2318,
    "start_time": "2022-12-31T15:17:53.939Z"
   },
   {
    "duration": 672,
    "start_time": "2022-12-31T15:18:22.999Z"
   },
   {
    "duration": 856,
    "start_time": "2022-12-31T15:18:35.382Z"
   },
   {
    "duration": 940,
    "start_time": "2022-12-31T15:19:00.565Z"
   },
   {
    "duration": 10,
    "start_time": "2022-12-31T15:22:36.077Z"
   },
   {
    "duration": 7,
    "start_time": "2022-12-31T15:22:40.499Z"
   },
   {
    "duration": 9,
    "start_time": "2022-12-31T15:22:51.024Z"
   },
   {
    "duration": 8,
    "start_time": "2022-12-31T15:22:56.047Z"
   },
   {
    "duration": 10,
    "start_time": "2022-12-31T15:23:20.334Z"
   },
   {
    "duration": 12,
    "start_time": "2022-12-31T15:23:40.704Z"
   },
   {
    "duration": 7,
    "start_time": "2022-12-31T15:23:45.085Z"
   },
   {
    "duration": 11,
    "start_time": "2022-12-31T15:23:56.992Z"
   },
   {
    "duration": 9,
    "start_time": "2022-12-31T15:24:02.943Z"
   },
   {
    "duration": 8,
    "start_time": "2022-12-31T15:24:06.754Z"
   },
   {
    "duration": 11,
    "start_time": "2022-12-31T15:27:00.558Z"
   },
   {
    "duration": 4,
    "start_time": "2022-12-31T15:27:08.789Z"
   },
   {
    "duration": 14,
    "start_time": "2022-12-31T15:27:24.220Z"
   },
   {
    "duration": 9,
    "start_time": "2022-12-31T15:27:30.828Z"
   },
   {
    "duration": 8,
    "start_time": "2022-12-31T15:27:51.255Z"
   },
   {
    "duration": 2257,
    "start_time": "2022-12-31T15:28:02.189Z"
   },
   {
    "duration": 11,
    "start_time": "2022-12-31T15:29:07.058Z"
   },
   {
    "duration": 8,
    "start_time": "2022-12-31T15:29:28.244Z"
   },
   {
    "duration": 7,
    "start_time": "2022-12-31T15:29:32.262Z"
   },
   {
    "duration": 11,
    "start_time": "2022-12-31T15:29:45.492Z"
   },
   {
    "duration": 12,
    "start_time": "2022-12-31T15:29:50.366Z"
   },
   {
    "duration": 8,
    "start_time": "2022-12-31T15:29:59.836Z"
   },
   {
    "duration": 17,
    "start_time": "2022-12-31T15:31:28.476Z"
   },
   {
    "duration": 7,
    "start_time": "2022-12-31T15:33:04.594Z"
   },
   {
    "duration": 6,
    "start_time": "2022-12-31T15:33:22.538Z"
   },
   {
    "duration": 9,
    "start_time": "2022-12-31T15:33:26.457Z"
   },
   {
    "duration": 6,
    "start_time": "2022-12-31T15:33:38.961Z"
   },
   {
    "duration": 13,
    "start_time": "2022-12-31T15:34:07.656Z"
   },
   {
    "duration": 10,
    "start_time": "2022-12-31T15:34:30.951Z"
   },
   {
    "duration": 1554,
    "start_time": "2022-12-31T15:34:42.556Z"
   },
   {
    "duration": 1500,
    "start_time": "2022-12-31T15:35:12.665Z"
   },
   {
    "duration": 1211,
    "start_time": "2022-12-31T15:35:29.744Z"
   },
   {
    "duration": 1270,
    "start_time": "2022-12-31T15:36:29.997Z"
   },
   {
    "duration": 1381,
    "start_time": "2022-12-31T15:37:49.206Z"
   },
   {
    "duration": 1443,
    "start_time": "2022-12-31T15:38:09.444Z"
   },
   {
    "duration": 466,
    "start_time": "2022-12-31T15:38:19.965Z"
   },
   {
    "duration": 17,
    "start_time": "2022-12-31T15:38:20.433Z"
   },
   {
    "duration": 33,
    "start_time": "2022-12-31T15:38:20.452Z"
   },
   {
    "duration": 2293,
    "start_time": "2022-12-31T15:38:20.487Z"
   },
   {
    "duration": 9,
    "start_time": "2022-12-31T15:38:22.782Z"
   },
   {
    "duration": 5,
    "start_time": "2022-12-31T15:38:22.793Z"
   },
   {
    "duration": 6,
    "start_time": "2022-12-31T15:38:22.800Z"
   },
   {
    "duration": 40,
    "start_time": "2022-12-31T15:38:22.807Z"
   },
   {
    "duration": 22,
    "start_time": "2022-12-31T15:38:22.849Z"
   },
   {
    "duration": 134,
    "start_time": "2022-12-31T15:38:22.873Z"
   },
   {
    "duration": 32,
    "start_time": "2022-12-31T15:38:23.009Z"
   },
   {
    "duration": 12,
    "start_time": "2022-12-31T15:38:23.043Z"
   },
   {
    "duration": 84,
    "start_time": "2022-12-31T15:38:23.057Z"
   },
   {
    "duration": 1,
    "start_time": "2022-12-31T15:38:23.143Z"
   },
   {
    "duration": 10,
    "start_time": "2022-12-31T15:38:56.101Z"
   },
   {
    "duration": 1425,
    "start_time": "2022-12-31T15:39:05.384Z"
   },
   {
    "duration": 16,
    "start_time": "2022-12-31T15:39:19.205Z"
   },
   {
    "duration": 516,
    "start_time": "2022-12-31T15:40:06.043Z"
   },
   {
    "duration": 18,
    "start_time": "2022-12-31T15:40:06.562Z"
   },
   {
    "duration": 66,
    "start_time": "2022-12-31T15:40:06.582Z"
   },
   {
    "duration": 2334,
    "start_time": "2022-12-31T15:40:06.654Z"
   },
   {
    "duration": 11,
    "start_time": "2022-12-31T15:40:08.990Z"
   },
   {
    "duration": 6,
    "start_time": "2022-12-31T15:40:09.003Z"
   },
   {
    "duration": 34,
    "start_time": "2022-12-31T15:40:09.011Z"
   },
   {
    "duration": 7,
    "start_time": "2022-12-31T15:40:09.047Z"
   },
   {
    "duration": 23,
    "start_time": "2022-12-31T15:40:09.056Z"
   },
   {
    "duration": 139,
    "start_time": "2022-12-31T15:40:09.082Z"
   },
   {
    "duration": 15,
    "start_time": "2022-12-31T15:40:09.227Z"
   },
   {
    "duration": 14,
    "start_time": "2022-12-31T15:40:09.243Z"
   },
   {
    "duration": 4,
    "start_time": "2022-12-31T15:40:09.259Z"
   },
   {
    "duration": 1392,
    "start_time": "2022-12-31T15:40:09.265Z"
   },
   {
    "duration": 0,
    "start_time": "2022-12-31T15:40:10.658Z"
   },
   {
    "duration": 1596,
    "start_time": "2022-12-31T15:40:26.347Z"
   },
   {
    "duration": 10,
    "start_time": "2022-12-31T15:41:03.051Z"
   },
   {
    "duration": 16,
    "start_time": "2022-12-31T15:41:06.611Z"
   },
   {
    "duration": 1282,
    "start_time": "2022-12-31T15:41:39.635Z"
   },
   {
    "duration": 1407,
    "start_time": "2022-12-31T15:42:11.389Z"
   },
   {
    "duration": 91,
    "start_time": "2022-12-31T15:43:23.052Z"
   },
   {
    "duration": 1037,
    "start_time": "2022-12-31T15:43:35.877Z"
   },
   {
    "duration": 974,
    "start_time": "2022-12-31T15:43:47.088Z"
   },
   {
    "duration": 1093,
    "start_time": "2022-12-31T15:44:06.758Z"
   },
   {
    "duration": 5,
    "start_time": "2022-12-31T15:44:45.577Z"
   },
   {
    "duration": 8,
    "start_time": "2022-12-31T15:48:31.960Z"
   },
   {
    "duration": 17,
    "start_time": "2022-12-31T15:48:46.382Z"
   },
   {
    "duration": 13,
    "start_time": "2022-12-31T15:50:39.196Z"
   },
   {
    "duration": 6,
    "start_time": "2022-12-31T15:51:55.412Z"
   },
   {
    "duration": 62,
    "start_time": "2022-12-31T15:51:59.449Z"
   },
   {
    "duration": 13,
    "start_time": "2022-12-31T15:52:09.972Z"
   },
   {
    "duration": 11,
    "start_time": "2022-12-31T15:52:13.495Z"
   },
   {
    "duration": 59,
    "start_time": "2022-12-31T15:54:35.631Z"
   },
   {
    "duration": 14,
    "start_time": "2022-12-31T15:54:47.638Z"
   },
   {
    "duration": 57,
    "start_time": "2022-12-31T15:54:53.085Z"
   },
   {
    "duration": 11,
    "start_time": "2022-12-31T15:54:57.661Z"
   },
   {
    "duration": 27,
    "start_time": "2022-12-31T15:54:59.704Z"
   },
   {
    "duration": 14,
    "start_time": "2022-12-31T15:55:41.182Z"
   },
   {
    "duration": 598,
    "start_time": "2022-12-31T15:56:17.682Z"
   },
   {
    "duration": 1397,
    "start_time": "2022-12-31T15:56:24.677Z"
   },
   {
    "duration": 117,
    "start_time": "2022-12-31T15:57:23.139Z"
   },
   {
    "duration": 95,
    "start_time": "2022-12-31T15:57:29.443Z"
   },
   {
    "duration": 190,
    "start_time": "2022-12-31T15:59:25.830Z"
   },
   {
    "duration": 1353,
    "start_time": "2022-12-31T15:59:44.814Z"
   },
   {
    "duration": 1363,
    "start_time": "2022-12-31T15:59:52.062Z"
   },
   {
    "duration": 504,
    "start_time": "2022-12-31T16:00:47.506Z"
   },
   {
    "duration": 25,
    "start_time": "2022-12-31T16:00:48.012Z"
   },
   {
    "duration": 41,
    "start_time": "2022-12-31T16:00:48.047Z"
   },
   {
    "duration": 2197,
    "start_time": "2022-12-31T16:00:48.090Z"
   },
   {
    "duration": 9,
    "start_time": "2022-12-31T16:00:50.289Z"
   },
   {
    "duration": 53,
    "start_time": "2022-12-31T16:00:50.299Z"
   },
   {
    "duration": 19,
    "start_time": "2022-12-31T16:00:50.353Z"
   },
   {
    "duration": 31,
    "start_time": "2022-12-31T16:00:50.373Z"
   },
   {
    "duration": 55,
    "start_time": "2022-12-31T16:00:50.405Z"
   },
   {
    "duration": 134,
    "start_time": "2022-12-31T16:00:50.463Z"
   },
   {
    "duration": 22,
    "start_time": "2022-12-31T16:00:50.599Z"
   },
   {
    "duration": 156,
    "start_time": "2022-12-31T16:00:50.623Z"
   },
   {
    "duration": 2,
    "start_time": "2022-12-31T16:00:50.780Z"
   },
   {
    "duration": 2632,
    "start_time": "2022-12-31T16:00:50.815Z"
   },
   {
    "duration": 0,
    "start_time": "2022-12-31T16:00:53.449Z"
   },
   {
    "duration": 1121,
    "start_time": "2022-12-31T16:01:09.591Z"
   },
   {
    "duration": 1192,
    "start_time": "2022-12-31T16:01:52.185Z"
   },
   {
    "duration": 10,
    "start_time": "2022-12-31T16:02:12.197Z"
   },
   {
    "duration": 44,
    "start_time": "2022-12-31T16:02:39.741Z"
   },
   {
    "duration": 691,
    "start_time": "2022-12-31T16:02:46.452Z"
   },
   {
    "duration": 607,
    "start_time": "2022-12-31T16:03:02.802Z"
   },
   {
    "duration": 12,
    "start_time": "2022-12-31T16:03:35.596Z"
   },
   {
    "duration": 12,
    "start_time": "2022-12-31T16:03:47.769Z"
   },
   {
    "duration": 666,
    "start_time": "2022-12-31T16:04:04.181Z"
   },
   {
    "duration": 416,
    "start_time": "2022-12-31T16:04:59.944Z"
   },
   {
    "duration": 45,
    "start_time": "2023-01-01T06:07:55.062Z"
   },
   {
    "duration": 711,
    "start_time": "2023-01-01T06:08:03.614Z"
   },
   {
    "duration": 13,
    "start_time": "2023-01-01T06:08:04.327Z"
   },
   {
    "duration": 30,
    "start_time": "2023-01-01T06:08:04.342Z"
   },
   {
    "duration": 2082,
    "start_time": "2023-01-01T06:08:04.373Z"
   },
   {
    "duration": 9,
    "start_time": "2023-01-01T06:08:06.457Z"
   },
   {
    "duration": 9,
    "start_time": "2023-01-01T06:08:06.467Z"
   },
   {
    "duration": 5,
    "start_time": "2023-01-01T06:08:06.478Z"
   },
   {
    "duration": 5,
    "start_time": "2023-01-01T06:08:06.484Z"
   },
   {
    "duration": 25,
    "start_time": "2023-01-01T06:08:06.490Z"
   },
   {
    "duration": 130,
    "start_time": "2023-01-01T06:08:06.517Z"
   },
   {
    "duration": 11,
    "start_time": "2023-01-01T06:08:06.649Z"
   },
   {
    "duration": 614,
    "start_time": "2023-01-01T06:08:06.662Z"
   },
   {
    "duration": 2,
    "start_time": "2023-01-01T06:08:07.277Z"
   },
   {
    "duration": 742,
    "start_time": "2023-01-01T06:08:07.281Z"
   },
   {
    "duration": 10,
    "start_time": "2023-01-01T06:08:08.024Z"
   },
   {
    "duration": 67,
    "start_time": "2023-01-01T06:10:23.569Z"
   },
   {
    "duration": 45,
    "start_time": "2023-01-01T06:10:29.984Z"
   },
   {
    "duration": 39,
    "start_time": "2023-01-01T06:12:23.943Z"
   },
   {
    "duration": 5,
    "start_time": "2023-01-01T06:37:45.084Z"
   },
   {
    "duration": 10,
    "start_time": "2023-01-01T06:40:38.477Z"
   },
   {
    "duration": 2,
    "start_time": "2023-01-01T06:40:48.629Z"
   },
   {
    "duration": 428,
    "start_time": "2023-01-01T06:41:33.171Z"
   },
   {
    "duration": 14,
    "start_time": "2023-01-01T06:41:33.600Z"
   },
   {
    "duration": 37,
    "start_time": "2023-01-01T06:41:33.616Z"
   },
   {
    "duration": 1888,
    "start_time": "2023-01-01T06:41:33.655Z"
   },
   {
    "duration": 8,
    "start_time": "2023-01-01T06:41:35.545Z"
   },
   {
    "duration": 21,
    "start_time": "2023-01-01T06:41:35.555Z"
   },
   {
    "duration": 6,
    "start_time": "2023-01-01T06:41:35.577Z"
   },
   {
    "duration": 7,
    "start_time": "2023-01-01T06:41:35.584Z"
   },
   {
    "duration": 21,
    "start_time": "2023-01-01T06:41:35.592Z"
   },
   {
    "duration": 121,
    "start_time": "2023-01-01T06:41:35.615Z"
   },
   {
    "duration": 4,
    "start_time": "2023-01-01T06:41:35.738Z"
   },
   {
    "duration": 13,
    "start_time": "2023-01-01T06:41:35.743Z"
   },
   {
    "duration": 7,
    "start_time": "2023-01-01T06:41:35.757Z"
   },
   {
    "duration": 66,
    "start_time": "2023-01-01T06:49:39.405Z"
   },
   {
    "duration": 805,
    "start_time": "2023-01-01T06:50:12.216Z"
   },
   {
    "duration": 11,
    "start_time": "2023-01-01T06:50:25.465Z"
   },
   {
    "duration": 7033,
    "start_time": "2023-01-01T06:50:45.583Z"
   },
   {
    "duration": 27,
    "start_time": "2023-01-01T06:53:32.132Z"
   },
   {
    "duration": 675,
    "start_time": "2023-01-01T06:54:13.666Z"
   },
   {
    "duration": 14,
    "start_time": "2023-01-01T06:54:14.343Z"
   },
   {
    "duration": 31,
    "start_time": "2023-01-01T06:54:14.358Z"
   },
   {
    "duration": 1984,
    "start_time": "2023-01-01T06:54:14.391Z"
   },
   {
    "duration": 11,
    "start_time": "2023-01-01T06:54:16.377Z"
   },
   {
    "duration": 6,
    "start_time": "2023-01-01T06:54:16.389Z"
   },
   {
    "duration": 7,
    "start_time": "2023-01-01T06:54:16.396Z"
   },
   {
    "duration": 5,
    "start_time": "2023-01-01T06:54:16.404Z"
   },
   {
    "duration": 24,
    "start_time": "2023-01-01T06:54:16.410Z"
   },
   {
    "duration": 125,
    "start_time": "2023-01-01T06:54:16.436Z"
   },
   {
    "duration": 4,
    "start_time": "2023-01-01T06:54:16.563Z"
   },
   {
    "duration": 14,
    "start_time": "2023-01-01T06:54:16.568Z"
   },
   {
    "duration": 685,
    "start_time": "2023-01-01T06:54:28.949Z"
   },
   {
    "duration": 14,
    "start_time": "2023-01-01T06:54:29.635Z"
   },
   {
    "duration": 30,
    "start_time": "2023-01-01T06:54:29.651Z"
   },
   {
    "duration": 1916,
    "start_time": "2023-01-01T06:54:29.683Z"
   },
   {
    "duration": 9,
    "start_time": "2023-01-01T06:54:31.601Z"
   },
   {
    "duration": 5,
    "start_time": "2023-01-01T06:54:31.611Z"
   },
   {
    "duration": 8,
    "start_time": "2023-01-01T06:54:31.617Z"
   },
   {
    "duration": 6,
    "start_time": "2023-01-01T06:54:31.626Z"
   },
   {
    "duration": 26,
    "start_time": "2023-01-01T06:54:31.633Z"
   },
   {
    "duration": 125,
    "start_time": "2023-01-01T06:54:31.661Z"
   },
   {
    "duration": 4,
    "start_time": "2023-01-01T06:54:31.787Z"
   },
   {
    "duration": 15,
    "start_time": "2023-01-01T06:54:31.793Z"
   },
   {
    "duration": 45,
    "start_time": "2023-01-01T06:55:01.466Z"
   },
   {
    "duration": 723,
    "start_time": "2023-01-01T06:55:06.577Z"
   },
   {
    "duration": 13,
    "start_time": "2023-01-01T06:55:07.302Z"
   },
   {
    "duration": 31,
    "start_time": "2023-01-01T06:55:07.317Z"
   },
   {
    "duration": 2002,
    "start_time": "2023-01-01T06:55:07.349Z"
   },
   {
    "duration": 8,
    "start_time": "2023-01-01T06:55:09.353Z"
   },
   {
    "duration": 4,
    "start_time": "2023-01-01T06:55:09.363Z"
   },
   {
    "duration": 6,
    "start_time": "2023-01-01T06:55:09.368Z"
   },
   {
    "duration": 5,
    "start_time": "2023-01-01T06:55:09.375Z"
   },
   {
    "duration": 22,
    "start_time": "2023-01-01T06:55:09.381Z"
   },
   {
    "duration": 122,
    "start_time": "2023-01-01T06:55:09.404Z"
   },
   {
    "duration": 4,
    "start_time": "2023-01-01T06:55:09.527Z"
   },
   {
    "duration": 14,
    "start_time": "2023-01-01T06:55:09.532Z"
   },
   {
    "duration": 80,
    "start_time": "2023-01-01T06:55:09.548Z"
   },
   {
    "duration": 16,
    "start_time": "2023-01-01T06:55:33.505Z"
   },
   {
    "duration": 709,
    "start_time": "2023-01-01T06:56:44.627Z"
   },
   {
    "duration": 13,
    "start_time": "2023-01-01T06:56:45.338Z"
   },
   {
    "duration": 33,
    "start_time": "2023-01-01T06:56:45.352Z"
   },
   {
    "duration": 1961,
    "start_time": "2023-01-01T06:56:45.386Z"
   },
   {
    "duration": 9,
    "start_time": "2023-01-01T06:56:47.349Z"
   },
   {
    "duration": 5,
    "start_time": "2023-01-01T06:56:47.359Z"
   },
   {
    "duration": 5,
    "start_time": "2023-01-01T06:56:47.365Z"
   },
   {
    "duration": 4,
    "start_time": "2023-01-01T06:56:47.372Z"
   },
   {
    "duration": 21,
    "start_time": "2023-01-01T06:56:47.377Z"
   },
   {
    "duration": 116,
    "start_time": "2023-01-01T06:56:47.400Z"
   },
   {
    "duration": 4,
    "start_time": "2023-01-01T06:56:47.517Z"
   },
   {
    "duration": 16,
    "start_time": "2023-01-01T06:56:47.523Z"
   },
   {
    "duration": 944,
    "start_time": "2023-01-01T06:57:10.071Z"
   },
   {
    "duration": 1135,
    "start_time": "2023-01-01T06:57:26.590Z"
   },
   {
    "duration": 4,
    "start_time": "2023-01-01T06:57:39.554Z"
   },
   {
    "duration": 65,
    "start_time": "2023-01-01T06:57:43.294Z"
   },
   {
    "duration": 10,
    "start_time": "2023-01-01T06:57:50.926Z"
   },
   {
    "duration": 9,
    "start_time": "2023-01-01T06:58:17.427Z"
   },
   {
    "duration": 1022,
    "start_time": "2023-01-01T06:58:29.914Z"
   },
   {
    "duration": 988,
    "start_time": "2023-01-01T06:59:10.466Z"
   },
   {
    "duration": 88,
    "start_time": "2023-01-01T07:00:32.147Z"
   },
   {
    "duration": 14,
    "start_time": "2023-01-01T07:00:32.236Z"
   },
   {
    "duration": 26,
    "start_time": "2023-01-01T07:00:32.251Z"
   },
   {
    "duration": 1731,
    "start_time": "2023-01-01T07:00:32.279Z"
   },
   {
    "duration": 9,
    "start_time": "2023-01-01T07:00:34.012Z"
   },
   {
    "duration": 8,
    "start_time": "2023-01-01T07:00:34.023Z"
   },
   {
    "duration": 13,
    "start_time": "2023-01-01T07:00:34.032Z"
   },
   {
    "duration": 8,
    "start_time": "2023-01-01T07:00:34.046Z"
   },
   {
    "duration": 40,
    "start_time": "2023-01-01T07:00:34.055Z"
   },
   {
    "duration": 120,
    "start_time": "2023-01-01T07:00:34.097Z"
   },
   {
    "duration": 5,
    "start_time": "2023-01-01T07:00:34.219Z"
   },
   {
    "duration": 12,
    "start_time": "2023-01-01T07:00:34.225Z"
   },
   {
    "duration": 996,
    "start_time": "2023-01-01T07:00:44.929Z"
   },
   {
    "duration": 11,
    "start_time": "2023-01-01T07:01:09.464Z"
   },
   {
    "duration": 1565,
    "start_time": "2023-01-01T07:01:27.663Z"
   },
   {
    "duration": 2325,
    "start_time": "2023-01-01T07:01:57.718Z"
   },
   {
    "duration": 2116,
    "start_time": "2023-01-01T07:02:12.353Z"
   },
   {
    "duration": 45,
    "start_time": "2023-01-01T07:04:01.066Z"
   },
   {
    "duration": 63,
    "start_time": "2023-01-01T07:04:16.394Z"
   },
   {
    "duration": 87,
    "start_time": "2023-01-01T07:05:37.115Z"
   },
   {
    "duration": 14,
    "start_time": "2023-01-01T07:05:37.204Z"
   },
   {
    "duration": 27,
    "start_time": "2023-01-01T07:05:37.219Z"
   },
   {
    "duration": 1705,
    "start_time": "2023-01-01T07:05:37.247Z"
   },
   {
    "duration": 8,
    "start_time": "2023-01-01T07:05:38.953Z"
   },
   {
    "duration": 5,
    "start_time": "2023-01-01T07:05:38.963Z"
   },
   {
    "duration": 5,
    "start_time": "2023-01-01T07:05:38.969Z"
   },
   {
    "duration": 5,
    "start_time": "2023-01-01T07:05:38.975Z"
   },
   {
    "duration": 43,
    "start_time": "2023-01-01T07:05:38.981Z"
   },
   {
    "duration": 122,
    "start_time": "2023-01-01T07:05:39.026Z"
   },
   {
    "duration": 4,
    "start_time": "2023-01-01T07:05:39.149Z"
   },
   {
    "duration": 15,
    "start_time": "2023-01-01T07:05:39.154Z"
   },
   {
    "duration": 46,
    "start_time": "2023-01-01T07:05:39.171Z"
   },
   {
    "duration": 52,
    "start_time": "2023-01-01T07:05:57.479Z"
   },
   {
    "duration": 47,
    "start_time": "2023-01-01T07:06:00.935Z"
   },
   {
    "duration": 2665,
    "start_time": "2023-01-01T07:06:15.786Z"
   },
   {
    "duration": 2687,
    "start_time": "2023-01-01T07:07:59.644Z"
   },
   {
    "duration": 2318,
    "start_time": "2023-01-01T07:08:09.313Z"
   },
   {
    "duration": 2424,
    "start_time": "2023-01-01T07:08:21.701Z"
   },
   {
    "duration": 73,
    "start_time": "2023-01-01T07:08:33.991Z"
   },
   {
    "duration": 709,
    "start_time": "2023-01-01T07:08:47.714Z"
   },
   {
    "duration": 2611,
    "start_time": "2023-01-01T07:09:17.627Z"
   },
   {
    "duration": 8007,
    "start_time": "2023-01-01T07:12:17.684Z"
   },
   {
    "duration": 62,
    "start_time": "2023-01-01T07:16:27.947Z"
   },
   {
    "duration": 4,
    "start_time": "2023-01-01T07:17:00.531Z"
   },
   {
    "duration": 59,
    "start_time": "2023-01-01T07:17:11.646Z"
   },
   {
    "duration": 44,
    "start_time": "2023-01-01T07:17:55.426Z"
   },
   {
    "duration": 16,
    "start_time": "2023-01-01T07:18:22.576Z"
   },
   {
    "duration": 13,
    "start_time": "2023-01-01T07:18:40.935Z"
   },
   {
    "duration": 18,
    "start_time": "2023-01-01T07:20:17.255Z"
   },
   {
    "duration": 1027,
    "start_time": "2023-01-01T07:21:09.304Z"
   },
   {
    "duration": 436,
    "start_time": "2023-01-01T07:23:08.957Z"
   },
   {
    "duration": 13,
    "start_time": "2023-01-01T07:23:09.395Z"
   },
   {
    "duration": 31,
    "start_time": "2023-01-01T07:23:09.409Z"
   },
   {
    "duration": 1934,
    "start_time": "2023-01-01T07:23:09.442Z"
   },
   {
    "duration": 10,
    "start_time": "2023-01-01T07:23:11.378Z"
   },
   {
    "duration": 21,
    "start_time": "2023-01-01T07:23:11.390Z"
   },
   {
    "duration": 23,
    "start_time": "2023-01-01T07:23:11.412Z"
   },
   {
    "duration": 14,
    "start_time": "2023-01-01T07:23:11.437Z"
   },
   {
    "duration": 23,
    "start_time": "2023-01-01T07:23:11.453Z"
   },
   {
    "duration": 119,
    "start_time": "2023-01-01T07:23:11.478Z"
   },
   {
    "duration": 4,
    "start_time": "2023-01-01T07:23:11.599Z"
   },
   {
    "duration": 20,
    "start_time": "2023-01-01T07:23:11.605Z"
   },
   {
    "duration": 73,
    "start_time": "2023-01-01T07:24:50.302Z"
   },
   {
    "duration": 3966,
    "start_time": "2023-01-01T07:25:06.502Z"
   },
   {
    "duration": 861,
    "start_time": "2023-01-01T07:25:29.872Z"
   },
   {
    "duration": 3839,
    "start_time": "2023-01-01T07:25:34.794Z"
   },
   {
    "duration": 775,
    "start_time": "2023-01-01T07:26:36.593Z"
   },
   {
    "duration": 1803,
    "start_time": "2023-01-01T07:26:46.587Z"
   },
   {
    "duration": 513,
    "start_time": "2023-01-01T07:27:05.117Z"
   },
   {
    "duration": 14,
    "start_time": "2023-01-01T07:27:05.632Z"
   },
   {
    "duration": 33,
    "start_time": "2023-01-01T07:27:05.647Z"
   },
   {
    "duration": 2209,
    "start_time": "2023-01-01T07:27:05.682Z"
   },
   {
    "duration": 9,
    "start_time": "2023-01-01T07:27:07.893Z"
   },
   {
    "duration": 9,
    "start_time": "2023-01-01T07:27:07.903Z"
   },
   {
    "duration": 10,
    "start_time": "2023-01-01T07:27:07.914Z"
   },
   {
    "duration": 7,
    "start_time": "2023-01-01T07:27:07.926Z"
   },
   {
    "duration": 23,
    "start_time": "2023-01-01T07:27:07.934Z"
   },
   {
    "duration": 130,
    "start_time": "2023-01-01T07:27:07.959Z"
   },
   {
    "duration": 4,
    "start_time": "2023-01-01T07:27:08.091Z"
   },
   {
    "duration": 25,
    "start_time": "2023-01-01T07:27:08.096Z"
   },
   {
    "duration": 1800,
    "start_time": "2023-01-01T07:27:08.123Z"
   },
   {
    "duration": 489,
    "start_time": "2023-01-01T07:27:33.201Z"
   },
   {
    "duration": 21,
    "start_time": "2023-01-01T07:27:33.692Z"
   },
   {
    "duration": 33,
    "start_time": "2023-01-01T07:27:33.715Z"
   },
   {
    "duration": 1910,
    "start_time": "2023-01-01T07:27:33.749Z"
   },
   {
    "duration": 9,
    "start_time": "2023-01-01T07:27:35.661Z"
   },
   {
    "duration": 4,
    "start_time": "2023-01-01T07:27:35.672Z"
   },
   {
    "duration": 6,
    "start_time": "2023-01-01T07:27:35.677Z"
   },
   {
    "duration": 6,
    "start_time": "2023-01-01T07:27:35.685Z"
   },
   {
    "duration": 30,
    "start_time": "2023-01-01T07:27:35.692Z"
   },
   {
    "duration": 127,
    "start_time": "2023-01-01T07:27:35.724Z"
   },
   {
    "duration": 5,
    "start_time": "2023-01-01T07:27:35.852Z"
   },
   {
    "duration": 14,
    "start_time": "2023-01-01T07:27:35.858Z"
   },
   {
    "duration": 48,
    "start_time": "2023-01-01T07:27:35.873Z"
   },
   {
    "duration": 737,
    "start_time": "2023-01-01T07:28:08.226Z"
   },
   {
    "duration": 813,
    "start_time": "2023-01-01T07:28:24.916Z"
   },
   {
    "duration": 773,
    "start_time": "2023-01-01T07:28:30.749Z"
   },
   {
    "duration": 37,
    "start_time": "2023-01-01T07:28:49.920Z"
   },
   {
    "duration": 1199,
    "start_time": "2023-01-01T07:29:25.418Z"
   },
   {
    "duration": 7182,
    "start_time": "2023-01-01T07:30:04.755Z"
   },
   {
    "duration": 3939,
    "start_time": "2023-01-01T07:31:44.340Z"
   },
   {
    "duration": 4046,
    "start_time": "2023-01-01T07:32:19.053Z"
   },
   {
    "duration": 50,
    "start_time": "2023-01-01T07:33:23.441Z"
   },
   {
    "duration": 909,
    "start_time": "2023-01-01T07:33:46.534Z"
   },
   {
    "duration": 938,
    "start_time": "2023-01-01T07:34:39.377Z"
   },
   {
    "duration": 1995,
    "start_time": "2023-01-01T07:35:47.341Z"
   },
   {
    "duration": 1220,
    "start_time": "2023-01-01T07:36:24.258Z"
   },
   {
    "duration": 478,
    "start_time": "2023-01-01T07:39:12.985Z"
   },
   {
    "duration": 13,
    "start_time": "2023-01-01T07:39:13.465Z"
   },
   {
    "duration": 36,
    "start_time": "2023-01-01T07:39:13.480Z"
   },
   {
    "duration": 2045,
    "start_time": "2023-01-01T07:39:13.518Z"
   },
   {
    "duration": 10,
    "start_time": "2023-01-01T07:39:15.565Z"
   },
   {
    "duration": 5,
    "start_time": "2023-01-01T07:39:15.576Z"
   },
   {
    "duration": 5,
    "start_time": "2023-01-01T07:39:15.583Z"
   },
   {
    "duration": 5,
    "start_time": "2023-01-01T07:39:15.590Z"
   },
   {
    "duration": 26,
    "start_time": "2023-01-01T07:39:15.596Z"
   },
   {
    "duration": 135,
    "start_time": "2023-01-01T07:39:15.624Z"
   },
   {
    "duration": 4,
    "start_time": "2023-01-01T07:39:15.761Z"
   },
   {
    "duration": 14,
    "start_time": "2023-01-01T07:39:15.766Z"
   },
   {
    "duration": 999,
    "start_time": "2023-01-01T07:39:15.782Z"
   },
   {
    "duration": 810,
    "start_time": "2023-01-01T07:40:32.628Z"
   },
   {
    "duration": 1309,
    "start_time": "2023-01-01T07:40:45.677Z"
   },
   {
    "duration": 2440,
    "start_time": "2023-01-01T07:41:24.017Z"
   },
   {
    "duration": 1969,
    "start_time": "2023-01-01T07:41:54.824Z"
   },
   {
    "duration": 2782,
    "start_time": "2023-01-01T07:44:05.047Z"
   },
   {
    "duration": 80,
    "start_time": "2023-01-01T07:44:50.278Z"
   },
   {
    "duration": 2365,
    "start_time": "2023-01-01T07:45:41.817Z"
   },
   {
    "duration": 85,
    "start_time": "2023-01-01T07:46:35.211Z"
   },
   {
    "duration": 2307,
    "start_time": "2023-01-01T07:47:43.639Z"
   },
   {
    "duration": 2599,
    "start_time": "2023-01-01T07:48:25.265Z"
   },
   {
    "duration": 2749,
    "start_time": "2023-01-01T07:49:31.576Z"
   },
   {
    "duration": 2400,
    "start_time": "2023-01-01T07:49:49.129Z"
   },
   {
    "duration": 31,
    "start_time": "2023-01-01T07:52:10.672Z"
   },
   {
    "duration": 607,
    "start_time": "2023-01-01T07:54:45.882Z"
   },
   {
    "duration": 1175,
    "start_time": "2023-01-01T07:55:03.047Z"
   },
   {
    "duration": 1172,
    "start_time": "2023-01-01T07:55:59.260Z"
   },
   {
    "duration": 103,
    "start_time": "2023-01-01T07:59:06.353Z"
   },
   {
    "duration": 2468,
    "start_time": "2023-01-01T07:59:59.920Z"
   },
   {
    "duration": 17591,
    "start_time": "2023-01-01T08:04:00.748Z"
   },
   {
    "duration": 93,
    "start_time": "2023-01-01T08:08:52.424Z"
   },
   {
    "duration": 81,
    "start_time": "2023-01-01T08:10:03.661Z"
   },
   {
    "duration": 1954,
    "start_time": "2023-01-01T08:10:15.709Z"
   },
   {
    "duration": 182,
    "start_time": "2023-01-01T08:13:00.617Z"
   },
   {
    "duration": 50,
    "start_time": "2023-01-01T08:13:43.665Z"
   },
   {
    "duration": 52,
    "start_time": "2023-01-01T08:14:21.647Z"
   },
   {
    "duration": 2067,
    "start_time": "2023-01-01T08:15:04.136Z"
   },
   {
    "duration": 1009,
    "start_time": "2023-01-01T08:15:23.617Z"
   },
   {
    "duration": 79,
    "start_time": "2023-01-01T08:15:39.721Z"
   },
   {
    "duration": 959,
    "start_time": "2023-01-01T08:16:08.496Z"
   },
   {
    "duration": 947,
    "start_time": "2023-01-01T08:18:14.401Z"
   },
   {
    "duration": 867,
    "start_time": "2023-01-01T08:18:26.778Z"
   },
   {
    "duration": 90,
    "start_time": "2023-01-01T08:18:55.961Z"
   },
   {
    "duration": 2079,
    "start_time": "2023-01-01T08:19:16.783Z"
   },
   {
    "duration": 95,
    "start_time": "2023-01-01T08:20:49.192Z"
   },
   {
    "duration": 8,
    "start_time": "2023-01-01T08:21:13.691Z"
   },
   {
    "duration": 460,
    "start_time": "2023-01-01T08:21:45.538Z"
   },
   {
    "duration": 15,
    "start_time": "2023-01-01T08:21:45.999Z"
   },
   {
    "duration": 32,
    "start_time": "2023-01-01T08:21:46.015Z"
   },
   {
    "duration": 1970,
    "start_time": "2023-01-01T08:21:46.050Z"
   },
   {
    "duration": 9,
    "start_time": "2023-01-01T08:21:48.021Z"
   },
   {
    "duration": 5,
    "start_time": "2023-01-01T08:21:48.031Z"
   },
   {
    "duration": 7,
    "start_time": "2023-01-01T08:21:48.037Z"
   },
   {
    "duration": 5,
    "start_time": "2023-01-01T08:21:48.045Z"
   },
   {
    "duration": 24,
    "start_time": "2023-01-01T08:21:48.052Z"
   },
   {
    "duration": 144,
    "start_time": "2023-01-01T08:21:48.082Z"
   },
   {
    "duration": 4,
    "start_time": "2023-01-01T08:21:48.228Z"
   },
   {
    "duration": 15,
    "start_time": "2023-01-01T08:21:48.233Z"
   },
   {
    "duration": 2111,
    "start_time": "2023-01-01T08:22:00.785Z"
   },
   {
    "duration": 3419,
    "start_time": "2023-01-01T08:22:14.409Z"
   },
   {
    "duration": 1636,
    "start_time": "2023-01-01T08:36:09.830Z"
   },
   {
    "duration": 1303,
    "start_time": "2023-01-01T08:36:29.704Z"
   },
   {
    "duration": 1294,
    "start_time": "2023-01-01T08:38:10.926Z"
   },
   {
    "duration": 1271,
    "start_time": "2023-01-01T08:38:40.313Z"
   },
   {
    "duration": 1309,
    "start_time": "2023-01-01T08:38:49.358Z"
   },
   {
    "duration": 45,
    "start_time": "2023-01-01T08:45:51.508Z"
   },
   {
    "duration": 1252,
    "start_time": "2023-01-01T08:46:30.404Z"
   },
   {
    "duration": 92,
    "start_time": "2023-01-01T08:52:55.462Z"
   },
   {
    "duration": 35,
    "start_time": "2023-01-01T08:53:38.093Z"
   },
   {
    "duration": 651,
    "start_time": "2023-01-01T08:53:43.937Z"
   },
   {
    "duration": 5,
    "start_time": "2023-01-01T08:54:18.735Z"
   },
   {
    "duration": 36,
    "start_time": "2023-01-01T08:55:35.881Z"
   },
   {
    "duration": 61,
    "start_time": "2023-01-01T08:57:45.291Z"
   },
   {
    "duration": 17,
    "start_time": "2023-01-01T08:58:30.732Z"
   },
   {
    "duration": 51,
    "start_time": "2023-01-01T08:59:11.859Z"
   },
   {
    "duration": 58,
    "start_time": "2023-01-01T08:59:28.380Z"
   },
   {
    "duration": 454,
    "start_time": "2023-01-01T08:59:39.235Z"
   },
   {
    "duration": 15,
    "start_time": "2023-01-01T08:59:39.691Z"
   },
   {
    "duration": 35,
    "start_time": "2023-01-01T08:59:39.707Z"
   },
   {
    "duration": 1939,
    "start_time": "2023-01-01T08:59:39.744Z"
   },
   {
    "duration": 12,
    "start_time": "2023-01-01T08:59:41.687Z"
   },
   {
    "duration": 6,
    "start_time": "2023-01-01T08:59:41.700Z"
   },
   {
    "duration": 7,
    "start_time": "2023-01-01T08:59:41.708Z"
   },
   {
    "duration": 6,
    "start_time": "2023-01-01T08:59:41.716Z"
   },
   {
    "duration": 27,
    "start_time": "2023-01-01T08:59:41.723Z"
   },
   {
    "duration": 129,
    "start_time": "2023-01-01T08:59:41.751Z"
   },
   {
    "duration": 5,
    "start_time": "2023-01-01T08:59:41.881Z"
   },
   {
    "duration": 12,
    "start_time": "2023-01-01T08:59:41.887Z"
   },
   {
    "duration": 129,
    "start_time": "2023-01-01T08:59:41.901Z"
   },
   {
    "duration": 0,
    "start_time": "2023-01-01T08:59:42.032Z"
   },
   {
    "duration": 1295,
    "start_time": "2023-01-01T09:00:02.836Z"
   },
   {
    "duration": 497,
    "start_time": "2023-01-01T09:00:19.570Z"
   },
   {
    "duration": 447,
    "start_time": "2023-01-01T09:00:39.379Z"
   },
   {
    "duration": 14,
    "start_time": "2023-01-01T09:00:39.828Z"
   },
   {
    "duration": 32,
    "start_time": "2023-01-01T09:00:39.843Z"
   },
   {
    "duration": 1930,
    "start_time": "2023-01-01T09:00:39.877Z"
   },
   {
    "duration": 9,
    "start_time": "2023-01-01T09:00:41.809Z"
   },
   {
    "duration": 4,
    "start_time": "2023-01-01T09:00:41.820Z"
   },
   {
    "duration": 5,
    "start_time": "2023-01-01T09:00:41.826Z"
   },
   {
    "duration": 4,
    "start_time": "2023-01-01T09:00:41.833Z"
   },
   {
    "duration": 21,
    "start_time": "2023-01-01T09:00:41.839Z"
   },
   {
    "duration": 136,
    "start_time": "2023-01-01T09:00:41.862Z"
   },
   {
    "duration": 4,
    "start_time": "2023-01-01T09:00:42.000Z"
   },
   {
    "duration": 18,
    "start_time": "2023-01-01T09:00:42.005Z"
   },
   {
    "duration": 1953,
    "start_time": "2023-01-01T09:00:42.025Z"
   },
   {
    "duration": 6,
    "start_time": "2023-01-01T09:00:43.979Z"
   },
   {
    "duration": 70,
    "start_time": "2023-01-01T09:01:13.300Z"
   },
   {
    "duration": 443,
    "start_time": "2023-01-01T09:01:19.555Z"
   },
   {
    "duration": 15,
    "start_time": "2023-01-01T09:01:20.000Z"
   },
   {
    "duration": 32,
    "start_time": "2023-01-01T09:01:20.017Z"
   },
   {
    "duration": 1940,
    "start_time": "2023-01-01T09:01:20.051Z"
   },
   {
    "duration": 11,
    "start_time": "2023-01-01T09:01:21.993Z"
   },
   {
    "duration": 9,
    "start_time": "2023-01-01T09:01:22.005Z"
   },
   {
    "duration": 9,
    "start_time": "2023-01-01T09:01:22.015Z"
   },
   {
    "duration": 5,
    "start_time": "2023-01-01T09:01:22.025Z"
   },
   {
    "duration": 19,
    "start_time": "2023-01-01T09:01:22.031Z"
   },
   {
    "duration": 155,
    "start_time": "2023-01-01T09:01:22.053Z"
   },
   {
    "duration": 7,
    "start_time": "2023-01-01T09:01:22.210Z"
   },
   {
    "duration": 28,
    "start_time": "2023-01-01T09:01:22.219Z"
   },
   {
    "duration": 4066,
    "start_time": "2023-01-01T09:01:22.249Z"
   },
   {
    "duration": 7,
    "start_time": "2023-01-01T09:01:26.317Z"
   },
   {
    "duration": 69,
    "start_time": "2023-01-01T09:01:52.169Z"
   },
   {
    "duration": 443,
    "start_time": "2023-01-01T09:02:09.778Z"
   },
   {
    "duration": 13,
    "start_time": "2023-01-01T09:02:10.223Z"
   },
   {
    "duration": 32,
    "start_time": "2023-01-01T09:02:10.238Z"
   },
   {
    "duration": 1944,
    "start_time": "2023-01-01T09:02:10.272Z"
   },
   {
    "duration": 10,
    "start_time": "2023-01-01T09:02:12.217Z"
   },
   {
    "duration": 5,
    "start_time": "2023-01-01T09:02:12.228Z"
   },
   {
    "duration": 7,
    "start_time": "2023-01-01T09:02:12.234Z"
   },
   {
    "duration": 5,
    "start_time": "2023-01-01T09:02:12.242Z"
   },
   {
    "duration": 22,
    "start_time": "2023-01-01T09:02:12.248Z"
   },
   {
    "duration": 148,
    "start_time": "2023-01-01T09:02:12.272Z"
   },
   {
    "duration": 5,
    "start_time": "2023-01-01T09:02:12.422Z"
   },
   {
    "duration": 18,
    "start_time": "2023-01-01T09:02:12.428Z"
   },
   {
    "duration": 117,
    "start_time": "2023-01-01T09:02:12.448Z"
   },
   {
    "duration": 0,
    "start_time": "2023-01-01T09:02:12.567Z"
   },
   {
    "duration": 490,
    "start_time": "2023-01-01T09:03:19.609Z"
   },
   {
    "duration": 13,
    "start_time": "2023-01-01T09:03:20.101Z"
   },
   {
    "duration": 36,
    "start_time": "2023-01-01T09:03:20.116Z"
   },
   {
    "duration": 1938,
    "start_time": "2023-01-01T09:03:20.153Z"
   },
   {
    "duration": 10,
    "start_time": "2023-01-01T09:03:22.095Z"
   },
   {
    "duration": 5,
    "start_time": "2023-01-01T09:03:22.107Z"
   },
   {
    "duration": 5,
    "start_time": "2023-01-01T09:03:22.113Z"
   },
   {
    "duration": 6,
    "start_time": "2023-01-01T09:03:22.119Z"
   },
   {
    "duration": 22,
    "start_time": "2023-01-01T09:03:22.126Z"
   },
   {
    "duration": 143,
    "start_time": "2023-01-01T09:03:22.149Z"
   },
   {
    "duration": 3,
    "start_time": "2023-01-01T09:03:22.294Z"
   },
   {
    "duration": 18,
    "start_time": "2023-01-01T09:03:22.299Z"
   },
   {
    "duration": 1062,
    "start_time": "2023-01-01T09:03:22.318Z"
   },
   {
    "duration": 0,
    "start_time": "2023-01-01T09:03:23.381Z"
   },
   {
    "duration": 14,
    "start_time": "2023-01-01T09:03:59.466Z"
   },
   {
    "duration": 19,
    "start_time": "2023-01-01T09:04:06.615Z"
   },
   {
    "duration": 12,
    "start_time": "2023-01-01T09:04:47.108Z"
   },
   {
    "duration": 488,
    "start_time": "2023-01-01T09:05:00.382Z"
   },
   {
    "duration": 15,
    "start_time": "2023-01-01T09:05:00.872Z"
   },
   {
    "duration": 51,
    "start_time": "2023-01-01T09:05:00.888Z"
   },
   {
    "duration": 1955,
    "start_time": "2023-01-01T09:05:00.941Z"
   },
   {
    "duration": 11,
    "start_time": "2023-01-01T09:05:02.897Z"
   },
   {
    "duration": 5,
    "start_time": "2023-01-01T09:05:02.909Z"
   },
   {
    "duration": 6,
    "start_time": "2023-01-01T09:05:02.915Z"
   },
   {
    "duration": 4,
    "start_time": "2023-01-01T09:05:02.923Z"
   },
   {
    "duration": 73,
    "start_time": "2023-01-01T09:05:02.928Z"
   },
   {
    "duration": 0,
    "start_time": "2023-01-01T09:05:03.002Z"
   },
   {
    "duration": 0,
    "start_time": "2023-01-01T09:05:03.016Z"
   },
   {
    "duration": 0,
    "start_time": "2023-01-01T09:05:03.017Z"
   },
   {
    "duration": 0,
    "start_time": "2023-01-01T09:05:03.018Z"
   },
   {
    "duration": 0,
    "start_time": "2023-01-01T09:05:03.019Z"
   },
   {
    "duration": 13,
    "start_time": "2023-01-01T09:06:13.523Z"
   },
   {
    "duration": 485,
    "start_time": "2023-01-01T09:06:26.309Z"
   },
   {
    "duration": 14,
    "start_time": "2023-01-01T09:06:26.795Z"
   },
   {
    "duration": 30,
    "start_time": "2023-01-01T09:06:26.810Z"
   },
   {
    "duration": 1894,
    "start_time": "2023-01-01T09:06:26.841Z"
   },
   {
    "duration": 9,
    "start_time": "2023-01-01T09:06:28.737Z"
   },
   {
    "duration": 7,
    "start_time": "2023-01-01T09:06:28.747Z"
   },
   {
    "duration": 5,
    "start_time": "2023-01-01T09:06:28.756Z"
   },
   {
    "duration": 5,
    "start_time": "2023-01-01T09:06:28.763Z"
   },
   {
    "duration": 74,
    "start_time": "2023-01-01T09:06:28.769Z"
   },
   {
    "duration": 0,
    "start_time": "2023-01-01T09:06:28.844Z"
   },
   {
    "duration": 0,
    "start_time": "2023-01-01T09:06:28.845Z"
   },
   {
    "duration": 0,
    "start_time": "2023-01-01T09:06:28.846Z"
   },
   {
    "duration": 0,
    "start_time": "2023-01-01T09:06:28.848Z"
   },
   {
    "duration": 0,
    "start_time": "2023-01-01T09:06:28.849Z"
   },
   {
    "duration": 22,
    "start_time": "2023-01-01T09:07:09.310Z"
   },
   {
    "duration": 21,
    "start_time": "2023-01-01T09:07:54.073Z"
   },
   {
    "duration": 713,
    "start_time": "2023-01-01T09:08:14.183Z"
   },
   {
    "duration": 473,
    "start_time": "2023-01-01T09:08:20.223Z"
   },
   {
    "duration": 13,
    "start_time": "2023-01-01T09:08:20.699Z"
   },
   {
    "duration": 37,
    "start_time": "2023-01-01T09:08:20.714Z"
   },
   {
    "duration": 1938,
    "start_time": "2023-01-01T09:08:20.753Z"
   },
   {
    "duration": 9,
    "start_time": "2023-01-01T09:08:22.693Z"
   },
   {
    "duration": 6,
    "start_time": "2023-01-01T09:08:22.703Z"
   },
   {
    "duration": 8,
    "start_time": "2023-01-01T09:08:22.710Z"
   },
   {
    "duration": 5,
    "start_time": "2023-01-01T09:08:22.719Z"
   },
   {
    "duration": 21,
    "start_time": "2023-01-01T09:08:22.726Z"
   },
   {
    "duration": 143,
    "start_time": "2023-01-01T09:08:22.749Z"
   },
   {
    "duration": 5,
    "start_time": "2023-01-01T09:08:22.893Z"
   },
   {
    "duration": 19,
    "start_time": "2023-01-01T09:08:22.899Z"
   },
   {
    "duration": 103,
    "start_time": "2023-01-01T09:08:22.920Z"
   },
   {
    "duration": 0,
    "start_time": "2023-01-01T09:08:23.024Z"
   },
   {
    "duration": 23,
    "start_time": "2023-01-01T09:08:51.820Z"
   },
   {
    "duration": 35,
    "start_time": "2023-01-01T09:14:32.977Z"
   },
   {
    "duration": 516,
    "start_time": "2023-01-01T09:15:47.318Z"
   },
   {
    "duration": 14,
    "start_time": "2023-01-01T09:15:47.835Z"
   },
   {
    "duration": 36,
    "start_time": "2023-01-01T09:15:47.850Z"
   },
   {
    "duration": 1963,
    "start_time": "2023-01-01T09:15:47.888Z"
   },
   {
    "duration": 8,
    "start_time": "2023-01-01T09:15:49.853Z"
   },
   {
    "duration": 11,
    "start_time": "2023-01-01T09:15:49.863Z"
   },
   {
    "duration": 5,
    "start_time": "2023-01-01T09:15:49.875Z"
   },
   {
    "duration": 8,
    "start_time": "2023-01-01T09:15:49.881Z"
   },
   {
    "duration": 17,
    "start_time": "2023-01-01T09:15:49.890Z"
   },
   {
    "duration": 126,
    "start_time": "2023-01-01T09:15:49.909Z"
   },
   {
    "duration": 4,
    "start_time": "2023-01-01T09:15:50.036Z"
   },
   {
    "duration": 22,
    "start_time": "2023-01-01T09:15:50.042Z"
   },
   {
    "duration": 3399,
    "start_time": "2023-01-01T09:15:50.065Z"
   },
   {
    "duration": 5,
    "start_time": "2023-01-01T09:15:53.466Z"
   },
   {
    "duration": 82,
    "start_time": "2023-01-01T09:15:58.441Z"
   },
   {
    "duration": 19,
    "start_time": "2023-01-01T09:16:07.072Z"
   },
   {
    "duration": 14,
    "start_time": "2023-01-01T09:16:21.339Z"
   },
   {
    "duration": 8,
    "start_time": "2023-01-01T09:16:28.683Z"
   },
   {
    "duration": 487,
    "start_time": "2023-01-01T09:16:40.516Z"
   },
   {
    "duration": 20,
    "start_time": "2023-01-01T09:16:41.005Z"
   },
   {
    "duration": 54,
    "start_time": "2023-01-01T09:16:41.027Z"
   },
   {
    "duration": 1976,
    "start_time": "2023-01-01T09:16:41.083Z"
   },
   {
    "duration": 11,
    "start_time": "2023-01-01T09:16:43.061Z"
   },
   {
    "duration": 6,
    "start_time": "2023-01-01T09:16:43.074Z"
   },
   {
    "duration": 10,
    "start_time": "2023-01-01T09:16:43.081Z"
   },
   {
    "duration": 10,
    "start_time": "2023-01-01T09:16:43.092Z"
   },
   {
    "duration": 102,
    "start_time": "2023-01-01T09:16:43.104Z"
   },
   {
    "duration": 0,
    "start_time": "2023-01-01T09:16:43.208Z"
   },
   {
    "duration": 0,
    "start_time": "2023-01-01T09:16:43.209Z"
   },
   {
    "duration": 0,
    "start_time": "2023-01-01T09:16:43.210Z"
   },
   {
    "duration": 0,
    "start_time": "2023-01-01T09:16:43.215Z"
   },
   {
    "duration": 1,
    "start_time": "2023-01-01T09:16:43.216Z"
   },
   {
    "duration": 16,
    "start_time": "2023-01-01T09:19:29.804Z"
   },
   {
    "duration": 444,
    "start_time": "2023-01-01T09:19:35.764Z"
   },
   {
    "duration": 22,
    "start_time": "2023-01-01T09:19:36.210Z"
   },
   {
    "duration": 45,
    "start_time": "2023-01-01T09:19:36.235Z"
   },
   {
    "duration": 1957,
    "start_time": "2023-01-01T09:19:36.282Z"
   },
   {
    "duration": 9,
    "start_time": "2023-01-01T09:19:38.242Z"
   },
   {
    "duration": 5,
    "start_time": "2023-01-01T09:19:38.253Z"
   },
   {
    "duration": 7,
    "start_time": "2023-01-01T09:19:38.259Z"
   },
   {
    "duration": 9,
    "start_time": "2023-01-01T09:19:38.268Z"
   },
   {
    "duration": 16,
    "start_time": "2023-01-01T09:19:38.279Z"
   },
   {
    "duration": 120,
    "start_time": "2023-01-01T09:19:38.297Z"
   },
   {
    "duration": 3,
    "start_time": "2023-01-01T09:19:38.419Z"
   },
   {
    "duration": 12,
    "start_time": "2023-01-01T09:19:38.424Z"
   },
   {
    "duration": 3304,
    "start_time": "2023-01-01T09:19:38.437Z"
   },
   {
    "duration": 6,
    "start_time": "2023-01-01T09:19:41.742Z"
   },
   {
    "duration": 516,
    "start_time": "2023-01-01T09:20:16.204Z"
   },
   {
    "duration": 14,
    "start_time": "2023-01-01T09:20:16.722Z"
   },
   {
    "duration": 33,
    "start_time": "2023-01-01T09:20:16.737Z"
   },
   {
    "duration": 1971,
    "start_time": "2023-01-01T09:20:16.772Z"
   },
   {
    "duration": 9,
    "start_time": "2023-01-01T09:20:18.745Z"
   },
   {
    "duration": 5,
    "start_time": "2023-01-01T09:20:18.755Z"
   },
   {
    "duration": 6,
    "start_time": "2023-01-01T09:20:18.761Z"
   },
   {
    "duration": 6,
    "start_time": "2023-01-01T09:20:18.768Z"
   },
   {
    "duration": 17,
    "start_time": "2023-01-01T09:20:18.775Z"
   },
   {
    "duration": 125,
    "start_time": "2023-01-01T09:20:18.794Z"
   },
   {
    "duration": 4,
    "start_time": "2023-01-01T09:20:18.920Z"
   },
   {
    "duration": 15,
    "start_time": "2023-01-01T09:20:18.926Z"
   },
   {
    "duration": 3302,
    "start_time": "2023-01-01T09:20:18.942Z"
   },
   {
    "duration": 478,
    "start_time": "2023-01-01T09:21:50.222Z"
   },
   {
    "duration": 13,
    "start_time": "2023-01-01T09:21:50.702Z"
   },
   {
    "duration": 37,
    "start_time": "2023-01-01T09:21:50.717Z"
   },
   {
    "duration": 1935,
    "start_time": "2023-01-01T09:21:50.755Z"
   },
   {
    "duration": 9,
    "start_time": "2023-01-01T09:21:52.692Z"
   },
   {
    "duration": 8,
    "start_time": "2023-01-01T09:21:52.702Z"
   },
   {
    "duration": 6,
    "start_time": "2023-01-01T09:21:52.711Z"
   },
   {
    "duration": 5,
    "start_time": "2023-01-01T09:21:52.718Z"
   },
   {
    "duration": 19,
    "start_time": "2023-01-01T09:21:52.724Z"
   },
   {
    "duration": 126,
    "start_time": "2023-01-01T09:21:52.744Z"
   },
   {
    "duration": 4,
    "start_time": "2023-01-01T09:21:52.871Z"
   },
   {
    "duration": 13,
    "start_time": "2023-01-01T09:21:52.876Z"
   },
   {
    "duration": 1917,
    "start_time": "2023-01-01T09:21:52.890Z"
   },
   {
    "duration": 44,
    "start_time": "2023-01-01T09:28:28.687Z"
   },
   {
    "duration": 76,
    "start_time": "2023-01-01T09:29:04.146Z"
   },
   {
    "duration": 438,
    "start_time": "2023-01-01T09:29:17.048Z"
   },
   {
    "duration": 13,
    "start_time": "2023-01-01T09:29:17.488Z"
   },
   {
    "duration": 32,
    "start_time": "2023-01-01T09:29:17.502Z"
   },
   {
    "duration": 1915,
    "start_time": "2023-01-01T09:29:17.536Z"
   },
   {
    "duration": 9,
    "start_time": "2023-01-01T09:29:19.452Z"
   },
   {
    "duration": 6,
    "start_time": "2023-01-01T09:29:19.462Z"
   },
   {
    "duration": 5,
    "start_time": "2023-01-01T09:29:19.469Z"
   },
   {
    "duration": 7,
    "start_time": "2023-01-01T09:29:19.475Z"
   },
   {
    "duration": 18,
    "start_time": "2023-01-01T09:29:19.483Z"
   },
   {
    "duration": 122,
    "start_time": "2023-01-01T09:29:19.503Z"
   },
   {
    "duration": 4,
    "start_time": "2023-01-01T09:29:19.627Z"
   },
   {
    "duration": 11,
    "start_time": "2023-01-01T09:29:19.633Z"
   },
   {
    "duration": 91,
    "start_time": "2023-01-01T09:29:19.646Z"
   },
   {
    "duration": 2003,
    "start_time": "2023-01-01T09:29:29.832Z"
   },
   {
    "duration": 11,
    "start_time": "2023-01-01T09:29:42.312Z"
   },
   {
    "duration": 1877,
    "start_time": "2023-01-01T09:36:31.046Z"
   },
   {
    "duration": 11,
    "start_time": "2023-01-01T09:36:37.081Z"
   },
   {
    "duration": 426,
    "start_time": "2023-01-01T09:36:44.968Z"
   },
   {
    "duration": 16,
    "start_time": "2023-01-01T09:36:45.396Z"
   },
   {
    "duration": 33,
    "start_time": "2023-01-01T09:36:45.413Z"
   },
   {
    "duration": 1999,
    "start_time": "2023-01-01T09:36:45.448Z"
   },
   {
    "duration": 9,
    "start_time": "2023-01-01T09:36:47.449Z"
   },
   {
    "duration": 6,
    "start_time": "2023-01-01T09:36:47.460Z"
   },
   {
    "duration": 12,
    "start_time": "2023-01-01T09:36:47.468Z"
   },
   {
    "duration": 6,
    "start_time": "2023-01-01T09:36:47.481Z"
   },
   {
    "duration": 16,
    "start_time": "2023-01-01T09:36:47.488Z"
   },
   {
    "duration": 122,
    "start_time": "2023-01-01T09:36:47.505Z"
   },
   {
    "duration": 5,
    "start_time": "2023-01-01T09:36:47.628Z"
   },
   {
    "duration": 1926,
    "start_time": "2023-01-01T09:36:47.634Z"
   },
   {
    "duration": 11,
    "start_time": "2023-01-01T09:36:49.562Z"
   },
   {
    "duration": 1839,
    "start_time": "2023-01-01T09:37:33.466Z"
   },
   {
    "duration": 61,
    "start_time": "2023-01-01T09:43:19.238Z"
   },
   {
    "duration": 49,
    "start_time": "2023-01-01T16:30:57.760Z"
   },
   {
    "duration": 1080,
    "start_time": "2023-01-01T16:31:06.480Z"
   },
   {
    "duration": 16,
    "start_time": "2023-01-01T16:31:07.563Z"
   },
   {
    "duration": 34,
    "start_time": "2023-01-01T16:31:07.581Z"
   },
   {
    "duration": 2316,
    "start_time": "2023-01-01T16:31:07.616Z"
   },
   {
    "duration": 9,
    "start_time": "2023-01-01T16:31:09.934Z"
   },
   {
    "duration": 11,
    "start_time": "2023-01-01T16:31:09.945Z"
   },
   {
    "duration": 5,
    "start_time": "2023-01-01T16:31:09.957Z"
   },
   {
    "duration": 8,
    "start_time": "2023-01-01T16:31:09.963Z"
   },
   {
    "duration": 17,
    "start_time": "2023-01-01T16:31:09.973Z"
   },
   {
    "duration": 128,
    "start_time": "2023-01-01T16:31:09.991Z"
   },
   {
    "duration": 4,
    "start_time": "2023-01-01T16:31:10.120Z"
   },
   {
    "duration": 1949,
    "start_time": "2023-01-01T16:31:10.126Z"
   },
   {
    "duration": 9,
    "start_time": "2023-01-01T16:31:12.077Z"
   },
   {
    "duration": 603,
    "start_time": "2023-01-01T16:31:12.088Z"
   },
   {
    "duration": 53,
    "start_time": "2023-01-01T16:31:30.316Z"
   },
   {
    "duration": 6,
    "start_time": "2023-01-01T16:33:55.204Z"
   },
   {
    "duration": 10,
    "start_time": "2023-01-01T16:34:01.491Z"
   },
   {
    "duration": 439,
    "start_time": "2023-01-01T16:35:12.345Z"
   },
   {
    "duration": 15,
    "start_time": "2023-01-01T16:35:12.786Z"
   },
   {
    "duration": 36,
    "start_time": "2023-01-01T16:35:12.802Z"
   },
   {
    "duration": 2028,
    "start_time": "2023-01-01T16:35:12.840Z"
   },
   {
    "duration": 10,
    "start_time": "2023-01-01T16:35:14.871Z"
   },
   {
    "duration": 7,
    "start_time": "2023-01-01T16:35:14.883Z"
   },
   {
    "duration": 11,
    "start_time": "2023-01-01T16:35:14.891Z"
   },
   {
    "duration": 8,
    "start_time": "2023-01-01T16:35:14.903Z"
   },
   {
    "duration": 19,
    "start_time": "2023-01-01T16:35:14.912Z"
   },
   {
    "duration": 132,
    "start_time": "2023-01-01T16:35:14.933Z"
   },
   {
    "duration": 4,
    "start_time": "2023-01-01T16:35:15.067Z"
   },
   {
    "duration": 1881,
    "start_time": "2023-01-01T16:35:15.073Z"
   },
   {
    "duration": 11,
    "start_time": "2023-01-01T16:35:16.955Z"
   },
   {
    "duration": 6,
    "start_time": "2023-01-01T16:35:16.969Z"
   },
   {
    "duration": 69,
    "start_time": "2023-01-01T16:37:05.142Z"
   },
   {
    "duration": 9,
    "start_time": "2023-01-01T16:37:10.950Z"
   },
   {
    "duration": 6,
    "start_time": "2023-01-01T16:38:50.638Z"
   },
   {
    "duration": 6,
    "start_time": "2023-01-01T16:39:39.100Z"
   },
   {
    "duration": 6,
    "start_time": "2023-01-01T16:40:14.692Z"
   },
   {
    "duration": 488,
    "start_time": "2023-01-01T16:40:19.600Z"
   },
   {
    "duration": 14,
    "start_time": "2023-01-01T16:40:20.090Z"
   },
   {
    "duration": 33,
    "start_time": "2023-01-01T16:40:20.106Z"
   },
   {
    "duration": 2023,
    "start_time": "2023-01-01T16:40:20.140Z"
   },
   {
    "duration": 6,
    "start_time": "2023-01-01T16:40:22.165Z"
   },
   {
    "duration": 12,
    "start_time": "2023-01-01T16:40:22.173Z"
   },
   {
    "duration": 5,
    "start_time": "2023-01-01T16:40:22.187Z"
   },
   {
    "duration": 9,
    "start_time": "2023-01-01T16:40:22.193Z"
   },
   {
    "duration": 9,
    "start_time": "2023-01-01T16:40:22.204Z"
   },
   {
    "duration": 17,
    "start_time": "2023-01-01T16:40:22.215Z"
   },
   {
    "duration": 132,
    "start_time": "2023-01-01T16:40:22.234Z"
   },
   {
    "duration": 4,
    "start_time": "2023-01-01T16:40:22.367Z"
   },
   {
    "duration": 1877,
    "start_time": "2023-01-01T16:40:22.372Z"
   },
   {
    "duration": 10,
    "start_time": "2023-01-01T16:40:24.250Z"
   },
   {
    "duration": 16,
    "start_time": "2023-01-01T16:40:24.261Z"
   },
   {
    "duration": 31,
    "start_time": "2023-01-01T16:40:24.278Z"
   },
   {
    "duration": 68,
    "start_time": "2023-01-01T16:49:11.957Z"
   },
   {
    "duration": 16,
    "start_time": "2023-01-01T16:50:31.156Z"
   },
   {
    "duration": 17,
    "start_time": "2023-01-01T16:50:54.615Z"
   },
   {
    "duration": 48,
    "start_time": "2023-01-01T16:51:34.479Z"
   },
   {
    "duration": 8,
    "start_time": "2023-01-01T16:52:05.523Z"
   },
   {
    "duration": 9,
    "start_time": "2023-01-01T16:52:14.902Z"
   },
   {
    "duration": 36,
    "start_time": "2023-01-01T16:52:29.361Z"
   },
   {
    "duration": 51,
    "start_time": "2023-01-01T16:53:06.975Z"
   },
   {
    "duration": 38,
    "start_time": "2023-01-01T16:53:18.123Z"
   },
   {
    "duration": 660,
    "start_time": "2023-01-01T16:53:25.547Z"
   },
   {
    "duration": 754,
    "start_time": "2023-01-01T16:53:30.853Z"
   },
   {
    "duration": 671,
    "start_time": "2023-01-01T16:53:34.647Z"
   },
   {
    "duration": 423,
    "start_time": "2023-01-01T16:53:45.663Z"
   },
   {
    "duration": 15,
    "start_time": "2023-01-01T16:53:46.088Z"
   },
   {
    "duration": 32,
    "start_time": "2023-01-01T16:53:46.104Z"
   },
   {
    "duration": 2057,
    "start_time": "2023-01-01T16:53:46.138Z"
   },
   {
    "duration": 9,
    "start_time": "2023-01-01T16:53:48.197Z"
   },
   {
    "duration": 6,
    "start_time": "2023-01-01T16:53:48.208Z"
   },
   {
    "duration": 6,
    "start_time": "2023-01-01T16:53:48.215Z"
   },
   {
    "duration": 6,
    "start_time": "2023-01-01T16:53:48.222Z"
   },
   {
    "duration": 21,
    "start_time": "2023-01-01T16:53:48.229Z"
   },
   {
    "duration": 146,
    "start_time": "2023-01-01T16:53:48.252Z"
   },
   {
    "duration": 4,
    "start_time": "2023-01-01T16:53:48.400Z"
   },
   {
    "duration": 2009,
    "start_time": "2023-01-01T16:53:48.405Z"
   },
   {
    "duration": 10,
    "start_time": "2023-01-01T16:53:50.416Z"
   },
   {
    "duration": 6,
    "start_time": "2023-01-01T16:53:50.427Z"
   },
   {
    "duration": 6,
    "start_time": "2023-01-01T16:53:50.434Z"
   },
   {
    "duration": 785,
    "start_time": "2023-01-01T16:53:50.441Z"
   },
   {
    "duration": 715,
    "start_time": "2023-01-01T16:54:55.440Z"
   },
   {
    "duration": 461,
    "start_time": "2023-01-01T16:55:00.948Z"
   },
   {
    "duration": 15,
    "start_time": "2023-01-01T16:55:01.411Z"
   },
   {
    "duration": 52,
    "start_time": "2023-01-01T16:55:01.427Z"
   },
   {
    "duration": 2070,
    "start_time": "2023-01-01T16:55:01.481Z"
   },
   {
    "duration": 9,
    "start_time": "2023-01-01T16:55:03.553Z"
   },
   {
    "duration": 6,
    "start_time": "2023-01-01T16:55:03.563Z"
   },
   {
    "duration": 15,
    "start_time": "2023-01-01T16:55:03.570Z"
   },
   {
    "duration": 5,
    "start_time": "2023-01-01T16:55:03.586Z"
   },
   {
    "duration": 20,
    "start_time": "2023-01-01T16:55:03.593Z"
   },
   {
    "duration": 128,
    "start_time": "2023-01-01T16:55:03.616Z"
   },
   {
    "duration": 5,
    "start_time": "2023-01-01T16:55:03.746Z"
   },
   {
    "duration": 1971,
    "start_time": "2023-01-01T16:55:03.753Z"
   },
   {
    "duration": 11,
    "start_time": "2023-01-01T16:55:05.726Z"
   },
   {
    "duration": 8,
    "start_time": "2023-01-01T16:55:05.738Z"
   },
   {
    "duration": 9,
    "start_time": "2023-01-01T16:55:05.747Z"
   },
   {
    "duration": 128,
    "start_time": "2023-01-01T16:55:05.758Z"
   },
   {
    "duration": 47,
    "start_time": "2023-01-01T16:55:32.893Z"
   },
   {
    "duration": 43,
    "start_time": "2023-01-01T16:56:59.741Z"
   },
   {
    "duration": 47,
    "start_time": "2023-01-01T16:57:13.399Z"
   },
   {
    "duration": 43,
    "start_time": "2023-01-01T16:57:19.171Z"
   },
   {
    "duration": 22,
    "start_time": "2023-01-01T16:57:24.448Z"
   },
   {
    "duration": 421,
    "start_time": "2023-01-01T16:58:11.368Z"
   },
   {
    "duration": 15,
    "start_time": "2023-01-01T16:58:11.791Z"
   },
   {
    "duration": 33,
    "start_time": "2023-01-01T16:58:11.807Z"
   },
   {
    "duration": 2014,
    "start_time": "2023-01-01T16:58:11.841Z"
   },
   {
    "duration": 9,
    "start_time": "2023-01-01T16:58:13.857Z"
   },
   {
    "duration": 5,
    "start_time": "2023-01-01T16:58:13.868Z"
   },
   {
    "duration": 5,
    "start_time": "2023-01-01T16:58:13.874Z"
   },
   {
    "duration": 5,
    "start_time": "2023-01-01T16:58:13.880Z"
   },
   {
    "duration": 16,
    "start_time": "2023-01-01T16:58:13.886Z"
   },
   {
    "duration": 121,
    "start_time": "2023-01-01T16:58:13.904Z"
   },
   {
    "duration": 4,
    "start_time": "2023-01-01T16:58:14.027Z"
   },
   {
    "duration": 1940,
    "start_time": "2023-01-01T16:58:14.033Z"
   },
   {
    "duration": 11,
    "start_time": "2023-01-01T16:58:15.975Z"
   },
   {
    "duration": 6,
    "start_time": "2023-01-01T16:58:15.987Z"
   },
   {
    "duration": 21,
    "start_time": "2023-01-01T16:58:15.994Z"
   },
   {
    "duration": 68,
    "start_time": "2023-01-01T16:58:17.852Z"
   },
   {
    "duration": 23,
    "start_time": "2023-01-01T16:58:53.785Z"
   },
   {
    "duration": 459,
    "start_time": "2023-01-01T16:59:05.028Z"
   },
   {
    "duration": 14,
    "start_time": "2023-01-01T16:59:05.489Z"
   },
   {
    "duration": 33,
    "start_time": "2023-01-01T16:59:05.504Z"
   },
   {
    "duration": 2064,
    "start_time": "2023-01-01T16:59:05.539Z"
   },
   {
    "duration": 9,
    "start_time": "2023-01-01T16:59:07.605Z"
   },
   {
    "duration": 6,
    "start_time": "2023-01-01T16:59:07.616Z"
   },
   {
    "duration": 5,
    "start_time": "2023-01-01T16:59:07.623Z"
   },
   {
    "duration": 5,
    "start_time": "2023-01-01T16:59:07.630Z"
   },
   {
    "duration": 16,
    "start_time": "2023-01-01T16:59:07.637Z"
   },
   {
    "duration": 135,
    "start_time": "2023-01-01T16:59:07.655Z"
   },
   {
    "duration": 4,
    "start_time": "2023-01-01T16:59:07.791Z"
   },
   {
    "duration": 1839,
    "start_time": "2023-01-01T16:59:07.796Z"
   },
   {
    "duration": 8,
    "start_time": "2023-01-01T16:59:09.637Z"
   },
   {
    "duration": 5,
    "start_time": "2023-01-01T16:59:09.647Z"
   },
   {
    "duration": 5,
    "start_time": "2023-01-01T16:59:09.654Z"
   },
   {
    "duration": 68,
    "start_time": "2023-01-01T16:59:09.660Z"
   },
   {
    "duration": 423,
    "start_time": "2023-01-01T16:59:29.770Z"
   },
   {
    "duration": 17,
    "start_time": "2023-01-01T16:59:30.195Z"
   },
   {
    "duration": 36,
    "start_time": "2023-01-01T16:59:30.213Z"
   },
   {
    "duration": 2110,
    "start_time": "2023-01-01T16:59:30.250Z"
   },
   {
    "duration": 10,
    "start_time": "2023-01-01T16:59:32.362Z"
   },
   {
    "duration": 6,
    "start_time": "2023-01-01T16:59:32.374Z"
   },
   {
    "duration": 12,
    "start_time": "2023-01-01T16:59:32.382Z"
   },
   {
    "duration": 9,
    "start_time": "2023-01-01T16:59:32.395Z"
   },
   {
    "duration": 23,
    "start_time": "2023-01-01T16:59:32.406Z"
   },
   {
    "duration": 149,
    "start_time": "2023-01-01T16:59:32.431Z"
   },
   {
    "duration": 6,
    "start_time": "2023-01-01T16:59:32.582Z"
   },
   {
    "duration": 1841,
    "start_time": "2023-01-01T16:59:32.590Z"
   },
   {
    "duration": 9,
    "start_time": "2023-01-01T16:59:34.433Z"
   },
   {
    "duration": 4,
    "start_time": "2023-01-01T16:59:34.444Z"
   },
   {
    "duration": 8,
    "start_time": "2023-01-01T16:59:34.449Z"
   },
   {
    "duration": 72,
    "start_time": "2023-01-01T16:59:34.458Z"
   },
   {
    "duration": 502,
    "start_time": "2023-01-01T16:59:54.714Z"
   },
   {
    "duration": 14,
    "start_time": "2023-01-01T16:59:55.218Z"
   },
   {
    "duration": 47,
    "start_time": "2023-01-01T16:59:55.234Z"
   },
   {
    "duration": 2185,
    "start_time": "2023-01-01T16:59:55.282Z"
   },
   {
    "duration": 9,
    "start_time": "2023-01-01T16:59:57.470Z"
   },
   {
    "duration": 5,
    "start_time": "2023-01-01T16:59:57.480Z"
   },
   {
    "duration": 6,
    "start_time": "2023-01-01T16:59:57.487Z"
   },
   {
    "duration": 7,
    "start_time": "2023-01-01T16:59:57.495Z"
   },
   {
    "duration": 29,
    "start_time": "2023-01-01T16:59:57.503Z"
   },
   {
    "duration": 117,
    "start_time": "2023-01-01T16:59:57.533Z"
   },
   {
    "duration": 4,
    "start_time": "2023-01-01T16:59:57.652Z"
   },
   {
    "duration": 1901,
    "start_time": "2023-01-01T16:59:57.657Z"
   },
   {
    "duration": 12,
    "start_time": "2023-01-01T16:59:59.560Z"
   },
   {
    "duration": 15,
    "start_time": "2023-01-01T16:59:59.575Z"
   },
   {
    "duration": 5,
    "start_time": "2023-01-01T16:59:59.592Z"
   },
   {
    "duration": 18,
    "start_time": "2023-01-01T16:59:59.599Z"
   },
   {
    "duration": 7,
    "start_time": "2023-01-01T17:01:17.888Z"
   },
   {
    "duration": 7,
    "start_time": "2023-01-01T17:01:34.422Z"
   },
   {
    "duration": 8,
    "start_time": "2023-01-01T17:01:52.897Z"
   },
   {
    "duration": 8,
    "start_time": "2023-01-01T17:02:27.530Z"
   },
   {
    "duration": 7,
    "start_time": "2023-01-01T17:02:36.786Z"
   },
   {
    "duration": 7,
    "start_time": "2023-01-01T17:02:42.871Z"
   },
   {
    "duration": 6,
    "start_time": "2023-01-01T17:02:46.147Z"
   },
   {
    "duration": 6,
    "start_time": "2023-01-01T17:02:53.985Z"
   },
   {
    "duration": 7,
    "start_time": "2023-01-01T17:03:04.670Z"
   },
   {
    "duration": 9,
    "start_time": "2023-01-01T17:03:53.075Z"
   },
   {
    "duration": 9,
    "start_time": "2023-01-01T17:04:15.521Z"
   },
   {
    "duration": 9,
    "start_time": "2023-01-01T17:04:28.989Z"
   },
   {
    "duration": 40,
    "start_time": "2023-01-01T17:04:45.786Z"
   },
   {
    "duration": 10,
    "start_time": "2023-01-01T17:04:47.724Z"
   },
   {
    "duration": 12,
    "start_time": "2023-01-01T17:05:03.209Z"
   },
   {
    "duration": 9,
    "start_time": "2023-01-01T17:05:07.802Z"
   },
   {
    "duration": 12,
    "start_time": "2023-01-01T17:06:42.156Z"
   },
   {
    "duration": 10,
    "start_time": "2023-01-01T17:09:45.536Z"
   },
   {
    "duration": 10,
    "start_time": "2023-01-01T17:10:25.114Z"
   },
   {
    "duration": 72,
    "start_time": "2023-01-01T17:12:14.334Z"
   },
   {
    "duration": 14,
    "start_time": "2023-01-01T17:12:35.236Z"
   },
   {
    "duration": 9,
    "start_time": "2023-01-01T17:13:02.692Z"
   },
   {
    "duration": 13,
    "start_time": "2023-01-01T17:13:06.511Z"
   },
   {
    "duration": 11,
    "start_time": "2023-01-01T17:14:20.256Z"
   },
   {
    "duration": 10,
    "start_time": "2023-01-01T17:14:24.784Z"
   },
   {
    "duration": 487,
    "start_time": "2023-01-01T17:14:32.920Z"
   },
   {
    "duration": 16,
    "start_time": "2023-01-01T17:14:33.409Z"
   },
   {
    "duration": 37,
    "start_time": "2023-01-01T17:14:33.427Z"
   },
   {
    "duration": 2160,
    "start_time": "2023-01-01T17:14:33.467Z"
   },
   {
    "duration": 9,
    "start_time": "2023-01-01T17:14:35.629Z"
   },
   {
    "duration": 20,
    "start_time": "2023-01-01T17:14:35.639Z"
   },
   {
    "duration": 7,
    "start_time": "2023-01-01T17:14:35.660Z"
   },
   {
    "duration": 6,
    "start_time": "2023-01-01T17:14:35.668Z"
   },
   {
    "duration": 17,
    "start_time": "2023-01-01T17:14:35.675Z"
   },
   {
    "duration": 120,
    "start_time": "2023-01-01T17:14:35.694Z"
   },
   {
    "duration": 4,
    "start_time": "2023-01-01T17:14:35.816Z"
   },
   {
    "duration": 2027,
    "start_time": "2023-01-01T17:14:35.821Z"
   },
   {
    "duration": 10,
    "start_time": "2023-01-01T17:14:37.849Z"
   },
   {
    "duration": 6,
    "start_time": "2023-01-01T17:14:37.860Z"
   },
   {
    "duration": 6,
    "start_time": "2023-01-01T17:14:37.867Z"
   },
   {
    "duration": 10,
    "start_time": "2023-01-01T17:14:37.875Z"
   },
   {
    "duration": 31,
    "start_time": "2023-01-01T17:14:37.887Z"
   },
   {
    "duration": 11,
    "start_time": "2023-01-01T17:14:37.920Z"
   },
   {
    "duration": 8,
    "start_time": "2023-01-01T17:15:34.623Z"
   },
   {
    "duration": 7,
    "start_time": "2023-01-01T17:16:06.406Z"
   },
   {
    "duration": 6,
    "start_time": "2023-01-01T17:16:20.363Z"
   },
   {
    "duration": 6,
    "start_time": "2023-01-01T17:16:35.597Z"
   },
   {
    "duration": 6,
    "start_time": "2023-01-01T17:17:05.625Z"
   },
   {
    "duration": 4,
    "start_time": "2023-01-01T17:19:20.286Z"
   },
   {
    "duration": 6,
    "start_time": "2023-01-01T17:19:22.710Z"
   },
   {
    "duration": 748,
    "start_time": "2023-01-01T17:25:21.380Z"
   },
   {
    "duration": 7,
    "start_time": "2023-01-01T17:25:25.013Z"
   },
   {
    "duration": 7,
    "start_time": "2023-01-01T17:25:52.257Z"
   },
   {
    "duration": 6,
    "start_time": "2023-01-01T17:25:58.087Z"
   },
   {
    "duration": 953,
    "start_time": "2023-01-02T05:02:11.755Z"
   },
   {
    "duration": 13,
    "start_time": "2023-01-02T05:02:12.710Z"
   },
   {
    "duration": 33,
    "start_time": "2023-01-02T05:02:12.724Z"
   },
   {
    "duration": 2090,
    "start_time": "2023-01-02T05:02:12.758Z"
   },
   {
    "duration": 8,
    "start_time": "2023-01-02T05:02:14.850Z"
   },
   {
    "duration": 27,
    "start_time": "2023-01-02T05:02:14.860Z"
   },
   {
    "duration": 16,
    "start_time": "2023-01-02T05:02:14.888Z"
   },
   {
    "duration": 5,
    "start_time": "2023-01-02T05:02:14.905Z"
   },
   {
    "duration": 21,
    "start_time": "2023-01-02T05:02:14.912Z"
   },
   {
    "duration": 123,
    "start_time": "2023-01-02T05:02:14.935Z"
   },
   {
    "duration": 5,
    "start_time": "2023-01-02T05:02:15.059Z"
   },
   {
    "duration": 1896,
    "start_time": "2023-01-02T05:02:15.065Z"
   },
   {
    "duration": 9,
    "start_time": "2023-01-02T05:02:16.963Z"
   },
   {
    "duration": 13,
    "start_time": "2023-01-02T05:02:16.973Z"
   },
   {
    "duration": 8,
    "start_time": "2023-01-02T05:02:16.987Z"
   },
   {
    "duration": 9,
    "start_time": "2023-01-02T05:02:16.996Z"
   },
   {
    "duration": 20,
    "start_time": "2023-01-02T05:02:17.006Z"
   },
   {
    "duration": 10,
    "start_time": "2023-01-02T05:02:17.027Z"
   },
   {
    "duration": 6,
    "start_time": "2023-01-02T05:02:17.039Z"
   },
   {
    "duration": 4,
    "start_time": "2023-01-02T05:02:17.047Z"
   },
   {
    "duration": 14,
    "start_time": "2023-01-02T05:08:28.144Z"
   },
   {
    "duration": 67,
    "start_time": "2023-01-02T05:08:39.925Z"
   },
   {
    "duration": 7,
    "start_time": "2023-01-02T05:08:45.499Z"
   },
   {
    "duration": 5,
    "start_time": "2023-01-02T05:08:49.676Z"
   },
   {
    "duration": 44,
    "start_time": "2023-01-02T05:09:22.347Z"
   },
   {
    "duration": 10,
    "start_time": "2023-01-02T05:09:28.549Z"
   },
   {
    "duration": 31,
    "start_time": "2023-01-02T05:10:05.813Z"
   },
   {
    "duration": 5,
    "start_time": "2023-01-02T05:10:20.487Z"
   },
   {
    "duration": 25,
    "start_time": "2023-01-02T05:10:47.934Z"
   },
   {
    "duration": 6,
    "start_time": "2023-01-02T05:12:05.463Z"
   },
   {
    "duration": 14,
    "start_time": "2023-01-02T05:13:15.843Z"
   },
   {
    "duration": 64,
    "start_time": "2023-01-02T05:14:50.366Z"
   },
   {
    "duration": 65,
    "start_time": "2023-01-02T05:14:56.034Z"
   },
   {
    "duration": 474,
    "start_time": "2023-01-02T05:33:14.628Z"
   },
   {
    "duration": 14,
    "start_time": "2023-01-02T05:33:15.104Z"
   },
   {
    "duration": 46,
    "start_time": "2023-01-02T05:33:15.119Z"
   },
   {
    "duration": 1984,
    "start_time": "2023-01-02T05:33:15.168Z"
   },
   {
    "duration": 9,
    "start_time": "2023-01-02T05:33:17.153Z"
   },
   {
    "duration": 11,
    "start_time": "2023-01-02T05:33:17.164Z"
   },
   {
    "duration": 22,
    "start_time": "2023-01-02T05:33:17.177Z"
   },
   {
    "duration": 9,
    "start_time": "2023-01-02T05:33:17.201Z"
   },
   {
    "duration": 17,
    "start_time": "2023-01-02T05:33:17.211Z"
   },
   {
    "duration": 122,
    "start_time": "2023-01-02T05:33:17.231Z"
   },
   {
    "duration": 4,
    "start_time": "2023-01-02T05:33:17.355Z"
   },
   {
    "duration": 1935,
    "start_time": "2023-01-02T05:33:17.360Z"
   },
   {
    "duration": 10,
    "start_time": "2023-01-02T05:33:19.297Z"
   },
   {
    "duration": 12,
    "start_time": "2023-01-02T05:33:19.309Z"
   },
   {
    "duration": 78,
    "start_time": "2023-01-02T05:33:19.323Z"
   },
   {
    "duration": 7,
    "start_time": "2023-01-02T05:33:19.403Z"
   },
   {
    "duration": 18,
    "start_time": "2023-01-02T05:33:19.412Z"
   },
   {
    "duration": 12,
    "start_time": "2023-01-02T05:33:19.432Z"
   },
   {
    "duration": 10,
    "start_time": "2023-01-02T05:33:19.446Z"
   },
   {
    "duration": 8,
    "start_time": "2023-01-02T05:33:19.457Z"
   },
   {
    "duration": 13,
    "start_time": "2023-01-02T05:33:19.466Z"
   },
   {
    "duration": 18,
    "start_time": "2023-01-02T05:33:19.481Z"
   },
   {
    "duration": 4,
    "start_time": "2023-01-02T05:33:19.500Z"
   },
   {
    "duration": 28,
    "start_time": "2023-01-02T05:33:19.520Z"
   },
   {
    "duration": 67,
    "start_time": "2023-01-02T05:34:12.654Z"
   },
   {
    "duration": 78,
    "start_time": "2023-01-02T05:35:08.016Z"
   },
   {
    "duration": 84,
    "start_time": "2023-01-02T05:35:59.433Z"
   },
   {
    "duration": 74,
    "start_time": "2023-01-02T05:36:37.088Z"
   },
   {
    "duration": 80,
    "start_time": "2023-01-02T05:36:41.018Z"
   },
   {
    "duration": 25,
    "start_time": "2023-01-02T05:38:42.197Z"
   },
   {
    "duration": 16,
    "start_time": "2023-01-02T05:39:39.439Z"
   },
   {
    "duration": 16,
    "start_time": "2023-01-02T05:41:40.580Z"
   },
   {
    "duration": 30,
    "start_time": "2023-01-02T05:43:43.187Z"
   },
   {
    "duration": 24,
    "start_time": "2023-01-02T05:43:50.932Z"
   },
   {
    "duration": 37,
    "start_time": "2023-01-02T05:43:59.327Z"
   },
   {
    "duration": 17,
    "start_time": "2023-01-02T05:44:24.661Z"
   },
   {
    "duration": 36,
    "start_time": "2023-01-02T05:44:55.875Z"
   },
   {
    "duration": 668,
    "start_time": "2023-01-02T05:48:02.410Z"
   },
   {
    "duration": 689,
    "start_time": "2023-01-02T05:48:34.477Z"
   },
   {
    "duration": 43,
    "start_time": "2023-01-02T05:50:41.526Z"
   },
   {
    "duration": 13,
    "start_time": "2023-01-02T05:56:02.363Z"
   },
   {
    "duration": 15,
    "start_time": "2023-01-02T05:56:14.432Z"
   },
   {
    "duration": 15,
    "start_time": "2023-01-02T05:56:21.919Z"
   },
   {
    "duration": 11,
    "start_time": "2023-01-02T05:57:24.305Z"
   },
   {
    "duration": 18,
    "start_time": "2023-01-02T05:57:45.882Z"
   },
   {
    "duration": 11,
    "start_time": "2023-01-02T06:00:14.218Z"
   },
   {
    "duration": 11,
    "start_time": "2023-01-02T06:00:16.739Z"
   },
   {
    "duration": 19,
    "start_time": "2023-01-02T06:00:18.864Z"
   },
   {
    "duration": 18,
    "start_time": "2023-01-02T06:01:00.191Z"
   },
   {
    "duration": 19,
    "start_time": "2023-01-02T06:01:05.101Z"
   },
   {
    "duration": 22,
    "start_time": "2023-01-02T06:01:32.503Z"
   },
   {
    "duration": 23,
    "start_time": "2023-01-02T06:05:16.364Z"
   },
   {
    "duration": 52,
    "start_time": "2023-01-02T06:06:48.988Z"
   },
   {
    "duration": 16,
    "start_time": "2023-01-02T06:06:54.871Z"
   },
   {
    "duration": 702,
    "start_time": "2023-01-02T06:07:09.930Z"
   },
   {
    "duration": 16,
    "start_time": "2023-01-02T06:07:31.917Z"
   },
   {
    "duration": 22,
    "start_time": "2023-01-02T06:07:46.426Z"
   },
   {
    "duration": 22,
    "start_time": "2023-01-02T06:08:33.184Z"
   },
   {
    "duration": 22,
    "start_time": "2023-01-02T06:08:54.426Z"
   },
   {
    "duration": 23,
    "start_time": "2023-01-02T06:09:20.845Z"
   },
   {
    "duration": 25,
    "start_time": "2023-01-02T06:09:41.316Z"
   },
   {
    "duration": 21,
    "start_time": "2023-01-02T06:10:22.887Z"
   },
   {
    "duration": 18,
    "start_time": "2023-01-02T06:10:39.514Z"
   },
   {
    "duration": 18,
    "start_time": "2023-01-02T06:10:46.747Z"
   },
   {
    "duration": 8,
    "start_time": "2023-01-02T06:14:04.522Z"
   },
   {
    "duration": 12,
    "start_time": "2023-01-02T06:14:07.311Z"
   },
   {
    "duration": 9,
    "start_time": "2023-01-02T06:14:20.928Z"
   },
   {
    "duration": 6,
    "start_time": "2023-01-02T06:14:30.757Z"
   },
   {
    "duration": 19,
    "start_time": "2023-01-02T06:17:23.043Z"
   },
   {
    "duration": 53,
    "start_time": "2023-01-02T06:18:38.730Z"
   },
   {
    "duration": 18,
    "start_time": "2023-01-02T06:18:54.464Z"
   },
   {
    "duration": 16,
    "start_time": "2023-01-02T06:19:46.225Z"
   },
   {
    "duration": 8,
    "start_time": "2023-01-02T06:20:31.242Z"
   },
   {
    "duration": 520,
    "start_time": "2023-01-02T06:21:00.302Z"
   },
   {
    "duration": 14,
    "start_time": "2023-01-02T06:21:00.824Z"
   },
   {
    "duration": 42,
    "start_time": "2023-01-02T06:21:00.840Z"
   },
   {
    "duration": 2084,
    "start_time": "2023-01-02T06:21:00.884Z"
   },
   {
    "duration": 11,
    "start_time": "2023-01-02T06:21:02.969Z"
   },
   {
    "duration": 5,
    "start_time": "2023-01-02T06:21:02.982Z"
   },
   {
    "duration": 16,
    "start_time": "2023-01-02T06:21:02.989Z"
   },
   {
    "duration": 11,
    "start_time": "2023-01-02T06:21:03.007Z"
   },
   {
    "duration": 26,
    "start_time": "2023-01-02T06:21:03.019Z"
   },
   {
    "duration": 127,
    "start_time": "2023-01-02T06:21:03.048Z"
   },
   {
    "duration": 5,
    "start_time": "2023-01-02T06:21:03.176Z"
   },
   {
    "duration": 1979,
    "start_time": "2023-01-02T06:21:03.182Z"
   },
   {
    "duration": 12,
    "start_time": "2023-01-02T06:21:05.164Z"
   },
   {
    "duration": 58,
    "start_time": "2023-01-02T06:21:05.178Z"
   },
   {
    "duration": 6,
    "start_time": "2023-01-02T06:21:05.238Z"
   },
   {
    "duration": 22,
    "start_time": "2023-01-02T06:21:05.247Z"
   },
   {
    "duration": 8,
    "start_time": "2023-01-02T06:21:05.271Z"
   },
   {
    "duration": 13,
    "start_time": "2023-01-02T06:21:05.281Z"
   },
   {
    "duration": 28,
    "start_time": "2023-01-02T06:21:05.296Z"
   },
   {
    "duration": 18,
    "start_time": "2023-01-02T06:21:05.327Z"
   },
   {
    "duration": 13,
    "start_time": "2023-01-02T06:21:05.347Z"
   },
   {
    "duration": 9,
    "start_time": "2023-01-02T06:21:05.362Z"
   },
   {
    "duration": 15,
    "start_time": "2023-01-02T06:21:05.373Z"
   },
   {
    "duration": 39,
    "start_time": "2023-01-02T06:21:05.390Z"
   },
   {
    "duration": 22,
    "start_time": "2023-01-02T06:21:05.432Z"
   },
   {
    "duration": 33,
    "start_time": "2023-01-02T06:21:05.456Z"
   },
   {
    "duration": 20,
    "start_time": "2023-01-02T06:21:52.628Z"
   },
   {
    "duration": 6,
    "start_time": "2023-01-02T06:22:13.792Z"
   },
   {
    "duration": 9,
    "start_time": "2023-01-02T06:22:19.100Z"
   },
   {
    "duration": 19,
    "start_time": "2023-01-02T06:22:24.853Z"
   },
   {
    "duration": 10,
    "start_time": "2023-01-02T06:22:29.405Z"
   },
   {
    "duration": 17,
    "start_time": "2023-01-02T06:22:32.119Z"
   },
   {
    "duration": 11,
    "start_time": "2023-01-02T06:22:33.433Z"
   },
   {
    "duration": 434,
    "start_time": "2023-01-02T06:23:31.080Z"
   },
   {
    "duration": 14,
    "start_time": "2023-01-02T06:23:31.516Z"
   },
   {
    "duration": 46,
    "start_time": "2023-01-02T06:23:31.532Z"
   },
   {
    "duration": 2004,
    "start_time": "2023-01-02T06:23:31.580Z"
   },
   {
    "duration": 10,
    "start_time": "2023-01-02T06:23:33.585Z"
   },
   {
    "duration": 6,
    "start_time": "2023-01-02T06:23:33.596Z"
   },
   {
    "duration": 5,
    "start_time": "2023-01-02T06:23:33.604Z"
   },
   {
    "duration": 5,
    "start_time": "2023-01-02T06:23:33.611Z"
   },
   {
    "duration": 22,
    "start_time": "2023-01-02T06:23:33.617Z"
   },
   {
    "duration": 122,
    "start_time": "2023-01-02T06:23:33.642Z"
   },
   {
    "duration": 4,
    "start_time": "2023-01-02T06:23:33.766Z"
   },
   {
    "duration": 1954,
    "start_time": "2023-01-02T06:23:33.771Z"
   },
   {
    "duration": 9,
    "start_time": "2023-01-02T06:23:35.726Z"
   },
   {
    "duration": 16,
    "start_time": "2023-01-02T06:23:35.737Z"
   },
   {
    "duration": 16,
    "start_time": "2023-01-02T06:23:35.754Z"
   },
   {
    "duration": 6,
    "start_time": "2023-01-02T06:23:35.771Z"
   },
   {
    "duration": 11,
    "start_time": "2023-01-02T06:23:35.779Z"
   },
   {
    "duration": 10,
    "start_time": "2023-01-02T06:23:35.791Z"
   },
   {
    "duration": 26,
    "start_time": "2023-01-02T06:23:35.802Z"
   },
   {
    "duration": 12,
    "start_time": "2023-01-02T06:23:35.830Z"
   },
   {
    "duration": 5,
    "start_time": "2023-01-02T06:23:35.843Z"
   },
   {
    "duration": 6,
    "start_time": "2023-01-02T06:23:35.849Z"
   },
   {
    "duration": 14,
    "start_time": "2023-01-02T06:23:35.856Z"
   },
   {
    "duration": 4,
    "start_time": "2023-01-02T06:23:35.871Z"
   },
   {
    "duration": 46,
    "start_time": "2023-01-02T06:23:35.876Z"
   },
   {
    "duration": 10,
    "start_time": "2023-01-02T06:23:48.700Z"
   },
   {
    "duration": 502,
    "start_time": "2023-01-02T06:24:04.405Z"
   },
   {
    "duration": 13,
    "start_time": "2023-01-02T06:24:04.909Z"
   },
   {
    "duration": 32,
    "start_time": "2023-01-02T06:24:04.924Z"
   },
   {
    "duration": 2054,
    "start_time": "2023-01-02T06:24:04.958Z"
   },
   {
    "duration": 11,
    "start_time": "2023-01-02T06:24:07.014Z"
   },
   {
    "duration": 6,
    "start_time": "2023-01-02T06:24:07.027Z"
   },
   {
    "duration": 20,
    "start_time": "2023-01-02T06:24:07.034Z"
   },
   {
    "duration": 19,
    "start_time": "2023-01-02T06:24:07.056Z"
   },
   {
    "duration": 18,
    "start_time": "2023-01-02T06:24:07.076Z"
   },
   {
    "duration": 120,
    "start_time": "2023-01-02T06:24:07.096Z"
   },
   {
    "duration": 4,
    "start_time": "2023-01-02T06:24:07.217Z"
   },
   {
    "duration": 1916,
    "start_time": "2023-01-02T06:24:07.222Z"
   },
   {
    "duration": 9,
    "start_time": "2023-01-02T06:24:09.140Z"
   },
   {
    "duration": 19,
    "start_time": "2023-01-02T06:24:09.150Z"
   },
   {
    "duration": 10,
    "start_time": "2023-01-02T06:24:09.170Z"
   },
   {
    "duration": 2,
    "start_time": "2023-01-02T06:24:09.182Z"
   },
   {
    "duration": 10,
    "start_time": "2023-01-02T06:24:09.186Z"
   },
   {
    "duration": 31,
    "start_time": "2023-01-02T06:24:09.198Z"
   },
   {
    "duration": 9,
    "start_time": "2023-01-02T06:24:09.230Z"
   },
   {
    "duration": 13,
    "start_time": "2023-01-02T06:24:09.241Z"
   },
   {
    "duration": 6,
    "start_time": "2023-01-02T06:24:09.256Z"
   },
   {
    "duration": 4,
    "start_time": "2023-01-02T06:24:09.263Z"
   },
   {
    "duration": 17,
    "start_time": "2023-01-02T06:24:09.268Z"
   },
   {
    "duration": 4,
    "start_time": "2023-01-02T06:24:09.287Z"
   },
   {
    "duration": 50,
    "start_time": "2023-01-02T06:24:09.292Z"
   },
   {
    "duration": 46,
    "start_time": "2023-01-02T06:24:26.387Z"
   },
   {
    "duration": 19,
    "start_time": "2023-01-02T06:24:30.589Z"
   },
   {
    "duration": 20,
    "start_time": "2023-01-02T06:24:41.627Z"
   },
   {
    "duration": 25,
    "start_time": "2023-01-02T06:25:20.637Z"
   },
   {
    "duration": 28,
    "start_time": "2023-01-02T06:25:52.759Z"
   },
   {
    "duration": 25,
    "start_time": "2023-01-02T06:26:03.167Z"
   },
   {
    "duration": 31,
    "start_time": "2023-01-02T06:26:12.033Z"
   },
   {
    "duration": 34,
    "start_time": "2023-01-02T06:26:23.789Z"
   },
   {
    "duration": 39,
    "start_time": "2023-01-02T06:26:55.346Z"
   },
   {
    "duration": 39,
    "start_time": "2023-01-02T06:27:01.202Z"
   },
   {
    "duration": 24,
    "start_time": "2023-01-02T06:27:10.862Z"
   },
   {
    "duration": 23,
    "start_time": "2023-01-02T06:27:18.200Z"
   },
   {
    "duration": 25,
    "start_time": "2023-01-02T06:27:42.877Z"
   },
   {
    "duration": 21,
    "start_time": "2023-01-02T06:27:48.034Z"
   },
   {
    "duration": 19,
    "start_time": "2023-01-02T06:28:40.843Z"
   },
   {
    "duration": 10,
    "start_time": "2023-01-02T06:29:02.240Z"
   },
   {
    "duration": 78,
    "start_time": "2023-01-02T06:29:16.681Z"
   },
   {
    "duration": 15,
    "start_time": "2023-01-02T06:29:32.294Z"
   },
   {
    "duration": 10,
    "start_time": "2023-01-02T06:29:43.277Z"
   },
   {
    "duration": 15,
    "start_time": "2023-01-02T06:29:54.630Z"
   },
   {
    "duration": 10,
    "start_time": "2023-01-02T06:30:23.849Z"
   },
   {
    "duration": 16,
    "start_time": "2023-01-02T06:37:22.595Z"
   },
   {
    "duration": 24,
    "start_time": "2023-01-02T06:37:25.191Z"
   },
   {
    "duration": 10,
    "start_time": "2023-01-02T06:37:29.154Z"
   },
   {
    "duration": 19,
    "start_time": "2023-01-02T06:41:53.353Z"
   },
   {
    "duration": 24,
    "start_time": "2023-01-02T06:42:12.651Z"
   },
   {
    "duration": 24,
    "start_time": "2023-01-02T06:42:29.323Z"
   },
   {
    "duration": 23,
    "start_time": "2023-01-02T06:42:46.103Z"
   },
   {
    "duration": 21,
    "start_time": "2023-01-02T06:43:03.482Z"
   },
   {
    "duration": 40,
    "start_time": "2023-01-02T06:43:22.688Z"
   },
   {
    "duration": 23,
    "start_time": "2023-01-02T06:43:27.725Z"
   },
   {
    "duration": 21,
    "start_time": "2023-01-02T06:44:20.900Z"
   },
   {
    "duration": 21,
    "start_time": "2023-01-02T06:44:29.817Z"
   },
   {
    "duration": 24,
    "start_time": "2023-01-02T06:44:34.539Z"
   },
   {
    "duration": 42,
    "start_time": "2023-01-02T06:44:50.900Z"
   },
   {
    "duration": 19,
    "start_time": "2023-01-02T06:44:58.709Z"
   },
   {
    "duration": 473,
    "start_time": "2023-01-02T06:45:09.522Z"
   },
   {
    "duration": 15,
    "start_time": "2023-01-02T06:45:09.997Z"
   },
   {
    "duration": 34,
    "start_time": "2023-01-02T06:45:10.014Z"
   },
   {
    "duration": 1982,
    "start_time": "2023-01-02T06:45:10.050Z"
   },
   {
    "duration": 9,
    "start_time": "2023-01-02T06:45:12.033Z"
   },
   {
    "duration": 6,
    "start_time": "2023-01-02T06:45:12.044Z"
   },
   {
    "duration": 7,
    "start_time": "2023-01-02T06:45:12.052Z"
   },
   {
    "duration": 6,
    "start_time": "2023-01-02T06:45:12.060Z"
   },
   {
    "duration": 22,
    "start_time": "2023-01-02T06:45:12.068Z"
   },
   {
    "duration": 154,
    "start_time": "2023-01-02T06:45:12.092Z"
   },
   {
    "duration": 5,
    "start_time": "2023-01-02T06:45:12.248Z"
   },
   {
    "duration": 1959,
    "start_time": "2023-01-02T06:45:12.254Z"
   },
   {
    "duration": 11,
    "start_time": "2023-01-02T06:45:14.215Z"
   },
   {
    "duration": 16,
    "start_time": "2023-01-02T06:45:14.227Z"
   },
   {
    "duration": 9,
    "start_time": "2023-01-02T06:45:14.244Z"
   },
   {
    "duration": 2,
    "start_time": "2023-01-02T06:45:14.254Z"
   },
   {
    "duration": 10,
    "start_time": "2023-01-02T06:45:14.258Z"
   },
   {
    "duration": 17,
    "start_time": "2023-01-02T06:45:14.270Z"
   },
   {
    "duration": 9,
    "start_time": "2023-01-02T06:45:14.289Z"
   },
   {
    "duration": 10,
    "start_time": "2023-01-02T06:45:14.321Z"
   },
   {
    "duration": 8,
    "start_time": "2023-01-02T06:45:14.332Z"
   },
   {
    "duration": 8,
    "start_time": "2023-01-02T06:45:14.342Z"
   },
   {
    "duration": 17,
    "start_time": "2023-01-02T06:45:14.352Z"
   },
   {
    "duration": 5,
    "start_time": "2023-01-02T06:45:14.371Z"
   },
   {
    "duration": 46,
    "start_time": "2023-01-02T06:45:14.377Z"
   },
   {
    "duration": 15,
    "start_time": "2023-01-02T06:46:17.733Z"
   },
   {
    "duration": 479,
    "start_time": "2023-01-02T06:46:38.931Z"
   },
   {
    "duration": 15,
    "start_time": "2023-01-02T06:46:39.412Z"
   },
   {
    "duration": 38,
    "start_time": "2023-01-02T06:46:39.429Z"
   },
   {
    "duration": 2110,
    "start_time": "2023-01-02T06:46:39.470Z"
   },
   {
    "duration": 9,
    "start_time": "2023-01-02T06:46:41.581Z"
   },
   {
    "duration": 13,
    "start_time": "2023-01-02T06:46:41.592Z"
   },
   {
    "duration": 8,
    "start_time": "2023-01-02T06:46:41.606Z"
   },
   {
    "duration": 8,
    "start_time": "2023-01-02T06:46:41.616Z"
   },
   {
    "duration": 17,
    "start_time": "2023-01-02T06:46:41.626Z"
   },
   {
    "duration": 125,
    "start_time": "2023-01-02T06:46:41.645Z"
   },
   {
    "duration": 4,
    "start_time": "2023-01-02T06:46:41.772Z"
   },
   {
    "duration": 1913,
    "start_time": "2023-01-02T06:46:41.777Z"
   },
   {
    "duration": 10,
    "start_time": "2023-01-02T06:46:43.692Z"
   },
   {
    "duration": 28,
    "start_time": "2023-01-02T06:46:43.703Z"
   },
   {
    "duration": 18,
    "start_time": "2023-01-02T06:46:56.579Z"
   },
   {
    "duration": 16,
    "start_time": "2023-01-02T06:47:08.672Z"
   },
   {
    "duration": 16,
    "start_time": "2023-01-02T06:47:40.732Z"
   },
   {
    "duration": 21,
    "start_time": "2023-01-02T06:48:04.551Z"
   },
   {
    "duration": 10,
    "start_time": "2023-01-02T06:48:36.683Z"
   },
   {
    "duration": 6,
    "start_time": "2023-01-02T06:50:55.485Z"
   },
   {
    "duration": 46,
    "start_time": "2023-01-02T06:51:13.791Z"
   },
   {
    "duration": 6,
    "start_time": "2023-01-02T06:51:40.822Z"
   },
   {
    "duration": 81,
    "start_time": "2023-01-02T06:54:09.192Z"
   },
   {
    "duration": 8,
    "start_time": "2023-01-02T06:54:20.467Z"
   },
   {
    "duration": 483,
    "start_time": "2023-01-02T06:54:36.544Z"
   },
   {
    "duration": 15,
    "start_time": "2023-01-02T06:54:37.029Z"
   },
   {
    "duration": 31,
    "start_time": "2023-01-02T06:54:37.046Z"
   },
   {
    "duration": 1944,
    "start_time": "2023-01-02T06:54:37.080Z"
   },
   {
    "duration": 10,
    "start_time": "2023-01-02T06:54:39.026Z"
   },
   {
    "duration": 5,
    "start_time": "2023-01-02T06:54:39.038Z"
   },
   {
    "duration": 8,
    "start_time": "2023-01-02T06:54:39.045Z"
   },
   {
    "duration": 6,
    "start_time": "2023-01-02T06:54:39.054Z"
   },
   {
    "duration": 24,
    "start_time": "2023-01-02T06:54:39.062Z"
   },
   {
    "duration": 146,
    "start_time": "2023-01-02T06:54:39.089Z"
   },
   {
    "duration": 5,
    "start_time": "2023-01-02T06:54:39.237Z"
   },
   {
    "duration": 1899,
    "start_time": "2023-01-02T06:54:39.244Z"
   },
   {
    "duration": 10,
    "start_time": "2023-01-02T06:54:41.145Z"
   },
   {
    "duration": 19,
    "start_time": "2023-01-02T06:54:41.156Z"
   },
   {
    "duration": 9,
    "start_time": "2023-01-02T06:54:41.177Z"
   },
   {
    "duration": 8,
    "start_time": "2023-01-02T06:54:41.187Z"
   },
   {
    "duration": 4,
    "start_time": "2023-01-02T06:54:41.197Z"
   },
   {
    "duration": 8,
    "start_time": "2023-01-02T06:54:41.221Z"
   },
   {
    "duration": 6,
    "start_time": "2023-01-02T06:54:41.231Z"
   },
   {
    "duration": 18,
    "start_time": "2023-01-02T06:54:41.239Z"
   },
   {
    "duration": 8,
    "start_time": "2023-01-02T06:54:41.259Z"
   },
   {
    "duration": 9,
    "start_time": "2023-01-02T06:54:41.269Z"
   },
   {
    "duration": 6,
    "start_time": "2023-01-02T06:54:41.279Z"
   },
   {
    "duration": 35,
    "start_time": "2023-01-02T06:54:41.286Z"
   },
   {
    "duration": 11,
    "start_time": "2023-01-02T06:54:41.323Z"
   },
   {
    "duration": 4,
    "start_time": "2023-01-02T06:54:41.336Z"
   },
   {
    "duration": 29,
    "start_time": "2023-01-02T06:54:41.342Z"
   },
   {
    "duration": 3,
    "start_time": "2023-01-02T06:55:50.606Z"
   },
   {
    "duration": 4,
    "start_time": "2023-01-02T06:57:05.726Z"
   },
   {
    "duration": 26,
    "start_time": "2023-01-02T06:57:13.231Z"
   },
   {
    "duration": 68,
    "start_time": "2023-01-02T06:57:30.580Z"
   },
   {
    "duration": 10,
    "start_time": "2023-01-02T06:57:51.509Z"
   },
   {
    "duration": 186,
    "start_time": "2023-01-02T06:58:08.898Z"
   },
   {
    "duration": 9,
    "start_time": "2023-01-02T06:58:12.074Z"
   },
   {
    "duration": 179,
    "start_time": "2023-01-02T06:58:16.838Z"
   },
   {
    "duration": 4,
    "start_time": "2023-01-02T06:58:22.410Z"
   },
   {
    "duration": 3,
    "start_time": "2023-01-02T06:59:24.063Z"
   },
   {
    "duration": 24,
    "start_time": "2023-01-02T06:59:25.831Z"
   },
   {
    "duration": 23,
    "start_time": "2023-01-02T07:03:59.599Z"
   },
   {
    "duration": 11,
    "start_time": "2023-01-02T07:07:33.821Z"
   },
   {
    "duration": 10,
    "start_time": "2023-01-02T07:07:39.457Z"
   },
   {
    "duration": 10,
    "start_time": "2023-01-02T07:10:01.401Z"
   },
   {
    "duration": 21,
    "start_time": "2023-01-02T07:10:05.527Z"
   },
   {
    "duration": 27,
    "start_time": "2023-01-02T07:10:13.064Z"
   },
   {
    "duration": 35,
    "start_time": "2023-01-02T07:10:26.052Z"
   },
   {
    "duration": 11,
    "start_time": "2023-01-02T07:11:33.098Z"
   },
   {
    "duration": 485,
    "start_time": "2023-01-02T07:12:07.603Z"
   },
   {
    "duration": 14,
    "start_time": "2023-01-02T07:12:08.090Z"
   },
   {
    "duration": 34,
    "start_time": "2023-01-02T07:12:08.106Z"
   },
   {
    "duration": 1970,
    "start_time": "2023-01-02T07:12:08.142Z"
   },
   {
    "duration": 9,
    "start_time": "2023-01-02T07:12:10.114Z"
   },
   {
    "duration": 17,
    "start_time": "2023-01-02T07:12:10.125Z"
   },
   {
    "duration": 8,
    "start_time": "2023-01-02T07:12:10.144Z"
   },
   {
    "duration": 10,
    "start_time": "2023-01-02T07:12:10.153Z"
   },
   {
    "duration": 36,
    "start_time": "2023-01-02T07:12:10.164Z"
   },
   {
    "duration": 10,
    "start_time": "2023-01-02T07:12:10.201Z"
   },
   {
    "duration": 161,
    "start_time": "2023-01-02T07:12:10.212Z"
   },
   {
    "duration": 4,
    "start_time": "2023-01-02T07:12:10.375Z"
   },
   {
    "duration": 1927,
    "start_time": "2023-01-02T07:12:10.380Z"
   },
   {
    "duration": 13,
    "start_time": "2023-01-02T07:12:12.309Z"
   },
   {
    "duration": 19,
    "start_time": "2023-01-02T07:12:12.323Z"
   },
   {
    "duration": 8,
    "start_time": "2023-01-02T07:12:12.344Z"
   },
   {
    "duration": 5,
    "start_time": "2023-01-02T07:12:12.354Z"
   },
   {
    "duration": 7,
    "start_time": "2023-01-02T07:12:12.361Z"
   },
   {
    "duration": 12,
    "start_time": "2023-01-02T07:12:12.369Z"
   },
   {
    "duration": 6,
    "start_time": "2023-01-02T07:12:12.382Z"
   },
   {
    "duration": 38,
    "start_time": "2023-01-02T07:12:12.389Z"
   },
   {
    "duration": 10,
    "start_time": "2023-01-02T07:12:12.428Z"
   },
   {
    "duration": 9,
    "start_time": "2023-01-02T07:12:12.439Z"
   },
   {
    "duration": 6,
    "start_time": "2023-01-02T07:12:12.450Z"
   },
   {
    "duration": 4,
    "start_time": "2023-01-02T07:12:12.457Z"
   },
   {
    "duration": 65,
    "start_time": "2023-01-02T07:12:12.462Z"
   },
   {
    "duration": 11,
    "start_time": "2023-01-02T07:12:12.528Z"
   },
   {
    "duration": 23,
    "start_time": "2023-01-02T07:12:15.161Z"
   },
   {
    "duration": 68,
    "start_time": "2023-01-02T07:13:21.394Z"
   },
   {
    "duration": 10,
    "start_time": "2023-01-02T07:13:30.286Z"
   },
   {
    "duration": 7,
    "start_time": "2023-01-02T07:13:38.009Z"
   },
   {
    "duration": 22,
    "start_time": "2023-01-02T07:13:40.345Z"
   },
   {
    "duration": 7,
    "start_time": "2023-01-02T07:13:48.088Z"
   },
   {
    "duration": 22,
    "start_time": "2023-01-02T07:13:51.791Z"
   },
   {
    "duration": 444,
    "start_time": "2023-01-02T07:16:06.671Z"
   },
   {
    "duration": 15,
    "start_time": "2023-01-02T07:16:07.117Z"
   },
   {
    "duration": 32,
    "start_time": "2023-01-02T07:16:07.133Z"
   },
   {
    "duration": 1973,
    "start_time": "2023-01-02T07:16:07.167Z"
   },
   {
    "duration": 9,
    "start_time": "2023-01-02T07:16:09.142Z"
   },
   {
    "duration": 10,
    "start_time": "2023-01-02T07:16:09.152Z"
   },
   {
    "duration": 6,
    "start_time": "2023-01-02T07:16:09.163Z"
   },
   {
    "duration": 8,
    "start_time": "2023-01-02T07:16:09.170Z"
   },
   {
    "duration": 22,
    "start_time": "2023-01-02T07:16:09.179Z"
   },
   {
    "duration": 9,
    "start_time": "2023-01-02T07:16:09.203Z"
   },
   {
    "duration": 122,
    "start_time": "2023-01-02T07:16:09.213Z"
   },
   {
    "duration": 4,
    "start_time": "2023-01-02T07:16:09.337Z"
   },
   {
    "duration": 1970,
    "start_time": "2023-01-02T07:16:09.342Z"
   },
   {
    "duration": 11,
    "start_time": "2023-01-02T07:16:11.314Z"
   },
   {
    "duration": 20,
    "start_time": "2023-01-02T07:16:11.327Z"
   },
   {
    "duration": 8,
    "start_time": "2023-01-02T07:16:11.349Z"
   },
   {
    "duration": 8,
    "start_time": "2023-01-02T07:16:11.358Z"
   },
   {
    "duration": 7,
    "start_time": "2023-01-02T07:16:11.367Z"
   },
   {
    "duration": 10,
    "start_time": "2023-01-02T07:16:11.375Z"
   },
   {
    "duration": 9,
    "start_time": "2023-01-02T07:16:11.386Z"
   },
   {
    "duration": 28,
    "start_time": "2023-01-02T07:16:11.396Z"
   },
   {
    "duration": 10,
    "start_time": "2023-01-02T07:16:11.426Z"
   },
   {
    "duration": 14,
    "start_time": "2023-01-02T07:16:11.437Z"
   },
   {
    "duration": 6,
    "start_time": "2023-01-02T07:16:11.453Z"
   },
   {
    "duration": 6,
    "start_time": "2023-01-02T07:16:11.460Z"
   },
   {
    "duration": 23,
    "start_time": "2023-01-02T07:16:11.468Z"
   },
   {
    "duration": 49,
    "start_time": "2023-01-02T07:16:11.492Z"
   },
   {
    "duration": 7,
    "start_time": "2023-01-02T07:16:26.614Z"
   },
   {
    "duration": 461,
    "start_time": "2023-01-02T07:16:34.045Z"
   },
   {
    "duration": 15,
    "start_time": "2023-01-02T07:16:34.508Z"
   },
   {
    "duration": 34,
    "start_time": "2023-01-02T07:16:34.524Z"
   },
   {
    "duration": 2048,
    "start_time": "2023-01-02T07:16:34.560Z"
   },
   {
    "duration": 9,
    "start_time": "2023-01-02T07:16:36.610Z"
   },
   {
    "duration": 5,
    "start_time": "2023-01-02T07:16:36.621Z"
   },
   {
    "duration": 5,
    "start_time": "2023-01-02T07:16:36.627Z"
   },
   {
    "duration": 5,
    "start_time": "2023-01-02T07:16:36.633Z"
   },
   {
    "duration": 16,
    "start_time": "2023-01-02T07:16:36.640Z"
   },
   {
    "duration": 6,
    "start_time": "2023-01-02T07:16:36.658Z"
   },
   {
    "duration": 140,
    "start_time": "2023-01-02T07:16:36.665Z"
   },
   {
    "duration": 4,
    "start_time": "2023-01-02T07:16:36.807Z"
   },
   {
    "duration": 1912,
    "start_time": "2023-01-02T07:16:36.820Z"
   },
   {
    "duration": 9,
    "start_time": "2023-01-02T07:16:38.735Z"
   },
   {
    "duration": 28,
    "start_time": "2023-01-02T07:16:38.745Z"
   },
   {
    "duration": 16,
    "start_time": "2023-01-02T07:16:38.774Z"
   },
   {
    "duration": 12,
    "start_time": "2023-01-02T07:16:38.792Z"
   },
   {
    "duration": 13,
    "start_time": "2023-01-02T07:16:38.805Z"
   },
   {
    "duration": 28,
    "start_time": "2023-01-02T07:16:38.820Z"
   },
   {
    "duration": 15,
    "start_time": "2023-01-02T07:16:38.850Z"
   },
   {
    "duration": 42,
    "start_time": "2023-01-02T07:16:38.866Z"
   },
   {
    "duration": 16,
    "start_time": "2023-01-02T07:16:38.909Z"
   },
   {
    "duration": 12,
    "start_time": "2023-01-02T07:16:38.926Z"
   },
   {
    "duration": 26,
    "start_time": "2023-01-02T07:16:38.939Z"
   },
   {
    "duration": 19,
    "start_time": "2023-01-02T07:16:38.967Z"
   },
   {
    "duration": 35,
    "start_time": "2023-01-02T07:16:38.987Z"
   },
   {
    "duration": 43,
    "start_time": "2023-01-02T07:16:39.023Z"
   },
   {
    "duration": 5,
    "start_time": "2023-01-02T07:16:53.675Z"
   },
   {
    "duration": 21,
    "start_time": "2023-01-02T07:16:58.098Z"
   },
   {
    "duration": 23,
    "start_time": "2023-01-02T07:17:10.993Z"
   },
   {
    "duration": 68,
    "start_time": "2023-01-02T07:17:52.250Z"
   },
   {
    "duration": 9,
    "start_time": "2023-01-02T07:17:58.154Z"
   },
   {
    "duration": 12,
    "start_time": "2023-01-02T07:18:13.090Z"
   },
   {
    "duration": 11,
    "start_time": "2023-01-02T07:19:22.603Z"
   },
   {
    "duration": 32,
    "start_time": "2023-01-02T07:19:25.346Z"
   },
   {
    "duration": 11,
    "start_time": "2023-01-02T07:20:33.298Z"
   },
   {
    "duration": 26,
    "start_time": "2023-01-02T07:20:34.658Z"
   },
   {
    "duration": 6,
    "start_time": "2023-01-02T07:20:47.364Z"
   },
   {
    "duration": 22,
    "start_time": "2023-01-02T07:20:49.249Z"
   },
   {
    "duration": 6,
    "start_time": "2023-01-02T07:21:40.464Z"
   },
   {
    "duration": 24,
    "start_time": "2023-01-02T07:21:42.427Z"
   },
   {
    "duration": 25,
    "start_time": "2023-01-02T07:21:54.818Z"
   },
   {
    "duration": 26,
    "start_time": "2023-01-02T07:22:11.658Z"
   },
   {
    "duration": 11,
    "start_time": "2023-01-02T07:22:35.248Z"
   },
   {
    "duration": 24,
    "start_time": "2023-01-02T07:22:37.435Z"
   },
   {
    "duration": 12,
    "start_time": "2023-01-02T07:22:44.636Z"
   },
   {
    "duration": 7,
    "start_time": "2023-01-02T07:22:47.624Z"
   },
   {
    "duration": 23,
    "start_time": "2023-01-02T07:22:50.348Z"
   },
   {
    "duration": 7,
    "start_time": "2023-01-02T07:22:50.401Z"
   },
   {
    "duration": 15,
    "start_time": "2023-01-02T07:23:33.049Z"
   },
   {
    "duration": 24,
    "start_time": "2023-01-02T07:23:35.712Z"
   },
   {
    "duration": 6,
    "start_time": "2023-01-02T07:23:45.070Z"
   },
   {
    "duration": 23,
    "start_time": "2023-01-02T07:23:46.509Z"
   },
   {
    "duration": 442,
    "start_time": "2023-01-02T07:23:52.156Z"
   },
   {
    "duration": 18,
    "start_time": "2023-01-02T07:23:52.600Z"
   },
   {
    "duration": 38,
    "start_time": "2023-01-02T07:23:52.620Z"
   },
   {
    "duration": 2000,
    "start_time": "2023-01-02T07:23:52.660Z"
   },
   {
    "duration": 9,
    "start_time": "2023-01-02T07:23:54.661Z"
   },
   {
    "duration": 24,
    "start_time": "2023-01-02T07:23:54.672Z"
   },
   {
    "duration": 24,
    "start_time": "2023-01-02T07:23:54.697Z"
   },
   {
    "duration": 26,
    "start_time": "2023-01-02T07:23:54.723Z"
   },
   {
    "duration": 50,
    "start_time": "2023-01-02T07:23:54.750Z"
   },
   {
    "duration": 24,
    "start_time": "2023-01-02T07:23:54.803Z"
   },
   {
    "duration": 144,
    "start_time": "2023-01-02T07:23:54.828Z"
   },
   {
    "duration": 5,
    "start_time": "2023-01-02T07:23:54.973Z"
   },
   {
    "duration": 2004,
    "start_time": "2023-01-02T07:23:54.979Z"
   },
   {
    "duration": 9,
    "start_time": "2023-01-02T07:23:56.985Z"
   },
   {
    "duration": 30,
    "start_time": "2023-01-02T07:23:56.995Z"
   },
   {
    "duration": 10,
    "start_time": "2023-01-02T07:23:57.027Z"
   },
   {
    "duration": 8,
    "start_time": "2023-01-02T07:23:57.039Z"
   },
   {
    "duration": 10,
    "start_time": "2023-01-02T07:23:57.048Z"
   },
   {
    "duration": 30,
    "start_time": "2023-01-02T07:23:57.060Z"
   },
   {
    "duration": 16,
    "start_time": "2023-01-02T07:23:57.091Z"
   },
   {
    "duration": 30,
    "start_time": "2023-01-02T07:23:57.108Z"
   },
   {
    "duration": 14,
    "start_time": "2023-01-02T07:23:57.140Z"
   },
   {
    "duration": 10,
    "start_time": "2023-01-02T07:23:57.155Z"
   },
   {
    "duration": 14,
    "start_time": "2023-01-02T07:23:57.166Z"
   },
   {
    "duration": 13,
    "start_time": "2023-01-02T07:23:57.182Z"
   },
   {
    "duration": 51,
    "start_time": "2023-01-02T07:23:57.196Z"
   },
   {
    "duration": 11,
    "start_time": "2023-01-02T07:23:57.248Z"
   },
   {
    "duration": 9,
    "start_time": "2023-01-02T07:24:41.573Z"
   },
   {
    "duration": 23,
    "start_time": "2023-01-02T07:24:43.436Z"
   },
   {
    "duration": 13,
    "start_time": "2023-01-02T07:25:19.955Z"
   },
   {
    "duration": 25,
    "start_time": "2023-01-02T07:25:22.582Z"
   },
   {
    "duration": 21,
    "start_time": "2023-01-02T07:28:15.691Z"
   },
   {
    "duration": 11,
    "start_time": "2023-01-02T07:28:26.408Z"
   },
   {
    "duration": 48,
    "start_time": "2023-01-02T07:29:19.208Z"
   },
   {
    "duration": 806,
    "start_time": "2023-01-02T07:31:42.376Z"
   },
   {
    "duration": 838,
    "start_time": "2023-01-02T07:32:02.656Z"
   },
   {
    "duration": 18,
    "start_time": "2023-01-02T07:32:15.121Z"
   },
   {
    "duration": 207,
    "start_time": "2023-01-02T07:32:26.461Z"
   },
   {
    "duration": 36,
    "start_time": "2023-01-02T07:35:46.125Z"
   },
   {
    "duration": 49,
    "start_time": "2023-01-02T07:36:01.514Z"
   },
   {
    "duration": 42,
    "start_time": "2023-01-02T07:36:06.828Z"
   },
   {
    "duration": 706,
    "start_time": "2023-01-02T07:36:32.526Z"
   },
   {
    "duration": 17,
    "start_time": "2023-01-02T07:36:39.639Z"
   },
   {
    "duration": 6,
    "start_time": "2023-01-02T07:37:57.980Z"
   },
   {
    "duration": 5,
    "start_time": "2023-01-02T07:38:07.582Z"
   },
   {
    "duration": 16,
    "start_time": "2023-01-02T07:38:52.572Z"
   },
   {
    "duration": 24,
    "start_time": "2023-01-02T07:39:03.527Z"
   },
   {
    "duration": 262,
    "start_time": "2023-01-02T07:42:17.452Z"
   },
   {
    "duration": 25,
    "start_time": "2023-01-02T07:42:19.905Z"
   },
   {
    "duration": 736,
    "start_time": "2023-01-02T07:48:34.064Z"
   },
   {
    "duration": 759,
    "start_time": "2023-01-02T07:48:41.530Z"
   },
   {
    "duration": 6,
    "start_time": "2023-01-02T07:48:44.096Z"
   },
   {
    "duration": 9,
    "start_time": "2023-01-02T07:50:43.362Z"
   },
   {
    "duration": 489,
    "start_time": "2023-01-02T07:50:48.554Z"
   },
   {
    "duration": 16,
    "start_time": "2023-01-02T07:50:49.045Z"
   },
   {
    "duration": 39,
    "start_time": "2023-01-02T07:50:49.062Z"
   },
   {
    "duration": 2004,
    "start_time": "2023-01-02T07:50:49.104Z"
   },
   {
    "duration": 9,
    "start_time": "2023-01-02T07:50:51.109Z"
   },
   {
    "duration": 13,
    "start_time": "2023-01-02T07:50:51.119Z"
   },
   {
    "duration": 7,
    "start_time": "2023-01-02T07:50:51.134Z"
   },
   {
    "duration": 8,
    "start_time": "2023-01-02T07:50:51.142Z"
   },
   {
    "duration": 24,
    "start_time": "2023-01-02T07:50:51.151Z"
   },
   {
    "duration": 6,
    "start_time": "2023-01-02T07:50:51.178Z"
   },
   {
    "duration": 128,
    "start_time": "2023-01-02T07:50:51.186Z"
   },
   {
    "duration": 7,
    "start_time": "2023-01-02T07:50:51.315Z"
   },
   {
    "duration": 1932,
    "start_time": "2023-01-02T07:50:51.323Z"
   },
   {
    "duration": 7,
    "start_time": "2023-01-02T07:50:53.257Z"
   },
   {
    "duration": 18,
    "start_time": "2023-01-02T07:50:53.265Z"
   },
   {
    "duration": 7,
    "start_time": "2023-01-02T07:50:53.285Z"
   },
   {
    "duration": 5,
    "start_time": "2023-01-02T07:50:53.293Z"
   },
   {
    "duration": 23,
    "start_time": "2023-01-02T07:50:53.299Z"
   },
   {
    "duration": 15,
    "start_time": "2023-01-02T07:50:53.323Z"
   },
   {
    "duration": 6,
    "start_time": "2023-01-02T07:50:53.340Z"
   },
   {
    "duration": 9,
    "start_time": "2023-01-02T07:50:53.347Z"
   },
   {
    "duration": 10,
    "start_time": "2023-01-02T07:50:53.358Z"
   },
   {
    "duration": 9,
    "start_time": "2023-01-02T07:50:53.370Z"
   },
   {
    "duration": 41,
    "start_time": "2023-01-02T07:50:53.381Z"
   },
   {
    "duration": 5,
    "start_time": "2023-01-02T07:50:53.424Z"
   },
   {
    "duration": 31,
    "start_time": "2023-01-02T07:50:53.431Z"
   },
   {
    "duration": 345,
    "start_time": "2023-01-02T07:50:53.463Z"
   },
   {
    "duration": 26,
    "start_time": "2023-01-02T07:52:51.550Z"
   },
   {
    "duration": 509,
    "start_time": "2023-01-02T07:53:10.003Z"
   },
   {
    "duration": 15,
    "start_time": "2023-01-02T07:53:10.514Z"
   },
   {
    "duration": 42,
    "start_time": "2023-01-02T07:53:10.531Z"
   },
   {
    "duration": 2108,
    "start_time": "2023-01-02T07:53:10.575Z"
   },
   {
    "duration": 9,
    "start_time": "2023-01-02T07:53:12.685Z"
   },
   {
    "duration": 10,
    "start_time": "2023-01-02T07:53:12.696Z"
   },
   {
    "duration": 5,
    "start_time": "2023-01-02T07:53:12.707Z"
   },
   {
    "duration": 6,
    "start_time": "2023-01-02T07:53:12.714Z"
   },
   {
    "duration": 22,
    "start_time": "2023-01-02T07:53:12.721Z"
   },
   {
    "duration": 7,
    "start_time": "2023-01-02T07:53:12.745Z"
   },
   {
    "duration": 137,
    "start_time": "2023-01-02T07:53:12.753Z"
   },
   {
    "duration": 4,
    "start_time": "2023-01-02T07:53:12.892Z"
   },
   {
    "duration": 1949,
    "start_time": "2023-01-02T07:53:12.898Z"
   },
   {
    "duration": 10,
    "start_time": "2023-01-02T07:53:14.848Z"
   },
   {
    "duration": 31,
    "start_time": "2023-01-02T07:53:14.859Z"
   },
   {
    "duration": 8,
    "start_time": "2023-01-02T07:53:14.891Z"
   },
   {
    "duration": 7,
    "start_time": "2023-01-02T07:53:14.900Z"
   },
   {
    "duration": 15,
    "start_time": "2023-01-02T07:53:14.908Z"
   },
   {
    "duration": 9,
    "start_time": "2023-01-02T07:53:14.924Z"
   },
   {
    "duration": 8,
    "start_time": "2023-01-02T07:53:14.934Z"
   },
   {
    "duration": 25,
    "start_time": "2023-01-02T07:53:14.943Z"
   },
   {
    "duration": 9,
    "start_time": "2023-01-02T07:53:14.969Z"
   },
   {
    "duration": 12,
    "start_time": "2023-01-02T07:53:14.980Z"
   },
   {
    "duration": 18,
    "start_time": "2023-01-02T07:53:14.993Z"
   },
   {
    "duration": 4,
    "start_time": "2023-01-02T07:53:15.012Z"
   },
   {
    "duration": 49,
    "start_time": "2023-01-02T07:53:15.018Z"
   },
   {
    "duration": 341,
    "start_time": "2023-01-02T07:53:15.069Z"
   },
   {
    "duration": 355,
    "start_time": "2023-01-02T07:53:50.416Z"
   },
   {
    "duration": 575,
    "start_time": "2023-01-02T07:54:09.171Z"
   },
   {
    "duration": 265,
    "start_time": "2023-01-02T07:54:18.597Z"
   },
   {
    "duration": 262,
    "start_time": "2023-01-02T07:54:27.165Z"
   },
   {
    "duration": 46,
    "start_time": "2023-01-02T07:56:14.512Z"
   },
   {
    "duration": 294,
    "start_time": "2023-01-02T07:56:34.949Z"
   },
   {
    "duration": 9,
    "start_time": "2023-01-02T07:56:53.544Z"
   },
   {
    "duration": 6,
    "start_time": "2023-01-02T07:57:13.940Z"
   },
   {
    "duration": 391,
    "start_time": "2023-01-02T07:57:33.520Z"
   },
   {
    "duration": 447,
    "start_time": "2023-01-02T07:57:38.362Z"
   },
   {
    "duration": 14,
    "start_time": "2023-01-02T07:57:38.811Z"
   },
   {
    "duration": 34,
    "start_time": "2023-01-02T07:57:38.827Z"
   },
   {
    "duration": 1940,
    "start_time": "2023-01-02T07:57:38.863Z"
   },
   {
    "duration": 9,
    "start_time": "2023-01-02T07:57:40.805Z"
   },
   {
    "duration": 10,
    "start_time": "2023-01-02T07:57:40.815Z"
   },
   {
    "duration": 4,
    "start_time": "2023-01-02T07:57:40.826Z"
   },
   {
    "duration": 5,
    "start_time": "2023-01-02T07:57:40.832Z"
   },
   {
    "duration": 17,
    "start_time": "2023-01-02T07:57:40.838Z"
   },
   {
    "duration": 7,
    "start_time": "2023-01-02T07:57:40.857Z"
   },
   {
    "duration": 138,
    "start_time": "2023-01-02T07:57:40.865Z"
   },
   {
    "duration": 4,
    "start_time": "2023-01-02T07:57:41.005Z"
   },
   {
    "duration": 1964,
    "start_time": "2023-01-02T07:57:41.010Z"
   },
   {
    "duration": 10,
    "start_time": "2023-01-02T07:57:42.975Z"
   },
   {
    "duration": 25,
    "start_time": "2023-01-02T07:57:42.986Z"
   },
   {
    "duration": 14,
    "start_time": "2023-01-02T07:57:43.013Z"
   },
   {
    "duration": 11,
    "start_time": "2023-01-02T07:57:43.028Z"
   },
   {
    "duration": 15,
    "start_time": "2023-01-02T07:57:43.041Z"
   },
   {
    "duration": 18,
    "start_time": "2023-01-02T07:57:43.058Z"
   },
   {
    "duration": 8,
    "start_time": "2023-01-02T07:57:43.077Z"
   },
   {
    "duration": 9,
    "start_time": "2023-01-02T07:57:43.087Z"
   },
   {
    "duration": 9,
    "start_time": "2023-01-02T07:57:43.097Z"
   },
   {
    "duration": 15,
    "start_time": "2023-01-02T07:57:43.107Z"
   },
   {
    "duration": 6,
    "start_time": "2023-01-02T07:57:43.124Z"
   },
   {
    "duration": 4,
    "start_time": "2023-01-02T07:57:43.131Z"
   },
   {
    "duration": 23,
    "start_time": "2023-01-02T07:57:43.136Z"
   },
   {
    "duration": 82,
    "start_time": "2023-01-02T07:57:43.161Z"
   },
   {
    "duration": 304,
    "start_time": "2023-01-02T07:58:57.580Z"
   },
   {
    "duration": 27,
    "start_time": "2023-01-02T07:59:09.476Z"
   },
   {
    "duration": 26,
    "start_time": "2023-01-02T07:59:31.316Z"
   },
   {
    "duration": 1125,
    "start_time": "2023-01-02T08:04:00.916Z"
   },
   {
    "duration": 4,
    "start_time": "2023-01-02T08:07:11.165Z"
   },
   {
    "duration": 475,
    "start_time": "2023-01-02T08:07:16.527Z"
   },
   {
    "duration": 14,
    "start_time": "2023-01-02T08:07:17.004Z"
   },
   {
    "duration": 33,
    "start_time": "2023-01-02T08:07:17.020Z"
   },
   {
    "duration": 1996,
    "start_time": "2023-01-02T08:07:17.055Z"
   },
   {
    "duration": 4,
    "start_time": "2023-01-02T08:07:19.052Z"
   },
   {
    "duration": 24,
    "start_time": "2023-01-02T08:07:19.058Z"
   },
   {
    "duration": 11,
    "start_time": "2023-01-02T08:07:19.084Z"
   },
   {
    "duration": 5,
    "start_time": "2023-01-02T08:07:19.097Z"
   },
   {
    "duration": 13,
    "start_time": "2023-01-02T08:07:19.104Z"
   },
   {
    "duration": 32,
    "start_time": "2023-01-02T08:07:19.121Z"
   },
   {
    "duration": 10,
    "start_time": "2023-01-02T08:07:19.155Z"
   },
   {
    "duration": 143,
    "start_time": "2023-01-02T08:07:19.166Z"
   },
   {
    "duration": 5,
    "start_time": "2023-01-02T08:07:19.310Z"
   },
   {
    "duration": 1971,
    "start_time": "2023-01-02T08:07:19.321Z"
   },
   {
    "duration": 9,
    "start_time": "2023-01-02T08:07:21.294Z"
   },
   {
    "duration": 29,
    "start_time": "2023-01-02T08:07:21.304Z"
   },
   {
    "duration": 9,
    "start_time": "2023-01-02T08:07:21.335Z"
   },
   {
    "duration": 6,
    "start_time": "2023-01-02T08:07:21.345Z"
   },
   {
    "duration": 10,
    "start_time": "2023-01-02T08:07:21.352Z"
   },
   {
    "duration": 10,
    "start_time": "2023-01-02T08:07:21.363Z"
   },
   {
    "duration": 5,
    "start_time": "2023-01-02T08:07:21.374Z"
   },
   {
    "duration": 11,
    "start_time": "2023-01-02T08:07:21.381Z"
   },
   {
    "duration": 33,
    "start_time": "2023-01-02T08:07:21.393Z"
   },
   {
    "duration": 9,
    "start_time": "2023-01-02T08:07:21.427Z"
   },
   {
    "duration": 14,
    "start_time": "2023-01-02T08:07:21.437Z"
   },
   {
    "duration": 4,
    "start_time": "2023-01-02T08:07:21.452Z"
   },
   {
    "duration": 32,
    "start_time": "2023-01-02T08:07:21.457Z"
   },
   {
    "duration": 329,
    "start_time": "2023-01-02T08:07:21.492Z"
   },
   {
    "duration": 26,
    "start_time": "2023-01-02T08:07:31.010Z"
   },
   {
    "duration": 425,
    "start_time": "2023-01-02T08:08:05.193Z"
   },
   {
    "duration": 24,
    "start_time": "2023-01-02T08:08:08.194Z"
   },
   {
    "duration": 374,
    "start_time": "2023-01-02T08:10:49.064Z"
   },
   {
    "duration": 311,
    "start_time": "2023-01-02T08:11:04.737Z"
   },
   {
    "duration": 298,
    "start_time": "2023-01-02T08:11:28.872Z"
   },
   {
    "duration": 362,
    "start_time": "2023-01-02T08:11:41.007Z"
   },
   {
    "duration": 298,
    "start_time": "2023-01-02T08:11:44.908Z"
   },
   {
    "duration": 296,
    "start_time": "2023-01-02T08:11:54.252Z"
   },
   {
    "duration": 310,
    "start_time": "2023-01-02T08:13:13.726Z"
   },
   {
    "duration": 363,
    "start_time": "2023-01-02T08:15:40.889Z"
   },
   {
    "duration": 305,
    "start_time": "2023-01-02T08:16:03.640Z"
   },
   {
    "duration": 865,
    "start_time": "2023-01-02T08:16:47.314Z"
   },
   {
    "duration": 331,
    "start_time": "2023-01-02T08:18:16.867Z"
   },
   {
    "duration": 317,
    "start_time": "2023-01-02T10:06:59.979Z"
   },
   {
    "duration": 365,
    "start_time": "2023-01-02T10:07:04.575Z"
   },
   {
    "duration": 306,
    "start_time": "2023-01-02T10:07:25.302Z"
   },
   {
    "duration": 308,
    "start_time": "2023-01-02T10:07:30.448Z"
   },
   {
    "duration": 304,
    "start_time": "2023-01-02T10:07:52.154Z"
   },
   {
    "duration": 375,
    "start_time": "2023-01-02T10:11:11.476Z"
   },
   {
    "duration": 316,
    "start_time": "2023-01-02T10:12:02.161Z"
   },
   {
    "duration": 314,
    "start_time": "2023-01-02T10:12:53.891Z"
   },
   {
    "duration": 311,
    "start_time": "2023-01-02T10:13:15.893Z"
   },
   {
    "duration": 383,
    "start_time": "2023-01-02T10:14:01.240Z"
   },
   {
    "duration": 327,
    "start_time": "2023-01-02T10:14:04.520Z"
   },
   {
    "duration": 317,
    "start_time": "2023-01-02T10:14:29.888Z"
   },
   {
    "duration": 333,
    "start_time": "2023-01-02T10:15:11.444Z"
   },
   {
    "duration": 359,
    "start_time": "2023-01-02T10:15:30.185Z"
   },
   {
    "duration": 329,
    "start_time": "2023-01-02T10:15:44.948Z"
   },
   {
    "duration": 305,
    "start_time": "2023-01-02T10:16:28.752Z"
   },
   {
    "duration": 302,
    "start_time": "2023-01-02T10:16:33.026Z"
   },
   {
    "duration": 364,
    "start_time": "2023-01-02T10:16:39.392Z"
   },
   {
    "duration": 311,
    "start_time": "2023-01-02T10:16:52.793Z"
   },
   {
    "duration": 308,
    "start_time": "2023-01-02T10:17:02.444Z"
   },
   {
    "duration": 303,
    "start_time": "2023-01-02T10:17:24.674Z"
   },
   {
    "duration": 367,
    "start_time": "2023-01-02T10:17:29.571Z"
   },
   {
    "duration": 299,
    "start_time": "2023-01-02T10:17:41.844Z"
   },
   {
    "duration": 469,
    "start_time": "2023-01-02T10:18:07.122Z"
   },
   {
    "duration": 14,
    "start_time": "2023-01-02T10:18:07.593Z"
   },
   {
    "duration": 43,
    "start_time": "2023-01-02T10:18:07.609Z"
   },
   {
    "duration": 1986,
    "start_time": "2023-01-02T10:18:07.654Z"
   },
   {
    "duration": 4,
    "start_time": "2023-01-02T10:18:09.641Z"
   },
   {
    "duration": 21,
    "start_time": "2023-01-02T10:18:09.646Z"
   },
   {
    "duration": 9,
    "start_time": "2023-01-02T10:18:09.668Z"
   },
   {
    "duration": 7,
    "start_time": "2023-01-02T10:18:09.678Z"
   },
   {
    "duration": 23,
    "start_time": "2023-01-02T10:18:09.686Z"
   },
   {
    "duration": 19,
    "start_time": "2023-01-02T10:18:09.711Z"
   },
   {
    "duration": 7,
    "start_time": "2023-01-02T10:18:09.731Z"
   },
   {
    "duration": 120,
    "start_time": "2023-01-02T10:18:09.739Z"
   },
   {
    "duration": 4,
    "start_time": "2023-01-02T10:18:09.860Z"
   },
   {
    "duration": 1994,
    "start_time": "2023-01-02T10:18:09.866Z"
   },
   {
    "duration": 8,
    "start_time": "2023-01-02T10:18:11.862Z"
   },
   {
    "duration": 19,
    "start_time": "2023-01-02T10:18:11.871Z"
   },
   {
    "duration": 8,
    "start_time": "2023-01-02T10:18:11.891Z"
   },
   {
    "duration": 20,
    "start_time": "2023-01-02T10:18:11.901Z"
   },
   {
    "duration": 4,
    "start_time": "2023-01-02T10:18:11.923Z"
   },
   {
    "duration": 10,
    "start_time": "2023-01-02T10:18:11.929Z"
   },
   {
    "duration": 10,
    "start_time": "2023-01-02T10:18:11.941Z"
   },
   {
    "duration": 12,
    "start_time": "2023-01-02T10:18:11.952Z"
   },
   {
    "duration": 9,
    "start_time": "2023-01-02T10:18:11.965Z"
   },
   {
    "duration": 8,
    "start_time": "2023-01-02T10:18:11.976Z"
   },
   {
    "duration": 37,
    "start_time": "2023-01-02T10:18:11.985Z"
   },
   {
    "duration": 4,
    "start_time": "2023-01-02T10:18:12.023Z"
   },
   {
    "duration": 34,
    "start_time": "2023-01-02T10:18:12.028Z"
   },
   {
    "duration": 1226,
    "start_time": "2023-01-02T10:18:12.065Z"
   },
   {
    "duration": 1086,
    "start_time": "2023-01-02T10:18:14.842Z"
   },
   {
    "duration": 1002,
    "start_time": "2023-01-02T10:18:24.534Z"
   },
   {
    "duration": 1095,
    "start_time": "2023-01-02T10:19:14.953Z"
   },
   {
    "duration": 1080,
    "start_time": "2023-01-02T10:19:30.120Z"
   },
   {
    "duration": 427,
    "start_time": "2023-01-02T10:19:45.121Z"
   },
   {
    "duration": 994,
    "start_time": "2023-01-02T10:20:06.132Z"
   },
   {
    "duration": 317,
    "start_time": "2023-01-02T10:20:14.116Z"
   },
   {
    "duration": 469,
    "start_time": "2023-01-02T10:20:21.834Z"
   },
   {
    "duration": 14,
    "start_time": "2023-01-02T10:20:22.305Z"
   },
   {
    "duration": 35,
    "start_time": "2023-01-02T10:20:22.320Z"
   },
   {
    "duration": 1995,
    "start_time": "2023-01-02T10:20:22.357Z"
   },
   {
    "duration": 3,
    "start_time": "2023-01-02T10:20:24.354Z"
   },
   {
    "duration": 12,
    "start_time": "2023-01-02T10:20:24.359Z"
   },
   {
    "duration": 9,
    "start_time": "2023-01-02T10:20:24.373Z"
   },
   {
    "duration": 4,
    "start_time": "2023-01-02T10:20:24.384Z"
   },
   {
    "duration": 7,
    "start_time": "2023-01-02T10:20:24.389Z"
   },
   {
    "duration": 28,
    "start_time": "2023-01-02T10:20:24.399Z"
   },
   {
    "duration": 6,
    "start_time": "2023-01-02T10:20:24.429Z"
   },
   {
    "duration": 123,
    "start_time": "2023-01-02T10:20:24.437Z"
   },
   {
    "duration": 5,
    "start_time": "2023-01-02T10:20:24.561Z"
   },
   {
    "duration": 2068,
    "start_time": "2023-01-02T10:20:24.567Z"
   },
   {
    "duration": 11,
    "start_time": "2023-01-02T10:20:26.637Z"
   },
   {
    "duration": 19,
    "start_time": "2023-01-02T10:20:26.649Z"
   },
   {
    "duration": 9,
    "start_time": "2023-01-02T10:20:26.670Z"
   },
   {
    "duration": 6,
    "start_time": "2023-01-02T10:20:26.680Z"
   },
   {
    "duration": 33,
    "start_time": "2023-01-02T10:20:26.688Z"
   },
   {
    "duration": 8,
    "start_time": "2023-01-02T10:20:26.722Z"
   },
   {
    "duration": 6,
    "start_time": "2023-01-02T10:20:26.731Z"
   },
   {
    "duration": 13,
    "start_time": "2023-01-02T10:20:26.738Z"
   },
   {
    "duration": 9,
    "start_time": "2023-01-02T10:20:26.752Z"
   },
   {
    "duration": 8,
    "start_time": "2023-01-02T10:20:26.763Z"
   },
   {
    "duration": 5,
    "start_time": "2023-01-02T10:20:26.773Z"
   },
   {
    "duration": 42,
    "start_time": "2023-01-02T10:20:26.780Z"
   },
   {
    "duration": 28,
    "start_time": "2023-01-02T10:20:26.824Z"
   },
   {
    "duration": 1140,
    "start_time": "2023-01-02T10:20:26.854Z"
   },
   {
    "duration": 1056,
    "start_time": "2023-01-02T10:20:49.089Z"
   },
   {
    "duration": 311,
    "start_time": "2023-01-02T10:20:54.896Z"
   },
   {
    "duration": 469,
    "start_time": "2023-01-02T10:21:02.688Z"
   },
   {
    "duration": 15,
    "start_time": "2023-01-02T10:21:03.159Z"
   },
   {
    "duration": 32,
    "start_time": "2023-01-02T10:21:03.175Z"
   },
   {
    "duration": 2020,
    "start_time": "2023-01-02T10:21:03.220Z"
   },
   {
    "duration": 4,
    "start_time": "2023-01-02T10:21:05.241Z"
   },
   {
    "duration": 32,
    "start_time": "2023-01-02T10:21:05.247Z"
   },
   {
    "duration": 13,
    "start_time": "2023-01-02T10:21:05.281Z"
   },
   {
    "duration": 29,
    "start_time": "2023-01-02T10:21:05.295Z"
   },
   {
    "duration": 22,
    "start_time": "2023-01-02T10:21:05.327Z"
   },
   {
    "duration": 33,
    "start_time": "2023-01-02T10:21:05.353Z"
   },
   {
    "duration": 11,
    "start_time": "2023-01-02T10:21:05.388Z"
   },
   {
    "duration": 141,
    "start_time": "2023-01-02T10:21:05.401Z"
   },
   {
    "duration": 4,
    "start_time": "2023-01-02T10:21:05.544Z"
   },
   {
    "duration": 1960,
    "start_time": "2023-01-02T10:21:05.549Z"
   },
   {
    "duration": 11,
    "start_time": "2023-01-02T10:21:07.510Z"
   },
   {
    "duration": 18,
    "start_time": "2023-01-02T10:21:07.523Z"
   },
   {
    "duration": 9,
    "start_time": "2023-01-02T10:21:07.542Z"
   },
   {
    "duration": 6,
    "start_time": "2023-01-02T10:21:07.552Z"
   },
   {
    "duration": 9,
    "start_time": "2023-01-02T10:21:07.559Z"
   },
   {
    "duration": 9,
    "start_time": "2023-01-02T10:21:07.570Z"
   },
   {
    "duration": 5,
    "start_time": "2023-01-02T10:21:07.580Z"
   },
   {
    "duration": 35,
    "start_time": "2023-01-02T10:21:07.586Z"
   },
   {
    "duration": 9,
    "start_time": "2023-01-02T10:21:07.623Z"
   },
   {
    "duration": 9,
    "start_time": "2023-01-02T10:21:07.633Z"
   },
   {
    "duration": 5,
    "start_time": "2023-01-02T10:21:07.643Z"
   },
   {
    "duration": 4,
    "start_time": "2023-01-02T10:21:07.650Z"
   },
   {
    "duration": 33,
    "start_time": "2023-01-02T10:21:07.655Z"
   },
   {
    "duration": 333,
    "start_time": "2023-01-02T10:21:07.691Z"
   },
   {
    "duration": 381,
    "start_time": "2023-01-02T10:21:21.224Z"
   },
   {
    "duration": 308,
    "start_time": "2023-01-02T10:21:29.028Z"
   },
   {
    "duration": 311,
    "start_time": "2023-01-02T10:21:44.724Z"
   },
   {
    "duration": 319,
    "start_time": "2023-01-02T10:21:52.364Z"
   },
   {
    "duration": 371,
    "start_time": "2023-01-02T10:21:58.016Z"
   },
   {
    "duration": 323,
    "start_time": "2023-01-02T10:22:08.418Z"
   },
   {
    "duration": 381,
    "start_time": "2023-01-02T10:22:20.560Z"
   },
   {
    "duration": 357,
    "start_time": "2023-01-02T10:22:25.078Z"
   },
   {
    "duration": 315,
    "start_time": "2023-01-02T10:22:37.189Z"
   },
   {
    "duration": 373,
    "start_time": "2023-01-02T10:22:44.673Z"
   },
   {
    "duration": 314,
    "start_time": "2023-01-02T10:22:50.368Z"
   },
   {
    "duration": 332,
    "start_time": "2023-01-02T10:23:00.437Z"
   },
   {
    "duration": 328,
    "start_time": "2023-01-02T10:23:33.526Z"
   },
   {
    "duration": 369,
    "start_time": "2023-01-02T10:23:47.746Z"
   },
   {
    "duration": 310,
    "start_time": "2023-01-02T10:23:55.547Z"
   },
   {
    "duration": 310,
    "start_time": "2023-01-02T10:24:09.869Z"
   },
   {
    "duration": 460,
    "start_time": "2023-01-02T10:24:22.155Z"
   },
   {
    "duration": 14,
    "start_time": "2023-01-02T10:24:22.617Z"
   },
   {
    "duration": 34,
    "start_time": "2023-01-02T10:24:22.632Z"
   },
   {
    "duration": 1976,
    "start_time": "2023-01-02T10:24:22.668Z"
   },
   {
    "duration": 4,
    "start_time": "2023-01-02T10:24:24.645Z"
   },
   {
    "duration": 15,
    "start_time": "2023-01-02T10:24:24.650Z"
   },
   {
    "duration": 9,
    "start_time": "2023-01-02T10:24:24.666Z"
   },
   {
    "duration": 4,
    "start_time": "2023-01-02T10:24:24.676Z"
   },
   {
    "duration": 7,
    "start_time": "2023-01-02T10:24:24.682Z"
   },
   {
    "duration": 17,
    "start_time": "2023-01-02T10:24:24.692Z"
   },
   {
    "duration": 6,
    "start_time": "2023-01-02T10:24:24.711Z"
   },
   {
    "duration": 147,
    "start_time": "2023-01-02T10:24:24.718Z"
   },
   {
    "duration": 4,
    "start_time": "2023-01-02T10:24:24.867Z"
   },
   {
    "duration": 1993,
    "start_time": "2023-01-02T10:24:24.872Z"
   },
   {
    "duration": 8,
    "start_time": "2023-01-02T10:24:26.867Z"
   },
   {
    "duration": 30,
    "start_time": "2023-01-02T10:24:26.876Z"
   },
   {
    "duration": 14,
    "start_time": "2023-01-02T10:24:26.908Z"
   },
   {
    "duration": 5,
    "start_time": "2023-01-02T10:24:26.923Z"
   },
   {
    "duration": 7,
    "start_time": "2023-01-02T10:24:26.929Z"
   },
   {
    "duration": 9,
    "start_time": "2023-01-02T10:24:26.937Z"
   },
   {
    "duration": 6,
    "start_time": "2023-01-02T10:24:26.947Z"
   },
   {
    "duration": 13,
    "start_time": "2023-01-02T10:24:26.954Z"
   },
   {
    "duration": 18,
    "start_time": "2023-01-02T10:24:26.968Z"
   },
   {
    "duration": 9,
    "start_time": "2023-01-02T10:24:26.987Z"
   },
   {
    "duration": 25,
    "start_time": "2023-01-02T10:24:26.997Z"
   },
   {
    "duration": 3,
    "start_time": "2023-01-02T10:24:27.024Z"
   },
   {
    "duration": 32,
    "start_time": "2023-01-02T10:24:27.028Z"
   },
   {
    "duration": 1053,
    "start_time": "2023-01-02T10:24:27.063Z"
   },
   {
    "duration": 1086,
    "start_time": "2023-01-02T10:24:56.358Z"
   },
   {
    "duration": 995,
    "start_time": "2023-01-02T10:25:47.824Z"
   },
   {
    "duration": 310,
    "start_time": "2023-01-02T10:26:12.464Z"
   },
   {
    "duration": 995,
    "start_time": "2023-01-02T10:26:15.795Z"
   },
   {
    "duration": 1059,
    "start_time": "2023-01-02T10:26:28.443Z"
   },
   {
    "duration": 965,
    "start_time": "2023-01-02T10:27:00.396Z"
   },
   {
    "duration": 1015,
    "start_time": "2023-01-02T10:27:24.207Z"
   },
   {
    "duration": 966,
    "start_time": "2023-01-02T10:27:40.944Z"
   },
   {
    "duration": 361,
    "start_time": "2023-01-02T10:27:51.169Z"
   },
   {
    "duration": 303,
    "start_time": "2023-01-02T10:28:04.407Z"
   },
   {
    "duration": 300,
    "start_time": "2023-01-02T10:28:08.816Z"
   },
   {
    "duration": 432,
    "start_time": "2023-01-02T10:28:17.176Z"
   },
   {
    "duration": 15,
    "start_time": "2023-01-02T10:28:17.609Z"
   },
   {
    "duration": 32,
    "start_time": "2023-01-02T10:28:17.625Z"
   },
   {
    "duration": 2042,
    "start_time": "2023-01-02T10:28:17.658Z"
   },
   {
    "duration": 3,
    "start_time": "2023-01-02T10:28:19.701Z"
   },
   {
    "duration": 12,
    "start_time": "2023-01-02T10:28:19.706Z"
   },
   {
    "duration": 7,
    "start_time": "2023-01-02T10:28:19.719Z"
   },
   {
    "duration": 16,
    "start_time": "2023-01-02T10:28:19.728Z"
   },
   {
    "duration": 14,
    "start_time": "2023-01-02T10:28:19.745Z"
   },
   {
    "duration": 22,
    "start_time": "2023-01-02T10:28:19.761Z"
   },
   {
    "duration": 6,
    "start_time": "2023-01-02T10:28:19.785Z"
   },
   {
    "duration": 124,
    "start_time": "2023-01-02T10:28:19.793Z"
   },
   {
    "duration": 5,
    "start_time": "2023-01-02T10:28:19.920Z"
   },
   {
    "duration": 1984,
    "start_time": "2023-01-02T10:28:19.926Z"
   },
   {
    "duration": 13,
    "start_time": "2023-01-02T10:28:21.912Z"
   },
   {
    "duration": 19,
    "start_time": "2023-01-02T10:28:21.927Z"
   },
   {
    "duration": 9,
    "start_time": "2023-01-02T10:28:21.947Z"
   },
   {
    "duration": 6,
    "start_time": "2023-01-02T10:28:21.957Z"
   },
   {
    "duration": 5,
    "start_time": "2023-01-02T10:28:21.965Z"
   },
   {
    "duration": 9,
    "start_time": "2023-01-02T10:28:21.971Z"
   },
   {
    "duration": 5,
    "start_time": "2023-01-02T10:28:21.981Z"
   },
   {
    "duration": 9,
    "start_time": "2023-01-02T10:28:22.020Z"
   },
   {
    "duration": 9,
    "start_time": "2023-01-02T10:28:22.031Z"
   },
   {
    "duration": 10,
    "start_time": "2023-01-02T10:28:22.042Z"
   },
   {
    "duration": 6,
    "start_time": "2023-01-02T10:28:22.053Z"
   },
   {
    "duration": 4,
    "start_time": "2023-01-02T10:28:22.060Z"
   },
   {
    "duration": 59,
    "start_time": "2023-01-02T10:28:22.066Z"
   },
   {
    "duration": 1029,
    "start_time": "2023-01-02T10:28:22.128Z"
   },
   {
    "duration": 1066,
    "start_time": "2023-01-02T10:28:42.106Z"
   },
   {
    "duration": 1056,
    "start_time": "2023-01-02T10:29:01.997Z"
   },
   {
    "duration": 985,
    "start_time": "2023-01-02T10:29:17.143Z"
   },
   {
    "duration": 304,
    "start_time": "2023-01-02T10:29:28.110Z"
   },
   {
    "duration": 378,
    "start_time": "2023-01-02T10:30:02.190Z"
   },
   {
    "duration": 314,
    "start_time": "2023-01-02T10:30:14.357Z"
   },
   {
    "duration": 475,
    "start_time": "2023-01-02T10:30:47.246Z"
   },
   {
    "duration": 14,
    "start_time": "2023-01-02T10:30:47.723Z"
   },
   {
    "duration": 34,
    "start_time": "2023-01-02T10:30:47.739Z"
   },
   {
    "duration": 1990,
    "start_time": "2023-01-02T10:30:47.774Z"
   },
   {
    "duration": 3,
    "start_time": "2023-01-02T10:30:49.766Z"
   },
   {
    "duration": 13,
    "start_time": "2023-01-02T10:30:49.770Z"
   },
   {
    "duration": 8,
    "start_time": "2023-01-02T10:30:49.784Z"
   },
   {
    "duration": 8,
    "start_time": "2023-01-02T10:30:49.793Z"
   },
   {
    "duration": 6,
    "start_time": "2023-01-02T10:30:49.802Z"
   },
   {
    "duration": 18,
    "start_time": "2023-01-02T10:30:49.810Z"
   },
   {
    "duration": 7,
    "start_time": "2023-01-02T10:30:49.829Z"
   },
   {
    "duration": 124,
    "start_time": "2023-01-02T10:30:49.837Z"
   },
   {
    "duration": 4,
    "start_time": "2023-01-02T10:30:49.963Z"
   },
   {
    "duration": 1942,
    "start_time": "2023-01-02T10:30:49.968Z"
   },
   {
    "duration": 10,
    "start_time": "2023-01-02T10:30:51.912Z"
   },
   {
    "duration": 20,
    "start_time": "2023-01-02T10:30:51.924Z"
   },
   {
    "duration": 10,
    "start_time": "2023-01-02T10:30:51.945Z"
   },
   {
    "duration": 6,
    "start_time": "2023-01-02T10:30:51.956Z"
   },
   {
    "duration": 6,
    "start_time": "2023-01-02T10:30:51.963Z"
   },
   {
    "duration": 11,
    "start_time": "2023-01-02T10:30:51.971Z"
   },
   {
    "duration": 5,
    "start_time": "2023-01-02T10:30:51.983Z"
   },
   {
    "duration": 34,
    "start_time": "2023-01-02T10:30:51.989Z"
   },
   {
    "duration": 22,
    "start_time": "2023-01-02T10:30:52.024Z"
   },
   {
    "duration": 16,
    "start_time": "2023-01-02T10:30:52.047Z"
   },
   {
    "duration": 9,
    "start_time": "2023-01-02T10:30:52.064Z"
   },
   {
    "duration": 15,
    "start_time": "2023-01-02T10:30:52.074Z"
   },
   {
    "duration": 33,
    "start_time": "2023-01-02T10:30:52.090Z"
   },
   {
    "duration": 1051,
    "start_time": "2023-01-02T10:30:52.126Z"
   },
   {
    "duration": 1048,
    "start_time": "2023-01-02T10:31:46.435Z"
   },
   {
    "duration": 961,
    "start_time": "2023-01-02T10:31:49.772Z"
   },
   {
    "duration": 82,
    "start_time": "2023-01-02T10:31:53.309Z"
   },
   {
    "duration": 13,
    "start_time": "2023-01-02T10:31:53.393Z"
   },
   {
    "duration": 37,
    "start_time": "2023-01-02T10:31:53.408Z"
   },
   {
    "duration": 1786,
    "start_time": "2023-01-02T10:31:53.447Z"
   },
   {
    "duration": 4,
    "start_time": "2023-01-02T10:31:55.234Z"
   },
   {
    "duration": 16,
    "start_time": "2023-01-02T10:31:55.240Z"
   },
   {
    "duration": 10,
    "start_time": "2023-01-02T10:31:55.258Z"
   },
   {
    "duration": 7,
    "start_time": "2023-01-02T10:31:55.270Z"
   },
   {
    "duration": 15,
    "start_time": "2023-01-02T10:31:55.279Z"
   },
   {
    "duration": 32,
    "start_time": "2023-01-02T10:31:55.297Z"
   },
   {
    "duration": 9,
    "start_time": "2023-01-02T10:31:55.332Z"
   },
   {
    "duration": 138,
    "start_time": "2023-01-02T10:31:55.343Z"
   },
   {
    "duration": 4,
    "start_time": "2023-01-02T10:31:55.483Z"
   },
   {
    "duration": 1940,
    "start_time": "2023-01-02T10:31:55.489Z"
   },
   {
    "duration": 9,
    "start_time": "2023-01-02T10:31:57.431Z"
   },
   {
    "duration": 43,
    "start_time": "2023-01-02T10:31:57.442Z"
   },
   {
    "duration": 11,
    "start_time": "2023-01-02T10:31:57.487Z"
   },
   {
    "duration": 17,
    "start_time": "2023-01-02T10:31:57.500Z"
   },
   {
    "duration": 7,
    "start_time": "2023-01-02T10:31:57.519Z"
   },
   {
    "duration": 12,
    "start_time": "2023-01-02T10:31:57.528Z"
   },
   {
    "duration": 22,
    "start_time": "2023-01-02T10:31:57.541Z"
   },
   {
    "duration": 28,
    "start_time": "2023-01-02T10:31:57.564Z"
   },
   {
    "duration": 39,
    "start_time": "2023-01-02T10:31:57.593Z"
   },
   {
    "duration": 24,
    "start_time": "2023-01-02T10:31:57.633Z"
   },
   {
    "duration": 19,
    "start_time": "2023-01-02T10:31:57.659Z"
   },
   {
    "duration": 6,
    "start_time": "2023-01-02T10:31:57.680Z"
   },
   {
    "duration": 37,
    "start_time": "2023-01-02T10:31:57.687Z"
   },
   {
    "duration": 304,
    "start_time": "2023-01-02T10:32:03.925Z"
   },
   {
    "duration": 659,
    "start_time": "2023-01-02T10:32:05.564Z"
   },
   {
    "duration": 8,
    "start_time": "2023-01-02T10:32:16.672Z"
   },
   {
    "duration": 736,
    "start_time": "2023-01-02T10:32:30.259Z"
   },
   {
    "duration": 11,
    "start_time": "2023-01-02T10:32:47.079Z"
   },
   {
    "duration": 9,
    "start_time": "2023-01-02T10:33:05.085Z"
   },
   {
    "duration": 10,
    "start_time": "2023-01-02T10:33:19.501Z"
   },
   {
    "duration": 43,
    "start_time": "2023-01-02T10:34:01.270Z"
   },
   {
    "duration": 9,
    "start_time": "2023-01-02T10:34:08.807Z"
   },
   {
    "duration": 8,
    "start_time": "2023-01-02T10:34:34.335Z"
   },
   {
    "duration": 9,
    "start_time": "2023-01-02T10:35:02.275Z"
   },
   {
    "duration": 7,
    "start_time": "2023-01-02T10:35:10.207Z"
   },
   {
    "duration": 20,
    "start_time": "2023-01-02T10:35:20.922Z"
   },
   {
    "duration": 18,
    "start_time": "2023-01-02T10:35:32.205Z"
   },
   {
    "duration": 17,
    "start_time": "2023-01-02T10:35:39.922Z"
   },
   {
    "duration": 16,
    "start_time": "2023-01-02T10:37:03.106Z"
   },
   {
    "duration": 9,
    "start_time": "2023-01-02T10:37:25.444Z"
   },
   {
    "duration": 18,
    "start_time": "2023-01-02T10:39:10.519Z"
   },
   {
    "duration": 9,
    "start_time": "2023-01-02T10:40:13.050Z"
   },
   {
    "duration": 8,
    "start_time": "2023-01-02T10:40:27.994Z"
   },
   {
    "duration": 17,
    "start_time": "2023-01-02T10:40:38.346Z"
   },
   {
    "duration": 8,
    "start_time": "2023-01-02T10:40:48.177Z"
   },
   {
    "duration": 503,
    "start_time": "2023-01-02T10:41:36.362Z"
   },
   {
    "duration": 15,
    "start_time": "2023-01-02T10:41:36.867Z"
   },
   {
    "duration": 42,
    "start_time": "2023-01-02T10:41:36.884Z"
   },
   {
    "duration": 2044,
    "start_time": "2023-01-02T10:41:36.928Z"
   },
   {
    "duration": 4,
    "start_time": "2023-01-02T10:41:38.974Z"
   },
   {
    "duration": 20,
    "start_time": "2023-01-02T10:41:38.981Z"
   },
   {
    "duration": 23,
    "start_time": "2023-01-02T10:41:39.003Z"
   },
   {
    "duration": 8,
    "start_time": "2023-01-02T10:41:39.029Z"
   },
   {
    "duration": 11,
    "start_time": "2023-01-02T10:41:39.039Z"
   },
   {
    "duration": 34,
    "start_time": "2023-01-02T10:41:39.053Z"
   },
   {
    "duration": 13,
    "start_time": "2023-01-02T10:41:39.090Z"
   },
   {
    "duration": 150,
    "start_time": "2023-01-02T10:41:39.106Z"
   },
   {
    "duration": 5,
    "start_time": "2023-01-02T10:41:39.258Z"
   },
   {
    "duration": 2016,
    "start_time": "2023-01-02T10:41:39.264Z"
   },
   {
    "duration": 9,
    "start_time": "2023-01-02T10:41:41.282Z"
   },
   {
    "duration": 41,
    "start_time": "2023-01-02T10:41:41.292Z"
   },
   {
    "duration": 10,
    "start_time": "2023-01-02T10:41:41.334Z"
   },
   {
    "duration": 25,
    "start_time": "2023-01-02T10:41:41.345Z"
   },
   {
    "duration": 20,
    "start_time": "2023-01-02T10:41:41.372Z"
   },
   {
    "duration": 24,
    "start_time": "2023-01-02T10:41:41.394Z"
   },
   {
    "duration": 20,
    "start_time": "2023-01-02T10:41:41.420Z"
   },
   {
    "duration": 32,
    "start_time": "2023-01-02T10:41:41.441Z"
   },
   {
    "duration": 22,
    "start_time": "2023-01-02T10:41:41.474Z"
   },
   {
    "duration": 36,
    "start_time": "2023-01-02T10:41:41.498Z"
   },
   {
    "duration": 16,
    "start_time": "2023-01-02T10:41:41.536Z"
   },
   {
    "duration": 23,
    "start_time": "2023-01-02T10:41:41.554Z"
   },
   {
    "duration": 53,
    "start_time": "2023-01-02T10:41:41.579Z"
   },
   {
    "duration": 332,
    "start_time": "2023-01-02T10:41:41.635Z"
   },
   {
    "duration": 84,
    "start_time": "2023-01-02T10:41:41.969Z"
   },
   {
    "duration": 14,
    "start_time": "2023-01-02T10:42:06.310Z"
   },
   {
    "duration": 10,
    "start_time": "2023-01-02T10:42:23.381Z"
   },
   {
    "duration": 8,
    "start_time": "2023-01-02T10:42:49.425Z"
   },
   {
    "duration": 492,
    "start_time": "2023-01-02T10:42:57.574Z"
   },
   {
    "duration": 16,
    "start_time": "2023-01-02T10:42:58.067Z"
   },
   {
    "duration": 47,
    "start_time": "2023-01-02T10:42:58.084Z"
   },
   {
    "duration": 2078,
    "start_time": "2023-01-02T10:42:58.134Z"
   },
   {
    "duration": 4,
    "start_time": "2023-01-02T10:43:00.213Z"
   },
   {
    "duration": 70,
    "start_time": "2023-01-02T10:43:00.219Z"
   },
   {
    "duration": 32,
    "start_time": "2023-01-02T10:43:00.291Z"
   },
   {
    "duration": 21,
    "start_time": "2023-01-02T10:43:00.324Z"
   },
   {
    "duration": 26,
    "start_time": "2023-01-02T10:43:00.347Z"
   },
   {
    "duration": 39,
    "start_time": "2023-01-02T10:43:00.376Z"
   },
   {
    "duration": 20,
    "start_time": "2023-01-02T10:43:00.416Z"
   },
   {
    "duration": 152,
    "start_time": "2023-01-02T10:43:00.437Z"
   },
   {
    "duration": 5,
    "start_time": "2023-01-02T10:43:00.591Z"
   },
   {
    "duration": 2072,
    "start_time": "2023-01-02T10:43:00.597Z"
   },
   {
    "duration": 8,
    "start_time": "2023-01-02T10:43:02.671Z"
   },
   {
    "duration": 30,
    "start_time": "2023-01-02T10:43:02.680Z"
   },
   {
    "duration": 10,
    "start_time": "2023-01-02T10:43:02.720Z"
   },
   {
    "duration": 17,
    "start_time": "2023-01-02T10:43:02.731Z"
   },
   {
    "duration": 11,
    "start_time": "2023-01-02T10:43:02.750Z"
   },
   {
    "duration": 39,
    "start_time": "2023-01-02T10:43:02.763Z"
   },
   {
    "duration": 6,
    "start_time": "2023-01-02T10:43:02.804Z"
   },
   {
    "duration": 27,
    "start_time": "2023-01-02T10:43:02.812Z"
   },
   {
    "duration": 29,
    "start_time": "2023-01-02T10:43:02.841Z"
   },
   {
    "duration": 10,
    "start_time": "2023-01-02T10:43:02.872Z"
   },
   {
    "duration": 16,
    "start_time": "2023-01-02T10:43:02.884Z"
   },
   {
    "duration": 13,
    "start_time": "2023-01-02T10:43:02.901Z"
   },
   {
    "duration": 43,
    "start_time": "2023-01-02T10:43:02.916Z"
   },
   {
    "duration": 302,
    "start_time": "2023-01-02T10:43:02.962Z"
   },
   {
    "duration": 8,
    "start_time": "2023-01-02T10:43:03.266Z"
   },
   {
    "duration": 494,
    "start_time": "2023-01-02T10:43:38.472Z"
   },
   {
    "duration": 15,
    "start_time": "2023-01-02T10:43:38.967Z"
   },
   {
    "duration": 47,
    "start_time": "2023-01-02T10:43:38.984Z"
   },
   {
    "duration": 2091,
    "start_time": "2023-01-02T10:43:39.033Z"
   },
   {
    "duration": 4,
    "start_time": "2023-01-02T10:43:41.125Z"
   },
   {
    "duration": 17,
    "start_time": "2023-01-02T10:43:41.130Z"
   },
   {
    "duration": 13,
    "start_time": "2023-01-02T10:43:41.148Z"
   },
   {
    "duration": 8,
    "start_time": "2023-01-02T10:43:41.163Z"
   },
   {
    "duration": 9,
    "start_time": "2023-01-02T10:43:41.172Z"
   },
   {
    "duration": 48,
    "start_time": "2023-01-02T10:43:41.184Z"
   },
   {
    "duration": 7,
    "start_time": "2023-01-02T10:43:41.234Z"
   },
   {
    "duration": 147,
    "start_time": "2023-01-02T10:43:41.243Z"
   },
   {
    "duration": 4,
    "start_time": "2023-01-02T10:43:41.392Z"
   },
   {
    "duration": 2069,
    "start_time": "2023-01-02T10:43:41.398Z"
   },
   {
    "duration": 9,
    "start_time": "2023-01-02T10:43:43.469Z"
   },
   {
    "duration": 42,
    "start_time": "2023-01-02T10:43:43.479Z"
   },
   {
    "duration": 11,
    "start_time": "2023-01-02T10:43:43.523Z"
   },
   {
    "duration": 17,
    "start_time": "2023-01-02T10:43:43.536Z"
   },
   {
    "duration": 6,
    "start_time": "2023-01-02T10:43:43.554Z"
   },
   {
    "duration": 14,
    "start_time": "2023-01-02T10:43:43.562Z"
   },
   {
    "duration": 8,
    "start_time": "2023-01-02T10:43:43.578Z"
   },
   {
    "duration": 16,
    "start_time": "2023-01-02T10:43:43.588Z"
   },
   {
    "duration": 25,
    "start_time": "2023-01-02T10:43:43.606Z"
   },
   {
    "duration": 10,
    "start_time": "2023-01-02T10:43:43.633Z"
   },
   {
    "duration": 13,
    "start_time": "2023-01-02T10:43:43.645Z"
   },
   {
    "duration": 17,
    "start_time": "2023-01-02T10:43:43.660Z"
   },
   {
    "duration": 32,
    "start_time": "2023-01-02T10:43:43.678Z"
   },
   {
    "duration": 332,
    "start_time": "2023-01-02T10:43:43.723Z"
   },
   {
    "duration": 9,
    "start_time": "2023-01-02T10:43:44.056Z"
   },
   {
    "duration": 31,
    "start_time": "2023-01-02T10:44:08.549Z"
   },
   {
    "duration": 2437,
    "start_time": "2023-01-02T10:46:28.447Z"
   },
   {
    "duration": 525,
    "start_time": "2023-01-02T10:50:24.934Z"
   },
   {
    "duration": 14,
    "start_time": "2023-01-02T10:50:25.461Z"
   },
   {
    "duration": 34,
    "start_time": "2023-01-02T10:50:25.476Z"
   },
   {
    "duration": 2015,
    "start_time": "2023-01-02T10:50:25.521Z"
   },
   {
    "duration": 4,
    "start_time": "2023-01-02T10:50:27.538Z"
   },
   {
    "duration": 15,
    "start_time": "2023-01-02T10:50:27.544Z"
   },
   {
    "duration": 9,
    "start_time": "2023-01-02T10:50:27.561Z"
   },
   {
    "duration": 6,
    "start_time": "2023-01-02T10:50:27.572Z"
   },
   {
    "duration": 8,
    "start_time": "2023-01-02T10:50:27.579Z"
   },
   {
    "duration": 19,
    "start_time": "2023-01-02T10:50:27.588Z"
   },
   {
    "duration": 15,
    "start_time": "2023-01-02T10:50:27.608Z"
   },
   {
    "duration": 126,
    "start_time": "2023-01-02T10:50:27.624Z"
   },
   {
    "duration": 4,
    "start_time": "2023-01-02T10:50:27.752Z"
   },
   {
    "duration": 1912,
    "start_time": "2023-01-02T10:50:27.758Z"
   },
   {
    "duration": 8,
    "start_time": "2023-01-02T10:50:29.672Z"
   },
   {
    "duration": 19,
    "start_time": "2023-01-02T10:50:29.681Z"
   },
   {
    "duration": 23,
    "start_time": "2023-01-02T10:50:29.701Z"
   },
   {
    "duration": 6,
    "start_time": "2023-01-02T10:50:29.725Z"
   },
   {
    "duration": 6,
    "start_time": "2023-01-02T10:50:29.732Z"
   },
   {
    "duration": 10,
    "start_time": "2023-01-02T10:50:29.739Z"
   },
   {
    "duration": 6,
    "start_time": "2023-01-02T10:50:29.750Z"
   },
   {
    "duration": 21,
    "start_time": "2023-01-02T10:50:29.757Z"
   },
   {
    "duration": 9,
    "start_time": "2023-01-02T10:50:29.780Z"
   },
   {
    "duration": 8,
    "start_time": "2023-01-02T10:50:29.790Z"
   },
   {
    "duration": 25,
    "start_time": "2023-01-02T10:50:29.799Z"
   },
   {
    "duration": 5,
    "start_time": "2023-01-02T10:50:29.825Z"
   },
   {
    "duration": 32,
    "start_time": "2023-01-02T10:50:29.832Z"
   },
   {
    "duration": 321,
    "start_time": "2023-01-02T10:50:29.866Z"
   },
   {
    "duration": 2427,
    "start_time": "2023-01-02T10:50:30.188Z"
   },
   {
    "duration": 396,
    "start_time": "2023-01-02T10:53:15.445Z"
   },
   {
    "duration": 507,
    "start_time": "2023-01-02T10:53:20.219Z"
   },
   {
    "duration": 13,
    "start_time": "2023-01-02T10:53:20.728Z"
   },
   {
    "duration": 31,
    "start_time": "2023-01-02T10:53:20.743Z"
   },
   {
    "duration": 2008,
    "start_time": "2023-01-02T10:53:20.776Z"
   },
   {
    "duration": 4,
    "start_time": "2023-01-02T10:53:22.785Z"
   },
   {
    "duration": 19,
    "start_time": "2023-01-02T10:53:22.791Z"
   },
   {
    "duration": 14,
    "start_time": "2023-01-02T10:53:22.811Z"
   },
   {
    "duration": 6,
    "start_time": "2023-01-02T10:53:22.826Z"
   },
   {
    "duration": 20,
    "start_time": "2023-01-02T10:53:22.834Z"
   },
   {
    "duration": 27,
    "start_time": "2023-01-02T10:53:22.858Z"
   },
   {
    "duration": 10,
    "start_time": "2023-01-02T10:53:22.886Z"
   },
   {
    "duration": 135,
    "start_time": "2023-01-02T10:53:22.897Z"
   },
   {
    "duration": 7,
    "start_time": "2023-01-02T10:53:23.034Z"
   },
   {
    "duration": 1994,
    "start_time": "2023-01-02T10:53:23.043Z"
   },
   {
    "duration": 8,
    "start_time": "2023-01-02T10:53:25.039Z"
   },
   {
    "duration": 25,
    "start_time": "2023-01-02T10:53:25.049Z"
   },
   {
    "duration": 8,
    "start_time": "2023-01-02T10:53:25.076Z"
   },
   {
    "duration": 10,
    "start_time": "2023-01-02T10:53:25.086Z"
   },
   {
    "duration": 6,
    "start_time": "2023-01-02T10:53:25.097Z"
   },
   {
    "duration": 22,
    "start_time": "2023-01-02T10:53:25.104Z"
   },
   {
    "duration": 6,
    "start_time": "2023-01-02T10:53:25.128Z"
   },
   {
    "duration": 13,
    "start_time": "2023-01-02T10:53:25.135Z"
   },
   {
    "duration": 11,
    "start_time": "2023-01-02T10:53:25.149Z"
   },
   {
    "duration": 10,
    "start_time": "2023-01-02T10:53:25.161Z"
   },
   {
    "duration": 11,
    "start_time": "2023-01-02T10:53:25.172Z"
   },
   {
    "duration": 36,
    "start_time": "2023-01-02T10:53:25.185Z"
   },
   {
    "duration": 37,
    "start_time": "2023-01-02T10:53:25.223Z"
   },
   {
    "duration": 343,
    "start_time": "2023-01-02T10:53:25.263Z"
   },
   {
    "duration": 2385,
    "start_time": "2023-01-02T10:53:25.608Z"
   },
   {
    "duration": 445,
    "start_time": "2023-01-02T10:57:57.460Z"
   },
   {
    "duration": 14,
    "start_time": "2023-01-02T10:57:57.907Z"
   },
   {
    "duration": 32,
    "start_time": "2023-01-02T10:57:57.923Z"
   },
   {
    "duration": 2030,
    "start_time": "2023-01-02T10:57:57.957Z"
   },
   {
    "duration": 4,
    "start_time": "2023-01-02T10:57:59.989Z"
   },
   {
    "duration": 17,
    "start_time": "2023-01-02T10:57:59.994Z"
   },
   {
    "duration": 12,
    "start_time": "2023-01-02T10:58:00.012Z"
   },
   {
    "duration": 13,
    "start_time": "2023-01-02T10:58:00.025Z"
   },
   {
    "duration": 14,
    "start_time": "2023-01-02T10:58:00.039Z"
   },
   {
    "duration": 25,
    "start_time": "2023-01-02T10:58:00.056Z"
   },
   {
    "duration": 10,
    "start_time": "2023-01-02T10:58:00.083Z"
   },
   {
    "duration": 134,
    "start_time": "2023-01-02T10:58:00.094Z"
   },
   {
    "duration": 5,
    "start_time": "2023-01-02T10:58:00.230Z"
   },
   {
    "duration": 2021,
    "start_time": "2023-01-02T10:58:00.236Z"
   },
   {
    "duration": 11,
    "start_time": "2023-01-02T10:58:02.258Z"
   },
   {
    "duration": 43,
    "start_time": "2023-01-02T10:58:02.271Z"
   },
   {
    "duration": 11,
    "start_time": "2023-01-02T10:58:02.316Z"
   },
   {
    "duration": 16,
    "start_time": "2023-01-02T10:58:02.329Z"
   },
   {
    "duration": 11,
    "start_time": "2023-01-02T10:58:02.346Z"
   },
   {
    "duration": 14,
    "start_time": "2023-01-02T10:58:02.359Z"
   },
   {
    "duration": 6,
    "start_time": "2023-01-02T10:58:02.375Z"
   },
   {
    "duration": 35,
    "start_time": "2023-01-02T10:58:02.383Z"
   },
   {
    "duration": 16,
    "start_time": "2023-01-02T10:58:02.420Z"
   },
   {
    "duration": 9,
    "start_time": "2023-01-02T10:58:02.438Z"
   },
   {
    "duration": 5,
    "start_time": "2023-01-02T10:58:02.449Z"
   },
   {
    "duration": 7,
    "start_time": "2023-01-02T10:58:02.455Z"
   },
   {
    "duration": 31,
    "start_time": "2023-01-02T10:58:02.464Z"
   },
   {
    "duration": 335,
    "start_time": "2023-01-02T10:58:02.497Z"
   },
   {
    "duration": 2538,
    "start_time": "2023-01-02T10:58:02.834Z"
   },
   {
    "duration": 489,
    "start_time": "2023-01-02T11:00:30.546Z"
   },
   {
    "duration": 14,
    "start_time": "2023-01-02T11:00:31.036Z"
   },
   {
    "duration": 50,
    "start_time": "2023-01-02T11:00:31.052Z"
   },
   {
    "duration": 2091,
    "start_time": "2023-01-02T11:00:31.105Z"
   },
   {
    "duration": 4,
    "start_time": "2023-01-02T11:00:33.197Z"
   },
   {
    "duration": 15,
    "start_time": "2023-01-02T11:00:33.202Z"
   },
   {
    "duration": 10,
    "start_time": "2023-01-02T11:00:33.218Z"
   },
   {
    "duration": 5,
    "start_time": "2023-01-02T11:00:33.229Z"
   },
   {
    "duration": 16,
    "start_time": "2023-01-02T11:00:33.235Z"
   },
   {
    "duration": 25,
    "start_time": "2023-01-02T11:00:33.254Z"
   },
   {
    "duration": 8,
    "start_time": "2023-01-02T11:00:33.280Z"
   },
   {
    "duration": 141,
    "start_time": "2023-01-02T11:00:33.289Z"
   },
   {
    "duration": 6,
    "start_time": "2023-01-02T11:00:33.432Z"
   },
   {
    "duration": 2127,
    "start_time": "2023-01-02T11:00:33.440Z"
   },
   {
    "duration": 10,
    "start_time": "2023-01-02T11:00:35.569Z"
   },
   {
    "duration": 32,
    "start_time": "2023-01-02T11:00:35.581Z"
   },
   {
    "duration": 12,
    "start_time": "2023-01-02T11:00:35.614Z"
   },
   {
    "duration": 6,
    "start_time": "2023-01-02T11:00:35.628Z"
   },
   {
    "duration": 5,
    "start_time": "2023-01-02T11:00:35.635Z"
   },
   {
    "duration": 13,
    "start_time": "2023-01-02T11:00:35.641Z"
   },
   {
    "duration": 9,
    "start_time": "2023-01-02T11:00:35.656Z"
   },
   {
    "duration": 12,
    "start_time": "2023-01-02T11:00:35.667Z"
   },
   {
    "duration": 11,
    "start_time": "2023-01-02T11:00:35.681Z"
   },
   {
    "duration": 36,
    "start_time": "2023-01-02T11:00:35.693Z"
   },
   {
    "duration": 11,
    "start_time": "2023-01-02T11:00:35.731Z"
   },
   {
    "duration": 7,
    "start_time": "2023-01-02T11:00:35.743Z"
   },
   {
    "duration": 36,
    "start_time": "2023-01-02T11:00:35.751Z"
   },
   {
    "duration": 310,
    "start_time": "2023-01-02T11:00:35.789Z"
   },
   {
    "duration": 2,
    "start_time": "2023-01-02T11:00:36.101Z"
   },
   {
    "duration": 326,
    "start_time": "2023-01-02T11:01:29.936Z"
   },
   {
    "duration": 293,
    "start_time": "2023-01-02T11:01:39.169Z"
   },
   {
    "duration": 317,
    "start_time": "2023-01-02T11:01:44.755Z"
   },
   {
    "duration": 323,
    "start_time": "2023-01-02T11:02:06.467Z"
   },
   {
    "duration": 473,
    "start_time": "2023-01-02T11:02:12.417Z"
   },
   {
    "duration": 480,
    "start_time": "2023-01-02T11:03:35.714Z"
   },
   {
    "duration": 13,
    "start_time": "2023-01-02T11:03:36.196Z"
   },
   {
    "duration": 48,
    "start_time": "2023-01-02T11:03:36.210Z"
   },
   {
    "duration": 1961,
    "start_time": "2023-01-02T11:03:36.260Z"
   },
   {
    "duration": 3,
    "start_time": "2023-01-02T11:03:38.223Z"
   },
   {
    "duration": 23,
    "start_time": "2023-01-02T11:03:38.228Z"
   },
   {
    "duration": 15,
    "start_time": "2023-01-02T11:03:38.253Z"
   },
   {
    "duration": 8,
    "start_time": "2023-01-02T11:03:38.270Z"
   },
   {
    "duration": 16,
    "start_time": "2023-01-02T11:03:38.279Z"
   },
   {
    "duration": 31,
    "start_time": "2023-01-02T11:03:38.296Z"
   },
   {
    "duration": 7,
    "start_time": "2023-01-02T11:03:38.328Z"
   },
   {
    "duration": 130,
    "start_time": "2023-01-02T11:03:38.337Z"
   },
   {
    "duration": 4,
    "start_time": "2023-01-02T11:03:38.469Z"
   },
   {
    "duration": 1998,
    "start_time": "2023-01-02T11:03:38.476Z"
   },
   {
    "duration": 10,
    "start_time": "2023-01-02T11:03:40.475Z"
   },
   {
    "duration": 33,
    "start_time": "2023-01-02T11:03:40.486Z"
   },
   {
    "duration": 22,
    "start_time": "2023-01-02T11:03:40.521Z"
   },
   {
    "duration": 11,
    "start_time": "2023-01-02T11:03:40.544Z"
   },
   {
    "duration": 25,
    "start_time": "2023-01-02T11:03:40.557Z"
   },
   {
    "duration": 10,
    "start_time": "2023-01-02T11:03:40.584Z"
   },
   {
    "duration": 20,
    "start_time": "2023-01-02T11:03:40.596Z"
   },
   {
    "duration": 41,
    "start_time": "2023-01-02T11:03:40.617Z"
   },
   {
    "duration": 23,
    "start_time": "2023-01-02T11:03:40.660Z"
   },
   {
    "duration": 23,
    "start_time": "2023-01-02T11:03:40.684Z"
   },
   {
    "duration": 10,
    "start_time": "2023-01-02T11:03:40.708Z"
   },
   {
    "duration": 14,
    "start_time": "2023-01-02T11:03:40.719Z"
   },
   {
    "duration": 37,
    "start_time": "2023-01-02T11:03:40.734Z"
   },
   {
    "duration": 303,
    "start_time": "2023-01-02T11:03:40.773Z"
   },
   {
    "duration": 437,
    "start_time": "2023-01-02T11:03:41.078Z"
   },
   {
    "duration": 20,
    "start_time": "2023-01-02T11:04:17.761Z"
   },
   {
    "duration": 499,
    "start_time": "2023-01-02T11:05:12.013Z"
   },
   {
    "duration": 15,
    "start_time": "2023-01-02T11:05:12.515Z"
   },
   {
    "duration": 36,
    "start_time": "2023-01-02T11:05:12.531Z"
   },
   {
    "duration": 2010,
    "start_time": "2023-01-02T11:05:12.570Z"
   },
   {
    "duration": 4,
    "start_time": "2023-01-02T11:05:14.581Z"
   },
   {
    "duration": 12,
    "start_time": "2023-01-02T11:05:14.586Z"
   },
   {
    "duration": 8,
    "start_time": "2023-01-02T11:05:14.599Z"
   },
   {
    "duration": 6,
    "start_time": "2023-01-02T11:05:14.608Z"
   },
   {
    "duration": 13,
    "start_time": "2023-01-02T11:05:14.615Z"
   },
   {
    "duration": 17,
    "start_time": "2023-01-02T11:05:14.630Z"
   },
   {
    "duration": 7,
    "start_time": "2023-01-02T11:05:14.648Z"
   },
   {
    "duration": 130,
    "start_time": "2023-01-02T11:05:14.656Z"
   },
   {
    "duration": 5,
    "start_time": "2023-01-02T11:05:14.787Z"
   },
   {
    "duration": 2008,
    "start_time": "2023-01-02T11:05:14.793Z"
   },
   {
    "duration": 8,
    "start_time": "2023-01-02T11:05:16.803Z"
   },
   {
    "duration": 17,
    "start_time": "2023-01-02T11:05:16.821Z"
   },
   {
    "duration": 8,
    "start_time": "2023-01-02T11:05:16.840Z"
   },
   {
    "duration": 2,
    "start_time": "2023-01-02T11:05:16.850Z"
   },
   {
    "duration": 13,
    "start_time": "2023-01-02T11:05:16.853Z"
   },
   {
    "duration": 9,
    "start_time": "2023-01-02T11:05:16.868Z"
   },
   {
    "duration": 5,
    "start_time": "2023-01-02T11:05:16.878Z"
   },
   {
    "duration": 15,
    "start_time": "2023-01-02T11:05:16.885Z"
   },
   {
    "duration": 26,
    "start_time": "2023-01-02T11:05:16.902Z"
   },
   {
    "duration": 9,
    "start_time": "2023-01-02T11:05:16.930Z"
   },
   {
    "duration": 11,
    "start_time": "2023-01-02T11:05:16.940Z"
   },
   {
    "duration": 8,
    "start_time": "2023-01-02T11:05:16.953Z"
   },
   {
    "duration": 34,
    "start_time": "2023-01-02T11:05:16.962Z"
   },
   {
    "duration": 316,
    "start_time": "2023-01-02T11:05:17.000Z"
   },
   {
    "duration": 433,
    "start_time": "2023-01-02T11:05:17.318Z"
   },
   {
    "duration": 11,
    "start_time": "2023-01-02T11:06:58.336Z"
   },
   {
    "duration": 7,
    "start_time": "2023-01-02T11:07:06.313Z"
   },
   {
    "duration": 414,
    "start_time": "2023-01-02T11:07:21.780Z"
   },
   {
    "duration": 22,
    "start_time": "2023-01-02T11:07:22.196Z"
   },
   {
    "duration": 37,
    "start_time": "2023-01-02T11:07:22.220Z"
   },
   {
    "duration": 1976,
    "start_time": "2023-01-02T11:07:22.260Z"
   },
   {
    "duration": 3,
    "start_time": "2023-01-02T11:07:24.238Z"
   },
   {
    "duration": 20,
    "start_time": "2023-01-02T11:07:24.243Z"
   },
   {
    "duration": 15,
    "start_time": "2023-01-02T11:07:24.264Z"
   },
   {
    "duration": 6,
    "start_time": "2023-01-02T11:07:43.894Z"
   },
   {
    "duration": 6,
    "start_time": "2023-01-02T11:07:45.832Z"
   },
   {
    "duration": 5,
    "start_time": "2023-01-02T11:07:48.684Z"
   },
   {
    "duration": 4,
    "start_time": "2023-01-02T11:08:01.155Z"
   },
   {
    "duration": 5,
    "start_time": "2023-01-02T11:08:02.519Z"
   },
   {
    "duration": 463,
    "start_time": "2023-01-02T11:08:13.937Z"
   },
   {
    "duration": 15,
    "start_time": "2023-01-02T11:08:14.401Z"
   },
   {
    "duration": 32,
    "start_time": "2023-01-02T11:08:14.418Z"
   },
   {
    "duration": 2178,
    "start_time": "2023-01-02T11:08:14.452Z"
   },
   {
    "duration": 4,
    "start_time": "2023-01-02T11:08:16.633Z"
   },
   {
    "duration": 19,
    "start_time": "2023-01-02T11:08:16.639Z"
   },
   {
    "duration": 14,
    "start_time": "2023-01-02T11:08:16.659Z"
   },
   {
    "duration": 5,
    "start_time": "2023-01-02T11:08:16.676Z"
   },
   {
    "duration": 8,
    "start_time": "2023-01-02T11:08:19.314Z"
   },
   {
    "duration": 5,
    "start_time": "2023-01-02T11:08:20.988Z"
   },
   {
    "duration": 6,
    "start_time": "2023-01-02T11:09:25.112Z"
   },
   {
    "duration": 469,
    "start_time": "2023-01-02T11:09:43.641Z"
   },
   {
    "duration": 15,
    "start_time": "2023-01-02T11:09:44.112Z"
   },
   {
    "duration": 43,
    "start_time": "2023-01-02T11:09:44.128Z"
   },
   {
    "duration": 2051,
    "start_time": "2023-01-02T11:09:44.173Z"
   },
   {
    "duration": 3,
    "start_time": "2023-01-02T11:09:46.226Z"
   },
   {
    "duration": 13,
    "start_time": "2023-01-02T11:09:46.231Z"
   },
   {
    "duration": 8,
    "start_time": "2023-01-02T11:09:46.246Z"
   },
   {
    "duration": 6,
    "start_time": "2023-01-02T11:09:46.255Z"
   },
   {
    "duration": 9,
    "start_time": "2023-01-02T11:09:46.262Z"
   },
   {
    "duration": 18,
    "start_time": "2023-01-02T11:09:46.273Z"
   },
   {
    "duration": 7,
    "start_time": "2023-01-02T11:09:46.293Z"
   },
   {
    "duration": 128,
    "start_time": "2023-01-02T11:09:46.320Z"
   },
   {
    "duration": 4,
    "start_time": "2023-01-02T11:09:46.450Z"
   },
   {
    "duration": 1946,
    "start_time": "2023-01-02T11:09:46.455Z"
   },
   {
    "duration": 8,
    "start_time": "2023-01-02T11:09:48.403Z"
   },
   {
    "duration": 28,
    "start_time": "2023-01-02T11:09:48.412Z"
   },
   {
    "duration": 8,
    "start_time": "2023-01-02T11:09:48.441Z"
   },
   {
    "duration": 6,
    "start_time": "2023-01-02T11:09:48.450Z"
   },
   {
    "duration": 25,
    "start_time": "2023-01-02T11:09:48.457Z"
   },
   {
    "duration": 20,
    "start_time": "2023-01-02T11:09:48.484Z"
   },
   {
    "duration": 5,
    "start_time": "2023-01-02T11:09:48.505Z"
   },
   {
    "duration": 23,
    "start_time": "2023-01-02T11:09:48.512Z"
   },
   {
    "duration": 11,
    "start_time": "2023-01-02T11:09:48.537Z"
   },
   {
    "duration": 25,
    "start_time": "2023-01-02T11:09:48.550Z"
   },
   {
    "duration": 32,
    "start_time": "2023-01-02T11:09:48.577Z"
   },
   {
    "duration": 21,
    "start_time": "2023-01-02T11:09:48.610Z"
   },
   {
    "duration": 44,
    "start_time": "2023-01-02T11:09:48.633Z"
   },
   {
    "duration": 290,
    "start_time": "2023-01-02T11:09:48.680Z"
   },
   {
    "duration": 442,
    "start_time": "2023-01-02T11:09:48.971Z"
   },
   {
    "duration": 459,
    "start_time": "2023-01-02T11:11:32.460Z"
   },
   {
    "duration": 16,
    "start_time": "2023-01-02T11:11:32.921Z"
   },
   {
    "duration": 31,
    "start_time": "2023-01-02T11:11:32.939Z"
   },
   {
    "duration": 2139,
    "start_time": "2023-01-02T11:11:32.973Z"
   },
   {
    "duration": 5,
    "start_time": "2023-01-02T11:11:35.114Z"
   },
   {
    "duration": 18,
    "start_time": "2023-01-02T11:11:35.121Z"
   },
   {
    "duration": 8,
    "start_time": "2023-01-02T11:11:35.141Z"
   },
   {
    "duration": 12,
    "start_time": "2023-01-02T11:11:35.151Z"
   },
   {
    "duration": 34,
    "start_time": "2023-01-02T11:11:35.164Z"
   },
   {
    "duration": 37,
    "start_time": "2023-01-02T11:11:35.202Z"
   },
   {
    "duration": 9,
    "start_time": "2023-01-02T11:11:35.242Z"
   },
   {
    "duration": 187,
    "start_time": "2023-01-02T11:11:35.253Z"
   },
   {
    "duration": 4,
    "start_time": "2023-01-02T11:11:35.442Z"
   },
   {
    "duration": 1999,
    "start_time": "2023-01-02T11:11:35.447Z"
   },
   {
    "duration": 10,
    "start_time": "2023-01-02T11:11:37.449Z"
   },
   {
    "duration": 34,
    "start_time": "2023-01-02T11:11:37.460Z"
   },
   {
    "duration": 10,
    "start_time": "2023-01-02T11:11:37.496Z"
   },
   {
    "duration": 524,
    "start_time": "2023-01-02T11:11:37.507Z"
   },
   {
    "duration": 0,
    "start_time": "2023-01-02T11:11:38.033Z"
   },
   {
    "duration": 0,
    "start_time": "2023-01-02T11:11:38.035Z"
   },
   {
    "duration": 0,
    "start_time": "2023-01-02T11:11:38.036Z"
   },
   {
    "duration": 0,
    "start_time": "2023-01-02T11:11:38.038Z"
   },
   {
    "duration": 0,
    "start_time": "2023-01-02T11:11:38.039Z"
   },
   {
    "duration": 0,
    "start_time": "2023-01-02T11:11:38.041Z"
   },
   {
    "duration": 0,
    "start_time": "2023-01-02T11:11:38.042Z"
   },
   {
    "duration": 0,
    "start_time": "2023-01-02T11:11:38.044Z"
   },
   {
    "duration": 0,
    "start_time": "2023-01-02T11:11:38.045Z"
   },
   {
    "duration": 0,
    "start_time": "2023-01-02T11:11:38.047Z"
   },
   {
    "duration": 0,
    "start_time": "2023-01-02T11:11:38.048Z"
   },
   {
    "duration": 345,
    "start_time": "2023-01-02T11:11:54.547Z"
   },
   {
    "duration": 11,
    "start_time": "2023-01-02T11:12:40.694Z"
   },
   {
    "duration": 367,
    "start_time": "2023-01-02T11:13:42.587Z"
   },
   {
    "duration": 496,
    "start_time": "2023-01-02T11:13:58.296Z"
   },
   {
    "duration": 14,
    "start_time": "2023-01-02T11:13:58.793Z"
   },
   {
    "duration": 34,
    "start_time": "2023-01-02T11:13:58.809Z"
   },
   {
    "duration": 1999,
    "start_time": "2023-01-02T11:13:58.845Z"
   },
   {
    "duration": 4,
    "start_time": "2023-01-02T11:14:00.845Z"
   },
   {
    "duration": 33,
    "start_time": "2023-01-02T11:14:00.850Z"
   },
   {
    "duration": 36,
    "start_time": "2023-01-02T11:14:00.884Z"
   },
   {
    "duration": 28,
    "start_time": "2023-01-02T11:14:00.922Z"
   },
   {
    "duration": 36,
    "start_time": "2023-01-02T11:14:00.951Z"
   },
   {
    "duration": 58,
    "start_time": "2023-01-02T11:14:00.990Z"
   },
   {
    "duration": 31,
    "start_time": "2023-01-02T11:14:01.049Z"
   },
   {
    "duration": 156,
    "start_time": "2023-01-02T11:14:01.082Z"
   },
   {
    "duration": 4,
    "start_time": "2023-01-02T11:14:01.240Z"
   },
   {
    "duration": 2044,
    "start_time": "2023-01-02T11:14:01.245Z"
   },
   {
    "duration": 20,
    "start_time": "2023-01-02T11:14:03.290Z"
   },
   {
    "duration": 21,
    "start_time": "2023-01-02T11:14:03.313Z"
   },
   {
    "duration": 9,
    "start_time": "2023-01-02T11:14:03.336Z"
   },
   {
    "duration": 459,
    "start_time": "2023-01-02T11:14:03.346Z"
   },
   {
    "duration": 0,
    "start_time": "2023-01-02T11:14:03.806Z"
   },
   {
    "duration": 6,
    "start_time": "2023-01-02T11:14:58.227Z"
   },
   {
    "duration": 4,
    "start_time": "2023-01-02T11:15:00.729Z"
   },
   {
    "duration": 36,
    "start_time": "2023-01-02T11:15:35.698Z"
   },
   {
    "duration": 6,
    "start_time": "2023-01-02T11:15:55.094Z"
   },
   {
    "duration": 4,
    "start_time": "2023-01-02T11:15:57.755Z"
   },
   {
    "duration": 424,
    "start_time": "2023-01-02T11:16:06.873Z"
   },
   {
    "duration": 13,
    "start_time": "2023-01-02T11:16:07.299Z"
   },
   {
    "duration": 37,
    "start_time": "2023-01-02T11:16:07.313Z"
   },
   {
    "duration": 1965,
    "start_time": "2023-01-02T11:16:07.351Z"
   },
   {
    "duration": 4,
    "start_time": "2023-01-02T11:16:09.318Z"
   },
   {
    "duration": 13,
    "start_time": "2023-01-02T11:16:09.324Z"
   },
   {
    "duration": 8,
    "start_time": "2023-01-02T11:16:09.338Z"
   },
   {
    "duration": 5,
    "start_time": "2023-01-02T11:16:09.348Z"
   },
   {
    "duration": 6,
    "start_time": "2023-01-02T11:16:09.354Z"
   },
   {
    "duration": 17,
    "start_time": "2023-01-02T11:16:09.362Z"
   },
   {
    "duration": 7,
    "start_time": "2023-01-02T11:16:09.380Z"
   },
   {
    "duration": 158,
    "start_time": "2023-01-02T11:16:09.388Z"
   },
   {
    "duration": 5,
    "start_time": "2023-01-02T11:16:09.547Z"
   },
   {
    "duration": 1968,
    "start_time": "2023-01-02T11:16:09.554Z"
   },
   {
    "duration": 9,
    "start_time": "2023-01-02T11:16:11.523Z"
   },
   {
    "duration": 26,
    "start_time": "2023-01-02T11:16:11.534Z"
   },
   {
    "duration": 9,
    "start_time": "2023-01-02T11:16:11.562Z"
   },
   {
    "duration": 5,
    "start_time": "2023-01-02T11:16:11.572Z"
   },
   {
    "duration": 60,
    "start_time": "2023-01-02T11:16:11.578Z"
   },
   {
    "duration": 5,
    "start_time": "2023-01-02T11:16:11.640Z"
   },
   {
    "duration": 14,
    "start_time": "2023-01-02T11:16:11.647Z"
   },
   {
    "duration": 5,
    "start_time": "2023-01-02T11:16:11.662Z"
   },
   {
    "duration": 7,
    "start_time": "2023-01-02T11:16:11.669Z"
   },
   {
    "duration": 10,
    "start_time": "2023-01-02T11:16:11.678Z"
   },
   {
    "duration": 38,
    "start_time": "2023-01-02T11:16:11.689Z"
   },
   {
    "duration": 6,
    "start_time": "2023-01-02T11:16:11.729Z"
   },
   {
    "duration": 5,
    "start_time": "2023-01-02T11:16:11.736Z"
   },
   {
    "duration": 29,
    "start_time": "2023-01-02T11:16:11.743Z"
   },
   {
    "duration": 301,
    "start_time": "2023-01-02T11:16:11.773Z"
   },
   {
    "duration": 432,
    "start_time": "2023-01-02T11:16:12.075Z"
   },
   {
    "duration": 445,
    "start_time": "2023-01-02T11:18:16.568Z"
   },
   {
    "duration": 15,
    "start_time": "2023-01-02T11:18:17.014Z"
   },
   {
    "duration": 34,
    "start_time": "2023-01-02T11:18:17.033Z"
   },
   {
    "duration": 1983,
    "start_time": "2023-01-02T11:18:17.069Z"
   },
   {
    "duration": 3,
    "start_time": "2023-01-02T11:18:19.054Z"
   },
   {
    "duration": 17,
    "start_time": "2023-01-02T11:18:19.059Z"
   },
   {
    "duration": 8,
    "start_time": "2023-01-02T11:18:19.077Z"
   },
   {
    "duration": 5,
    "start_time": "2023-01-02T11:18:19.087Z"
   },
   {
    "duration": 5,
    "start_time": "2023-01-02T11:18:19.094Z"
   },
   {
    "duration": 21,
    "start_time": "2023-01-02T11:18:19.101Z"
   },
   {
    "duration": 11,
    "start_time": "2023-01-02T11:18:19.125Z"
   },
   {
    "duration": 154,
    "start_time": "2023-01-02T11:18:19.138Z"
   },
   {
    "duration": 4,
    "start_time": "2023-01-02T11:18:19.294Z"
   },
   {
    "duration": 1953,
    "start_time": "2023-01-02T11:18:19.300Z"
   },
   {
    "duration": 8,
    "start_time": "2023-01-02T11:18:21.254Z"
   },
   {
    "duration": 20,
    "start_time": "2023-01-02T11:18:21.264Z"
   },
   {
    "duration": 8,
    "start_time": "2023-01-02T11:18:21.286Z"
   },
   {
    "duration": 8,
    "start_time": "2023-01-02T11:18:21.295Z"
   },
   {
    "duration": 50,
    "start_time": "2023-01-02T11:18:21.304Z"
   },
   {
    "duration": 4,
    "start_time": "2023-01-02T11:18:21.355Z"
   },
   {
    "duration": 9,
    "start_time": "2023-01-02T11:18:21.361Z"
   },
   {
    "duration": 6,
    "start_time": "2023-01-02T11:18:21.372Z"
   },
   {
    "duration": 10,
    "start_time": "2023-01-02T11:18:21.380Z"
   },
   {
    "duration": 37,
    "start_time": "2023-01-02T11:18:21.392Z"
   },
   {
    "duration": 9,
    "start_time": "2023-01-02T11:18:21.430Z"
   },
   {
    "duration": 6,
    "start_time": "2023-01-02T11:18:21.440Z"
   },
   {
    "duration": 5,
    "start_time": "2023-01-02T11:18:21.448Z"
   },
   {
    "duration": 27,
    "start_time": "2023-01-02T11:18:21.454Z"
   },
   {
    "duration": 338,
    "start_time": "2023-01-02T11:18:21.483Z"
   },
   {
    "duration": 429,
    "start_time": "2023-01-02T11:18:21.823Z"
   },
   {
    "duration": 500,
    "start_time": "2023-01-02T11:19:38.693Z"
   },
   {
    "duration": 14,
    "start_time": "2023-01-02T11:19:39.195Z"
   },
   {
    "duration": 34,
    "start_time": "2023-01-02T11:19:39.210Z"
   },
   {
    "duration": 2170,
    "start_time": "2023-01-02T11:19:39.246Z"
   },
   {
    "duration": 3,
    "start_time": "2023-01-02T11:19:41.418Z"
   },
   {
    "duration": 15,
    "start_time": "2023-01-02T11:19:41.423Z"
   },
   {
    "duration": 5,
    "start_time": "2023-01-02T11:19:41.440Z"
   },
   {
    "duration": 10,
    "start_time": "2023-01-02T11:19:41.447Z"
   },
   {
    "duration": 12,
    "start_time": "2023-01-02T11:19:41.459Z"
   },
   {
    "duration": 22,
    "start_time": "2023-01-02T11:19:41.475Z"
   },
   {
    "duration": 17,
    "start_time": "2023-01-02T11:19:41.499Z"
   },
   {
    "duration": 135,
    "start_time": "2023-01-02T11:19:41.518Z"
   },
   {
    "duration": 5,
    "start_time": "2023-01-02T11:19:41.654Z"
   },
   {
    "duration": 2011,
    "start_time": "2023-01-02T11:19:41.660Z"
   },
   {
    "duration": 9,
    "start_time": "2023-01-02T11:19:43.673Z"
   },
   {
    "duration": 21,
    "start_time": "2023-01-02T11:19:43.683Z"
   },
   {
    "duration": 24,
    "start_time": "2023-01-02T11:19:43.705Z"
   },
   {
    "duration": 10,
    "start_time": "2023-01-02T11:19:43.730Z"
   },
   {
    "duration": 39,
    "start_time": "2023-01-02T11:19:43.742Z"
   },
   {
    "duration": 4,
    "start_time": "2023-01-02T11:19:43.783Z"
   },
   {
    "duration": 22,
    "start_time": "2023-01-02T11:19:43.788Z"
   },
   {
    "duration": 6,
    "start_time": "2023-01-02T11:19:43.811Z"
   },
   {
    "duration": 11,
    "start_time": "2023-01-02T11:19:43.818Z"
   },
   {
    "duration": 9,
    "start_time": "2023-01-02T11:19:43.830Z"
   },
   {
    "duration": 9,
    "start_time": "2023-01-02T11:19:43.841Z"
   },
   {
    "duration": 18,
    "start_time": "2023-01-02T11:19:43.851Z"
   },
   {
    "duration": 3,
    "start_time": "2023-01-02T11:19:43.870Z"
   },
   {
    "duration": 46,
    "start_time": "2023-01-02T11:19:43.876Z"
   },
   {
    "duration": 292,
    "start_time": "2023-01-02T11:19:43.923Z"
   },
   {
    "duration": 448,
    "start_time": "2023-01-02T11:19:44.217Z"
   },
   {
    "duration": 22,
    "start_time": "2023-01-02T11:23:49.210Z"
   },
   {
    "duration": 17,
    "start_time": "2023-01-02T11:24:30.997Z"
   },
   {
    "duration": 435,
    "start_time": "2023-01-02T11:24:40.275Z"
   },
   {
    "duration": 15,
    "start_time": "2023-01-02T11:24:40.712Z"
   },
   {
    "duration": 31,
    "start_time": "2023-01-02T11:24:40.728Z"
   },
   {
    "duration": 2003,
    "start_time": "2023-01-02T11:24:40.761Z"
   },
   {
    "duration": 3,
    "start_time": "2023-01-02T11:24:42.766Z"
   },
   {
    "duration": 17,
    "start_time": "2023-01-02T11:24:42.771Z"
   },
   {
    "duration": 6,
    "start_time": "2023-01-02T11:24:42.789Z"
   },
   {
    "duration": 11,
    "start_time": "2023-01-02T11:24:42.797Z"
   },
   {
    "duration": 19,
    "start_time": "2023-01-02T11:24:42.809Z"
   },
   {
    "duration": 22,
    "start_time": "2023-01-02T11:24:42.829Z"
   },
   {
    "duration": 7,
    "start_time": "2023-01-02T11:24:42.853Z"
   },
   {
    "duration": 129,
    "start_time": "2023-01-02T11:24:42.861Z"
   },
   {
    "duration": 4,
    "start_time": "2023-01-02T11:24:42.992Z"
   },
   {
    "duration": 1924,
    "start_time": "2023-01-02T11:24:42.998Z"
   },
   {
    "duration": 8,
    "start_time": "2023-01-02T11:24:44.924Z"
   },
   {
    "duration": 21,
    "start_time": "2023-01-02T11:24:44.934Z"
   },
   {
    "duration": 34,
    "start_time": "2023-01-02T11:24:44.956Z"
   },
   {
    "duration": 31,
    "start_time": "2023-01-02T11:24:44.992Z"
   },
   {
    "duration": 5,
    "start_time": "2023-01-02T11:24:45.025Z"
   },
   {
    "duration": 49,
    "start_time": "2023-01-02T11:24:45.032Z"
   },
   {
    "duration": 4,
    "start_time": "2023-01-02T11:24:45.083Z"
   },
   {
    "duration": 15,
    "start_time": "2023-01-02T11:24:45.088Z"
   },
   {
    "duration": 5,
    "start_time": "2023-01-02T11:24:45.104Z"
   },
   {
    "duration": 16,
    "start_time": "2023-01-02T11:24:45.111Z"
   },
   {
    "duration": 18,
    "start_time": "2023-01-02T11:24:45.128Z"
   },
   {
    "duration": 8,
    "start_time": "2023-01-02T11:24:45.148Z"
   },
   {
    "duration": 6,
    "start_time": "2023-01-02T11:24:45.158Z"
   },
   {
    "duration": 10,
    "start_time": "2023-01-02T11:24:45.165Z"
   },
   {
    "duration": 47,
    "start_time": "2023-01-02T11:24:45.176Z"
   },
   {
    "duration": 339,
    "start_time": "2023-01-02T11:24:45.225Z"
   },
   {
    "duration": 446,
    "start_time": "2023-01-02T11:24:45.566Z"
   },
   {
    "duration": 7,
    "start_time": "2023-01-02T11:25:49.966Z"
   },
   {
    "duration": 6,
    "start_time": "2023-01-02T11:25:55.163Z"
   },
   {
    "duration": 6,
    "start_time": "2023-01-02T11:25:57.394Z"
   },
   {
    "duration": 7,
    "start_time": "2023-01-02T11:26:00.107Z"
   },
   {
    "duration": 7,
    "start_time": "2023-01-02T11:26:02.876Z"
   },
   {
    "duration": 7,
    "start_time": "2023-01-02T11:26:05.730Z"
   },
   {
    "duration": 24,
    "start_time": "2023-01-02T11:26:13.443Z"
   },
   {
    "duration": 24,
    "start_time": "2023-01-02T11:26:19.559Z"
   },
   {
    "duration": 24,
    "start_time": "2023-01-02T11:26:32.859Z"
   },
   {
    "duration": 40,
    "start_time": "2023-01-02T11:26:46.064Z"
   },
   {
    "duration": 8,
    "start_time": "2023-01-02T11:26:50.645Z"
   },
   {
    "duration": 6,
    "start_time": "2023-01-02T11:27:01.945Z"
   },
   {
    "duration": 8,
    "start_time": "2023-01-02T11:27:12.710Z"
   },
   {
    "duration": 6,
    "start_time": "2023-01-02T11:27:15.007Z"
   },
   {
    "duration": 14,
    "start_time": "2023-01-02T11:28:11.323Z"
   },
   {
    "duration": 464,
    "start_time": "2023-01-02T11:28:19.971Z"
   },
   {
    "duration": 15,
    "start_time": "2023-01-02T11:28:20.437Z"
   },
   {
    "duration": 31,
    "start_time": "2023-01-02T11:28:20.454Z"
   },
   {
    "duration": 2041,
    "start_time": "2023-01-02T11:28:20.487Z"
   },
   {
    "duration": 3,
    "start_time": "2023-01-02T11:28:22.529Z"
   },
   {
    "duration": 23,
    "start_time": "2023-01-02T11:28:22.534Z"
   },
   {
    "duration": 9,
    "start_time": "2023-01-02T11:28:22.559Z"
   },
   {
    "duration": 61,
    "start_time": "2023-01-02T11:28:29.338Z"
   },
   {
    "duration": 38,
    "start_time": "2023-01-02T11:28:47.092Z"
   },
   {
    "duration": 33,
    "start_time": "2023-01-02T11:29:04.183Z"
   },
   {
    "duration": 34,
    "start_time": "2023-01-02T11:29:08.466Z"
   },
   {
    "duration": 34,
    "start_time": "2023-01-02T11:29:09.799Z"
   },
   {
    "duration": 34,
    "start_time": "2023-01-02T11:29:10.903Z"
   },
   {
    "duration": 33,
    "start_time": "2023-01-02T11:29:32.939Z"
   },
   {
    "duration": 6,
    "start_time": "2023-01-02T11:29:39.370Z"
   },
   {
    "duration": 67,
    "start_time": "2023-01-02T11:30:34.080Z"
   },
   {
    "duration": 6,
    "start_time": "2023-01-02T11:30:47.891Z"
   },
   {
    "duration": 4,
    "start_time": "2023-01-02T11:31:02.362Z"
   },
   {
    "duration": 6,
    "start_time": "2023-01-02T11:31:03.707Z"
   },
   {
    "duration": 6,
    "start_time": "2023-01-02T11:31:06.401Z"
   },
   {
    "duration": 23,
    "start_time": "2023-01-02T11:31:40.169Z"
   },
   {
    "duration": 17,
    "start_time": "2023-01-02T11:31:52.387Z"
   },
   {
    "duration": 499,
    "start_time": "2023-01-02T11:32:02.525Z"
   },
   {
    "duration": 15,
    "start_time": "2023-01-02T11:32:03.026Z"
   },
   {
    "duration": 34,
    "start_time": "2023-01-02T11:32:03.043Z"
   },
   {
    "duration": 1997,
    "start_time": "2023-01-02T11:32:03.079Z"
   },
   {
    "duration": 4,
    "start_time": "2023-01-02T11:32:05.077Z"
   },
   {
    "duration": 17,
    "start_time": "2023-01-02T11:32:05.082Z"
   },
   {
    "duration": 6,
    "start_time": "2023-01-02T11:32:05.100Z"
   },
   {
    "duration": 8,
    "start_time": "2023-01-02T11:32:05.107Z"
   },
   {
    "duration": 7,
    "start_time": "2023-01-02T11:32:05.116Z"
   },
   {
    "duration": 16,
    "start_time": "2023-01-02T11:32:05.127Z"
   },
   {
    "duration": 8,
    "start_time": "2023-01-02T11:32:05.145Z"
   },
   {
    "duration": 169,
    "start_time": "2023-01-02T11:32:05.154Z"
   },
   {
    "duration": 6,
    "start_time": "2023-01-02T11:32:05.325Z"
   },
   {
    "duration": 1968,
    "start_time": "2023-01-02T11:32:05.335Z"
   },
   {
    "duration": 9,
    "start_time": "2023-01-02T11:32:07.304Z"
   },
   {
    "duration": 31,
    "start_time": "2023-01-02T11:32:07.321Z"
   },
   {
    "duration": 35,
    "start_time": "2023-01-02T11:32:07.354Z"
   },
   {
    "duration": 8,
    "start_time": "2023-01-02T11:32:07.390Z"
   },
   {
    "duration": 22,
    "start_time": "2023-01-02T11:32:07.399Z"
   },
   {
    "duration": 64,
    "start_time": "2023-01-02T11:32:07.423Z"
   },
   {
    "duration": 5,
    "start_time": "2023-01-02T11:32:07.488Z"
   },
   {
    "duration": 36,
    "start_time": "2023-01-02T11:32:07.494Z"
   },
   {
    "duration": 23,
    "start_time": "2023-01-02T11:32:07.531Z"
   },
   {
    "duration": 22,
    "start_time": "2023-01-02T11:32:07.555Z"
   },
   {
    "duration": 27,
    "start_time": "2023-01-02T11:32:07.579Z"
   },
   {
    "duration": 28,
    "start_time": "2023-01-02T11:32:07.608Z"
   },
   {
    "duration": 33,
    "start_time": "2023-01-02T11:32:07.637Z"
   },
   {
    "duration": 13,
    "start_time": "2023-01-02T11:32:07.673Z"
   },
   {
    "duration": 42,
    "start_time": "2023-01-02T11:32:07.687Z"
   },
   {
    "duration": 296,
    "start_time": "2023-01-02T11:32:07.731Z"
   },
   {
    "duration": 432,
    "start_time": "2023-01-02T11:32:08.029Z"
   },
   {
    "duration": 470,
    "start_time": "2023-01-02T11:32:58.132Z"
   },
   {
    "duration": 15,
    "start_time": "2023-01-02T11:32:58.604Z"
   },
   {
    "duration": 33,
    "start_time": "2023-01-02T11:32:58.620Z"
   },
   {
    "duration": 2037,
    "start_time": "2023-01-02T11:32:58.655Z"
   },
   {
    "duration": 3,
    "start_time": "2023-01-02T11:33:00.694Z"
   },
   {
    "duration": 25,
    "start_time": "2023-01-02T11:33:00.698Z"
   },
   {
    "duration": 11,
    "start_time": "2023-01-02T11:33:00.725Z"
   },
   {
    "duration": 20,
    "start_time": "2023-01-02T11:33:00.738Z"
   },
   {
    "duration": 57,
    "start_time": "2023-01-02T11:33:00.759Z"
   },
   {
    "duration": 27,
    "start_time": "2023-01-02T11:33:00.820Z"
   },
   {
    "duration": 39,
    "start_time": "2023-01-02T11:33:00.848Z"
   },
   {
    "duration": 145,
    "start_time": "2023-01-02T11:33:00.889Z"
   },
   {
    "duration": 4,
    "start_time": "2023-01-02T11:33:01.036Z"
   },
   {
    "duration": 2061,
    "start_time": "2023-01-02T11:33:01.042Z"
   },
   {
    "duration": 17,
    "start_time": "2023-01-02T11:33:03.105Z"
   },
   {
    "duration": 22,
    "start_time": "2023-01-02T11:33:03.123Z"
   },
   {
    "duration": 36,
    "start_time": "2023-01-02T11:33:03.146Z"
   },
   {
    "duration": 9,
    "start_time": "2023-01-02T11:33:03.184Z"
   },
   {
    "duration": 30,
    "start_time": "2023-01-02T11:33:03.194Z"
   },
   {
    "duration": 36,
    "start_time": "2023-01-02T11:33:03.226Z"
   },
   {
    "duration": 6,
    "start_time": "2023-01-02T11:33:03.264Z"
   },
   {
    "duration": 16,
    "start_time": "2023-01-02T11:33:03.271Z"
   },
   {
    "duration": 5,
    "start_time": "2023-01-02T11:33:03.288Z"
   },
   {
    "duration": 29,
    "start_time": "2023-01-02T11:33:03.295Z"
   },
   {
    "duration": 9,
    "start_time": "2023-01-02T11:33:03.325Z"
   },
   {
    "duration": 10,
    "start_time": "2023-01-02T11:33:03.335Z"
   },
   {
    "duration": 6,
    "start_time": "2023-01-02T11:33:03.347Z"
   },
   {
    "duration": 15,
    "start_time": "2023-01-02T11:33:03.355Z"
   },
   {
    "duration": 306,
    "start_time": "2023-01-02T11:33:03.371Z"
   },
   {
    "duration": 419,
    "start_time": "2023-01-02T11:33:03.678Z"
   },
   {
    "duration": 4,
    "start_time": "2023-01-02T11:36:41.721Z"
   },
   {
    "duration": 483,
    "start_time": "2023-01-02T11:36:46.453Z"
   },
   {
    "duration": 16,
    "start_time": "2023-01-02T11:36:46.937Z"
   },
   {
    "duration": 35,
    "start_time": "2023-01-02T11:36:46.954Z"
   },
   {
    "duration": 2025,
    "start_time": "2023-01-02T11:36:46.991Z"
   },
   {
    "duration": 4,
    "start_time": "2023-01-02T11:36:49.018Z"
   },
   {
    "duration": 19,
    "start_time": "2023-01-02T11:36:49.024Z"
   },
   {
    "duration": 6,
    "start_time": "2023-01-02T11:36:49.044Z"
   },
   {
    "duration": 11,
    "start_time": "2023-01-02T11:36:49.051Z"
   },
   {
    "duration": 6,
    "start_time": "2023-01-02T11:36:49.063Z"
   },
   {
    "duration": 19,
    "start_time": "2023-01-02T11:36:49.072Z"
   },
   {
    "duration": 8,
    "start_time": "2023-01-02T11:36:49.092Z"
   },
   {
    "duration": 142,
    "start_time": "2023-01-02T11:36:49.102Z"
   },
   {
    "duration": 5,
    "start_time": "2023-01-02T11:36:49.246Z"
   },
   {
    "duration": 1940,
    "start_time": "2023-01-02T11:36:49.253Z"
   },
   {
    "duration": 10,
    "start_time": "2023-01-02T11:36:51.195Z"
   },
   {
    "duration": 32,
    "start_time": "2023-01-02T11:36:51.206Z"
   },
   {
    "duration": 10,
    "start_time": "2023-01-02T11:36:51.240Z"
   },
   {
    "duration": 7,
    "start_time": "2023-01-02T11:36:51.251Z"
   },
   {
    "duration": 35,
    "start_time": "2023-01-02T11:36:51.259Z"
   },
   {
    "duration": 27,
    "start_time": "2023-01-02T11:36:51.295Z"
   },
   {
    "duration": 11,
    "start_time": "2023-01-02T11:36:51.324Z"
   },
   {
    "duration": 6,
    "start_time": "2023-01-02T11:36:51.337Z"
   },
   {
    "duration": 10,
    "start_time": "2023-01-02T11:36:51.344Z"
   },
   {
    "duration": 11,
    "start_time": "2023-01-02T11:36:51.356Z"
   },
   {
    "duration": 9,
    "start_time": "2023-01-02T11:36:51.368Z"
   },
   {
    "duration": 16,
    "start_time": "2023-01-02T11:36:51.379Z"
   },
   {
    "duration": 4,
    "start_time": "2023-01-02T11:36:51.421Z"
   },
   {
    "duration": 337,
    "start_time": "2023-01-02T11:36:51.428Z"
   },
   {
    "duration": 444,
    "start_time": "2023-01-02T11:36:51.767Z"
   },
   {
    "duration": 36,
    "start_time": "2023-01-02T11:40:10.434Z"
   },
   {
    "duration": 1900,
    "start_time": "2023-01-02T11:41:57.101Z"
   },
   {
    "duration": 15,
    "start_time": "2023-01-02T11:42:14.669Z"
   },
   {
    "duration": 441,
    "start_time": "2023-01-02T11:42:20.264Z"
   },
   {
    "duration": 14,
    "start_time": "2023-01-02T11:42:20.707Z"
   },
   {
    "duration": 32,
    "start_time": "2023-01-02T11:42:20.722Z"
   },
   {
    "duration": 2068,
    "start_time": "2023-01-02T11:42:20.756Z"
   },
   {
    "duration": 3,
    "start_time": "2023-01-02T11:42:22.826Z"
   },
   {
    "duration": 21,
    "start_time": "2023-01-02T11:42:22.831Z"
   },
   {
    "duration": 8,
    "start_time": "2023-01-02T11:42:22.854Z"
   },
   {
    "duration": 17,
    "start_time": "2023-01-02T11:42:22.864Z"
   },
   {
    "duration": 24,
    "start_time": "2023-01-02T11:42:22.883Z"
   },
   {
    "duration": 21,
    "start_time": "2023-01-02T11:42:22.910Z"
   },
   {
    "duration": 15,
    "start_time": "2023-01-02T11:42:22.933Z"
   },
   {
    "duration": 138,
    "start_time": "2023-01-02T11:42:22.950Z"
   },
   {
    "duration": 5,
    "start_time": "2023-01-02T11:42:23.089Z"
   },
   {
    "duration": 1970,
    "start_time": "2023-01-02T11:42:23.095Z"
   },
   {
    "duration": 14,
    "start_time": "2023-01-02T11:42:25.067Z"
   },
   {
    "duration": 41,
    "start_time": "2023-01-02T11:42:25.083Z"
   },
   {
    "duration": 15,
    "start_time": "2023-01-02T11:42:25.126Z"
   },
   {
    "duration": 16,
    "start_time": "2023-01-02T11:42:25.143Z"
   },
   {
    "duration": 6,
    "start_time": "2023-01-02T11:42:25.160Z"
   },
   {
    "duration": 65,
    "start_time": "2023-01-02T11:42:25.168Z"
   },
   {
    "duration": 18,
    "start_time": "2023-01-02T11:42:25.237Z"
   },
   {
    "duration": 8,
    "start_time": "2023-01-02T11:42:25.257Z"
   },
   {
    "duration": 16,
    "start_time": "2023-01-02T11:42:25.267Z"
   },
   {
    "duration": 12,
    "start_time": "2023-01-02T11:42:25.284Z"
   },
   {
    "duration": 17,
    "start_time": "2023-01-02T11:42:25.299Z"
   },
   {
    "duration": 31,
    "start_time": "2023-01-02T11:42:25.318Z"
   },
   {
    "duration": 7,
    "start_time": "2023-01-02T11:42:25.351Z"
   },
   {
    "duration": 331,
    "start_time": "2023-01-02T11:42:25.361Z"
   },
   {
    "duration": 453,
    "start_time": "2023-01-02T11:42:25.694Z"
   },
   {
    "duration": 76,
    "start_time": "2023-01-02T11:43:22.418Z"
   },
   {
    "duration": 612,
    "start_time": "2023-01-02T11:43:25.258Z"
   },
   {
    "duration": 13,
    "start_time": "2023-01-02T11:43:39.230Z"
   },
   {
    "duration": 603,
    "start_time": "2023-01-02T11:43:46.519Z"
   },
   {
    "duration": 845,
    "start_time": "2023-01-02T11:44:44.390Z"
   },
   {
    "duration": 11,
    "start_time": "2023-01-02T11:45:32.711Z"
   },
   {
    "duration": 9,
    "start_time": "2023-01-02T11:45:40.888Z"
   },
   {
    "duration": 3,
    "start_time": "2023-01-02T11:48:35.425Z"
   },
   {
    "duration": 5,
    "start_time": "2023-01-02T11:48:40.635Z"
   },
   {
    "duration": 439,
    "start_time": "2023-01-02T11:48:56.660Z"
   },
   {
    "duration": 14,
    "start_time": "2023-01-02T11:48:57.100Z"
   },
   {
    "duration": 32,
    "start_time": "2023-01-02T11:48:57.116Z"
   },
   {
    "duration": 2003,
    "start_time": "2023-01-02T11:48:57.149Z"
   },
   {
    "duration": 4,
    "start_time": "2023-01-02T11:48:59.153Z"
   },
   {
    "duration": 17,
    "start_time": "2023-01-02T11:48:59.159Z"
   },
   {
    "duration": 6,
    "start_time": "2023-01-02T11:48:59.178Z"
   },
   {
    "duration": 9,
    "start_time": "2023-01-02T11:48:59.185Z"
   },
   {
    "duration": 7,
    "start_time": "2023-01-02T11:48:59.195Z"
   },
   {
    "duration": 26,
    "start_time": "2023-01-02T11:48:59.204Z"
   },
   {
    "duration": 7,
    "start_time": "2023-01-02T11:48:59.232Z"
   },
   {
    "duration": 128,
    "start_time": "2023-01-02T11:48:59.241Z"
   },
   {
    "duration": 4,
    "start_time": "2023-01-02T11:48:59.371Z"
   },
   {
    "duration": 2023,
    "start_time": "2023-01-02T11:48:59.377Z"
   },
   {
    "duration": 10,
    "start_time": "2023-01-02T11:49:01.402Z"
   },
   {
    "duration": 37,
    "start_time": "2023-01-02T11:49:01.421Z"
   },
   {
    "duration": 18,
    "start_time": "2023-01-02T11:49:01.460Z"
   },
   {
    "duration": 9,
    "start_time": "2023-01-02T11:49:01.480Z"
   },
   {
    "duration": 40,
    "start_time": "2023-01-02T11:49:01.491Z"
   },
   {
    "duration": 23,
    "start_time": "2023-01-02T11:49:01.533Z"
   },
   {
    "duration": 76,
    "start_time": "2023-01-02T11:49:01.557Z"
   },
   {
    "duration": 33,
    "start_time": "2023-01-02T11:49:01.635Z"
   },
   {
    "duration": 13,
    "start_time": "2023-01-02T11:49:01.670Z"
   },
   {
    "duration": 12,
    "start_time": "2023-01-02T11:49:01.685Z"
   },
   {
    "duration": 21,
    "start_time": "2023-01-02T11:49:01.699Z"
   },
   {
    "duration": 40,
    "start_time": "2023-01-02T11:49:01.721Z"
   },
   {
    "duration": 20,
    "start_time": "2023-01-02T11:49:01.763Z"
   },
   {
    "duration": 7,
    "start_time": "2023-01-02T11:49:28.819Z"
   },
   {
    "duration": 45,
    "start_time": "2023-01-02T11:49:39.988Z"
   },
   {
    "duration": 6,
    "start_time": "2023-01-02T11:49:46.776Z"
   },
   {
    "duration": 5,
    "start_time": "2023-01-02T11:50:04.117Z"
   },
   {
    "duration": 5,
    "start_time": "2023-01-02T11:50:10.078Z"
   },
   {
    "duration": 5,
    "start_time": "2023-01-02T11:50:13.394Z"
   },
   {
    "duration": 6,
    "start_time": "2023-01-02T11:50:27.352Z"
   },
   {
    "duration": 6,
    "start_time": "2023-01-02T11:50:43.501Z"
   },
   {
    "duration": 5,
    "start_time": "2023-01-02T11:51:35.047Z"
   },
   {
    "duration": 6,
    "start_time": "2023-01-02T11:51:41.502Z"
   },
   {
    "duration": 7,
    "start_time": "2023-01-02T11:51:51.449Z"
   },
   {
    "duration": 71,
    "start_time": "2023-01-02T11:52:04.492Z"
   },
   {
    "duration": 5,
    "start_time": "2023-01-02T11:52:32.256Z"
   },
   {
    "duration": 8,
    "start_time": "2023-01-02T11:52:52.820Z"
   },
   {
    "duration": 8,
    "start_time": "2023-01-02T11:53:02.334Z"
   },
   {
    "duration": 7,
    "start_time": "2023-01-02T11:53:10.889Z"
   },
   {
    "duration": 6,
    "start_time": "2023-01-02T11:53:18.124Z"
   },
   {
    "duration": 307,
    "start_time": "2023-01-02T11:54:08.717Z"
   },
   {
    "duration": 453,
    "start_time": "2023-01-02T11:54:13.643Z"
   },
   {
    "duration": 14,
    "start_time": "2023-01-02T11:54:14.098Z"
   },
   {
    "duration": 31,
    "start_time": "2023-01-02T11:54:14.113Z"
   },
   {
    "duration": 2062,
    "start_time": "2023-01-02T11:54:14.146Z"
   },
   {
    "duration": 3,
    "start_time": "2023-01-02T11:54:16.209Z"
   },
   {
    "duration": 16,
    "start_time": "2023-01-02T11:54:16.214Z"
   },
   {
    "duration": 6,
    "start_time": "2023-01-02T11:54:16.231Z"
   },
   {
    "duration": 7,
    "start_time": "2023-01-02T11:54:16.238Z"
   },
   {
    "duration": 6,
    "start_time": "2023-01-02T11:54:16.246Z"
   },
   {
    "duration": 18,
    "start_time": "2023-01-02T11:54:16.255Z"
   },
   {
    "duration": 7,
    "start_time": "2023-01-02T11:54:16.275Z"
   },
   {
    "duration": 139,
    "start_time": "2023-01-02T11:54:16.284Z"
   },
   {
    "duration": 4,
    "start_time": "2023-01-02T11:54:16.425Z"
   },
   {
    "duration": 2005,
    "start_time": "2023-01-02T11:54:16.430Z"
   },
   {
    "duration": 9,
    "start_time": "2023-01-02T11:54:18.437Z"
   },
   {
    "duration": 23,
    "start_time": "2023-01-02T11:54:18.447Z"
   },
   {
    "duration": 15,
    "start_time": "2023-01-02T11:54:18.471Z"
   },
   {
    "duration": 6,
    "start_time": "2023-01-02T11:54:18.487Z"
   },
   {
    "duration": 29,
    "start_time": "2023-01-02T11:54:18.494Z"
   },
   {
    "duration": 8,
    "start_time": "2023-01-02T11:54:18.525Z"
   },
   {
    "duration": 9,
    "start_time": "2023-01-02T11:54:18.534Z"
   },
   {
    "duration": 11,
    "start_time": "2023-01-02T11:54:18.544Z"
   },
   {
    "duration": 9,
    "start_time": "2023-01-02T11:54:18.557Z"
   },
   {
    "duration": 10,
    "start_time": "2023-01-02T11:54:18.568Z"
   },
   {
    "duration": 6,
    "start_time": "2023-01-02T11:54:18.580Z"
   },
   {
    "duration": 4,
    "start_time": "2023-01-02T11:54:18.622Z"
   },
   {
    "duration": 312,
    "start_time": "2023-01-02T11:54:18.628Z"
   },
   {
    "duration": 1111,
    "start_time": "2023-01-02T11:54:18.943Z"
   },
   {
    "duration": 115,
    "start_time": "2023-01-02T11:55:39.759Z"
   },
   {
    "duration": 137,
    "start_time": "2023-01-02T11:57:14.684Z"
   },
   {
    "duration": 77,
    "start_time": "2023-01-02T11:57:21.515Z"
   },
   {
    "duration": 143,
    "start_time": "2023-01-02T11:57:24.421Z"
   },
   {
    "duration": 145,
    "start_time": "2023-01-02T11:57:29.096Z"
   },
   {
    "duration": 208,
    "start_time": "2023-01-02T11:57:48.470Z"
   },
   {
    "duration": 165,
    "start_time": "2023-01-02T11:57:54.750Z"
   },
   {
    "duration": 743,
    "start_time": "2023-01-02T11:59:26.353Z"
   },
   {
    "duration": 153,
    "start_time": "2023-01-02T11:59:38.978Z"
   },
   {
    "duration": 164,
    "start_time": "2023-01-02T12:00:11.208Z"
   },
   {
    "duration": 159,
    "start_time": "2023-01-02T12:00:17.212Z"
   },
   {
    "duration": 249,
    "start_time": "2023-01-02T12:00:23.233Z"
   },
   {
    "duration": 155,
    "start_time": "2023-01-02T12:00:47.445Z"
   },
   {
    "duration": 132,
    "start_time": "2023-01-02T12:00:52.884Z"
   },
   {
    "duration": 142,
    "start_time": "2023-01-02T12:00:58.015Z"
   },
   {
    "duration": 134,
    "start_time": "2023-01-02T12:02:24.295Z"
   },
   {
    "duration": 148,
    "start_time": "2023-01-02T12:02:36.180Z"
   },
   {
    "duration": 157,
    "start_time": "2023-01-02T12:02:44.853Z"
   },
   {
    "duration": 695,
    "start_time": "2023-01-02T12:28:55.099Z"
   },
   {
    "duration": 1138,
    "start_time": "2023-01-02T12:29:02.855Z"
   },
   {
    "duration": 53,
    "start_time": "2023-01-02T12:29:19.811Z"
   },
   {
    "duration": 1239,
    "start_time": "2023-01-02T12:29:24.113Z"
   },
   {
    "duration": 7,
    "start_time": "2023-01-02T12:44:36.547Z"
   },
   {
    "duration": 7,
    "start_time": "2023-01-02T12:44:39.490Z"
   },
   {
    "duration": 750,
    "start_time": "2023-01-02T12:44:44.979Z"
   },
   {
    "duration": 10,
    "start_time": "2023-01-02T12:44:50.254Z"
   },
   {
    "duration": 4,
    "start_time": "2023-01-02T12:45:14.748Z"
   },
   {
    "duration": 1616,
    "start_time": "2023-01-02T12:46:43.509Z"
   },
   {
    "duration": 125,
    "start_time": "2023-01-02T12:47:07.225Z"
   },
   {
    "duration": 6,
    "start_time": "2023-01-02T12:47:55.948Z"
   },
   {
    "duration": 132,
    "start_time": "2023-01-02T12:47:58.999Z"
   },
   {
    "duration": 15,
    "start_time": "2023-01-02T12:58:36.551Z"
   },
   {
    "duration": 455,
    "start_time": "2023-01-02T12:58:59.388Z"
   },
   {
    "duration": 1903,
    "start_time": "2023-01-02T12:59:28.006Z"
   },
   {
    "duration": 1773,
    "start_time": "2023-01-02T13:01:35.303Z"
   },
   {
    "duration": 1520,
    "start_time": "2023-01-02T13:02:33.434Z"
   },
   {
    "duration": 1774,
    "start_time": "2023-01-02T13:02:42.402Z"
   },
   {
    "duration": 110,
    "start_time": "2023-01-02T13:03:00.178Z"
   },
   {
    "duration": 116,
    "start_time": "2023-01-02T13:03:05.241Z"
   },
   {
    "duration": 111,
    "start_time": "2023-01-02T13:03:14.822Z"
   },
   {
    "duration": 95,
    "start_time": "2023-01-02T13:03:20.487Z"
   },
   {
    "duration": 104,
    "start_time": "2023-01-02T13:03:27.060Z"
   },
   {
    "duration": 109,
    "start_time": "2023-01-02T13:03:31.587Z"
   },
   {
    "duration": 121,
    "start_time": "2023-01-02T13:03:36.199Z"
   },
   {
    "duration": 110,
    "start_time": "2023-01-02T13:03:39.878Z"
   },
   {
    "duration": 108,
    "start_time": "2023-01-02T13:03:43.848Z"
   },
   {
    "duration": 101,
    "start_time": "2023-01-02T13:03:50.388Z"
   },
   {
    "duration": 97,
    "start_time": "2023-01-02T13:03:55.586Z"
   },
   {
    "duration": 101,
    "start_time": "2023-01-02T13:04:00.434Z"
   },
   {
    "duration": 105,
    "start_time": "2023-01-02T13:04:07.282Z"
   },
   {
    "duration": 105,
    "start_time": "2023-01-02T13:04:10.762Z"
   },
   {
    "duration": 105,
    "start_time": "2023-01-02T13:04:32.938Z"
   },
   {
    "duration": 80,
    "start_time": "2023-01-02T13:04:37.662Z"
   },
   {
    "duration": 109,
    "start_time": "2023-01-02T13:05:16.922Z"
   },
   {
    "duration": 111,
    "start_time": "2023-01-02T13:05:24.566Z"
   },
   {
    "duration": 103,
    "start_time": "2023-01-02T13:05:27.536Z"
   },
   {
    "duration": 200,
    "start_time": "2023-01-02T13:16:48.696Z"
   },
   {
    "duration": 204,
    "start_time": "2023-01-02T13:17:14.977Z"
   },
   {
    "duration": 232,
    "start_time": "2023-01-02T13:17:19.517Z"
   },
   {
    "duration": 208,
    "start_time": "2023-01-02T13:17:24.764Z"
   },
   {
    "duration": 196,
    "start_time": "2023-01-02T13:17:38.850Z"
   },
   {
    "duration": 199,
    "start_time": "2023-01-02T13:17:44.951Z"
   },
   {
    "duration": 422,
    "start_time": "2023-01-02T13:18:44.422Z"
   },
   {
    "duration": 151,
    "start_time": "2023-01-02T13:18:55.609Z"
   },
   {
    "duration": 123,
    "start_time": "2023-01-02T13:19:00.808Z"
   },
   {
    "duration": 133,
    "start_time": "2023-01-02T13:19:07.465Z"
   },
   {
    "duration": 119,
    "start_time": "2023-01-02T13:19:12.050Z"
   },
   {
    "duration": 141,
    "start_time": "2023-01-02T13:19:16.220Z"
   },
   {
    "duration": 138,
    "start_time": "2023-01-02T13:19:20.523Z"
   },
   {
    "duration": 116,
    "start_time": "2023-01-02T13:19:30.061Z"
   },
   {
    "duration": 129,
    "start_time": "2023-01-02T13:19:34.916Z"
   },
   {
    "duration": 105,
    "start_time": "2023-01-02T13:19:42.222Z"
   },
   {
    "duration": 104,
    "start_time": "2023-01-02T13:19:45.436Z"
   },
   {
    "duration": 93,
    "start_time": "2023-01-02T13:20:05.788Z"
   },
   {
    "duration": 98,
    "start_time": "2023-01-02T13:20:13.627Z"
   },
   {
    "duration": 111,
    "start_time": "2023-01-02T13:20:18.770Z"
   },
   {
    "duration": 129,
    "start_time": "2023-01-02T13:20:30.139Z"
   },
   {
    "duration": 125,
    "start_time": "2023-01-02T13:20:34.700Z"
   },
   {
    "duration": 124,
    "start_time": "2023-01-02T13:20:37.685Z"
   },
   {
    "duration": 133,
    "start_time": "2023-01-02T13:20:46.523Z"
   },
   {
    "duration": 117,
    "start_time": "2023-01-02T13:20:55.424Z"
   },
   {
    "duration": 100,
    "start_time": "2023-01-02T13:20:59.329Z"
   },
   {
    "duration": 99,
    "start_time": "2023-01-02T13:21:09.599Z"
   },
   {
    "duration": 1503,
    "start_time": "2023-01-02T13:21:45.560Z"
   },
   {
    "duration": 1594,
    "start_time": "2023-01-02T13:22:18.797Z"
   },
   {
    "duration": 1653,
    "start_time": "2023-01-02T13:22:26.849Z"
   },
   {
    "duration": 1227,
    "start_time": "2023-01-02T13:22:34.494Z"
   },
   {
    "duration": 1417,
    "start_time": "2023-01-02T13:22:40.676Z"
   },
   {
    "duration": 1150,
    "start_time": "2023-01-02T13:24:55.972Z"
   },
   {
    "duration": 152,
    "start_time": "2023-01-02T13:25:20.822Z"
   },
   {
    "duration": 147,
    "start_time": "2023-01-02T13:25:30.857Z"
   },
   {
    "duration": 112,
    "start_time": "2023-01-02T13:25:41.641Z"
   },
   {
    "duration": 133,
    "start_time": "2023-01-02T13:25:44.498Z"
   },
   {
    "duration": 1538,
    "start_time": "2023-01-02T13:26:03.472Z"
   },
   {
    "duration": 1151,
    "start_time": "2023-01-02T13:26:18.476Z"
   },
   {
    "duration": 1037,
    "start_time": "2023-01-02T13:26:40.605Z"
   },
   {
    "duration": 1164,
    "start_time": "2023-01-02T13:26:49.138Z"
   },
   {
    "duration": 1317,
    "start_time": "2023-01-02T13:27:07.868Z"
   },
   {
    "duration": 1532,
    "start_time": "2023-01-02T13:28:36.475Z"
   },
   {
    "duration": 1791,
    "start_time": "2023-01-02T13:28:52.556Z"
   },
   {
    "duration": 196,
    "start_time": "2023-01-02T13:30:07.295Z"
   },
   {
    "duration": 163,
    "start_time": "2023-01-02T13:30:49.214Z"
   },
   {
    "duration": 487,
    "start_time": "2023-01-02T13:33:46.686Z"
   },
   {
    "duration": 14,
    "start_time": "2023-01-02T13:33:47.175Z"
   },
   {
    "duration": 33,
    "start_time": "2023-01-02T13:33:47.190Z"
   },
   {
    "duration": 2012,
    "start_time": "2023-01-02T13:33:47.224Z"
   },
   {
    "duration": 3,
    "start_time": "2023-01-02T13:33:49.238Z"
   },
   {
    "duration": 21,
    "start_time": "2023-01-02T13:33:49.242Z"
   },
   {
    "duration": 6,
    "start_time": "2023-01-02T13:33:49.264Z"
   },
   {
    "duration": 11,
    "start_time": "2023-01-02T13:33:49.271Z"
   },
   {
    "duration": 6,
    "start_time": "2023-01-02T13:33:49.283Z"
   },
   {
    "duration": 20,
    "start_time": "2023-01-02T13:33:49.290Z"
   },
   {
    "duration": 7,
    "start_time": "2023-01-02T13:33:49.311Z"
   },
   {
    "duration": 123,
    "start_time": "2023-01-02T13:33:49.319Z"
   },
   {
    "duration": 5,
    "start_time": "2023-01-02T13:33:49.443Z"
   },
   {
    "duration": 1907,
    "start_time": "2023-01-02T13:33:49.450Z"
   },
   {
    "duration": 9,
    "start_time": "2023-01-02T13:33:51.359Z"
   },
   {
    "duration": 23,
    "start_time": "2023-01-02T13:33:51.370Z"
   },
   {
    "duration": 33,
    "start_time": "2023-01-02T13:33:51.394Z"
   },
   {
    "duration": 6,
    "start_time": "2023-01-02T13:33:51.428Z"
   },
   {
    "duration": 4,
    "start_time": "2023-01-02T13:33:51.435Z"
   },
   {
    "duration": 10,
    "start_time": "2023-01-02T13:33:51.441Z"
   },
   {
    "duration": 12,
    "start_time": "2023-01-02T13:33:51.453Z"
   },
   {
    "duration": 11,
    "start_time": "2023-01-02T13:33:51.467Z"
   },
   {
    "duration": 13,
    "start_time": "2023-01-02T13:33:51.480Z"
   },
   {
    "duration": 32,
    "start_time": "2023-01-02T13:33:51.494Z"
   },
   {
    "duration": 8,
    "start_time": "2023-01-02T13:33:51.528Z"
   },
   {
    "duration": 37,
    "start_time": "2023-01-02T13:33:51.538Z"
   },
   {
    "duration": 305,
    "start_time": "2023-01-02T13:33:51.577Z"
   },
   {
    "duration": 4,
    "start_time": "2023-01-02T13:33:51.884Z"
   },
   {
    "duration": 1391,
    "start_time": "2023-01-02T13:33:51.890Z"
   },
   {
    "duration": 200,
    "start_time": "2023-01-02T13:33:53.283Z"
   },
   {
    "duration": 143,
    "start_time": "2023-01-02T13:33:53.485Z"
   },
   {
    "duration": 118,
    "start_time": "2023-01-02T13:33:53.630Z"
   },
   {
    "duration": 110,
    "start_time": "2023-01-02T13:33:53.750Z"
   },
   {
    "duration": 104,
    "start_time": "2023-01-02T13:34:45.719Z"
   },
   {
    "duration": 1564,
    "start_time": "2023-01-02T13:38:32.577Z"
   },
   {
    "duration": 44,
    "start_time": "2023-01-02T13:38:52.905Z"
   },
   {
    "duration": 124,
    "start_time": "2023-01-02T13:38:55.510Z"
   },
   {
    "duration": 120,
    "start_time": "2023-01-02T13:39:03.500Z"
   },
   {
    "duration": 132,
    "start_time": "2023-01-02T13:39:08.737Z"
   },
   {
    "duration": 139,
    "start_time": "2023-01-02T13:39:12.088Z"
   },
   {
    "duration": 1696,
    "start_time": "2023-01-02T13:39:29.265Z"
   },
   {
    "duration": 19,
    "start_time": "2023-01-02T13:52:14.672Z"
   },
   {
    "duration": 20,
    "start_time": "2023-01-02T13:52:40.278Z"
   },
   {
    "duration": 480,
    "start_time": "2023-01-02T13:53:05.686Z"
   },
   {
    "duration": 14,
    "start_time": "2023-01-02T13:53:06.168Z"
   },
   {
    "duration": 39,
    "start_time": "2023-01-02T13:53:06.184Z"
   },
   {
    "duration": 2027,
    "start_time": "2023-01-02T13:53:06.225Z"
   },
   {
    "duration": 3,
    "start_time": "2023-01-02T13:53:08.253Z"
   },
   {
    "duration": 32,
    "start_time": "2023-01-02T13:53:08.257Z"
   },
   {
    "duration": 7,
    "start_time": "2023-01-02T13:53:08.290Z"
   },
   {
    "duration": 75,
    "start_time": "2023-01-02T13:53:08.298Z"
   },
   {
    "duration": 15,
    "start_time": "2023-01-02T13:53:08.374Z"
   },
   {
    "duration": 24,
    "start_time": "2023-01-02T13:53:08.392Z"
   },
   {
    "duration": 24,
    "start_time": "2023-01-02T13:53:08.417Z"
   },
   {
    "duration": 147,
    "start_time": "2023-01-02T13:53:08.442Z"
   },
   {
    "duration": 4,
    "start_time": "2023-01-02T13:53:08.591Z"
   },
   {
    "duration": 1963,
    "start_time": "2023-01-02T13:53:08.597Z"
   },
   {
    "duration": 10,
    "start_time": "2023-01-02T13:53:10.562Z"
   },
   {
    "duration": 23,
    "start_time": "2023-01-02T13:53:10.574Z"
   },
   {
    "duration": 33,
    "start_time": "2023-01-02T13:53:10.599Z"
   },
   {
    "duration": 6,
    "start_time": "2023-01-02T13:53:10.634Z"
   },
   {
    "duration": 11,
    "start_time": "2023-01-02T13:53:10.641Z"
   },
   {
    "duration": 10,
    "start_time": "2023-01-02T13:53:10.654Z"
   },
   {
    "duration": 13,
    "start_time": "2023-01-02T13:53:10.665Z"
   },
   {
    "duration": 26,
    "start_time": "2023-01-02T13:53:10.679Z"
   },
   {
    "duration": 9,
    "start_time": "2023-01-02T13:53:10.706Z"
   },
   {
    "duration": 10,
    "start_time": "2023-01-02T13:53:10.716Z"
   },
   {
    "duration": 6,
    "start_time": "2023-01-02T13:53:10.727Z"
   },
   {
    "duration": 8,
    "start_time": "2023-01-02T13:53:10.734Z"
   },
   {
    "duration": 326,
    "start_time": "2023-01-02T13:53:10.744Z"
   },
   {
    "duration": 4,
    "start_time": "2023-01-02T13:53:11.073Z"
   },
   {
    "duration": 1677,
    "start_time": "2023-01-02T13:53:11.078Z"
   },
   {
    "duration": 159,
    "start_time": "2023-01-02T13:53:12.757Z"
   },
   {
    "duration": 127,
    "start_time": "2023-01-02T13:53:12.920Z"
   },
   {
    "duration": 117,
    "start_time": "2023-01-02T13:53:13.049Z"
   },
   {
    "duration": 3,
    "start_time": "2023-01-02T13:57:12.477Z"
   },
   {
    "duration": 24,
    "start_time": "2023-01-02T14:02:15.327Z"
   },
   {
    "duration": 20,
    "start_time": "2023-01-02T14:02:21.130Z"
   },
   {
    "duration": 20,
    "start_time": "2023-01-02T14:02:26.925Z"
   },
   {
    "duration": 459,
    "start_time": "2023-01-02T14:02:36.840Z"
   },
   {
    "duration": 14,
    "start_time": "2023-01-02T14:02:37.301Z"
   },
   {
    "duration": 32,
    "start_time": "2023-01-02T14:02:37.316Z"
   },
   {
    "duration": 1982,
    "start_time": "2023-01-02T14:02:37.350Z"
   },
   {
    "duration": 4,
    "start_time": "2023-01-02T14:02:39.333Z"
   },
   {
    "duration": 16,
    "start_time": "2023-01-02T14:02:39.338Z"
   },
   {
    "duration": 5,
    "start_time": "2023-01-02T14:02:39.356Z"
   },
   {
    "duration": 6,
    "start_time": "2023-01-02T14:02:39.362Z"
   },
   {
    "duration": 6,
    "start_time": "2023-01-02T14:02:39.369Z"
   },
   {
    "duration": 15,
    "start_time": "2023-01-02T14:02:39.377Z"
   },
   {
    "duration": 7,
    "start_time": "2023-01-02T14:02:39.393Z"
   },
   {
    "duration": 139,
    "start_time": "2023-01-02T14:02:39.402Z"
   },
   {
    "duration": 5,
    "start_time": "2023-01-02T14:02:39.542Z"
   },
   {
    "duration": 2031,
    "start_time": "2023-01-02T14:02:39.548Z"
   },
   {
    "duration": 8,
    "start_time": "2023-01-02T14:02:41.581Z"
   },
   {
    "duration": 22,
    "start_time": "2023-01-02T14:02:41.620Z"
   },
   {
    "duration": 14,
    "start_time": "2023-01-02T14:02:41.643Z"
   },
   {
    "duration": 5,
    "start_time": "2023-01-02T14:02:41.658Z"
   },
   {
    "duration": 5,
    "start_time": "2023-01-02T14:02:41.665Z"
   },
   {
    "duration": 11,
    "start_time": "2023-01-02T14:02:41.671Z"
   },
   {
    "duration": 40,
    "start_time": "2023-01-02T14:02:41.683Z"
   },
   {
    "duration": 8,
    "start_time": "2023-01-02T14:02:41.725Z"
   },
   {
    "duration": 14,
    "start_time": "2023-01-02T14:02:41.734Z"
   },
   {
    "duration": 9,
    "start_time": "2023-01-02T14:02:41.750Z"
   },
   {
    "duration": 6,
    "start_time": "2023-01-02T14:02:41.760Z"
   },
   {
    "duration": 4,
    "start_time": "2023-01-02T14:02:41.767Z"
   },
   {
    "duration": 317,
    "start_time": "2023-01-02T14:02:41.772Z"
   },
   {
    "duration": 4,
    "start_time": "2023-01-02T14:02:42.092Z"
   },
   {
    "duration": 1646,
    "start_time": "2023-01-02T14:02:42.098Z"
   },
   {
    "duration": 141,
    "start_time": "2023-01-02T14:02:43.746Z"
   },
   {
    "duration": 125,
    "start_time": "2023-01-02T14:02:43.889Z"
   },
   {
    "duration": 108,
    "start_time": "2023-01-02T14:02:44.021Z"
   },
   {
    "duration": 7,
    "start_time": "2023-01-02T14:04:31.798Z"
   },
   {
    "duration": 5,
    "start_time": "2023-01-02T14:04:39.458Z"
   },
   {
    "duration": 469,
    "start_time": "2023-01-02T14:04:47.845Z"
   },
   {
    "duration": 14,
    "start_time": "2023-01-02T14:04:48.316Z"
   },
   {
    "duration": 35,
    "start_time": "2023-01-02T14:04:48.331Z"
   },
   {
    "duration": 2019,
    "start_time": "2023-01-02T14:04:48.369Z"
   },
   {
    "duration": 3,
    "start_time": "2023-01-02T14:04:50.389Z"
   },
   {
    "duration": 15,
    "start_time": "2023-01-02T14:04:50.394Z"
   },
   {
    "duration": 5,
    "start_time": "2023-01-02T14:04:50.410Z"
   },
   {
    "duration": 10,
    "start_time": "2023-01-02T14:04:50.416Z"
   },
   {
    "duration": 18,
    "start_time": "2023-01-02T14:04:50.427Z"
   },
   {
    "duration": 18,
    "start_time": "2023-01-02T14:04:50.447Z"
   },
   {
    "duration": 8,
    "start_time": "2023-01-02T14:04:50.466Z"
   },
   {
    "duration": 134,
    "start_time": "2023-01-02T14:04:50.475Z"
   },
   {
    "duration": 4,
    "start_time": "2023-01-02T14:04:50.610Z"
   },
   {
    "duration": 1920,
    "start_time": "2023-01-02T14:04:50.620Z"
   },
   {
    "duration": 9,
    "start_time": "2023-01-02T14:04:52.542Z"
   },
   {
    "duration": 44,
    "start_time": "2023-01-02T14:04:52.552Z"
   },
   {
    "duration": 19,
    "start_time": "2023-01-02T14:04:52.597Z"
   },
   {
    "duration": 21,
    "start_time": "2023-01-02T14:04:52.617Z"
   },
   {
    "duration": 6,
    "start_time": "2023-01-02T14:04:52.640Z"
   },
   {
    "duration": 24,
    "start_time": "2023-01-02T14:04:52.648Z"
   },
   {
    "duration": 19,
    "start_time": "2023-01-02T14:04:52.673Z"
   },
   {
    "duration": 12,
    "start_time": "2023-01-02T14:04:52.694Z"
   },
   {
    "duration": 11,
    "start_time": "2023-01-02T14:04:52.707Z"
   },
   {
    "duration": 10,
    "start_time": "2023-01-02T14:04:52.719Z"
   },
   {
    "duration": 31,
    "start_time": "2023-01-02T14:04:52.730Z"
   },
   {
    "duration": 11,
    "start_time": "2023-01-02T14:04:52.762Z"
   },
   {
    "duration": 339,
    "start_time": "2023-01-02T14:04:52.774Z"
   },
   {
    "duration": 6,
    "start_time": "2023-01-02T14:04:53.116Z"
   },
   {
    "duration": 2538,
    "start_time": "2023-01-02T14:04:53.124Z"
   },
   {
    "duration": 136,
    "start_time": "2023-01-02T14:04:55.664Z"
   },
   {
    "duration": 127,
    "start_time": "2023-01-02T14:04:55.802Z"
   },
   {
    "duration": 116,
    "start_time": "2023-01-02T14:04:55.931Z"
   },
   {
    "duration": 1877,
    "start_time": "2023-01-02T14:19:02.539Z"
   },
   {
    "duration": 1698,
    "start_time": "2023-01-02T14:19:14.856Z"
   },
   {
    "duration": 1625,
    "start_time": "2023-01-02T14:23:12.233Z"
   },
   {
    "duration": 73,
    "start_time": "2023-01-02T14:25:00.884Z"
   },
   {
    "duration": 497,
    "start_time": "2023-01-02T14:25:10.327Z"
   },
   {
    "duration": 15,
    "start_time": "2023-01-02T14:25:10.826Z"
   },
   {
    "duration": 33,
    "start_time": "2023-01-02T14:25:10.843Z"
   },
   {
    "duration": 2018,
    "start_time": "2023-01-02T14:25:10.878Z"
   },
   {
    "duration": 3,
    "start_time": "2023-01-02T14:25:12.898Z"
   },
   {
    "duration": 22,
    "start_time": "2023-01-02T14:25:12.903Z"
   },
   {
    "duration": 7,
    "start_time": "2023-01-02T14:25:12.926Z"
   },
   {
    "duration": 9,
    "start_time": "2023-01-02T14:25:12.934Z"
   },
   {
    "duration": 7,
    "start_time": "2023-01-02T14:25:12.944Z"
   },
   {
    "duration": 17,
    "start_time": "2023-01-02T14:25:12.954Z"
   },
   {
    "duration": 7,
    "start_time": "2023-01-02T14:25:12.973Z"
   },
   {
    "duration": 144,
    "start_time": "2023-01-02T14:25:12.982Z"
   },
   {
    "duration": 5,
    "start_time": "2023-01-02T14:25:13.127Z"
   },
   {
    "duration": 1994,
    "start_time": "2023-01-02T14:25:13.134Z"
   },
   {
    "duration": 10,
    "start_time": "2023-01-02T14:25:15.130Z"
   },
   {
    "duration": 25,
    "start_time": "2023-01-02T14:25:15.142Z"
   },
   {
    "duration": 18,
    "start_time": "2023-01-02T14:25:15.169Z"
   },
   {
    "duration": 33,
    "start_time": "2023-01-02T14:25:15.190Z"
   },
   {
    "duration": 5,
    "start_time": "2023-01-02T14:25:15.225Z"
   },
   {
    "duration": 22,
    "start_time": "2023-01-02T14:25:15.232Z"
   },
   {
    "duration": 15,
    "start_time": "2023-01-02T14:25:15.255Z"
   },
   {
    "duration": 14,
    "start_time": "2023-01-02T14:25:15.272Z"
   },
   {
    "duration": 13,
    "start_time": "2023-01-02T14:25:15.288Z"
   },
   {
    "duration": 21,
    "start_time": "2023-01-02T14:25:15.303Z"
   },
   {
    "duration": 9,
    "start_time": "2023-01-02T14:25:15.327Z"
   },
   {
    "duration": 5,
    "start_time": "2023-01-02T14:25:15.338Z"
   },
   {
    "duration": 336,
    "start_time": "2023-01-02T14:25:15.345Z"
   },
   {
    "duration": 6,
    "start_time": "2023-01-02T14:25:15.685Z"
   },
   {
    "duration": 1628,
    "start_time": "2023-01-02T14:25:15.693Z"
   },
   {
    "duration": 110,
    "start_time": "2023-01-02T14:25:17.323Z"
   },
   {
    "duration": 139,
    "start_time": "2023-01-02T14:25:17.435Z"
   },
   {
    "duration": 121,
    "start_time": "2023-01-02T14:25:17.576Z"
   },
   {
    "duration": 3,
    "start_time": "2023-01-02T14:32:41.047Z"
   },
   {
    "duration": 132,
    "start_time": "2023-01-02T14:33:29.308Z"
   },
   {
    "duration": 191,
    "start_time": "2023-01-02T14:33:34.909Z"
   },
   {
    "duration": 220,
    "start_time": "2023-01-02T14:33:46.270Z"
   },
   {
    "duration": 156,
    "start_time": "2023-01-02T14:33:53.885Z"
   },
   {
    "duration": 129,
    "start_time": "2023-01-02T14:33:58.148Z"
   },
   {
    "duration": 153,
    "start_time": "2023-01-02T14:35:36.212Z"
   },
   {
    "duration": 4,
    "start_time": "2023-01-02T14:38:04.913Z"
   },
   {
    "duration": 4,
    "start_time": "2023-01-02T14:38:52.848Z"
   },
   {
    "duration": 45,
    "start_time": "2023-01-02T14:40:36.432Z"
   },
   {
    "duration": 5,
    "start_time": "2023-01-02T14:40:54.750Z"
   },
   {
    "duration": 5,
    "start_time": "2023-01-02T14:41:04.294Z"
   },
   {
    "duration": 6,
    "start_time": "2023-01-02T14:41:53.933Z"
   },
   {
    "duration": 7,
    "start_time": "2023-01-02T14:42:02.450Z"
   },
   {
    "duration": 6,
    "start_time": "2023-01-02T14:42:08.933Z"
   },
   {
    "duration": 7,
    "start_time": "2023-01-02T14:42:12.414Z"
   },
   {
    "duration": 6,
    "start_time": "2023-01-02T14:42:18.625Z"
   },
   {
    "duration": 10,
    "start_time": "2023-01-02T14:45:52.894Z"
   },
   {
    "duration": 8,
    "start_time": "2023-01-02T14:45:55.991Z"
   },
   {
    "duration": 44,
    "start_time": "2023-01-02T14:46:16.664Z"
   },
   {
    "duration": 119,
    "start_time": "2023-01-02T14:46:19.793Z"
   },
   {
    "duration": 8,
    "start_time": "2023-01-02T14:50:43.299Z"
   },
   {
    "duration": 47,
    "start_time": "2023-01-02T14:54:09.931Z"
   },
   {
    "duration": 11,
    "start_time": "2023-01-02T14:54:20.592Z"
   },
   {
    "duration": 10,
    "start_time": "2023-01-02T14:56:10.077Z"
   },
   {
    "duration": 450,
    "start_time": "2023-01-02T14:59:50.664Z"
   },
   {
    "duration": 13,
    "start_time": "2023-01-02T14:59:51.116Z"
   },
   {
    "duration": 35,
    "start_time": "2023-01-02T14:59:51.131Z"
   },
   {
    "duration": 2029,
    "start_time": "2023-01-02T14:59:51.167Z"
   },
   {
    "duration": 4,
    "start_time": "2023-01-02T14:59:53.197Z"
   },
   {
    "duration": 18,
    "start_time": "2023-01-02T14:59:53.202Z"
   },
   {
    "duration": 8,
    "start_time": "2023-01-02T14:59:53.222Z"
   },
   {
    "duration": 15,
    "start_time": "2023-01-02T14:59:53.232Z"
   },
   {
    "duration": 10,
    "start_time": "2023-01-02T14:59:53.248Z"
   },
   {
    "duration": 27,
    "start_time": "2023-01-02T14:59:53.261Z"
   },
   {
    "duration": 7,
    "start_time": "2023-01-02T14:59:53.289Z"
   },
   {
    "duration": 135,
    "start_time": "2023-01-02T14:59:53.297Z"
   },
   {
    "duration": 4,
    "start_time": "2023-01-02T14:59:53.434Z"
   },
   {
    "duration": 1986,
    "start_time": "2023-01-02T14:59:53.439Z"
   },
   {
    "duration": 10,
    "start_time": "2023-01-02T14:59:55.426Z"
   },
   {
    "duration": 19,
    "start_time": "2023-01-02T14:59:55.437Z"
   },
   {
    "duration": 15,
    "start_time": "2023-01-02T14:59:55.458Z"
   },
   {
    "duration": 5,
    "start_time": "2023-01-02T14:59:55.474Z"
   },
   {
    "duration": 7,
    "start_time": "2023-01-02T14:59:55.480Z"
   },
   {
    "duration": 41,
    "start_time": "2023-01-02T14:59:55.488Z"
   },
   {
    "duration": 13,
    "start_time": "2023-01-02T14:59:55.530Z"
   },
   {
    "duration": 15,
    "start_time": "2023-01-02T14:59:55.544Z"
   },
   {
    "duration": 0,
    "start_time": "2023-01-02T14:59:55.560Z"
   },
   {
    "duration": 0,
    "start_time": "2023-01-02T14:59:55.562Z"
   },
   {
    "duration": 0,
    "start_time": "2023-01-02T14:59:55.563Z"
   },
   {
    "duration": 0,
    "start_time": "2023-01-02T14:59:55.563Z"
   },
   {
    "duration": 0,
    "start_time": "2023-01-02T14:59:55.564Z"
   },
   {
    "duration": 0,
    "start_time": "2023-01-02T14:59:55.565Z"
   },
   {
    "duration": 0,
    "start_time": "2023-01-02T14:59:55.567Z"
   },
   {
    "duration": 0,
    "start_time": "2023-01-02T14:59:55.568Z"
   },
   {
    "duration": 0,
    "start_time": "2023-01-02T14:59:55.569Z"
   },
   {
    "duration": 0,
    "start_time": "2023-01-02T14:59:55.570Z"
   },
   {
    "duration": 0,
    "start_time": "2023-01-02T14:59:55.571Z"
   },
   {
    "duration": 0,
    "start_time": "2023-01-02T14:59:55.572Z"
   },
   {
    "duration": 83,
    "start_time": "2023-01-02T15:00:36.400Z"
   },
   {
    "duration": 24,
    "start_time": "2023-01-02T15:01:12.240Z"
   },
   {
    "duration": 502,
    "start_time": "2023-01-02T15:01:17.106Z"
   },
   {
    "duration": 14,
    "start_time": "2023-01-02T15:01:17.610Z"
   },
   {
    "duration": 40,
    "start_time": "2023-01-02T15:01:17.625Z"
   },
   {
    "duration": 2049,
    "start_time": "2023-01-02T15:01:17.667Z"
   },
   {
    "duration": 3,
    "start_time": "2023-01-02T15:01:19.717Z"
   },
   {
    "duration": 13,
    "start_time": "2023-01-02T15:01:19.722Z"
   },
   {
    "duration": 5,
    "start_time": "2023-01-02T15:01:19.737Z"
   },
   {
    "duration": 7,
    "start_time": "2023-01-02T15:01:19.744Z"
   },
   {
    "duration": 6,
    "start_time": "2023-01-02T15:01:19.752Z"
   },
   {
    "duration": 16,
    "start_time": "2023-01-02T15:01:19.760Z"
   },
   {
    "duration": 6,
    "start_time": "2023-01-02T15:01:19.778Z"
   },
   {
    "duration": 141,
    "start_time": "2023-01-02T15:01:19.785Z"
   },
   {
    "duration": 5,
    "start_time": "2023-01-02T15:01:19.927Z"
   },
   {
    "duration": 2094,
    "start_time": "2023-01-02T15:01:19.933Z"
   },
   {
    "duration": 11,
    "start_time": "2023-01-02T15:01:22.029Z"
   },
   {
    "duration": 27,
    "start_time": "2023-01-02T15:01:22.041Z"
   },
   {
    "duration": 15,
    "start_time": "2023-01-02T15:01:22.069Z"
   },
   {
    "duration": 6,
    "start_time": "2023-01-02T15:01:22.086Z"
   },
   {
    "duration": 15,
    "start_time": "2023-01-02T15:01:22.093Z"
   },
   {
    "duration": 9,
    "start_time": "2023-01-02T15:01:22.121Z"
   },
   {
    "duration": 18,
    "start_time": "2023-01-02T15:01:22.131Z"
   },
   {
    "duration": 27,
    "start_time": "2023-01-02T15:01:22.151Z"
   },
   {
    "duration": 11,
    "start_time": "2023-01-02T15:01:22.179Z"
   },
   {
    "duration": 10,
    "start_time": "2023-01-02T15:01:22.192Z"
   },
   {
    "duration": 23,
    "start_time": "2023-01-02T15:01:22.203Z"
   },
   {
    "duration": 6,
    "start_time": "2023-01-02T15:01:22.227Z"
   },
   {
    "duration": 317,
    "start_time": "2023-01-02T15:01:22.234Z"
   },
   {
    "duration": 1581,
    "start_time": "2023-01-02T15:01:22.554Z"
   },
   {
    "duration": 117,
    "start_time": "2023-01-02T15:01:24.136Z"
   },
   {
    "duration": 137,
    "start_time": "2023-01-02T15:01:24.255Z"
   },
   {
    "duration": 129,
    "start_time": "2023-01-02T15:01:24.394Z"
   },
   {
    "duration": 173,
    "start_time": "2023-01-02T15:01:24.524Z"
   },
   {
    "duration": 7,
    "start_time": "2023-01-02T15:01:24.699Z"
   },
   {
    "duration": 125,
    "start_time": "2023-01-02T15:01:24.707Z"
   },
   {
    "duration": 274,
    "start_time": "2023-01-02T15:23:22.124Z"
   },
   {
    "duration": 363,
    "start_time": "2023-01-02T15:26:19.933Z"
   },
   {
    "duration": 1550,
    "start_time": "2023-01-02T15:27:47.861Z"
   },
   {
    "duration": 1508,
    "start_time": "2023-01-02T15:28:08.587Z"
   },
   {
    "duration": 1683,
    "start_time": "2023-01-02T15:28:17.901Z"
   },
   {
    "duration": 1841,
    "start_time": "2023-01-02T15:29:03.534Z"
   },
   {
    "duration": 72,
    "start_time": "2023-01-02T15:29:47.079Z"
   },
   {
    "duration": 8,
    "start_time": "2023-01-02T15:29:54.234Z"
   },
   {
    "duration": 8,
    "start_time": "2023-01-02T15:29:58.726Z"
   },
   {
    "duration": 9,
    "start_time": "2023-01-02T15:30:03.206Z"
   },
   {
    "duration": 9,
    "start_time": "2023-01-02T15:30:06.551Z"
   },
   {
    "duration": 8,
    "start_time": "2023-01-02T15:30:23.864Z"
   },
   {
    "duration": 18,
    "start_time": "2023-01-02T15:30:35.256Z"
   },
   {
    "duration": 7,
    "start_time": "2023-01-02T15:30:47.257Z"
   },
   {
    "duration": 8,
    "start_time": "2023-01-02T15:31:22.648Z"
   },
   {
    "duration": 492,
    "start_time": "2023-01-02T19:17:04.326Z"
   },
   {
    "duration": 16,
    "start_time": "2023-01-02T19:17:04.820Z"
   },
   {
    "duration": 33,
    "start_time": "2023-01-02T19:17:04.837Z"
   },
   {
    "duration": 2064,
    "start_time": "2023-01-02T19:17:04.872Z"
   },
   {
    "duration": 4,
    "start_time": "2023-01-02T19:17:06.938Z"
   },
   {
    "duration": 14,
    "start_time": "2023-01-02T19:17:06.943Z"
   },
   {
    "duration": 8,
    "start_time": "2023-01-02T19:17:06.959Z"
   },
   {
    "duration": 18,
    "start_time": "2023-01-02T19:17:06.968Z"
   },
   {
    "duration": 13,
    "start_time": "2023-01-02T19:17:06.987Z"
   },
   {
    "duration": 21,
    "start_time": "2023-01-02T19:17:07.004Z"
   },
   {
    "duration": 7,
    "start_time": "2023-01-02T19:17:07.027Z"
   },
   {
    "duration": 131,
    "start_time": "2023-01-02T19:17:07.035Z"
   },
   {
    "duration": 5,
    "start_time": "2023-01-02T19:17:07.167Z"
   },
   {
    "duration": 1942,
    "start_time": "2023-01-02T19:17:07.173Z"
   },
   {
    "duration": 9,
    "start_time": "2023-01-02T19:17:09.117Z"
   },
   {
    "duration": 23,
    "start_time": "2023-01-02T19:17:09.127Z"
   },
   {
    "duration": 15,
    "start_time": "2023-01-02T19:17:09.152Z"
   },
   {
    "duration": 6,
    "start_time": "2023-01-02T19:17:09.169Z"
   },
   {
    "duration": 13,
    "start_time": "2023-01-02T19:17:09.176Z"
   },
   {
    "duration": 30,
    "start_time": "2023-01-02T19:17:09.191Z"
   },
   {
    "duration": 15,
    "start_time": "2023-01-02T19:17:09.223Z"
   },
   {
    "duration": 6,
    "start_time": "2023-01-02T19:17:09.239Z"
   },
   {
    "duration": 25,
    "start_time": "2023-01-02T19:17:09.246Z"
   },
   {
    "duration": 10,
    "start_time": "2023-01-02T19:17:09.272Z"
   },
   {
    "duration": 8,
    "start_time": "2023-01-02T19:17:09.284Z"
   },
   {
    "duration": 29,
    "start_time": "2023-01-02T19:17:09.293Z"
   },
   {
    "duration": 3,
    "start_time": "2023-01-02T19:17:09.324Z"
   },
   {
    "duration": 335,
    "start_time": "2023-01-02T19:17:09.330Z"
   },
   {
    "duration": 1567,
    "start_time": "2023-01-02T19:17:09.667Z"
   },
   {
    "duration": 117,
    "start_time": "2023-01-02T19:17:11.236Z"
   },
   {
    "duration": 124,
    "start_time": "2023-01-02T19:17:11.355Z"
   },
   {
    "duration": 131,
    "start_time": "2023-01-02T19:17:11.481Z"
   },
   {
    "duration": 168,
    "start_time": "2023-01-02T19:17:11.613Z"
   },
   {
    "duration": 6,
    "start_time": "2023-01-02T19:17:11.782Z"
   },
   {
    "duration": 122,
    "start_time": "2023-01-02T19:17:11.789Z"
   },
   {
    "duration": 1869,
    "start_time": "2023-01-02T19:17:11.912Z"
   },
   {
    "duration": 8,
    "start_time": "2023-01-02T19:20:35.716Z"
   },
   {
    "duration": 8,
    "start_time": "2023-01-02T19:20:38.202Z"
   },
   {
    "duration": 485,
    "start_time": "2023-01-02T19:20:49.292Z"
   },
   {
    "duration": 24,
    "start_time": "2023-01-02T19:20:49.779Z"
   },
   {
    "duration": 37,
    "start_time": "2023-01-02T19:20:49.804Z"
   },
   {
    "duration": 1990,
    "start_time": "2023-01-02T19:20:49.842Z"
   },
   {
    "duration": 4,
    "start_time": "2023-01-02T19:20:51.833Z"
   },
   {
    "duration": 15,
    "start_time": "2023-01-02T19:20:51.838Z"
   },
   {
    "duration": 6,
    "start_time": "2023-01-02T19:20:51.854Z"
   },
   {
    "duration": 13,
    "start_time": "2023-01-02T19:20:51.861Z"
   },
   {
    "duration": 9,
    "start_time": "2023-01-02T19:20:51.875Z"
   },
   {
    "duration": 18,
    "start_time": "2023-01-02T19:20:51.887Z"
   },
   {
    "duration": 8,
    "start_time": "2023-01-02T19:20:51.906Z"
   },
   {
    "duration": 127,
    "start_time": "2023-01-02T19:20:51.920Z"
   },
   {
    "duration": 6,
    "start_time": "2023-01-02T19:20:52.049Z"
   },
   {
    "duration": 1966,
    "start_time": "2023-01-02T19:20:52.057Z"
   },
   {
    "duration": 9,
    "start_time": "2023-01-02T19:20:54.024Z"
   },
   {
    "duration": 21,
    "start_time": "2023-01-02T19:20:54.035Z"
   },
   {
    "duration": 14,
    "start_time": "2023-01-02T19:20:54.057Z"
   },
   {
    "duration": 5,
    "start_time": "2023-01-02T19:20:54.073Z"
   },
   {
    "duration": 5,
    "start_time": "2023-01-02T19:20:54.080Z"
   },
   {
    "duration": 40,
    "start_time": "2023-01-02T19:20:54.087Z"
   },
   {
    "duration": 14,
    "start_time": "2023-01-02T19:20:54.129Z"
   },
   {
    "duration": 8,
    "start_time": "2023-01-02T19:20:54.145Z"
   },
   {
    "duration": 6,
    "start_time": "2023-01-02T19:20:54.155Z"
   },
   {
    "duration": 21,
    "start_time": "2023-01-02T19:20:54.163Z"
   },
   {
    "duration": 37,
    "start_time": "2023-01-02T19:20:54.185Z"
   },
   {
    "duration": 11,
    "start_time": "2023-01-02T19:20:54.224Z"
   },
   {
    "duration": 6,
    "start_time": "2023-01-02T19:20:54.236Z"
   },
   {
    "duration": 4,
    "start_time": "2023-01-02T19:20:54.245Z"
   },
   {
    "duration": 316,
    "start_time": "2023-01-02T19:20:54.251Z"
   },
   {
    "duration": 1605,
    "start_time": "2023-01-02T19:20:54.569Z"
   },
   {
    "duration": 117,
    "start_time": "2023-01-02T19:20:56.175Z"
   },
   {
    "duration": 150,
    "start_time": "2023-01-02T19:20:56.293Z"
   },
   {
    "duration": 128,
    "start_time": "2023-01-02T19:20:56.445Z"
   },
   {
    "duration": 168,
    "start_time": "2023-01-02T19:20:56.575Z"
   },
   {
    "duration": 7,
    "start_time": "2023-01-02T19:20:56.744Z"
   },
   {
    "duration": 136,
    "start_time": "2023-01-02T19:20:56.752Z"
   },
   {
    "duration": 1932,
    "start_time": "2023-01-02T19:20:56.889Z"
   },
   {
    "duration": 1569,
    "start_time": "2023-01-02T19:21:08.252Z"
   },
   {
    "duration": 68,
    "start_time": "2023-01-02T19:26:54.354Z"
   },
   {
    "duration": 7941,
    "start_time": "2023-01-02T19:26:59.654Z"
   },
   {
    "duration": 14,
    "start_time": "2023-01-02T19:27:17.481Z"
   },
   {
    "duration": 932,
    "start_time": "2023-01-02T19:27:33.473Z"
   },
   {
    "duration": 766,
    "start_time": "2023-01-02T19:30:13.572Z"
   },
   {
    "duration": 18,
    "start_time": "2023-01-02T19:30:32.791Z"
   },
   {
    "duration": 1661,
    "start_time": "2023-01-02T19:30:49.994Z"
   },
   {
    "duration": 23528,
    "start_time": "2023-01-02T19:31:34.464Z"
   },
   {
    "duration": 1139,
    "start_time": "2023-01-02T19:32:11.620Z"
   },
   {
    "duration": 48,
    "start_time": "2023-01-02T19:32:37.106Z"
   },
   {
    "duration": 42,
    "start_time": "2023-01-02T19:32:43.258Z"
   },
   {
    "duration": 213,
    "start_time": "2023-01-02T19:35:12.826Z"
   },
   {
    "duration": 2095,
    "start_time": "2023-01-02T19:36:44.508Z"
   },
   {
    "duration": 58,
    "start_time": "2023-01-12T16:19:05.173Z"
   },
   {
    "duration": 756,
    "start_time": "2023-01-12T16:19:12.569Z"
   },
   {
    "duration": 16,
    "start_time": "2023-01-12T16:19:13.327Z"
   },
   {
    "duration": 37,
    "start_time": "2023-01-12T16:19:13.345Z"
   },
   {
    "duration": 2347,
    "start_time": "2023-01-12T16:19:13.384Z"
   },
   {
    "duration": 4,
    "start_time": "2023-01-12T16:19:15.733Z"
   },
   {
    "duration": 30,
    "start_time": "2023-01-12T16:19:15.738Z"
   },
   {
    "duration": 13,
    "start_time": "2023-01-12T16:19:15.770Z"
   },
   {
    "duration": 13,
    "start_time": "2023-01-12T16:19:15.785Z"
   },
   {
    "duration": 13,
    "start_time": "2023-01-12T16:19:15.799Z"
   },
   {
    "duration": 42,
    "start_time": "2023-01-12T16:19:15.815Z"
   },
   {
    "duration": 11,
    "start_time": "2023-01-12T16:19:15.858Z"
   },
   {
    "duration": 140,
    "start_time": "2023-01-12T16:19:15.870Z"
   },
   {
    "duration": 14,
    "start_time": "2023-01-12T16:19:16.011Z"
   },
   {
    "duration": 2274,
    "start_time": "2023-01-12T16:19:16.029Z"
   },
   {
    "duration": 27,
    "start_time": "2023-01-12T16:19:18.304Z"
   },
   {
    "duration": 29,
    "start_time": "2023-01-12T16:19:18.333Z"
   },
   {
    "duration": 15,
    "start_time": "2023-01-12T16:19:18.363Z"
   },
   {
    "duration": 6,
    "start_time": "2023-01-12T16:19:18.380Z"
   },
   {
    "duration": 8,
    "start_time": "2023-01-12T16:19:18.388Z"
   },
   {
    "duration": 31,
    "start_time": "2023-01-12T16:19:18.397Z"
   },
   {
    "duration": 15,
    "start_time": "2023-01-12T16:19:18.433Z"
   },
   {
    "duration": 10,
    "start_time": "2023-01-12T16:19:18.450Z"
   },
   {
    "duration": 8,
    "start_time": "2023-01-12T16:19:18.462Z"
   },
   {
    "duration": 28,
    "start_time": "2023-01-12T16:19:18.471Z"
   },
   {
    "duration": 16,
    "start_time": "2023-01-12T16:19:18.501Z"
   },
   {
    "duration": 27,
    "start_time": "2023-01-12T16:19:18.519Z"
   },
   {
    "duration": 10,
    "start_time": "2023-01-12T16:19:18.548Z"
   },
   {
    "duration": 4,
    "start_time": "2023-01-12T16:19:18.561Z"
   },
   {
    "duration": 365,
    "start_time": "2023-01-12T16:19:18.566Z"
   },
   {
    "duration": 1671,
    "start_time": "2023-01-12T16:19:18.933Z"
   },
   {
    "duration": 118,
    "start_time": "2023-01-12T16:19:20.606Z"
   },
   {
    "duration": 138,
    "start_time": "2023-01-12T16:19:20.726Z"
   },
   {
    "duration": 136,
    "start_time": "2023-01-12T16:19:20.865Z"
   },
   {
    "duration": 183,
    "start_time": "2023-01-12T16:19:21.003Z"
   },
   {
    "duration": 7,
    "start_time": "2023-01-12T16:19:21.188Z"
   },
   {
    "duration": 238,
    "start_time": "2023-01-12T16:19:21.196Z"
   },
   {
    "duration": 15,
    "start_time": "2023-01-12T16:19:21.436Z"
   },
   {
    "duration": 1778,
    "start_time": "2023-01-12T16:19:21.452Z"
   },
   {
    "duration": 524,
    "start_time": "2023-01-16T16:03:05.573Z"
   },
   {
    "duration": 14,
    "start_time": "2023-01-16T16:03:06.099Z"
   },
   {
    "duration": 37,
    "start_time": "2023-01-16T16:03:06.115Z"
   },
   {
    "duration": 2307,
    "start_time": "2023-01-16T16:03:06.153Z"
   },
   {
    "duration": 4,
    "start_time": "2023-01-16T16:03:08.462Z"
   },
   {
    "duration": 15,
    "start_time": "2023-01-16T16:03:08.467Z"
   },
   {
    "duration": 8,
    "start_time": "2023-01-16T16:03:08.496Z"
   },
   {
    "duration": 16,
    "start_time": "2023-01-16T16:03:08.506Z"
   },
   {
    "duration": 6,
    "start_time": "2023-01-16T16:03:08.524Z"
   },
   {
    "duration": 24,
    "start_time": "2023-01-16T16:03:08.532Z"
   },
   {
    "duration": 7,
    "start_time": "2023-01-16T16:03:08.558Z"
   },
   {
    "duration": 176,
    "start_time": "2023-01-16T16:03:08.567Z"
   },
   {
    "duration": 6,
    "start_time": "2023-01-16T16:03:08.745Z"
   },
   {
    "duration": 2896,
    "start_time": "2023-01-16T16:03:08.754Z"
   },
   {
    "duration": 8,
    "start_time": "2023-01-16T16:03:11.652Z"
   },
   {
    "duration": 34,
    "start_time": "2023-01-16T16:03:11.662Z"
   },
   {
    "duration": 16,
    "start_time": "2023-01-16T16:03:11.698Z"
   },
   {
    "duration": 7,
    "start_time": "2023-01-16T16:03:11.716Z"
   },
   {
    "duration": 7,
    "start_time": "2023-01-16T16:03:11.725Z"
   },
   {
    "duration": 28,
    "start_time": "2023-01-16T16:03:11.734Z"
   },
   {
    "duration": 12,
    "start_time": "2023-01-16T16:03:11.764Z"
   },
   {
    "duration": 27,
    "start_time": "2023-01-16T16:03:11.778Z"
   },
   {
    "duration": 10,
    "start_time": "2023-01-16T16:03:11.807Z"
   },
   {
    "duration": 31,
    "start_time": "2023-01-16T16:03:11.819Z"
   },
   {
    "duration": 11,
    "start_time": "2023-01-16T16:03:11.851Z"
   },
   {
    "duration": 11,
    "start_time": "2023-01-16T16:03:11.864Z"
   },
   {
    "duration": 7,
    "start_time": "2023-01-16T16:03:11.897Z"
   },
   {
    "duration": 15,
    "start_time": "2023-01-16T16:03:11.906Z"
   },
   {
    "duration": 337,
    "start_time": "2023-01-16T16:03:11.923Z"
   },
   {
    "duration": 1766,
    "start_time": "2023-01-16T16:03:12.261Z"
   },
   {
    "duration": 129,
    "start_time": "2023-01-16T16:03:14.029Z"
   },
   {
    "duration": 155,
    "start_time": "2023-01-16T16:03:14.159Z"
   },
   {
    "duration": 140,
    "start_time": "2023-01-16T16:03:14.315Z"
   },
   {
    "duration": 192,
    "start_time": "2023-01-16T16:03:14.457Z"
   },
   {
    "duration": 6,
    "start_time": "2023-01-16T16:03:14.651Z"
   },
   {
    "duration": 151,
    "start_time": "2023-01-16T16:03:14.659Z"
   },
   {
    "duration": 18,
    "start_time": "2023-01-16T16:03:14.812Z"
   },
   {
    "duration": 1382,
    "start_time": "2023-01-16T16:03:14.831Z"
   },
   {
    "duration": 128,
    "start_time": "2023-01-16T16:03:16.215Z"
   },
   {
    "duration": 225,
    "start_time": "2023-01-16T16:03:16.346Z"
   },
   {
    "duration": 16,
    "start_time": "2023-01-16T16:29:12.236Z"
   },
   {
    "duration": 6,
    "start_time": "2023-01-16T16:29:48.991Z"
   },
   {
    "duration": 14,
    "start_time": "2023-01-16T16:31:02.867Z"
   },
   {
    "duration": 142,
    "start_time": "2023-01-16T16:31:06.507Z"
   },
   {
    "duration": 455,
    "start_time": "2023-01-16T16:31:14.539Z"
   },
   {
    "duration": 15,
    "start_time": "2023-01-16T16:31:14.996Z"
   },
   {
    "duration": 38,
    "start_time": "2023-01-16T16:31:15.013Z"
   },
   {
    "duration": 2292,
    "start_time": "2023-01-16T16:31:15.053Z"
   },
   {
    "duration": 3,
    "start_time": "2023-01-16T16:31:17.347Z"
   },
   {
    "duration": 17,
    "start_time": "2023-01-16T16:31:17.352Z"
   },
   {
    "duration": 6,
    "start_time": "2023-01-16T16:31:17.370Z"
   },
   {
    "duration": 19,
    "start_time": "2023-01-16T16:31:17.377Z"
   },
   {
    "duration": 4,
    "start_time": "2023-01-16T16:31:17.398Z"
   },
   {
    "duration": 30,
    "start_time": "2023-01-16T16:31:17.404Z"
   },
   {
    "duration": 11,
    "start_time": "2023-01-16T16:31:17.436Z"
   },
   {
    "duration": 136,
    "start_time": "2023-01-16T16:31:17.449Z"
   },
   {
    "duration": 4,
    "start_time": "2023-01-16T16:31:17.587Z"
   },
   {
    "duration": 2756,
    "start_time": "2023-01-16T16:31:17.598Z"
   },
   {
    "duration": 12,
    "start_time": "2023-01-16T16:31:20.356Z"
   },
   {
    "duration": 38,
    "start_time": "2023-01-16T16:31:20.370Z"
   },
   {
    "duration": 20,
    "start_time": "2023-01-16T16:31:20.410Z"
   },
   {
    "duration": 13,
    "start_time": "2023-01-16T16:31:20.432Z"
   },
   {
    "duration": 12,
    "start_time": "2023-01-16T16:31:20.447Z"
   },
   {
    "duration": 15,
    "start_time": "2023-01-16T16:31:20.461Z"
   },
   {
    "duration": 14,
    "start_time": "2023-01-16T16:31:20.478Z"
   },
   {
    "duration": 17,
    "start_time": "2023-01-16T16:31:20.494Z"
   },
   {
    "duration": 15,
    "start_time": "2023-01-16T16:31:20.513Z"
   },
   {
    "duration": 24,
    "start_time": "2023-01-16T16:31:20.530Z"
   },
   {
    "duration": 12,
    "start_time": "2023-01-16T16:31:20.556Z"
   },
   {
    "duration": 26,
    "start_time": "2023-01-16T16:31:20.570Z"
   },
   {
    "duration": 13,
    "start_time": "2023-01-16T16:31:20.598Z"
   },
   {
    "duration": 30,
    "start_time": "2023-01-16T16:31:20.613Z"
   },
   {
    "duration": 154,
    "start_time": "2023-01-16T16:31:20.644Z"
   },
   {
    "duration": 323,
    "start_time": "2023-01-16T16:31:20.800Z"
   },
   {
    "duration": 1708,
    "start_time": "2023-01-16T16:31:21.125Z"
   },
   {
    "duration": 130,
    "start_time": "2023-01-16T16:31:22.835Z"
   },
   {
    "duration": 149,
    "start_time": "2023-01-16T16:31:22.967Z"
   },
   {
    "duration": 161,
    "start_time": "2023-01-16T16:31:23.117Z"
   },
   {
    "duration": 180,
    "start_time": "2023-01-16T16:31:23.279Z"
   },
   {
    "duration": 7,
    "start_time": "2023-01-16T16:31:23.461Z"
   },
   {
    "duration": 147,
    "start_time": "2023-01-16T16:31:23.469Z"
   },
   {
    "duration": 16,
    "start_time": "2023-01-16T16:31:23.618Z"
   },
   {
    "duration": 1324,
    "start_time": "2023-01-16T16:31:23.635Z"
   },
   {
    "duration": 107,
    "start_time": "2023-01-16T16:31:24.963Z"
   },
   {
    "duration": 215,
    "start_time": "2023-01-16T16:31:25.074Z"
   },
   {
    "duration": 8,
    "start_time": "2023-01-16T16:31:43.393Z"
   },
   {
    "duration": 6,
    "start_time": "2023-01-16T16:31:48.896Z"
   },
   {
    "duration": 88,
    "start_time": "2023-01-16T16:45:11.335Z"
   },
   {
    "duration": 558,
    "start_time": "2023-01-16T16:45:17.663Z"
   },
   {
    "duration": 15,
    "start_time": "2023-01-16T16:45:18.223Z"
   },
   {
    "duration": 84,
    "start_time": "2023-01-16T16:45:18.239Z"
   },
   {
    "duration": 0,
    "start_time": "2023-01-16T16:45:18.326Z"
   },
   {
    "duration": 0,
    "start_time": "2023-01-16T16:45:18.328Z"
   },
   {
    "duration": 0,
    "start_time": "2023-01-16T16:45:18.330Z"
   },
   {
    "duration": 0,
    "start_time": "2023-01-16T16:45:18.331Z"
   },
   {
    "duration": 0,
    "start_time": "2023-01-16T16:45:18.333Z"
   },
   {
    "duration": 0,
    "start_time": "2023-01-16T16:45:18.335Z"
   },
   {
    "duration": 0,
    "start_time": "2023-01-16T16:45:18.336Z"
   },
   {
    "duration": 0,
    "start_time": "2023-01-16T16:45:18.337Z"
   },
   {
    "duration": 0,
    "start_time": "2023-01-16T16:45:18.339Z"
   },
   {
    "duration": 0,
    "start_time": "2023-01-16T16:45:18.340Z"
   },
   {
    "duration": 0,
    "start_time": "2023-01-16T16:45:18.341Z"
   },
   {
    "duration": 0,
    "start_time": "2023-01-16T16:45:18.342Z"
   },
   {
    "duration": 0,
    "start_time": "2023-01-16T16:45:18.343Z"
   },
   {
    "duration": 0,
    "start_time": "2023-01-16T16:45:18.344Z"
   },
   {
    "duration": 0,
    "start_time": "2023-01-16T16:45:18.345Z"
   },
   {
    "duration": 0,
    "start_time": "2023-01-16T16:45:18.346Z"
   },
   {
    "duration": 0,
    "start_time": "2023-01-16T16:45:18.347Z"
   },
   {
    "duration": 0,
    "start_time": "2023-01-16T16:45:18.348Z"
   },
   {
    "duration": 0,
    "start_time": "2023-01-16T16:45:18.349Z"
   },
   {
    "duration": 0,
    "start_time": "2023-01-16T16:45:18.350Z"
   },
   {
    "duration": 0,
    "start_time": "2023-01-16T16:45:18.351Z"
   },
   {
    "duration": 0,
    "start_time": "2023-01-16T16:45:18.352Z"
   },
   {
    "duration": 0,
    "start_time": "2023-01-16T16:45:18.355Z"
   },
   {
    "duration": 0,
    "start_time": "2023-01-16T16:45:18.357Z"
   },
   {
    "duration": 0,
    "start_time": "2023-01-16T16:45:18.358Z"
   },
   {
    "duration": 0,
    "start_time": "2023-01-16T16:45:18.359Z"
   },
   {
    "duration": 1,
    "start_time": "2023-01-16T16:45:18.360Z"
   },
   {
    "duration": 0,
    "start_time": "2023-01-16T16:45:18.362Z"
   },
   {
    "duration": 0,
    "start_time": "2023-01-16T16:45:18.363Z"
   },
   {
    "duration": 0,
    "start_time": "2023-01-16T16:45:18.422Z"
   },
   {
    "duration": 0,
    "start_time": "2023-01-16T16:45:18.423Z"
   },
   {
    "duration": 0,
    "start_time": "2023-01-16T16:45:18.424Z"
   },
   {
    "duration": 0,
    "start_time": "2023-01-16T16:45:18.425Z"
   },
   {
    "duration": 0,
    "start_time": "2023-01-16T16:45:18.426Z"
   },
   {
    "duration": 0,
    "start_time": "2023-01-16T16:45:18.427Z"
   },
   {
    "duration": 0,
    "start_time": "2023-01-16T16:45:18.428Z"
   },
   {
    "duration": 0,
    "start_time": "2023-01-16T16:45:18.429Z"
   },
   {
    "duration": 8,
    "start_time": "2023-01-16T16:46:08.409Z"
   },
   {
    "duration": 34,
    "start_time": "2023-01-16T16:47:33.648Z"
   },
   {
    "duration": 2316,
    "start_time": "2023-01-16T16:47:46.307Z"
   },
   {
    "duration": 512,
    "start_time": "2023-01-16T16:54:32.314Z"
   },
   {
    "duration": 20,
    "start_time": "2023-01-16T16:54:32.828Z"
   },
   {
    "duration": 56,
    "start_time": "2023-01-16T16:54:32.850Z"
   },
   {
    "duration": 2400,
    "start_time": "2023-01-16T16:54:32.908Z"
   },
   {
    "duration": 4,
    "start_time": "2023-01-16T16:54:35.310Z"
   },
   {
    "duration": 20,
    "start_time": "2023-01-16T16:54:35.316Z"
   },
   {
    "duration": 12,
    "start_time": "2023-01-16T16:54:35.339Z"
   },
   {
    "duration": 9,
    "start_time": "2023-01-16T16:54:35.353Z"
   },
   {
    "duration": 7,
    "start_time": "2023-01-16T16:54:35.364Z"
   },
   {
    "duration": 21,
    "start_time": "2023-01-16T16:54:35.375Z"
   },
   {
    "duration": 23,
    "start_time": "2023-01-16T16:54:35.398Z"
   },
   {
    "duration": 166,
    "start_time": "2023-01-16T16:54:35.424Z"
   },
   {
    "duration": 5,
    "start_time": "2023-01-16T16:54:35.592Z"
   },
   {
    "duration": 2156,
    "start_time": "2023-01-16T16:54:35.600Z"
   },
   {
    "duration": 9,
    "start_time": "2023-01-16T16:54:37.758Z"
   },
   {
    "duration": 21,
    "start_time": "2023-01-16T16:54:37.769Z"
   },
   {
    "duration": 43,
    "start_time": "2023-01-16T16:54:37.792Z"
   },
   {
    "duration": 8,
    "start_time": "2023-01-16T16:54:37.836Z"
   },
   {
    "duration": 15,
    "start_time": "2023-01-16T16:54:37.846Z"
   },
   {
    "duration": 12,
    "start_time": "2023-01-16T16:54:37.863Z"
   },
   {
    "duration": 14,
    "start_time": "2023-01-16T16:54:37.876Z"
   },
   {
    "duration": 11,
    "start_time": "2023-01-16T16:54:37.892Z"
   },
   {
    "duration": 9,
    "start_time": "2023-01-16T16:54:37.923Z"
   },
   {
    "duration": 27,
    "start_time": "2023-01-16T16:54:37.934Z"
   },
   {
    "duration": 11,
    "start_time": "2023-01-16T16:54:37.963Z"
   },
   {
    "duration": 12,
    "start_time": "2023-01-16T16:54:37.976Z"
   },
   {
    "duration": 38,
    "start_time": "2023-01-16T16:54:37.990Z"
   },
   {
    "duration": 4,
    "start_time": "2023-01-16T16:54:38.032Z"
   },
   {
    "duration": 423,
    "start_time": "2023-01-16T16:54:38.038Z"
   },
   {
    "duration": 0,
    "start_time": "2023-01-16T16:54:38.463Z"
   },
   {
    "duration": 0,
    "start_time": "2023-01-16T16:54:38.464Z"
   },
   {
    "duration": 0,
    "start_time": "2023-01-16T16:54:38.466Z"
   },
   {
    "duration": 0,
    "start_time": "2023-01-16T16:54:38.467Z"
   },
   {
    "duration": 0,
    "start_time": "2023-01-16T16:54:38.468Z"
   },
   {
    "duration": 0,
    "start_time": "2023-01-16T16:54:38.469Z"
   },
   {
    "duration": 0,
    "start_time": "2023-01-16T16:54:38.470Z"
   },
   {
    "duration": 0,
    "start_time": "2023-01-16T16:54:38.471Z"
   },
   {
    "duration": 0,
    "start_time": "2023-01-16T16:54:38.472Z"
   },
   {
    "duration": 0,
    "start_time": "2023-01-16T16:54:38.473Z"
   },
   {
    "duration": 0,
    "start_time": "2023-01-16T16:54:38.475Z"
   },
   {
    "duration": 341,
    "start_time": "2023-01-16T16:55:31.143Z"
   },
   {
    "duration": 513,
    "start_time": "2023-01-16T16:55:38.946Z"
   },
   {
    "duration": 15,
    "start_time": "2023-01-16T16:55:39.461Z"
   },
   {
    "duration": 47,
    "start_time": "2023-01-16T16:55:39.478Z"
   },
   {
    "duration": 2507,
    "start_time": "2023-01-16T16:55:39.529Z"
   },
   {
    "duration": 3,
    "start_time": "2023-01-16T16:55:42.038Z"
   },
   {
    "duration": 12,
    "start_time": "2023-01-16T16:55:42.043Z"
   },
   {
    "duration": 6,
    "start_time": "2023-01-16T16:55:42.057Z"
   },
   {
    "duration": 6,
    "start_time": "2023-01-16T16:55:42.064Z"
   },
   {
    "duration": 5,
    "start_time": "2023-01-16T16:55:42.072Z"
   },
   {
    "duration": 48,
    "start_time": "2023-01-16T16:55:42.080Z"
   },
   {
    "duration": 12,
    "start_time": "2023-01-16T16:55:42.136Z"
   },
   {
    "duration": 156,
    "start_time": "2023-01-16T16:55:42.150Z"
   },
   {
    "duration": 5,
    "start_time": "2023-01-16T16:55:42.308Z"
   },
   {
    "duration": 2189,
    "start_time": "2023-01-16T16:55:42.314Z"
   },
   {
    "duration": 18,
    "start_time": "2023-01-16T16:55:44.505Z"
   },
   {
    "duration": 29,
    "start_time": "2023-01-16T16:55:44.529Z"
   },
   {
    "duration": 15,
    "start_time": "2023-01-16T16:55:44.559Z"
   },
   {
    "duration": 5,
    "start_time": "2023-01-16T16:55:44.576Z"
   },
   {
    "duration": 5,
    "start_time": "2023-01-16T16:55:44.583Z"
   },
   {
    "duration": 35,
    "start_time": "2023-01-16T16:55:44.590Z"
   },
   {
    "duration": 10,
    "start_time": "2023-01-16T16:55:44.632Z"
   },
   {
    "duration": 9,
    "start_time": "2023-01-16T16:55:44.644Z"
   },
   {
    "duration": 6,
    "start_time": "2023-01-16T16:55:44.655Z"
   },
   {
    "duration": 23,
    "start_time": "2023-01-16T16:55:44.662Z"
   },
   {
    "duration": 42,
    "start_time": "2023-01-16T16:55:44.688Z"
   },
   {
    "duration": 12,
    "start_time": "2023-01-16T16:55:44.736Z"
   },
   {
    "duration": 7,
    "start_time": "2023-01-16T16:55:44.750Z"
   },
   {
    "duration": 4,
    "start_time": "2023-01-16T16:55:44.761Z"
   },
   {
    "duration": 373,
    "start_time": "2023-01-16T16:55:44.767Z"
   },
   {
    "duration": 1842,
    "start_time": "2023-01-16T16:55:45.142Z"
   },
   {
    "duration": 135,
    "start_time": "2023-01-16T16:55:46.986Z"
   },
   {
    "duration": 144,
    "start_time": "2023-01-16T16:55:47.122Z"
   },
   {
    "duration": 143,
    "start_time": "2023-01-16T16:55:47.268Z"
   },
   {
    "duration": 192,
    "start_time": "2023-01-16T16:55:47.413Z"
   },
   {
    "duration": 21,
    "start_time": "2023-01-16T16:55:47.607Z"
   },
   {
    "duration": 146,
    "start_time": "2023-01-16T16:55:47.630Z"
   },
   {
    "duration": 18,
    "start_time": "2023-01-16T16:55:47.778Z"
   },
   {
    "duration": 1382,
    "start_time": "2023-01-16T16:55:47.798Z"
   },
   {
    "duration": 118,
    "start_time": "2023-01-16T16:55:49.183Z"
   },
   {
    "duration": 228,
    "start_time": "2023-01-16T16:55:49.304Z"
   },
   {
    "duration": 97,
    "start_time": "2023-01-16T16:58:52.252Z"
   },
   {
    "duration": 32,
    "start_time": "2023-01-16T16:59:18.220Z"
   },
   {
    "duration": 27,
    "start_time": "2023-01-16T16:59:31.881Z"
   },
   {
    "duration": 2180,
    "start_time": "2023-01-16T16:59:31.910Z"
   },
   {
    "duration": 4,
    "start_time": "2023-01-16T16:59:34.092Z"
   },
   {
    "duration": 53,
    "start_time": "2023-01-16T16:59:34.099Z"
   },
   {
    "duration": 22,
    "start_time": "2023-01-16T16:59:34.155Z"
   },
   {
    "duration": 30,
    "start_time": "2023-01-16T16:59:34.180Z"
   },
   {
    "duration": 54,
    "start_time": "2023-01-16T16:59:34.212Z"
   },
   {
    "duration": 51,
    "start_time": "2023-01-16T16:59:34.268Z"
   },
   {
    "duration": 18,
    "start_time": "2023-01-16T16:59:34.321Z"
   },
   {
    "duration": 150,
    "start_time": "2023-01-16T16:59:34.348Z"
   },
   {
    "duration": 5,
    "start_time": "2023-01-16T16:59:34.500Z"
   },
   {
    "duration": 2279,
    "start_time": "2023-01-16T16:59:34.507Z"
   },
   {
    "duration": 11,
    "start_time": "2023-01-16T16:59:36.788Z"
   },
   {
    "duration": 43,
    "start_time": "2023-01-16T16:59:36.801Z"
   },
   {
    "duration": 17,
    "start_time": "2023-01-16T16:59:36.846Z"
   },
   {
    "duration": 7,
    "start_time": "2023-01-16T16:59:36.864Z"
   },
   {
    "duration": 7,
    "start_time": "2023-01-16T16:59:36.873Z"
   },
   {
    "duration": 28,
    "start_time": "2023-01-16T16:59:36.882Z"
   },
   {
    "duration": 27,
    "start_time": "2023-01-16T16:59:36.915Z"
   },
   {
    "duration": 10,
    "start_time": "2023-01-16T16:59:36.943Z"
   },
   {
    "duration": 6,
    "start_time": "2023-01-16T16:59:36.955Z"
   },
   {
    "duration": 20,
    "start_time": "2023-01-16T16:59:36.963Z"
   },
   {
    "duration": 11,
    "start_time": "2023-01-16T16:59:36.984Z"
   },
   {
    "duration": 37,
    "start_time": "2023-01-16T16:59:36.996Z"
   },
   {
    "duration": 16,
    "start_time": "2023-01-16T16:59:37.037Z"
   },
   {
    "duration": 6,
    "start_time": "2023-01-16T16:59:37.055Z"
   },
   {
    "duration": 367,
    "start_time": "2023-01-16T16:59:37.062Z"
   },
   {
    "duration": 1875,
    "start_time": "2023-01-16T16:59:37.433Z"
   },
   {
    "duration": 144,
    "start_time": "2023-01-16T16:59:39.309Z"
   },
   {
    "duration": 159,
    "start_time": "2023-01-16T16:59:39.455Z"
   },
   {
    "duration": 155,
    "start_time": "2023-01-16T16:59:39.615Z"
   },
   {
    "duration": 202,
    "start_time": "2023-01-16T16:59:39.771Z"
   },
   {
    "duration": 7,
    "start_time": "2023-01-16T16:59:39.976Z"
   },
   {
    "duration": 159,
    "start_time": "2023-01-16T16:59:39.985Z"
   },
   {
    "duration": 17,
    "start_time": "2023-01-16T16:59:40.146Z"
   },
   {
    "duration": 1423,
    "start_time": "2023-01-16T16:59:40.164Z"
   },
   {
    "duration": 48,
    "start_time": "2023-01-16T16:59:41.589Z"
   },
   {
    "duration": 217,
    "start_time": "2023-01-16T16:59:41.639Z"
   },
   {
    "duration": 33,
    "start_time": "2023-01-16T16:59:46.786Z"
   },
   {
    "duration": 198,
    "start_time": "2023-01-16T17:00:08.239Z"
   },
   {
    "duration": 214,
    "start_time": "2023-01-16T17:00:24.863Z"
   },
   {
    "duration": 210,
    "start_time": "2023-01-16T17:00:52.754Z"
   },
   {
    "duration": 34,
    "start_time": "2023-01-16T17:01:50.109Z"
   },
   {
    "duration": 230,
    "start_time": "2023-01-16T17:02:06.897Z"
   },
   {
    "duration": 383,
    "start_time": "2023-01-16T17:03:16.286Z"
   },
   {
    "duration": 207,
    "start_time": "2023-01-16T17:03:24.409Z"
   },
   {
    "duration": 112,
    "start_time": "2023-01-16T17:04:51.770Z"
   },
   {
    "duration": 89,
    "start_time": "2023-01-16T17:05:31.613Z"
   },
   {
    "duration": 430,
    "start_time": "2023-01-16T17:12:59.715Z"
   },
   {
    "duration": 93,
    "start_time": "2023-01-16T17:13:00.147Z"
   },
   {
    "duration": 16,
    "start_time": "2023-01-16T17:13:00.242Z"
   },
   {
    "duration": 33,
    "start_time": "2023-01-16T17:13:00.261Z"
   },
   {
    "duration": 2444,
    "start_time": "2023-01-16T17:13:00.296Z"
   },
   {
    "duration": 4,
    "start_time": "2023-01-16T17:13:02.742Z"
   },
   {
    "duration": 14,
    "start_time": "2023-01-16T17:13:02.747Z"
   },
   {
    "duration": 6,
    "start_time": "2023-01-16T17:13:02.762Z"
   },
   {
    "duration": 7,
    "start_time": "2023-01-16T17:13:02.770Z"
   },
   {
    "duration": 5,
    "start_time": "2023-01-16T17:13:02.780Z"
   },
   {
    "duration": 18,
    "start_time": "2023-01-16T17:13:02.786Z"
   },
   {
    "duration": 26,
    "start_time": "2023-01-16T17:13:02.806Z"
   },
   {
    "duration": 156,
    "start_time": "2023-01-16T17:13:02.833Z"
   },
   {
    "duration": 6,
    "start_time": "2023-01-16T17:13:02.990Z"
   },
   {
    "duration": 2300,
    "start_time": "2023-01-16T17:13:02.998Z"
   },
   {
    "duration": 26,
    "start_time": "2023-01-16T17:13:05.300Z"
   },
   {
    "duration": 41,
    "start_time": "2023-01-16T17:13:05.332Z"
   },
   {
    "duration": 16,
    "start_time": "2023-01-16T17:13:05.375Z"
   },
   {
    "duration": 23,
    "start_time": "2023-01-16T17:13:05.393Z"
   },
   {
    "duration": 25,
    "start_time": "2023-01-16T17:13:05.417Z"
   },
   {
    "duration": 36,
    "start_time": "2023-01-16T17:13:05.444Z"
   },
   {
    "duration": 23,
    "start_time": "2023-01-16T17:13:05.481Z"
   },
   {
    "duration": 28,
    "start_time": "2023-01-16T17:13:05.506Z"
   },
   {
    "duration": 20,
    "start_time": "2023-01-16T17:13:05.536Z"
   },
   {
    "duration": 40,
    "start_time": "2023-01-16T17:13:05.558Z"
   },
   {
    "duration": 17,
    "start_time": "2023-01-16T17:13:05.600Z"
   },
   {
    "duration": 34,
    "start_time": "2023-01-16T17:13:05.619Z"
   },
   {
    "duration": 12,
    "start_time": "2023-01-16T17:13:05.658Z"
   },
   {
    "duration": 25,
    "start_time": "2023-01-16T17:13:05.672Z"
   },
   {
    "duration": 401,
    "start_time": "2023-01-16T17:13:05.699Z"
   },
   {
    "duration": 1841,
    "start_time": "2023-01-16T17:13:06.102Z"
   },
   {
    "duration": 133,
    "start_time": "2023-01-16T17:13:07.945Z"
   },
   {
    "duration": 158,
    "start_time": "2023-01-16T17:13:08.080Z"
   },
   {
    "duration": 137,
    "start_time": "2023-01-16T17:13:08.240Z"
   },
   {
    "duration": 195,
    "start_time": "2023-01-16T17:13:08.379Z"
   },
   {
    "duration": 8,
    "start_time": "2023-01-16T17:13:08.575Z"
   },
   {
    "duration": 158,
    "start_time": "2023-01-16T17:13:08.584Z"
   },
   {
    "duration": 18,
    "start_time": "2023-01-16T17:13:08.744Z"
   },
   {
    "duration": 1376,
    "start_time": "2023-01-16T17:13:08.764Z"
   },
   {
    "duration": 106,
    "start_time": "2023-01-16T17:13:10.142Z"
   },
   {
    "duration": 199,
    "start_time": "2023-01-16T17:13:10.250Z"
   },
   {
    "duration": 6,
    "start_time": "2023-01-16T17:30:02.182Z"
   },
   {
    "duration": 15,
    "start_time": "2023-01-16T17:33:09.483Z"
   },
   {
    "duration": 16,
    "start_time": "2023-01-16T17:33:19.257Z"
   },
   {
    "duration": 402,
    "start_time": "2023-01-16T17:33:28.888Z"
   },
   {
    "duration": 93,
    "start_time": "2023-01-16T17:33:29.292Z"
   },
   {
    "duration": 17,
    "start_time": "2023-01-16T17:33:29.387Z"
   },
   {
    "duration": 38,
    "start_time": "2023-01-16T17:33:29.425Z"
   },
   {
    "duration": 2379,
    "start_time": "2023-01-16T17:33:29.465Z"
   },
   {
    "duration": 5,
    "start_time": "2023-01-16T17:33:31.846Z"
   },
   {
    "duration": 19,
    "start_time": "2023-01-16T17:33:31.853Z"
   },
   {
    "duration": 24,
    "start_time": "2023-01-16T17:33:31.874Z"
   },
   {
    "duration": 11,
    "start_time": "2023-01-16T17:33:31.899Z"
   },
   {
    "duration": 15,
    "start_time": "2023-01-16T17:33:31.912Z"
   },
   {
    "duration": 32,
    "start_time": "2023-01-16T17:33:31.929Z"
   },
   {
    "duration": 9,
    "start_time": "2023-01-16T17:33:31.963Z"
   },
   {
    "duration": 168,
    "start_time": "2023-01-16T17:33:31.974Z"
   },
   {
    "duration": 5,
    "start_time": "2023-01-16T17:33:32.144Z"
   },
   {
    "duration": 2272,
    "start_time": "2023-01-16T17:33:32.150Z"
   },
   {
    "duration": 19,
    "start_time": "2023-01-16T17:33:34.424Z"
   },
   {
    "duration": 24,
    "start_time": "2023-01-16T17:33:34.445Z"
   },
   {
    "duration": 17,
    "start_time": "2023-01-16T17:33:34.470Z"
   },
   {
    "duration": 6,
    "start_time": "2023-01-16T17:33:34.489Z"
   },
   {
    "duration": 27,
    "start_time": "2023-01-16T17:33:34.496Z"
   },
   {
    "duration": 29,
    "start_time": "2023-01-16T17:33:34.525Z"
   },
   {
    "duration": 15,
    "start_time": "2023-01-16T17:33:34.556Z"
   },
   {
    "duration": 9,
    "start_time": "2023-01-16T17:33:34.572Z"
   },
   {
    "duration": 19,
    "start_time": "2023-01-16T17:33:34.583Z"
   },
   {
    "duration": 41,
    "start_time": "2023-01-16T17:33:34.604Z"
   },
   {
    "duration": 10,
    "start_time": "2023-01-16T17:33:34.647Z"
   },
   {
    "duration": 20,
    "start_time": "2023-01-16T17:33:34.659Z"
   },
   {
    "duration": 10,
    "start_time": "2023-01-16T17:33:34.683Z"
   },
   {
    "duration": 12,
    "start_time": "2023-01-16T17:33:34.695Z"
   },
   {
    "duration": 384,
    "start_time": "2023-01-16T17:33:34.709Z"
   },
   {
    "duration": 1773,
    "start_time": "2023-01-16T17:33:35.096Z"
   },
   {
    "duration": 129,
    "start_time": "2023-01-16T17:33:36.870Z"
   },
   {
    "duration": 168,
    "start_time": "2023-01-16T17:33:37.002Z"
   },
   {
    "duration": 156,
    "start_time": "2023-01-16T17:33:37.172Z"
   },
   {
    "duration": 169,
    "start_time": "2023-01-16T17:33:37.334Z"
   },
   {
    "duration": 7,
    "start_time": "2023-01-16T17:33:37.504Z"
   },
   {
    "duration": 130,
    "start_time": "2023-01-16T17:33:37.524Z"
   },
   {
    "duration": 21,
    "start_time": "2023-01-16T17:33:37.657Z"
   },
   {
    "duration": 1388,
    "start_time": "2023-01-16T17:33:37.679Z"
   },
   {
    "duration": 111,
    "start_time": "2023-01-16T17:33:39.069Z"
   },
   {
    "duration": 191,
    "start_time": "2023-01-16T17:33:39.181Z"
   },
   {
    "duration": 85,
    "start_time": "2023-01-16T17:34:29.804Z"
   },
   {
    "duration": 11,
    "start_time": "2023-01-16T17:36:34.106Z"
   },
   {
    "duration": 105,
    "start_time": "2023-01-16T17:41:57.649Z"
   },
   {
    "duration": 4,
    "start_time": "2023-01-16T17:42:30.239Z"
   },
   {
    "duration": 420,
    "start_time": "2023-01-16T17:42:36.743Z"
   },
   {
    "duration": 97,
    "start_time": "2023-01-16T17:42:37.165Z"
   },
   {
    "duration": 15,
    "start_time": "2023-01-16T17:42:37.264Z"
   },
   {
    "duration": 47,
    "start_time": "2023-01-16T17:42:37.281Z"
   },
   {
    "duration": 2265,
    "start_time": "2023-01-16T17:42:37.335Z"
   },
   {
    "duration": 4,
    "start_time": "2023-01-16T17:42:39.601Z"
   },
   {
    "duration": 28,
    "start_time": "2023-01-16T17:42:39.606Z"
   },
   {
    "duration": 10,
    "start_time": "2023-01-16T17:42:39.635Z"
   },
   {
    "duration": 5,
    "start_time": "2023-01-16T17:42:39.647Z"
   },
   {
    "duration": 6,
    "start_time": "2023-01-16T17:42:39.655Z"
   },
   {
    "duration": 22,
    "start_time": "2023-01-16T17:42:39.663Z"
   },
   {
    "duration": 8,
    "start_time": "2023-01-16T17:42:39.687Z"
   },
   {
    "duration": 158,
    "start_time": "2023-01-16T17:42:39.696Z"
   },
   {
    "duration": 6,
    "start_time": "2023-01-16T17:42:39.856Z"
   },
   {
    "duration": 2155,
    "start_time": "2023-01-16T17:42:39.864Z"
   },
   {
    "duration": 15,
    "start_time": "2023-01-16T17:42:42.029Z"
   },
   {
    "duration": 23,
    "start_time": "2023-01-16T17:42:42.045Z"
   },
   {
    "duration": 16,
    "start_time": "2023-01-16T17:42:42.070Z"
   },
   {
    "duration": 7,
    "start_time": "2023-01-16T17:42:42.087Z"
   },
   {
    "duration": 32,
    "start_time": "2023-01-16T17:42:42.095Z"
   },
   {
    "duration": 13,
    "start_time": "2023-01-16T17:42:42.128Z"
   },
   {
    "duration": 19,
    "start_time": "2023-01-16T17:42:42.142Z"
   },
   {
    "duration": 8,
    "start_time": "2023-01-16T17:42:42.162Z"
   },
   {
    "duration": 5,
    "start_time": "2023-01-16T17:42:42.172Z"
   },
   {
    "duration": 21,
    "start_time": "2023-01-16T17:42:42.179Z"
   },
   {
    "duration": 29,
    "start_time": "2023-01-16T17:42:42.202Z"
   },
   {
    "duration": 15,
    "start_time": "2023-01-16T17:42:42.234Z"
   },
   {
    "duration": 7,
    "start_time": "2023-01-16T17:42:42.252Z"
   },
   {
    "duration": 6,
    "start_time": "2023-01-16T17:42:42.260Z"
   },
   {
    "duration": 7,
    "start_time": "2023-01-16T17:42:42.267Z"
   },
   {
    "duration": 374,
    "start_time": "2023-01-16T17:42:42.276Z"
   },
   {
    "duration": 1819,
    "start_time": "2023-01-16T17:42:42.651Z"
   },
   {
    "duration": 135,
    "start_time": "2023-01-16T17:42:44.472Z"
   },
   {
    "duration": 149,
    "start_time": "2023-01-16T17:42:44.609Z"
   },
   {
    "duration": 135,
    "start_time": "2023-01-16T17:42:44.760Z"
   },
   {
    "duration": 190,
    "start_time": "2023-01-16T17:42:44.896Z"
   },
   {
    "duration": 9,
    "start_time": "2023-01-16T17:42:45.088Z"
   },
   {
    "duration": 153,
    "start_time": "2023-01-16T17:42:45.099Z"
   },
   {
    "duration": 18,
    "start_time": "2023-01-16T17:42:45.254Z"
   },
   {
    "duration": 1399,
    "start_time": "2023-01-16T17:42:45.274Z"
   },
   {
    "duration": 122,
    "start_time": "2023-01-16T17:42:46.675Z"
   },
   {
    "duration": 209,
    "start_time": "2023-01-16T17:42:46.799Z"
   },
   {
    "duration": 99,
    "start_time": "2023-01-16T17:44:11.217Z"
   },
   {
    "duration": 85,
    "start_time": "2023-01-16T17:44:59.388Z"
   },
   {
    "duration": 74,
    "start_time": "2023-01-16T17:45:55.474Z"
   },
   {
    "duration": 152,
    "start_time": "2023-01-16T17:50:54.262Z"
   },
   {
    "duration": 1765,
    "start_time": "2023-01-16T17:51:06.478Z"
   },
   {
    "duration": 417,
    "start_time": "2023-01-16T17:51:38.022Z"
   },
   {
    "duration": 96,
    "start_time": "2023-01-16T17:51:38.440Z"
   },
   {
    "duration": 15,
    "start_time": "2023-01-16T17:51:38.538Z"
   },
   {
    "duration": 111,
    "start_time": "2023-01-16T17:51:38.555Z"
   },
   {
    "duration": 2415,
    "start_time": "2023-01-16T17:51:38.668Z"
   },
   {
    "duration": 4,
    "start_time": "2023-01-16T17:51:41.085Z"
   },
   {
    "duration": 28,
    "start_time": "2023-01-16T17:51:41.090Z"
   },
   {
    "duration": 34,
    "start_time": "2023-01-16T17:51:41.120Z"
   },
   {
    "duration": 28,
    "start_time": "2023-01-16T17:51:41.156Z"
   },
   {
    "duration": 19,
    "start_time": "2023-01-16T17:51:41.186Z"
   },
   {
    "duration": 42,
    "start_time": "2023-01-16T17:51:41.206Z"
   },
   {
    "duration": 9,
    "start_time": "2023-01-16T17:51:41.249Z"
   },
   {
    "duration": 184,
    "start_time": "2023-01-16T17:51:41.259Z"
   },
   {
    "duration": 5,
    "start_time": "2023-01-16T17:51:41.445Z"
   },
   {
    "duration": 2144,
    "start_time": "2023-01-16T17:51:41.452Z"
   },
   {
    "duration": 10,
    "start_time": "2023-01-16T17:51:43.597Z"
   },
   {
    "duration": 34,
    "start_time": "2023-01-16T17:51:43.609Z"
   },
   {
    "duration": 17,
    "start_time": "2023-01-16T17:51:43.645Z"
   },
   {
    "duration": 6,
    "start_time": "2023-01-16T17:51:43.664Z"
   },
   {
    "duration": 7,
    "start_time": "2023-01-16T17:51:43.672Z"
   },
   {
    "duration": 17,
    "start_time": "2023-01-16T17:51:43.681Z"
   },
   {
    "duration": 28,
    "start_time": "2023-01-16T17:51:43.700Z"
   },
   {
    "duration": 13,
    "start_time": "2023-01-16T17:51:43.730Z"
   },
   {
    "duration": 6,
    "start_time": "2023-01-16T17:51:43.744Z"
   },
   {
    "duration": 23,
    "start_time": "2023-01-16T17:51:43.751Z"
   },
   {
    "duration": 11,
    "start_time": "2023-01-16T17:51:43.776Z"
   },
   {
    "duration": 37,
    "start_time": "2023-01-16T17:51:43.789Z"
   },
   {
    "duration": 10,
    "start_time": "2023-01-16T17:51:43.832Z"
   },
   {
    "duration": 7,
    "start_time": "2023-01-16T17:51:43.843Z"
   },
   {
    "duration": 8,
    "start_time": "2023-01-16T17:51:43.852Z"
   },
   {
    "duration": 432,
    "start_time": "2023-01-16T17:51:43.861Z"
   },
   {
    "duration": 1912,
    "start_time": "2023-01-16T17:51:44.295Z"
   },
   {
    "duration": 142,
    "start_time": "2023-01-16T17:51:46.209Z"
   },
   {
    "duration": 150,
    "start_time": "2023-01-16T17:51:46.353Z"
   },
   {
    "duration": 144,
    "start_time": "2023-01-16T17:51:46.504Z"
   },
   {
    "duration": 195,
    "start_time": "2023-01-16T17:51:46.652Z"
   },
   {
    "duration": 8,
    "start_time": "2023-01-16T17:51:46.848Z"
   },
   {
    "duration": 147,
    "start_time": "2023-01-16T17:51:46.857Z"
   },
   {
    "duration": 32,
    "start_time": "2023-01-16T17:51:47.006Z"
   },
   {
    "duration": 1498,
    "start_time": "2023-01-16T17:51:47.040Z"
   },
   {
    "duration": 110,
    "start_time": "2023-01-16T17:51:48.540Z"
   },
   {
    "duration": 199,
    "start_time": "2023-01-16T17:51:48.652Z"
   },
   {
    "duration": 3,
    "start_time": "2023-01-16T17:54:56.708Z"
   },
   {
    "duration": 9,
    "start_time": "2023-01-16T17:55:51.039Z"
   },
   {
    "duration": 143,
    "start_time": "2023-01-16T18:03:18.997Z"
   },
   {
    "duration": 134,
    "start_time": "2023-01-16T18:03:37.872Z"
   },
   {
    "duration": 137,
    "start_time": "2023-01-16T18:03:42.106Z"
   },
   {
    "duration": 144,
    "start_time": "2023-01-16T18:03:50.012Z"
   },
   {
    "duration": 194,
    "start_time": "2023-01-16T18:05:34.253Z"
   },
   {
    "duration": 255,
    "start_time": "2023-01-16T18:06:02.907Z"
   },
   {
    "duration": 141,
    "start_time": "2023-01-16T18:06:08.511Z"
   },
   {
    "duration": 133,
    "start_time": "2023-01-16T18:06:35.050Z"
   },
   {
    "duration": 128,
    "start_time": "2023-01-16T18:06:45.450Z"
   },
   {
    "duration": 141,
    "start_time": "2023-01-16T18:07:12.848Z"
   },
   {
    "duration": 140,
    "start_time": "2023-01-16T18:07:20.007Z"
   },
   {
    "duration": 160,
    "start_time": "2023-01-16T18:07:49.666Z"
   },
   {
    "duration": 140,
    "start_time": "2023-01-16T18:08:42.922Z"
   },
   {
    "duration": 139,
    "start_time": "2023-01-16T18:08:59.100Z"
   },
   {
    "duration": 150,
    "start_time": "2023-01-16T18:09:18.594Z"
   },
   {
    "duration": 159,
    "start_time": "2023-01-16T18:09:36.513Z"
   },
   {
    "duration": 230,
    "start_time": "2023-01-16T18:10:15.000Z"
   },
   {
    "duration": 133,
    "start_time": "2023-01-16T18:22:50.646Z"
   },
   {
    "duration": 103,
    "start_time": "2023-01-16T18:23:08.990Z"
   },
   {
    "duration": 135,
    "start_time": "2023-01-16T18:23:55.318Z"
   },
   {
    "duration": 19,
    "start_time": "2023-01-16T18:24:07.942Z"
   },
   {
    "duration": 110,
    "start_time": "2023-01-16T18:24:49.768Z"
   },
   {
    "duration": 124,
    "start_time": "2023-01-16T18:24:55.435Z"
   },
   {
    "duration": 191,
    "start_time": "2023-01-16T18:34:11.001Z"
   },
   {
    "duration": 174,
    "start_time": "2023-01-16T18:34:37.386Z"
   },
   {
    "duration": 197,
    "start_time": "2023-01-16T18:35:27.047Z"
   },
   {
    "duration": 241,
    "start_time": "2023-01-16T18:37:14.198Z"
   },
   {
    "duration": 212,
    "start_time": "2023-01-16T18:37:42.616Z"
   },
   {
    "duration": 188,
    "start_time": "2023-01-16T18:38:06.885Z"
   },
   {
    "duration": 217,
    "start_time": "2023-01-16T18:38:34.983Z"
   },
   {
    "duration": 836,
    "start_time": "2023-01-16T18:40:33.995Z"
   },
   {
    "duration": 118,
    "start_time": "2023-01-16T18:40:34.839Z"
   },
   {
    "duration": 26,
    "start_time": "2023-01-16T18:40:34.959Z"
   },
   {
    "duration": 42,
    "start_time": "2023-01-16T18:40:34.987Z"
   },
   {
    "duration": 2340,
    "start_time": "2023-01-16T18:40:35.031Z"
   },
   {
    "duration": 3,
    "start_time": "2023-01-16T18:40:37.374Z"
   },
   {
    "duration": 13,
    "start_time": "2023-01-16T18:40:37.379Z"
   },
   {
    "duration": 8,
    "start_time": "2023-01-16T18:40:37.394Z"
   },
   {
    "duration": 7,
    "start_time": "2023-01-16T18:40:37.404Z"
   },
   {
    "duration": 8,
    "start_time": "2023-01-16T18:40:37.412Z"
   },
   {
    "duration": 53,
    "start_time": "2023-01-16T18:40:37.431Z"
   },
   {
    "duration": 8,
    "start_time": "2023-01-16T18:40:37.486Z"
   },
   {
    "duration": 167,
    "start_time": "2023-01-16T18:40:37.496Z"
   },
   {
    "duration": 5,
    "start_time": "2023-01-16T18:40:37.666Z"
   },
   {
    "duration": 2373,
    "start_time": "2023-01-16T18:40:37.674Z"
   },
   {
    "duration": 21,
    "start_time": "2023-01-16T18:40:40.048Z"
   },
   {
    "duration": 25,
    "start_time": "2023-01-16T18:40:40.071Z"
   },
   {
    "duration": 36,
    "start_time": "2023-01-16T18:40:40.097Z"
   },
   {
    "duration": 31,
    "start_time": "2023-01-16T18:40:40.135Z"
   },
   {
    "duration": 32,
    "start_time": "2023-01-16T18:40:40.168Z"
   },
   {
    "duration": 83,
    "start_time": "2023-01-16T18:40:40.203Z"
   },
   {
    "duration": 43,
    "start_time": "2023-01-16T18:40:40.288Z"
   },
   {
    "duration": 47,
    "start_time": "2023-01-16T18:40:40.333Z"
   },
   {
    "duration": 9,
    "start_time": "2023-01-16T18:40:40.383Z"
   },
   {
    "duration": 49,
    "start_time": "2023-01-16T18:40:40.394Z"
   },
   {
    "duration": 46,
    "start_time": "2023-01-16T18:40:40.444Z"
   },
   {
    "duration": 15,
    "start_time": "2023-01-16T18:40:40.492Z"
   },
   {
    "duration": 51,
    "start_time": "2023-01-16T18:40:40.509Z"
   },
   {
    "duration": 18,
    "start_time": "2023-01-16T18:40:40.563Z"
   },
   {
    "duration": 21,
    "start_time": "2023-01-16T18:40:40.584Z"
   },
   {
    "duration": 478,
    "start_time": "2023-01-16T18:40:40.608Z"
   },
   {
    "duration": 1889,
    "start_time": "2023-01-16T18:40:41.088Z"
   },
   {
    "duration": 170,
    "start_time": "2023-01-16T18:40:42.979Z"
   },
   {
    "duration": 174,
    "start_time": "2023-01-16T18:40:43.151Z"
   },
   {
    "duration": 162,
    "start_time": "2023-01-16T18:40:43.327Z"
   },
   {
    "duration": 222,
    "start_time": "2023-01-16T18:40:43.491Z"
   },
   {
    "duration": 17,
    "start_time": "2023-01-16T18:40:43.716Z"
   },
   {
    "duration": 168,
    "start_time": "2023-01-16T18:40:43.737Z"
   },
   {
    "duration": 389,
    "start_time": "2023-01-16T18:40:52.771Z"
   },
   {
    "duration": 244,
    "start_time": "2023-01-16T18:41:53.551Z"
   },
   {
    "duration": 16,
    "start_time": "2023-01-16T18:42:21.199Z"
   },
   {
    "duration": 675,
    "start_time": "2023-01-16T18:42:40.090Z"
   },
   {
    "duration": 98,
    "start_time": "2023-01-16T18:42:40.767Z"
   },
   {
    "duration": 17,
    "start_time": "2023-01-16T18:42:40.867Z"
   },
   {
    "duration": 48,
    "start_time": "2023-01-16T18:42:40.885Z"
   },
   {
    "duration": 2153,
    "start_time": "2023-01-16T18:42:40.934Z"
   },
   {
    "duration": 4,
    "start_time": "2023-01-16T18:42:43.089Z"
   },
   {
    "duration": 68,
    "start_time": "2023-01-16T18:42:43.095Z"
   },
   {
    "duration": 15,
    "start_time": "2023-01-16T18:42:43.165Z"
   },
   {
    "duration": 29,
    "start_time": "2023-01-16T18:42:43.182Z"
   },
   {
    "duration": 46,
    "start_time": "2023-01-16T18:42:43.214Z"
   },
   {
    "duration": 47,
    "start_time": "2023-01-16T18:42:43.262Z"
   },
   {
    "duration": 21,
    "start_time": "2023-01-16T18:42:43.311Z"
   },
   {
    "duration": 176,
    "start_time": "2023-01-16T18:42:43.333Z"
   },
   {
    "duration": 5,
    "start_time": "2023-01-16T18:42:43.511Z"
   },
   {
    "duration": 2311,
    "start_time": "2023-01-16T18:42:43.517Z"
   },
   {
    "duration": 24,
    "start_time": "2023-01-16T18:42:45.830Z"
   },
   {
    "duration": 50,
    "start_time": "2023-01-16T18:42:45.856Z"
   },
   {
    "duration": 20,
    "start_time": "2023-01-16T18:42:45.908Z"
   },
   {
    "duration": 25,
    "start_time": "2023-01-16T18:42:45.933Z"
   },
   {
    "duration": 32,
    "start_time": "2023-01-16T18:42:45.960Z"
   },
   {
    "duration": 23,
    "start_time": "2023-01-16T18:42:45.995Z"
   },
   {
    "duration": 51,
    "start_time": "2023-01-16T18:42:46.019Z"
   },
   {
    "duration": 21,
    "start_time": "2023-01-16T18:42:46.072Z"
   },
   {
    "duration": 14,
    "start_time": "2023-01-16T18:42:46.095Z"
   },
   {
    "duration": 64,
    "start_time": "2023-01-16T18:42:46.111Z"
   },
   {
    "duration": 12,
    "start_time": "2023-01-16T18:42:46.177Z"
   },
   {
    "duration": 25,
    "start_time": "2023-01-16T18:42:46.191Z"
   },
   {
    "duration": 42,
    "start_time": "2023-01-16T18:42:46.220Z"
   },
   {
    "duration": 29,
    "start_time": "2023-01-16T18:42:46.263Z"
   },
   {
    "duration": 8,
    "start_time": "2023-01-16T18:42:46.294Z"
   },
   {
    "duration": 397,
    "start_time": "2023-01-16T18:42:46.304Z"
   },
   {
    "duration": 1841,
    "start_time": "2023-01-16T18:42:46.703Z"
   },
   {
    "duration": 135,
    "start_time": "2023-01-16T18:42:48.551Z"
   },
   {
    "duration": 183,
    "start_time": "2023-01-16T18:42:48.688Z"
   },
   {
    "duration": 159,
    "start_time": "2023-01-16T18:42:48.873Z"
   },
   {
    "duration": 212,
    "start_time": "2023-01-16T18:42:49.036Z"
   },
   {
    "duration": 12,
    "start_time": "2023-01-16T18:42:49.259Z"
   },
   {
    "duration": 176,
    "start_time": "2023-01-16T18:42:49.273Z"
   },
   {
    "duration": 95,
    "start_time": "2023-01-16T18:42:49.451Z"
   },
   {
    "duration": 0,
    "start_time": "2023-01-16T18:42:49.553Z"
   },
   {
    "duration": 0,
    "start_time": "2023-01-16T18:42:49.553Z"
   },
   {
    "duration": 0,
    "start_time": "2023-01-16T18:42:49.554Z"
   },
   {
    "duration": 0,
    "start_time": "2023-01-16T18:42:49.555Z"
   },
   {
    "duration": 227,
    "start_time": "2023-01-16T18:43:04.367Z"
   },
   {
    "duration": 206,
    "start_time": "2023-01-16T18:43:43.250Z"
   },
   {
    "duration": 200,
    "start_time": "2023-01-16T18:44:28.410Z"
   },
   {
    "duration": 205,
    "start_time": "2023-01-16T18:44:33.252Z"
   },
   {
    "duration": 209,
    "start_time": "2023-01-16T18:44:53.652Z"
   },
   {
    "duration": 204,
    "start_time": "2023-01-16T18:45:20.699Z"
   },
   {
    "duration": 646,
    "start_time": "2023-01-16T18:45:25.966Z"
   },
   {
    "duration": 106,
    "start_time": "2023-01-16T18:45:26.614Z"
   },
   {
    "duration": 25,
    "start_time": "2023-01-16T18:45:26.721Z"
   },
   {
    "duration": 38,
    "start_time": "2023-01-16T18:45:26.749Z"
   },
   {
    "duration": 2094,
    "start_time": "2023-01-16T18:45:26.789Z"
   },
   {
    "duration": 4,
    "start_time": "2023-01-16T18:45:28.885Z"
   },
   {
    "duration": 13,
    "start_time": "2023-01-16T18:45:28.891Z"
   },
   {
    "duration": 6,
    "start_time": "2023-01-16T18:45:28.905Z"
   },
   {
    "duration": 5,
    "start_time": "2023-01-16T18:45:28.913Z"
   },
   {
    "duration": 32,
    "start_time": "2023-01-16T18:45:28.919Z"
   },
   {
    "duration": 26,
    "start_time": "2023-01-16T18:45:28.952Z"
   },
   {
    "duration": 7,
    "start_time": "2023-01-16T18:45:28.980Z"
   },
   {
    "duration": 145,
    "start_time": "2023-01-16T18:45:28.989Z"
   },
   {
    "duration": 14,
    "start_time": "2023-01-16T18:45:29.142Z"
   },
   {
    "duration": 2241,
    "start_time": "2023-01-16T18:45:29.157Z"
   },
   {
    "duration": 11,
    "start_time": "2023-01-16T18:45:31.400Z"
   },
   {
    "duration": 43,
    "start_time": "2023-01-16T18:45:31.413Z"
   },
   {
    "duration": 17,
    "start_time": "2023-01-16T18:45:31.458Z"
   },
   {
    "duration": 6,
    "start_time": "2023-01-16T18:45:31.477Z"
   },
   {
    "duration": 7,
    "start_time": "2023-01-16T18:45:31.485Z"
   },
   {
    "duration": 12,
    "start_time": "2023-01-16T18:45:31.493Z"
   },
   {
    "duration": 36,
    "start_time": "2023-01-16T18:45:31.507Z"
   },
   {
    "duration": 16,
    "start_time": "2023-01-16T18:45:31.551Z"
   },
   {
    "duration": 7,
    "start_time": "2023-01-16T18:45:31.569Z"
   },
   {
    "duration": 24,
    "start_time": "2023-01-16T18:45:31.578Z"
   },
   {
    "duration": 12,
    "start_time": "2023-01-16T18:45:31.604Z"
   },
   {
    "duration": 15,
    "start_time": "2023-01-16T18:45:31.622Z"
   },
   {
    "duration": 27,
    "start_time": "2023-01-16T18:45:31.640Z"
   },
   {
    "duration": 5,
    "start_time": "2023-01-16T18:45:31.669Z"
   },
   {
    "duration": 17,
    "start_time": "2023-01-16T18:45:31.676Z"
   },
   {
    "duration": 374,
    "start_time": "2023-01-16T18:45:31.695Z"
   },
   {
    "duration": 1835,
    "start_time": "2023-01-16T18:45:32.071Z"
   },
   {
    "duration": 155,
    "start_time": "2023-01-16T18:45:33.907Z"
   },
   {
    "duration": 201,
    "start_time": "2023-01-16T18:45:34.064Z"
   },
   {
    "duration": 203,
    "start_time": "2023-01-16T18:45:34.268Z"
   },
   {
    "duration": 208,
    "start_time": "2023-01-16T18:45:34.473Z"
   },
   {
    "duration": 7,
    "start_time": "2023-01-16T18:45:34.683Z"
   },
   {
    "duration": 161,
    "start_time": "2023-01-16T18:45:34.692Z"
   },
   {
    "duration": 313,
    "start_time": "2023-01-16T18:45:34.857Z"
   },
   {
    "duration": 18,
    "start_time": "2023-01-16T18:45:35.171Z"
   },
   {
    "duration": 1303,
    "start_time": "2023-01-16T18:45:35.193Z"
   },
   {
    "duration": 116,
    "start_time": "2023-01-16T18:45:36.498Z"
   },
   {
    "duration": 202,
    "start_time": "2023-01-16T18:45:36.615Z"
   },
   {
    "duration": 10,
    "start_time": "2023-01-16T19:00:17.484Z"
   },
   {
    "duration": 8,
    "start_time": "2023-01-16T19:00:22.042Z"
   },
   {
    "duration": 754,
    "start_time": "2023-01-16T19:00:29.293Z"
   },
   {
    "duration": 0,
    "start_time": "2023-01-16T19:00:30.051Z"
   },
   {
    "duration": 0,
    "start_time": "2023-01-16T19:00:30.053Z"
   },
   {
    "duration": 0,
    "start_time": "2023-01-16T19:00:30.054Z"
   },
   {
    "duration": 0,
    "start_time": "2023-01-16T19:00:30.056Z"
   },
   {
    "duration": 0,
    "start_time": "2023-01-16T19:00:30.057Z"
   },
   {
    "duration": 0,
    "start_time": "2023-01-16T19:00:30.058Z"
   },
   {
    "duration": 0,
    "start_time": "2023-01-16T19:00:30.059Z"
   },
   {
    "duration": 0,
    "start_time": "2023-01-16T19:00:30.061Z"
   },
   {
    "duration": 0,
    "start_time": "2023-01-16T19:00:30.061Z"
   },
   {
    "duration": 0,
    "start_time": "2023-01-16T19:00:30.062Z"
   },
   {
    "duration": 0,
    "start_time": "2023-01-16T19:00:30.064Z"
   },
   {
    "duration": 0,
    "start_time": "2023-01-16T19:00:30.065Z"
   },
   {
    "duration": 0,
    "start_time": "2023-01-16T19:00:30.066Z"
   },
   {
    "duration": 0,
    "start_time": "2023-01-16T19:00:30.068Z"
   },
   {
    "duration": 0,
    "start_time": "2023-01-16T19:00:30.069Z"
   },
   {
    "duration": 0,
    "start_time": "2023-01-16T19:00:30.071Z"
   },
   {
    "duration": 0,
    "start_time": "2023-01-16T19:00:30.072Z"
   },
   {
    "duration": 0,
    "start_time": "2023-01-16T19:00:30.073Z"
   },
   {
    "duration": 0,
    "start_time": "2023-01-16T19:00:30.074Z"
   },
   {
    "duration": 0,
    "start_time": "2023-01-16T19:00:30.076Z"
   },
   {
    "duration": 0,
    "start_time": "2023-01-16T19:00:30.077Z"
   },
   {
    "duration": 0,
    "start_time": "2023-01-16T19:00:30.123Z"
   },
   {
    "duration": 0,
    "start_time": "2023-01-16T19:00:30.124Z"
   },
   {
    "duration": 0,
    "start_time": "2023-01-16T19:00:30.125Z"
   },
   {
    "duration": 0,
    "start_time": "2023-01-16T19:00:30.125Z"
   },
   {
    "duration": 0,
    "start_time": "2023-01-16T19:00:30.130Z"
   },
   {
    "duration": 0,
    "start_time": "2023-01-16T19:00:30.131Z"
   },
   {
    "duration": 0,
    "start_time": "2023-01-16T19:00:30.132Z"
   },
   {
    "duration": 0,
    "start_time": "2023-01-16T19:00:30.132Z"
   },
   {
    "duration": 0,
    "start_time": "2023-01-16T19:00:30.133Z"
   },
   {
    "duration": 0,
    "start_time": "2023-01-16T19:00:30.134Z"
   },
   {
    "duration": 0,
    "start_time": "2023-01-16T19:00:30.135Z"
   },
   {
    "duration": 0,
    "start_time": "2023-01-16T19:00:30.136Z"
   },
   {
    "duration": 0,
    "start_time": "2023-01-16T19:00:30.137Z"
   },
   {
    "duration": 0,
    "start_time": "2023-01-16T19:00:30.138Z"
   },
   {
    "duration": 0,
    "start_time": "2023-01-16T19:00:30.139Z"
   },
   {
    "duration": 0,
    "start_time": "2023-01-16T19:00:30.140Z"
   },
   {
    "duration": 0,
    "start_time": "2023-01-16T19:00:30.141Z"
   },
   {
    "duration": 0,
    "start_time": "2023-01-16T19:00:30.141Z"
   },
   {
    "duration": 0,
    "start_time": "2023-01-16T19:00:30.142Z"
   },
   {
    "duration": 0,
    "start_time": "2023-01-16T19:00:30.143Z"
   },
   {
    "duration": 0,
    "start_time": "2023-01-16T19:00:30.144Z"
   },
   {
    "duration": 0,
    "start_time": "2023-01-16T19:00:30.145Z"
   },
   {
    "duration": 12,
    "start_time": "2023-01-16T19:00:58.177Z"
   },
   {
    "duration": 0,
    "start_time": "2023-01-16T19:00:58.191Z"
   },
   {
    "duration": 21,
    "start_time": "2023-01-16T19:00:58.194Z"
   },
   {
    "duration": 0,
    "start_time": "2023-01-16T19:00:58.218Z"
   },
   {
    "duration": 0,
    "start_time": "2023-01-16T19:00:58.219Z"
   },
   {
    "duration": 0,
    "start_time": "2023-01-16T19:00:58.221Z"
   },
   {
    "duration": 0,
    "start_time": "2023-01-16T19:00:58.221Z"
   },
   {
    "duration": 56,
    "start_time": "2023-01-16T19:00:58.223Z"
   },
   {
    "duration": 0,
    "start_time": "2023-01-16T19:00:58.281Z"
   },
   {
    "duration": 0,
    "start_time": "2023-01-16T19:00:58.282Z"
   },
   {
    "duration": 0,
    "start_time": "2023-01-16T19:00:58.283Z"
   },
   {
    "duration": 0,
    "start_time": "2023-01-16T19:00:58.284Z"
   },
   {
    "duration": 0,
    "start_time": "2023-01-16T19:00:58.285Z"
   },
   {
    "duration": 0,
    "start_time": "2023-01-16T19:00:58.286Z"
   },
   {
    "duration": 0,
    "start_time": "2023-01-16T19:00:58.287Z"
   },
   {
    "duration": 0,
    "start_time": "2023-01-16T19:00:58.289Z"
   },
   {
    "duration": 0,
    "start_time": "2023-01-16T19:00:58.290Z"
   },
   {
    "duration": 0,
    "start_time": "2023-01-16T19:00:58.291Z"
   },
   {
    "duration": 27,
    "start_time": "2023-01-16T19:00:58.293Z"
   },
   {
    "duration": 0,
    "start_time": "2023-01-16T19:00:58.324Z"
   },
   {
    "duration": 0,
    "start_time": "2023-01-16T19:00:58.328Z"
   },
   {
    "duration": 0,
    "start_time": "2023-01-16T19:00:58.330Z"
   },
   {
    "duration": 0,
    "start_time": "2023-01-16T19:00:58.331Z"
   },
   {
    "duration": 0,
    "start_time": "2023-01-16T19:00:58.332Z"
   },
   {
    "duration": 0,
    "start_time": "2023-01-16T19:00:58.332Z"
   },
   {
    "duration": 0,
    "start_time": "2023-01-16T19:00:58.333Z"
   },
   {
    "duration": 0,
    "start_time": "2023-01-16T19:00:58.334Z"
   },
   {
    "duration": 27,
    "start_time": "2023-01-16T19:00:58.348Z"
   },
   {
    "duration": 0,
    "start_time": "2023-01-16T19:00:58.377Z"
   },
   {
    "duration": 0,
    "start_time": "2023-01-16T19:00:58.379Z"
   },
   {
    "duration": 0,
    "start_time": "2023-01-16T19:00:58.381Z"
   },
   {
    "duration": 0,
    "start_time": "2023-01-16T19:00:58.382Z"
   },
   {
    "duration": 0,
    "start_time": "2023-01-16T19:00:58.384Z"
   },
   {
    "duration": 0,
    "start_time": "2023-01-16T19:00:58.385Z"
   },
   {
    "duration": 1,
    "start_time": "2023-01-16T19:00:58.386Z"
   },
   {
    "duration": 71,
    "start_time": "2023-01-16T19:00:58.389Z"
   },
   {
    "duration": 0,
    "start_time": "2023-01-16T19:00:58.462Z"
   },
   {
    "duration": 0,
    "start_time": "2023-01-16T19:00:58.464Z"
   },
   {
    "duration": 0,
    "start_time": "2023-01-16T19:00:58.465Z"
   },
   {
    "duration": 0,
    "start_time": "2023-01-16T19:00:58.467Z"
   },
   {
    "duration": 0,
    "start_time": "2023-01-16T19:00:58.468Z"
   },
   {
    "duration": 0,
    "start_time": "2023-01-16T19:00:58.470Z"
   },
   {
    "duration": 0,
    "start_time": "2023-01-16T19:00:58.471Z"
   },
   {
    "duration": 0,
    "start_time": "2023-01-16T19:00:58.472Z"
   },
   {
    "duration": 841,
    "start_time": "2023-01-16T19:01:35.771Z"
   },
   {
    "duration": 0,
    "start_time": "2023-01-16T19:01:36.631Z"
   },
   {
    "duration": 0,
    "start_time": "2023-01-16T19:01:36.632Z"
   },
   {
    "duration": 0,
    "start_time": "2023-01-16T19:01:36.632Z"
   },
   {
    "duration": 0,
    "start_time": "2023-01-16T19:01:36.633Z"
   },
   {
    "duration": 0,
    "start_time": "2023-01-16T19:01:36.634Z"
   },
   {
    "duration": 0,
    "start_time": "2023-01-16T19:01:36.634Z"
   },
   {
    "duration": 0,
    "start_time": "2023-01-16T19:01:36.636Z"
   },
   {
    "duration": 0,
    "start_time": "2023-01-16T19:01:36.637Z"
   },
   {
    "duration": 0,
    "start_time": "2023-01-16T19:01:36.638Z"
   },
   {
    "duration": 0,
    "start_time": "2023-01-16T19:01:36.639Z"
   },
   {
    "duration": 0,
    "start_time": "2023-01-16T19:01:36.640Z"
   },
   {
    "duration": 0,
    "start_time": "2023-01-16T19:01:36.641Z"
   },
   {
    "duration": 0,
    "start_time": "2023-01-16T19:01:36.642Z"
   },
   {
    "duration": 0,
    "start_time": "2023-01-16T19:01:36.644Z"
   },
   {
    "duration": 0,
    "start_time": "2023-01-16T19:01:36.645Z"
   },
   {
    "duration": 0,
    "start_time": "2023-01-16T19:01:36.646Z"
   },
   {
    "duration": 0,
    "start_time": "2023-01-16T19:01:36.648Z"
   },
   {
    "duration": 0,
    "start_time": "2023-01-16T19:01:36.648Z"
   },
   {
    "duration": 0,
    "start_time": "2023-01-16T19:01:36.650Z"
   },
   {
    "duration": 0,
    "start_time": "2023-01-16T19:01:36.651Z"
   },
   {
    "duration": 1,
    "start_time": "2023-01-16T19:01:36.652Z"
   },
   {
    "duration": 0,
    "start_time": "2023-01-16T19:01:36.654Z"
   },
   {
    "duration": 0,
    "start_time": "2023-01-16T19:01:36.655Z"
   },
   {
    "duration": 0,
    "start_time": "2023-01-16T19:01:36.656Z"
   },
   {
    "duration": 0,
    "start_time": "2023-01-16T19:01:36.658Z"
   },
   {
    "duration": 0,
    "start_time": "2023-01-16T19:01:36.659Z"
   },
   {
    "duration": 0,
    "start_time": "2023-01-16T19:01:36.661Z"
   },
   {
    "duration": 0,
    "start_time": "2023-01-16T19:01:36.662Z"
   },
   {
    "duration": 0,
    "start_time": "2023-01-16T19:01:36.663Z"
   },
   {
    "duration": 0,
    "start_time": "2023-01-16T19:01:36.665Z"
   },
   {
    "duration": 0,
    "start_time": "2023-01-16T19:01:36.666Z"
   },
   {
    "duration": 0,
    "start_time": "2023-01-16T19:01:36.667Z"
   },
   {
    "duration": 0,
    "start_time": "2023-01-16T19:01:36.668Z"
   },
   {
    "duration": 0,
    "start_time": "2023-01-16T19:01:36.669Z"
   },
   {
    "duration": 0,
    "start_time": "2023-01-16T19:01:36.670Z"
   },
   {
    "duration": 0,
    "start_time": "2023-01-16T19:01:36.671Z"
   },
   {
    "duration": 0,
    "start_time": "2023-01-16T19:01:36.673Z"
   },
   {
    "duration": 0,
    "start_time": "2023-01-16T19:01:36.674Z"
   },
   {
    "duration": 0,
    "start_time": "2023-01-16T19:01:36.722Z"
   },
   {
    "duration": 0,
    "start_time": "2023-01-16T19:01:36.722Z"
   },
   {
    "duration": 0,
    "start_time": "2023-01-16T19:01:36.723Z"
   },
   {
    "duration": 0,
    "start_time": "2023-01-16T19:01:36.724Z"
   },
   {
    "duration": 0,
    "start_time": "2023-01-16T19:01:36.724Z"
   },
   {
    "duration": 541,
    "start_time": "2023-01-16T19:01:58.304Z"
   },
   {
    "duration": 1226,
    "start_time": "2023-01-16T19:02:05.013Z"
   },
   {
    "duration": 86,
    "start_time": "2023-01-16T19:02:06.241Z"
   },
   {
    "duration": 16,
    "start_time": "2023-01-16T19:02:06.335Z"
   },
   {
    "duration": 38,
    "start_time": "2023-01-16T19:02:06.353Z"
   },
   {
    "duration": 2203,
    "start_time": "2023-01-16T19:02:06.392Z"
   },
   {
    "duration": 4,
    "start_time": "2023-01-16T19:02:08.597Z"
   },
   {
    "duration": 13,
    "start_time": "2023-01-16T19:02:08.602Z"
   },
   {
    "duration": 15,
    "start_time": "2023-01-16T19:02:08.616Z"
   },
   {
    "duration": 12,
    "start_time": "2023-01-16T19:02:08.636Z"
   },
   {
    "duration": 7,
    "start_time": "2023-01-16T19:02:08.651Z"
   },
   {
    "duration": 21,
    "start_time": "2023-01-16T19:02:08.660Z"
   },
   {
    "duration": 8,
    "start_time": "2023-01-16T19:02:08.683Z"
   },
   {
    "duration": 159,
    "start_time": "2023-01-16T19:02:08.692Z"
   },
   {
    "duration": 5,
    "start_time": "2023-01-16T19:02:08.853Z"
   },
   {
    "duration": 2229,
    "start_time": "2023-01-16T19:02:08.860Z"
   },
   {
    "duration": 12,
    "start_time": "2023-01-16T19:02:11.091Z"
   },
   {
    "duration": 59,
    "start_time": "2023-01-16T19:02:11.105Z"
   },
   {
    "duration": 24,
    "start_time": "2023-01-16T19:02:11.167Z"
   },
   {
    "duration": 18,
    "start_time": "2023-01-16T19:02:11.193Z"
   },
   {
    "duration": 46,
    "start_time": "2023-01-16T19:02:11.213Z"
   },
   {
    "duration": 25,
    "start_time": "2023-01-16T19:02:11.260Z"
   },
   {
    "duration": 44,
    "start_time": "2023-01-16T19:02:11.287Z"
   },
   {
    "duration": 24,
    "start_time": "2023-01-16T19:02:11.336Z"
   },
   {
    "duration": 11,
    "start_time": "2023-01-16T19:02:11.361Z"
   },
   {
    "duration": 37,
    "start_time": "2023-01-16T19:02:11.374Z"
   },
   {
    "duration": 56,
    "start_time": "2023-01-16T19:02:11.412Z"
   },
   {
    "duration": 15,
    "start_time": "2023-01-16T19:02:11.470Z"
   },
   {
    "duration": 10,
    "start_time": "2023-01-16T19:02:11.490Z"
   },
   {
    "duration": 16,
    "start_time": "2023-01-16T19:02:11.502Z"
   },
   {
    "duration": 38,
    "start_time": "2023-01-16T19:02:11.521Z"
   },
   {
    "duration": 517,
    "start_time": "2023-01-16T19:02:11.562Z"
   },
   {
    "duration": 1906,
    "start_time": "2023-01-16T19:02:12.080Z"
   },
   {
    "duration": 173,
    "start_time": "2023-01-16T19:02:13.988Z"
   },
   {
    "duration": 201,
    "start_time": "2023-01-16T19:02:14.163Z"
   },
   {
    "duration": 176,
    "start_time": "2023-01-16T19:02:14.366Z"
   },
   {
    "duration": 198,
    "start_time": "2023-01-16T19:02:14.544Z"
   },
   {
    "duration": 8,
    "start_time": "2023-01-16T19:02:14.745Z"
   },
   {
    "duration": 142,
    "start_time": "2023-01-16T19:02:14.755Z"
   },
   {
    "duration": 218,
    "start_time": "2023-01-16T19:02:14.899Z"
   },
   {
    "duration": 19,
    "start_time": "2023-01-16T19:02:15.126Z"
   },
   {
    "duration": 1465,
    "start_time": "2023-01-16T19:02:15.147Z"
   },
   {
    "duration": 1452,
    "start_time": "2023-01-16T19:05:23.347Z"
   },
   {
    "duration": 123,
    "start_time": "2023-01-16T19:05:24.801Z"
   },
   {
    "duration": 25,
    "start_time": "2023-01-16T19:05:24.927Z"
   },
   {
    "duration": 64,
    "start_time": "2023-01-16T19:05:24.956Z"
   },
   {
    "duration": 2548,
    "start_time": "2023-01-16T19:05:25.023Z"
   },
   {
    "duration": 4,
    "start_time": "2023-01-16T19:05:27.573Z"
   },
   {
    "duration": 24,
    "start_time": "2023-01-16T19:05:27.579Z"
   },
   {
    "duration": 27,
    "start_time": "2023-01-16T19:05:27.604Z"
   },
   {
    "duration": 68,
    "start_time": "2023-01-16T19:05:27.632Z"
   },
   {
    "duration": 19,
    "start_time": "2023-01-16T19:05:27.703Z"
   },
   {
    "duration": 66,
    "start_time": "2023-01-16T19:05:27.729Z"
   },
   {
    "duration": 14,
    "start_time": "2023-01-16T19:05:27.797Z"
   },
   {
    "duration": 188,
    "start_time": "2023-01-16T19:05:27.813Z"
   },
   {
    "duration": 5,
    "start_time": "2023-01-16T19:05:28.003Z"
   },
   {
    "duration": 2455,
    "start_time": "2023-01-16T19:05:28.009Z"
   },
   {
    "duration": 10,
    "start_time": "2023-01-16T19:05:30.466Z"
   },
   {
    "duration": 70,
    "start_time": "2023-01-16T19:05:30.478Z"
   },
   {
    "duration": 40,
    "start_time": "2023-01-16T19:05:30.550Z"
   },
   {
    "duration": 23,
    "start_time": "2023-01-16T19:05:30.592Z"
   },
   {
    "duration": 46,
    "start_time": "2023-01-16T19:05:30.617Z"
   },
   {
    "duration": 36,
    "start_time": "2023-01-16T19:05:30.665Z"
   },
   {
    "duration": 75,
    "start_time": "2023-01-16T19:05:30.703Z"
   },
   {
    "duration": 31,
    "start_time": "2023-01-16T19:05:30.779Z"
   },
   {
    "duration": 60,
    "start_time": "2023-01-16T19:05:30.812Z"
   },
   {
    "duration": 38,
    "start_time": "2023-01-16T19:05:30.875Z"
   },
   {
    "duration": 52,
    "start_time": "2023-01-16T19:05:30.915Z"
   },
   {
    "duration": 14,
    "start_time": "2023-01-16T19:05:30.969Z"
   },
   {
    "duration": 12,
    "start_time": "2023-01-16T19:05:30.987Z"
   },
   {
    "duration": 16,
    "start_time": "2023-01-16T19:05:31.000Z"
   },
   {
    "duration": 47,
    "start_time": "2023-01-16T19:05:31.017Z"
   },
   {
    "duration": 405,
    "start_time": "2023-01-16T19:05:31.066Z"
   },
   {
    "duration": 2025,
    "start_time": "2023-01-16T19:05:31.473Z"
   },
   {
    "duration": 216,
    "start_time": "2023-01-16T19:05:33.501Z"
   },
   {
    "duration": 224,
    "start_time": "2023-01-16T19:05:33.722Z"
   },
   {
    "duration": 215,
    "start_time": "2023-01-16T19:05:33.948Z"
   },
   {
    "duration": 226,
    "start_time": "2023-01-16T19:05:34.166Z"
   },
   {
    "duration": 7,
    "start_time": "2023-01-16T19:05:34.394Z"
   },
   {
    "duration": 251,
    "start_time": "2023-01-16T19:05:34.404Z"
   },
   {
    "duration": 245,
    "start_time": "2023-01-16T19:05:34.657Z"
   },
   {
    "duration": 19,
    "start_time": "2023-01-16T19:05:34.904Z"
   },
   {
    "duration": 1491,
    "start_time": "2023-01-16T19:05:34.924Z"
   },
   {
    "duration": 723,
    "start_time": "2023-01-16T19:05:36.421Z"
   },
   {
    "duration": 177,
    "start_time": "2023-01-16T19:05:37.154Z"
   },
   {
    "duration": 216,
    "start_time": "2023-01-16T19:05:37.344Z"
   },
   {
    "duration": 1927,
    "start_time": "2023-01-16T19:06:50.850Z"
   },
   {
    "duration": 1985,
    "start_time": "2023-01-16T19:07:05.691Z"
   },
   {
    "duration": 13660,
    "start_time": "2023-01-16T19:08:24.861Z"
   },
   {
    "duration": 2972,
    "start_time": "2023-01-16T19:09:05.436Z"
   },
   {
    "duration": 7385,
    "start_time": "2023-01-16T19:10:06.578Z"
   },
   {
    "duration": 23200,
    "start_time": "2023-01-16T19:10:46.087Z"
   },
   {
    "duration": 3719,
    "start_time": "2023-01-16T19:11:40.850Z"
   },
   {
    "duration": 3234,
    "start_time": "2023-01-16T19:13:08.075Z"
   },
   {
    "duration": 2961,
    "start_time": "2023-01-16T19:13:20.195Z"
   },
   {
    "duration": 3014,
    "start_time": "2023-01-16T19:13:27.343Z"
   },
   {
    "duration": 2967,
    "start_time": "2023-01-16T19:13:35.287Z"
   },
   {
    "duration": 3484,
    "start_time": "2023-01-16T19:13:41.653Z"
   },
   {
    "duration": 5224,
    "start_time": "2023-01-16T19:13:49.213Z"
   },
   {
    "duration": 1595,
    "start_time": "2023-01-16T19:14:04.744Z"
   },
   {
    "duration": 958,
    "start_time": "2023-01-16T19:15:16.187Z"
   },
   {
    "duration": 968,
    "start_time": "2023-01-16T19:15:20.489Z"
   },
   {
    "duration": 11,
    "start_time": "2023-01-16T19:15:32.462Z"
   },
   {
    "duration": 712,
    "start_time": "2023-01-16T19:15:48.824Z"
   },
   {
    "duration": 2158,
    "start_time": "2023-01-16T19:15:53.789Z"
   },
   {
    "duration": 978,
    "start_time": "2023-01-16T19:16:00.805Z"
   },
   {
    "duration": 997,
    "start_time": "2023-01-16T19:16:31.070Z"
   },
   {
    "duration": 885,
    "start_time": "2023-01-16T19:16:40.952Z"
   },
   {
    "duration": 1808,
    "start_time": "2023-01-16T19:16:45.996Z"
   },
   {
    "duration": 1397,
    "start_time": "2023-01-16T19:16:55.948Z"
   },
   {
    "duration": 882,
    "start_time": "2023-01-16T19:17:02.535Z"
   },
   {
    "duration": 55,
    "start_time": "2023-01-16T19:18:32.217Z"
   },
   {
    "duration": 233,
    "start_time": "2023-01-16T19:19:21.915Z"
   },
   {
    "duration": 773,
    "start_time": "2023-01-16T19:19:28.639Z"
   },
   {
    "duration": 297,
    "start_time": "2023-01-16T19:26:01.791Z"
   },
   {
    "duration": 244,
    "start_time": "2023-01-16T19:27:00.604Z"
   },
   {
    "duration": 1205,
    "start_time": "2023-01-16T19:27:06.961Z"
   },
   {
    "duration": 95,
    "start_time": "2023-01-16T19:27:08.170Z"
   },
   {
    "duration": 26,
    "start_time": "2023-01-16T19:27:08.267Z"
   },
   {
    "duration": 51,
    "start_time": "2023-01-16T19:27:08.296Z"
   },
   {
    "duration": 2235,
    "start_time": "2023-01-16T19:27:08.349Z"
   },
   {
    "duration": 5,
    "start_time": "2023-01-16T19:27:10.586Z"
   },
   {
    "duration": 25,
    "start_time": "2023-01-16T19:27:10.593Z"
   },
   {
    "duration": 10,
    "start_time": "2023-01-16T19:27:10.620Z"
   },
   {
    "duration": 25,
    "start_time": "2023-01-16T19:27:10.634Z"
   },
   {
    "duration": 18,
    "start_time": "2023-01-16T19:27:10.663Z"
   },
   {
    "duration": 43,
    "start_time": "2023-01-16T19:27:10.683Z"
   },
   {
    "duration": 14,
    "start_time": "2023-01-16T19:27:10.728Z"
   },
   {
    "duration": 192,
    "start_time": "2023-01-16T19:27:10.744Z"
   },
   {
    "duration": 9,
    "start_time": "2023-01-16T19:27:10.943Z"
   },
   {
    "duration": 3434,
    "start_time": "2023-01-16T19:27:10.954Z"
   },
   {
    "duration": 17,
    "start_time": "2023-01-16T19:27:14.390Z"
   },
   {
    "duration": 39,
    "start_time": "2023-01-16T19:27:14.410Z"
   },
   {
    "duration": 38,
    "start_time": "2023-01-16T19:27:14.451Z"
   },
   {
    "duration": 17,
    "start_time": "2023-01-16T19:27:14.492Z"
   },
   {
    "duration": 40,
    "start_time": "2023-01-16T19:27:14.512Z"
   },
   {
    "duration": 36,
    "start_time": "2023-01-16T19:27:14.554Z"
   },
   {
    "duration": 37,
    "start_time": "2023-01-16T19:27:14.593Z"
   },
   {
    "duration": 42,
    "start_time": "2023-01-16T19:27:14.631Z"
   },
   {
    "duration": 18,
    "start_time": "2023-01-16T19:27:14.675Z"
   },
   {
    "duration": 38,
    "start_time": "2023-01-16T19:27:14.696Z"
   },
   {
    "duration": 20,
    "start_time": "2023-01-16T19:27:14.745Z"
   },
   {
    "duration": 15,
    "start_time": "2023-01-16T19:27:14.767Z"
   },
   {
    "duration": 15,
    "start_time": "2023-01-16T19:27:14.786Z"
   },
   {
    "duration": 5,
    "start_time": "2023-01-16T19:27:14.803Z"
   },
   {
    "duration": 14,
    "start_time": "2023-01-16T19:27:14.809Z"
   },
   {
    "duration": 359,
    "start_time": "2023-01-16T19:27:14.824Z"
   },
   {
    "duration": 1875,
    "start_time": "2023-01-16T19:27:15.185Z"
   },
   {
    "duration": 175,
    "start_time": "2023-01-16T19:27:17.062Z"
   },
   {
    "duration": 180,
    "start_time": "2023-01-16T19:27:17.239Z"
   },
   {
    "duration": 160,
    "start_time": "2023-01-16T19:27:17.421Z"
   },
   {
    "duration": 220,
    "start_time": "2023-01-16T19:27:17.582Z"
   },
   {
    "duration": 22,
    "start_time": "2023-01-16T19:27:17.804Z"
   },
   {
    "duration": 180,
    "start_time": "2023-01-16T19:27:17.827Z"
   },
   {
    "duration": 230,
    "start_time": "2023-01-16T19:27:18.010Z"
   },
   {
    "duration": 1441,
    "start_time": "2023-01-16T19:27:18.243Z"
   },
   {
    "duration": 923,
    "start_time": "2023-01-16T19:27:19.686Z"
   },
   {
    "duration": 857,
    "start_time": "2023-01-16T19:27:20.610Z"
   },
   {
    "duration": 352,
    "start_time": "2023-01-16T19:27:21.468Z"
   },
   {
    "duration": 0,
    "start_time": "2023-01-16T19:27:21.822Z"
   },
   {
    "duration": 0,
    "start_time": "2023-01-16T19:27:21.824Z"
   },
   {
    "duration": 14,
    "start_time": "2023-01-16T19:31:22.065Z"
   },
   {
    "duration": 85,
    "start_time": "2023-01-16T19:31:26.475Z"
   },
   {
    "duration": 1238,
    "start_time": "2023-01-16T19:36:53.302Z"
   },
   {
    "duration": 1578,
    "start_time": "2023-01-16T19:37:31.306Z"
   },
   {
    "duration": 14,
    "start_time": "2023-01-16T19:38:26.107Z"
   },
   {
    "duration": 28,
    "start_time": "2023-01-16T19:38:42.581Z"
   },
   {
    "duration": 40,
    "start_time": "2023-01-16T19:39:03.738Z"
   },
   {
    "duration": 29,
    "start_time": "2023-01-16T19:39:38.670Z"
   },
   {
    "duration": 124,
    "start_time": "2023-01-16T19:39:41.462Z"
   },
   {
    "duration": 35,
    "start_time": "2023-01-16T19:39:45.884Z"
   },
   {
    "duration": 113,
    "start_time": "2023-01-16T19:41:13.005Z"
   },
   {
    "duration": 17,
    "start_time": "2023-01-16T19:41:17.157Z"
   },
   {
    "duration": 1223,
    "start_time": "2023-01-17T18:17:58.461Z"
   },
   {
    "duration": 101,
    "start_time": "2023-01-17T18:17:59.686Z"
   },
   {
    "duration": 26,
    "start_time": "2023-01-17T18:17:59.788Z"
   },
   {
    "duration": 42,
    "start_time": "2023-01-17T18:17:59.817Z"
   },
   {
    "duration": 2355,
    "start_time": "2023-01-17T18:17:59.861Z"
   },
   {
    "duration": 5,
    "start_time": "2023-01-17T18:18:02.219Z"
   },
   {
    "duration": 18,
    "start_time": "2023-01-17T18:18:02.226Z"
   },
   {
    "duration": 6,
    "start_time": "2023-01-17T18:18:02.246Z"
   },
   {
    "duration": 6,
    "start_time": "2023-01-17T18:18:02.254Z"
   },
   {
    "duration": 7,
    "start_time": "2023-01-17T18:18:02.263Z"
   },
   {
    "duration": 36,
    "start_time": "2023-01-17T18:18:02.271Z"
   },
   {
    "duration": 16,
    "start_time": "2023-01-17T18:18:02.309Z"
   },
   {
    "duration": 161,
    "start_time": "2023-01-17T18:18:02.328Z"
   },
   {
    "duration": 19,
    "start_time": "2023-01-17T18:18:02.491Z"
   },
   {
    "duration": 2375,
    "start_time": "2023-01-17T18:18:02.513Z"
   },
   {
    "duration": 19,
    "start_time": "2023-01-17T18:18:04.889Z"
   },
   {
    "duration": 38,
    "start_time": "2023-01-17T18:18:04.910Z"
   },
   {
    "duration": 17,
    "start_time": "2023-01-17T18:18:04.949Z"
   },
   {
    "duration": 7,
    "start_time": "2023-01-17T18:18:04.968Z"
   },
   {
    "duration": 19,
    "start_time": "2023-01-17T18:18:04.976Z"
   },
   {
    "duration": 14,
    "start_time": "2023-01-17T18:18:04.996Z"
   },
   {
    "duration": 28,
    "start_time": "2023-01-17T18:18:05.013Z"
   },
   {
    "duration": 9,
    "start_time": "2023-01-17T18:18:05.043Z"
   },
   {
    "duration": 6,
    "start_time": "2023-01-17T18:18:05.054Z"
   },
   {
    "duration": 53,
    "start_time": "2023-01-17T18:18:05.061Z"
   },
   {
    "duration": 18,
    "start_time": "2023-01-17T18:18:05.116Z"
   },
   {
    "duration": 11,
    "start_time": "2023-01-17T18:18:05.136Z"
   },
   {
    "duration": 7,
    "start_time": "2023-01-17T18:18:05.150Z"
   },
   {
    "duration": 14,
    "start_time": "2023-01-17T18:18:05.159Z"
   },
   {
    "duration": 33,
    "start_time": "2023-01-17T18:18:05.175Z"
   },
   {
    "duration": 394,
    "start_time": "2023-01-17T18:18:05.210Z"
   },
   {
    "duration": 2179,
    "start_time": "2023-01-17T18:18:05.613Z"
   },
   {
    "duration": 174,
    "start_time": "2023-01-17T18:18:07.794Z"
   },
   {
    "duration": 184,
    "start_time": "2023-01-17T18:18:07.970Z"
   },
   {
    "duration": 182,
    "start_time": "2023-01-17T18:18:08.155Z"
   },
   {
    "duration": 206,
    "start_time": "2023-01-17T18:18:08.338Z"
   },
   {
    "duration": 7,
    "start_time": "2023-01-17T18:18:08.545Z"
   },
   {
    "duration": 158,
    "start_time": "2023-01-17T18:18:08.554Z"
   },
   {
    "duration": 225,
    "start_time": "2023-01-17T18:18:08.715Z"
   },
   {
    "duration": 1563,
    "start_time": "2023-01-17T18:18:08.942Z"
   },
   {
    "duration": 957,
    "start_time": "2023-01-17T18:18:10.507Z"
   },
   {
    "duration": 914,
    "start_time": "2023-01-17T18:18:11.466Z"
   },
   {
    "duration": 20,
    "start_time": "2023-01-17T18:18:12.382Z"
   },
   {
    "duration": 317,
    "start_time": "2023-01-17T18:18:12.415Z"
   },
   {
    "duration": 208,
    "start_time": "2023-01-17T18:18:12.734Z"
   }
  ],
  "kernelspec": {
   "display_name": "Python 3 (ipykernel)",
   "language": "python",
   "name": "python3"
  },
  "language_info": {
   "codemirror_mode": {
    "name": "ipython",
    "version": 3
   },
   "file_extension": ".py",
   "mimetype": "text/x-python",
   "name": "python",
   "nbconvert_exporter": "python",
   "pygments_lexer": "ipython3",
   "version": "3.10.12"
  },
  "toc": {
   "base_numbering": 1,
   "nav_menu": {},
   "number_sections": true,
   "sideBar": true,
   "skip_h1_title": true,
   "title_cell": "Table of Contents",
   "title_sidebar": "Contents",
   "toc_cell": false,
   "toc_position": {},
   "toc_section_display": true,
   "toc_window_display": false
  }
 },
 "nbformat": 4,
 "nbformat_minor": 2
}
