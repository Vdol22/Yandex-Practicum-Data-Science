{
 "cells": [
  {
   "cell_type": "markdown",
   "id": "0b70c4be",
   "metadata": {},
   "source": [
    "## Описание проекта\n",
    "\n",
    "Оператор мобильной связи «Мегалайн» выяснил: многие клиенты пользуются архивными тарифами. Они хотят построить систему, способную проанализировать поведение клиентов и предложить пользователям новый тариф: «Смарт» или «Ультра».\n",
    "\n",
    "В нашем распоряжении данные о поведении клиентов, которые уже перешли на эти тарифы (из проекта курса «Статистический анализ данных»). Предобработка данных не нужна.\n",
    "\n",
    "Необходимо определить модель с максимально большим значением accuracy и долей правильных ответов не менее 75%."
   ]
  },
  {
   "cell_type": "markdown",
   "id": "d39478fb",
   "metadata": {},
   "source": [
    "## Описание данных\n",
    "\n",
    "- сalls — количество звонков\n",
    "- minutes — суммарная длительность звонков в минутах\n",
    "- messages — количество sms-сообщений\n",
    "- mb_used — израсходованный интернет-трафик в Мб\n",
    "- is_ultra — каким тарифом пользовался в течение месяца («Ультра» — 1, «Смарт» — 0)"
   ]
  },
  {
   "cell_type": "code",
   "execution_count": 1,
   "id": "c044f989",
   "metadata": {},
   "outputs": [],
   "source": [
    "# Подключим все необходимые библиотеки:\n",
    "\n",
    "import pandas as pd\n",
    "from sklearn.model_selection import train_test_split\n",
    "from sklearn.tree import DecisionTreeClassifier\n",
    "from sklearn.ensemble import RandomForestClassifier\n",
    "from sklearn.neighbors import KNeighborsClassifier\n",
    "from sklearn.metrics import accuracy_score\n",
    "from sklearn.dummy import DummyClassifier"
   ]
  },
  {
   "cell_type": "markdown",
   "id": "829c8890",
   "metadata": {},
   "source": [
    "## Изучение данных"
   ]
  },
  {
   "cell_type": "code",
   "execution_count": 2,
   "id": "c1362fa5",
   "metadata": {},
   "outputs": [],
   "source": [
    "try:\n",
    "    data = pd.read_csv('/datasets/users_behavior.csv')\n",
    "except:\n",
    "    data = pd.read_csv('D:/users_behavior.csv')"
   ]
  },
  {
   "cell_type": "code",
   "execution_count": 3,
   "id": "9bb7eab2",
   "metadata": {},
   "outputs": [
    {
     "data": {
      "text/html": [
       "<div>\n",
       "<style scoped>\n",
       "    .dataframe tbody tr th:only-of-type {\n",
       "        vertical-align: middle;\n",
       "    }\n",
       "\n",
       "    .dataframe tbody tr th {\n",
       "        vertical-align: top;\n",
       "    }\n",
       "\n",
       "    .dataframe thead th {\n",
       "        text-align: right;\n",
       "    }\n",
       "</style>\n",
       "<table border=\"1\" class=\"dataframe\">\n",
       "  <thead>\n",
       "    <tr style=\"text-align: right;\">\n",
       "      <th></th>\n",
       "      <th>calls</th>\n",
       "      <th>minutes</th>\n",
       "      <th>messages</th>\n",
       "      <th>mb_used</th>\n",
       "      <th>is_ultra</th>\n",
       "    </tr>\n",
       "  </thead>\n",
       "  <tbody>\n",
       "    <tr>\n",
       "      <th>0</th>\n",
       "      <td>40.0</td>\n",
       "      <td>311.90</td>\n",
       "      <td>83.0</td>\n",
       "      <td>19915.42</td>\n",
       "      <td>0</td>\n",
       "    </tr>\n",
       "    <tr>\n",
       "      <th>1</th>\n",
       "      <td>85.0</td>\n",
       "      <td>516.75</td>\n",
       "      <td>56.0</td>\n",
       "      <td>22696.96</td>\n",
       "      <td>0</td>\n",
       "    </tr>\n",
       "    <tr>\n",
       "      <th>2</th>\n",
       "      <td>77.0</td>\n",
       "      <td>467.66</td>\n",
       "      <td>86.0</td>\n",
       "      <td>21060.45</td>\n",
       "      <td>0</td>\n",
       "    </tr>\n",
       "    <tr>\n",
       "      <th>3</th>\n",
       "      <td>106.0</td>\n",
       "      <td>745.53</td>\n",
       "      <td>81.0</td>\n",
       "      <td>8437.39</td>\n",
       "      <td>1</td>\n",
       "    </tr>\n",
       "    <tr>\n",
       "      <th>4</th>\n",
       "      <td>66.0</td>\n",
       "      <td>418.74</td>\n",
       "      <td>1.0</td>\n",
       "      <td>14502.75</td>\n",
       "      <td>0</td>\n",
       "    </tr>\n",
       "  </tbody>\n",
       "</table>\n",
       "</div>"
      ],
      "text/plain": [
       "   calls  minutes  messages   mb_used  is_ultra\n",
       "0   40.0   311.90      83.0  19915.42         0\n",
       "1   85.0   516.75      56.0  22696.96         0\n",
       "2   77.0   467.66      86.0  21060.45         0\n",
       "3  106.0   745.53      81.0   8437.39         1\n",
       "4   66.0   418.74       1.0  14502.75         0"
      ]
     },
     "metadata": {},
     "output_type": "display_data"
    },
    {
     "name": "stdout",
     "output_type": "stream",
     "text": [
      "<class 'pandas.core.frame.DataFrame'>\n",
      "RangeIndex: 3214 entries, 0 to 3213\n",
      "Data columns (total 5 columns):\n",
      " #   Column    Non-Null Count  Dtype  \n",
      "---  ------    --------------  -----  \n",
      " 0   calls     3214 non-null   float64\n",
      " 1   minutes   3214 non-null   float64\n",
      " 2   messages  3214 non-null   float64\n",
      " 3   mb_used   3214 non-null   float64\n",
      " 4   is_ultra  3214 non-null   int64  \n",
      "dtypes: float64(4), int64(1)\n",
      "memory usage: 125.7 KB\n"
     ]
    }
   ],
   "source": [
    "display(data.head())\n",
    "data.info()"
   ]
  },
  {
   "cell_type": "code",
   "execution_count": 15,
   "id": "890fc12d",
   "metadata": {},
   "outputs": [
    {
     "data": {
      "text/plain": [
       "calls       0\n",
       "minutes     0\n",
       "messages    0\n",
       "mb_used     0\n",
       "is_ultra    0\n",
       "dtype: int64"
      ]
     },
     "execution_count": 15,
     "metadata": {},
     "output_type": "execute_result"
    }
   ],
   "source": [
    "data.isna().sum()"
   ]
  },
  {
   "cell_type": "code",
   "execution_count": 18,
   "id": "19f4de77",
   "metadata": {},
   "outputs": [
    {
     "data": {
      "text/plain": [
       "0"
      ]
     },
     "execution_count": 18,
     "metadata": {},
     "output_type": "execute_result"
    }
   ],
   "source": [
    "data.duplicated().sum()"
   ]
  },
  {
   "cell_type": "markdown",
   "id": "559dd4ac",
   "metadata": {},
   "source": [
    "Пропусков и явных дубликатов не обнаружено. Целевой признак выборки является столбик \"is_ultra\" и представлен категорией из 0 и 1 - это задача бинарной классификации."
   ]
  },
  {
   "cell_type": "markdown",
   "id": "05b010ba",
   "metadata": {},
   "source": [
    "## Создание выборок"
   ]
  },
  {
   "cell_type": "markdown",
   "id": "58708cc1",
   "metadata": {},
   "source": [
    "Отделим 60% генеральной выборки для обучения модели, 20% для валидации и 20% для окончательной проверки дееспесобности выбранной модели. "
   ]
  },
  {
   "cell_type": "code",
   "execution_count": 5,
   "id": "271c0550",
   "metadata": {},
   "outputs": [],
   "source": [
    "# В признаки модели (features) отнесём все данные выборки, за исключением столбца \"is_ultra\", \n",
    "# т.к. это целевой признак (target).\n",
    "\n",
    "features = data.drop(['is_ultra'], axis=1)\n",
    "target = data['is_ultra']"
   ]
  },
  {
   "cell_type": "code",
   "execution_count": 6,
   "id": "58bc7d45",
   "metadata": {},
   "outputs": [],
   "source": [
    "# С помощью метода train_test_split разделим генеральную выбрку на тренировочную (*_train), валидационную (*_valid) \n",
    "# и тестовую (*_test)\n",
    "\n",
    "features_train, features_rest, target_train, target_rest = \\\n",
    "    train_test_split(features, target, test_size=0.4, random_state=0)\n",
    "\n",
    "features_valid, features_test, target_valid, target_test = \\\n",
    "    train_test_split(features_rest, target_rest, test_size=0.5, random_state=0)"
   ]
  },
  {
   "cell_type": "markdown",
   "id": "d23b93cd",
   "metadata": {},
   "source": [
    "Убедимся, что доли созданных выборок соответствуют необходимому нам соотношению 3:1:1."
   ]
  },
  {
   "cell_type": "code",
   "execution_count": 26,
   "id": "cc548ff1",
   "metadata": {},
   "outputs": [
    {
     "data": {
      "text/plain": [
       "'Тренировочная выборка составила 60% от генеральной'"
      ]
     },
     "metadata": {},
     "output_type": "display_data"
    },
    {
     "data": {
      "text/plain": [
       "'Валидационная выборка составила 20% от генеральной'"
      ]
     },
     "metadata": {},
     "output_type": "display_data"
    },
    {
     "data": {
      "text/plain": [
       "'Тестовая выборка составила 20% от генеральной'"
      ]
     },
     "metadata": {},
     "output_type": "display_data"
    }
   ],
   "source": [
    "display(f'Тренировочная выборка составила {round(features_train.shape[0] / data.shape[0] * 100)}% от генеральной')\n",
    "display(f'Валидационная выборка составила {round(features_valid.shape[0] / data.shape[0] * 100)}% от генеральной')\n",
    "display(f'Тестовая выборка составила {round(features_test.shape[0] / data.shape[0] * 100)}% от генеральной')"
   ]
  },
  {
   "cell_type": "markdown",
   "id": "639ad4ab",
   "metadata": {},
   "source": [
    "## Подбор модели "
   ]
  },
  {
   "cell_type": "markdown",
   "id": "1f83bac8",
   "metadata": {},
   "source": [
    "### \"Дерево решений\""
   ]
  },
  {
   "cell_type": "code",
   "execution_count": 7,
   "id": "c9eea0c1",
   "metadata": {
    "scrolled": true
   },
   "outputs": [
    {
     "data": {
      "text/plain": [
       "'Точность модели \"Дерево решений\": 81.2'"
      ]
     },
     "metadata": {},
     "output_type": "display_data"
    },
    {
     "data": {
      "text/plain": [
       "'Лучшая глубина: 7'"
      ]
     },
     "metadata": {},
     "output_type": "display_data"
    }
   ],
   "source": [
    "best_result = 0\n",
    "best_depth = 0\n",
    "for depth in range(1, 11):\n",
    "    model = DecisionTreeClassifier(random_state=0, max_depth=depth) \n",
    "    model.fit(features_train, target_train) # обучим модель на тренировочной выборке\n",
    "    predictions = model.predict(features_valid) # получим предсказания модели на валидационной выборке\n",
    "    result = accuracy_score(target_valid, predictions)\n",
    "    if result > best_result:\n",
    "        best_result = result\n",
    "        best_depth = depth\n",
    "\n",
    "display('Точность модели \"Дерево решений\": {:.1f}'.format(best_result*100),\n",
    "        \"Лучшая глубина: {}\".format(best_depth))"
   ]
  },
  {
   "cell_type": "markdown",
   "id": "82b5d546",
   "metadata": {},
   "source": [
    "Перебрав циклом глубину от 1 до 10, определили, что лучшим гипер-параметром глубины является 7. Повторим этот же цикл, изменив гипер-параметр \"criterion\" с Jinny, который установлен по умолчанию, на \"entropy\" и изучимм результаты:"
   ]
  },
  {
   "cell_type": "code",
   "execution_count": 8,
   "id": "3d68ccec",
   "metadata": {},
   "outputs": [
    {
     "data": {
      "text/plain": [
       "'Точность модели \"Дерево решений\" с критерием энтропии: 80.9'"
      ]
     },
     "metadata": {},
     "output_type": "display_data"
    },
    {
     "data": {
      "text/plain": [
       "'Лучшая глубина: 4'"
      ]
     },
     "metadata": {},
     "output_type": "display_data"
    }
   ],
   "source": [
    "best_result = 0\n",
    "best_depth = 0\n",
    "for depth in range(1, 11):\n",
    "    model = DecisionTreeClassifier(random_state=0, max_depth=depth, criterion='entropy') \n",
    "    model.fit(features_train, target_train) # обучим модель на тренировочной выборке\n",
    "    predictions = model.predict(features_valid) # получим предсказания модели на валидационной выборке\n",
    "    result = accuracy_score(target_valid, predictions)\n",
    "    if result > best_result:\n",
    "        best_result = result\n",
    "        best_depth = depth\n",
    "\n",
    "display('Точность модели \"Дерево решений\" с критерием энтропии: {:.1f}'.format(best_result*100), \n",
    "        \"Лучшая глубина: {}\".format(best_depth))"
   ]
  },
  {
   "cell_type": "markdown",
   "id": "25ce2b4a",
   "metadata": {},
   "source": [
    "Лучшая глубина изменилась с 7 до 4, однако на максимальную точность модели это не оказало влияния."
   ]
  },
  {
   "cell_type": "markdown",
   "id": "c5f305f8",
   "metadata": {},
   "source": [
    "### \"Случайный лес\""
   ]
  },
  {
   "cell_type": "code",
   "execution_count": 9,
   "id": "985aee3e",
   "metadata": {},
   "outputs": [
    {
     "data": {
      "text/plain": [
       "'Наибольшая точность модели \"Случайный лес\": 82.1'"
      ]
     },
     "metadata": {},
     "output_type": "display_data"
    },
    {
     "data": {
      "text/plain": [
       "'При количестве деревьев: 20'"
      ]
     },
     "metadata": {},
     "output_type": "display_data"
    },
    {
     "data": {
      "text/plain": [
       "'И глубине: 11'"
      ]
     },
     "metadata": {},
     "output_type": "display_data"
    }
   ],
   "source": [
    "best_result = 0\n",
    "best_est = 0\n",
    "best_depth = 0\n",
    "for est in range(10, 41, 10):\n",
    "    for depth in range (1, 16):\n",
    "        model = RandomForestClassifier(random_state=0, n_estimators=est, max_depth=depth)\n",
    "        model.fit(features_train, target_train) # обучим модель на тренировочной выборке\n",
    "        result = model.score(features_valid, target_valid)\n",
    "        if result > best_result:\n",
    "            best_result = result\n",
    "            best_est = est\n",
    "            best_depth = depth\n",
    "\n",
    "display('Наибольшая точность модели \"Случайный лес\": {:.1f}'.format(best_result*100), \n",
    "      \"При количестве деревьев: {}\".format(best_est), \n",
    "      \"И глубине: {}\".format(best_depth))"
   ]
  },
  {
   "cell_type": "markdown",
   "id": "383cd9bb",
   "metadata": {},
   "source": [
    "### \"Ближайшие соседи\""
   ]
  },
  {
   "cell_type": "code",
   "execution_count": 10,
   "id": "eff3b3bd",
   "metadata": {
    "scrolled": true
   },
   "outputs": [
    {
     "name": "stderr",
     "output_type": "stream",
     "text": [
      "/opt/conda/lib/python3.9/site-packages/sklearn/neighbors/_classification.py:211: FutureWarning: Unlike other reduction functions (e.g. `skew`, `kurtosis`), the default behavior of `mode` typically preserves the axis it acts along. In SciPy 1.11.0, this behavior will change: the default value of `keepdims` will become False, the `axis` over which the statistic is taken will be eliminated, and the value None will no longer be accepted. Set `keepdims` to True or False to avoid this warning.\n",
      "  mode, _ = stats.mode(_y[neigh_ind, k], axis=1)\n",
      "/opt/conda/lib/python3.9/site-packages/sklearn/neighbors/_classification.py:211: FutureWarning: Unlike other reduction functions (e.g. `skew`, `kurtosis`), the default behavior of `mode` typically preserves the axis it acts along. In SciPy 1.11.0, this behavior will change: the default value of `keepdims` will become False, the `axis` over which the statistic is taken will be eliminated, and the value None will no longer be accepted. Set `keepdims` to True or False to avoid this warning.\n",
      "  mode, _ = stats.mode(_y[neigh_ind, k], axis=1)\n",
      "/opt/conda/lib/python3.9/site-packages/sklearn/neighbors/_classification.py:211: FutureWarning: Unlike other reduction functions (e.g. `skew`, `kurtosis`), the default behavior of `mode` typically preserves the axis it acts along. In SciPy 1.11.0, this behavior will change: the default value of `keepdims` will become False, the `axis` over which the statistic is taken will be eliminated, and the value None will no longer be accepted. Set `keepdims` to True or False to avoid this warning.\n",
      "  mode, _ = stats.mode(_y[neigh_ind, k], axis=1)\n",
      "/opt/conda/lib/python3.9/site-packages/sklearn/neighbors/_classification.py:211: FutureWarning: Unlike other reduction functions (e.g. `skew`, `kurtosis`), the default behavior of `mode` typically preserves the axis it acts along. In SciPy 1.11.0, this behavior will change: the default value of `keepdims` will become False, the `axis` over which the statistic is taken will be eliminated, and the value None will no longer be accepted. Set `keepdims` to True or False to avoid this warning.\n",
      "  mode, _ = stats.mode(_y[neigh_ind, k], axis=1)\n",
      "/opt/conda/lib/python3.9/site-packages/sklearn/neighbors/_classification.py:211: FutureWarning: Unlike other reduction functions (e.g. `skew`, `kurtosis`), the default behavior of `mode` typically preserves the axis it acts along. In SciPy 1.11.0, this behavior will change: the default value of `keepdims` will become False, the `axis` over which the statistic is taken will be eliminated, and the value None will no longer be accepted. Set `keepdims` to True or False to avoid this warning.\n",
      "  mode, _ = stats.mode(_y[neigh_ind, k], axis=1)\n",
      "/opt/conda/lib/python3.9/site-packages/sklearn/neighbors/_classification.py:211: FutureWarning: Unlike other reduction functions (e.g. `skew`, `kurtosis`), the default behavior of `mode` typically preserves the axis it acts along. In SciPy 1.11.0, this behavior will change: the default value of `keepdims` will become False, the `axis` over which the statistic is taken will be eliminated, and the value None will no longer be accepted. Set `keepdims` to True or False to avoid this warning.\n",
      "  mode, _ = stats.mode(_y[neigh_ind, k], axis=1)\n",
      "/opt/conda/lib/python3.9/site-packages/sklearn/neighbors/_classification.py:211: FutureWarning: Unlike other reduction functions (e.g. `skew`, `kurtosis`), the default behavior of `mode` typically preserves the axis it acts along. In SciPy 1.11.0, this behavior will change: the default value of `keepdims` will become False, the `axis` over which the statistic is taken will be eliminated, and the value None will no longer be accepted. Set `keepdims` to True or False to avoid this warning.\n",
      "  mode, _ = stats.mode(_y[neigh_ind, k], axis=1)\n",
      "/opt/conda/lib/python3.9/site-packages/sklearn/neighbors/_classification.py:211: FutureWarning: Unlike other reduction functions (e.g. `skew`, `kurtosis`), the default behavior of `mode` typically preserves the axis it acts along. In SciPy 1.11.0, this behavior will change: the default value of `keepdims` will become False, the `axis` over which the statistic is taken will be eliminated, and the value None will no longer be accepted. Set `keepdims` to True or False to avoid this warning.\n",
      "  mode, _ = stats.mode(_y[neigh_ind, k], axis=1)\n",
      "/opt/conda/lib/python3.9/site-packages/sklearn/neighbors/_classification.py:211: FutureWarning: Unlike other reduction functions (e.g. `skew`, `kurtosis`), the default behavior of `mode` typically preserves the axis it acts along. In SciPy 1.11.0, this behavior will change: the default value of `keepdims` will become False, the `axis` over which the statistic is taken will be eliminated, and the value None will no longer be accepted. Set `keepdims` to True or False to avoid this warning.\n",
      "  mode, _ = stats.mode(_y[neigh_ind, k], axis=1)\n",
      "/opt/conda/lib/python3.9/site-packages/sklearn/neighbors/_classification.py:211: FutureWarning: Unlike other reduction functions (e.g. `skew`, `kurtosis`), the default behavior of `mode` typically preserves the axis it acts along. In SciPy 1.11.0, this behavior will change: the default value of `keepdims` will become False, the `axis` over which the statistic is taken will be eliminated, and the value None will no longer be accepted. Set `keepdims` to True or False to avoid this warning.\n",
      "  mode, _ = stats.mode(_y[neigh_ind, k], axis=1)\n"
     ]
    },
    {
     "data": {
      "text/plain": [
       "'Точность модели \"Ближайшие соседи\": 77.4'"
      ]
     },
     "metadata": {},
     "output_type": "display_data"
    },
    {
     "data": {
      "text/plain": [
       "'Лучшая глубина: 9'"
      ]
     },
     "metadata": {},
     "output_type": "display_data"
    }
   ],
   "source": [
    "best_result = 0\n",
    "best_neigbors = 0\n",
    "for neighbors in range(1, 11):\n",
    "    model = KNeighborsClassifier(n_neighbors=neighbors) \n",
    "    model.fit(features_train, target_train) # обучим модель на тренировочной выборке\n",
    "    result = model.score(features_valid, target_valid)\n",
    "    if result > best_result:\n",
    "        best_result = result\n",
    "        best_neigbors = neighbors\n",
    "\n",
    "display('Точность модели \"Ближайшие соседи\": {:.1f}'.format(best_result*100), \n",
    "        \"Лучшее количество соседей: {}\".format(best_neigbors))"
   ]
  },
  {
   "cell_type": "markdown",
   "id": "464f2f82",
   "metadata": {},
   "source": [
    "Наилучшие результаты показала модель **\"Случайный лес\"** со следующими параметрами: \n",
    "- **кол-во деревьвев: 20;**\n",
    "- **глубина: 11.**\n",
    "\n",
    "Проверим точность выбранной модели на тестовой выборке с наиболее результативными гипер-параметрами."
   ]
  },
  {
   "cell_type": "markdown",
   "id": "56f99d89",
   "metadata": {},
   "source": [
    "## Проверка модели на тестовой выборке"
   ]
  },
  {
   "cell_type": "code",
   "execution_count": 11,
   "id": "cc47d6f9",
   "metadata": {},
   "outputs": [
    {
     "data": {
      "text/plain": [
       "'Точность модели \"Случайный лес\" на тестовой выборке: 77.9 %'"
      ]
     },
     "metadata": {},
     "output_type": "display_data"
    }
   ],
   "source": [
    "model = RandomForestClassifier(random_state=12345, n_estimators=20, max_depth=11)\n",
    "model.fit(features_train, target_train)\n",
    "result = model.score(features_test, target_test)\n",
    "display('Точность модели \"Случайный лес\" на тестовой выборке: {:.1f} %'.format(result*100))"
   ]
  },
  {
   "cell_type": "markdown",
   "id": "7c820564",
   "metadata": {},
   "source": [
    "Выбранная нами модель показала меньшую точность на тестовой выборке, однако достаточную, чтобы считать модель \"Случайный лес\" подходящей для прогнозирования. С целью самопроверки изучим точность остальных моделей на тестовой выборке:"
   ]
  },
  {
   "cell_type": "code",
   "execution_count": 12,
   "id": "e70bc2ef",
   "metadata": {},
   "outputs": [
    {
     "data": {
      "text/plain": [
       "'Точность модели \"Дерево решений\" на тестовой выборке: 76.0 %'"
      ]
     },
     "metadata": {},
     "output_type": "display_data"
    }
   ],
   "source": [
    "model = DecisionTreeClassifier(random_state=0, max_depth=4) \n",
    "model.fit(features_train, target_train)\n",
    "result = model.score(features_test, target_test)\n",
    "display('Точность модели \"Дерево решений\" на тестовой выборке: {:.1f} %'.format(result*100))"
   ]
  },
  {
   "cell_type": "code",
   "execution_count": 13,
   "id": "1ed58e49",
   "metadata": {},
   "outputs": [
    {
     "name": "stderr",
     "output_type": "stream",
     "text": [
      "/opt/conda/lib/python3.9/site-packages/sklearn/neighbors/_classification.py:211: FutureWarning: Unlike other reduction functions (e.g. `skew`, `kurtosis`), the default behavior of `mode` typically preserves the axis it acts along. In SciPy 1.11.0, this behavior will change: the default value of `keepdims` will become False, the `axis` over which the statistic is taken will be eliminated, and the value None will no longer be accepted. Set `keepdims` to True or False to avoid this warning.\n",
      "  mode, _ = stats.mode(_y[neigh_ind, k], axis=1)\n"
     ]
    },
    {
     "data": {
      "text/plain": [
       "'Точность модели \"Ближайшие соседи\" на тестовой выборке: 75.9 %'"
      ]
     },
     "metadata": {},
     "output_type": "display_data"
    }
   ],
   "source": [
    "model = KNeighborsClassifier(n_neighbors=9) \n",
    "model.fit(features_train, target_train)\n",
    "result = model.score(features_test, target_test)\n",
    "display('Точность модели \"Ближайшие соседи\" на тестовой выборке: {:.1f} %'.format(result*100))"
   ]
  },
  {
   "cell_type": "markdown",
   "id": "9e7ab32d",
   "metadata": {},
   "source": [
    "Эмперически доказано, что наилучшей моделью для прогнозированния тарифа пользователей мобильной сети \"Мобилайн\" является \"Случайный лес\"."
   ]
  },
  {
   "cell_type": "markdown",
   "id": "68da64b4",
   "metadata": {},
   "source": [
    "## Проверка на адекватность"
   ]
  },
  {
   "cell_type": "markdown",
   "id": "663d099e",
   "metadata": {},
   "source": [
    "С помощью метода DummyClassifier, который делает прогноз, игнорируя входящие параметры, изучим модель \"Случайный лес\" на адекватность:"
   ]
  },
  {
   "cell_type": "code",
   "execution_count": 14,
   "id": "b6320db7",
   "metadata": {},
   "outputs": [
    {
     "name": "stdout",
     "output_type": "stream",
     "text": [
      "Поверка адекватности: 68.6 %\n"
     ]
    }
   ],
   "source": [
    "model_adequacy = DummyClassifier(strategy='most_frequent').fit(features_train, target_train)\n",
    "predictions = model_adequacy.predict(features_test)\n",
    "result = accuracy_score(target_test, predictions)\n",
    "\n",
    "print('Поверка адекватности: {:.1f} %'.format(result*100))"
   ]
  },
  {
   "cell_type": "markdown",
   "id": "44bf8971",
   "metadata": {},
   "source": [
    "Выбранная модель \"Случайный лес\" прошла проверку на адекватность методом DummyClassifier, показав реультат 68.6%."
   ]
  }
 ],
 "metadata": {
  "ExecuteTimeLog": [
   {
    "duration": 3000,
    "start_time": "2023-02-09T16:16:33.013Z"
   },
   {
    "duration": 95,
    "start_time": "2023-02-09T16:16:36.015Z"
   },
   {
    "duration": 86,
    "start_time": "2023-02-09T16:16:36.112Z"
   },
   {
    "duration": 75,
    "start_time": "2023-02-09T16:16:36.201Z"
   },
   {
    "duration": 91,
    "start_time": "2023-02-09T16:16:36.280Z"
   },
   {
    "duration": 199,
    "start_time": "2023-02-09T16:16:36.385Z"
   },
   {
    "duration": 274,
    "start_time": "2023-02-09T16:16:36.596Z"
   },
   {
    "duration": 11698,
    "start_time": "2023-02-09T16:16:36.872Z"
   },
   {
    "duration": 628,
    "start_time": "2023-02-09T16:16:48.571Z"
   },
   {
    "duration": 283,
    "start_time": "2023-02-09T16:16:49.205Z"
   },
   {
    "duration": 16,
    "start_time": "2023-02-09T16:16:49.490Z"
   },
   {
    "duration": 34,
    "start_time": "2023-02-09T16:16:49.571Z"
   },
   {
    "duration": 63,
    "start_time": "2023-02-09T16:16:49.607Z"
   },
   {
    "duration": 45,
    "start_time": "2023-02-09T17:20:02.753Z"
   },
   {
    "duration": 1122,
    "start_time": "2023-02-09T17:20:08.749Z"
   },
   {
    "duration": 129,
    "start_time": "2023-02-09T17:20:09.873Z"
   },
   {
    "duration": 33,
    "start_time": "2023-02-09T17:20:10.004Z"
   },
   {
    "duration": 21,
    "start_time": "2023-02-09T17:20:10.038Z"
   },
   {
    "duration": 3,
    "start_time": "2023-02-09T17:20:10.061Z"
   },
   {
    "duration": 11,
    "start_time": "2023-02-09T17:20:10.065Z"
   },
   {
    "duration": 88,
    "start_time": "2023-02-09T17:20:10.078Z"
   },
   {
    "duration": 100,
    "start_time": "2023-02-09T17:20:10.167Z"
   },
   {
    "duration": 4347,
    "start_time": "2023-02-09T17:20:10.268Z"
   },
   {
    "duration": 230,
    "start_time": "2023-02-09T17:20:14.617Z"
   },
   {
    "duration": 99,
    "start_time": "2023-02-09T17:20:14.849Z"
   },
   {
    "duration": 10,
    "start_time": "2023-02-09T17:20:14.950Z"
   },
   {
    "duration": 40,
    "start_time": "2023-02-09T17:20:14.961Z"
   },
   {
    "duration": 7,
    "start_time": "2023-02-09T17:20:15.004Z"
   },
   {
    "duration": 8,
    "start_time": "2023-02-09T17:20:24.602Z"
   },
   {
    "duration": 98,
    "start_time": "2023-02-09T17:21:39.872Z"
   },
   {
    "duration": 7,
    "start_time": "2023-02-09T17:21:44.275Z"
   },
   {
    "duration": 6,
    "start_time": "2023-02-09T17:22:02.805Z"
   },
   {
    "duration": 16,
    "start_time": "2023-02-09T17:22:14.745Z"
   },
   {
    "duration": 18,
    "start_time": "2023-02-09T17:22:52.018Z"
   },
   {
    "duration": 4,
    "start_time": "2023-02-09T17:24:41.161Z"
   },
   {
    "duration": 4,
    "start_time": "2023-02-09T17:24:52.858Z"
   },
   {
    "duration": 4,
    "start_time": "2023-02-09T17:24:57.665Z"
   },
   {
    "duration": 4,
    "start_time": "2023-02-09T17:25:10.498Z"
   },
   {
    "duration": 4,
    "start_time": "2023-02-09T17:25:14.761Z"
   },
   {
    "duration": 7,
    "start_time": "2023-02-09T17:27:33.119Z"
   },
   {
    "duration": 64,
    "start_time": "2023-02-09T17:29:55.414Z"
   },
   {
    "duration": 74,
    "start_time": "2023-02-09T17:30:18.857Z"
   }
  ],
  "kernelspec": {
   "display_name": "Python 3 (ipykernel)",
   "language": "python",
   "name": "python3"
  },
  "language_info": {
   "codemirror_mode": {
    "name": "ipython",
    "version": 3
   },
   "file_extension": ".py",
   "mimetype": "text/x-python",
   "name": "python",
   "nbconvert_exporter": "python",
   "pygments_lexer": "ipython3",
   "version": "3.10.12"
  },
  "toc": {
   "base_numbering": 1,
   "nav_menu": {},
   "number_sections": true,
   "sideBar": true,
   "skip_h1_title": true,
   "title_cell": "Table of Contents",
   "title_sidebar": "Contents",
   "toc_cell": false,
   "toc_position": {},
   "toc_section_display": true,
   "toc_window_display": true
  }
 },
 "nbformat": 4,
 "nbformat_minor": 5
}
