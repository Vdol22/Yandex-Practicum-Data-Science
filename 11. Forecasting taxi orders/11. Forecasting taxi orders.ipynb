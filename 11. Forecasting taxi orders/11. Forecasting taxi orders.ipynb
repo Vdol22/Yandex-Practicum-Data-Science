{
 "cells": [
  {
   "cell_type": "markdown",
   "metadata": {
    "toc": true
   },
   "source": [
    "<h1>Содержание<span class=\"tocSkip\"></span></h1>\n",
    "<div class=\"toc\"><ul class=\"toc-item\"><li><span><a href=\"#Подготовка\" data-toc-modified-id=\"Подготовка-1\"><span class=\"toc-item-num\">1&nbsp;&nbsp;</span>Подготовка</a></span></li><li><span><a href=\"#Анализ\" data-toc-modified-id=\"Анализ-2\"><span class=\"toc-item-num\">2&nbsp;&nbsp;</span>Анализ</a></span></li><li><span><a href=\"#Обучение\" data-toc-modified-id=\"Обучение-3\"><span class=\"toc-item-num\">3&nbsp;&nbsp;</span>Обучение</a></span><ul class=\"toc-item\"><li><span><a href=\"#Подготовка-данных\" data-toc-modified-id=\"Подготовка-данных-3.1\"><span class=\"toc-item-num\">3.1&nbsp;&nbsp;</span>Подготовка данных</a></span></li><li><span><a href=\"#Линейная-регрессия\" data-toc-modified-id=\"Линейная-регрессия-3.2\"><span class=\"toc-item-num\">3.2&nbsp;&nbsp;</span>Линейная регрессия</a></span></li><li><span><a href=\"#CatBoostRegressor\" data-toc-modified-id=\"CatBoostRegressor-3.3\"><span class=\"toc-item-num\">3.3&nbsp;&nbsp;</span>CatBoostRegressor</a></span></li><li><span><a href=\"#RandomForestRegressor\" data-toc-modified-id=\"RandomForestRegressor-3.4\"><span class=\"toc-item-num\">3.4&nbsp;&nbsp;</span>RandomForestRegressor</a></span></li></ul></li><li><span><a href=\"#Тестирование\" data-toc-modified-id=\"Тестирование-4\"><span class=\"toc-item-num\">4&nbsp;&nbsp;</span>Тестирование</a></span></li><li><span><a href=\"#Выводы\" data-toc-modified-id=\"Выводы-5\"><span class=\"toc-item-num\">5&nbsp;&nbsp;</span>Выводы</a></span></li></ul></div>"
   ]
  },
  {
   "cell_type": "markdown",
   "metadata": {},
   "source": [
    "#  Прогнозирование заказов такси"
   ]
  },
  {
   "cell_type": "markdown",
   "metadata": {},
   "source": [
    "Компания «Чётенькое такси» собрала исторические данные о заказах такси в аэропортах. Чтобы привлекать больше водителей в период пиковой нагрузки, нужно спрогнозировать количество заказов такси на следующий час. Постройте модель для такого предсказания.\n",
    "\n",
    "Значение метрики *RMSE* на тестовой выборке должно быть не больше 48.\n",
    "\n",
    "Вам нужно:\n",
    "\n",
    "1. Загрузить данные и выполнить их ресемплирование по одному часу.\n",
    "2. Проанализировать данные.\n",
    "3. Обучить разные модели с различными гиперпараметрами. Сделать тестовую выборку размером 10% от исходных данных.\n",
    "4. Проверить данные на тестовой выборке и сделать выводы.\n",
    "\n",
    "\n",
    "Данные лежат в файле `taxi.csv`. Количество заказов находится в столбце `num_orders` (от англ. *number of orders*, «число заказов»)."
   ]
  },
  {
   "cell_type": "markdown",
   "metadata": {},
   "source": [
    "## Подготовка"
   ]
  },
  {
   "cell_type": "code",
   "execution_count": 30,
   "metadata": {},
   "outputs": [],
   "source": [
    "# Подключим все необходимые библиотеки:\n",
    "\n",
    "import pandas as pd\n",
    "import numpy as np\n",
    "import matplotlib.pyplot as plt\n",
    "from sklearn.model_selection import train_test_split\n",
    "from statsmodels.tsa.seasonal import seasonal_decompose\n",
    "from sklearn.model_selection import TimeSeriesSplit\n",
    "from sklearn.linear_model import SGDRegressor\n",
    "from sklearn.linear_model import LinearRegression\n",
    "from sklearn.ensemble import RandomForestRegressor\n",
    "from catboost import CatBoostRegressor\n",
    "from sklearn.model_selection import GridSearchCV, cross_val_score\n",
    "from sklearn.metrics import mean_squared_error\n",
    "from sklearn.model_selection import RandomizedSearchCV\n",
    "from sklearn.dummy import DummyRegressor"
   ]
  },
  {
   "cell_type": "code",
   "execution_count": 2,
   "metadata": {},
   "outputs": [],
   "source": [
    "data = pd.read_csv('/datasets/taxi.csv', index_col=[0], parse_dates=[0])"
   ]
  },
  {
   "cell_type": "markdown",
   "metadata": {},
   "source": [
    "Изучим общую информацию о генеральной выборке и определим необходимость предобработки:"
   ]
  },
  {
   "cell_type": "code",
   "execution_count": 3,
   "metadata": {},
   "outputs": [
    {
     "name": "stdout",
     "output_type": "stream",
     "text": [
      "<class 'pandas.core.frame.DataFrame'>\n",
      "DatetimeIndex: 26496 entries, 2018-03-01 00:00:00 to 2018-08-31 23:50:00\n",
      "Data columns (total 1 columns):\n",
      " #   Column      Non-Null Count  Dtype\n",
      "---  ------      --------------  -----\n",
      " 0   num_orders  26496 non-null  int64\n",
      "dtypes: int64(1)\n",
      "memory usage: 414.0 KB\n"
     ]
    }
   ],
   "source": [
    "data.info()"
   ]
  },
  {
   "cell_type": "code",
   "execution_count": 4,
   "metadata": {},
   "outputs": [
    {
     "data": {
      "text/html": [
       "<div>\n",
       "<style scoped>\n",
       "    .dataframe tbody tr th:only-of-type {\n",
       "        vertical-align: middle;\n",
       "    }\n",
       "\n",
       "    .dataframe tbody tr th {\n",
       "        vertical-align: top;\n",
       "    }\n",
       "\n",
       "    .dataframe thead th {\n",
       "        text-align: right;\n",
       "    }\n",
       "</style>\n",
       "<table border=\"1\" class=\"dataframe\">\n",
       "  <thead>\n",
       "    <tr style=\"text-align: right;\">\n",
       "      <th></th>\n",
       "      <th>num_orders</th>\n",
       "    </tr>\n",
       "    <tr>\n",
       "      <th>datetime</th>\n",
       "      <th></th>\n",
       "    </tr>\n",
       "  </thead>\n",
       "  <tbody>\n",
       "    <tr>\n",
       "      <th>2018-03-01 00:00:00</th>\n",
       "      <td>9</td>\n",
       "    </tr>\n",
       "    <tr>\n",
       "      <th>2018-03-01 00:10:00</th>\n",
       "      <td>14</td>\n",
       "    </tr>\n",
       "    <tr>\n",
       "      <th>2018-03-01 00:20:00</th>\n",
       "      <td>28</td>\n",
       "    </tr>\n",
       "    <tr>\n",
       "      <th>2018-03-01 00:30:00</th>\n",
       "      <td>20</td>\n",
       "    </tr>\n",
       "    <tr>\n",
       "      <th>2018-03-01 00:40:00</th>\n",
       "      <td>32</td>\n",
       "    </tr>\n",
       "    <tr>\n",
       "      <th>...</th>\n",
       "      <td>...</td>\n",
       "    </tr>\n",
       "    <tr>\n",
       "      <th>2018-08-31 23:10:00</th>\n",
       "      <td>32</td>\n",
       "    </tr>\n",
       "    <tr>\n",
       "      <th>2018-08-31 23:20:00</th>\n",
       "      <td>24</td>\n",
       "    </tr>\n",
       "    <tr>\n",
       "      <th>2018-08-31 23:30:00</th>\n",
       "      <td>27</td>\n",
       "    </tr>\n",
       "    <tr>\n",
       "      <th>2018-08-31 23:40:00</th>\n",
       "      <td>39</td>\n",
       "    </tr>\n",
       "    <tr>\n",
       "      <th>2018-08-31 23:50:00</th>\n",
       "      <td>53</td>\n",
       "    </tr>\n",
       "  </tbody>\n",
       "</table>\n",
       "<p>26496 rows × 1 columns</p>\n",
       "</div>"
      ],
      "text/plain": [
       "                     num_orders\n",
       "datetime                       \n",
       "2018-03-01 00:00:00           9\n",
       "2018-03-01 00:10:00          14\n",
       "2018-03-01 00:20:00          28\n",
       "2018-03-01 00:30:00          20\n",
       "2018-03-01 00:40:00          32\n",
       "...                         ...\n",
       "2018-08-31 23:10:00          32\n",
       "2018-08-31 23:20:00          24\n",
       "2018-08-31 23:30:00          27\n",
       "2018-08-31 23:40:00          39\n",
       "2018-08-31 23:50:00          53\n",
       "\n",
       "[26496 rows x 1 columns]"
      ]
     },
     "execution_count": 4,
     "metadata": {},
     "output_type": "execute_result"
    }
   ],
   "source": [
    "data"
   ]
  },
  {
   "cell_type": "markdown",
   "metadata": {},
   "source": [
    "Данные выстроены в хронологическом порядке с временным интервалом в 10 минут. Такая точность излишня, поэтому проведём ресемплирование с суммированием данных:"
   ]
  },
  {
   "cell_type": "code",
   "execution_count": 5,
   "metadata": {},
   "outputs": [
    {
     "data": {
      "text/html": [
       "<div>\n",
       "<style scoped>\n",
       "    .dataframe tbody tr th:only-of-type {\n",
       "        vertical-align: middle;\n",
       "    }\n",
       "\n",
       "    .dataframe tbody tr th {\n",
       "        vertical-align: top;\n",
       "    }\n",
       "\n",
       "    .dataframe thead th {\n",
       "        text-align: right;\n",
       "    }\n",
       "</style>\n",
       "<table border=\"1\" class=\"dataframe\">\n",
       "  <thead>\n",
       "    <tr style=\"text-align: right;\">\n",
       "      <th></th>\n",
       "      <th>num_orders</th>\n",
       "    </tr>\n",
       "    <tr>\n",
       "      <th>datetime</th>\n",
       "      <th></th>\n",
       "    </tr>\n",
       "  </thead>\n",
       "  <tbody>\n",
       "    <tr>\n",
       "      <th>2018-03-01 00:00:00</th>\n",
       "      <td>124</td>\n",
       "    </tr>\n",
       "    <tr>\n",
       "      <th>2018-03-01 01:00:00</th>\n",
       "      <td>85</td>\n",
       "    </tr>\n",
       "    <tr>\n",
       "      <th>2018-03-01 02:00:00</th>\n",
       "      <td>71</td>\n",
       "    </tr>\n",
       "    <tr>\n",
       "      <th>2018-03-01 03:00:00</th>\n",
       "      <td>66</td>\n",
       "    </tr>\n",
       "    <tr>\n",
       "      <th>2018-03-01 04:00:00</th>\n",
       "      <td>43</td>\n",
       "    </tr>\n",
       "  </tbody>\n",
       "</table>\n",
       "</div>"
      ],
      "text/plain": [
       "                     num_orders\n",
       "datetime                       \n",
       "2018-03-01 00:00:00         124\n",
       "2018-03-01 01:00:00          85\n",
       "2018-03-01 02:00:00          71\n",
       "2018-03-01 03:00:00          66\n",
       "2018-03-01 04:00:00          43"
      ]
     },
     "execution_count": 5,
     "metadata": {},
     "output_type": "execute_result"
    }
   ],
   "source": [
    "data.sort_index(inplace=True)\n",
    "data = data.resample('1H').sum()\n",
    "data.head()"
   ]
  },
  {
   "cell_type": "markdown",
   "metadata": {},
   "source": [
    "Предобработка закончена, можно переходить к анализу.\n",
    "## Анализ\n",
    "1. Рассмотрим численные показатели выборки методом `describe`;\n",
    "1. Изучим суточный, недельный и месячный срезы;\n",
    "1. Выведем тренды, сезонность и скользящие средние;\n",
    "1. Определим является ли ряд стационарным."
   ]
  },
  {
   "cell_type": "code",
   "execution_count": 6,
   "metadata": {},
   "outputs": [
    {
     "data": {
      "text/html": [
       "<div>\n",
       "<style scoped>\n",
       "    .dataframe tbody tr th:only-of-type {\n",
       "        vertical-align: middle;\n",
       "    }\n",
       "\n",
       "    .dataframe tbody tr th {\n",
       "        vertical-align: top;\n",
       "    }\n",
       "\n",
       "    .dataframe thead th {\n",
       "        text-align: right;\n",
       "    }\n",
       "</style>\n",
       "<table border=\"1\" class=\"dataframe\">\n",
       "  <thead>\n",
       "    <tr style=\"text-align: right;\">\n",
       "      <th></th>\n",
       "      <th>num_orders</th>\n",
       "    </tr>\n",
       "  </thead>\n",
       "  <tbody>\n",
       "    <tr>\n",
       "      <th>count</th>\n",
       "      <td>4416.000000</td>\n",
       "    </tr>\n",
       "    <tr>\n",
       "      <th>mean</th>\n",
       "      <td>84.422781</td>\n",
       "    </tr>\n",
       "    <tr>\n",
       "      <th>std</th>\n",
       "      <td>45.023853</td>\n",
       "    </tr>\n",
       "    <tr>\n",
       "      <th>min</th>\n",
       "      <td>0.000000</td>\n",
       "    </tr>\n",
       "    <tr>\n",
       "      <th>25%</th>\n",
       "      <td>54.000000</td>\n",
       "    </tr>\n",
       "    <tr>\n",
       "      <th>50%</th>\n",
       "      <td>78.000000</td>\n",
       "    </tr>\n",
       "    <tr>\n",
       "      <th>75%</th>\n",
       "      <td>107.000000</td>\n",
       "    </tr>\n",
       "    <tr>\n",
       "      <th>max</th>\n",
       "      <td>462.000000</td>\n",
       "    </tr>\n",
       "  </tbody>\n",
       "</table>\n",
       "</div>"
      ],
      "text/plain": [
       "        num_orders\n",
       "count  4416.000000\n",
       "mean     84.422781\n",
       "std      45.023853\n",
       "min       0.000000\n",
       "25%      54.000000\n",
       "50%      78.000000\n",
       "75%     107.000000\n",
       "max     462.000000"
      ]
     },
     "execution_count": 6,
     "metadata": {},
     "output_type": "execute_result"
    }
   ],
   "source": [
    "data.describe()"
   ]
  },
  {
   "cell_type": "code",
   "execution_count": 7,
   "metadata": {
    "scrolled": false
   },
   "outputs": [
    {
     "data": {
      "image/png": "[encoded data removed]",
      "text/plain": [
       "<Figure size 1296x432 with 1 Axes>"
      ]
     },
     "metadata": {
      "needs_background": "light"
     },
     "output_type": "display_data"
    }
   ],
   "source": [
    "day_data = data['2018-03-01':'2018-03-02']\n",
    "day_data.plot(figsize=[18,6], title = 'Суточный срез');"
   ]
  },
  {
   "cell_type": "code",
   "execution_count": 8,
   "metadata": {},
   "outputs": [
    {
     "data": {
      "image/png": "[encoded data removed]",
      "text/plain": [
       "<Figure size 1296x432 with 1 Axes>"
      ]
     },
     "metadata": {
      "needs_background": "light"
     },
     "output_type": "display_data"
    }
   ],
   "source": [
    "day_data = data['2018-03-01':'2018-03-06']\n",
    "day_data.plot(figsize=[18,6], title = 'Недельный срез');"
   ]
  },
  {
   "cell_type": "code",
   "execution_count": 9,
   "metadata": {},
   "outputs": [
    {
     "data": {
      "image/png": "[encoded data removed]",
      "text/plain": [
       "<Figure size 1296x432 with 1 Axes>"
      ]
     },
     "metadata": {
      "needs_background": "light"
     },
     "output_type": "display_data"
    }
   ],
   "source": [
    "day_data = data['2018-03-01':'2018-04-01']\n",
    "day_data.plot(figsize=[18,6], title = 'Месячный срез');"
   ]
  },
  {
   "cell_type": "code",
   "execution_count": 10,
   "metadata": {
    "scrolled": true
   },
   "outputs": [
    {
     "data": {
      "image/png": "[encoded data removed]",
      "text/plain": [
       "<Figure size 720x720 with 3 Axes>"
      ]
     },
     "metadata": {
      "needs_background": "light"
     },
     "output_type": "display_data"
    }
   ],
   "source": [
    "decomposed = seasonal_decompose(data['num_orders']) \n",
    "\n",
    "plt.figure(figsize=(10, 10))\n",
    "plt.subplot(311)\n",
    "decomposed.trend.plot(ax=plt.gca())\n",
    "plt.title('Тренд')\n",
    "plt.subplot(312)\n",
    "decomposed.seasonal.plot(ax=plt.gca())\n",
    "plt.title('Сезонность')\n",
    "plt.subplot(313)\n",
    "decomposed.resid.plot(ax=plt.gca()) \n",
    "plt.title('Остаток')\n",
    "plt.tight_layout()"
   ]
  },
  {
   "cell_type": "markdown",
   "metadata": {},
   "source": [
    "График Сезонности для часовых временных промежутков нечитабелен. Выведем график сезонности на более коротком срезе - за первую неделю:"
   ]
  },
  {
   "cell_type": "code",
   "execution_count": 11,
   "metadata": {
    "scrolled": false
   },
   "outputs": [
    {
     "data": {
      "image/png": "[encoded data removed]",
      "text/plain": [
       "<Figure size 1296x432 with 1 Axes>"
      ]
     },
     "metadata": {
      "needs_background": "light"
     },
     "output_type": "display_data"
    }
   ],
   "source": [
    "decomposed.seasonal['2018-03-01':'2018-03-07'].plot(ax=plt.gca(), figsize=[18,6], title = 'Недельный сезонный срез');"
   ]
  },
  {
   "cell_type": "markdown",
   "metadata": {},
   "source": [
    "Замечена ежедневная сезонность. Так же, судя по графику тренда, временной ряд генеральной выборки нестационарный. Для дополнительно проверки рассмотрим скользящие средние:"
   ]
  },
  {
   "cell_type": "code",
   "execution_count": 12,
   "metadata": {},
   "outputs": [
    {
     "data": {
      "image/png": "[encoded data removed]",
      "text/plain": [
       "<Figure size 1296x432 with 1 Axes>"
      ]
     },
     "metadata": {
      "needs_background": "light"
     },
     "output_type": "display_data"
    }
   ],
   "source": [
    "data['mean'] = data['num_orders'].rolling(72).mean()\n",
    "data['std'] = data['num_orders'].rolling(72).std()\n",
    "data.plot(figsize=[18,6], title = 'Скользящие средние');"
   ]
  },
  {
   "cell_type": "markdown",
   "metadata": {},
   "source": [
    "В ходе анализа данных выявлено:\n",
    "- Ежедневные колебания имеют сезонный характер;\n",
    "- Количество заказов на такси растёт ближе к сентябрю, что объясняется повышенным спросом на услуги авиаперевозок в туристические сезоны;\n",
    "- Временной ряд выборки имеет нестационарный характер.\n",
    "\n"
   ]
  },
  {
   "cell_type": "code",
   "execution_count": 13,
   "metadata": {},
   "outputs": [
    {
     "name": "stdout",
     "output_type": "stream",
     "text": [
      "Если значение с индексом 1 меньше P-Value, заданное нами (обычно берут 0.05), то ряд стационарный\n",
      "Наш ряд стационарный\n"
     ]
    }
   ],
   "source": [
    "# код ревьювера\n",
    "from statsmodels.tsa.stattools import adfuller\n",
    "\n",
    "ts = data['num_orders']\n",
    "st_test = adfuller(ts, regression='ctt')\n",
    "\n",
    "print('Если значение с индексом 1 меньше P-Value, заданное нами (обычно берут 0.05), то ряд стационарный')\n",
    "if st_test[1] < 0.05:\n",
    "    print('Наш ряд стационарный')\n",
    "else:\n",
    "    print('Ряд нестационарный')"
   ]
  },
  {
   "cell_type": "markdown",
   "metadata": {},
   "source": [
    "\n",
    "## Обучение\n",
    "### Подготовка данных\n",
    "Для корректного обучения модели временной ряд необходимо убедиться, что данные возможно привести к стационарному виду путём вычитания из ислледуемого временного ряда ряда, созданного с помощью метода `shift`:"
   ]
  },
  {
   "cell_type": "code",
   "execution_count": 14,
   "metadata": {
    "scrolled": false
   },
   "outputs": [
    {
     "data": {
      "text/plain": [
       "<AxesSubplot:xlabel='datetime'>"
      ]
     },
     "execution_count": 14,
     "metadata": {},
     "output_type": "execute_result"
    },
    {
     "data": {
      "image/png": "[encoded data removed]",
      "text/plain": [
       "<Figure size 432x288 with 1 Axes>"
      ]
     },
     "metadata": {
      "needs_background": "light"
     },
     "output_type": "display_data"
    }
   ],
   "source": [
    "data_shifted = data - data.shift(fill_value=0)\n",
    "data_shifted['mean'] = data_shifted['num_orders'].rolling(72).mean()\n",
    "data_shifted['std'] = data_shifted['num_orders'].rolling(72).std()\n",
    "data_shifted.plot()"
   ]
  },
  {
   "cell_type": "markdown",
   "metadata": {},
   "source": [
    "Временной ряд стал стационарным. Следующим шагом станет добавление в выборку отдельными столбцами признаки (месяц, день, день недели, час), отстающие значения и скользящие средние. Выполним указанные задачи с помощью функции:"
   ]
  },
  {
   "cell_type": "code",
   "execution_count": 15,
   "metadata": {},
   "outputs": [],
   "source": [
    "data = data.drop(['mean', 'std'], axis=1)\n",
    "def make_features(data, max_lag, rolling_mean_size):\n",
    "    data['day'] = data.index.day\n",
    "    data['dayofweek'] = data.index.dayofweek\n",
    "    data['hour'] = data.index.hour\n",
    "    \n",
    "    for lag in range(1, max_lag + 1):\n",
    "        data['lag_{}'.format(lag)] = data['num_orders'].shift(lag)\n",
    "\n",
    "    data['rolling_mean'] = data['num_orders'].shift().rolling(rolling_mean_size).mean()"
   ]
  },
  {
   "cell_type": "code",
   "execution_count": 16,
   "metadata": {},
   "outputs": [
    {
     "data": {
      "text/html": [
       "<div>\n",
       "<style scoped>\n",
       "    .dataframe tbody tr th:only-of-type {\n",
       "        vertical-align: middle;\n",
       "    }\n",
       "\n",
       "    .dataframe tbody tr th {\n",
       "        vertical-align: top;\n",
       "    }\n",
       "\n",
       "    .dataframe thead th {\n",
       "        text-align: right;\n",
       "    }\n",
       "</style>\n",
       "<table border=\"1\" class=\"dataframe\">\n",
       "  <thead>\n",
       "    <tr style=\"text-align: right;\">\n",
       "      <th></th>\n",
       "      <th>num_orders</th>\n",
       "      <th>day</th>\n",
       "      <th>dayofweek</th>\n",
       "      <th>hour</th>\n",
       "      <th>lag_1</th>\n",
       "      <th>lag_2</th>\n",
       "      <th>lag_3</th>\n",
       "      <th>lag_4</th>\n",
       "      <th>lag_5</th>\n",
       "      <th>lag_6</th>\n",
       "      <th>...</th>\n",
       "      <th>lag_160</th>\n",
       "      <th>lag_161</th>\n",
       "      <th>lag_162</th>\n",
       "      <th>lag_163</th>\n",
       "      <th>lag_164</th>\n",
       "      <th>lag_165</th>\n",
       "      <th>lag_166</th>\n",
       "      <th>lag_167</th>\n",
       "      <th>lag_168</th>\n",
       "      <th>rolling_mean</th>\n",
       "    </tr>\n",
       "    <tr>\n",
       "      <th>datetime</th>\n",
       "      <th></th>\n",
       "      <th></th>\n",
       "      <th></th>\n",
       "      <th></th>\n",
       "      <th></th>\n",
       "      <th></th>\n",
       "      <th></th>\n",
       "      <th></th>\n",
       "      <th></th>\n",
       "      <th></th>\n",
       "      <th></th>\n",
       "      <th></th>\n",
       "      <th></th>\n",
       "      <th></th>\n",
       "      <th></th>\n",
       "      <th></th>\n",
       "      <th></th>\n",
       "      <th></th>\n",
       "      <th></th>\n",
       "      <th></th>\n",
       "      <th></th>\n",
       "    </tr>\n",
       "  </thead>\n",
       "  <tbody>\n",
       "    <tr>\n",
       "      <th>2018-03-01 00:00:00</th>\n",
       "      <td>124</td>\n",
       "      <td>1</td>\n",
       "      <td>3</td>\n",
       "      <td>0</td>\n",
       "      <td>NaN</td>\n",
       "      <td>NaN</td>\n",
       "      <td>NaN</td>\n",
       "      <td>NaN</td>\n",
       "      <td>NaN</td>\n",
       "      <td>NaN</td>\n",
       "      <td>...</td>\n",
       "      <td>NaN</td>\n",
       "      <td>NaN</td>\n",
       "      <td>NaN</td>\n",
       "      <td>NaN</td>\n",
       "      <td>NaN</td>\n",
       "      <td>NaN</td>\n",
       "      <td>NaN</td>\n",
       "      <td>NaN</td>\n",
       "      <td>NaN</td>\n",
       "      <td>NaN</td>\n",
       "    </tr>\n",
       "    <tr>\n",
       "      <th>2018-03-01 01:00:00</th>\n",
       "      <td>85</td>\n",
       "      <td>1</td>\n",
       "      <td>3</td>\n",
       "      <td>1</td>\n",
       "      <td>124.0</td>\n",
       "      <td>NaN</td>\n",
       "      <td>NaN</td>\n",
       "      <td>NaN</td>\n",
       "      <td>NaN</td>\n",
       "      <td>NaN</td>\n",
       "      <td>...</td>\n",
       "      <td>NaN</td>\n",
       "      <td>NaN</td>\n",
       "      <td>NaN</td>\n",
       "      <td>NaN</td>\n",
       "      <td>NaN</td>\n",
       "      <td>NaN</td>\n",
       "      <td>NaN</td>\n",
       "      <td>NaN</td>\n",
       "      <td>NaN</td>\n",
       "      <td>NaN</td>\n",
       "    </tr>\n",
       "    <tr>\n",
       "      <th>2018-03-01 02:00:00</th>\n",
       "      <td>71</td>\n",
       "      <td>1</td>\n",
       "      <td>3</td>\n",
       "      <td>2</td>\n",
       "      <td>85.0</td>\n",
       "      <td>124.0</td>\n",
       "      <td>NaN</td>\n",
       "      <td>NaN</td>\n",
       "      <td>NaN</td>\n",
       "      <td>NaN</td>\n",
       "      <td>...</td>\n",
       "      <td>NaN</td>\n",
       "      <td>NaN</td>\n",
       "      <td>NaN</td>\n",
       "      <td>NaN</td>\n",
       "      <td>NaN</td>\n",
       "      <td>NaN</td>\n",
       "      <td>NaN</td>\n",
       "      <td>NaN</td>\n",
       "      <td>NaN</td>\n",
       "      <td>NaN</td>\n",
       "    </tr>\n",
       "    <tr>\n",
       "      <th>2018-03-01 03:00:00</th>\n",
       "      <td>66</td>\n",
       "      <td>1</td>\n",
       "      <td>3</td>\n",
       "      <td>3</td>\n",
       "      <td>71.0</td>\n",
       "      <td>85.0</td>\n",
       "      <td>124.0</td>\n",
       "      <td>NaN</td>\n",
       "      <td>NaN</td>\n",
       "      <td>NaN</td>\n",
       "      <td>...</td>\n",
       "      <td>NaN</td>\n",
       "      <td>NaN</td>\n",
       "      <td>NaN</td>\n",
       "      <td>NaN</td>\n",
       "      <td>NaN</td>\n",
       "      <td>NaN</td>\n",
       "      <td>NaN</td>\n",
       "      <td>NaN</td>\n",
       "      <td>NaN</td>\n",
       "      <td>NaN</td>\n",
       "    </tr>\n",
       "    <tr>\n",
       "      <th>2018-03-01 04:00:00</th>\n",
       "      <td>43</td>\n",
       "      <td>1</td>\n",
       "      <td>3</td>\n",
       "      <td>4</td>\n",
       "      <td>66.0</td>\n",
       "      <td>71.0</td>\n",
       "      <td>85.0</td>\n",
       "      <td>124.0</td>\n",
       "      <td>NaN</td>\n",
       "      <td>NaN</td>\n",
       "      <td>...</td>\n",
       "      <td>NaN</td>\n",
       "      <td>NaN</td>\n",
       "      <td>NaN</td>\n",
       "      <td>NaN</td>\n",
       "      <td>NaN</td>\n",
       "      <td>NaN</td>\n",
       "      <td>NaN</td>\n",
       "      <td>NaN</td>\n",
       "      <td>NaN</td>\n",
       "      <td>NaN</td>\n",
       "    </tr>\n",
       "  </tbody>\n",
       "</table>\n",
       "<p>5 rows × 173 columns</p>\n",
       "</div>"
      ],
      "text/plain": [
       "                     num_orders  day  dayofweek  hour  lag_1  lag_2  lag_3  \\\n",
       "datetime                                                                     \n",
       "2018-03-01 00:00:00         124    1          3     0    NaN    NaN    NaN   \n",
       "2018-03-01 01:00:00          85    1          3     1  124.0    NaN    NaN   \n",
       "2018-03-01 02:00:00          71    1          3     2   85.0  124.0    NaN   \n",
       "2018-03-01 03:00:00          66    1          3     3   71.0   85.0  124.0   \n",
       "2018-03-01 04:00:00          43    1          3     4   66.0   71.0   85.0   \n",
       "\n",
       "                     lag_4  lag_5  lag_6  ...  lag_160  lag_161  lag_162  \\\n",
       "datetime                                  ...                              \n",
       "2018-03-01 00:00:00    NaN    NaN    NaN  ...      NaN      NaN      NaN   \n",
       "2018-03-01 01:00:00    NaN    NaN    NaN  ...      NaN      NaN      NaN   \n",
       "2018-03-01 02:00:00    NaN    NaN    NaN  ...      NaN      NaN      NaN   \n",
       "2018-03-01 03:00:00    NaN    NaN    NaN  ...      NaN      NaN      NaN   \n",
       "2018-03-01 04:00:00  124.0    NaN    NaN  ...      NaN      NaN      NaN   \n",
       "\n",
       "                     lag_163  lag_164  lag_165  lag_166  lag_167  lag_168  \\\n",
       "datetime                                                                    \n",
       "2018-03-01 00:00:00      NaN      NaN      NaN      NaN      NaN      NaN   \n",
       "2018-03-01 01:00:00      NaN      NaN      NaN      NaN      NaN      NaN   \n",
       "2018-03-01 02:00:00      NaN      NaN      NaN      NaN      NaN      NaN   \n",
       "2018-03-01 03:00:00      NaN      NaN      NaN      NaN      NaN      NaN   \n",
       "2018-03-01 04:00:00      NaN      NaN      NaN      NaN      NaN      NaN   \n",
       "\n",
       "                     rolling_mean  \n",
       "datetime                           \n",
       "2018-03-01 00:00:00           NaN  \n",
       "2018-03-01 01:00:00           NaN  \n",
       "2018-03-01 02:00:00           NaN  \n",
       "2018-03-01 03:00:00           NaN  \n",
       "2018-03-01 04:00:00           NaN  \n",
       "\n",
       "[5 rows x 173 columns]"
      ]
     },
     "execution_count": 16,
     "metadata": {},
     "output_type": "execute_result"
    }
   ],
   "source": [
    "make_features(data, 168, 5)\n",
    "data.head()"
   ]
  },
  {
   "cell_type": "code",
   "execution_count": 17,
   "metadata": {},
   "outputs": [],
   "source": [
    "make_features(data, 178, 12)"
   ]
  },
  {
   "cell_type": "markdown",
   "metadata": {},
   "source": [
    "Признаки созданы. Разделим генеральную выборку на обучающую, валидационную и тестовую:"
   ]
  },
  {
   "cell_type": "code",
   "execution_count": 18,
   "metadata": {},
   "outputs": [
    {
     "name": "stdout",
     "output_type": "stream",
     "text": [
      "Размер обучающей выборки составил 85.96 % от генеральной\n",
      "Размер тестовой выборки составил 10.01 % от генеральной\n"
     ]
    }
   ],
   "source": [
    "state = 0\n",
    "\n",
    "train, test = train_test_split(data, test_size=0.1, shuffle=False)\n",
    "train = train.dropna()\n",
    "\n",
    "features_train = train.drop(['num_orders'], axis=1)\n",
    "target_train = train['num_orders']\n",
    "\n",
    "features_test = test.drop(['num_orders'], axis=1)\n",
    "target_test = test['num_orders']\n",
    "\n",
    "print('Размер обучающей выборки составил', round(features_train.shape[0]/data.shape[0]*100, 2), '% от генеральной')\n",
    "print('Размер тестовой выборки составил', round(features_test.shape[0]/data.shape[0]*100, 2), '% от генеральной')"
   ]
  },
  {
   "cell_type": "code",
   "execution_count": 19,
   "metadata": {},
   "outputs": [
    {
     "data": {
      "text/html": [
       "<div>\n",
       "<style scoped>\n",
       "    .dataframe tbody tr th:only-of-type {\n",
       "        vertical-align: middle;\n",
       "    }\n",
       "\n",
       "    .dataframe tbody tr th {\n",
       "        vertical-align: top;\n",
       "    }\n",
       "\n",
       "    .dataframe thead th {\n",
       "        text-align: right;\n",
       "    }\n",
       "</style>\n",
       "<table border=\"1\" class=\"dataframe\">\n",
       "  <thead>\n",
       "    <tr style=\"text-align: right;\">\n",
       "      <th></th>\n",
       "      <th>num_orders</th>\n",
       "      <th>day</th>\n",
       "      <th>dayofweek</th>\n",
       "      <th>hour</th>\n",
       "      <th>lag_1</th>\n",
       "      <th>lag_2</th>\n",
       "      <th>lag_3</th>\n",
       "      <th>lag_4</th>\n",
       "      <th>lag_5</th>\n",
       "      <th>lag_6</th>\n",
       "      <th>...</th>\n",
       "      <th>lag_169</th>\n",
       "      <th>lag_170</th>\n",
       "      <th>lag_171</th>\n",
       "      <th>lag_172</th>\n",
       "      <th>lag_173</th>\n",
       "      <th>lag_174</th>\n",
       "      <th>lag_175</th>\n",
       "      <th>lag_176</th>\n",
       "      <th>lag_177</th>\n",
       "      <th>lag_178</th>\n",
       "    </tr>\n",
       "    <tr>\n",
       "      <th>datetime</th>\n",
       "      <th></th>\n",
       "      <th></th>\n",
       "      <th></th>\n",
       "      <th></th>\n",
       "      <th></th>\n",
       "      <th></th>\n",
       "      <th></th>\n",
       "      <th></th>\n",
       "      <th></th>\n",
       "      <th></th>\n",
       "      <th></th>\n",
       "      <th></th>\n",
       "      <th></th>\n",
       "      <th></th>\n",
       "      <th></th>\n",
       "      <th></th>\n",
       "      <th></th>\n",
       "      <th></th>\n",
       "      <th></th>\n",
       "      <th></th>\n",
       "      <th></th>\n",
       "    </tr>\n",
       "  </thead>\n",
       "  <tbody>\n",
       "    <tr>\n",
       "      <th>2018-03-01 00:00:00</th>\n",
       "      <td>124</td>\n",
       "      <td>1</td>\n",
       "      <td>3</td>\n",
       "      <td>0</td>\n",
       "      <td>NaN</td>\n",
       "      <td>NaN</td>\n",
       "      <td>NaN</td>\n",
       "      <td>NaN</td>\n",
       "      <td>NaN</td>\n",
       "      <td>NaN</td>\n",
       "      <td>...</td>\n",
       "      <td>NaN</td>\n",
       "      <td>NaN</td>\n",
       "      <td>NaN</td>\n",
       "      <td>NaN</td>\n",
       "      <td>NaN</td>\n",
       "      <td>NaN</td>\n",
       "      <td>NaN</td>\n",
       "      <td>NaN</td>\n",
       "      <td>NaN</td>\n",
       "      <td>NaN</td>\n",
       "    </tr>\n",
       "    <tr>\n",
       "      <th>2018-03-01 01:00:00</th>\n",
       "      <td>85</td>\n",
       "      <td>1</td>\n",
       "      <td>3</td>\n",
       "      <td>1</td>\n",
       "      <td>124.0</td>\n",
       "      <td>NaN</td>\n",
       "      <td>NaN</td>\n",
       "      <td>NaN</td>\n",
       "      <td>NaN</td>\n",
       "      <td>NaN</td>\n",
       "      <td>...</td>\n",
       "      <td>NaN</td>\n",
       "      <td>NaN</td>\n",
       "      <td>NaN</td>\n",
       "      <td>NaN</td>\n",
       "      <td>NaN</td>\n",
       "      <td>NaN</td>\n",
       "      <td>NaN</td>\n",
       "      <td>NaN</td>\n",
       "      <td>NaN</td>\n",
       "      <td>NaN</td>\n",
       "    </tr>\n",
       "    <tr>\n",
       "      <th>2018-03-01 02:00:00</th>\n",
       "      <td>71</td>\n",
       "      <td>1</td>\n",
       "      <td>3</td>\n",
       "      <td>2</td>\n",
       "      <td>85.0</td>\n",
       "      <td>124.0</td>\n",
       "      <td>NaN</td>\n",
       "      <td>NaN</td>\n",
       "      <td>NaN</td>\n",
       "      <td>NaN</td>\n",
       "      <td>...</td>\n",
       "      <td>NaN</td>\n",
       "      <td>NaN</td>\n",
       "      <td>NaN</td>\n",
       "      <td>NaN</td>\n",
       "      <td>NaN</td>\n",
       "      <td>NaN</td>\n",
       "      <td>NaN</td>\n",
       "      <td>NaN</td>\n",
       "      <td>NaN</td>\n",
       "      <td>NaN</td>\n",
       "    </tr>\n",
       "    <tr>\n",
       "      <th>2018-03-01 03:00:00</th>\n",
       "      <td>66</td>\n",
       "      <td>1</td>\n",
       "      <td>3</td>\n",
       "      <td>3</td>\n",
       "      <td>71.0</td>\n",
       "      <td>85.0</td>\n",
       "      <td>124.0</td>\n",
       "      <td>NaN</td>\n",
       "      <td>NaN</td>\n",
       "      <td>NaN</td>\n",
       "      <td>...</td>\n",
       "      <td>NaN</td>\n",
       "      <td>NaN</td>\n",
       "      <td>NaN</td>\n",
       "      <td>NaN</td>\n",
       "      <td>NaN</td>\n",
       "      <td>NaN</td>\n",
       "      <td>NaN</td>\n",
       "      <td>NaN</td>\n",
       "      <td>NaN</td>\n",
       "      <td>NaN</td>\n",
       "    </tr>\n",
       "    <tr>\n",
       "      <th>2018-03-01 04:00:00</th>\n",
       "      <td>43</td>\n",
       "      <td>1</td>\n",
       "      <td>3</td>\n",
       "      <td>4</td>\n",
       "      <td>66.0</td>\n",
       "      <td>71.0</td>\n",
       "      <td>85.0</td>\n",
       "      <td>124.0</td>\n",
       "      <td>NaN</td>\n",
       "      <td>NaN</td>\n",
       "      <td>...</td>\n",
       "      <td>NaN</td>\n",
       "      <td>NaN</td>\n",
       "      <td>NaN</td>\n",
       "      <td>NaN</td>\n",
       "      <td>NaN</td>\n",
       "      <td>NaN</td>\n",
       "      <td>NaN</td>\n",
       "      <td>NaN</td>\n",
       "      <td>NaN</td>\n",
       "      <td>NaN</td>\n",
       "    </tr>\n",
       "    <tr>\n",
       "      <th>...</th>\n",
       "      <td>...</td>\n",
       "      <td>...</td>\n",
       "      <td>...</td>\n",
       "      <td>...</td>\n",
       "      <td>...</td>\n",
       "      <td>...</td>\n",
       "      <td>...</td>\n",
       "      <td>...</td>\n",
       "      <td>...</td>\n",
       "      <td>...</td>\n",
       "      <td>...</td>\n",
       "      <td>...</td>\n",
       "      <td>...</td>\n",
       "      <td>...</td>\n",
       "      <td>...</td>\n",
       "      <td>...</td>\n",
       "      <td>...</td>\n",
       "      <td>...</td>\n",
       "      <td>...</td>\n",
       "      <td>...</td>\n",
       "      <td>...</td>\n",
       "    </tr>\n",
       "    <tr>\n",
       "      <th>2018-08-31 19:00:00</th>\n",
       "      <td>136</td>\n",
       "      <td>31</td>\n",
       "      <td>4</td>\n",
       "      <td>19</td>\n",
       "      <td>207.0</td>\n",
       "      <td>217.0</td>\n",
       "      <td>197.0</td>\n",
       "      <td>116.0</td>\n",
       "      <td>133.0</td>\n",
       "      <td>166.0</td>\n",
       "      <td>...</td>\n",
       "      <td>137.0</td>\n",
       "      <td>170.0</td>\n",
       "      <td>188.0</td>\n",
       "      <td>117.0</td>\n",
       "      <td>88.0</td>\n",
       "      <td>144.0</td>\n",
       "      <td>118.0</td>\n",
       "      <td>151.0</td>\n",
       "      <td>205.0</td>\n",
       "      <td>170.0</td>\n",
       "    </tr>\n",
       "    <tr>\n",
       "      <th>2018-08-31 20:00:00</th>\n",
       "      <td>154</td>\n",
       "      <td>31</td>\n",
       "      <td>4</td>\n",
       "      <td>20</td>\n",
       "      <td>136.0</td>\n",
       "      <td>207.0</td>\n",
       "      <td>217.0</td>\n",
       "      <td>197.0</td>\n",
       "      <td>116.0</td>\n",
       "      <td>133.0</td>\n",
       "      <td>...</td>\n",
       "      <td>113.0</td>\n",
       "      <td>137.0</td>\n",
       "      <td>170.0</td>\n",
       "      <td>188.0</td>\n",
       "      <td>117.0</td>\n",
       "      <td>88.0</td>\n",
       "      <td>144.0</td>\n",
       "      <td>118.0</td>\n",
       "      <td>151.0</td>\n",
       "      <td>205.0</td>\n",
       "    </tr>\n",
       "    <tr>\n",
       "      <th>2018-08-31 21:00:00</th>\n",
       "      <td>159</td>\n",
       "      <td>31</td>\n",
       "      <td>4</td>\n",
       "      <td>21</td>\n",
       "      <td>154.0</td>\n",
       "      <td>136.0</td>\n",
       "      <td>207.0</td>\n",
       "      <td>217.0</td>\n",
       "      <td>197.0</td>\n",
       "      <td>116.0</td>\n",
       "      <td>...</td>\n",
       "      <td>179.0</td>\n",
       "      <td>113.0</td>\n",
       "      <td>137.0</td>\n",
       "      <td>170.0</td>\n",
       "      <td>188.0</td>\n",
       "      <td>117.0</td>\n",
       "      <td>88.0</td>\n",
       "      <td>144.0</td>\n",
       "      <td>118.0</td>\n",
       "      <td>151.0</td>\n",
       "    </tr>\n",
       "    <tr>\n",
       "      <th>2018-08-31 22:00:00</th>\n",
       "      <td>223</td>\n",
       "      <td>31</td>\n",
       "      <td>4</td>\n",
       "      <td>22</td>\n",
       "      <td>159.0</td>\n",
       "      <td>154.0</td>\n",
       "      <td>136.0</td>\n",
       "      <td>207.0</td>\n",
       "      <td>217.0</td>\n",
       "      <td>197.0</td>\n",
       "      <td>...</td>\n",
       "      <td>166.0</td>\n",
       "      <td>179.0</td>\n",
       "      <td>113.0</td>\n",
       "      <td>137.0</td>\n",
       "      <td>170.0</td>\n",
       "      <td>188.0</td>\n",
       "      <td>117.0</td>\n",
       "      <td>88.0</td>\n",
       "      <td>144.0</td>\n",
       "      <td>118.0</td>\n",
       "    </tr>\n",
       "    <tr>\n",
       "      <th>2018-08-31 23:00:00</th>\n",
       "      <td>205</td>\n",
       "      <td>31</td>\n",
       "      <td>4</td>\n",
       "      <td>23</td>\n",
       "      <td>223.0</td>\n",
       "      <td>159.0</td>\n",
       "      <td>154.0</td>\n",
       "      <td>136.0</td>\n",
       "      <td>207.0</td>\n",
       "      <td>217.0</td>\n",
       "      <td>...</td>\n",
       "      <td>242.0</td>\n",
       "      <td>166.0</td>\n",
       "      <td>179.0</td>\n",
       "      <td>113.0</td>\n",
       "      <td>137.0</td>\n",
       "      <td>170.0</td>\n",
       "      <td>188.0</td>\n",
       "      <td>117.0</td>\n",
       "      <td>88.0</td>\n",
       "      <td>144.0</td>\n",
       "    </tr>\n",
       "  </tbody>\n",
       "</table>\n",
       "<p>4416 rows × 183 columns</p>\n",
       "</div>"
      ],
      "text/plain": [
       "                     num_orders  day  dayofweek  hour  lag_1  lag_2  lag_3  \\\n",
       "datetime                                                                     \n",
       "2018-03-01 00:00:00         124    1          3     0    NaN    NaN    NaN   \n",
       "2018-03-01 01:00:00          85    1          3     1  124.0    NaN    NaN   \n",
       "2018-03-01 02:00:00          71    1          3     2   85.0  124.0    NaN   \n",
       "2018-03-01 03:00:00          66    1          3     3   71.0   85.0  124.0   \n",
       "2018-03-01 04:00:00          43    1          3     4   66.0   71.0   85.0   \n",
       "...                         ...  ...        ...   ...    ...    ...    ...   \n",
       "2018-08-31 19:00:00         136   31          4    19  207.0  217.0  197.0   \n",
       "2018-08-31 20:00:00         154   31          4    20  136.0  207.0  217.0   \n",
       "2018-08-31 21:00:00         159   31          4    21  154.0  136.0  207.0   \n",
       "2018-08-31 22:00:00         223   31          4    22  159.0  154.0  136.0   \n",
       "2018-08-31 23:00:00         205   31          4    23  223.0  159.0  154.0   \n",
       "\n",
       "                     lag_4  lag_5  lag_6  ...  lag_169  lag_170  lag_171  \\\n",
       "datetime                                  ...                              \n",
       "2018-03-01 00:00:00    NaN    NaN    NaN  ...      NaN      NaN      NaN   \n",
       "2018-03-01 01:00:00    NaN    NaN    NaN  ...      NaN      NaN      NaN   \n",
       "2018-03-01 02:00:00    NaN    NaN    NaN  ...      NaN      NaN      NaN   \n",
       "2018-03-01 03:00:00    NaN    NaN    NaN  ...      NaN      NaN      NaN   \n",
       "2018-03-01 04:00:00  124.0    NaN    NaN  ...      NaN      NaN      NaN   \n",
       "...                    ...    ...    ...  ...      ...      ...      ...   \n",
       "2018-08-31 19:00:00  116.0  133.0  166.0  ...    137.0    170.0    188.0   \n",
       "2018-08-31 20:00:00  197.0  116.0  133.0  ...    113.0    137.0    170.0   \n",
       "2018-08-31 21:00:00  217.0  197.0  116.0  ...    179.0    113.0    137.0   \n",
       "2018-08-31 22:00:00  207.0  217.0  197.0  ...    166.0    179.0    113.0   \n",
       "2018-08-31 23:00:00  136.0  207.0  217.0  ...    242.0    166.0    179.0   \n",
       "\n",
       "                     lag_172  lag_173  lag_174  lag_175  lag_176  lag_177  \\\n",
       "datetime                                                                    \n",
       "2018-03-01 00:00:00      NaN      NaN      NaN      NaN      NaN      NaN   \n",
       "2018-03-01 01:00:00      NaN      NaN      NaN      NaN      NaN      NaN   \n",
       "2018-03-01 02:00:00      NaN      NaN      NaN      NaN      NaN      NaN   \n",
       "2018-03-01 03:00:00      NaN      NaN      NaN      NaN      NaN      NaN   \n",
       "2018-03-01 04:00:00      NaN      NaN      NaN      NaN      NaN      NaN   \n",
       "...                      ...      ...      ...      ...      ...      ...   \n",
       "2018-08-31 19:00:00    117.0     88.0    144.0    118.0    151.0    205.0   \n",
       "2018-08-31 20:00:00    188.0    117.0     88.0    144.0    118.0    151.0   \n",
       "2018-08-31 21:00:00    170.0    188.0    117.0     88.0    144.0    118.0   \n",
       "2018-08-31 22:00:00    137.0    170.0    188.0    117.0     88.0    144.0   \n",
       "2018-08-31 23:00:00    113.0    137.0    170.0    188.0    117.0     88.0   \n",
       "\n",
       "                     lag_178  \n",
       "datetime                      \n",
       "2018-03-01 00:00:00      NaN  \n",
       "2018-03-01 01:00:00      NaN  \n",
       "2018-03-01 02:00:00      NaN  \n",
       "2018-03-01 03:00:00      NaN  \n",
       "2018-03-01 04:00:00      NaN  \n",
       "...                      ...  \n",
       "2018-08-31 19:00:00    170.0  \n",
       "2018-08-31 20:00:00    205.0  \n",
       "2018-08-31 21:00:00    151.0  \n",
       "2018-08-31 22:00:00    118.0  \n",
       "2018-08-31 23:00:00    144.0  \n",
       "\n",
       "[4416 rows x 183 columns]"
      ]
     },
     "execution_count": 19,
     "metadata": {},
     "output_type": "execute_result"
    }
   ],
   "source": [
    "data"
   ]
  },
  {
   "cell_type": "markdown",
   "metadata": {},
   "source": [
    "### Линейная регрессия\n",
    "\n",
    "Обучим модель Линейная регрессия и оценим качество её предсказаний с помощью метрики RMSE. Так же используем `TimeSplitter` в качестве аргумента параметра cv для адекватной работы кросс валидации временных рядов."
   ]
  },
  {
   "cell_type": "code",
   "execution_count": 20,
   "metadata": {},
   "outputs": [],
   "source": [
    "tscv = TimeSeriesSplit(n_splits=5)"
   ]
  },
  {
   "cell_type": "code",
   "execution_count": 32,
   "metadata": {},
   "outputs": [
    {
     "name": "stdout",
     "output_type": "stream",
     "text": [
      "RMSE модели CBR на обучающей выборке: 22.83\n"
     ]
    }
   ],
   "source": [
    "cv = TimeSeriesSplit(n_splits=3).split(features_train)\n",
    "model_lr = LinearRegression() \n",
    "model_lr.fit(features_train, target_train)\n",
    "score_lr = cross_val_score(model_lr, features_train, target_train, scoring='neg_mean_squared_error', cv=tscv)\n",
    "rmse_lr = round(np.mean(-score_lr)**0.5, 2)\n",
    "print('RMSE модели LR на обучающей выборке: {:.2f}'.format(rmse_lr))"
   ]
  },
  {
   "cell_type": "markdown",
   "metadata": {},
   "source": [
    "### CatBoostRegressor\n",
    "Прежде чем обучать эту модель, подберём для неё наилучшие гиперпараметры с поомщью `grid search`. "
   ]
  },
  {
   "cell_type": "code",
   "execution_count": 23,
   "metadata": {},
   "outputs": [
    {
     "name": "stdout",
     "output_type": "stream",
     "text": [
      "Лучшие гиперпараметры:  {'depth': 4, 'iterations': 70, 'random_state': 0, 'verbose': False}\n",
      "RMSE модели CBR на обучающей выборке: 23.96\n"
     ]
    }
   ],
   "source": [
    "model_cbr = CatBoostRegressor()\n",
    "params = {\n",
    "    'verbose'     : [False],\n",
    "    'random_state': [state],\n",
    "    'depth'       : [4, 6, 8],\n",
    "    'iterations'  : [10, 30, 50, 70]\n",
    "    }\n",
    "\n",
    "grid_cv = GridSearchCV(estimator=model_cbr, param_grid=params, cv=tscv, n_jobs=-1, scoring='neg_mean_squared_error')\n",
    "grid_cv.fit(features_train, target_train)\n",
    "rmse_cbr = (-grid_cv.best_score_) ** 0.5 \n",
    "cbr_params = grid_cv.best_params_\n",
    "\n",
    "print('Лучшие гиперпараметры: ', grid_cv.best_params_)\n",
    "print('RMSE модели CBR на обучающей выборке: {:.2f}'.format(rmse_cbr))"
   ]
  },
  {
   "cell_type": "markdown",
   "metadata": {},
   "source": [
    "### RandomForestRegressor"
   ]
  },
  {
   "cell_type": "code",
   "execution_count": 34,
   "metadata": {
    "scrolled": true
   },
   "outputs": [
    {
     "name": "stdout",
     "output_type": "stream",
     "text": [
      "Лучшие гиперпараметры:  {'max_depth': 10, 'n_estimators': 100, 'random_state': 0}\n",
      "RMSE модели CBR на обучающей выборке: 23.11\n"
     ]
    }
   ],
   "source": [
    "model_rfr = RandomForestRegressor()\n",
    "params = {\n",
    "    'random_state': [state],\n",
    "    'n_estimators': range(50, 101, 10),\n",
    "    'max_depth'   : range(1, 11, 3),\n",
    "    }\n",
    "\n",
    "grid_cv = GridSearchCV(estimator=model_rfr, param_grid=params, cv=tscv, n_jobs=-1, scoring='neg_mean_squared_error')\n",
    "grid_cv.fit(features_train, target_train)\n",
    "rmse_rfr = (-grid_cv.best_score_) ** 0.5\n",
    "rfr_params = grid_cv.best_params_\n",
    "\n",
    "print('Лучшие гиперпараметры: ', grid_cv.best_params_)\n",
    "print('RMSE модели CBR на обучающей выборке: {:.2f}'.format(rmse_rfr))"
   ]
  },
  {
   "cell_type": "markdown",
   "metadata": {},
   "source": [
    "Сведём результаты обучения в одну таблицу для наглядности:"
   ]
  },
  {
   "cell_type": "code",
   "execution_count": 35,
   "metadata": {},
   "outputs": [
    {
     "data": {
      "text/html": [
       "<div>\n",
       "<style scoped>\n",
       "    .dataframe tbody tr th:only-of-type {\n",
       "        vertical-align: middle;\n",
       "    }\n",
       "\n",
       "    .dataframe tbody tr th {\n",
       "        vertical-align: top;\n",
       "    }\n",
       "\n",
       "    .dataframe thead th {\n",
       "        text-align: right;\n",
       "    }\n",
       "</style>\n",
       "<table border=\"1\" class=\"dataframe\">\n",
       "  <thead>\n",
       "    <tr style=\"text-align: right;\">\n",
       "      <th></th>\n",
       "      <th>Модель</th>\n",
       "      <th>RMSE</th>\n",
       "    </tr>\n",
       "  </thead>\n",
       "  <tbody>\n",
       "    <tr>\n",
       "      <th>0</th>\n",
       "      <td>LR</td>\n",
       "      <td>22.83000</td>\n",
       "    </tr>\n",
       "    <tr>\n",
       "      <th>1</th>\n",
       "      <td>CBR</td>\n",
       "      <td>23.95966</td>\n",
       "    </tr>\n",
       "    <tr>\n",
       "      <th>2</th>\n",
       "      <td>RFR</td>\n",
       "      <td>23.11043</td>\n",
       "    </tr>\n",
       "  </tbody>\n",
       "</table>\n",
       "</div>"
      ],
      "text/plain": [
       "  Модель      RMSE\n",
       "0     LR  22.83000\n",
       "1    CBR  23.95966\n",
       "2    RFR  23.11043"
      ]
     },
     "execution_count": 35,
     "metadata": {},
     "output_type": "execute_result"
    }
   ],
   "source": [
    "models = [['LR', rmse_lr], ['CBR', rmse_cbr], ['RFR', rmse_rfr]] \n",
    "    \n",
    "results = pd.DataFrame(models, columns = ['Модель', 'RMSE']) \n",
    "results.set_index('Модель')\n",
    "results"
   ]
  },
  {
   "cell_type": "markdown",
   "metadata": {},
   "source": [
    "Лучший результат показала модель Линейная Регрессия. Переходим к этапу тестирования.\n",
    "\n",
    "## Тестирование"
   ]
  },
  {
   "cell_type": "code",
   "execution_count": 40,
   "metadata": {
    "scrolled": true
   },
   "outputs": [
    {
     "name": "stdout",
     "output_type": "stream",
     "text": [
      "RMSE модели LR на тестовой выборке: 38.82\n"
     ]
    }
   ],
   "source": [
    "model_test = LinearRegression()\n",
    "model_test.fit(features_train, target_train)\n",
    "\n",
    "predict_test = model_test.predict(features_test)\n",
    "rmse_test = rmse(target_test, predict_test)\n",
    "print('RMSE модели LR на тестовой выборке: {:.2f}'.format(rmse_test))"
   ]
  },
  {
   "cell_type": "markdown",
   "metadata": {},
   "source": [
    "Проверим на дамми модели:"
   ]
  },
  {
   "cell_type": "code",
   "execution_count": 39,
   "metadata": {},
   "outputs": [
    {
     "name": "stdout",
     "output_type": "stream",
     "text": [
      "RMSE модели RFR на тестовой выборке: 83.95\n"
     ]
    }
   ],
   "source": [
    "dummy = DummyRegressor()\n",
    "dummy.fit(features_train, target_train)\n",
    "\n",
    "dummy_test = dummy.predict(features_test)\n",
    "rmse_test = rmse(target_test, dummy_test)\n",
    "print('RMSE модели RFR на тестовой выборке: {:.2f}'.format(rmse_test))"
   ]
  },
  {
   "cell_type": "markdown",
   "metadata": {},
   "source": [
    "Выбранная модель показала значительно меньшую среднеквадратичную ошибку, чем дамми модель. Модель адекватна."
   ]
  },
  {
   "cell_type": "markdown",
   "metadata": {},
   "source": [
    "## Выводы\n",
    "\n",
    "1. Генеральная выборка представляет собой хронологически упорядоченные данные о вызове такси с интервалом в 10 минут;\n",
    "1. Данные были ресемплированы до 1 часа и изучены:\n",
    "    - Ежедневные колебания имеют сезонный характер;\n",
    "    - Количество заказов на такси растёт ближе к сентябрю, что объясняется повышенным спросом на услуги авиаперевозок в туристические сезоны;\n",
    "    - Временной ряд выборки имеет нестационарный характер, однако может быть приведён к стационарному, следовательно, быть предметом обучения модели.\n",
    "1. Обученные модели показали следующие метрики RMSE:\n",
    "    - LinearRegression : 22.83\n",
    "    - CatBoostRegressor : 23.96\n",
    "    - RandomForestRegressor : 23.11\n",
    "1. Предсказания модели Линейная Регрессия на тестовой выборке имеет среднеквадратичное отколнение эквивалентное 38.92 и пригодна для дальнейших предсказаний и работы."
   ]
  }
 ],
 "metadata": {
  "ExecuteTimeLog": [
   {
    "duration": 1934,
    "start_time": "2023-05-17T06:32:06.647Z"
   },
   {
    "duration": 5,
    "start_time": "2023-05-17T06:32:46.473Z"
   },
   {
    "duration": 64,
    "start_time": "2023-05-17T06:33:52.805Z"
   },
   {
    "duration": 193,
    "start_time": "2023-05-17T06:35:04.329Z"
   },
   {
    "duration": 13,
    "start_time": "2023-05-17T06:35:07.040Z"
   },
   {
    "duration": 11,
    "start_time": "2023-05-17T06:35:17.724Z"
   },
   {
    "duration": 11,
    "start_time": "2023-05-17T06:35:42.535Z"
   },
   {
    "duration": 169,
    "start_time": "2023-05-17T06:37:36.870Z"
   },
   {
    "duration": 19,
    "start_time": "2023-05-17T06:37:49.061Z"
   },
   {
    "duration": 8,
    "start_time": "2023-05-17T06:43:24.288Z"
   },
   {
    "duration": 16,
    "start_time": "2023-05-17T06:43:32.121Z"
   },
   {
    "duration": 188,
    "start_time": "2023-05-17T06:44:43.125Z"
   },
   {
    "duration": 18,
    "start_time": "2023-05-17T06:44:56.965Z"
   },
   {
    "duration": 249,
    "start_time": "2023-05-17T06:45:03.648Z"
   },
   {
    "duration": 347,
    "start_time": "2023-05-17T06:45:05.945Z"
   },
   {
    "duration": 162,
    "start_time": "2023-05-17T06:45:13.637Z"
   },
   {
    "duration": 177,
    "start_time": "2023-05-17T06:45:30.370Z"
   },
   {
    "duration": 284,
    "start_time": "2023-05-17T06:47:12.283Z"
   },
   {
    "duration": 299,
    "start_time": "2023-05-17T06:47:19.221Z"
   },
   {
    "duration": 384,
    "start_time": "2023-05-17T06:47:58.790Z"
   },
   {
    "duration": 13,
    "start_time": "2023-05-17T06:51:26.177Z"
   },
   {
    "duration": 912,
    "start_time": "2023-05-17T06:51:39.033Z"
   },
   {
    "duration": 922,
    "start_time": "2023-05-17T06:51:47.248Z"
   },
   {
    "duration": 949,
    "start_time": "2023-05-17T06:51:53.356Z"
   },
   {
    "duration": 1068,
    "start_time": "2023-05-17T06:52:06.733Z"
   },
   {
    "duration": 901,
    "start_time": "2023-05-17T06:52:12.008Z"
   },
   {
    "duration": 979,
    "start_time": "2023-05-17T06:52:21.154Z"
   },
   {
    "duration": 838,
    "start_time": "2023-05-17T06:52:28.475Z"
   },
   {
    "duration": 915,
    "start_time": "2023-05-17T06:52:39.524Z"
   },
   {
    "duration": 1078,
    "start_time": "2023-05-17T06:52:47.348Z"
   },
   {
    "duration": 1003,
    "start_time": "2023-05-17T06:53:00.754Z"
   },
   {
    "duration": 1066,
    "start_time": "2023-05-17T06:53:14.350Z"
   },
   {
    "duration": 829,
    "start_time": "2023-05-17T06:53:21.020Z"
   },
   {
    "duration": 810,
    "start_time": "2023-05-17T06:53:44.255Z"
   },
   {
    "duration": 1031,
    "start_time": "2023-05-17T06:53:47.619Z"
   },
   {
    "duration": 855,
    "start_time": "2023-05-17T06:53:54.424Z"
   },
   {
    "duration": 944,
    "start_time": "2023-05-17T06:54:06.732Z"
   },
   {
    "duration": 927,
    "start_time": "2023-05-17T06:54:14.352Z"
   },
   {
    "duration": 793,
    "start_time": "2023-05-17T06:54:21.140Z"
   },
   {
    "duration": 812,
    "start_time": "2023-05-17T06:54:29.077Z"
   },
   {
    "duration": 1116,
    "start_time": "2023-05-17T06:54:39.487Z"
   },
   {
    "duration": 911,
    "start_time": "2023-05-17T06:54:52.085Z"
   },
   {
    "duration": 1043,
    "start_time": "2023-05-17T06:54:58.357Z"
   },
   {
    "duration": 859,
    "start_time": "2023-05-17T06:55:05.190Z"
   },
   {
    "duration": 739,
    "start_time": "2023-05-17T06:55:25.654Z"
   },
   {
    "duration": 15,
    "start_time": "2023-05-17T06:56:23.246Z"
   },
   {
    "duration": 409,
    "start_time": "2023-05-17T06:56:39.366Z"
   },
   {
    "duration": 24,
    "start_time": "2023-05-17T07:13:24.587Z"
   },
   {
    "duration": 316,
    "start_time": "2023-05-17T08:43:03.975Z"
   },
   {
    "duration": 20,
    "start_time": "2023-05-17T08:44:28.944Z"
   },
   {
    "duration": 136,
    "start_time": "2023-05-17T08:54:44.236Z"
   },
   {
    "duration": 50,
    "start_time": "2023-05-17T11:08:57.967Z"
   },
   {
    "duration": 1845,
    "start_time": "2023-05-17T11:09:06.048Z"
   },
   {
    "duration": 207,
    "start_time": "2023-05-17T11:09:07.895Z"
   },
   {
    "duration": 11,
    "start_time": "2023-05-17T11:09:08.104Z"
   },
   {
    "duration": 11,
    "start_time": "2023-05-17T11:09:08.117Z"
   },
   {
    "duration": 18,
    "start_time": "2023-05-17T11:09:08.129Z"
   },
   {
    "duration": 18,
    "start_time": "2023-05-17T11:09:08.148Z"
   },
   {
    "duration": 172,
    "start_time": "2023-05-17T11:09:08.167Z"
   },
   {
    "duration": 163,
    "start_time": "2023-05-17T11:09:08.341Z"
   },
   {
    "duration": 233,
    "start_time": "2023-05-17T11:09:08.506Z"
   },
   {
    "duration": 974,
    "start_time": "2023-05-17T11:09:08.741Z"
   },
   {
    "duration": 143,
    "start_time": "2023-05-17T11:09:09.717Z"
   },
   {
    "duration": 277,
    "start_time": "2023-05-17T11:09:09.864Z"
   },
   {
    "duration": 321,
    "start_time": "2023-05-17T11:09:10.143Z"
   },
   {
    "duration": 124,
    "start_time": "2023-05-17T11:21:17.830Z"
   },
   {
    "duration": 6,
    "start_time": "2023-05-17T11:23:58.518Z"
   },
   {
    "duration": 19,
    "start_time": "2023-05-17T11:33:25.696Z"
   },
   {
    "duration": 25,
    "start_time": "2023-05-17T11:33:35.350Z"
   },
   {
    "duration": 169,
    "start_time": "2023-05-17T11:33:52.446Z"
   },
   {
    "duration": 60,
    "start_time": "2023-05-17T11:34:17.514Z"
   },
   {
    "duration": 31,
    "start_time": "2023-05-17T11:34:29.292Z"
   },
   {
    "duration": 5,
    "start_time": "2023-05-17T11:35:17.705Z"
   },
   {
    "duration": 69,
    "start_time": "2023-05-17T11:35:25.228Z"
   },
   {
    "duration": 1803,
    "start_time": "2023-05-17T11:38:06.292Z"
   },
   {
    "duration": 1791,
    "start_time": "2023-05-17T11:38:14.040Z"
   },
   {
    "duration": 1836,
    "start_time": "2023-05-17T11:38:24.097Z"
   },
   {
    "duration": 61,
    "start_time": "2023-05-17T11:38:25.935Z"
   },
   {
    "duration": 16,
    "start_time": "2023-05-17T11:38:25.998Z"
   },
   {
    "duration": 17,
    "start_time": "2023-05-17T11:38:26.016Z"
   },
   {
    "duration": 40,
    "start_time": "2023-05-17T11:38:26.036Z"
   },
   {
    "duration": 20,
    "start_time": "2023-05-17T11:38:26.079Z"
   },
   {
    "duration": 206,
    "start_time": "2023-05-17T11:38:26.101Z"
   },
   {
    "duration": 202,
    "start_time": "2023-05-17T11:38:26.309Z"
   },
   {
    "duration": 293,
    "start_time": "2023-05-17T11:38:26.513Z"
   },
   {
    "duration": 1046,
    "start_time": "2023-05-17T11:38:26.809Z"
   },
   {
    "duration": 169,
    "start_time": "2023-05-17T11:38:27.857Z"
   },
   {
    "duration": 321,
    "start_time": "2023-05-17T11:38:28.028Z"
   },
   {
    "duration": 376,
    "start_time": "2023-05-17T11:38:28.361Z"
   },
   {
    "duration": 160,
    "start_time": "2023-05-17T11:38:28.740Z"
   },
   {
    "duration": 146,
    "start_time": "2023-05-17T11:38:37.492Z"
   },
   {
    "duration": 1675,
    "start_time": "2023-05-17T11:39:00.503Z"
   },
   {
    "duration": 55,
    "start_time": "2023-05-17T11:39:02.184Z"
   },
   {
    "duration": 11,
    "start_time": "2023-05-17T11:39:02.241Z"
   },
   {
    "duration": 42,
    "start_time": "2023-05-17T11:39:02.254Z"
   },
   {
    "duration": 21,
    "start_time": "2023-05-17T11:39:02.299Z"
   },
   {
    "duration": 15,
    "start_time": "2023-05-17T11:39:02.322Z"
   },
   {
    "duration": 253,
    "start_time": "2023-05-17T11:39:02.340Z"
   },
   {
    "duration": 199,
    "start_time": "2023-05-17T11:39:02.595Z"
   },
   {
    "duration": 356,
    "start_time": "2023-05-17T11:39:02.799Z"
   },
   {
    "duration": 1044,
    "start_time": "2023-05-17T11:39:03.157Z"
   },
   {
    "duration": 194,
    "start_time": "2023-05-17T11:39:04.207Z"
   },
   {
    "duration": 323,
    "start_time": "2023-05-17T11:39:04.407Z"
   },
   {
    "duration": 386,
    "start_time": "2023-05-17T11:39:04.732Z"
   },
   {
    "duration": 6,
    "start_time": "2023-05-17T11:39:05.121Z"
   },
   {
    "duration": 173,
    "start_time": "2023-05-17T11:39:05.129Z"
   },
   {
    "duration": 133,
    "start_time": "2023-05-17T11:42:12.594Z"
   },
   {
    "duration": 17,
    "start_time": "2023-05-17T11:42:30.150Z"
   },
   {
    "duration": 30,
    "start_time": "2023-05-17T11:42:59.093Z"
   },
   {
    "duration": 20,
    "start_time": "2023-05-17T11:43:23.311Z"
   },
   {
    "duration": 18,
    "start_time": "2023-05-17T11:43:52.028Z"
   },
   {
    "duration": 21,
    "start_time": "2023-05-17T11:44:57.214Z"
   },
   {
    "duration": 22,
    "start_time": "2023-05-17T11:45:06.743Z"
   },
   {
    "duration": 23,
    "start_time": "2023-05-17T11:45:20.730Z"
   },
   {
    "duration": 16,
    "start_time": "2023-05-17T11:45:27.826Z"
   },
   {
    "duration": 17,
    "start_time": "2023-05-17T11:45:46.087Z"
   },
   {
    "duration": 13,
    "start_time": "2023-05-17T11:46:12.836Z"
   },
   {
    "duration": 15,
    "start_time": "2023-05-17T11:46:45.492Z"
   },
   {
    "duration": 29,
    "start_time": "2023-05-17T11:47:40.945Z"
   },
   {
    "duration": 1689,
    "start_time": "2023-05-17T11:52:52.827Z"
   },
   {
    "duration": 54,
    "start_time": "2023-05-17T11:52:54.518Z"
   },
   {
    "duration": 14,
    "start_time": "2023-05-17T11:52:54.574Z"
   },
   {
    "duration": 18,
    "start_time": "2023-05-17T11:52:54.593Z"
   },
   {
    "duration": 18,
    "start_time": "2023-05-17T11:52:54.614Z"
   },
   {
    "duration": 13,
    "start_time": "2023-05-17T11:52:54.634Z"
   },
   {
    "duration": 203,
    "start_time": "2023-05-17T11:52:54.648Z"
   },
   {
    "duration": 187,
    "start_time": "2023-05-17T11:52:54.852Z"
   },
   {
    "duration": 288,
    "start_time": "2023-05-17T11:52:55.041Z"
   },
   {
    "duration": 1021,
    "start_time": "2023-05-17T11:52:55.332Z"
   },
   {
    "duration": 178,
    "start_time": "2023-05-17T11:52:56.355Z"
   },
   {
    "duration": 345,
    "start_time": "2023-05-17T11:52:56.535Z"
   },
   {
    "duration": 355,
    "start_time": "2023-05-17T11:52:56.889Z"
   },
   {
    "duration": 20,
    "start_time": "2023-05-17T11:52:57.247Z"
   },
   {
    "duration": 147,
    "start_time": "2023-05-17T11:52:57.277Z"
   },
   {
    "duration": 14,
    "start_time": "2023-05-17T11:52:57.426Z"
   },
   {
    "duration": 1655,
    "start_time": "2023-05-17T11:54:54.492Z"
   },
   {
    "duration": 1807,
    "start_time": "2023-05-17T11:55:43.136Z"
   },
   {
    "duration": 93,
    "start_time": "2023-05-17T11:55:44.946Z"
   },
   {
    "duration": 34,
    "start_time": "2023-05-17T11:55:45.042Z"
   },
   {
    "duration": 21,
    "start_time": "2023-05-17T11:55:45.082Z"
   },
   {
    "duration": 22,
    "start_time": "2023-05-17T11:55:45.104Z"
   },
   {
    "duration": 17,
    "start_time": "2023-05-17T11:55:45.127Z"
   },
   {
    "duration": 237,
    "start_time": "2023-05-17T11:55:45.146Z"
   },
   {
    "duration": 195,
    "start_time": "2023-05-17T11:55:45.384Z"
   },
   {
    "duration": 291,
    "start_time": "2023-05-17T11:55:45.581Z"
   },
   {
    "duration": 1157,
    "start_time": "2023-05-17T11:55:45.875Z"
   },
   {
    "duration": 244,
    "start_time": "2023-05-17T11:55:47.034Z"
   },
   {
    "duration": 421,
    "start_time": "2023-05-17T11:55:47.287Z"
   },
   {
    "duration": 410,
    "start_time": "2023-05-17T11:55:47.710Z"
   },
   {
    "duration": 9,
    "start_time": "2023-05-17T11:55:48.122Z"
   },
   {
    "duration": 160,
    "start_time": "2023-05-17T11:55:48.133Z"
   },
   {
    "duration": 25,
    "start_time": "2023-05-17T11:55:48.295Z"
   },
   {
    "duration": 7,
    "start_time": "2023-05-17T11:58:22.757Z"
   },
   {
    "duration": 8,
    "start_time": "2023-05-17T11:58:48.805Z"
   },
   {
    "duration": 10,
    "start_time": "2023-05-17T11:59:36.112Z"
   },
   {
    "duration": 10,
    "start_time": "2023-05-17T11:59:42.895Z"
   },
   {
    "duration": 10,
    "start_time": "2023-05-17T11:59:46.026Z"
   },
   {
    "duration": 145,
    "start_time": "2023-05-17T12:01:06.284Z"
   },
   {
    "duration": 11,
    "start_time": "2023-05-17T12:01:11.730Z"
   },
   {
    "duration": 26,
    "start_time": "2023-05-17T12:18:31.235Z"
   },
   {
    "duration": 30053,
    "start_time": "2023-05-17T12:18:50.643Z"
   },
   {
    "duration": 3,
    "start_time": "2023-05-17T12:20:04.748Z"
   },
   {
    "duration": 15,
    "start_time": "2023-05-17T12:22:26.619Z"
   },
   {
    "duration": 1894,
    "start_time": "2023-05-17T12:28:37.834Z"
   },
   {
    "duration": 69,
    "start_time": "2023-05-17T12:28:39.731Z"
   },
   {
    "duration": 17,
    "start_time": "2023-05-17T12:28:39.807Z"
   },
   {
    "duration": 14,
    "start_time": "2023-05-17T12:28:39.827Z"
   },
   {
    "duration": 37,
    "start_time": "2023-05-17T12:28:39.844Z"
   },
   {
    "duration": 17,
    "start_time": "2023-05-17T12:28:39.883Z"
   },
   {
    "duration": 243,
    "start_time": "2023-05-17T12:28:39.904Z"
   },
   {
    "duration": 219,
    "start_time": "2023-05-17T12:28:40.149Z"
   },
   {
    "duration": 336,
    "start_time": "2023-05-17T12:28:40.374Z"
   },
   {
    "duration": 1398,
    "start_time": "2023-05-17T12:28:40.716Z"
   },
   {
    "duration": 210,
    "start_time": "2023-05-17T12:28:42.117Z"
   },
   {
    "duration": 373,
    "start_time": "2023-05-17T12:28:42.329Z"
   },
   {
    "duration": 451,
    "start_time": "2023-05-17T12:28:42.704Z"
   },
   {
    "duration": 9,
    "start_time": "2023-05-17T12:28:43.158Z"
   },
   {
    "duration": 203,
    "start_time": "2023-05-17T12:28:43.171Z"
   },
   {
    "duration": 21,
    "start_time": "2023-05-17T12:28:43.377Z"
   },
   {
    "duration": 13,
    "start_time": "2023-05-17T12:28:43.399Z"
   },
   {
    "duration": 13,
    "start_time": "2023-05-17T12:28:43.416Z"
   },
   {
    "duration": 101,
    "start_time": "2023-05-17T12:28:43.434Z"
   },
   {
    "duration": 0,
    "start_time": "2023-05-17T12:28:43.537Z"
   },
   {
    "duration": 0,
    "start_time": "2023-05-17T12:28:43.538Z"
   },
   {
    "duration": 19529,
    "start_time": "2023-05-17T12:28:52.617Z"
   },
   {
    "duration": 143,
    "start_time": "2023-05-17T12:29:12.148Z"
   },
   {
    "duration": 0,
    "start_time": "2023-05-17T12:29:12.305Z"
   },
   {
    "duration": 667852,
    "start_time": "2023-05-17T12:29:17.802Z"
   },
   {
    "duration": 0,
    "start_time": "2023-05-17T12:40:25.662Z"
   },
   {
    "duration": 0,
    "start_time": "2023-05-17T12:40:25.663Z"
   },
   {
    "duration": 1694,
    "start_time": "2023-05-17T12:40:41.501Z"
   },
   {
    "duration": 48,
    "start_time": "2023-05-17T12:40:43.197Z"
   },
   {
    "duration": 13,
    "start_time": "2023-05-17T12:40:43.247Z"
   },
   {
    "duration": 21,
    "start_time": "2023-05-17T12:40:43.263Z"
   },
   {
    "duration": 16,
    "start_time": "2023-05-17T12:40:43.285Z"
   },
   {
    "duration": 12,
    "start_time": "2023-05-17T12:40:43.302Z"
   },
   {
    "duration": 228,
    "start_time": "2023-05-17T12:40:43.316Z"
   },
   {
    "duration": 222,
    "start_time": "2023-05-17T12:40:43.546Z"
   },
   {
    "duration": 299,
    "start_time": "2023-05-17T12:40:43.770Z"
   },
   {
    "duration": 1112,
    "start_time": "2023-05-17T12:40:44.071Z"
   },
   {
    "duration": 146,
    "start_time": "2023-05-17T12:40:45.185Z"
   },
   {
    "duration": 337,
    "start_time": "2023-05-17T12:40:45.333Z"
   },
   {
    "duration": 373,
    "start_time": "2023-05-17T12:40:45.671Z"
   },
   {
    "duration": 17,
    "start_time": "2023-05-17T12:40:46.047Z"
   },
   {
    "duration": 171,
    "start_time": "2023-05-17T12:40:46.071Z"
   },
   {
    "duration": 30,
    "start_time": "2023-05-17T12:40:46.244Z"
   },
   {
    "duration": 8,
    "start_time": "2023-05-17T12:40:46.276Z"
   },
   {
    "duration": 32,
    "start_time": "2023-05-17T12:40:46.286Z"
   },
   {
    "duration": 12751,
    "start_time": "2023-05-17T12:40:46.320Z"
   },
   {
    "duration": 531,
    "start_time": "2023-05-17T12:40:59.077Z"
   },
   {
    "duration": 0,
    "start_time": "2023-05-17T12:40:59.611Z"
   },
   {
    "duration": 0,
    "start_time": "2023-05-17T12:40:59.612Z"
   },
   {
    "duration": 486,
    "start_time": "2023-05-17T12:41:39.048Z"
   },
   {
    "duration": 1114994,
    "start_time": "2023-05-17T12:41:39.798Z"
   },
   {
    "duration": 17,
    "start_time": "2023-05-17T13:00:40.735Z"
   },
   {
    "duration": 1686,
    "start_time": "2023-05-17T13:05:10.269Z"
   },
   {
    "duration": 75,
    "start_time": "2023-05-17T13:05:11.959Z"
   },
   {
    "duration": 14,
    "start_time": "2023-05-17T13:05:12.036Z"
   },
   {
    "duration": 41,
    "start_time": "2023-05-17T13:05:12.053Z"
   },
   {
    "duration": 36,
    "start_time": "2023-05-17T13:05:12.097Z"
   },
   {
    "duration": 17,
    "start_time": "2023-05-17T13:05:12.136Z"
   },
   {
    "duration": 253,
    "start_time": "2023-05-17T13:05:12.155Z"
   },
   {
    "duration": 211,
    "start_time": "2023-05-17T13:05:12.411Z"
   },
   {
    "duration": 363,
    "start_time": "2023-05-17T13:05:12.628Z"
   },
   {
    "duration": 1057,
    "start_time": "2023-05-17T13:05:12.995Z"
   },
   {
    "duration": 240,
    "start_time": "2023-05-17T13:05:14.054Z"
   },
   {
    "duration": 327,
    "start_time": "2023-05-17T13:05:14.296Z"
   },
   {
    "duration": 376,
    "start_time": "2023-05-17T13:05:14.625Z"
   },
   {
    "duration": 7,
    "start_time": "2023-05-17T13:05:15.004Z"
   },
   {
    "duration": 182,
    "start_time": "2023-05-17T13:05:15.014Z"
   },
   {
    "duration": 17,
    "start_time": "2023-05-17T13:05:15.198Z"
   },
   {
    "duration": 4,
    "start_time": "2023-05-17T13:05:15.217Z"
   },
   {
    "duration": 21,
    "start_time": "2023-05-17T13:05:15.224Z"
   },
   {
    "duration": 10,
    "start_time": "2023-05-17T13:05:15.256Z"
   },
   {
    "duration": 38036,
    "start_time": "2023-05-17T13:05:15.268Z"
   },
   {
    "duration": 535,
    "start_time": "2023-05-17T13:05:53.307Z"
   },
   {
    "duration": 1753,
    "start_time": "2023-05-17T13:09:40.946Z"
   },
   {
    "duration": 51,
    "start_time": "2023-05-17T13:09:42.701Z"
   },
   {
    "duration": 25,
    "start_time": "2023-05-17T13:09:42.754Z"
   },
   {
    "duration": 19,
    "start_time": "2023-05-17T13:09:42.783Z"
   },
   {
    "duration": 23,
    "start_time": "2023-05-17T13:09:42.805Z"
   },
   {
    "duration": 40,
    "start_time": "2023-05-17T13:09:42.830Z"
   },
   {
    "duration": 265,
    "start_time": "2023-05-17T13:09:42.872Z"
   },
   {
    "duration": 244,
    "start_time": "2023-05-17T13:09:43.138Z"
   },
   {
    "duration": 262,
    "start_time": "2023-05-17T13:09:43.383Z"
   },
   {
    "duration": 1145,
    "start_time": "2023-05-17T13:09:43.647Z"
   },
   {
    "duration": 154,
    "start_time": "2023-05-17T13:09:44.794Z"
   },
   {
    "duration": 311,
    "start_time": "2023-05-17T13:09:44.950Z"
   },
   {
    "duration": 349,
    "start_time": "2023-05-17T13:09:45.263Z"
   },
   {
    "duration": 7,
    "start_time": "2023-05-17T13:09:45.616Z"
   },
   {
    "duration": 173,
    "start_time": "2023-05-17T13:09:45.625Z"
   },
   {
    "duration": 15,
    "start_time": "2023-05-17T13:09:45.800Z"
   },
   {
    "duration": 4,
    "start_time": "2023-05-17T13:09:45.817Z"
   },
   {
    "duration": 12,
    "start_time": "2023-05-17T13:09:45.822Z"
   },
   {
    "duration": 26,
    "start_time": "2023-05-17T13:09:45.836Z"
   },
   {
    "duration": 36345,
    "start_time": "2023-05-17T13:09:45.864Z"
   },
   {
    "duration": 595,
    "start_time": "2023-05-17T13:10:22.212Z"
   },
   {
    "duration": 1542,
    "start_time": "2023-05-17T13:35:34.882Z"
   },
   {
    "duration": 54,
    "start_time": "2023-05-17T13:35:36.426Z"
   },
   {
    "duration": 12,
    "start_time": "2023-05-17T13:35:36.481Z"
   },
   {
    "duration": 17,
    "start_time": "2023-05-17T13:35:36.495Z"
   },
   {
    "duration": 24,
    "start_time": "2023-05-17T13:35:36.515Z"
   },
   {
    "duration": 35,
    "start_time": "2023-05-17T13:35:36.542Z"
   },
   {
    "duration": 202,
    "start_time": "2023-05-17T13:35:36.578Z"
   },
   {
    "duration": 197,
    "start_time": "2023-05-17T13:35:36.783Z"
   },
   {
    "duration": 248,
    "start_time": "2023-05-17T13:35:36.982Z"
   },
   {
    "duration": 1008,
    "start_time": "2023-05-17T13:35:37.232Z"
   },
   {
    "duration": 178,
    "start_time": "2023-05-17T13:35:38.242Z"
   },
   {
    "duration": 364,
    "start_time": "2023-05-17T13:35:38.422Z"
   },
   {
    "duration": 399,
    "start_time": "2023-05-17T13:35:38.788Z"
   },
   {
    "duration": 6,
    "start_time": "2023-05-17T13:35:39.190Z"
   },
   {
    "duration": 168,
    "start_time": "2023-05-17T13:35:39.198Z"
   },
   {
    "duration": 22,
    "start_time": "2023-05-17T13:35:39.369Z"
   },
   {
    "duration": 5,
    "start_time": "2023-05-17T13:35:39.393Z"
   },
   {
    "duration": 17,
    "start_time": "2023-05-17T13:35:39.399Z"
   },
   {
    "duration": 3,
    "start_time": "2023-05-17T13:35:39.418Z"
   },
   {
    "duration": 29475,
    "start_time": "2023-05-17T13:35:39.424Z"
   },
   {
    "duration": 500,
    "start_time": "2023-05-17T13:36:08.901Z"
   },
   {
    "duration": 1433,
    "start_time": "2023-05-17T13:37:04.033Z"
   },
   {
    "duration": 46,
    "start_time": "2023-05-17T13:37:05.469Z"
   },
   {
    "duration": 11,
    "start_time": "2023-05-17T13:37:05.517Z"
   },
   {
    "duration": 42,
    "start_time": "2023-05-17T13:37:05.530Z"
   },
   {
    "duration": 18,
    "start_time": "2023-05-17T13:37:05.574Z"
   },
   {
    "duration": 24,
    "start_time": "2023-05-17T13:37:05.594Z"
   },
   {
    "duration": 197,
    "start_time": "2023-05-17T13:37:05.620Z"
   },
   {
    "duration": 172,
    "start_time": "2023-05-17T13:37:05.818Z"
   },
   {
    "duration": 249,
    "start_time": "2023-05-17T13:37:05.991Z"
   },
   {
    "duration": 957,
    "start_time": "2023-05-17T13:37:06.242Z"
   },
   {
    "duration": 153,
    "start_time": "2023-05-17T13:37:07.201Z"
   },
   {
    "duration": 286,
    "start_time": "2023-05-17T13:37:07.356Z"
   },
   {
    "duration": 339,
    "start_time": "2023-05-17T13:37:07.644Z"
   },
   {
    "duration": 6,
    "start_time": "2023-05-17T13:37:07.985Z"
   },
   {
    "duration": 174,
    "start_time": "2023-05-17T13:37:07.993Z"
   },
   {
    "duration": 18,
    "start_time": "2023-05-17T13:37:08.169Z"
   },
   {
    "duration": 4,
    "start_time": "2023-05-17T13:37:08.189Z"
   },
   {
    "duration": 11,
    "start_time": "2023-05-17T13:37:08.195Z"
   },
   {
    "duration": 10,
    "start_time": "2023-05-17T13:37:08.208Z"
   },
   {
    "duration": 30004,
    "start_time": "2023-05-17T13:37:08.220Z"
   },
   {
    "duration": 364,
    "start_time": "2023-05-17T13:37:38.226Z"
   },
   {
    "duration": 224672,
    "start_time": "2023-05-17T13:37:38.592Z"
   },
   {
    "duration": 642,
    "start_time": "2023-05-17T13:41:23.266Z"
   },
   {
    "duration": 0,
    "start_time": "2023-05-17T13:41:23.911Z"
   },
   {
    "duration": 0,
    "start_time": "2023-05-17T13:41:23.913Z"
   },
   {
    "duration": 1432,
    "start_time": "2023-05-17T13:53:11.978Z"
   },
   {
    "duration": 56,
    "start_time": "2023-05-17T13:53:13.411Z"
   },
   {
    "duration": 12,
    "start_time": "2023-05-17T13:53:13.468Z"
   },
   {
    "duration": 11,
    "start_time": "2023-05-17T13:53:13.482Z"
   },
   {
    "duration": 13,
    "start_time": "2023-05-17T13:53:13.496Z"
   },
   {
    "duration": 13,
    "start_time": "2023-05-17T13:53:13.511Z"
   },
   {
    "duration": 238,
    "start_time": "2023-05-17T13:53:13.526Z"
   },
   {
    "duration": 196,
    "start_time": "2023-05-17T13:53:13.766Z"
   },
   {
    "duration": 275,
    "start_time": "2023-05-17T13:53:13.971Z"
   },
   {
    "duration": 925,
    "start_time": "2023-05-17T13:53:14.248Z"
   },
   {
    "duration": 139,
    "start_time": "2023-05-17T13:53:15.175Z"
   },
   {
    "duration": 288,
    "start_time": "2023-05-17T13:53:15.315Z"
   },
   {
    "duration": 334,
    "start_time": "2023-05-17T13:53:15.605Z"
   },
   {
    "duration": 6,
    "start_time": "2023-05-17T13:53:15.942Z"
   },
   {
    "duration": 153,
    "start_time": "2023-05-17T13:53:15.956Z"
   },
   {
    "duration": 18,
    "start_time": "2023-05-17T13:53:16.111Z"
   },
   {
    "duration": 14,
    "start_time": "2023-05-17T13:53:16.130Z"
   },
   {
    "duration": 17,
    "start_time": "2023-05-17T13:53:16.146Z"
   },
   {
    "duration": 22,
    "start_time": "2023-05-17T13:53:16.165Z"
   },
   {
    "duration": 28910,
    "start_time": "2023-05-17T13:53:16.189Z"
   },
   {
    "duration": 459,
    "start_time": "2023-05-17T13:53:45.101Z"
   },
   {
    "duration": 131997,
    "start_time": "2023-05-17T13:53:45.564Z"
   },
   {
    "duration": 491,
    "start_time": "2023-05-17T13:55:57.563Z"
   },
   {
    "duration": 0,
    "start_time": "2023-05-17T13:55:58.056Z"
   },
   {
    "duration": 0,
    "start_time": "2023-05-17T13:55:58.057Z"
   },
   {
    "duration": 505,
    "start_time": "2023-05-17T13:57:00.383Z"
   },
   {
    "duration": 2025,
    "start_time": "2023-05-17T13:59:57.717Z"
   },
   {
    "duration": 78,
    "start_time": "2023-05-17T13:59:59.745Z"
   },
   {
    "duration": 11,
    "start_time": "2023-05-17T13:59:59.824Z"
   },
   {
    "duration": 12,
    "start_time": "2023-05-17T13:59:59.837Z"
   },
   {
    "duration": 40,
    "start_time": "2023-05-17T13:59:59.853Z"
   },
   {
    "duration": 21,
    "start_time": "2023-05-17T13:59:59.899Z"
   },
   {
    "duration": 231,
    "start_time": "2023-05-17T13:59:59.922Z"
   },
   {
    "duration": 230,
    "start_time": "2023-05-17T14:00:00.155Z"
   },
   {
    "duration": 279,
    "start_time": "2023-05-17T14:00:00.387Z"
   },
   {
    "duration": 1024,
    "start_time": "2023-05-17T14:00:00.668Z"
   },
   {
    "duration": 194,
    "start_time": "2023-05-17T14:00:01.694Z"
   },
   {
    "duration": 340,
    "start_time": "2023-05-17T14:00:01.892Z"
   },
   {
    "duration": 369,
    "start_time": "2023-05-17T14:00:02.233Z"
   },
   {
    "duration": 6,
    "start_time": "2023-05-17T14:00:02.605Z"
   },
   {
    "duration": 211,
    "start_time": "2023-05-17T14:00:02.613Z"
   },
   {
    "duration": 14,
    "start_time": "2023-05-17T14:00:02.825Z"
   },
   {
    "duration": 178,
    "start_time": "2023-05-17T14:00:02.840Z"
   },
   {
    "duration": 78,
    "start_time": "2023-05-17T14:00:03.019Z"
   },
   {
    "duration": 13,
    "start_time": "2023-05-17T14:00:03.106Z"
   },
   {
    "duration": 43113,
    "start_time": "2023-05-17T14:00:03.121Z"
   },
   {
    "duration": 537,
    "start_time": "2023-05-17T14:00:46.235Z"
   },
   {
    "duration": 237,
    "start_time": "2023-05-17T14:00:46.783Z"
   },
   {
    "duration": 0,
    "start_time": "2023-05-17T14:00:47.022Z"
   },
   {
    "duration": 0,
    "start_time": "2023-05-17T14:00:47.023Z"
   },
   {
    "duration": 0,
    "start_time": "2023-05-17T14:00:47.025Z"
   },
   {
    "duration": 582,
    "start_time": "2023-05-17T14:01:16.423Z"
   },
   {
    "duration": 1899,
    "start_time": "2023-05-17T14:42:37.832Z"
   },
   {
    "duration": 70,
    "start_time": "2023-05-17T14:42:39.734Z"
   },
   {
    "duration": 21,
    "start_time": "2023-05-17T14:42:39.814Z"
   },
   {
    "duration": 14,
    "start_time": "2023-05-17T14:42:39.837Z"
   },
   {
    "duration": 24,
    "start_time": "2023-05-17T14:42:39.853Z"
   },
   {
    "duration": 15,
    "start_time": "2023-05-17T14:42:39.880Z"
   },
   {
    "duration": 233,
    "start_time": "2023-05-17T14:42:39.901Z"
   },
   {
    "duration": 204,
    "start_time": "2023-05-17T14:42:40.136Z"
   },
   {
    "duration": 326,
    "start_time": "2023-05-17T14:42:40.342Z"
   },
   {
    "duration": 1205,
    "start_time": "2023-05-17T14:42:40.676Z"
   },
   {
    "duration": 197,
    "start_time": "2023-05-17T14:42:41.891Z"
   },
   {
    "duration": 379,
    "start_time": "2023-05-17T14:42:42.094Z"
   },
   {
    "duration": 374,
    "start_time": "2023-05-17T14:42:42.475Z"
   },
   {
    "duration": 11,
    "start_time": "2023-05-17T14:42:42.852Z"
   },
   {
    "duration": 180,
    "start_time": "2023-05-17T14:42:42.872Z"
   },
   {
    "duration": 28,
    "start_time": "2023-05-17T14:42:43.053Z"
   },
   {
    "duration": 11,
    "start_time": "2023-05-17T14:42:43.090Z"
   },
   {
    "duration": 21,
    "start_time": "2023-05-17T14:42:43.103Z"
   },
   {
    "duration": 7,
    "start_time": "2023-05-17T14:42:43.127Z"
   },
   {
    "duration": 1590,
    "start_time": "2023-05-17T14:43:19.840Z"
   },
   {
    "duration": 58,
    "start_time": "2023-05-17T14:43:21.432Z"
   },
   {
    "duration": 12,
    "start_time": "2023-05-17T14:43:21.494Z"
   },
   {
    "duration": 18,
    "start_time": "2023-05-17T14:43:21.509Z"
   },
   {
    "duration": 14,
    "start_time": "2023-05-17T14:43:21.529Z"
   },
   {
    "duration": 24,
    "start_time": "2023-05-17T14:43:21.545Z"
   },
   {
    "duration": 206,
    "start_time": "2023-05-17T14:43:21.577Z"
   },
   {
    "duration": 184,
    "start_time": "2023-05-17T14:43:21.787Z"
   },
   {
    "duration": 267,
    "start_time": "2023-05-17T14:43:21.972Z"
   },
   {
    "duration": 1049,
    "start_time": "2023-05-17T14:43:22.241Z"
   },
   {
    "duration": 161,
    "start_time": "2023-05-17T14:43:23.295Z"
   },
   {
    "duration": 352,
    "start_time": "2023-05-17T14:43:23.470Z"
   },
   {
    "duration": 416,
    "start_time": "2023-05-17T14:43:23.824Z"
   },
   {
    "duration": 6,
    "start_time": "2023-05-17T14:43:24.242Z"
   },
   {
    "duration": 182,
    "start_time": "2023-05-17T14:43:24.250Z"
   },
   {
    "duration": 26,
    "start_time": "2023-05-17T14:43:24.434Z"
   },
   {
    "duration": 8,
    "start_time": "2023-05-17T14:43:24.467Z"
   },
   {
    "duration": 29,
    "start_time": "2023-05-17T14:43:24.476Z"
   },
   {
    "duration": 4,
    "start_time": "2023-05-17T14:43:24.509Z"
   },
   {
    "duration": 41540,
    "start_time": "2023-05-17T14:43:24.516Z"
   },
   {
    "duration": 594,
    "start_time": "2023-05-17T14:44:06.060Z"
   },
   {
    "duration": 0,
    "start_time": "2023-05-17T14:44:29.757Z"
   },
   {
    "duration": 0,
    "start_time": "2023-05-17T14:44:29.757Z"
   },
   {
    "duration": 0,
    "start_time": "2023-05-17T14:44:29.758Z"
   },
   {
    "duration": 0,
    "start_time": "2023-05-17T14:44:29.759Z"
   },
   {
    "duration": 652842,
    "start_time": "2023-05-17T14:44:30.448Z"
   },
   {
    "duration": 0,
    "start_time": "2023-05-17T14:55:23.296Z"
   },
   {
    "duration": 0,
    "start_time": "2023-05-17T14:55:23.302Z"
   },
   {
    "duration": 0,
    "start_time": "2023-05-17T14:55:23.308Z"
   },
   {
    "duration": 7876,
    "start_time": "2023-05-17T14:55:23.742Z"
   },
   {
    "duration": 1812,
    "start_time": "2023-05-17T14:58:14.216Z"
   },
   {
    "duration": 97,
    "start_time": "2023-05-17T14:58:16.032Z"
   },
   {
    "duration": 13,
    "start_time": "2023-05-17T14:58:16.131Z"
   },
   {
    "duration": 36,
    "start_time": "2023-05-17T14:58:16.146Z"
   },
   {
    "duration": 22,
    "start_time": "2023-05-17T14:58:16.186Z"
   },
   {
    "duration": 16,
    "start_time": "2023-05-17T14:58:16.211Z"
   },
   {
    "duration": 199,
    "start_time": "2023-05-17T14:58:16.229Z"
   },
   {
    "duration": 201,
    "start_time": "2023-05-17T14:58:16.430Z"
   },
   {
    "duration": 271,
    "start_time": "2023-05-17T14:58:16.632Z"
   },
   {
    "duration": 1010,
    "start_time": "2023-05-17T14:58:16.905Z"
   },
   {
    "duration": 204,
    "start_time": "2023-05-17T14:58:17.918Z"
   },
   {
    "duration": 407,
    "start_time": "2023-05-17T14:58:18.124Z"
   },
   {
    "duration": 446,
    "start_time": "2023-05-17T14:58:18.533Z"
   },
   {
    "duration": 12,
    "start_time": "2023-05-17T14:58:18.985Z"
   },
   {
    "duration": 182,
    "start_time": "2023-05-17T14:58:19.006Z"
   },
   {
    "duration": 27,
    "start_time": "2023-05-17T14:58:19.190Z"
   },
   {
    "duration": 3,
    "start_time": "2023-05-17T14:58:19.219Z"
   },
   {
    "duration": 10,
    "start_time": "2023-05-17T14:58:19.224Z"
   },
   {
    "duration": 5,
    "start_time": "2023-05-17T14:58:19.236Z"
   },
   {
    "duration": 45008,
    "start_time": "2023-05-17T14:58:19.243Z"
   },
   {
    "duration": 658,
    "start_time": "2023-05-17T14:59:04.253Z"
   },
   {
    "duration": 1587,
    "start_time": "2023-05-17T15:01:18.138Z"
   },
   {
    "duration": 56,
    "start_time": "2023-05-17T15:01:19.727Z"
   },
   {
    "duration": 20,
    "start_time": "2023-05-17T15:01:19.792Z"
   },
   {
    "duration": 18,
    "start_time": "2023-05-17T15:01:19.818Z"
   },
   {
    "duration": 13,
    "start_time": "2023-05-17T15:01:19.839Z"
   },
   {
    "duration": 35,
    "start_time": "2023-05-17T15:01:19.854Z"
   },
   {
    "duration": 230,
    "start_time": "2023-05-17T15:01:19.894Z"
   },
   {
    "duration": 190,
    "start_time": "2023-05-17T15:01:20.126Z"
   },
   {
    "duration": 280,
    "start_time": "2023-05-17T15:01:20.322Z"
   },
   {
    "duration": 1075,
    "start_time": "2023-05-17T15:01:20.606Z"
   },
   {
    "duration": 162,
    "start_time": "2023-05-17T15:01:21.693Z"
   },
   {
    "duration": 359,
    "start_time": "2023-05-17T15:01:21.857Z"
   },
   {
    "duration": 381,
    "start_time": "2023-05-17T15:01:22.218Z"
   },
   {
    "duration": 6,
    "start_time": "2023-05-17T15:01:22.602Z"
   },
   {
    "duration": 180,
    "start_time": "2023-05-17T15:01:22.609Z"
   },
   {
    "duration": 35,
    "start_time": "2023-05-17T15:01:22.791Z"
   },
   {
    "duration": 25,
    "start_time": "2023-05-17T15:01:22.827Z"
   },
   {
    "duration": 31,
    "start_time": "2023-05-17T15:01:22.854Z"
   },
   {
    "duration": 10,
    "start_time": "2023-05-17T15:01:22.887Z"
   },
   {
    "duration": 46698,
    "start_time": "2023-05-17T15:01:22.905Z"
   },
   {
    "duration": 1130,
    "start_time": "2023-05-17T15:02:09.608Z"
   },
   {
    "duration": 1857,
    "start_time": "2023-05-17T15:08:15.725Z"
   },
   {
    "duration": 66,
    "start_time": "2023-05-17T15:08:17.589Z"
   },
   {
    "duration": 23,
    "start_time": "2023-05-17T15:08:17.656Z"
   },
   {
    "duration": 17,
    "start_time": "2023-05-17T15:08:17.683Z"
   },
   {
    "duration": 19,
    "start_time": "2023-05-17T15:08:17.702Z"
   },
   {
    "duration": 12,
    "start_time": "2023-05-17T15:08:17.722Z"
   },
   {
    "duration": 214,
    "start_time": "2023-05-17T15:08:17.736Z"
   },
   {
    "duration": 184,
    "start_time": "2023-05-17T15:08:17.951Z"
   },
   {
    "duration": 286,
    "start_time": "2023-05-17T15:08:18.137Z"
   },
   {
    "duration": 994,
    "start_time": "2023-05-17T15:08:18.425Z"
   },
   {
    "duration": 179,
    "start_time": "2023-05-17T15:08:19.420Z"
   },
   {
    "duration": 333,
    "start_time": "2023-05-17T15:08:19.604Z"
   },
   {
    "duration": 392,
    "start_time": "2023-05-17T15:08:19.939Z"
   },
   {
    "duration": 7,
    "start_time": "2023-05-17T15:08:20.334Z"
   },
   {
    "duration": 181,
    "start_time": "2023-05-17T15:08:20.342Z"
   },
   {
    "duration": 18,
    "start_time": "2023-05-17T15:08:20.527Z"
   },
   {
    "duration": 26,
    "start_time": "2023-05-17T15:08:20.547Z"
   },
   {
    "duration": 17,
    "start_time": "2023-05-17T15:08:20.574Z"
   },
   {
    "duration": 18,
    "start_time": "2023-05-17T15:08:20.592Z"
   },
   {
    "duration": 47904,
    "start_time": "2023-05-17T15:08:20.612Z"
   },
   {
    "duration": 624,
    "start_time": "2023-05-17T15:09:08.518Z"
   },
   {
    "duration": 67,
    "start_time": "2023-05-17T15:14:22.356Z"
   },
   {
    "duration": 1708,
    "start_time": "2023-05-17T15:14:28.193Z"
   },
   {
    "duration": 48,
    "start_time": "2023-05-17T15:14:29.911Z"
   },
   {
    "duration": 11,
    "start_time": "2023-05-17T15:14:29.961Z"
   },
   {
    "duration": 14,
    "start_time": "2023-05-17T15:14:29.974Z"
   },
   {
    "duration": 17,
    "start_time": "2023-05-17T15:14:29.990Z"
   },
   {
    "duration": 32,
    "start_time": "2023-05-17T15:14:30.009Z"
   },
   {
    "duration": 224,
    "start_time": "2023-05-17T15:14:30.042Z"
   },
   {
    "duration": 177,
    "start_time": "2023-05-17T15:14:30.267Z"
   },
   {
    "duration": 286,
    "start_time": "2023-05-17T15:14:30.445Z"
   },
   {
    "duration": 1043,
    "start_time": "2023-05-17T15:14:30.732Z"
   },
   {
    "duration": 201,
    "start_time": "2023-05-17T15:14:31.777Z"
   },
   {
    "duration": 306,
    "start_time": "2023-05-17T15:14:31.983Z"
   },
   {
    "duration": 337,
    "start_time": "2023-05-17T15:14:32.291Z"
   },
   {
    "duration": 6,
    "start_time": "2023-05-17T15:14:32.631Z"
   },
   {
    "duration": 166,
    "start_time": "2023-05-17T15:14:32.639Z"
   },
   {
    "duration": 19,
    "start_time": "2023-05-17T15:14:32.807Z"
   },
   {
    "duration": 16,
    "start_time": "2023-05-17T15:14:32.828Z"
   },
   {
    "duration": 19,
    "start_time": "2023-05-17T15:14:32.846Z"
   },
   {
    "duration": 15,
    "start_time": "2023-05-17T15:14:32.873Z"
   },
   {
    "duration": 45025,
    "start_time": "2023-05-17T15:14:32.896Z"
   },
   {
    "duration": 733,
    "start_time": "2023-05-17T15:15:17.923Z"
   },
   {
    "duration": 0,
    "start_time": "2023-05-17T15:16:22.398Z"
   },
   {
    "duration": 0,
    "start_time": "2023-05-17T15:16:22.399Z"
   },
   {
    "duration": 0,
    "start_time": "2023-05-17T15:16:22.400Z"
   },
   {
    "duration": 0,
    "start_time": "2023-05-17T15:16:22.402Z"
   },
   {
    "duration": 1458,
    "start_time": "2023-05-17T15:19:59.091Z"
   },
   {
    "duration": 73,
    "start_time": "2023-05-17T15:20:00.551Z"
   },
   {
    "duration": 10,
    "start_time": "2023-05-17T15:20:00.626Z"
   },
   {
    "duration": 86,
    "start_time": "2023-05-17T15:20:00.638Z"
   },
   {
    "duration": 88,
    "start_time": "2023-05-17T15:20:00.726Z"
   },
   {
    "duration": 63,
    "start_time": "2023-05-17T15:20:00.816Z"
   },
   {
    "duration": 241,
    "start_time": "2023-05-17T15:20:00.881Z"
   },
   {
    "duration": 195,
    "start_time": "2023-05-17T15:20:01.123Z"
   },
   {
    "duration": 292,
    "start_time": "2023-05-17T15:20:01.320Z"
   },
   {
    "duration": 1066,
    "start_time": "2023-05-17T15:20:01.617Z"
   },
   {
    "duration": 159,
    "start_time": "2023-05-17T15:20:02.685Z"
   },
   {
    "duration": 332,
    "start_time": "2023-05-17T15:20:02.846Z"
   },
   {
    "duration": 353,
    "start_time": "2023-05-17T15:20:03.180Z"
   },
   {
    "duration": 5,
    "start_time": "2023-05-17T15:20:03.536Z"
   },
   {
    "duration": 183,
    "start_time": "2023-05-17T15:20:03.543Z"
   },
   {
    "duration": 16,
    "start_time": "2023-05-17T15:20:03.728Z"
   },
   {
    "duration": 10,
    "start_time": "2023-05-17T15:20:03.746Z"
   },
   {
    "duration": 35,
    "start_time": "2023-05-17T15:20:03.758Z"
   },
   {
    "duration": 16,
    "start_time": "2023-05-17T15:20:03.797Z"
   },
   {
    "duration": 42623,
    "start_time": "2023-05-17T15:20:03.815Z"
   },
   {
    "duration": 637,
    "start_time": "2023-05-17T15:20:46.440Z"
   },
   {
    "duration": 1613,
    "start_time": "2023-05-17T15:38:33.503Z"
   },
   {
    "duration": 61,
    "start_time": "2023-05-17T15:38:35.118Z"
   },
   {
    "duration": 15,
    "start_time": "2023-05-17T15:38:35.180Z"
   },
   {
    "duration": 13,
    "start_time": "2023-05-17T15:38:35.202Z"
   },
   {
    "duration": 15,
    "start_time": "2023-05-17T15:38:35.217Z"
   },
   {
    "duration": 12,
    "start_time": "2023-05-17T15:38:35.234Z"
   },
   {
    "duration": 206,
    "start_time": "2023-05-17T15:38:35.264Z"
   },
   {
    "duration": 195,
    "start_time": "2023-05-17T15:38:35.471Z"
   },
   {
    "duration": 314,
    "start_time": "2023-05-17T15:38:35.668Z"
   },
   {
    "duration": 1096,
    "start_time": "2023-05-17T15:38:35.983Z"
   },
   {
    "duration": 151,
    "start_time": "2023-05-17T15:38:37.084Z"
   },
   {
    "duration": 343,
    "start_time": "2023-05-17T15:38:37.236Z"
   },
   {
    "duration": 366,
    "start_time": "2023-05-17T15:38:37.581Z"
   },
   {
    "duration": 19,
    "start_time": "2023-05-17T15:38:37.950Z"
   },
   {
    "duration": 175,
    "start_time": "2023-05-17T15:38:37.971Z"
   },
   {
    "duration": 29,
    "start_time": "2023-05-17T15:38:38.149Z"
   },
   {
    "duration": 14,
    "start_time": "2023-05-17T15:38:38.180Z"
   },
   {
    "duration": 14,
    "start_time": "2023-05-17T15:38:38.199Z"
   },
   {
    "duration": 3,
    "start_time": "2023-05-17T15:38:38.215Z"
   },
   {
    "duration": 38922,
    "start_time": "2023-05-17T15:38:38.220Z"
   },
   {
    "duration": 579,
    "start_time": "2023-05-17T15:39:17.144Z"
   },
   {
    "duration": 73,
    "start_time": "2023-05-17T15:39:17.725Z"
   },
   {
    "duration": 0,
    "start_time": "2023-05-17T15:39:17.800Z"
   },
   {
    "duration": 0,
    "start_time": "2023-05-17T15:39:17.801Z"
   },
   {
    "duration": 0,
    "start_time": "2023-05-17T15:39:17.803Z"
   },
   {
    "duration": 196,
    "start_time": "2023-05-17T15:39:44.596Z"
   },
   {
    "duration": 6804,
    "start_time": "2023-05-17T15:40:28.312Z"
   },
   {
    "duration": 12,
    "start_time": "2023-05-17T15:40:52.922Z"
   },
   {
    "duration": 0,
    "start_time": "2023-05-17T16:03:06.925Z"
   },
   {
    "duration": 17053,
    "start_time": "2023-05-17T16:03:11.688Z"
   },
   {
    "duration": 47731,
    "start_time": "2023-05-17T16:04:38.347Z"
   },
   {
    "duration": 37,
    "start_time": "2023-05-17T16:06:45.891Z"
   },
   {
    "duration": 132,
    "start_time": "2023-05-17T16:06:57.510Z"
   },
   {
    "duration": 145,
    "start_time": "2023-05-17T16:07:12.366Z"
   },
   {
    "duration": 139,
    "start_time": "2023-05-17T16:07:18.590Z"
   },
   {
    "duration": 1515,
    "start_time": "2023-05-17T16:07:53.356Z"
   },
   {
    "duration": 60,
    "start_time": "2023-05-17T16:07:54.876Z"
   },
   {
    "duration": 12,
    "start_time": "2023-05-17T16:07:54.937Z"
   },
   {
    "duration": 20,
    "start_time": "2023-05-17T16:07:54.952Z"
   },
   {
    "duration": 14,
    "start_time": "2023-05-17T16:07:54.974Z"
   },
   {
    "duration": 13,
    "start_time": "2023-05-17T16:07:54.991Z"
   },
   {
    "duration": 193,
    "start_time": "2023-05-17T16:07:55.006Z"
   },
   {
    "duration": 188,
    "start_time": "2023-05-17T16:07:55.201Z"
   },
   {
    "duration": 297,
    "start_time": "2023-05-17T16:07:55.391Z"
   },
   {
    "duration": 911,
    "start_time": "2023-05-17T16:07:55.692Z"
   },
   {
    "duration": 143,
    "start_time": "2023-05-17T16:07:56.605Z"
   },
   {
    "duration": 300,
    "start_time": "2023-05-17T16:07:56.749Z"
   },
   {
    "duration": 326,
    "start_time": "2023-05-17T16:07:57.058Z"
   },
   {
    "duration": 7,
    "start_time": "2023-05-17T16:07:57.388Z"
   },
   {
    "duration": 36,
    "start_time": "2023-05-17T16:07:57.397Z"
   },
   {
    "duration": 130,
    "start_time": "2023-05-17T16:07:57.435Z"
   },
   {
    "duration": 3,
    "start_time": "2023-05-17T16:07:57.566Z"
   },
   {
    "duration": 28,
    "start_time": "2023-05-17T16:07:57.571Z"
   },
   {
    "duration": 17,
    "start_time": "2023-05-17T16:07:57.601Z"
   },
   {
    "duration": 33271,
    "start_time": "2023-05-17T16:07:57.620Z"
   },
   {
    "duration": 813,
    "start_time": "2023-05-17T16:08:30.893Z"
   },
   {
    "duration": 46494,
    "start_time": "2023-05-17T16:08:31.708Z"
   },
   {
    "duration": 141,
    "start_time": "2023-05-17T16:09:18.204Z"
   },
   {
    "duration": 131,
    "start_time": "2023-05-17T16:09:18.346Z"
   },
   {
    "duration": 0,
    "start_time": "2023-05-17T16:09:18.479Z"
   },
   {
    "duration": 17,
    "start_time": "2023-05-17T16:09:32.554Z"
   },
   {
    "duration": 459,
    "start_time": "2023-05-17T16:11:13.086Z"
   },
   {
    "duration": 12,
    "start_time": "2023-05-17T16:12:08.884Z"
   },
   {
    "duration": 11,
    "start_time": "2023-05-17T16:12:20.325Z"
   },
   {
    "duration": 10,
    "start_time": "2023-05-17T16:12:29.418Z"
   },
   {
    "duration": 7,
    "start_time": "2023-05-17T16:12:34.951Z"
   },
   {
    "duration": 1502,
    "start_time": "2023-05-17T16:13:35.351Z"
   },
   {
    "duration": 67,
    "start_time": "2023-05-17T16:13:36.855Z"
   },
   {
    "duration": 11,
    "start_time": "2023-05-17T16:13:36.924Z"
   },
   {
    "duration": 13,
    "start_time": "2023-05-17T16:13:36.938Z"
   },
   {
    "duration": 31,
    "start_time": "2023-05-17T16:13:36.953Z"
   },
   {
    "duration": 21,
    "start_time": "2023-05-17T16:13:36.986Z"
   },
   {
    "duration": 180,
    "start_time": "2023-05-17T16:13:37.009Z"
   },
   {
    "duration": 184,
    "start_time": "2023-05-17T16:13:37.190Z"
   },
   {
    "duration": 226,
    "start_time": "2023-05-17T16:13:37.376Z"
   },
   {
    "duration": 963,
    "start_time": "2023-05-17T16:13:37.605Z"
   },
   {
    "duration": 166,
    "start_time": "2023-05-17T16:13:38.574Z"
   },
   {
    "duration": 339,
    "start_time": "2023-05-17T16:13:38.742Z"
   },
   {
    "duration": 351,
    "start_time": "2023-05-17T16:13:39.083Z"
   },
   {
    "duration": 6,
    "start_time": "2023-05-17T16:13:39.435Z"
   },
   {
    "duration": 151,
    "start_time": "2023-05-17T16:13:39.442Z"
   },
   {
    "duration": 16,
    "start_time": "2023-05-17T16:13:39.595Z"
   },
   {
    "duration": 3,
    "start_time": "2023-05-17T16:13:39.613Z"
   },
   {
    "duration": 12,
    "start_time": "2023-05-17T16:13:39.617Z"
   },
   {
    "duration": 33,
    "start_time": "2023-05-17T16:13:39.631Z"
   },
   {
    "duration": 30565,
    "start_time": "2023-05-17T16:13:39.666Z"
   },
   {
    "duration": 471,
    "start_time": "2023-05-17T16:14:10.233Z"
   },
   {
    "duration": 45334,
    "start_time": "2023-05-17T16:14:10.705Z"
   },
   {
    "duration": 147,
    "start_time": "2023-05-17T16:14:56.041Z"
   },
   {
    "duration": 9,
    "start_time": "2023-05-17T16:14:56.189Z"
   },
   {
    "duration": 11,
    "start_time": "2023-05-17T16:14:56.199Z"
   },
   {
    "duration": 1580,
    "start_time": "2023-05-17T16:17:52.234Z"
   },
   {
    "duration": 62,
    "start_time": "2023-05-17T16:17:53.816Z"
   },
   {
    "duration": 20,
    "start_time": "2023-05-17T16:17:53.881Z"
   },
   {
    "duration": 14,
    "start_time": "2023-05-17T16:17:53.903Z"
   },
   {
    "duration": 22,
    "start_time": "2023-05-17T16:17:53.919Z"
   },
   {
    "duration": 96,
    "start_time": "2023-05-17T16:17:53.943Z"
   },
   {
    "duration": 210,
    "start_time": "2023-05-17T16:17:54.042Z"
   },
   {
    "duration": 162,
    "start_time": "2023-05-17T16:17:54.254Z"
   },
   {
    "duration": 268,
    "start_time": "2023-05-17T16:17:54.418Z"
   },
   {
    "duration": 893,
    "start_time": "2023-05-17T16:17:54.688Z"
   },
   {
    "duration": 148,
    "start_time": "2023-05-17T16:17:55.587Z"
   },
   {
    "duration": 292,
    "start_time": "2023-05-17T16:17:55.737Z"
   },
   {
    "duration": 334,
    "start_time": "2023-05-17T16:17:56.031Z"
   },
   {
    "duration": 15,
    "start_time": "2023-05-17T16:17:56.369Z"
   },
   {
    "duration": 132,
    "start_time": "2023-05-17T16:17:56.386Z"
   },
   {
    "duration": 14,
    "start_time": "2023-05-17T16:17:56.520Z"
   },
   {
    "duration": 3,
    "start_time": "2023-05-17T16:17:56.535Z"
   },
   {
    "duration": 26,
    "start_time": "2023-05-17T16:17:56.539Z"
   },
   {
    "duration": 7,
    "start_time": "2023-05-17T16:17:56.570Z"
   },
   {
    "duration": 31340,
    "start_time": "2023-05-17T16:17:56.578Z"
   },
   {
    "duration": 499,
    "start_time": "2023-05-17T16:18:27.919Z"
   },
   {
    "duration": 44963,
    "start_time": "2023-05-17T16:18:28.419Z"
   },
   {
    "duration": 130,
    "start_time": "2023-05-17T16:19:13.384Z"
   },
   {
    "duration": 9,
    "start_time": "2023-05-17T16:19:13.516Z"
   },
   {
    "duration": 6,
    "start_time": "2023-05-17T16:19:13.527Z"
   },
   {
    "duration": 13,
    "start_time": "2023-05-17T16:20:48.674Z"
   },
   {
    "duration": 6,
    "start_time": "2023-05-17T16:22:55.737Z"
   },
   {
    "duration": 4,
    "start_time": "2023-05-17T16:23:10.601Z"
   },
   {
    "duration": 5,
    "start_time": "2023-05-17T16:23:40.210Z"
   },
   {
    "duration": 2033,
    "start_time": "2023-05-17T16:34:04.643Z"
   },
   {
    "duration": 52,
    "start_time": "2023-05-17T16:34:06.677Z"
   },
   {
    "duration": 10,
    "start_time": "2023-05-17T16:34:06.730Z"
   },
   {
    "duration": 11,
    "start_time": "2023-05-17T16:34:06.742Z"
   },
   {
    "duration": 35,
    "start_time": "2023-05-17T16:34:06.754Z"
   },
   {
    "duration": 65,
    "start_time": "2023-05-17T16:34:06.790Z"
   },
   {
    "duration": 227,
    "start_time": "2023-05-17T16:34:06.856Z"
   },
   {
    "duration": 148,
    "start_time": "2023-05-17T16:34:07.085Z"
   },
   {
    "duration": 228,
    "start_time": "2023-05-17T16:34:07.234Z"
   },
   {
    "duration": 807,
    "start_time": "2023-05-17T16:34:07.464Z"
   },
   {
    "duration": 138,
    "start_time": "2023-05-17T16:34:08.273Z"
   },
   {
    "duration": 242,
    "start_time": "2023-05-17T16:34:08.432Z"
   },
   {
    "duration": 293,
    "start_time": "2023-05-17T16:34:08.675Z"
   },
   {
    "duration": 6,
    "start_time": "2023-05-17T16:34:08.970Z"
   },
   {
    "duration": 115,
    "start_time": "2023-05-17T16:34:08.978Z"
   },
   {
    "duration": 33,
    "start_time": "2023-05-17T16:34:09.095Z"
   },
   {
    "duration": 4,
    "start_time": "2023-05-17T16:34:09.130Z"
   },
   {
    "duration": 10,
    "start_time": "2023-05-17T16:34:09.136Z"
   },
   {
    "duration": 5,
    "start_time": "2023-05-17T16:34:09.148Z"
   },
   {
    "duration": 40435,
    "start_time": "2023-05-17T16:34:09.154Z"
   },
   {
    "duration": 588,
    "start_time": "2023-05-17T16:34:49.591Z"
   },
   {
    "duration": 44350,
    "start_time": "2023-05-17T16:34:50.181Z"
   },
   {
    "duration": 180,
    "start_time": "2023-05-17T16:35:34.533Z"
   },
   {
    "duration": 9,
    "start_time": "2023-05-17T16:35:34.718Z"
   },
   {
    "duration": 10,
    "start_time": "2023-05-17T16:35:34.729Z"
   },
   {
    "duration": 1785,
    "start_time": "2023-05-17T16:48:27.237Z"
   },
   {
    "duration": 282,
    "start_time": "2023-05-17T16:52:09.602Z"
   },
   {
    "duration": 316,
    "start_time": "2023-05-17T16:53:10.029Z"
   },
   {
    "duration": 713,
    "start_time": "2023-05-17T17:29:53.316Z"
   },
   {
    "duration": 579,
    "start_time": "2023-05-17T17:30:01.097Z"
   },
   {
    "duration": 614,
    "start_time": "2023-05-17T17:30:07.814Z"
   },
   {
    "duration": 611,
    "start_time": "2023-05-17T17:30:28.294Z"
   },
   {
    "duration": 1647,
    "start_time": "2023-05-17T17:30:38.447Z"
   },
   {
    "duration": 50,
    "start_time": "2023-05-17T17:30:40.100Z"
   },
   {
    "duration": 16,
    "start_time": "2023-05-17T17:30:40.152Z"
   },
   {
    "duration": 31,
    "start_time": "2023-05-17T17:30:40.172Z"
   },
   {
    "duration": 16,
    "start_time": "2023-05-17T17:30:40.205Z"
   },
   {
    "duration": 18,
    "start_time": "2023-05-17T17:30:40.222Z"
   },
   {
    "duration": 324,
    "start_time": "2023-05-17T17:30:40.242Z"
   },
   {
    "duration": 185,
    "start_time": "2023-05-17T17:30:40.569Z"
   },
   {
    "duration": 282,
    "start_time": "2023-05-17T17:30:40.759Z"
   },
   {
    "duration": 979,
    "start_time": "2023-05-17T17:30:41.043Z"
   },
   {
    "duration": 184,
    "start_time": "2023-05-17T17:30:42.023Z"
   },
   {
    "duration": 317,
    "start_time": "2023-05-17T17:30:42.208Z"
   },
   {
    "duration": 7978,
    "start_time": "2023-05-17T17:30:42.527Z"
   },
   {
    "duration": 526,
    "start_time": "2023-05-17T17:30:50.567Z"
   },
   {
    "duration": 6,
    "start_time": "2023-05-17T17:30:51.098Z"
   },
   {
    "duration": 77,
    "start_time": "2023-05-17T17:30:51.105Z"
   },
   {
    "duration": 389,
    "start_time": "2023-05-17T17:30:51.188Z"
   },
   {
    "duration": 17,
    "start_time": "2023-05-17T17:30:51.590Z"
   },
   {
    "duration": 8,
    "start_time": "2023-05-17T17:30:51.609Z"
   },
   {
    "duration": 28,
    "start_time": "2023-05-17T17:30:51.619Z"
   },
   {
    "duration": 27,
    "start_time": "2023-05-17T17:30:51.649Z"
   },
   {
    "duration": 36317,
    "start_time": "2023-05-17T17:30:51.684Z"
   },
   {
    "duration": 499,
    "start_time": "2023-05-17T17:31:28.003Z"
   },
   {
    "duration": 48201,
    "start_time": "2023-05-17T17:31:28.504Z"
   },
   {
    "duration": 158,
    "start_time": "2023-05-17T17:32:16.707Z"
   },
   {
    "duration": 29,
    "start_time": "2023-05-17T17:32:16.869Z"
   },
   {
    "duration": 5,
    "start_time": "2023-05-17T17:32:16.900Z"
   },
   {
    "duration": 436,
    "start_time": "2023-05-17T17:33:39.713Z"
   },
   {
    "duration": 652,
    "start_time": "2023-05-17T17:33:58.240Z"
   },
   {
    "duration": 649,
    "start_time": "2023-05-17T17:37:12.595Z"
   },
   {
    "duration": 160,
    "start_time": "2023-05-17T17:52:44.940Z"
   },
   {
    "duration": 19,
    "start_time": "2023-05-17T18:09:10.607Z"
   },
   {
    "duration": 1471,
    "start_time": "2023-05-17T18:09:19.796Z"
   },
   {
    "duration": 54,
    "start_time": "2023-05-17T18:09:21.275Z"
   },
   {
    "duration": 9,
    "start_time": "2023-05-17T18:09:21.331Z"
   },
   {
    "duration": 10,
    "start_time": "2023-05-17T18:09:21.342Z"
   },
   {
    "duration": 28,
    "start_time": "2023-05-17T18:09:21.354Z"
   },
   {
    "duration": 24,
    "start_time": "2023-05-17T18:09:21.384Z"
   },
   {
    "duration": 224,
    "start_time": "2023-05-17T18:09:21.410Z"
   },
   {
    "duration": 259,
    "start_time": "2023-05-17T18:09:21.638Z"
   },
   {
    "duration": 317,
    "start_time": "2023-05-17T18:09:21.899Z"
   },
   {
    "duration": 970,
    "start_time": "2023-05-17T18:09:22.217Z"
   },
   {
    "duration": 150,
    "start_time": "2023-05-17T18:09:23.190Z"
   },
   {
    "duration": 285,
    "start_time": "2023-05-17T18:09:23.342Z"
   },
   {
    "duration": 7561,
    "start_time": "2023-05-17T18:09:23.628Z"
   },
   {
    "duration": 590,
    "start_time": "2023-05-17T18:09:31.193Z"
   },
   {
    "duration": 7,
    "start_time": "2023-05-17T18:09:31.785Z"
   },
   {
    "duration": 206,
    "start_time": "2023-05-17T18:09:31.794Z"
   },
   {
    "duration": 341,
    "start_time": "2023-05-17T18:09:32.002Z"
   },
   {
    "duration": 18,
    "start_time": "2023-05-17T18:09:32.344Z"
   },
   {
    "duration": 27,
    "start_time": "2023-05-17T18:09:32.371Z"
   },
   {
    "duration": 43,
    "start_time": "2023-05-17T18:09:32.400Z"
   },
   {
    "duration": 33,
    "start_time": "2023-05-17T18:09:32.444Z"
   },
   {
    "duration": 35934,
    "start_time": "2023-05-17T18:09:32.479Z"
   },
   {
    "duration": 494,
    "start_time": "2023-05-17T18:10:08.415Z"
   },
   {
    "duration": 47616,
    "start_time": "2023-05-17T18:10:08.911Z"
   },
   {
    "duration": 146,
    "start_time": "2023-05-17T18:10:56.528Z"
   },
   {
    "duration": 19,
    "start_time": "2023-05-17T18:10:56.677Z"
   },
   {
    "duration": 4,
    "start_time": "2023-05-17T18:10:56.702Z"
   },
   {
    "duration": 11,
    "start_time": "2023-05-17T18:16:57.589Z"
   },
   {
    "duration": 147,
    "start_time": "2023-05-17T18:28:41.091Z"
   },
   {
    "duration": 4,
    "start_time": "2023-05-17T18:28:46.889Z"
   },
   {
    "duration": 1732,
    "start_time": "2023-05-17T18:28:53.292Z"
   },
   {
    "duration": 1484,
    "start_time": "2023-05-17T18:29:18.089Z"
   },
   {
    "duration": 1550,
    "start_time": "2023-05-17T18:34:31.200Z"
   },
   {
    "duration": 1516,
    "start_time": "2023-05-17T18:34:35.316Z"
   },
   {
    "duration": 1621,
    "start_time": "2023-05-17T18:34:43.656Z"
   },
   {
    "duration": 66,
    "start_time": "2023-05-17T18:34:45.279Z"
   },
   {
    "duration": 24,
    "start_time": "2023-05-17T18:34:45.350Z"
   },
   {
    "duration": 50,
    "start_time": "2023-05-17T18:34:45.380Z"
   },
   {
    "duration": 46,
    "start_time": "2023-05-17T18:34:45.433Z"
   },
   {
    "duration": 19,
    "start_time": "2023-05-17T18:34:45.481Z"
   },
   {
    "duration": 225,
    "start_time": "2023-05-17T18:34:45.501Z"
   },
   {
    "duration": 266,
    "start_time": "2023-05-17T18:34:45.727Z"
   },
   {
    "duration": 312,
    "start_time": "2023-05-17T18:34:45.997Z"
   },
   {
    "duration": 917,
    "start_time": "2023-05-17T18:34:46.310Z"
   },
   {
    "duration": 174,
    "start_time": "2023-05-17T18:34:47.228Z"
   },
   {
    "duration": 322,
    "start_time": "2023-05-17T18:34:47.403Z"
   },
   {
    "duration": 10969,
    "start_time": "2023-05-17T18:34:47.727Z"
   },
   {
    "duration": 563,
    "start_time": "2023-05-17T18:34:58.716Z"
   },
   {
    "duration": 7,
    "start_time": "2023-05-17T18:34:59.281Z"
   },
   {
    "duration": 161,
    "start_time": "2023-05-17T18:34:59.290Z"
   },
   {
    "duration": 334,
    "start_time": "2023-05-17T18:34:59.468Z"
   },
   {
    "duration": 12,
    "start_time": "2023-05-17T18:34:59.805Z"
   },
   {
    "duration": 4,
    "start_time": "2023-05-17T18:34:59.819Z"
   },
   {
    "duration": 9,
    "start_time": "2023-05-17T18:34:59.824Z"
   },
   {
    "duration": 1799,
    "start_time": "2023-05-17T18:34:59.835Z"
   },
   {
    "duration": 0,
    "start_time": "2023-05-17T18:35:01.636Z"
   },
   {
    "duration": 0,
    "start_time": "2023-05-17T18:35:01.637Z"
   },
   {
    "duration": 0,
    "start_time": "2023-05-17T18:35:01.638Z"
   },
   {
    "duration": 0,
    "start_time": "2023-05-17T18:35:01.639Z"
   },
   {
    "duration": 0,
    "start_time": "2023-05-17T18:35:01.640Z"
   },
   {
    "duration": 0,
    "start_time": "2023-05-17T18:35:01.644Z"
   },
   {
    "duration": 1416,
    "start_time": "2023-05-17T18:39:11.102Z"
   },
   {
    "duration": 62,
    "start_time": "2023-05-17T18:39:12.520Z"
   },
   {
    "duration": 14,
    "start_time": "2023-05-17T18:39:12.590Z"
   },
   {
    "duration": 37,
    "start_time": "2023-05-17T18:39:12.606Z"
   },
   {
    "duration": 22,
    "start_time": "2023-05-17T18:39:12.645Z"
   },
   {
    "duration": 15,
    "start_time": "2023-05-17T18:39:12.669Z"
   },
   {
    "duration": 227,
    "start_time": "2023-05-17T18:39:12.689Z"
   },
   {
    "duration": 266,
    "start_time": "2023-05-17T18:39:12.918Z"
   },
   {
    "duration": 353,
    "start_time": "2023-05-17T18:39:13.186Z"
   },
   {
    "duration": 987,
    "start_time": "2023-05-17T18:39:13.540Z"
   },
   {
    "duration": 146,
    "start_time": "2023-05-17T18:39:14.529Z"
   },
   {
    "duration": 326,
    "start_time": "2023-05-17T18:39:14.679Z"
   },
   {
    "duration": 7153,
    "start_time": "2023-05-17T18:39:15.006Z"
   },
   {
    "duration": 500,
    "start_time": "2023-05-17T18:39:22.169Z"
   },
   {
    "duration": 7,
    "start_time": "2023-05-17T18:39:22.670Z"
   },
   {
    "duration": 146,
    "start_time": "2023-05-17T18:39:22.678Z"
   },
   {
    "duration": 318,
    "start_time": "2023-05-17T18:39:22.826Z"
   },
   {
    "duration": 21,
    "start_time": "2023-05-17T18:39:23.146Z"
   },
   {
    "duration": 7,
    "start_time": "2023-05-17T18:39:23.171Z"
   },
   {
    "duration": 12,
    "start_time": "2023-05-17T18:39:23.184Z"
   },
   {
    "duration": 1669,
    "start_time": "2023-05-17T18:39:23.199Z"
   },
   {
    "duration": 0,
    "start_time": "2023-05-17T18:39:24.870Z"
   },
   {
    "duration": 0,
    "start_time": "2023-05-17T18:39:24.871Z"
   },
   {
    "duration": 0,
    "start_time": "2023-05-17T18:39:24.872Z"
   },
   {
    "duration": 0,
    "start_time": "2023-05-17T18:39:24.873Z"
   },
   {
    "duration": 0,
    "start_time": "2023-05-17T18:39:24.873Z"
   },
   {
    "duration": 0,
    "start_time": "2023-05-17T18:39:24.874Z"
   },
   {
    "duration": 1606,
    "start_time": "2023-05-17T18:41:12.199Z"
   },
   {
    "duration": 1516,
    "start_time": "2023-05-17T18:41:16.837Z"
   },
   {
    "duration": 38810,
    "start_time": "2023-05-17T18:41:37.707Z"
   },
   {
    "duration": 12,
    "start_time": "2023-05-17T18:43:54.918Z"
   },
   {
    "duration": 55094,
    "start_time": "2023-05-17T18:44:06.925Z"
   },
   {
    "duration": 13,
    "start_time": "2023-05-17T18:45:02.022Z"
   },
   {
    "duration": 26,
    "start_time": "2023-05-17T18:50:27.693Z"
   },
   {
    "duration": 49942,
    "start_time": "2023-05-17T18:50:59.514Z"
   },
   {
    "duration": 16,
    "start_time": "2023-05-17T18:51:51.504Z"
   },
   {
    "duration": 13,
    "start_time": "2023-05-17T18:52:54.304Z"
   },
   {
    "duration": 35907,
    "start_time": "2023-05-17T18:52:59.898Z"
   },
   {
    "duration": 556,
    "start_time": "2023-05-17T18:58:53.692Z"
   },
   {
    "duration": 541,
    "start_time": "2023-05-17T18:59:15.220Z"
   },
   {
    "duration": 1620,
    "start_time": "2023-05-17T18:59:30.305Z"
   },
   {
    "duration": 67,
    "start_time": "2023-05-17T18:59:31.927Z"
   },
   {
    "duration": 16,
    "start_time": "2023-05-17T18:59:31.996Z"
   },
   {
    "duration": 15,
    "start_time": "2023-05-17T18:59:32.015Z"
   },
   {
    "duration": 42,
    "start_time": "2023-05-17T18:59:32.032Z"
   },
   {
    "duration": 27,
    "start_time": "2023-05-17T18:59:32.082Z"
   },
   {
    "duration": 286,
    "start_time": "2023-05-17T18:59:32.110Z"
   },
   {
    "duration": 253,
    "start_time": "2023-05-17T18:59:32.398Z"
   },
   {
    "duration": 316,
    "start_time": "2023-05-17T18:59:32.653Z"
   },
   {
    "duration": 1002,
    "start_time": "2023-05-17T18:59:32.973Z"
   },
   {
    "duration": 222,
    "start_time": "2023-05-17T18:59:33.977Z"
   },
   {
    "duration": 337,
    "start_time": "2023-05-17T18:59:34.205Z"
   },
   {
    "duration": 10222,
    "start_time": "2023-05-17T18:59:34.544Z"
   },
   {
    "duration": 518,
    "start_time": "2023-05-17T18:59:44.794Z"
   },
   {
    "duration": 6,
    "start_time": "2023-05-17T18:59:45.313Z"
   },
   {
    "duration": 162,
    "start_time": "2023-05-17T18:59:45.320Z"
   },
   {
    "duration": 368,
    "start_time": "2023-05-17T18:59:45.490Z"
   },
   {
    "duration": 16,
    "start_time": "2023-05-17T18:59:45.860Z"
   },
   {
    "duration": 7,
    "start_time": "2023-05-17T18:59:45.878Z"
   },
   {
    "duration": 1585,
    "start_time": "2023-05-17T18:59:45.887Z"
   },
   {
    "duration": 41130,
    "start_time": "2023-05-17T18:59:47.477Z"
   },
   {
    "duration": 52098,
    "start_time": "2023-05-17T19:00:28.609Z"
   },
   {
    "duration": 13,
    "start_time": "2023-05-17T19:01:20.708Z"
   },
   {
    "duration": 684,
    "start_time": "2023-05-17T19:01:20.723Z"
   },
   {
    "duration": 601,
    "start_time": "2023-05-17T19:07:03.945Z"
   },
   {
    "duration": 159,
    "start_time": "2023-05-17T19:07:36.743Z"
   },
   {
    "duration": 52005,
    "start_time": "2023-05-17T19:07:40.206Z"
   },
   {
    "duration": 594,
    "start_time": "2023-05-17T19:10:58.613Z"
   },
   {
    "duration": 119,
    "start_time": "2023-05-17T19:14:59.009Z"
   },
   {
    "duration": 710,
    "start_time": "2023-05-17T19:16:02.090Z"
   },
   {
    "duration": 3,
    "start_time": "2023-05-17T19:16:12.846Z"
   },
   {
    "duration": 576,
    "start_time": "2023-05-17T19:16:52.013Z"
   },
   {
    "duration": 131,
    "start_time": "2023-05-17T19:17:03.197Z"
   },
   {
    "duration": 1610,
    "start_time": "2023-05-17T19:17:29.200Z"
   },
   {
    "duration": 61,
    "start_time": "2023-05-17T19:17:30.813Z"
   },
   {
    "duration": 27,
    "start_time": "2023-05-17T19:17:30.879Z"
   },
   {
    "duration": 37,
    "start_time": "2023-05-17T19:17:30.909Z"
   },
   {
    "duration": 40,
    "start_time": "2023-05-17T19:17:30.949Z"
   },
   {
    "duration": 17,
    "start_time": "2023-05-17T19:17:30.990Z"
   },
   {
    "duration": 239,
    "start_time": "2023-05-17T19:17:31.009Z"
   },
   {
    "duration": 256,
    "start_time": "2023-05-17T19:17:31.250Z"
   },
   {
    "duration": 339,
    "start_time": "2023-05-17T19:17:31.508Z"
   },
   {
    "duration": 930,
    "start_time": "2023-05-17T19:17:31.850Z"
   },
   {
    "duration": 155,
    "start_time": "2023-05-17T19:17:32.789Z"
   },
   {
    "duration": 303,
    "start_time": "2023-05-17T19:17:32.946Z"
   },
   {
    "duration": 7896,
    "start_time": "2023-05-17T19:17:33.262Z"
   },
   {
    "duration": 575,
    "start_time": "2023-05-17T19:17:41.169Z"
   },
   {
    "duration": 7,
    "start_time": "2023-05-17T19:17:41.745Z"
   },
   {
    "duration": 89,
    "start_time": "2023-05-17T19:17:41.760Z"
   },
   {
    "duration": 338,
    "start_time": "2023-05-17T19:17:41.851Z"
   },
   {
    "duration": 19,
    "start_time": "2023-05-17T19:17:42.191Z"
   },
   {
    "duration": 7,
    "start_time": "2023-05-17T19:17:42.213Z"
   },
   {
    "duration": 4,
    "start_time": "2023-05-17T19:17:42.222Z"
   },
   {
    "duration": 1683,
    "start_time": "2023-05-17T19:17:42.228Z"
   },
   {
    "duration": 34609,
    "start_time": "2023-05-17T19:17:43.915Z"
   },
   {
    "duration": 49760,
    "start_time": "2023-05-17T19:18:18.525Z"
   },
   {
    "duration": 10,
    "start_time": "2023-05-17T19:19:08.289Z"
   },
   {
    "duration": 452,
    "start_time": "2023-05-17T19:19:08.301Z"
   },
   {
    "duration": 144,
    "start_time": "2023-05-17T19:19:08.755Z"
   },
   {
    "duration": 0,
    "start_time": "2023-05-17T19:19:08.901Z"
   },
   {
    "duration": 97,
    "start_time": "2023-05-17T19:20:02.519Z"
   },
   {
    "duration": 183,
    "start_time": "2023-05-17T19:21:30.945Z"
   },
   {
    "duration": 4202,
    "start_time": "2023-05-17T19:21:50.092Z"
   },
   {
    "duration": 1465,
    "start_time": "2023-05-17T19:22:00.330Z"
   },
   {
    "duration": 56,
    "start_time": "2023-05-17T19:22:01.798Z"
   },
   {
    "duration": 14,
    "start_time": "2023-05-17T19:22:01.855Z"
   },
   {
    "duration": 37,
    "start_time": "2023-05-17T19:22:01.871Z"
   },
   {
    "duration": 40,
    "start_time": "2023-05-17T19:22:01.910Z"
   },
   {
    "duration": 25,
    "start_time": "2023-05-17T19:22:01.951Z"
   },
   {
    "duration": 227,
    "start_time": "2023-05-17T19:22:01.979Z"
   },
   {
    "duration": 223,
    "start_time": "2023-05-17T19:22:02.208Z"
   },
   {
    "duration": 273,
    "start_time": "2023-05-17T19:22:02.433Z"
   },
   {
    "duration": 894,
    "start_time": "2023-05-17T19:22:02.708Z"
   },
   {
    "duration": 256,
    "start_time": "2023-05-17T19:22:03.604Z"
   },
   {
    "duration": 422,
    "start_time": "2023-05-17T19:22:03.861Z"
   },
   {
    "duration": 4995,
    "start_time": "2023-05-17T19:22:04.285Z"
   },
   {
    "duration": 576,
    "start_time": "2023-05-17T19:22:09.284Z"
   },
   {
    "duration": 9,
    "start_time": "2023-05-17T19:22:09.868Z"
   },
   {
    "duration": 57,
    "start_time": "2023-05-17T19:22:09.879Z"
   },
   {
    "duration": 308,
    "start_time": "2023-05-17T19:22:09.937Z"
   },
   {
    "duration": 20,
    "start_time": "2023-05-17T19:22:10.256Z"
   },
   {
    "duration": 3,
    "start_time": "2023-05-17T19:22:10.278Z"
   },
   {
    "duration": 10,
    "start_time": "2023-05-17T19:22:10.283Z"
   },
   {
    "duration": 1445,
    "start_time": "2023-05-17T19:22:10.295Z"
   },
   {
    "duration": 31507,
    "start_time": "2023-05-17T19:22:11.742Z"
   },
   {
    "duration": 46930,
    "start_time": "2023-05-17T19:22:43.251Z"
   },
   {
    "duration": 133,
    "start_time": "2023-05-17T19:23:30.183Z"
   },
   {
    "duration": 0,
    "start_time": "2023-05-17T19:23:30.318Z"
   },
   {
    "duration": 0,
    "start_time": "2023-05-17T19:23:30.320Z"
   },
   {
    "duration": 20,
    "start_time": "2023-05-17T19:24:03.688Z"
   },
   {
    "duration": 13,
    "start_time": "2023-05-17T19:24:18.480Z"
   },
   {
    "duration": 437,
    "start_time": "2023-05-17T19:24:53.470Z"
   },
   {
    "duration": 139,
    "start_time": "2023-05-17T19:24:53.909Z"
   },
   {
    "duration": 496,
    "start_time": "2023-05-17T19:38:42.202Z"
   },
   {
    "duration": 10,
    "start_time": "2023-05-17T19:41:47.329Z"
   },
   {
    "duration": 10,
    "start_time": "2023-05-17T19:42:07.979Z"
   },
   {
    "duration": 5,
    "start_time": "2023-05-17T19:42:48.231Z"
   },
   {
    "duration": 2166,
    "start_time": "2023-05-17T20:07:34.235Z"
   },
   {
    "duration": 147,
    "start_time": "2023-05-17T20:07:36.403Z"
   },
   {
    "duration": 12,
    "start_time": "2023-05-17T20:07:36.551Z"
   },
   {
    "duration": 21,
    "start_time": "2023-05-17T20:07:36.564Z"
   },
   {
    "duration": 17,
    "start_time": "2023-05-17T20:07:36.588Z"
   },
   {
    "duration": 22,
    "start_time": "2023-05-17T20:07:36.607Z"
   },
   {
    "duration": 252,
    "start_time": "2023-05-17T20:07:36.631Z"
   },
   {
    "duration": 228,
    "start_time": "2023-05-17T20:07:36.884Z"
   },
   {
    "duration": 257,
    "start_time": "2023-05-17T20:07:37.113Z"
   },
   {
    "duration": 839,
    "start_time": "2023-05-17T20:07:37.373Z"
   },
   {
    "duration": 200,
    "start_time": "2023-05-17T20:07:38.214Z"
   },
   {
    "duration": 363,
    "start_time": "2023-05-17T20:07:38.416Z"
   },
   {
    "duration": 2981,
    "start_time": "2023-05-17T20:07:38.781Z"
   },
   {
    "duration": 566,
    "start_time": "2023-05-17T20:07:41.764Z"
   },
   {
    "duration": 7,
    "start_time": "2023-05-17T20:07:42.332Z"
   },
   {
    "duration": 69,
    "start_time": "2023-05-17T20:07:42.341Z"
   },
   {
    "duration": 338,
    "start_time": "2023-05-17T20:07:42.412Z"
   },
   {
    "duration": 16,
    "start_time": "2023-05-17T20:07:42.752Z"
   },
   {
    "duration": 3,
    "start_time": "2023-05-17T20:07:42.769Z"
   },
   {
    "duration": 4,
    "start_time": "2023-05-17T20:07:42.774Z"
   },
   {
    "duration": 1338,
    "start_time": "2023-05-17T20:07:42.780Z"
   },
   {
    "duration": 108,
    "start_time": "2023-05-17T20:09:24.838Z"
   },
   {
    "duration": 17,
    "start_time": "2023-05-17T20:09:46.984Z"
   },
   {
    "duration": 9,
    "start_time": "2023-05-17T20:10:12.983Z"
   },
   {
    "duration": 12,
    "start_time": "2023-05-17T20:13:29.021Z"
   },
   {
    "duration": 1886,
    "start_time": "2023-05-17T20:29:35.789Z"
   },
   {
    "duration": 70,
    "start_time": "2023-05-17T20:29:37.680Z"
   },
   {
    "duration": 35,
    "start_time": "2023-05-17T20:29:37.752Z"
   },
   {
    "duration": 19,
    "start_time": "2023-05-17T20:29:37.796Z"
   },
   {
    "duration": 15,
    "start_time": "2023-05-17T20:29:37.818Z"
   },
   {
    "duration": 13,
    "start_time": "2023-05-17T20:29:37.835Z"
   },
   {
    "duration": 273,
    "start_time": "2023-05-17T20:29:37.850Z"
   },
   {
    "duration": 310,
    "start_time": "2023-05-17T20:29:38.125Z"
   },
   {
    "duration": 385,
    "start_time": "2023-05-17T20:29:38.437Z"
   },
   {
    "duration": 1042,
    "start_time": "2023-05-17T20:29:38.824Z"
   },
   {
    "duration": 245,
    "start_time": "2023-05-17T20:29:39.867Z"
   },
   {
    "duration": 414,
    "start_time": "2023-05-17T20:29:40.114Z"
   },
   {
    "duration": 9476,
    "start_time": "2023-05-17T20:29:40.530Z"
   },
   {
    "duration": 505,
    "start_time": "2023-05-17T20:29:50.056Z"
   },
   {
    "duration": 10,
    "start_time": "2023-05-17T20:29:50.566Z"
   },
   {
    "duration": 92,
    "start_time": "2023-05-17T20:29:50.582Z"
   },
   {
    "duration": 118,
    "start_time": "2023-05-17T20:29:50.680Z"
   },
   {
    "duration": 15,
    "start_time": "2023-05-17T20:29:50.804Z"
   },
   {
    "duration": 14,
    "start_time": "2023-05-17T20:29:50.821Z"
   },
   {
    "duration": 11,
    "start_time": "2023-05-17T20:29:50.838Z"
   },
   {
    "duration": 18,
    "start_time": "2023-05-17T20:29:50.851Z"
   },
   {
    "duration": 2035,
    "start_time": "2023-05-17T20:29:50.871Z"
   },
   {
    "duration": 1691,
    "start_time": "2023-05-17T20:30:20.843Z"
   },
   {
    "duration": 80,
    "start_time": "2023-05-17T20:30:22.536Z"
   },
   {
    "duration": 12,
    "start_time": "2023-05-17T20:30:22.617Z"
   },
   {
    "duration": 12,
    "start_time": "2023-05-17T20:30:22.631Z"
   },
   {
    "duration": 43,
    "start_time": "2023-05-17T20:30:22.645Z"
   },
   {
    "duration": 14,
    "start_time": "2023-05-17T20:30:22.689Z"
   },
   {
    "duration": 271,
    "start_time": "2023-05-17T20:30:22.705Z"
   },
   {
    "duration": 326,
    "start_time": "2023-05-17T20:30:22.978Z"
   },
   {
    "duration": 382,
    "start_time": "2023-05-17T20:30:23.309Z"
   },
   {
    "duration": 1165,
    "start_time": "2023-05-17T20:30:23.692Z"
   },
   {
    "duration": 254,
    "start_time": "2023-05-17T20:30:24.859Z"
   },
   {
    "duration": 529,
    "start_time": "2023-05-17T20:30:25.115Z"
   },
   {
    "duration": 12215,
    "start_time": "2023-05-17T20:30:25.646Z"
   },
   {
    "duration": 588,
    "start_time": "2023-05-17T20:30:37.875Z"
   },
   {
    "duration": 23,
    "start_time": "2023-05-17T20:30:38.473Z"
   },
   {
    "duration": 167,
    "start_time": "2023-05-17T20:30:38.507Z"
   },
   {
    "duration": 66,
    "start_time": "2023-05-17T20:30:38.676Z"
   },
   {
    "duration": 24,
    "start_time": "2023-05-17T20:30:38.744Z"
   },
   {
    "duration": 18,
    "start_time": "2023-05-17T20:30:38.770Z"
   },
   {
    "duration": 14,
    "start_time": "2023-05-17T20:30:38.797Z"
   },
   {
    "duration": 5,
    "start_time": "2023-05-17T20:30:38.813Z"
   },
   {
    "duration": 1948,
    "start_time": "2023-05-17T20:30:38.820Z"
   },
   {
    "duration": 43445,
    "start_time": "2023-05-17T20:30:40.770Z"
   },
   {
    "duration": 1622,
    "start_time": "2023-05-17T20:32:06.598Z"
   },
   {
    "duration": 66,
    "start_time": "2023-05-17T20:32:08.223Z"
   },
   {
    "duration": 17,
    "start_time": "2023-05-17T20:32:08.290Z"
   },
   {
    "duration": 13,
    "start_time": "2023-05-17T20:32:08.309Z"
   },
   {
    "duration": 13,
    "start_time": "2023-05-17T20:32:08.324Z"
   },
   {
    "duration": 27,
    "start_time": "2023-05-17T20:32:08.338Z"
   },
   {
    "duration": 279,
    "start_time": "2023-05-17T20:32:08.367Z"
   },
   {
    "duration": 271,
    "start_time": "2023-05-17T20:32:08.648Z"
   },
   {
    "duration": 317,
    "start_time": "2023-05-17T20:32:08.921Z"
   },
   {
    "duration": 949,
    "start_time": "2023-05-17T20:32:09.240Z"
   },
   {
    "duration": 212,
    "start_time": "2023-05-17T20:32:10.203Z"
   },
   {
    "duration": 392,
    "start_time": "2023-05-17T20:32:10.417Z"
   },
   {
    "duration": 10067,
    "start_time": "2023-05-17T20:32:10.815Z"
   },
   {
    "duration": 583,
    "start_time": "2023-05-17T20:32:20.885Z"
   },
   {
    "duration": 14,
    "start_time": "2023-05-17T20:32:21.470Z"
   },
   {
    "duration": 162,
    "start_time": "2023-05-17T20:32:21.488Z"
   },
   {
    "duration": 62,
    "start_time": "2023-05-17T20:32:21.652Z"
   },
   {
    "duration": 31,
    "start_time": "2023-05-17T20:32:21.716Z"
   },
   {
    "duration": 63,
    "start_time": "2023-05-17T20:32:21.749Z"
   },
   {
    "duration": 3,
    "start_time": "2023-05-17T20:32:21.815Z"
   },
   {
    "duration": 14,
    "start_time": "2023-05-17T20:32:21.819Z"
   },
   {
    "duration": 12395,
    "start_time": "2023-05-17T20:32:21.835Z"
   },
   {
    "duration": 185482,
    "start_time": "2023-05-17T20:32:34.235Z"
   },
   {
    "duration": 1781,
    "start_time": "2023-05-17T20:41:55.645Z"
   },
   {
    "duration": 80,
    "start_time": "2023-05-17T20:41:57.428Z"
   },
   {
    "duration": 18,
    "start_time": "2023-05-17T20:41:57.510Z"
   },
   {
    "duration": 13,
    "start_time": "2023-05-17T20:41:57.531Z"
   },
   {
    "duration": 33,
    "start_time": "2023-05-17T20:41:57.546Z"
   },
   {
    "duration": 23,
    "start_time": "2023-05-17T20:41:57.583Z"
   },
   {
    "duration": 273,
    "start_time": "2023-05-17T20:41:57.611Z"
   },
   {
    "duration": 266,
    "start_time": "2023-05-17T20:41:57.885Z"
   },
   {
    "duration": 359,
    "start_time": "2023-05-17T20:41:58.153Z"
   },
   {
    "duration": 1053,
    "start_time": "2023-05-17T20:41:58.515Z"
   },
   {
    "duration": 306,
    "start_time": "2023-05-17T20:41:59.574Z"
   },
   {
    "duration": 395,
    "start_time": "2023-05-17T20:41:59.890Z"
   },
   {
    "duration": 10704,
    "start_time": "2023-05-17T20:42:00.287Z"
   },
   {
    "duration": 648,
    "start_time": "2023-05-17T20:42:11.014Z"
   },
   {
    "duration": 14,
    "start_time": "2023-05-17T20:42:11.663Z"
   },
   {
    "duration": 220,
    "start_time": "2023-05-17T20:42:11.679Z"
   },
   {
    "duration": 67,
    "start_time": "2023-05-17T20:42:11.904Z"
   },
   {
    "duration": 47,
    "start_time": "2023-05-17T20:42:11.977Z"
   },
   {
    "duration": 65,
    "start_time": "2023-05-17T20:42:12.029Z"
   },
   {
    "duration": 6,
    "start_time": "2023-05-17T20:42:12.096Z"
   },
   {
    "duration": 9,
    "start_time": "2023-05-17T20:42:12.104Z"
   },
   {
    "duration": 13928,
    "start_time": "2023-05-17T20:42:12.115Z"
   },
   {
    "duration": 226873,
    "start_time": "2023-05-17T20:42:26.045Z"
   },
   {
    "duration": 0,
    "start_time": "2023-05-17T21:06:02.416Z"
   },
   {
    "duration": 0,
    "start_time": "2023-05-17T21:06:02.417Z"
   },
   {
    "duration": 0,
    "start_time": "2023-05-17T21:06:02.417Z"
   },
   {
    "duration": 0,
    "start_time": "2023-05-17T21:06:02.418Z"
   },
   {
    "duration": 0,
    "start_time": "2023-05-17T21:06:02.419Z"
   },
   {
    "duration": 0,
    "start_time": "2023-05-17T21:06:02.420Z"
   },
   {
    "duration": 2785,
    "start_time": "2023-05-17T21:06:04.919Z"
   },
   {
    "duration": 120,
    "start_time": "2023-05-17T21:06:12.500Z"
   },
   {
    "duration": 19,
    "start_time": "2023-05-17T21:06:18.216Z"
   },
   {
    "duration": 12,
    "start_time": "2023-05-17T21:06:51.010Z"
   },
   {
    "duration": 5271,
    "start_time": "2023-05-17T21:07:05.519Z"
   },
   {
    "duration": 4,
    "start_time": "2023-05-17T21:08:00.220Z"
   },
   {
    "duration": 23356,
    "start_time": "2023-05-17T21:08:05.007Z"
   },
   {
    "duration": 12186,
    "start_time": "2023-05-17T21:09:39.200Z"
   },
   {
    "duration": 149766,
    "start_time": "2023-05-17T21:10:16.845Z"
   },
   {
    "duration": 0,
    "start_time": "2023-05-17T21:12:46.617Z"
   },
   {
    "duration": 0,
    "start_time": "2023-05-17T21:12:46.618Z"
   },
   {
    "duration": 0,
    "start_time": "2023-05-17T21:12:46.619Z"
   },
   {
    "duration": 0,
    "start_time": "2023-05-17T21:12:46.624Z"
   },
   {
    "duration": 0,
    "start_time": "2023-05-17T21:12:46.625Z"
   },
   {
    "duration": 668606,
    "start_time": "2023-05-17T21:12:47.606Z"
   },
   {
    "duration": 11,
    "start_time": "2023-05-17T21:23:56.220Z"
   },
   {
    "duration": 2154,
    "start_time": "2023-05-17T21:23:56.233Z"
   },
   {
    "duration": 24193,
    "start_time": "2023-05-17T21:23:58.397Z"
   },
   {
    "duration": 1403,
    "start_time": "2023-05-17T21:24:22.592Z"
   },
   {
    "duration": 15,
    "start_time": "2023-05-17T21:24:23.997Z"
   },
   {
    "duration": 1779,
    "start_time": "2023-05-17T21:41:25.587Z"
   }
  ],
  "kernelspec": {
   "display_name": "Python 3 (ipykernel)",
   "language": "python",
   "name": "python3"
  },
  "language_info": {
   "codemirror_mode": {
    "name": "ipython",
    "version": 3
   },
   "file_extension": ".py",
   "mimetype": "text/x-python",
   "name": "python",
   "nbconvert_exporter": "python",
   "pygments_lexer": "ipython3",
   "version": "3.10.12"
  },
  "toc": {
   "base_numbering": 1,
   "nav_menu": {},
   "number_sections": true,
   "sideBar": true,
   "skip_h1_title": true,
   "title_cell": "Содержание",
   "title_sidebar": "Contents",
   "toc_cell": true,
   "toc_position": {},
   "toc_section_display": true,
   "toc_window_display": false
  }
 },
 "nbformat": 4,
 "nbformat_minor": 2
}
