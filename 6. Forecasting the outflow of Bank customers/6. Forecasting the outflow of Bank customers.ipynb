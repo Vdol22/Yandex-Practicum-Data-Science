{
 "cells": [
  {
   "cell_type": "markdown",
   "id": "79257e43",
   "metadata": {},
   "source": [
    "## Описание проекта"
   ]
  },
  {
   "cell_type": "markdown",
   "id": "37b7a4bc",
   "metadata": {},
   "source": [
    "Из «Бета-Банка» стали уходить клиенты. Каждый месяц. Немного, но заметно. Банковские маркетологи посчитали: сохранять текущих клиентов дешевле, чем привлекать новых.\n",
    "\n",
    "Нужно спрогнозировать, уйдёт клиент из банка в ближайшее время или нет. Вам предоставлены исторические данные о поведении клиентов и расторжении договоров с банком. \n",
    "\n",
    "Постройте модель с предельно большим значением *F1*-меры. Чтобы сдать проект успешно, нужно довести метрику до 0.59. Проверьте *F1*-меру на тестовой выборке самостоятельно.\n",
    "\n",
    "Дополнительно измеряйте *AUC-ROC*, сравнивайте её значение с *F1*-мерой.\n",
    "\n",
    "Источник данных: [https://www.kaggle.com/barelydedicated/bank-customer-churn-modeling](https://www.kaggle.com/barelydedicated/bank-customer-churn-modeling)"
   ]
  },
  {
   "cell_type": "markdown",
   "id": "6b611590",
   "metadata": {},
   "source": [
    "**Признаки**\n",
    "- RowNumber — индекс строки в данных\n",
    "- CustomerId — уникальный идентификатор клиента\n",
    "- Surname — фамилия\n",
    "- CreditScore — кредитный рейтинг\n",
    "- Geography — страна проживания\n",
    "- Gender — пол\n",
    "- Age — возраст\n",
    "- Tenure — количество недвижимости у клиента\n",
    "- Balance — баланс на счёте\n",
    "- NumOfProducts — количество продуктов банка, используемых клиентом\n",
    "- HasCrCard — наличие кредитной карты\n",
    "- IsActiveMember — активность клиента\n",
    "- EstimatedSalary — предполагаемая зарплата\n",
    "\n",
    "**Целевой признак**\n",
    "- Exited — факт ухода клиента\n",
    "\n",
    "**План работы над проектом**\n",
    "\n",
    "1. Подготовка данных\n",
    "2. Исследование задачи\n",
    "3. Борьба с дисбалансом\n",
    "4. Тестирование модели\n",
    "5. Выводы"
   ]
  },
  {
   "cell_type": "code",
   "execution_count": 1,
   "id": "95e2d84a",
   "metadata": {},
   "outputs": [
    {
     "name": "stdout",
     "output_type": "stream",
     "text": [
      "Requirement already satisfied: scikit-learn in /opt/conda/lib/python3.9/site-packages (1.2.2)\n",
      "Requirement already satisfied: numpy>=1.17.3 in /opt/conda/lib/python3.9/site-packages (from scikit-learn) (1.21.1)\n",
      "Requirement already satisfied: joblib>=1.1.1 in /opt/conda/lib/python3.9/site-packages (from scikit-learn) (1.2.0)\n",
      "Requirement already satisfied: scipy>=1.3.2 in /opt/conda/lib/python3.9/site-packages (from scikit-learn) (1.9.1)\n",
      "Requirement already satisfied: threadpoolctl>=2.0.0 in /opt/conda/lib/python3.9/site-packages (from scikit-learn) (3.1.0)\n"
     ]
    }
   ],
   "source": [
    "!pip install -U scikit-learn\n",
    "# Почему-то иногда ломалась тетрадка, если вручную не переустановить пакеты. Подсказал преподователь с проектов."
   ]
  },
  {
   "cell_type": "code",
   "execution_count": 2,
   "id": "aafec180",
   "metadata": {},
   "outputs": [],
   "source": [
    "# Подключим все необходимые библиотеки:\n",
    "\n",
    "import pandas as pd\n",
    "from sklearn.model_selection import train_test_split\n",
    "\n",
    "from sklearn.linear_model import LogisticRegression\n",
    "from sklearn.ensemble import RandomForestClassifier\n",
    "from sklearn.neighbors import KNeighborsClassifier\n",
    "from sklearn.preprocessing import OneHotEncoder\n",
    "\n",
    "from sklearn.metrics import accuracy_score\n",
    "from sklearn.metrics import f1_score\n",
    "from sklearn.utils import shuffle\n",
    "from sklearn.metrics import roc_auc_score"
   ]
  },
  {
   "cell_type": "code",
   "execution_count": 3,
   "id": "9132f9d6",
   "metadata": {},
   "outputs": [],
   "source": [
    "try:\n",
    "    data = pd.read_csv('/datasets/Churn.csv')\n",
    "except:\n",
    "    data = pd.read_csv('D:/Churn.csv')"
   ]
  },
  {
   "cell_type": "markdown",
   "id": "41a2728d",
   "metadata": {},
   "source": [
    "## Подготовка данных\n",
    "\n",
    "Изучим имеющиеся данные:"
   ]
  },
  {
   "cell_type": "code",
   "execution_count": 4,
   "id": "a36088f4",
   "metadata": {},
   "outputs": [
    {
     "name": "stdout",
     "output_type": "stream",
     "text": [
      "<class 'pandas.core.frame.DataFrame'>\n",
      "RangeIndex: 10000 entries, 0 to 9999\n",
      "Data columns (total 14 columns):\n",
      " #   Column           Non-Null Count  Dtype  \n",
      "---  ------           --------------  -----  \n",
      " 0   RowNumber        10000 non-null  int64  \n",
      " 1   CustomerId       10000 non-null  int64  \n",
      " 2   Surname          10000 non-null  object \n",
      " 3   CreditScore      10000 non-null  int64  \n",
      " 4   Geography        10000 non-null  object \n",
      " 5   Gender           10000 non-null  object \n",
      " 6   Age              10000 non-null  int64  \n",
      " 7   Tenure           9091 non-null   float64\n",
      " 8   Balance          10000 non-null  float64\n",
      " 9   NumOfProducts    10000 non-null  int64  \n",
      " 10  HasCrCard        10000 non-null  int64  \n",
      " 11  IsActiveMember   10000 non-null  int64  \n",
      " 12  EstimatedSalary  10000 non-null  float64\n",
      " 13  Exited           10000 non-null  int64  \n",
      "dtypes: float64(3), int64(8), object(3)\n",
      "memory usage: 1.1+ MB\n"
     ]
    }
   ],
   "source": [
    "data.info()"
   ]
  },
  {
   "cell_type": "code",
   "execution_count": 5,
   "id": "e903ce6d",
   "metadata": {},
   "outputs": [
    {
     "data": {
      "text/html": [
       "<div>\n",
       "<style scoped>\n",
       "    .dataframe tbody tr th:only-of-type {\n",
       "        vertical-align: middle;\n",
       "    }\n",
       "\n",
       "    .dataframe tbody tr th {\n",
       "        vertical-align: top;\n",
       "    }\n",
       "\n",
       "    .dataframe thead th {\n",
       "        text-align: right;\n",
       "    }\n",
       "</style>\n",
       "<table border=\"1\" class=\"dataframe\">\n",
       "  <thead>\n",
       "    <tr style=\"text-align: right;\">\n",
       "      <th></th>\n",
       "      <th>RowNumber</th>\n",
       "      <th>CustomerId</th>\n",
       "      <th>Surname</th>\n",
       "      <th>CreditScore</th>\n",
       "      <th>Geography</th>\n",
       "      <th>Gender</th>\n",
       "      <th>Age</th>\n",
       "      <th>Tenure</th>\n",
       "      <th>Balance</th>\n",
       "      <th>NumOfProducts</th>\n",
       "      <th>HasCrCard</th>\n",
       "      <th>IsActiveMember</th>\n",
       "      <th>EstimatedSalary</th>\n",
       "      <th>Exited</th>\n",
       "    </tr>\n",
       "  </thead>\n",
       "  <tbody>\n",
       "    <tr>\n",
       "      <th>0</th>\n",
       "      <td>1</td>\n",
       "      <td>15634602</td>\n",
       "      <td>Hargrave</td>\n",
       "      <td>619</td>\n",
       "      <td>France</td>\n",
       "      <td>Female</td>\n",
       "      <td>42</td>\n",
       "      <td>2.0</td>\n",
       "      <td>0.00</td>\n",
       "      <td>1</td>\n",
       "      <td>1</td>\n",
       "      <td>1</td>\n",
       "      <td>101348.88</td>\n",
       "      <td>1</td>\n",
       "    </tr>\n",
       "    <tr>\n",
       "      <th>1</th>\n",
       "      <td>2</td>\n",
       "      <td>15647311</td>\n",
       "      <td>Hill</td>\n",
       "      <td>608</td>\n",
       "      <td>Spain</td>\n",
       "      <td>Female</td>\n",
       "      <td>41</td>\n",
       "      <td>1.0</td>\n",
       "      <td>83807.86</td>\n",
       "      <td>1</td>\n",
       "      <td>0</td>\n",
       "      <td>1</td>\n",
       "      <td>112542.58</td>\n",
       "      <td>0</td>\n",
       "    </tr>\n",
       "    <tr>\n",
       "      <th>2</th>\n",
       "      <td>3</td>\n",
       "      <td>15619304</td>\n",
       "      <td>Onio</td>\n",
       "      <td>502</td>\n",
       "      <td>France</td>\n",
       "      <td>Female</td>\n",
       "      <td>42</td>\n",
       "      <td>8.0</td>\n",
       "      <td>159660.80</td>\n",
       "      <td>3</td>\n",
       "      <td>1</td>\n",
       "      <td>0</td>\n",
       "      <td>113931.57</td>\n",
       "      <td>1</td>\n",
       "    </tr>\n",
       "    <tr>\n",
       "      <th>3</th>\n",
       "      <td>4</td>\n",
       "      <td>15701354</td>\n",
       "      <td>Boni</td>\n",
       "      <td>699</td>\n",
       "      <td>France</td>\n",
       "      <td>Female</td>\n",
       "      <td>39</td>\n",
       "      <td>1.0</td>\n",
       "      <td>0.00</td>\n",
       "      <td>2</td>\n",
       "      <td>0</td>\n",
       "      <td>0</td>\n",
       "      <td>93826.63</td>\n",
       "      <td>0</td>\n",
       "    </tr>\n",
       "    <tr>\n",
       "      <th>4</th>\n",
       "      <td>5</td>\n",
       "      <td>15737888</td>\n",
       "      <td>Mitchell</td>\n",
       "      <td>850</td>\n",
       "      <td>Spain</td>\n",
       "      <td>Female</td>\n",
       "      <td>43</td>\n",
       "      <td>2.0</td>\n",
       "      <td>125510.82</td>\n",
       "      <td>1</td>\n",
       "      <td>1</td>\n",
       "      <td>1</td>\n",
       "      <td>79084.10</td>\n",
       "      <td>0</td>\n",
       "    </tr>\n",
       "    <tr>\n",
       "      <th>5</th>\n",
       "      <td>6</td>\n",
       "      <td>15574012</td>\n",
       "      <td>Chu</td>\n",
       "      <td>645</td>\n",
       "      <td>Spain</td>\n",
       "      <td>Male</td>\n",
       "      <td>44</td>\n",
       "      <td>8.0</td>\n",
       "      <td>113755.78</td>\n",
       "      <td>2</td>\n",
       "      <td>1</td>\n",
       "      <td>0</td>\n",
       "      <td>149756.71</td>\n",
       "      <td>1</td>\n",
       "    </tr>\n",
       "    <tr>\n",
       "      <th>6</th>\n",
       "      <td>7</td>\n",
       "      <td>15592531</td>\n",
       "      <td>Bartlett</td>\n",
       "      <td>822</td>\n",
       "      <td>France</td>\n",
       "      <td>Male</td>\n",
       "      <td>50</td>\n",
       "      <td>7.0</td>\n",
       "      <td>0.00</td>\n",
       "      <td>2</td>\n",
       "      <td>1</td>\n",
       "      <td>1</td>\n",
       "      <td>10062.80</td>\n",
       "      <td>0</td>\n",
       "    </tr>\n",
       "    <tr>\n",
       "      <th>7</th>\n",
       "      <td>8</td>\n",
       "      <td>15656148</td>\n",
       "      <td>Obinna</td>\n",
       "      <td>376</td>\n",
       "      <td>Germany</td>\n",
       "      <td>Female</td>\n",
       "      <td>29</td>\n",
       "      <td>4.0</td>\n",
       "      <td>115046.74</td>\n",
       "      <td>4</td>\n",
       "      <td>1</td>\n",
       "      <td>0</td>\n",
       "      <td>119346.88</td>\n",
       "      <td>1</td>\n",
       "    </tr>\n",
       "    <tr>\n",
       "      <th>8</th>\n",
       "      <td>9</td>\n",
       "      <td>15792365</td>\n",
       "      <td>He</td>\n",
       "      <td>501</td>\n",
       "      <td>France</td>\n",
       "      <td>Male</td>\n",
       "      <td>44</td>\n",
       "      <td>4.0</td>\n",
       "      <td>142051.07</td>\n",
       "      <td>2</td>\n",
       "      <td>0</td>\n",
       "      <td>1</td>\n",
       "      <td>74940.50</td>\n",
       "      <td>0</td>\n",
       "    </tr>\n",
       "    <tr>\n",
       "      <th>9</th>\n",
       "      <td>10</td>\n",
       "      <td>15592389</td>\n",
       "      <td>H?</td>\n",
       "      <td>684</td>\n",
       "      <td>France</td>\n",
       "      <td>Male</td>\n",
       "      <td>27</td>\n",
       "      <td>2.0</td>\n",
       "      <td>134603.88</td>\n",
       "      <td>1</td>\n",
       "      <td>1</td>\n",
       "      <td>1</td>\n",
       "      <td>71725.73</td>\n",
       "      <td>0</td>\n",
       "    </tr>\n",
       "  </tbody>\n",
       "</table>\n",
       "</div>"
      ],
      "text/plain": [
       "   RowNumber  CustomerId   Surname  CreditScore Geography  Gender  Age  \\\n",
       "0          1    15634602  Hargrave          619    France  Female   42   \n",
       "1          2    15647311      Hill          608     Spain  Female   41   \n",
       "2          3    15619304      Onio          502    France  Female   42   \n",
       "3          4    15701354      Boni          699    France  Female   39   \n",
       "4          5    15737888  Mitchell          850     Spain  Female   43   \n",
       "5          6    15574012       Chu          645     Spain    Male   44   \n",
       "6          7    15592531  Bartlett          822    France    Male   50   \n",
       "7          8    15656148    Obinna          376   Germany  Female   29   \n",
       "8          9    15792365        He          501    France    Male   44   \n",
       "9         10    15592389        H?          684    France    Male   27   \n",
       "\n",
       "   Tenure    Balance  NumOfProducts  HasCrCard  IsActiveMember  \\\n",
       "0     2.0       0.00              1          1               1   \n",
       "1     1.0   83807.86              1          0               1   \n",
       "2     8.0  159660.80              3          1               0   \n",
       "3     1.0       0.00              2          0               0   \n",
       "4     2.0  125510.82              1          1               1   \n",
       "5     8.0  113755.78              2          1               0   \n",
       "6     7.0       0.00              2          1               1   \n",
       "7     4.0  115046.74              4          1               0   \n",
       "8     4.0  142051.07              2          0               1   \n",
       "9     2.0  134603.88              1          1               1   \n",
       "\n",
       "   EstimatedSalary  Exited  \n",
       "0        101348.88       1  \n",
       "1        112542.58       0  \n",
       "2        113931.57       1  \n",
       "3         93826.63       0  \n",
       "4         79084.10       0  \n",
       "5        149756.71       1  \n",
       "6         10062.80       0  \n",
       "7        119346.88       1  \n",
       "8         74940.50       0  \n",
       "9         71725.73       0  "
      ]
     },
     "execution_count": 5,
     "metadata": {},
     "output_type": "execute_result"
    }
   ],
   "source": [
    "data.head(10)"
   ]
  },
  {
   "cell_type": "code",
   "execution_count": 6,
   "id": "9f6acb69",
   "metadata": {},
   "outputs": [
    {
     "data": {
      "text/plain": [
       "RowNumber            0\n",
       "CustomerId           0\n",
       "Surname              0\n",
       "CreditScore          0\n",
       "Geography            0\n",
       "Gender               0\n",
       "Age                  0\n",
       "Tenure             909\n",
       "Balance              0\n",
       "NumOfProducts        0\n",
       "HasCrCard            0\n",
       "IsActiveMember       0\n",
       "EstimatedSalary      0\n",
       "Exited               0\n",
       "dtype: int64"
      ]
     },
     "execution_count": 6,
     "metadata": {},
     "output_type": "execute_result"
    }
   ],
   "source": [
    "# Поверим датасет на наличие пропусков:\n",
    "data.isna().sum()"
   ]
  },
  {
   "cell_type": "code",
   "execution_count": 7,
   "id": "e2209de4",
   "metadata": {},
   "outputs": [
    {
     "data": {
      "text/plain": [
       "0"
      ]
     },
     "execution_count": 7,
     "metadata": {},
     "output_type": "execute_result"
    }
   ],
   "source": [
    "# Поверим датасет на явные дубликаты:\n",
    "data.duplicated().sum()"
   ]
  },
  {
   "cell_type": "markdown",
   "id": "fee3ad4f",
   "metadata": {},
   "source": [
    "Чтобы продолжить дальнейший анализ необходимо устранить следующие недочёты в имеющихся данных:\n",
    "1. Удалить столбцы `RowNumber`, `CustomerId` и `Surname`. Первый дублирует индексы, второй является уникальным Id пользователей, а третий - фамилиями пользователей. Все эти данные никак не помогут в построении модели и предсказаний;\n",
    "2. Избавиться от пропусков в столбце `Tenure`;\n",
    "3. Заменим категориальные признаки в столбцах `Geography` и `Gender` на числовые. "
   ]
  },
  {
   "cell_type": "markdown",
   "id": "420a6c14",
   "metadata": {},
   "source": [
    "### Удаление лишних столбцов"
   ]
  },
  {
   "cell_type": "code",
   "execution_count": 8,
   "id": "51c3b18f",
   "metadata": {},
   "outputs": [],
   "source": [
    "data.drop(['RowNumber', 'CustomerId', 'Surname'], axis='columns', inplace=True)"
   ]
  },
  {
   "cell_type": "markdown",
   "id": "f5ac108b",
   "metadata": {},
   "source": [
    "### Заполнение пропусков\n",
    "\n",
    "Стобец `Tenure` обозначает количество недвижимости у клиента. Предположим, что пропуск в данном случае подразумевает её отсутствие и заполним пропуски 0:"
   ]
  },
  {
   "cell_type": "code",
   "execution_count": 9,
   "id": "c942e144",
   "metadata": {},
   "outputs": [],
   "source": [
    "data.fillna(data['Tenure'].median(), inplace=True)"
   ]
  },
  {
   "cell_type": "markdown",
   "id": "45b3aa34",
   "metadata": {},
   "source": [
    "### Создание выборок"
   ]
  },
  {
   "cell_type": "code",
   "execution_count": 10,
   "id": "6a82d359",
   "metadata": {},
   "outputs": [],
   "source": [
    "# В признаки модели (features) отнесём все данные выборки, за исключением столбца \"Exited\", \n",
    "# т.к. это целевой признак (target).\n",
    "\n",
    "features = data.drop(['Exited'], axis=1)\n",
    "target = data['Exited']"
   ]
  },
  {
   "cell_type": "markdown",
   "id": "2543cebd",
   "metadata": {},
   "source": [
    "Целевой признак выборки представлен категорией из 0 и 1 - это задача **бинарной классификации**.\n",
    "\n",
    "Отделим 60% генеральной выборки для обучения модели, 20% для валидации и 20% для окончательной проверки дееспесобности выбранной модели:"
   ]
  },
  {
   "cell_type": "code",
   "execution_count": 11,
   "id": "97d5b611",
   "metadata": {},
   "outputs": [],
   "source": [
    "# С помощью метода train_test_split разделим генеральную выбрку на тренировочную (*_train), валидационную (*_valid) \n",
    "# и тестовую (*_test)\n",
    "\n",
    "features_train, features_rest, target_train, target_rest = \\\n",
    "    train_test_split(features, target, test_size=0.4, random_state=0)\n",
    "\n",
    "features_valid, features_test, target_valid, target_test = \\\n",
    "    train_test_split(features_rest, target_rest, test_size=0.5, random_state=0)"
   ]
  },
  {
   "cell_type": "code",
   "execution_count": 12,
   "id": "5370b46f",
   "metadata": {
    "scrolled": true
   },
   "outputs": [
    {
     "data": {
      "text/plain": [
       "'Обучающая выборка составила: 60.0 %'"
      ]
     },
     "metadata": {},
     "output_type": "display_data"
    },
    {
     "data": {
      "text/plain": [
       "'Валидационная выборка составила: 20.0 %'"
      ]
     },
     "metadata": {},
     "output_type": "display_data"
    },
    {
     "data": {
      "text/plain": [
       "'Тестовая выборка составила: 20.0 %'"
      ]
     },
     "metadata": {},
     "output_type": "display_data"
    }
   ],
   "source": [
    "# Убедимся, что пропорция выборок 3:1:1 соблюдена:\n",
    "display(f'Обучающая выборка составила: {features_train.shape[0]/features.shape[0]*100} %')\n",
    "display(f'Валидационная выборка составила: {features_valid.shape[0]/features.shape[0]*100} %')\n",
    "display(f'Тестовая выборка составила: {features_test.shape[0]/features.shape[0]*100} %')"
   ]
  },
  {
   "cell_type": "markdown",
   "id": "91e323f5",
   "metadata": {},
   "source": [
    "### Замена категориальных признаков\n",
    "\n",
    "Для замены категориальных признаков числовыми воспользуемся методом one-hot encoding:"
   ]
  },
  {
   "cell_type": "code",
   "execution_count": 13,
   "id": "5397bfa0",
   "metadata": {},
   "outputs": [
    {
     "name": "stderr",
     "output_type": "stream",
     "text": [
      "/opt/conda/lib/python3.9/site-packages/sklearn/preprocessing/_encoders.py:868: FutureWarning: `sparse` was renamed to `sparse_output` in version 1.2 and will be removed in 1.4. `sparse_output` is ignored unless you leave `sparse` to its default value.\n",
      "  warnings.warn(\n"
     ]
    },
    {
     "data": {
      "text/html": [
       "<div>\n",
       "<style scoped>\n",
       "    .dataframe tbody tr th:only-of-type {\n",
       "        vertical-align: middle;\n",
       "    }\n",
       "\n",
       "    .dataframe tbody tr th {\n",
       "        vertical-align: top;\n",
       "    }\n",
       "\n",
       "    .dataframe thead th {\n",
       "        text-align: right;\n",
       "    }\n",
       "</style>\n",
       "<table border=\"1\" class=\"dataframe\">\n",
       "  <thead>\n",
       "    <tr style=\"text-align: right;\">\n",
       "      <th></th>\n",
       "      <th>Geography_Germany</th>\n",
       "      <th>Geography_Spain</th>\n",
       "      <th>Gender_Male</th>\n",
       "      <th>CreditScore</th>\n",
       "      <th>Age</th>\n",
       "      <th>Tenure</th>\n",
       "      <th>Balance</th>\n",
       "      <th>NumOfProducts</th>\n",
       "      <th>HasCrCard</th>\n",
       "      <th>IsActiveMember</th>\n",
       "      <th>EstimatedSalary</th>\n",
       "    </tr>\n",
       "  </thead>\n",
       "  <tbody>\n",
       "    <tr>\n",
       "      <th>0</th>\n",
       "      <td>0.0</td>\n",
       "      <td>1.0</td>\n",
       "      <td>1.0</td>\n",
       "      <td>579</td>\n",
       "      <td>43</td>\n",
       "      <td>2.0</td>\n",
       "      <td>145843.82</td>\n",
       "      <td>1</td>\n",
       "      <td>1</td>\n",
       "      <td>1</td>\n",
       "      <td>198402.37</td>\n",
       "    </tr>\n",
       "    <tr>\n",
       "      <th>1</th>\n",
       "      <td>0.0</td>\n",
       "      <td>1.0</td>\n",
       "      <td>0.0</td>\n",
       "      <td>652</td>\n",
       "      <td>40</td>\n",
       "      <td>7.0</td>\n",
       "      <td>100471.34</td>\n",
       "      <td>1</td>\n",
       "      <td>1</td>\n",
       "      <td>1</td>\n",
       "      <td>124550.88</td>\n",
       "    </tr>\n",
       "    <tr>\n",
       "      <th>2</th>\n",
       "      <td>0.0</td>\n",
       "      <td>1.0</td>\n",
       "      <td>1.0</td>\n",
       "      <td>652</td>\n",
       "      <td>37</td>\n",
       "      <td>5.0</td>\n",
       "      <td>0.00</td>\n",
       "      <td>2</td>\n",
       "      <td>1</td>\n",
       "      <td>0</td>\n",
       "      <td>68789.93</td>\n",
       "    </tr>\n",
       "    <tr>\n",
       "      <th>3</th>\n",
       "      <td>0.0</td>\n",
       "      <td>0.0</td>\n",
       "      <td>1.0</td>\n",
       "      <td>645</td>\n",
       "      <td>25</td>\n",
       "      <td>0.0</td>\n",
       "      <td>174400.36</td>\n",
       "      <td>1</td>\n",
       "      <td>1</td>\n",
       "      <td>0</td>\n",
       "      <td>42669.37</td>\n",
       "    </tr>\n",
       "    <tr>\n",
       "      <th>4</th>\n",
       "      <td>0.0</td>\n",
       "      <td>0.0</td>\n",
       "      <td>1.0</td>\n",
       "      <td>613</td>\n",
       "      <td>36</td>\n",
       "      <td>9.0</td>\n",
       "      <td>131307.11</td>\n",
       "      <td>1</td>\n",
       "      <td>0</td>\n",
       "      <td>0</td>\n",
       "      <td>83343.73</td>\n",
       "    </tr>\n",
       "    <tr>\n",
       "      <th>5</th>\n",
       "      <td>0.0</td>\n",
       "      <td>1.0</td>\n",
       "      <td>1.0</td>\n",
       "      <td>756</td>\n",
       "      <td>38</td>\n",
       "      <td>6.0</td>\n",
       "      <td>119208.85</td>\n",
       "      <td>1</td>\n",
       "      <td>1</td>\n",
       "      <td>0</td>\n",
       "      <td>169763.89</td>\n",
       "    </tr>\n",
       "    <tr>\n",
       "      <th>6</th>\n",
       "      <td>0.0</td>\n",
       "      <td>1.0</td>\n",
       "      <td>1.0</td>\n",
       "      <td>712</td>\n",
       "      <td>45</td>\n",
       "      <td>6.0</td>\n",
       "      <td>112994.65</td>\n",
       "      <td>1</td>\n",
       "      <td>0</td>\n",
       "      <td>0</td>\n",
       "      <td>198398.68</td>\n",
       "    </tr>\n",
       "    <tr>\n",
       "      <th>7</th>\n",
       "      <td>0.0</td>\n",
       "      <td>0.0</td>\n",
       "      <td>0.0</td>\n",
       "      <td>592</td>\n",
       "      <td>31</td>\n",
       "      <td>5.0</td>\n",
       "      <td>84102.11</td>\n",
       "      <td>2</td>\n",
       "      <td>0</td>\n",
       "      <td>1</td>\n",
       "      <td>116385.24</td>\n",
       "    </tr>\n",
       "    <tr>\n",
       "      <th>8</th>\n",
       "      <td>1.0</td>\n",
       "      <td>0.0</td>\n",
       "      <td>1.0</td>\n",
       "      <td>636</td>\n",
       "      <td>49</td>\n",
       "      <td>6.0</td>\n",
       "      <td>113599.74</td>\n",
       "      <td>2</td>\n",
       "      <td>1</td>\n",
       "      <td>0</td>\n",
       "      <td>158887.09</td>\n",
       "    </tr>\n",
       "    <tr>\n",
       "      <th>9</th>\n",
       "      <td>1.0</td>\n",
       "      <td>0.0</td>\n",
       "      <td>1.0</td>\n",
       "      <td>553</td>\n",
       "      <td>53</td>\n",
       "      <td>5.0</td>\n",
       "      <td>127997.83</td>\n",
       "      <td>1</td>\n",
       "      <td>1</td>\n",
       "      <td>0</td>\n",
       "      <td>165378.66</td>\n",
       "    </tr>\n",
       "  </tbody>\n",
       "</table>\n",
       "</div>"
      ],
      "text/plain": [
       "   Geography_Germany  Geography_Spain  Gender_Male  CreditScore  Age  Tenure  \\\n",
       "0                0.0              1.0          1.0          579   43     2.0   \n",
       "1                0.0              1.0          0.0          652   40     7.0   \n",
       "2                0.0              1.0          1.0          652   37     5.0   \n",
       "3                0.0              0.0          1.0          645   25     0.0   \n",
       "4                0.0              0.0          1.0          613   36     9.0   \n",
       "5                0.0              1.0          1.0          756   38     6.0   \n",
       "6                0.0              1.0          1.0          712   45     6.0   \n",
       "7                0.0              0.0          0.0          592   31     5.0   \n",
       "8                1.0              0.0          1.0          636   49     6.0   \n",
       "9                1.0              0.0          1.0          553   53     5.0   \n",
       "\n",
       "     Balance  NumOfProducts  HasCrCard  IsActiveMember  EstimatedSalary  \n",
       "0  145843.82              1          1               1        198402.37  \n",
       "1  100471.34              1          1               1        124550.88  \n",
       "2       0.00              2          1               0         68789.93  \n",
       "3  174400.36              1          1               0         42669.37  \n",
       "4  131307.11              1          0               0         83343.73  \n",
       "5  119208.85              1          1               0        169763.89  \n",
       "6  112994.65              1          0               0        198398.68  \n",
       "7   84102.11              2          0               1        116385.24  \n",
       "8  113599.74              2          1               0        158887.09  \n",
       "9  127997.83              1          1               0        165378.66  "
      ]
     },
     "execution_count": 13,
     "metadata": {},
     "output_type": "execute_result"
    }
   ],
   "source": [
    "cols = ['Geography', 'Gender'] #названия столбцов, кот.надо разбить на числа\n",
    " \n",
    "enc = OneHotEncoder(drop='first', handle_unknown='ignore', sparse=False)\n",
    " \n",
    "#Cоздание объекта DF:\n",
    "features_train_enc = pd.DataFrame(data=enc.fit_transform(features_train[cols]),\n",
    "                                      columns=enc.get_feature_names_out(cols)) \n",
    " \n",
    "# Объединим датафрейм с преобразованными столбцами с исходным: \n",
    "features_train = features_train.reset_index(drop=True)\n",
    "target_train = target_train.reset_index(drop=True)\n",
    "new_features_train = pd.concat([features_train_enc, features_train], axis=1)\n",
    " \n",
    "#Уберем категориальные столбцы из нового датафрейма:\n",
    "new_features_train.drop(cols, axis=1, inplace=True) \n",
    "\n",
    "# Выведем первые 10 строчек \n",
    "new_features_train.head(10)"
   ]
  },
  {
   "cell_type": "code",
   "execution_count": 14,
   "id": "0173f7fe",
   "metadata": {
    "scrolled": true
   },
   "outputs": [],
   "source": [
    "features_valid_encoder = pd.DataFrame(data=enc.transform(features_valid[cols]), \n",
    "                                      columns=enc.get_feature_names_out(cols)) \n",
    "features_valid = features_valid.reset_index(drop=True)\n",
    "new_features_valid = pd.concat([features_valid_encoder, features_valid], axis=1) \n",
    "new_features_valid.drop(cols, axis=1, inplace=True)\n",
    "\n",
    "features_test_encoder = pd.DataFrame(data=enc.transform(features_test[cols]), \n",
    "                                      columns=enc.get_feature_names_out(cols)) \n",
    "features_test = features_test.reset_index(drop=True)\n",
    "new_features_test = pd.concat([features_test_encoder, features_test], axis=1) \n",
    "new_features_test.drop(cols, axis=1, inplace=True)"
   ]
  },
  {
   "cell_type": "markdown",
   "id": "a54e7246",
   "metadata": {},
   "source": [
    "Таким образом модель легко проанализирует пол изучаемого объекта и страну проживания.\n",
    "\n",
    "Следующим шагом будет определние целевого признака и создание тренировочной, валидационной и тестовой выборок: "
   ]
  },
  {
   "cell_type": "markdown",
   "id": "9a8cd507",
   "metadata": {},
   "source": [
    "На этапе предобработки данных:\n",
    "1. Отсортированы лишние столбцы;\n",
    "2. Заполнены пропуски;\n",
    "3. Категориальные показатели заменены на числовые;\n",
    "4. Сформированы обучающая, валидационная и тестовая выборки.\n",
    "\n",
    "Можно переходить к следующему этапу."
   ]
  },
  {
   "cell_type": "markdown",
   "id": "81cbd42a",
   "metadata": {},
   "source": [
    "## Исследование задачи"
   ]
  },
  {
   "cell_type": "code",
   "execution_count": 15,
   "id": "0f25a5ec",
   "metadata": {},
   "outputs": [
    {
     "data": {
      "text/plain": [
       "0    7963\n",
       "1    2037\n",
       "Name: Exited, dtype: int64"
      ]
     },
     "execution_count": 15,
     "metadata": {},
     "output_type": "execute_result"
    }
   ],
   "source": [
    "# Рассмотрим дисбаланс классов по целевым признакам:\n",
    "\n",
    "target.value_counts()"
   ]
  },
  {
   "cell_type": "markdown",
   "id": "05ce4216",
   "metadata": {},
   "source": [
    "В среднем на 1 положительный класс выходит 4 отрицательных. Попробуем обучить модели без исправление баланса.\n",
    "\n",
    "Для нашего исследования мы воспользуемся тремя моделями:\n",
    "- логистческая регрессия;\n",
    "- случайный лес;\n",
    "- ближайшие соседи.\n",
    "\n",
    "Для каждой модели подберём наиболее точные параметры, и выведем их с указанием F1 (среднее гармоническое полноты и точности)."
   ]
  },
  {
   "cell_type": "markdown",
   "id": "40ce55c5",
   "metadata": {},
   "source": [
    "### Логистическая регрессия"
   ]
  },
  {
   "cell_type": "code",
   "execution_count": 16,
   "id": "361fc43a",
   "metadata": {},
   "outputs": [
    {
     "data": {
      "text/plain": [
       "'Точность модели \"Логистическая регрессия\": 78.5%'"
      ]
     },
     "metadata": {},
     "output_type": "display_data"
    },
    {
     "data": {
      "text/plain": [
       "'F1: 12.22%'"
      ]
     },
     "metadata": {},
     "output_type": "display_data"
    },
    {
     "data": {
      "text/plain": [
       "'AUC-ROC метрика: 67.24%'"
      ]
     },
     "metadata": {},
     "output_type": "display_data"
    }
   ],
   "source": [
    "model = LogisticRegression(random_state=0, solver = 'liblinear')\n",
    "model.fit(new_features_train, target_train)\n",
    "regression_predict = model.predict(new_features_valid)\n",
    "regression_probabilities = model.predict_proba(new_features_valid)[:, 1]\n",
    "regression_auc_roc = roc_auc_score(target_valid, regression_probabilities)\n",
    "\n",
    "\n",
    "display('Точность модели \"Логистическая регрессия\": {:.1f}%'.format(model.score(new_features_valid, target_valid)*100), \n",
    "        \"F1: {:.2f}%\".format(f1_score(target_valid, regression_predict)*100),\n",
    "        \"AUC-ROC метрика: {:.2f}%\".format(regression_auc_roc*100))"
   ]
  },
  {
   "cell_type": "markdown",
   "id": "cd97dfcb",
   "metadata": {},
   "source": [
    "### Случайный лес\n",
    "\n",
    "Исследуем наилучшие параметры для модели, чтобы вывести наибольшую точность:"
   ]
  },
  {
   "cell_type": "code",
   "execution_count": 17,
   "id": "cc353442",
   "metadata": {},
   "outputs": [
    {
     "data": {
      "text/plain": [
       "'Наибольшая точность модели \"Случайный лес\": 87.6%'"
      ]
     },
     "metadata": {},
     "output_type": "display_data"
    },
    {
     "data": {
      "text/plain": [
       "'При количестве деревьев: 160'"
      ]
     },
     "metadata": {},
     "output_type": "display_data"
    },
    {
     "data": {
      "text/plain": [
       "'Глубине: 14'"
      ]
     },
     "metadata": {},
     "output_type": "display_data"
    },
    {
     "data": {
      "text/plain": [
       "'И F1: 63.52%'"
      ]
     },
     "metadata": {},
     "output_type": "display_data"
    },
    {
     "data": {
      "text/plain": [
       "'AUC-ROC метрика: 87.42%'"
      ]
     },
     "metadata": {},
     "output_type": "display_data"
    }
   ],
   "source": [
    "best_result = 0\n",
    "best_est = 0\n",
    "best_depth = 0\n",
    "best_f1 = 0\n",
    "best_auc_roc = 0\n",
    "for est in range(50, 201, 10):\n",
    "    for depth in range (1, 16):\n",
    "        model = RandomForestClassifier(random_state=0, n_estimators=est, max_depth=depth)\n",
    "        model.fit(new_features_train, target_train)\n",
    "        result = model.score(new_features_valid, target_valid)\n",
    "        forest_predict = model.predict(new_features_valid)\n",
    "        f1 = f1_score(target_valid, forest_predict)\n",
    "        forest_probabilities = model.predict_proba(new_features_valid)[:, 1]\n",
    "        roc = roc_auc_score(target_valid, forest_probabilities)\n",
    "        if result > best_result:\n",
    "            best_result = result\n",
    "            best_est = est\n",
    "            best_depth = depth\n",
    "            best_f1 = f1\n",
    "            best_auc_roc = roc\n",
    "\n",
    "display('Наибольшая точность модели \"Случайный лес\": {:.1f}%'.format(best_result*100), \n",
    "        \"При количестве деревьев: {}\".format(best_est), \n",
    "        \"Глубине: {}\".format(best_depth),\n",
    "        \"И F1: {:.2f}%\".format(best_f1*100),\n",
    "        \"AUC-ROC метрика: {:.2f}%\".format(best_auc_roc*100))"
   ]
  },
  {
   "cell_type": "markdown",
   "id": "62e4f6ee",
   "metadata": {},
   "source": [
    "### Ближайшие соседи"
   ]
  },
  {
   "cell_type": "code",
   "execution_count": 18,
   "id": "47ef7248",
   "metadata": {
    "scrolled": true
   },
   "outputs": [
    {
     "data": {
      "text/plain": [
       "'Наибольшая точность модели \"Ближайшие соседи\": 79.0%'"
      ]
     },
     "metadata": {},
     "output_type": "display_data"
    },
    {
     "data": {
      "text/plain": [
       "'При кол-ве соседей: 10'"
      ]
     },
     "metadata": {},
     "output_type": "display_data"
    },
    {
     "data": {
      "text/plain": [
       "'И F1: 3.23%'"
      ]
     },
     "metadata": {},
     "output_type": "display_data"
    },
    {
     "data": {
      "text/plain": [
       "'AUC-ROC метрика: 53.69%'"
      ]
     },
     "metadata": {},
     "output_type": "display_data"
    }
   ],
   "source": [
    "best_result = 0\n",
    "best_neigbors = 0\n",
    "best_f1 = 0\n",
    "best_auc_roc = 0\n",
    "for neighbors in range(1, 11):\n",
    "    model = KNeighborsClassifier(n_neighbors=neighbors) \n",
    "    model.fit(new_features_train, target_train)\n",
    "    result = model.score(new_features_valid, target_valid)\n",
    "    neighboor_predict = model.predict(new_features_valid)\n",
    "    f1 = f1_score(target_valid, neighboor_predict)\n",
    "    neighboor_probabilities = model.predict_proba(new_features_valid)[:, 1]\n",
    "    roc = roc_auc_score(target_valid, neighboor_probabilities)\n",
    "    if result > best_result:\n",
    "        best_result = result\n",
    "        best_neigbors = neighbors\n",
    "        best_f1 = f1\n",
    "        best_auc_roc = roc\n",
    "\n",
    "display('Наибольшая точность модели \"Ближайшие соседи\": {:.1f}%'.format(best_result*100), \n",
    "        \"При кол-ве соседей: {}\".format(best_neigbors),\n",
    "        \"И F1: {:.2f}%\".format(best_f1*100),\n",
    "        \"AUC-ROC метрика: {:.2f}%\".format(best_auc_roc*100))"
   ]
  },
  {
   "cell_type": "markdown",
   "id": "f7aa3426",
   "metadata": {},
   "source": [
    "Имеем слудеющие выводы:\n",
    "1. Модель **\"Логистическая регрессия\"**:\n",
    "    - Точность = 78.5%\n",
    "    - Величина F1 = 12.22%\n",
    "    - AUC-ROC метрика: 67.24%\n",
    "    \n",
    "    \n",
    "2. Модель **\"Случайный лес\"**:\n",
    "    - Точность = 87.6%\n",
    "    - Кол-во деревьев = 160\n",
    "    - Глубина = 14\n",
    "    - Величина F1 = 63.52%\n",
    "    - AUC-ROC метрика: 87.42%\n",
    "    \n",
    "    \n",
    "3. Модель **\"Ближайшие соседи\"**:\n",
    "    - Точность = 79%\n",
    "    - Кол-во соседей = 10\n",
    "    - Величина F1 = 3.23%\n",
    "    - AUC-ROC метрика: 53.69%\n",
    "    \n",
    "Наиболее точной моделью, как по показателю score, F1 и метрике AUC-ROC оказалась модель \"Случайный лес\".\n",
    "Попробуем обучить модели уже на более сбалансированной выборке и сравним результаты."
   ]
  },
  {
   "cell_type": "markdown",
   "id": "50c9d2c1",
   "metadata": {},
   "source": [
    "## Борьба с дисбалансом"
   ]
  },
  {
   "cell_type": "markdown",
   "id": "77b5928f",
   "metadata": {},
   "source": [
    "### Глобавльный параметр class_weight\n",
    "\n",
    "Наиболее простой способ сбалансировать выборку - указать каждой модели глобальный параметр `class_weight = balanced`."
   ]
  },
  {
   "cell_type": "code",
   "execution_count": 19,
   "id": "b01d7e1e",
   "metadata": {},
   "outputs": [
    {
     "data": {
      "text/plain": [
       "'Точность модели \"Логистическая регрессия\" при указанном class_weight: 69.5%'"
      ]
     },
     "metadata": {},
     "output_type": "display_data"
    },
    {
     "data": {
      "text/plain": [
       "'F1: 12.22%'"
      ]
     },
     "metadata": {},
     "output_type": "display_data"
    },
    {
     "data": {
      "text/plain": [
       "'AUC-ROC метрика: 76.74%'"
      ]
     },
     "metadata": {},
     "output_type": "display_data"
    }
   ],
   "source": [
    "model = LogisticRegression(random_state=0, solver = 'liblinear', class_weight='balanced')\n",
    "model.fit(new_features_train, target_train)\n",
    "regression_probabilities = model.predict_proba(new_features_valid)[:, 1]\n",
    "regression_auc_roc = roc_auc_score(target_valid, regression_probabilities)\n",
    "\n",
    "display('Точность модели \"Логистическая регрессия\" при указанном class_weight: {:.1f}%'.format(model.score(new_features_valid, target_valid)*100), \n",
    "        \"F1: {:.2f}%\".format(f1_score(target_valid, regression_predict)*100),\n",
    "       \"AUC-ROC метрика: {:.2f}%\".format(regression_auc_roc*100))"
   ]
  },
  {
   "cell_type": "code",
   "execution_count": 20,
   "id": "4633e5b5",
   "metadata": {},
   "outputs": [
    {
     "data": {
      "text/plain": [
       "'Наибольшая точность модели \"Случайный лес\" при указанном class_weight: 86.6%'"
      ]
     },
     "metadata": {},
     "output_type": "display_data"
    },
    {
     "data": {
      "text/plain": [
       "'При количестве деревьев: 130'"
      ]
     },
     "metadata": {},
     "output_type": "display_data"
    },
    {
     "data": {
      "text/plain": [
       "'Глубине: 15'"
      ]
     },
     "metadata": {},
     "output_type": "display_data"
    },
    {
     "data": {
      "text/plain": [
       "'И F1: 61.71%'"
      ]
     },
     "metadata": {},
     "output_type": "display_data"
    },
    {
     "data": {
      "text/plain": [
       "'AUC-ROC метрика: 87.06%'"
      ]
     },
     "metadata": {},
     "output_type": "display_data"
    }
   ],
   "source": [
    "best_result = 0\n",
    "best_est = 0\n",
    "best_depth = 0\n",
    "best_f1 = 0\n",
    "best_auc_roc = 0\n",
    "for est in range(50, 201, 10):\n",
    "    for depth in range (1, 16):\n",
    "        model = RandomForestClassifier(random_state=0, n_estimators=est, max_depth=depth, class_weight='balanced')\n",
    "        model.fit(new_features_train, target_train)\n",
    "        result = model.score(new_features_valid, target_valid)\n",
    "        forest_predict = model.predict(new_features_valid)\n",
    "        f1 = f1_score(target_valid, forest_predict)\n",
    "        forest_probabilities = model.predict_proba(new_features_valid)[:, 1]\n",
    "        roc = roc_auc_score(target_valid, forest_probabilities)\n",
    "        if result > best_result:\n",
    "            best_result = result\n",
    "            best_est = est\n",
    "            best_depth = depth\n",
    "            best_f1 = f1\n",
    "            best_auc_roc = roc\n",
    "\n",
    "display('Наибольшая точность модели \"Случайный лес\" при указанном class_weight: {:.1f}%'.format(best_result*100), \n",
    "        \"При количестве деревьев: {}\".format(best_est), \n",
    "        \"Глубине: {}\".format(best_depth),\n",
    "        \"И F1: {:.2f}%\".format(best_f1*100),\n",
    "        \"AUC-ROC метрика: {:.2f}%\".format(best_auc_roc*100))"
   ]
  },
  {
   "cell_type": "markdown",
   "id": "b7764387",
   "metadata": {},
   "source": [
    "Модель \"Ближайшие соседи\" не имеет глобального параметра `class_weight` и увиличивать её показатель F1 придётся другими способами.\n",
    "\n",
    "По результатам проведённой работы видно, что показатель F1 в обоих случаях увеличился, ценой снижения точности. Особенно это заметно на примере \"Логистической регрессии\". "
   ]
  },
  {
   "cell_type": "markdown",
   "id": "8dfd1e32",
   "metadata": {},
   "source": [
    "### Уменьшение частоты класса 0\n",
    "\n",
    "С помощью функции downsample изменим частоту класса 0 в генеральной выборке и обучим на ней наши модели:"
   ]
  },
  {
   "cell_type": "code",
   "execution_count": 21,
   "id": "618e08b9",
   "metadata": {},
   "outputs": [
    {
     "data": {
      "text/plain": [
       "1    1209\n",
       "0    1198\n",
       "Name: Exited, dtype: int64"
      ]
     },
     "execution_count": 21,
     "metadata": {},
     "output_type": "execute_result"
    }
   ],
   "source": [
    "def downsample(features, target, fraction):\n",
    "    features_zeros = features[target == 0]\n",
    "    features_ones = features[target == 1]\n",
    "    target_zeros = target[target == 0]\n",
    "    target_ones = target[target == 1]\n",
    "\n",
    "    features_downsampled = pd.concat(\n",
    "        [features_zeros.sample(frac=fraction, random_state=0)] + [features_ones])\n",
    "    target_downsampled = pd.concat(\n",
    "        [target_zeros.sample(frac=fraction, random_state=0)] + [target_ones])\n",
    "    \n",
    "    features_downsampled, target_downsampled = shuffle(\n",
    "        features_downsampled, target_downsampled, random_state=0)\n",
    "    return features_downsampled, target_downsampled\n",
    "\n",
    "features_downsampled, target_downsampled = downsample(new_features_train, target_train, 0.25)\n",
    "\n",
    "# Выведем на экран объём положительных и отрицательных целевых признаков после работы функции:\n",
    "target_downsampled.value_counts()"
   ]
  },
  {
   "cell_type": "code",
   "execution_count": 22,
   "id": "3f43214e",
   "metadata": {
    "scrolled": true
   },
   "outputs": [
    {
     "data": {
      "text/plain": [
       "'Точность модели \"Логистическая регрессия\" при уменьшении частоты класса 0: 64.8%'"
      ]
     },
     "metadata": {},
     "output_type": "display_data"
    },
    {
     "data": {
      "text/plain": [
       "'F1: 44.83%'"
      ]
     },
     "metadata": {},
     "output_type": "display_data"
    },
    {
     "data": {
      "text/plain": [
       "'AUC-ROC метрика: 70.45%'"
      ]
     },
     "metadata": {},
     "output_type": "display_data"
    }
   ],
   "source": [
    "model = LogisticRegression(random_state=0, solver = 'liblinear')\n",
    "model.fit(features_downsampled, target_downsampled)\n",
    "regression_predict_downsampled = model.predict(new_features_valid)\n",
    "f1 = f1_score(target_valid, regression_predict_downsampled)\n",
    "regression_probabilities_downsampled = model.predict_proba(new_features_valid)[:, 1]\n",
    "regression_auc_roc = roc_auc_score(target_valid, regression_probabilities_downsampled)\n",
    "\n",
    "display('Точность модели \"Логистическая регрессия\" при уменьшении частоты класса 0: {:.1f}%'.format(model.score(new_features_valid, target_valid)*100), \n",
    "        \"F1: {:.2f}%\".format(f1*100),\n",
    "       \"AUC-ROC метрика: {:.2f}%\".format(regression_auc_roc*100))"
   ]
  },
  {
   "cell_type": "code",
   "execution_count": 23,
   "id": "abd4943d",
   "metadata": {},
   "outputs": [
    {
     "data": {
      "text/plain": [
       "'Наибольшая точность модели \"Случайный лес\" при уменьшении частоты класса 0: 80.5%'"
      ]
     },
     "metadata": {},
     "output_type": "display_data"
    },
    {
     "data": {
      "text/plain": [
       "'При количестве деревьев: 90'"
      ]
     },
     "metadata": {},
     "output_type": "display_data"
    },
    {
     "data": {
      "text/plain": [
       "'Глубине: 11'"
      ]
     },
     "metadata": {},
     "output_type": "display_data"
    },
    {
     "data": {
      "text/plain": [
       "'И F1: 62.92%'"
      ]
     },
     "metadata": {},
     "output_type": "display_data"
    },
    {
     "data": {
      "text/plain": [
       "'AUC-ROC метрика: 87.02%'"
      ]
     },
     "metadata": {},
     "output_type": "display_data"
    }
   ],
   "source": [
    "best_result = 0\n",
    "best_est = 0\n",
    "best_depth = 0\n",
    "best_f1 = 0\n",
    "best_auc_roc = 0\n",
    "for est in range(50, 201, 10):\n",
    "    for depth in range (1, 16):\n",
    "        model = RandomForestClassifier(random_state=0, n_estimators=est, max_depth=depth, class_weight='balanced')\n",
    "        model.fit(features_downsampled, target_downsampled)\n",
    "        result = model.score(new_features_valid, target_valid)\n",
    "        forest_predict_downsampled = model.predict(new_features_valid)\n",
    "        f1 = f1_score(target_valid, forest_predict_downsampled)\n",
    "        forest_probabilities_downsampled = model.predict_proba(new_features_valid)[:, 1]\n",
    "        roc = roc_auc_score(target_valid, forest_probabilities_downsampled)\n",
    "        if result > best_result:\n",
    "            best_result = result\n",
    "            best_est = est\n",
    "            best_depth = depth\n",
    "            best_f1 = f1\n",
    "            best_auc_roc = roc\n",
    "\n",
    "display('Наибольшая точность модели \"Случайный лес\" при уменьшении частоты класса 0: {:.1f}%'.format(best_result*100), \n",
    "        \"При количестве деревьев: {}\".format(best_est), \n",
    "        \"Глубине: {}\".format(best_depth),\n",
    "        \"И F1: {:.2f}%\".format(best_f1*100),\n",
    "        \"AUC-ROC метрика: {:.2f}%\".format(best_auc_roc*100))"
   ]
  },
  {
   "cell_type": "code",
   "execution_count": 24,
   "id": "7013b822",
   "metadata": {},
   "outputs": [
    {
     "data": {
      "text/plain": [
       "'Наибольшая точность модели \"Ближайшие соседи\" при уменьшении частоты класса 0: 64.7%'"
      ]
     },
     "metadata": {},
     "output_type": "display_data"
    },
    {
     "data": {
      "text/plain": [
       "'При кол-ве соседей: 2'"
      ]
     },
     "metadata": {},
     "output_type": "display_data"
    },
    {
     "data": {
      "text/plain": [
       "'И F1: 25.68%'"
      ]
     },
     "metadata": {},
     "output_type": "display_data"
    },
    {
     "data": {
      "text/plain": [
       "'AUC-ROC метрика: 51.93%'"
      ]
     },
     "metadata": {},
     "output_type": "display_data"
    }
   ],
   "source": [
    "best_result = 0\n",
    "best_neigbors = 0\n",
    "best_f1 = 0\n",
    "best_auc_roc = 0\n",
    "for neighbors in range(1, 11):\n",
    "    model = KNeighborsClassifier(n_neighbors=neighbors) \n",
    "    model.fit(features_downsampled, target_downsampled)\n",
    "    result = model.score(new_features_valid, target_valid)\n",
    "    neighboor_predict_downsampled = model.predict(new_features_valid)\n",
    "    f1 = f1_score(target_valid, neighboor_predict_downsampled)\n",
    "    neighboor_probabilities_downsampled = model.predict_proba(new_features_valid)[:, 1]\n",
    "    roc = roc_auc_score(target_valid, neighboor_probabilities_downsampled)\n",
    "    if result > best_result:\n",
    "        best_result = result\n",
    "        best_neigbors = neighbors\n",
    "        best_f1 = f1\n",
    "        best_auc_roc = roc\n",
    "\n",
    "display('Наибольшая точность модели \"Ближайшие соседи\" при уменьшении частоты класса 0: {:.1f}%'.format(best_result*100), \n",
    "        \"При кол-ве соседей: {}\".format(best_neigbors),\n",
    "        \"И F1: {:.2f}%\".format(best_f1*100),\n",
    "        \"AUC-ROC метрика: {:.2f}%\".format(best_auc_roc*100))"
   ]
  },
  {
   "cell_type": "markdown",
   "id": "b05e5123",
   "metadata": {},
   "source": [
    "Итого, при уменьшении частоты класса 0:\n",
    "\n",
    "1. Модель **\"Логистическая регрессия\"**:\n",
    "    - Точность = 64.8%\n",
    "    - Величина F1 = 44.83%\n",
    "    - AUC-ROC метрика: 70.45%\n",
    "    \n",
    "    \n",
    "2. Модель **\"Случайный лес\"**:\n",
    "    - Точность = 80.5%\n",
    "    - Величина F1 = 62.92%\n",
    "    - AUC-ROC метрика: 87.02%\n",
    "    \n",
    "    \n",
    "3. Модель **\"Ближайшие соседи\"**:\n",
    "    - Точность = 64.7%\n",
    "    - Величина F1 = 25.68%\n",
    "    - AUC-ROC метрика: 51.93%\n",
    "    \n",
    "Попробуем пойти в обратном направлении и увеличить частоту класса 1 в генеральной выборке:"
   ]
  },
  {
   "cell_type": "markdown",
   "id": "07eaaba2",
   "metadata": {},
   "source": [
    "### Увеличение частоты класса 1"
   ]
  },
  {
   "cell_type": "code",
   "execution_count": 25,
   "id": "e9df6d5f",
   "metadata": {
    "scrolled": true
   },
   "outputs": [
    {
     "data": {
      "text/plain": [
       "1    4836\n",
       "0    4791\n",
       "Name: Exited, dtype: int64"
      ]
     },
     "metadata": {},
     "output_type": "display_data"
    }
   ],
   "source": [
    "def upsample(features, target, repeat):\n",
    "    features_zeros = features[target == 0]\n",
    "    features_ones = features[target == 1]\n",
    "    target_zeros = target[target == 0]\n",
    "    target_ones = target[target == 1]\n",
    "    features_upsampled = pd.concat([features_zeros] + [features_ones] * repeat)\n",
    "    target_upsampled = pd.concat([target_zeros] + [target_ones] * repeat)\n",
    "    \n",
    "    features_upsampled, target_upsampled = shuffle(\n",
    "        features_upsampled, target_upsampled, random_state=0)\n",
    "    return features_upsampled, target_upsampled\n",
    "\n",
    "features_upsampled, target_upsampled = upsample(new_features_train, target_train, 4)\n",
    "\n",
    "# Выведем на экран объём положительных и отрицательных целевых признаков после работы функции:\n",
    "display(target_upsampled.value_counts())"
   ]
  },
  {
   "cell_type": "code",
   "execution_count": 26,
   "id": "65e660d1",
   "metadata": {
    "scrolled": true
   },
   "outputs": [
    {
     "data": {
      "text/plain": [
       "'Точность модели \"Логистическая регрессия\" при увеличении частоты класса 1: 65.4%'"
      ]
     },
     "metadata": {},
     "output_type": "display_data"
    },
    {
     "data": {
      "text/plain": [
       "'F1: 45.17%'"
      ]
     },
     "metadata": {},
     "output_type": "display_data"
    },
    {
     "data": {
      "text/plain": [
       "'AUC-ROC метрика: 66.93%'"
      ]
     },
     "metadata": {},
     "output_type": "display_data"
    }
   ],
   "source": [
    "model = LogisticRegression(random_state=0, solver = 'liblinear')\n",
    "model.fit(features_upsampled, target_upsampled)\n",
    "regression_predict_upsampled = model.predict(new_features_valid)\n",
    "regression_probabilities_upsampled = model.predict_proba(new_features_valid)[:, 1]\n",
    "f1 = f1_score(target_valid, regression_predict_upsampled)\n",
    "\n",
    "regression_auc_roc = roc_auc_score(target_valid, regression_predict_upsampled)\n",
    "\n",
    "display('Точность модели \"Логистическая регрессия\" при увеличении частоты класса 1: {:.1f}%'.format(model.score(new_features_valid, target_valid)*100), \n",
    "        \"F1: {:.2f}%\".format(f1*100),\n",
    "       \"AUC-ROC метрика: {:.2f}%\".format(regression_auc_roc*100))"
   ]
  },
  {
   "cell_type": "code",
   "execution_count": 27,
   "id": "597f5a9b",
   "metadata": {},
   "outputs": [
    {
     "data": {
      "text/plain": [
       "'Наибольшая точность модели \"Случайный лес\" при увеличении частоты класса 1: 85.3%'"
      ]
     },
     "metadata": {},
     "output_type": "display_data"
    },
    {
     "data": {
      "text/plain": [
       "'При количестве деревьев: 170'"
      ]
     },
     "metadata": {},
     "output_type": "display_data"
    },
    {
     "data": {
      "text/plain": [
       "'Глубине: 15'"
      ]
     },
     "metadata": {},
     "output_type": "display_data"
    },
    {
     "data": {
      "text/plain": [
       "'И F1: 63.07%'"
      ]
     },
     "metadata": {},
     "output_type": "display_data"
    },
    {
     "data": {
      "text/plain": [
       "'AUC-ROC метрика: 87.06%'"
      ]
     },
     "metadata": {},
     "output_type": "display_data"
    }
   ],
   "source": [
    "best_result = 0\n",
    "best_est = 0\n",
    "best_depth = 0\n",
    "best_f1 = 0\n",
    "best_auc_roc = 0\n",
    "for est in range(50, 201, 10):\n",
    "    for depth in range (1, 16):\n",
    "        model = RandomForestClassifier(random_state=0, n_estimators=est, max_depth=depth, class_weight='balanced')\n",
    "        model.fit(features_upsampled, target_upsampled)\n",
    "        result = model.score(new_features_valid, target_valid)\n",
    "        forest_predict_upsampled = model.predict(new_features_valid)\n",
    "        f1 = f1_score(target_valid, forest_predict_upsampled)\n",
    "        forest_probabilities_upsampled = model.predict_proba(new_features_valid)[:, 1]\n",
    "        roc = roc_auc_score(target_valid, forest_probabilities_upsampled)\n",
    "        if result > best_result:\n",
    "            best_result = result\n",
    "            best_est = est\n",
    "            best_depth = depth\n",
    "            best_f1 = f1\n",
    "            best_auc_roc = roc\n",
    "\n",
    "display('Наибольшая точность модели \"Случайный лес\" при увеличении частоты класса 1: {:.1f}%'.format(best_result*100), \n",
    "        \"При количестве деревьев: {}\".format(best_est), \n",
    "        \"Глубине: {}\".format(best_depth),\n",
    "        \"И F1: {:.2f}%\".format(best_f1*100),\n",
    "        \"AUC-ROC метрика: {:.2f}%\".format(best_auc_roc*100))"
   ]
  },
  {
   "cell_type": "code",
   "execution_count": 28,
   "id": "063432fb",
   "metadata": {},
   "outputs": [
    {
     "data": {
      "text/plain": [
       "'Наибольшая точность модели \"Ближайшие соседи\" при увеличении частоты класса 1: 68.0%'"
      ]
     },
     "metadata": {},
     "output_type": "display_data"
    },
    {
     "data": {
      "text/plain": [
       "'При кол-ве соседей: 1'"
      ]
     },
     "metadata": {},
     "output_type": "display_data"
    },
    {
     "data": {
      "text/plain": [
       "'И F1: 22.14%'"
      ]
     },
     "metadata": {},
     "output_type": "display_data"
    },
    {
     "data": {
      "text/plain": [
       "'AUC-ROC метрика: 51.00%'"
      ]
     },
     "metadata": {},
     "output_type": "display_data"
    }
   ],
   "source": [
    "best_result = 0\n",
    "best_neigbors = 0\n",
    "best_f1 = 0\n",
    "best_auc_roc = 0\n",
    "for neighbors in range(1, 11):\n",
    "    model = KNeighborsClassifier(n_neighbors=neighbors) \n",
    "    model.fit(features_upsampled, target_upsampled)\n",
    "    result = model.score(new_features_valid, target_valid)\n",
    "    neighboor_predict_upsampled = model.predict(new_features_valid)\n",
    "    f1 = f1_score(target_valid, neighboor_predict_upsampled)\n",
    "    neighboor_probabilities_upsampled = model.predict_proba(new_features_valid)[:, 1]\n",
    "    roc = roc_auc_score(target_valid, neighboor_predict_upsampled)\n",
    "    if result > best_result:\n",
    "        best_result = result\n",
    "        best_neigbors = neighbors\n",
    "        best_f1 = f1\n",
    "        best_auc_roc = roc\n",
    "\n",
    "display('Наибольшая точность модели \"Ближайшие соседи\" при увеличении частоты класса 1: {:.1f}%'.format(best_result*100), \n",
    "        \"При кол-ве соседей: {}\".format(best_neigbors),\n",
    "        \"И F1: {:.2f}%\".format(best_f1*100),\n",
    "        \"AUC-ROC метрика: {:.2f}%\".format(best_auc_roc*100))"
   ]
  },
  {
   "cell_type": "markdown",
   "id": "edf661da",
   "metadata": {},
   "source": [
    "Наиболее удачной моделью оказался \"Случайный лес\", обученный на выборке с увеличенной частотой класса 1. Проверим его на тестовой выборке."
   ]
  },
  {
   "cell_type": "markdown",
   "id": "90af0c90",
   "metadata": {},
   "source": [
    "## Тестирование модели"
   ]
  },
  {
   "cell_type": "code",
   "execution_count": 33,
   "id": "7297c599",
   "metadata": {},
   "outputs": [
    {
     "data": {
      "text/plain": [
       "'Точность модели \"Случайный лес\" на тестовой выборке: 83.9%'"
      ]
     },
     "metadata": {},
     "output_type": "display_data"
    },
    {
     "data": {
      "text/plain": [
       "'Величина F1: 59.95%'"
      ]
     },
     "metadata": {},
     "output_type": "display_data"
    }
   ],
   "source": [
    "model = RandomForestClassifier(n_estimators=170, max_depth=15, random_state=0)\n",
    "model.fit(features_upsampled, target_upsampled)\n",
    "forest_predict_test = model.predict(new_features_test)\n",
    "forest_probabilities_test = model.predict_proba(new_features_test)[:, 1]\n",
    "f1 = f1_score(target_test, forest_predict_test)\n",
    "\n",
    "display('Точность модели \"Случайный лес\" на тестовой выборке: {:.1f}%'.format(model.score(new_features_test, target_test)*100))\n",
    "display(\"Величина F1: {:.2f}%\".format(f1*100))"
   ]
  },
  {
   "cell_type": "markdown",
   "id": "dc8c9780",
   "metadata": {},
   "source": [
    "Оценим метрики AUC-ROC, чтобы понять насколько точно модель спрогнозировла показатели в сравнении с целевой тестовой выборкой."
   ]
  },
  {
   "cell_type": "code",
   "execution_count": 34,
   "id": "3e7dbdb6",
   "metadata": {
    "scrolled": true
   },
   "outputs": [
    {
     "data": {
      "text/plain": [
       "'AUC-ROC: 45.10%'"
      ]
     },
     "metadata": {},
     "output_type": "display_data"
    }
   ],
   "source": [
    "auc_roc_result = roc_auc_score(target_test, forest_probabilities_test)\n",
    "\n",
    "display(\"AUC-ROC: {:.2f}%\".format(auc_roc_result*100))"
   ]
  },
  {
   "cell_type": "markdown",
   "id": "05953682",
   "metadata": {},
   "source": [
    "Наша модель на 5% хуже предсказвыает показатели, чем случайная модель."
   ]
  },
  {
   "cell_type": "markdown",
   "id": "e0622e1e",
   "metadata": {},
   "source": [
    "## Выводы"
   ]
  },
  {
   "cell_type": "markdown",
   "id": "1f19a16d",
   "metadata": {},
   "source": [
    "С целью обнаружения наилучшей модели прогнозирования целевого показателя (уйдёт ли клиент из банка или нет) на этапе предобработки данных:\n",
    "\n",
    "- Отсортированы лишние столбцы;\n",
    "- Заполнены пропуски;\n",
    "- Категориальные показатели заменены на числовые;\n",
    "- Сформированы обучающая, валидационная и тестовая выборки в отношении 3:1:1.\n",
    "\n",
    "В ходе исследования задачи были выбраны наилучшие глобальные параметры для 3 моделей обучения:\n",
    "- Логистическая регрессия;\n",
    "- Случайный лес;\n",
    "- Ближайшие соседи.\n",
    "\n",
    "Модели были поочердно обучены как на несбалансированной выборке, так и на сбалансированной разными способами: через гиперпараметр, с помощью уменьшения частоты класса 0 и увеличения класса 1. Наилучшие показатели точности и величины F1 (средней гармонической полноты и точности) оказались у модели \"Случайный лес\", обученной на выборке с уменьшиной частотой результативного признака класса 0:\n",
    "\n",
    "- Точность: 83.95%;\n",
    "- Величина F1: 59.95%;\n",
    "- Метрика AUC-ROC: 45.10%."
   ]
  }
 ],
 "metadata": {
  "ExecuteTimeLog": [
   {
    "duration": 52,
    "start_time": "2023-03-10T14:56:00.265Z"
   },
   {
    "duration": 1167,
    "start_time": "2023-03-10T14:56:05.292Z"
   },
   {
    "duration": 105,
    "start_time": "2023-03-10T14:56:06.461Z"
   },
   {
    "duration": 22,
    "start_time": "2023-03-10T14:56:06.568Z"
   },
   {
    "duration": 26,
    "start_time": "2023-03-10T14:56:06.592Z"
   },
   {
    "duration": 9,
    "start_time": "2023-03-10T14:56:06.621Z"
   },
   {
    "duration": 35,
    "start_time": "2023-03-10T14:56:06.633Z"
   },
   {
    "duration": 6,
    "start_time": "2023-03-10T14:56:06.670Z"
   },
   {
    "duration": 15,
    "start_time": "2023-03-10T14:56:06.678Z"
   },
   {
    "duration": 20,
    "start_time": "2023-03-10T14:56:06.695Z"
   },
   {
    "duration": 32,
    "start_time": "2023-03-10T14:56:06.717Z"
   },
   {
    "duration": 15,
    "start_time": "2023-03-10T14:56:06.751Z"
   },
   {
    "duration": 12,
    "start_time": "2023-03-10T14:56:06.768Z"
   },
   {
    "duration": 15,
    "start_time": "2023-03-10T14:56:06.782Z"
   },
   {
    "duration": 10,
    "start_time": "2023-03-10T14:56:06.801Z"
   },
   {
    "duration": 65,
    "start_time": "2023-03-10T14:56:06.813Z"
   },
   {
    "duration": 8846,
    "start_time": "2023-03-10T14:56:06.932Z"
   },
   {
    "duration": 1330,
    "start_time": "2023-03-10T14:56:15.779Z"
   },
   {
    "duration": 60,
    "start_time": "2023-03-10T14:56:17.112Z"
   },
   {
    "duration": 445,
    "start_time": "2023-03-10T14:56:17.230Z"
   },
   {
    "duration": 15,
    "start_time": "2023-03-10T14:56:17.677Z"
   },
   {
    "duration": 55,
    "start_time": "2023-03-10T14:56:17.694Z"
   },
   {
    "duration": 372,
    "start_time": "2023-03-10T14:56:17.751Z"
   },
   {
    "duration": 139,
    "start_time": "2023-03-10T14:56:18.125Z"
   },
   {
    "duration": 15,
    "start_time": "2023-03-10T14:56:18.266Z"
   },
   {
    "duration": 152,
    "start_time": "2023-03-10T14:56:18.282Z"
   },
   {
    "duration": 501,
    "start_time": "2023-03-10T14:56:18.439Z"
   },
   {
    "duration": 186,
    "start_time": "2023-03-10T14:56:18.942Z"
   },
   {
    "duration": 412,
    "start_time": "2023-03-10T14:56:19.131Z"
   },
   {
    "duration": 27,
    "start_time": "2023-03-10T14:56:19.545Z"
   },
   {
    "duration": 34,
    "start_time": "2023-03-10T14:58:43.922Z"
   },
   {
    "duration": 5,
    "start_time": "2023-03-10T16:54:45.514Z"
   },
   {
    "duration": 1239,
    "start_time": "2023-03-10T16:54:55.692Z"
   },
   {
    "duration": 52,
    "start_time": "2023-03-10T16:54:56.933Z"
   },
   {
    "duration": 14,
    "start_time": "2023-03-10T16:54:56.987Z"
   },
   {
    "duration": 21,
    "start_time": "2023-03-10T16:54:57.004Z"
   },
   {
    "duration": 16,
    "start_time": "2023-03-10T16:54:57.027Z"
   },
   {
    "duration": 22,
    "start_time": "2023-03-10T16:54:57.044Z"
   },
   {
    "duration": 5,
    "start_time": "2023-03-10T16:54:57.067Z"
   },
   {
    "duration": 10,
    "start_time": "2023-03-10T16:54:57.074Z"
   },
   {
    "duration": 14,
    "start_time": "2023-03-10T16:54:57.086Z"
   },
   {
    "duration": 12,
    "start_time": "2023-03-10T16:54:57.102Z"
   },
   {
    "duration": 23,
    "start_time": "2023-03-10T16:54:57.115Z"
   },
   {
    "duration": 16,
    "start_time": "2023-03-10T16:54:57.140Z"
   },
   {
    "duration": 11,
    "start_time": "2023-03-10T16:54:57.158Z"
   },
   {
    "duration": 17,
    "start_time": "2023-03-10T16:54:57.171Z"
   },
   {
    "duration": 56,
    "start_time": "2023-03-10T16:54:57.190Z"
   },
   {
    "duration": 8876,
    "start_time": "2023-03-10T16:54:57.248Z"
   },
   {
    "duration": 1321,
    "start_time": "2023-03-10T16:55:06.126Z"
   },
   {
    "duration": 95,
    "start_time": "2023-03-10T16:55:07.449Z"
   },
   {
    "duration": 396,
    "start_time": "2023-03-10T16:55:07.548Z"
   },
   {
    "duration": 15,
    "start_time": "2023-03-10T16:55:07.946Z"
   },
   {
    "duration": 82,
    "start_time": "2023-03-10T16:55:07.963Z"
   },
   {
    "duration": 270,
    "start_time": "2023-03-10T16:55:08.048Z"
   },
   {
    "duration": 134,
    "start_time": "2023-03-10T16:55:08.320Z"
   },
   {
    "duration": 15,
    "start_time": "2023-03-10T16:55:08.456Z"
   },
   {
    "duration": 86,
    "start_time": "2023-03-10T16:55:08.473Z"
   },
   {
    "duration": 497,
    "start_time": "2023-03-10T16:55:08.637Z"
   },
   {
    "duration": 140,
    "start_time": "2023-03-10T16:55:09.136Z"
   },
   {
    "duration": 427,
    "start_time": "2023-03-10T16:55:09.280Z"
   },
   {
    "duration": 38,
    "start_time": "2023-03-10T16:55:09.709Z"
   },
   {
    "duration": 7,
    "start_time": "2023-03-10T16:58:05.621Z"
   },
   {
    "duration": 95,
    "start_time": "2023-03-10T17:01:34.014Z"
   },
   {
    "duration": 116,
    "start_time": "2023-03-10T17:01:40.423Z"
   },
   {
    "duration": 187,
    "start_time": "2023-03-10T17:01:46.168Z"
   },
   {
    "duration": 53,
    "start_time": "2023-03-10T17:01:53.407Z"
   },
   {
    "duration": 80,
    "start_time": "2023-03-10T17:02:01.855Z"
   },
   {
    "duration": 8807,
    "start_time": "2023-03-10T17:04:08.825Z"
   },
   {
    "duration": 166487,
    "start_time": "2023-03-10T17:04:38.511Z"
   },
   {
    "duration": 76,
    "start_time": "2023-03-10T17:09:40.755Z"
   },
   {
    "duration": 1216,
    "start_time": "2023-03-10T17:09:51.450Z"
   },
   {
    "duration": 72,
    "start_time": "2023-03-10T17:13:12.463Z"
   },
   {
    "duration": 5,
    "start_time": "2023-03-10T17:14:52.709Z"
   },
   {
    "duration": 123,
    "start_time": "2023-03-10T17:14:55.323Z"
   },
   {
    "duration": 357,
    "start_time": "2023-03-10T17:16:22.660Z"
   },
   {
    "duration": 146,
    "start_time": "2023-03-10T17:27:56.899Z"
   },
   {
    "duration": 4,
    "start_time": "2023-03-10T17:28:03.825Z"
   },
   {
    "duration": 10,
    "start_time": "2023-03-10T17:28:08.520Z"
   },
   {
    "duration": 25,
    "start_time": "2023-03-10T17:28:13.625Z"
   },
   {
    "duration": 1231,
    "start_time": "2023-03-10T17:28:33.070Z"
   },
   {
    "duration": 1200,
    "start_time": "2023-03-10T17:29:13.970Z"
   },
   {
    "duration": 10,
    "start_time": "2023-03-10T17:30:39.589Z"
   },
   {
    "duration": 13,
    "start_time": "2023-03-10T17:30:52.952Z"
   },
   {
    "duration": 12,
    "start_time": "2023-03-10T17:31:03.343Z"
   },
   {
    "duration": 9,
    "start_time": "2023-03-10T17:33:34.474Z"
   },
   {
    "duration": 23,
    "start_time": "2023-03-10T17:33:41.926Z"
   },
   {
    "duration": 13,
    "start_time": "2023-03-10T17:33:51.150Z"
   },
   {
    "duration": 19,
    "start_time": "2023-03-10T17:33:54.131Z"
   },
   {
    "duration": 1183,
    "start_time": "2023-03-10T17:34:12.307Z"
   },
   {
    "duration": 1135,
    "start_time": "2023-03-10T17:34:38.191Z"
   },
   {
    "duration": 47,
    "start_time": "2023-03-10T17:34:39.328Z"
   },
   {
    "duration": 13,
    "start_time": "2023-03-10T17:34:39.377Z"
   },
   {
    "duration": 22,
    "start_time": "2023-03-10T17:34:39.392Z"
   },
   {
    "duration": 7,
    "start_time": "2023-03-10T17:34:39.415Z"
   },
   {
    "duration": 18,
    "start_time": "2023-03-10T17:34:39.424Z"
   },
   {
    "duration": 4,
    "start_time": "2023-03-10T17:34:39.450Z"
   },
   {
    "duration": 8,
    "start_time": "2023-03-10T17:34:39.456Z"
   },
   {
    "duration": 2,
    "start_time": "2023-03-10T17:34:39.465Z"
   },
   {
    "duration": 125,
    "start_time": "2023-03-10T17:34:39.470Z"
   },
   {
    "duration": 0,
    "start_time": "2023-03-10T17:34:39.597Z"
   },
   {
    "duration": 0,
    "start_time": "2023-03-10T17:34:39.599Z"
   },
   {
    "duration": 0,
    "start_time": "2023-03-10T17:34:39.600Z"
   },
   {
    "duration": 0,
    "start_time": "2023-03-10T17:34:39.601Z"
   },
   {
    "duration": 0,
    "start_time": "2023-03-10T17:34:39.602Z"
   },
   {
    "duration": 0,
    "start_time": "2023-03-10T17:34:39.603Z"
   },
   {
    "duration": 0,
    "start_time": "2023-03-10T17:34:39.604Z"
   },
   {
    "duration": 0,
    "start_time": "2023-03-10T17:34:39.605Z"
   },
   {
    "duration": 0,
    "start_time": "2023-03-10T17:34:39.606Z"
   },
   {
    "duration": 0,
    "start_time": "2023-03-10T17:34:39.607Z"
   },
   {
    "duration": 0,
    "start_time": "2023-03-10T17:34:39.608Z"
   },
   {
    "duration": 0,
    "start_time": "2023-03-10T17:34:39.609Z"
   },
   {
    "duration": 0,
    "start_time": "2023-03-10T17:34:39.636Z"
   },
   {
    "duration": 0,
    "start_time": "2023-03-10T17:34:39.637Z"
   },
   {
    "duration": 0,
    "start_time": "2023-03-10T17:34:39.638Z"
   },
   {
    "duration": 0,
    "start_time": "2023-03-10T17:34:39.638Z"
   },
   {
    "duration": 0,
    "start_time": "2023-03-10T17:34:39.642Z"
   },
   {
    "duration": 0,
    "start_time": "2023-03-10T17:34:39.643Z"
   },
   {
    "duration": 0,
    "start_time": "2023-03-10T17:34:39.644Z"
   },
   {
    "duration": 0,
    "start_time": "2023-03-10T17:34:39.645Z"
   },
   {
    "duration": 26,
    "start_time": "2023-03-10T17:35:22.053Z"
   },
   {
    "duration": 8,
    "start_time": "2023-03-10T17:36:20.069Z"
   },
   {
    "duration": 19,
    "start_time": "2023-03-10T17:36:24.157Z"
   },
   {
    "duration": 15,
    "start_time": "2023-03-10T17:36:32.449Z"
   },
   {
    "duration": 13,
    "start_time": "2023-03-10T17:41:49.080Z"
   },
   {
    "duration": 13,
    "start_time": "2023-03-10T17:46:10.944Z"
   },
   {
    "duration": 29,
    "start_time": "2023-03-10T17:46:16.218Z"
   },
   {
    "duration": 8,
    "start_time": "2023-03-10T17:46:52.909Z"
   },
   {
    "duration": 10,
    "start_time": "2023-03-10T17:48:38.176Z"
   },
   {
    "duration": 264,
    "start_time": "2023-03-10T17:48:43.517Z"
   },
   {
    "duration": 6,
    "start_time": "2023-03-10T17:48:47.562Z"
   },
   {
    "duration": 16,
    "start_time": "2023-03-10T17:48:58.671Z"
   },
   {
    "duration": 8,
    "start_time": "2023-03-10T17:49:22.281Z"
   },
   {
    "duration": 5,
    "start_time": "2023-03-10T17:49:23.601Z"
   },
   {
    "duration": 4,
    "start_time": "2023-03-10T17:52:46.317Z"
   },
   {
    "duration": 10,
    "start_time": "2023-03-10T17:52:55.619Z"
   },
   {
    "duration": 5,
    "start_time": "2023-03-10T17:52:58.098Z"
   },
   {
    "duration": 6,
    "start_time": "2023-03-10T18:01:06.031Z"
   },
   {
    "duration": 10,
    "start_time": "2023-03-10T18:03:54.796Z"
   },
   {
    "duration": 10,
    "start_time": "2023-03-10T18:04:38.010Z"
   },
   {
    "duration": 6,
    "start_time": "2023-03-10T18:04:40.845Z"
   },
   {
    "duration": 8,
    "start_time": "2023-03-10T18:04:42.161Z"
   },
   {
    "duration": 16,
    "start_time": "2023-03-10T18:04:44.159Z"
   },
   {
    "duration": 15,
    "start_time": "2023-03-10T18:07:05.467Z"
   },
   {
    "duration": 10,
    "start_time": "2023-03-10T18:14:10.475Z"
   },
   {
    "duration": 20,
    "start_time": "2023-03-10T18:14:24.750Z"
   },
   {
    "duration": 3,
    "start_time": "2023-03-10T18:15:06.500Z"
   },
   {
    "duration": 10,
    "start_time": "2023-03-10T18:15:32.347Z"
   },
   {
    "duration": 272,
    "start_time": "2023-03-10T18:15:37.525Z"
   },
   {
    "duration": 5,
    "start_time": "2023-03-10T18:15:40.050Z"
   },
   {
    "duration": 15,
    "start_time": "2023-03-10T18:18:34.287Z"
   },
   {
    "duration": 3,
    "start_time": "2023-03-10T18:18:52.025Z"
   },
   {
    "duration": 21,
    "start_time": "2023-03-10T18:18:52.325Z"
   },
   {
    "duration": 14,
    "start_time": "2023-03-10T18:19:15.447Z"
   },
   {
    "duration": 12,
    "start_time": "2023-03-10T18:20:27.860Z"
   },
   {
    "duration": 24,
    "start_time": "2023-03-10T18:21:35.270Z"
   },
   {
    "duration": 33,
    "start_time": "2023-03-10T18:27:03.343Z"
   },
   {
    "duration": 1158,
    "start_time": "2023-03-10T18:27:45.423Z"
   },
   {
    "duration": 57,
    "start_time": "2023-03-10T18:27:46.583Z"
   },
   {
    "duration": 21,
    "start_time": "2023-03-10T18:27:46.643Z"
   },
   {
    "duration": 30,
    "start_time": "2023-03-10T18:27:46.666Z"
   },
   {
    "duration": 9,
    "start_time": "2023-03-10T18:27:46.699Z"
   },
   {
    "duration": 39,
    "start_time": "2023-03-10T18:27:46.711Z"
   },
   {
    "duration": 13,
    "start_time": "2023-03-10T18:27:46.752Z"
   },
   {
    "duration": 14,
    "start_time": "2023-03-10T18:27:46.767Z"
   },
   {
    "duration": 16,
    "start_time": "2023-03-10T18:27:46.783Z"
   },
   {
    "duration": 16,
    "start_time": "2023-03-10T18:27:46.801Z"
   },
   {
    "duration": 21,
    "start_time": "2023-03-10T18:27:46.819Z"
   },
   {
    "duration": 25,
    "start_time": "2023-03-10T18:27:46.842Z"
   },
   {
    "duration": 19,
    "start_time": "2023-03-10T18:27:46.870Z"
   },
   {
    "duration": 168,
    "start_time": "2023-03-10T18:27:46.893Z"
   },
   {
    "duration": 0,
    "start_time": "2023-03-10T18:27:47.063Z"
   },
   {
    "duration": 0,
    "start_time": "2023-03-10T18:27:47.065Z"
   },
   {
    "duration": 0,
    "start_time": "2023-03-10T18:27:47.066Z"
   },
   {
    "duration": 0,
    "start_time": "2023-03-10T18:27:47.067Z"
   },
   {
    "duration": 0,
    "start_time": "2023-03-10T18:27:47.069Z"
   },
   {
    "duration": 0,
    "start_time": "2023-03-10T18:27:47.070Z"
   },
   {
    "duration": 0,
    "start_time": "2023-03-10T18:27:47.071Z"
   },
   {
    "duration": 0,
    "start_time": "2023-03-10T18:27:47.072Z"
   },
   {
    "duration": 0,
    "start_time": "2023-03-10T18:27:47.073Z"
   },
   {
    "duration": 0,
    "start_time": "2023-03-10T18:27:47.074Z"
   },
   {
    "duration": 0,
    "start_time": "2023-03-10T18:27:47.075Z"
   },
   {
    "duration": 0,
    "start_time": "2023-03-10T18:27:47.076Z"
   },
   {
    "duration": 0,
    "start_time": "2023-03-10T18:27:47.077Z"
   },
   {
    "duration": 0,
    "start_time": "2023-03-10T18:27:47.078Z"
   },
   {
    "duration": 0,
    "start_time": "2023-03-10T18:27:47.079Z"
   },
   {
    "duration": 1192,
    "start_time": "2023-03-10T18:36:11.110Z"
   },
   {
    "duration": 50,
    "start_time": "2023-03-10T18:36:12.304Z"
   },
   {
    "duration": 14,
    "start_time": "2023-03-10T18:36:12.356Z"
   },
   {
    "duration": 22,
    "start_time": "2023-03-10T18:36:12.373Z"
   },
   {
    "duration": 10,
    "start_time": "2023-03-10T18:36:12.397Z"
   },
   {
    "duration": 48,
    "start_time": "2023-03-10T18:36:12.409Z"
   },
   {
    "duration": 5,
    "start_time": "2023-03-10T18:36:12.459Z"
   },
   {
    "duration": 9,
    "start_time": "2023-03-10T18:36:12.466Z"
   },
   {
    "duration": 11,
    "start_time": "2023-03-10T18:36:12.477Z"
   },
   {
    "duration": 6,
    "start_time": "2023-03-10T18:36:12.491Z"
   },
   {
    "duration": 10,
    "start_time": "2023-03-10T18:36:12.499Z"
   },
   {
    "duration": 32,
    "start_time": "2023-03-10T18:36:12.511Z"
   },
   {
    "duration": 6,
    "start_time": "2023-03-10T18:36:12.546Z"
   },
   {
    "duration": 125,
    "start_time": "2023-03-10T18:36:12.554Z"
   },
   {
    "duration": 0,
    "start_time": "2023-03-10T18:36:12.681Z"
   },
   {
    "duration": 0,
    "start_time": "2023-03-10T18:36:12.682Z"
   },
   {
    "duration": 0,
    "start_time": "2023-03-10T18:36:12.683Z"
   },
   {
    "duration": 0,
    "start_time": "2023-03-10T18:36:12.684Z"
   },
   {
    "duration": 0,
    "start_time": "2023-03-10T18:36:12.686Z"
   },
   {
    "duration": 0,
    "start_time": "2023-03-10T18:36:12.687Z"
   },
   {
    "duration": 0,
    "start_time": "2023-03-10T18:36:12.688Z"
   },
   {
    "duration": 0,
    "start_time": "2023-03-10T18:36:12.689Z"
   },
   {
    "duration": 0,
    "start_time": "2023-03-10T18:36:12.690Z"
   },
   {
    "duration": 0,
    "start_time": "2023-03-10T18:36:12.691Z"
   },
   {
    "duration": 0,
    "start_time": "2023-03-10T18:36:12.693Z"
   },
   {
    "duration": 0,
    "start_time": "2023-03-10T18:36:12.694Z"
   },
   {
    "duration": 0,
    "start_time": "2023-03-10T18:36:12.695Z"
   },
   {
    "duration": 0,
    "start_time": "2023-03-10T18:36:12.696Z"
   },
   {
    "duration": 23,
    "start_time": "2023-03-10T18:37:06.855Z"
   },
   {
    "duration": 1207,
    "start_time": "2023-03-10T18:38:31.283Z"
   },
   {
    "duration": 54,
    "start_time": "2023-03-10T18:38:32.492Z"
   },
   {
    "duration": 13,
    "start_time": "2023-03-10T18:38:32.548Z"
   },
   {
    "duration": 27,
    "start_time": "2023-03-10T18:38:32.563Z"
   },
   {
    "duration": 6,
    "start_time": "2023-03-10T18:38:32.593Z"
   },
   {
    "duration": 23,
    "start_time": "2023-03-10T18:38:32.601Z"
   },
   {
    "duration": 14,
    "start_time": "2023-03-10T18:38:32.626Z"
   },
   {
    "duration": 21,
    "start_time": "2023-03-10T18:38:32.642Z"
   },
   {
    "duration": 151,
    "start_time": "2023-03-10T18:38:32.665Z"
   },
   {
    "duration": 0,
    "start_time": "2023-03-10T18:38:32.819Z"
   },
   {
    "duration": 0,
    "start_time": "2023-03-10T18:38:32.821Z"
   },
   {
    "duration": 0,
    "start_time": "2023-03-10T18:38:32.822Z"
   },
   {
    "duration": 0,
    "start_time": "2023-03-10T18:38:32.824Z"
   },
   {
    "duration": 0,
    "start_time": "2023-03-10T18:38:32.826Z"
   },
   {
    "duration": 0,
    "start_time": "2023-03-10T18:38:32.830Z"
   },
   {
    "duration": 0,
    "start_time": "2023-03-10T18:38:32.832Z"
   },
   {
    "duration": 0,
    "start_time": "2023-03-10T18:38:32.833Z"
   },
   {
    "duration": 0,
    "start_time": "2023-03-10T18:38:32.834Z"
   },
   {
    "duration": 0,
    "start_time": "2023-03-10T18:38:32.835Z"
   },
   {
    "duration": 0,
    "start_time": "2023-03-10T18:38:32.837Z"
   },
   {
    "duration": 0,
    "start_time": "2023-03-10T18:38:32.838Z"
   },
   {
    "duration": 0,
    "start_time": "2023-03-10T18:38:32.839Z"
   },
   {
    "duration": 0,
    "start_time": "2023-03-10T18:38:32.840Z"
   },
   {
    "duration": 0,
    "start_time": "2023-03-10T18:38:32.841Z"
   },
   {
    "duration": 0,
    "start_time": "2023-03-10T18:38:32.844Z"
   },
   {
    "duration": 0,
    "start_time": "2023-03-10T18:38:32.846Z"
   },
   {
    "duration": 0,
    "start_time": "2023-03-10T18:38:32.847Z"
   },
   {
    "duration": 0,
    "start_time": "2023-03-10T18:38:32.849Z"
   },
   {
    "duration": 0,
    "start_time": "2023-03-10T18:38:32.850Z"
   },
   {
    "duration": 1413,
    "start_time": "2023-03-10T18:39:59.813Z"
   },
   {
    "duration": 71,
    "start_time": "2023-03-10T18:40:01.231Z"
   },
   {
    "duration": 33,
    "start_time": "2023-03-10T18:40:01.305Z"
   },
   {
    "duration": 109,
    "start_time": "2023-03-10T18:40:01.341Z"
   },
   {
    "duration": 63,
    "start_time": "2023-03-10T18:40:01.452Z"
   },
   {
    "duration": 89,
    "start_time": "2023-03-10T18:40:01.517Z"
   },
   {
    "duration": 18,
    "start_time": "2023-03-10T18:40:01.609Z"
   },
   {
    "duration": 151,
    "start_time": "2023-03-10T18:40:01.630Z"
   },
   {
    "duration": 282,
    "start_time": "2023-03-10T18:40:01.783Z"
   },
   {
    "duration": 0,
    "start_time": "2023-03-10T18:40:02.068Z"
   },
   {
    "duration": 0,
    "start_time": "2023-03-10T18:40:02.069Z"
   },
   {
    "duration": 0,
    "start_time": "2023-03-10T18:40:02.070Z"
   },
   {
    "duration": 0,
    "start_time": "2023-03-10T18:40:02.072Z"
   },
   {
    "duration": 0,
    "start_time": "2023-03-10T18:40:02.075Z"
   },
   {
    "duration": 0,
    "start_time": "2023-03-10T18:40:02.076Z"
   },
   {
    "duration": 0,
    "start_time": "2023-03-10T18:40:02.078Z"
   },
   {
    "duration": 0,
    "start_time": "2023-03-10T18:40:02.079Z"
   },
   {
    "duration": 0,
    "start_time": "2023-03-10T18:40:02.080Z"
   },
   {
    "duration": 0,
    "start_time": "2023-03-10T18:40:02.081Z"
   },
   {
    "duration": 0,
    "start_time": "2023-03-10T18:40:02.083Z"
   },
   {
    "duration": 0,
    "start_time": "2023-03-10T18:40:02.084Z"
   },
   {
    "duration": 0,
    "start_time": "2023-03-10T18:40:02.085Z"
   },
   {
    "duration": 0,
    "start_time": "2023-03-10T18:40:02.087Z"
   },
   {
    "duration": 0,
    "start_time": "2023-03-10T18:40:02.089Z"
   },
   {
    "duration": 0,
    "start_time": "2023-03-10T18:40:02.090Z"
   },
   {
    "duration": 0,
    "start_time": "2023-03-10T18:40:02.091Z"
   },
   {
    "duration": 0,
    "start_time": "2023-03-10T18:40:02.093Z"
   },
   {
    "duration": 0,
    "start_time": "2023-03-10T18:40:02.094Z"
   },
   {
    "duration": 0,
    "start_time": "2023-03-10T18:40:02.095Z"
   },
   {
    "duration": 39,
    "start_time": "2023-03-10T18:40:43.242Z"
   },
   {
    "duration": 17,
    "start_time": "2023-03-10T18:42:36.520Z"
   },
   {
    "duration": 15,
    "start_time": "2023-03-10T18:43:19.009Z"
   },
   {
    "duration": 18,
    "start_time": "2023-03-10T18:43:37.749Z"
   },
   {
    "duration": 76,
    "start_time": "2023-03-10T18:43:47.372Z"
   },
   {
    "duration": 4,
    "start_time": "2023-03-10T18:46:55.547Z"
   },
   {
    "duration": 10,
    "start_time": "2023-03-10T18:46:58.817Z"
   },
   {
    "duration": 8,
    "start_time": "2023-03-10T18:47:01.244Z"
   },
   {
    "duration": 38,
    "start_time": "2023-03-10T18:47:17.856Z"
   },
   {
    "duration": 15,
    "start_time": "2023-03-10T18:49:43.980Z"
   },
   {
    "duration": 30,
    "start_time": "2023-03-10T18:49:51.569Z"
   },
   {
    "duration": 39,
    "start_time": "2023-03-10T18:50:25.693Z"
   },
   {
    "duration": 1153,
    "start_time": "2023-03-10T18:52:08.608Z"
   },
   {
    "duration": 41,
    "start_time": "2023-03-10T18:52:09.763Z"
   },
   {
    "duration": 14,
    "start_time": "2023-03-10T18:52:09.806Z"
   },
   {
    "duration": 24,
    "start_time": "2023-03-10T18:52:09.821Z"
   },
   {
    "duration": 10,
    "start_time": "2023-03-10T18:52:09.847Z"
   },
   {
    "duration": 13,
    "start_time": "2023-03-10T18:52:09.859Z"
   },
   {
    "duration": 4,
    "start_time": "2023-03-10T18:52:09.874Z"
   },
   {
    "duration": 8,
    "start_time": "2023-03-10T18:52:09.879Z"
   },
   {
    "duration": 8,
    "start_time": "2023-03-10T18:52:09.889Z"
   },
   {
    "duration": 13,
    "start_time": "2023-03-10T18:52:09.899Z"
   },
   {
    "duration": 22,
    "start_time": "2023-03-10T18:52:09.914Z"
   },
   {
    "duration": 31,
    "start_time": "2023-03-10T18:52:09.942Z"
   },
   {
    "duration": 12,
    "start_time": "2023-03-10T18:52:09.975Z"
   },
   {
    "duration": 7,
    "start_time": "2023-03-10T18:52:09.990Z"
   },
   {
    "duration": 158,
    "start_time": "2023-03-10T18:52:09.998Z"
   },
   {
    "duration": 0,
    "start_time": "2023-03-10T18:52:10.158Z"
   },
   {
    "duration": 0,
    "start_time": "2023-03-10T18:52:10.160Z"
   },
   {
    "duration": 0,
    "start_time": "2023-03-10T18:52:10.161Z"
   },
   {
    "duration": 0,
    "start_time": "2023-03-10T18:52:10.162Z"
   },
   {
    "duration": 0,
    "start_time": "2023-03-10T18:52:10.163Z"
   },
   {
    "duration": 0,
    "start_time": "2023-03-10T18:52:10.164Z"
   },
   {
    "duration": 0,
    "start_time": "2023-03-10T18:52:10.165Z"
   },
   {
    "duration": 0,
    "start_time": "2023-03-10T18:52:10.166Z"
   },
   {
    "duration": 0,
    "start_time": "2023-03-10T18:52:10.168Z"
   },
   {
    "duration": 0,
    "start_time": "2023-03-10T18:52:10.168Z"
   },
   {
    "duration": 0,
    "start_time": "2023-03-10T18:52:10.170Z"
   },
   {
    "duration": 0,
    "start_time": "2023-03-10T18:52:10.171Z"
   },
   {
    "duration": 0,
    "start_time": "2023-03-10T18:52:10.172Z"
   },
   {
    "duration": 0,
    "start_time": "2023-03-10T18:52:10.173Z"
   },
   {
    "duration": 5,
    "start_time": "2023-03-10T18:55:04.286Z"
   },
   {
    "duration": 20,
    "start_time": "2023-03-10T18:55:06.573Z"
   },
   {
    "duration": 35,
    "start_time": "2023-03-10T18:55:27.151Z"
   },
   {
    "duration": 54,
    "start_time": "2023-03-10T18:55:31.461Z"
   },
   {
    "duration": 1163,
    "start_time": "2023-03-10T18:55:50.616Z"
   },
   {
    "duration": 61,
    "start_time": "2023-03-10T18:55:51.780Z"
   },
   {
    "duration": 18,
    "start_time": "2023-03-10T18:55:51.845Z"
   },
   {
    "duration": 26,
    "start_time": "2023-03-10T18:55:51.864Z"
   },
   {
    "duration": 10,
    "start_time": "2023-03-10T18:55:51.892Z"
   },
   {
    "duration": 16,
    "start_time": "2023-03-10T18:55:51.904Z"
   },
   {
    "duration": 4,
    "start_time": "2023-03-10T18:55:51.922Z"
   },
   {
    "duration": 21,
    "start_time": "2023-03-10T18:55:51.933Z"
   },
   {
    "duration": 7,
    "start_time": "2023-03-10T18:55:51.956Z"
   },
   {
    "duration": 17,
    "start_time": "2023-03-10T18:55:51.964Z"
   },
   {
    "duration": 7,
    "start_time": "2023-03-10T18:55:51.983Z"
   },
   {
    "duration": 33,
    "start_time": "2023-03-10T18:55:51.991Z"
   },
   {
    "duration": 8,
    "start_time": "2023-03-10T18:55:52.026Z"
   },
   {
    "duration": 206,
    "start_time": "2023-03-10T18:55:52.040Z"
   },
   {
    "duration": 0,
    "start_time": "2023-03-10T18:55:52.248Z"
   },
   {
    "duration": 0,
    "start_time": "2023-03-10T18:55:52.249Z"
   },
   {
    "duration": 0,
    "start_time": "2023-03-10T18:55:52.250Z"
   },
   {
    "duration": 0,
    "start_time": "2023-03-10T18:55:52.252Z"
   },
   {
    "duration": 0,
    "start_time": "2023-03-10T18:55:52.253Z"
   },
   {
    "duration": 0,
    "start_time": "2023-03-10T18:55:52.255Z"
   },
   {
    "duration": 0,
    "start_time": "2023-03-10T18:55:52.257Z"
   },
   {
    "duration": 0,
    "start_time": "2023-03-10T18:55:52.258Z"
   },
   {
    "duration": 0,
    "start_time": "2023-03-10T18:55:52.260Z"
   },
   {
    "duration": 0,
    "start_time": "2023-03-10T18:55:52.261Z"
   },
   {
    "duration": 0,
    "start_time": "2023-03-10T18:55:52.262Z"
   },
   {
    "duration": 0,
    "start_time": "2023-03-10T18:55:52.264Z"
   },
   {
    "duration": 0,
    "start_time": "2023-03-10T18:55:52.266Z"
   },
   {
    "duration": 0,
    "start_time": "2023-03-10T18:55:52.267Z"
   },
   {
    "duration": 20,
    "start_time": "2023-03-10T19:00:44.139Z"
   },
   {
    "duration": 20,
    "start_time": "2023-03-10T19:00:50.402Z"
   },
   {
    "duration": 23,
    "start_time": "2023-03-10T19:01:46.249Z"
   },
   {
    "duration": 1299,
    "start_time": "2023-03-10T19:01:54.826Z"
   },
   {
    "duration": 63,
    "start_time": "2023-03-10T19:01:56.127Z"
   },
   {
    "duration": 13,
    "start_time": "2023-03-10T19:01:56.192Z"
   },
   {
    "duration": 25,
    "start_time": "2023-03-10T19:01:56.206Z"
   },
   {
    "duration": 32,
    "start_time": "2023-03-10T19:01:56.234Z"
   },
   {
    "duration": 14,
    "start_time": "2023-03-10T19:01:56.268Z"
   },
   {
    "duration": 4,
    "start_time": "2023-03-10T19:01:56.283Z"
   },
   {
    "duration": 12,
    "start_time": "2023-03-10T19:01:56.289Z"
   },
   {
    "duration": 5,
    "start_time": "2023-03-10T19:01:56.303Z"
   },
   {
    "duration": 15,
    "start_time": "2023-03-10T19:01:56.310Z"
   },
   {
    "duration": 17,
    "start_time": "2023-03-10T19:01:56.327Z"
   },
   {
    "duration": 47,
    "start_time": "2023-03-10T19:01:56.348Z"
   },
   {
    "duration": 135,
    "start_time": "2023-03-10T19:01:56.397Z"
   },
   {
    "duration": 0,
    "start_time": "2023-03-10T19:01:56.538Z"
   },
   {
    "duration": 0,
    "start_time": "2023-03-10T19:01:56.540Z"
   },
   {
    "duration": 0,
    "start_time": "2023-03-10T19:01:56.542Z"
   },
   {
    "duration": 0,
    "start_time": "2023-03-10T19:01:56.543Z"
   },
   {
    "duration": 0,
    "start_time": "2023-03-10T19:01:56.544Z"
   },
   {
    "duration": 0,
    "start_time": "2023-03-10T19:01:56.549Z"
   },
   {
    "duration": 0,
    "start_time": "2023-03-10T19:01:56.551Z"
   },
   {
    "duration": 0,
    "start_time": "2023-03-10T19:01:56.552Z"
   },
   {
    "duration": 0,
    "start_time": "2023-03-10T19:01:56.556Z"
   },
   {
    "duration": 0,
    "start_time": "2023-03-10T19:01:56.557Z"
   },
   {
    "duration": 0,
    "start_time": "2023-03-10T19:01:56.558Z"
   },
   {
    "duration": 0,
    "start_time": "2023-03-10T19:01:56.559Z"
   },
   {
    "duration": 0,
    "start_time": "2023-03-10T19:01:56.560Z"
   },
   {
    "duration": 0,
    "start_time": "2023-03-10T19:01:56.563Z"
   },
   {
    "duration": 0,
    "start_time": "2023-03-10T19:01:56.570Z"
   },
   {
    "duration": 0,
    "start_time": "2023-03-10T19:01:56.572Z"
   },
   {
    "duration": 16,
    "start_time": "2023-03-10T19:02:44.897Z"
   },
   {
    "duration": 1226,
    "start_time": "2023-03-10T19:02:56.124Z"
   },
   {
    "duration": 41,
    "start_time": "2023-03-10T19:02:57.352Z"
   },
   {
    "duration": 13,
    "start_time": "2023-03-10T19:02:57.394Z"
   },
   {
    "duration": 20,
    "start_time": "2023-03-10T19:02:57.409Z"
   },
   {
    "duration": 9,
    "start_time": "2023-03-10T19:02:57.438Z"
   },
   {
    "duration": 12,
    "start_time": "2023-03-10T19:02:57.448Z"
   },
   {
    "duration": 4,
    "start_time": "2023-03-10T19:02:57.462Z"
   },
   {
    "duration": 7,
    "start_time": "2023-03-10T19:02:57.467Z"
   },
   {
    "duration": 7,
    "start_time": "2023-03-10T19:02:57.476Z"
   },
   {
    "duration": 11,
    "start_time": "2023-03-10T19:02:57.485Z"
   },
   {
    "duration": 6,
    "start_time": "2023-03-10T19:02:57.498Z"
   },
   {
    "duration": 56,
    "start_time": "2023-03-10T19:02:57.506Z"
   },
   {
    "duration": 5,
    "start_time": "2023-03-10T19:02:57.563Z"
   },
   {
    "duration": 139,
    "start_time": "2023-03-10T19:02:57.571Z"
   },
   {
    "duration": 0,
    "start_time": "2023-03-10T19:02:57.712Z"
   },
   {
    "duration": 0,
    "start_time": "2023-03-10T19:02:57.713Z"
   },
   {
    "duration": 0,
    "start_time": "2023-03-10T19:02:57.714Z"
   },
   {
    "duration": 0,
    "start_time": "2023-03-10T19:02:57.715Z"
   },
   {
    "duration": 0,
    "start_time": "2023-03-10T19:02:57.717Z"
   },
   {
    "duration": 0,
    "start_time": "2023-03-10T19:02:57.718Z"
   },
   {
    "duration": 0,
    "start_time": "2023-03-10T19:02:57.719Z"
   },
   {
    "duration": 0,
    "start_time": "2023-03-10T19:02:57.730Z"
   },
   {
    "duration": 0,
    "start_time": "2023-03-10T19:02:57.731Z"
   },
   {
    "duration": 0,
    "start_time": "2023-03-10T19:02:57.731Z"
   },
   {
    "duration": 0,
    "start_time": "2023-03-10T19:02:57.740Z"
   },
   {
    "duration": 0,
    "start_time": "2023-03-10T19:02:57.740Z"
   },
   {
    "duration": 0,
    "start_time": "2023-03-10T19:02:57.741Z"
   },
   {
    "duration": 0,
    "start_time": "2023-03-10T19:02:57.741Z"
   },
   {
    "duration": 21,
    "start_time": "2023-03-10T19:04:17.028Z"
   },
   {
    "duration": 6,
    "start_time": "2023-03-10T19:05:10.097Z"
   },
   {
    "duration": 58,
    "start_time": "2023-03-10T19:05:33.019Z"
   },
   {
    "duration": 25,
    "start_time": "2023-03-10T19:06:36.443Z"
   },
   {
    "duration": 68,
    "start_time": "2023-03-10T19:06:54.187Z"
   },
   {
    "duration": 59,
    "start_time": "2023-03-10T19:07:09.983Z"
   },
   {
    "duration": 59,
    "start_time": "2023-03-10T19:09:15.215Z"
   },
   {
    "duration": 20,
    "start_time": "2023-03-10T19:09:29.090Z"
   },
   {
    "duration": 168444,
    "start_time": "2023-03-10T19:10:14.176Z"
   },
   {
    "duration": 1380,
    "start_time": "2023-03-10T19:13:02.623Z"
   },
   {
    "duration": 44,
    "start_time": "2023-03-10T19:13:04.005Z"
   },
   {
    "duration": 93,
    "start_time": "2023-03-10T19:13:12.958Z"
   },
   {
    "duration": 169279,
    "start_time": "2023-03-10T19:13:16.205Z"
   },
   {
    "duration": 19,
    "start_time": "2023-03-10T19:16:05.485Z"
   },
   {
    "duration": 19,
    "start_time": "2023-03-10T19:18:05.190Z"
   },
   {
    "duration": 18,
    "start_time": "2023-03-10T19:18:14.123Z"
   },
   {
    "duration": 26,
    "start_time": "2023-03-10T19:21:50.220Z"
   },
   {
    "duration": 19,
    "start_time": "2023-03-10T19:22:18.793Z"
   },
   {
    "duration": 32,
    "start_time": "2023-03-10T19:22:38.490Z"
   },
   {
    "duration": 22,
    "start_time": "2023-03-10T19:22:42.658Z"
   },
   {
    "duration": 17,
    "start_time": "2023-03-10T19:24:39.201Z"
   },
   {
    "duration": 21,
    "start_time": "2023-03-10T19:25:06.880Z"
   },
   {
    "duration": 19,
    "start_time": "2023-03-10T19:25:15.082Z"
   },
   {
    "duration": 1203,
    "start_time": "2023-03-11T04:14:59.287Z"
   },
   {
    "duration": 89,
    "start_time": "2023-03-11T04:15:00.494Z"
   },
   {
    "duration": 18,
    "start_time": "2023-03-11T04:15:00.587Z"
   },
   {
    "duration": 61,
    "start_time": "2023-03-11T04:15:00.607Z"
   },
   {
    "duration": 31,
    "start_time": "2023-03-11T04:15:00.671Z"
   },
   {
    "duration": 30,
    "start_time": "2023-03-11T04:15:00.704Z"
   },
   {
    "duration": 16,
    "start_time": "2023-03-11T04:15:00.736Z"
   },
   {
    "duration": 88,
    "start_time": "2023-03-11T04:15:00.755Z"
   },
   {
    "duration": 23,
    "start_time": "2023-03-11T04:15:00.846Z"
   },
   {
    "duration": 53,
    "start_time": "2023-03-11T04:15:00.871Z"
   },
   {
    "duration": 19,
    "start_time": "2023-03-11T04:15:00.926Z"
   },
   {
    "duration": 75,
    "start_time": "2023-03-11T04:15:00.947Z"
   },
   {
    "duration": 31,
    "start_time": "2023-03-11T04:15:01.024Z"
   },
   {
    "duration": 13,
    "start_time": "2023-03-11T04:15:01.058Z"
   },
   {
    "duration": 125,
    "start_time": "2023-03-11T04:15:01.072Z"
   },
   {
    "duration": 173350,
    "start_time": "2023-03-11T04:15:01.273Z"
   },
   {
    "duration": 1374,
    "start_time": "2023-03-11T04:17:54.625Z"
   },
   {
    "duration": 102,
    "start_time": "2023-03-11T04:17:56.001Z"
   },
   {
    "duration": 177443,
    "start_time": "2023-03-11T04:17:56.180Z"
   },
   {
    "duration": 216,
    "start_time": "2023-03-11T04:20:53.625Z"
   },
   {
    "duration": 0,
    "start_time": "2023-03-11T04:20:53.844Z"
   },
   {
    "duration": 0,
    "start_time": "2023-03-11T04:20:53.845Z"
   },
   {
    "duration": 0,
    "start_time": "2023-03-11T04:20:53.847Z"
   },
   {
    "duration": 0,
    "start_time": "2023-03-11T04:20:53.849Z"
   },
   {
    "duration": 0,
    "start_time": "2023-03-11T04:20:53.850Z"
   },
   {
    "duration": 0,
    "start_time": "2023-03-11T04:20:53.851Z"
   },
   {
    "duration": 0,
    "start_time": "2023-03-11T04:20:53.854Z"
   },
   {
    "duration": 0,
    "start_time": "2023-03-11T04:20:53.873Z"
   },
   {
    "duration": 0,
    "start_time": "2023-03-11T04:20:53.876Z"
   },
   {
    "duration": 21,
    "start_time": "2023-03-11T04:29:35.202Z"
   },
   {
    "duration": 21,
    "start_time": "2023-03-11T04:30:09.192Z"
   },
   {
    "duration": 28,
    "start_time": "2023-03-11T04:30:38.371Z"
   },
   {
    "duration": 24,
    "start_time": "2023-03-11T04:32:52.165Z"
   },
   {
    "duration": 19,
    "start_time": "2023-03-11T04:41:09.233Z"
   },
   {
    "duration": 16,
    "start_time": "2023-03-11T04:41:20.626Z"
   },
   {
    "duration": 1175,
    "start_time": "2023-03-11T04:45:24.492Z"
   },
   {
    "duration": 45,
    "start_time": "2023-03-11T04:45:25.668Z"
   },
   {
    "duration": 14,
    "start_time": "2023-03-11T04:45:25.715Z"
   },
   {
    "duration": 22,
    "start_time": "2023-03-11T04:45:25.730Z"
   },
   {
    "duration": 7,
    "start_time": "2023-03-11T04:45:25.756Z"
   },
   {
    "duration": 18,
    "start_time": "2023-03-11T04:45:25.765Z"
   },
   {
    "duration": 5,
    "start_time": "2023-03-11T04:45:25.791Z"
   },
   {
    "duration": 9,
    "start_time": "2023-03-11T04:45:25.797Z"
   },
   {
    "duration": 5,
    "start_time": "2023-03-11T04:45:25.808Z"
   },
   {
    "duration": 12,
    "start_time": "2023-03-11T04:45:25.815Z"
   },
   {
    "duration": 6,
    "start_time": "2023-03-11T04:45:25.829Z"
   },
   {
    "duration": 159,
    "start_time": "2023-03-11T04:45:25.837Z"
   },
   {
    "duration": 0,
    "start_time": "2023-03-11T04:45:25.998Z"
   },
   {
    "duration": 0,
    "start_time": "2023-03-11T04:45:26.001Z"
   },
   {
    "duration": 0,
    "start_time": "2023-03-11T04:45:26.002Z"
   },
   {
    "duration": 0,
    "start_time": "2023-03-11T04:45:26.003Z"
   },
   {
    "duration": 0,
    "start_time": "2023-03-11T04:45:26.005Z"
   },
   {
    "duration": 0,
    "start_time": "2023-03-11T04:45:26.006Z"
   },
   {
    "duration": 0,
    "start_time": "2023-03-11T04:45:26.008Z"
   },
   {
    "duration": 0,
    "start_time": "2023-03-11T04:45:26.009Z"
   },
   {
    "duration": 0,
    "start_time": "2023-03-11T04:45:26.010Z"
   },
   {
    "duration": 0,
    "start_time": "2023-03-11T04:45:26.011Z"
   },
   {
    "duration": 0,
    "start_time": "2023-03-11T04:45:26.012Z"
   },
   {
    "duration": 0,
    "start_time": "2023-03-11T04:45:26.014Z"
   },
   {
    "duration": 0,
    "start_time": "2023-03-11T04:45:26.015Z"
   },
   {
    "duration": 0,
    "start_time": "2023-03-11T04:45:26.016Z"
   },
   {
    "duration": 0,
    "start_time": "2023-03-11T04:45:26.018Z"
   },
   {
    "duration": 0,
    "start_time": "2023-03-11T04:45:26.020Z"
   },
   {
    "duration": 0,
    "start_time": "2023-03-11T04:45:26.021Z"
   },
   {
    "duration": 1194,
    "start_time": "2023-03-11T04:47:47.939Z"
   },
   {
    "duration": 44,
    "start_time": "2023-03-11T04:47:49.136Z"
   },
   {
    "duration": 14,
    "start_time": "2023-03-11T04:47:49.192Z"
   },
   {
    "duration": 21,
    "start_time": "2023-03-11T04:47:49.208Z"
   },
   {
    "duration": 8,
    "start_time": "2023-03-11T04:47:49.231Z"
   },
   {
    "duration": 39,
    "start_time": "2023-03-11T04:47:49.241Z"
   },
   {
    "duration": 8,
    "start_time": "2023-03-11T04:47:49.282Z"
   },
   {
    "duration": 11,
    "start_time": "2023-03-11T04:47:49.292Z"
   },
   {
    "duration": 6,
    "start_time": "2023-03-11T04:47:49.306Z"
   },
   {
    "duration": 9,
    "start_time": "2023-03-11T04:47:49.313Z"
   },
   {
    "duration": 7,
    "start_time": "2023-03-11T04:47:49.324Z"
   },
   {
    "duration": 154,
    "start_time": "2023-03-11T04:47:49.333Z"
   },
   {
    "duration": 0,
    "start_time": "2023-03-11T04:47:49.490Z"
   },
   {
    "duration": 0,
    "start_time": "2023-03-11T04:47:49.491Z"
   },
   {
    "duration": 0,
    "start_time": "2023-03-11T04:47:49.492Z"
   },
   {
    "duration": 1,
    "start_time": "2023-03-11T04:47:49.493Z"
   },
   {
    "duration": 0,
    "start_time": "2023-03-11T04:47:49.495Z"
   },
   {
    "duration": 0,
    "start_time": "2023-03-11T04:47:49.496Z"
   },
   {
    "duration": 0,
    "start_time": "2023-03-11T04:47:49.498Z"
   },
   {
    "duration": 0,
    "start_time": "2023-03-11T04:47:49.499Z"
   },
   {
    "duration": 0,
    "start_time": "2023-03-11T04:47:49.501Z"
   },
   {
    "duration": 0,
    "start_time": "2023-03-11T04:47:49.502Z"
   },
   {
    "duration": 0,
    "start_time": "2023-03-11T04:47:49.504Z"
   },
   {
    "duration": 0,
    "start_time": "2023-03-11T04:47:49.505Z"
   },
   {
    "duration": 0,
    "start_time": "2023-03-11T04:47:49.507Z"
   },
   {
    "duration": 0,
    "start_time": "2023-03-11T04:47:49.508Z"
   },
   {
    "duration": 0,
    "start_time": "2023-03-11T04:47:49.510Z"
   },
   {
    "duration": 0,
    "start_time": "2023-03-11T04:47:49.512Z"
   },
   {
    "duration": 0,
    "start_time": "2023-03-11T04:47:49.513Z"
   },
   {
    "duration": 17,
    "start_time": "2023-03-11T04:48:02.246Z"
   },
   {
    "duration": 15,
    "start_time": "2023-03-11T04:48:51.629Z"
   },
   {
    "duration": 1261,
    "start_time": "2023-03-11T04:49:00.179Z"
   },
   {
    "duration": 49,
    "start_time": "2023-03-11T04:49:01.443Z"
   },
   {
    "duration": 16,
    "start_time": "2023-03-11T04:49:01.494Z"
   },
   {
    "duration": 95,
    "start_time": "2023-03-11T04:49:01.512Z"
   },
   {
    "duration": 30,
    "start_time": "2023-03-11T04:49:01.610Z"
   },
   {
    "duration": 29,
    "start_time": "2023-03-11T04:49:01.642Z"
   },
   {
    "duration": 29,
    "start_time": "2023-03-11T04:49:01.678Z"
   },
   {
    "duration": 36,
    "start_time": "2023-03-11T04:49:01.709Z"
   },
   {
    "duration": 49,
    "start_time": "2023-03-11T04:49:01.747Z"
   },
   {
    "duration": 44,
    "start_time": "2023-03-11T04:49:01.798Z"
   },
   {
    "duration": 33,
    "start_time": "2023-03-11T04:49:01.844Z"
   },
   {
    "duration": 155,
    "start_time": "2023-03-11T04:49:01.878Z"
   },
   {
    "duration": 0,
    "start_time": "2023-03-11T04:49:02.035Z"
   },
   {
    "duration": 0,
    "start_time": "2023-03-11T04:49:02.037Z"
   },
   {
    "duration": 0,
    "start_time": "2023-03-11T04:49:02.038Z"
   },
   {
    "duration": 0,
    "start_time": "2023-03-11T04:49:02.040Z"
   },
   {
    "duration": 0,
    "start_time": "2023-03-11T04:49:02.041Z"
   },
   {
    "duration": 0,
    "start_time": "2023-03-11T04:49:02.042Z"
   },
   {
    "duration": 0,
    "start_time": "2023-03-11T04:49:02.043Z"
   },
   {
    "duration": 0,
    "start_time": "2023-03-11T04:49:02.044Z"
   },
   {
    "duration": 0,
    "start_time": "2023-03-11T04:49:02.045Z"
   },
   {
    "duration": 0,
    "start_time": "2023-03-11T04:49:02.047Z"
   },
   {
    "duration": 0,
    "start_time": "2023-03-11T04:49:02.048Z"
   },
   {
    "duration": 0,
    "start_time": "2023-03-11T04:49:02.049Z"
   },
   {
    "duration": 0,
    "start_time": "2023-03-11T04:49:02.050Z"
   },
   {
    "duration": 0,
    "start_time": "2023-03-11T04:49:02.051Z"
   },
   {
    "duration": 0,
    "start_time": "2023-03-11T04:49:02.073Z"
   },
   {
    "duration": 0,
    "start_time": "2023-03-11T04:49:02.075Z"
   },
   {
    "duration": 0,
    "start_time": "2023-03-11T04:49:02.075Z"
   },
   {
    "duration": 17,
    "start_time": "2023-03-11T04:51:28.712Z"
   },
   {
    "duration": 1196,
    "start_time": "2023-03-11T04:59:26.023Z"
   },
   {
    "duration": 42,
    "start_time": "2023-03-11T04:59:27.221Z"
   },
   {
    "duration": 17,
    "start_time": "2023-03-11T04:59:27.264Z"
   },
   {
    "duration": 27,
    "start_time": "2023-03-11T04:59:27.293Z"
   },
   {
    "duration": 8,
    "start_time": "2023-03-11T04:59:27.322Z"
   },
   {
    "duration": 17,
    "start_time": "2023-03-11T04:59:27.331Z"
   },
   {
    "duration": 5,
    "start_time": "2023-03-11T04:59:27.349Z"
   },
   {
    "duration": 25,
    "start_time": "2023-03-11T04:59:27.356Z"
   },
   {
    "duration": 18,
    "start_time": "2023-03-11T04:59:27.392Z"
   },
   {
    "duration": 16,
    "start_time": "2023-03-11T04:59:27.413Z"
   },
   {
    "duration": 9,
    "start_time": "2023-03-11T04:59:27.431Z"
   },
   {
    "duration": 263,
    "start_time": "2023-03-11T04:59:27.442Z"
   },
   {
    "duration": 0,
    "start_time": "2023-03-11T04:59:27.709Z"
   },
   {
    "duration": 0,
    "start_time": "2023-03-11T04:59:27.710Z"
   },
   {
    "duration": 0,
    "start_time": "2023-03-11T04:59:27.712Z"
   },
   {
    "duration": 0,
    "start_time": "2023-03-11T04:59:27.713Z"
   },
   {
    "duration": 0,
    "start_time": "2023-03-11T04:59:27.714Z"
   },
   {
    "duration": 0,
    "start_time": "2023-03-11T04:59:27.716Z"
   },
   {
    "duration": 0,
    "start_time": "2023-03-11T04:59:27.717Z"
   },
   {
    "duration": 0,
    "start_time": "2023-03-11T04:59:27.719Z"
   },
   {
    "duration": 1,
    "start_time": "2023-03-11T04:59:27.720Z"
   },
   {
    "duration": 0,
    "start_time": "2023-03-11T04:59:27.722Z"
   },
   {
    "duration": 0,
    "start_time": "2023-03-11T04:59:27.724Z"
   },
   {
    "duration": 0,
    "start_time": "2023-03-11T04:59:27.777Z"
   },
   {
    "duration": 0,
    "start_time": "2023-03-11T04:59:27.779Z"
   },
   {
    "duration": 0,
    "start_time": "2023-03-11T04:59:27.780Z"
   },
   {
    "duration": 0,
    "start_time": "2023-03-11T04:59:27.781Z"
   },
   {
    "duration": 0,
    "start_time": "2023-03-11T04:59:27.782Z"
   },
   {
    "duration": 0,
    "start_time": "2023-03-11T04:59:27.783Z"
   },
   {
    "duration": 15,
    "start_time": "2023-03-11T04:59:35.696Z"
   },
   {
    "duration": 18,
    "start_time": "2023-03-11T05:01:21.147Z"
   },
   {
    "duration": 13,
    "start_time": "2023-03-11T05:04:28.406Z"
   },
   {
    "duration": 4,
    "start_time": "2023-03-11T07:28:13.627Z"
   },
   {
    "duration": 950,
    "start_time": "2023-03-11T07:28:57.378Z"
   },
   {
    "duration": 257,
    "start_time": "2023-03-11T07:28:58.331Z"
   },
   {
    "duration": 44,
    "start_time": "2023-03-11T07:28:58.592Z"
   },
   {
    "duration": 15,
    "start_time": "2023-03-11T07:28:58.638Z"
   },
   {
    "duration": 30,
    "start_time": "2023-03-11T07:28:58.656Z"
   },
   {
    "duration": 16,
    "start_time": "2023-03-11T07:28:58.689Z"
   },
   {
    "duration": 33,
    "start_time": "2023-03-11T07:28:58.706Z"
   },
   {
    "duration": 18,
    "start_time": "2023-03-11T07:28:58.741Z"
   },
   {
    "duration": 20,
    "start_time": "2023-03-11T07:28:58.761Z"
   },
   {
    "duration": 46,
    "start_time": "2023-03-11T07:28:58.783Z"
   },
   {
    "duration": 32,
    "start_time": "2023-03-11T07:28:58.831Z"
   },
   {
    "duration": 20,
    "start_time": "2023-03-11T07:28:58.865Z"
   },
   {
    "duration": 152,
    "start_time": "2023-03-11T07:28:58.886Z"
   },
   {
    "duration": 0,
    "start_time": "2023-03-11T07:28:59.041Z"
   },
   {
    "duration": 0,
    "start_time": "2023-03-11T07:28:59.043Z"
   },
   {
    "duration": 0,
    "start_time": "2023-03-11T07:28:59.044Z"
   },
   {
    "duration": 0,
    "start_time": "2023-03-11T07:28:59.045Z"
   },
   {
    "duration": 1,
    "start_time": "2023-03-11T07:28:59.046Z"
   },
   {
    "duration": 0,
    "start_time": "2023-03-11T07:28:59.048Z"
   },
   {
    "duration": 0,
    "start_time": "2023-03-11T07:28:59.049Z"
   },
   {
    "duration": 0,
    "start_time": "2023-03-11T07:28:59.050Z"
   },
   {
    "duration": 0,
    "start_time": "2023-03-11T07:28:59.051Z"
   },
   {
    "duration": 0,
    "start_time": "2023-03-11T07:28:59.052Z"
   },
   {
    "duration": 0,
    "start_time": "2023-03-11T07:28:59.077Z"
   },
   {
    "duration": 0,
    "start_time": "2023-03-11T07:28:59.078Z"
   },
   {
    "duration": 0,
    "start_time": "2023-03-11T07:28:59.078Z"
   },
   {
    "duration": 0,
    "start_time": "2023-03-11T07:28:59.080Z"
   },
   {
    "duration": 0,
    "start_time": "2023-03-11T07:28:59.081Z"
   },
   {
    "duration": 0,
    "start_time": "2023-03-11T07:28:59.082Z"
   },
   {
    "duration": 0,
    "start_time": "2023-03-11T07:28:59.083Z"
   },
   {
    "duration": 8339,
    "start_time": "2023-03-11T07:37:30.948Z"
   },
   {
    "duration": 1031,
    "start_time": "2023-03-11T07:37:48.188Z"
   },
   {
    "duration": 43,
    "start_time": "2023-03-11T07:37:49.222Z"
   },
   {
    "duration": 19,
    "start_time": "2023-03-11T07:37:49.267Z"
   },
   {
    "duration": 24,
    "start_time": "2023-03-11T07:37:49.289Z"
   },
   {
    "duration": 9,
    "start_time": "2023-03-11T07:37:49.315Z"
   },
   {
    "duration": 18,
    "start_time": "2023-03-11T07:37:49.325Z"
   },
   {
    "duration": 4,
    "start_time": "2023-03-11T07:37:49.345Z"
   },
   {
    "duration": 31,
    "start_time": "2023-03-11T07:37:49.351Z"
   },
   {
    "duration": 13,
    "start_time": "2023-03-11T07:37:49.385Z"
   },
   {
    "duration": 9,
    "start_time": "2023-03-11T07:37:49.400Z"
   },
   {
    "duration": 10,
    "start_time": "2023-03-11T07:37:49.411Z"
   },
   {
    "duration": 18,
    "start_time": "2023-03-11T07:37:49.423Z"
   },
   {
    "duration": 146,
    "start_time": "2023-03-11T07:37:49.443Z"
   },
   {
    "duration": 0,
    "start_time": "2023-03-11T07:37:49.591Z"
   },
   {
    "duration": 0,
    "start_time": "2023-03-11T07:37:49.593Z"
   },
   {
    "duration": 0,
    "start_time": "2023-03-11T07:37:49.593Z"
   },
   {
    "duration": 0,
    "start_time": "2023-03-11T07:37:49.595Z"
   },
   {
    "duration": 0,
    "start_time": "2023-03-11T07:37:49.596Z"
   },
   {
    "duration": 0,
    "start_time": "2023-03-11T07:37:49.597Z"
   },
   {
    "duration": 0,
    "start_time": "2023-03-11T07:37:49.598Z"
   },
   {
    "duration": 0,
    "start_time": "2023-03-11T07:37:49.599Z"
   },
   {
    "duration": 0,
    "start_time": "2023-03-11T07:37:49.600Z"
   },
   {
    "duration": 0,
    "start_time": "2023-03-11T07:37:49.602Z"
   },
   {
    "duration": 0,
    "start_time": "2023-03-11T07:37:49.603Z"
   },
   {
    "duration": 0,
    "start_time": "2023-03-11T07:37:49.604Z"
   },
   {
    "duration": 0,
    "start_time": "2023-03-11T07:37:49.605Z"
   },
   {
    "duration": 0,
    "start_time": "2023-03-11T07:37:49.606Z"
   },
   {
    "duration": 0,
    "start_time": "2023-03-11T07:37:49.607Z"
   },
   {
    "duration": 0,
    "start_time": "2023-03-11T07:37:49.608Z"
   },
   {
    "duration": 15,
    "start_time": "2023-03-11T07:38:11.340Z"
   },
   {
    "duration": 18,
    "start_time": "2023-03-11T07:38:19.170Z"
   },
   {
    "duration": 24,
    "start_time": "2023-03-11T07:38:49.986Z"
   },
   {
    "duration": 29,
    "start_time": "2023-03-11T07:38:57.386Z"
   },
   {
    "duration": 966,
    "start_time": "2023-03-11T07:39:05.292Z"
   },
   {
    "duration": 44,
    "start_time": "2023-03-11T07:39:06.260Z"
   },
   {
    "duration": 14,
    "start_time": "2023-03-11T07:39:06.306Z"
   },
   {
    "duration": 22,
    "start_time": "2023-03-11T07:39:06.323Z"
   },
   {
    "duration": 8,
    "start_time": "2023-03-11T07:39:06.347Z"
   },
   {
    "duration": 32,
    "start_time": "2023-03-11T07:39:06.356Z"
   },
   {
    "duration": 5,
    "start_time": "2023-03-11T07:39:06.389Z"
   },
   {
    "duration": 9,
    "start_time": "2023-03-11T07:39:06.396Z"
   },
   {
    "duration": 6,
    "start_time": "2023-03-11T07:39:06.407Z"
   },
   {
    "duration": 8,
    "start_time": "2023-03-11T07:39:06.415Z"
   },
   {
    "duration": 6,
    "start_time": "2023-03-11T07:39:06.425Z"
   },
   {
    "duration": 167,
    "start_time": "2023-03-11T07:39:06.433Z"
   },
   {
    "duration": 0,
    "start_time": "2023-03-11T07:39:06.602Z"
   },
   {
    "duration": 0,
    "start_time": "2023-03-11T07:39:06.603Z"
   },
   {
    "duration": 0,
    "start_time": "2023-03-11T07:39:06.604Z"
   },
   {
    "duration": 0,
    "start_time": "2023-03-11T07:39:06.606Z"
   },
   {
    "duration": 0,
    "start_time": "2023-03-11T07:39:06.607Z"
   },
   {
    "duration": 0,
    "start_time": "2023-03-11T07:39:06.608Z"
   },
   {
    "duration": 0,
    "start_time": "2023-03-11T07:39:06.609Z"
   },
   {
    "duration": 0,
    "start_time": "2023-03-11T07:39:06.612Z"
   },
   {
    "duration": 0,
    "start_time": "2023-03-11T07:39:06.613Z"
   },
   {
    "duration": 0,
    "start_time": "2023-03-11T07:39:06.615Z"
   },
   {
    "duration": 0,
    "start_time": "2023-03-11T07:39:06.616Z"
   },
   {
    "duration": 0,
    "start_time": "2023-03-11T07:39:06.618Z"
   },
   {
    "duration": 0,
    "start_time": "2023-03-11T07:39:06.619Z"
   },
   {
    "duration": 0,
    "start_time": "2023-03-11T07:39:06.621Z"
   },
   {
    "duration": 0,
    "start_time": "2023-03-11T07:39:06.623Z"
   },
   {
    "duration": 0,
    "start_time": "2023-03-11T07:39:06.624Z"
   },
   {
    "duration": 0,
    "start_time": "2023-03-11T07:39:06.627Z"
   },
   {
    "duration": 31,
    "start_time": "2023-03-11T07:39:25.013Z"
   },
   {
    "duration": 28,
    "start_time": "2023-03-11T07:39:29.259Z"
   },
   {
    "duration": 1074,
    "start_time": "2023-03-11T07:39:33.775Z"
   },
   {
    "duration": 52,
    "start_time": "2023-03-11T07:39:34.851Z"
   },
   {
    "duration": 15,
    "start_time": "2023-03-11T07:39:34.904Z"
   },
   {
    "duration": 47,
    "start_time": "2023-03-11T07:39:34.921Z"
   },
   {
    "duration": 49,
    "start_time": "2023-03-11T07:39:34.970Z"
   },
   {
    "duration": 18,
    "start_time": "2023-03-11T07:39:35.021Z"
   },
   {
    "duration": 6,
    "start_time": "2023-03-11T07:39:35.041Z"
   },
   {
    "duration": 14,
    "start_time": "2023-03-11T07:39:35.049Z"
   },
   {
    "duration": 11,
    "start_time": "2023-03-11T07:39:35.065Z"
   },
   {
    "duration": 17,
    "start_time": "2023-03-11T07:39:35.081Z"
   },
   {
    "duration": 7,
    "start_time": "2023-03-11T07:39:35.100Z"
   },
   {
    "duration": 33,
    "start_time": "2023-03-11T07:39:35.109Z"
   },
   {
    "duration": 48,
    "start_time": "2023-03-11T07:39:35.144Z"
   },
   {
    "duration": 7,
    "start_time": "2023-03-11T07:39:35.194Z"
   },
   {
    "duration": 174,
    "start_time": "2023-03-11T07:39:35.202Z"
   },
   {
    "duration": 191307,
    "start_time": "2023-03-11T07:39:35.377Z"
   },
   {
    "duration": 1352,
    "start_time": "2023-03-11T07:42:46.686Z"
   },
   {
    "duration": 146,
    "start_time": "2023-03-11T07:42:48.040Z"
   },
   {
    "duration": 200746,
    "start_time": "2023-03-11T07:42:48.189Z"
   },
   {
    "duration": 14,
    "start_time": "2023-03-11T07:46:08.938Z"
   },
   {
    "duration": 173,
    "start_time": "2023-03-11T07:46:08.954Z"
   },
   {
    "duration": 0,
    "start_time": "2023-03-11T07:46:09.129Z"
   },
   {
    "duration": 0,
    "start_time": "2023-03-11T07:46:09.132Z"
   },
   {
    "duration": 0,
    "start_time": "2023-03-11T07:46:09.133Z"
   },
   {
    "duration": 0,
    "start_time": "2023-03-11T07:46:09.134Z"
   },
   {
    "duration": 0,
    "start_time": "2023-03-11T07:46:09.136Z"
   },
   {
    "duration": 0,
    "start_time": "2023-03-11T07:46:09.139Z"
   },
   {
    "duration": 0,
    "start_time": "2023-03-11T07:46:09.140Z"
   },
   {
    "duration": 0,
    "start_time": "2023-03-11T07:46:09.142Z"
   },
   {
    "duration": 0,
    "start_time": "2023-03-11T07:46:09.143Z"
   },
   {
    "duration": 150,
    "start_time": "2023-03-11T07:54:21.529Z"
   },
   {
    "duration": 78,
    "start_time": "2023-03-11T07:54:37.008Z"
   },
   {
    "duration": 217,
    "start_time": "2023-03-11T07:54:44.999Z"
   },
   {
    "duration": 143,
    "start_time": "2023-03-11T07:54:50.617Z"
   },
   {
    "duration": 24,
    "start_time": "2023-03-11T07:56:49.837Z"
   },
   {
    "duration": 22,
    "start_time": "2023-03-11T07:57:13.358Z"
   },
   {
    "duration": 77,
    "start_time": "2023-03-11T07:57:58.312Z"
   },
   {
    "duration": 147,
    "start_time": "2023-03-11T07:59:27.421Z"
   },
   {
    "duration": 140932,
    "start_time": "2023-03-11T07:59:39.298Z"
   },
   {
    "duration": 1216,
    "start_time": "2023-03-11T08:06:05.449Z"
   },
   {
    "duration": 662,
    "start_time": "2023-03-11T08:10:56.150Z"
   },
   {
    "duration": 656,
    "start_time": "2023-03-11T08:11:07.502Z"
   },
   {
    "duration": 692,
    "start_time": "2023-03-11T08:11:16.207Z"
   },
   {
    "duration": 672,
    "start_time": "2023-03-11T08:11:52.908Z"
   },
   {
    "duration": 107,
    "start_time": "2023-03-11T08:12:17.340Z"
   },
   {
    "duration": 100,
    "start_time": "2023-03-11T08:12:33.996Z"
   },
   {
    "duration": 94,
    "start_time": "2023-03-11T08:12:51.028Z"
   },
   {
    "duration": 87,
    "start_time": "2023-03-11T08:13:15.788Z"
   },
   {
    "duration": 1068,
    "start_time": "2023-03-11T08:13:24.065Z"
   },
   {
    "duration": 61,
    "start_time": "2023-03-11T08:13:25.136Z"
   },
   {
    "duration": 19,
    "start_time": "2023-03-11T08:13:25.199Z"
   },
   {
    "duration": 24,
    "start_time": "2023-03-11T08:13:25.223Z"
   },
   {
    "duration": 14,
    "start_time": "2023-03-11T08:13:25.249Z"
   },
   {
    "duration": 51,
    "start_time": "2023-03-11T08:13:25.265Z"
   },
   {
    "duration": 13,
    "start_time": "2023-03-11T08:13:25.318Z"
   },
   {
    "duration": 13,
    "start_time": "2023-03-11T08:13:25.333Z"
   },
   {
    "duration": 9,
    "start_time": "2023-03-11T08:13:25.348Z"
   },
   {
    "duration": 53,
    "start_time": "2023-03-11T08:13:25.360Z"
   },
   {
    "duration": 19,
    "start_time": "2023-03-11T08:13:25.415Z"
   },
   {
    "duration": 60,
    "start_time": "2023-03-11T08:13:25.436Z"
   },
   {
    "duration": 41,
    "start_time": "2023-03-11T08:13:25.497Z"
   },
   {
    "duration": 8,
    "start_time": "2023-03-11T08:13:25.541Z"
   },
   {
    "duration": 155,
    "start_time": "2023-03-11T08:13:25.552Z"
   },
   {
    "duration": 207434,
    "start_time": "2023-03-11T08:13:25.714Z"
   },
   {
    "duration": 1280,
    "start_time": "2023-03-11T08:16:53.150Z"
   },
   {
    "duration": 164,
    "start_time": "2023-03-11T08:16:54.431Z"
   },
   {
    "duration": 208017,
    "start_time": "2023-03-11T08:16:54.600Z"
   },
   {
    "duration": 19,
    "start_time": "2023-03-11T08:20:22.619Z"
   },
   {
    "duration": 153,
    "start_time": "2023-03-11T08:20:22.640Z"
   },
   {
    "duration": 129149,
    "start_time": "2023-03-11T08:20:22.797Z"
   },
   {
    "duration": 0,
    "start_time": "2023-03-11T08:22:32.199Z"
   },
   {
    "duration": 0,
    "start_time": "2023-03-11T08:22:32.204Z"
   },
   {
    "duration": 0,
    "start_time": "2023-03-11T08:22:32.208Z"
   },
   {
    "duration": 0,
    "start_time": "2023-03-11T08:22:32.209Z"
   },
   {
    "duration": 0,
    "start_time": "2023-03-11T08:22:32.210Z"
   },
   {
    "duration": 0,
    "start_time": "2023-03-11T08:22:32.211Z"
   },
   {
    "duration": 0,
    "start_time": "2023-03-11T08:22:32.212Z"
   },
   {
    "duration": 0,
    "start_time": "2023-03-11T08:22:32.213Z"
   },
   {
    "duration": 0,
    "start_time": "2023-03-11T08:22:32.214Z"
   },
   {
    "duration": 0,
    "start_time": "2023-03-11T08:22:32.215Z"
   },
   {
    "duration": 104,
    "start_time": "2023-03-11T08:22:42.535Z"
   },
   {
    "duration": 98,
    "start_time": "2023-03-11T08:22:49.360Z"
   },
   {
    "duration": 108,
    "start_time": "2023-03-11T08:22:54.928Z"
   },
   {
    "duration": 97,
    "start_time": "2023-03-11T08:23:19.120Z"
   },
   {
    "duration": 11,
    "start_time": "2023-03-11T08:49:33.226Z"
   },
   {
    "duration": 1131,
    "start_time": "2023-03-11T08:49:57.697Z"
   },
   {
    "duration": 68,
    "start_time": "2023-03-11T08:49:58.830Z"
   },
   {
    "duration": 24,
    "start_time": "2023-03-11T08:49:58.917Z"
   },
   {
    "duration": 28,
    "start_time": "2023-03-11T08:49:58.943Z"
   },
   {
    "duration": 24,
    "start_time": "2023-03-11T08:49:58.984Z"
   },
   {
    "duration": 29,
    "start_time": "2023-03-11T08:49:59.011Z"
   },
   {
    "duration": 7,
    "start_time": "2023-03-11T08:49:59.042Z"
   },
   {
    "duration": 17,
    "start_time": "2023-03-11T08:49:59.052Z"
   },
   {
    "duration": 26,
    "start_time": "2023-03-11T08:49:59.072Z"
   },
   {
    "duration": 13,
    "start_time": "2023-03-11T08:49:59.108Z"
   },
   {
    "duration": 15,
    "start_time": "2023-03-11T08:49:59.123Z"
   },
   {
    "duration": 59,
    "start_time": "2023-03-11T08:49:59.140Z"
   },
   {
    "duration": 36,
    "start_time": "2023-03-11T08:49:59.205Z"
   },
   {
    "duration": 6,
    "start_time": "2023-03-11T08:49:59.246Z"
   },
   {
    "duration": 236,
    "start_time": "2023-03-11T08:49:59.254Z"
   },
   {
    "duration": 214606,
    "start_time": "2023-03-11T08:49:59.500Z"
   },
   {
    "duration": 1504,
    "start_time": "2023-03-11T08:53:34.111Z"
   },
   {
    "duration": 90,
    "start_time": "2023-03-11T08:53:35.617Z"
   },
   {
    "duration": 210658,
    "start_time": "2023-03-11T08:53:35.709Z"
   },
   {
    "duration": 24,
    "start_time": "2023-03-11T08:57:06.375Z"
   },
   {
    "duration": 91,
    "start_time": "2023-03-11T08:57:06.401Z"
   },
   {
    "duration": 121784,
    "start_time": "2023-03-11T08:57:06.574Z"
   },
   {
    "duration": 1247,
    "start_time": "2023-03-11T08:59:08.359Z"
   },
   {
    "duration": 22,
    "start_time": "2023-03-11T08:59:09.610Z"
   },
   {
    "duration": 196,
    "start_time": "2023-03-11T08:59:09.635Z"
   },
   {
    "duration": 0,
    "start_time": "2023-03-11T08:59:09.833Z"
   },
   {
    "duration": 0,
    "start_time": "2023-03-11T08:59:09.835Z"
   },
   {
    "duration": 0,
    "start_time": "2023-03-11T08:59:09.836Z"
   },
   {
    "duration": 0,
    "start_time": "2023-03-11T08:59:09.838Z"
   },
   {
    "duration": 57,
    "start_time": "2023-03-11T09:01:53.655Z"
   },
   {
    "duration": 91,
    "start_time": "2023-03-11T09:02:10.201Z"
   },
   {
    "duration": 261082,
    "start_time": "2023-03-11T09:02:12.767Z"
   },
   {
    "duration": 1343,
    "start_time": "2023-03-11T09:06:33.851Z"
   },
   {
    "duration": 89,
    "start_time": "2023-03-11T09:06:35.196Z"
   },
   {
    "duration": 94,
    "start_time": "2023-03-11T09:06:35.288Z"
   },
   {
    "duration": 414,
    "start_time": "2023-03-11T09:07:32.619Z"
   },
   {
    "duration": 327,
    "start_time": "2023-03-11T09:09:00.806Z"
   },
   {
    "duration": 403,
    "start_time": "2023-03-11T09:13:08.711Z"
   },
   {
    "duration": 1159,
    "start_time": "2023-03-11T09:16:08.271Z"
   },
   {
    "duration": 66,
    "start_time": "2023-03-11T09:16:09.432Z"
   },
   {
    "duration": 22,
    "start_time": "2023-03-11T09:16:09.507Z"
   },
   {
    "duration": 37,
    "start_time": "2023-03-11T09:16:09.532Z"
   },
   {
    "duration": 37,
    "start_time": "2023-03-11T09:16:09.571Z"
   },
   {
    "duration": 18,
    "start_time": "2023-03-11T09:16:09.611Z"
   },
   {
    "duration": 5,
    "start_time": "2023-03-11T09:16:09.631Z"
   },
   {
    "duration": 12,
    "start_time": "2023-03-11T09:16:09.639Z"
   },
   {
    "duration": 7,
    "start_time": "2023-03-11T09:16:09.654Z"
   },
   {
    "duration": 37,
    "start_time": "2023-03-11T09:16:09.664Z"
   },
   {
    "duration": 32,
    "start_time": "2023-03-11T09:16:09.705Z"
   },
   {
    "duration": 63,
    "start_time": "2023-03-11T09:16:09.739Z"
   },
   {
    "duration": 33,
    "start_time": "2023-03-11T09:16:09.806Z"
   },
   {
    "duration": 22,
    "start_time": "2023-03-11T09:16:09.841Z"
   },
   {
    "duration": 151,
    "start_time": "2023-03-11T09:16:09.865Z"
   },
   {
    "duration": 219658,
    "start_time": "2023-03-11T09:16:10.075Z"
   },
   {
    "duration": 1553,
    "start_time": "2023-03-11T09:19:49.735Z"
   },
   {
    "duration": 301,
    "start_time": "2023-03-11T09:19:51.289Z"
   },
   {
    "duration": 219502,
    "start_time": "2023-03-11T09:19:51.598Z"
   },
   {
    "duration": 30,
    "start_time": "2023-03-11T09:23:31.108Z"
   },
   {
    "duration": 166,
    "start_time": "2023-03-11T09:23:31.140Z"
   },
   {
    "duration": 136619,
    "start_time": "2023-03-11T09:23:31.308Z"
   },
   {
    "duration": 1383,
    "start_time": "2023-03-11T09:25:47.931Z"
   },
   {
    "duration": 20,
    "start_time": "2023-03-11T09:25:49.319Z"
   },
   {
    "duration": 340,
    "start_time": "2023-03-11T09:25:49.341Z"
   },
   {
    "duration": 291490,
    "start_time": "2023-03-11T09:25:49.704Z"
   },
   {
    "duration": 1484,
    "start_time": "2023-03-11T09:30:41.198Z"
   },
   {
    "duration": 498,
    "start_time": "2023-03-11T09:30:42.687Z"
   },
   {
    "duration": 0,
    "start_time": "2023-03-11T09:30:43.190Z"
   },
   {
    "duration": 13,
    "start_time": "2023-03-11T09:43:19.157Z"
   },
   {
    "duration": 23,
    "start_time": "2023-03-11T09:45:02.397Z"
   },
   {
    "duration": 25,
    "start_time": "2023-03-11T09:45:15.601Z"
   },
   {
    "duration": 392,
    "start_time": "2023-03-11T09:45:21.112Z"
   },
   {
    "duration": 475,
    "start_time": "2023-03-11T09:45:28.820Z"
   },
   {
    "duration": 64,
    "start_time": "2023-03-11T09:45:42.388Z"
   },
   {
    "duration": 7,
    "start_time": "2023-03-11T09:47:35.743Z"
   },
   {
    "duration": 12,
    "start_time": "2023-03-11T09:47:47.391Z"
   },
   {
    "duration": 48,
    "start_time": "2023-03-12T05:28:01.761Z"
   },
   {
    "duration": 1226,
    "start_time": "2023-03-12T05:28:47.707Z"
   },
   {
    "duration": 168,
    "start_time": "2023-03-12T05:28:48.937Z"
   },
   {
    "duration": 15,
    "start_time": "2023-03-12T05:28:49.107Z"
   },
   {
    "duration": 23,
    "start_time": "2023-03-12T05:28:49.125Z"
   },
   {
    "duration": 8,
    "start_time": "2023-03-12T05:28:49.150Z"
   },
   {
    "duration": 12,
    "start_time": "2023-03-12T05:28:49.160Z"
   },
   {
    "duration": 6,
    "start_time": "2023-03-12T05:28:49.174Z"
   },
   {
    "duration": 8,
    "start_time": "2023-03-12T05:28:49.182Z"
   },
   {
    "duration": 7,
    "start_time": "2023-03-12T05:28:49.225Z"
   },
   {
    "duration": 12,
    "start_time": "2023-03-12T05:28:49.236Z"
   },
   {
    "duration": 8,
    "start_time": "2023-03-12T05:28:49.250Z"
   },
   {
    "duration": 119,
    "start_time": "2023-03-12T05:28:49.261Z"
   },
   {
    "duration": 0,
    "start_time": "2023-03-12T05:28:49.382Z"
   },
   {
    "duration": 0,
    "start_time": "2023-03-12T05:28:49.383Z"
   },
   {
    "duration": 10,
    "start_time": "2023-03-12T05:28:50.658Z"
   },
   {
    "duration": 5792,
    "start_time": "2023-03-12T05:29:30.798Z"
   },
   {
    "duration": 2829,
    "start_time": "2023-03-12T05:30:18.144Z"
   },
   {
    "duration": 23,
    "start_time": "2023-03-12T05:30:29.945Z"
   },
   {
    "duration": 14,
    "start_time": "2023-03-12T05:30:39.329Z"
   },
   {
    "duration": 2474,
    "start_time": "2023-03-12T05:30:51.513Z"
   },
   {
    "duration": 882,
    "start_time": "2023-03-12T05:30:53.989Z"
   },
   {
    "duration": 40,
    "start_time": "2023-03-12T05:30:54.872Z"
   },
   {
    "duration": 13,
    "start_time": "2023-03-12T05:30:54.914Z"
   },
   {
    "duration": 21,
    "start_time": "2023-03-12T05:30:54.929Z"
   },
   {
    "duration": 8,
    "start_time": "2023-03-12T05:30:54.951Z"
   },
   {
    "duration": 11,
    "start_time": "2023-03-12T05:30:54.960Z"
   },
   {
    "duration": 4,
    "start_time": "2023-03-12T05:30:54.972Z"
   },
   {
    "duration": 11,
    "start_time": "2023-03-12T05:30:54.978Z"
   },
   {
    "duration": 5,
    "start_time": "2023-03-12T05:30:55.023Z"
   },
   {
    "duration": 12,
    "start_time": "2023-03-12T05:30:55.029Z"
   },
   {
    "duration": 15,
    "start_time": "2023-03-12T05:30:55.043Z"
   },
   {
    "duration": 53,
    "start_time": "2023-03-12T05:30:55.059Z"
   },
   {
    "duration": 16,
    "start_time": "2023-03-12T05:30:55.114Z"
   },
   {
    "duration": 5,
    "start_time": "2023-03-12T05:30:55.131Z"
   },
   {
    "duration": 316,
    "start_time": "2023-03-12T05:30:58.881Z"
   },
   {
    "duration": 200,
    "start_time": "2023-03-12T05:31:11.429Z"
   },
   {
    "duration": 209,
    "start_time": "2023-03-12T05:31:19.517Z"
   },
   {
    "duration": 183738,
    "start_time": "2023-03-12T05:31:43.530Z"
   },
   {
    "duration": 1336,
    "start_time": "2023-03-12T05:34:47.271Z"
   },
   {
    "duration": 125,
    "start_time": "2023-03-12T05:34:48.609Z"
   },
   {
    "duration": 181295,
    "start_time": "2023-03-12T05:34:48.737Z"
   },
   {
    "duration": 14,
    "start_time": "2023-03-12T05:37:50.034Z"
   },
   {
    "duration": 10,
    "start_time": "2023-03-12T05:38:07.821Z"
   },
   {
    "duration": 2514,
    "start_time": "2023-03-12T05:38:24.448Z"
   },
   {
    "duration": 905,
    "start_time": "2023-03-12T05:38:26.964Z"
   },
   {
    "duration": 45,
    "start_time": "2023-03-12T05:38:27.871Z"
   },
   {
    "duration": 14,
    "start_time": "2023-03-12T05:38:27.920Z"
   },
   {
    "duration": 20,
    "start_time": "2023-03-12T05:38:27.936Z"
   },
   {
    "duration": 7,
    "start_time": "2023-03-12T05:38:27.958Z"
   },
   {
    "duration": 15,
    "start_time": "2023-03-12T05:38:27.967Z"
   },
   {
    "duration": 39,
    "start_time": "2023-03-12T05:38:27.984Z"
   },
   {
    "duration": 7,
    "start_time": "2023-03-12T05:38:28.025Z"
   },
   {
    "duration": 4,
    "start_time": "2023-03-12T05:38:28.035Z"
   },
   {
    "duration": 9,
    "start_time": "2023-03-12T05:38:28.041Z"
   },
   {
    "duration": 7,
    "start_time": "2023-03-12T05:38:28.053Z"
   },
   {
    "duration": 28,
    "start_time": "2023-03-12T05:38:28.062Z"
   },
   {
    "duration": 18,
    "start_time": "2023-03-12T05:38:28.124Z"
   },
   {
    "duration": 6,
    "start_time": "2023-03-12T05:38:28.143Z"
   },
   {
    "duration": 178,
    "start_time": "2023-03-12T05:38:28.150Z"
   },
   {
    "duration": 186981,
    "start_time": "2023-03-12T05:38:28.330Z"
   },
   {
    "duration": 1326,
    "start_time": "2023-03-12T05:41:35.312Z"
   },
   {
    "duration": 282,
    "start_time": "2023-03-12T05:41:36.641Z"
   },
   {
    "duration": 194304,
    "start_time": "2023-03-12T05:41:36.925Z"
   },
   {
    "duration": 16,
    "start_time": "2023-03-12T05:44:51.231Z"
   },
   {
    "duration": 178,
    "start_time": "2023-03-12T05:44:51.249Z"
   },
   {
    "duration": 126635,
    "start_time": "2023-03-12T05:44:51.429Z"
   },
   {
    "duration": 1311,
    "start_time": "2023-03-12T05:46:58.066Z"
   },
   {
    "duration": 15,
    "start_time": "2023-03-12T05:46:59.378Z"
   },
   {
    "duration": 338,
    "start_time": "2023-03-12T05:46:59.395Z"
   },
   {
    "duration": 0,
    "start_time": "2023-03-12T05:46:59.737Z"
   },
   {
    "duration": 0,
    "start_time": "2023-03-12T05:46:59.738Z"
   },
   {
    "duration": 0,
    "start_time": "2023-03-12T05:46:59.738Z"
   },
   {
    "duration": 0,
    "start_time": "2023-03-12T05:46:59.739Z"
   },
   {
    "duration": 73,
    "start_time": "2023-03-12T05:47:55.765Z"
   },
   {
    "duration": 268,
    "start_time": "2023-03-12T05:48:23.861Z"
   },
   {
    "duration": 3125,
    "start_time": "2023-03-12T05:48:43.367Z"
   },
   {
    "duration": 981,
    "start_time": "2023-03-12T05:48:46.494Z"
   },
   {
    "duration": 42,
    "start_time": "2023-03-12T05:48:47.477Z"
   },
   {
    "duration": 25,
    "start_time": "2023-03-12T05:48:47.522Z"
   },
   {
    "duration": 24,
    "start_time": "2023-03-12T05:48:47.549Z"
   },
   {
    "duration": 14,
    "start_time": "2023-03-12T05:48:47.576Z"
   },
   {
    "duration": 48,
    "start_time": "2023-03-12T05:48:47.592Z"
   },
   {
    "duration": 5,
    "start_time": "2023-03-12T05:48:47.642Z"
   },
   {
    "duration": 9,
    "start_time": "2023-03-12T05:48:47.649Z"
   },
   {
    "duration": 6,
    "start_time": "2023-03-12T05:48:47.661Z"
   },
   {
    "duration": 9,
    "start_time": "2023-03-12T05:48:47.670Z"
   },
   {
    "duration": 10,
    "start_time": "2023-03-12T05:48:47.681Z"
   },
   {
    "duration": 43,
    "start_time": "2023-03-12T05:48:47.726Z"
   },
   {
    "duration": 18,
    "start_time": "2023-03-12T05:48:47.771Z"
   },
   {
    "duration": 6,
    "start_time": "2023-03-12T05:48:47.792Z"
   },
   {
    "duration": 152,
    "start_time": "2023-03-12T05:48:47.799Z"
   },
   {
    "duration": 220904,
    "start_time": "2023-03-12T05:48:47.959Z"
   },
   {
    "duration": 1584,
    "start_time": "2023-03-12T05:52:28.864Z"
   },
   {
    "duration": 203,
    "start_time": "2023-03-12T05:52:30.450Z"
   },
   {
    "duration": 217637,
    "start_time": "2023-03-12T05:52:30.661Z"
   },
   {
    "duration": 51,
    "start_time": "2023-03-12T05:56:08.300Z"
   },
   {
    "duration": 83,
    "start_time": "2023-03-12T05:56:08.355Z"
   },
   {
    "duration": 129458,
    "start_time": "2023-03-12T05:56:08.440Z"
   },
   {
    "duration": 1252,
    "start_time": "2023-03-12T05:58:17.901Z"
   },
   {
    "duration": 25,
    "start_time": "2023-03-12T05:58:19.159Z"
   },
   {
    "duration": 174,
    "start_time": "2023-03-12T05:58:19.187Z"
   },
   {
    "duration": 260507,
    "start_time": "2023-03-12T05:58:19.369Z"
   },
   {
    "duration": 1502,
    "start_time": "2023-03-12T06:02:39.880Z"
   },
   {
    "duration": 536,
    "start_time": "2023-03-12T06:02:41.384Z"
   },
   {
    "duration": 12,
    "start_time": "2023-03-12T06:02:41.924Z"
   },
   {
    "duration": 1872,
    "start_time": "2023-03-12T06:04:33.008Z"
   },
   {
    "duration": 9,
    "start_time": "2023-03-12T06:04:35.628Z"
   },
   {
    "duration": 1917,
    "start_time": "2023-03-12T06:11:32.811Z"
   },
   {
    "duration": 8,
    "start_time": "2023-03-12T06:11:34.730Z"
   }
  ],
  "kernelspec": {
   "display_name": "Python 3 (ipykernel)",
   "language": "python",
   "name": "python3"
  },
  "language_info": {
   "codemirror_mode": {
    "name": "ipython",
    "version": 3
   },
   "file_extension": ".py",
   "mimetype": "text/x-python",
   "name": "python",
   "nbconvert_exporter": "python",
   "pygments_lexer": "ipython3",
   "version": "3.10.12"
  },
  "toc": {
   "base_numbering": 1,
   "nav_menu": {},
   "number_sections": true,
   "sideBar": true,
   "skip_h1_title": true,
   "title_cell": "Table of Contents",
   "title_sidebar": "Contents",
   "toc_cell": false,
   "toc_position": {
    "height": "calc(100% - 180px)",
    "left": "10px",
    "top": "150px",
    "width": "318.188px"
   },
   "toc_section_display": true,
   "toc_window_display": true
  }
 },
 "nbformat": 4,
 "nbformat_minor": 5
}
