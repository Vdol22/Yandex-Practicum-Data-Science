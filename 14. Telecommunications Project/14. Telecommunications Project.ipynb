{
 "cells": [
  {
   "cell_type": "markdown",
   "id": "09b73253",
   "metadata": {},
   "source": [
    "# Проект \"Телекоммуникации\"\n",
    "\n",
    "\n",
    "Оператор связи «Ниединогоразрыва.ком» хочет научиться прогнозировать отток клиентов. Если выяснится, что пользователь планирует уйти, ему будут предложены промокоды и специальные условия. Команда оператора собрала персональные данные о некоторых клиентах, информацию об их тарифах и договорах.\n",
    "\n",
    "\n",
    "<font size = 4> **Описание данных** </font>\n",
    "\n",
    "Данные представлены в 4 таблицах:\n",
    "- contract_new.csv — информация о договоре;\n",
    "- personal_new.csv — персональные данные клиента;\n",
    "- internet_new.csv — информация об интернет-услугах;\n",
    "- phone_new.csv — информация об услугах телефонии.\n",
    "\n",
    "Во всех файлах столбец customerID содержит код клиента.\n",
    "\n",
    "<font size = 4> **Описание услуг** </font>\n",
    "\n",
    "Оператор предоставляет два основных типа услуг: \n",
    "- Стационарную телефонную связь. Возможно подключение телефонного аппарата к нескольким линиям одновременно.\n",
    "- Интернет. Подключение может быть двух типов: через телефонную линию (DSL, от англ. digital subscriber line, «цифровая абонентская линия») или оптоволоконный кабель (Fiber optic).\n",
    "\n",
    "\n",
    "Также доступны такие услуги:\n",
    "- Интернет-безопасность: антивирус (DeviceProtection) и блокировка небезопасных сайтов (OnlineSecurity);\n",
    "- Выделенная линия технической поддержки (TechSupport);\n",
    "- Облачное хранилище файлов для резервного копирования данных (OnlineBackup);\n",
    "- Стриминговое телевидение (StreamingTV) и каталог фильмов (StreamingMovies).\n",
    "\n",
    "Описание остальных столбцов данных:\n",
    "- BeginDate – дата начала пользования услугами;\n",
    "- EndDate – дата окончания пользования услугами;\n",
    "- Type – тип оплаты: ежемесячный, годовой и тд;\n",
    "- PaperlessBilling – электронный платёжный документ;\n",
    "- PaymentMethod – способ оплаты;\n",
    "- MonthlyCharges – ежемесячные траты на услуги по договору;\n",
    "- TotalCharges – всего потрачено денег на услуги;\n",
    "- Dependents – наличие иждивенцев;\n",
    "- Senior Citizen – наличие пенсионного статуса по возрасту;\n",
    "- Partner – наличие супруга(и);\n",
    "- MultipleLines – наличие возможности ведения параллельных линий во время звонка.\n",
    "\n",
    "\n",
    "За услуги клиенты могут платить каждый месяц или заключить договор на 1–2 года. Доступны различные способы расчёта и возможность получения электронного чека.\n",
    "\n",
    "\n",
    "*Информация о договорах актуальна на 1 февраля 2020.*"
   ]
  },
  {
   "cell_type": "markdown",
   "id": "84d1f7cd",
   "metadata": {},
   "source": [
    "<font size = 4> **Постановка задачи и целей** </font>\n",
    "\n",
    "**Цель:** Обучить модель, определяющую с точностью более 85% желание клиента отказаться от услуг компании, чтобы не потерять его и своевременно предложить промокоды и специальные условия."
   ]
  },
  {
   "cell_type": "markdown",
   "id": "203edf63",
   "metadata": {},
   "source": [
    "**План работы:**\n",
    "\n",
    "1. Провести предобработку данных:\n",
    "    - Выделить целевой признак;\n",
    "    - Привести данные к правильному формату;\n",
    "    - Изучить аномалии;\n",
    "    - Заполнить пропуски;\n",
    "    - Изучить корреляционные связи между факторами и целевым признаком;\n",
    "    - Выделить новые признаки для обучения модели;\n",
    "    - Избавиться от лишних признаков;\n",
    "    - Подготовить данные, разбив выборку на обучающую и тестовую в отношении 3:1;\n",
    "1. Обучить 3 модели и подобрать гиперпараметры:\n",
    "    - Закодировать категориальные и численные признаки;\n",
    "    - Подобрать лучшие параметры с помощью кросс-валиадции;\n",
    "    - Обучить модель на лучших гиперпараметрах;\n",
    "    - Выбрать наилучшую модель по AUC-ROC метрике (не менее 0.85).\n",
    "1. Проверить лучшую модель на тестовой выборке:\n",
    "    - Составить матрицу анализа ошибок; \n",
    "    - Оценить важность признаков; \n",
    "    - Оценить метрику AUC-ROC и Accuracy.\n",
    "1. Составить отчёт."
   ]
  },
  {
   "cell_type": "markdown",
   "id": "094d007b",
   "metadata": {},
   "source": [
    "## Исследовательский анализ данных"
   ]
  },
  {
   "cell_type": "raw",
   "id": "f4000300",
   "metadata": {
    "collapsed": true
   },
   "source": [
    "!pip install phik\n",
    "!pip install -U scikit-learn"
   ]
  },
  {
   "cell_type": "code",
   "execution_count": 1,
   "id": "59f7fb22",
   "metadata": {},
   "outputs": [],
   "source": [
    "# Подключим все необходимые для исселдовательского анализа данных библиотеки:\n",
    "import pandas as pd\n",
    "import numpy as np\n",
    "import re\n",
    "import os\n",
    "import phik\n",
    "\n",
    "import seaborn as sns\n",
    "import matplotlib.pyplot as plt\n",
    "from datetime import datetime\n",
    "from functools import reduce\n",
    "from phik.report import plot_correlation_matrix\n",
    "from sklearn.preprocessing import OrdinalEncoder\n",
    "from sklearn.pipeline import Pipeline\n",
    "from sklearn.compose import ColumnTransformer\n",
    "from sklearn.preprocessing import StandardScaler, OneHotEncoder\n",
    "from sklearn.ensemble import RandomForestClassifier\n",
    "from sklearn.linear_model import LogisticRegression\n",
    "from catboost import CatBoostClassifier, Pool\n",
    "from sklearn.feature_selection import SelectFromModel\n",
    "from sklearn.model_selection import GridSearchCV\n",
    "from sklearn.metrics import accuracy_score\n",
    "from sklearn.model_selection import train_test_split\n",
    "from sklearn.pipeline import make_pipeline\n",
    "from sklearn.metrics import roc_auc_score\n",
    "from sklearn.metrics import confusion_matrix"
   ]
  },
  {
   "cell_type": "code",
   "execution_count": 2,
   "id": "c45426d9",
   "metadata": {},
   "outputs": [],
   "source": [
    "STATE = 3072023\n",
    "\n",
    "# Поместим в переменные исследуемые таблицы:\n",
    "    \n",
    "contract1 = '/datasets/contract_new.csv'\n",
    "personal1 = '/datasets/personal_new.csv'\n",
    "internet1 = '/datasets/internet_new.csv'\n",
    "phone1 = '/datasets/phone_new.csv'\n",
    "\n",
    "contract2 = 'contract_new.csv'\n",
    "personal2 = 'personal_new.csv'\n",
    "internet2 = 'internet_new.csv'\n",
    "phone2 = 'phone_new.csv'\n",
    "\n",
    "index_col = 'customerID'\n",
    "\n",
    "if os.path.exists(contract1):\n",
    "    data_contract = pd.read_csv(contract1, index_col=index_col)\n",
    "    data_personal = pd.read_csv(personal1, index_col=index_col)\n",
    "    data_internet = pd.read_csv(internet1, index_col=index_col)\n",
    "    data_phone = pd.read_csv(phone1, index_col=index_col)\n",
    "elif os.path.exists(contract2):\n",
    "    data_contract = pd.read_csv(contract2, index_col=index_col)\n",
    "    data_personal = pd.read_csv(personal2, index_col=index_col)\n",
    "    data_internet = pd.read_csv(internet2, index_col=index_col)\n",
    "    data_phone = pd.read_csv(phone2, index_col=index_col)\n",
    "else:\n",
    "    print('Something is wrong')"
   ]
  },
  {
   "cell_type": "code",
   "execution_count": 3,
   "id": "86c22558",
   "metadata": {},
   "outputs": [],
   "source": [
    "# Напишем функцию, выводящую первые 5 строк таблицы и сводную информацию о ней:\n",
    "\n",
    "def show_info (data):\n",
    "    # Отобразиnmь 5 первых строк таблицы:\n",
    "    display(data.head(5))\n",
    "    print()\n",
    "    # Вывести общую информацию таблицы:\n",
    "    data.info()"
   ]
  },
  {
   "cell_type": "code",
   "execution_count": 4,
   "id": "8b39d423",
   "metadata": {
    "scrolled": false
   },
   "outputs": [
    {
     "name": "stdout",
     "output_type": "stream",
     "text": [
      "Информация по таблице contract:\n"
     ]
    },
    {
     "data": {
      "text/html": [
       "<div>\n",
       "<style scoped>\n",
       "    .dataframe tbody tr th:only-of-type {\n",
       "        vertical-align: middle;\n",
       "    }\n",
       "\n",
       "    .dataframe tbody tr th {\n",
       "        vertical-align: top;\n",
       "    }\n",
       "\n",
       "    .dataframe thead th {\n",
       "        text-align: right;\n",
       "    }\n",
       "</style>\n",
       "<table border=\"1\" class=\"dataframe\">\n",
       "  <thead>\n",
       "    <tr style=\"text-align: right;\">\n",
       "      <th></th>\n",
       "      <th>BeginDate</th>\n",
       "      <th>EndDate</th>\n",
       "      <th>Type</th>\n",
       "      <th>PaperlessBilling</th>\n",
       "      <th>PaymentMethod</th>\n",
       "      <th>MonthlyCharges</th>\n",
       "      <th>TotalCharges</th>\n",
       "    </tr>\n",
       "    <tr>\n",
       "      <th>customerID</th>\n",
       "      <th></th>\n",
       "      <th></th>\n",
       "      <th></th>\n",
       "      <th></th>\n",
       "      <th></th>\n",
       "      <th></th>\n",
       "      <th></th>\n",
       "    </tr>\n",
       "  </thead>\n",
       "  <tbody>\n",
       "    <tr>\n",
       "      <th>7590-VHVEG</th>\n",
       "      <td>2020-01-01</td>\n",
       "      <td>No</td>\n",
       "      <td>Month-to-month</td>\n",
       "      <td>Yes</td>\n",
       "      <td>Electronic check</td>\n",
       "      <td>29.85</td>\n",
       "      <td>31.04</td>\n",
       "    </tr>\n",
       "    <tr>\n",
       "      <th>5575-GNVDE</th>\n",
       "      <td>2017-04-01</td>\n",
       "      <td>No</td>\n",
       "      <td>One year</td>\n",
       "      <td>No</td>\n",
       "      <td>Mailed check</td>\n",
       "      <td>56.95</td>\n",
       "      <td>2071.84</td>\n",
       "    </tr>\n",
       "    <tr>\n",
       "      <th>3668-QPYBK</th>\n",
       "      <td>2019-10-01</td>\n",
       "      <td>No</td>\n",
       "      <td>Month-to-month</td>\n",
       "      <td>Yes</td>\n",
       "      <td>Mailed check</td>\n",
       "      <td>53.85</td>\n",
       "      <td>226.17</td>\n",
       "    </tr>\n",
       "    <tr>\n",
       "      <th>7795-CFOCW</th>\n",
       "      <td>2016-05-01</td>\n",
       "      <td>No</td>\n",
       "      <td>One year</td>\n",
       "      <td>No</td>\n",
       "      <td>Bank transfer (automatic)</td>\n",
       "      <td>42.30</td>\n",
       "      <td>1960.6</td>\n",
       "    </tr>\n",
       "    <tr>\n",
       "      <th>9237-HQITU</th>\n",
       "      <td>2019-09-01</td>\n",
       "      <td>No</td>\n",
       "      <td>Month-to-month</td>\n",
       "      <td>Yes</td>\n",
       "      <td>Electronic check</td>\n",
       "      <td>70.70</td>\n",
       "      <td>353.5</td>\n",
       "    </tr>\n",
       "  </tbody>\n",
       "</table>\n",
       "</div>"
      ],
      "text/plain": [
       "             BeginDate EndDate            Type PaperlessBilling  \\\n",
       "customerID                                                        \n",
       "7590-VHVEG  2020-01-01      No  Month-to-month              Yes   \n",
       "5575-GNVDE  2017-04-01      No        One year               No   \n",
       "3668-QPYBK  2019-10-01      No  Month-to-month              Yes   \n",
       "7795-CFOCW  2016-05-01      No        One year               No   \n",
       "9237-HQITU  2019-09-01      No  Month-to-month              Yes   \n",
       "\n",
       "                        PaymentMethod  MonthlyCharges TotalCharges  \n",
       "customerID                                                          \n",
       "7590-VHVEG           Electronic check           29.85        31.04  \n",
       "5575-GNVDE               Mailed check           56.95      2071.84  \n",
       "3668-QPYBK               Mailed check           53.85       226.17  \n",
       "7795-CFOCW  Bank transfer (automatic)           42.30       1960.6  \n",
       "9237-HQITU           Electronic check           70.70        353.5  "
      ]
     },
     "metadata": {},
     "output_type": "display_data"
    },
    {
     "name": "stdout",
     "output_type": "stream",
     "text": [
      "\n",
      "<class 'pandas.core.frame.DataFrame'>\n",
      "Index: 7043 entries, 7590-VHVEG to 3186-AJIEK\n",
      "Data columns (total 7 columns):\n",
      " #   Column            Non-Null Count  Dtype  \n",
      "---  ------            --------------  -----  \n",
      " 0   BeginDate         7043 non-null   object \n",
      " 1   EndDate           7043 non-null   object \n",
      " 2   Type              7043 non-null   object \n",
      " 3   PaperlessBilling  7043 non-null   object \n",
      " 4   PaymentMethod     7043 non-null   object \n",
      " 5   MonthlyCharges    7043 non-null   float64\n",
      " 6   TotalCharges      7043 non-null   object \n",
      "dtypes: float64(1), object(6)\n",
      "memory usage: 440.2+ KB\n",
      "\n",
      "Информация по таблице personal:\n"
     ]
    },
    {
     "data": {
      "text/html": [
       "<div>\n",
       "<style scoped>\n",
       "    .dataframe tbody tr th:only-of-type {\n",
       "        vertical-align: middle;\n",
       "    }\n",
       "\n",
       "    .dataframe tbody tr th {\n",
       "        vertical-align: top;\n",
       "    }\n",
       "\n",
       "    .dataframe thead th {\n",
       "        text-align: right;\n",
       "    }\n",
       "</style>\n",
       "<table border=\"1\" class=\"dataframe\">\n",
       "  <thead>\n",
       "    <tr style=\"text-align: right;\">\n",
       "      <th></th>\n",
       "      <th>gender</th>\n",
       "      <th>SeniorCitizen</th>\n",
       "      <th>Partner</th>\n",
       "      <th>Dependents</th>\n",
       "    </tr>\n",
       "    <tr>\n",
       "      <th>customerID</th>\n",
       "      <th></th>\n",
       "      <th></th>\n",
       "      <th></th>\n",
       "      <th></th>\n",
       "    </tr>\n",
       "  </thead>\n",
       "  <tbody>\n",
       "    <tr>\n",
       "      <th>7590-VHVEG</th>\n",
       "      <td>Female</td>\n",
       "      <td>0</td>\n",
       "      <td>Yes</td>\n",
       "      <td>No</td>\n",
       "    </tr>\n",
       "    <tr>\n",
       "      <th>5575-GNVDE</th>\n",
       "      <td>Male</td>\n",
       "      <td>0</td>\n",
       "      <td>No</td>\n",
       "      <td>No</td>\n",
       "    </tr>\n",
       "    <tr>\n",
       "      <th>3668-QPYBK</th>\n",
       "      <td>Male</td>\n",
       "      <td>0</td>\n",
       "      <td>No</td>\n",
       "      <td>No</td>\n",
       "    </tr>\n",
       "    <tr>\n",
       "      <th>7795-CFOCW</th>\n",
       "      <td>Male</td>\n",
       "      <td>0</td>\n",
       "      <td>No</td>\n",
       "      <td>No</td>\n",
       "    </tr>\n",
       "    <tr>\n",
       "      <th>9237-HQITU</th>\n",
       "      <td>Female</td>\n",
       "      <td>0</td>\n",
       "      <td>No</td>\n",
       "      <td>No</td>\n",
       "    </tr>\n",
       "  </tbody>\n",
       "</table>\n",
       "</div>"
      ],
      "text/plain": [
       "            gender  SeniorCitizen Partner Dependents\n",
       "customerID                                          \n",
       "7590-VHVEG  Female              0     Yes         No\n",
       "5575-GNVDE    Male              0      No         No\n",
       "3668-QPYBK    Male              0      No         No\n",
       "7795-CFOCW    Male              0      No         No\n",
       "9237-HQITU  Female              0      No         No"
      ]
     },
     "metadata": {},
     "output_type": "display_data"
    },
    {
     "name": "stdout",
     "output_type": "stream",
     "text": [
      "\n",
      "<class 'pandas.core.frame.DataFrame'>\n",
      "Index: 7043 entries, 7590-VHVEG to 3186-AJIEK\n",
      "Data columns (total 4 columns):\n",
      " #   Column         Non-Null Count  Dtype \n",
      "---  ------         --------------  ----- \n",
      " 0   gender         7043 non-null   object\n",
      " 1   SeniorCitizen  7043 non-null   int64 \n",
      " 2   Partner        7043 non-null   object\n",
      " 3   Dependents     7043 non-null   object\n",
      "dtypes: int64(1), object(3)\n",
      "memory usage: 275.1+ KB\n",
      "\n",
      "Информация по таблице internet:\n"
     ]
    },
    {
     "data": {
      "text/html": [
       "<div>\n",
       "<style scoped>\n",
       "    .dataframe tbody tr th:only-of-type {\n",
       "        vertical-align: middle;\n",
       "    }\n",
       "\n",
       "    .dataframe tbody tr th {\n",
       "        vertical-align: top;\n",
       "    }\n",
       "\n",
       "    .dataframe thead th {\n",
       "        text-align: right;\n",
       "    }\n",
       "</style>\n",
       "<table border=\"1\" class=\"dataframe\">\n",
       "  <thead>\n",
       "    <tr style=\"text-align: right;\">\n",
       "      <th></th>\n",
       "      <th>InternetService</th>\n",
       "      <th>OnlineSecurity</th>\n",
       "      <th>OnlineBackup</th>\n",
       "      <th>DeviceProtection</th>\n",
       "      <th>TechSupport</th>\n",
       "      <th>StreamingTV</th>\n",
       "      <th>StreamingMovies</th>\n",
       "    </tr>\n",
       "    <tr>\n",
       "      <th>customerID</th>\n",
       "      <th></th>\n",
       "      <th></th>\n",
       "      <th></th>\n",
       "      <th></th>\n",
       "      <th></th>\n",
       "      <th></th>\n",
       "      <th></th>\n",
       "    </tr>\n",
       "  </thead>\n",
       "  <tbody>\n",
       "    <tr>\n",
       "      <th>7590-VHVEG</th>\n",
       "      <td>DSL</td>\n",
       "      <td>No</td>\n",
       "      <td>Yes</td>\n",
       "      <td>No</td>\n",
       "      <td>No</td>\n",
       "      <td>No</td>\n",
       "      <td>No</td>\n",
       "    </tr>\n",
       "    <tr>\n",
       "      <th>5575-GNVDE</th>\n",
       "      <td>DSL</td>\n",
       "      <td>Yes</td>\n",
       "      <td>No</td>\n",
       "      <td>Yes</td>\n",
       "      <td>No</td>\n",
       "      <td>No</td>\n",
       "      <td>No</td>\n",
       "    </tr>\n",
       "    <tr>\n",
       "      <th>3668-QPYBK</th>\n",
       "      <td>DSL</td>\n",
       "      <td>Yes</td>\n",
       "      <td>Yes</td>\n",
       "      <td>No</td>\n",
       "      <td>No</td>\n",
       "      <td>No</td>\n",
       "      <td>No</td>\n",
       "    </tr>\n",
       "    <tr>\n",
       "      <th>7795-CFOCW</th>\n",
       "      <td>DSL</td>\n",
       "      <td>Yes</td>\n",
       "      <td>No</td>\n",
       "      <td>Yes</td>\n",
       "      <td>Yes</td>\n",
       "      <td>No</td>\n",
       "      <td>No</td>\n",
       "    </tr>\n",
       "    <tr>\n",
       "      <th>9237-HQITU</th>\n",
       "      <td>Fiber optic</td>\n",
       "      <td>No</td>\n",
       "      <td>No</td>\n",
       "      <td>No</td>\n",
       "      <td>No</td>\n",
       "      <td>No</td>\n",
       "      <td>No</td>\n",
       "    </tr>\n",
       "  </tbody>\n",
       "</table>\n",
       "</div>"
      ],
      "text/plain": [
       "           InternetService OnlineSecurity OnlineBackup DeviceProtection  \\\n",
       "customerID                                                                \n",
       "7590-VHVEG             DSL             No          Yes               No   \n",
       "5575-GNVDE             DSL            Yes           No              Yes   \n",
       "3668-QPYBK             DSL            Yes          Yes               No   \n",
       "7795-CFOCW             DSL            Yes           No              Yes   \n",
       "9237-HQITU     Fiber optic             No           No               No   \n",
       "\n",
       "           TechSupport StreamingTV StreamingMovies  \n",
       "customerID                                          \n",
       "7590-VHVEG          No          No              No  \n",
       "5575-GNVDE          No          No              No  \n",
       "3668-QPYBK          No          No              No  \n",
       "7795-CFOCW         Yes          No              No  \n",
       "9237-HQITU          No          No              No  "
      ]
     },
     "metadata": {},
     "output_type": "display_data"
    },
    {
     "name": "stdout",
     "output_type": "stream",
     "text": [
      "\n",
      "<class 'pandas.core.frame.DataFrame'>\n",
      "Index: 5517 entries, 7590-VHVEG to 3186-AJIEK\n",
      "Data columns (total 7 columns):\n",
      " #   Column            Non-Null Count  Dtype \n",
      "---  ------            --------------  ----- \n",
      " 0   InternetService   5517 non-null   object\n",
      " 1   OnlineSecurity    5517 non-null   object\n",
      " 2   OnlineBackup      5517 non-null   object\n",
      " 3   DeviceProtection  5517 non-null   object\n",
      " 4   TechSupport       5517 non-null   object\n",
      " 5   StreamingTV       5517 non-null   object\n",
      " 6   StreamingMovies   5517 non-null   object\n",
      "dtypes: object(7)\n",
      "memory usage: 344.8+ KB\n",
      "\n",
      "Информация по таблице phone:\n"
     ]
    },
    {
     "data": {
      "text/html": [
       "<div>\n",
       "<style scoped>\n",
       "    .dataframe tbody tr th:only-of-type {\n",
       "        vertical-align: middle;\n",
       "    }\n",
       "\n",
       "    .dataframe tbody tr th {\n",
       "        vertical-align: top;\n",
       "    }\n",
       "\n",
       "    .dataframe thead th {\n",
       "        text-align: right;\n",
       "    }\n",
       "</style>\n",
       "<table border=\"1\" class=\"dataframe\">\n",
       "  <thead>\n",
       "    <tr style=\"text-align: right;\">\n",
       "      <th></th>\n",
       "      <th>MultipleLines</th>\n",
       "    </tr>\n",
       "    <tr>\n",
       "      <th>customerID</th>\n",
       "      <th></th>\n",
       "    </tr>\n",
       "  </thead>\n",
       "  <tbody>\n",
       "    <tr>\n",
       "      <th>5575-GNVDE</th>\n",
       "      <td>No</td>\n",
       "    </tr>\n",
       "    <tr>\n",
       "      <th>3668-QPYBK</th>\n",
       "      <td>No</td>\n",
       "    </tr>\n",
       "    <tr>\n",
       "      <th>9237-HQITU</th>\n",
       "      <td>No</td>\n",
       "    </tr>\n",
       "    <tr>\n",
       "      <th>9305-CDSKC</th>\n",
       "      <td>Yes</td>\n",
       "    </tr>\n",
       "    <tr>\n",
       "      <th>1452-KIOVK</th>\n",
       "      <td>Yes</td>\n",
       "    </tr>\n",
       "  </tbody>\n",
       "</table>\n",
       "</div>"
      ],
      "text/plain": [
       "           MultipleLines\n",
       "customerID              \n",
       "5575-GNVDE            No\n",
       "3668-QPYBK            No\n",
       "9237-HQITU            No\n",
       "9305-CDSKC           Yes\n",
       "1452-KIOVK           Yes"
      ]
     },
     "metadata": {},
     "output_type": "display_data"
    },
    {
     "name": "stdout",
     "output_type": "stream",
     "text": [
      "\n",
      "<class 'pandas.core.frame.DataFrame'>\n",
      "Index: 6361 entries, 5575-GNVDE to 3186-AJIEK\n",
      "Data columns (total 1 columns):\n",
      " #   Column         Non-Null Count  Dtype \n",
      "---  ------         --------------  ----- \n",
      " 0   MultipleLines  6361 non-null   object\n",
      "dtypes: object(1)\n",
      "memory usage: 99.4+ KB\n"
     ]
    }
   ],
   "source": [
    "# Применим функцию show_info ко всем имеющимся табилцам:\n",
    "\n",
    "print('Информация по таблице contract:')\n",
    "show_info(data_contract)\n",
    "print('\\nИнформация по таблице personal:')\n",
    "show_info(data_personal)\n",
    "print('\\nИнформация по таблице internet:')\n",
    "show_info(data_internet)\n",
    "print('\\nИнформация по таблице phone:')\n",
    "show_info(data_phone)"
   ]
  },
  {
   "cell_type": "markdown",
   "id": "032662c1",
   "metadata": {},
   "source": [
    "Таблицы с клиентами, подключившими услуги интернет и телефонии имеют меньшее количество строк, чем таблица со всеми клиентами компании. Очевидно, не все клиенты компании используют оба вида услуг. "
   ]
  },
  {
   "cell_type": "markdown",
   "id": "9af073d6",
   "metadata": {},
   "source": [
    "Следующим шагом объединим все таблицу в одну, чтобы было удобнее работать с данными. Для этого воспользуемся общим признаком во всех таблицах - столбцом `customerID`:"
   ]
  },
  {
   "cell_type": "code",
   "execution_count": 5,
   "id": "6d080367",
   "metadata": {
    "scrolled": false
   },
   "outputs": [
    {
     "data": {
      "text/html": [
       "<div>\n",
       "<style scoped>\n",
       "    .dataframe tbody tr th:only-of-type {\n",
       "        vertical-align: middle;\n",
       "    }\n",
       "\n",
       "    .dataframe tbody tr th {\n",
       "        vertical-align: top;\n",
       "    }\n",
       "\n",
       "    .dataframe thead th {\n",
       "        text-align: right;\n",
       "    }\n",
       "</style>\n",
       "<table border=\"1\" class=\"dataframe\">\n",
       "  <thead>\n",
       "    <tr style=\"text-align: right;\">\n",
       "      <th></th>\n",
       "      <th>BeginDate</th>\n",
       "      <th>EndDate</th>\n",
       "      <th>Type</th>\n",
       "      <th>PaperlessBilling</th>\n",
       "      <th>PaymentMethod</th>\n",
       "      <th>MonthlyCharges</th>\n",
       "      <th>TotalCharges</th>\n",
       "      <th>gender</th>\n",
       "      <th>SeniorCitizen</th>\n",
       "      <th>Partner</th>\n",
       "      <th>Dependents</th>\n",
       "      <th>InternetService</th>\n",
       "      <th>OnlineSecurity</th>\n",
       "      <th>OnlineBackup</th>\n",
       "      <th>DeviceProtection</th>\n",
       "      <th>TechSupport</th>\n",
       "      <th>StreamingTV</th>\n",
       "      <th>StreamingMovies</th>\n",
       "      <th>MultipleLines</th>\n",
       "    </tr>\n",
       "    <tr>\n",
       "      <th>customerID</th>\n",
       "      <th></th>\n",
       "      <th></th>\n",
       "      <th></th>\n",
       "      <th></th>\n",
       "      <th></th>\n",
       "      <th></th>\n",
       "      <th></th>\n",
       "      <th></th>\n",
       "      <th></th>\n",
       "      <th></th>\n",
       "      <th></th>\n",
       "      <th></th>\n",
       "      <th></th>\n",
       "      <th></th>\n",
       "      <th></th>\n",
       "      <th></th>\n",
       "      <th></th>\n",
       "      <th></th>\n",
       "      <th></th>\n",
       "    </tr>\n",
       "  </thead>\n",
       "  <tbody>\n",
       "    <tr>\n",
       "      <th>7590-VHVEG</th>\n",
       "      <td>2020-01-01</td>\n",
       "      <td>No</td>\n",
       "      <td>Month-to-month</td>\n",
       "      <td>Yes</td>\n",
       "      <td>Electronic check</td>\n",
       "      <td>29.85</td>\n",
       "      <td>31.04</td>\n",
       "      <td>Female</td>\n",
       "      <td>0</td>\n",
       "      <td>Yes</td>\n",
       "      <td>No</td>\n",
       "      <td>DSL</td>\n",
       "      <td>No</td>\n",
       "      <td>Yes</td>\n",
       "      <td>No</td>\n",
       "      <td>No</td>\n",
       "      <td>No</td>\n",
       "      <td>No</td>\n",
       "      <td>NaN</td>\n",
       "    </tr>\n",
       "    <tr>\n",
       "      <th>5575-GNVDE</th>\n",
       "      <td>2017-04-01</td>\n",
       "      <td>No</td>\n",
       "      <td>One year</td>\n",
       "      <td>No</td>\n",
       "      <td>Mailed check</td>\n",
       "      <td>56.95</td>\n",
       "      <td>2071.84</td>\n",
       "      <td>Male</td>\n",
       "      <td>0</td>\n",
       "      <td>No</td>\n",
       "      <td>No</td>\n",
       "      <td>DSL</td>\n",
       "      <td>Yes</td>\n",
       "      <td>No</td>\n",
       "      <td>Yes</td>\n",
       "      <td>No</td>\n",
       "      <td>No</td>\n",
       "      <td>No</td>\n",
       "      <td>No</td>\n",
       "    </tr>\n",
       "    <tr>\n",
       "      <th>3668-QPYBK</th>\n",
       "      <td>2019-10-01</td>\n",
       "      <td>No</td>\n",
       "      <td>Month-to-month</td>\n",
       "      <td>Yes</td>\n",
       "      <td>Mailed check</td>\n",
       "      <td>53.85</td>\n",
       "      <td>226.17</td>\n",
       "      <td>Male</td>\n",
       "      <td>0</td>\n",
       "      <td>No</td>\n",
       "      <td>No</td>\n",
       "      <td>DSL</td>\n",
       "      <td>Yes</td>\n",
       "      <td>Yes</td>\n",
       "      <td>No</td>\n",
       "      <td>No</td>\n",
       "      <td>No</td>\n",
       "      <td>No</td>\n",
       "      <td>No</td>\n",
       "    </tr>\n",
       "    <tr>\n",
       "      <th>7795-CFOCW</th>\n",
       "      <td>2016-05-01</td>\n",
       "      <td>No</td>\n",
       "      <td>One year</td>\n",
       "      <td>No</td>\n",
       "      <td>Bank transfer (automatic)</td>\n",
       "      <td>42.30</td>\n",
       "      <td>1960.6</td>\n",
       "      <td>Male</td>\n",
       "      <td>0</td>\n",
       "      <td>No</td>\n",
       "      <td>No</td>\n",
       "      <td>DSL</td>\n",
       "      <td>Yes</td>\n",
       "      <td>No</td>\n",
       "      <td>Yes</td>\n",
       "      <td>Yes</td>\n",
       "      <td>No</td>\n",
       "      <td>No</td>\n",
       "      <td>NaN</td>\n",
       "    </tr>\n",
       "    <tr>\n",
       "      <th>9237-HQITU</th>\n",
       "      <td>2019-09-01</td>\n",
       "      <td>No</td>\n",
       "      <td>Month-to-month</td>\n",
       "      <td>Yes</td>\n",
       "      <td>Electronic check</td>\n",
       "      <td>70.70</td>\n",
       "      <td>353.5</td>\n",
       "      <td>Female</td>\n",
       "      <td>0</td>\n",
       "      <td>No</td>\n",
       "      <td>No</td>\n",
       "      <td>Fiber optic</td>\n",
       "      <td>No</td>\n",
       "      <td>No</td>\n",
       "      <td>No</td>\n",
       "      <td>No</td>\n",
       "      <td>No</td>\n",
       "      <td>No</td>\n",
       "      <td>No</td>\n",
       "    </tr>\n",
       "  </tbody>\n",
       "</table>\n",
       "</div>"
      ],
      "text/plain": [
       "             BeginDate EndDate            Type PaperlessBilling  \\\n",
       "customerID                                                        \n",
       "7590-VHVEG  2020-01-01      No  Month-to-month              Yes   \n",
       "5575-GNVDE  2017-04-01      No        One year               No   \n",
       "3668-QPYBK  2019-10-01      No  Month-to-month              Yes   \n",
       "7795-CFOCW  2016-05-01      No        One year               No   \n",
       "9237-HQITU  2019-09-01      No  Month-to-month              Yes   \n",
       "\n",
       "                        PaymentMethod  MonthlyCharges TotalCharges  gender  \\\n",
       "customerID                                                                   \n",
       "7590-VHVEG           Electronic check           29.85        31.04  Female   \n",
       "5575-GNVDE               Mailed check           56.95      2071.84    Male   \n",
       "3668-QPYBK               Mailed check           53.85       226.17    Male   \n",
       "7795-CFOCW  Bank transfer (automatic)           42.30       1960.6    Male   \n",
       "9237-HQITU           Electronic check           70.70        353.5  Female   \n",
       "\n",
       "            SeniorCitizen Partner Dependents InternetService OnlineSecurity  \\\n",
       "customerID                                                                    \n",
       "7590-VHVEG              0     Yes         No             DSL             No   \n",
       "5575-GNVDE              0      No         No             DSL            Yes   \n",
       "3668-QPYBK              0      No         No             DSL            Yes   \n",
       "7795-CFOCW              0      No         No             DSL            Yes   \n",
       "9237-HQITU              0      No         No     Fiber optic             No   \n",
       "\n",
       "           OnlineBackup DeviceProtection TechSupport StreamingTV  \\\n",
       "customerID                                                         \n",
       "7590-VHVEG          Yes               No          No          No   \n",
       "5575-GNVDE           No              Yes          No          No   \n",
       "3668-QPYBK          Yes               No          No          No   \n",
       "7795-CFOCW           No              Yes         Yes          No   \n",
       "9237-HQITU           No               No          No          No   \n",
       "\n",
       "           StreamingMovies MultipleLines  \n",
       "customerID                                \n",
       "7590-VHVEG              No           NaN  \n",
       "5575-GNVDE              No            No  \n",
       "3668-QPYBK              No            No  \n",
       "7795-CFOCW              No           NaN  \n",
       "9237-HQITU              No            No  "
      ]
     },
     "metadata": {},
     "output_type": "display_data"
    },
    {
     "name": "stdout",
     "output_type": "stream",
     "text": [
      "\n",
      "<class 'pandas.core.frame.DataFrame'>\n",
      "Index: 7043 entries, 7590-VHVEG to 3186-AJIEK\n",
      "Data columns (total 19 columns):\n",
      " #   Column            Non-Null Count  Dtype  \n",
      "---  ------            --------------  -----  \n",
      " 0   BeginDate         7043 non-null   object \n",
      " 1   EndDate           7043 non-null   object \n",
      " 2   Type              7043 non-null   object \n",
      " 3   PaperlessBilling  7043 non-null   object \n",
      " 4   PaymentMethod     7043 non-null   object \n",
      " 5   MonthlyCharges    7043 non-null   float64\n",
      " 6   TotalCharges      7043 non-null   object \n",
      " 7   gender            7043 non-null   object \n",
      " 8   SeniorCitizen     7043 non-null   int64  \n",
      " 9   Partner           7043 non-null   object \n",
      " 10  Dependents        7043 non-null   object \n",
      " 11  InternetService   5517 non-null   object \n",
      " 12  OnlineSecurity    5517 non-null   object \n",
      " 13  OnlineBackup      5517 non-null   object \n",
      " 14  DeviceProtection  5517 non-null   object \n",
      " 15  TechSupport       5517 non-null   object \n",
      " 16  StreamingTV       5517 non-null   object \n",
      " 17  StreamingMovies   5517 non-null   object \n",
      " 18  MultipleLines     6361 non-null   object \n",
      "dtypes: float64(1), int64(1), object(17)\n",
      "memory usage: 1.1+ MB\n"
     ]
    }
   ],
   "source": [
    "# Создадим список, содержащий все имеющиеся таблицы:\n",
    "data_frames = [data_contract, data_personal, data_internet, data_phone]\n",
    "\n",
    "# Объединим их в переменной data:\n",
    "data = reduce(lambda left,right: pd.merge(left, right, on=['customerID'], how='outer'), data_frames)\n",
    "\n",
    "# Выгрузим из памяти начальные таблицы за ненадобностью:\n",
    "del data_frames, data_contract, data_personal, data_internet, data_phone\n",
    "\n",
    "# Выведем общую информацию по полученной таблице:\n",
    "show_info(data)"
   ]
  },
  {
   "cell_type": "markdown",
   "id": "34fd1b08",
   "metadata": {},
   "source": [
    "В генеральной выборке большинство признаков бинарные. Есть столбцы с признаками категориальными и всего два количественных, представленных в столбцах `MonthlyCharges` и `TotalCharges`. "
   ]
  },
  {
   "cell_type": "markdown",
   "id": "85239b10",
   "metadata": {},
   "source": [
    "Для корректного обучения модели необходимо предобработать данные, а именно:\n",
    "\n",
    "1. Выделить целевой признак;\n",
    "1. Привести названия столбцов к одному регистру (для удобства);\n",
    "1. Привести данные в столбцах к правильному формату;\n",
    "1. Заполнить пропуски;\n",
    "1. Закодировать имеющиеся категориальные признаки (для простоты обучения модели);\n",
    "1. Дополнить генеральную выборку новыми признаками, имеющими интерес при дальнейшем моделировании;\n",
    "1. Оценить мультиколлинеарность признаков и убрать лишние;\n",
    "1. Подготовить данные, разбив выборку на обучающую и тестовую."
   ]
  },
  {
   "cell_type": "markdown",
   "id": "9c2304c4",
   "metadata": {},
   "source": [
    "Для изменения названия столбцов напишем пару функций, применим их на `data` и ознакомимся с результатом:"
   ]
  },
  {
   "cell_type": "code",
   "execution_count": 6,
   "id": "64e14be0",
   "metadata": {
    "scrolled": true
   },
   "outputs": [
    {
     "data": {
      "text/html": [
       "<div>\n",
       "<style scoped>\n",
       "    .dataframe tbody tr th:only-of-type {\n",
       "        vertical-align: middle;\n",
       "    }\n",
       "\n",
       "    .dataframe tbody tr th {\n",
       "        vertical-align: top;\n",
       "    }\n",
       "\n",
       "    .dataframe thead th {\n",
       "        text-align: right;\n",
       "    }\n",
       "</style>\n",
       "<table border=\"1\" class=\"dataframe\">\n",
       "  <thead>\n",
       "    <tr style=\"text-align: right;\">\n",
       "      <th></th>\n",
       "      <th>begin_date</th>\n",
       "      <th>end_date</th>\n",
       "      <th>type</th>\n",
       "      <th>paperless_billing</th>\n",
       "      <th>payment_method</th>\n",
       "      <th>monthly_charges</th>\n",
       "      <th>total_charges</th>\n",
       "      <th>gender</th>\n",
       "      <th>senior_citizen</th>\n",
       "      <th>partner</th>\n",
       "      <th>dependents</th>\n",
       "      <th>internet_service</th>\n",
       "      <th>online_security</th>\n",
       "      <th>online_backup</th>\n",
       "      <th>device_protection</th>\n",
       "      <th>tech_support</th>\n",
       "      <th>streaming_tv</th>\n",
       "      <th>streaming_movies</th>\n",
       "      <th>multiple_lines</th>\n",
       "    </tr>\n",
       "    <tr>\n",
       "      <th>customerID</th>\n",
       "      <th></th>\n",
       "      <th></th>\n",
       "      <th></th>\n",
       "      <th></th>\n",
       "      <th></th>\n",
       "      <th></th>\n",
       "      <th></th>\n",
       "      <th></th>\n",
       "      <th></th>\n",
       "      <th></th>\n",
       "      <th></th>\n",
       "      <th></th>\n",
       "      <th></th>\n",
       "      <th></th>\n",
       "      <th></th>\n",
       "      <th></th>\n",
       "      <th></th>\n",
       "      <th></th>\n",
       "      <th></th>\n",
       "    </tr>\n",
       "  </thead>\n",
       "  <tbody>\n",
       "    <tr>\n",
       "      <th>7590-VHVEG</th>\n",
       "      <td>2020-01-01</td>\n",
       "      <td>No</td>\n",
       "      <td>Month-to-month</td>\n",
       "      <td>Yes</td>\n",
       "      <td>Electronic check</td>\n",
       "      <td>29.85</td>\n",
       "      <td>31.04</td>\n",
       "      <td>Female</td>\n",
       "      <td>0</td>\n",
       "      <td>Yes</td>\n",
       "      <td>No</td>\n",
       "      <td>DSL</td>\n",
       "      <td>No</td>\n",
       "      <td>Yes</td>\n",
       "      <td>No</td>\n",
       "      <td>No</td>\n",
       "      <td>No</td>\n",
       "      <td>No</td>\n",
       "      <td>NaN</td>\n",
       "    </tr>\n",
       "    <tr>\n",
       "      <th>5575-GNVDE</th>\n",
       "      <td>2017-04-01</td>\n",
       "      <td>No</td>\n",
       "      <td>One year</td>\n",
       "      <td>No</td>\n",
       "      <td>Mailed check</td>\n",
       "      <td>56.95</td>\n",
       "      <td>2071.84</td>\n",
       "      <td>Male</td>\n",
       "      <td>0</td>\n",
       "      <td>No</td>\n",
       "      <td>No</td>\n",
       "      <td>DSL</td>\n",
       "      <td>Yes</td>\n",
       "      <td>No</td>\n",
       "      <td>Yes</td>\n",
       "      <td>No</td>\n",
       "      <td>No</td>\n",
       "      <td>No</td>\n",
       "      <td>No</td>\n",
       "    </tr>\n",
       "    <tr>\n",
       "      <th>3668-QPYBK</th>\n",
       "      <td>2019-10-01</td>\n",
       "      <td>No</td>\n",
       "      <td>Month-to-month</td>\n",
       "      <td>Yes</td>\n",
       "      <td>Mailed check</td>\n",
       "      <td>53.85</td>\n",
       "      <td>226.17</td>\n",
       "      <td>Male</td>\n",
       "      <td>0</td>\n",
       "      <td>No</td>\n",
       "      <td>No</td>\n",
       "      <td>DSL</td>\n",
       "      <td>Yes</td>\n",
       "      <td>Yes</td>\n",
       "      <td>No</td>\n",
       "      <td>No</td>\n",
       "      <td>No</td>\n",
       "      <td>No</td>\n",
       "      <td>No</td>\n",
       "    </tr>\n",
       "    <tr>\n",
       "      <th>7795-CFOCW</th>\n",
       "      <td>2016-05-01</td>\n",
       "      <td>No</td>\n",
       "      <td>One year</td>\n",
       "      <td>No</td>\n",
       "      <td>Bank transfer (automatic)</td>\n",
       "      <td>42.30</td>\n",
       "      <td>1960.6</td>\n",
       "      <td>Male</td>\n",
       "      <td>0</td>\n",
       "      <td>No</td>\n",
       "      <td>No</td>\n",
       "      <td>DSL</td>\n",
       "      <td>Yes</td>\n",
       "      <td>No</td>\n",
       "      <td>Yes</td>\n",
       "      <td>Yes</td>\n",
       "      <td>No</td>\n",
       "      <td>No</td>\n",
       "      <td>NaN</td>\n",
       "    </tr>\n",
       "    <tr>\n",
       "      <th>9237-HQITU</th>\n",
       "      <td>2019-09-01</td>\n",
       "      <td>No</td>\n",
       "      <td>Month-to-month</td>\n",
       "      <td>Yes</td>\n",
       "      <td>Electronic check</td>\n",
       "      <td>70.70</td>\n",
       "      <td>353.5</td>\n",
       "      <td>Female</td>\n",
       "      <td>0</td>\n",
       "      <td>No</td>\n",
       "      <td>No</td>\n",
       "      <td>Fiber optic</td>\n",
       "      <td>No</td>\n",
       "      <td>No</td>\n",
       "      <td>No</td>\n",
       "      <td>No</td>\n",
       "      <td>No</td>\n",
       "      <td>No</td>\n",
       "      <td>No</td>\n",
       "    </tr>\n",
       "  </tbody>\n",
       "</table>\n",
       "</div>"
      ],
      "text/plain": [
       "            begin_date end_date            type paperless_billing  \\\n",
       "customerID                                                          \n",
       "7590-VHVEG  2020-01-01       No  Month-to-month               Yes   \n",
       "5575-GNVDE  2017-04-01       No        One year                No   \n",
       "3668-QPYBK  2019-10-01       No  Month-to-month               Yes   \n",
       "7795-CFOCW  2016-05-01       No        One year                No   \n",
       "9237-HQITU  2019-09-01       No  Month-to-month               Yes   \n",
       "\n",
       "                       payment_method  monthly_charges total_charges  gender  \\\n",
       "customerID                                                                     \n",
       "7590-VHVEG           Electronic check            29.85         31.04  Female   \n",
       "5575-GNVDE               Mailed check            56.95       2071.84    Male   \n",
       "3668-QPYBK               Mailed check            53.85        226.17    Male   \n",
       "7795-CFOCW  Bank transfer (automatic)            42.30        1960.6    Male   \n",
       "9237-HQITU           Electronic check            70.70         353.5  Female   \n",
       "\n",
       "            senior_citizen partner dependents internet_service  \\\n",
       "customerID                                                       \n",
       "7590-VHVEG               0     Yes         No              DSL   \n",
       "5575-GNVDE               0      No         No              DSL   \n",
       "3668-QPYBK               0      No         No              DSL   \n",
       "7795-CFOCW               0      No         No              DSL   \n",
       "9237-HQITU               0      No         No      Fiber optic   \n",
       "\n",
       "           online_security online_backup device_protection tech_support  \\\n",
       "customerID                                                                \n",
       "7590-VHVEG              No           Yes                No           No   \n",
       "5575-GNVDE             Yes            No               Yes           No   \n",
       "3668-QPYBK             Yes           Yes                No           No   \n",
       "7795-CFOCW             Yes            No               Yes          Yes   \n",
       "9237-HQITU              No            No                No           No   \n",
       "\n",
       "           streaming_tv streaming_movies multiple_lines  \n",
       "customerID                                               \n",
       "7590-VHVEG           No               No            NaN  \n",
       "5575-GNVDE           No               No             No  \n",
       "3668-QPYBK           No               No             No  \n",
       "7795-CFOCW           No               No            NaN  \n",
       "9237-HQITU           No               No             No  "
      ]
     },
     "execution_count": 6,
     "metadata": {},
     "output_type": "execute_result"
    }
   ],
   "source": [
    "def camel_to_snake(column_name):\n",
    "    # Используем регулярное выражение, чтобы разделить CamelCase на snake_case:\n",
    "    s1 = re.sub('(.)([A-Z][a-z]+)', r'\\1_\\2', column_name)\n",
    "    converted_name = re.sub('([a-z0-9])([A-Z])', r'\\1_\\2', s1).lower()\n",
    "    return converted_name\n",
    "\n",
    "def convert_column_names(df):\n",
    "    new_columns = []\n",
    "    for column in df.columns:\n",
    "        converted_name = camel_to_snake(column)\n",
    "        new_columns.append(converted_name)\n",
    "    df.columns = new_columns\n",
    "    return df\n",
    "\n",
    "data = convert_column_names(data)\n",
    "data.head()"
   ]
  },
  {
   "cell_type": "markdown",
   "id": "071078b5",
   "metadata": {},
   "source": [
    "Прежде чем изменять данные, стоит выделить целевой признак и вынести его в отдельный столбец `is_client`:"
   ]
  },
  {
   "cell_type": "code",
   "execution_count": 7,
   "id": "c511b63c",
   "metadata": {},
   "outputs": [
    {
     "data": {
      "text/html": [
       "<div>\n",
       "<style scoped>\n",
       "    .dataframe tbody tr th:only-of-type {\n",
       "        vertical-align: middle;\n",
       "    }\n",
       "\n",
       "    .dataframe tbody tr th {\n",
       "        vertical-align: top;\n",
       "    }\n",
       "\n",
       "    .dataframe thead th {\n",
       "        text-align: right;\n",
       "    }\n",
       "</style>\n",
       "<table border=\"1\" class=\"dataframe\">\n",
       "  <thead>\n",
       "    <tr style=\"text-align: right;\">\n",
       "      <th></th>\n",
       "      <th>begin_date</th>\n",
       "      <th>end_date</th>\n",
       "      <th>type</th>\n",
       "      <th>paperless_billing</th>\n",
       "      <th>payment_method</th>\n",
       "      <th>monthly_charges</th>\n",
       "      <th>total_charges</th>\n",
       "      <th>gender</th>\n",
       "      <th>senior_citizen</th>\n",
       "      <th>partner</th>\n",
       "      <th>dependents</th>\n",
       "      <th>internet_service</th>\n",
       "      <th>online_security</th>\n",
       "      <th>online_backup</th>\n",
       "      <th>device_protection</th>\n",
       "      <th>tech_support</th>\n",
       "      <th>streaming_tv</th>\n",
       "      <th>streaming_movies</th>\n",
       "      <th>multiple_lines</th>\n",
       "      <th>is_client</th>\n",
       "    </tr>\n",
       "    <tr>\n",
       "      <th>customerID</th>\n",
       "      <th></th>\n",
       "      <th></th>\n",
       "      <th></th>\n",
       "      <th></th>\n",
       "      <th></th>\n",
       "      <th></th>\n",
       "      <th></th>\n",
       "      <th></th>\n",
       "      <th></th>\n",
       "      <th></th>\n",
       "      <th></th>\n",
       "      <th></th>\n",
       "      <th></th>\n",
       "      <th></th>\n",
       "      <th></th>\n",
       "      <th></th>\n",
       "      <th></th>\n",
       "      <th></th>\n",
       "      <th></th>\n",
       "      <th></th>\n",
       "    </tr>\n",
       "  </thead>\n",
       "  <tbody>\n",
       "    <tr>\n",
       "      <th>7590-VHVEG</th>\n",
       "      <td>2020-01-01</td>\n",
       "      <td>No</td>\n",
       "      <td>Month-to-month</td>\n",
       "      <td>Yes</td>\n",
       "      <td>Electronic check</td>\n",
       "      <td>29.85</td>\n",
       "      <td>31.04</td>\n",
       "      <td>Female</td>\n",
       "      <td>0</td>\n",
       "      <td>Yes</td>\n",
       "      <td>No</td>\n",
       "      <td>DSL</td>\n",
       "      <td>No</td>\n",
       "      <td>Yes</td>\n",
       "      <td>No</td>\n",
       "      <td>No</td>\n",
       "      <td>No</td>\n",
       "      <td>No</td>\n",
       "      <td>NaN</td>\n",
       "      <td>1</td>\n",
       "    </tr>\n",
       "    <tr>\n",
       "      <th>5575-GNVDE</th>\n",
       "      <td>2017-04-01</td>\n",
       "      <td>No</td>\n",
       "      <td>One year</td>\n",
       "      <td>No</td>\n",
       "      <td>Mailed check</td>\n",
       "      <td>56.95</td>\n",
       "      <td>2071.84</td>\n",
       "      <td>Male</td>\n",
       "      <td>0</td>\n",
       "      <td>No</td>\n",
       "      <td>No</td>\n",
       "      <td>DSL</td>\n",
       "      <td>Yes</td>\n",
       "      <td>No</td>\n",
       "      <td>Yes</td>\n",
       "      <td>No</td>\n",
       "      <td>No</td>\n",
       "      <td>No</td>\n",
       "      <td>No</td>\n",
       "      <td>1</td>\n",
       "    </tr>\n",
       "    <tr>\n",
       "      <th>3668-QPYBK</th>\n",
       "      <td>2019-10-01</td>\n",
       "      <td>No</td>\n",
       "      <td>Month-to-month</td>\n",
       "      <td>Yes</td>\n",
       "      <td>Mailed check</td>\n",
       "      <td>53.85</td>\n",
       "      <td>226.17</td>\n",
       "      <td>Male</td>\n",
       "      <td>0</td>\n",
       "      <td>No</td>\n",
       "      <td>No</td>\n",
       "      <td>DSL</td>\n",
       "      <td>Yes</td>\n",
       "      <td>Yes</td>\n",
       "      <td>No</td>\n",
       "      <td>No</td>\n",
       "      <td>No</td>\n",
       "      <td>No</td>\n",
       "      <td>No</td>\n",
       "      <td>1</td>\n",
       "    </tr>\n",
       "    <tr>\n",
       "      <th>7795-CFOCW</th>\n",
       "      <td>2016-05-01</td>\n",
       "      <td>No</td>\n",
       "      <td>One year</td>\n",
       "      <td>No</td>\n",
       "      <td>Bank transfer (automatic)</td>\n",
       "      <td>42.30</td>\n",
       "      <td>1960.6</td>\n",
       "      <td>Male</td>\n",
       "      <td>0</td>\n",
       "      <td>No</td>\n",
       "      <td>No</td>\n",
       "      <td>DSL</td>\n",
       "      <td>Yes</td>\n",
       "      <td>No</td>\n",
       "      <td>Yes</td>\n",
       "      <td>Yes</td>\n",
       "      <td>No</td>\n",
       "      <td>No</td>\n",
       "      <td>NaN</td>\n",
       "      <td>1</td>\n",
       "    </tr>\n",
       "    <tr>\n",
       "      <th>9237-HQITU</th>\n",
       "      <td>2019-09-01</td>\n",
       "      <td>No</td>\n",
       "      <td>Month-to-month</td>\n",
       "      <td>Yes</td>\n",
       "      <td>Electronic check</td>\n",
       "      <td>70.70</td>\n",
       "      <td>353.5</td>\n",
       "      <td>Female</td>\n",
       "      <td>0</td>\n",
       "      <td>No</td>\n",
       "      <td>No</td>\n",
       "      <td>Fiber optic</td>\n",
       "      <td>No</td>\n",
       "      <td>No</td>\n",
       "      <td>No</td>\n",
       "      <td>No</td>\n",
       "      <td>No</td>\n",
       "      <td>No</td>\n",
       "      <td>No</td>\n",
       "      <td>1</td>\n",
       "    </tr>\n",
       "  </tbody>\n",
       "</table>\n",
       "</div>"
      ],
      "text/plain": [
       "            begin_date end_date            type paperless_billing  \\\n",
       "customerID                                                          \n",
       "7590-VHVEG  2020-01-01       No  Month-to-month               Yes   \n",
       "5575-GNVDE  2017-04-01       No        One year                No   \n",
       "3668-QPYBK  2019-10-01       No  Month-to-month               Yes   \n",
       "7795-CFOCW  2016-05-01       No        One year                No   \n",
       "9237-HQITU  2019-09-01       No  Month-to-month               Yes   \n",
       "\n",
       "                       payment_method  monthly_charges total_charges  gender  \\\n",
       "customerID                                                                     \n",
       "7590-VHVEG           Electronic check            29.85         31.04  Female   \n",
       "5575-GNVDE               Mailed check            56.95       2071.84    Male   \n",
       "3668-QPYBK               Mailed check            53.85        226.17    Male   \n",
       "7795-CFOCW  Bank transfer (automatic)            42.30        1960.6    Male   \n",
       "9237-HQITU           Electronic check            70.70         353.5  Female   \n",
       "\n",
       "            senior_citizen partner dependents internet_service  \\\n",
       "customerID                                                       \n",
       "7590-VHVEG               0     Yes         No              DSL   \n",
       "5575-GNVDE               0      No         No              DSL   \n",
       "3668-QPYBK               0      No         No              DSL   \n",
       "7795-CFOCW               0      No         No              DSL   \n",
       "9237-HQITU               0      No         No      Fiber optic   \n",
       "\n",
       "           online_security online_backup device_protection tech_support  \\\n",
       "customerID                                                                \n",
       "7590-VHVEG              No           Yes                No           No   \n",
       "5575-GNVDE             Yes            No               Yes           No   \n",
       "3668-QPYBK             Yes           Yes                No           No   \n",
       "7795-CFOCW             Yes            No               Yes          Yes   \n",
       "9237-HQITU              No            No                No           No   \n",
       "\n",
       "           streaming_tv streaming_movies multiple_lines  is_client  \n",
       "customerID                                                          \n",
       "7590-VHVEG           No               No            NaN          1  \n",
       "5575-GNVDE           No               No             No          1  \n",
       "3668-QPYBK           No               No             No          1  \n",
       "7795-CFOCW           No               No            NaN          1  \n",
       "9237-HQITU           No               No             No          1  "
      ]
     },
     "execution_count": 7,
     "metadata": {},
     "output_type": "execute_result"
    }
   ],
   "source": [
    "def client_outflow(enddate):\n",
    "    if enddate == 'No':\n",
    "        return 1\n",
    "    else:\n",
    "        return 0\n",
    "\n",
    "data['is_client'] = data['end_date'].apply(client_outflow)\n",
    "data.head()"
   ]
  },
  {
   "cell_type": "markdown",
   "id": "26ddd1de",
   "metadata": {},
   "source": [
    "От столбца `total_charges` можно избавиться, так как для обучения модели гораздо важнее иметь информацию \"сколько клиент платит в месяц\", чем сумма платежей каждого клиента:"
   ]
  },
  {
   "cell_type": "code",
   "execution_count": 8,
   "id": "fd9b7789",
   "metadata": {
    "scrolled": false
   },
   "outputs": [
    {
     "data": {
      "text/html": [
       "<div>\n",
       "<style scoped>\n",
       "    .dataframe tbody tr th:only-of-type {\n",
       "        vertical-align: middle;\n",
       "    }\n",
       "\n",
       "    .dataframe tbody tr th {\n",
       "        vertical-align: top;\n",
       "    }\n",
       "\n",
       "    .dataframe thead th {\n",
       "        text-align: right;\n",
       "    }\n",
       "</style>\n",
       "<table border=\"1\" class=\"dataframe\">\n",
       "  <thead>\n",
       "    <tr style=\"text-align: right;\">\n",
       "      <th></th>\n",
       "      <th>begin_date</th>\n",
       "      <th>end_date</th>\n",
       "      <th>type</th>\n",
       "      <th>paperless_billing</th>\n",
       "      <th>payment_method</th>\n",
       "      <th>monthly_charges</th>\n",
       "      <th>gender</th>\n",
       "      <th>senior_citizen</th>\n",
       "      <th>partner</th>\n",
       "      <th>dependents</th>\n",
       "      <th>internet_service</th>\n",
       "      <th>online_security</th>\n",
       "      <th>online_backup</th>\n",
       "      <th>device_protection</th>\n",
       "      <th>tech_support</th>\n",
       "      <th>streaming_tv</th>\n",
       "      <th>streaming_movies</th>\n",
       "      <th>multiple_lines</th>\n",
       "      <th>is_client</th>\n",
       "    </tr>\n",
       "    <tr>\n",
       "      <th>customerID</th>\n",
       "      <th></th>\n",
       "      <th></th>\n",
       "      <th></th>\n",
       "      <th></th>\n",
       "      <th></th>\n",
       "      <th></th>\n",
       "      <th></th>\n",
       "      <th></th>\n",
       "      <th></th>\n",
       "      <th></th>\n",
       "      <th></th>\n",
       "      <th></th>\n",
       "      <th></th>\n",
       "      <th></th>\n",
       "      <th></th>\n",
       "      <th></th>\n",
       "      <th></th>\n",
       "      <th></th>\n",
       "      <th></th>\n",
       "    </tr>\n",
       "  </thead>\n",
       "  <tbody>\n",
       "    <tr>\n",
       "      <th>7590-VHVEG</th>\n",
       "      <td>2020-01-01</td>\n",
       "      <td>No</td>\n",
       "      <td>Month-to-month</td>\n",
       "      <td>Yes</td>\n",
       "      <td>Electronic check</td>\n",
       "      <td>29.85</td>\n",
       "      <td>Female</td>\n",
       "      <td>0</td>\n",
       "      <td>Yes</td>\n",
       "      <td>No</td>\n",
       "      <td>DSL</td>\n",
       "      <td>No</td>\n",
       "      <td>Yes</td>\n",
       "      <td>No</td>\n",
       "      <td>No</td>\n",
       "      <td>No</td>\n",
       "      <td>No</td>\n",
       "      <td>NaN</td>\n",
       "      <td>1</td>\n",
       "    </tr>\n",
       "    <tr>\n",
       "      <th>5575-GNVDE</th>\n",
       "      <td>2017-04-01</td>\n",
       "      <td>No</td>\n",
       "      <td>One year</td>\n",
       "      <td>No</td>\n",
       "      <td>Mailed check</td>\n",
       "      <td>56.95</td>\n",
       "      <td>Male</td>\n",
       "      <td>0</td>\n",
       "      <td>No</td>\n",
       "      <td>No</td>\n",
       "      <td>DSL</td>\n",
       "      <td>Yes</td>\n",
       "      <td>No</td>\n",
       "      <td>Yes</td>\n",
       "      <td>No</td>\n",
       "      <td>No</td>\n",
       "      <td>No</td>\n",
       "      <td>No</td>\n",
       "      <td>1</td>\n",
       "    </tr>\n",
       "    <tr>\n",
       "      <th>3668-QPYBK</th>\n",
       "      <td>2019-10-01</td>\n",
       "      <td>No</td>\n",
       "      <td>Month-to-month</td>\n",
       "      <td>Yes</td>\n",
       "      <td>Mailed check</td>\n",
       "      <td>53.85</td>\n",
       "      <td>Male</td>\n",
       "      <td>0</td>\n",
       "      <td>No</td>\n",
       "      <td>No</td>\n",
       "      <td>DSL</td>\n",
       "      <td>Yes</td>\n",
       "      <td>Yes</td>\n",
       "      <td>No</td>\n",
       "      <td>No</td>\n",
       "      <td>No</td>\n",
       "      <td>No</td>\n",
       "      <td>No</td>\n",
       "      <td>1</td>\n",
       "    </tr>\n",
       "    <tr>\n",
       "      <th>7795-CFOCW</th>\n",
       "      <td>2016-05-01</td>\n",
       "      <td>No</td>\n",
       "      <td>One year</td>\n",
       "      <td>No</td>\n",
       "      <td>Bank transfer (automatic)</td>\n",
       "      <td>42.30</td>\n",
       "      <td>Male</td>\n",
       "      <td>0</td>\n",
       "      <td>No</td>\n",
       "      <td>No</td>\n",
       "      <td>DSL</td>\n",
       "      <td>Yes</td>\n",
       "      <td>No</td>\n",
       "      <td>Yes</td>\n",
       "      <td>Yes</td>\n",
       "      <td>No</td>\n",
       "      <td>No</td>\n",
       "      <td>NaN</td>\n",
       "      <td>1</td>\n",
       "    </tr>\n",
       "    <tr>\n",
       "      <th>9237-HQITU</th>\n",
       "      <td>2019-09-01</td>\n",
       "      <td>No</td>\n",
       "      <td>Month-to-month</td>\n",
       "      <td>Yes</td>\n",
       "      <td>Electronic check</td>\n",
       "      <td>70.70</td>\n",
       "      <td>Female</td>\n",
       "      <td>0</td>\n",
       "      <td>No</td>\n",
       "      <td>No</td>\n",
       "      <td>Fiber optic</td>\n",
       "      <td>No</td>\n",
       "      <td>No</td>\n",
       "      <td>No</td>\n",
       "      <td>No</td>\n",
       "      <td>No</td>\n",
       "      <td>No</td>\n",
       "      <td>No</td>\n",
       "      <td>1</td>\n",
       "    </tr>\n",
       "  </tbody>\n",
       "</table>\n",
       "</div>"
      ],
      "text/plain": [
       "            begin_date end_date            type paperless_billing  \\\n",
       "customerID                                                          \n",
       "7590-VHVEG  2020-01-01       No  Month-to-month               Yes   \n",
       "5575-GNVDE  2017-04-01       No        One year                No   \n",
       "3668-QPYBK  2019-10-01       No  Month-to-month               Yes   \n",
       "7795-CFOCW  2016-05-01       No        One year                No   \n",
       "9237-HQITU  2019-09-01       No  Month-to-month               Yes   \n",
       "\n",
       "                       payment_method  monthly_charges  gender  \\\n",
       "customerID                                                       \n",
       "7590-VHVEG           Electronic check            29.85  Female   \n",
       "5575-GNVDE               Mailed check            56.95    Male   \n",
       "3668-QPYBK               Mailed check            53.85    Male   \n",
       "7795-CFOCW  Bank transfer (automatic)            42.30    Male   \n",
       "9237-HQITU           Electronic check            70.70  Female   \n",
       "\n",
       "            senior_citizen partner dependents internet_service  \\\n",
       "customerID                                                       \n",
       "7590-VHVEG               0     Yes         No              DSL   \n",
       "5575-GNVDE               0      No         No              DSL   \n",
       "3668-QPYBK               0      No         No              DSL   \n",
       "7795-CFOCW               0      No         No              DSL   \n",
       "9237-HQITU               0      No         No      Fiber optic   \n",
       "\n",
       "           online_security online_backup device_protection tech_support  \\\n",
       "customerID                                                                \n",
       "7590-VHVEG              No           Yes                No           No   \n",
       "5575-GNVDE             Yes            No               Yes           No   \n",
       "3668-QPYBK             Yes           Yes                No           No   \n",
       "7795-CFOCW             Yes            No               Yes          Yes   \n",
       "9237-HQITU              No            No                No           No   \n",
       "\n",
       "           streaming_tv streaming_movies multiple_lines  is_client  \n",
       "customerID                                                          \n",
       "7590-VHVEG           No               No            NaN          1  \n",
       "5575-GNVDE           No               No             No          1  \n",
       "3668-QPYBK           No               No             No          1  \n",
       "7795-CFOCW           No               No            NaN          1  \n",
       "9237-HQITU           No               No             No          1  "
      ]
     },
     "execution_count": 8,
     "metadata": {},
     "output_type": "execute_result"
    }
   ],
   "source": [
    "data.drop('total_charges', axis=1, inplace=True)\n",
    "data.head()"
   ]
  },
  {
   "cell_type": "markdown",
   "id": "385e166e",
   "metadata": {},
   "source": [
    "Чтобы привести к формату даты столбцы `begin_date` и `end_date` необходимо заполнить пропуски в `end_date` последней актуальной для наших данных датой - 01.02.2020, поскольку отсутствие конечной даты означает, что человек всё ещё является клиентом компании. Но сперва убедимся, что эта дата не встречается в выборке:"
   ]
  },
  {
   "cell_type": "code",
   "execution_count": 9,
   "id": "d4c8d15f",
   "metadata": {},
   "outputs": [
    {
     "data": {
      "text/plain": [
       "0"
      ]
     },
     "execution_count": 9,
     "metadata": {},
     "output_type": "execute_result"
    }
   ],
   "source": [
    "count = len(data[data['end_date'] == '2020-02-01'])\n",
    "count"
   ]
  },
  {
   "cell_type": "markdown",
   "id": "47263d23",
   "metadata": {},
   "source": [
    "Первое февраля 2020 года не встречается в выборке. Продолжим намеченную операцию:"
   ]
  },
  {
   "cell_type": "code",
   "execution_count": 10,
   "id": "ffb7d899",
   "metadata": {
    "scrolled": true
   },
   "outputs": [
    {
     "data": {
      "text/html": [
       "<div>\n",
       "<style scoped>\n",
       "    .dataframe tbody tr th:only-of-type {\n",
       "        vertical-align: middle;\n",
       "    }\n",
       "\n",
       "    .dataframe tbody tr th {\n",
       "        vertical-align: top;\n",
       "    }\n",
       "\n",
       "    .dataframe thead th {\n",
       "        text-align: right;\n",
       "    }\n",
       "</style>\n",
       "<table border=\"1\" class=\"dataframe\">\n",
       "  <thead>\n",
       "    <tr style=\"text-align: right;\">\n",
       "      <th></th>\n",
       "      <th>begin_date</th>\n",
       "      <th>end_date</th>\n",
       "      <th>type</th>\n",
       "      <th>paperless_billing</th>\n",
       "      <th>payment_method</th>\n",
       "      <th>monthly_charges</th>\n",
       "      <th>gender</th>\n",
       "      <th>senior_citizen</th>\n",
       "      <th>partner</th>\n",
       "      <th>dependents</th>\n",
       "      <th>internet_service</th>\n",
       "      <th>online_security</th>\n",
       "      <th>online_backup</th>\n",
       "      <th>device_protection</th>\n",
       "      <th>tech_support</th>\n",
       "      <th>streaming_tv</th>\n",
       "      <th>streaming_movies</th>\n",
       "      <th>multiple_lines</th>\n",
       "      <th>is_client</th>\n",
       "    </tr>\n",
       "    <tr>\n",
       "      <th>customerID</th>\n",
       "      <th></th>\n",
       "      <th></th>\n",
       "      <th></th>\n",
       "      <th></th>\n",
       "      <th></th>\n",
       "      <th></th>\n",
       "      <th></th>\n",
       "      <th></th>\n",
       "      <th></th>\n",
       "      <th></th>\n",
       "      <th></th>\n",
       "      <th></th>\n",
       "      <th></th>\n",
       "      <th></th>\n",
       "      <th></th>\n",
       "      <th></th>\n",
       "      <th></th>\n",
       "      <th></th>\n",
       "      <th></th>\n",
       "    </tr>\n",
       "  </thead>\n",
       "  <tbody>\n",
       "    <tr>\n",
       "      <th>7590-VHVEG</th>\n",
       "      <td>2020-01-01</td>\n",
       "      <td>2020-02-01</td>\n",
       "      <td>Month-to-month</td>\n",
       "      <td>Yes</td>\n",
       "      <td>Electronic check</td>\n",
       "      <td>29.85</td>\n",
       "      <td>Female</td>\n",
       "      <td>0</td>\n",
       "      <td>Yes</td>\n",
       "      <td>No</td>\n",
       "      <td>DSL</td>\n",
       "      <td>No</td>\n",
       "      <td>Yes</td>\n",
       "      <td>No</td>\n",
       "      <td>No</td>\n",
       "      <td>No</td>\n",
       "      <td>No</td>\n",
       "      <td>NaN</td>\n",
       "      <td>1</td>\n",
       "    </tr>\n",
       "    <tr>\n",
       "      <th>5575-GNVDE</th>\n",
       "      <td>2017-04-01</td>\n",
       "      <td>2020-02-01</td>\n",
       "      <td>One year</td>\n",
       "      <td>No</td>\n",
       "      <td>Mailed check</td>\n",
       "      <td>56.95</td>\n",
       "      <td>Male</td>\n",
       "      <td>0</td>\n",
       "      <td>No</td>\n",
       "      <td>No</td>\n",
       "      <td>DSL</td>\n",
       "      <td>Yes</td>\n",
       "      <td>No</td>\n",
       "      <td>Yes</td>\n",
       "      <td>No</td>\n",
       "      <td>No</td>\n",
       "      <td>No</td>\n",
       "      <td>No</td>\n",
       "      <td>1</td>\n",
       "    </tr>\n",
       "    <tr>\n",
       "      <th>3668-QPYBK</th>\n",
       "      <td>2019-10-01</td>\n",
       "      <td>2020-02-01</td>\n",
       "      <td>Month-to-month</td>\n",
       "      <td>Yes</td>\n",
       "      <td>Mailed check</td>\n",
       "      <td>53.85</td>\n",
       "      <td>Male</td>\n",
       "      <td>0</td>\n",
       "      <td>No</td>\n",
       "      <td>No</td>\n",
       "      <td>DSL</td>\n",
       "      <td>Yes</td>\n",
       "      <td>Yes</td>\n",
       "      <td>No</td>\n",
       "      <td>No</td>\n",
       "      <td>No</td>\n",
       "      <td>No</td>\n",
       "      <td>No</td>\n",
       "      <td>1</td>\n",
       "    </tr>\n",
       "    <tr>\n",
       "      <th>7795-CFOCW</th>\n",
       "      <td>2016-05-01</td>\n",
       "      <td>2020-02-01</td>\n",
       "      <td>One year</td>\n",
       "      <td>No</td>\n",
       "      <td>Bank transfer (automatic)</td>\n",
       "      <td>42.30</td>\n",
       "      <td>Male</td>\n",
       "      <td>0</td>\n",
       "      <td>No</td>\n",
       "      <td>No</td>\n",
       "      <td>DSL</td>\n",
       "      <td>Yes</td>\n",
       "      <td>No</td>\n",
       "      <td>Yes</td>\n",
       "      <td>Yes</td>\n",
       "      <td>No</td>\n",
       "      <td>No</td>\n",
       "      <td>NaN</td>\n",
       "      <td>1</td>\n",
       "    </tr>\n",
       "    <tr>\n",
       "      <th>9237-HQITU</th>\n",
       "      <td>2019-09-01</td>\n",
       "      <td>2020-02-01</td>\n",
       "      <td>Month-to-month</td>\n",
       "      <td>Yes</td>\n",
       "      <td>Electronic check</td>\n",
       "      <td>70.70</td>\n",
       "      <td>Female</td>\n",
       "      <td>0</td>\n",
       "      <td>No</td>\n",
       "      <td>No</td>\n",
       "      <td>Fiber optic</td>\n",
       "      <td>No</td>\n",
       "      <td>No</td>\n",
       "      <td>No</td>\n",
       "      <td>No</td>\n",
       "      <td>No</td>\n",
       "      <td>No</td>\n",
       "      <td>No</td>\n",
       "      <td>1</td>\n",
       "    </tr>\n",
       "  </tbody>\n",
       "</table>\n",
       "</div>"
      ],
      "text/plain": [
       "            begin_date    end_date            type paperless_billing  \\\n",
       "customerID                                                             \n",
       "7590-VHVEG  2020-01-01  2020-02-01  Month-to-month               Yes   \n",
       "5575-GNVDE  2017-04-01  2020-02-01        One year                No   \n",
       "3668-QPYBK  2019-10-01  2020-02-01  Month-to-month               Yes   \n",
       "7795-CFOCW  2016-05-01  2020-02-01        One year                No   \n",
       "9237-HQITU  2019-09-01  2020-02-01  Month-to-month               Yes   \n",
       "\n",
       "                       payment_method  monthly_charges  gender  \\\n",
       "customerID                                                       \n",
       "7590-VHVEG           Electronic check            29.85  Female   \n",
       "5575-GNVDE               Mailed check            56.95    Male   \n",
       "3668-QPYBK               Mailed check            53.85    Male   \n",
       "7795-CFOCW  Bank transfer (automatic)            42.30    Male   \n",
       "9237-HQITU           Electronic check            70.70  Female   \n",
       "\n",
       "            senior_citizen partner dependents internet_service  \\\n",
       "customerID                                                       \n",
       "7590-VHVEG               0     Yes         No              DSL   \n",
       "5575-GNVDE               0      No         No              DSL   \n",
       "3668-QPYBK               0      No         No              DSL   \n",
       "7795-CFOCW               0      No         No              DSL   \n",
       "9237-HQITU               0      No         No      Fiber optic   \n",
       "\n",
       "           online_security online_backup device_protection tech_support  \\\n",
       "customerID                                                                \n",
       "7590-VHVEG              No           Yes                No           No   \n",
       "5575-GNVDE             Yes            No               Yes           No   \n",
       "3668-QPYBK             Yes           Yes                No           No   \n",
       "7795-CFOCW             Yes            No               Yes          Yes   \n",
       "9237-HQITU              No            No                No           No   \n",
       "\n",
       "           streaming_tv streaming_movies multiple_lines  is_client  \n",
       "customerID                                                          \n",
       "7590-VHVEG           No               No            NaN          1  \n",
       "5575-GNVDE           No               No             No          1  \n",
       "3668-QPYBK           No               No             No          1  \n",
       "7795-CFOCW           No               No            NaN          1  \n",
       "9237-HQITU           No               No             No          1  "
      ]
     },
     "execution_count": 10,
     "metadata": {},
     "output_type": "execute_result"
    }
   ],
   "source": [
    "data['end_date'] = data['end_date'].replace('No', '2020-02-01')\n",
    "# Выведем результат:\n",
    "data.head()"
   ]
  },
  {
   "cell_type": "markdown",
   "id": "9110aa1c",
   "metadata": {},
   "source": [
    "Приведём к формату `datetime` столбцы `begin_date` и `end_date` и выведем результат:"
   ]
  },
  {
   "cell_type": "code",
   "execution_count": 11,
   "id": "4e1240b6",
   "metadata": {
    "scrolled": true
   },
   "outputs": [
    {
     "name": "stdout",
     "output_type": "stream",
     "text": [
      "begin_date           datetime64[ns]\n",
      "end_date             datetime64[ns]\n",
      "type                         object\n",
      "paperless_billing            object\n",
      "payment_method               object\n",
      "monthly_charges             float64\n",
      "gender                       object\n",
      "senior_citizen                int64\n",
      "partner                      object\n",
      "dependents                   object\n",
      "internet_service             object\n",
      "online_security              object\n",
      "online_backup                object\n",
      "device_protection            object\n",
      "tech_support                 object\n",
      "streaming_tv                 object\n",
      "streaming_movies             object\n",
      "multiple_lines               object\n",
      "is_client                     int64\n",
      "dtype: object\n"
     ]
    }
   ],
   "source": [
    "data['begin_date'] = pd.to_datetime(data['begin_date'])\n",
    "data['end_date'] = pd.to_datetime(data['end_date'])\n",
    "\n",
    "# Вывод типов данных столбцов после конвертации\n",
    "print(data.dtypes)"
   ]
  },
  {
   "cell_type": "markdown",
   "id": "4dcdf49a",
   "metadata": {},
   "source": [
    "Изучим пропуски в генеральной выборке: "
   ]
  },
  {
   "cell_type": "code",
   "execution_count": 12,
   "id": "45fa9ca1",
   "metadata": {
    "scrolled": false
   },
   "outputs": [
    {
     "data": {
      "text/plain": [
       "internet_service     1526\n",
       "online_security      1526\n",
       "online_backup        1526\n",
       "device_protection    1526\n",
       "tech_support         1526\n",
       "streaming_tv         1526\n",
       "streaming_movies     1526\n",
       "multiple_lines        682\n",
       "dtype: int64"
      ]
     },
     "execution_count": 12,
     "metadata": {},
     "output_type": "execute_result"
    }
   ],
   "source": [
    "missing_values = data.isna().sum()\n",
    "missing_values = missing_values[missing_values != 0]\n",
    "missing_values"
   ]
  },
  {
   "cell_type": "markdown",
   "id": "ce41807b",
   "metadata": {},
   "source": [
    "С целью заполнения пропусков в генеральной выборке воспользуемся \"заглушкой\" `NotUsed` и заполним ею пустые ячейки:"
   ]
  },
  {
   "cell_type": "code",
   "execution_count": 13,
   "id": "fc5537de",
   "metadata": {},
   "outputs": [
    {
     "data": {
      "text/plain": [
       "Series([], dtype: int64)"
      ]
     },
     "metadata": {},
     "output_type": "display_data"
    }
   ],
   "source": [
    "data = data.fillna('NotUsed')\n",
    "missing_values = data.isna().sum()\n",
    "missing_values = missing_values[missing_values != 0]\n",
    "display(missing_values)\n",
    "del missing_values"
   ]
  },
  {
   "cell_type": "markdown",
   "id": "eabaf0a5",
   "metadata": {},
   "source": [
    "Добавим в выборку столбец `was_client_for`, в котором отразим, сколько суток человек являлся потребителем услуг компании: "
   ]
  },
  {
   "cell_type": "code",
   "execution_count": 14,
   "id": "988fe7a1",
   "metadata": {},
   "outputs": [
    {
     "data": {
      "text/html": [
       "<div>\n",
       "<style scoped>\n",
       "    .dataframe tbody tr th:only-of-type {\n",
       "        vertical-align: middle;\n",
       "    }\n",
       "\n",
       "    .dataframe tbody tr th {\n",
       "        vertical-align: top;\n",
       "    }\n",
       "\n",
       "    .dataframe thead th {\n",
       "        text-align: right;\n",
       "    }\n",
       "</style>\n",
       "<table border=\"1\" class=\"dataframe\">\n",
       "  <thead>\n",
       "    <tr style=\"text-align: right;\">\n",
       "      <th></th>\n",
       "      <th>begin_date</th>\n",
       "      <th>end_date</th>\n",
       "      <th>type</th>\n",
       "      <th>paperless_billing</th>\n",
       "      <th>payment_method</th>\n",
       "      <th>monthly_charges</th>\n",
       "      <th>gender</th>\n",
       "      <th>senior_citizen</th>\n",
       "      <th>partner</th>\n",
       "      <th>dependents</th>\n",
       "      <th>internet_service</th>\n",
       "      <th>online_security</th>\n",
       "      <th>online_backup</th>\n",
       "      <th>device_protection</th>\n",
       "      <th>tech_support</th>\n",
       "      <th>streaming_tv</th>\n",
       "      <th>streaming_movies</th>\n",
       "      <th>multiple_lines</th>\n",
       "      <th>is_client</th>\n",
       "      <th>was_client_for</th>\n",
       "    </tr>\n",
       "    <tr>\n",
       "      <th>customerID</th>\n",
       "      <th></th>\n",
       "      <th></th>\n",
       "      <th></th>\n",
       "      <th></th>\n",
       "      <th></th>\n",
       "      <th></th>\n",
       "      <th></th>\n",
       "      <th></th>\n",
       "      <th></th>\n",
       "      <th></th>\n",
       "      <th></th>\n",
       "      <th></th>\n",
       "      <th></th>\n",
       "      <th></th>\n",
       "      <th></th>\n",
       "      <th></th>\n",
       "      <th></th>\n",
       "      <th></th>\n",
       "      <th></th>\n",
       "      <th></th>\n",
       "    </tr>\n",
       "  </thead>\n",
       "  <tbody>\n",
       "    <tr>\n",
       "      <th>7590-VHVEG</th>\n",
       "      <td>2020-01-01</td>\n",
       "      <td>2020-02-01</td>\n",
       "      <td>Month-to-month</td>\n",
       "      <td>Yes</td>\n",
       "      <td>Electronic check</td>\n",
       "      <td>29.85</td>\n",
       "      <td>Female</td>\n",
       "      <td>0</td>\n",
       "      <td>Yes</td>\n",
       "      <td>No</td>\n",
       "      <td>DSL</td>\n",
       "      <td>No</td>\n",
       "      <td>Yes</td>\n",
       "      <td>No</td>\n",
       "      <td>No</td>\n",
       "      <td>No</td>\n",
       "      <td>No</td>\n",
       "      <td>NotUsed</td>\n",
       "      <td>1</td>\n",
       "      <td>31</td>\n",
       "    </tr>\n",
       "    <tr>\n",
       "      <th>5575-GNVDE</th>\n",
       "      <td>2017-04-01</td>\n",
       "      <td>2020-02-01</td>\n",
       "      <td>One year</td>\n",
       "      <td>No</td>\n",
       "      <td>Mailed check</td>\n",
       "      <td>56.95</td>\n",
       "      <td>Male</td>\n",
       "      <td>0</td>\n",
       "      <td>No</td>\n",
       "      <td>No</td>\n",
       "      <td>DSL</td>\n",
       "      <td>Yes</td>\n",
       "      <td>No</td>\n",
       "      <td>Yes</td>\n",
       "      <td>No</td>\n",
       "      <td>No</td>\n",
       "      <td>No</td>\n",
       "      <td>No</td>\n",
       "      <td>1</td>\n",
       "      <td>1036</td>\n",
       "    </tr>\n",
       "    <tr>\n",
       "      <th>3668-QPYBK</th>\n",
       "      <td>2019-10-01</td>\n",
       "      <td>2020-02-01</td>\n",
       "      <td>Month-to-month</td>\n",
       "      <td>Yes</td>\n",
       "      <td>Mailed check</td>\n",
       "      <td>53.85</td>\n",
       "      <td>Male</td>\n",
       "      <td>0</td>\n",
       "      <td>No</td>\n",
       "      <td>No</td>\n",
       "      <td>DSL</td>\n",
       "      <td>Yes</td>\n",
       "      <td>Yes</td>\n",
       "      <td>No</td>\n",
       "      <td>No</td>\n",
       "      <td>No</td>\n",
       "      <td>No</td>\n",
       "      <td>No</td>\n",
       "      <td>1</td>\n",
       "      <td>123</td>\n",
       "    </tr>\n",
       "    <tr>\n",
       "      <th>7795-CFOCW</th>\n",
       "      <td>2016-05-01</td>\n",
       "      <td>2020-02-01</td>\n",
       "      <td>One year</td>\n",
       "      <td>No</td>\n",
       "      <td>Bank transfer (automatic)</td>\n",
       "      <td>42.30</td>\n",
       "      <td>Male</td>\n",
       "      <td>0</td>\n",
       "      <td>No</td>\n",
       "      <td>No</td>\n",
       "      <td>DSL</td>\n",
       "      <td>Yes</td>\n",
       "      <td>No</td>\n",
       "      <td>Yes</td>\n",
       "      <td>Yes</td>\n",
       "      <td>No</td>\n",
       "      <td>No</td>\n",
       "      <td>NotUsed</td>\n",
       "      <td>1</td>\n",
       "      <td>1371</td>\n",
       "    </tr>\n",
       "    <tr>\n",
       "      <th>9237-HQITU</th>\n",
       "      <td>2019-09-01</td>\n",
       "      <td>2020-02-01</td>\n",
       "      <td>Month-to-month</td>\n",
       "      <td>Yes</td>\n",
       "      <td>Electronic check</td>\n",
       "      <td>70.70</td>\n",
       "      <td>Female</td>\n",
       "      <td>0</td>\n",
       "      <td>No</td>\n",
       "      <td>No</td>\n",
       "      <td>Fiber optic</td>\n",
       "      <td>No</td>\n",
       "      <td>No</td>\n",
       "      <td>No</td>\n",
       "      <td>No</td>\n",
       "      <td>No</td>\n",
       "      <td>No</td>\n",
       "      <td>No</td>\n",
       "      <td>1</td>\n",
       "      <td>153</td>\n",
       "    </tr>\n",
       "  </tbody>\n",
       "</table>\n",
       "</div>"
      ],
      "text/plain": [
       "           begin_date   end_date            type paperless_billing  \\\n",
       "customerID                                                           \n",
       "7590-VHVEG 2020-01-01 2020-02-01  Month-to-month               Yes   \n",
       "5575-GNVDE 2017-04-01 2020-02-01        One year                No   \n",
       "3668-QPYBK 2019-10-01 2020-02-01  Month-to-month               Yes   \n",
       "7795-CFOCW 2016-05-01 2020-02-01        One year                No   \n",
       "9237-HQITU 2019-09-01 2020-02-01  Month-to-month               Yes   \n",
       "\n",
       "                       payment_method  monthly_charges  gender  \\\n",
       "customerID                                                       \n",
       "7590-VHVEG           Electronic check            29.85  Female   \n",
       "5575-GNVDE               Mailed check            56.95    Male   \n",
       "3668-QPYBK               Mailed check            53.85    Male   \n",
       "7795-CFOCW  Bank transfer (automatic)            42.30    Male   \n",
       "9237-HQITU           Electronic check            70.70  Female   \n",
       "\n",
       "            senior_citizen partner dependents internet_service  \\\n",
       "customerID                                                       \n",
       "7590-VHVEG               0     Yes         No              DSL   \n",
       "5575-GNVDE               0      No         No              DSL   \n",
       "3668-QPYBK               0      No         No              DSL   \n",
       "7795-CFOCW               0      No         No              DSL   \n",
       "9237-HQITU               0      No         No      Fiber optic   \n",
       "\n",
       "           online_security online_backup device_protection tech_support  \\\n",
       "customerID                                                                \n",
       "7590-VHVEG              No           Yes                No           No   \n",
       "5575-GNVDE             Yes            No               Yes           No   \n",
       "3668-QPYBK             Yes           Yes                No           No   \n",
       "7795-CFOCW             Yes            No               Yes          Yes   \n",
       "9237-HQITU              No            No                No           No   \n",
       "\n",
       "           streaming_tv streaming_movies multiple_lines  is_client  \\\n",
       "customerID                                                           \n",
       "7590-VHVEG           No               No        NotUsed          1   \n",
       "5575-GNVDE           No               No             No          1   \n",
       "3668-QPYBK           No               No             No          1   \n",
       "7795-CFOCW           No               No        NotUsed          1   \n",
       "9237-HQITU           No               No             No          1   \n",
       "\n",
       "            was_client_for  \n",
       "customerID                  \n",
       "7590-VHVEG              31  \n",
       "5575-GNVDE            1036  \n",
       "3668-QPYBK             123  \n",
       "7795-CFOCW            1371  \n",
       "9237-HQITU             153  "
      ]
     },
     "execution_count": 14,
     "metadata": {},
     "output_type": "execute_result"
    }
   ],
   "source": [
    "data['was_client_for'] = (data['end_date'] - data['begin_date']).dt.days\n",
    "data.head()"
   ]
  },
  {
   "cell_type": "markdown",
   "id": "704b62a2",
   "metadata": {},
   "source": [
    "Следующим шагом предобработки будет удаление столбцов `begin_date` и `end_date`, поскольку они более не представляют ценности для обучения модели:"
   ]
  },
  {
   "cell_type": "code",
   "execution_count": 15,
   "id": "afbaeb9b",
   "metadata": {
    "scrolled": true
   },
   "outputs": [
    {
     "data": {
      "text/html": [
       "<div>\n",
       "<style scoped>\n",
       "    .dataframe tbody tr th:only-of-type {\n",
       "        vertical-align: middle;\n",
       "    }\n",
       "\n",
       "    .dataframe tbody tr th {\n",
       "        vertical-align: top;\n",
       "    }\n",
       "\n",
       "    .dataframe thead th {\n",
       "        text-align: right;\n",
       "    }\n",
       "</style>\n",
       "<table border=\"1\" class=\"dataframe\">\n",
       "  <thead>\n",
       "    <tr style=\"text-align: right;\">\n",
       "      <th></th>\n",
       "      <th>type</th>\n",
       "      <th>paperless_billing</th>\n",
       "      <th>payment_method</th>\n",
       "      <th>monthly_charges</th>\n",
       "      <th>gender</th>\n",
       "      <th>senior_citizen</th>\n",
       "      <th>partner</th>\n",
       "      <th>dependents</th>\n",
       "      <th>internet_service</th>\n",
       "      <th>online_security</th>\n",
       "      <th>online_backup</th>\n",
       "      <th>device_protection</th>\n",
       "      <th>tech_support</th>\n",
       "      <th>streaming_tv</th>\n",
       "      <th>streaming_movies</th>\n",
       "      <th>multiple_lines</th>\n",
       "      <th>is_client</th>\n",
       "      <th>was_client_for</th>\n",
       "    </tr>\n",
       "    <tr>\n",
       "      <th>customerID</th>\n",
       "      <th></th>\n",
       "      <th></th>\n",
       "      <th></th>\n",
       "      <th></th>\n",
       "      <th></th>\n",
       "      <th></th>\n",
       "      <th></th>\n",
       "      <th></th>\n",
       "      <th></th>\n",
       "      <th></th>\n",
       "      <th></th>\n",
       "      <th></th>\n",
       "      <th></th>\n",
       "      <th></th>\n",
       "      <th></th>\n",
       "      <th></th>\n",
       "      <th></th>\n",
       "      <th></th>\n",
       "    </tr>\n",
       "  </thead>\n",
       "  <tbody>\n",
       "    <tr>\n",
       "      <th>7590-VHVEG</th>\n",
       "      <td>Month-to-month</td>\n",
       "      <td>Yes</td>\n",
       "      <td>Electronic check</td>\n",
       "      <td>29.85</td>\n",
       "      <td>Female</td>\n",
       "      <td>0</td>\n",
       "      <td>Yes</td>\n",
       "      <td>No</td>\n",
       "      <td>DSL</td>\n",
       "      <td>No</td>\n",
       "      <td>Yes</td>\n",
       "      <td>No</td>\n",
       "      <td>No</td>\n",
       "      <td>No</td>\n",
       "      <td>No</td>\n",
       "      <td>NotUsed</td>\n",
       "      <td>1</td>\n",
       "      <td>31</td>\n",
       "    </tr>\n",
       "    <tr>\n",
       "      <th>5575-GNVDE</th>\n",
       "      <td>One year</td>\n",
       "      <td>No</td>\n",
       "      <td>Mailed check</td>\n",
       "      <td>56.95</td>\n",
       "      <td>Male</td>\n",
       "      <td>0</td>\n",
       "      <td>No</td>\n",
       "      <td>No</td>\n",
       "      <td>DSL</td>\n",
       "      <td>Yes</td>\n",
       "      <td>No</td>\n",
       "      <td>Yes</td>\n",
       "      <td>No</td>\n",
       "      <td>No</td>\n",
       "      <td>No</td>\n",
       "      <td>No</td>\n",
       "      <td>1</td>\n",
       "      <td>1036</td>\n",
       "    </tr>\n",
       "    <tr>\n",
       "      <th>3668-QPYBK</th>\n",
       "      <td>Month-to-month</td>\n",
       "      <td>Yes</td>\n",
       "      <td>Mailed check</td>\n",
       "      <td>53.85</td>\n",
       "      <td>Male</td>\n",
       "      <td>0</td>\n",
       "      <td>No</td>\n",
       "      <td>No</td>\n",
       "      <td>DSL</td>\n",
       "      <td>Yes</td>\n",
       "      <td>Yes</td>\n",
       "      <td>No</td>\n",
       "      <td>No</td>\n",
       "      <td>No</td>\n",
       "      <td>No</td>\n",
       "      <td>No</td>\n",
       "      <td>1</td>\n",
       "      <td>123</td>\n",
       "    </tr>\n",
       "    <tr>\n",
       "      <th>7795-CFOCW</th>\n",
       "      <td>One year</td>\n",
       "      <td>No</td>\n",
       "      <td>Bank transfer (automatic)</td>\n",
       "      <td>42.30</td>\n",
       "      <td>Male</td>\n",
       "      <td>0</td>\n",
       "      <td>No</td>\n",
       "      <td>No</td>\n",
       "      <td>DSL</td>\n",
       "      <td>Yes</td>\n",
       "      <td>No</td>\n",
       "      <td>Yes</td>\n",
       "      <td>Yes</td>\n",
       "      <td>No</td>\n",
       "      <td>No</td>\n",
       "      <td>NotUsed</td>\n",
       "      <td>1</td>\n",
       "      <td>1371</td>\n",
       "    </tr>\n",
       "    <tr>\n",
       "      <th>9237-HQITU</th>\n",
       "      <td>Month-to-month</td>\n",
       "      <td>Yes</td>\n",
       "      <td>Electronic check</td>\n",
       "      <td>70.70</td>\n",
       "      <td>Female</td>\n",
       "      <td>0</td>\n",
       "      <td>No</td>\n",
       "      <td>No</td>\n",
       "      <td>Fiber optic</td>\n",
       "      <td>No</td>\n",
       "      <td>No</td>\n",
       "      <td>No</td>\n",
       "      <td>No</td>\n",
       "      <td>No</td>\n",
       "      <td>No</td>\n",
       "      <td>No</td>\n",
       "      <td>1</td>\n",
       "      <td>153</td>\n",
       "    </tr>\n",
       "  </tbody>\n",
       "</table>\n",
       "</div>"
      ],
      "text/plain": [
       "                      type paperless_billing             payment_method  \\\n",
       "customerID                                                                \n",
       "7590-VHVEG  Month-to-month               Yes           Electronic check   \n",
       "5575-GNVDE        One year                No               Mailed check   \n",
       "3668-QPYBK  Month-to-month               Yes               Mailed check   \n",
       "7795-CFOCW        One year                No  Bank transfer (automatic)   \n",
       "9237-HQITU  Month-to-month               Yes           Electronic check   \n",
       "\n",
       "            monthly_charges  gender  senior_citizen partner dependents  \\\n",
       "customerID                                                               \n",
       "7590-VHVEG            29.85  Female               0     Yes         No   \n",
       "5575-GNVDE            56.95    Male               0      No         No   \n",
       "3668-QPYBK            53.85    Male               0      No         No   \n",
       "7795-CFOCW            42.30    Male               0      No         No   \n",
       "9237-HQITU            70.70  Female               0      No         No   \n",
       "\n",
       "           internet_service online_security online_backup device_protection  \\\n",
       "customerID                                                                    \n",
       "7590-VHVEG              DSL              No           Yes                No   \n",
       "5575-GNVDE              DSL             Yes            No               Yes   \n",
       "3668-QPYBK              DSL             Yes           Yes                No   \n",
       "7795-CFOCW              DSL             Yes            No               Yes   \n",
       "9237-HQITU      Fiber optic              No            No                No   \n",
       "\n",
       "           tech_support streaming_tv streaming_movies multiple_lines  \\\n",
       "customerID                                                             \n",
       "7590-VHVEG           No           No               No        NotUsed   \n",
       "5575-GNVDE           No           No               No             No   \n",
       "3668-QPYBK           No           No               No             No   \n",
       "7795-CFOCW          Yes           No               No        NotUsed   \n",
       "9237-HQITU           No           No               No             No   \n",
       "\n",
       "            is_client  was_client_for  \n",
       "customerID                             \n",
       "7590-VHVEG          1              31  \n",
       "5575-GNVDE          1            1036  \n",
       "3668-QPYBK          1             123  \n",
       "7795-CFOCW          1            1371  \n",
       "9237-HQITU          1             153  "
      ]
     },
     "execution_count": 15,
     "metadata": {},
     "output_type": "execute_result"
    }
   ],
   "source": [
    "data.drop(['end_date', 'begin_date'], axis=1, inplace=True)\n",
    "data.head()"
   ]
  },
  {
   "cell_type": "markdown",
   "id": "cd800145",
   "metadata": {},
   "source": [
    "Последним этапом исследовательского анализа построим тепловую карту корреляции и определим, есть ли мультикорреляционные признаки:"
   ]
  },
  {
   "cell_type": "code",
   "execution_count": 16,
   "id": "890a166c",
   "metadata": {},
   "outputs": [],
   "source": [
    "data_for_matrix = data.copy()\n",
    "data_for_matrix.drop(['is_client'],axis=1,inplace=True)"
   ]
  },
  {
   "cell_type": "code",
   "execution_count": 17,
   "id": "63cc6b59",
   "metadata": {},
   "outputs": [],
   "source": [
    "corr_matrix = data_for_matrix.phik_matrix(interval_cols=['monthly_charges', 'was_client_for'])"
   ]
  },
  {
   "cell_type": "code",
   "execution_count": 18,
   "id": "8c4850b8",
   "metadata": {
    "scrolled": false
   },
   "outputs": [
    {
     "data": {
      "image/png": "[encoded data removed]",
      "text/plain": [
       "<Figure size 1300x1300 with 2 Axes>"
      ]
     },
     "metadata": {},
     "output_type": "display_data"
    }
   ],
   "source": [
    "fig, ax = plt.subplots(figsize=(13, 13))\n",
    "sns.heatmap(corr_matrix, annot=True, cmap='coolwarm', linewidths=0.5, ax=ax, center=0)\n",
    "ax.set_title('Карта корреляций', fontsize=20)\n",
    "plt.show()"
   ]
  },
  {
   "cell_type": "markdown",
   "id": "ea8e1d22",
   "metadata": {},
   "source": [
    "На тепловой карте замечена высокая мультиколлинеарность между признаками, связанными с предосталвяемыми услугами компании. Добавим столбец категориальных признаков `is_interent_user`, где каждому пользователю назначим одну из трёх категорий:\n",
    "- 0, если 'No' во всех мультиколлинеарных столбцах;\n",
    "- 1, если есть хоть один 'Yes' в любом из мультиколлинеарных столбцов;\n",
    "- 2, если есть 'NotUsed', но нет 'Yes'. "
   ]
  },
  {
   "cell_type": "code",
   "execution_count": 19,
   "id": "6022a62f",
   "metadata": {},
   "outputs": [],
   "source": [
    "def get_internet_user(row):\n",
    "    if (row == 'Yes').any():\n",
    "        return 1\n",
    "    elif (row == 'No').all():\n",
    "        return 0\n",
    "    elif (row == 'NotUsed').any():\n",
    "        return 2\n",
    "    else:\n",
    "        return print('Something went wrong')\n",
    "\n",
    "cols = ['online_security', 'online_backup', 'device_protection', 'tech_support', 'streaming_tv', 'streaming_movies']\n",
    "data['is_internet_user'] = data[cols].apply(get_internet_user, axis=1)\n",
    "\n",
    "# Удаляем мультиколлинеарные столбцы\n",
    "data = data.drop(cols, axis=1)\n",
    "data = data.drop(['internet_service', 'monthly_charges'], axis=1)"
   ]
  },
  {
   "cell_type": "markdown",
   "id": "b83f0e7b",
   "metadata": {},
   "source": [
    "### Вывод:\n",
    "\n",
    "В ходе предобработки данных:\n",
    "- Выедлен целевой признак `is_client`;\n",
    "- Данные приведены к правильному формату;\n",
    "- Устранены аномалии;\n",
    "- Заполнены пропуски;\n",
    "- Выделены новые признаки для обучения модели;\n",
    "- Изучена мультиколинеарность между признаками - замечена высокая степень связи между признаками, отображающими услуги компании;\n",
    "- Исключены лишние признаки."
   ]
  },
  {
   "cell_type": "markdown",
   "id": "291cc044",
   "metadata": {},
   "source": [
    "## Обучение моделей машинного обучения\n",
    "### Подготовка данных\n",
    "\n",
    "Прежде, чем передать данные машине на обучение, следует:\n",
    "- Проверить дисбаланс классов;\n",
    "- Разбить выборку на обучающую и тестовую. \n",
    "\n",
    "Начнём с первого и выведем на экран отношение положительных классов (клиент остался в компании) и отрицательных (клиент ушёл)."
   ]
  },
  {
   "cell_type": "code",
   "execution_count": 21,
   "id": "aa1387e7",
   "metadata": {},
   "outputs": [
    {
     "name": "stdout",
     "output_type": "stream",
     "text": [
      "Соотношение нулей к единицам: 0.19\n"
     ]
    }
   ],
   "source": [
    "count_0 = (data['is_client'] == 0).sum()\n",
    "count_1 = (data['is_client'] == 1).sum()\n",
    "\n",
    "ratio = count_0 / count_1\n",
    "\n",
    "print(f\"Соотношение нулей к единицам: {ratio:.2f}\")"
   ]
  },
  {
   "cell_type": "markdown",
   "id": "cd5db2b4",
   "metadata": {},
   "source": [
    "Соотношение классов 0.19 означает, что в столбце ‘is_client’ количество нулей примерно в 5 раз меньше, чем количество единиц. Это указывает на значительный дисбаланс классов в данных.\n",
    "\n",
    "Такой дисбаланс может привести к тому, что модель машинного обучения будет плохо распознавать класс с меньшим количеством наблюдений (в данном случае - класс с меткой 0). К счастью, метрика оценки успешности нашей модели (ROC-AUC) нечувствительна к дисбалансу целевого класса."
   ]
  },
  {
   "cell_type": "markdown",
   "id": "e8c73111",
   "metadata": {},
   "source": [
    "Выделим категориальные и числовые признаки, разделим выборку на обучающую и тестовую в соотношении 1 к 3 и сразу убедимся, что пропорция верно соблюдена и мультиколлинеарность отсутствует:"
   ]
  },
  {
   "cell_type": "code",
   "execution_count": 22,
   "id": "3f8e5d91",
   "metadata": {},
   "outputs": [
    {
     "name": "stdout",
     "output_type": "stream",
     "text": [
      "Обучающая выборка составляет 75.00% от генеральной\n",
      "Тестовая выборка составляет 25.00% от генеральной\n"
     ]
    }
   ],
   "source": [
    "X = data.drop('is_client', axis=1)\n",
    "y = data['is_client']\n",
    "\n",
    "# Определяем числовые и категориальные признаки\n",
    "num_features = ['was_client_for']\n",
    "cat_features = data.drop(['was_client_for', 'is_client'], axis=1).columns.tolist()\n",
    "\n",
    "# разделяем выборку на обучающую и тестовую\n",
    "X_train, X_test, y_train, y_test = train_test_split(X, y, test_size=0.25, random_state=STATE)\n",
    "\n",
    "train_to_general = X_train.shape[0]/data.shape[0]*100\n",
    "test_to_general = X_test.shape[0]/data.shape[0]*100\n",
    "\n",
    "print(f\"Обучающая выборка составляет {train_to_general:.2f}% от генеральной\")\n",
    "print(f\"Тестовая выборка составляет {test_to_general:.2f}% от генеральной\")"
   ]
  },
  {
   "cell_type": "markdown",
   "id": "b43688d5",
   "metadata": {},
   "source": [
    "Выборки разделены корректно, можно переходить к обучению моделей. Для всех моделей будут перебраны гиперпараметры и оценена метрика ROC-AUC."
   ]
  },
  {
   "cell_type": "markdown",
   "id": "0e0e871c",
   "metadata": {},
   "source": [
    "### CatBoostClassifier"
   ]
  },
  {
   "cell_type": "code",
   "execution_count": 23,
   "id": "4bc298ff",
   "metadata": {},
   "outputs": [],
   "source": [
    "# Создаем предобработчики для числовых и категориальных признаков\n",
    "num_transformer = StandardScaler()\n",
    "cat_transformer = OneHotEncoder(handle_unknown='ignore')\n",
    "cat_transformer_lr = OneHotEncoder(handle_unknown='error', drop='first')\n",
    "\n",
    "# Создаем ColumnTransformer\n",
    "preprocessor = ColumnTransformer(\n",
    "    transformers=[\n",
    "        ('num', num_transformer, num_features),\n",
    "        ('cat', cat_transformer, cat_features)\n",
    "    ])\n",
    "\n",
    "preprocessor_catb = ColumnTransformer(\n",
    "    transformers=[\n",
    "        ('num', num_transformer, num_features)],\n",
    "    remainder='passthrough'\n",
    "    )\n",
    "\n",
    "preprocessor_lr = ColumnTransformer(\n",
    "    transformers=[\n",
    "        ('num', num_transformer, num_features),\n",
    "        ('cat', cat_transformer_lr, cat_features)\n",
    "    ])"
   ]
  },
  {
   "cell_type": "code",
   "execution_count": 24,
   "id": "f600623b",
   "metadata": {
    "scrolled": true
   },
   "outputs": [
    {
     "name": "stdout",
     "output_type": "stream",
     "text": [
      "CatBoost лучшие параметры: {'classifier__depth': 6, 'classifier__iterations': 200, 'classifier__l2_leaf_reg': 1, 'classifier__learning_rate': 0.1}\n",
      "CatBoost лучшая оценка: 0.9025514010334031\n"
     ]
    }
   ],
   "source": [
    "# Создаем pipeline для модели CatBoost\n",
    "cat_pipe = Pipeline(steps=[\n",
    "    ('preprocessor', preprocessor_catb),\n",
    "    ('feature_selection', SelectFromModel(CatBoostClassifier(random_state=STATE, \n",
    "                                                             verbose=False, \n",
    "                                                             cat_features=[i for i in range(1,10)]\n",
    "                                                            ), \n",
    "                                          threshold=0.05)),\n",
    "    ('classifier', CatBoostClassifier(random_state=STATE, \n",
    "                                      verbose=False, \n",
    "                                      cat_features=[i for i in range(1,10)]\n",
    "                                     )\n",
    "    )\n",
    "])\n",
    "\n",
    "# Определяем параметры для gridSearch\n",
    "cat_param_grid = {\n",
    "    'classifier__iterations': [50, 100, 200],\n",
    "    'classifier__learning_rate': [0.03, 0.1],\n",
    "    'classifier__depth': [4, 6, 8],\n",
    "    'classifier__l2_leaf_reg': [1, 3, 5]\n",
    "}\n",
    "\n",
    "cat_grid_search = GridSearchCV(cat_pipe, cat_param_grid, cv=5, error_score='raise', scoring='roc_auc', n_jobs=-1)\n",
    "cat_grid_search.fit(X_train, y_train)\n",
    "\n",
    "print(f'CatBoost лучшие параметры: {cat_grid_search.best_params_}')\n",
    "print(f'CatBoost лучшая оценка: {cat_grid_search.best_score_}')"
   ]
  },
  {
   "cell_type": "markdown",
   "id": "3e9d3858",
   "metadata": {},
   "source": [
    "### RandomForestClassifier"
   ]
  },
  {
   "cell_type": "code",
   "execution_count": 25,
   "id": "0c2f97eb",
   "metadata": {},
   "outputs": [
    {
     "name": "stdout",
     "output_type": "stream",
     "text": [
      "RandomForest лучшие параметры: {'classifier__max_depth': 8, 'classifier__min_samples_leaf': 1, 'classifier__min_samples_split': 2, 'classifier__n_estimators': 300}\n",
      "RandomForest лучшая оценка: 0.8894427304780269\n"
     ]
    }
   ],
   "source": [
    "# Создаем pipeline для модели RandomForest\n",
    "rf_pipe = Pipeline(steps=[\n",
    "    ('preprocessor', preprocessor),\n",
    "    ('feature_selection', SelectFromModel(RandomForestClassifier(random_state=STATE), threshold=0.05)),\n",
    "    ('classifier', RandomForestClassifier(random_state=STATE))\n",
    "])\n",
    "\n",
    "rf_param_grid = {\n",
    "    'classifier__n_estimators': [100, 200, 300],\n",
    "    'classifier__max_depth': [4, 6, 8],\n",
    "    'classifier__min_samples_split': [2, 5, 10],\n",
    "    'classifier__min_samples_leaf': [1, 2, 4]\n",
    "}\n",
    "\n",
    "rf_grid_search = GridSearchCV(rf_pipe, rf_param_grid, cv=5, scoring='roc_auc', n_jobs=-1)\n",
    "rf_grid_search.fit(X_train, y_train)\n",
    "\n",
    "print(f'RandomForest лучшие параметры: {rf_grid_search.best_params_}')\n",
    "print(f'RandomForest лучшая оценка: {rf_grid_search.best_score_}')"
   ]
  },
  {
   "cell_type": "markdown",
   "id": "7ed69239",
   "metadata": {},
   "source": [
    "### LogisticRegression"
   ]
  },
  {
   "cell_type": "code",
   "execution_count": 26,
   "id": "944ef078",
   "metadata": {
    "scrolled": true
   },
   "outputs": [
    {
     "name": "stdout",
     "output_type": "stream",
     "text": [
      "LogisticRegression лучшие параметры: {'classifier__C': 1.0, 'classifier__penalty': 'l2', 'classifier__solver': 'liblinear'}\n",
      "LogisticRegression лучшая оценка: 0.7491424954240233\n"
     ]
    }
   ],
   "source": [
    "# Создаем pipeline для модели LogisticRegression\n",
    "lr_pipe = Pipeline(steps=[\n",
    "    ('preprocessor', preprocessor_lr),\n",
    "    ('feature_selection', SelectFromModel(LogisticRegression(random_state=STATE), threshold=0.05)),\n",
    "    ('classifier', LogisticRegression(random_state=STATE))\n",
    "])\n",
    "\n",
    "lr_param_grid = {\n",
    "    'classifier__C': [0.1, 1.0],\n",
    "    'classifier__penalty': ['l1', 'l2'],\n",
    "    'classifier__solver': ['liblinear']\n",
    "}\n",
    "\n",
    "lr_grid_search = GridSearchCV(lr_pipe, lr_param_grid, cv=5, scoring='roc_auc', n_jobs=-1)\n",
    "lr_grid_search.fit(X_train, y_train)\n",
    "\n",
    "print(f'LogisticRegression лучшие параметры: {lr_grid_search.best_params_}')\n",
    "print(f'LogisticRegression лучшая оценка: {lr_grid_search.best_score_}')"
   ]
  },
  {
   "cell_type": "code",
   "execution_count": 27,
   "id": "3262f5a6",
   "metadata": {
    "scrolled": true
   },
   "outputs": [
    {
     "data": {
      "text/html": [
       "<div>\n",
       "<style scoped>\n",
       "    .dataframe tbody tr th:only-of-type {\n",
       "        vertical-align: middle;\n",
       "    }\n",
       "\n",
       "    .dataframe tbody tr th {\n",
       "        vertical-align: top;\n",
       "    }\n",
       "\n",
       "    .dataframe thead th {\n",
       "        text-align: right;\n",
       "    }\n",
       "</style>\n",
       "<table border=\"1\" class=\"dataframe\">\n",
       "  <thead>\n",
       "    <tr style=\"text-align: right;\">\n",
       "      <th></th>\n",
       "      <th>auc_roc, %</th>\n",
       "    </tr>\n",
       "  </thead>\n",
       "  <tbody>\n",
       "    <tr>\n",
       "      <th>CatBoostRegression</th>\n",
       "      <td>90.26</td>\n",
       "    </tr>\n",
       "    <tr>\n",
       "      <th>RandomForestRegression</th>\n",
       "      <td>88.94</td>\n",
       "    </tr>\n",
       "    <tr>\n",
       "      <th>LogisticRegression</th>\n",
       "      <td>74.91</td>\n",
       "    </tr>\n",
       "  </tbody>\n",
       "</table>\n",
       "</div>"
      ],
      "text/plain": [
       "                       auc_roc, %\n",
       "CatBoostRegression          90.26\n",
       "RandomForestRegression      88.94\n",
       "LogisticRegression          74.91"
      ]
     },
     "execution_count": 27,
     "metadata": {},
     "output_type": "execute_result"
    }
   ],
   "source": [
    "def fill_df(df, model_name, train_acc):\n",
    "    df.loc[model_name] = [train_acc]\n",
    "\n",
    "pivot_table = pd.DataFrame(index=['CatBoostRegression', 'RandomForestRegression', 'LogisticRegression'],\n",
    "                  columns=['auc_roc, %'])\n",
    "\n",
    "fill_df(pivot_table, 'CatBoostRegression', round(cat_grid_search.best_score_, 4))\n",
    "fill_df(pivot_table, 'RandomForestRegression', round(rf_grid_search.best_score_, 4))\n",
    "fill_df(pivot_table, 'LogisticRegression', round(lr_grid_search.best_score_, 4))\n",
    "pivot_table['auc_roc, %'] = pivot_table['auc_roc, %']*100\n",
    "\n",
    "# Вывод датафрейма\n",
    "pivot_table"
   ]
  },
  {
   "cell_type": "markdown",
   "id": "21c20f85",
   "metadata": {},
   "source": [
    "По результатам оценки моделей на точность предсказаний наиболее удачным вариантом выбрана CatBoostRegression."
   ]
  },
  {
   "cell_type": "markdown",
   "id": "9cd69833",
   "metadata": {},
   "source": [
    "### Проверка модели на тестовой выборке"
   ]
  },
  {
   "cell_type": "code",
   "execution_count": 28,
   "id": "e55cefcc",
   "metadata": {},
   "outputs": [
    {
     "name": "stdout",
     "output_type": "stream",
     "text": [
      "Точность на тестовой выборке: 0.9029\n",
      "ROC-AUC лучшей модели: 0.9026\n"
     ]
    }
   ],
   "source": [
    "best_model = cat_grid_search.best_estimator_\n",
    "\n",
    "best_model_pred = best_model.predict(X_test)\n",
    "best_model_accuracy = accuracy_score(y_test, best_model_pred)\n",
    "\n",
    "print(f'Точность на тестовой выборке: {best_model_accuracy:.4f}')\n",
    "print(f'ROC-AUC лучшей модели: {cat_grid_search.best_score_:.4f}')"
   ]
  },
  {
   "cell_type": "markdown",
   "id": "fe175536",
   "metadata": {},
   "source": [
    "Модель показала 90% точность (accuracy). Эта метрика вычисляется отношением числа правильно классифицированных объектов к общему числу объектов. То есть наша модель в 9 из 10 случаев корректно предсказала, останется ли клиент в компании, или нет.\n",
    "\n",
    "Полученная метрика ROC-AUC удовлетворяет условие и не превышает 0.95, что сказало бы об утечке целевого признака в данных и переобучении модели. Выведем матрицу ошибок и наиболее важные признаки для более детального интерпретирования результата этой метрики:"
   ]
  },
  {
   "cell_type": "code",
   "execution_count": 29,
   "id": "a30d47ac",
   "metadata": {
    "scrolled": false
   },
   "outputs": [
    {
     "data": {
      "image/png": "[encoded data removed]",
      "text/plain": [
       "<Figure size 640x480 with 2 Axes>"
      ]
     },
     "metadata": {},
     "output_type": "display_data"
    }
   ],
   "source": [
    "conf_matrix = confusion_matrix(y_test, best_model_pred)\n",
    "\n",
    "sns.heatmap(conf_matrix, annot=True, fmt='d',annot_kws={\"fontsize\":20}, cmap='Blues')\n",
    "plt.ylabel('Истинные значения', fontsize=16)\n",
    "plt.xlabel('Предсказанные значения', fontsize=16)\n",
    "plt.title('Матрица ошибок', fontsize=25)\n",
    "plt.show()"
   ]
  },
  {
   "cell_type": "markdown",
   "id": "ceccaf90",
   "metadata": {},
   "source": [
    "Согласно тестовой выборке, из компании де-факто ушло 166 клиентов (сумма в столбце \"предсказанные значения\", 0), однако наша модель верно предсказала уход лишь 149 клиентов, а 17 предсказала обратное. Соответственно и для оставшихся с компанией клиентов (сумма в столбце \"предсказанные значения\", 1) - из 1595 клиентов, которые фактически остались в компании, модель ошиблась в отношении лишь 154 клиента, предсказав, что вскоре они откажутся от услуг фирмы, а 1441 клиентам модель предсказала дальнейшее сотрудничество с компанией.\n",
    "\n",
    "Выведем график значимости признаков для обученной модели:"
   ]
  },
  {
   "cell_type": "code",
   "execution_count": 32,
   "id": "754330fa",
   "metadata": {},
   "outputs": [
    {
     "data": {
      "image/png": "[encoded data removed]",
      "text/plain": [
       "<Figure size 1400x800 with 1 Axes>"
      ]
     },
     "metadata": {},
     "output_type": "display_data"
    }
   ],
   "source": [
    "feature_importances = best_model.named_steps['classifier'].feature_importances_\n",
    "feature_names = best_model.named_steps['preprocessor'].get_feature_names_out()\n",
    "\n",
    "feature_importances = pd.DataFrame({'Признак': feature_names, 'Значимость': feature_importances}).sort_values(by='Значимость', ascending=False)\n",
    "\n",
    "plt.figure(figsize=(14, 8))\n",
    "ax = sns.barplot(x='Значимость', y='Признак', data=feature_importances, orient='h')\n",
    "ax.set_xlabel('Значимость', fontsize=14)\n",
    "ax.set_ylabel('Признак', fontsize=15)\n",
    "ax.set_title('График значимости признаков', fontsize=20)\n",
    "for i, v in enumerate(feature_importances['Значимость']):\n",
    "     ax.text(v/2, i + .25, str(round(v, 1)), color='white', fontweight='bold', ha='center', fontsize=14)\n",
    "plt.show()"
   ]
  },
  {
   "cell_type": "markdown",
   "id": "92d4f949",
   "metadata": {},
   "source": [
    "Самым значимым признаком оказалось:\n",
    "- Количество проведённых клиентом дней с компанией; \n",
    "- Тип оплаты клиента за услуги компании;\n",
    "- Факт использования клиента услугами \"интернет\".\n",
    "\n",
    "\n",
    "Наименее важными признаками оказались:\n",
    "- Наличие у клиента пенсионного статуса;\n",
    "- Наличие иждивенцев;\n",
    "- Электронный платёжный документ."
   ]
  },
  {
   "cell_type": "markdown",
   "id": "3debf621",
   "metadata": {},
   "source": [
    "В основной части работы были обучены три модели и оценены их результаты работы метрикой AUC-ROC:\n",
    "\n",
    "- CatBoostRegression - 90.26 %;\n",
    "- RandomForestRegression - 88.94 %;\n",
    "- LogisticRegression - 74.91 %.\n",
    "\n",
    "Для обучения на тестовой выборке была выбрана модель CatBoostRegression. Согласно матрице ошибок, из 1761 предсказаний, модель не ошиблась в 1577, что и обеспечило метрику Auc-ROC эквивалентную 0.89, что значит, что случайное предсказание модели в отношении клиента с вероятность 89% будет верно - уйдёт он, или останется. Поставленная задача выполнена."
   ]
  },
  {
   "cell_type": "markdown",
   "id": "0281385f",
   "metadata": {},
   "source": [
    "## Отчёт"
   ]
  },
  {
   "cell_type": "markdown",
   "id": "ddffcfc5",
   "metadata": {},
   "source": [
    "**Цель:** Обучить модель, определяющую с точностью более 85% желание клиента отказаться от услуг компании, чтобы не потерять его и своевременно предложить промокоды и специальные условия.\n",
    "\n",
    "**План работы:**\n",
    "\n",
    "1. Провести предобработку данных:\n",
    "    - Выделить целевой признак;\n",
    "    - Привести данные к правильному формату;\n",
    "    - Изучить аномалии;\n",
    "    - Заполнить пропуски;\n",
    "    - Изучить корреляционные связи между факторами и целевым признаком;\n",
    "    - Выделить новые признаки для обучения модели;\n",
    "    - Избавиться от лишних признаков;\n",
    "    - Подготовить данные, разбив выборку на обучающую и тестовую в отношении 3:1;\n",
    "1. Обучить 3 модели и подобрать гиперпараметры:\n",
    "    - Закодировать категориальные и численные признаки;\n",
    "    - Подобрать лучшие параметры с помощью кросс-валиадции;\n",
    "    - Обучить модель на лучших гиперпараметрах;\n",
    "    - Выбрать наилучшую модель по AUC-ROC метрике (не менее 0.85).\n",
    "1. Проверить лучшую модель на тестовой выборке:\n",
    "    - Составить матрицу анализа ошибок; \n",
    "    - Оценить важность признаков; \n",
    "    - Оценить метрику AUC-ROC и Accuracy.\n",
    "1. Составить отчёт.\n",
    "\n",
    "В ходе выполнения работы план был полностью выполнен:\n",
    "\n",
    "1. Этап предобработки:\n",
    "    - Целевой признак выделен в столбец `is_client`. Если у клиента отсутствовала дата окончания контракта - ему присваивалась 1, в обратном случае - 2;\n",
    "    - Данные приведены к нужным форматам. Чтобы привести к формату \"даты\" столбец с датой окончания контракта, заменили значение \"No\" на последнюю актуальную для выборки дату - 01.02.2020;\n",
    "    - Замечено аномальное значение в столбце `total_charges` - заместо суммы у пользователей, заключивших контракт 01.02.2020 был указан пробел. Поскольку сумма всех затрат клиента на услуги компании менее значимы, чем ежемесячные траты (отражающие пакет услгу клиента), было решено исключить столбец `total_charges` из выборки;\n",
    "    - Пропуски замечены только в столбцах, связанных с предоставляемыми услугами \"инетрнет\" и заменены заглушкой `NotUsed`, чтобы не искажать логику выборки;\n",
    "    - При изучении тесноты связей факторов обнаружена чрезвыйчайно высокая взаимосвязь уже упомянутых данных, связанных с предоставлением услуг \"интернет\". Пришлось заменить столбцы 'online_security', 'online_backup', 'device_protection', 'tech_support', 'streaming_tv', 'streaming_movies' одним категориальным - `is_internet_user`, где 0 получили клиенты, не пользующиеся ни одной услгуой из пакета \"инернет\", 1 - пользующиеся хотя бы одной и 2, если клиент явно не пользовался услугами, но и имел заглушку `NotUsed`. **Однако и это не помогло избавиться от проблемы, т.к. осталась высокая теснота связи между вновь образованного признака и столбца `monthly_charges`. В качестве решения проблемы, последний был исключён из выболрки.**\n",
    "    - В качестве нового признака для обучения модели была выделена разница в сутках между днём заключения и расторжения контракта, выраженная в столбце `was_client_for`.\n",
    "    - Из выборки были исключены столбцы с датами и типом подключения пользователя к интернету, поскольку они не представляют ценности для обучения модели;\n",
    "    - Выборка разбита на обучающую и тестовую. В них вошли следующие признаки:\n",
    "    \n",
    "                1. type – тип оплаты: ежемесячный, годовой и тд;\n",
    "                2. paperless_billing – электронный платёжный документ;\n",
    "                3. payment_method – способ оплаты;\n",
    "                4. gender – пол клиента;\n",
    "                5. senior_citizen – наличие пенсионного статуса по возрасту;\n",
    "                6. partner – наличие супруга(и);\n",
    "                7. dependents – наличие иждивенцев;\n",
    "                8. multiple_lines – наличие возможности ведения параллельных линий во время звонка;\n",
    "                9. is_internet_user – посльзуется ли клиент суб-услугами, связанными с предоставлением интернета;\n",
    "                10. was_client_for – сколько дней клиент оставался с компанией;\n",
    "                11. is_client – целевой признак. Продолжает ли клиент платить за услуги компании, или нет.\n",
    "\n",
    "\n",
    "2. Этап обучения моделей:\n",
    "    - Выбраны три модели для машинного обучения:\n",
    "        - CatBoostRegression;\n",
    "        - RandomForestRegression;\n",
    "        - LogisticRegression.\n",
    "    - Каждая модель обучена на закодированных признаках: численные признаки масштабированны с помощью `StandardScaler`, а категориальные закодированны, используя `OneHotEncoder`. \n",
    "    - Для каждой модели были отобраны наиболее значимые признаки с помощью `SelectFromModel`;\n",
    "    - Для каждой модели выбраны лучшие гиперпараметры с помощью кросс-валидации, обеспечиывающие бОльшую точность предсказаний;\n",
    "    - Результаты работы модели были оценены метрикой `AUC-ROC` и выбрана одна, **`CatBoostRegression`**, для работы с тестовыми данными;\n",
    "    \n",
    "    \n",
    "Ниже представлены полученные гиперпараметры обученных моделей и их метрики качества предсказаний:"
   ]
  },
  {
   "cell_type": "code",
   "execution_count": 33,
   "id": "3e8dab85",
   "metadata": {
    "scrolled": true
   },
   "outputs": [
    {
     "name": "stdout",
     "output_type": "stream",
     "text": [
      "Лучшие гиперпараметры CatBoost: {'classifier__depth': 6, 'classifier__iterations': 200, 'classifier__l2_leaf_reg': 1, 'classifier__learning_rate': 0.1}\n",
      "\n",
      "Лучшие гиперпараметры RandomForest: {'classifier__max_depth': 8, 'classifier__min_samples_leaf': 1, 'classifier__min_samples_split': 2, 'classifier__n_estimators': 300}\n",
      "\n",
      "Лучшие гиперпараметры LogisticRegression: {'classifier__C': 1.0, 'classifier__penalty': 'l2', 'classifier__solver': 'liblinear'}\n"
     ]
    },
    {
     "data": {
      "text/html": [
       "<div>\n",
       "<style scoped>\n",
       "    .dataframe tbody tr th:only-of-type {\n",
       "        vertical-align: middle;\n",
       "    }\n",
       "\n",
       "    .dataframe tbody tr th {\n",
       "        vertical-align: top;\n",
       "    }\n",
       "\n",
       "    .dataframe thead th {\n",
       "        text-align: right;\n",
       "    }\n",
       "</style>\n",
       "<table border=\"1\" class=\"dataframe\">\n",
       "  <thead>\n",
       "    <tr style=\"text-align: right;\">\n",
       "      <th></th>\n",
       "      <th>auc_roc, %</th>\n",
       "    </tr>\n",
       "  </thead>\n",
       "  <tbody>\n",
       "    <tr>\n",
       "      <th>CatBoostRegression</th>\n",
       "      <td>90.26</td>\n",
       "    </tr>\n",
       "    <tr>\n",
       "      <th>RandomForestRegression</th>\n",
       "      <td>88.94</td>\n",
       "    </tr>\n",
       "    <tr>\n",
       "      <th>LogisticRegression</th>\n",
       "      <td>74.91</td>\n",
       "    </tr>\n",
       "  </tbody>\n",
       "</table>\n",
       "</div>"
      ],
      "text/plain": [
       "                       auc_roc, %\n",
       "CatBoostRegression          90.26\n",
       "RandomForestRegression      88.94\n",
       "LogisticRegression          74.91"
      ]
     },
     "execution_count": 33,
     "metadata": {},
     "output_type": "execute_result"
    }
   ],
   "source": [
    "print(f'Лучшие гиперпараметры CatBoost: {cat_grid_search.best_params_}')\n",
    "print()\n",
    "print(f'Лучшие гиперпараметры RandomForest: {rf_grid_search.best_params_}')\n",
    "print()\n",
    "print(f'Лучшие гиперпараметры LogisticRegression: {lr_grid_search.best_params_}')\n",
    "\n",
    "pivot_table"
   ]
  },
  {
   "cell_type": "markdown",
   "id": "4e48ab11",
   "metadata": {},
   "source": [
    "Используя полученные гиперпараметры, модель `CatBoost` была обучена на тестовой выборке и сделала предсказание уходящих и остающихся с компанией клиентов. Результат оценивался не только метрикой `AUC-ROC`, но и `accuracy_score`. Получены следующие метрики:\n",
    "\n",
    "    - Точность на тестовой выборке: 0.90\n",
    "    - ROC-AUC лучшей модели: 0.90\n",
    "    \n",
    "То есть, модель показала 90% точность (`accuracy_score`). Эта метрика вычисляется отношением числа правильно классифицированных объектов к общему числу объектов. То есть наша модель в 9 из 10 случаев корректно предсказала, останется ли клиент в компании, или нет.\n",
    "\n",
    "Полученная метрика ROC-AUC удовлетворяет условие и не превышает 0.95, что сказало бы об утечке целевого признака в данных и переобучении модели. Выведем матрицу ошибок и наиболее важные признаки для более детального интерпретирования результата этой метрики:"
   ]
  },
  {
   "cell_type": "code",
   "execution_count": 34,
   "id": "42603d00",
   "metadata": {
    "scrolled": false
   },
   "outputs": [
    {
     "data": {
      "image/png": "[encoded data removed]",
      "text/plain": [
       "<Figure size 640x480 with 2 Axes>"
      ]
     },
     "metadata": {},
     "output_type": "display_data"
    }
   ],
   "source": [
    "sns.heatmap(conf_matrix, annot=True, fmt='d',annot_kws={\"fontsize\":20}, cmap='Blues')\n",
    "plt.ylabel('Истинные значения', fontsize=16)\n",
    "plt.xlabel('Предсказанные значения', fontsize=16)\n",
    "plt.title('Матрица ошибок', fontsize=25)\n",
    "plt.show()"
   ]
  },
  {
   "cell_type": "markdown",
   "id": "aded2b82",
   "metadata": {},
   "source": [
    "Согласно тестовой выборке, из компании де-факто ушло 166 клиентов (сумма в столбце \"предсказанные значения\", 0), однако наша модель верно предсказала уход лишь 149 клиентов, а 17 предсказала обратное. Соответственно и для оставшихся с компанией клиентов (сумма в столбце \"предсказанные значения\", 1) - из 1595 клиентов, которые фактически остались в компании, модель ошиблась в отношении лишь 154 клиента, предсказав, что вскоре они откажутся от услуг фирмы, а 1441 клиентам модель предсказала дальнейшее сотрудничество с компанией.\n",
    "\n",
    "Выведем график значимости признаков для обученной модели:"
   ]
  },
  {
   "cell_type": "code",
   "execution_count": 35,
   "id": "09305b9b",
   "metadata": {},
   "outputs": [
    {
     "data": {
      "image/png": "[encoded data removed]",
      "text/plain": [
       "<Figure size 1400x800 with 1 Axes>"
      ]
     },
     "metadata": {},
     "output_type": "display_data"
    }
   ],
   "source": [
    "plt.figure(figsize=(14, 8))\n",
    "ax = sns.barplot(x='Значимость', y='Признак', data=feature_importances, orient='h')\n",
    "ax.set_xlabel('Значимость', fontsize=14)\n",
    "ax.set_ylabel('Признак', fontsize=15)\n",
    "ax.set_title('График значимости признаков', fontsize=20)\n",
    "for i, v in enumerate(feature_importances['Значимость']):\n",
    "     ax.text(v/2, i + .25, str(round(v, 1)), color='white', fontweight='bold', ha='center', fontsize=14)\n",
    "plt.show()"
   ]
  },
  {
   "cell_type": "markdown",
   "id": "96281587",
   "metadata": {},
   "source": [
    "Самым значимым признаком оказалось количество проведённых клиентом дней в компании. Немаловажными факторами являются Тип оплаты клиента за услуги компании и факт использования клиента услугами \"интернет\". Наименее важными признаками оказались Наличие у клиента пенсионного статуса, иждивенцев и электронный платёжный документ.\n",
    "\n",
    "**Вывод**\n",
    "В ходе работы модель `CatBoost` была обучена на предобработанных данных и лучших гиперпараметрах. В результате получены метрики точности и `AUC-ROC`, эквивалентые 90% и 90% соответственно. Результатом работы модели является высокоточное определние желания клиента компании отказаться от пользования её услугами. Таким образом, в 9 из 10 случаев возможно своевременно предложить сомневающемуся клиенту промокоды и специальные условия, чтобы предотвратить клиентооток. "
   ]
  }
 ],
 "metadata": {
  "ExecuteTimeLog": [
   {
    "duration": 2009,
    "start_time": "2023-07-07T13:46:38.040Z"
   },
   {
    "duration": 1044,
    "start_time": "2023-07-07T14:13:42.269Z"
   },
   {
    "duration": 708,
    "start_time": "2023-07-07T14:14:29.267Z"
   },
   {
    "duration": 471,
    "start_time": "2023-07-07T14:15:14.454Z"
   },
   {
    "duration": 510,
    "start_time": "2023-07-07T14:18:31.560Z"
   },
   {
    "duration": 5,
    "start_time": "2023-07-07T14:19:40.418Z"
   },
   {
    "duration": 3,
    "start_time": "2023-07-07T14:24:32.791Z"
   },
   {
    "duration": 4,
    "start_time": "2023-07-07T14:24:33.057Z"
   },
   {
    "duration": 448,
    "start_time": "2023-07-07T14:24:33.337Z"
   },
   {
    "duration": 529,
    "start_time": "2023-07-07T14:24:57.827Z"
   },
   {
    "duration": 454,
    "start_time": "2023-07-07T14:25:38.738Z"
   },
   {
    "duration": 475,
    "start_time": "2023-07-07T14:27:18.992Z"
   },
   {
    "duration": 633,
    "start_time": "2023-07-07T14:27:57.454Z"
   },
   {
    "duration": 474,
    "start_time": "2023-07-07T14:30:27.075Z"
   },
   {
    "duration": 57,
    "start_time": "2023-07-07T14:37:41.019Z"
   },
   {
    "duration": 37,
    "start_time": "2023-07-07T14:37:50.658Z"
   },
   {
    "duration": 2300,
    "start_time": "2023-07-07T14:38:21.076Z"
   },
   {
    "duration": 609,
    "start_time": "2023-07-07T14:40:41.994Z"
   },
   {
    "duration": 3,
    "start_time": "2023-07-07T14:41:05.055Z"
   },
   {
    "duration": 847,
    "start_time": "2023-07-07T14:41:05.634Z"
   },
   {
    "duration": 132,
    "start_time": "2023-07-07T14:41:54.958Z"
   },
   {
    "duration": 1264,
    "start_time": "2023-07-07T14:42:02.959Z"
   },
   {
    "duration": 6,
    "start_time": "2023-07-07T14:42:04.225Z"
   },
   {
    "duration": 149,
    "start_time": "2023-07-07T14:42:04.232Z"
   },
   {
    "duration": 0,
    "start_time": "2023-07-07T14:42:04.384Z"
   },
   {
    "duration": 0,
    "start_time": "2023-07-07T14:42:04.385Z"
   },
   {
    "duration": 0,
    "start_time": "2023-07-07T14:42:04.386Z"
   },
   {
    "duration": 0,
    "start_time": "2023-07-07T14:42:04.388Z"
   },
   {
    "duration": 0,
    "start_time": "2023-07-07T14:42:04.390Z"
   },
   {
    "duration": 0,
    "start_time": "2023-07-07T14:42:04.391Z"
   },
   {
    "duration": 0,
    "start_time": "2023-07-07T14:42:04.392Z"
   },
   {
    "duration": 0,
    "start_time": "2023-07-07T14:42:04.394Z"
   },
   {
    "duration": 0,
    "start_time": "2023-07-07T14:42:04.405Z"
   },
   {
    "duration": 0,
    "start_time": "2023-07-07T14:42:04.406Z"
   },
   {
    "duration": 0,
    "start_time": "2023-07-07T14:42:04.407Z"
   },
   {
    "duration": 0,
    "start_time": "2023-07-07T14:42:04.407Z"
   },
   {
    "duration": 0,
    "start_time": "2023-07-07T14:42:04.408Z"
   },
   {
    "duration": 0,
    "start_time": "2023-07-07T14:42:04.409Z"
   },
   {
    "duration": 0,
    "start_time": "2023-07-07T14:42:04.410Z"
   },
   {
    "duration": 0,
    "start_time": "2023-07-07T14:42:04.411Z"
   },
   {
    "duration": 0,
    "start_time": "2023-07-07T14:42:04.412Z"
   },
   {
    "duration": 0,
    "start_time": "2023-07-07T14:42:04.413Z"
   },
   {
    "duration": 0,
    "start_time": "2023-07-07T14:42:04.416Z"
   },
   {
    "duration": 158,
    "start_time": "2023-07-07T14:42:23.700Z"
   },
   {
    "duration": 2,
    "start_time": "2023-07-07T14:42:36.382Z"
   },
   {
    "duration": 82,
    "start_time": "2023-07-07T14:42:36.386Z"
   },
   {
    "duration": 57,
    "start_time": "2023-07-07T14:42:36.469Z"
   },
   {
    "duration": 17,
    "start_time": "2023-07-07T14:42:36.528Z"
   },
   {
    "duration": 6,
    "start_time": "2023-07-07T14:42:36.547Z"
   },
   {
    "duration": 7,
    "start_time": "2023-07-07T14:42:36.554Z"
   },
   {
    "duration": 7,
    "start_time": "2023-07-07T14:42:36.562Z"
   },
   {
    "duration": 20,
    "start_time": "2023-07-07T14:42:36.609Z"
   },
   {
    "duration": 8,
    "start_time": "2023-07-07T14:42:36.635Z"
   },
   {
    "duration": 18,
    "start_time": "2023-07-07T14:42:36.645Z"
   },
   {
    "duration": 11,
    "start_time": "2023-07-07T14:42:36.665Z"
   },
   {
    "duration": 51,
    "start_time": "2023-07-07T14:42:36.678Z"
   },
   {
    "duration": 15,
    "start_time": "2023-07-07T14:42:36.731Z"
   },
   {
    "duration": 34,
    "start_time": "2023-07-07T14:42:36.748Z"
   },
   {
    "duration": 41,
    "start_time": "2023-07-07T14:42:36.785Z"
   },
   {
    "duration": 19,
    "start_time": "2023-07-07T14:42:36.828Z"
   },
   {
    "duration": 9,
    "start_time": "2023-07-07T14:42:36.848Z"
   },
   {
    "duration": 0,
    "start_time": "2023-07-07T14:42:36.858Z"
   },
   {
    "duration": 0,
    "start_time": "2023-07-07T14:42:36.859Z"
   },
   {
    "duration": 120,
    "start_time": "2023-07-07T14:46:17.254Z"
   },
   {
    "duration": 1168,
    "start_time": "2023-07-07T14:46:25.818Z"
   },
   {
    "duration": 144,
    "start_time": "2023-07-07T14:46:26.988Z"
   },
   {
    "duration": 3,
    "start_time": "2023-07-07T14:46:27.133Z"
   },
   {
    "duration": 79,
    "start_time": "2023-07-07T14:46:27.138Z"
   },
   {
    "duration": 45,
    "start_time": "2023-07-07T14:46:27.226Z"
   },
   {
    "duration": 16,
    "start_time": "2023-07-07T14:46:27.272Z"
   },
   {
    "duration": 8,
    "start_time": "2023-07-07T14:46:27.290Z"
   },
   {
    "duration": 25,
    "start_time": "2023-07-07T14:46:27.304Z"
   },
   {
    "duration": 8,
    "start_time": "2023-07-07T14:46:27.331Z"
   },
   {
    "duration": 18,
    "start_time": "2023-07-07T14:46:27.340Z"
   },
   {
    "duration": 5,
    "start_time": "2023-07-07T14:46:27.360Z"
   },
   {
    "duration": 19,
    "start_time": "2023-07-07T14:46:27.366Z"
   },
   {
    "duration": 10,
    "start_time": "2023-07-07T14:46:27.386Z"
   },
   {
    "duration": 46,
    "start_time": "2023-07-07T14:46:27.398Z"
   },
   {
    "duration": 19,
    "start_time": "2023-07-07T14:46:27.445Z"
   },
   {
    "duration": 60,
    "start_time": "2023-07-07T14:46:27.465Z"
   },
   {
    "duration": 34,
    "start_time": "2023-07-07T14:46:27.526Z"
   },
   {
    "duration": 20,
    "start_time": "2023-07-07T14:46:27.561Z"
   },
   {
    "duration": 107,
    "start_time": "2023-07-07T14:46:27.583Z"
   },
   {
    "duration": 0,
    "start_time": "2023-07-07T14:46:27.692Z"
   },
   {
    "duration": 0,
    "start_time": "2023-07-07T14:46:27.692Z"
   },
   {
    "duration": 23,
    "start_time": "2023-07-07T15:06:15.798Z"
   },
   {
    "duration": 3,
    "start_time": "2023-07-07T15:06:44.563Z"
   },
   {
    "duration": 11,
    "start_time": "2023-07-07T15:06:48.630Z"
   },
   {
    "duration": 60,
    "start_time": "2023-07-07T15:07:00.663Z"
   },
   {
    "duration": 7,
    "start_time": "2023-07-07T15:20:39.251Z"
   },
   {
    "duration": 1077,
    "start_time": "2023-07-07T15:21:04.019Z"
   },
   {
    "duration": 112,
    "start_time": "2023-07-07T15:21:05.098Z"
   },
   {
    "duration": 3,
    "start_time": "2023-07-07T15:21:05.212Z"
   },
   {
    "duration": 97,
    "start_time": "2023-07-07T15:21:05.222Z"
   },
   {
    "duration": 64,
    "start_time": "2023-07-07T15:21:05.322Z"
   },
   {
    "duration": 31,
    "start_time": "2023-07-07T15:21:05.388Z"
   },
   {
    "duration": 27,
    "start_time": "2023-07-07T15:21:05.421Z"
   },
   {
    "duration": 26,
    "start_time": "2023-07-07T15:21:05.449Z"
   },
   {
    "duration": 120,
    "start_time": "2023-07-07T15:21:05.477Z"
   },
   {
    "duration": 0,
    "start_time": "2023-07-07T15:21:05.608Z"
   },
   {
    "duration": 0,
    "start_time": "2023-07-07T15:21:05.616Z"
   },
   {
    "duration": 0,
    "start_time": "2023-07-07T15:21:05.617Z"
   },
   {
    "duration": 0,
    "start_time": "2023-07-07T15:21:05.618Z"
   },
   {
    "duration": 0,
    "start_time": "2023-07-07T15:21:05.619Z"
   },
   {
    "duration": 0,
    "start_time": "2023-07-07T15:21:05.621Z"
   },
   {
    "duration": 0,
    "start_time": "2023-07-07T15:21:05.622Z"
   },
   {
    "duration": 0,
    "start_time": "2023-07-07T15:21:05.623Z"
   },
   {
    "duration": 0,
    "start_time": "2023-07-07T15:21:05.625Z"
   },
   {
    "duration": 0,
    "start_time": "2023-07-07T15:21:05.626Z"
   },
   {
    "duration": 0,
    "start_time": "2023-07-07T15:21:05.628Z"
   },
   {
    "duration": 21,
    "start_time": "2023-07-07T15:21:47.014Z"
   },
   {
    "duration": 9,
    "start_time": "2023-07-07T15:27:36.950Z"
   },
   {
    "duration": 4,
    "start_time": "2023-07-07T15:34:14.888Z"
   },
   {
    "duration": 2088,
    "start_time": "2023-07-07T15:34:17.553Z"
   },
   {
    "duration": 1050,
    "start_time": "2023-07-07T15:35:32.039Z"
   },
   {
    "duration": 126,
    "start_time": "2023-07-07T15:35:33.091Z"
   },
   {
    "duration": 7,
    "start_time": "2023-07-07T15:35:33.218Z"
   },
   {
    "duration": 107,
    "start_time": "2023-07-07T15:35:33.226Z"
   },
   {
    "duration": 44,
    "start_time": "2023-07-07T15:35:33.339Z"
   },
   {
    "duration": 79,
    "start_time": "2023-07-07T15:35:33.385Z"
   },
   {
    "duration": 32,
    "start_time": "2023-07-07T15:35:33.466Z"
   },
   {
    "duration": 8,
    "start_time": "2023-07-07T15:35:33.499Z"
   },
   {
    "duration": 50,
    "start_time": "2023-07-07T15:35:33.509Z"
   },
   {
    "duration": 17,
    "start_time": "2023-07-07T15:35:33.561Z"
   },
   {
    "duration": 18,
    "start_time": "2023-07-07T15:35:33.580Z"
   },
   {
    "duration": 45,
    "start_time": "2023-07-07T15:35:33.616Z"
   },
   {
    "duration": 22,
    "start_time": "2023-07-07T15:35:33.663Z"
   },
   {
    "duration": 64,
    "start_time": "2023-07-07T15:35:33.687Z"
   },
   {
    "duration": 125,
    "start_time": "2023-07-07T15:35:33.753Z"
   },
   {
    "duration": 0,
    "start_time": "2023-07-07T15:35:33.879Z"
   },
   {
    "duration": 0,
    "start_time": "2023-07-07T15:35:33.880Z"
   },
   {
    "duration": 0,
    "start_time": "2023-07-07T15:35:33.881Z"
   },
   {
    "duration": 490,
    "start_time": "2023-07-07T15:39:15.386Z"
   },
   {
    "duration": 13,
    "start_time": "2023-07-07T15:39:25.296Z"
   },
   {
    "duration": 21,
    "start_time": "2023-07-07T15:39:31.524Z"
   },
   {
    "duration": 22,
    "start_time": "2023-07-07T15:43:37.999Z"
   },
   {
    "duration": 21,
    "start_time": "2023-07-07T15:43:43.075Z"
   },
   {
    "duration": 32,
    "start_time": "2023-07-07T15:43:47.130Z"
   },
   {
    "duration": 33,
    "start_time": "2023-07-07T15:45:14.438Z"
   },
   {
    "duration": 1117,
    "start_time": "2023-07-07T15:45:26.726Z"
   },
   {
    "duration": 112,
    "start_time": "2023-07-07T15:45:27.845Z"
   },
   {
    "duration": 3,
    "start_time": "2023-07-07T15:45:27.958Z"
   },
   {
    "duration": 89,
    "start_time": "2023-07-07T15:45:27.965Z"
   },
   {
    "duration": 54,
    "start_time": "2023-07-07T15:45:28.055Z"
   },
   {
    "duration": 19,
    "start_time": "2023-07-07T15:45:28.110Z"
   },
   {
    "duration": 33,
    "start_time": "2023-07-07T15:45:28.131Z"
   },
   {
    "duration": 19,
    "start_time": "2023-07-07T15:45:28.165Z"
   },
   {
    "duration": 5,
    "start_time": "2023-07-07T15:45:28.186Z"
   },
   {
    "duration": 40,
    "start_time": "2023-07-07T15:45:28.193Z"
   },
   {
    "duration": 11,
    "start_time": "2023-07-07T15:45:28.234Z"
   },
   {
    "duration": 11,
    "start_time": "2023-07-07T15:45:28.247Z"
   },
   {
    "duration": 14,
    "start_time": "2023-07-07T15:45:28.259Z"
   },
   {
    "duration": 2,
    "start_time": "2023-07-07T15:45:28.275Z"
   },
   {
    "duration": 5,
    "start_time": "2023-07-07T15:45:28.278Z"
   },
   {
    "duration": 24,
    "start_time": "2023-07-07T15:45:28.285Z"
   },
   {
    "duration": 738,
    "start_time": "2023-07-07T15:45:28.310Z"
   },
   {
    "duration": 0,
    "start_time": "2023-07-07T15:45:29.050Z"
   },
   {
    "duration": 0,
    "start_time": "2023-07-07T15:45:29.051Z"
   },
   {
    "duration": 1048,
    "start_time": "2023-07-07T15:46:39.867Z"
   },
   {
    "duration": 113,
    "start_time": "2023-07-07T15:46:40.917Z"
   },
   {
    "duration": 3,
    "start_time": "2023-07-07T15:46:41.031Z"
   },
   {
    "duration": 53,
    "start_time": "2023-07-07T15:46:41.035Z"
   },
   {
    "duration": 53,
    "start_time": "2023-07-07T15:46:41.089Z"
   },
   {
    "duration": 15,
    "start_time": "2023-07-07T15:46:41.143Z"
   },
   {
    "duration": 27,
    "start_time": "2023-07-07T15:46:41.159Z"
   },
   {
    "duration": 24,
    "start_time": "2023-07-07T15:46:41.187Z"
   },
   {
    "duration": 9,
    "start_time": "2023-07-07T15:46:41.212Z"
   },
   {
    "duration": 20,
    "start_time": "2023-07-07T15:46:41.227Z"
   },
   {
    "duration": 12,
    "start_time": "2023-07-07T15:46:41.248Z"
   },
   {
    "duration": 9,
    "start_time": "2023-07-07T15:46:41.262Z"
   },
   {
    "duration": 15,
    "start_time": "2023-07-07T15:46:41.273Z"
   },
   {
    "duration": 26,
    "start_time": "2023-07-07T15:46:41.289Z"
   },
   {
    "duration": 14,
    "start_time": "2023-07-07T15:46:41.316Z"
   },
   {
    "duration": 22,
    "start_time": "2023-07-07T15:46:41.332Z"
   },
   {
    "duration": 15,
    "start_time": "2023-07-07T15:46:41.356Z"
   },
   {
    "duration": 107,
    "start_time": "2023-07-07T15:46:41.372Z"
   },
   {
    "duration": 0,
    "start_time": "2023-07-07T15:46:41.481Z"
   },
   {
    "duration": 3,
    "start_time": "2023-07-07T15:53:34.435Z"
   },
   {
    "duration": 23,
    "start_time": "2023-07-07T15:53:45.748Z"
   },
   {
    "duration": 4055,
    "start_time": "2023-07-07T15:54:08.631Z"
   },
   {
    "duration": 52,
    "start_time": "2023-07-07T15:54:16.989Z"
   },
   {
    "duration": 4,
    "start_time": "2023-07-07T15:54:23.821Z"
   },
   {
    "duration": 1056,
    "start_time": "2023-07-07T15:54:23.828Z"
   },
   {
    "duration": 119,
    "start_time": "2023-07-07T15:54:24.886Z"
   },
   {
    "duration": 7,
    "start_time": "2023-07-07T15:54:25.006Z"
   },
   {
    "duration": 82,
    "start_time": "2023-07-07T15:54:25.015Z"
   },
   {
    "duration": 52,
    "start_time": "2023-07-07T15:54:25.098Z"
   },
   {
    "duration": 18,
    "start_time": "2023-07-07T15:54:25.151Z"
   },
   {
    "duration": 38,
    "start_time": "2023-07-07T15:54:25.171Z"
   },
   {
    "duration": 36,
    "start_time": "2023-07-07T15:54:25.210Z"
   },
   {
    "duration": 5,
    "start_time": "2023-07-07T15:54:25.247Z"
   },
   {
    "duration": 33,
    "start_time": "2023-07-07T15:54:25.253Z"
   },
   {
    "duration": 11,
    "start_time": "2023-07-07T15:54:25.288Z"
   },
   {
    "duration": 14,
    "start_time": "2023-07-07T15:54:25.317Z"
   },
   {
    "duration": 23,
    "start_time": "2023-07-07T15:54:25.332Z"
   },
   {
    "duration": 2,
    "start_time": "2023-07-07T15:54:25.357Z"
   },
   {
    "duration": 6,
    "start_time": "2023-07-07T15:54:25.360Z"
   },
   {
    "duration": 18,
    "start_time": "2023-07-07T15:54:25.367Z"
   },
   {
    "duration": 26,
    "start_time": "2023-07-07T15:54:25.387Z"
   },
   {
    "duration": 116,
    "start_time": "2023-07-07T15:54:25.415Z"
   },
   {
    "duration": 0,
    "start_time": "2023-07-07T15:54:25.533Z"
   },
   {
    "duration": 10,
    "start_time": "2023-07-07T16:09:01.988Z"
   },
   {
    "duration": 8,
    "start_time": "2023-07-07T16:09:10.626Z"
   },
   {
    "duration": 17,
    "start_time": "2023-07-07T16:10:03.925Z"
   },
   {
    "duration": 116,
    "start_time": "2023-07-07T16:13:56.824Z"
   },
   {
    "duration": 1282,
    "start_time": "2023-07-07T16:14:29.969Z"
   },
   {
    "duration": 1241,
    "start_time": "2023-07-07T16:15:00.679Z"
   },
   {
    "duration": 11,
    "start_time": "2023-07-07T16:15:06.531Z"
   },
   {
    "duration": 1882,
    "start_time": "2023-07-07T16:16:16.484Z"
   },
   {
    "duration": 9,
    "start_time": "2023-07-07T16:17:34.453Z"
   },
   {
    "duration": 1407,
    "start_time": "2023-07-07T16:17:39.135Z"
   },
   {
    "duration": 1787,
    "start_time": "2023-07-07T16:17:40.543Z"
   },
   {
    "duration": 5,
    "start_time": "2023-07-07T16:17:42.332Z"
   },
   {
    "duration": 1763,
    "start_time": "2023-07-07T16:19:06.324Z"
   },
   {
    "duration": 1702,
    "start_time": "2023-07-07T16:19:23.629Z"
   },
   {
    "duration": 1666,
    "start_time": "2023-07-07T16:19:29.631Z"
   },
   {
    "duration": 1742,
    "start_time": "2023-07-07T16:19:43.826Z"
   },
   {
    "duration": 1643,
    "start_time": "2023-07-07T16:24:42.053Z"
   },
   {
    "duration": 1660,
    "start_time": "2023-07-07T16:24:53.065Z"
   },
   {
    "duration": 1762,
    "start_time": "2023-07-07T16:25:01.233Z"
   },
   {
    "duration": 9,
    "start_time": "2023-07-07T16:27:20.072Z"
   },
   {
    "duration": 9,
    "start_time": "2023-07-07T16:27:46.225Z"
   },
   {
    "duration": 14,
    "start_time": "2023-07-07T16:28:14.518Z"
   },
   {
    "duration": 3,
    "start_time": "2023-07-07T16:28:45.933Z"
   },
   {
    "duration": 1068,
    "start_time": "2023-07-07T16:28:45.939Z"
   },
   {
    "duration": 111,
    "start_time": "2023-07-07T16:28:47.018Z"
   },
   {
    "duration": 3,
    "start_time": "2023-07-07T16:28:47.130Z"
   },
   {
    "duration": 60,
    "start_time": "2023-07-07T16:28:47.134Z"
   },
   {
    "duration": 60,
    "start_time": "2023-07-07T16:28:47.196Z"
   },
   {
    "duration": 14,
    "start_time": "2023-07-07T16:28:47.258Z"
   },
   {
    "duration": 20,
    "start_time": "2023-07-07T16:28:47.274Z"
   },
   {
    "duration": 56,
    "start_time": "2023-07-07T16:28:47.296Z"
   },
   {
    "duration": 5,
    "start_time": "2023-07-07T16:28:47.353Z"
   },
   {
    "duration": 26,
    "start_time": "2023-07-07T16:28:47.359Z"
   },
   {
    "duration": 50,
    "start_time": "2023-07-07T16:28:47.386Z"
   },
   {
    "duration": 9,
    "start_time": "2023-07-07T16:28:47.438Z"
   },
   {
    "duration": 22,
    "start_time": "2023-07-07T16:28:47.448Z"
   },
   {
    "duration": 2,
    "start_time": "2023-07-07T16:28:47.472Z"
   },
   {
    "duration": 14,
    "start_time": "2023-07-07T16:28:47.475Z"
   },
   {
    "duration": 59,
    "start_time": "2023-07-07T16:28:47.491Z"
   },
   {
    "duration": 15,
    "start_time": "2023-07-07T16:28:47.552Z"
   },
   {
    "duration": 108,
    "start_time": "2023-07-07T16:28:47.569Z"
   },
   {
    "duration": 1,
    "start_time": "2023-07-07T16:28:47.678Z"
   },
   {
    "duration": 0,
    "start_time": "2023-07-07T16:28:47.680Z"
   },
   {
    "duration": 165,
    "start_time": "2023-07-07T16:34:45.584Z"
   },
   {
    "duration": 14,
    "start_time": "2023-07-07T16:34:50.367Z"
   },
   {
    "duration": 3,
    "start_time": "2023-07-07T16:35:02.946Z"
   },
   {
    "duration": 1240,
    "start_time": "2023-07-07T16:35:02.950Z"
   },
   {
    "duration": 139,
    "start_time": "2023-07-07T16:35:04.192Z"
   },
   {
    "duration": 3,
    "start_time": "2023-07-07T16:35:04.335Z"
   },
   {
    "duration": 67,
    "start_time": "2023-07-07T16:35:04.340Z"
   },
   {
    "duration": 51,
    "start_time": "2023-07-07T16:35:04.413Z"
   },
   {
    "duration": 15,
    "start_time": "2023-07-07T16:35:04.466Z"
   },
   {
    "duration": 57,
    "start_time": "2023-07-07T16:35:04.482Z"
   },
   {
    "duration": 18,
    "start_time": "2023-07-07T16:35:04.542Z"
   },
   {
    "duration": 5,
    "start_time": "2023-07-07T16:35:04.561Z"
   },
   {
    "duration": 16,
    "start_time": "2023-07-07T16:35:04.567Z"
   },
   {
    "duration": 8,
    "start_time": "2023-07-07T16:35:04.584Z"
   },
   {
    "duration": 15,
    "start_time": "2023-07-07T16:35:04.594Z"
   },
   {
    "duration": 50,
    "start_time": "2023-07-07T16:35:04.610Z"
   },
   {
    "duration": 2,
    "start_time": "2023-07-07T16:35:04.661Z"
   },
   {
    "duration": 11,
    "start_time": "2023-07-07T16:35:04.665Z"
   },
   {
    "duration": 21,
    "start_time": "2023-07-07T16:35:04.677Z"
   },
   {
    "duration": 39,
    "start_time": "2023-07-07T16:35:04.699Z"
   },
   {
    "duration": 121,
    "start_time": "2023-07-07T16:35:04.740Z"
   },
   {
    "duration": 0,
    "start_time": "2023-07-07T16:35:04.863Z"
   },
   {
    "duration": 0,
    "start_time": "2023-07-07T16:35:04.864Z"
   },
   {
    "duration": 2,
    "start_time": "2023-07-07T16:35:16.346Z"
   },
   {
    "duration": 16,
    "start_time": "2023-07-07T16:35:53.637Z"
   },
   {
    "duration": 13,
    "start_time": "2023-07-07T16:36:02.565Z"
   },
   {
    "duration": 8,
    "start_time": "2023-07-07T16:37:25.498Z"
   },
   {
    "duration": 1140,
    "start_time": "2023-07-07T16:37:25.507Z"
   },
   {
    "duration": 120,
    "start_time": "2023-07-07T16:37:26.648Z"
   },
   {
    "duration": 3,
    "start_time": "2023-07-07T16:37:26.770Z"
   },
   {
    "duration": 87,
    "start_time": "2023-07-07T16:37:26.774Z"
   },
   {
    "duration": 70,
    "start_time": "2023-07-07T16:37:26.863Z"
   },
   {
    "duration": 17,
    "start_time": "2023-07-07T16:37:26.935Z"
   },
   {
    "duration": 20,
    "start_time": "2023-07-07T16:37:26.953Z"
   },
   {
    "duration": 16,
    "start_time": "2023-07-07T16:37:26.975Z"
   },
   {
    "duration": 4,
    "start_time": "2023-07-07T16:37:26.993Z"
   },
   {
    "duration": 55,
    "start_time": "2023-07-07T16:37:26.999Z"
   },
   {
    "duration": 14,
    "start_time": "2023-07-07T16:37:27.055Z"
   },
   {
    "duration": 13,
    "start_time": "2023-07-07T16:37:27.070Z"
   },
   {
    "duration": 27,
    "start_time": "2023-07-07T16:37:27.085Z"
   },
   {
    "duration": 2,
    "start_time": "2023-07-07T16:37:27.114Z"
   },
   {
    "duration": 33,
    "start_time": "2023-07-07T16:37:27.118Z"
   },
   {
    "duration": 35,
    "start_time": "2023-07-07T16:37:27.152Z"
   },
   {
    "duration": 38,
    "start_time": "2023-07-07T16:37:27.188Z"
   },
   {
    "duration": 6,
    "start_time": "2023-07-07T16:37:27.227Z"
   },
   {
    "duration": 127,
    "start_time": "2023-07-07T16:37:27.235Z"
   },
   {
    "duration": 0,
    "start_time": "2023-07-07T16:37:27.364Z"
   },
   {
    "duration": 0,
    "start_time": "2023-07-07T16:37:27.365Z"
   },
   {
    "duration": 2,
    "start_time": "2023-07-07T16:37:36.339Z"
   },
   {
    "duration": 3,
    "start_time": "2023-07-07T16:38:05.810Z"
   },
   {
    "duration": 1185,
    "start_time": "2023-07-07T16:38:05.815Z"
   },
   {
    "duration": 132,
    "start_time": "2023-07-07T16:38:07.005Z"
   },
   {
    "duration": 4,
    "start_time": "2023-07-07T16:38:07.140Z"
   },
   {
    "duration": 72,
    "start_time": "2023-07-07T16:38:07.145Z"
   },
   {
    "duration": 48,
    "start_time": "2023-07-07T16:38:07.228Z"
   },
   {
    "duration": 15,
    "start_time": "2023-07-07T16:38:07.278Z"
   },
   {
    "duration": 56,
    "start_time": "2023-07-07T16:38:07.295Z"
   },
   {
    "duration": 16,
    "start_time": "2023-07-07T16:38:07.354Z"
   },
   {
    "duration": 5,
    "start_time": "2023-07-07T16:38:07.372Z"
   },
   {
    "duration": 53,
    "start_time": "2023-07-07T16:38:07.379Z"
   },
   {
    "duration": 18,
    "start_time": "2023-07-07T16:38:07.433Z"
   },
   {
    "duration": 9,
    "start_time": "2023-07-07T16:38:07.453Z"
   },
   {
    "duration": 14,
    "start_time": "2023-07-07T16:38:07.463Z"
   },
   {
    "duration": 2,
    "start_time": "2023-07-07T16:38:07.479Z"
   },
   {
    "duration": 5,
    "start_time": "2023-07-07T16:38:07.482Z"
   },
   {
    "duration": 53,
    "start_time": "2023-07-07T16:38:07.489Z"
   },
   {
    "duration": 17,
    "start_time": "2023-07-07T16:38:07.543Z"
   },
   {
    "duration": 4,
    "start_time": "2023-07-07T16:38:07.562Z"
   },
   {
    "duration": 13,
    "start_time": "2023-07-07T16:38:07.567Z"
   },
   {
    "duration": 152,
    "start_time": "2023-07-07T16:38:07.581Z"
   },
   {
    "duration": 0,
    "start_time": "2023-07-07T16:38:07.735Z"
   },
   {
    "duration": 0,
    "start_time": "2023-07-07T16:38:07.739Z"
   },
   {
    "duration": 3,
    "start_time": "2023-07-07T16:38:17.138Z"
   },
   {
    "duration": 21,
    "start_time": "2023-07-07T16:38:19.434Z"
   },
   {
    "duration": 13,
    "start_time": "2023-07-07T16:38:38.024Z"
   },
   {
    "duration": 1190,
    "start_time": "2023-07-07T16:38:38.354Z"
   },
   {
    "duration": 1686,
    "start_time": "2023-07-07T16:38:46.347Z"
   },
   {
    "duration": 10,
    "start_time": "2023-07-07T16:41:35.031Z"
   },
   {
    "duration": 33,
    "start_time": "2023-07-07T16:41:50.896Z"
   },
   {
    "duration": 221,
    "start_time": "2023-07-07T16:42:10.051Z"
   },
   {
    "duration": 45,
    "start_time": "2023-07-07T16:42:11.144Z"
   },
   {
    "duration": 35,
    "start_time": "2023-07-07T16:42:16.499Z"
   },
   {
    "duration": 5,
    "start_time": "2023-07-07T16:42:55.325Z"
   },
   {
    "duration": 774,
    "start_time": "2023-07-07T16:42:55.472Z"
   },
   {
    "duration": 3,
    "start_time": "2023-07-07T16:42:56.247Z"
   },
   {
    "duration": 60,
    "start_time": "2023-07-07T16:42:57.484Z"
   },
   {
    "duration": 23,
    "start_time": "2023-07-07T16:42:58.257Z"
   },
   {
    "duration": 29513,
    "start_time": "2023-07-07T16:43:20.244Z"
   },
   {
    "duration": 4,
    "start_time": "2023-07-07T16:44:37.067Z"
   },
   {
    "duration": 46,
    "start_time": "2023-07-07T16:44:38.023Z"
   },
   {
    "duration": 595,
    "start_time": "2023-07-07T16:44:38.337Z"
   },
   {
    "duration": 2,
    "start_time": "2023-07-07T16:44:39.092Z"
   },
   {
    "duration": 0,
    "start_time": "2023-07-07T16:45:32.934Z"
   },
   {
    "duration": 1517,
    "start_time": "2023-07-07T16:45:34.223Z"
   },
   {
    "duration": 6,
    "start_time": "2023-07-07T16:46:21.756Z"
   },
   {
    "duration": 704,
    "start_time": "2023-07-07T16:46:21.911Z"
   },
   {
    "duration": 1438,
    "start_time": "2023-07-07T16:46:22.626Z"
   },
   {
    "duration": 5,
    "start_time": "2023-07-07T16:46:35.573Z"
   },
   {
    "duration": 720,
    "start_time": "2023-07-07T16:46:36.343Z"
   },
   {
    "duration": 1569,
    "start_time": "2023-07-07T16:46:37.065Z"
   },
   {
    "duration": 19,
    "start_time": "2023-07-07T16:48:12.922Z"
   },
   {
    "duration": 4,
    "start_time": "2023-07-14T08:22:24.920Z"
   },
   {
    "duration": 533,
    "start_time": "2023-07-14T08:22:24.925Z"
   },
   {
    "duration": 0,
    "start_time": "2023-07-14T08:22:25.460Z"
   },
   {
    "duration": 0,
    "start_time": "2023-07-14T08:22:25.461Z"
   },
   {
    "duration": 0,
    "start_time": "2023-07-14T08:22:25.462Z"
   },
   {
    "duration": 0,
    "start_time": "2023-07-14T08:22:25.463Z"
   },
   {
    "duration": 0,
    "start_time": "2023-07-14T08:22:25.464Z"
   },
   {
    "duration": 0,
    "start_time": "2023-07-14T08:22:25.465Z"
   },
   {
    "duration": 0,
    "start_time": "2023-07-14T08:22:25.475Z"
   },
   {
    "duration": 0,
    "start_time": "2023-07-14T08:22:25.476Z"
   },
   {
    "duration": 0,
    "start_time": "2023-07-14T08:22:25.477Z"
   },
   {
    "duration": 0,
    "start_time": "2023-07-14T08:22:25.478Z"
   },
   {
    "duration": 0,
    "start_time": "2023-07-14T08:22:25.479Z"
   },
   {
    "duration": 0,
    "start_time": "2023-07-14T08:22:25.480Z"
   },
   {
    "duration": 0,
    "start_time": "2023-07-14T08:22:25.481Z"
   },
   {
    "duration": 0,
    "start_time": "2023-07-14T08:22:25.481Z"
   },
   {
    "duration": 0,
    "start_time": "2023-07-14T08:22:25.483Z"
   },
   {
    "duration": 0,
    "start_time": "2023-07-14T08:22:25.483Z"
   },
   {
    "duration": 0,
    "start_time": "2023-07-14T08:22:25.484Z"
   },
   {
    "duration": 0,
    "start_time": "2023-07-14T08:22:25.485Z"
   },
   {
    "duration": 0,
    "start_time": "2023-07-14T08:22:25.486Z"
   },
   {
    "duration": 0,
    "start_time": "2023-07-14T08:22:25.487Z"
   },
   {
    "duration": 0,
    "start_time": "2023-07-14T08:22:25.488Z"
   },
   {
    "duration": 0,
    "start_time": "2023-07-14T08:22:25.489Z"
   },
   {
    "duration": 3374,
    "start_time": "2023-07-14T08:22:52.070Z"
   },
   {
    "duration": 2679,
    "start_time": "2023-07-14T08:22:55.447Z"
   },
   {
    "duration": 303,
    "start_time": "2023-07-14T08:22:58.128Z"
   },
   {
    "duration": 2,
    "start_time": "2023-07-14T08:22:58.434Z"
   },
   {
    "duration": 69,
    "start_time": "2023-07-14T08:22:58.438Z"
   },
   {
    "duration": 47,
    "start_time": "2023-07-14T08:22:58.508Z"
   },
   {
    "duration": 33,
    "start_time": "2023-07-14T08:22:58.556Z"
   },
   {
    "duration": 25,
    "start_time": "2023-07-14T08:22:58.590Z"
   },
   {
    "duration": 19,
    "start_time": "2023-07-14T08:22:58.616Z"
   },
   {
    "duration": 4,
    "start_time": "2023-07-14T08:22:58.637Z"
   },
   {
    "duration": 40,
    "start_time": "2023-07-14T08:22:58.642Z"
   },
   {
    "duration": 17,
    "start_time": "2023-07-14T08:22:58.683Z"
   },
   {
    "duration": 10,
    "start_time": "2023-07-14T08:22:58.701Z"
   },
   {
    "duration": 15,
    "start_time": "2023-07-14T08:22:58.713Z"
   },
   {
    "duration": 17,
    "start_time": "2023-07-14T08:22:58.729Z"
   },
   {
    "duration": 35,
    "start_time": "2023-07-14T08:22:58.747Z"
   },
   {
    "duration": 5,
    "start_time": "2023-07-14T08:22:58.783Z"
   },
   {
    "duration": 781,
    "start_time": "2023-07-14T08:22:58.789Z"
   },
   {
    "duration": 1817,
    "start_time": "2023-07-14T08:22:59.571Z"
   },
   {
    "duration": 218,
    "start_time": "2023-07-14T08:23:01.389Z"
   },
   {
    "duration": 3,
    "start_time": "2023-07-14T08:23:01.608Z"
   },
   {
    "duration": 130,
    "start_time": "2023-07-14T08:23:01.612Z"
   },
   {
    "duration": 61,
    "start_time": "2023-07-14T08:23:01.744Z"
   },
   {
    "duration": 58,
    "start_time": "2023-07-14T08:23:01.807Z"
   },
   {
    "duration": 21,
    "start_time": "2023-07-14T08:23:08.973Z"
   },
   {
    "duration": 2788,
    "start_time": "2023-07-14T08:23:35.105Z"
   },
   {
    "duration": 492,
    "start_time": "2023-07-15T16:08:24.505Z"
   },
   {
    "duration": 0,
    "start_time": "2023-07-15T16:08:24.999Z"
   },
   {
    "duration": 0,
    "start_time": "2023-07-15T16:08:25.000Z"
   },
   {
    "duration": 0,
    "start_time": "2023-07-15T16:08:25.001Z"
   },
   {
    "duration": 0,
    "start_time": "2023-07-15T16:08:25.023Z"
   },
   {
    "duration": 0,
    "start_time": "2023-07-15T16:08:25.024Z"
   },
   {
    "duration": 0,
    "start_time": "2023-07-15T16:08:25.025Z"
   },
   {
    "duration": 0,
    "start_time": "2023-07-15T16:08:25.027Z"
   },
   {
    "duration": 0,
    "start_time": "2023-07-15T16:08:25.028Z"
   },
   {
    "duration": 0,
    "start_time": "2023-07-15T16:08:25.029Z"
   },
   {
    "duration": 0,
    "start_time": "2023-07-15T16:08:25.030Z"
   },
   {
    "duration": 0,
    "start_time": "2023-07-15T16:08:25.031Z"
   },
   {
    "duration": 0,
    "start_time": "2023-07-15T16:08:25.031Z"
   },
   {
    "duration": 0,
    "start_time": "2023-07-15T16:08:25.032Z"
   },
   {
    "duration": 0,
    "start_time": "2023-07-15T16:08:25.034Z"
   },
   {
    "duration": 0,
    "start_time": "2023-07-15T16:08:25.034Z"
   },
   {
    "duration": 0,
    "start_time": "2023-07-15T16:08:25.036Z"
   },
   {
    "duration": 0,
    "start_time": "2023-07-15T16:08:25.037Z"
   },
   {
    "duration": 0,
    "start_time": "2023-07-15T16:08:25.039Z"
   },
   {
    "duration": 0,
    "start_time": "2023-07-15T16:08:25.041Z"
   },
   {
    "duration": 0,
    "start_time": "2023-07-15T16:08:25.042Z"
   },
   {
    "duration": 0,
    "start_time": "2023-07-15T16:08:25.044Z"
   },
   {
    "duration": 0,
    "start_time": "2023-07-15T16:08:25.045Z"
   },
   {
    "duration": 0,
    "start_time": "2023-07-15T16:08:25.046Z"
   },
   {
    "duration": 0,
    "start_time": "2023-07-15T16:08:25.048Z"
   },
   {
    "duration": 0,
    "start_time": "2023-07-15T16:08:25.049Z"
   },
   {
    "duration": 0,
    "start_time": "2023-07-15T16:08:25.051Z"
   },
   {
    "duration": 0,
    "start_time": "2023-07-15T16:08:25.052Z"
   },
   {
    "duration": 0,
    "start_time": "2023-07-15T16:08:25.054Z"
   },
   {
    "duration": 0,
    "start_time": "2023-07-15T16:08:25.055Z"
   },
   {
    "duration": 0,
    "start_time": "2023-07-15T16:08:25.056Z"
   },
   {
    "duration": 0,
    "start_time": "2023-07-15T16:08:25.060Z"
   },
   {
    "duration": 0,
    "start_time": "2023-07-15T16:08:25.108Z"
   },
   {
    "duration": 27,
    "start_time": "2023-07-15T16:09:00.841Z"
   }
  ],
  "kernelspec": {
   "display_name": "Python 3 (ipykernel)",
   "language": "python",
   "name": "python3"
  },
  "language_info": {
   "codemirror_mode": {
    "name": "ipython",
    "version": 3
   },
   "file_extension": ".py",
   "mimetype": "text/x-python",
   "name": "python",
   "nbconvert_exporter": "python",
   "pygments_lexer": "ipython3",
   "version": "3.10.12"
  },
  "toc": {
   "base_numbering": 1,
   "nav_menu": {},
   "number_sections": true,
   "sideBar": true,
   "skip_h1_title": true,
   "title_cell": "Table of Contents",
   "title_sidebar": "Contents",
   "toc_cell": false,
   "toc_position": {},
   "toc_section_display": true,
   "toc_window_display": false
  },
  "varInspector": {
   "cols": {
    "lenName": 16,
    "lenType": 16,
    "lenVar": 40
   },
   "kernels_config": {
    "python": {
     "delete_cmd_postfix": "",
     "delete_cmd_prefix": "del ",
     "library": "var_list.py",
     "varRefreshCmd": "print(var_dic_list())"
    },
    "r": {
     "delete_cmd_postfix": ") ",
     "delete_cmd_prefix": "rm(",
     "library": "var_list.r",
     "varRefreshCmd": "cat(var_dic_list()) "
    }
   },
   "types_to_exclude": [
    "module",
    "function",
    "builtin_function_or_method",
    "instance",
    "_Feature"
   ],
   "window_display": false
  }
 },
 "nbformat": 4,
 "nbformat_minor": 5
}
