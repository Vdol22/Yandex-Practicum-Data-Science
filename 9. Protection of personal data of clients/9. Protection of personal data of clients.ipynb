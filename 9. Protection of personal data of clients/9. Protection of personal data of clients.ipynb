{
 "cells": [
  {
   "cell_type": "markdown",
   "metadata": {
    "toc": true
   },
   "source": [
    "<h1>Содержание<span class=\"tocSkip\"></span></h1>\n",
    "<div class=\"toc\"><ul class=\"toc-item\"><li><span><a href=\"#Изучение-и-предобработка-данных\" data-toc-modified-id=\"Изучение-и-предобработка-данных-1\"><span class=\"toc-item-num\">1&nbsp;&nbsp;</span>Изучение и предобработка данных</a></span><ul class=\"toc-item\"><li><span><a href=\"#Изучение-данных\" data-toc-modified-id=\"Изучение-данных-1.1\"><span class=\"toc-item-num\">1.1&nbsp;&nbsp;</span>Изучение данных</a></span></li><li><span><a href=\"#Предобработка-данных\" data-toc-modified-id=\"Предобработка-данных-1.2\"><span class=\"toc-item-num\">1.2&nbsp;&nbsp;</span>Предобработка данных</a></span></li></ul></li><li><span><a href=\"#Умножение-матриц\" data-toc-modified-id=\"Умножение-матриц-2\"><span class=\"toc-item-num\">2&nbsp;&nbsp;</span>Умножение матриц</a></span></li><li><span><a href=\"#Алгоритм-преобразования\" data-toc-modified-id=\"Алгоритм-преобразования-3\"><span class=\"toc-item-num\">3&nbsp;&nbsp;</span>Алгоритм преобразования</a></span></li><li><span><a href=\"#Проверка-алгоритма\" data-toc-modified-id=\"Проверка-алгоритма-4\"><span class=\"toc-item-num\">4&nbsp;&nbsp;</span>Проверка алгоритма</a></span></li></ul></div>"
   ]
  },
  {
   "cell_type": "markdown",
   "metadata": {},
   "source": [
    "# Защита персональных данных клиентов"
   ]
  },
  {
   "cell_type": "markdown",
   "metadata": {},
   "source": [
    "Вам нужно защитить данные клиентов страховой компании «Хоть потоп». Разработайте такой метод преобразования данных, чтобы по ним было сложно восстановить персональную информацию. Обоснуйте корректность его работы.\n",
    "\n",
    "Нужно защитить данные, чтобы при преобразовании качество моделей машинного обучения не ухудшилось. Подбирать наилучшую модель не требуется."
   ]
  },
  {
   "cell_type": "markdown",
   "metadata": {},
   "source": [
    "\n",
    "- Признаки: пол, возраст и зарплата застрахованного, количество членов его семьи.\n",
    "- Целевой признак: количество страховых выплат клиенту за последние 5 лет"
   ]
  },
  {
   "cell_type": "markdown",
   "metadata": {},
   "source": [
    "## Изучение и предобработка данных\n",
    "### Изучение данных"
   ]
  },
  {
   "cell_type": "code",
   "execution_count": 1,
   "metadata": {},
   "outputs": [],
   "source": [
    "# Загрузим все необходимые библиотеки.\n",
    "\n",
    "import pandas as pd\n",
    "import numpy as np\n",
    "from sklearn.metrics import r2_score\n",
    "from sklearn.linear_model import LinearRegression"
   ]
  },
  {
   "cell_type": "code",
   "execution_count": 2,
   "metadata": {},
   "outputs": [],
   "source": [
    "#Изучим данные\n",
    "\n",
    "data = pd.read_csv('/datasets/insurance.csv')"
   ]
  },
  {
   "cell_type": "code",
   "execution_count": 3,
   "metadata": {},
   "outputs": [
    {
     "data": {
      "text/html": [
       "<div>\n",
       "<style scoped>\n",
       "    .dataframe tbody tr th:only-of-type {\n",
       "        vertical-align: middle;\n",
       "    }\n",
       "\n",
       "    .dataframe tbody tr th {\n",
       "        vertical-align: top;\n",
       "    }\n",
       "\n",
       "    .dataframe thead th {\n",
       "        text-align: right;\n",
       "    }\n",
       "</style>\n",
       "<table border=\"1\" class=\"dataframe\">\n",
       "  <thead>\n",
       "    <tr style=\"text-align: right;\">\n",
       "      <th></th>\n",
       "      <th>Пол</th>\n",
       "      <th>Возраст</th>\n",
       "      <th>Зарплата</th>\n",
       "      <th>Члены семьи</th>\n",
       "      <th>Страховые выплаты</th>\n",
       "    </tr>\n",
       "  </thead>\n",
       "  <tbody>\n",
       "    <tr>\n",
       "      <th>0</th>\n",
       "      <td>1</td>\n",
       "      <td>41.0</td>\n",
       "      <td>49600.0</td>\n",
       "      <td>1</td>\n",
       "      <td>0</td>\n",
       "    </tr>\n",
       "    <tr>\n",
       "      <th>1</th>\n",
       "      <td>0</td>\n",
       "      <td>46.0</td>\n",
       "      <td>38000.0</td>\n",
       "      <td>1</td>\n",
       "      <td>1</td>\n",
       "    </tr>\n",
       "    <tr>\n",
       "      <th>2</th>\n",
       "      <td>0</td>\n",
       "      <td>29.0</td>\n",
       "      <td>21000.0</td>\n",
       "      <td>0</td>\n",
       "      <td>0</td>\n",
       "    </tr>\n",
       "    <tr>\n",
       "      <th>3</th>\n",
       "      <td>0</td>\n",
       "      <td>21.0</td>\n",
       "      <td>41700.0</td>\n",
       "      <td>2</td>\n",
       "      <td>0</td>\n",
       "    </tr>\n",
       "    <tr>\n",
       "      <th>4</th>\n",
       "      <td>1</td>\n",
       "      <td>28.0</td>\n",
       "      <td>26100.0</td>\n",
       "      <td>0</td>\n",
       "      <td>0</td>\n",
       "    </tr>\n",
       "  </tbody>\n",
       "</table>\n",
       "</div>"
      ],
      "text/plain": [
       "   Пол  Возраст  Зарплата  Члены семьи  Страховые выплаты\n",
       "0    1     41.0   49600.0            1                  0\n",
       "1    0     46.0   38000.0            1                  1\n",
       "2    0     29.0   21000.0            0                  0\n",
       "3    0     21.0   41700.0            2                  0\n",
       "4    1     28.0   26100.0            0                  0"
      ]
     },
     "metadata": {},
     "output_type": "display_data"
    },
    {
     "name": "stdout",
     "output_type": "stream",
     "text": [
      "<class 'pandas.core.frame.DataFrame'>\n",
      "RangeIndex: 5000 entries, 0 to 4999\n",
      "Data columns (total 5 columns):\n",
      " #   Column             Non-Null Count  Dtype  \n",
      "---  ------             --------------  -----  \n",
      " 0   Пол                5000 non-null   int64  \n",
      " 1   Возраст            5000 non-null   float64\n",
      " 2   Зарплата           5000 non-null   float64\n",
      " 3   Члены семьи        5000 non-null   int64  \n",
      " 4   Страховые выплаты  5000 non-null   int64  \n",
      "dtypes: float64(2), int64(3)\n",
      "memory usage: 195.4 KB\n"
     ]
    }
   ],
   "source": [
    "display (data.head())\n",
    "data.info()"
   ]
  },
  {
   "cell_type": "code",
   "execution_count": 4,
   "metadata": {},
   "outputs": [
    {
     "data": {
      "text/plain": [
       "False    4847\n",
       "True      153\n",
       "dtype: int64"
      ]
     },
     "execution_count": 4,
     "metadata": {},
     "output_type": "execute_result"
    }
   ],
   "source": [
    "# Изучим наличие дубликатов\n",
    "\n",
    "data.duplicated().value_counts()"
   ]
  },
  {
   "cell_type": "code",
   "execution_count": 5,
   "metadata": {},
   "outputs": [
    {
     "data": {
      "text/plain": [
       "Пол                  0\n",
       "Возраст              0\n",
       "Зарплата             0\n",
       "Члены семьи          0\n",
       "Страховые выплаты    0\n",
       "dtype: int64"
      ]
     },
     "execution_count": 5,
     "metadata": {},
     "output_type": "execute_result"
    }
   ],
   "source": [
    "# Исследуем данные на наличие пропусков\n",
    "\n",
    "data.isna().sum()"
   ]
  },
  {
   "cell_type": "markdown",
   "metadata": {},
   "source": [
    "По результатам исследования данных имеем следующие выводы:\n",
    "1. Целевым категориальным признаком является столбец \"Страховые выплаты\";\n",
    "1. Столбцы \"возраст\" и \"зарплата\" необходимо привести к правильному формату;\n",
    "1. Необходимо избавиться от явных дубликатов.\n",
    "1. Пропусков в данных не обнаружено."
   ]
  },
  {
   "cell_type": "markdown",
   "metadata": {},
   "source": [
    "### Предобработка данных"
   ]
  },
  {
   "cell_type": "code",
   "execution_count": 6,
   "metadata": {},
   "outputs": [
    {
     "data": {
      "text/html": [
       "<div>\n",
       "<style scoped>\n",
       "    .dataframe tbody tr th:only-of-type {\n",
       "        vertical-align: middle;\n",
       "    }\n",
       "\n",
       "    .dataframe tbody tr th {\n",
       "        vertical-align: top;\n",
       "    }\n",
       "\n",
       "    .dataframe thead th {\n",
       "        text-align: right;\n",
       "    }\n",
       "</style>\n",
       "<table border=\"1\" class=\"dataframe\">\n",
       "  <thead>\n",
       "    <tr style=\"text-align: right;\">\n",
       "      <th></th>\n",
       "      <th>Пол</th>\n",
       "      <th>Возраст</th>\n",
       "      <th>Зарплата</th>\n",
       "      <th>Члены семьи</th>\n",
       "      <th>Страховые выплаты</th>\n",
       "    </tr>\n",
       "  </thead>\n",
       "  <tbody>\n",
       "    <tr>\n",
       "      <th>0</th>\n",
       "      <td>1</td>\n",
       "      <td>41</td>\n",
       "      <td>49600</td>\n",
       "      <td>1</td>\n",
       "      <td>0</td>\n",
       "    </tr>\n",
       "    <tr>\n",
       "      <th>1</th>\n",
       "      <td>0</td>\n",
       "      <td>46</td>\n",
       "      <td>38000</td>\n",
       "      <td>1</td>\n",
       "      <td>1</td>\n",
       "    </tr>\n",
       "    <tr>\n",
       "      <th>2</th>\n",
       "      <td>0</td>\n",
       "      <td>29</td>\n",
       "      <td>21000</td>\n",
       "      <td>0</td>\n",
       "      <td>0</td>\n",
       "    </tr>\n",
       "    <tr>\n",
       "      <th>3</th>\n",
       "      <td>0</td>\n",
       "      <td>21</td>\n",
       "      <td>41700</td>\n",
       "      <td>2</td>\n",
       "      <td>0</td>\n",
       "    </tr>\n",
       "    <tr>\n",
       "      <th>4</th>\n",
       "      <td>1</td>\n",
       "      <td>28</td>\n",
       "      <td>26100</td>\n",
       "      <td>0</td>\n",
       "      <td>0</td>\n",
       "    </tr>\n",
       "  </tbody>\n",
       "</table>\n",
       "</div>"
      ],
      "text/plain": [
       "   Пол  Возраст  Зарплата  Члены семьи  Страховые выплаты\n",
       "0    1       41     49600            1                  0\n",
       "1    0       46     38000            1                  1\n",
       "2    0       29     21000            0                  0\n",
       "3    0       21     41700            2                  0\n",
       "4    1       28     26100            0                  0"
      ]
     },
     "metadata": {},
     "output_type": "display_data"
    },
    {
     "name": "stdout",
     "output_type": "stream",
     "text": [
      "Сумма явных дубликатов: 0\n"
     ]
    }
   ],
   "source": [
    "# Выделим features и target в отдельные переменные:\n",
    "features = data.drop(['Страховые выплаты'], axis=1)\n",
    "target = data['Страховые выплаты']\n",
    "\n",
    "# Приведём данные к правильному формату:\n",
    "data['Зарплата'] = data['Зарплата'].astype(int)\n",
    "data['Возраст'] = data['Возраст'].astype(int)\n",
    "\n",
    "# Избавимя от дубликатов:\n",
    "data.drop_duplicates(inplace=True)\n",
    "\n",
    "# Рассмотрим данные после предобработки\n",
    "display(data.head())\n",
    "print('Сумма явных дубликатов:', data.duplicated().sum())"
   ]
  },
  {
   "cell_type": "markdown",
   "metadata": {},
   "source": [
    "## Умножение матриц"
   ]
  },
  {
   "cell_type": "markdown",
   "metadata": {},
   "source": [
    "В этом задании вы можете записывать формулы в *Jupyter Notebook.*\n",
    "\n",
    "Чтобы записать формулу внутри текста, окружите её символами доллара \\\\$; если снаружи —  двойными символами \\\\$\\\\$. Эти формулы записываются на языке вёрстки *LaTeX.* \n",
    "\n",
    "Для примера мы записали формулы линейной регрессии. Можете их скопировать и отредактировать, чтобы решить задачу.\n",
    "\n",
    "Работать в *LaTeX* необязательно."
   ]
  },
  {
   "cell_type": "markdown",
   "metadata": {},
   "source": [
    "Обозначения:\n",
    "\n",
    "- $X$ — матрица признаков (нулевой столбец состоит из единиц)\n",
    "\n",
    "- $y$ — вектор целевого признака\n",
    "\n",
    "- $P$ — матрица, на которую умножаются признаки\n",
    "\n",
    "- $w$ — вектор весов линейной регрессии (нулевой элемент равен сдвигу)"
   ]
  },
  {
   "cell_type": "markdown",
   "metadata": {},
   "source": [
    "Предсказания:\n",
    "\n",
    "$$\n",
    "a = Xw\n",
    "$$\n",
    "\n",
    "Задача обучения:\n",
    "\n",
    "$$\n",
    "w = \\arg\\min_w MSE(Xw, y)\n",
    "$$\n",
    "\n",
    "Формула обучения:\n",
    "\n",
    "$$\n",
    "w = (X^T X)^{-1} X^T y\n",
    "$$"
   ]
  },
  {
   "cell_type": "markdown",
   "metadata": {},
   "source": [
    "**Изменится ли качество линейной регрессии, если признаки умножить на обратимую матрицу?**\n",
    "\n",
    "**Ответ:** Нет.\n",
    "\n",
    "**Обоснование:** обозначим исходную матрицу признаков $w_1$, а умноженную на другую матрицу $w_2$, тогда:\n",
    "\n",
    "\n",
    "$$\n",
    "w_1 = (X^T X)^{-1} X^T y\n",
    "$$\n",
    "\n",
    "$$\n",
    "w_2 = ((XP)^T (XP))^{-1} (XP)^T y\n",
    "$$\n",
    "\n",
    "Раскроем скобки:\n",
    "\n",
    "$$\n",
    "w_2 = (P^T X^T X P)^{-1} P^{T}X^{T}y\n",
    "$$\n",
    "\n",
    "$$\n",
    "w_2 = ((X^TX)P)^{-1} P^{T^{-1}} P^{T}X^{T}y\n",
    "$$\n",
    "\n",
    "$$\n",
    "w_2 = P^{-1}(X^TX)^{-1} P^{T^{-1}} P^{T}X^{T}y\n",
    "$$\n",
    "\n",
    "$P^{T^{-1}}P^{T}$ являtтся единичной матрицей ($E$). Умножение матрицы на единичную эквивалентно умножению числа на 1. Таким образом:\n",
    "\n",
    "$$\n",
    "w_2 =P^{-1}*[(X^{T}X)^{-1}X^{T}y]\n",
    "$$\n",
    "\n",
    "$$\n",
    "w_2 = P^{-1}w_1\n",
    "$$\n",
    "\n",
    "**ЧТД.**"
   ]
  },
  {
   "cell_type": "markdown",
   "metadata": {},
   "source": [
    "## Алгоритм преобразования\n",
    "\n",
    "В предыдущем пункте было теоретически доказано, что умножение матрицы на обратимую не должно повлять на качество линейной регрессии. С целью эмперического подтверждения того же тезиса составим алгоритм преобразования матрицы признаков с поэтапным измерением метрики $R^2$:\n",
    "\n",
    "1. Присвоить переменной модель линейной регрессии;\n",
    "1. Обучить модель на исходной матрице признаков $X$;\n",
    "1. Сделать прогноз на основе исходных данных;\n",
    "1. Вычислить метрику $R_1^2$;\n",
    "1. Умножить исходную матрицу $X$ на обратимую матирцу $P$;\n",
    "1. Обучить модель на преобразованной матрице;\n",
    "1. Сделать прогноз на преобразованных данных;\n",
    "1. Вычислить метрику $R_2^2$;\n",
    "1. Сравнить полученные коэффициенты детерминации.\n",
    "\n",
    "Таким образом будет получен однозначный вывод о возможном изменении матрицы признаков при умножении на обратимую."
   ]
  },
  {
   "cell_type": "markdown",
   "metadata": {},
   "source": [
    "## Проверка алгоритма"
   ]
  },
  {
   "cell_type": "code",
   "execution_count": 7,
   "metadata": {
    "scrolled": true
   },
   "outputs": [
    {
     "name": "stdout",
     "output_type": "stream",
     "text": [
      "R2 исходного набора данных: 0.4249455028666801\n"
     ]
    }
   ],
   "source": [
    "# 1. Присвоим переменной `model` модель линейной регрессии\n",
    "model = LinearRegression()\n",
    "\n",
    "# 2. Обучим модель на исходной матрице признаков, представленной переменными features и target:\n",
    "model.fit(features, target)\n",
    "\n",
    "# 3. Сделаем прогноз на основе исходных данных:\n",
    "predictions1 = model.predict(features)\n",
    "\n",
    "# 4. Вычислим метрику R2 для исходной выборки:\n",
    "r2_old = r2_score(target, predictions1)\n",
    "print(\"R2 исходного набора данных:\", r2_old)"
   ]
  },
  {
   "cell_type": "code",
   "execution_count": 8,
   "metadata": {},
   "outputs": [
    {
     "name": "stdout",
     "output_type": "stream",
     "text": [
      "Сгенерированная матрица:\n",
      " [[-0.12479937 -0.11838017  0.1824721   1.08985344]\n",
      " [-1.19632646 -0.54606649 -0.4291928   0.12286849]\n",
      " [ 0.93046785  0.66666656 -1.64165867  0.7597778 ]\n",
      " [ 1.78376329  1.10078856  0.27784827  1.35215216]]\n",
      "\n",
      "Матрица обратима\n"
     ]
    }
   ],
   "source": [
    "# 5. Чтобы умножить исходную матрицу на обратимую создадим матрицу `random` той же размерности и проверим её на обратимость:\n",
    "random = np.random.randn(4, 4)\n",
    "print('Сгенерированная матрица:\\n', random)\n",
    "\n",
    "try:\n",
    "    np.linalg.inv(random)\n",
    "    print('\\nМатрица обратима')\n",
    "except:\n",
    "    print('\\nМатрица необратима')"
   ]
  },
  {
   "cell_type": "code",
   "execution_count": 9,
   "metadata": {},
   "outputs": [
    {
     "data": {
      "text/plain": [
       "'Матрица признаков после преобразования:'"
      ]
     },
     "metadata": {},
     "output_type": "display_data"
    },
    {
     "data": {
      "text/html": [
       "<div>\n",
       "<style scoped>\n",
       "    .dataframe tbody tr th:only-of-type {\n",
       "        vertical-align: middle;\n",
       "    }\n",
       "\n",
       "    .dataframe tbody tr th {\n",
       "        vertical-align: top;\n",
       "    }\n",
       "\n",
       "    .dataframe thead th {\n",
       "        text-align: right;\n",
       "    }\n",
       "</style>\n",
       "<table border=\"1\" class=\"dataframe\">\n",
       "  <thead>\n",
       "    <tr style=\"text-align: right;\">\n",
       "      <th></th>\n",
       "      <th>0</th>\n",
       "      <th>1</th>\n",
       "      <th>2</th>\n",
       "      <th>3</th>\n",
       "    </tr>\n",
       "  </thead>\n",
       "  <tbody>\n",
       "    <tr>\n",
       "      <th>0</th>\n",
       "      <td>46103.814771</td>\n",
       "      <td>33045.255134</td>\n",
       "      <td>-81443.406790</td>\n",
       "      <td>37692.458294</td>\n",
       "    </tr>\n",
       "    <tr>\n",
       "      <th>1</th>\n",
       "      <td>35304.530917</td>\n",
       "      <td>25309.311068</td>\n",
       "      <td>-62402.494613</td>\n",
       "      <td>28878.560350</td>\n",
       "    </tr>\n",
       "    <tr>\n",
       "      <th>2</th>\n",
       "      <td>19505.131312</td>\n",
       "      <td>13984.161864</td>\n",
       "      <td>-34487.278735</td>\n",
       "      <td>15958.896902</td>\n",
       "    </tr>\n",
       "    <tr>\n",
       "      <th>3</th>\n",
       "      <td>38778.953875</td>\n",
       "      <td>27790.729796</td>\n",
       "      <td>-68465.624037</td>\n",
       "      <td>31688.018635</td>\n",
       "    </tr>\n",
       "    <tr>\n",
       "      <th>4</th>\n",
       "      <td>24251.588856</td>\n",
       "      <td>17384.589014</td>\n",
       "      <td>-42859.126305</td>\n",
       "      <td>19834.730646</td>\n",
       "    </tr>\n",
       "    <tr>\n",
       "      <th>...</th>\n",
       "      <td>...</td>\n",
       "      <td>...</td>\n",
       "      <td>...</td>\n",
       "      <td>...</td>\n",
       "    </tr>\n",
       "    <tr>\n",
       "      <th>4995</th>\n",
       "      <td>33187.772510</td>\n",
       "      <td>23786.907962</td>\n",
       "      <td>-58618.676346</td>\n",
       "      <td>27130.211939</td>\n",
       "    </tr>\n",
       "    <tr>\n",
       "      <th>4996</th>\n",
       "      <td>48717.623826</td>\n",
       "      <td>34915.862351</td>\n",
       "      <td>-86037.229198</td>\n",
       "      <td>39817.886190</td>\n",
       "    </tr>\n",
       "    <tr>\n",
       "      <th>4997</th>\n",
       "      <td>31522.500998</td>\n",
       "      <td>22591.276683</td>\n",
       "      <td>-55660.257191</td>\n",
       "      <td>25761.628958</td>\n",
       "    </tr>\n",
       "    <tr>\n",
       "      <th>4998</th>\n",
       "      <td>30405.205893</td>\n",
       "      <td>21791.167084</td>\n",
       "      <td>-53690.664848</td>\n",
       "      <td>24852.583345</td>\n",
       "    </tr>\n",
       "    <tr>\n",
       "      <th>4999</th>\n",
       "      <td>37745.156396</td>\n",
       "      <td>27052.354944</td>\n",
       "      <td>-66662.899222</td>\n",
       "      <td>30852.860840</td>\n",
       "    </tr>\n",
       "  </tbody>\n",
       "</table>\n",
       "<p>5000 rows × 4 columns</p>\n",
       "</div>"
      ],
      "text/plain": [
       "                 0             1             2             3\n",
       "0     46103.814771  33045.255134 -81443.406790  37692.458294\n",
       "1     35304.530917  25309.311068 -62402.494613  28878.560350\n",
       "2     19505.131312  13984.161864 -34487.278735  15958.896902\n",
       "3     38778.953875  27790.729796 -68465.624037  31688.018635\n",
       "4     24251.588856  17384.589014 -42859.126305  19834.730646\n",
       "...            ...           ...           ...           ...\n",
       "4995  33187.772510  23786.907962 -58618.676346  27130.211939\n",
       "4996  48717.623826  34915.862351 -86037.229198  39817.886190\n",
       "4997  31522.500998  22591.276683 -55660.257191  25761.628958\n",
       "4998  30405.205893  21791.167084 -53690.664848  24852.583345\n",
       "4999  37745.156396  27052.354944 -66662.899222  30852.860840\n",
       "\n",
       "[5000 rows x 4 columns]"
      ]
     },
     "metadata": {},
     "output_type": "display_data"
    }
   ],
   "source": [
    "# Проведём непосредственное умножение `random` на `features` и выведем на экран:\n",
    "features_new = features @ random\n",
    "display('Матрица признаков после преобразования:', features_new)"
   ]
  },
  {
   "cell_type": "code",
   "execution_count": 10,
   "metadata": {},
   "outputs": [
    {
     "name": "stdout",
     "output_type": "stream",
     "text": [
      "R2 преобразованного набора данных: 0.42494550286668986\n"
     ]
    }
   ],
   "source": [
    "# 6. Обучим модель на преобразованной матрице:\n",
    "model = LinearRegression()\n",
    "model.fit(features_new, target)\n",
    "\n",
    "# 7. Сделаем прогноз на основе преобразованных данных:\n",
    "predictions2 = model.predict(features_new)\n",
    "\n",
    "# 8. Вычислим метрику R2 для преобразованной выборки:\n",
    "r2_new = r2_score(target, predictions2)\n",
    "print(\"R2 преобразованного набора данных:\", r2_new)"
   ]
  },
  {
   "cell_type": "code",
   "execution_count": 11,
   "metadata": {
    "scrolled": true
   },
   "outputs": [
    {
     "name": "stdout",
     "output_type": "stream",
     "text": [
      "Разность метрик R2 составила: -9.769962616701378e-15\n"
     ]
    }
   ],
   "source": [
    "# Сравним полученные коэффициенты детерминации:\n",
    "print('Разность метрик R2 составила:', r2_old-r2_new)"
   ]
  },
  {
   "cell_type": "markdown",
   "metadata": {},
   "source": [
    "Эмперически **доказано, что качество линейной регрессии незначительно мало искажается при умножении исходных данных на обратимую матрицу.**\n",
    "\n",
    "В целях самопроверки восстановим матрицу путём умножения модифицированного `features` на обратную матрицу и сравним округлённые резльтаты:"
   ]
  },
  {
   "cell_type": "code",
   "execution_count": 20,
   "metadata": {},
   "outputs": [
    {
     "data": {
      "text/html": [
       "<div>\n",
       "<style scoped>\n",
       "    .dataframe tbody tr th:only-of-type {\n",
       "        vertical-align: middle;\n",
       "    }\n",
       "\n",
       "    .dataframe tbody tr th {\n",
       "        vertical-align: top;\n",
       "    }\n",
       "\n",
       "    .dataframe thead th {\n",
       "        text-align: right;\n",
       "    }\n",
       "</style>\n",
       "<table border=\"1\" class=\"dataframe\">\n",
       "  <thead>\n",
       "    <tr style=\"text-align: right;\">\n",
       "      <th></th>\n",
       "      <th>0</th>\n",
       "      <th>1</th>\n",
       "      <th>2</th>\n",
       "      <th>3</th>\n",
       "    </tr>\n",
       "  </thead>\n",
       "  <tbody>\n",
       "    <tr>\n",
       "      <th>0</th>\n",
       "      <td>True</td>\n",
       "      <td>True</td>\n",
       "      <td>True</td>\n",
       "      <td>True</td>\n",
       "    </tr>\n",
       "    <tr>\n",
       "      <th>1</th>\n",
       "      <td>True</td>\n",
       "      <td>True</td>\n",
       "      <td>True</td>\n",
       "      <td>True</td>\n",
       "    </tr>\n",
       "    <tr>\n",
       "      <th>2</th>\n",
       "      <td>True</td>\n",
       "      <td>True</td>\n",
       "      <td>True</td>\n",
       "      <td>True</td>\n",
       "    </tr>\n",
       "    <tr>\n",
       "      <th>3</th>\n",
       "      <td>True</td>\n",
       "      <td>True</td>\n",
       "      <td>True</td>\n",
       "      <td>True</td>\n",
       "    </tr>\n",
       "    <tr>\n",
       "      <th>4</th>\n",
       "      <td>True</td>\n",
       "      <td>True</td>\n",
       "      <td>True</td>\n",
       "      <td>True</td>\n",
       "    </tr>\n",
       "    <tr>\n",
       "      <th>...</th>\n",
       "      <td>...</td>\n",
       "      <td>...</td>\n",
       "      <td>...</td>\n",
       "      <td>...</td>\n",
       "    </tr>\n",
       "    <tr>\n",
       "      <th>4995</th>\n",
       "      <td>True</td>\n",
       "      <td>True</td>\n",
       "      <td>True</td>\n",
       "      <td>True</td>\n",
       "    </tr>\n",
       "    <tr>\n",
       "      <th>4996</th>\n",
       "      <td>True</td>\n",
       "      <td>True</td>\n",
       "      <td>True</td>\n",
       "      <td>True</td>\n",
       "    </tr>\n",
       "    <tr>\n",
       "      <th>4997</th>\n",
       "      <td>True</td>\n",
       "      <td>True</td>\n",
       "      <td>True</td>\n",
       "      <td>True</td>\n",
       "    </tr>\n",
       "    <tr>\n",
       "      <th>4998</th>\n",
       "      <td>True</td>\n",
       "      <td>True</td>\n",
       "      <td>True</td>\n",
       "      <td>True</td>\n",
       "    </tr>\n",
       "    <tr>\n",
       "      <th>4999</th>\n",
       "      <td>True</td>\n",
       "      <td>True</td>\n",
       "      <td>True</td>\n",
       "      <td>True</td>\n",
       "    </tr>\n",
       "  </tbody>\n",
       "</table>\n",
       "<p>5000 rows × 4 columns</p>\n",
       "</div>"
      ],
      "text/plain": [
       "         0     1     2     3\n",
       "0     True  True  True  True\n",
       "1     True  True  True  True\n",
       "2     True  True  True  True\n",
       "3     True  True  True  True\n",
       "4     True  True  True  True\n",
       "...    ...   ...   ...   ...\n",
       "4995  True  True  True  True\n",
       "4996  True  True  True  True\n",
       "4997  True  True  True  True\n",
       "4998  True  True  True  True\n",
       "4999  True  True  True  True\n",
       "\n",
       "[5000 rows x 4 columns]"
      ]
     },
     "execution_count": 20,
     "metadata": {},
     "output_type": "execute_result"
    }
   ],
   "source": [
    "features.columns = range(features.columns.size)\n",
    "restored_data = features_new @ (np.linalg.inv(random))\n",
    "np.round(restored_data) == np.round(features)"
   ]
  },
  {
   "cell_type": "markdown",
   "metadata": {},
   "source": [
    "**Проверка пройдена успешно.**"
   ]
  }
 ],
 "metadata": {
  "ExecuteTimeLog": [
   {
    "duration": 1866,
    "start_time": "2023-05-13T09:25:02.592Z"
   },
   {
    "duration": 154,
    "start_time": "2023-05-13T09:26:04.027Z"
   },
   {
    "duration": 82,
    "start_time": "2023-05-13T09:26:12.275Z"
   },
   {
    "duration": 283,
    "start_time": "2023-05-13T09:26:26.839Z"
   },
   {
    "duration": 69,
    "start_time": "2023-05-13T09:26:37.106Z"
   },
   {
    "duration": 53,
    "start_time": "2023-05-13T09:27:42.696Z"
   },
   {
    "duration": 39,
    "start_time": "2023-05-13T09:27:44.525Z"
   },
   {
    "duration": 31,
    "start_time": "2023-05-13T09:27:44.567Z"
   },
   {
    "duration": 20,
    "start_time": "2023-05-13T09:28:49.712Z"
   },
   {
    "duration": 10,
    "start_time": "2023-05-13T09:28:53.203Z"
   },
   {
    "duration": 13,
    "start_time": "2023-05-13T09:33:58.824Z"
   },
   {
    "duration": 1426,
    "start_time": "2023-05-13T09:36:07.893Z"
   },
   {
    "duration": 39,
    "start_time": "2023-05-13T09:36:09.323Z"
   },
   {
    "duration": 37,
    "start_time": "2023-05-13T09:36:09.364Z"
   },
   {
    "duration": 69,
    "start_time": "2023-05-13T09:36:09.403Z"
   },
   {
    "duration": 47,
    "start_time": "2023-05-13T09:36:35.154Z"
   },
   {
    "duration": 10,
    "start_time": "2023-05-13T09:36:40.415Z"
   },
   {
    "duration": 252,
    "start_time": "2023-05-13T09:49:46.510Z"
   },
   {
    "duration": 7,
    "start_time": "2023-05-13T09:49:53.482Z"
   },
   {
    "duration": 7,
    "start_time": "2023-05-13T10:07:14.420Z"
   },
   {
    "duration": 22,
    "start_time": "2023-05-13T10:08:05.911Z"
   },
   {
    "duration": 84,
    "start_time": "2023-05-13T10:08:46.727Z"
   },
   {
    "duration": 95,
    "start_time": "2023-05-13T10:08:53.848Z"
   },
   {
    "duration": 22,
    "start_time": "2023-05-13T10:08:58.809Z"
   },
   {
    "duration": 25,
    "start_time": "2023-05-13T10:09:10.803Z"
   },
   {
    "duration": 159,
    "start_time": "2023-05-13T10:45:22.338Z"
   },
   {
    "duration": 4,
    "start_time": "2023-05-13T13:12:28.713Z"
   },
   {
    "duration": 2,
    "start_time": "2023-05-13T13:12:50.479Z"
   },
   {
    "duration": 4,
    "start_time": "2023-05-13T13:14:07.008Z"
   },
   {
    "duration": 8,
    "start_time": "2023-05-13T13:14:07.599Z"
   },
   {
    "duration": 8,
    "start_time": "2023-05-13T13:14:11.940Z"
   },
   {
    "duration": 15,
    "start_time": "2023-05-13T13:16:19.262Z"
   },
   {
    "duration": 5550,
    "start_time": "2023-05-13T13:16:29.411Z"
   },
   {
    "duration": 24,
    "start_time": "2023-05-13T13:18:25.912Z"
   },
   {
    "duration": 7,
    "start_time": "2023-05-13T13:18:32.758Z"
   },
   {
    "duration": 3,
    "start_time": "2023-05-13T13:18:37.121Z"
   },
   {
    "duration": 5908,
    "start_time": "2023-05-13T13:18:37.561Z"
   },
   {
    "duration": 3,
    "start_time": "2023-05-13T13:24:50.248Z"
   },
   {
    "duration": 5683,
    "start_time": "2023-05-13T13:24:50.972Z"
   },
   {
    "duration": 4,
    "start_time": "2023-05-13T13:25:17.031Z"
   },
   {
    "duration": 10,
    "start_time": "2023-05-13T13:25:17.572Z"
   },
   {
    "duration": 5,
    "start_time": "2023-05-13T13:25:35.612Z"
   },
   {
    "duration": 14,
    "start_time": "2023-05-13T13:25:36.104Z"
   },
   {
    "duration": 982,
    "start_time": "2023-05-13T13:25:54.645Z"
   },
   {
    "duration": 29,
    "start_time": "2023-05-13T13:25:55.629Z"
   },
   {
    "duration": 20,
    "start_time": "2023-05-13T13:25:55.660Z"
   },
   {
    "duration": 16,
    "start_time": "2023-05-13T13:25:55.682Z"
   },
   {
    "duration": 33,
    "start_time": "2023-05-13T13:25:55.706Z"
   },
   {
    "duration": 19,
    "start_time": "2023-05-13T13:25:55.740Z"
   },
   {
    "duration": 4,
    "start_time": "2023-05-13T13:25:55.761Z"
   },
   {
    "duration": 109,
    "start_time": "2023-05-13T13:25:55.767Z"
   },
   {
    "duration": 4,
    "start_time": "2023-05-13T13:27:26.513Z"
   },
   {
    "duration": 11,
    "start_time": "2023-05-13T13:27:26.825Z"
   },
   {
    "duration": 4,
    "start_time": "2023-05-13T13:27:47.911Z"
   },
   {
    "duration": 5583,
    "start_time": "2023-05-13T13:27:50.261Z"
   },
   {
    "duration": 3,
    "start_time": "2023-05-13T13:29:20.353Z"
   },
   {
    "duration": 5733,
    "start_time": "2023-05-13T13:29:20.515Z"
   },
   {
    "duration": 1089,
    "start_time": "2023-05-13T13:30:08.126Z"
   },
   {
    "duration": 31,
    "start_time": "2023-05-13T13:30:09.217Z"
   },
   {
    "duration": 22,
    "start_time": "2023-05-13T13:30:09.251Z"
   },
   {
    "duration": 5,
    "start_time": "2023-05-13T13:30:09.275Z"
   },
   {
    "duration": 58,
    "start_time": "2023-05-13T13:30:09.281Z"
   },
   {
    "duration": 17,
    "start_time": "2023-05-13T13:30:09.340Z"
   },
   {
    "duration": 11,
    "start_time": "2023-05-13T13:30:09.358Z"
   },
   {
    "duration": 6,
    "start_time": "2023-05-13T13:31:49.114Z"
   },
   {
    "duration": 9,
    "start_time": "2023-05-13T13:32:31.409Z"
   },
   {
    "duration": 50,
    "start_time": "2023-05-13T13:35:27.057Z"
   },
   {
    "duration": 10,
    "start_time": "2023-05-13T13:35:47.256Z"
   },
   {
    "duration": 10,
    "start_time": "2023-05-13T13:37:03.303Z"
   },
   {
    "duration": 32,
    "start_time": "2023-05-13T13:39:51.816Z"
   },
   {
    "duration": 3,
    "start_time": "2023-05-13T13:40:51.620Z"
   },
   {
    "duration": 4,
    "start_time": "2023-05-13T13:43:28.476Z"
   },
   {
    "duration": 3,
    "start_time": "2023-05-13T13:43:33.481Z"
   },
   {
    "duration": 14,
    "start_time": "2023-05-13T13:43:36.508Z"
   },
   {
    "duration": 4,
    "start_time": "2023-05-13T13:43:37.148Z"
   },
   {
    "duration": 4,
    "start_time": "2023-05-13T13:43:47.734Z"
   },
   {
    "duration": 16,
    "start_time": "2023-05-13T13:43:49.744Z"
   },
   {
    "duration": 4,
    "start_time": "2023-05-13T13:43:50.105Z"
   },
   {
    "duration": 6,
    "start_time": "2023-05-13T13:44:02.417Z"
   },
   {
    "duration": 6,
    "start_time": "2023-05-13T13:44:06.957Z"
   },
   {
    "duration": 6,
    "start_time": "2023-05-13T13:44:08.683Z"
   },
   {
    "duration": 5,
    "start_time": "2023-05-13T13:44:21.434Z"
   },
   {
    "duration": 6,
    "start_time": "2023-05-13T13:44:24.131Z"
   },
   {
    "duration": 10,
    "start_time": "2023-05-13T13:44:25.808Z"
   },
   {
    "duration": 24,
    "start_time": "2023-05-13T13:44:25.989Z"
   },
   {
    "duration": 6,
    "start_time": "2023-05-13T13:44:34.309Z"
   },
   {
    "duration": 8,
    "start_time": "2023-05-13T13:44:36.912Z"
   },
   {
    "duration": 4,
    "start_time": "2023-05-13T13:44:43.813Z"
   },
   {
    "duration": 6,
    "start_time": "2023-05-13T13:45:01.511Z"
   },
   {
    "duration": 7,
    "start_time": "2023-05-13T13:45:05.473Z"
   },
   {
    "duration": 17,
    "start_time": "2023-05-13T13:45:29.282Z"
   },
   {
    "duration": 5,
    "start_time": "2023-05-13T13:47:07.500Z"
   },
   {
    "duration": 90,
    "start_time": "2023-05-13T13:47:17.849Z"
   },
   {
    "duration": 4,
    "start_time": "2023-05-13T13:48:04.644Z"
   },
   {
    "duration": 3,
    "start_time": "2023-05-13T13:51:12.476Z"
   },
   {
    "duration": 92,
    "start_time": "2023-05-13T13:53:58.911Z"
   },
   {
    "duration": 10,
    "start_time": "2023-05-13T13:54:16.835Z"
   },
   {
    "duration": 1019,
    "start_time": "2023-05-13T13:55:18.511Z"
   },
   {
    "duration": 28,
    "start_time": "2023-05-13T13:55:19.532Z"
   },
   {
    "duration": 80,
    "start_time": "2023-05-13T13:55:19.562Z"
   },
   {
    "duration": 16,
    "start_time": "2023-05-13T13:55:19.643Z"
   },
   {
    "duration": 69,
    "start_time": "2023-05-13T13:55:19.660Z"
   },
   {
    "duration": 139,
    "start_time": "2023-05-13T13:55:19.730Z"
   },
   {
    "duration": 97,
    "start_time": "2023-05-13T13:55:19.870Z"
   },
   {
    "duration": 155,
    "start_time": "2023-05-13T13:55:19.969Z"
   },
   {
    "duration": 92,
    "start_time": "2023-05-13T13:55:20.126Z"
   },
   {
    "duration": 9,
    "start_time": "2023-05-13T13:55:36.728Z"
   },
   {
    "duration": 12,
    "start_time": "2023-05-13T13:57:38.818Z"
   },
   {
    "duration": 5,
    "start_time": "2023-05-13T13:57:39.027Z"
   },
   {
    "duration": 15,
    "start_time": "2023-05-13T13:57:39.242Z"
   },
   {
    "duration": 61,
    "start_time": "2023-05-13T13:57:39.506Z"
   },
   {
    "duration": 3,
    "start_time": "2023-05-13T13:57:44.053Z"
   },
   {
    "duration": 118,
    "start_time": "2023-05-13T14:01:04.242Z"
   },
   {
    "duration": 5,
    "start_time": "2023-05-13T14:01:40.376Z"
   },
   {
    "duration": 15,
    "start_time": "2023-05-13T14:01:46.749Z"
   },
   {
    "duration": 36,
    "start_time": "2023-05-13T14:03:03.283Z"
   },
   {
    "duration": 17,
    "start_time": "2023-05-13T14:03:11.721Z"
   },
   {
    "duration": 6,
    "start_time": "2023-05-13T14:04:17.308Z"
   },
   {
    "duration": 10,
    "start_time": "2023-05-13T14:04:18.130Z"
   },
   {
    "duration": 11,
    "start_time": "2023-05-13T14:04:31.129Z"
   },
   {
    "duration": 11,
    "start_time": "2023-05-13T14:04:35.152Z"
   },
   {
    "duration": 12,
    "start_time": "2023-05-13T14:04:57.026Z"
   },
   {
    "duration": 1031,
    "start_time": "2023-05-13T14:05:28.975Z"
   },
   {
    "duration": 30,
    "start_time": "2023-05-13T14:05:30.007Z"
   },
   {
    "duration": 44,
    "start_time": "2023-05-13T14:05:30.038Z"
   },
   {
    "duration": 53,
    "start_time": "2023-05-13T14:05:30.084Z"
   },
   {
    "duration": 35,
    "start_time": "2023-05-13T14:05:30.138Z"
   },
   {
    "duration": 68,
    "start_time": "2023-05-13T14:05:30.174Z"
   },
   {
    "duration": 47,
    "start_time": "2023-05-13T14:05:30.243Z"
   },
   {
    "duration": 154,
    "start_time": "2023-05-13T14:05:30.296Z"
   },
   {
    "duration": 63,
    "start_time": "2023-05-13T14:05:30.452Z"
   },
   {
    "duration": 115,
    "start_time": "2023-05-13T14:05:30.519Z"
   },
   {
    "duration": 30,
    "start_time": "2023-05-13T14:05:30.692Z"
   },
   {
    "duration": 298,
    "start_time": "2023-05-13T14:05:30.724Z"
   },
   {
    "duration": 33,
    "start_time": "2023-05-13T14:08:02.782Z"
   },
   {
    "duration": 9,
    "start_time": "2023-05-13T14:08:11.150Z"
   },
   {
    "duration": 4,
    "start_time": "2023-05-13T14:08:25.541Z"
   },
   {
    "duration": 15,
    "start_time": "2023-05-13T14:08:28.705Z"
   },
   {
    "duration": 12,
    "start_time": "2023-05-13T14:08:50.421Z"
   },
   {
    "duration": 9,
    "start_time": "2023-05-13T14:08:58.137Z"
   },
   {
    "duration": 11,
    "start_time": "2023-05-13T14:09:06.935Z"
   },
   {
    "duration": 10,
    "start_time": "2023-05-13T14:09:20.116Z"
   },
   {
    "duration": 1063,
    "start_time": "2023-05-13T14:09:51.116Z"
   },
   {
    "duration": 46,
    "start_time": "2023-05-13T14:09:52.181Z"
   },
   {
    "duration": 19,
    "start_time": "2023-05-13T14:09:52.231Z"
   },
   {
    "duration": 8,
    "start_time": "2023-05-13T14:09:52.252Z"
   },
   {
    "duration": 4,
    "start_time": "2023-05-13T14:09:52.262Z"
   },
   {
    "duration": 46,
    "start_time": "2023-05-13T14:09:52.268Z"
   },
   {
    "duration": 12,
    "start_time": "2023-05-13T14:09:52.315Z"
   },
   {
    "duration": 203,
    "start_time": "2023-05-13T14:09:52.328Z"
   },
   {
    "duration": 79,
    "start_time": "2023-05-13T14:09:52.533Z"
   },
   {
    "duration": 112,
    "start_time": "2023-05-13T14:09:52.613Z"
   },
   {
    "duration": 102,
    "start_time": "2023-05-13T14:09:52.795Z"
   },
   {
    "duration": 37,
    "start_time": "2023-05-13T14:09:52.899Z"
   },
   {
    "duration": 20,
    "start_time": "2023-05-13T14:09:52.938Z"
   },
   {
    "duration": 13,
    "start_time": "2023-05-13T14:09:52.960Z"
   },
   {
    "duration": 261,
    "start_time": "2023-05-13T14:09:52.975Z"
   },
   {
    "duration": 4,
    "start_time": "2023-05-13T14:11:06.078Z"
   },
   {
    "duration": 12,
    "start_time": "2023-05-13T14:11:07.152Z"
   },
   {
    "duration": 245,
    "start_time": "2023-05-13T14:12:28.282Z"
   },
   {
    "duration": 8,
    "start_time": "2023-05-13T14:12:46.344Z"
   },
   {
    "duration": 3,
    "start_time": "2023-05-13T14:12:50.327Z"
   },
   {
    "duration": 2,
    "start_time": "2023-05-13T14:12:56.524Z"
   },
   {
    "duration": 8,
    "start_time": "2023-05-13T14:13:00.060Z"
   },
   {
    "duration": 3,
    "start_time": "2023-05-13T14:13:07.152Z"
   },
   {
    "duration": 8,
    "start_time": "2023-05-13T14:13:13.468Z"
   },
   {
    "duration": 8,
    "start_time": "2023-05-13T14:13:13.929Z"
   },
   {
    "duration": 2,
    "start_time": "2023-05-13T14:13:14.775Z"
   },
   {
    "duration": 8,
    "start_time": "2023-05-13T14:13:23.123Z"
   },
   {
    "duration": 1006,
    "start_time": "2023-05-13T14:13:30.433Z"
   },
   {
    "duration": 29,
    "start_time": "2023-05-13T14:13:31.441Z"
   },
   {
    "duration": 45,
    "start_time": "2023-05-13T14:13:31.471Z"
   },
   {
    "duration": 31,
    "start_time": "2023-05-13T14:13:31.518Z"
   },
   {
    "duration": 28,
    "start_time": "2023-05-13T14:13:31.550Z"
   },
   {
    "duration": 74,
    "start_time": "2023-05-13T14:13:31.579Z"
   },
   {
    "duration": 40,
    "start_time": "2023-05-13T14:13:31.655Z"
   },
   {
    "duration": 185,
    "start_time": "2023-05-13T14:13:31.696Z"
   },
   {
    "duration": 132,
    "start_time": "2023-05-13T14:13:31.882Z"
   },
   {
    "duration": 86,
    "start_time": "2023-05-13T14:13:32.016Z"
   },
   {
    "duration": 106,
    "start_time": "2023-05-13T14:13:32.108Z"
   },
   {
    "duration": 16,
    "start_time": "2023-05-13T14:13:32.216Z"
   },
   {
    "duration": 18,
    "start_time": "2023-05-13T14:13:32.234Z"
   },
   {
    "duration": 15,
    "start_time": "2023-05-13T14:13:32.254Z"
   },
   {
    "duration": 8,
    "start_time": "2023-05-13T14:13:32.270Z"
   },
   {
    "duration": 241,
    "start_time": "2023-05-13T14:13:32.279Z"
   },
   {
    "duration": 19,
    "start_time": "2023-05-13T14:13:41.591Z"
   },
   {
    "duration": 2,
    "start_time": "2023-05-13T14:13:44.954Z"
   },
   {
    "duration": 18,
    "start_time": "2023-05-13T14:13:46.292Z"
   },
   {
    "duration": 11,
    "start_time": "2023-05-13T14:14:32.774Z"
   },
   {
    "duration": 12,
    "start_time": "2023-05-13T14:14:39.431Z"
   },
   {
    "duration": 3,
    "start_time": "2023-05-13T14:14:42.453Z"
   },
   {
    "duration": 12,
    "start_time": "2023-05-13T14:14:49.161Z"
   },
   {
    "duration": 11,
    "start_time": "2023-05-13T14:15:26.759Z"
   },
   {
    "duration": 3,
    "start_time": "2023-05-13T14:15:36.857Z"
   },
   {
    "duration": 11,
    "start_time": "2023-05-13T14:15:38.865Z"
   },
   {
    "duration": 997,
    "start_time": "2023-05-13T14:15:54.823Z"
   },
   {
    "duration": 28,
    "start_time": "2023-05-13T14:15:55.822Z"
   },
   {
    "duration": 21,
    "start_time": "2023-05-13T14:15:55.851Z"
   },
   {
    "duration": 7,
    "start_time": "2023-05-13T14:15:55.874Z"
   },
   {
    "duration": 27,
    "start_time": "2023-05-13T14:15:55.882Z"
   },
   {
    "duration": 15,
    "start_time": "2023-05-13T14:15:55.910Z"
   },
   {
    "duration": 70,
    "start_time": "2023-05-13T14:15:55.927Z"
   },
   {
    "duration": 115,
    "start_time": "2023-05-13T14:15:55.999Z"
   },
   {
    "duration": 187,
    "start_time": "2023-05-13T14:15:56.116Z"
   },
   {
    "duration": 10,
    "start_time": "2023-05-13T14:15:56.305Z"
   },
   {
    "duration": 186,
    "start_time": "2023-05-13T14:15:56.317Z"
   },
   {
    "duration": 23,
    "start_time": "2023-05-13T14:15:56.505Z"
   },
   {
    "duration": 28,
    "start_time": "2023-05-13T14:15:56.529Z"
   },
   {
    "duration": 5,
    "start_time": "2023-05-13T14:15:56.558Z"
   },
   {
    "duration": 221,
    "start_time": "2023-05-13T14:15:56.565Z"
   },
   {
    "duration": 8,
    "start_time": "2023-05-13T14:18:05.123Z"
   },
   {
    "duration": 2,
    "start_time": "2023-05-13T14:18:13.050Z"
   },
   {
    "duration": 24,
    "start_time": "2023-05-13T14:18:20.402Z"
   },
   {
    "duration": 17,
    "start_time": "2023-05-13T14:18:23.754Z"
   },
   {
    "duration": 15,
    "start_time": "2023-05-13T14:19:13.912Z"
   },
   {
    "duration": 27,
    "start_time": "2023-05-13T14:19:42.176Z"
   },
   {
    "duration": 83,
    "start_time": "2023-05-13T16:50:54.682Z"
   }
  ],
  "kernelspec": {
   "display_name": "Python 3 (ipykernel)",
   "language": "python",
   "name": "python3"
  },
  "language_info": {
   "codemirror_mode": {
    "name": "ipython",
    "version": 3
   },
   "file_extension": ".py",
   "mimetype": "text/x-python",
   "name": "python",
   "nbconvert_exporter": "python",
   "pygments_lexer": "ipython3",
   "version": "3.10.12"
  },
  "toc": {
   "base_numbering": 1,
   "nav_menu": {},
   "number_sections": true,
   "sideBar": true,
   "skip_h1_title": true,
   "title_cell": "Содержание",
   "title_sidebar": "Contents",
   "toc_cell": true,
   "toc_position": {},
   "toc_section_display": true,
   "toc_window_display": true
  }
 },
 "nbformat": 4,
 "nbformat_minor": 2
}
