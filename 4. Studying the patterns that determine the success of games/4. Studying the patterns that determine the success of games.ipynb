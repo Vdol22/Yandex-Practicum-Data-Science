{
 "cells": [
  {
   "cell_type": "markdown",
   "id": "263ddcaa",
   "metadata": {},
   "source": [
    "## Описание проекта."
   ]
  },
  {
   "cell_type": "markdown",
   "id": "b90bc9c0",
   "metadata": {},
   "source": [
    "Вы работаете в интернет-магазине «Стримчик», который продаёт по всему миру компьютерные игры. Из открытых источников доступны исторические данные о продажах игр, оценки пользователей и экспертов, жанры и платформы (например, Xbox или PlayStation). Вам нужно выявить определяющие успешность игры закономерности. Это позволит сделать ставку на потенциально популярный продукт и спланировать рекламные кампании.\n",
    "Перед вами данные до 2016 года. Представим, что сейчас декабрь 2016 г., и вы планируете кампанию на 2017-й. Нужно отработать принцип работы с данными. Неважно, прогнозируете ли вы продажи на 2017 год по данным 2016-го или же 2027-й — по данным 2026 года.\n",
    "В наборе данных попадается аббревиатура ESRB (Entertainment Software Rating Board) — это ассоциация, определяющая возрастной рейтинг компьютерных игр. ESRB оценивает игровой контент и присваивает ему подходящую возрастную категорию, например, «Для взрослых», «Для детей младшего возраста» или «Для подростков»."
   ]
  },
  {
   "cell_type": "markdown",
   "id": "29194949",
   "metadata": {},
   "source": [
    "## Постановка задачи."
   ]
  },
  {
   "cell_type": "markdown",
   "id": "7f9a34fc",
   "metadata": {},
   "source": [
    "### Подготовьте данные"
   ]
  },
  {
   "cell_type": "markdown",
   "id": "803269be",
   "metadata": {},
   "source": [
    " - Замените названия столбцов (приведите к нижнему регистру);\n",
    " - Преобразуйте данные в нужные типы. Опишите, в каких столбцах заменили тип данных и почему;\n",
    " - Обработайте пропуски при необходимости:\n",
    " - Объясните, почему заполнили пропуски определённым образом или почему не стали это делать;\n",
    " - Опишите причины, которые могли привести к пропускам;\n",
    " - Обратите внимание на аббревиатуру 'tbd' в столбце с оценкой пользователей. Отдельно разберите это значение и   опишите, как его обработать;\n",
    " - Посчитайте суммарные продажи во всех регионах и запишите их в отдельный столбец"
   ]
  },
  {
   "cell_type": "markdown",
   "id": "d2654653",
   "metadata": {},
   "source": [
    "### Проведите исследовательский анализ данных"
   ]
  },
  {
   "cell_type": "markdown",
   "id": "c59f6f63",
   "metadata": {},
   "source": [
    " - Посмотрите, сколько игр выпускалось в разные годы. Важны ли данные за все периоды?\n",
    " - Посмотрите, как менялись продажи по платформам. Выберите платформы с наибольшими суммарными продажами и постройте распределение по годам. За какой характерный срок появляются новые и исчезают старые платформы?\n",
    " - Возьмите данные за соответствующий актуальный период. Актуальный период определите самостоятельно в результате исследования предыдущих вопросов. Основной фактор — эти данные помогут построить прогноз на 2017 год.\n",
    " - Не учитывайте в работе данные за предыдущие годы.\n",
    " - Какие платформы лидируют по продажам, растут или падают? Выберите несколько потенциально прибыльных платформ.\n",
    " - Постройте график «ящик с усами» по глобальным продажам игр в разбивке по платформам. Опишите результат.\n",
    " - Посмотрите, как влияют на продажи внутри одной популярной платформы отзывы пользователей и критиков. Постройте диаграмму рассеяния и посчитайте корреляцию между отзывами и продажами. Сформулируйте выводы.\n",
    " - Соотнесите выводы с продажами игр на других платформах.\n",
    " - Посмотрите на общее распределение игр по жанрам. Что можно сказать о самых прибыльных жанрах? Выделяются ли жанры с высокими и низкими продажами?"
   ]
  },
  {
   "cell_type": "markdown",
   "id": "eb68aca9",
   "metadata": {},
   "source": [
    "### Составьте портрет пользователя каждого региона"
   ]
  },
  {
   "cell_type": "markdown",
   "id": "0e0e5ea6",
   "metadata": {},
   "source": [
    "Определите для пользователя каждого региона (NA, EU, JP):\n",
    " - Самые популярные платформы (топ-5). Опишите различия в долях продаж.\n",
    " - Самые популярные жанры (топ-5). Поясните разницу.\n",
    " - Влияет ли рейтинг ESRB на продажи в отдельном регионе?"
   ]
  },
  {
   "cell_type": "markdown",
   "id": "2de9ff8a",
   "metadata": {},
   "source": [
    "### Проверьте гипотезы"
   ]
  },
  {
   "cell_type": "markdown",
   "id": "45dc1cf1",
   "metadata": {},
   "source": [
    " - Средние пользовательские рейтинги платформ Xbox One и PC одинаковые;\n",
    " - Средние пользовательские рейтинги жанров Action (англ. «действие», экшен-игры) и Sports (англ. «спортивные соревнования») разные.\n",
    " - Задайте самостоятельно пороговое значение alpha.\n",
    " \n",
    "Поясните:\n",
    "\n",
    " - Как вы сформулировали нулевую и альтернативную гипотезы;\n",
    " - Какой критерий применили для проверки гипотез и почему."
   ]
  },
  {
   "cell_type": "markdown",
   "id": "99c0dcff",
   "metadata": {},
   "source": [
    "### Напишите общий вывод"
   ]
  },
  {
   "cell_type": "markdown",
   "id": "6f9972ad",
   "metadata": {},
   "source": [
    "## Описание данных"
   ]
  },
  {
   "cell_type": "markdown",
   "id": "0092856c",
   "metadata": {},
   "source": [
    " - Name — название игры\n",
    " - Platform — платформа\n",
    " - Year_of_Release — год выпуска\n",
    " - Genre — жанр игры\n",
    " - NA_sales — продажи в Северной Америке (миллионы проданных копий)\n",
    " - EU_sales — продажи в Европе (миллионы проданных копий)\n",
    " - JP_sales — продажи в Японии (миллионы проданных копий)\n",
    " - Other_sales — продажи в других странах (миллионы проданных копий)\n",
    " - Critic_Score — оценка критиков (максимум 100)\n",
    " - User_Score — оценка пользователей (максимум 10)\n",
    " - Rating — рейтинг от организации ESRB (англ. Entertainment Software Rating Board). Эта ассоциация определяет рейтинг компьютерных игр и присваивает им подходящую возрастную категорию.\n",
    " \n",
    "Данные за 2016 год могут быть неполными."
   ]
  },
  {
   "cell_type": "markdown",
   "id": "71fd9228",
   "metadata": {},
   "source": [
    "## Общая информация "
   ]
  },
  {
   "cell_type": "code",
   "execution_count": 1,
   "id": "1664dcd7",
   "metadata": {},
   "outputs": [],
   "source": [
    "import pandas as pd\n",
    "import numpy as np\n",
    "import matplotlib.pyplot as plt\n",
    "import seaborn as sbn\n",
    "from scipy import stats as st"
   ]
  },
  {
   "cell_type": "code",
   "execution_count": 2,
   "id": "4115e2cd",
   "metadata": {},
   "outputs": [],
   "source": [
    "try:\n",
    "    data = pd.read_csv('/datasets/games.csv')\n",
    "except:\n",
    "    data = pd.read_csv('D:/games.csv')\n",
    "    \n",
    "original_data_shape = data.shape[0]"
   ]
  },
  {
   "cell_type": "code",
   "execution_count": 3,
   "id": "80466989",
   "metadata": {
    "scrolled": false
   },
   "outputs": [
    {
     "data": {
      "text/html": [
       "<div>\n",
       "<style scoped>\n",
       "    .dataframe tbody tr th:only-of-type {\n",
       "        vertical-align: middle;\n",
       "    }\n",
       "\n",
       "    .dataframe tbody tr th {\n",
       "        vertical-align: top;\n",
       "    }\n",
       "\n",
       "    .dataframe thead th {\n",
       "        text-align: right;\n",
       "    }\n",
       "</style>\n",
       "<table border=\"1\" class=\"dataframe\">\n",
       "  <thead>\n",
       "    <tr style=\"text-align: right;\">\n",
       "      <th></th>\n",
       "      <th>Name</th>\n",
       "      <th>Platform</th>\n",
       "      <th>Year_of_Release</th>\n",
       "      <th>Genre</th>\n",
       "      <th>NA_sales</th>\n",
       "      <th>EU_sales</th>\n",
       "      <th>JP_sales</th>\n",
       "      <th>Other_sales</th>\n",
       "      <th>Critic_Score</th>\n",
       "      <th>User_Score</th>\n",
       "      <th>Rating</th>\n",
       "    </tr>\n",
       "  </thead>\n",
       "  <tbody>\n",
       "    <tr>\n",
       "      <th>0</th>\n",
       "      <td>Wii Sports</td>\n",
       "      <td>Wii</td>\n",
       "      <td>2006.0</td>\n",
       "      <td>Sports</td>\n",
       "      <td>41.36</td>\n",
       "      <td>28.96</td>\n",
       "      <td>3.77</td>\n",
       "      <td>8.45</td>\n",
       "      <td>76.0</td>\n",
       "      <td>8</td>\n",
       "      <td>E</td>\n",
       "    </tr>\n",
       "    <tr>\n",
       "      <th>1</th>\n",
       "      <td>Super Mario Bros.</td>\n",
       "      <td>NES</td>\n",
       "      <td>1985.0</td>\n",
       "      <td>Platform</td>\n",
       "      <td>29.08</td>\n",
       "      <td>3.58</td>\n",
       "      <td>6.81</td>\n",
       "      <td>0.77</td>\n",
       "      <td>NaN</td>\n",
       "      <td>NaN</td>\n",
       "      <td>NaN</td>\n",
       "    </tr>\n",
       "    <tr>\n",
       "      <th>2</th>\n",
       "      <td>Mario Kart Wii</td>\n",
       "      <td>Wii</td>\n",
       "      <td>2008.0</td>\n",
       "      <td>Racing</td>\n",
       "      <td>15.68</td>\n",
       "      <td>12.76</td>\n",
       "      <td>3.79</td>\n",
       "      <td>3.29</td>\n",
       "      <td>82.0</td>\n",
       "      <td>8.3</td>\n",
       "      <td>E</td>\n",
       "    </tr>\n",
       "    <tr>\n",
       "      <th>3</th>\n",
       "      <td>Wii Sports Resort</td>\n",
       "      <td>Wii</td>\n",
       "      <td>2009.0</td>\n",
       "      <td>Sports</td>\n",
       "      <td>15.61</td>\n",
       "      <td>10.93</td>\n",
       "      <td>3.28</td>\n",
       "      <td>2.95</td>\n",
       "      <td>80.0</td>\n",
       "      <td>8</td>\n",
       "      <td>E</td>\n",
       "    </tr>\n",
       "    <tr>\n",
       "      <th>4</th>\n",
       "      <td>Pokemon Red/Pokemon Blue</td>\n",
       "      <td>GB</td>\n",
       "      <td>1996.0</td>\n",
       "      <td>Role-Playing</td>\n",
       "      <td>11.27</td>\n",
       "      <td>8.89</td>\n",
       "      <td>10.22</td>\n",
       "      <td>1.00</td>\n",
       "      <td>NaN</td>\n",
       "      <td>NaN</td>\n",
       "      <td>NaN</td>\n",
       "    </tr>\n",
       "    <tr>\n",
       "      <th>5</th>\n",
       "      <td>Tetris</td>\n",
       "      <td>GB</td>\n",
       "      <td>1989.0</td>\n",
       "      <td>Puzzle</td>\n",
       "      <td>23.20</td>\n",
       "      <td>2.26</td>\n",
       "      <td>4.22</td>\n",
       "      <td>0.58</td>\n",
       "      <td>NaN</td>\n",
       "      <td>NaN</td>\n",
       "      <td>NaN</td>\n",
       "    </tr>\n",
       "    <tr>\n",
       "      <th>6</th>\n",
       "      <td>New Super Mario Bros.</td>\n",
       "      <td>DS</td>\n",
       "      <td>2006.0</td>\n",
       "      <td>Platform</td>\n",
       "      <td>11.28</td>\n",
       "      <td>9.14</td>\n",
       "      <td>6.50</td>\n",
       "      <td>2.88</td>\n",
       "      <td>89.0</td>\n",
       "      <td>8.5</td>\n",
       "      <td>E</td>\n",
       "    </tr>\n",
       "    <tr>\n",
       "      <th>7</th>\n",
       "      <td>Wii Play</td>\n",
       "      <td>Wii</td>\n",
       "      <td>2006.0</td>\n",
       "      <td>Misc</td>\n",
       "      <td>13.96</td>\n",
       "      <td>9.18</td>\n",
       "      <td>2.93</td>\n",
       "      <td>2.84</td>\n",
       "      <td>58.0</td>\n",
       "      <td>6.6</td>\n",
       "      <td>E</td>\n",
       "    </tr>\n",
       "    <tr>\n",
       "      <th>8</th>\n",
       "      <td>New Super Mario Bros. Wii</td>\n",
       "      <td>Wii</td>\n",
       "      <td>2009.0</td>\n",
       "      <td>Platform</td>\n",
       "      <td>14.44</td>\n",
       "      <td>6.94</td>\n",
       "      <td>4.70</td>\n",
       "      <td>2.24</td>\n",
       "      <td>87.0</td>\n",
       "      <td>8.4</td>\n",
       "      <td>E</td>\n",
       "    </tr>\n",
       "    <tr>\n",
       "      <th>9</th>\n",
       "      <td>Duck Hunt</td>\n",
       "      <td>NES</td>\n",
       "      <td>1984.0</td>\n",
       "      <td>Shooter</td>\n",
       "      <td>26.93</td>\n",
       "      <td>0.63</td>\n",
       "      <td>0.28</td>\n",
       "      <td>0.47</td>\n",
       "      <td>NaN</td>\n",
       "      <td>NaN</td>\n",
       "      <td>NaN</td>\n",
       "    </tr>\n",
       "    <tr>\n",
       "      <th>10</th>\n",
       "      <td>Nintendogs</td>\n",
       "      <td>DS</td>\n",
       "      <td>2005.0</td>\n",
       "      <td>Simulation</td>\n",
       "      <td>9.05</td>\n",
       "      <td>10.95</td>\n",
       "      <td>1.93</td>\n",
       "      <td>2.74</td>\n",
       "      <td>NaN</td>\n",
       "      <td>NaN</td>\n",
       "      <td>NaN</td>\n",
       "    </tr>\n",
       "    <tr>\n",
       "      <th>11</th>\n",
       "      <td>Mario Kart DS</td>\n",
       "      <td>DS</td>\n",
       "      <td>2005.0</td>\n",
       "      <td>Racing</td>\n",
       "      <td>9.71</td>\n",
       "      <td>7.47</td>\n",
       "      <td>4.13</td>\n",
       "      <td>1.90</td>\n",
       "      <td>91.0</td>\n",
       "      <td>8.6</td>\n",
       "      <td>E</td>\n",
       "    </tr>\n",
       "    <tr>\n",
       "      <th>12</th>\n",
       "      <td>Pokemon Gold/Pokemon Silver</td>\n",
       "      <td>GB</td>\n",
       "      <td>1999.0</td>\n",
       "      <td>Role-Playing</td>\n",
       "      <td>9.00</td>\n",
       "      <td>6.18</td>\n",
       "      <td>7.20</td>\n",
       "      <td>0.71</td>\n",
       "      <td>NaN</td>\n",
       "      <td>NaN</td>\n",
       "      <td>NaN</td>\n",
       "    </tr>\n",
       "    <tr>\n",
       "      <th>13</th>\n",
       "      <td>Wii Fit</td>\n",
       "      <td>Wii</td>\n",
       "      <td>2007.0</td>\n",
       "      <td>Sports</td>\n",
       "      <td>8.92</td>\n",
       "      <td>8.03</td>\n",
       "      <td>3.60</td>\n",
       "      <td>2.15</td>\n",
       "      <td>80.0</td>\n",
       "      <td>7.7</td>\n",
       "      <td>E</td>\n",
       "    </tr>\n",
       "    <tr>\n",
       "      <th>14</th>\n",
       "      <td>Kinect Adventures!</td>\n",
       "      <td>X360</td>\n",
       "      <td>2010.0</td>\n",
       "      <td>Misc</td>\n",
       "      <td>15.00</td>\n",
       "      <td>4.89</td>\n",
       "      <td>0.24</td>\n",
       "      <td>1.69</td>\n",
       "      <td>61.0</td>\n",
       "      <td>6.3</td>\n",
       "      <td>E</td>\n",
       "    </tr>\n",
       "  </tbody>\n",
       "</table>\n",
       "</div>"
      ],
      "text/plain": [
       "                           Name Platform  Year_of_Release         Genre  \\\n",
       "0                    Wii Sports      Wii           2006.0        Sports   \n",
       "1             Super Mario Bros.      NES           1985.0      Platform   \n",
       "2                Mario Kart Wii      Wii           2008.0        Racing   \n",
       "3             Wii Sports Resort      Wii           2009.0        Sports   \n",
       "4      Pokemon Red/Pokemon Blue       GB           1996.0  Role-Playing   \n",
       "5                        Tetris       GB           1989.0        Puzzle   \n",
       "6         New Super Mario Bros.       DS           2006.0      Platform   \n",
       "7                      Wii Play      Wii           2006.0          Misc   \n",
       "8     New Super Mario Bros. Wii      Wii           2009.0      Platform   \n",
       "9                     Duck Hunt      NES           1984.0       Shooter   \n",
       "10                   Nintendogs       DS           2005.0    Simulation   \n",
       "11                Mario Kart DS       DS           2005.0        Racing   \n",
       "12  Pokemon Gold/Pokemon Silver       GB           1999.0  Role-Playing   \n",
       "13                      Wii Fit      Wii           2007.0        Sports   \n",
       "14           Kinect Adventures!     X360           2010.0          Misc   \n",
       "\n",
       "    NA_sales  EU_sales  JP_sales  Other_sales  Critic_Score User_Score Rating  \n",
       "0      41.36     28.96      3.77         8.45          76.0          8      E  \n",
       "1      29.08      3.58      6.81         0.77           NaN        NaN    NaN  \n",
       "2      15.68     12.76      3.79         3.29          82.0        8.3      E  \n",
       "3      15.61     10.93      3.28         2.95          80.0          8      E  \n",
       "4      11.27      8.89     10.22         1.00           NaN        NaN    NaN  \n",
       "5      23.20      2.26      4.22         0.58           NaN        NaN    NaN  \n",
       "6      11.28      9.14      6.50         2.88          89.0        8.5      E  \n",
       "7      13.96      9.18      2.93         2.84          58.0        6.6      E  \n",
       "8      14.44      6.94      4.70         2.24          87.0        8.4      E  \n",
       "9      26.93      0.63      0.28         0.47           NaN        NaN    NaN  \n",
       "10      9.05     10.95      1.93         2.74           NaN        NaN    NaN  \n",
       "11      9.71      7.47      4.13         1.90          91.0        8.6      E  \n",
       "12      9.00      6.18      7.20         0.71           NaN        NaN    NaN  \n",
       "13      8.92      8.03      3.60         2.15          80.0        7.7      E  \n",
       "14     15.00      4.89      0.24         1.69          61.0        6.3      E  "
      ]
     },
     "execution_count": 3,
     "metadata": {},
     "output_type": "execute_result"
    }
   ],
   "source": [
    "pd.set_option('display.max_columns', None)\n",
    "data.head(15)"
   ]
  },
  {
   "cell_type": "code",
   "execution_count": 4,
   "id": "a8c512d6",
   "metadata": {},
   "outputs": [
    {
     "name": "stdout",
     "output_type": "stream",
     "text": [
      "<class 'pandas.core.frame.DataFrame'>\n",
      "RangeIndex: 16715 entries, 0 to 16714\n",
      "Data columns (total 11 columns):\n",
      " #   Column           Non-Null Count  Dtype  \n",
      "---  ------           --------------  -----  \n",
      " 0   Name             16713 non-null  object \n",
      " 1   Platform         16715 non-null  object \n",
      " 2   Year_of_Release  16446 non-null  float64\n",
      " 3   Genre            16713 non-null  object \n",
      " 4   NA_sales         16715 non-null  float64\n",
      " 5   EU_sales         16715 non-null  float64\n",
      " 6   JP_sales         16715 non-null  float64\n",
      " 7   Other_sales      16715 non-null  float64\n",
      " 8   Critic_Score     8137 non-null   float64\n",
      " 9   User_Score       10014 non-null  object \n",
      " 10  Rating           9949 non-null   object \n",
      "dtypes: float64(6), object(5)\n",
      "memory usage: 1.4+ MB\n"
     ]
    }
   ],
   "source": [
    "data.info()"
   ]
  },
  {
   "cell_type": "code",
   "execution_count": 5,
   "id": "c1932b06",
   "metadata": {},
   "outputs": [
    {
     "data": {
      "text/plain": [
       "Name                  2\n",
       "Platform              0\n",
       "Year_of_Release     269\n",
       "Genre                 2\n",
       "NA_sales              0\n",
       "EU_sales              0\n",
       "JP_sales              0\n",
       "Other_sales           0\n",
       "Critic_Score       8578\n",
       "User_Score         6701\n",
       "Rating             6766\n",
       "dtype: int64"
      ]
     },
     "execution_count": 5,
     "metadata": {},
     "output_type": "execute_result"
    }
   ],
   "source": [
    "data.isna().sum()"
   ]
  },
  {
   "cell_type": "code",
   "execution_count": 6,
   "id": "4835a3c7",
   "metadata": {},
   "outputs": [
    {
     "data": {
      "text/plain": [
       "0"
      ]
     },
     "execution_count": 6,
     "metadata": {},
     "output_type": "execute_result"
    }
   ],
   "source": [
    "# Поверим датасет на явные дубликаты:\n",
    "data.duplicated().sum()"
   ]
  },
  {
   "cell_type": "markdown",
   "id": "42ded4f8",
   "metadata": {},
   "source": [
    "Изучим наименьшие годы релиза по каждой платформе в поиске аномальных значений:"
   ]
  },
  {
   "cell_type": "code",
   "execution_count": 7,
   "id": "869d41d3",
   "metadata": {},
   "outputs": [
    {
     "data": {
      "text/html": [
       "<div>\n",
       "<style scoped>\n",
       "    .dataframe tbody tr th:only-of-type {\n",
       "        vertical-align: middle;\n",
       "    }\n",
       "\n",
       "    .dataframe tbody tr th {\n",
       "        vertical-align: top;\n",
       "    }\n",
       "\n",
       "    .dataframe thead th {\n",
       "        text-align: right;\n",
       "    }\n",
       "</style>\n",
       "<table border=\"1\" class=\"dataframe\">\n",
       "  <thead>\n",
       "    <tr style=\"text-align: right;\">\n",
       "      <th></th>\n",
       "      <th>Year_of_Release</th>\n",
       "    </tr>\n",
       "    <tr>\n",
       "      <th>Platform</th>\n",
       "      <th></th>\n",
       "    </tr>\n",
       "  </thead>\n",
       "  <tbody>\n",
       "    <tr>\n",
       "      <th>2600</th>\n",
       "      <td>1980.0</td>\n",
       "    </tr>\n",
       "    <tr>\n",
       "      <th>NES</th>\n",
       "      <td>1983.0</td>\n",
       "    </tr>\n",
       "    <tr>\n",
       "      <th>DS</th>\n",
       "      <td>1985.0</td>\n",
       "    </tr>\n",
       "    <tr>\n",
       "      <th>PC</th>\n",
       "      <td>1985.0</td>\n",
       "    </tr>\n",
       "    <tr>\n",
       "      <th>GB</th>\n",
       "      <td>1988.0</td>\n",
       "    </tr>\n",
       "    <tr>\n",
       "      <th>SNES</th>\n",
       "      <td>1990.0</td>\n",
       "    </tr>\n",
       "    <tr>\n",
       "      <th>GEN</th>\n",
       "      <td>1990.0</td>\n",
       "    </tr>\n",
       "    <tr>\n",
       "      <th>GG</th>\n",
       "      <td>1992.0</td>\n",
       "    </tr>\n",
       "    <tr>\n",
       "      <th>SCD</th>\n",
       "      <td>1993.0</td>\n",
       "    </tr>\n",
       "    <tr>\n",
       "      <th>NG</th>\n",
       "      <td>1993.0</td>\n",
       "    </tr>\n",
       "    <tr>\n",
       "      <th>SAT</th>\n",
       "      <td>1994.0</td>\n",
       "    </tr>\n",
       "    <tr>\n",
       "      <th>PS</th>\n",
       "      <td>1994.0</td>\n",
       "    </tr>\n",
       "    <tr>\n",
       "      <th>3DO</th>\n",
       "      <td>1994.0</td>\n",
       "    </tr>\n",
       "    <tr>\n",
       "      <th>TG16</th>\n",
       "      <td>1995.0</td>\n",
       "    </tr>\n",
       "    <tr>\n",
       "      <th>PCFX</th>\n",
       "      <td>1996.0</td>\n",
       "    </tr>\n",
       "    <tr>\n",
       "      <th>N64</th>\n",
       "      <td>1996.0</td>\n",
       "    </tr>\n",
       "    <tr>\n",
       "      <th>DC</th>\n",
       "      <td>1998.0</td>\n",
       "    </tr>\n",
       "    <tr>\n",
       "      <th>WS</th>\n",
       "      <td>1999.0</td>\n",
       "    </tr>\n",
       "    <tr>\n",
       "      <th>GBA</th>\n",
       "      <td>2000.0</td>\n",
       "    </tr>\n",
       "    <tr>\n",
       "      <th>XB</th>\n",
       "      <td>2000.0</td>\n",
       "    </tr>\n",
       "    <tr>\n",
       "      <th>PS2</th>\n",
       "      <td>2000.0</td>\n",
       "    </tr>\n",
       "    <tr>\n",
       "      <th>GC</th>\n",
       "      <td>2001.0</td>\n",
       "    </tr>\n",
       "    <tr>\n",
       "      <th>PSP</th>\n",
       "      <td>2004.0</td>\n",
       "    </tr>\n",
       "    <tr>\n",
       "      <th>X360</th>\n",
       "      <td>2005.0</td>\n",
       "    </tr>\n",
       "    <tr>\n",
       "      <th>PS3</th>\n",
       "      <td>2006.0</td>\n",
       "    </tr>\n",
       "    <tr>\n",
       "      <th>Wii</th>\n",
       "      <td>2006.0</td>\n",
       "    </tr>\n",
       "    <tr>\n",
       "      <th>3DS</th>\n",
       "      <td>2011.0</td>\n",
       "    </tr>\n",
       "    <tr>\n",
       "      <th>PSV</th>\n",
       "      <td>2011.0</td>\n",
       "    </tr>\n",
       "    <tr>\n",
       "      <th>WiiU</th>\n",
       "      <td>2012.0</td>\n",
       "    </tr>\n",
       "    <tr>\n",
       "      <th>PS4</th>\n",
       "      <td>2013.0</td>\n",
       "    </tr>\n",
       "    <tr>\n",
       "      <th>XOne</th>\n",
       "      <td>2013.0</td>\n",
       "    </tr>\n",
       "  </tbody>\n",
       "</table>\n",
       "</div>"
      ],
      "text/plain": [
       "          Year_of_Release\n",
       "Platform                 \n",
       "2600               1980.0\n",
       "NES                1983.0\n",
       "DS                 1985.0\n",
       "PC                 1985.0\n",
       "GB                 1988.0\n",
       "SNES               1990.0\n",
       "GEN                1990.0\n",
       "GG                 1992.0\n",
       "SCD                1993.0\n",
       "NG                 1993.0\n",
       "SAT                1994.0\n",
       "PS                 1994.0\n",
       "3DO                1994.0\n",
       "TG16               1995.0\n",
       "PCFX               1996.0\n",
       "N64                1996.0\n",
       "DC                 1998.0\n",
       "WS                 1999.0\n",
       "GBA                2000.0\n",
       "XB                 2000.0\n",
       "PS2                2000.0\n",
       "GC                 2001.0\n",
       "PSP                2004.0\n",
       "X360               2005.0\n",
       "PS3                2006.0\n",
       "Wii                2006.0\n",
       "3DS                2011.0\n",
       "PSV                2011.0\n",
       "WiiU               2012.0\n",
       "PS4                2013.0\n",
       "XOne               2013.0"
      ]
     },
     "execution_count": 7,
     "metadata": {},
     "output_type": "execute_result"
    }
   ],
   "source": [
    "data.pivot_table(index='Platform', values='Year_of_Release', aggfunc='min').sort_values(by='Year_of_Release')"
   ]
  },
  {
   "cell_type": "markdown",
   "id": "5494b25e",
   "metadata": {},
   "source": [
    "У платформы DS, вышедшей в середине 2000-ых не может быть игры, выпущенной в 1985 г. Очевидная ошибка в данных."
   ]
  },
  {
   "cell_type": "markdown",
   "id": "f4f39e72",
   "metadata": {},
   "source": [
    "**Изучив исходные данные, имеем следующие выводы:**\n",
    "1. Названия столбцов некорректны и требуют исправления;\n",
    "1. Некоторые данные сохранены в неверном формате;\n",
    "1. Необходио изучить пропуски в данных и по возможности их заполнить;\n",
    "1. Явных дубликатов не обнаружено.\n",
    "1. Замечено аномальное значение выпуска игры у платформы DS."
   ]
  },
  {
   "cell_type": "markdown",
   "id": "09caa309",
   "metadata": {},
   "source": [
    "## Предобработка данных"
   ]
  },
  {
   "cell_type": "markdown",
   "id": "029e5924",
   "metadata": {},
   "source": [
    "### Исправление названий стобцов"
   ]
  },
  {
   "cell_type": "markdown",
   "id": "b375ac30",
   "metadata": {},
   "source": [
    "Приведём все наименования столбцов к нижнему регистру:"
   ]
  },
  {
   "cell_type": "code",
   "execution_count": 8,
   "id": "a0ddb654",
   "metadata": {},
   "outputs": [
    {
     "data": {
      "text/plain": [
       "Index(['name', 'platform', 'year_of_release', 'genre', 'na_sales', 'eu_sales',\n",
       "       'jp_sales', 'other_sales', 'critic_score', 'user_score', 'rating'],\n",
       "      dtype='object')"
      ]
     },
     "execution_count": 8,
     "metadata": {},
     "output_type": "execute_result"
    }
   ],
   "source": [
    "data.columns = data.columns.str.lower()\n",
    "data.columns"
   ]
  },
  {
   "cell_type": "markdown",
   "id": "6410e05c",
   "metadata": {},
   "source": [
    "### Заполнение пропусков"
   ]
  },
  {
   "cell_type": "markdown",
   "id": "640c314d",
   "metadata": {},
   "source": [
    "Прежде всего изучим строковые столбцы (жанры и платформы) на наличие дубликатов:"
   ]
  },
  {
   "cell_type": "code",
   "execution_count": 9,
   "id": "678d0301",
   "metadata": {},
   "outputs": [
    {
     "data": {
      "text/plain": [
       "array(['Sports', 'Platform', 'Racing', 'Role-Playing', 'Puzzle', 'Misc',\n",
       "       'Shooter', 'Simulation', 'Action', 'Fighting', 'Adventure',\n",
       "       'Strategy', nan], dtype=object)"
      ]
     },
     "execution_count": 9,
     "metadata": {},
     "output_type": "execute_result"
    }
   ],
   "source": [
    "data['genre'].unique()"
   ]
  },
  {
   "cell_type": "code",
   "execution_count": 10,
   "id": "556e5201",
   "metadata": {},
   "outputs": [
    {
     "data": {
      "text/plain": [
       "array(['Wii', 'NES', 'GB', 'DS', 'X360', 'PS3', 'PS2', 'SNES', 'GBA',\n",
       "       'PS4', '3DS', 'N64', 'PS', 'XB', 'PC', '2600', 'PSP', 'XOne',\n",
       "       'WiiU', 'GC', 'GEN', 'DC', 'PSV', 'SAT', 'SCD', 'WS', 'NG', 'TG16',\n",
       "       '3DO', 'GG', 'PCFX'], dtype=object)"
      ]
     },
     "execution_count": 10,
     "metadata": {},
     "output_type": "execute_result"
    }
   ],
   "source": [
    "data['platform'].unique()"
   ]
  },
  {
   "cell_type": "markdown",
   "id": "bcbed7e4",
   "metadata": {},
   "source": [
    "**Дубликатов не обнаружено.**\n",
    "\n",
    "Исследуем игры без названия:"
   ]
  },
  {
   "cell_type": "code",
   "execution_count": 11,
   "id": "0f3c44a0",
   "metadata": {},
   "outputs": [
    {
     "data": {
      "text/html": [
       "<div>\n",
       "<style scoped>\n",
       "    .dataframe tbody tr th:only-of-type {\n",
       "        vertical-align: middle;\n",
       "    }\n",
       "\n",
       "    .dataframe tbody tr th {\n",
       "        vertical-align: top;\n",
       "    }\n",
       "\n",
       "    .dataframe thead th {\n",
       "        text-align: right;\n",
       "    }\n",
       "</style>\n",
       "<table border=\"1\" class=\"dataframe\">\n",
       "  <thead>\n",
       "    <tr style=\"text-align: right;\">\n",
       "      <th></th>\n",
       "      <th>name</th>\n",
       "      <th>platform</th>\n",
       "      <th>year_of_release</th>\n",
       "      <th>genre</th>\n",
       "      <th>na_sales</th>\n",
       "      <th>eu_sales</th>\n",
       "      <th>jp_sales</th>\n",
       "      <th>other_sales</th>\n",
       "      <th>critic_score</th>\n",
       "      <th>user_score</th>\n",
       "      <th>rating</th>\n",
       "    </tr>\n",
       "  </thead>\n",
       "  <tbody>\n",
       "    <tr>\n",
       "      <th>659</th>\n",
       "      <td>NaN</td>\n",
       "      <td>GEN</td>\n",
       "      <td>1993.0</td>\n",
       "      <td>NaN</td>\n",
       "      <td>1.78</td>\n",
       "      <td>0.53</td>\n",
       "      <td>0.00</td>\n",
       "      <td>0.08</td>\n",
       "      <td>NaN</td>\n",
       "      <td>NaN</td>\n",
       "      <td>NaN</td>\n",
       "    </tr>\n",
       "    <tr>\n",
       "      <th>14244</th>\n",
       "      <td>NaN</td>\n",
       "      <td>GEN</td>\n",
       "      <td>1993.0</td>\n",
       "      <td>NaN</td>\n",
       "      <td>0.00</td>\n",
       "      <td>0.00</td>\n",
       "      <td>0.03</td>\n",
       "      <td>0.00</td>\n",
       "      <td>NaN</td>\n",
       "      <td>NaN</td>\n",
       "      <td>NaN</td>\n",
       "    </tr>\n",
       "  </tbody>\n",
       "</table>\n",
       "</div>"
      ],
      "text/plain": [
       "      name platform  year_of_release genre  na_sales  eu_sales  jp_sales  \\\n",
       "659    NaN      GEN           1993.0   NaN      1.78      0.53      0.00   \n",
       "14244  NaN      GEN           1993.0   NaN      0.00      0.00      0.03   \n",
       "\n",
       "       other_sales  critic_score user_score rating  \n",
       "659           0.08           NaN        NaN    NaN  \n",
       "14244         0.00           NaN        NaN    NaN  "
      ]
     },
     "execution_count": 11,
     "metadata": {},
     "output_type": "execute_result"
    }
   ],
   "source": [
    "data.query('name != name')"
   ]
  },
  {
   "cell_type": "markdown",
   "id": "9c4cb533",
   "metadata": {},
   "source": [
    "Всего 2 игры с огромным количеством пропусков. **Уместно исключить их из выборки.**"
   ]
  },
  {
   "cell_type": "code",
   "execution_count": 12,
   "id": "c7000140",
   "metadata": {},
   "outputs": [],
   "source": [
    "data = data.dropna(subset=['name'])"
   ]
  },
  {
   "cell_type": "markdown",
   "id": "dc52ca45",
   "metadata": {},
   "source": [
    "Не забудем так же избавиться от аномального значения в виде игры, выпущенной раньше появления консоли DS:"
   ]
  },
  {
   "cell_type": "code",
   "execution_count": 13,
   "id": "b1889541",
   "metadata": {},
   "outputs": [],
   "source": [
    "data = data.drop(data.query('(platform == \"DS\") & (year_of_release < 2000)').index)"
   ]
  },
  {
   "cell_type": "markdown",
   "id": "3b88de0a",
   "metadata": {},
   "source": [
    "Очевидно, оценка пользователей и критиков взяты с крупнейшего сайта-агрегатора Metacritic, где оценка критиков указывается в диапазоне от 0 до 100, а пользователей - от 0 до 10, с дробной частью. Однако для оценки критиков есть так же оценка \"TBD\" - to be discussed. Согласно часто задаваемым вопросам на самой Metacritic, такой статус оценки критиков присваивается, если игру не рассматривали  игорвые журналисты по самым разным причинам (игра слишком нишевая, не выходила не мировой рынок, жанр игры непопулярен). Исследуем уникальные значения столбца \"critic_score\"."
   ]
  },
  {
   "cell_type": "code",
   "execution_count": 14,
   "id": "99641175",
   "metadata": {},
   "outputs": [
    {
     "data": {
      "text/plain": [
       "array(['8', nan, '8.3', '8.5', '6.6', '8.4', '8.6', '7.7', '6.3', '7.4',\n",
       "       '8.2', '9', '7.9', '8.1', '8.7', '7.1', '3.4', '5.3', '4.8', '3.2',\n",
       "       '8.9', '6.4', '7.8', '7.5', '2.6', '7.2', '9.2', '7', '7.3', '4.3',\n",
       "       '7.6', '5.7', '5', '9.1', '6.5', 'tbd', '8.8', '6.9', '9.4', '6.8',\n",
       "       '6.1', '6.7', '5.4', '4', '4.9', '4.5', '9.3', '6.2', '4.2', '6',\n",
       "       '3.7', '4.1', '5.8', '5.6', '5.5', '4.4', '4.6', '5.9', '3.9',\n",
       "       '3.1', '2.9', '5.2', '3.3', '4.7', '5.1', '3.5', '2.5', '1.9', '3',\n",
       "       '2.7', '2.2', '2', '9.5', '2.1', '3.6', '2.8', '1.8', '3.8', '0',\n",
       "       '1.6', '9.6', '2.4', '1.7', '1.1', '0.3', '1.5', '0.7', '1.2',\n",
       "       '2.3', '0.5', '1.3', '0.2', '0.6', '1.4', '0.9', '1', '9.7'],\n",
       "      dtype=object)"
      ]
     },
     "execution_count": 14,
     "metadata": {},
     "output_type": "execute_result"
    }
   ],
   "source": [
    "data['user_score'].unique()"
   ]
  },
  {
   "cell_type": "markdown",
   "id": "14b5b2be",
   "metadata": {},
   "source": [
    "В выборке так же существует эта оценка. **Заменим \"TBD\" на -1, чтобы:**\n",
    "- При дальнейшем анализе было очевидно, что это игра без рейтинга;\n",
    "- Привести столбец к правильному (цифровому) формату, чего мы не можем сделать, если в столбце есть строки и пропуски."
   ]
  },
  {
   "cell_type": "code",
   "execution_count": 15,
   "id": "32416273",
   "metadata": {},
   "outputs": [],
   "source": [
    "data['user_score'] = data['user_score'].replace('tbd', -1.0)"
   ]
  },
  {
   "cell_type": "markdown",
   "id": "ecefc4ad",
   "metadata": {},
   "source": [
    "Теперь **заполним пропуски в столбцах оценки критиков и игроков -10.** Заполнять пропуски в указанных столбцах медианными или средними значениями некорректно, т.к. игры, будучи произведенияем искусства, слишком субъективны в восприятии, чтобы пытаться присвоить им оценку, опираясь на мнение пользователей о других играх того же жанра, или выпущенных в том же году. \n",
    "\n",
    "**Заменим пропуски в столбце рейтинга значением \"Unknown\"**, поскольку это значение присваивается каждой отдельной игре, выходящей на рынки США и Канады, в частном порядке оценочной комиссией ESRB.\n",
    "\n",
    "Оставшиеся **игры с пропусками в годе издания удалим из выборки**, поскольку нам важно проанализировать игровую индустрию в динамике, игры без определнного года выпуска не имеют в данном случае значимости."
   ]
  },
  {
   "cell_type": "code",
   "execution_count": 16,
   "id": "3cc6a455",
   "metadata": {},
   "outputs": [],
   "source": [
    "data = data.dropna(subset = ['year_of_release'])\n",
    "data['critic_score'] = data['critic_score'].fillna(-10)\n",
    "data['user_score'] = data['user_score'].fillna(-10.0)\n",
    "data['rating'] = data['rating'].fillna('Unknown')"
   ]
  },
  {
   "cell_type": "code",
   "execution_count": 17,
   "id": "80884868",
   "metadata": {},
   "outputs": [
    {
     "data": {
      "text/plain": [
       "'Из генеральной выборки удалено 1.65%'"
      ]
     },
     "metadata": {},
     "output_type": "display_data"
    }
   ],
   "source": [
    "# Оценим, какую долю оригинальной выборки мы удалили во врем предобработки данных:\n",
    "display(f'Из генеральной выборки удалено {round(((original_data_shape / data.shape[0])*100)-100, 2)}%')\n",
    "original_data_shape = data.shape[0]"
   ]
  },
  {
   "cell_type": "markdown",
   "id": "090a95d9",
   "metadata": {},
   "source": [
    "**Генеральная выборка представлена практически в исходном виде.** Продолжаем предобработку."
   ]
  },
  {
   "cell_type": "markdown",
   "id": "867622c4",
   "metadata": {},
   "source": [
    "К правильному типу данных (целочисленному) приведём столбцы с годом релиза и оценки критиков:"
   ]
  },
  {
   "cell_type": "code",
   "execution_count": 18,
   "id": "c84ede12",
   "metadata": {},
   "outputs": [],
   "source": [
    "data['critic_score'] = data['critic_score'].astype('int')\n",
    "data['user_score'] = data['user_score'].astype('float')\n",
    "data['year_of_release'] = data['year_of_release'].astype('int')"
   ]
  },
  {
   "cell_type": "markdown",
   "id": "b18406dd",
   "metadata": {},
   "source": [
    "Для дальнейшего анализа **создадим столбец gross_sales**, в котором будут указаны валовые продажи каждой игры."
   ]
  },
  {
   "cell_type": "code",
   "execution_count": 19,
   "id": "88265d4e",
   "metadata": {},
   "outputs": [],
   "source": [
    "data['gross_sales'] = data[['na_sales','eu_sales','jp_sales', 'other_sales']].sum(axis = 1)"
   ]
  },
  {
   "cell_type": "markdown",
   "id": "44e79d58",
   "metadata": {},
   "source": [
    "На случай, если нам в дальнейшем понадобится чистая предобработанная выборка, сделаем копию data:"
   ]
  },
  {
   "cell_type": "code",
   "execution_count": 20,
   "id": "e544898a",
   "metadata": {},
   "outputs": [],
   "source": [
    "original_data = data.copy()"
   ]
  },
  {
   "cell_type": "markdown",
   "id": "ee301170",
   "metadata": {},
   "source": [
    "**На этом предобработка данных завершена.**\n",
    "\n",
    "- Были проработаны:\n",
    "   1. Названия столбцов;\n",
    "   1. Пропуски в данных;\n",
    "   1. Типы данных;\n",
    "\n",
    "\n",
    "- Для более точного анализа игр по возрастной категории, пропуски в столбце rating были заменены на Unknown. \n",
    "- Принято решение не заполнять пропуски медианными или средними значениями в столбцах оценок игры критиками и игроками по причине необъективности этих методов в отношении столь субъективного явления, как искусство. Вместо этого пропуски в годах релиза, оценок игры пользователями и критиками заполнены значением -10 для возможности в дальнейшем исследовать только игры с имеющимся рейтингом.\n",
    "- Всего из генеральной выборки удалено 2 строчки с играми без названий.\n",
    "\n",
    "Возникшие пропуски могли быть следствием человеческого фактора (ошибки при заполнении), отсутствием данных либо малой популярностью игры. В выборке представлены игры, созданные в 80-ых годах прошлого века, когда игровая журналистика, как явление, ещё только зарождалась, а о сайтах-агригаторах, как Metacritic и речи не шло. "
   ]
  },
  {
   "cell_type": "code",
   "execution_count": 21,
   "id": "6830ae12",
   "metadata": {},
   "outputs": [
    {
     "name": "stdout",
     "output_type": "stream",
     "text": [
      "<class 'pandas.core.frame.DataFrame'>\n",
      "Int64Index: 16443 entries, 0 to 16714\n",
      "Data columns (total 12 columns):\n",
      " #   Column           Non-Null Count  Dtype  \n",
      "---  ------           --------------  -----  \n",
      " 0   name             16443 non-null  object \n",
      " 1   platform         16443 non-null  object \n",
      " 2   year_of_release  16443 non-null  int64  \n",
      " 3   genre            16443 non-null  object \n",
      " 4   na_sales         16443 non-null  float64\n",
      " 5   eu_sales         16443 non-null  float64\n",
      " 6   jp_sales         16443 non-null  float64\n",
      " 7   other_sales      16443 non-null  float64\n",
      " 8   critic_score     16443 non-null  int64  \n",
      " 9   user_score       16443 non-null  float64\n",
      " 10  rating           16443 non-null  object \n",
      " 11  gross_sales      16443 non-null  float64\n",
      "dtypes: float64(6), int64(2), object(4)\n",
      "memory usage: 1.6+ MB\n",
      "None\n",
      "-------------------------\n",
      "name [' Beyblade Burst' ' Fire Emblem Fates' \" Frozen: Olaf's Quest\" ...\n",
      " 'uDraw Studio' 'uDraw Studio: Instant Artist'\n",
      " '¡Shin Chan Flipa en colores!']\n",
      "name : кол-во NaN 0 , процент NaN 0.0 %\n",
      "-------------------------\n",
      "platform ['2600' '3DO' '3DS' 'DC' 'DS' 'GB' 'GBA' 'GC' 'GEN' 'GG' 'N64' 'NES' 'NG'\n",
      " 'PC' 'PCFX' 'PS' 'PS2' 'PS3' 'PS4' 'PSP' 'PSV' 'SAT' 'SCD' 'SNES' 'TG16'\n",
      " 'WS' 'Wii' 'WiiU' 'X360' 'XB' 'XOne']\n",
      "platform : кол-во NaN 0 , процент NaN 0.0 %\n",
      "-------------------------\n",
      "year_of_release [1980 1981 1982 1983 1984 1985 1986 1987 1988 1989 1990 1991 1992 1993\n",
      " 1994 1995 1996 1997 1998 1999 2000 2001 2002 2003 2004 2005 2006 2007\n",
      " 2008 2009 2010 2011 2012 2013 2014 2015 2016]\n",
      "year_of_release : кол-во NaN 0 , процент NaN 0.0 %\n",
      "-------------------------\n",
      "genre ['Action' 'Adventure' 'Fighting' 'Misc' 'Platform' 'Puzzle' 'Racing'\n",
      " 'Role-Playing' 'Shooter' 'Simulation' 'Sports' 'Strategy']\n",
      "genre : кол-во NaN 0 , процент NaN 0.0 %\n",
      "-------------------------\n",
      "critic_score [-10  13  17  19  20  21  23  24  25  26  27  28  29  30  31  32  33  34\n",
      "  35  36  37  38  39  40  41  42  43  44  45  46  47  48  49  50  51  52\n",
      "  53  54  55  56  57  58  59  60  61  62  63  64  65  66  67  68  69  70\n",
      "  71  72  73  74  75  76  77  78  79  80  81  82  83  84  85  86  87  88\n",
      "  89  90  91  92  93  94  95  96  97  98]\n",
      "critic_score : кол-во NaN 0 , процент NaN 0.0 %\n",
      "-------------------------\n",
      "user_score [-10.   -1.    0.    0.2   0.3   0.5   0.6   0.7   0.9   1.    1.1   1.2\n",
      "   1.3   1.4   1.5   1.6   1.7   1.8   1.9   2.    2.1   2.2   2.3   2.4\n",
      "   2.5   2.6   2.7   2.8   2.9   3.    3.1   3.2   3.3   3.4   3.5   3.6\n",
      "   3.7   3.8   3.9   4.    4.1   4.2   4.3   4.4   4.5   4.6   4.7   4.8\n",
      "   4.9   5.    5.1   5.2   5.3   5.4   5.5   5.6   5.7   5.8   5.9   6.\n",
      "   6.1   6.2   6.3   6.4   6.5   6.6   6.7   6.8   6.9   7.    7.1   7.2\n",
      "   7.3   7.4   7.5   7.6   7.7   7.8   7.9   8.    8.1   8.2   8.3   8.4\n",
      "   8.5   8.6   8.7   8.8   8.9   9.    9.1   9.2   9.3   9.4   9.5   9.6\n",
      "   9.7]\n",
      "user_score : кол-во NaN 0 , процент NaN 0.0 %\n",
      "-------------------------\n",
      "rating ['AO' 'E' 'E10+' 'EC' 'K-A' 'M' 'RP' 'T' 'Unknown']\n",
      "rating : кол-во NaN 0 , процент NaN 0.0 %\n"
     ]
    }
   ],
   "source": [
    "# Комментарий ревьюера\n",
    "# Посмотрим, что у нас осталось\n",
    "temp = data.copy() \n",
    "list_c = ['name', 'platform', 'year_of_release', 'genre', 'critic_score', 'user_score', 'rating']\n",
    "print(temp.info())\n",
    "for col_l in list_c:\n",
    "  print('-'* 25)\n",
    "  print(col_l, temp[col_l].sort_values().unique())\n",
    "  print(col_l,': кол-во NaN',temp[col_l].isna().sum(),\n",
    "        ', процент NaN', round(temp[col_l].isna().sum()/len(temp)*100, 2),'%')"
   ]
  },
  {
   "cell_type": "markdown",
   "id": "44580f9c",
   "metadata": {},
   "source": [
    "## Анализ данных"
   ]
  },
  {
   "cell_type": "markdown",
   "id": "fd195542",
   "metadata": {},
   "source": [
    "### Количество выпущенных игр по годам"
   ]
  },
  {
   "cell_type": "markdown",
   "id": "83f194c6",
   "metadata": {},
   "source": [
    "Изучим сколько игр выпускалось в разные годы и важны ли данные за все периоды:"
   ]
  },
  {
   "cell_type": "code",
   "execution_count": 22,
   "id": "70dcd999",
   "metadata": {},
   "outputs": [
    {
     "data": {
      "image/png": "[encoded data removed]",
      "text/plain": [
       "<Figure size 1440x288 with 1 Axes>"
      ]
     },
     "metadata": {
      "needs_background": "light"
     },
     "output_type": "display_data"
    }
   ],
   "source": [
    "plt.figure(figsize=(20, 4))\n",
    "plt.plot(data.query('year_of_release > 0').groupby('year_of_release')['name'].count(), 'o-')\n",
    "plt.title('Количество выпущенных игр по годам', fontsize=20)\n",
    "plt.ylabel('Кол-во игр')\n",
    "plt.xlabel('Год выпуска')\n",
    "plt.grid(True);"
   ]
  },
  {
   "cell_type": "markdown",
   "id": "6cbbf47f",
   "metadata": {},
   "source": [
    "Очевидно, что о разработке игр, как инудстрии, целесообразно говорить **начиная с 1993 года**, когда начался заметный рост выпускаемых игр. Это связано с развитием и большей доступностью технологий, персональных копьютеров и приставок;\n",
    "\n",
    "Наиболее проудктивными оказались 2008 и 2009 года;\n",
    "\n",
    "Спад после 2009 года может быть следствием финансового мирового кризиса 2008 года, который повлёк за собой закрытие многих студий разработчиков;\n",
    "\n",
    "Для дальнейшего анализа **создадим срез данных, где исключим из генеральной выборки все данные до 1993 года.**"
   ]
  },
  {
   "cell_type": "code",
   "execution_count": 23,
   "id": "3066745c",
   "metadata": {},
   "outputs": [
    {
     "data": {
      "text/plain": [
       "'Удалено 304 строк из 16443'"
      ]
     },
     "execution_count": 23,
     "metadata": {},
     "output_type": "execute_result"
    }
   ],
   "source": [
    "data = data.query('year_of_release > 1992')\n",
    "f'Удалено {original_data_shape-data.shape[0]} строк из {original_data_shape}'"
   ]
  },
  {
   "cell_type": "markdown",
   "id": "49db63f5",
   "metadata": {},
   "source": [
    "### Количество выпущенных игр по платформам"
   ]
  },
  {
   "cell_type": "markdown",
   "id": "61033fec",
   "metadata": {},
   "source": [
    "Изучим как менялись продажи по платформам, чтобы выбрать платформы с наибольшими суммарными продажами. Определим за какой характерный срок появляются новые и исчезают старые платформы.\n",
    "\n",
    "Для этого посмотрим график, на котором отобразим количество выпущенных игр для 15 наиболее популярных платформ."
   ]
  },
  {
   "cell_type": "code",
   "execution_count": 24,
   "id": "e74b6550",
   "metadata": {
    "scrolled": true
   },
   "outputs": [
    {
     "data": {
      "image/png": "[encoded data removed]",
      "text/plain": [
       "<Figure size 1008x288 with 1 Axes>"
      ]
     },
     "metadata": {
      "needs_background": "light"
     },
     "output_type": "display_data"
    }
   ],
   "source": [
    "top15_platforms = data.groupby('platform')['gross_sales'].sum().sort_values(ascending=False).head(15)\n",
    "\n",
    "plt.figure(figsize=(14, 4))\n",
    "plt.title('Количество выпущенных игр по платформам', fontsize=25)\n",
    "sbn.barplot(y=top15_platforms, x=top15_platforms.index)\n",
    "plt.ylabel('Всего игр продано')\n",
    "plt.xlabel('Платформа')\n",
    "plt.grid(True);"
   ]
  },
  {
   "cell_type": "markdown",
   "id": "cd0ae0e0",
   "metadata": {},
   "source": [
    "### Срок появления и исчезновения новых платформ"
   ]
  },
  {
   "cell_type": "markdown",
   "id": "a58145e4",
   "metadata": {},
   "source": [
    "Посчитаем среднюю продолжительность \"жизни\" каждой платфоры. Для это сперва создадим датафрейм, где в абсолютных величинах отобразим разницу между годами выпусков первой и последней игр для каждой из 15 платформ."
   ]
  },
  {
   "cell_type": "code",
   "execution_count": 25,
   "id": "12a0acca",
   "metadata": {},
   "outputs": [
    {
     "data": {
      "text/html": [
       "<div>\n",
       "<style scoped>\n",
       "    .dataframe tbody tr th:only-of-type {\n",
       "        vertical-align: middle;\n",
       "    }\n",
       "\n",
       "    .dataframe tbody tr th {\n",
       "        vertical-align: top;\n",
       "    }\n",
       "\n",
       "    .dataframe thead th {\n",
       "        text-align: right;\n",
       "    }\n",
       "</style>\n",
       "<table border=\"1\" class=\"dataframe\">\n",
       "  <thead>\n",
       "    <tr style=\"text-align: right;\">\n",
       "      <th></th>\n",
       "      <th>life_years</th>\n",
       "    </tr>\n",
       "  </thead>\n",
       "  <tbody>\n",
       "    <tr>\n",
       "      <th>PC</th>\n",
       "      <td>31</td>\n",
       "    </tr>\n",
       "    <tr>\n",
       "      <th>PS2</th>\n",
       "      <td>11</td>\n",
       "    </tr>\n",
       "    <tr>\n",
       "      <th>X360</th>\n",
       "      <td>11</td>\n",
       "    </tr>\n",
       "    <tr>\n",
       "      <th>PSP</th>\n",
       "      <td>11</td>\n",
       "    </tr>\n",
       "    <tr>\n",
       "      <th>PS3</th>\n",
       "      <td>10</td>\n",
       "    </tr>\n",
       "    <tr>\n",
       "      <th>Wii</th>\n",
       "      <td>10</td>\n",
       "    </tr>\n",
       "    <tr>\n",
       "      <th>DS</th>\n",
       "      <td>9</td>\n",
       "    </tr>\n",
       "    <tr>\n",
       "      <th>PS</th>\n",
       "      <td>9</td>\n",
       "    </tr>\n",
       "    <tr>\n",
       "      <th>XB</th>\n",
       "      <td>8</td>\n",
       "    </tr>\n",
       "    <tr>\n",
       "      <th>GBA</th>\n",
       "      <td>7</td>\n",
       "    </tr>\n",
       "    <tr>\n",
       "      <th>N64</th>\n",
       "      <td>6</td>\n",
       "    </tr>\n",
       "    <tr>\n",
       "      <th>GC</th>\n",
       "      <td>6</td>\n",
       "    </tr>\n",
       "    <tr>\n",
       "      <th>3DS</th>\n",
       "      <td>5</td>\n",
       "    </tr>\n",
       "    <tr>\n",
       "      <th>PS4</th>\n",
       "      <td>3</td>\n",
       "    </tr>\n",
       "    <tr>\n",
       "      <th>XOne</th>\n",
       "      <td>3</td>\n",
       "    </tr>\n",
       "  </tbody>\n",
       "</table>\n",
       "</div>"
      ],
      "text/plain": [
       "      life_years\n",
       "PC            31\n",
       "PS2           11\n",
       "X360          11\n",
       "PSP           11\n",
       "PS3           10\n",
       "Wii           10\n",
       "DS             9\n",
       "PS             9\n",
       "XB             8\n",
       "GBA            7\n",
       "N64            6\n",
       "GC             6\n",
       "3DS            5\n",
       "PS4            3\n",
       "XOne           3"
      ]
     },
     "execution_count": 25,
     "metadata": {},
     "output_type": "execute_result"
    }
   ],
   "source": [
    "platform_life_cycle_lib = {}\n",
    "for platform in top15_platforms.index:\n",
    "    platform_data = original_data.query('(year_of_release > 0) & (platform == @platform)')\n",
    "    platform_life_cycle_lib[platform] = platform_data['year_of_release'].max() - platform_data['year_of_release'].min()\n",
    "\n",
    "top_platforms_life_years = pd.DataFrame(\n",
    "    platform_life_cycle_lib.values(), \n",
    "    platform_life_cycle_lib.keys(), \n",
    "    columns=['life_years']).sort_values(by='life_years', ascending=False)\n",
    "\n",
    "top_platforms_life_years"
   ]
  },
  {
   "cell_type": "markdown",
   "id": "9854bd54",
   "metadata": {},
   "source": [
    "Для более адекватной оценки из датафрейма стоит исключить: \n",
    "- ПК, поскольку это первостепенно не игровая платформа, а рабочий инструмент;\n",
    "- PS4 с XboxOne, т.к. на момент 2017 года, когда у нас заканчиваются данные, эти платформы всё ещё были актуальны. \n",
    "\n",
    "Оценим среднюю продолжительность жизни игровых консолей:"
   ]
  },
  {
   "cell_type": "code",
   "execution_count": 26,
   "id": "b7689756",
   "metadata": {},
   "outputs": [
    {
     "data": {
      "text/plain": [
       "'Средняя продолжительность жизни консоли - 9.3 лет'"
      ]
     },
     "execution_count": 26,
     "metadata": {},
     "output_type": "execute_result"
    }
   ],
   "source": [
    "top_platforms_life_years.drop(['PC', 'XOne', 'PS4'])\n",
    "top_platforms_life_years = sum(top_platforms_life_years['life_years']) / len(top_platforms_life_years)\n",
    "f'Средняя продолжительность жизни консоли - {round(top_platforms_life_years, 1)} лет'"
   ]
  },
  {
   "cell_type": "markdown",
   "id": "f2b55e9f",
   "metadata": {},
   "source": [
    "### Лидеры продаж"
   ]
  },
  {
   "cell_type": "markdown",
   "id": "1f3206e0",
   "metadata": {},
   "source": [
    "Выделим из наших топ 15 платформ пятёрку платформ с наибольшим количеством выпущенных игр."
   ]
  },
  {
   "cell_type": "code",
   "execution_count": 27,
   "id": "56c081f3",
   "metadata": {},
   "outputs": [
    {
     "data": {
      "text/html": [
       "<div>\n",
       "<style scoped>\n",
       "    .dataframe tbody tr th:only-of-type {\n",
       "        vertical-align: middle;\n",
       "    }\n",
       "\n",
       "    .dataframe tbody tr th {\n",
       "        vertical-align: top;\n",
       "    }\n",
       "\n",
       "    .dataframe thead th {\n",
       "        text-align: right;\n",
       "    }\n",
       "</style>\n",
       "<table border=\"1\" class=\"dataframe\">\n",
       "  <thead>\n",
       "    <tr style=\"text-align: right;\">\n",
       "      <th></th>\n",
       "      <th>name</th>\n",
       "    </tr>\n",
       "    <tr>\n",
       "      <th>platform</th>\n",
       "      <th></th>\n",
       "    </tr>\n",
       "  </thead>\n",
       "  <tbody>\n",
       "    <tr>\n",
       "      <th>PS2</th>\n",
       "      <td>2127</td>\n",
       "    </tr>\n",
       "    <tr>\n",
       "      <th>DS</th>\n",
       "      <td>2120</td>\n",
       "    </tr>\n",
       "    <tr>\n",
       "      <th>PS3</th>\n",
       "      <td>1306</td>\n",
       "    </tr>\n",
       "    <tr>\n",
       "      <th>Wii</th>\n",
       "      <td>1286</td>\n",
       "    </tr>\n",
       "    <tr>\n",
       "      <th>X360</th>\n",
       "      <td>1232</td>\n",
       "    </tr>\n",
       "  </tbody>\n",
       "</table>\n",
       "</div>"
      ],
      "text/plain": [
       "          name\n",
       "platform      \n",
       "PS2       2127\n",
       "DS        2120\n",
       "PS3       1306\n",
       "Wii       1286\n",
       "X360      1232"
      ]
     },
     "execution_count": 27,
     "metadata": {},
     "output_type": "execute_result"
    }
   ],
   "source": [
    "most_popular_platforms = data.groupby('platform').agg({'name':'count'})\n",
    "most_popular_platforms = most_popular_platforms.sort_values(by='name', ascending=False).head()\n",
    "most_popular_platforms"
   ]
  },
  {
   "cell_type": "markdown",
   "id": "fb21bb9d",
   "metadata": {},
   "source": [
    "Лидерами оказались PlayStation 2 и Nintendo DS с разницей всего в 7 наименований. Неудевительно, ведь эти притавки прославились наибольшими сроками поддержки и до сих пор любимы многими.\n",
    "\n",
    "Оценим количество продаж в каждый год:"
   ]
  },
  {
   "cell_type": "code",
   "execution_count": 28,
   "id": "97a74881",
   "metadata": {},
   "outputs": [
    {
     "data": {
      "image/png": "[encoded data removed]",
      "text/plain": [
       "<Figure size 1008x288 with 1 Axes>"
      ]
     },
     "metadata": {
      "needs_background": "light"
     },
     "output_type": "display_data"
    }
   ],
   "source": [
    "plt.figure(figsize=(14, 4))\n",
    "plt.plot(data.query('year_of_release > 0').groupby('year_of_release').agg({'gross_sales':'sum'}), 'o-')\n",
    "plt.title('Количество проданных игр по годам', fontsize=20)\n",
    "plt.ylabel('Кол-во продаж')\n",
    "plt.xlabel('Год')\n",
    "plt.grid(True);"
   ]
  },
  {
   "cell_type": "markdown",
   "id": "8741012a",
   "metadata": {},
   "source": [
    "График с редкими исключениями похож на оный по количеству изданых игр, что логично.\n",
    "\n",
    "Рассмотрим количество продажи по платформам с 2011 по 2016 года, чтобы иметь представление о том, что ждало актуальные на тот момент платформы."
   ]
  },
  {
   "cell_type": "code",
   "execution_count": 29,
   "id": "8f4deaad",
   "metadata": {
    "scrolled": true
   },
   "outputs": [
    {
     "data": {
      "image/png": "[encoded data removed]",
      "text/plain": [
       "<Figure size 792x360 with 1 Axes>"
      ]
     },
     "metadata": {
      "needs_background": "light"
     },
     "output_type": "display_data"
    }
   ],
   "source": [
    "for platform in top15_platforms.index.to_list():   \n",
    "    temp_data = (data.query('(platform == @platform) & (year_of_release > 0)')\n",
    "                .pivot_table(index='year_of_release', values ='gross_sales', aggfunc='sum')\n",
    "               )\n",
    "    temp_data = temp_data.rename(columns = {'gross_sales': platform})\n",
    "    temp_data[platform].plot(legend=True, grid=True, figsize=(11, 5), ylabel='Продано игр, млн. копий', xlabel='Год')"
   ]
  },
  {
   "cell_type": "markdown",
   "id": "b327d417",
   "metadata": {},
   "source": [
    "У большинства консолей график продаж похож на график нормального распределения. С уверенностью можно утверждать, что на всех платформах, актуальных к концу 2010-ых годов, замечено снижение продаж после 2011 года. Наиболее прибыльными консолями за изучаемый период оказались PS, PS2, Wii и Xbox.\n",
    "\n",
    "С этого момента сократим наш срез ещё больше - с начала 2013 по 2016 года, чтобы анализировать наиболее актуальные данные. Вычленим из выборки самые перспективные платформы, которые на рынке относительно недавно (с 2011 года) и построим ещё один график."
   ]
  },
  {
   "cell_type": "code",
   "execution_count": 30,
   "id": "248d99c6",
   "metadata": {},
   "outputs": [
    {
     "data": {
      "image/png": "[encoded data removed]",
      "text/plain": [
       "<Figure size 1080x432 with 1 Axes>"
      ]
     },
     "metadata": {
      "needs_background": "light"
     },
     "output_type": "display_data"
    }
   ],
   "source": [
    "actual_data = data.query('year_of_release > 2012')\n",
    "actual_platforms_data = actual_data.pivot_table(index=['platform', 'year_of_release'], values=['gross_sales'], aggfunc=['sum'])\n",
    "actual_platforms_data = actual_platforms_data.reset_index(level='year_of_release')\n",
    "actual_platforms_data.columns = ['year', 'gross_sales']\n",
    "actual_platforms_data = actual_platforms_data.reset_index()\n",
    "actual_platforms_data = actual_platforms_data.pivot(index='year', columns='platform', values='gross_sales')\n",
    "\n",
    "fig, ax = plt.subplots()\n",
    "actual_platforms_data.plot(figsize=(15,6), ax=ax)\n",
    "ax.set_title('Продажи игр на платформах по годам', fontsize=20)\n",
    "ax.set_xlabel('Год')\n",
    "ax.set_ylabel('Сумма продаж, млн копий');"
   ]
  },
  {
   "cell_type": "markdown",
   "id": "0978d0e5",
   "metadata": {},
   "source": [
    "С 2013 на 2014 год наблюдается смена поколений консолей: PS3 передаёт эстафету первенства PS4, а Хbox360 - XboxOne. Спад продаж в 2016 году скорее всего является необъективным представлением реальности, посколько в генеральной выборке представлена не вся информация за этого год. \n",
    "\n",
    "Построим графики с усами для валовых продаж за ислледуемый срок и отдельно для каждой актуальной на конец 2015 года платформы:"
   ]
  },
  {
   "cell_type": "code",
   "execution_count": 31,
   "id": "fc04e7b3",
   "metadata": {},
   "outputs": [
    {
     "data": {
      "image/png": "[encoded data removed]",
      "text/plain": [
       "<Figure size 864x72 with 1 Axes>"
      ]
     },
     "metadata": {
      "needs_background": "light"
     },
     "output_type": "display_data"
    }
   ],
   "source": [
    "plt.figure(figsize=(12, 1))\n",
    "plt.xlim(0, 2)\n",
    "plt.title('Размах валовых продаж на всех платформах', fontsize=12)\n",
    "sbn.boxplot(x='gross_sales', data=actual_data)\n",
    "plt.xlabel('Всего продано игр')\n",
    "plt.grid(True);"
   ]
  },
  {
   "cell_type": "markdown",
   "id": "c2dbef85",
   "metadata": {},
   "source": [
    "Можно утверждать, что в среднем игры расходятся тиражом ~80 тыс. копий. Однако продажи больше 800 тыс. уже можно считать аномальными, т.к. они выходят за третий квартиль выборки. "
   ]
  },
  {
   "cell_type": "code",
   "execution_count": 32,
   "id": "73d06cd9",
   "metadata": {
    "scrolled": false
   },
   "outputs": [
    {
     "data": {
      "image/png": "[encoded data removed]",
      "text/plain": [
       "<Figure size 1440x360 with 1 Axes>"
      ]
     },
     "metadata": {
      "needs_background": "light"
     },
     "output_type": "display_data"
    }
   ],
   "source": [
    "plt.figure(figsize=(20, 5))\n",
    "plt.title('Квартили продаж по платформам', fontsize=20)\n",
    "sbn.boxplot(x='gross_sales', y='platform', data=actual_data)\n",
    "plt.ylabel('Платформа')\n",
    "plt.xlabel('Всего продано игр')\n",
    "plt.grid(True);"
   ]
  },
  {
   "cell_type": "markdown",
   "id": "26f881a1",
   "metadata": {},
   "source": [
    "Получили очередное подтверждение, что приставки производства PS и Xbox являются лидерами продаж с выдающиися предельными показатлями. Вероятно, по персональным компьютерам в выборке собрано недостаточно информации, поскольку столь сильного отставания у этой платформы на фоне игровых консолей быть не должно. \n",
    "\n",
    "Более детально изучим диаграмы размаха для наиболее коммерчески перспективных платформ: Xbox 360, Xbox One, PlayStation 4, Nintendo 3DS."
   ]
  },
  {
   "cell_type": "code",
   "execution_count": 33,
   "id": "dcf74540",
   "metadata": {},
   "outputs": [
    {
     "data": {
      "image/png": "[encoded data removed]",
      "text/plain": [
       "<Figure size 1440x360 with 1 Axes>"
      ]
     },
     "metadata": {
      "needs_background": "light"
     },
     "output_type": "display_data"
    }
   ],
   "source": [
    "top_actual_platforms_list = ['3DS', 'XOne', 'PS4', 'X360']\n",
    "top_actual_platforms_data = actual_data[actual_data['platform'].isin(top_actual_platforms_list)]\n",
    "\n",
    "plt.figure(figsize=(20, 5))\n",
    "plt.xlim(0, 3)\n",
    "plt.title('Квартили продаж по платформам', fontsize=20)\n",
    "sbn.boxplot(x='gross_sales', y='platform', data=top_actual_platforms_data)\n",
    "plt.ylabel('Платформа', fontsize=15)\n",
    "plt.xlabel('Всего продано игр', fontsize=15)\n",
    "plt.grid(True);"
   ]
  },
  {
   "cell_type": "markdown",
   "id": "1b173bcb",
   "metadata": {},
   "source": [
    "На консолях нового поколения половина от выборки игр продались тиражом от ~10 тыс. до 600 тыс. копий (в среднем около 150 тыс. копий). А у уходящей к 2016 году на покой Xbox 360 средние показатели продаж и того больше."
   ]
  },
  {
   "cell_type": "markdown",
   "id": "cf2f278d",
   "metadata": {},
   "source": [
    "### Влияние отзывов на продажи"
   ]
  },
  {
   "cell_type": "markdown",
   "id": "a87e88da",
   "metadata": {},
   "source": [
    "Оценим влияние на продажи отзывов пользователей и критиков на ряд флагмансих консолей. Для этого отобразим корреляции оценок пользователей и критиков с валовыми продажами, а потом построим диаграммы рассеивания для каждой платформы:"
   ]
  },
  {
   "cell_type": "code",
   "execution_count": 34,
   "id": "87f4347c",
   "metadata": {
    "scrolled": true
   },
   "outputs": [
    {
     "name": "stdout",
     "output_type": "stream",
     "text": [
      "1192\n",
      "991\n",
      "976\n"
     ]
    }
   ],
   "source": [
    "# Комментарий ревьюера\n",
    "print(len(actual_data.query('user_score > 0')))\n",
    "print(len(actual_data.query('critic_score > 0')))\n",
    "print(len(actual_data.query('(user_score > 0) & (critic_score > 0)')))"
   ]
  },
  {
   "cell_type": "code",
   "execution_count": 35,
   "id": "c211af4f",
   "metadata": {},
   "outputs": [],
   "source": [
    "top_actual_platforms_list.sort()"
   ]
  },
  {
   "cell_type": "code",
   "execution_count": 36,
   "id": "628158e1",
   "metadata": {},
   "outputs": [
    {
     "data": {
      "text/plain": [
       "1980"
      ]
     },
     "execution_count": 36,
     "metadata": {},
     "output_type": "execute_result"
    }
   ],
   "source": [
    "original_data.year_of_release.min()"
   ]
  },
  {
   "cell_type": "code",
   "execution_count": 37,
   "id": "87b12ba5",
   "metadata": {
    "scrolled": false
   },
   "outputs": [
    {
     "data": {
      "text/plain": [
       "'График корреляции для 3DS'"
      ]
     },
     "metadata": {},
     "output_type": "display_data"
    },
    {
     "data": {
      "text/html": [
       "<div>\n",
       "<style scoped>\n",
       "    .dataframe tbody tr th:only-of-type {\n",
       "        vertical-align: middle;\n",
       "    }\n",
       "\n",
       "    .dataframe tbody tr th {\n",
       "        vertical-align: top;\n",
       "    }\n",
       "\n",
       "    .dataframe thead th {\n",
       "        text-align: right;\n",
       "    }\n",
       "</style>\n",
       "<table border=\"1\" class=\"dataframe\">\n",
       "  <thead>\n",
       "    <tr style=\"text-align: right;\">\n",
       "      <th></th>\n",
       "      <th>gross_sales</th>\n",
       "      <th>user_score</th>\n",
       "      <th>critic_score</th>\n",
       "    </tr>\n",
       "  </thead>\n",
       "  <tbody>\n",
       "    <tr>\n",
       "      <th>gross_sales</th>\n",
       "      <td>1.000000</td>\n",
       "      <td>0.007941</td>\n",
       "      <td>0.058387</td>\n",
       "    </tr>\n",
       "    <tr>\n",
       "      <th>user_score</th>\n",
       "      <td>0.007941</td>\n",
       "      <td>1.000000</td>\n",
       "      <td>0.852357</td>\n",
       "    </tr>\n",
       "    <tr>\n",
       "      <th>critic_score</th>\n",
       "      <td>0.058387</td>\n",
       "      <td>0.852357</td>\n",
       "      <td>1.000000</td>\n",
       "    </tr>\n",
       "  </tbody>\n",
       "</table>\n",
       "</div>"
      ],
      "text/plain": [
       "              gross_sales  user_score  critic_score\n",
       "gross_sales      1.000000    0.007941      0.058387\n",
       "user_score       0.007941    1.000000      0.852357\n",
       "critic_score     0.058387    0.852357      1.000000"
      ]
     },
     "metadata": {},
     "output_type": "display_data"
    },
    {
     "data": {
      "text/plain": [
       "'График корреляции для PS4'"
      ]
     },
     "metadata": {},
     "output_type": "display_data"
    },
    {
     "data": {
      "text/html": [
       "<div>\n",
       "<style scoped>\n",
       "    .dataframe tbody tr th:only-of-type {\n",
       "        vertical-align: middle;\n",
       "    }\n",
       "\n",
       "    .dataframe tbody tr th {\n",
       "        vertical-align: top;\n",
       "    }\n",
       "\n",
       "    .dataframe thead th {\n",
       "        text-align: right;\n",
       "    }\n",
       "</style>\n",
       "<table border=\"1\" class=\"dataframe\">\n",
       "  <thead>\n",
       "    <tr style=\"text-align: right;\">\n",
       "      <th></th>\n",
       "      <th>gross_sales</th>\n",
       "      <th>user_score</th>\n",
       "      <th>critic_score</th>\n",
       "    </tr>\n",
       "  </thead>\n",
       "  <tbody>\n",
       "    <tr>\n",
       "      <th>gross_sales</th>\n",
       "      <td>1.000000</td>\n",
       "      <td>0.118277</td>\n",
       "      <td>0.218256</td>\n",
       "    </tr>\n",
       "    <tr>\n",
       "      <th>user_score</th>\n",
       "      <td>0.118277</td>\n",
       "      <td>1.000000</td>\n",
       "      <td>0.923325</td>\n",
       "    </tr>\n",
       "    <tr>\n",
       "      <th>critic_score</th>\n",
       "      <td>0.218256</td>\n",
       "      <td>0.923325</td>\n",
       "      <td>1.000000</td>\n",
       "    </tr>\n",
       "  </tbody>\n",
       "</table>\n",
       "</div>"
      ],
      "text/plain": [
       "              gross_sales  user_score  critic_score\n",
       "gross_sales      1.000000    0.118277      0.218256\n",
       "user_score       0.118277    1.000000      0.923325\n",
       "critic_score     0.218256    0.923325      1.000000"
      ]
     },
     "metadata": {},
     "output_type": "display_data"
    },
    {
     "data": {
      "text/plain": [
       "'График корреляции для X360'"
      ]
     },
     "metadata": {},
     "output_type": "display_data"
    },
    {
     "data": {
      "text/html": [
       "<div>\n",
       "<style scoped>\n",
       "    .dataframe tbody tr th:only-of-type {\n",
       "        vertical-align: middle;\n",
       "    }\n",
       "\n",
       "    .dataframe tbody tr th {\n",
       "        vertical-align: top;\n",
       "    }\n",
       "\n",
       "    .dataframe thead th {\n",
       "        text-align: right;\n",
       "    }\n",
       "</style>\n",
       "<table border=\"1\" class=\"dataframe\">\n",
       "  <thead>\n",
       "    <tr style=\"text-align: right;\">\n",
       "      <th></th>\n",
       "      <th>gross_sales</th>\n",
       "      <th>user_score</th>\n",
       "      <th>critic_score</th>\n",
       "    </tr>\n",
       "  </thead>\n",
       "  <tbody>\n",
       "    <tr>\n",
       "      <th>gross_sales</th>\n",
       "      <td>1.000000</td>\n",
       "      <td>0.060633</td>\n",
       "      <td>0.238063</td>\n",
       "    </tr>\n",
       "    <tr>\n",
       "      <th>user_score</th>\n",
       "      <td>0.060633</td>\n",
       "      <td>1.000000</td>\n",
       "      <td>0.495359</td>\n",
       "    </tr>\n",
       "    <tr>\n",
       "      <th>critic_score</th>\n",
       "      <td>0.238063</td>\n",
       "      <td>0.495359</td>\n",
       "      <td>1.000000</td>\n",
       "    </tr>\n",
       "  </tbody>\n",
       "</table>\n",
       "</div>"
      ],
      "text/plain": [
       "              gross_sales  user_score  critic_score\n",
       "gross_sales      1.000000    0.060633      0.238063\n",
       "user_score       0.060633    1.000000      0.495359\n",
       "critic_score     0.238063    0.495359      1.000000"
      ]
     },
     "metadata": {},
     "output_type": "display_data"
    },
    {
     "data": {
      "text/plain": [
       "'График корреляции для XOne'"
      ]
     },
     "metadata": {},
     "output_type": "display_data"
    },
    {
     "data": {
      "text/html": [
       "<div>\n",
       "<style scoped>\n",
       "    .dataframe tbody tr th:only-of-type {\n",
       "        vertical-align: middle;\n",
       "    }\n",
       "\n",
       "    .dataframe tbody tr th {\n",
       "        vertical-align: top;\n",
       "    }\n",
       "\n",
       "    .dataframe thead th {\n",
       "        text-align: right;\n",
       "    }\n",
       "</style>\n",
       "<table border=\"1\" class=\"dataframe\">\n",
       "  <thead>\n",
       "    <tr style=\"text-align: right;\">\n",
       "      <th></th>\n",
       "      <th>gross_sales</th>\n",
       "      <th>user_score</th>\n",
       "      <th>critic_score</th>\n",
       "    </tr>\n",
       "  </thead>\n",
       "  <tbody>\n",
       "    <tr>\n",
       "      <th>gross_sales</th>\n",
       "      <td>1.000000</td>\n",
       "      <td>0.114258</td>\n",
       "      <td>0.265179</td>\n",
       "    </tr>\n",
       "    <tr>\n",
       "      <th>user_score</th>\n",
       "      <td>0.114258</td>\n",
       "      <td>1.000000</td>\n",
       "      <td>0.790094</td>\n",
       "    </tr>\n",
       "    <tr>\n",
       "      <th>critic_score</th>\n",
       "      <td>0.265179</td>\n",
       "      <td>0.790094</td>\n",
       "      <td>1.000000</td>\n",
       "    </tr>\n",
       "  </tbody>\n",
       "</table>\n",
       "</div>"
      ],
      "text/plain": [
       "              gross_sales  user_score  critic_score\n",
       "gross_sales      1.000000    0.114258      0.265179\n",
       "user_score       0.114258    1.000000      0.790094\n",
       "critic_score     0.265179    0.790094      1.000000"
      ]
     },
     "metadata": {},
     "output_type": "display_data"
    },
    {
     "data": {
      "image/png": "[encoded data removed]",
      "text/plain": [
       "<Figure size 576x216 with 2 Axes>"
      ]
     },
     "metadata": {
      "needs_background": "light"
     },
     "output_type": "display_data"
    },
    {
     "data": {
      "image/png": "[encoded data removed]",
      "text/plain": [
       "<Figure size 576x216 with 2 Axes>"
      ]
     },
     "metadata": {
      "needs_background": "light"
     },
     "output_type": "display_data"
    },
    {
     "data": {
      "image/png": "[encoded data removed]",
      "text/plain": [
       "<Figure size 576x216 with 2 Axes>"
      ]
     },
     "metadata": {
      "needs_background": "light"
     },
     "output_type": "display_data"
    },
    {
     "data": {
      "image/png": "[encoded data removed]",
      "text/plain": [
       "<Figure size 576x216 with 2 Axes>"
      ]
     },
     "metadata": {
      "needs_background": "light"
     },
     "output_type": "display_data"
    }
   ],
   "source": [
    "for platform in top_actual_platforms_list:\n",
    "    fig, ax = plt.subplots(1, 2)\n",
    "    temp_data = actual_data.loc[actual_data['platform'] == platform]\n",
    "    temp_data.query('user_score > 0').plot(x='user_score', y='gross_sales', kind='scatter', ax=ax[0], figsize=(8,3), alpha = 0.3)\n",
    "    temp_data.query('critic_score > 0').plot(x='critic_score', y='gross_sales', kind='scatter', ax=ax[1], figsize=(8,3), alpha = 0.3)\n",
    "    fig.suptitle(f'Диаграмма рассеивания отзывов для {platform}')\n",
    "\n",
    "    ax[0].set_xlabel('Оценка пользователей')\n",
    "    ax[0].set_ylabel('Сумма продаж')\n",
    "    ax[1].set_xlabel('Оценка критиков')\n",
    "    ax[1].set_ylabel('Сумма продаж');\n",
    "    \n",
    "    display(f'График корреляции для {platform}')\n",
    "    display(temp_data[['gross_sales', 'user_score', 'critic_score']].corr())"
   ]
  },
  {
   "cell_type": "markdown",
   "id": "1c23cf0a",
   "metadata": {},
   "source": [
    "Замечена возможная зависимость между отзывами критиков и суммой продаж. Для наглядности построим матрицу корреляций:"
   ]
  },
  {
   "cell_type": "markdown",
   "id": "eb15aa7b",
   "metadata": {},
   "source": [
    "Наибольшие кореляции из всех платформ составили:\n",
    "- **26% от оценок критиков;**\n",
    "- **11% от оценок игроков.**\n",
    "\n",
    "Можно с уверенностью утверждать, что **оценки критиков оказывают малое влияние на продажу, в то время, как оценки игроков никак не влияют на продажи.**"
   ]
  },
  {
   "cell_type": "markdown",
   "id": "39b8af4f",
   "metadata": {},
   "source": [
    "Выделим наиболее популярные жанры с 2013 по 2016 года:"
   ]
  },
  {
   "cell_type": "code",
   "execution_count": 38,
   "id": "99df37a5",
   "metadata": {
    "scrolled": true
   },
   "outputs": [
    {
     "data": {
      "image/png": "[encoded data removed]",
      "text/plain": [
       "<Figure size 432x288 with 1 Axes>"
      ]
     },
     "metadata": {
      "needs_background": "light"
     },
     "output_type": "display_data"
    }
   ],
   "source": [
    "genre_sales = actual_data.groupby('genre')['gross_sales'].sum().sort_values(ascending=False).head(10).plot(kind='bar', y='gross_sales', x='genre', xlabel='Жанр', ylabel='Общее кол-во продаж')"
   ]
  },
  {
   "cell_type": "markdown",
   "id": "30aa8416",
   "metadata": {},
   "source": [
    "В четвёрку самых популярных жанров по всему миру входят:\n",
    "1. Экшены;\n",
    "1. Шутеры;\n",
    "1. Спортивные симуляторы;\n",
    "1. РПГ.\n",
    "\n",
    "Теперь построим график, на котором отобразим медианные значения продаж по каждому жанру:"
   ]
  },
  {
   "cell_type": "code",
   "execution_count": 39,
   "id": "f299ce9a",
   "metadata": {},
   "outputs": [
    {
     "data": {
      "image/png": "[encoded data removed]",
      "text/plain": [
       "<Figure size 576x216 with 1 Axes>"
      ]
     },
     "metadata": {
      "needs_background": "light"
     },
     "output_type": "display_data"
    }
   ],
   "source": [
    "genre_sales_median = actual_data.groupby('genre')['gross_sales'].median().sort_values(ascending=False).head(10)\n",
    "genre_sales_median.plot(kind='bar', \n",
    "                          ylabel='Средние продажи игр', \n",
    "                          xlabel='Жанр', \n",
    "                          title='Средние продажи по жанрам на всех платформах',\n",
    "                          figsize=(8, 3));"
   ]
  },
  {
   "cell_type": "markdown",
   "id": "4a7a0f29",
   "metadata": {},
   "source": [
    "Или в виде диаграммы размаха:"
   ]
  },
  {
   "cell_type": "code",
   "execution_count": 40,
   "id": "c03ae73b",
   "metadata": {},
   "outputs": [
    {
     "data": {
      "image/png": "[encoded data removed]",
      "text/plain": [
       "<Figure size 360x360 with 1 Axes>"
      ]
     },
     "metadata": {
      "needs_background": "light"
     },
     "output_type": "display_data"
    }
   ],
   "source": [
    "data_for_plot = pd.DataFrame({'Все платформы':genre_sales_median})\n",
    "ax = plt.subplot()\n",
    "data_for_plot.plot(kind='box', figsize=(5, 5), ax=ax)\n",
    "ax.set_title('Диаграмма размаха для продаж по жанрам', fontsize=12)\n",
    "ax.set_ylabel('Сумма продаж');"
   ]
  },
  {
   "cell_type": "markdown",
   "id": "90568de0",
   "metadata": {},
   "source": [
    "**Наиболее прибыльнымы являются игры в жанре шутер**, но так же целесообразно вкладываться в игры-платформеры и спортивные симуляторы. Экшены, хоть и являются лидерами по абсолютным показтелям продаж, уступают остальным жанрам по средним продажам."
   ]
  },
  {
   "cell_type": "markdown",
   "id": "8184005a",
   "metadata": {},
   "source": [
    "## Портрет пользователя каждого региона"
   ]
  },
  {
   "cell_type": "markdown",
   "id": "ecd88888",
   "metadata": {},
   "source": [
    "Сперва изучим востребованность консолей в актуальном временном отрезке по отношению к трём иследуемым регионам:"
   ]
  },
  {
   "cell_type": "code",
   "execution_count": 41,
   "id": "867a3004",
   "metadata": {},
   "outputs": [
    {
     "name": "stdout",
     "output_type": "stream",
     "text": [
      "<class 'pandas.core.frame.DataFrame'>\n",
      "Int64Index: 16443 entries, 0 to 16714\n",
      "Data columns (total 12 columns):\n",
      " #   Column           Non-Null Count  Dtype  \n",
      "---  ------           --------------  -----  \n",
      " 0   name             16443 non-null  object \n",
      " 1   platform         16443 non-null  object \n",
      " 2   year_of_release  16443 non-null  int64  \n",
      " 3   genre            16443 non-null  object \n",
      " 4   na_sales         16443 non-null  float64\n",
      " 5   eu_sales         16443 non-null  float64\n",
      " 6   jp_sales         16443 non-null  float64\n",
      " 7   other_sales      16443 non-null  float64\n",
      " 8   critic_score     16443 non-null  int64  \n",
      " 9   user_score       16443 non-null  float64\n",
      " 10  rating           16443 non-null  object \n",
      " 11  gross_sales      16443 non-null  float64\n",
      "dtypes: float64(6), int64(2), object(4)\n",
      "memory usage: 1.6+ MB\n"
     ]
    }
   ],
   "source": [
    "temp.info()"
   ]
  },
  {
   "cell_type": "markdown",
   "id": "3165f1d1",
   "metadata": {},
   "source": [
    "Рассмотрим наиболее популярные жанры в каждой из географических зон. Для этого добавим в каждый из срезов по регионам строку \"Others\", содержащую сумму платформ, не вшедших в топ-5 в регионе."
   ]
  },
  {
   "cell_type": "code",
   "execution_count": 42,
   "id": "fab17a94",
   "metadata": {},
   "outputs": [],
   "source": [
    "jp_fav_platforms = actual_data.groupby(by='platform')\\\n",
    ".agg({'jp_sales':'sum'})\\\n",
    ".sort_values(by='jp_sales')\n",
    "\n",
    "temp = jp_fav_platforms[-5:].copy()\n",
    "\n",
    "new_row = pd.DataFrame(\n",
    "    [[jp_fav_platforms['jp_sales'][:-5].sum()]],\n",
    "    columns=['jp_sales']\n",
    ")\n",
    "new_row.rename(index={0:'Others'}, inplace=True)\n",
    "\n",
    "jp_fav_platforms_for_plot = pd.concat([temp, new_row])"
   ]
  },
  {
   "cell_type": "code",
   "execution_count": 43,
   "id": "35e5d1e7",
   "metadata": {},
   "outputs": [],
   "source": [
    "eu_fav_platforms = actual_data.groupby(by='platform')\\\n",
    ".agg({'eu_sales':'sum'})\\\n",
    ".sort_values(by='eu_sales')\n",
    "\n",
    "temp = eu_fav_platforms[-5:].copy()\n",
    "\n",
    "new_row = pd.DataFrame(\n",
    "    [[eu_fav_platforms['eu_sales'][:-5].sum()]],\n",
    "    columns=['eu_sales']\n",
    ")\n",
    "new_row.rename(index={0:'Others'}, inplace=True)\n",
    "\n",
    "eu_fav_platforms_for_plot = pd.concat([temp, new_row])"
   ]
  },
  {
   "cell_type": "code",
   "execution_count": 44,
   "id": "e825f9c0",
   "metadata": {},
   "outputs": [],
   "source": [
    "na_fav_platforms = actual_data.groupby(by='platform')\\\n",
    ".agg({'na_sales':'sum'})\\\n",
    ".sort_values(by='na_sales')\n",
    "\n",
    "temp = na_fav_platforms[-5:].copy()\n",
    "\n",
    "new_row = pd.DataFrame(\n",
    "    [[na_fav_platforms['na_sales'][:-5].sum()]],\n",
    "    columns=['na_sales']\n",
    ")\n",
    "new_row.rename(index={0:'Others'}, inplace=True)\n",
    "\n",
    "na_fav_platforms_for_plot = pd.concat([temp, new_row])"
   ]
  },
  {
   "cell_type": "code",
   "execution_count": 45,
   "id": "65d0576e",
   "metadata": {
    "scrolled": true
   },
   "outputs": [
    {
     "data": {
      "image/png": "[encoded data removed]",
      "text/plain": [
       "<Figure size 720x216 with 3 Axes>"
      ]
     },
     "metadata": {},
     "output_type": "display_data"
    }
   ],
   "source": [
    "fig, ax = plt.subplots(1, 3, figsize=(10, 3))\n",
    "\n",
    "ax[0].pie(jp_fav_platforms_for_plot['jp_sales'], \n",
    "          autopct='%.1f%%',\n",
    "          labels=jp_fav_platforms_for_plot.index)\n",
    "ax[1].pie(eu_fav_platforms_for_plot['eu_sales'], \n",
    "          autopct='%.1f%%',\n",
    "          labels=eu_fav_platforms_for_plot.index)\n",
    "ax[2].pie(na_fav_platforms_for_plot['na_sales'], \n",
    "          autopct='%.1f%%',\n",
    "          labels=na_fav_platforms_for_plot.index)\n",
    "\n",
    "ax[0].set_title('JP')\n",
    "ax[1].set_title('EU')\n",
    "ax[2].set_title('NA')\n",
    "\n",
    "fig.tight_layout()\n",
    "plt.show();"
   ]
  },
  {
   "cell_type": "code",
   "execution_count": 46,
   "id": "54631a0f",
   "metadata": {},
   "outputs": [],
   "source": [
    "jp_fav_genres = actual_data.groupby(by='genre')\\\n",
    ".agg({'jp_sales':'sum'})\\\n",
    ".sort_values(by='jp_sales')\n",
    "\n",
    "temp = jp_fav_genres[-5:].copy()\n",
    "\n",
    "new_row = pd.DataFrame(\n",
    "    [[jp_fav_genres['jp_sales'][:-5].sum()]],\n",
    "    columns=['jp_sales']\n",
    ")\n",
    "new_row.rename(index={0:'Others'}, inplace=True)\n",
    "\n",
    "jp_fav_genres_for_plot = pd.concat([temp, new_row])"
   ]
  },
  {
   "cell_type": "code",
   "execution_count": 47,
   "id": "25701f68",
   "metadata": {},
   "outputs": [],
   "source": [
    "eu_fav_genres = actual_data.groupby(by='genre')\\\n",
    ".agg({'eu_sales':'sum'})\\\n",
    ".sort_values(by='eu_sales')\n",
    "\n",
    "temp = eu_fav_genres[-5:].copy()\n",
    "\n",
    "new_row = pd.DataFrame(\n",
    "    [[eu_fav_genres['eu_sales'][:-5].sum()]],\n",
    "    columns=['eu_sales']\n",
    ")\n",
    "new_row.rename(index={0:'Others'}, inplace=True)\n",
    "\n",
    "eu_fav_genres_for_plot = pd.concat([temp, new_row])"
   ]
  },
  {
   "cell_type": "code",
   "execution_count": 48,
   "id": "4858c387",
   "metadata": {},
   "outputs": [],
   "source": [
    "na_fav_genres = actual_data.groupby(by='genre')\\\n",
    ".agg({'na_sales':'sum'})\\\n",
    ".sort_values(by='na_sales')\n",
    "\n",
    "temp = na_fav_genres[-5:].copy()\n",
    "\n",
    "new_row = pd.DataFrame(\n",
    "    [[na_fav_genres['na_sales'][:-5].sum()]],\n",
    "    columns=['na_sales']\n",
    ")\n",
    "new_row.rename(index={0:'Others'}, inplace=True)\n",
    "\n",
    "na_fav_genres_for_plot = pd.concat([temp, new_row])"
   ]
  },
  {
   "cell_type": "code",
   "execution_count": 49,
   "id": "55436cc0",
   "metadata": {
    "scrolled": true
   },
   "outputs": [
    {
     "data": {
      "image/png": "[encoded data removed]",
      "text/plain": [
       "<Figure size 720x216 with 3 Axes>"
      ]
     },
     "metadata": {},
     "output_type": "display_data"
    }
   ],
   "source": [
    "fig, ax = plt.subplots(1, 3, figsize=(10, 3))\n",
    "\n",
    "ax[0].pie(jp_fav_genres_for_plot['jp_sales'], \n",
    "          autopct='%.1f%%',\n",
    "          labels=jp_fav_genres_for_plot.index)\n",
    "ax[1].pie(eu_fav_genres_for_plot['eu_sales'], \n",
    "          autopct='%.1f%%',\n",
    "          labels=eu_fav_genres_for_plot.index)\n",
    "ax[2].pie(na_fav_genres_for_plot['na_sales'], \n",
    "          autopct='%.1f%%',\n",
    "          labels=na_fav_genres_for_plot.index)\n",
    "\n",
    "ax[0].set_title('JP')\n",
    "ax[1].set_title('EU')\n",
    "ax[2].set_title('NA')\n",
    "\n",
    "fig.tight_layout()\n",
    "plt.show();"
   ]
  },
  {
   "cell_type": "markdown",
   "id": "0f27f88d",
   "metadata": {},
   "source": [
    "И наконец, изучим влияние рейтинга незамисымых оценочных ведомств на количество продаж в регионах:"
   ]
  },
  {
   "cell_type": "code",
   "execution_count": 50,
   "id": "59507b9c",
   "metadata": {},
   "outputs": [],
   "source": [
    "jp_rating = actual_data.groupby(by='rating')\\\n",
    ".agg({'jp_sales':'sum'})\\\n",
    ".sort_values(by='jp_sales')\n",
    "\n",
    "temp = jp_rating[-5:].copy()\n",
    "\n",
    "new_row = pd.DataFrame(\n",
    "    [[jp_rating['jp_sales'][:-5].sum()]],\n",
    "    columns=['jp_sales']\n",
    ")\n",
    "new_row.rename(index={0:'Others'}, inplace=True)\n",
    "\n",
    "jp_rating_for_plot = pd.concat([temp, new_row])"
   ]
  },
  {
   "cell_type": "code",
   "execution_count": 51,
   "id": "1fdebeb8",
   "metadata": {},
   "outputs": [],
   "source": [
    "eu_rating = actual_data.groupby(by='rating')\\\n",
    ".agg({'eu_sales':'sum'})\\\n",
    ".sort_values(by='eu_sales')\n",
    "\n",
    "temp = eu_rating[-5:].copy()\n",
    "\n",
    "new_row = pd.DataFrame(\n",
    "    [[eu_rating['eu_sales'][:-5].sum()]],\n",
    "    columns=['eu_sales']\n",
    ")\n",
    "new_row.rename(index={0:'Others'}, inplace=True)\n",
    "\n",
    "eu_rating_for_plot = pd.concat([temp, new_row])"
   ]
  },
  {
   "cell_type": "code",
   "execution_count": 52,
   "id": "ef620064",
   "metadata": {},
   "outputs": [],
   "source": [
    "na_rating = actual_data.groupby(by='rating')\\\n",
    ".agg({'na_sales':'sum'})\\\n",
    ".sort_values(by='na_sales')\n",
    "\n",
    "temp = na_rating[-5:].copy()\n",
    "\n",
    "new_row = pd.DataFrame(\n",
    "    [[na_rating['na_sales'][:-5].sum()]],\n",
    "    columns=['na_sales']\n",
    ")\n",
    "new_row.rename(index={0:'Others'}, inplace=True)\n",
    "\n",
    "na_rating_for_plot = pd.concat([temp, new_row])"
   ]
  },
  {
   "cell_type": "code",
   "execution_count": 53,
   "id": "ea2592b3",
   "metadata": {},
   "outputs": [
    {
     "data": {
      "image/png": "[encoded data removed]",
      "text/plain": [
       "<Figure size 720x216 with 3 Axes>"
      ]
     },
     "metadata": {},
     "output_type": "display_data"
    }
   ],
   "source": [
    "fig, ax = plt.subplots(1, 3, figsize=(10, 3))\n",
    "\n",
    "ax[0].pie(jp_fav_genres_for_plot['jp_sales'], \n",
    "          autopct='%.1f%%',\n",
    "          labels=jp_rating_for_plot.index)\n",
    "ax[1].pie(eu_fav_genres_for_plot['eu_sales'], \n",
    "          autopct='%.1f%%',\n",
    "          labels=eu_rating_for_plot.index)\n",
    "ax[2].pie(na_fav_genres_for_plot['na_sales'], \n",
    "          autopct='%.1f%%',\n",
    "          labels=na_rating_for_plot.index)\n",
    "\n",
    "ax[0].set_title('JP')\n",
    "ax[1].set_title('EU')\n",
    "ax[2].set_title('NA')\n",
    "\n",
    "fig.tight_layout()\n",
    "plt.show();"
   ]
  },
  {
   "cell_type": "markdown",
   "id": "3493701e",
   "metadata": {},
   "source": [
    "**Выводы:**\n",
    "\n",
    "Для Японии характерны:\n",
    "- Предпочтение отечественных игровых платформ (Nintendo, PlayStation);\n",
    "- Чрезмерное увлечение играми жанра РПГ на фоне всеъ остальных;\n",
    "- За исключение игр без рейтингаЮ на рынке доминируют игры категорий \"для всех\"(10+).\n",
    "\n",
    "Для Европы характерны:\n",
    "- Предпочтение платформам компании PlaySation;\n",
    "- Любовь к играм жанров Экшн, шутер и спортивные симуляторы;\n",
    "- Игры категории \"для взрослых\" (17+), \"для всех\" (10+)  и \"для подростков\" (13+)\n",
    "\n",
    "Для Америки харакетрны:\n",
    "- Предпочтение отечственному Xbox;\n",
    "- В играх вкусы идентичны европейцам;\n",
    "- Четверть рынка не была оценена ESRB, высока поплуярность категории \"для взрослых\" (17+).\n",
    "\n",
    "Стоит отметить, что рейтинговая система ESRB не распространяется на рынки Европы и Японии, так что целесообразно игнорировать рейтинг \"Unknown\" в этих регионах."
   ]
  },
  {
   "cell_type": "markdown",
   "id": "2c9a8d6c",
   "metadata": {},
   "source": [
    "## Проверка гипотез"
   ]
  },
  {
   "cell_type": "markdown",
   "id": "adce5b29",
   "metadata": {},
   "source": [
    "### Средние пользовательские рейтинги платформ Xbox One и PC одинаковые"
   ]
  },
  {
   "cell_type": "markdown",
   "id": "157092a9",
   "metadata": {},
   "source": [
    "Гипотеза H0: Средние пользовательские рейтинги платформ Xbox One и PC равны.\n",
    "\n",
    "Гипотеза H1: Средние пользовательские рейтинги платформ Xbox One и PC неравны."
   ]
  },
  {
   "cell_type": "markdown",
   "id": "dc823d20",
   "metadata": {},
   "source": [
    "Убедимся, что можно использовать t-Стьюдента:"
   ]
  },
  {
   "cell_type": "code",
   "execution_count": 54,
   "id": "878170ad",
   "metadata": {},
   "outputs": [],
   "source": [
    "PC_ratings = actual_data.query('(platform == \"PC\") & (user_score > 0)')['user_score']\n",
    "XOne_ratings = actual_data.query('(platform == \"XOne\") & (user_score > 0)')['user_score']"
   ]
  },
  {
   "cell_type": "code",
   "execution_count": 55,
   "id": "8e509116",
   "metadata": {},
   "outputs": [
    {
     "data": {
      "text/plain": [
       "'PC count: 155'"
      ]
     },
     "metadata": {},
     "output_type": "display_data"
    },
    {
     "data": {
      "text/plain": [
       "'XboxOne count: 182'"
      ]
     },
     "metadata": {},
     "output_type": "display_data"
    }
   ],
   "source": [
    "display(f'PC count: {PC_ratings.count()}')\n",
    "display(f'XboxOne count: {XOne_ratings.count()}')"
   ]
  },
  {
   "cell_type": "markdown",
   "id": "e04a3d42",
   "metadata": {},
   "source": [
    "Укажем equal_var = False, поскольку дисперсии выборок различаются."
   ]
  },
  {
   "cell_type": "code",
   "execution_count": 56,
   "id": "f9e9fa48",
   "metadata": {},
   "outputs": [
    {
     "data": {
      "text/plain": [
       "'p-значение: 0.14759594013430463'"
      ]
     },
     "metadata": {},
     "output_type": "display_data"
    },
    {
     "name": "stdout",
     "output_type": "stream",
     "text": [
      "Нет оснований отвергнать нулевую гипотезу\n"
     ]
    }
   ],
   "source": [
    "alpha = 0.05\n",
    "\n",
    "results = st.ttest_ind(PC_ratings, XOne_ratings, equal_var=False)\n",
    "\n",
    "display(f'p-значение: {results.pvalue}')\n",
    "\n",
    "if (results.pvalue < alpha):\n",
    "    print(\"Отвергаем нулевую гипотезу\")\n",
    "else:\n",
    "    print(\"Нет оснований отвергнать нулевую гипотезу\")"
   ]
  },
  {
   "cell_type": "markdown",
   "id": "0fc5b45e",
   "metadata": {},
   "source": [
    "**Средние пользовательские рейтинги платформ Xbox One и PC равны.**"
   ]
  },
  {
   "cell_type": "markdown",
   "id": "a93affb8",
   "metadata": {},
   "source": [
    "### Средние пользовательские рейтинги жанров Action и Sports разные."
   ]
  },
  {
   "cell_type": "markdown",
   "id": "ff3a1c03",
   "metadata": {},
   "source": [
    "Гипотеза H0: средний пользовательский рейтинг жанров Action и Sports равны.\n",
    "\n",
    "Гипотеза H1: средний пользовательский рейтинг жанров Action и Sports неравны."
   ]
  },
  {
   "cell_type": "markdown",
   "id": "28c3bd9d",
   "metadata": {},
   "source": [
    "По аналогии проверим возможность использования t-Стьюдента:"
   ]
  },
  {
   "cell_type": "code",
   "execution_count": 57,
   "id": "9a3c9ea8",
   "metadata": {
    "scrolled": true
   },
   "outputs": [
    {
     "data": {
      "text/plain": [
       "'ACtion count: 389'"
      ]
     },
     "metadata": {},
     "output_type": "display_data"
    },
    {
     "data": {
      "text/plain": [
       "'Sports count: 160'"
      ]
     },
     "metadata": {},
     "output_type": "display_data"
    }
   ],
   "source": [
    "action_scores = actual_data[(actual_data['genre'] == 'Action') & (actual_data['user_score'] > 0)]['user_score']\n",
    "sports_scores = actual_data[(actual_data['genre'] == 'Sports') & (actual_data['user_score'] > 0)]['user_score']\n",
    "\n",
    "display(f'ACtion count: {action_scores.count()}')\n",
    "display(f'Sports count: {sports_scores.count()}')"
   ]
  },
  {
   "cell_type": "markdown",
   "id": "bc93ead1",
   "metadata": {},
   "source": [
    "Всё ещё equal_var=False."
   ]
  },
  {
   "cell_type": "code",
   "execution_count": 58,
   "id": "efc20691",
   "metadata": {},
   "outputs": [
    {
     "data": {
      "text/plain": [
       "'p-значение: 1.4460039700704315e-20'"
      ]
     },
     "metadata": {},
     "output_type": "display_data"
    },
    {
     "name": "stdout",
     "output_type": "stream",
     "text": [
      "Отвергаем нулевую гипотезу\n"
     ]
    }
   ],
   "source": [
    "results = st.ttest_ind(action_scores, sports_scores, equal_var=False)\n",
    "\n",
    "display(f'p-значение: {results.pvalue}')\n",
    "\n",
    "if (results.pvalue < alpha):\n",
    "    print(\"Отвергаем нулевую гипотезу\")\n",
    "else:\n",
    "    print(\"Нет оснований отвергнать нулевую гипотезу\")"
   ]
  },
  {
   "cell_type": "markdown",
   "id": "4f098307",
   "metadata": {},
   "source": [
    "На основании имеющихся данных, на уровне значимости 5%, есть основания **отвергнуть нулевую гипотезу о равенстве средних значений пользовательских рейтингов (отзывов) жанров Action и Sports в пользу альтернативной гипотезы.**"
   ]
  },
  {
   "cell_type": "markdown",
   "id": "9d4ca0a7",
   "metadata": {},
   "source": [
    "Выведем средние и медианные показатели пользвательских рейтингов для жанров и платформ, чтобы убедиться в правоте расчётов:"
   ]
  },
  {
   "cell_type": "code",
   "execution_count": 59,
   "id": "8aa80d81",
   "metadata": {},
   "outputs": [],
   "source": [
    "xone_data = actual_data.query('platform == \"XOne\"')\n",
    "pc_data = actual_data.query('platform == \"PC\"')\n",
    "actions_data = actual_data.query('genre == \"Action\"')\n",
    "sports_data = actual_data.query('genre == \"Sports\"')"
   ]
  },
  {
   "cell_type": "code",
   "execution_count": 60,
   "id": "1abb5072",
   "metadata": {},
   "outputs": [
    {
     "data": {
      "text/plain": [
       "'Арифм. среднее пользовательских оценок для игр на XOne: 2.5744939271255056'"
      ]
     },
     "metadata": {},
     "output_type": "display_data"
    },
    {
     "data": {
      "text/plain": [
       "'Арифм. среднее пользовательских оценок для игр на PC: 3.5809523809523807'"
      ]
     },
     "metadata": {},
     "output_type": "display_data"
    },
    {
     "data": {
      "text/plain": [
       "'__________________________________________________________________________'"
      ]
     },
     "metadata": {},
     "output_type": "display_data"
    },
    {
     "data": {
      "text/plain": [
       "'Медиана пользовательских оценок для игр на XOne: 6.0'"
      ]
     },
     "metadata": {},
     "output_type": "display_data"
    },
    {
     "data": {
      "text/plain": [
       "'Медиана пользовательских оценок для игр на PC: 6.0'"
      ]
     },
     "metadata": {},
     "output_type": "display_data"
    }
   ],
   "source": [
    "display(f'Арифм. среднее пользовательских оценок для игр на XOne: {xone_data[\"user_score\"].mean()}')\n",
    "display(f'Арифм. среднее пользовательских оценок для игр на PC: {pc_data[\"user_score\"].mean()}')\n",
    "display('__________________________________________________________________________')\n",
    "display(f'Медиана пользовательских оценок для игр на XOne: {xone_data[\"user_score\"].median()}')\n",
    "display(f'Медиана пользовательских оценок для игр на PC: {pc_data[\"user_score\"].median()}')"
   ]
  },
  {
   "cell_type": "markdown",
   "id": "b13d0caf",
   "metadata": {},
   "source": [
    "Действительно, **медианы пользовательских оценок игра на PC и Xbox One идентичны**"
   ]
  },
  {
   "cell_type": "code",
   "execution_count": 61,
   "id": "228fc588",
   "metadata": {},
   "outputs": [
    {
     "data": {
      "text/plain": [
       "'Арифм. среднее пользовательских оценок для жанра Action: -0.9441253263707571'"
      ]
     },
     "metadata": {},
     "output_type": "display_data"
    },
    {
     "data": {
      "text/plain": [
       "'Арифм. среднее пользовательских оценок для жанра Sport: 1.9397196261682244'"
      ]
     },
     "metadata": {},
     "output_type": "display_data"
    },
    {
     "data": {
      "text/plain": [
       "'__________________________________________________________________________'"
      ]
     },
     "metadata": {},
     "output_type": "display_data"
    },
    {
     "data": {
      "text/plain": [
       "'Медиана пользовательских оценок для жанра Action: 2.9'"
      ]
     },
     "metadata": {},
     "output_type": "display_data"
    },
    {
     "data": {
      "text/plain": [
       "'Медиана пользовательских оценок для жанра Sport: 4.35'"
      ]
     },
     "metadata": {},
     "output_type": "display_data"
    }
   ],
   "source": [
    "display(f'Арифм. среднее пользовательских оценок для жанра Action: {actions_data[\"user_score\"].mean()}')\n",
    "display(f'Арифм. среднее пользовательских оценок для жанра Sport: {sports_data[\"user_score\"].mean()}')\n",
    "display('__________________________________________________________________________')\n",
    "display(f'Медиана пользовательских оценок для жанра Action: {actions_data[\"user_score\"].median()}')\n",
    "display(f'Медиана пользовательских оценок для жанра Sport: {sports_data[\"user_score\"].median()}')"
   ]
  },
  {
   "cell_type": "markdown",
   "id": "cc306e3c",
   "metadata": {},
   "source": [
    "**Средние показатели пользовательских оценок ислледуемых жанров сильно отличаются.**"
   ]
  },
  {
   "cell_type": "markdown",
   "id": "3930e063",
   "metadata": {},
   "source": [
    "Нами были выдвинуты две гипотезы относительно схожести пользователських рейтингов двух игровых платформ и двух наиболее популярных жанров игр.\n",
    "\n",
    "Нулевая гипотеза – это основное проверяемое предположение, которое обычно формулируется как отсутствие различий, отсутствие влияния фактора, отсутствие эффекта, равенство нулю значений выборочных характеристик и т. п. В нашем случае предпологалось, что пользовательские оценки между исследуемыми жанрами (платформами) равны.\n",
    "\n",
    "Альтернативная гипотеза — это та, в которую вы бы поверили, если бы нулевая гипотеза оказалась неверной. Другими словами, мы создадим утверждение (нулевая гипотеза) и используем пример данных, чтобы проверить, является ли утверждение действительным.\n",
    "\n",
    "Поскольку гипотеза - есть предположение, её невозможно подтвердить, а можно только найти основания для того, чтобы гипотезу опровергнуть, как и случилось с гипотезой о схожести оценок жанров.\n",
    "\n",
    "Для определения статистической значимости используется T-критерий Стьюдента. Он может применяться как в случаях сравнения независимых выборок (что и было нужно нам при работе со срезами с разными величинами), так и при сравнении связанных совокупностей."
   ]
  },
  {
   "cell_type": "markdown",
   "id": "911c9540",
   "metadata": {},
   "source": [
    "## Выводы"
   ]
  },
  {
   "cell_type": "markdown",
   "id": "ebd0f779",
   "metadata": {},
   "source": [
    "- Разработка игр, как инудстрия, начала набирать значительных оборотов в 1993 году, благодаря развитию и доступности технологий, персональных копьютеров и приставок;\n",
    "- Наиболее проудктивными годами для геймдева были 2008 и 2009 года;\n",
    "- После 2009 года наблюдается спад производства, что может быть следствием финансового мирового кризиса 2008 года, который повлёк за собой закрытие многих студий разработчиков;\n",
    "- С 2013 на 2014 год произошла смена поколений консолей: PS3 передала эстафету первенства PS4, а Хbox360 - XboxOne. Ввиду неполноты данных за 2016 сложно судить о количестве впущенных и проданных игр на консолях нового поколения, однако обе консоли являются беспрецедентными лидерами для своего времени по количеству продоваемых игр;\n",
    "- Оценки критиков имеют незначительное влияние на темпы продаж игр, в то время, когда пользователи практически не влияют на продажи;\n",
    "\n",
    "\n",
    "- Анализ трёх рынков (американского, европейского и японского) показал следующие результаты:\n",
    "    1. Для Японии характерны:\n",
    "        - Предпочтение отечественных игровых платформ (Nintendo, PlayStation);\n",
    "        - Чрезмерное увлечение играми жанра РПГ на фоне всех остальных;\n",
    "        - Доминирование на рынке игр категорий \"для всех\"(10+) и \"для подростков\" (13+)\n",
    "\n",
    "    2. Для Европы характерны:\n",
    "        - Предпочтение платформам компании PlaySation;\n",
    "        - Любовь к играм жанров экшн, шутер и спортивные симуляторы;\n",
    "        - Игры категории \"для взрослых\" (17+), \"для всех\" (10+) и \"для подростков\" (13+)\n",
    "\n",
    "    2. Для Америки харакетрны:\n",
    "        - Предпочтение отечственному Xbox;\n",
    "        - В играх и их категориях вкусы идентичны европейцам;\n",
    "        \n",
    "        \n",
    "- Гипотеза, что средние пользовательские рейтинги платформ Xbox One и PC равны не опровергнута;\n",
    "- Гипотеза, что средние пользовательские рейтинги жанров Action и Sports различаются опровергнута.\n",
    "\n",
    "Наиболее перспективными направлениями инвестиций являются:\n",
    "1. **Отечественные платформы на японском рынке. Игры в жанре РПГ и экшен для подростков;**\n",
    "1. **Консоли производства PlayStation для европейского рынка. Игры жанров шутер и экшен, категорий \"для всех\" (10+) и \"для взрослых\" (17+);**\n",
    "1. **Платформы производства Microsoft на американском рынке. Игры в жанре шутер и экшен, категории \"для взрослых\" (17+);**\n",
    "\n",
    "При этом не стоит обращать внимание на пользовательские оценки в выборе объекта инвестиции, но положительные оценки критиков с небольшой вероятностью могут положительно сказаться на продажах."
   ]
  }
 ],
 "metadata": {
  "ExecuteTimeLog": [
   {
    "duration": 1111,
    "start_time": "2023-01-25T22:47:59.492Z"
   },
   {
    "duration": 127,
    "start_time": "2023-01-25T22:48:00.605Z"
   },
   {
    "duration": 0,
    "start_time": "2023-01-25T22:48:00.735Z"
   },
   {
    "duration": 0,
    "start_time": "2023-01-25T22:48:00.736Z"
   },
   {
    "duration": 0,
    "start_time": "2023-01-25T22:48:00.737Z"
   },
   {
    "duration": 0,
    "start_time": "2023-01-25T22:48:00.738Z"
   },
   {
    "duration": 0,
    "start_time": "2023-01-25T22:48:00.739Z"
   },
   {
    "duration": 0,
    "start_time": "2023-01-25T22:48:00.740Z"
   },
   {
    "duration": 0,
    "start_time": "2023-01-25T22:48:00.741Z"
   },
   {
    "duration": 0,
    "start_time": "2023-01-25T22:48:00.742Z"
   },
   {
    "duration": 0,
    "start_time": "2023-01-25T22:48:00.743Z"
   },
   {
    "duration": 0,
    "start_time": "2023-01-25T22:48:00.744Z"
   },
   {
    "duration": 0,
    "start_time": "2023-01-25T22:48:00.745Z"
   },
   {
    "duration": 0,
    "start_time": "2023-01-25T22:48:00.746Z"
   },
   {
    "duration": 0,
    "start_time": "2023-01-25T22:48:00.747Z"
   },
   {
    "duration": 0,
    "start_time": "2023-01-25T22:48:00.748Z"
   },
   {
    "duration": 0,
    "start_time": "2023-01-25T22:48:00.749Z"
   },
   {
    "duration": 0,
    "start_time": "2023-01-25T22:48:00.750Z"
   },
   {
    "duration": 0,
    "start_time": "2023-01-25T22:48:00.751Z"
   },
   {
    "duration": 0,
    "start_time": "2023-01-25T22:48:00.751Z"
   },
   {
    "duration": 0,
    "start_time": "2023-01-25T22:48:00.752Z"
   },
   {
    "duration": 0,
    "start_time": "2023-01-25T22:48:00.754Z"
   },
   {
    "duration": 0,
    "start_time": "2023-01-25T22:48:00.754Z"
   },
   {
    "duration": 0,
    "start_time": "2023-01-25T22:48:00.755Z"
   },
   {
    "duration": 0,
    "start_time": "2023-01-25T22:48:00.756Z"
   },
   {
    "duration": 0,
    "start_time": "2023-01-25T22:48:00.757Z"
   },
   {
    "duration": 0,
    "start_time": "2023-01-25T22:48:00.758Z"
   },
   {
    "duration": 0,
    "start_time": "2023-01-25T22:48:00.759Z"
   },
   {
    "duration": 0,
    "start_time": "2023-01-25T22:48:00.760Z"
   },
   {
    "duration": 0,
    "start_time": "2023-01-25T22:48:00.761Z"
   },
   {
    "duration": 0,
    "start_time": "2023-01-25T22:48:00.803Z"
   },
   {
    "duration": 0,
    "start_time": "2023-01-25T22:48:00.804Z"
   },
   {
    "duration": 0,
    "start_time": "2023-01-25T22:48:00.805Z"
   },
   {
    "duration": 0,
    "start_time": "2023-01-25T22:48:00.807Z"
   },
   {
    "duration": 0,
    "start_time": "2023-01-25T22:48:00.807Z"
   },
   {
    "duration": 0,
    "start_time": "2023-01-25T22:48:00.809Z"
   },
   {
    "duration": 0,
    "start_time": "2023-01-25T22:48:00.810Z"
   },
   {
    "duration": 0,
    "start_time": "2023-01-25T22:48:00.811Z"
   },
   {
    "duration": 0,
    "start_time": "2023-01-25T22:48:00.811Z"
   },
   {
    "duration": 1,
    "start_time": "2023-01-25T22:48:00.812Z"
   },
   {
    "duration": 0,
    "start_time": "2023-01-25T22:48:00.813Z"
   },
   {
    "duration": 0,
    "start_time": "2023-01-25T22:48:00.814Z"
   },
   {
    "duration": 0,
    "start_time": "2023-01-25T22:48:00.815Z"
   },
   {
    "duration": 44,
    "start_time": "2023-01-26T03:32:14.019Z"
   },
   {
    "duration": 1222,
    "start_time": "2023-01-26T03:32:17.929Z"
   },
   {
    "duration": 94,
    "start_time": "2023-01-26T03:32:19.153Z"
   },
   {
    "duration": 197,
    "start_time": "2023-01-26T03:32:27.474Z"
   },
   {
    "duration": 1132,
    "start_time": "2023-01-26T03:32:32.540Z"
   },
   {
    "duration": 57,
    "start_time": "2023-01-26T03:32:33.673Z"
   },
   {
    "duration": 23,
    "start_time": "2023-01-26T03:32:33.732Z"
   },
   {
    "duration": 15,
    "start_time": "2023-01-26T03:32:33.757Z"
   },
   {
    "duration": 8,
    "start_time": "2023-01-26T03:32:33.774Z"
   },
   {
    "duration": 10,
    "start_time": "2023-01-26T03:32:33.784Z"
   },
   {
    "duration": 6,
    "start_time": "2023-01-26T03:32:33.796Z"
   },
   {
    "duration": 8,
    "start_time": "2023-01-26T03:32:33.804Z"
   },
   {
    "duration": 17,
    "start_time": "2023-01-26T03:32:33.814Z"
   },
   {
    "duration": 33,
    "start_time": "2023-01-26T03:32:33.834Z"
   },
   {
    "duration": 7,
    "start_time": "2023-01-26T03:32:33.869Z"
   },
   {
    "duration": 6,
    "start_time": "2023-01-26T03:32:33.878Z"
   },
   {
    "duration": 9,
    "start_time": "2023-01-26T03:32:33.886Z"
   },
   {
    "duration": 8,
    "start_time": "2023-01-26T03:32:33.897Z"
   },
   {
    "duration": 5,
    "start_time": "2023-01-26T03:32:33.906Z"
   },
   {
    "duration": 205,
    "start_time": "2023-01-26T03:32:33.913Z"
   },
   {
    "duration": 8,
    "start_time": "2023-01-26T03:32:34.120Z"
   },
   {
    "duration": 205,
    "start_time": "2023-01-26T03:32:34.129Z"
   },
   {
    "duration": 51,
    "start_time": "2023-01-26T03:32:34.336Z"
   },
   {
    "duration": 5,
    "start_time": "2023-01-26T03:32:34.389Z"
   },
   {
    "duration": 12,
    "start_time": "2023-01-26T03:32:34.395Z"
   },
   {
    "duration": 158,
    "start_time": "2023-01-26T03:32:34.409Z"
   },
   {
    "duration": 572,
    "start_time": "2023-01-26T03:32:34.568Z"
   },
   {
    "duration": 284,
    "start_time": "2023-01-26T03:32:35.142Z"
   },
   {
    "duration": 215,
    "start_time": "2023-01-26T03:32:35.427Z"
   },
   {
    "duration": 23,
    "start_time": "2023-01-26T03:32:35.644Z"
   },
   {
    "duration": 339,
    "start_time": "2023-01-26T03:32:35.669Z"
   },
   {
    "duration": 9,
    "start_time": "2023-01-26T03:32:36.012Z"
   },
   {
    "duration": 20,
    "start_time": "2023-01-26T03:32:36.023Z"
   },
   {
    "duration": 28,
    "start_time": "2023-01-26T03:32:36.045Z"
   },
   {
    "duration": 9,
    "start_time": "2023-01-26T03:32:36.075Z"
   },
   {
    "duration": 15,
    "start_time": "2023-01-26T03:32:36.085Z"
   },
   {
    "duration": 8,
    "start_time": "2023-01-26T03:32:36.102Z"
   },
   {
    "duration": 8,
    "start_time": "2023-01-26T03:32:36.111Z"
   },
   {
    "duration": 223,
    "start_time": "2023-01-26T03:32:36.121Z"
   },
   {
    "duration": 302,
    "start_time": "2023-01-26T03:32:36.346Z"
   },
   {
    "duration": 326,
    "start_time": "2023-01-26T03:32:36.650Z"
   },
   {
    "duration": 299,
    "start_time": "2023-01-26T03:32:36.977Z"
   },
   {
    "duration": 8,
    "start_time": "2023-01-26T03:32:37.277Z"
   },
   {
    "duration": 15,
    "start_time": "2023-01-26T03:32:37.286Z"
   },
   {
    "duration": 8,
    "start_time": "2023-01-26T03:32:37.302Z"
   },
   {
    "duration": 21,
    "start_time": "2023-01-26T03:32:37.312Z"
   },
   {
    "duration": 12,
    "start_time": "2023-01-26T03:32:37.335Z"
   },
   {
    "duration": 1175,
    "start_time": "2023-01-26T20:44:17.110Z"
   },
   {
    "duration": 43,
    "start_time": "2023-01-26T20:44:18.287Z"
   },
   {
    "duration": 22,
    "start_time": "2023-01-26T20:44:18.332Z"
   },
   {
    "duration": 14,
    "start_time": "2023-01-26T20:44:18.356Z"
   },
   {
    "duration": 8,
    "start_time": "2023-01-26T20:44:18.372Z"
   },
   {
    "duration": 26,
    "start_time": "2023-01-26T20:44:18.382Z"
   },
   {
    "duration": 12,
    "start_time": "2023-01-26T20:44:18.409Z"
   },
   {
    "duration": 8,
    "start_time": "2023-01-26T20:44:18.422Z"
   },
   {
    "duration": 17,
    "start_time": "2023-01-26T20:44:18.431Z"
   },
   {
    "duration": 7,
    "start_time": "2023-01-26T20:44:18.449Z"
   },
   {
    "duration": 14,
    "start_time": "2023-01-26T20:44:18.457Z"
   },
   {
    "duration": 8,
    "start_time": "2023-01-26T20:44:18.472Z"
   },
   {
    "duration": 10,
    "start_time": "2023-01-26T20:44:18.481Z"
   },
   {
    "duration": 13,
    "start_time": "2023-01-26T20:44:18.494Z"
   },
   {
    "duration": 5,
    "start_time": "2023-01-26T20:44:18.509Z"
   },
   {
    "duration": 198,
    "start_time": "2023-01-26T20:44:18.515Z"
   },
   {
    "duration": 7,
    "start_time": "2023-01-26T20:44:18.715Z"
   },
   {
    "duration": 221,
    "start_time": "2023-01-26T20:44:18.724Z"
   },
   {
    "duration": 57,
    "start_time": "2023-01-26T20:44:18.947Z"
   },
   {
    "duration": 4,
    "start_time": "2023-01-26T20:44:19.006Z"
   },
   {
    "duration": 14,
    "start_time": "2023-01-26T20:44:19.012Z"
   },
   {
    "duration": 158,
    "start_time": "2023-01-26T20:44:19.027Z"
   },
   {
    "duration": 523,
    "start_time": "2023-01-26T20:44:19.187Z"
   },
   {
    "duration": 311,
    "start_time": "2023-01-26T20:44:19.712Z"
   },
   {
    "duration": 192,
    "start_time": "2023-01-26T20:44:20.025Z"
   },
   {
    "duration": 11,
    "start_time": "2023-01-26T20:44:20.219Z"
   },
   {
    "duration": 333,
    "start_time": "2023-01-26T20:44:20.232Z"
   },
   {
    "duration": 10,
    "start_time": "2023-01-26T20:44:20.566Z"
   },
   {
    "duration": 40,
    "start_time": "2023-01-26T20:44:20.577Z"
   },
   {
    "duration": 25,
    "start_time": "2023-01-26T20:44:20.619Z"
   },
   {
    "duration": 32,
    "start_time": "2023-01-26T20:44:20.646Z"
   },
   {
    "duration": 16,
    "start_time": "2023-01-26T20:44:20.679Z"
   },
   {
    "duration": 27,
    "start_time": "2023-01-26T20:44:20.696Z"
   },
   {
    "duration": 22,
    "start_time": "2023-01-26T20:44:20.724Z"
   },
   {
    "duration": 195,
    "start_time": "2023-01-26T20:44:20.748Z"
   },
   {
    "duration": 323,
    "start_time": "2023-01-26T20:44:20.945Z"
   },
   {
    "duration": 304,
    "start_time": "2023-01-26T20:44:21.270Z"
   },
   {
    "duration": 305,
    "start_time": "2023-01-26T20:44:21.576Z"
   },
   {
    "duration": 8,
    "start_time": "2023-01-26T20:44:21.883Z"
   },
   {
    "duration": 14,
    "start_time": "2023-01-26T20:44:21.892Z"
   },
   {
    "duration": 7,
    "start_time": "2023-01-26T20:44:21.909Z"
   },
   {
    "duration": 11,
    "start_time": "2023-01-26T20:44:21.917Z"
   },
   {
    "duration": 6,
    "start_time": "2023-01-26T20:44:21.930Z"
   },
   {
    "duration": 72,
    "start_time": "2023-01-26T20:50:44.659Z"
   },
   {
    "duration": 1082,
    "start_time": "2023-01-26T20:50:58.553Z"
   },
   {
    "duration": 46,
    "start_time": "2023-01-26T20:50:59.637Z"
   },
   {
    "duration": 21,
    "start_time": "2023-01-26T20:50:59.685Z"
   },
   {
    "duration": 13,
    "start_time": "2023-01-26T20:50:59.708Z"
   },
   {
    "duration": 9,
    "start_time": "2023-01-26T20:50:59.723Z"
   },
   {
    "duration": 11,
    "start_time": "2023-01-26T20:50:59.733Z"
   },
   {
    "duration": 8,
    "start_time": "2023-01-26T20:50:59.746Z"
   },
   {
    "duration": 8,
    "start_time": "2023-01-26T20:50:59.755Z"
   },
   {
    "duration": 39,
    "start_time": "2023-01-26T20:50:59.764Z"
   },
   {
    "duration": 8,
    "start_time": "2023-01-26T20:50:59.805Z"
   },
   {
    "duration": 6,
    "start_time": "2023-01-26T20:50:59.815Z"
   },
   {
    "duration": 7,
    "start_time": "2023-01-26T20:50:59.822Z"
   },
   {
    "duration": 9,
    "start_time": "2023-01-26T20:50:59.830Z"
   },
   {
    "duration": 7,
    "start_time": "2023-01-26T20:50:59.842Z"
   },
   {
    "duration": 7,
    "start_time": "2023-01-26T20:50:59.851Z"
   },
   {
    "duration": 97,
    "start_time": "2023-01-26T20:50:59.860Z"
   },
   {
    "duration": 188,
    "start_time": "2023-01-26T20:50:59.958Z"
   },
   {
    "duration": 8,
    "start_time": "2023-01-26T20:51:00.147Z"
   },
   {
    "duration": 216,
    "start_time": "2023-01-26T20:51:00.156Z"
   },
   {
    "duration": 56,
    "start_time": "2023-01-26T20:51:00.373Z"
   },
   {
    "duration": 4,
    "start_time": "2023-01-26T20:51:00.431Z"
   },
   {
    "duration": 41,
    "start_time": "2023-01-26T20:51:00.436Z"
   },
   {
    "duration": 189,
    "start_time": "2023-01-26T20:51:00.478Z"
   },
   {
    "duration": 527,
    "start_time": "2023-01-26T20:51:00.669Z"
   },
   {
    "duration": 305,
    "start_time": "2023-01-26T20:51:01.202Z"
   },
   {
    "duration": 186,
    "start_time": "2023-01-26T20:51:01.509Z"
   },
   {
    "duration": 13,
    "start_time": "2023-01-26T20:51:01.703Z"
   },
   {
    "duration": 332,
    "start_time": "2023-01-26T20:51:01.718Z"
   },
   {
    "duration": 11,
    "start_time": "2023-01-26T20:51:02.051Z"
   },
   {
    "duration": 23,
    "start_time": "2023-01-26T20:51:02.064Z"
   },
   {
    "duration": 22,
    "start_time": "2023-01-26T20:51:02.089Z"
   },
   {
    "duration": 35,
    "start_time": "2023-01-26T20:51:02.112Z"
   },
   {
    "duration": 23,
    "start_time": "2023-01-26T20:51:02.148Z"
   },
   {
    "duration": 27,
    "start_time": "2023-01-26T20:51:02.172Z"
   },
   {
    "duration": 31,
    "start_time": "2023-01-26T20:51:02.200Z"
   },
   {
    "duration": 231,
    "start_time": "2023-01-26T20:51:02.233Z"
   },
   {
    "duration": 314,
    "start_time": "2023-01-26T20:51:02.465Z"
   },
   {
    "duration": 309,
    "start_time": "2023-01-26T20:51:02.781Z"
   },
   {
    "duration": 413,
    "start_time": "2023-01-26T20:51:03.092Z"
   },
   {
    "duration": 8,
    "start_time": "2023-01-26T20:51:03.507Z"
   },
   {
    "duration": 7,
    "start_time": "2023-01-26T20:51:03.519Z"
   },
   {
    "duration": 13,
    "start_time": "2023-01-26T20:51:03.527Z"
   },
   {
    "duration": 62,
    "start_time": "2023-01-26T20:51:03.542Z"
   },
   {
    "duration": 6,
    "start_time": "2023-01-26T20:51:03.606Z"
   },
   {
    "duration": 7,
    "start_time": "2023-01-26T20:56:57.029Z"
   },
   {
    "duration": 8,
    "start_time": "2023-01-26T20:57:06.984Z"
   },
   {
    "duration": 11,
    "start_time": "2023-01-26T20:57:35.272Z"
   },
   {
    "duration": 1263,
    "start_time": "2023-01-27T20:53:59.846Z"
   },
   {
    "duration": 219,
    "start_time": "2023-01-27T20:54:01.111Z"
   },
   {
    "duration": 33,
    "start_time": "2023-01-27T20:54:01.332Z"
   },
   {
    "duration": 52,
    "start_time": "2023-01-27T20:54:01.368Z"
   },
   {
    "duration": 23,
    "start_time": "2023-01-27T20:54:01.422Z"
   },
   {
    "duration": 45,
    "start_time": "2023-01-27T20:54:01.447Z"
   },
   {
    "duration": 31,
    "start_time": "2023-01-27T20:54:01.493Z"
   },
   {
    "duration": 19,
    "start_time": "2023-01-27T20:54:01.526Z"
   },
   {
    "duration": 62,
    "start_time": "2023-01-27T20:54:01.547Z"
   },
   {
    "duration": 41,
    "start_time": "2023-01-27T20:54:01.613Z"
   },
   {
    "duration": 42,
    "start_time": "2023-01-27T20:54:01.656Z"
   },
   {
    "duration": 7,
    "start_time": "2023-01-27T20:54:01.700Z"
   },
   {
    "duration": 20,
    "start_time": "2023-01-27T20:54:01.709Z"
   },
   {
    "duration": 26,
    "start_time": "2023-01-27T20:54:01.731Z"
   },
   {
    "duration": 37,
    "start_time": "2023-01-27T20:54:01.759Z"
   },
   {
    "duration": 34,
    "start_time": "2023-01-27T20:54:01.797Z"
   },
   {
    "duration": 30,
    "start_time": "2023-01-27T20:54:01.833Z"
   },
   {
    "duration": 43,
    "start_time": "2023-01-27T20:54:01.864Z"
   },
   {
    "duration": 15,
    "start_time": "2023-01-27T20:54:01.909Z"
   },
   {
    "duration": 14,
    "start_time": "2023-01-27T20:54:01.925Z"
   },
   {
    "duration": 84,
    "start_time": "2023-01-27T20:54:01.941Z"
   },
   {
    "duration": 202,
    "start_time": "2023-01-27T20:54:02.027Z"
   },
   {
    "duration": 9,
    "start_time": "2023-01-27T20:54:02.230Z"
   },
   {
    "duration": 235,
    "start_time": "2023-01-27T20:54:02.240Z"
   },
   {
    "duration": 53,
    "start_time": "2023-01-27T20:54:02.477Z"
   },
   {
    "duration": 5,
    "start_time": "2023-01-27T20:54:02.531Z"
   },
   {
    "duration": 14,
    "start_time": "2023-01-27T20:54:02.537Z"
   },
   {
    "duration": 159,
    "start_time": "2023-01-27T20:54:02.555Z"
   },
   {
    "duration": 598,
    "start_time": "2023-01-27T20:54:02.715Z"
   },
   {
    "duration": 308,
    "start_time": "2023-01-27T20:54:03.315Z"
   },
   {
    "duration": 122,
    "start_time": "2023-01-27T20:54:03.624Z"
   },
   {
    "duration": 356,
    "start_time": "2023-01-27T20:54:03.748Z"
   },
   {
    "duration": 176,
    "start_time": "2023-01-27T20:54:04.105Z"
   },
   {
    "duration": 10,
    "start_time": "2023-01-27T20:54:04.283Z"
   },
   {
    "duration": 4,
    "start_time": "2023-01-27T20:54:04.294Z"
   },
   {
    "duration": 1188,
    "start_time": "2023-01-27T20:54:04.300Z"
   },
   {
    "duration": 154,
    "start_time": "2023-01-27T20:54:05.491Z"
   },
   {
    "duration": 159,
    "start_time": "2023-01-27T20:54:05.647Z"
   },
   {
    "duration": 173,
    "start_time": "2023-01-27T20:54:05.808Z"
   },
   {
    "duration": 255,
    "start_time": "2023-01-27T20:54:05.983Z"
   },
   {
    "duration": 230,
    "start_time": "2023-01-27T20:54:06.239Z"
   },
   {
    "duration": 21,
    "start_time": "2023-01-27T20:54:06.471Z"
   },
   {
    "duration": 15,
    "start_time": "2023-01-27T20:54:06.494Z"
   },
   {
    "duration": 19,
    "start_time": "2023-01-27T20:54:06.511Z"
   },
   {
    "duration": 10,
    "start_time": "2023-01-27T20:54:06.531Z"
   },
   {
    "duration": 451,
    "start_time": "2023-01-27T20:54:06.543Z"
   },
   {
    "duration": 10,
    "start_time": "2023-01-27T20:54:06.996Z"
   },
   {
    "duration": 51,
    "start_time": "2023-01-27T20:54:07.007Z"
   },
   {
    "duration": 13,
    "start_time": "2023-01-27T20:54:07.060Z"
   },
   {
    "duration": 480,
    "start_time": "2023-01-27T20:54:07.075Z"
   },
   {
    "duration": 9,
    "start_time": "2023-01-27T20:54:07.557Z"
   },
   {
    "duration": 17,
    "start_time": "2023-01-27T20:54:07.568Z"
   },
   {
    "duration": 17,
    "start_time": "2023-01-27T20:54:07.591Z"
   },
   {
    "duration": 430,
    "start_time": "2023-01-27T20:54:07.610Z"
   },
   {
    "duration": 10,
    "start_time": "2023-01-27T20:54:08.041Z"
   },
   {
    "duration": 26,
    "start_time": "2023-01-27T20:54:08.053Z"
   },
   {
    "duration": 26,
    "start_time": "2023-01-27T20:54:08.081Z"
   },
   {
    "duration": 23,
    "start_time": "2023-01-27T20:54:08.108Z"
   },
   {
    "duration": 20,
    "start_time": "2023-01-27T20:54:08.132Z"
   },
   {
    "duration": 30,
    "start_time": "2023-01-27T20:54:08.154Z"
   },
   {
    "duration": 20,
    "start_time": "2023-01-27T20:54:08.185Z"
   },
   {
    "duration": 24,
    "start_time": "2023-01-27T20:54:08.207Z"
   },
   {
    "duration": 1183,
    "start_time": "2023-01-28T17:49:35.357Z"
   },
   {
    "duration": 62,
    "start_time": "2023-01-28T17:49:36.542Z"
   },
   {
    "duration": 21,
    "start_time": "2023-01-28T17:49:36.605Z"
   },
   {
    "duration": 30,
    "start_time": "2023-01-28T17:49:36.628Z"
   },
   {
    "duration": 36,
    "start_time": "2023-01-28T17:49:36.659Z"
   },
   {
    "duration": 24,
    "start_time": "2023-01-28T17:49:36.697Z"
   },
   {
    "duration": 34,
    "start_time": "2023-01-28T17:49:36.723Z"
   },
   {
    "duration": 4,
    "start_time": "2023-01-28T17:49:36.759Z"
   },
   {
    "duration": 43,
    "start_time": "2023-01-28T17:49:36.764Z"
   },
   {
    "duration": 28,
    "start_time": "2023-01-28T17:49:36.809Z"
   },
   {
    "duration": 23,
    "start_time": "2023-01-28T17:49:36.839Z"
   },
   {
    "duration": 25,
    "start_time": "2023-01-28T17:49:36.864Z"
   },
   {
    "duration": 15,
    "start_time": "2023-01-28T17:49:36.891Z"
   },
   {
    "duration": 10,
    "start_time": "2023-01-28T17:49:36.908Z"
   },
   {
    "duration": 16,
    "start_time": "2023-01-28T17:49:36.919Z"
   },
   {
    "duration": 13,
    "start_time": "2023-01-28T17:49:36.937Z"
   },
   {
    "duration": 11,
    "start_time": "2023-01-28T17:49:36.952Z"
   },
   {
    "duration": 31,
    "start_time": "2023-01-28T17:49:36.964Z"
   },
   {
    "duration": 22,
    "start_time": "2023-01-28T17:49:36.997Z"
   },
   {
    "duration": 16,
    "start_time": "2023-01-28T17:49:37.021Z"
   },
   {
    "duration": 83,
    "start_time": "2023-01-28T17:49:37.039Z"
   },
   {
    "duration": 217,
    "start_time": "2023-01-28T17:49:37.124Z"
   },
   {
    "duration": 8,
    "start_time": "2023-01-28T17:49:37.342Z"
   },
   {
    "duration": 272,
    "start_time": "2023-01-28T17:49:37.352Z"
   },
   {
    "duration": 77,
    "start_time": "2023-01-28T17:49:37.626Z"
   },
   {
    "duration": 6,
    "start_time": "2023-01-28T17:49:37.705Z"
   },
   {
    "duration": 30,
    "start_time": "2023-01-28T17:49:37.712Z"
   },
   {
    "duration": 182,
    "start_time": "2023-01-28T17:49:37.746Z"
   },
   {
    "duration": 605,
    "start_time": "2023-01-28T17:49:37.930Z"
   },
   {
    "duration": 325,
    "start_time": "2023-01-28T17:49:38.537Z"
   },
   {
    "duration": 128,
    "start_time": "2023-01-28T17:49:38.864Z"
   },
   {
    "duration": 341,
    "start_time": "2023-01-28T17:49:38.994Z"
   },
   {
    "duration": 190,
    "start_time": "2023-01-28T17:49:39.337Z"
   },
   {
    "duration": 10,
    "start_time": "2023-01-28T17:49:39.528Z"
   },
   {
    "duration": 3,
    "start_time": "2023-01-28T17:49:39.539Z"
   },
   {
    "duration": 1280,
    "start_time": "2023-01-28T17:49:39.543Z"
   },
   {
    "duration": 163,
    "start_time": "2023-01-28T17:49:40.824Z"
   },
   {
    "duration": 171,
    "start_time": "2023-01-28T17:49:40.989Z"
   },
   {
    "duration": 168,
    "start_time": "2023-01-28T17:49:41.162Z"
   },
   {
    "duration": 221,
    "start_time": "2023-01-28T17:49:41.332Z"
   },
   {
    "duration": 251,
    "start_time": "2023-01-28T17:49:41.554Z"
   },
   {
    "duration": 13,
    "start_time": "2023-01-28T17:49:41.806Z"
   },
   {
    "duration": 8,
    "start_time": "2023-01-28T17:49:41.820Z"
   },
   {
    "duration": 8,
    "start_time": "2023-01-28T17:49:41.830Z"
   },
   {
    "duration": 33,
    "start_time": "2023-01-28T17:49:41.840Z"
   },
   {
    "duration": 471,
    "start_time": "2023-01-28T17:49:41.875Z"
   },
   {
    "duration": 8,
    "start_time": "2023-01-28T17:49:42.347Z"
   },
   {
    "duration": 21,
    "start_time": "2023-01-28T17:49:42.357Z"
   },
   {
    "duration": 16,
    "start_time": "2023-01-28T17:49:42.384Z"
   },
   {
    "duration": 442,
    "start_time": "2023-01-28T17:49:42.401Z"
   },
   {
    "duration": 9,
    "start_time": "2023-01-28T17:49:42.844Z"
   },
   {
    "duration": 28,
    "start_time": "2023-01-28T17:49:42.855Z"
   },
   {
    "duration": 11,
    "start_time": "2023-01-28T17:49:42.886Z"
   },
   {
    "duration": 435,
    "start_time": "2023-01-28T17:49:42.899Z"
   },
   {
    "duration": 8,
    "start_time": "2023-01-28T17:49:43.335Z"
   },
   {
    "duration": 12,
    "start_time": "2023-01-28T17:49:43.345Z"
   },
   {
    "duration": 16,
    "start_time": "2023-01-28T17:49:43.369Z"
   },
   {
    "duration": 14,
    "start_time": "2023-01-28T17:49:43.387Z"
   },
   {
    "duration": 7,
    "start_time": "2023-01-28T17:49:43.403Z"
   },
   {
    "duration": 11,
    "start_time": "2023-01-28T17:49:43.412Z"
   },
   {
    "duration": 9,
    "start_time": "2023-01-28T17:49:43.425Z"
   },
   {
    "duration": 43,
    "start_time": "2023-01-28T17:49:43.435Z"
   },
   {
    "duration": 24,
    "start_time": "2023-01-28T17:56:46.128Z"
   },
   {
    "duration": 4,
    "start_time": "2023-01-28T17:57:05.452Z"
   },
   {
    "duration": 59,
    "start_time": "2023-01-28T18:20:55.153Z"
   },
   {
    "duration": 1509,
    "start_time": "2023-01-28T18:24:25.242Z"
   },
   {
    "duration": 101,
    "start_time": "2023-01-28T18:24:26.753Z"
   },
   {
    "duration": 26,
    "start_time": "2023-01-28T18:24:26.856Z"
   },
   {
    "duration": 23,
    "start_time": "2023-01-28T18:24:26.887Z"
   },
   {
    "duration": 22,
    "start_time": "2023-01-28T18:24:26.912Z"
   },
   {
    "duration": 24,
    "start_time": "2023-01-28T18:24:26.937Z"
   },
   {
    "duration": 37,
    "start_time": "2023-01-28T18:24:26.963Z"
   },
   {
    "duration": 18,
    "start_time": "2023-01-28T18:24:27.002Z"
   },
   {
    "duration": 7,
    "start_time": "2023-01-28T18:24:27.022Z"
   },
   {
    "duration": 10,
    "start_time": "2023-01-28T18:24:27.032Z"
   },
   {
    "duration": 24,
    "start_time": "2023-01-28T18:24:27.045Z"
   },
   {
    "duration": 13,
    "start_time": "2023-01-28T18:24:27.086Z"
   },
   {
    "duration": 15,
    "start_time": "2023-01-28T18:24:27.101Z"
   },
   {
    "duration": 7,
    "start_time": "2023-01-28T18:24:27.118Z"
   },
   {
    "duration": 15,
    "start_time": "2023-01-28T18:24:27.127Z"
   },
   {
    "duration": 27,
    "start_time": "2023-01-28T18:24:27.144Z"
   },
   {
    "duration": 5,
    "start_time": "2023-01-28T18:24:27.173Z"
   },
   {
    "duration": 31,
    "start_time": "2023-01-28T18:24:27.180Z"
   },
   {
    "duration": 19,
    "start_time": "2023-01-28T18:24:27.213Z"
   },
   {
    "duration": 10,
    "start_time": "2023-01-28T18:24:27.235Z"
   },
   {
    "duration": 125,
    "start_time": "2023-01-28T18:24:27.247Z"
   },
   {
    "duration": 234,
    "start_time": "2023-01-28T18:24:27.374Z"
   },
   {
    "duration": 11,
    "start_time": "2023-01-28T18:24:27.610Z"
   },
   {
    "duration": 287,
    "start_time": "2023-01-28T18:24:27.623Z"
   },
   {
    "duration": 56,
    "start_time": "2023-01-28T18:24:27.912Z"
   },
   {
    "duration": 7,
    "start_time": "2023-01-28T18:24:27.988Z"
   },
   {
    "duration": 27,
    "start_time": "2023-01-28T18:24:27.997Z"
   },
   {
    "duration": 173,
    "start_time": "2023-01-28T18:24:28.029Z"
   },
   {
    "duration": 666,
    "start_time": "2023-01-28T18:24:28.204Z"
   },
   {
    "duration": 360,
    "start_time": "2023-01-28T18:24:28.871Z"
   },
   {
    "duration": 187,
    "start_time": "2023-01-28T18:24:29.234Z"
   },
   {
    "duration": 513,
    "start_time": "2023-01-28T18:24:29.423Z"
   },
   {
    "duration": 286,
    "start_time": "2023-01-28T18:24:29.938Z"
   },
   {
    "duration": 13,
    "start_time": "2023-01-28T18:24:30.226Z"
   },
   {
    "duration": 32,
    "start_time": "2023-01-28T18:24:30.242Z"
   },
   {
    "duration": 35,
    "start_time": "2023-01-28T18:24:30.277Z"
   },
   {
    "duration": 1731,
    "start_time": "2023-01-28T18:24:30.314Z"
   },
   {
    "duration": 206,
    "start_time": "2023-01-28T18:24:32.047Z"
   },
   {
    "duration": 197,
    "start_time": "2023-01-28T18:24:32.255Z"
   },
   {
    "duration": 197,
    "start_time": "2023-01-28T18:24:32.454Z"
   },
   {
    "duration": 381,
    "start_time": "2023-01-28T18:24:32.653Z"
   },
   {
    "duration": 162,
    "start_time": "2023-01-28T18:24:33.035Z"
   },
   {
    "duration": 19,
    "start_time": "2023-01-28T18:24:33.199Z"
   },
   {
    "duration": 10,
    "start_time": "2023-01-28T18:24:33.221Z"
   },
   {
    "duration": 13,
    "start_time": "2023-01-28T18:24:33.234Z"
   },
   {
    "duration": 9,
    "start_time": "2023-01-28T18:24:33.249Z"
   },
   {
    "duration": 567,
    "start_time": "2023-01-28T18:24:33.260Z"
   },
   {
    "duration": 14,
    "start_time": "2023-01-28T18:24:33.829Z"
   },
   {
    "duration": 21,
    "start_time": "2023-01-28T18:24:33.845Z"
   },
   {
    "duration": 29,
    "start_time": "2023-01-28T18:24:33.868Z"
   },
   {
    "duration": 573,
    "start_time": "2023-01-28T18:24:33.904Z"
   },
   {
    "duration": 18,
    "start_time": "2023-01-28T18:24:34.479Z"
   },
   {
    "duration": 28,
    "start_time": "2023-01-28T18:24:34.506Z"
   },
   {
    "duration": 15,
    "start_time": "2023-01-28T18:24:34.536Z"
   },
   {
    "duration": 458,
    "start_time": "2023-01-28T18:24:34.554Z"
   },
   {
    "duration": 11,
    "start_time": "2023-01-28T18:24:35.014Z"
   },
   {
    "duration": 107,
    "start_time": "2023-01-28T18:24:35.027Z"
   },
   {
    "duration": 15,
    "start_time": "2023-01-28T18:24:35.137Z"
   },
   {
    "duration": 61,
    "start_time": "2023-01-28T18:24:35.154Z"
   },
   {
    "duration": 7,
    "start_time": "2023-01-28T18:24:35.217Z"
   },
   {
    "duration": 17,
    "start_time": "2023-01-28T18:24:35.226Z"
   },
   {
    "duration": 24,
    "start_time": "2023-01-28T18:24:35.246Z"
   },
   {
    "duration": 32,
    "start_time": "2023-01-28T18:24:35.273Z"
   },
   {
    "duration": 1840,
    "start_time": "2023-01-28T18:49:02.419Z"
   },
   {
    "duration": 1708,
    "start_time": "2023-01-28T18:50:27.556Z"
   },
   {
    "duration": 1333,
    "start_time": "2023-01-28T18:50:40.080Z"
   },
   {
    "duration": 52,
    "start_time": "2023-01-28T18:50:41.416Z"
   },
   {
    "duration": 32,
    "start_time": "2023-01-28T18:50:41.470Z"
   },
   {
    "duration": 18,
    "start_time": "2023-01-28T18:50:41.506Z"
   },
   {
    "duration": 10,
    "start_time": "2023-01-28T18:50:41.526Z"
   },
   {
    "duration": 21,
    "start_time": "2023-01-28T18:50:41.538Z"
   },
   {
    "duration": 52,
    "start_time": "2023-01-28T18:50:41.561Z"
   },
   {
    "duration": 7,
    "start_time": "2023-01-28T18:50:41.615Z"
   },
   {
    "duration": 24,
    "start_time": "2023-01-28T18:50:41.624Z"
   },
   {
    "duration": 29,
    "start_time": "2023-01-28T18:50:41.651Z"
   },
   {
    "duration": 45,
    "start_time": "2023-01-28T18:50:41.682Z"
   },
   {
    "duration": 8,
    "start_time": "2023-01-28T18:50:41.730Z"
   },
   {
    "duration": 10,
    "start_time": "2023-01-28T18:50:41.740Z"
   },
   {
    "duration": 13,
    "start_time": "2023-01-28T18:50:41.752Z"
   },
   {
    "duration": 9,
    "start_time": "2023-01-28T18:50:41.767Z"
   },
   {
    "duration": 28,
    "start_time": "2023-01-28T18:50:41.777Z"
   },
   {
    "duration": 10,
    "start_time": "2023-01-28T18:50:41.807Z"
   },
   {
    "duration": 12,
    "start_time": "2023-01-28T18:50:41.819Z"
   },
   {
    "duration": 7,
    "start_time": "2023-01-28T18:50:41.833Z"
   },
   {
    "duration": 4,
    "start_time": "2023-01-28T18:50:41.842Z"
   },
   {
    "duration": 127,
    "start_time": "2023-01-28T18:50:41.847Z"
   },
   {
    "duration": 232,
    "start_time": "2023-01-28T18:50:41.990Z"
   },
   {
    "duration": 10,
    "start_time": "2023-01-28T18:50:42.224Z"
   },
   {
    "duration": 283,
    "start_time": "2023-01-28T18:50:42.236Z"
   },
   {
    "duration": 54,
    "start_time": "2023-01-28T18:50:42.521Z"
   },
   {
    "duration": 8,
    "start_time": "2023-01-28T18:50:42.584Z"
   },
   {
    "duration": 16,
    "start_time": "2023-01-28T18:50:42.601Z"
   },
   {
    "duration": 183,
    "start_time": "2023-01-28T18:50:42.621Z"
   },
   {
    "duration": 656,
    "start_time": "2023-01-28T18:50:42.806Z"
   },
   {
    "duration": 394,
    "start_time": "2023-01-28T18:50:43.464Z"
   },
   {
    "duration": 179,
    "start_time": "2023-01-28T18:50:43.860Z"
   },
   {
    "duration": 408,
    "start_time": "2023-01-28T18:50:44.041Z"
   },
   {
    "duration": 226,
    "start_time": "2023-01-28T18:50:44.451Z"
   },
   {
    "duration": 22,
    "start_time": "2023-01-28T18:50:44.679Z"
   },
   {
    "duration": 11,
    "start_time": "2023-01-28T18:50:44.709Z"
   },
   {
    "duration": 7,
    "start_time": "2023-01-28T18:50:44.722Z"
   },
   {
    "duration": 1129,
    "start_time": "2023-01-28T18:50:44.731Z"
   },
   {
    "duration": 205,
    "start_time": "2023-01-28T18:50:45.862Z"
   },
   {
    "duration": 182,
    "start_time": "2023-01-28T18:50:46.069Z"
   },
   {
    "duration": 183,
    "start_time": "2023-01-28T18:50:46.253Z"
   },
   {
    "duration": 272,
    "start_time": "2023-01-28T18:50:46.438Z"
   },
   {
    "duration": 258,
    "start_time": "2023-01-28T18:50:46.713Z"
   },
   {
    "duration": 30,
    "start_time": "2023-01-28T18:50:46.973Z"
   },
   {
    "duration": 16,
    "start_time": "2023-01-28T18:50:47.007Z"
   },
   {
    "duration": 18,
    "start_time": "2023-01-28T18:50:47.025Z"
   },
   {
    "duration": 14,
    "start_time": "2023-01-28T18:50:47.045Z"
   },
   {
    "duration": 471,
    "start_time": "2023-01-28T18:50:47.061Z"
   },
   {
    "duration": 11,
    "start_time": "2023-01-28T18:50:47.534Z"
   },
   {
    "duration": 12,
    "start_time": "2023-01-28T18:50:47.547Z"
   },
   {
    "duration": 35,
    "start_time": "2023-01-28T18:50:47.561Z"
   },
   {
    "duration": 506,
    "start_time": "2023-01-28T18:50:47.598Z"
   },
   {
    "duration": 19,
    "start_time": "2023-01-28T18:50:48.109Z"
   },
   {
    "duration": 48,
    "start_time": "2023-01-28T18:50:48.130Z"
   },
   {
    "duration": 17,
    "start_time": "2023-01-28T18:50:48.180Z"
   },
   {
    "duration": 489,
    "start_time": "2023-01-28T18:50:48.201Z"
   },
   {
    "duration": 14,
    "start_time": "2023-01-28T18:50:48.691Z"
   },
   {
    "duration": 13,
    "start_time": "2023-01-28T18:50:48.707Z"
   },
   {
    "duration": 8,
    "start_time": "2023-01-28T18:50:48.722Z"
   },
   {
    "duration": 14,
    "start_time": "2023-01-28T18:50:48.732Z"
   },
   {
    "duration": 8,
    "start_time": "2023-01-28T18:50:48.749Z"
   },
   {
    "duration": 34,
    "start_time": "2023-01-28T18:50:48.784Z"
   },
   {
    "duration": 21,
    "start_time": "2023-01-28T18:50:48.821Z"
   },
   {
    "duration": 15,
    "start_time": "2023-01-28T18:50:48.844Z"
   },
   {
    "duration": 187,
    "start_time": "2023-01-28T18:58:16.117Z"
   },
   {
    "duration": 145,
    "start_time": "2023-01-28T18:58:59.153Z"
   },
   {
    "duration": 167,
    "start_time": "2023-01-28T18:59:20.637Z"
   },
   {
    "duration": 54,
    "start_time": "2023-01-28T19:01:12.511Z"
   },
   {
    "duration": 319,
    "start_time": "2023-01-28T19:01:20.236Z"
   },
   {
    "duration": 296,
    "start_time": "2023-01-28T19:01:41.167Z"
   },
   {
    "duration": 1183,
    "start_time": "2023-01-29T15:50:52.432Z"
   },
   {
    "duration": 48,
    "start_time": "2023-01-29T15:50:53.617Z"
   },
   {
    "duration": 21,
    "start_time": "2023-01-29T15:50:53.667Z"
   },
   {
    "duration": 23,
    "start_time": "2023-01-29T15:50:53.690Z"
   },
   {
    "duration": 8,
    "start_time": "2023-01-29T15:50:53.715Z"
   },
   {
    "duration": 18,
    "start_time": "2023-01-29T15:50:53.725Z"
   },
   {
    "duration": 21,
    "start_time": "2023-01-29T15:50:53.745Z"
   },
   {
    "duration": 11,
    "start_time": "2023-01-29T15:50:53.768Z"
   },
   {
    "duration": 28,
    "start_time": "2023-01-29T15:50:53.781Z"
   },
   {
    "duration": 16,
    "start_time": "2023-01-29T15:50:53.811Z"
   },
   {
    "duration": 26,
    "start_time": "2023-01-29T15:50:53.828Z"
   },
   {
    "duration": 8,
    "start_time": "2023-01-29T15:50:53.856Z"
   },
   {
    "duration": 18,
    "start_time": "2023-01-29T15:50:53.866Z"
   },
   {
    "duration": 7,
    "start_time": "2023-01-29T15:50:53.888Z"
   },
   {
    "duration": 9,
    "start_time": "2023-01-29T15:50:53.897Z"
   },
   {
    "duration": 18,
    "start_time": "2023-01-29T15:50:53.908Z"
   },
   {
    "duration": 5,
    "start_time": "2023-01-29T15:50:53.928Z"
   },
   {
    "duration": 16,
    "start_time": "2023-01-29T15:50:53.935Z"
   },
   {
    "duration": 9,
    "start_time": "2023-01-29T15:50:53.953Z"
   },
   {
    "duration": 4,
    "start_time": "2023-01-29T15:50:53.963Z"
   },
   {
    "duration": 128,
    "start_time": "2023-01-29T15:50:53.969Z"
   },
   {
    "duration": 273,
    "start_time": "2023-01-29T15:50:54.099Z"
   },
   {
    "duration": 9,
    "start_time": "2023-01-29T15:50:54.374Z"
   },
   {
    "duration": 239,
    "start_time": "2023-01-29T15:50:54.384Z"
   },
   {
    "duration": 52,
    "start_time": "2023-01-29T15:50:54.625Z"
   },
   {
    "duration": 5,
    "start_time": "2023-01-29T15:50:54.679Z"
   },
   {
    "duration": 26,
    "start_time": "2023-01-29T15:50:54.685Z"
   },
   {
    "duration": 148,
    "start_time": "2023-01-29T15:50:54.713Z"
   },
   {
    "duration": 579,
    "start_time": "2023-01-29T15:50:54.862Z"
   },
   {
    "duration": 296,
    "start_time": "2023-01-29T15:50:55.443Z"
   },
   {
    "duration": 121,
    "start_time": "2023-01-29T15:50:55.741Z"
   },
   {
    "duration": 356,
    "start_time": "2023-01-29T15:50:55.863Z"
   },
   {
    "duration": 189,
    "start_time": "2023-01-29T15:50:56.220Z"
   },
   {
    "duration": 12,
    "start_time": "2023-01-29T15:50:56.411Z"
   },
   {
    "duration": 3,
    "start_time": "2023-01-29T15:50:56.425Z"
   },
   {
    "duration": 13,
    "start_time": "2023-01-29T15:50:56.430Z"
   },
   {
    "duration": 1010,
    "start_time": "2023-01-29T15:50:56.445Z"
   },
   {
    "duration": 164,
    "start_time": "2023-01-29T15:50:57.457Z"
   },
   {
    "duration": 107,
    "start_time": "2023-01-29T15:50:57.622Z"
   },
   {
    "duration": 0,
    "start_time": "2023-01-29T15:50:57.732Z"
   },
   {
    "duration": 0,
    "start_time": "2023-01-29T15:50:57.733Z"
   },
   {
    "duration": 0,
    "start_time": "2023-01-29T15:50:57.734Z"
   },
   {
    "duration": 0,
    "start_time": "2023-01-29T15:50:57.735Z"
   },
   {
    "duration": 0,
    "start_time": "2023-01-29T15:50:57.736Z"
   },
   {
    "duration": 0,
    "start_time": "2023-01-29T15:50:57.737Z"
   },
   {
    "duration": 0,
    "start_time": "2023-01-29T15:50:57.738Z"
   },
   {
    "duration": 0,
    "start_time": "2023-01-29T15:50:57.738Z"
   },
   {
    "duration": 0,
    "start_time": "2023-01-29T15:50:57.739Z"
   },
   {
    "duration": 0,
    "start_time": "2023-01-29T15:50:57.741Z"
   },
   {
    "duration": 0,
    "start_time": "2023-01-29T15:50:57.742Z"
   },
   {
    "duration": 0,
    "start_time": "2023-01-29T15:50:57.743Z"
   },
   {
    "duration": 0,
    "start_time": "2023-01-29T15:50:57.744Z"
   },
   {
    "duration": 0,
    "start_time": "2023-01-29T15:50:57.745Z"
   },
   {
    "duration": 0,
    "start_time": "2023-01-29T15:50:57.746Z"
   },
   {
    "duration": 0,
    "start_time": "2023-01-29T15:50:57.747Z"
   },
   {
    "duration": 0,
    "start_time": "2023-01-29T15:50:57.748Z"
   },
   {
    "duration": 0,
    "start_time": "2023-01-29T15:50:57.749Z"
   },
   {
    "duration": 0,
    "start_time": "2023-01-29T15:50:57.750Z"
   },
   {
    "duration": 0,
    "start_time": "2023-01-29T15:50:57.751Z"
   },
   {
    "duration": 0,
    "start_time": "2023-01-29T15:50:57.752Z"
   },
   {
    "duration": 0,
    "start_time": "2023-01-29T15:50:57.753Z"
   },
   {
    "duration": 13,
    "start_time": "2023-01-29T15:56:02.014Z"
   },
   {
    "duration": 1248,
    "start_time": "2023-01-29T15:57:10.550Z"
   },
   {
    "duration": 68,
    "start_time": "2023-01-29T15:57:11.799Z"
   },
   {
    "duration": 22,
    "start_time": "2023-01-29T15:57:11.868Z"
   },
   {
    "duration": 15,
    "start_time": "2023-01-29T15:57:11.892Z"
   },
   {
    "duration": 23,
    "start_time": "2023-01-29T15:57:11.909Z"
   },
   {
    "duration": 16,
    "start_time": "2023-01-29T15:57:11.934Z"
   },
   {
    "duration": 23,
    "start_time": "2023-01-29T15:57:11.952Z"
   },
   {
    "duration": 6,
    "start_time": "2023-01-29T15:57:11.977Z"
   },
   {
    "duration": 46,
    "start_time": "2023-01-29T15:57:11.985Z"
   },
   {
    "duration": 22,
    "start_time": "2023-01-29T15:57:12.034Z"
   },
   {
    "duration": 36,
    "start_time": "2023-01-29T15:57:12.058Z"
   },
   {
    "duration": 17,
    "start_time": "2023-01-29T15:57:12.098Z"
   },
   {
    "duration": 43,
    "start_time": "2023-01-29T15:57:12.117Z"
   },
   {
    "duration": 21,
    "start_time": "2023-01-29T15:57:12.162Z"
   },
   {
    "duration": 38,
    "start_time": "2023-01-29T15:57:12.185Z"
   },
   {
    "duration": 30,
    "start_time": "2023-01-29T15:57:12.225Z"
   },
   {
    "duration": 19,
    "start_time": "2023-01-29T15:57:12.257Z"
   },
   {
    "duration": 30,
    "start_time": "2023-01-29T15:57:12.278Z"
   },
   {
    "duration": 28,
    "start_time": "2023-01-29T15:57:12.310Z"
   },
   {
    "duration": 19,
    "start_time": "2023-01-29T15:57:12.339Z"
   },
   {
    "duration": 94,
    "start_time": "2023-01-29T15:57:12.360Z"
   },
   {
    "duration": 208,
    "start_time": "2023-01-29T15:57:12.456Z"
   },
   {
    "duration": 11,
    "start_time": "2023-01-29T15:57:12.666Z"
   },
   {
    "duration": 259,
    "start_time": "2023-01-29T15:57:12.679Z"
   },
   {
    "duration": 68,
    "start_time": "2023-01-29T15:57:12.940Z"
   },
   {
    "duration": 6,
    "start_time": "2023-01-29T15:57:13.010Z"
   },
   {
    "duration": 33,
    "start_time": "2023-01-29T15:57:13.017Z"
   },
   {
    "duration": 186,
    "start_time": "2023-01-29T15:57:13.058Z"
   },
   {
    "duration": 707,
    "start_time": "2023-01-29T15:57:13.246Z"
   },
   {
    "duration": 417,
    "start_time": "2023-01-29T15:57:13.955Z"
   },
   {
    "duration": 164,
    "start_time": "2023-01-29T15:57:14.377Z"
   },
   {
    "duration": 374,
    "start_time": "2023-01-29T15:57:14.543Z"
   },
   {
    "duration": 216,
    "start_time": "2023-01-29T15:57:14.918Z"
   },
   {
    "duration": 12,
    "start_time": "2023-01-29T15:57:15.136Z"
   },
   {
    "duration": 4,
    "start_time": "2023-01-29T15:57:15.150Z"
   },
   {
    "duration": 10,
    "start_time": "2023-01-29T15:57:15.156Z"
   },
   {
    "duration": 1049,
    "start_time": "2023-01-29T15:57:15.168Z"
   },
   {
    "duration": 174,
    "start_time": "2023-01-29T15:57:16.219Z"
   },
   {
    "duration": 154,
    "start_time": "2023-01-29T15:57:16.395Z"
   },
   {
    "duration": 0,
    "start_time": "2023-01-29T15:57:16.551Z"
   },
   {
    "duration": 0,
    "start_time": "2023-01-29T15:57:16.552Z"
   },
   {
    "duration": 0,
    "start_time": "2023-01-29T15:57:16.554Z"
   },
   {
    "duration": 0,
    "start_time": "2023-01-29T15:57:16.556Z"
   },
   {
    "duration": 0,
    "start_time": "2023-01-29T15:57:16.557Z"
   },
   {
    "duration": 0,
    "start_time": "2023-01-29T15:57:16.559Z"
   },
   {
    "duration": 0,
    "start_time": "2023-01-29T15:57:16.560Z"
   },
   {
    "duration": 0,
    "start_time": "2023-01-29T15:57:16.564Z"
   },
   {
    "duration": 0,
    "start_time": "2023-01-29T15:57:16.565Z"
   },
   {
    "duration": 0,
    "start_time": "2023-01-29T15:57:16.567Z"
   },
   {
    "duration": 0,
    "start_time": "2023-01-29T15:57:16.569Z"
   },
   {
    "duration": 0,
    "start_time": "2023-01-29T15:57:16.570Z"
   },
   {
    "duration": 0,
    "start_time": "2023-01-29T15:57:16.572Z"
   },
   {
    "duration": 0,
    "start_time": "2023-01-29T15:57:16.573Z"
   },
   {
    "duration": 0,
    "start_time": "2023-01-29T15:57:16.574Z"
   },
   {
    "duration": 0,
    "start_time": "2023-01-29T15:57:16.604Z"
   },
   {
    "duration": 0,
    "start_time": "2023-01-29T15:57:16.606Z"
   },
   {
    "duration": 0,
    "start_time": "2023-01-29T15:57:16.607Z"
   },
   {
    "duration": 0,
    "start_time": "2023-01-29T15:57:16.608Z"
   },
   {
    "duration": 0,
    "start_time": "2023-01-29T15:57:16.610Z"
   },
   {
    "duration": 0,
    "start_time": "2023-01-29T15:57:16.611Z"
   },
   {
    "duration": 0,
    "start_time": "2023-01-29T15:57:16.612Z"
   },
   {
    "duration": 44,
    "start_time": "2023-01-29T16:11:26.340Z"
   },
   {
    "duration": 1252,
    "start_time": "2023-01-29T16:11:31.855Z"
   },
   {
    "duration": 196,
    "start_time": "2023-01-29T16:11:33.109Z"
   },
   {
    "duration": 20,
    "start_time": "2023-01-29T16:11:33.306Z"
   },
   {
    "duration": 15,
    "start_time": "2023-01-29T16:11:33.328Z"
   },
   {
    "duration": 7,
    "start_time": "2023-01-29T16:11:33.345Z"
   },
   {
    "duration": 16,
    "start_time": "2023-01-29T16:11:33.354Z"
   },
   {
    "duration": 15,
    "start_time": "2023-01-29T16:11:33.371Z"
   },
   {
    "duration": 4,
    "start_time": "2023-01-29T16:11:33.387Z"
   },
   {
    "duration": 17,
    "start_time": "2023-01-29T16:11:33.392Z"
   },
   {
    "duration": 10,
    "start_time": "2023-01-29T16:11:33.411Z"
   },
   {
    "duration": 26,
    "start_time": "2023-01-29T16:11:33.422Z"
   },
   {
    "duration": 13,
    "start_time": "2023-01-29T16:11:33.449Z"
   },
   {
    "duration": 15,
    "start_time": "2023-01-29T16:11:33.463Z"
   },
   {
    "duration": 9,
    "start_time": "2023-01-29T16:11:33.480Z"
   },
   {
    "duration": 10,
    "start_time": "2023-01-29T16:11:33.490Z"
   },
   {
    "duration": 19,
    "start_time": "2023-01-29T16:11:33.502Z"
   },
   {
    "duration": 15,
    "start_time": "2023-01-29T16:11:33.522Z"
   },
   {
    "duration": 18,
    "start_time": "2023-01-29T16:11:33.539Z"
   },
   {
    "duration": 6,
    "start_time": "2023-01-29T16:11:33.558Z"
   },
   {
    "duration": 10,
    "start_time": "2023-01-29T16:11:33.565Z"
   },
   {
    "duration": 78,
    "start_time": "2023-01-29T16:11:33.576Z"
   },
   {
    "duration": 175,
    "start_time": "2023-01-29T16:11:33.656Z"
   },
   {
    "duration": 12,
    "start_time": "2023-01-29T16:11:33.832Z"
   },
   {
    "duration": 199,
    "start_time": "2023-01-29T16:11:33.846Z"
   },
   {
    "duration": 47,
    "start_time": "2023-01-29T16:11:34.047Z"
   },
   {
    "duration": 4,
    "start_time": "2023-01-29T16:11:34.095Z"
   },
   {
    "duration": 11,
    "start_time": "2023-01-29T16:11:34.100Z"
   },
   {
    "duration": 145,
    "start_time": "2023-01-29T16:11:34.114Z"
   },
   {
    "duration": 539,
    "start_time": "2023-01-29T16:11:34.261Z"
   },
   {
    "duration": 264,
    "start_time": "2023-01-29T16:11:34.803Z"
   },
   {
    "duration": 103,
    "start_time": "2023-01-29T16:11:35.068Z"
   },
   {
    "duration": 294,
    "start_time": "2023-01-29T16:11:35.173Z"
   },
   {
    "duration": 174,
    "start_time": "2023-01-29T16:11:35.468Z"
   },
   {
    "duration": 10,
    "start_time": "2023-01-29T16:11:35.644Z"
   },
   {
    "duration": 5,
    "start_time": "2023-01-29T16:11:35.656Z"
   },
   {
    "duration": 15,
    "start_time": "2023-01-29T16:11:35.662Z"
   },
   {
    "duration": 858,
    "start_time": "2023-01-29T16:11:35.679Z"
   },
   {
    "duration": 135,
    "start_time": "2023-01-29T16:11:36.539Z"
   },
   {
    "duration": 139,
    "start_time": "2023-01-29T16:11:36.676Z"
   },
   {
    "duration": 116,
    "start_time": "2023-01-29T16:11:36.817Z"
   },
   {
    "duration": 18,
    "start_time": "2023-01-29T16:11:36.935Z"
   },
   {
    "duration": 8,
    "start_time": "2023-01-29T16:11:36.955Z"
   },
   {
    "duration": 8,
    "start_time": "2023-01-29T16:11:36.965Z"
   },
   {
    "duration": 8,
    "start_time": "2023-01-29T16:11:36.975Z"
   },
   {
    "duration": 534,
    "start_time": "2023-01-29T16:11:36.984Z"
   },
   {
    "duration": 9,
    "start_time": "2023-01-29T16:11:37.520Z"
   },
   {
    "duration": 24,
    "start_time": "2023-01-29T16:11:37.530Z"
   },
   {
    "duration": 12,
    "start_time": "2023-01-29T16:11:37.556Z"
   },
   {
    "duration": 432,
    "start_time": "2023-01-29T16:11:37.570Z"
   },
   {
    "duration": 9,
    "start_time": "2023-01-29T16:11:38.004Z"
   },
   {
    "duration": 16,
    "start_time": "2023-01-29T16:11:38.014Z"
   },
   {
    "duration": 15,
    "start_time": "2023-01-29T16:11:38.032Z"
   },
   {
    "duration": 377,
    "start_time": "2023-01-29T16:11:38.048Z"
   },
   {
    "duration": 17,
    "start_time": "2023-01-29T16:11:38.427Z"
   },
   {
    "duration": 5,
    "start_time": "2023-01-29T16:11:38.446Z"
   },
   {
    "duration": 7,
    "start_time": "2023-01-29T16:11:38.452Z"
   },
   {
    "duration": 14,
    "start_time": "2023-01-29T16:11:38.460Z"
   },
   {
    "duration": 25,
    "start_time": "2023-01-29T16:11:38.476Z"
   },
   {
    "duration": 13,
    "start_time": "2023-01-29T16:11:38.503Z"
   },
   {
    "duration": 23,
    "start_time": "2023-01-29T16:11:38.517Z"
   },
   {
    "duration": 9,
    "start_time": "2023-01-29T16:11:38.541Z"
   },
   {
    "duration": 1055,
    "start_time": "2023-01-29T16:15:23.882Z"
   },
   {
    "duration": 56,
    "start_time": "2023-01-29T16:15:24.938Z"
   },
   {
    "duration": 22,
    "start_time": "2023-01-29T16:15:24.995Z"
   },
   {
    "duration": 14,
    "start_time": "2023-01-29T16:15:25.018Z"
   },
   {
    "duration": 8,
    "start_time": "2023-01-29T16:15:25.033Z"
   },
   {
    "duration": 16,
    "start_time": "2023-01-29T16:15:25.042Z"
   },
   {
    "duration": 14,
    "start_time": "2023-01-29T16:15:25.060Z"
   },
   {
    "duration": 5,
    "start_time": "2023-01-29T16:15:25.818Z"
   },
   {
    "duration": 4,
    "start_time": "2023-01-29T16:15:25.914Z"
   },
   {
    "duration": 6,
    "start_time": "2023-01-29T16:15:25.921Z"
   },
   {
    "duration": 15,
    "start_time": "2023-01-29T16:15:25.950Z"
   },
   {
    "duration": 6,
    "start_time": "2023-01-29T16:15:25.967Z"
   },
   {
    "duration": 9,
    "start_time": "2023-01-29T16:15:25.986Z"
   },
   {
    "duration": 5,
    "start_time": "2023-01-29T16:15:25.996Z"
   },
   {
    "duration": 6,
    "start_time": "2023-01-29T16:15:26.003Z"
   },
   {
    "duration": 10,
    "start_time": "2023-01-29T16:15:26.015Z"
   },
   {
    "duration": 19,
    "start_time": "2023-01-29T16:15:26.026Z"
   },
   {
    "duration": 6,
    "start_time": "2023-01-29T16:15:26.100Z"
   },
   {
    "duration": 5,
    "start_time": "2023-01-29T16:15:26.117Z"
   },
   {
    "duration": 4,
    "start_time": "2023-01-29T16:15:26.124Z"
   },
   {
    "duration": 70,
    "start_time": "2023-01-29T16:15:26.129Z"
   },
   {
    "duration": 190,
    "start_time": "2023-01-29T16:15:26.201Z"
   },
   {
    "duration": 7,
    "start_time": "2023-01-29T16:15:26.393Z"
   },
   {
    "duration": 229,
    "start_time": "2023-01-29T16:15:26.401Z"
   },
   {
    "duration": 57,
    "start_time": "2023-01-29T16:15:26.631Z"
   },
   {
    "duration": 5,
    "start_time": "2023-01-29T16:15:26.690Z"
   },
   {
    "duration": 43,
    "start_time": "2023-01-29T16:15:26.697Z"
   },
   {
    "duration": 170,
    "start_time": "2023-01-29T16:15:26.742Z"
   },
   {
    "duration": 526,
    "start_time": "2023-01-29T16:15:26.914Z"
   },
   {
    "duration": 293,
    "start_time": "2023-01-29T16:15:27.442Z"
   },
   {
    "duration": 112,
    "start_time": "2023-01-29T16:15:27.736Z"
   },
   {
    "duration": 312,
    "start_time": "2023-01-29T16:15:27.850Z"
   },
   {
    "duration": 168,
    "start_time": "2023-01-29T16:15:28.163Z"
   },
   {
    "duration": 16,
    "start_time": "2023-01-29T16:15:28.333Z"
   },
   {
    "duration": 2,
    "start_time": "2023-01-29T16:15:28.351Z"
   },
   {
    "duration": 7,
    "start_time": "2023-01-29T16:15:28.355Z"
   },
   {
    "duration": 889,
    "start_time": "2023-01-29T16:15:28.365Z"
   },
   {
    "duration": 149,
    "start_time": "2023-01-29T16:15:29.255Z"
   },
   {
    "duration": 148,
    "start_time": "2023-01-29T16:15:29.405Z"
   },
   {
    "duration": 126,
    "start_time": "2023-01-29T16:15:29.555Z"
   },
   {
    "duration": 14,
    "start_time": "2023-01-29T16:15:29.682Z"
   },
   {
    "duration": 9,
    "start_time": "2023-01-29T16:15:29.697Z"
   },
   {
    "duration": 9,
    "start_time": "2023-01-29T16:15:29.708Z"
   },
   {
    "duration": 31,
    "start_time": "2023-01-29T16:15:29.718Z"
   },
   {
    "duration": 447,
    "start_time": "2023-01-29T16:15:29.750Z"
   },
   {
    "duration": 8,
    "start_time": "2023-01-29T16:15:30.198Z"
   },
   {
    "duration": 22,
    "start_time": "2023-01-29T16:15:30.208Z"
   },
   {
    "duration": 17,
    "start_time": "2023-01-29T16:15:30.232Z"
   },
   {
    "duration": 435,
    "start_time": "2023-01-29T16:15:30.251Z"
   },
   {
    "duration": 9,
    "start_time": "2023-01-29T16:15:30.687Z"
   },
   {
    "duration": 32,
    "start_time": "2023-01-29T16:15:30.697Z"
   },
   {
    "duration": 36,
    "start_time": "2023-01-29T16:15:30.731Z"
   },
   {
    "duration": 409,
    "start_time": "2023-01-29T16:15:30.768Z"
   },
   {
    "duration": 8,
    "start_time": "2023-01-29T16:15:31.179Z"
   },
   {
    "duration": 36,
    "start_time": "2023-01-29T16:15:31.189Z"
   },
   {
    "duration": 28,
    "start_time": "2023-01-29T16:15:31.227Z"
   },
   {
    "duration": 14,
    "start_time": "2023-01-29T16:15:31.256Z"
   },
   {
    "duration": 15,
    "start_time": "2023-01-29T16:15:31.272Z"
   },
   {
    "duration": 21,
    "start_time": "2023-01-29T16:15:31.289Z"
   },
   {
    "duration": 19,
    "start_time": "2023-01-29T16:15:31.311Z"
   },
   {
    "duration": 10,
    "start_time": "2023-01-29T16:15:31.331Z"
   },
   {
    "duration": 1215,
    "start_time": "2023-01-30T00:02:35.875Z"
   },
   {
    "duration": 85,
    "start_time": "2023-01-30T00:02:37.092Z"
   },
   {
    "duration": 51,
    "start_time": "2023-01-30T00:02:37.179Z"
   },
   {
    "duration": 21,
    "start_time": "2023-01-30T00:02:37.237Z"
   },
   {
    "duration": 14,
    "start_time": "2023-01-30T00:02:37.266Z"
   },
   {
    "duration": 19,
    "start_time": "2023-01-30T00:02:37.281Z"
   },
   {
    "duration": 46,
    "start_time": "2023-01-30T00:02:37.302Z"
   },
   {
    "duration": 7,
    "start_time": "2023-01-30T00:02:37.351Z"
   },
   {
    "duration": 8,
    "start_time": "2023-01-30T00:02:37.359Z"
   },
   {
    "duration": 7,
    "start_time": "2023-01-30T00:02:37.368Z"
   },
   {
    "duration": 16,
    "start_time": "2023-01-30T00:02:37.377Z"
   },
   {
    "duration": 16,
    "start_time": "2023-01-30T00:02:37.395Z"
   },
   {
    "duration": 56,
    "start_time": "2023-01-30T00:02:37.416Z"
   },
   {
    "duration": 6,
    "start_time": "2023-01-30T00:02:37.476Z"
   },
   {
    "duration": 9,
    "start_time": "2023-01-30T00:02:37.484Z"
   },
   {
    "duration": 14,
    "start_time": "2023-01-30T00:02:37.494Z"
   },
   {
    "duration": 43,
    "start_time": "2023-01-30T00:02:37.510Z"
   },
   {
    "duration": 11,
    "start_time": "2023-01-30T00:02:37.554Z"
   },
   {
    "duration": 5,
    "start_time": "2023-01-30T00:02:37.566Z"
   },
   {
    "duration": 16,
    "start_time": "2023-01-30T00:02:37.573Z"
   },
   {
    "duration": 85,
    "start_time": "2023-01-30T00:02:37.591Z"
   },
   {
    "duration": 200,
    "start_time": "2023-01-30T00:02:37.678Z"
   },
   {
    "duration": 8,
    "start_time": "2023-01-30T00:02:37.880Z"
   },
   {
    "duration": 264,
    "start_time": "2023-01-30T00:02:37.890Z"
   },
   {
    "duration": 59,
    "start_time": "2023-01-30T00:02:38.155Z"
   },
   {
    "duration": 17,
    "start_time": "2023-01-30T00:02:38.223Z"
   },
   {
    "duration": 38,
    "start_time": "2023-01-30T00:02:38.247Z"
   },
   {
    "duration": 167,
    "start_time": "2023-01-30T00:02:38.286Z"
   },
   {
    "duration": 618,
    "start_time": "2023-01-30T00:02:38.455Z"
   },
   {
    "duration": 352,
    "start_time": "2023-01-30T00:02:39.074Z"
   },
   {
    "duration": 118,
    "start_time": "2023-01-30T00:02:39.428Z"
   },
   {
    "duration": 392,
    "start_time": "2023-01-30T00:02:39.548Z"
   },
   {
    "duration": 206,
    "start_time": "2023-01-30T00:02:39.946Z"
   },
   {
    "duration": 11,
    "start_time": "2023-01-30T00:02:40.154Z"
   },
   {
    "duration": 15,
    "start_time": "2023-01-30T00:02:40.166Z"
   },
   {
    "duration": 45,
    "start_time": "2023-01-30T00:02:40.183Z"
   },
   {
    "duration": 1028,
    "start_time": "2023-01-30T00:02:40.230Z"
   },
   {
    "duration": 210,
    "start_time": "2023-01-30T00:02:41.259Z"
   },
   {
    "duration": 185,
    "start_time": "2023-01-30T00:02:41.470Z"
   },
   {
    "duration": 135,
    "start_time": "2023-01-30T00:02:41.657Z"
   },
   {
    "duration": 22,
    "start_time": "2023-01-30T00:02:41.796Z"
   },
   {
    "duration": 40,
    "start_time": "2023-01-30T00:02:41.826Z"
   },
   {
    "duration": 19,
    "start_time": "2023-01-30T00:02:41.868Z"
   },
   {
    "duration": 10,
    "start_time": "2023-01-30T00:02:41.889Z"
   },
   {
    "duration": 572,
    "start_time": "2023-01-30T00:02:41.901Z"
   },
   {
    "duration": 9,
    "start_time": "2023-01-30T00:02:42.474Z"
   },
   {
    "duration": 12,
    "start_time": "2023-01-30T00:02:42.484Z"
   },
   {
    "duration": 37,
    "start_time": "2023-01-30T00:02:42.515Z"
   },
   {
    "duration": 429,
    "start_time": "2023-01-30T00:02:42.554Z"
   },
   {
    "duration": 26,
    "start_time": "2023-01-30T00:02:42.986Z"
   },
   {
    "duration": 42,
    "start_time": "2023-01-30T00:02:43.013Z"
   },
   {
    "duration": 10,
    "start_time": "2023-01-30T00:02:43.057Z"
   },
   {
    "duration": 425,
    "start_time": "2023-01-30T00:02:43.068Z"
   },
   {
    "duration": 24,
    "start_time": "2023-01-30T00:02:43.494Z"
   },
   {
    "duration": 31,
    "start_time": "2023-01-30T00:02:43.526Z"
   },
   {
    "duration": 11,
    "start_time": "2023-01-30T00:02:43.559Z"
   },
   {
    "duration": 11,
    "start_time": "2023-01-30T00:02:43.571Z"
   },
   {
    "duration": 5,
    "start_time": "2023-01-30T00:02:43.584Z"
   },
   {
    "duration": 38,
    "start_time": "2023-01-30T00:02:43.592Z"
   },
   {
    "duration": 29,
    "start_time": "2023-01-30T00:02:43.634Z"
   },
   {
    "duration": 10,
    "start_time": "2023-01-30T00:02:43.664Z"
   }
  ],
  "kernelspec": {
   "display_name": "Python 3 (ipykernel)",
   "language": "python",
   "name": "python3"
  },
  "language_info": {
   "codemirror_mode": {
    "name": "ipython",
    "version": 3
   },
   "file_extension": ".py",
   "mimetype": "text/x-python",
   "name": "python",
   "nbconvert_exporter": "python",
   "pygments_lexer": "ipython3",
   "version": "3.10.12"
  },
  "toc": {
   "base_numbering": 1,
   "nav_menu": {},
   "number_sections": true,
   "sideBar": true,
   "skip_h1_title": true,
   "title_cell": "Table of Contents",
   "title_sidebar": "Contents",
   "toc_cell": false,
   "toc_position": {
    "height": "calc(100% - 180px)",
    "left": "10px",
    "top": "150px",
    "width": "203.398px"
   },
   "toc_section_display": true,
   "toc_window_display": true
  }
 },
 "nbformat": 4,
 "nbformat_minor": 5
}
