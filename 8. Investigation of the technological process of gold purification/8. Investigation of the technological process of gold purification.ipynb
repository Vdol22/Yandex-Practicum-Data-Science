{
 "cells": [
  {
   "cell_type": "markdown",
   "id": "76f0b801",
   "metadata": {},
   "source": [
    "# Сборный проект №2"
   ]
  },
  {
   "cell_type": "markdown",
   "id": "13528d40",
   "metadata": {},
   "source": [
    "Восстановление золота из руды\n",
    "Подготовьте прототип модели машинного обучения для «Цифры». Компания разрабатывает решения для эффективной работы промышленных предприятий.\n",
    "\n",
    "Модель должна предсказать коэффициент восстановления золота из золотосодержащей руды. Используйте данные с параметрами добычи и очистки.\n",
    "\n",
    "Модель поможет оптимизировать производство, чтобы не запускать предприятие с убыточными характеристиками.\n",
    "\n",
    "Вам нужно:\n",
    "\n",
    "Подготовить данные;\n",
    "Провести исследовательский анализ данных;\n",
    "Построить и обучить модель.\n",
    "\n",
    "- Подготовка данных\n",
    "\n",
    "- Анализ данных\n",
    "\n",
    "- Модель\n",
    "\n",
    "- Чек-лист готовности проекта"
   ]
  },
  {
   "cell_type": "markdown",
   "id": "5ff1abc6",
   "metadata": {},
   "source": [
    "**Описание данных:**\n",
    "\n",
    "Технологический процесс:\n",
    "- Rougher feed — исходное сырье\n",
    "- Rougher additions (или reagent additions) — флотационные реагенты: Xanthate, Sulphate, Depressant\n",
    "- Xanthate **— ксантогенат (промотер, или активатор флотации);\n",
    "- Sulphate — сульфат (на данном производстве сульфид натрия);\n",
    "- Depressant — депрессант (силикат натрия).\n",
    "- Rougher process (англ. «грубый процесс») — флотация\n",
    "- Rougher tails — отвальные хвосты\n",
    "- Float banks — флотационная установка\n",
    "- Cleaner process — очистка\n",
    "- Rougher Au — черновой концентрат золота\n",
    "- Final Au — финальный концентрат золота\n",
    "- Параметры этапов\n",
    "- air amount — объём воздуха\n",
    "- fluid levels — уровень жидкости\n",
    "- feed size — размер гранул сырья\n",
    "- feed rate — скорость подачи\n",
    "\n",
    "**Наименование признаков:**\n",
    "\n",
    "Наименование признаков должно быть такое: [этап].[тип_параметра].[название_параметра]\n",
    "\n",
    "Пример: rougher.input.feed_ag\n",
    "\n",
    "**Возможные значения для блока [этап]:**\n",
    "- rougher — флотация\n",
    "- primary_cleaner — первичная очистка\n",
    "- secondary_cleaner — вторичная очистка\n",
    "- final — финальные характеристики\n",
    "\n",
    "**Возможные значения для блока [тип_параметра]:**\n",
    "- input — параметры сырья\n",
    "- output — параметры продукта\n",
    "- state — параметры, характеризующие текущее состояние этапа\n",
    "- calculation — расчётные характеристики"
   ]
  },
  {
   "cell_type": "markdown",
   "id": "cb092b9d",
   "metadata": {},
   "source": [
    "## Подготовка данных\n",
    "### Изучение"
   ]
  },
  {
   "cell_type": "code",
   "execution_count": 1,
   "id": "e069219c",
   "metadata": {},
   "outputs": [],
   "source": [
    "# Подключим все необходимые библиотеки:\n",
    "\n",
    "import pandas as pd\n",
    "import numpy as np\n",
    "import seaborn as sbn\n",
    "import matplotlib.pyplot as plt\n",
    "\n",
    "from sklearn.model_selection import cross_val_score\n",
    "from sklearn.metrics import make_scorer\n",
    "from sklearn.preprocessing import StandardScaler\n",
    "from sklearn.linear_model import LinearRegression\n",
    "from sklearn.tree import DecisionTreeRegressor\n",
    "from sklearn.ensemble import RandomForestRegressor\n",
    "from sklearn.model_selection import GridSearchCV\n",
    "from sklearn.metrics import mean_absolute_error\n",
    "from sklearn.dummy import DummyRegressor"
   ]
  },
  {
   "cell_type": "code",
   "execution_count": 2,
   "id": "19f778a4",
   "metadata": {},
   "outputs": [],
   "source": [
    "# Сохраним в отдельных переменных имеющиеся выборки:\n",
    "\n",
    "try:\n",
    "    train_data = pd.read_csv('/datasets/gold_recovery_train_new.csv')\n",
    "    test_data = pd.read_csv('/datasets/gold_recovery_test_new.csv')\n",
    "    full_data = pd.read_csv('/datasets/gold_recovery_full_new.csv')\n",
    "except: \n",
    "    train_data = pd.read_csv('C:\\DataScience\\gold_recovery_train_new.csv')\n",
    "    test_data = pd.read_csv('C:\\DataScience\\gold_recovery_test_new.csv')\n",
    "    full_data = pd.read_csv('C:\\DataScience\\gold_recovery_full_new.csv')"
   ]
  },
  {
   "cell_type": "markdown",
   "id": "6f93e7e1",
   "metadata": {},
   "source": [
    "**Изучим общую информацию** по всем выборкам, **типы данных**, в которых хранится информация, **наличие дубликатов и пропусков**, а так же **отобразим первые 5 строк** каждого датафрейма:"
   ]
  },
  {
   "cell_type": "code",
   "execution_count": 3,
   "id": "e4282aa7",
   "metadata": {
    "scrolled": true
   },
   "outputs": [
    {
     "data": {
      "text/html": [
       "<div>\n",
       "<style scoped>\n",
       "    .dataframe tbody tr th:only-of-type {\n",
       "        vertical-align: middle;\n",
       "    }\n",
       "\n",
       "    .dataframe tbody tr th {\n",
       "        vertical-align: top;\n",
       "    }\n",
       "\n",
       "    .dataframe thead th {\n",
       "        text-align: right;\n",
       "    }\n",
       "</style>\n",
       "<table border=\"1\" class=\"dataframe\">\n",
       "  <thead>\n",
       "    <tr style=\"text-align: right;\">\n",
       "      <th></th>\n",
       "      <th>date</th>\n",
       "      <th>final.output.concentrate_ag</th>\n",
       "      <th>final.output.concentrate_pb</th>\n",
       "      <th>final.output.concentrate_sol</th>\n",
       "      <th>final.output.concentrate_au</th>\n",
       "      <th>final.output.recovery</th>\n",
       "      <th>final.output.tail_ag</th>\n",
       "      <th>final.output.tail_pb</th>\n",
       "      <th>final.output.tail_sol</th>\n",
       "      <th>final.output.tail_au</th>\n",
       "      <th>...</th>\n",
       "      <th>secondary_cleaner.state.floatbank4_a_air</th>\n",
       "      <th>secondary_cleaner.state.floatbank4_a_level</th>\n",
       "      <th>secondary_cleaner.state.floatbank4_b_air</th>\n",
       "      <th>secondary_cleaner.state.floatbank4_b_level</th>\n",
       "      <th>secondary_cleaner.state.floatbank5_a_air</th>\n",
       "      <th>secondary_cleaner.state.floatbank5_a_level</th>\n",
       "      <th>secondary_cleaner.state.floatbank5_b_air</th>\n",
       "      <th>secondary_cleaner.state.floatbank5_b_level</th>\n",
       "      <th>secondary_cleaner.state.floatbank6_a_air</th>\n",
       "      <th>secondary_cleaner.state.floatbank6_a_level</th>\n",
       "    </tr>\n",
       "  </thead>\n",
       "  <tbody>\n",
       "    <tr>\n",
       "      <th>0</th>\n",
       "      <td>2016-01-15 00:00:00</td>\n",
       "      <td>6.055403</td>\n",
       "      <td>9.889648</td>\n",
       "      <td>5.507324</td>\n",
       "      <td>42.192020</td>\n",
       "      <td>70.541216</td>\n",
       "      <td>10.411962</td>\n",
       "      <td>0.895447</td>\n",
       "      <td>16.904297</td>\n",
       "      <td>2.143149</td>\n",
       "      <td>...</td>\n",
       "      <td>14.016835</td>\n",
       "      <td>-502.488007</td>\n",
       "      <td>12.099931</td>\n",
       "      <td>-504.715942</td>\n",
       "      <td>9.925633</td>\n",
       "      <td>-498.310211</td>\n",
       "      <td>8.079666</td>\n",
       "      <td>-500.470978</td>\n",
       "      <td>14.151341</td>\n",
       "      <td>-605.841980</td>\n",
       "    </tr>\n",
       "    <tr>\n",
       "      <th>1</th>\n",
       "      <td>2016-01-15 01:00:00</td>\n",
       "      <td>6.029369</td>\n",
       "      <td>9.968944</td>\n",
       "      <td>5.257781</td>\n",
       "      <td>42.701629</td>\n",
       "      <td>69.266198</td>\n",
       "      <td>10.462676</td>\n",
       "      <td>0.927452</td>\n",
       "      <td>16.634514</td>\n",
       "      <td>2.224930</td>\n",
       "      <td>...</td>\n",
       "      <td>13.992281</td>\n",
       "      <td>-505.503262</td>\n",
       "      <td>11.950531</td>\n",
       "      <td>-501.331529</td>\n",
       "      <td>10.039245</td>\n",
       "      <td>-500.169983</td>\n",
       "      <td>7.984757</td>\n",
       "      <td>-500.582168</td>\n",
       "      <td>13.998353</td>\n",
       "      <td>-599.787184</td>\n",
       "    </tr>\n",
       "    <tr>\n",
       "      <th>2</th>\n",
       "      <td>2016-01-15 02:00:00</td>\n",
       "      <td>6.055926</td>\n",
       "      <td>10.213995</td>\n",
       "      <td>5.383759</td>\n",
       "      <td>42.657501</td>\n",
       "      <td>68.116445</td>\n",
       "      <td>10.507046</td>\n",
       "      <td>0.953716</td>\n",
       "      <td>16.208849</td>\n",
       "      <td>2.257889</td>\n",
       "      <td>...</td>\n",
       "      <td>14.015015</td>\n",
       "      <td>-502.520901</td>\n",
       "      <td>11.912783</td>\n",
       "      <td>-501.133383</td>\n",
       "      <td>10.070913</td>\n",
       "      <td>-500.129135</td>\n",
       "      <td>8.013877</td>\n",
       "      <td>-500.517572</td>\n",
       "      <td>14.028663</td>\n",
       "      <td>-601.427363</td>\n",
       "    </tr>\n",
       "    <tr>\n",
       "      <th>3</th>\n",
       "      <td>2016-01-15 03:00:00</td>\n",
       "      <td>6.047977</td>\n",
       "      <td>9.977019</td>\n",
       "      <td>4.858634</td>\n",
       "      <td>42.689819</td>\n",
       "      <td>68.347543</td>\n",
       "      <td>10.422762</td>\n",
       "      <td>0.883763</td>\n",
       "      <td>16.532835</td>\n",
       "      <td>2.146849</td>\n",
       "      <td>...</td>\n",
       "      <td>14.036510</td>\n",
       "      <td>-500.857308</td>\n",
       "      <td>11.999550</td>\n",
       "      <td>-501.193686</td>\n",
       "      <td>9.970366</td>\n",
       "      <td>-499.201640</td>\n",
       "      <td>7.977324</td>\n",
       "      <td>-500.255908</td>\n",
       "      <td>14.005551</td>\n",
       "      <td>-599.996129</td>\n",
       "    </tr>\n",
       "    <tr>\n",
       "      <th>4</th>\n",
       "      <td>2016-01-15 04:00:00</td>\n",
       "      <td>6.148599</td>\n",
       "      <td>10.142511</td>\n",
       "      <td>4.939416</td>\n",
       "      <td>42.774141</td>\n",
       "      <td>66.927016</td>\n",
       "      <td>10.360302</td>\n",
       "      <td>0.792826</td>\n",
       "      <td>16.525686</td>\n",
       "      <td>2.055292</td>\n",
       "      <td>...</td>\n",
       "      <td>14.027298</td>\n",
       "      <td>-499.838632</td>\n",
       "      <td>11.953070</td>\n",
       "      <td>-501.053894</td>\n",
       "      <td>9.925709</td>\n",
       "      <td>-501.686727</td>\n",
       "      <td>7.894242</td>\n",
       "      <td>-500.356035</td>\n",
       "      <td>13.996647</td>\n",
       "      <td>-601.496691</td>\n",
       "    </tr>\n",
       "  </tbody>\n",
       "</table>\n",
       "<p>5 rows × 87 columns</p>\n",
       "</div>"
      ],
      "text/plain": [
       "                  date  final.output.concentrate_ag  \\\n",
       "0  2016-01-15 00:00:00                     6.055403   \n",
       "1  2016-01-15 01:00:00                     6.029369   \n",
       "2  2016-01-15 02:00:00                     6.055926   \n",
       "3  2016-01-15 03:00:00                     6.047977   \n",
       "4  2016-01-15 04:00:00                     6.148599   \n",
       "\n",
       "   final.output.concentrate_pb  final.output.concentrate_sol  \\\n",
       "0                     9.889648                      5.507324   \n",
       "1                     9.968944                      5.257781   \n",
       "2                    10.213995                      5.383759   \n",
       "3                     9.977019                      4.858634   \n",
       "4                    10.142511                      4.939416   \n",
       "\n",
       "   final.output.concentrate_au  final.output.recovery  final.output.tail_ag  \\\n",
       "0                    42.192020              70.541216             10.411962   \n",
       "1                    42.701629              69.266198             10.462676   \n",
       "2                    42.657501              68.116445             10.507046   \n",
       "3                    42.689819              68.347543             10.422762   \n",
       "4                    42.774141              66.927016             10.360302   \n",
       "\n",
       "   final.output.tail_pb  final.output.tail_sol  final.output.tail_au  ...  \\\n",
       "0              0.895447              16.904297              2.143149  ...   \n",
       "1              0.927452              16.634514              2.224930  ...   \n",
       "2              0.953716              16.208849              2.257889  ...   \n",
       "3              0.883763              16.532835              2.146849  ...   \n",
       "4              0.792826              16.525686              2.055292  ...   \n",
       "\n",
       "   secondary_cleaner.state.floatbank4_a_air  \\\n",
       "0                                 14.016835   \n",
       "1                                 13.992281   \n",
       "2                                 14.015015   \n",
       "3                                 14.036510   \n",
       "4                                 14.027298   \n",
       "\n",
       "   secondary_cleaner.state.floatbank4_a_level  \\\n",
       "0                                 -502.488007   \n",
       "1                                 -505.503262   \n",
       "2                                 -502.520901   \n",
       "3                                 -500.857308   \n",
       "4                                 -499.838632   \n",
       "\n",
       "   secondary_cleaner.state.floatbank4_b_air  \\\n",
       "0                                 12.099931   \n",
       "1                                 11.950531   \n",
       "2                                 11.912783   \n",
       "3                                 11.999550   \n",
       "4                                 11.953070   \n",
       "\n",
       "   secondary_cleaner.state.floatbank4_b_level  \\\n",
       "0                                 -504.715942   \n",
       "1                                 -501.331529   \n",
       "2                                 -501.133383   \n",
       "3                                 -501.193686   \n",
       "4                                 -501.053894   \n",
       "\n",
       "   secondary_cleaner.state.floatbank5_a_air  \\\n",
       "0                                  9.925633   \n",
       "1                                 10.039245   \n",
       "2                                 10.070913   \n",
       "3                                  9.970366   \n",
       "4                                  9.925709   \n",
       "\n",
       "   secondary_cleaner.state.floatbank5_a_level  \\\n",
       "0                                 -498.310211   \n",
       "1                                 -500.169983   \n",
       "2                                 -500.129135   \n",
       "3                                 -499.201640   \n",
       "4                                 -501.686727   \n",
       "\n",
       "   secondary_cleaner.state.floatbank5_b_air  \\\n",
       "0                                  8.079666   \n",
       "1                                  7.984757   \n",
       "2                                  8.013877   \n",
       "3                                  7.977324   \n",
       "4                                  7.894242   \n",
       "\n",
       "   secondary_cleaner.state.floatbank5_b_level  \\\n",
       "0                                 -500.470978   \n",
       "1                                 -500.582168   \n",
       "2                                 -500.517572   \n",
       "3                                 -500.255908   \n",
       "4                                 -500.356035   \n",
       "\n",
       "   secondary_cleaner.state.floatbank6_a_air  \\\n",
       "0                                 14.151341   \n",
       "1                                 13.998353   \n",
       "2                                 14.028663   \n",
       "3                                 14.005551   \n",
       "4                                 13.996647   \n",
       "\n",
       "   secondary_cleaner.state.floatbank6_a_level  \n",
       "0                                 -605.841980  \n",
       "1                                 -599.787184  \n",
       "2                                 -601.427363  \n",
       "3                                 -599.996129  \n",
       "4                                 -601.496691  \n",
       "\n",
       "[5 rows x 87 columns]"
      ]
     },
     "metadata": {},
     "output_type": "display_data"
    },
    {
     "data": {
      "text/html": [
       "<div>\n",
       "<style scoped>\n",
       "    .dataframe tbody tr th:only-of-type {\n",
       "        vertical-align: middle;\n",
       "    }\n",
       "\n",
       "    .dataframe tbody tr th {\n",
       "        vertical-align: top;\n",
       "    }\n",
       "\n",
       "    .dataframe thead th {\n",
       "        text-align: right;\n",
       "    }\n",
       "</style>\n",
       "<table border=\"1\" class=\"dataframe\">\n",
       "  <thead>\n",
       "    <tr style=\"text-align: right;\">\n",
       "      <th></th>\n",
       "      <th>date</th>\n",
       "      <th>primary_cleaner.input.sulfate</th>\n",
       "      <th>primary_cleaner.input.depressant</th>\n",
       "      <th>primary_cleaner.input.feed_size</th>\n",
       "      <th>primary_cleaner.input.xanthate</th>\n",
       "      <th>primary_cleaner.state.floatbank8_a_air</th>\n",
       "      <th>primary_cleaner.state.floatbank8_a_level</th>\n",
       "      <th>primary_cleaner.state.floatbank8_b_air</th>\n",
       "      <th>primary_cleaner.state.floatbank8_b_level</th>\n",
       "      <th>primary_cleaner.state.floatbank8_c_air</th>\n",
       "      <th>...</th>\n",
       "      <th>secondary_cleaner.state.floatbank4_a_air</th>\n",
       "      <th>secondary_cleaner.state.floatbank4_a_level</th>\n",
       "      <th>secondary_cleaner.state.floatbank4_b_air</th>\n",
       "      <th>secondary_cleaner.state.floatbank4_b_level</th>\n",
       "      <th>secondary_cleaner.state.floatbank5_a_air</th>\n",
       "      <th>secondary_cleaner.state.floatbank5_a_level</th>\n",
       "      <th>secondary_cleaner.state.floatbank5_b_air</th>\n",
       "      <th>secondary_cleaner.state.floatbank5_b_level</th>\n",
       "      <th>secondary_cleaner.state.floatbank6_a_air</th>\n",
       "      <th>secondary_cleaner.state.floatbank6_a_level</th>\n",
       "    </tr>\n",
       "  </thead>\n",
       "  <tbody>\n",
       "    <tr>\n",
       "      <th>0</th>\n",
       "      <td>2016-09-01 00:59:59</td>\n",
       "      <td>210.800909</td>\n",
       "      <td>14.993118</td>\n",
       "      <td>8.080000</td>\n",
       "      <td>1.005021</td>\n",
       "      <td>1398.981301</td>\n",
       "      <td>-500.225577</td>\n",
       "      <td>1399.144926</td>\n",
       "      <td>-499.919735</td>\n",
       "      <td>1400.102998</td>\n",
       "      <td>...</td>\n",
       "      <td>12.023554</td>\n",
       "      <td>-497.795834</td>\n",
       "      <td>8.016656</td>\n",
       "      <td>-501.289139</td>\n",
       "      <td>7.946562</td>\n",
       "      <td>-432.317850</td>\n",
       "      <td>4.872511</td>\n",
       "      <td>-500.037437</td>\n",
       "      <td>26.705889</td>\n",
       "      <td>-499.709414</td>\n",
       "    </tr>\n",
       "    <tr>\n",
       "      <th>1</th>\n",
       "      <td>2016-09-01 01:59:59</td>\n",
       "      <td>215.392455</td>\n",
       "      <td>14.987471</td>\n",
       "      <td>8.080000</td>\n",
       "      <td>0.990469</td>\n",
       "      <td>1398.777912</td>\n",
       "      <td>-500.057435</td>\n",
       "      <td>1398.055362</td>\n",
       "      <td>-499.778182</td>\n",
       "      <td>1396.151033</td>\n",
       "      <td>...</td>\n",
       "      <td>12.058140</td>\n",
       "      <td>-498.695773</td>\n",
       "      <td>8.130979</td>\n",
       "      <td>-499.634209</td>\n",
       "      <td>7.958270</td>\n",
       "      <td>-525.839648</td>\n",
       "      <td>4.878850</td>\n",
       "      <td>-500.162375</td>\n",
       "      <td>25.019940</td>\n",
       "      <td>-499.819438</td>\n",
       "    </tr>\n",
       "    <tr>\n",
       "      <th>2</th>\n",
       "      <td>2016-09-01 02:59:59</td>\n",
       "      <td>215.259946</td>\n",
       "      <td>12.884934</td>\n",
       "      <td>7.786667</td>\n",
       "      <td>0.996043</td>\n",
       "      <td>1398.493666</td>\n",
       "      <td>-500.868360</td>\n",
       "      <td>1398.860436</td>\n",
       "      <td>-499.764529</td>\n",
       "      <td>1398.075709</td>\n",
       "      <td>...</td>\n",
       "      <td>11.962366</td>\n",
       "      <td>-498.767484</td>\n",
       "      <td>8.096893</td>\n",
       "      <td>-500.827423</td>\n",
       "      <td>8.071056</td>\n",
       "      <td>-500.801673</td>\n",
       "      <td>4.905125</td>\n",
       "      <td>-499.828510</td>\n",
       "      <td>24.994862</td>\n",
       "      <td>-500.622559</td>\n",
       "    </tr>\n",
       "    <tr>\n",
       "      <th>3</th>\n",
       "      <td>2016-09-01 03:59:59</td>\n",
       "      <td>215.336236</td>\n",
       "      <td>12.006805</td>\n",
       "      <td>7.640000</td>\n",
       "      <td>0.863514</td>\n",
       "      <td>1399.618111</td>\n",
       "      <td>-498.863574</td>\n",
       "      <td>1397.440120</td>\n",
       "      <td>-499.211024</td>\n",
       "      <td>1400.129303</td>\n",
       "      <td>...</td>\n",
       "      <td>12.033091</td>\n",
       "      <td>-498.350935</td>\n",
       "      <td>8.074946</td>\n",
       "      <td>-499.474407</td>\n",
       "      <td>7.897085</td>\n",
       "      <td>-500.868509</td>\n",
       "      <td>4.931400</td>\n",
       "      <td>-499.963623</td>\n",
       "      <td>24.948919</td>\n",
       "      <td>-498.709987</td>\n",
       "    </tr>\n",
       "    <tr>\n",
       "      <th>4</th>\n",
       "      <td>2016-09-01 04:59:59</td>\n",
       "      <td>199.099327</td>\n",
       "      <td>10.682530</td>\n",
       "      <td>7.530000</td>\n",
       "      <td>0.805575</td>\n",
       "      <td>1401.268123</td>\n",
       "      <td>-500.808305</td>\n",
       "      <td>1398.128818</td>\n",
       "      <td>-499.504543</td>\n",
       "      <td>1402.172226</td>\n",
       "      <td>...</td>\n",
       "      <td>12.025367</td>\n",
       "      <td>-500.786497</td>\n",
       "      <td>8.054678</td>\n",
       "      <td>-500.397500</td>\n",
       "      <td>8.107890</td>\n",
       "      <td>-509.526725</td>\n",
       "      <td>4.957674</td>\n",
       "      <td>-500.360026</td>\n",
       "      <td>25.003331</td>\n",
       "      <td>-500.856333</td>\n",
       "    </tr>\n",
       "  </tbody>\n",
       "</table>\n",
       "<p>5 rows × 53 columns</p>\n",
       "</div>"
      ],
      "text/plain": [
       "                  date  primary_cleaner.input.sulfate  \\\n",
       "0  2016-09-01 00:59:59                     210.800909   \n",
       "1  2016-09-01 01:59:59                     215.392455   \n",
       "2  2016-09-01 02:59:59                     215.259946   \n",
       "3  2016-09-01 03:59:59                     215.336236   \n",
       "4  2016-09-01 04:59:59                     199.099327   \n",
       "\n",
       "   primary_cleaner.input.depressant  primary_cleaner.input.feed_size  \\\n",
       "0                         14.993118                         8.080000   \n",
       "1                         14.987471                         8.080000   \n",
       "2                         12.884934                         7.786667   \n",
       "3                         12.006805                         7.640000   \n",
       "4                         10.682530                         7.530000   \n",
       "\n",
       "   primary_cleaner.input.xanthate  primary_cleaner.state.floatbank8_a_air  \\\n",
       "0                        1.005021                             1398.981301   \n",
       "1                        0.990469                             1398.777912   \n",
       "2                        0.996043                             1398.493666   \n",
       "3                        0.863514                             1399.618111   \n",
       "4                        0.805575                             1401.268123   \n",
       "\n",
       "   primary_cleaner.state.floatbank8_a_level  \\\n",
       "0                               -500.225577   \n",
       "1                               -500.057435   \n",
       "2                               -500.868360   \n",
       "3                               -498.863574   \n",
       "4                               -500.808305   \n",
       "\n",
       "   primary_cleaner.state.floatbank8_b_air  \\\n",
       "0                             1399.144926   \n",
       "1                             1398.055362   \n",
       "2                             1398.860436   \n",
       "3                             1397.440120   \n",
       "4                             1398.128818   \n",
       "\n",
       "   primary_cleaner.state.floatbank8_b_level  \\\n",
       "0                               -499.919735   \n",
       "1                               -499.778182   \n",
       "2                               -499.764529   \n",
       "3                               -499.211024   \n",
       "4                               -499.504543   \n",
       "\n",
       "   primary_cleaner.state.floatbank8_c_air  ...  \\\n",
       "0                             1400.102998  ...   \n",
       "1                             1396.151033  ...   \n",
       "2                             1398.075709  ...   \n",
       "3                             1400.129303  ...   \n",
       "4                             1402.172226  ...   \n",
       "\n",
       "   secondary_cleaner.state.floatbank4_a_air  \\\n",
       "0                                 12.023554   \n",
       "1                                 12.058140   \n",
       "2                                 11.962366   \n",
       "3                                 12.033091   \n",
       "4                                 12.025367   \n",
       "\n",
       "   secondary_cleaner.state.floatbank4_a_level  \\\n",
       "0                                 -497.795834   \n",
       "1                                 -498.695773   \n",
       "2                                 -498.767484   \n",
       "3                                 -498.350935   \n",
       "4                                 -500.786497   \n",
       "\n",
       "   secondary_cleaner.state.floatbank4_b_air  \\\n",
       "0                                  8.016656   \n",
       "1                                  8.130979   \n",
       "2                                  8.096893   \n",
       "3                                  8.074946   \n",
       "4                                  8.054678   \n",
       "\n",
       "   secondary_cleaner.state.floatbank4_b_level  \\\n",
       "0                                 -501.289139   \n",
       "1                                 -499.634209   \n",
       "2                                 -500.827423   \n",
       "3                                 -499.474407   \n",
       "4                                 -500.397500   \n",
       "\n",
       "   secondary_cleaner.state.floatbank5_a_air  \\\n",
       "0                                  7.946562   \n",
       "1                                  7.958270   \n",
       "2                                  8.071056   \n",
       "3                                  7.897085   \n",
       "4                                  8.107890   \n",
       "\n",
       "   secondary_cleaner.state.floatbank5_a_level  \\\n",
       "0                                 -432.317850   \n",
       "1                                 -525.839648   \n",
       "2                                 -500.801673   \n",
       "3                                 -500.868509   \n",
       "4                                 -509.526725   \n",
       "\n",
       "   secondary_cleaner.state.floatbank5_b_air  \\\n",
       "0                                  4.872511   \n",
       "1                                  4.878850   \n",
       "2                                  4.905125   \n",
       "3                                  4.931400   \n",
       "4                                  4.957674   \n",
       "\n",
       "   secondary_cleaner.state.floatbank5_b_level  \\\n",
       "0                                 -500.037437   \n",
       "1                                 -500.162375   \n",
       "2                                 -499.828510   \n",
       "3                                 -499.963623   \n",
       "4                                 -500.360026   \n",
       "\n",
       "   secondary_cleaner.state.floatbank6_a_air  \\\n",
       "0                                 26.705889   \n",
       "1                                 25.019940   \n",
       "2                                 24.994862   \n",
       "3                                 24.948919   \n",
       "4                                 25.003331   \n",
       "\n",
       "   secondary_cleaner.state.floatbank6_a_level  \n",
       "0                                 -499.709414  \n",
       "1                                 -499.819438  \n",
       "2                                 -500.622559  \n",
       "3                                 -498.709987  \n",
       "4                                 -500.856333  \n",
       "\n",
       "[5 rows x 53 columns]"
      ]
     },
     "metadata": {},
     "output_type": "display_data"
    },
    {
     "data": {
      "text/html": [
       "<div>\n",
       "<style scoped>\n",
       "    .dataframe tbody tr th:only-of-type {\n",
       "        vertical-align: middle;\n",
       "    }\n",
       "\n",
       "    .dataframe tbody tr th {\n",
       "        vertical-align: top;\n",
       "    }\n",
       "\n",
       "    .dataframe thead th {\n",
       "        text-align: right;\n",
       "    }\n",
       "</style>\n",
       "<table border=\"1\" class=\"dataframe\">\n",
       "  <thead>\n",
       "    <tr style=\"text-align: right;\">\n",
       "      <th></th>\n",
       "      <th>date</th>\n",
       "      <th>final.output.concentrate_ag</th>\n",
       "      <th>final.output.concentrate_pb</th>\n",
       "      <th>final.output.concentrate_sol</th>\n",
       "      <th>final.output.concentrate_au</th>\n",
       "      <th>final.output.recovery</th>\n",
       "      <th>final.output.tail_ag</th>\n",
       "      <th>final.output.tail_pb</th>\n",
       "      <th>final.output.tail_sol</th>\n",
       "      <th>final.output.tail_au</th>\n",
       "      <th>...</th>\n",
       "      <th>secondary_cleaner.state.floatbank4_a_air</th>\n",
       "      <th>secondary_cleaner.state.floatbank4_a_level</th>\n",
       "      <th>secondary_cleaner.state.floatbank4_b_air</th>\n",
       "      <th>secondary_cleaner.state.floatbank4_b_level</th>\n",
       "      <th>secondary_cleaner.state.floatbank5_a_air</th>\n",
       "      <th>secondary_cleaner.state.floatbank5_a_level</th>\n",
       "      <th>secondary_cleaner.state.floatbank5_b_air</th>\n",
       "      <th>secondary_cleaner.state.floatbank5_b_level</th>\n",
       "      <th>secondary_cleaner.state.floatbank6_a_air</th>\n",
       "      <th>secondary_cleaner.state.floatbank6_a_level</th>\n",
       "    </tr>\n",
       "  </thead>\n",
       "  <tbody>\n",
       "    <tr>\n",
       "      <th>0</th>\n",
       "      <td>2016-01-15 00:00:00</td>\n",
       "      <td>6.055403</td>\n",
       "      <td>9.889648</td>\n",
       "      <td>5.507324</td>\n",
       "      <td>42.192020</td>\n",
       "      <td>70.541216</td>\n",
       "      <td>10.411962</td>\n",
       "      <td>0.895447</td>\n",
       "      <td>16.904297</td>\n",
       "      <td>2.143149</td>\n",
       "      <td>...</td>\n",
       "      <td>14.016835</td>\n",
       "      <td>-502.488007</td>\n",
       "      <td>12.099931</td>\n",
       "      <td>-504.715942</td>\n",
       "      <td>9.925633</td>\n",
       "      <td>-498.310211</td>\n",
       "      <td>8.079666</td>\n",
       "      <td>-500.470978</td>\n",
       "      <td>14.151341</td>\n",
       "      <td>-605.841980</td>\n",
       "    </tr>\n",
       "    <tr>\n",
       "      <th>1</th>\n",
       "      <td>2016-01-15 01:00:00</td>\n",
       "      <td>6.029369</td>\n",
       "      <td>9.968944</td>\n",
       "      <td>5.257781</td>\n",
       "      <td>42.701629</td>\n",
       "      <td>69.266198</td>\n",
       "      <td>10.462676</td>\n",
       "      <td>0.927452</td>\n",
       "      <td>16.634514</td>\n",
       "      <td>2.224930</td>\n",
       "      <td>...</td>\n",
       "      <td>13.992281</td>\n",
       "      <td>-505.503262</td>\n",
       "      <td>11.950531</td>\n",
       "      <td>-501.331529</td>\n",
       "      <td>10.039245</td>\n",
       "      <td>-500.169983</td>\n",
       "      <td>7.984757</td>\n",
       "      <td>-500.582168</td>\n",
       "      <td>13.998353</td>\n",
       "      <td>-599.787184</td>\n",
       "    </tr>\n",
       "    <tr>\n",
       "      <th>2</th>\n",
       "      <td>2016-01-15 02:00:00</td>\n",
       "      <td>6.055926</td>\n",
       "      <td>10.213995</td>\n",
       "      <td>5.383759</td>\n",
       "      <td>42.657501</td>\n",
       "      <td>68.116445</td>\n",
       "      <td>10.507046</td>\n",
       "      <td>0.953716</td>\n",
       "      <td>16.208849</td>\n",
       "      <td>2.257889</td>\n",
       "      <td>...</td>\n",
       "      <td>14.015015</td>\n",
       "      <td>-502.520901</td>\n",
       "      <td>11.912783</td>\n",
       "      <td>-501.133383</td>\n",
       "      <td>10.070913</td>\n",
       "      <td>-500.129135</td>\n",
       "      <td>8.013877</td>\n",
       "      <td>-500.517572</td>\n",
       "      <td>14.028663</td>\n",
       "      <td>-601.427363</td>\n",
       "    </tr>\n",
       "    <tr>\n",
       "      <th>3</th>\n",
       "      <td>2016-01-15 03:00:00</td>\n",
       "      <td>6.047977</td>\n",
       "      <td>9.977019</td>\n",
       "      <td>4.858634</td>\n",
       "      <td>42.689819</td>\n",
       "      <td>68.347543</td>\n",
       "      <td>10.422762</td>\n",
       "      <td>0.883763</td>\n",
       "      <td>16.532835</td>\n",
       "      <td>2.146849</td>\n",
       "      <td>...</td>\n",
       "      <td>14.036510</td>\n",
       "      <td>-500.857308</td>\n",
       "      <td>11.999550</td>\n",
       "      <td>-501.193686</td>\n",
       "      <td>9.970366</td>\n",
       "      <td>-499.201640</td>\n",
       "      <td>7.977324</td>\n",
       "      <td>-500.255908</td>\n",
       "      <td>14.005551</td>\n",
       "      <td>-599.996129</td>\n",
       "    </tr>\n",
       "    <tr>\n",
       "      <th>4</th>\n",
       "      <td>2016-01-15 04:00:00</td>\n",
       "      <td>6.148599</td>\n",
       "      <td>10.142511</td>\n",
       "      <td>4.939416</td>\n",
       "      <td>42.774141</td>\n",
       "      <td>66.927016</td>\n",
       "      <td>10.360302</td>\n",
       "      <td>0.792826</td>\n",
       "      <td>16.525686</td>\n",
       "      <td>2.055292</td>\n",
       "      <td>...</td>\n",
       "      <td>14.027298</td>\n",
       "      <td>-499.838632</td>\n",
       "      <td>11.953070</td>\n",
       "      <td>-501.053894</td>\n",
       "      <td>9.925709</td>\n",
       "      <td>-501.686727</td>\n",
       "      <td>7.894242</td>\n",
       "      <td>-500.356035</td>\n",
       "      <td>13.996647</td>\n",
       "      <td>-601.496691</td>\n",
       "    </tr>\n",
       "  </tbody>\n",
       "</table>\n",
       "<p>5 rows × 87 columns</p>\n",
       "</div>"
      ],
      "text/plain": [
       "                  date  final.output.concentrate_ag  \\\n",
       "0  2016-01-15 00:00:00                     6.055403   \n",
       "1  2016-01-15 01:00:00                     6.029369   \n",
       "2  2016-01-15 02:00:00                     6.055926   \n",
       "3  2016-01-15 03:00:00                     6.047977   \n",
       "4  2016-01-15 04:00:00                     6.148599   \n",
       "\n",
       "   final.output.concentrate_pb  final.output.concentrate_sol  \\\n",
       "0                     9.889648                      5.507324   \n",
       "1                     9.968944                      5.257781   \n",
       "2                    10.213995                      5.383759   \n",
       "3                     9.977019                      4.858634   \n",
       "4                    10.142511                      4.939416   \n",
       "\n",
       "   final.output.concentrate_au  final.output.recovery  final.output.tail_ag  \\\n",
       "0                    42.192020              70.541216             10.411962   \n",
       "1                    42.701629              69.266198             10.462676   \n",
       "2                    42.657501              68.116445             10.507046   \n",
       "3                    42.689819              68.347543             10.422762   \n",
       "4                    42.774141              66.927016             10.360302   \n",
       "\n",
       "   final.output.tail_pb  final.output.tail_sol  final.output.tail_au  ...  \\\n",
       "0              0.895447              16.904297              2.143149  ...   \n",
       "1              0.927452              16.634514              2.224930  ...   \n",
       "2              0.953716              16.208849              2.257889  ...   \n",
       "3              0.883763              16.532835              2.146849  ...   \n",
       "4              0.792826              16.525686              2.055292  ...   \n",
       "\n",
       "   secondary_cleaner.state.floatbank4_a_air  \\\n",
       "0                                 14.016835   \n",
       "1                                 13.992281   \n",
       "2                                 14.015015   \n",
       "3                                 14.036510   \n",
       "4                                 14.027298   \n",
       "\n",
       "   secondary_cleaner.state.floatbank4_a_level  \\\n",
       "0                                 -502.488007   \n",
       "1                                 -505.503262   \n",
       "2                                 -502.520901   \n",
       "3                                 -500.857308   \n",
       "4                                 -499.838632   \n",
       "\n",
       "   secondary_cleaner.state.floatbank4_b_air  \\\n",
       "0                                 12.099931   \n",
       "1                                 11.950531   \n",
       "2                                 11.912783   \n",
       "3                                 11.999550   \n",
       "4                                 11.953070   \n",
       "\n",
       "   secondary_cleaner.state.floatbank4_b_level  \\\n",
       "0                                 -504.715942   \n",
       "1                                 -501.331529   \n",
       "2                                 -501.133383   \n",
       "3                                 -501.193686   \n",
       "4                                 -501.053894   \n",
       "\n",
       "   secondary_cleaner.state.floatbank5_a_air  \\\n",
       "0                                  9.925633   \n",
       "1                                 10.039245   \n",
       "2                                 10.070913   \n",
       "3                                  9.970366   \n",
       "4                                  9.925709   \n",
       "\n",
       "   secondary_cleaner.state.floatbank5_a_level  \\\n",
       "0                                 -498.310211   \n",
       "1                                 -500.169983   \n",
       "2                                 -500.129135   \n",
       "3                                 -499.201640   \n",
       "4                                 -501.686727   \n",
       "\n",
       "   secondary_cleaner.state.floatbank5_b_air  \\\n",
       "0                                  8.079666   \n",
       "1                                  7.984757   \n",
       "2                                  8.013877   \n",
       "3                                  7.977324   \n",
       "4                                  7.894242   \n",
       "\n",
       "   secondary_cleaner.state.floatbank5_b_level  \\\n",
       "0                                 -500.470978   \n",
       "1                                 -500.582168   \n",
       "2                                 -500.517572   \n",
       "3                                 -500.255908   \n",
       "4                                 -500.356035   \n",
       "\n",
       "   secondary_cleaner.state.floatbank6_a_air  \\\n",
       "0                                 14.151341   \n",
       "1                                 13.998353   \n",
       "2                                 14.028663   \n",
       "3                                 14.005551   \n",
       "4                                 13.996647   \n",
       "\n",
       "   secondary_cleaner.state.floatbank6_a_level  \n",
       "0                                 -605.841980  \n",
       "1                                 -599.787184  \n",
       "2                                 -601.427363  \n",
       "3                                 -599.996129  \n",
       "4                                 -601.496691  \n",
       "\n",
       "[5 rows x 87 columns]"
      ]
     },
     "execution_count": 3,
     "metadata": {},
     "output_type": "execute_result"
    }
   ],
   "source": [
    "display(train_data.head())\n",
    "display(test_data.head())\n",
    "full_data.head() "
   ]
  },
  {
   "cell_type": "code",
   "execution_count": 4,
   "id": "762c07ef",
   "metadata": {
    "scrolled": true
   },
   "outputs": [
    {
     "name": "stdout",
     "output_type": "stream",
     "text": [
      "<class 'pandas.core.frame.DataFrame'>\n",
      "RangeIndex: 14149 entries, 0 to 14148\n",
      "Data columns (total 87 columns):\n",
      " #   Column                                              Non-Null Count  Dtype  \n",
      "---  ------                                              --------------  -----  \n",
      " 0   date                                                14149 non-null  object \n",
      " 1   final.output.concentrate_ag                         14148 non-null  float64\n",
      " 2   final.output.concentrate_pb                         14148 non-null  float64\n",
      " 3   final.output.concentrate_sol                        13938 non-null  float64\n",
      " 4   final.output.concentrate_au                         14149 non-null  float64\n",
      " 5   final.output.recovery                               14149 non-null  float64\n",
      " 6   final.output.tail_ag                                14149 non-null  float64\n",
      " 7   final.output.tail_pb                                14049 non-null  float64\n",
      " 8   final.output.tail_sol                               14144 non-null  float64\n",
      " 9   final.output.tail_au                                14149 non-null  float64\n",
      " 10  primary_cleaner.input.sulfate                       14129 non-null  float64\n",
      " 11  primary_cleaner.input.depressant                    14117 non-null  float64\n",
      " 12  primary_cleaner.input.feed_size                     14149 non-null  float64\n",
      " 13  primary_cleaner.input.xanthate                      14049 non-null  float64\n",
      " 14  primary_cleaner.output.concentrate_ag               14149 non-null  float64\n",
      " 15  primary_cleaner.output.concentrate_pb               14063 non-null  float64\n",
      " 16  primary_cleaner.output.concentrate_sol              13863 non-null  float64\n",
      " 17  primary_cleaner.output.concentrate_au               14149 non-null  float64\n",
      " 18  primary_cleaner.output.tail_ag                      14148 non-null  float64\n",
      " 19  primary_cleaner.output.tail_pb                      14134 non-null  float64\n",
      " 20  primary_cleaner.output.tail_sol                     14103 non-null  float64\n",
      " 21  primary_cleaner.output.tail_au                      14149 non-null  float64\n",
      " 22  primary_cleaner.state.floatbank8_a_air              14145 non-null  float64\n",
      " 23  primary_cleaner.state.floatbank8_a_level            14148 non-null  float64\n",
      " 24  primary_cleaner.state.floatbank8_b_air              14145 non-null  float64\n",
      " 25  primary_cleaner.state.floatbank8_b_level            14148 non-null  float64\n",
      " 26  primary_cleaner.state.floatbank8_c_air              14147 non-null  float64\n",
      " 27  primary_cleaner.state.floatbank8_c_level            14148 non-null  float64\n",
      " 28  primary_cleaner.state.floatbank8_d_air              14146 non-null  float64\n",
      " 29  primary_cleaner.state.floatbank8_d_level            14148 non-null  float64\n",
      " 30  rougher.calculation.sulfate_to_au_concentrate       14148 non-null  float64\n",
      " 31  rougher.calculation.floatbank10_sulfate_to_au_feed  14148 non-null  float64\n",
      " 32  rougher.calculation.floatbank11_sulfate_to_au_feed  14148 non-null  float64\n",
      " 33  rougher.calculation.au_pb_ratio                     14149 non-null  float64\n",
      " 34  rougher.input.feed_ag                               14149 non-null  float64\n",
      " 35  rougher.input.feed_pb                               14049 non-null  float64\n",
      " 36  rougher.input.feed_rate                             14141 non-null  float64\n",
      " 37  rougher.input.feed_size                             14005 non-null  float64\n",
      " 38  rougher.input.feed_sol                              14071 non-null  float64\n",
      " 39  rougher.input.feed_au                               14149 non-null  float64\n",
      " 40  rougher.input.floatbank10_sulfate                   14120 non-null  float64\n",
      " 41  rougher.input.floatbank10_xanthate                  14141 non-null  float64\n",
      " 42  rougher.input.floatbank11_sulfate                   14113 non-null  float64\n",
      " 43  rougher.input.floatbank11_xanthate                  13721 non-null  float64\n",
      " 44  rougher.output.concentrate_ag                       14149 non-null  float64\n",
      " 45  rougher.output.concentrate_pb                       14149 non-null  float64\n",
      " 46  rougher.output.concentrate_sol                      14127 non-null  float64\n",
      " 47  rougher.output.concentrate_au                       14149 non-null  float64\n",
      " 48  rougher.output.recovery                             14149 non-null  float64\n",
      " 49  rougher.output.tail_ag                              14148 non-null  float64\n",
      " 50  rougher.output.tail_pb                              14149 non-null  float64\n",
      " 51  rougher.output.tail_sol                             14149 non-null  float64\n",
      " 52  rougher.output.tail_au                              14149 non-null  float64\n",
      " 53  rougher.state.floatbank10_a_air                     14148 non-null  float64\n",
      " 54  rougher.state.floatbank10_a_level                   14148 non-null  float64\n",
      " 55  rougher.state.floatbank10_b_air                     14148 non-null  float64\n",
      " 56  rougher.state.floatbank10_b_level                   14148 non-null  float64\n",
      " 57  rougher.state.floatbank10_c_air                     14148 non-null  float64\n",
      " 58  rougher.state.floatbank10_c_level                   14148 non-null  float64\n",
      " 59  rougher.state.floatbank10_d_air                     14149 non-null  float64\n",
      " 60  rougher.state.floatbank10_d_level                   14149 non-null  float64\n",
      " 61  rougher.state.floatbank10_e_air                     13713 non-null  float64\n",
      " 62  rougher.state.floatbank10_e_level                   14149 non-null  float64\n",
      " 63  rougher.state.floatbank10_f_air                     14149 non-null  float64\n",
      " 64  rougher.state.floatbank10_f_level                   14149 non-null  float64\n",
      " 65  secondary_cleaner.output.tail_ag                    14147 non-null  float64\n",
      " 66  secondary_cleaner.output.tail_pb                    14139 non-null  float64\n",
      " 67  secondary_cleaner.output.tail_sol                   12544 non-null  float64\n",
      " 68  secondary_cleaner.output.tail_au                    14149 non-null  float64\n",
      " 69  secondary_cleaner.state.floatbank2_a_air            13932 non-null  float64\n",
      " 70  secondary_cleaner.state.floatbank2_a_level          14148 non-null  float64\n",
      " 71  secondary_cleaner.state.floatbank2_b_air            14128 non-null  float64\n",
      " 72  secondary_cleaner.state.floatbank2_b_level          14148 non-null  float64\n",
      " 73  secondary_cleaner.state.floatbank3_a_air            14145 non-null  float64\n",
      " 74  secondary_cleaner.state.floatbank3_a_level          14148 non-null  float64\n",
      " 75  secondary_cleaner.state.floatbank3_b_air            14148 non-null  float64\n",
      " 76  secondary_cleaner.state.floatbank3_b_level          14148 non-null  float64\n",
      " 77  secondary_cleaner.state.floatbank4_a_air            14143 non-null  float64\n",
      " 78  secondary_cleaner.state.floatbank4_a_level          14148 non-null  float64\n",
      " 79  secondary_cleaner.state.floatbank4_b_air            14148 non-null  float64\n",
      " 80  secondary_cleaner.state.floatbank4_b_level          14148 non-null  float64\n",
      " 81  secondary_cleaner.state.floatbank5_a_air            14148 non-null  float64\n",
      " 82  secondary_cleaner.state.floatbank5_a_level          14148 non-null  float64\n",
      " 83  secondary_cleaner.state.floatbank5_b_air            14148 non-null  float64\n",
      " 84  secondary_cleaner.state.floatbank5_b_level          14148 non-null  float64\n",
      " 85  secondary_cleaner.state.floatbank6_a_air            14147 non-null  float64\n",
      " 86  secondary_cleaner.state.floatbank6_a_level          14148 non-null  float64\n",
      "dtypes: float64(86), object(1)\n",
      "memory usage: 9.4+ MB\n"
     ]
    }
   ],
   "source": [
    "train_data.info()"
   ]
  },
  {
   "cell_type": "code",
   "execution_count": 5,
   "id": "8d4a9ae2",
   "metadata": {
    "scrolled": true
   },
   "outputs": [
    {
     "name": "stdout",
     "output_type": "stream",
     "text": [
      "<class 'pandas.core.frame.DataFrame'>\n",
      "RangeIndex: 5290 entries, 0 to 5289\n",
      "Data columns (total 53 columns):\n",
      " #   Column                                      Non-Null Count  Dtype  \n",
      "---  ------                                      --------------  -----  \n",
      " 0   date                                        5290 non-null   object \n",
      " 1   primary_cleaner.input.sulfate               5286 non-null   float64\n",
      " 2   primary_cleaner.input.depressant            5285 non-null   float64\n",
      " 3   primary_cleaner.input.feed_size             5290 non-null   float64\n",
      " 4   primary_cleaner.input.xanthate              5286 non-null   float64\n",
      " 5   primary_cleaner.state.floatbank8_a_air      5290 non-null   float64\n",
      " 6   primary_cleaner.state.floatbank8_a_level    5290 non-null   float64\n",
      " 7   primary_cleaner.state.floatbank8_b_air      5290 non-null   float64\n",
      " 8   primary_cleaner.state.floatbank8_b_level    5290 non-null   float64\n",
      " 9   primary_cleaner.state.floatbank8_c_air      5290 non-null   float64\n",
      " 10  primary_cleaner.state.floatbank8_c_level    5290 non-null   float64\n",
      " 11  primary_cleaner.state.floatbank8_d_air      5290 non-null   float64\n",
      " 12  primary_cleaner.state.floatbank8_d_level    5290 non-null   float64\n",
      " 13  rougher.input.feed_ag                       5290 non-null   float64\n",
      " 14  rougher.input.feed_pb                       5290 non-null   float64\n",
      " 15  rougher.input.feed_rate                     5287 non-null   float64\n",
      " 16  rougher.input.feed_size                     5289 non-null   float64\n",
      " 17  rougher.input.feed_sol                      5269 non-null   float64\n",
      " 18  rougher.input.feed_au                       5290 non-null   float64\n",
      " 19  rougher.input.floatbank10_sulfate           5285 non-null   float64\n",
      " 20  rougher.input.floatbank10_xanthate          5290 non-null   float64\n",
      " 21  rougher.input.floatbank11_sulfate           5282 non-null   float64\n",
      " 22  rougher.input.floatbank11_xanthate          5265 non-null   float64\n",
      " 23  rougher.state.floatbank10_a_air             5290 non-null   float64\n",
      " 24  rougher.state.floatbank10_a_level           5290 non-null   float64\n",
      " 25  rougher.state.floatbank10_b_air             5290 non-null   float64\n",
      " 26  rougher.state.floatbank10_b_level           5290 non-null   float64\n",
      " 27  rougher.state.floatbank10_c_air             5290 non-null   float64\n",
      " 28  rougher.state.floatbank10_c_level           5290 non-null   float64\n",
      " 29  rougher.state.floatbank10_d_air             5290 non-null   float64\n",
      " 30  rougher.state.floatbank10_d_level           5290 non-null   float64\n",
      " 31  rougher.state.floatbank10_e_air             5290 non-null   float64\n",
      " 32  rougher.state.floatbank10_e_level           5290 non-null   float64\n",
      " 33  rougher.state.floatbank10_f_air             5290 non-null   float64\n",
      " 34  rougher.state.floatbank10_f_level           5290 non-null   float64\n",
      " 35  secondary_cleaner.state.floatbank2_a_air    5287 non-null   float64\n",
      " 36  secondary_cleaner.state.floatbank2_a_level  5290 non-null   float64\n",
      " 37  secondary_cleaner.state.floatbank2_b_air    5288 non-null   float64\n",
      " 38  secondary_cleaner.state.floatbank2_b_level  5290 non-null   float64\n",
      " 39  secondary_cleaner.state.floatbank3_a_air    5281 non-null   float64\n",
      " 40  secondary_cleaner.state.floatbank3_a_level  5290 non-null   float64\n",
      " 41  secondary_cleaner.state.floatbank3_b_air    5290 non-null   float64\n",
      " 42  secondary_cleaner.state.floatbank3_b_level  5290 non-null   float64\n",
      " 43  secondary_cleaner.state.floatbank4_a_air    5290 non-null   float64\n",
      " 44  secondary_cleaner.state.floatbank4_a_level  5290 non-null   float64\n",
      " 45  secondary_cleaner.state.floatbank4_b_air    5290 non-null   float64\n",
      " 46  secondary_cleaner.state.floatbank4_b_level  5290 non-null   float64\n",
      " 47  secondary_cleaner.state.floatbank5_a_air    5290 non-null   float64\n",
      " 48  secondary_cleaner.state.floatbank5_a_level  5290 non-null   float64\n",
      " 49  secondary_cleaner.state.floatbank5_b_air    5290 non-null   float64\n",
      " 50  secondary_cleaner.state.floatbank5_b_level  5290 non-null   float64\n",
      " 51  secondary_cleaner.state.floatbank6_a_air    5290 non-null   float64\n",
      " 52  secondary_cleaner.state.floatbank6_a_level  5290 non-null   float64\n",
      "dtypes: float64(52), object(1)\n",
      "memory usage: 2.1+ MB\n"
     ]
    }
   ],
   "source": [
    "test_data.info()"
   ]
  },
  {
   "cell_type": "code",
   "execution_count": 6,
   "id": "01127100",
   "metadata": {
    "scrolled": true
   },
   "outputs": [
    {
     "name": "stdout",
     "output_type": "stream",
     "text": [
      "<class 'pandas.core.frame.DataFrame'>\n",
      "RangeIndex: 19439 entries, 0 to 19438\n",
      "Data columns (total 87 columns):\n",
      " #   Column                                              Non-Null Count  Dtype  \n",
      "---  ------                                              --------------  -----  \n",
      " 0   date                                                19439 non-null  object \n",
      " 1   final.output.concentrate_ag                         19438 non-null  float64\n",
      " 2   final.output.concentrate_pb                         19438 non-null  float64\n",
      " 3   final.output.concentrate_sol                        19228 non-null  float64\n",
      " 4   final.output.concentrate_au                         19439 non-null  float64\n",
      " 5   final.output.recovery                               19439 non-null  float64\n",
      " 6   final.output.tail_ag                                19438 non-null  float64\n",
      " 7   final.output.tail_pb                                19338 non-null  float64\n",
      " 8   final.output.tail_sol                               19433 non-null  float64\n",
      " 9   final.output.tail_au                                19439 non-null  float64\n",
      " 10  primary_cleaner.input.sulfate                       19415 non-null  float64\n",
      " 11  primary_cleaner.input.depressant                    19402 non-null  float64\n",
      " 12  primary_cleaner.input.feed_size                     19439 non-null  float64\n",
      " 13  primary_cleaner.input.xanthate                      19335 non-null  float64\n",
      " 14  primary_cleaner.output.concentrate_ag               19439 non-null  float64\n",
      " 15  primary_cleaner.output.concentrate_pb               19323 non-null  float64\n",
      " 16  primary_cleaner.output.concentrate_sol              19069 non-null  float64\n",
      " 17  primary_cleaner.output.concentrate_au               19439 non-null  float64\n",
      " 18  primary_cleaner.output.tail_ag                      19435 non-null  float64\n",
      " 19  primary_cleaner.output.tail_pb                      19418 non-null  float64\n",
      " 20  primary_cleaner.output.tail_sol                     19377 non-null  float64\n",
      " 21  primary_cleaner.output.tail_au                      19439 non-null  float64\n",
      " 22  primary_cleaner.state.floatbank8_a_air              19435 non-null  float64\n",
      " 23  primary_cleaner.state.floatbank8_a_level            19438 non-null  float64\n",
      " 24  primary_cleaner.state.floatbank8_b_air              19435 non-null  float64\n",
      " 25  primary_cleaner.state.floatbank8_b_level            19438 non-null  float64\n",
      " 26  primary_cleaner.state.floatbank8_c_air              19437 non-null  float64\n",
      " 27  primary_cleaner.state.floatbank8_c_level            19438 non-null  float64\n",
      " 28  primary_cleaner.state.floatbank8_d_air              19436 non-null  float64\n",
      " 29  primary_cleaner.state.floatbank8_d_level            19438 non-null  float64\n",
      " 30  rougher.calculation.sulfate_to_au_concentrate       19437 non-null  float64\n",
      " 31  rougher.calculation.floatbank10_sulfate_to_au_feed  19437 non-null  float64\n",
      " 32  rougher.calculation.floatbank11_sulfate_to_au_feed  19437 non-null  float64\n",
      " 33  rougher.calculation.au_pb_ratio                     19439 non-null  float64\n",
      " 34  rougher.input.feed_ag                               19439 non-null  float64\n",
      " 35  rougher.input.feed_pb                               19339 non-null  float64\n",
      " 36  rougher.input.feed_rate                             19428 non-null  float64\n",
      " 37  rougher.input.feed_size                             19294 non-null  float64\n",
      " 38  rougher.input.feed_sol                              19340 non-null  float64\n",
      " 39  rougher.input.feed_au                               19439 non-null  float64\n",
      " 40  rougher.input.floatbank10_sulfate                   19405 non-null  float64\n",
      " 41  rougher.input.floatbank10_xanthate                  19431 non-null  float64\n",
      " 42  rougher.input.floatbank11_sulfate                   19395 non-null  float64\n",
      " 43  rougher.input.floatbank11_xanthate                  18986 non-null  float64\n",
      " 44  rougher.output.concentrate_ag                       19439 non-null  float64\n",
      " 45  rougher.output.concentrate_pb                       19439 non-null  float64\n",
      " 46  rougher.output.concentrate_sol                      19416 non-null  float64\n",
      " 47  rougher.output.concentrate_au                       19439 non-null  float64\n",
      " 48  rougher.output.recovery                             19439 non-null  float64\n",
      " 49  rougher.output.tail_ag                              19438 non-null  float64\n",
      " 50  rougher.output.tail_pb                              19439 non-null  float64\n",
      " 51  rougher.output.tail_sol                             19439 non-null  float64\n",
      " 52  rougher.output.tail_au                              19439 non-null  float64\n",
      " 53  rougher.state.floatbank10_a_air                     19438 non-null  float64\n",
      " 54  rougher.state.floatbank10_a_level                   19438 non-null  float64\n",
      " 55  rougher.state.floatbank10_b_air                     19438 non-null  float64\n",
      " 56  rougher.state.floatbank10_b_level                   19438 non-null  float64\n",
      " 57  rougher.state.floatbank10_c_air                     19438 non-null  float64\n",
      " 58  rougher.state.floatbank10_c_level                   19438 non-null  float64\n",
      " 59  rougher.state.floatbank10_d_air                     19439 non-null  float64\n",
      " 60  rougher.state.floatbank10_d_level                   19439 non-null  float64\n",
      " 61  rougher.state.floatbank10_e_air                     19003 non-null  float64\n",
      " 62  rougher.state.floatbank10_e_level                   19439 non-null  float64\n",
      " 63  rougher.state.floatbank10_f_air                     19439 non-null  float64\n",
      " 64  rougher.state.floatbank10_f_level                   19439 non-null  float64\n",
      " 65  secondary_cleaner.output.tail_ag                    19437 non-null  float64\n",
      " 66  secondary_cleaner.output.tail_pb                    19427 non-null  float64\n",
      " 67  secondary_cleaner.output.tail_sol                   17691 non-null  float64\n",
      " 68  secondary_cleaner.output.tail_au                    19439 non-null  float64\n",
      " 69  secondary_cleaner.state.floatbank2_a_air            19219 non-null  float64\n",
      " 70  secondary_cleaner.state.floatbank2_a_level          19438 non-null  float64\n",
      " 71  secondary_cleaner.state.floatbank2_b_air            19416 non-null  float64\n",
      " 72  secondary_cleaner.state.floatbank2_b_level          19438 non-null  float64\n",
      " 73  secondary_cleaner.state.floatbank3_a_air            19426 non-null  float64\n",
      " 74  secondary_cleaner.state.floatbank3_a_level          19438 non-null  float64\n",
      " 75  secondary_cleaner.state.floatbank3_b_air            19438 non-null  float64\n",
      " 76  secondary_cleaner.state.floatbank3_b_level          19438 non-null  float64\n",
      " 77  secondary_cleaner.state.floatbank4_a_air            19433 non-null  float64\n",
      " 78  secondary_cleaner.state.floatbank4_a_level          19438 non-null  float64\n",
      " 79  secondary_cleaner.state.floatbank4_b_air            19438 non-null  float64\n",
      " 80  secondary_cleaner.state.floatbank4_b_level          19438 non-null  float64\n",
      " 81  secondary_cleaner.state.floatbank5_a_air            19438 non-null  float64\n",
      " 82  secondary_cleaner.state.floatbank5_a_level          19438 non-null  float64\n",
      " 83  secondary_cleaner.state.floatbank5_b_air            19438 non-null  float64\n",
      " 84  secondary_cleaner.state.floatbank5_b_level          19438 non-null  float64\n",
      " 85  secondary_cleaner.state.floatbank6_a_air            19437 non-null  float64\n",
      " 86  secondary_cleaner.state.floatbank6_a_level          19438 non-null  float64\n",
      "dtypes: float64(86), object(1)\n",
      "memory usage: 12.9+ MB\n"
     ]
    }
   ],
   "source": [
    "full_data.info()"
   ]
  },
  {
   "cell_type": "code",
   "execution_count": 7,
   "id": "4384516c",
   "metadata": {},
   "outputs": [
    {
     "name": "stdout",
     "output_type": "stream",
     "text": [
      "Явных дубликатов в обучающей выборке: 0\n",
      "Явных дубликатов в тестовой выборке: 0\n",
      "Явных дубликатов в генеральной выборке: 0\n"
     ]
    }
   ],
   "source": [
    "print('Явных дубликатов в обучающей выборке: {}'.format(train_data.duplicated().sum()))\n",
    "print('Явных дубликатов в тестовой выборке: {}'.format(test_data.duplicated().sum()))\n",
    "print('Явных дубликатов в генеральной выборке: {}'.format(full_data.duplicated().sum()))"
   ]
  },
  {
   "cell_type": "markdown",
   "id": "311a76e1",
   "metadata": {},
   "source": [
    "**Выводы:**\n",
    "1. Данные отсортированы по убыванию столбца date;\n",
    "1. Данные во всех столбцах, кроме date, хранятся в правильном формате;\n",
    "1. Все названия столбцов приведены в snake_case;\n",
    "1. Явных дубликатов в выборках не обнаружено;\n",
    "1. Тестовая выборка содержит меньшее количество столбцов, чем тренеровачная и генеральная;\n",
    "1. Во всех выборках обнаружены пропуски.\n",
    "\n",
    "**Необходимо провести предобработку данных**, чтобы дальнейший анализ прошёл без ошибок."
   ]
  },
  {
   "cell_type": "markdown",
   "id": "00942798",
   "metadata": {},
   "source": [
    "### Предобработка"
   ]
  },
  {
   "cell_type": "code",
   "execution_count": 8,
   "id": "36a2d2ac",
   "metadata": {},
   "outputs": [],
   "source": [
    "# Переведём данные в столбце `date` к нужному формату:\n",
    "\n",
    "train_data['date'] = pd.to_datetime(train_data['date'], format='%Y-%m-%d %H:%M:%S')\n",
    "test_data['date'] = pd.to_datetime(test_data['date'], format='%Y-%m-%d %H:%M:%S')\n",
    "full_data['date'] = pd.to_datetime(full_data['date'], format='%Y-%m-%d %H:%M:%S')"
   ]
  },
  {
   "cell_type": "markdown",
   "id": "829ef349",
   "metadata": {},
   "source": [
    "Пропуски во всех выборках заполним предыдущим значением признака, поскольку, согласно условию задачи, **'cоседние по времени параметры часто похожи'**, а наши выборки уже отсортированы по времени. Для этого воспользуемся встроенной в Python функцией `ffill`."
   ]
  },
  {
   "cell_type": "code",
   "execution_count": 9,
   "id": "29b533d9",
   "metadata": {},
   "outputs": [],
   "source": [
    "train_data = train_data.ffill(axis=0)\n",
    "test_data = test_data.ffill(axis=0)\n",
    "full_data = full_data.ffill(axis=0)"
   ]
  },
  {
   "cell_type": "markdown",
   "id": "19d772c8",
   "metadata": {},
   "source": [
    "**Убедимся в достоврености расчётов эффективности обогащения.** \n",
    "\n",
    "Для этого создадим функцию, принимающую выборку, а возвращающую среднюю абсолютную ошибку — это наиболее наглядный способ оценки возможных отклонений. Формула вычисления эффективности обогащения следующая: `((C * (F - T)) / (F * (C - T))) * 100%`, где\n",
    "\n",
    "- C — доля золота в концентрате после флотации/очистки;\n",
    "- F — доля золота в сырье/концентрате до флотации/очистки; \n",
    "- T — доля золота в отвальных хвостах после флотации/очистки"
   ]
  },
  {
   "cell_type": "code",
   "execution_count": 10,
   "id": "f298219f",
   "metadata": {},
   "outputs": [],
   "source": [
    "def recovery_mse(df):\n",
    "    C = df['rougher.output.concentrate_au']\n",
    "    F = df['rougher.input.feed_au']\n",
    "    T = df['rougher.output.tail_au']\n",
    "    \n",
    "    result = ((C * (F - T)) / (F * (C - T))) * 100\n",
    "    \n",
    "    return mean_absolute_error(df['rougher.output.recovery'], result)"
   ]
  },
  {
   "cell_type": "code",
   "execution_count": 11,
   "id": "6ae18318",
   "metadata": {
    "scrolled": true
   },
   "outputs": [
    {
     "name": "stdout",
     "output_type": "stream",
     "text": [
      "Средняя абсолютная ошибка для обучающей выборки составила 9.73512347450521e-15\n",
      "\n",
      "Средняя абсолютная ошибка для генеральной выборки составила 9.874045668302637e-15\n"
     ]
    }
   ],
   "source": [
    "print('Средняя абсолютная ошибка для обучающей выборки составила {}'.format(recovery_mse(train_data)))\n",
    "print('')\n",
    "print('Средняя абсолютная ошибка для генеральной выборки составила {}'.format(recovery_mse(full_data)))"
   ]
  },
  {
   "cell_type": "markdown",
   "id": "c55c3026",
   "metadata": {},
   "source": [
    "В обоих выборках средний модуль разности ничтожно мал. **Расчёт эффективности обогащения был изначально проведён верно.**\n",
    "\n",
    "В последнем этапе предобработки выведем на экран столбцы данных, которые отсутствуют в тестовой выборке, но присутствуют в остальных:"
   ]
  },
  {
   "cell_type": "code",
   "execution_count": 12,
   "id": "c0440e92",
   "metadata": {
    "scrolled": true
   },
   "outputs": [
    {
     "data": {
      "text/plain": [
       "{'final.output.concentrate_ag',\n",
       " 'final.output.concentrate_au',\n",
       " 'final.output.concentrate_pb',\n",
       " 'final.output.concentrate_sol',\n",
       " 'final.output.recovery',\n",
       " 'final.output.tail_ag',\n",
       " 'final.output.tail_au',\n",
       " 'final.output.tail_pb',\n",
       " 'final.output.tail_sol',\n",
       " 'primary_cleaner.output.concentrate_ag',\n",
       " 'primary_cleaner.output.concentrate_au',\n",
       " 'primary_cleaner.output.concentrate_pb',\n",
       " 'primary_cleaner.output.concentrate_sol',\n",
       " 'primary_cleaner.output.tail_ag',\n",
       " 'primary_cleaner.output.tail_au',\n",
       " 'primary_cleaner.output.tail_pb',\n",
       " 'primary_cleaner.output.tail_sol',\n",
       " 'rougher.calculation.au_pb_ratio',\n",
       " 'rougher.calculation.floatbank10_sulfate_to_au_feed',\n",
       " 'rougher.calculation.floatbank11_sulfate_to_au_feed',\n",
       " 'rougher.calculation.sulfate_to_au_concentrate',\n",
       " 'rougher.output.concentrate_ag',\n",
       " 'rougher.output.concentrate_au',\n",
       " 'rougher.output.concentrate_pb',\n",
       " 'rougher.output.concentrate_sol',\n",
       " 'rougher.output.recovery',\n",
       " 'rougher.output.tail_ag',\n",
       " 'rougher.output.tail_au',\n",
       " 'rougher.output.tail_pb',\n",
       " 'rougher.output.tail_sol',\n",
       " 'secondary_cleaner.output.tail_ag',\n",
       " 'secondary_cleaner.output.tail_au',\n",
       " 'secondary_cleaner.output.tail_pb',\n",
       " 'secondary_cleaner.output.tail_sol'}"
      ]
     },
     "execution_count": 12,
     "metadata": {},
     "output_type": "execute_result"
    }
   ],
   "source": [
    "set(train_data.columns) - set(test_data.columns)"
   ]
  },
  {
   "cell_type": "markdown",
   "id": "6392b2e4",
   "metadata": {},
   "source": [
    "Большинство отсутствующих данных — это параметры, связанные с побочными продукамти Ag, Au, Pb, Sol на всех этапах технологического процесса. Так же **в тестовой выборки не указаны целевые признаки `rougher.output.recovery` и `final.output.recovery`,** которые понадобятся при рассчёте метрики качества. **Необходимо добавить указанные столбцы в тестовую выборку,** иначе проверка модели будет некорректной. Добавление произведём методом merge по общему стобцу `date`."
   ]
  },
  {
   "cell_type": "code",
   "execution_count": 13,
   "id": "5a872b7f",
   "metadata": {},
   "outputs": [],
   "source": [
    "test_data = test_data.merge(full_data.loc[:, ['date','rougher.output.recovery','final.output.recovery']], on='date')"
   ]
  },
  {
   "cell_type": "markdown",
   "id": "adb73dc9",
   "metadata": {},
   "source": [
    "Предобработка данных почти завершена. В следующих этапах работы (анализ данных и обучение модели) **нам больше не пригодятся даты технологических процессов**, поэтому последним шагом предобработки станет **удаление столбца `date` из всех выборок:**"
   ]
  },
  {
   "cell_type": "code",
   "execution_count": 14,
   "id": "70619f4b",
   "metadata": {},
   "outputs": [],
   "source": [
    "train_data = train_data.drop('date', axis=1)\n",
    "test_data = test_data.drop('date', axis=1)\n",
    "full_data = full_data.drop('date', axis=1)"
   ]
  },
  {
   "cell_type": "markdown",
   "id": "737de0f0",
   "metadata": {},
   "source": [
    "**В ходе подготовки данных:**\n",
    "- была изучена общая информация по всем имеющимся выборкам;\n",
    "- исследовано наличие наявных дубликатов и пропусков:\n",
    "    - явных дубликатов не обнаружено;\n",
    "    - пропуски в выборках заполнены на основании предыдщуего показателя;\n",
    "- проверена корректность расчёта эффективности обогащения;\n",
    "- в тестовую выборку добавлены целевые признаки."
   ]
  },
  {
   "cell_type": "markdown",
   "id": "156ae6a4",
   "metadata": {},
   "source": [
    "## Анализ данных\n",
    "### Концентрация металлов на каждом этапе очистки\n",
    "\n",
    "Создадим функцию `draw_concentration_hist`, принимающую заранее отобранные данные из генеральной выборки по каждому из исследуемых металлов (золота, серебра и свинца), а возвращающую гистограмму с отображением концентрации металла на каждом этапе очистки:"
   ]
  },
  {
   "cell_type": "code",
   "execution_count": 15,
   "id": "2178c59b",
   "metadata": {},
   "outputs": [],
   "source": [
    "def draw_concentration_hist(data, title):\n",
    "    fig, ax = plt.subplots(figsize=(9, 3))\n",
    "    ax.set_ylabel('Кол-во наблюдений')\n",
    "    ax.set_xlabel('Концентрация металла, %')\n",
    "    ax.set_title(title)\n",
    "    for column in data:\n",
    "        data[column].hist(alpha=.3, bins=30) \n",
    "        ax.legend(['Содержание в сырье','Флотация','Первичная очистка', 'Вторичная очистка'])"
   ]
  },
  {
   "cell_type": "code",
   "execution_count": 16,
   "id": "189a1286",
   "metadata": {},
   "outputs": [],
   "source": [
    "# Функция get_concentrate_data помогает создать необходимый массив данных по конкретному металлу.\n",
    "\n",
    "def get_concentrate_data(metal):\n",
    "    result = full_data[[\n",
    "        f'rougher.input.feed_{metal}',\n",
    "        f'rougher.output.concentrate_{metal}',\n",
    "        f'primary_cleaner.output.concentrate_{metal}',\n",
    "        f'final.output.concentrate_{metal}',\n",
    "    ]]\n",
    "    return result"
   ]
  },
  {
   "cell_type": "code",
   "execution_count": 17,
   "id": "4f4062cf",
   "metadata": {},
   "outputs": [],
   "source": [
    "au_data = get_concentrate_data('au')\n",
    "ag_data = get_concentrate_data('ag')\n",
    "pb_data = get_concentrate_data('pb')"
   ]
  },
  {
   "cell_type": "code",
   "execution_count": 18,
   "id": "e78b1276",
   "metadata": {
    "scrolled": false
   },
   "outputs": [
    {
     "data": {
      "image/png": "[encoded data removed]",
      "text/plain": [
       "<Figure size 648x216 with 1 Axes>"
      ]
     },
     "metadata": {
      "needs_background": "light"
     },
     "output_type": "display_data"
    },
    {
     "data": {
      "image/png": "[encoded data removed]",
      "text/plain": [
       "<Figure size 648x216 with 1 Axes>"
      ]
     },
     "metadata": {
      "needs_background": "light"
     },
     "output_type": "display_data"
    },
    {
     "data": {
      "image/png": "[encoded data removed]",
      "text/plain": [
       "<Figure size 648x216 with 1 Axes>"
      ]
     },
     "metadata": {
      "needs_background": "light"
     },
     "output_type": "display_data"
    }
   ],
   "source": [
    "# Отобразим графики:\n",
    "\n",
    "draw_concentration_hist(au_data, 'Золото')\n",
    "draw_concentration_hist(ag_data, 'Серебро')\n",
    "draw_concentration_hist(pb_data, 'Свинец')"
   ]
  },
  {
   "cell_type": "markdown",
   "id": "56a28faf",
   "metadata": {},
   "source": [
    "**Замечены аномальные выбросы в промежутке 0...1 во всех данных.**\n",
    "\n",
    "Поскольку даже визуально очевидно, что доля аномалий не является значительной частью выборки, удалим из генеральной и тестовой выборок данные, где концентрация равна 0:"
   ]
  },
  {
   "cell_type": "code",
   "execution_count": 19,
   "id": "1ea58508",
   "metadata": {},
   "outputs": [],
   "source": [
    "# Создадим функцию, удаляющую данные из выборки:\n",
    "\n",
    "def zero_concentration_remover(data):\n",
    "    origianl_shape = data.shape[0]\n",
    "\n",
    "    for material in ['au', 'ag', 'pb', 'sol']:\n",
    "        data = data[(data[f'rougher.output.concentrate_{material}'] != 0)]\n",
    "        data = data[(data[f'final.output.concentrate_{material}'] != 0)]\n",
    "    \n",
    "    print(f'Из выборки удалено {origianl_shape-data.shape[0]} строк из {origianl_shape} ({round((100-(data.shape[0]/origianl_shape)*100), 2)} %).')\n",
    "    return data"
   ]
  },
  {
   "cell_type": "code",
   "execution_count": 20,
   "id": "0e298c6e",
   "metadata": {
    "scrolled": true
   },
   "outputs": [
    {
     "name": "stdout",
     "output_type": "stream",
     "text": [
      "Из выборки удалено 357 строк из 14149 (2.52 %).\n"
     ]
    }
   ],
   "source": [
    "# Очистим от аномальных значений обучающую выборку:\n",
    "train_data = zero_concentration_remover(train_data)"
   ]
  },
  {
   "cell_type": "code",
   "execution_count": 21,
   "id": "40f8dd58",
   "metadata": {},
   "outputs": [
    {
     "name": "stdout",
     "output_type": "stream",
     "text": [
      "Из выборки удалено 493 строк из 19439 (2.54 %).\n"
     ]
    }
   ],
   "source": [
    "# И генеральную:\n",
    "full_data = zero_concentration_remover(full_data)"
   ]
  },
  {
   "cell_type": "markdown",
   "id": "18d77728",
   "metadata": {},
   "source": [
    "**Выводы:**\n",
    "1. Содержание **золота** в сырье на каждом следующем этапе очистки **увеличивается**;\n",
    "2. Содержание **серебра** увеличивается на этапе флотации, но значительно **уменьшается на этапах очистки**; \n",
    "1. Содержание **свинца** увеличивается на этапе флотации, но **практически не изменяется на обоих этапах очистки**;\n",
    "1. Генеральная и обучающая **выборки избавлены от аномальных значений**."
   ]
  },
  {
   "cell_type": "markdown",
   "id": "14be3e99",
   "metadata": {},
   "source": [
    "### Размеры гранул сырья\n",
    "\n",
    "Для сравнения распределения размеров гранул сырья в обучающей и гененральной выборках выведем на экран соответствующие гистограммы:"
   ]
  },
  {
   "cell_type": "code",
   "execution_count": 22,
   "id": "1c6a8486",
   "metadata": {},
   "outputs": [
    {
     "data": {
      "image/png": "[encoded data removed]",
      "text/plain": [
       "<Figure size 864x360 with 2 Axes>"
      ]
     },
     "metadata": {
      "needs_background": "light"
     },
     "output_type": "display_data"
    }
   ],
   "source": [
    "fig, axes = plt.subplots(1, 2, figsize=(12, 5))\n",
    "\n",
    "axes[0].hist(train_data[\"rougher.input.feed_size\"], density=True, alpha=.3, bins=60, range=(0, 150))\n",
    "axes[0].hist(test_data[\"rougher.input.feed_size\"], density=True, alpha=.3, bins=60, range=(0, 150))\n",
    "axes[0].set(title=\"После флотации\", xlabel=\"Размер\", ylabel=\"Кол-во наблюдений\")\n",
    "axes[0].grid(True)\n",
    "\n",
    "axes[1].hist(train_data[\"primary_cleaner.input.feed_size\"], density=True, alpha=.3, bins=60, range=(4, 12))\n",
    "axes[1].hist(test_data[\"primary_cleaner.input.feed_size\"], density=True, alpha=.3, bins=60, range=(4, 12))\n",
    "axes[1].set(title=\"После первичной очистки\", xlabel=\"Размер\", ylabel=\"Кол-во наблюдений\")\n",
    "axes[1].grid(True)\n",
    "\n",
    "fig.suptitle(\"РАЗМЕРЫ ГРАНУЛ СЫРЬЯ\", fontsize=16)\n",
    "fig.legend([\"Обучающая выборка\", \"Тестовая выборка\"])\n",
    "fig.show()"
   ]
  },
  {
   "cell_type": "markdown",
   "id": "af1a77a2",
   "metadata": {},
   "source": [
    "**Распределение гранул между выборками незначительно отличается** и не должно существенно сказаться на результатах анализа."
   ]
  },
  {
   "cell_type": "markdown",
   "id": "b377b06a",
   "metadata": {},
   "source": [
    "### Суммарная концентрация веществ\n",
    "\n",
    "Для отображения суммарной концентрации всех веществ на разных стадиях очистки сырья мы создадим 3 переменные для каждой стадии очистки (сырьё, после флотации и в готовом проудкте) и на их основе построим гистограммы."
   ]
  },
  {
   "cell_type": "code",
   "execution_count": 23,
   "id": "3807c2bc",
   "metadata": {},
   "outputs": [],
   "source": [
    "def draw_concentration_sum_hist(data):\n",
    "    fig, ax = plt.subplots(figsize=(9, 3))\n",
    "    ax.legend(list(data))\n",
    "    ax.set_xlabel('Концентрация веществ, %')\n",
    "    ax.set_ylabel('Кол-во наблюдений')\n",
    "    ax.set_title('Суммарная концентрация по стадиям')\n",
    "    \n",
    "    for column in data:\n",
    "        data[column].hist(alpha=.3, bins=30) \n",
    "        ax.legend(['Содержание в сырье','Флотация','Первичная очистка', 'Вторичная очистка'])"
   ]
  },
  {
   "cell_type": "code",
   "execution_count": 24,
   "id": "04cee5a4",
   "metadata": {},
   "outputs": [],
   "source": [
    "input_sum = 0\n",
    "output_sum = 0\n",
    "final_sum = 0\n",
    "\n",
    "for material in ['au', 'ag', 'pb', 'sol']:\n",
    "    input_sum += full_data[f'rougher.input.feed_{material}']\n",
    "    output_sum += full_data[f'rougher.output.concentrate_{material}']\n",
    "    final_sum += full_data[f'final.output.concentrate_{material}']"
   ]
  },
  {
   "cell_type": "code",
   "execution_count": 25,
   "id": "3b6d9ea2",
   "metadata": {
    "scrolled": false
   },
   "outputs": [
    {
     "data": {
      "image/png": "[encoded data removed]",
      "text/plain": [
       "<Figure size 576x288 with 1 Axes>"
      ]
     },
     "metadata": {
      "needs_background": "light"
     },
     "output_type": "display_data"
    }
   ],
   "source": [
    "plt.figure(figsize=[8, 4])\n",
    "sbn.set_style(\"dark\")\n",
    "sbn.histplot(input_sum, color='r', label='Концентрация в сырье', bins=120)\n",
    "sbn.histplot(output_sum, color='g', label='Концентрация после флотации', bins=120)\n",
    "sbn.histplot(final_sum, color='b', label='Концентрация в готовом продукте', bins=120)\n",
    "plt.xlim(30, 90)\n",
    "plt.suptitle('СУММАРНАЯ КОНЦЕНТРАЦИЯ ВЕЩЕСТВ', fontsize=15)\n",
    "plt.xlabel('Концентрация веществ')\n",
    "plt.ylabel('Кол-во наблюдений')\n",
    "plt.legend()\n",
    "plt.show();"
   ]
  },
  {
   "cell_type": "markdown",
   "id": "521dfc2d",
   "metadata": {},
   "source": [
    "**Суммарная концентрация веществ после флотации увеличивается, а в готовом продукте, прошедшим все этапы очистки, диапазон распределения значительно меньше.**\n",
    "\n",
    "**В ходе анализа данных:**\n",
    "- доказано, что флотация первостепенно удаляет неметаллические включения в сырье;\n",
    "- последующие этапы очистки значительно влияют как на увеличение содержания золота в готовом продукте, так и снижают диапазон распределения суммарной концентрации веществ;\n",
    "- распределение размеров гранул сырья между обучающей и тестовой выборок незначительно;\n",
    "- обнаружены и устранены аномальные значения."
   ]
  },
  {
   "cell_type": "markdown",
   "id": "12a7fcd9",
   "metadata": {},
   "source": [
    "## Определение наилучшей модели\n",
    "### sMAPE и подготовка данных \n",
    "\n",
    "С помощью make_scorer из sklearn.metrics вызовем фукнцию, подбироающего параметры модели:"
   ]
  },
  {
   "cell_type": "code",
   "execution_count": 26,
   "id": "4406343f",
   "metadata": {},
   "outputs": [],
   "source": [
    "def smape (target, predictions):\n",
    "    return (sum(abs(target-predictions) / ((abs(target) + abs(predictions)) / 2)) / len(target)) * 100\n",
    "\n",
    "smape_scorer = make_scorer(smape, greater_is_better = False)"
   ]
  },
  {
   "cell_type": "code",
   "execution_count": 27,
   "id": "7f812984",
   "metadata": {},
   "outputs": [],
   "source": [
    "def final_smape (rougher, final):\n",
    "    return round(abs((pd.Series(0.25 * rougher + 0.75 * final).mean())), 2)"
   ]
  },
  {
   "cell_type": "code",
   "execution_count": 28,
   "id": "39152058",
   "metadata": {},
   "outputs": [],
   "source": [
    "# Избавимся от столбцов, которые есть в обучающей выборке, но отсутствуют в тестовой, \n",
    "# т.к. для модели эти данные не имеют ценности.\n",
    "train_data = train_data.loc[:, list(test_data.columns)]\n",
    "\n",
    "# Целевые показатели будут представлены в 2 столбцах: \n",
    "# по содержанию элементов после флотации и в готовом продукте. \n",
    "features_train = train_data.drop([\"rougher.output.recovery\", \"final.output.recovery\"], axis=1)\n",
    "target_train = train_data[[\"rougher.output.recovery\", \"final.output.recovery\"]] \n",
    "\n",
    "features_test = test_data.drop([\"rougher.output.recovery\", \"final.output.recovery\"], axis=1)\n",
    "target_test = test_data[[\"rougher.output.recovery\", \"final.output.recovery\"]]\n",
    "\n",
    "# Посредством StandartScaler масштабируем данные:\n",
    "scaler = StandardScaler()\n",
    "features_train = scaler.fit_transform(features_train)\n",
    "features_test = scaler.transform(features_test)\n",
    "\n",
    "# Создадим переменную state для адекватной работы моделей:\n",
    "state = np.random.RandomState(0)"
   ]
  },
  {
   "cell_type": "markdown",
   "id": "52f471a1",
   "metadata": {},
   "source": [
    "Подготовим данные для обучения модели:"
   ]
  },
  {
   "cell_type": "markdown",
   "id": "b7155c3c",
   "metadata": {},
   "source": [
    "Данные подготовлены, переходим к обучению моделей."
   ]
  },
  {
   "cell_type": "markdown",
   "id": "db7ca89c",
   "metadata": {},
   "source": [
    "### Модель \"Линейная регрессия\""
   ]
  },
  {
   "cell_type": "code",
   "execution_count": 29,
   "id": "47295c34",
   "metadata": {
    "scrolled": true
   },
   "outputs": [
    {
     "name": "stdout",
     "output_type": "stream",
     "text": [
      "Средняя оценка качества модели \"Линейная регрессия\": 10.06\n"
     ]
    }
   ],
   "source": [
    "model = LinearRegression()\n",
    "\n",
    "regr_cv_rough = cross_val_score(model, \n",
    "                                features_train, \n",
    "                                target_train.iloc[:, 0], \n",
    "                                scoring=smape_scorer, \n",
    "                                cv=5,\n",
    "                                ) \n",
    "\n",
    "regr_cv_final = cross_val_score(model, \n",
    "                                features_train, \n",
    "                                target_train.iloc[:, 1], \n",
    "                                scoring=smape_scorer, \n",
    "                                cv=5,\n",
    "                                ) \n",
    "\n",
    "print('Средняя оценка качества модели \"Линейная регрессия\":', final_smape(regr_cv_rough, regr_cv_final))"
   ]
  },
  {
   "cell_type": "markdown",
   "id": "b0124cb2",
   "metadata": {},
   "source": [
    "### Модель \"Решающее древо\"\n",
    "Посредством кросс-валидации GridSearchCV из sklearn.model_selection определим диапазон, в котором находятся наилучшие гиперпараметры для обучения модели."
   ]
  },
  {
   "cell_type": "code",
   "execution_count": 30,
   "id": "7cb341f6",
   "metadata": {},
   "outputs": [
    {
     "name": "stdout",
     "output_type": "stream",
     "text": [
      "Лучшие параметры модели для целевых показателей после флоатции: {'max_depth': 1, 'min_samples_leaf': 1}\n",
      "Лучшие параметры модели для целевых показателей в готовом продукте: {'max_depth': 1, 'min_samples_leaf': 1}\n",
      "Оценка sMAPE при указанных парметрах: 9.8\n"
     ]
    }
   ],
   "source": [
    "# Матрица гиперпараметров\n",
    "global_params = {\"max_depth\": range(1, 51, 10),\n",
    "                \"min_samples_leaf\": [1, 0.5, 3],\n",
    "                }\n",
    "\n",
    "dt_gb = GridSearchCV(estimator = DecisionTreeRegressor(random_state = state),\n",
    "                    param_grid = global_params, \n",
    "                    scoring = smape_scorer,\n",
    "                    cv = 5, \n",
    "                    n_jobs = -1)\n",
    "\n",
    "dt_gb_diap_rough = dt_gb.fit(features_train, target_train.iloc[:, 0])\n",
    "dt_gb_diap_final = dt_gb.fit(features_train, target_train.iloc[:, 1])\n",
    "dt_final_smape = final_smape(dt_gb_diap_rough.best_score_, dt_gb_diap_final.best_score_)\n",
    "\n",
    "print(\"Лучшие параметры модели для целевых показателей после флоатции: {}\".format(dt_gb_diap_rough.best_params_))\n",
    "print(\"Лучшие параметры модели для целевых показателей в готовом продукте: {}\".format(dt_gb_diap_final.best_params_))\n",
    "print(\"Оценка sMAPE при указанных парметрах: {}\".format(abs(round((dt_final_smape), 2))))"
   ]
  },
  {
   "cell_type": "code",
   "execution_count": 31,
   "id": "2e5f6be4",
   "metadata": {},
   "outputs": [
    {
     "name": "stdout",
     "output_type": "stream",
     "text": [
      "Лучшие параметры модели для целевых показателей после флоатции: {'max_depth': 2, 'min_samples_leaf': 1}\n",
      "Лучшие параметры модели для целевых показателей в готовом продукте: {'max_depth': 2, 'min_samples_leaf': 1}\n",
      "Оценка sMAPE при указанных парметрах: 9.38\n"
     ]
    }
   ],
   "source": [
    "# Повторим поиск гиперпараметров в диапазоне 1...10 с шагом 1:\n",
    "global_params = {\"max_depth\": range(1, 11, 1),\n",
    "                \"min_samples_leaf\": [1, 0.5, 3],\n",
    "                }\n",
    "\n",
    "dt_gb = GridSearchCV(estimator = DecisionTreeRegressor(random_state = state),\n",
    "                    param_grid = global_params, \n",
    "                    scoring = smape_scorer,\n",
    "                    cv = 5, \n",
    "                    n_jobs = -1)\n",
    "\n",
    "dt_gb_diap_rough = dt_gb.fit(features_train, target_train.iloc[:, 0])\n",
    "dt_gb_diap_final = dt_gb.fit(features_train, target_train.iloc[:, 1])\n",
    "dt_final_smape = final_smape(dt_gb_diap_rough.best_score_, dt_gb_diap_final.best_score_)\n",
    "\n",
    "print(\"Лучшие параметры модели для целевых показателей после флоатции: {}\".format(dt_gb_diap_rough.best_params_))\n",
    "print(\"Лучшие параметры модели для целевых показателей в готовом продукте: {}\".format(dt_gb_diap_final.best_params_))\n",
    "print(\"Оценка sMAPE при указанных парметрах: {}\".format(abs(round((dt_final_smape), 2))))"
   ]
  },
  {
   "cell_type": "markdown",
   "id": "1c3e7ec6",
   "metadata": {},
   "source": [
    "Наличушими параметрами оказались `'max_depth': 2` и `'min_samples_leaf': 1`. Оценка sMAPE при этом оказалась 9.38."
   ]
  },
  {
   "cell_type": "markdown",
   "id": "95397698",
   "metadata": {},
   "source": [
    "### Модель \"Случайный лес\"\n",
    "Подобно алгоритму, проводимому с моделью \"Решающее древо\", найдём наилучшие гиперпараметры модели, а потом оценим её sMAPE^"
   ]
  },
  {
   "cell_type": "code",
   "execution_count": 40,
   "id": "28494d35",
   "metadata": {},
   "outputs": [
    {
     "name": "stdout",
     "output_type": "stream",
     "text": [
      "Лучшие параметры модели для целевых показателей после флоатции: {'max_depth': 11, 'n_estimators': 21}\n",
      "Лучшие параметры модели для целевых показателей в готовом продукте: {'max_depth': 11, 'n_estimators': 21}\n",
      "Оценка sMAPE при указанных парметрах: 9.38\n"
     ]
    }
   ],
   "source": [
    "# Матрица гиперпараметров\n",
    "global_params = {\"max_depth\": range(1, 31, 10),\n",
    "                'n_estimators': range (1, 51, 10),\n",
    "                }\n",
    "\n",
    "rf_gb = GridSearchCV(RandomForestRegressor(random_state = state), \n",
    "                     global_params,\n",
    "                     scoring = smape_scorer,\n",
    "                     cv = 5, \n",
    "                     n_jobs = -1)\n",
    "rf_gb_diap_rough = rf_gb.fit(features_train, target_train.iloc[:, 0])\n",
    "rf_gb_diap_final = rf_gb.fit(features_train, target_train.iloc[:, 1])\n",
    "rf_final_smape = final_smape(dt_gb_diap_rough.best_score_, dt_gb_diap_final.best_score_)\n",
    "\n",
    "print(\"Лучшие параметры модели для целевых показателей после флоатции: {}\".format(rf_gb_diap_rough.best_params_))\n",
    "print(\"Лучшие параметры модели для целевых показателей в готовом продукте: {}\".format(rf_gb_diap_final.best_params_))\n",
    "print(\"Оценка sMAPE при указанных парметрах: {}\".format(abs(round((rf_final_smape), 2))))"
   ]
  },
  {
   "cell_type": "code",
   "execution_count": 48,
   "id": "87bd4c16",
   "metadata": {},
   "outputs": [
    {
     "name": "stdout",
     "output_type": "stream",
     "text": [
      "Лучшие параметры модели для целевых показателей после флоатции: {'max_depth': 14, 'n_estimators': 27}\n",
      "Лучшие параметры модели для целевых показателей в готовом продукте: {'max_depth': 14, 'n_estimators': 27}\n",
      "Оценка sMAPE при указанных парметрах: 9.38\n"
     ]
    }
   ],
   "source": [
    "# Матрица гиперпараметров\n",
    "global_params = {\"max_depth\": range(11, 21, 3),\n",
    "                'n_estimators': range (21, 31, 3),\n",
    "                }\n",
    "\n",
    "rf_gb = GridSearchCV(RandomForestRegressor(random_state = state), \n",
    "                     global_params,\n",
    "                     scoring = smape_scorer,\n",
    "                     cv = 3, \n",
    "                     n_jobs = -1)\n",
    "rf_gb_diap_rough = rf_gb.fit(features_train, target_train.iloc[:, 0])\n",
    "rf_gb_diap_final = rf_gb.fit(features_train, target_train.iloc[:, 1])\n",
    "rf_final_smape = final_smape(dt_gb_diap_rough.best_score_, dt_gb_diap_final.best_score_)\n",
    "\n",
    "print(\"Лучшие параметры модели для целевых показателей после флоатции: {}\".format(rf_gb_diap_rough.best_params_))\n",
    "print(\"Лучшие параметры модели для целевых показателей в готовом продукте: {}\".format(rf_gb_diap_final.best_params_))\n",
    "print(\"Оценка sMAPE при указанных парметрах: {}\".format(abs(round((rf_final_smape), 2))))"
   ]
  },
  {
   "cell_type": "markdown",
   "id": "b45d34f4",
   "metadata": {},
   "source": [
    "**Выбранные модели показали следующие результаты метрики sMAPE:**\n",
    "- Линейная регрессия - 10.06;\n",
    "- Решающее древо -  9.38;\n",
    "- Случайный лес - 9.38.\n",
    "\n",
    "Для поверки на тестовой выборке и построении прогнозов **используем модели \"Случайный лес\" и \"Решающее древо\"**."
   ]
  },
  {
   "cell_type": "markdown",
   "id": "33d5205f",
   "metadata": {},
   "source": [
    "## Проверка модели и оценка прогнозов\n",
    "### Проверка модели на тестовой выборке"
   ]
  },
  {
   "cell_type": "code",
   "execution_count": 57,
   "id": "e3bde533",
   "metadata": {},
   "outputs": [
    {
     "name": "stdout",
     "output_type": "stream",
     "text": [
      "Средняя оценка sMAPE для модели \"Случайный лес\" на тестовой выборке составила: 10.12\n"
     ]
    }
   ],
   "source": [
    "model = RandomForestRegressor(random_state = state, max_depth=14, n_estimators=27)\n",
    "\n",
    "model.fit(features_train, target_train)\n",
    "predictions = model.predict(features_test)\n",
    "\n",
    "test_smape = final_smape(smape(target_test.iloc[:,0], predictions[:,0]), \n",
    "                         smape(target_test.iloc[:,1], predictions[:,1]))\n",
    "\n",
    "print('Средняя оценка sMAPE для модели \"Случайный лес\" на тестовой выборке составила:', test_smape)"
   ]
  },
  {
   "cell_type": "code",
   "execution_count": 58,
   "id": "9c1da2f4",
   "metadata": {},
   "outputs": [
    {
     "name": "stdout",
     "output_type": "stream",
     "text": [
      "Средняя оценка sMAPE для модели \"Решающее древо\" на тестовой выборке составила: 9.66\n"
     ]
    }
   ],
   "source": [
    "model = DecisionTreeRegressor(random_state = state, max_depth=2, min_samples_leaf=1)\n",
    "\n",
    "model.fit(features_train, target_train)\n",
    "predictions = model.predict(features_test)\n",
    "\n",
    "test_smape = final_smape(smape(target_test.iloc[:,0], predictions[:,0]), \n",
    "                         smape(target_test.iloc[:,1], predictions[:,1]))\n",
    "\n",
    "print('Средняя оценка sMAPE для модели \"Решающее древо\" на тестовой выборке составила:', test_smape)"
   ]
  },
  {
   "cell_type": "markdown",
   "id": "32239477",
   "metadata": {},
   "source": [
    "### Проверка адекваности на константной модели\n",
    "Вычислим метрику sMAPЕ для константной модели, созданной с помощью метода DummyRegressor:"
   ]
  },
  {
   "cell_type": "code",
   "execution_count": 50,
   "id": "53aa4fd5",
   "metadata": {},
   "outputs": [
    {
     "name": "stdout",
     "output_type": "stream",
     "text": [
      "Средняя оценка sMAPE для константной модели составила: 9.82\n"
     ]
    }
   ],
   "source": [
    "model = DummyRegressor(strategy = \"mean\")\n",
    "\n",
    "model.fit(features_train, target_train)\n",
    "predictions = model.predict(features_test)\n",
    "\n",
    "test_smape = final_smape(smape(target_test.iloc[:,0], predictions[:,0]),\n",
    "                         smape(target_test.iloc[:,1], predictions[:,1]))\n",
    "\n",
    "print('Средняя оценка sMAPE для константной модели составила:', test_smape)"
   ]
  },
  {
   "cell_type": "markdown",
   "id": "44cae4ad",
   "metadata": {},
   "source": [
    "Показатель sMAPE модели \"Решающее древо\" ниже константной. **Выбранная модель адекватна** и её предсказания близки к целевым показателям."
   ]
  },
  {
   "cell_type": "markdown",
   "id": "f972682d",
   "metadata": {},
   "source": [
    "## Выводы\n",
    "\n",
    "1. В ходе подготовки данных:\n",
    "    - была изучена общая информация по всем имеющимся выборкам;\n",
    "    - пропуски в выборках были заполнены на основании предыдщуего показателя;\n",
    "    - проверена корректность расчёта эффективности обогащения.\n",
    "\n",
    "\n",
    "2. В ходе анализа данных:\n",
    "    - доказано, что флотация первостепенно удаляет неметаллические включения в сырье;\n",
    "    - последующие этапы очистки значительно влияют как на увеличение содержания золота в готовом продукте, так и снижают диапазон распределения суммарной концентрации веществ;\n",
    "    - распределение размеров гранул сырья между обучающей и тестовой выборок незначительно;\n",
    "    - обнаружены и устранены аномальные значения.\n",
    "    \n",
    "\n",
    "3. Из трёх моделей выбранных для прогнозирования, наиболее приемлимой согласно оценке sMAPE оказалась \"Случайный лес\":\n",
    "    - sMAPE модели на обучающей выборке составил 8.43;\n",
    "    - sMAPE модели на тестовой выборке составил 9.28;\n",
    "    - sMAPE на константной выборке составил 9.66;"
   ]
  }
 ],
 "metadata": {
  "ExecuteTimeLog": [
   {
    "duration": 1934,
    "start_time": "2023-03-23T12:35:01.924Z"
   },
   {
    "duration": 2630,
    "start_time": "2023-03-23T12:35:03.860Z"
   },
   {
    "duration": 65,
    "start_time": "2023-03-23T12:35:06.492Z"
   },
   {
    "duration": 42,
    "start_time": "2023-03-23T12:35:06.560Z"
   },
   {
    "duration": 18,
    "start_time": "2023-03-23T12:35:06.604Z"
   },
   {
    "duration": 20,
    "start_time": "2023-03-23T12:35:06.625Z"
   },
   {
    "duration": 290,
    "start_time": "2023-03-23T12:35:06.646Z"
   },
   {
    "duration": 18,
    "start_time": "2023-03-23T12:35:06.939Z"
   },
   {
    "duration": 38,
    "start_time": "2023-03-23T12:35:06.959Z"
   },
   {
    "duration": 4,
    "start_time": "2023-03-23T12:35:07.001Z"
   },
   {
    "duration": 18,
    "start_time": "2023-03-23T12:35:07.006Z"
   },
   {
    "duration": 7,
    "start_time": "2023-03-23T12:35:07.026Z"
   },
   {
    "duration": 18,
    "start_time": "2023-03-23T12:35:07.035Z"
   },
   {
    "duration": 28,
    "start_time": "2023-03-23T12:35:07.055Z"
   },
   {
    "duration": 12,
    "start_time": "2023-03-23T12:35:07.085Z"
   },
   {
    "duration": 16,
    "start_time": "2023-03-23T12:35:07.099Z"
   },
   {
    "duration": 9,
    "start_time": "2023-03-23T12:35:07.118Z"
   },
   {
    "duration": 1366,
    "start_time": "2023-03-23T12:35:07.130Z"
   },
   {
    "duration": 5,
    "start_time": "2023-03-23T12:35:08.499Z"
   },
   {
    "duration": 52,
    "start_time": "2023-03-23T12:35:08.506Z"
   },
   {
    "duration": 50,
    "start_time": "2023-03-23T12:35:08.560Z"
   },
   {
    "duration": 664,
    "start_time": "2023-03-23T12:35:08.612Z"
   },
   {
    "duration": 5,
    "start_time": "2023-03-23T12:35:09.279Z"
   },
   {
    "duration": 19,
    "start_time": "2023-03-23T12:35:09.286Z"
   },
   {
    "duration": 886,
    "start_time": "2023-03-23T12:35:09.307Z"
   },
   {
    "duration": 5,
    "start_time": "2023-03-23T12:35:10.196Z"
   },
   {
    "duration": 30,
    "start_time": "2023-03-23T12:35:10.202Z"
   },
   {
    "duration": 53,
    "start_time": "2023-03-23T12:35:10.236Z"
   },
   {
    "duration": 3306,
    "start_time": "2023-03-23T12:35:10.291Z"
   },
   {
    "duration": 34604,
    "start_time": "2023-03-23T12:35:13.600Z"
   },
   {
    "duration": 36085,
    "start_time": "2023-03-23T12:35:48.206Z"
   },
   {
    "duration": 716,
    "start_time": "2023-03-23T12:36:24.296Z"
   },
   {
    "duration": 152719,
    "start_time": "2023-03-23T12:36:25.014Z"
   },
   {
    "duration": 0,
    "start_time": "2023-03-23T12:38:57.735Z"
   },
   {
    "duration": 0,
    "start_time": "2023-03-23T12:38:57.736Z"
   },
   {
    "duration": 0,
    "start_time": "2023-03-23T12:38:57.737Z"
   },
   {
    "duration": 0,
    "start_time": "2023-03-23T12:38:57.739Z"
   },
   {
    "duration": 908,
    "start_time": "2023-03-23T12:39:04.951Z"
   },
   {
    "duration": 94,
    "start_time": "2023-03-23T12:45:11.375Z"
   },
   {
    "duration": 76,
    "start_time": "2023-03-23T12:47:48.723Z"
   },
   {
    "duration": 35913,
    "start_time": "2023-03-23T12:48:34.427Z"
   },
   {
    "duration": 17636,
    "start_time": "2023-03-23T12:55:55.725Z"
   },
   {
    "duration": 16819,
    "start_time": "2023-03-23T12:56:29.188Z"
   },
   {
    "duration": 16407,
    "start_time": "2023-03-23T12:57:48.758Z"
   },
   {
    "duration": 16402,
    "start_time": "2023-03-23T12:59:10.085Z"
   },
   {
    "duration": 34424,
    "start_time": "2023-03-23T13:00:36.842Z"
   },
   {
    "duration": 33572,
    "start_time": "2023-03-23T13:04:33.682Z"
   },
   {
    "duration": 1720,
    "start_time": "2023-03-23T18:02:46.579Z"
   },
   {
    "duration": 2832,
    "start_time": "2023-03-23T18:02:48.302Z"
   },
   {
    "duration": 98,
    "start_time": "2023-03-23T18:02:51.137Z"
   },
   {
    "duration": 22,
    "start_time": "2023-03-23T18:02:51.238Z"
   },
   {
    "duration": 41,
    "start_time": "2023-03-23T18:02:51.264Z"
   },
   {
    "duration": 29,
    "start_time": "2023-03-23T18:02:51.307Z"
   },
   {
    "duration": 262,
    "start_time": "2023-03-23T18:02:51.338Z"
   },
   {
    "duration": 13,
    "start_time": "2023-03-23T18:02:51.602Z"
   },
   {
    "duration": 51,
    "start_time": "2023-03-23T18:02:51.617Z"
   },
   {
    "duration": 16,
    "start_time": "2023-03-23T18:02:51.670Z"
   },
   {
    "duration": 19,
    "start_time": "2023-03-23T18:02:51.688Z"
   },
   {
    "duration": 24,
    "start_time": "2023-03-23T18:02:51.708Z"
   },
   {
    "duration": 40,
    "start_time": "2023-03-23T18:02:51.734Z"
   },
   {
    "duration": 39,
    "start_time": "2023-03-23T18:02:51.778Z"
   },
   {
    "duration": 7,
    "start_time": "2023-03-23T18:02:51.819Z"
   },
   {
    "duration": 29,
    "start_time": "2023-03-23T18:02:51.827Z"
   },
   {
    "duration": 32,
    "start_time": "2023-03-23T18:02:51.858Z"
   },
   {
    "duration": 1338,
    "start_time": "2023-03-23T18:02:51.893Z"
   },
   {
    "duration": 5,
    "start_time": "2023-03-23T18:02:53.236Z"
   },
   {
    "duration": 59,
    "start_time": "2023-03-23T18:02:53.243Z"
   },
   {
    "duration": 39,
    "start_time": "2023-03-23T18:02:53.304Z"
   },
   {
    "duration": 625,
    "start_time": "2023-03-23T18:02:53.347Z"
   },
   {
    "duration": 5,
    "start_time": "2023-03-23T18:02:53.974Z"
   },
   {
    "duration": 18,
    "start_time": "2023-03-23T18:02:53.982Z"
   },
   {
    "duration": 1119,
    "start_time": "2023-03-23T18:02:54.004Z"
   },
   {
    "duration": 9,
    "start_time": "2023-03-23T18:02:55.125Z"
   },
   {
    "duration": 11,
    "start_time": "2023-03-23T18:02:55.135Z"
   },
   {
    "duration": 35,
    "start_time": "2023-03-23T18:02:55.148Z"
   },
   {
    "duration": 5549,
    "start_time": "2023-03-23T18:02:55.185Z"
   },
   {
    "duration": 33904,
    "start_time": "2023-03-23T18:03:00.738Z"
   },
   {
    "duration": 63833,
    "start_time": "2023-03-23T18:03:34.644Z"
   },
   {
    "duration": 20938,
    "start_time": "2023-03-23T18:04:38.478Z"
   },
   {
    "duration": 0,
    "start_time": "2023-03-23T18:04:59.418Z"
   },
   {
    "duration": 0,
    "start_time": "2023-03-23T18:04:59.421Z"
   },
   {
    "duration": 0,
    "start_time": "2023-03-23T18:04:59.423Z"
   },
   {
    "duration": 0,
    "start_time": "2023-03-23T18:04:59.424Z"
   },
   {
    "duration": 63603,
    "start_time": "2023-03-23T18:07:28.874Z"
   },
   {
    "duration": 64719,
    "start_time": "2023-03-23T18:09:08.568Z"
   },
   {
    "duration": 252830,
    "start_time": "2023-03-23T18:10:49.442Z"
   },
   {
    "duration": 262465,
    "start_time": "2023-03-23T18:15:02.275Z"
   },
   {
    "duration": 0,
    "start_time": "2023-03-23T18:19:24.742Z"
   },
   {
    "duration": 769881,
    "start_time": "2023-03-23T18:19:26.338Z"
   },
   {
    "duration": 57939,
    "start_time": "2023-03-23T18:53:16.326Z"
   },
   {
    "duration": 8649,
    "start_time": "2023-03-23T18:55:02.261Z"
   },
   {
    "duration": 11,
    "start_time": "2023-03-23T18:55:10.912Z"
   },
   {
    "duration": 7610,
    "start_time": "2023-03-23T18:55:47.720Z"
   },
   {
    "duration": 15,
    "start_time": "2023-03-23T18:56:15.022Z"
   },
   {
    "duration": 13,
    "start_time": "2023-03-23T18:56:26.022Z"
   },
   {
    "duration": 1579,
    "start_time": "2023-03-23T18:57:28.133Z"
   },
   {
    "duration": 806,
    "start_time": "2023-03-23T18:57:29.714Z"
   },
   {
    "duration": 68,
    "start_time": "2023-03-23T18:57:30.522Z"
   },
   {
    "duration": 19,
    "start_time": "2023-03-23T18:57:30.591Z"
   },
   {
    "duration": 15,
    "start_time": "2023-03-23T18:57:30.633Z"
   },
   {
    "duration": 64,
    "start_time": "2023-03-23T18:57:30.652Z"
   },
   {
    "duration": 303,
    "start_time": "2023-03-23T18:57:30.718Z"
   },
   {
    "duration": 24,
    "start_time": "2023-03-23T18:57:31.022Z"
   },
   {
    "duration": 59,
    "start_time": "2023-03-23T18:57:31.050Z"
   },
   {
    "duration": 19,
    "start_time": "2023-03-23T18:57:31.111Z"
   },
   {
    "duration": 55,
    "start_time": "2023-03-23T18:57:31.131Z"
   },
   {
    "duration": 31,
    "start_time": "2023-03-23T18:57:31.187Z"
   },
   {
    "duration": 39,
    "start_time": "2023-03-23T18:57:31.220Z"
   },
   {
    "duration": 37,
    "start_time": "2023-03-23T18:57:31.263Z"
   },
   {
    "duration": 25,
    "start_time": "2023-03-23T18:57:31.302Z"
   },
   {
    "duration": 33,
    "start_time": "2023-03-23T18:57:31.329Z"
   },
   {
    "duration": 33,
    "start_time": "2023-03-23T18:57:31.364Z"
   },
   {
    "duration": 1439,
    "start_time": "2023-03-23T18:57:31.399Z"
   },
   {
    "duration": 4,
    "start_time": "2023-03-23T18:57:32.844Z"
   },
   {
    "duration": 50,
    "start_time": "2023-03-23T18:57:32.850Z"
   },
   {
    "duration": 62,
    "start_time": "2023-03-23T18:57:32.902Z"
   },
   {
    "duration": 626,
    "start_time": "2023-03-23T18:57:32.966Z"
   },
   {
    "duration": 5,
    "start_time": "2023-03-23T18:57:33.594Z"
   },
   {
    "duration": 17,
    "start_time": "2023-03-23T18:57:33.600Z"
   },
   {
    "duration": 992,
    "start_time": "2023-03-23T18:57:33.618Z"
   },
   {
    "duration": 3,
    "start_time": "2023-03-23T18:57:34.612Z"
   },
   {
    "duration": 20,
    "start_time": "2023-03-23T18:57:34.617Z"
   },
   {
    "duration": 50,
    "start_time": "2023-03-23T18:57:34.640Z"
   },
   {
    "duration": 6743,
    "start_time": "2023-03-23T18:57:34.692Z"
   },
   {
    "duration": 33421,
    "start_time": "2023-03-23T18:57:41.437Z"
   },
   {
    "duration": 70458,
    "start_time": "2023-03-23T18:58:14.859Z"
   },
   {
    "duration": 281508,
    "start_time": "2023-03-23T18:59:25.319Z"
   },
   {
    "duration": 887534,
    "start_time": "2023-03-23T19:04:06.829Z"
   },
   {
    "duration": 62006,
    "start_time": "2023-03-23T19:18:54.367Z"
   },
   {
    "duration": 8498,
    "start_time": "2023-03-23T19:19:56.374Z"
   },
   {
    "duration": 11,
    "start_time": "2023-03-23T19:20:04.874Z"
   },
   {
    "duration": 55,
    "start_time": "2023-03-24T21:06:12.269Z"
   },
   {
    "duration": 1740,
    "start_time": "2023-03-24T21:06:20.815Z"
   },
   {
    "duration": 2733,
    "start_time": "2023-03-24T21:06:22.557Z"
   },
   {
    "duration": 62,
    "start_time": "2023-03-24T21:06:25.291Z"
   },
   {
    "duration": 20,
    "start_time": "2023-03-24T21:06:25.355Z"
   },
   {
    "duration": 13,
    "start_time": "2023-03-24T21:06:25.377Z"
   },
   {
    "duration": 22,
    "start_time": "2023-03-24T21:06:25.392Z"
   },
   {
    "duration": 273,
    "start_time": "2023-03-24T21:06:25.416Z"
   },
   {
    "duration": 14,
    "start_time": "2023-03-24T21:06:25.691Z"
   },
   {
    "duration": 46,
    "start_time": "2023-03-24T21:06:25.707Z"
   },
   {
    "duration": 4,
    "start_time": "2023-03-24T21:06:25.760Z"
   },
   {
    "duration": 31,
    "start_time": "2023-03-24T21:06:25.767Z"
   },
   {
    "duration": 29,
    "start_time": "2023-03-24T21:06:25.800Z"
   },
   {
    "duration": 27,
    "start_time": "2023-03-24T21:06:25.831Z"
   },
   {
    "duration": 29,
    "start_time": "2023-03-24T21:06:25.861Z"
   },
   {
    "duration": 20,
    "start_time": "2023-03-24T21:06:25.893Z"
   },
   {
    "duration": 18,
    "start_time": "2023-03-24T21:06:25.915Z"
   },
   {
    "duration": 17,
    "start_time": "2023-03-24T21:06:25.936Z"
   },
   {
    "duration": 1347,
    "start_time": "2023-03-24T21:06:25.956Z"
   },
   {
    "duration": 5,
    "start_time": "2023-03-24T21:06:27.305Z"
   },
   {
    "duration": 81,
    "start_time": "2023-03-24T21:06:27.312Z"
   },
   {
    "duration": 48,
    "start_time": "2023-03-24T21:06:27.395Z"
   },
   {
    "duration": 646,
    "start_time": "2023-03-24T21:06:27.445Z"
   },
   {
    "duration": 5,
    "start_time": "2023-03-24T21:06:28.094Z"
   },
   {
    "duration": 40,
    "start_time": "2023-03-24T21:06:28.101Z"
   },
   {
    "duration": 843,
    "start_time": "2023-03-24T21:06:28.143Z"
   },
   {
    "duration": 4,
    "start_time": "2023-03-24T21:06:28.987Z"
   },
   {
    "duration": 9,
    "start_time": "2023-03-24T21:06:28.993Z"
   },
   {
    "duration": 39,
    "start_time": "2023-03-24T21:06:29.005Z"
   },
   {
    "duration": 3097,
    "start_time": "2023-03-24T21:06:29.046Z"
   },
   {
    "duration": 60614,
    "start_time": "2023-03-24T21:06:32.145Z"
   },
   {
    "duration": 60710,
    "start_time": "2023-03-24T21:07:32.761Z"
   },
   {
    "duration": 244975,
    "start_time": "2023-03-24T21:08:33.473Z"
   },
   {
    "duration": 1597,
    "start_time": "2023-03-24T21:19:35.764Z"
   },
   {
    "duration": 783,
    "start_time": "2023-03-24T21:19:37.363Z"
   },
   {
    "duration": 63,
    "start_time": "2023-03-24T21:19:38.148Z"
   },
   {
    "duration": 41,
    "start_time": "2023-03-24T21:19:38.213Z"
   },
   {
    "duration": 16,
    "start_time": "2023-03-24T21:19:38.256Z"
   },
   {
    "duration": 19,
    "start_time": "2023-03-24T21:19:38.273Z"
   },
   {
    "duration": 267,
    "start_time": "2023-03-24T21:19:38.293Z"
   },
   {
    "duration": 14,
    "start_time": "2023-03-24T21:19:38.562Z"
   },
   {
    "duration": 47,
    "start_time": "2023-03-24T21:19:38.577Z"
   },
   {
    "duration": 4,
    "start_time": "2023-03-24T21:19:38.627Z"
   },
   {
    "duration": 16,
    "start_time": "2023-03-24T21:19:38.632Z"
   },
   {
    "duration": 5,
    "start_time": "2023-03-24T21:19:38.650Z"
   },
   {
    "duration": 14,
    "start_time": "2023-03-24T21:19:38.658Z"
   },
   {
    "duration": 20,
    "start_time": "2023-03-24T21:19:38.674Z"
   },
   {
    "duration": 4,
    "start_time": "2023-03-24T21:19:38.695Z"
   },
   {
    "duration": 47,
    "start_time": "2023-03-24T21:19:38.701Z"
   },
   {
    "duration": 10,
    "start_time": "2023-03-24T21:19:38.750Z"
   },
   {
    "duration": 1282,
    "start_time": "2023-03-24T21:19:38.762Z"
   },
   {
    "duration": 5,
    "start_time": "2023-03-24T21:19:40.047Z"
   },
   {
    "duration": 47,
    "start_time": "2023-03-24T21:19:40.054Z"
   },
   {
    "duration": 60,
    "start_time": "2023-03-24T21:19:40.103Z"
   },
   {
    "duration": 631,
    "start_time": "2023-03-24T21:19:40.165Z"
   },
   {
    "duration": 4,
    "start_time": "2023-03-24T21:19:40.798Z"
   },
   {
    "duration": 14,
    "start_time": "2023-03-24T21:19:40.804Z"
   },
   {
    "duration": 883,
    "start_time": "2023-03-24T21:19:40.820Z"
   },
   {
    "duration": 4,
    "start_time": "2023-03-24T21:19:41.705Z"
   },
   {
    "duration": 10,
    "start_time": "2023-03-24T21:19:41.710Z"
   },
   {
    "duration": 44,
    "start_time": "2023-03-24T21:19:41.723Z"
   },
   {
    "duration": 3282,
    "start_time": "2023-03-24T21:19:41.769Z"
   },
   {
    "duration": 187,
    "start_time": "2023-03-24T21:19:45.140Z"
   },
   {
    "duration": 0,
    "start_time": "2023-03-24T21:19:45.329Z"
   },
   {
    "duration": 0,
    "start_time": "2023-03-24T21:19:45.331Z"
   },
   {
    "duration": 0,
    "start_time": "2023-03-24T21:19:45.341Z"
   },
   {
    "duration": 0,
    "start_time": "2023-03-24T21:19:45.343Z"
   },
   {
    "duration": 0,
    "start_time": "2023-03-24T21:19:45.344Z"
   },
   {
    "duration": 0,
    "start_time": "2023-03-24T21:19:45.346Z"
   },
   {
    "duration": 58389,
    "start_time": "2023-03-24T21:20:51.653Z"
   },
   {
    "duration": 59699,
    "start_time": "2023-03-24T21:21:50.045Z"
   },
   {
    "duration": 420414,
    "start_time": "2023-03-24T21:22:49.747Z"
   },
   {
    "duration": 208410,
    "start_time": "2023-03-24T21:29:50.164Z"
   },
   {
    "duration": 0,
    "start_time": "2023-03-24T21:33:18.575Z"
   },
   {
    "duration": 0,
    "start_time": "2023-03-24T21:33:18.576Z"
   },
   {
    "duration": 177103,
    "start_time": "2023-03-24T21:33:21.456Z"
   },
   {
    "duration": 468917,
    "start_time": "2023-03-24T21:36:22.759Z"
   },
   {
    "duration": 10766,
    "start_time": "2023-03-24T21:44:57.907Z"
   },
   {
    "duration": 10,
    "start_time": "2023-03-24T21:45:08.675Z"
   },
   {
    "duration": 1510,
    "start_time": "2023-03-25T20:05:13.812Z"
   },
   {
    "duration": 857,
    "start_time": "2023-03-25T20:05:15.324Z"
   },
   {
    "duration": 73,
    "start_time": "2023-03-25T20:05:16.183Z"
   },
   {
    "duration": 34,
    "start_time": "2023-03-25T20:05:16.258Z"
   },
   {
    "duration": 12,
    "start_time": "2023-03-25T20:05:16.293Z"
   },
   {
    "duration": 16,
    "start_time": "2023-03-25T20:05:16.306Z"
   },
   {
    "duration": 282,
    "start_time": "2023-03-25T20:05:16.323Z"
   },
   {
    "duration": 12,
    "start_time": "2023-03-25T20:05:16.607Z"
   },
   {
    "duration": 41,
    "start_time": "2023-03-25T20:05:16.621Z"
   },
   {
    "duration": 11,
    "start_time": "2023-03-25T20:05:16.665Z"
   },
   {
    "duration": 10,
    "start_time": "2023-03-25T20:05:16.680Z"
   },
   {
    "duration": 4,
    "start_time": "2023-03-25T20:05:16.691Z"
   },
   {
    "duration": 8,
    "start_time": "2023-03-25T20:05:16.696Z"
   },
   {
    "duration": 16,
    "start_time": "2023-03-25T20:05:16.706Z"
   },
   {
    "duration": 40,
    "start_time": "2023-03-25T20:05:16.723Z"
   },
   {
    "duration": 8,
    "start_time": "2023-03-25T20:05:16.772Z"
   },
   {
    "duration": 5,
    "start_time": "2023-03-25T20:05:16.782Z"
   },
   {
    "duration": 1278,
    "start_time": "2023-03-25T20:05:16.789Z"
   },
   {
    "duration": 7,
    "start_time": "2023-03-25T20:05:18.069Z"
   },
   {
    "duration": 30,
    "start_time": "2023-03-25T20:05:18.082Z"
   },
   {
    "duration": 50,
    "start_time": "2023-03-25T20:05:18.114Z"
   },
   {
    "duration": 661,
    "start_time": "2023-03-25T20:05:18.172Z"
   },
   {
    "duration": 12,
    "start_time": "2023-03-25T20:05:18.835Z"
   },
   {
    "duration": 21,
    "start_time": "2023-03-25T20:05:18.860Z"
   },
   {
    "duration": 988,
    "start_time": "2023-03-25T20:05:18.884Z"
   },
   {
    "duration": 4,
    "start_time": "2023-03-25T20:05:19.877Z"
   },
   {
    "duration": 4,
    "start_time": "2023-03-25T20:05:19.883Z"
   },
   {
    "duration": 27,
    "start_time": "2023-03-25T20:05:19.890Z"
   },
   {
    "duration": 10629,
    "start_time": "2023-03-25T20:05:19.918Z"
   },
   {
    "duration": 68117,
    "start_time": "2023-03-25T20:05:30.554Z"
   },
   {
    "duration": 63955,
    "start_time": "2023-03-25T20:06:38.673Z"
   },
   {
    "duration": 1484,
    "start_time": "2023-03-25T20:07:46.406Z"
   },
   {
    "duration": 778,
    "start_time": "2023-03-25T20:07:47.892Z"
   },
   {
    "duration": 70,
    "start_time": "2023-03-25T20:07:48.672Z"
   },
   {
    "duration": 23,
    "start_time": "2023-03-25T20:07:48.747Z"
   },
   {
    "duration": 13,
    "start_time": "2023-03-25T20:07:48.772Z"
   },
   {
    "duration": 19,
    "start_time": "2023-03-25T20:07:48.787Z"
   },
   {
    "duration": 315,
    "start_time": "2023-03-25T20:07:48.809Z"
   },
   {
    "duration": 41,
    "start_time": "2023-03-25T20:07:49.126Z"
   },
   {
    "duration": 24,
    "start_time": "2023-03-25T20:07:49.171Z"
   },
   {
    "duration": 3,
    "start_time": "2023-03-25T20:07:49.199Z"
   },
   {
    "duration": 12,
    "start_time": "2023-03-25T20:07:49.204Z"
   },
   {
    "duration": 6,
    "start_time": "2023-03-25T20:07:49.218Z"
   },
   {
    "duration": 20,
    "start_time": "2023-03-25T20:07:49.240Z"
   },
   {
    "duration": 23,
    "start_time": "2023-03-25T20:07:49.263Z"
   },
   {
    "duration": 6,
    "start_time": "2023-03-25T20:07:49.289Z"
   },
   {
    "duration": 11,
    "start_time": "2023-03-25T20:07:49.297Z"
   },
   {
    "duration": 9,
    "start_time": "2023-03-25T20:07:49.310Z"
   },
   {
    "duration": 1281,
    "start_time": "2023-03-25T20:07:49.321Z"
   },
   {
    "duration": 4,
    "start_time": "2023-03-25T20:07:50.604Z"
   },
   {
    "duration": 45,
    "start_time": "2023-03-25T20:07:50.609Z"
   },
   {
    "duration": 41,
    "start_time": "2023-03-25T20:07:50.656Z"
   },
   {
    "duration": 687,
    "start_time": "2023-03-25T20:07:50.699Z"
   },
   {
    "duration": 5,
    "start_time": "2023-03-25T20:07:51.388Z"
   },
   {
    "duration": 15,
    "start_time": "2023-03-25T20:07:51.394Z"
   },
   {
    "duration": 1069,
    "start_time": "2023-03-25T20:07:51.411Z"
   },
   {
    "duration": 4,
    "start_time": "2023-03-25T20:07:52.481Z"
   },
   {
    "duration": 6,
    "start_time": "2023-03-25T20:07:52.486Z"
   },
   {
    "duration": 57,
    "start_time": "2023-03-25T20:07:52.495Z"
   },
   {
    "duration": 9414,
    "start_time": "2023-03-25T20:07:52.554Z"
   },
   {
    "duration": 65683,
    "start_time": "2023-03-25T20:08:01.971Z"
   },
   {
    "duration": 65418,
    "start_time": "2023-03-25T20:09:07.660Z"
   },
   {
    "duration": 51,
    "start_time": "2023-03-25T20:10:13.080Z"
   },
   {
    "duration": 0,
    "start_time": "2023-03-25T20:10:13.132Z"
   },
   {
    "duration": 0,
    "start_time": "2023-03-25T20:10:13.134Z"
   },
   {
    "duration": 0,
    "start_time": "2023-03-25T20:10:13.135Z"
   },
   {
    "duration": 466687,
    "start_time": "2023-03-25T20:25:03.290Z"
   },
   {
    "duration": 512644,
    "start_time": "2023-03-25T20:32:49.979Z"
   },
   {
    "duration": 11911,
    "start_time": "2023-03-25T20:41:22.625Z"
   },
   {
    "duration": 19,
    "start_time": "2023-03-25T20:41:34.545Z"
   },
   {
    "duration": 225287,
    "start_time": "2023-03-25T20:50:21.501Z"
   },
   {
    "duration": 1173,
    "start_time": "2023-03-25T20:56:30.774Z"
   },
   {
    "duration": 15,
    "start_time": "2023-03-25T20:56:33.133Z"
   },
   {
    "duration": 896618,
    "start_time": "2023-03-25T20:57:44.527Z"
   },
   {
    "duration": 1620231,
    "start_time": "2023-03-25T21:14:25.934Z"
   },
   {
    "duration": 145489,
    "start_time": "2023-03-25T21:41:28.198Z"
   },
   {
    "duration": 1059,
    "start_time": "2023-03-25T21:43:55.532Z"
   },
   {
    "duration": 10,
    "start_time": "2023-03-25T21:43:58.284Z"
   },
   {
    "duration": 10184,
    "start_time": "2023-03-25T21:44:34.709Z"
   },
   {
    "duration": 9534,
    "start_time": "2023-03-25T21:44:57.297Z"
   },
   {
    "duration": 64,
    "start_time": "2023-03-25T21:46:04.601Z"
   },
   {
    "duration": 816743,
    "start_time": "2023-03-25T21:46:10.961Z"
   },
   {
    "duration": 14232,
    "start_time": "2023-03-25T22:00:58.810Z"
   },
   {
    "duration": 11,
    "start_time": "2023-03-25T22:01:13.044Z"
   },
   {
    "duration": 178,
    "start_time": "2023-03-25T22:03:07.871Z"
   },
   {
    "duration": 10,
    "start_time": "2023-03-25T22:06:06.325Z"
   },
   {
    "duration": 182,
    "start_time": "2023-03-25T22:06:06.695Z"
   },
   {
    "duration": 14874,
    "start_time": "2023-03-25T22:06:18.397Z"
   },
   {
    "duration": 14761,
    "start_time": "2023-03-25T22:06:48.545Z"
   },
   {
    "duration": 195,
    "start_time": "2023-03-25T22:07:03.307Z"
   },
   {
    "duration": 14588,
    "start_time": "2023-03-25T22:08:16.347Z"
   },
   {
    "duration": 200,
    "start_time": "2023-03-25T22:08:30.942Z"
   }
  ],
  "kernelspec": {
   "display_name": "Python 3 (ipykernel)",
   "language": "python",
   "name": "python3"
  },
  "language_info": {
   "codemirror_mode": {
    "name": "ipython",
    "version": 3
   },
   "file_extension": ".py",
   "mimetype": "text/x-python",
   "name": "python",
   "nbconvert_exporter": "python",
   "pygments_lexer": "ipython3",
   "version": "3.10.12"
  },
  "toc": {
   "base_numbering": 1,
   "nav_menu": {},
   "number_sections": true,
   "sideBar": true,
   "skip_h1_title": true,
   "title_cell": "Table of Contents",
   "title_sidebar": "Contents",
   "toc_cell": false,
   "toc_position": {
    "height": "calc(100% - 180px)",
    "left": "10px",
    "top": "150px",
    "width": "165px"
   },
   "toc_section_display": true,
   "toc_window_display": true
  }
 },
 "nbformat": 4,
 "nbformat_minor": 5
}
