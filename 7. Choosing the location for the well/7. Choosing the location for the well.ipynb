{
 "cells": [
  {
   "cell_type": "markdown",
   "metadata": {},
   "source": [
    "# Выбор локации для скважины"
   ]
  },
  {
   "cell_type": "markdown",
   "metadata": {},
   "source": [
    "Нужно решить, где бурить новую скважину для компании «ГлавРосГосНефть».\n",
    "\n",
    "Нам предоставлены пробы нефти в трёх регионах: в каждом 10 000 месторождений, где измерили качество нефти и объём её запасов. Необходимо построить модель машинного обучения, которая поможет определить регион, где добыча принесёт наибольшую прибыль. Анализ возможной прибыли и рисков производится техникой *Bootstrap.*\n",
    "\n",
    "*Данные геологоразведки представлены в 3 файлах и содержат:*\n",
    "\n",
    "- id — уникальный идентификатор скважины;\n",
    "- f0, f1, f2 — три признака точек (неважно, что они означают, но сами признаки значимы);\n",
    "- product — объём запасов в скважине (тыс. баррелей).\n",
    "\n",
    "*Для выбора локации предпринимаются следующие шаги:*\n",
    "\n",
    "1. В избранном регионе ищут месторождения, для каждого определяют значения признаков;\n",
    "1. Строят модель и оценивают объём запасов;\n",
    "1. Выбирают месторождения с самым высокими оценками значений. Количество месторождений зависит от бюджета компании и стоимости разработки одной скважины;\n",
    "1. Прибыль равна суммарной прибыли отобранных месторождений.\n",
    "\n",
    "*Условия задачи:*\n",
    "\n",
    "1. Для обучения модели подходит только линейная регрессия (остальные — недостаточно предсказуемые).\n",
    "1. При разведке региона исследуют 500 точек, из которых с помощью машинного обучения выбирают 200 лучших для разработки.\n",
    "1. Бюджет на разработку скважин в регионе — 10 млрд рублей.\n",
    "1. При нынешних ценах один баррель сырья приносит 450 рублей дохода. Доход с каждой единицы продукта составляет 450 тыс. рублей, поскольку объём указан в тысячах баррелей.\n",
    "1. После оценки рисков нужно оставить лишь те регионы, в которых вероятность убытков меньше 2.5%. Среди них выбирают регион с наибольшей средней прибылью."
   ]
  },
  {
   "cell_type": "markdown",
   "metadata": {},
   "source": [
    "## Загрузка и подготовка данных"
   ]
  },
  {
   "cell_type": "code",
   "execution_count": 1,
   "metadata": {},
   "outputs": [],
   "source": [
    "# Подключим все необходимые библиотеки:\n",
    "\n",
    "import pandas as pd\n",
    "import numpy as np\n",
    "\n",
    "from sklearn.model_selection import train_test_split\n",
    "from sklearn.linear_model import LinearRegression\n",
    "from sklearn.metrics import mean_squared_error"
   ]
  },
  {
   "cell_type": "code",
   "execution_count": 2,
   "metadata": {},
   "outputs": [],
   "source": [
    "# Откроем предоставленные данные геологоразведки и сохраним их в data_1, data_2, data_3:\n",
    "\n",
    "try:\n",
    "    data_1 = pd.read_csv('/datasets/geo_data_0.csv')\n",
    "    data_2 = pd.read_csv('/datasets/geo_data_1.csv')\n",
    "    data_3 = pd.read_csv('/datasets/geo_data_2.csv')\n",
    "except:\n",
    "    data_1 = pd.read_csv('D:/geo_data_0.csv')\n",
    "    data_2 = pd.read_csv('D:/geo_data_1.csv')\n",
    "    data_3 = pd.read_csv('D:/geo_data_2.csv')"
   ]
  },
  {
   "cell_type": "code",
   "execution_count": 3,
   "metadata": {},
   "outputs": [
    {
     "data": {
      "text/plain": [
       "'data_1:'"
      ]
     },
     "metadata": {},
     "output_type": "display_data"
    },
    {
     "data": {
      "text/html": [
       "<div>\n",
       "<style scoped>\n",
       "    .dataframe tbody tr th:only-of-type {\n",
       "        vertical-align: middle;\n",
       "    }\n",
       "\n",
       "    .dataframe tbody tr th {\n",
       "        vertical-align: top;\n",
       "    }\n",
       "\n",
       "    .dataframe thead th {\n",
       "        text-align: right;\n",
       "    }\n",
       "</style>\n",
       "<table border=\"1\" class=\"dataframe\">\n",
       "  <thead>\n",
       "    <tr style=\"text-align: right;\">\n",
       "      <th></th>\n",
       "      <th>id</th>\n",
       "      <th>f0</th>\n",
       "      <th>f1</th>\n",
       "      <th>f2</th>\n",
       "      <th>product</th>\n",
       "    </tr>\n",
       "  </thead>\n",
       "  <tbody>\n",
       "    <tr>\n",
       "      <th>0</th>\n",
       "      <td>txEyH</td>\n",
       "      <td>0.705745</td>\n",
       "      <td>-0.497823</td>\n",
       "      <td>1.221170</td>\n",
       "      <td>105.280062</td>\n",
       "    </tr>\n",
       "    <tr>\n",
       "      <th>1</th>\n",
       "      <td>2acmU</td>\n",
       "      <td>1.334711</td>\n",
       "      <td>-0.340164</td>\n",
       "      <td>4.365080</td>\n",
       "      <td>73.037750</td>\n",
       "    </tr>\n",
       "    <tr>\n",
       "      <th>2</th>\n",
       "      <td>409Wp</td>\n",
       "      <td>1.022732</td>\n",
       "      <td>0.151990</td>\n",
       "      <td>1.419926</td>\n",
       "      <td>85.265647</td>\n",
       "    </tr>\n",
       "    <tr>\n",
       "      <th>3</th>\n",
       "      <td>iJLyR</td>\n",
       "      <td>-0.032172</td>\n",
       "      <td>0.139033</td>\n",
       "      <td>2.978566</td>\n",
       "      <td>168.620776</td>\n",
       "    </tr>\n",
       "    <tr>\n",
       "      <th>4</th>\n",
       "      <td>Xdl7t</td>\n",
       "      <td>1.988431</td>\n",
       "      <td>0.155413</td>\n",
       "      <td>4.751769</td>\n",
       "      <td>154.036647</td>\n",
       "    </tr>\n",
       "  </tbody>\n",
       "</table>\n",
       "</div>"
      ],
      "text/plain": [
       "      id        f0        f1        f2     product\n",
       "0  txEyH  0.705745 -0.497823  1.221170  105.280062\n",
       "1  2acmU  1.334711 -0.340164  4.365080   73.037750\n",
       "2  409Wp  1.022732  0.151990  1.419926   85.265647\n",
       "3  iJLyR -0.032172  0.139033  2.978566  168.620776\n",
       "4  Xdl7t  1.988431  0.155413  4.751769  154.036647"
      ]
     },
     "metadata": {},
     "output_type": "display_data"
    },
    {
     "data": {
      "text/plain": [
       "'data_2:'"
      ]
     },
     "metadata": {},
     "output_type": "display_data"
    },
    {
     "data": {
      "text/html": [
       "<div>\n",
       "<style scoped>\n",
       "    .dataframe tbody tr th:only-of-type {\n",
       "        vertical-align: middle;\n",
       "    }\n",
       "\n",
       "    .dataframe tbody tr th {\n",
       "        vertical-align: top;\n",
       "    }\n",
       "\n",
       "    .dataframe thead th {\n",
       "        text-align: right;\n",
       "    }\n",
       "</style>\n",
       "<table border=\"1\" class=\"dataframe\">\n",
       "  <thead>\n",
       "    <tr style=\"text-align: right;\">\n",
       "      <th></th>\n",
       "      <th>id</th>\n",
       "      <th>f0</th>\n",
       "      <th>f1</th>\n",
       "      <th>f2</th>\n",
       "      <th>product</th>\n",
       "    </tr>\n",
       "  </thead>\n",
       "  <tbody>\n",
       "    <tr>\n",
       "      <th>0</th>\n",
       "      <td>kBEdx</td>\n",
       "      <td>-15.001348</td>\n",
       "      <td>-8.276000</td>\n",
       "      <td>-0.005876</td>\n",
       "      <td>3.179103</td>\n",
       "    </tr>\n",
       "    <tr>\n",
       "      <th>1</th>\n",
       "      <td>62mP7</td>\n",
       "      <td>14.272088</td>\n",
       "      <td>-3.475083</td>\n",
       "      <td>0.999183</td>\n",
       "      <td>26.953261</td>\n",
       "    </tr>\n",
       "    <tr>\n",
       "      <th>2</th>\n",
       "      <td>vyE1P</td>\n",
       "      <td>6.263187</td>\n",
       "      <td>-5.948386</td>\n",
       "      <td>5.001160</td>\n",
       "      <td>134.766305</td>\n",
       "    </tr>\n",
       "    <tr>\n",
       "      <th>3</th>\n",
       "      <td>KcrkZ</td>\n",
       "      <td>-13.081196</td>\n",
       "      <td>-11.506057</td>\n",
       "      <td>4.999415</td>\n",
       "      <td>137.945408</td>\n",
       "    </tr>\n",
       "    <tr>\n",
       "      <th>4</th>\n",
       "      <td>AHL4O</td>\n",
       "      <td>12.702195</td>\n",
       "      <td>-8.147433</td>\n",
       "      <td>5.004363</td>\n",
       "      <td>134.766305</td>\n",
       "    </tr>\n",
       "  </tbody>\n",
       "</table>\n",
       "</div>"
      ],
      "text/plain": [
       "      id         f0         f1        f2     product\n",
       "0  kBEdx -15.001348  -8.276000 -0.005876    3.179103\n",
       "1  62mP7  14.272088  -3.475083  0.999183   26.953261\n",
       "2  vyE1P   6.263187  -5.948386  5.001160  134.766305\n",
       "3  KcrkZ -13.081196 -11.506057  4.999415  137.945408\n",
       "4  AHL4O  12.702195  -8.147433  5.004363  134.766305"
      ]
     },
     "metadata": {},
     "output_type": "display_data"
    },
    {
     "data": {
      "text/plain": [
       "'data_3:'"
      ]
     },
     "metadata": {},
     "output_type": "display_data"
    },
    {
     "data": {
      "text/html": [
       "<div>\n",
       "<style scoped>\n",
       "    .dataframe tbody tr th:only-of-type {\n",
       "        vertical-align: middle;\n",
       "    }\n",
       "\n",
       "    .dataframe tbody tr th {\n",
       "        vertical-align: top;\n",
       "    }\n",
       "\n",
       "    .dataframe thead th {\n",
       "        text-align: right;\n",
       "    }\n",
       "</style>\n",
       "<table border=\"1\" class=\"dataframe\">\n",
       "  <thead>\n",
       "    <tr style=\"text-align: right;\">\n",
       "      <th></th>\n",
       "      <th>id</th>\n",
       "      <th>f0</th>\n",
       "      <th>f1</th>\n",
       "      <th>f2</th>\n",
       "      <th>product</th>\n",
       "    </tr>\n",
       "  </thead>\n",
       "  <tbody>\n",
       "    <tr>\n",
       "      <th>0</th>\n",
       "      <td>fwXo0</td>\n",
       "      <td>-1.146987</td>\n",
       "      <td>0.963328</td>\n",
       "      <td>-0.828965</td>\n",
       "      <td>27.758673</td>\n",
       "    </tr>\n",
       "    <tr>\n",
       "      <th>1</th>\n",
       "      <td>WJtFt</td>\n",
       "      <td>0.262778</td>\n",
       "      <td>0.269839</td>\n",
       "      <td>-2.530187</td>\n",
       "      <td>56.069697</td>\n",
       "    </tr>\n",
       "    <tr>\n",
       "      <th>2</th>\n",
       "      <td>ovLUW</td>\n",
       "      <td>0.194587</td>\n",
       "      <td>0.289035</td>\n",
       "      <td>-5.586433</td>\n",
       "      <td>62.871910</td>\n",
       "    </tr>\n",
       "    <tr>\n",
       "      <th>3</th>\n",
       "      <td>q6cA6</td>\n",
       "      <td>2.236060</td>\n",
       "      <td>-0.553760</td>\n",
       "      <td>0.930038</td>\n",
       "      <td>114.572842</td>\n",
       "    </tr>\n",
       "    <tr>\n",
       "      <th>4</th>\n",
       "      <td>WPMUX</td>\n",
       "      <td>-0.515993</td>\n",
       "      <td>1.716266</td>\n",
       "      <td>5.899011</td>\n",
       "      <td>149.600746</td>\n",
       "    </tr>\n",
       "  </tbody>\n",
       "</table>\n",
       "</div>"
      ],
      "text/plain": [
       "      id        f0        f1        f2     product\n",
       "0  fwXo0 -1.146987  0.963328 -0.828965   27.758673\n",
       "1  WJtFt  0.262778  0.269839 -2.530187   56.069697\n",
       "2  ovLUW  0.194587  0.289035 -5.586433   62.871910\n",
       "3  q6cA6  2.236060 -0.553760  0.930038  114.572842\n",
       "4  WPMUX -0.515993  1.716266  5.899011  149.600746"
      ]
     },
     "metadata": {},
     "output_type": "display_data"
    },
    {
     "name": "stdout",
     "output_type": "stream",
     "text": [
      "\n"
     ]
    },
    {
     "data": {
      "text/plain": [
       "'Общая информация о первой выборке:'"
      ]
     },
     "metadata": {},
     "output_type": "display_data"
    },
    {
     "name": "stdout",
     "output_type": "stream",
     "text": [
      "<class 'pandas.core.frame.DataFrame'>\n",
      "RangeIndex: 100000 entries, 0 to 99999\n",
      "Data columns (total 5 columns):\n",
      " #   Column   Non-Null Count   Dtype  \n",
      "---  ------   --------------   -----  \n",
      " 0   id       100000 non-null  object \n",
      " 1   f0       100000 non-null  float64\n",
      " 2   f1       100000 non-null  float64\n",
      " 3   f2       100000 non-null  float64\n",
      " 4   product  100000 non-null  float64\n",
      "dtypes: float64(4), object(1)\n",
      "memory usage: 3.8+ MB\n",
      "\n"
     ]
    },
    {
     "data": {
      "text/plain": [
       "'Общая информация о второй выборке:'"
      ]
     },
     "metadata": {},
     "output_type": "display_data"
    },
    {
     "name": "stdout",
     "output_type": "stream",
     "text": [
      "<class 'pandas.core.frame.DataFrame'>\n",
      "RangeIndex: 100000 entries, 0 to 99999\n",
      "Data columns (total 5 columns):\n",
      " #   Column   Non-Null Count   Dtype  \n",
      "---  ------   --------------   -----  \n",
      " 0   id       100000 non-null  object \n",
      " 1   f0       100000 non-null  float64\n",
      " 2   f1       100000 non-null  float64\n",
      " 3   f2       100000 non-null  float64\n",
      " 4   product  100000 non-null  float64\n",
      "dtypes: float64(4), object(1)\n",
      "memory usage: 3.8+ MB\n",
      "\n"
     ]
    },
    {
     "data": {
      "text/plain": [
       "'Общая информация о третей выборке:'"
      ]
     },
     "metadata": {},
     "output_type": "display_data"
    },
    {
     "name": "stdout",
     "output_type": "stream",
     "text": [
      "<class 'pandas.core.frame.DataFrame'>\n",
      "RangeIndex: 100000 entries, 0 to 99999\n",
      "Data columns (total 5 columns):\n",
      " #   Column   Non-Null Count   Dtype  \n",
      "---  ------   --------------   -----  \n",
      " 0   id       100000 non-null  object \n",
      " 1   f0       100000 non-null  float64\n",
      " 2   f1       100000 non-null  float64\n",
      " 3   f2       100000 non-null  float64\n",
      " 4   product  100000 non-null  float64\n",
      "dtypes: float64(4), object(1)\n",
      "memory usage: 3.8+ MB\n"
     ]
    }
   ],
   "source": [
    "# Изучим данные и их структуру:\n",
    "display('data_1:', data_1.head(5))\n",
    "display('data_2:', data_2.head(5))\n",
    "display('data_3:', data_3.head(5))\n",
    "print('')\n",
    "\n",
    "display('Общая информация о первой выборке:')\n",
    "data_1.info();\n",
    "print('')\n",
    "\n",
    "display('Общая информация о второй выборке:')\n",
    "data_2.info()\n",
    "print('')\n",
    "\n",
    "display('Общая информация о третей выборке:')\n",
    "data_3.info()"
   ]
  },
  {
   "cell_type": "code",
   "execution_count": 4,
   "metadata": {},
   "outputs": [
    {
     "data": {
      "text/plain": [
       "'Явных дубликатов в первой выборке: 0'"
      ]
     },
     "metadata": {},
     "output_type": "display_data"
    },
    {
     "data": {
      "text/plain": [
       "'Явных дубликатов во второй выборке: 0'"
      ]
     },
     "metadata": {},
     "output_type": "display_data"
    },
    {
     "data": {
      "text/plain": [
       "'Явных дубликатов в третьей выборке: 0'"
      ]
     },
     "metadata": {},
     "output_type": "display_data"
    }
   ],
   "source": [
    "# Проверим выборки на наличие явных дубликатов:\n",
    "\n",
    "display('Явных дубликатов в первой выборке: {}'.format(data_1.duplicated().sum()))\n",
    "display('Явных дубликатов во второй выборке: {}'.format(data_2.duplicated().sum()))\n",
    "display('Явных дубликатов в третьей выборке: {}'.format(data_3.duplicated().sum()))"
   ]
  },
  {
   "cell_type": "markdown",
   "metadata": {},
   "source": [
    "### Выводы\n",
    "\n",
    "**Данные не нуждаются в предобработке.** Названия стобцов в нужном регистре, пропусков и явных дубликатов нет, данные указаны в правильном типе. Переходим к обучению модели."
   ]
  },
  {
   "cell_type": "markdown",
   "metadata": {},
   "source": [
    "## Обучение и проверка модели\n",
    "\n",
    "Из описания данных известно, что **столбец id** содержит уникальный идентификационный номер скважины. Данные в указанном столбце бесполезны для обучения модели и нахождения взаимосвязей, поэтому целесообразно **избавиться он него**.\n",
    "\n",
    "Напишем функцию `learn_and_predict`, которая разобьёт каждую генеральную выборку на обучающую и валидационную в соотношении 1:4, исключит слобец id, обучит модель \"Линейная регрессия\", а в конце работы вернёт предсказания и целевые признаки валидационной выборки."
   ]
  },
  {
   "cell_type": "code",
   "execution_count": 5,
   "metadata": {},
   "outputs": [],
   "source": [
    "model = LinearRegression()\n",
    "def learn_and_predict(data):\n",
    "    features = data.drop(['product', 'id'], axis = 1)\n",
    "    target = data['product']\n",
    "    features_train, features_valid, target_train, target_valid = train_test_split(features, target, test_size=.25, random_state=0)\n",
    "    model.fit(features_train, target_train)\n",
    "    predictions = model.predict(features_valid)\n",
    "    return pd.Series(predictions), target_valid"
   ]
  },
  {
   "cell_type": "code",
   "execution_count": 6,
   "metadata": {},
   "outputs": [],
   "source": [
    "# Используем функцию `learn_and_predict` на всех генеральных выборках:\n",
    "\n",
    "predictions_1, target_valid_1 = learn_and_predict(data_1)\n",
    "predictions_2, target_valid_2 = learn_and_predict(data_2)\n",
    "predictions_3, target_valid_3 = learn_and_predict(data_3)"
   ]
  },
  {
   "cell_type": "markdown",
   "metadata": {},
   "source": [
    "С помощью функции `count_mean_and_rmse` выведем на экран средний запас сырья и метрику RMSE для каждого региона:"
   ]
  },
  {
   "cell_type": "code",
   "execution_count": 7,
   "metadata": {},
   "outputs": [],
   "source": [
    "def count_mean_and_rmse(predictions, target_values):\n",
    "    mse = mean_squared_error(target_values, predictions)\n",
    "    print('Средний запас, тысяч баррелей: {:.2f}'.format(predictions.mean()))\n",
    "    print('RMSE: {:.3f}'.format(mse ** 0.5))\n",
    "    print('')"
   ]
  },
  {
   "cell_type": "code",
   "execution_count": 8,
   "metadata": {},
   "outputs": [
    {
     "name": "stdout",
     "output_type": "stream",
     "text": [
      "Первый регион:\n",
      "Средний запас, тысяч баррелей: 92.27\n",
      "RMSE: 37.481\n",
      "\n",
      "Второй регион:\n",
      "Средний запас, тысяч баррелей: 69.15\n",
      "RMSE: 0.887\n",
      "\n",
      "Третий регион:\n",
      "Средний запас, тысяч баррелей: 94.71\n",
      "RMSE: 40.313\n",
      "\n"
     ]
    }
   ],
   "source": [
    "print('Первый регион:')\n",
    "count_mean_and_rmse(predictions_1, target_valid_1)\n",
    "print('Второй регион:')\n",
    "count_mean_and_rmse(predictions_2, target_valid_2)\n",
    "print('Третий регион:')\n",
    "count_mean_and_rmse(predictions_3, target_valid_3)"
   ]
  },
  {
   "cell_type": "markdown",
   "metadata": {},
   "source": [
    "### Выводы\n",
    "\n",
    "**По абсолютным показателям средних запасов нефти лидирует третий регион**, а меньше всего нефти в среднем обнаружено во втором. Однако **среднеквадратичная ошибка (RMSE) второго региона (0.890) значительно меньше двух остальных.**"
   ]
  },
  {
   "cell_type": "markdown",
   "metadata": {},
   "source": [
    "## Подготовка к расчёту прибыли\n",
    "### Объявление констант\n",
    "\n",
    "Исходя из условий задачи объявим константы с необходимыми для расчёта прибыли значениями:"
   ]
  },
  {
   "cell_type": "code",
   "execution_count": 9,
   "metadata": {},
   "outputs": [],
   "source": [
    "# кол-во исследуемых точек:\n",
    "ALL_SPOTS = 500\n",
    "# кол-во лучших точек из выборки:\n",
    "BEST_SPOTS = 200\n",
    "# бюджет на разработку скважин:\n",
    "BUDGET = 10**10\n",
    "# доход с единицы товара:\n",
    "REVENUE_PER_UNIT = 45*10**4\n",
    "# предельная вероятность убытков:\n",
    "LOSS_THRESHOLD = 0.025"
   ]
  },
  {
   "cell_type": "markdown",
   "metadata": {},
   "source": [
    "### Расчёт минимального среднего продукта на месторожение"
   ]
  },
  {
   "cell_type": "markdown",
   "metadata": {},
   "source": [
    "Рассчитаем минимальное среднее количество продукта в месторождениях региона, достаточное для разработки. Для этого посчитаем стоимость установки 1 скважины в одно из 200 наиболее перспективных мест добычи разделив бюджет (`BUDGET`) на кол-во лучших точек из выборки (`BEST_SPOTS`), а результат поделим на доход с единицы товара (`REVENUE_PER_UNIT`):"
   ]
  },
  {
   "cell_type": "code",
   "execution_count": 10,
   "metadata": {
    "scrolled": true
   },
   "outputs": [
    {
     "name": "stdout",
     "output_type": "stream",
     "text": [
      "Минимальное среднее количество продукта в месторождениях региона, достаточное для разработки составляет 111.11 тыс. баррелей\n"
     ]
    }
   ],
   "source": [
    "min_production_value = (BUDGET / BEST_SPOTS) / REVENUE_PER_UNIT\n",
    "print('Минимальное среднее количество продукта в месторождениях региона, достаточное для разработки составляет {:.2f} тыс. баррелей'.format(min_production_value))"
   ]
  },
  {
   "cell_type": "markdown",
   "metadata": {},
   "source": [
    "**Средних запасов нефти во всех регионах недостаточно для окупаемости добычи.** Однако исходить из средних в данном случае не целесообразно, поэтому посчитаем прибыль, исходя из 200 наиболее перспектинвых скважин в каждом регионе."
   ]
  },
  {
   "cell_type": "markdown",
   "metadata": {},
   "source": [
    "## Расчёт прибыли\n",
    "\n",
    "Создадим функцию `count_revenue`, которая будет считать прибыль согласно следующему алгоритмму:\n",
    "1. Отобрать 200 наиболее перспективных точек региона;\n",
    "1. Рассчитать прибыль каждой из точек путём умножения дохода с единицы товара (`REVENUE_PER_UNIT`) на валовую прибыль от 200 выбранных скважин;\n",
    "1. Вычесть из результата бюджет."
   ]
  },
  {
   "cell_type": "code",
   "execution_count": 11,
   "metadata": {},
   "outputs": [],
   "source": [
    "def count_revenue(predicted_valid, target_valid):\n",
    "    predicted_valid_sorted = predicted_valid.sort_values(ascending=False)\n",
    "    selected = target_valid.iloc[predicted_valid_sorted.index][:BEST_SPOTS]\n",
    "    return (REVENUE_PER_UNIT * selected.sum() - BUDGET) / 10**9"
   ]
  },
  {
   "cell_type": "code",
   "execution_count": 12,
   "metadata": {
    "scrolled": false
   },
   "outputs": [
    {
     "name": "stdout",
     "output_type": "stream",
     "text": [
      "Предпологаемая прибыль для первого региона: 3.363 млрд. руб.\n",
      "Предпологаемая прибыль для второго региона: 2.415 млрд. руб.\n",
      "Предпологаемая прибыль для третьего региона: 2.624 млрд. руб.\n"
     ]
    }
   ],
   "source": [
    "print('Предпологаемая прибыль для первого региона: {:.3f} млрд. руб.'.format((count_revenue(predictions_1, target_valid_1))))\n",
    "print('Предпологаемая прибыль для второго региона: {:.3f} млрд. руб.'.format((count_revenue(predictions_2, target_valid_2))))\n",
    "print('Предпологаемая прибыль для третьего региона: {:.3f} млрд. руб.'.format((count_revenue(predictions_3, target_valid_3))))"
   ]
  },
  {
   "cell_type": "markdown",
   "metadata": {},
   "source": [
    "Наиболее прибыльным оказался согласно предсказанным величинам оказался первый регион, наименее - второй."
   ]
  },
  {
   "cell_type": "markdown",
   "metadata": {},
   "source": [
    "## Расчёт прибыли и рисков с помощью Bootstrap\n",
    "\n",
    "Посчитаем риски и прибыль каждого региона с помощью метода Bootstrap и 1000 выборок."
   ]
  },
  {
   "cell_type": "code",
   "execution_count": 13,
   "metadata": {},
   "outputs": [],
   "source": [
    "state = np.random.RandomState(0)\n",
    " \n",
    "def bootstrap(predicted_valid, target_valid):\n",
    "    values = []\n",
    "    for i in range(1000):\n",
    "        predicted_valid_subsample = predicted_valid.sample(n=ALL_SPOTS, replace=True, random_state=state)\n",
    "        values.append(count_revenue(predicted_valid_subsample, target_valid))   \n",
    " \n",
    "    values = pd.Series(values)\n",
    "    lower = round(values.quantile(LOSS_THRESHOLD), 4)\n",
    "    higher = round(values.quantile(1-LOSS_THRESHOLD), 4)\n",
    "    mean = values.mean()\n",
    "    \n",
    "    print(\"Средняя прибыль:{:.3f} млрд. руб.\".format(mean))\n",
    "    print(f'95%-ый доверительный интервал: от {lower} млрд. руб. до {higher} млрд. руб.')\n",
    "    print(\"Риски убытка:\", (values < 0).mean()*100, \"%\")"
   ]
  },
  {
   "cell_type": "code",
   "execution_count": 14,
   "metadata": {},
   "outputs": [
    {
     "name": "stdout",
     "output_type": "stream",
     "text": [
      "Средняя прибыль:0.443 млрд. руб.\n",
      "95%-ый доверительный интервал: от -0.0492 млрд. руб. до 0.9211 млрд. руб.\n",
      "Риски убытка: 3.9 %\n"
     ]
    }
   ],
   "source": [
    "bootstrap(predictions_1, target_valid_1)"
   ]
  },
  {
   "cell_type": "code",
   "execution_count": 15,
   "metadata": {},
   "outputs": [
    {
     "name": "stdout",
     "output_type": "stream",
     "text": [
      "Средняя прибыль:0.470 млрд. руб.\n",
      "95%-ый доверительный интервал: от 0.0852 млрд. руб. до 0.8509 млрд. руб.\n",
      "Риски убытка: 0.8 %\n"
     ]
    }
   ],
   "source": [
    "bootstrap(predictions_2, target_valid_2)"
   ]
  },
  {
   "cell_type": "code",
   "execution_count": 16,
   "metadata": {
    "scrolled": false
   },
   "outputs": [
    {
     "name": "stdout",
     "output_type": "stream",
     "text": [
      "Средняя прибыль:0.384 млрд. руб.\n",
      "95%-ый доверительный интервал: от -0.151 млрд. руб. до 0.9168 млрд. руб.\n",
      "Риски убытка: 6.9 %\n"
     ]
    }
   ],
   "source": [
    "bootstrap(predictions_3, target_valid_3)"
   ]
  },
  {
   "cell_type": "markdown",
   "metadata": {},
   "source": [
    "## Выводы\n",
    "\n",
    "В ходе работы на трёх генеральных выборках, включающих данные геологоразведки, была обучена модель \"Линейная регрессия\", посчитаны средние запасы нефти и предположительная прибыль в каждом из регионов. По результатам проведенного анализа получены следующие выводы:\n",
    "\n",
    "Регион 1:\n",
    "- Средний запас нефти: 92.27 тысяч баррелей;\n",
    "- Предпологаемая средняя прибыль: 0.443 млрд. руб..\n",
    "- Доверительный интервал: от -0.0492 млрд. руб. до 0.9211 млрд. руб.\n",
    "- Риск убытка: 3.9 %\n",
    "\n",
    "\n",
    "Регион 2:\n",
    "- Средний запас нефти: 69.15 тысяч баррелей;\n",
    "- Предпологаемая средняя прибыль: 0.470 млрд. руб.\n",
    "- Доверительный интервал: от 0.0852 млрд. руб. до 0.8509 млрд. руб.\n",
    "- Риск убытка: 0.8 %\n",
    "\n",
    "Регион 3:\n",
    "- Средний запас нефти: 94.71 тысяч баррелей;\n",
    "- Предпологаемая средняя прибыль: 0.384 млрд. руб.\n",
    "- Доверительный интервал: от -0.151 млрд. руб. до 0.9168 млрд. руб.\n",
    "- Риск убытка: 6.9 %\n",
    "\n",
    "Таким образом, наиболее перспективным с точки зрения прибыли, меньших рисков и доверительного интервала, находящегося исключительно в положительных величинах, является Регион №2, хотя он и обладает наименьшими средними запасами нефти в сравнпении с двумя другими регионами. "
   ]
  }
 ],
 "metadata": {
  "ExecuteTimeLog": [
   {
    "duration": 1722,
    "start_time": "2023-03-15T12:53:59.584Z"
   },
   {
    "duration": 357,
    "start_time": "2023-03-15T12:54:01.308Z"
   },
   {
    "duration": 105,
    "start_time": "2023-03-15T12:54:01.667Z"
   },
   {
    "duration": 199,
    "start_time": "2023-03-15T12:54:01.774Z"
   },
   {
    "duration": 4,
    "start_time": "2023-03-15T12:54:01.975Z"
   },
   {
    "duration": 355,
    "start_time": "2023-03-15T12:54:01.980Z"
   },
   {
    "duration": 4,
    "start_time": "2023-03-15T12:54:02.338Z"
   },
   {
    "duration": 178,
    "start_time": "2023-03-15T12:54:02.344Z"
   },
   {
    "duration": 7,
    "start_time": "2023-03-15T12:54:02.524Z"
   },
   {
    "duration": 8,
    "start_time": "2023-03-15T12:54:02.534Z"
   },
   {
    "duration": 6,
    "start_time": "2023-03-15T12:54:02.544Z"
   },
   {
    "duration": 32,
    "start_time": "2023-03-15T12:54:02.552Z"
   },
   {
    "duration": 6,
    "start_time": "2023-03-15T12:54:02.586Z"
   },
   {
    "duration": 539,
    "start_time": "2023-03-15T12:54:02.594Z"
   },
   {
    "duration": 520,
    "start_time": "2023-03-15T12:54:03.135Z"
   },
   {
    "duration": 514,
    "start_time": "2023-03-15T12:54:03.657Z"
   }
  ],
  "kernelspec": {
   "display_name": "Python 3 (ipykernel)",
   "language": "python",
   "name": "python3"
  },
  "language_info": {
   "codemirror_mode": {
    "name": "ipython",
    "version": 3
   },
   "file_extension": ".py",
   "mimetype": "text/x-python",
   "name": "python",
   "nbconvert_exporter": "python",
   "pygments_lexer": "ipython3",
   "version": "3.10.12"
  },
  "toc": {
   "base_numbering": 1,
   "nav_menu": {},
   "number_sections": true,
   "sideBar": true,
   "skip_h1_title": true,
   "title_cell": "Table of Contents",
   "title_sidebar": "Contents",
   "toc_cell": false,
   "toc_position": {},
   "toc_section_display": true,
   "toc_window_display": true
  }
 },
 "nbformat": 4,
 "nbformat_minor": 2
}
