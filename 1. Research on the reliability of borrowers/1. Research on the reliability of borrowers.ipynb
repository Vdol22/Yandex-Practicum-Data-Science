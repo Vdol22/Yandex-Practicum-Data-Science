{
 "cells": [
  {
   "cell_type": "markdown",
   "id": "febc3dbc",
   "metadata": {
    "deletable": false,
    "editable": false,
    "id": "c81daeeb"
   },
   "source": [
    "# Исследование надежности заемщиков\n"
   ]
  },
  {
   "cell_type": "markdown",
   "id": "a13e9233",
   "metadata": {},
   "source": [
    "**В работе проанализрованы данные заёмщиков банка, выделены статистические подгруппы, оценена взаимосвязь отдельных характеристик клиентов и статуса должника.** \n",
    "\n",
    "Цель проекта: нахождение корреляций между различными личностными факторами субъектов и возратов их кредита в срок.\n",
    "\n",
    "С целью проведения анализа были отобраны следующие данные заёмщиков банка:\n",
    "- Количество детей\n",
    "- Стаж\n",
    "- Возраст\n",
    "- Образование\n",
    "- Семейное положение\n",
    "- Пол\n",
    "- Уровень дохода\n",
    "- Причина взятия займа\n",
    "- Статус должника\n",
    "\n",
    "Для нахождения релевантных корреляционных связей необходимо:\n",
    "1. Предобработать данные и исключить, либо заполнить в них пропуски;\n",
    "1. Обобщить и объединить данные по общему признаку, чтобы иметь возможность их проанализировать;\n",
    "1. Провести анализ всех факторов, имеющих влияние на возврат долга субъектами;\n",
    "1. Определить наиболее значимые корреляционные связи;\n",
    "1. Оформить заключение проекта."
   ]
  },
  {
   "cell_type": "markdown",
   "id": "0d27cb28",
   "metadata": {
    "deletable": false,
    "editable": false,
    "id": "827c20bf"
   },
   "source": [
    "Во второй части проекта вы выполните шаги 3 и 4. Их вручную проверит ревьюер.\n",
    "Чтобы вам не пришлось писать код заново для шагов 1 и 2, мы добавили авторские решения в ячейки с кодом. \n",
    "\n"
   ]
  },
  {
   "cell_type": "markdown",
   "id": "8ae23bbe",
   "metadata": {
    "deletable": false,
    "editable": false,
    "id": "744d7639"
   },
   "source": [
    "## Откройте таблицу и изучите общую информацию о данных"
   ]
  },
  {
   "cell_type": "markdown",
   "id": "6cc41aad",
   "metadata": {
    "deletable": false,
    "editable": false,
    "id": "e7a14c31"
   },
   "source": [
    "**Задание 1. Импортируйте библиотеку pandas. Считайте данные из csv-файла в датафрейм и сохраните в переменную `data`. Путь к файлу:**\n",
    "\n",
    "`/datasets/data.csv`"
   ]
  },
  {
   "cell_type": "code",
   "execution_count": 1,
   "id": "7911e1e9",
   "metadata": {
    "deletable": false,
    "id": "7bcf75c9"
   },
   "outputs": [],
   "source": [
    "import pandas as pd\n",
    "\n",
    "try:\n",
    "    data = pd.read_csv('/datasets/data.csv')\n",
    "except:\n",
    "    data = pd.read_csv('https://code.s3.yandex.net/datasets/data.csv')"
   ]
  },
  {
   "cell_type": "markdown",
   "id": "f4a200d8",
   "metadata": {
    "deletable": false,
    "editable": false,
    "id": "b8038fe3"
   },
   "source": [
    "**Задание 2. Выведите первые 20 строчек датафрейма `data` на экран.**"
   ]
  },
  {
   "cell_type": "code",
   "execution_count": 2,
   "id": "3c1d33ba",
   "metadata": {
    "deletable": false,
    "id": "2a7cab99",
    "outputId": "1a8f3ef2-d323-4ec2-ddf7-89670b5944c4"
   },
   "outputs": [
    {
     "data": {
      "text/html": [
       "<div>\n",
       "<style scoped>\n",
       "    .dataframe tbody tr th:only-of-type {\n",
       "        vertical-align: middle;\n",
       "    }\n",
       "\n",
       "    .dataframe tbody tr th {\n",
       "        vertical-align: top;\n",
       "    }\n",
       "\n",
       "    .dataframe thead th {\n",
       "        text-align: right;\n",
       "    }\n",
       "</style>\n",
       "<table border=\"1\" class=\"dataframe\">\n",
       "  <thead>\n",
       "    <tr style=\"text-align: right;\">\n",
       "      <th></th>\n",
       "      <th>children</th>\n",
       "      <th>days_employed</th>\n",
       "      <th>dob_years</th>\n",
       "      <th>education</th>\n",
       "      <th>education_id</th>\n",
       "      <th>family_status</th>\n",
       "      <th>family_status_id</th>\n",
       "      <th>gender</th>\n",
       "      <th>income_type</th>\n",
       "      <th>debt</th>\n",
       "      <th>total_income</th>\n",
       "      <th>purpose</th>\n",
       "    </tr>\n",
       "  </thead>\n",
       "  <tbody>\n",
       "    <tr>\n",
       "      <th>0</th>\n",
       "      <td>1</td>\n",
       "      <td>-8437.673028</td>\n",
       "      <td>42</td>\n",
       "      <td>высшее</td>\n",
       "      <td>0</td>\n",
       "      <td>женат / замужем</td>\n",
       "      <td>0</td>\n",
       "      <td>F</td>\n",
       "      <td>сотрудник</td>\n",
       "      <td>0</td>\n",
       "      <td>253875.639453</td>\n",
       "      <td>покупка жилья</td>\n",
       "    </tr>\n",
       "    <tr>\n",
       "      <th>1</th>\n",
       "      <td>1</td>\n",
       "      <td>-4024.803754</td>\n",
       "      <td>36</td>\n",
       "      <td>среднее</td>\n",
       "      <td>1</td>\n",
       "      <td>женат / замужем</td>\n",
       "      <td>0</td>\n",
       "      <td>F</td>\n",
       "      <td>сотрудник</td>\n",
       "      <td>0</td>\n",
       "      <td>112080.014102</td>\n",
       "      <td>приобретение автомобиля</td>\n",
       "    </tr>\n",
       "    <tr>\n",
       "      <th>2</th>\n",
       "      <td>0</td>\n",
       "      <td>-5623.422610</td>\n",
       "      <td>33</td>\n",
       "      <td>Среднее</td>\n",
       "      <td>1</td>\n",
       "      <td>женат / замужем</td>\n",
       "      <td>0</td>\n",
       "      <td>M</td>\n",
       "      <td>сотрудник</td>\n",
       "      <td>0</td>\n",
       "      <td>145885.952297</td>\n",
       "      <td>покупка жилья</td>\n",
       "    </tr>\n",
       "    <tr>\n",
       "      <th>3</th>\n",
       "      <td>3</td>\n",
       "      <td>-4124.747207</td>\n",
       "      <td>32</td>\n",
       "      <td>среднее</td>\n",
       "      <td>1</td>\n",
       "      <td>женат / замужем</td>\n",
       "      <td>0</td>\n",
       "      <td>M</td>\n",
       "      <td>сотрудник</td>\n",
       "      <td>0</td>\n",
       "      <td>267628.550329</td>\n",
       "      <td>дополнительное образование</td>\n",
       "    </tr>\n",
       "    <tr>\n",
       "      <th>4</th>\n",
       "      <td>0</td>\n",
       "      <td>340266.072047</td>\n",
       "      <td>53</td>\n",
       "      <td>среднее</td>\n",
       "      <td>1</td>\n",
       "      <td>гражданский брак</td>\n",
       "      <td>1</td>\n",
       "      <td>F</td>\n",
       "      <td>пенсионер</td>\n",
       "      <td>0</td>\n",
       "      <td>158616.077870</td>\n",
       "      <td>сыграть свадьбу</td>\n",
       "    </tr>\n",
       "    <tr>\n",
       "      <th>5</th>\n",
       "      <td>0</td>\n",
       "      <td>-926.185831</td>\n",
       "      <td>27</td>\n",
       "      <td>высшее</td>\n",
       "      <td>0</td>\n",
       "      <td>гражданский брак</td>\n",
       "      <td>1</td>\n",
       "      <td>M</td>\n",
       "      <td>компаньон</td>\n",
       "      <td>0</td>\n",
       "      <td>255763.565419</td>\n",
       "      <td>покупка жилья</td>\n",
       "    </tr>\n",
       "    <tr>\n",
       "      <th>6</th>\n",
       "      <td>0</td>\n",
       "      <td>-2879.202052</td>\n",
       "      <td>43</td>\n",
       "      <td>высшее</td>\n",
       "      <td>0</td>\n",
       "      <td>женат / замужем</td>\n",
       "      <td>0</td>\n",
       "      <td>F</td>\n",
       "      <td>компаньон</td>\n",
       "      <td>0</td>\n",
       "      <td>240525.971920</td>\n",
       "      <td>операции с жильем</td>\n",
       "    </tr>\n",
       "    <tr>\n",
       "      <th>7</th>\n",
       "      <td>0</td>\n",
       "      <td>-152.779569</td>\n",
       "      <td>50</td>\n",
       "      <td>СРЕДНЕЕ</td>\n",
       "      <td>1</td>\n",
       "      <td>женат / замужем</td>\n",
       "      <td>0</td>\n",
       "      <td>M</td>\n",
       "      <td>сотрудник</td>\n",
       "      <td>0</td>\n",
       "      <td>135823.934197</td>\n",
       "      <td>образование</td>\n",
       "    </tr>\n",
       "    <tr>\n",
       "      <th>8</th>\n",
       "      <td>2</td>\n",
       "      <td>-6929.865299</td>\n",
       "      <td>35</td>\n",
       "      <td>ВЫСШЕЕ</td>\n",
       "      <td>0</td>\n",
       "      <td>гражданский брак</td>\n",
       "      <td>1</td>\n",
       "      <td>F</td>\n",
       "      <td>сотрудник</td>\n",
       "      <td>0</td>\n",
       "      <td>95856.832424</td>\n",
       "      <td>на проведение свадьбы</td>\n",
       "    </tr>\n",
       "    <tr>\n",
       "      <th>9</th>\n",
       "      <td>0</td>\n",
       "      <td>-2188.756445</td>\n",
       "      <td>41</td>\n",
       "      <td>среднее</td>\n",
       "      <td>1</td>\n",
       "      <td>женат / замужем</td>\n",
       "      <td>0</td>\n",
       "      <td>M</td>\n",
       "      <td>сотрудник</td>\n",
       "      <td>0</td>\n",
       "      <td>144425.938277</td>\n",
       "      <td>покупка жилья для семьи</td>\n",
       "    </tr>\n",
       "    <tr>\n",
       "      <th>10</th>\n",
       "      <td>2</td>\n",
       "      <td>-4171.483647</td>\n",
       "      <td>36</td>\n",
       "      <td>высшее</td>\n",
       "      <td>0</td>\n",
       "      <td>женат / замужем</td>\n",
       "      <td>0</td>\n",
       "      <td>M</td>\n",
       "      <td>компаньон</td>\n",
       "      <td>0</td>\n",
       "      <td>113943.491460</td>\n",
       "      <td>покупка недвижимости</td>\n",
       "    </tr>\n",
       "    <tr>\n",
       "      <th>11</th>\n",
       "      <td>0</td>\n",
       "      <td>-792.701887</td>\n",
       "      <td>40</td>\n",
       "      <td>среднее</td>\n",
       "      <td>1</td>\n",
       "      <td>женат / замужем</td>\n",
       "      <td>0</td>\n",
       "      <td>F</td>\n",
       "      <td>сотрудник</td>\n",
       "      <td>0</td>\n",
       "      <td>77069.234271</td>\n",
       "      <td>покупка коммерческой недвижимости</td>\n",
       "    </tr>\n",
       "    <tr>\n",
       "      <th>12</th>\n",
       "      <td>0</td>\n",
       "      <td>NaN</td>\n",
       "      <td>65</td>\n",
       "      <td>среднее</td>\n",
       "      <td>1</td>\n",
       "      <td>гражданский брак</td>\n",
       "      <td>1</td>\n",
       "      <td>M</td>\n",
       "      <td>пенсионер</td>\n",
       "      <td>0</td>\n",
       "      <td>NaN</td>\n",
       "      <td>сыграть свадьбу</td>\n",
       "    </tr>\n",
       "    <tr>\n",
       "      <th>13</th>\n",
       "      <td>0</td>\n",
       "      <td>-1846.641941</td>\n",
       "      <td>54</td>\n",
       "      <td>неоконченное высшее</td>\n",
       "      <td>2</td>\n",
       "      <td>женат / замужем</td>\n",
       "      <td>0</td>\n",
       "      <td>F</td>\n",
       "      <td>сотрудник</td>\n",
       "      <td>0</td>\n",
       "      <td>130458.228857</td>\n",
       "      <td>приобретение автомобиля</td>\n",
       "    </tr>\n",
       "    <tr>\n",
       "      <th>14</th>\n",
       "      <td>0</td>\n",
       "      <td>-1844.956182</td>\n",
       "      <td>56</td>\n",
       "      <td>высшее</td>\n",
       "      <td>0</td>\n",
       "      <td>гражданский брак</td>\n",
       "      <td>1</td>\n",
       "      <td>F</td>\n",
       "      <td>компаньон</td>\n",
       "      <td>1</td>\n",
       "      <td>165127.911772</td>\n",
       "      <td>покупка жилой недвижимости</td>\n",
       "    </tr>\n",
       "    <tr>\n",
       "      <th>15</th>\n",
       "      <td>1</td>\n",
       "      <td>-972.364419</td>\n",
       "      <td>26</td>\n",
       "      <td>среднее</td>\n",
       "      <td>1</td>\n",
       "      <td>женат / замужем</td>\n",
       "      <td>0</td>\n",
       "      <td>F</td>\n",
       "      <td>сотрудник</td>\n",
       "      <td>0</td>\n",
       "      <td>116820.904450</td>\n",
       "      <td>строительство собственной недвижимости</td>\n",
       "    </tr>\n",
       "    <tr>\n",
       "      <th>16</th>\n",
       "      <td>0</td>\n",
       "      <td>-1719.934226</td>\n",
       "      <td>35</td>\n",
       "      <td>среднее</td>\n",
       "      <td>1</td>\n",
       "      <td>женат / замужем</td>\n",
       "      <td>0</td>\n",
       "      <td>F</td>\n",
       "      <td>сотрудник</td>\n",
       "      <td>0</td>\n",
       "      <td>289202.704229</td>\n",
       "      <td>недвижимость</td>\n",
       "    </tr>\n",
       "    <tr>\n",
       "      <th>17</th>\n",
       "      <td>0</td>\n",
       "      <td>-2369.999720</td>\n",
       "      <td>33</td>\n",
       "      <td>высшее</td>\n",
       "      <td>0</td>\n",
       "      <td>гражданский брак</td>\n",
       "      <td>1</td>\n",
       "      <td>M</td>\n",
       "      <td>сотрудник</td>\n",
       "      <td>0</td>\n",
       "      <td>90410.586745</td>\n",
       "      <td>строительство недвижимости</td>\n",
       "    </tr>\n",
       "    <tr>\n",
       "      <th>18</th>\n",
       "      <td>0</td>\n",
       "      <td>400281.136913</td>\n",
       "      <td>53</td>\n",
       "      <td>среднее</td>\n",
       "      <td>1</td>\n",
       "      <td>вдовец / вдова</td>\n",
       "      <td>2</td>\n",
       "      <td>F</td>\n",
       "      <td>пенсионер</td>\n",
       "      <td>0</td>\n",
       "      <td>56823.777243</td>\n",
       "      <td>на покупку подержанного автомобиля</td>\n",
       "    </tr>\n",
       "    <tr>\n",
       "      <th>19</th>\n",
       "      <td>0</td>\n",
       "      <td>-10038.818549</td>\n",
       "      <td>48</td>\n",
       "      <td>СРЕДНЕЕ</td>\n",
       "      <td>1</td>\n",
       "      <td>в разводе</td>\n",
       "      <td>3</td>\n",
       "      <td>F</td>\n",
       "      <td>сотрудник</td>\n",
       "      <td>0</td>\n",
       "      <td>242831.107982</td>\n",
       "      <td>на покупку своего автомобиля</td>\n",
       "    </tr>\n",
       "  </tbody>\n",
       "</table>\n",
       "</div>"
      ],
      "text/plain": [
       "    children  days_employed  dob_years            education  education_id  \\\n",
       "0          1   -8437.673028         42               высшее             0   \n",
       "1          1   -4024.803754         36              среднее             1   \n",
       "2          0   -5623.422610         33              Среднее             1   \n",
       "3          3   -4124.747207         32              среднее             1   \n",
       "4          0  340266.072047         53              среднее             1   \n",
       "5          0    -926.185831         27               высшее             0   \n",
       "6          0   -2879.202052         43               высшее             0   \n",
       "7          0    -152.779569         50              СРЕДНЕЕ             1   \n",
       "8          2   -6929.865299         35               ВЫСШЕЕ             0   \n",
       "9          0   -2188.756445         41              среднее             1   \n",
       "10         2   -4171.483647         36               высшее             0   \n",
       "11         0    -792.701887         40              среднее             1   \n",
       "12         0            NaN         65              среднее             1   \n",
       "13         0   -1846.641941         54  неоконченное высшее             2   \n",
       "14         0   -1844.956182         56               высшее             0   \n",
       "15         1    -972.364419         26              среднее             1   \n",
       "16         0   -1719.934226         35              среднее             1   \n",
       "17         0   -2369.999720         33               высшее             0   \n",
       "18         0  400281.136913         53              среднее             1   \n",
       "19         0  -10038.818549         48              СРЕДНЕЕ             1   \n",
       "\n",
       "       family_status  family_status_id gender income_type  debt  \\\n",
       "0    женат / замужем                 0      F   сотрудник     0   \n",
       "1    женат / замужем                 0      F   сотрудник     0   \n",
       "2    женат / замужем                 0      M   сотрудник     0   \n",
       "3    женат / замужем                 0      M   сотрудник     0   \n",
       "4   гражданский брак                 1      F   пенсионер     0   \n",
       "5   гражданский брак                 1      M   компаньон     0   \n",
       "6    женат / замужем                 0      F   компаньон     0   \n",
       "7    женат / замужем                 0      M   сотрудник     0   \n",
       "8   гражданский брак                 1      F   сотрудник     0   \n",
       "9    женат / замужем                 0      M   сотрудник     0   \n",
       "10   женат / замужем                 0      M   компаньон     0   \n",
       "11   женат / замужем                 0      F   сотрудник     0   \n",
       "12  гражданский брак                 1      M   пенсионер     0   \n",
       "13   женат / замужем                 0      F   сотрудник     0   \n",
       "14  гражданский брак                 1      F   компаньон     1   \n",
       "15   женат / замужем                 0      F   сотрудник     0   \n",
       "16   женат / замужем                 0      F   сотрудник     0   \n",
       "17  гражданский брак                 1      M   сотрудник     0   \n",
       "18    вдовец / вдова                 2      F   пенсионер     0   \n",
       "19         в разводе                 3      F   сотрудник     0   \n",
       "\n",
       "     total_income                                 purpose  \n",
       "0   253875.639453                           покупка жилья  \n",
       "1   112080.014102                 приобретение автомобиля  \n",
       "2   145885.952297                           покупка жилья  \n",
       "3   267628.550329              дополнительное образование  \n",
       "4   158616.077870                         сыграть свадьбу  \n",
       "5   255763.565419                           покупка жилья  \n",
       "6   240525.971920                       операции с жильем  \n",
       "7   135823.934197                             образование  \n",
       "8    95856.832424                   на проведение свадьбы  \n",
       "9   144425.938277                 покупка жилья для семьи  \n",
       "10  113943.491460                    покупка недвижимости  \n",
       "11   77069.234271       покупка коммерческой недвижимости  \n",
       "12            NaN                         сыграть свадьбу  \n",
       "13  130458.228857                 приобретение автомобиля  \n",
       "14  165127.911772              покупка жилой недвижимости  \n",
       "15  116820.904450  строительство собственной недвижимости  \n",
       "16  289202.704229                            недвижимость  \n",
       "17   90410.586745              строительство недвижимости  \n",
       "18   56823.777243      на покупку подержанного автомобиля  \n",
       "19  242831.107982            на покупку своего автомобиля  "
      ]
     },
     "execution_count": 2,
     "metadata": {},
     "output_type": "execute_result"
    }
   ],
   "source": [
    "data.head(20)"
   ]
  },
  {
   "cell_type": "markdown",
   "id": "de40cc66",
   "metadata": {
    "deletable": false,
    "editable": false,
    "id": "1c12e233"
   },
   "source": [
    "**Задание 3. Выведите основную информацию о датафрейме с помощью метода `info()`.**"
   ]
  },
  {
   "cell_type": "code",
   "execution_count": 3,
   "id": "135619dd",
   "metadata": {
    "deletable": false,
    "id": "2b757bca",
    "outputId": "15376089-8dad-46c9-b520-c05248d43158"
   },
   "outputs": [
    {
     "name": "stdout",
     "output_type": "stream",
     "text": [
      "<class 'pandas.core.frame.DataFrame'>\n",
      "RangeIndex: 21525 entries, 0 to 21524\n",
      "Data columns (total 12 columns):\n",
      " #   Column            Non-Null Count  Dtype  \n",
      "---  ------            --------------  -----  \n",
      " 0   children          21525 non-null  int64  \n",
      " 1   days_employed     19351 non-null  float64\n",
      " 2   dob_years         21525 non-null  int64  \n",
      " 3   education         21525 non-null  object \n",
      " 4   education_id      21525 non-null  int64  \n",
      " 5   family_status     21525 non-null  object \n",
      " 6   family_status_id  21525 non-null  int64  \n",
      " 7   gender            21525 non-null  object \n",
      " 8   income_type       21525 non-null  object \n",
      " 9   debt              21525 non-null  int64  \n",
      " 10  total_income      19351 non-null  float64\n",
      " 11  purpose           21525 non-null  object \n",
      "dtypes: float64(2), int64(5), object(5)\n",
      "memory usage: 2.0+ MB\n"
     ]
    }
   ],
   "source": [
    "data.info()"
   ]
  },
  {
   "cell_type": "markdown",
   "id": "c7f27d83",
   "metadata": {
    "deletable": false,
    "editable": false,
    "id": "333ec665"
   },
   "source": [
    "## Предобработка данных"
   ]
  },
  {
   "cell_type": "markdown",
   "id": "e5899ad4",
   "metadata": {
    "deletable": false,
    "editable": false,
    "id": "02d92d53"
   },
   "source": [
    "### Удаление пропусков"
   ]
  },
  {
   "cell_type": "markdown",
   "id": "cec26c35",
   "metadata": {
    "deletable": false,
    "editable": false,
    "id": "cd84967c"
   },
   "source": [
    "**Задание 4. Выведите количество пропущенных значений для каждого столбца. Используйте комбинацию двух методов.**"
   ]
  },
  {
   "cell_type": "code",
   "execution_count": 4,
   "id": "1e6d73c1",
   "metadata": {
    "deletable": false,
    "id": "7f9b2309",
    "outputId": "81f4d817-781c-465c-ed15-91ce4446810d"
   },
   "outputs": [
    {
     "data": {
      "text/plain": [
       "children               0\n",
       "days_employed       2174\n",
       "dob_years              0\n",
       "education              0\n",
       "education_id           0\n",
       "family_status          0\n",
       "family_status_id       0\n",
       "gender                 0\n",
       "income_type            0\n",
       "debt                   0\n",
       "total_income        2174\n",
       "purpose                0\n",
       "dtype: int64"
      ]
     },
     "execution_count": 4,
     "metadata": {},
     "output_type": "execute_result"
    }
   ],
   "source": [
    "data.isna().sum()"
   ]
  },
  {
   "cell_type": "markdown",
   "id": "992663c6",
   "metadata": {
    "deletable": false,
    "editable": false,
    "id": "db86e27b"
   },
   "source": [
    "**Задание 5. В двух столбцах есть пропущенные значения. Один из них — `days_employed`. Пропуски в этом столбце вы обработаете на следующем этапе. Другой столбец с пропущенными значениями — `total_income` — хранит данные о доходах. На сумму дохода сильнее всего влияет тип занятости, поэтому заполнить пропуски в этом столбце нужно медианным значением по каждому типу из столбца `income_type`. Например, у человека с типом занятости `сотрудник` пропуск в столбце `total_income` должен быть заполнен медианным доходом среди всех записей с тем же типом.**"
   ]
  },
  {
   "cell_type": "code",
   "execution_count": 5,
   "id": "118149e3",
   "metadata": {
    "deletable": false,
    "id": "42006a93"
   },
   "outputs": [],
   "source": [
    "for income in data['income_type'].unique():\n",
    "    data.loc[(data['income_type'] == income) & (data['total_income'].isna()), 'total_income'] = \\\n",
    "    data.loc[(data['income_type'] == income), 'total_income'].median()"
   ]
  },
  {
   "cell_type": "markdown",
   "id": "b233b0cf",
   "metadata": {
    "deletable": false,
    "editable": false,
    "id": "89da5ece"
   },
   "source": [
    "### Обработка аномальных значений"
   ]
  },
  {
   "cell_type": "markdown",
   "id": "4d38fadd",
   "metadata": {
    "deletable": false,
    "editable": false,
    "id": "57964554"
   },
   "source": [
    "**Задание 6. В данных могут встречаться артефакты (аномалии) — значения, которые не отражают действительность и появились по какой-то ошибке. таким артефактом будет отрицательное количество дней трудового стажа в столбце `days_employed`. Для реальных данных это нормально. Обработайте значения в этом столбце: замените все отрицательные значения положительными с помощью метода `abs()`.**"
   ]
  },
  {
   "cell_type": "code",
   "execution_count": 6,
   "id": "c8fd328e",
   "metadata": {
    "deletable": false,
    "id": "f6f055bf"
   },
   "outputs": [],
   "source": [
    "data['days_employed'] = data['days_employed'].abs()"
   ]
  },
  {
   "cell_type": "markdown",
   "id": "888f2347",
   "metadata": {
    "deletable": false,
    "editable": false,
    "id": "6107dd2f"
   },
   "source": [
    "**Задание 7. Для каждого типа занятости выведите медианное значение трудового стажа `days_employed` в днях.**"
   ]
  },
  {
   "cell_type": "code",
   "execution_count": 7,
   "id": "dfb93a70",
   "metadata": {
    "deletable": false,
    "id": "85a5faf6",
    "outputId": "801ef80e-522b-4668-f34e-565af7432bcf"
   },
   "outputs": [
    {
     "data": {
      "text/plain": [
       "income_type\n",
       "безработный        366413.652744\n",
       "в декрете            3296.759962\n",
       "госслужащий          2689.368353\n",
       "компаньон            1547.382223\n",
       "пенсионер          365213.306266\n",
       "предприниматель       520.848083\n",
       "сотрудник            1574.202821\n",
       "студент               578.751554\n",
       "Name: days_employed, dtype: float64"
      ]
     },
     "execution_count": 7,
     "metadata": {},
     "output_type": "execute_result"
    }
   ],
   "source": [
    "data.groupby('income_type')['days_employed'].agg('median')"
   ]
  },
  {
   "cell_type": "markdown",
   "id": "25b2e7d4",
   "metadata": {
    "deletable": false,
    "editable": false,
    "id": "38d1a030"
   },
   "source": [
    "У двух типов (безработные и пенсионеры) получатся аномально большие значения. Исправить такие значения сложно, поэтому оставьте их как есть. Тем более этот столбец не понадобится вам для исследования."
   ]
  },
  {
   "cell_type": "markdown",
   "id": "f4c9dfe2",
   "metadata": {
    "deletable": false,
    "editable": false,
    "id": "d8a9f147"
   },
   "source": [
    "**Задание 8. Выведите перечень уникальных значений столбца `children`.**"
   ]
  },
  {
   "cell_type": "code",
   "execution_count": 8,
   "id": "2dc0120e",
   "metadata": {
    "deletable": false,
    "id": "ef5056eb",
    "outputId": "6975b15c-7f95-4697-d16d-a0c79b657b03"
   },
   "outputs": [
    {
     "data": {
      "text/plain": [
       "array([ 1,  0,  3,  2, -1,  4, 20,  5])"
      ]
     },
     "execution_count": 8,
     "metadata": {},
     "output_type": "execute_result"
    }
   ],
   "source": [
    "data['children'].unique()"
   ]
  },
  {
   "cell_type": "markdown",
   "id": "ca840056",
   "metadata": {
    "deletable": false,
    "editable": false,
    "id": "40b9ebf2"
   },
   "source": [
    "**Задание 9. В столбце `children` есть два аномальных значения. Удалите строки, в которых встречаются такие аномальные значения из датафрейма `data`.**"
   ]
  },
  {
   "cell_type": "code",
   "execution_count": 9,
   "id": "588daa7a",
   "metadata": {
    "deletable": false,
    "id": "3ff9801d"
   },
   "outputs": [],
   "source": [
    "data = data[(data['children'] != -1) & (data['children'] != 20)]"
   ]
  },
  {
   "cell_type": "markdown",
   "id": "73080c77",
   "metadata": {
    "deletable": false,
    "editable": false,
    "id": "bbc4d0ce"
   },
   "source": [
    "**Задание 10. Ещё раз выведите перечень уникальных значений столбца `children`, чтобы убедиться, что артефакты удалены.**"
   ]
  },
  {
   "cell_type": "code",
   "execution_count": 10,
   "id": "a2475f72",
   "metadata": {
    "deletable": false,
    "id": "ad4fa8b7",
    "outputId": "b2097101-d49d-44d9-901b-32a65c9463d1"
   },
   "outputs": [
    {
     "data": {
      "text/plain": [
       "array([1, 0, 3, 2, 4, 5])"
      ]
     },
     "execution_count": 10,
     "metadata": {},
     "output_type": "execute_result"
    }
   ],
   "source": [
    "data['children'].unique()"
   ]
  },
  {
   "cell_type": "markdown",
   "id": "0e5c41cd",
   "metadata": {
    "deletable": false,
    "editable": false,
    "id": "75440b63"
   },
   "source": [
    "### Удаление пропусков (продолжение)"
   ]
  },
  {
   "cell_type": "markdown",
   "id": "5d109676",
   "metadata": {
    "deletable": false,
    "editable": false,
    "id": "f4ea573f"
   },
   "source": [
    "**Задание 11. Заполните пропуски в столбце `days_employed` медианными значениями по каждого типа занятости `income_type`.**"
   ]
  },
  {
   "cell_type": "code",
   "execution_count": 11,
   "id": "55f2d4b4",
   "metadata": {
    "deletable": false,
    "id": "af6b1a7e"
   },
   "outputs": [],
   "source": [
    "for t in data['income_type'].unique():\n",
    "    data.loc[(data['income_type'] == t) & (data['days_employed'].isna()), 'days_employed'] = \\\n",
    "    data.loc[(data['income_type'] == t), 'days_employed'].median()"
   ]
  },
  {
   "cell_type": "markdown",
   "id": "51b22d75",
   "metadata": {
    "deletable": false,
    "editable": false,
    "id": "2753f40d"
   },
   "source": [
    "**Задание 12. Убедитесь, что все пропуски заполнены. Проверьте себя и ещё раз выведите количество пропущенных значений для каждого столбца с помощью двух методов.**"
   ]
  },
  {
   "cell_type": "code",
   "execution_count": 12,
   "id": "4e72cd0a",
   "metadata": {
    "deletable": false,
    "id": "55f78bc2",
    "outputId": "8da1e4e1-358e-4e87-98c9-f261bce0a7b2"
   },
   "outputs": [
    {
     "data": {
      "text/plain": [
       "children            0\n",
       "days_employed       0\n",
       "dob_years           0\n",
       "education           0\n",
       "education_id        0\n",
       "family_status       0\n",
       "family_status_id    0\n",
       "gender              0\n",
       "income_type         0\n",
       "debt                0\n",
       "total_income        0\n",
       "purpose             0\n",
       "dtype: int64"
      ]
     },
     "execution_count": 12,
     "metadata": {},
     "output_type": "execute_result"
    }
   ],
   "source": [
    "data.isna().sum()"
   ]
  },
  {
   "cell_type": "markdown",
   "id": "7b0fe023",
   "metadata": {
    "deletable": false,
    "editable": false,
    "id": "ddc81e43"
   },
   "source": [
    "### Изменение типов данных"
   ]
  },
  {
   "cell_type": "markdown",
   "id": "8054800b",
   "metadata": {
    "deletable": false,
    "editable": false,
    "id": "42d19d24"
   },
   "source": [
    "**Задание 13. Замените вещественный тип данных в столбце `total_income` на целочисленный с помощью метода `astype()`.**"
   ]
  },
  {
   "cell_type": "code",
   "execution_count": 13,
   "id": "6e3953cb",
   "metadata": {
    "deletable": false,
    "id": "920b65ad"
   },
   "outputs": [],
   "source": [
    "data['total_income'] = data['total_income'].astype(int)"
   ]
  },
  {
   "cell_type": "markdown",
   "id": "b4130c14",
   "metadata": {
    "deletable": false,
    "editable": false,
    "id": "80c420ba"
   },
   "source": [
    "### Обработка дубликатов"
   ]
  },
  {
   "cell_type": "markdown",
   "id": "4751f0d4",
   "metadata": {
    "deletable": false,
    "editable": false
   },
   "source": [
    "**Задание 14. Обработайте неявные дубликаты в столбце `education`. В этом столбце есть одни и те же значения, но записанные по-разному: с использованием заглавных и строчных букв. Приведите их к нижнему регистру. Проверьте остальные столбцы.**"
   ]
  },
  {
   "cell_type": "code",
   "execution_count": 14,
   "id": "8969ee4c",
   "metadata": {
    "deletable": false
   },
   "outputs": [],
   "source": [
    "data['education'] = data['education'].str.lower()"
   ]
  },
  {
   "cell_type": "markdown",
   "id": "406f4fc6",
   "metadata": {
    "deletable": false,
    "editable": false,
    "id": "dc587695"
   },
   "source": [
    "**Задание 15. Выведите на экран количество строк-дубликатов в данных. Если такие строки присутствуют, удалите их.**"
   ]
  },
  {
   "cell_type": "code",
   "execution_count": 15,
   "id": "b49b0d35",
   "metadata": {
    "deletable": false,
    "id": "3ee445e4",
    "outputId": "9684deba-1934-42d1-99e1-cda61740f822"
   },
   "outputs": [
    {
     "data": {
      "text/plain": [
       "71"
      ]
     },
     "execution_count": 15,
     "metadata": {},
     "output_type": "execute_result"
    }
   ],
   "source": [
    "data.duplicated().sum()"
   ]
  },
  {
   "cell_type": "code",
   "execution_count": 16,
   "id": "c1c11160",
   "metadata": {
    "deletable": false,
    "id": "8575fe05"
   },
   "outputs": [],
   "source": [
    "data = data.drop_duplicates()"
   ]
  },
  {
   "cell_type": "markdown",
   "id": "8a1c083b",
   "metadata": {
    "deletable": false,
    "editable": false,
    "id": "9904cf55"
   },
   "source": [
    "### Категоризация данных"
   ]
  },
  {
   "cell_type": "markdown",
   "id": "c8fcd61c",
   "metadata": {
    "deletable": false,
    "editable": false,
    "id": "72fcc8a2"
   },
   "source": [
    "**Задание 16. На основании диапазонов, указанных ниже, создайте в датафрейме `data` столбец `total_income_category` с категориями:**\n",
    "\n",
    "- 0–30000 — `'E'`;\n",
    "- 30001–50000 — `'D'`;\n",
    "- 50001–200000 — `'C'`;\n",
    "- 200001–1000000 — `'B'`;\n",
    "- 1000001 и выше — `'A'`.\n",
    "\n",
    "\n",
    "**Например, кредитополучателю с доходом 25000 нужно назначить категорию `'E'`, а клиенту, получающему 235000, — `'B'`. Используйте собственную функцию с именем `categorize_income()` и метод `apply()`.**"
   ]
  },
  {
   "cell_type": "code",
   "execution_count": 17,
   "id": "9b015f1c",
   "metadata": {
    "deletable": false,
    "id": "e1771346"
   },
   "outputs": [],
   "source": [
    "def categorize_income(income):\n",
    "    try:\n",
    "        if 0 <= income <= 30000:\n",
    "            return 'E'\n",
    "        elif 30001 <= income <= 50000:\n",
    "            return 'D'\n",
    "        elif 50001 <= income <= 200000:\n",
    "            return 'C'\n",
    "        elif 200001 <= income <= 1000000:\n",
    "            return 'B'\n",
    "        elif income >= 1000001:\n",
    "            return 'A'\n",
    "    except:\n",
    "        pass"
   ]
  },
  {
   "cell_type": "code",
   "execution_count": 18,
   "id": "e12a0cc7",
   "metadata": {
    "deletable": false,
    "id": "d5f3586d"
   },
   "outputs": [],
   "source": [
    "data['total_income_category'] = data['total_income'].apply(categorize_income)"
   ]
  },
  {
   "cell_type": "markdown",
   "id": "06810766",
   "metadata": {
    "deletable": false,
    "editable": false,
    "id": "dde49b5c"
   },
   "source": [
    "**Задание 17. Выведите на экран перечень уникальных целей взятия кредита из столбца `purpose`.**"
   ]
  },
  {
   "cell_type": "code",
   "execution_count": 19,
   "id": "05739b96",
   "metadata": {
    "deletable": false,
    "id": "f67ce9b3",
    "outputId": "673c12d9-7d7e-4ae0-9812-c622c89dd244"
   },
   "outputs": [
    {
     "data": {
      "text/plain": [
       "array(['покупка жилья', 'приобретение автомобиля',\n",
       "       'дополнительное образование', 'сыграть свадьбу',\n",
       "       'операции с жильем', 'образование', 'на проведение свадьбы',\n",
       "       'покупка жилья для семьи', 'покупка недвижимости',\n",
       "       'покупка коммерческой недвижимости', 'покупка жилой недвижимости',\n",
       "       'строительство собственной недвижимости', 'недвижимость',\n",
       "       'строительство недвижимости', 'на покупку подержанного автомобиля',\n",
       "       'на покупку своего автомобиля',\n",
       "       'операции с коммерческой недвижимостью',\n",
       "       'строительство жилой недвижимости', 'жилье',\n",
       "       'операции со своей недвижимостью', 'автомобили',\n",
       "       'заняться образованием', 'сделка с подержанным автомобилем',\n",
       "       'получение образования', 'автомобиль', 'свадьба',\n",
       "       'получение дополнительного образования', 'покупка своего жилья',\n",
       "       'операции с недвижимостью', 'получение высшего образования',\n",
       "       'свой автомобиль', 'сделка с автомобилем',\n",
       "       'профильное образование', 'высшее образование',\n",
       "       'покупка жилья для сдачи', 'на покупку автомобиля', 'ремонт жилью',\n",
       "       'заняться высшим образованием'], dtype=object)"
      ]
     },
     "execution_count": 19,
     "metadata": {},
     "output_type": "execute_result"
    }
   ],
   "source": [
    "data['purpose'].unique()"
   ]
  },
  {
   "cell_type": "markdown",
   "id": "0a5b53ef",
   "metadata": {
    "deletable": false,
    "editable": false,
    "id": "85d0aef0"
   },
   "source": [
    "**Задание 18. Создайте функцию, которая на основании данных из столбца `purpose` сформирует новый столбец `purpose_category`, в который войдут следующие категории:**\n",
    "\n",
    "- `'операции с автомобилем'`,\n",
    "- `'операции с недвижимостью'`,\n",
    "- `'проведение свадьбы'`,\n",
    "- `'получение образования'`.\n",
    "\n",
    "**Например, если в столбце `purpose` находится подстрока `'на покупку автомобиля'`, то в столбце `purpose_category` должна появиться строка `'операции с автомобилем'`.**\n",
    "\n",
    "**Используйте собственную функцию с именем `categorize_purpose()` и метод `apply()`. Изучите данные в столбце `purpose` и определите, какие подстроки помогут вам правильно определить категорию.**"
   ]
  },
  {
   "cell_type": "code",
   "execution_count": 20,
   "id": "d995033c",
   "metadata": {
    "deletable": false,
    "id": "e149fab4"
   },
   "outputs": [],
   "source": [
    "def categorize_purpose(row):\n",
    "    try:\n",
    "        if 'автом' in row:\n",
    "            return 'операции с автомобилем'\n",
    "        elif 'жил' in row or 'недвиж' in row:\n",
    "            return 'операции с недвижимостью'\n",
    "        elif 'свад' in row:\n",
    "            return 'проведение свадьбы'\n",
    "        elif 'образ' in row:\n",
    "            return 'получение образования'\n",
    "    except:\n",
    "        return 'нет категории'"
   ]
  },
  {
   "cell_type": "code",
   "execution_count": 21,
   "id": "0efb438a",
   "metadata": {
    "deletable": false,
    "id": "bf36e69b"
   },
   "outputs": [],
   "source": [
    "data['purpose_category'] = data['purpose'].apply(categorize_purpose)"
   ]
  },
  {
   "cell_type": "markdown",
   "id": "d7209e15",
   "metadata": {
    "deletable": false,
    "editable": false,
    "id": "09b242bf"
   },
   "source": [
    "### Шаг 3. Исследуйте данные и ответьте на вопросы"
   ]
  },
  {
   "cell_type": "markdown",
   "id": "7f58f6fb",
   "metadata": {
    "deletable": false,
    "editable": false,
    "id": "c5d66278"
   },
   "source": [
    "#### 3.1 Есть ли зависимость между количеством детей и возвратом кредита в срок?"
   ]
  },
  {
   "cell_type": "markdown",
   "id": "1a425e55",
   "metadata": {},
   "source": [
    "Для этого выведем таблицу, где разобьём граждан в выборке по количеству детей, должнков в каждой группе, и доли последних от группы:"
   ]
  },
  {
   "cell_type": "code",
   "execution_count": 22,
   "id": "ab4d4c8d",
   "metadata": {
    "deletable": false,
    "id": "2cacfc4a"
   },
   "outputs": [
    {
     "data": {
      "text/html": [
       "<div>\n",
       "<style scoped>\n",
       "    .dataframe tbody tr th:only-of-type {\n",
       "        vertical-align: middle;\n",
       "    }\n",
       "\n",
       "    .dataframe tbody tr th {\n",
       "        vertical-align: top;\n",
       "    }\n",
       "\n",
       "    .dataframe thead th {\n",
       "        text-align: right;\n",
       "    }\n",
       "</style>\n",
       "<table border=\"1\" class=\"dataframe\">\n",
       "  <thead>\n",
       "    <tr style=\"text-align: right;\">\n",
       "      <th></th>\n",
       "      <th>gross</th>\n",
       "      <th>debters</th>\n",
       "      <th>debters_share</th>\n",
       "    </tr>\n",
       "  </thead>\n",
       "  <tbody>\n",
       "    <tr>\n",
       "      <th>0</th>\n",
       "      <td>14091</td>\n",
       "      <td>1063</td>\n",
       "      <td>7.54</td>\n",
       "    </tr>\n",
       "    <tr>\n",
       "      <th>1</th>\n",
       "      <td>4808</td>\n",
       "      <td>444</td>\n",
       "      <td>9.23</td>\n",
       "    </tr>\n",
       "    <tr>\n",
       "      <th>2</th>\n",
       "      <td>2052</td>\n",
       "      <td>194</td>\n",
       "      <td>9.45</td>\n",
       "    </tr>\n",
       "    <tr>\n",
       "      <th>3</th>\n",
       "      <td>330</td>\n",
       "      <td>27</td>\n",
       "      <td>8.18</td>\n",
       "    </tr>\n",
       "    <tr>\n",
       "      <th>4</th>\n",
       "      <td>41</td>\n",
       "      <td>4</td>\n",
       "      <td>9.76</td>\n",
       "    </tr>\n",
       "    <tr>\n",
       "      <th>5</th>\n",
       "      <td>9</td>\n",
       "      <td>0</td>\n",
       "      <td>0.00</td>\n",
       "    </tr>\n",
       "  </tbody>\n",
       "</table>\n",
       "</div>"
      ],
      "text/plain": [
       "   gross  debters  debters_share\n",
       "0  14091     1063           7.54\n",
       "1   4808      444           9.23\n",
       "2   2052      194           9.45\n",
       "3    330       27           8.18\n",
       "4     41        4           9.76\n",
       "5      9        0           0.00"
      ]
     },
     "execution_count": 22,
     "metadata": {},
     "output_type": "execute_result"
    }
   ],
   "source": [
    "df = {'gross': data['children'].value_counts(), \\\n",
    "      'debters': data.groupby('children')['debt'].sum(), \\\n",
    "      'debters_share': round((data.groupby('children')['debt'].sum() / data['children'].value_counts()*100), 2)\n",
    "     }\n",
    "\n",
    "children_to_dept = pd.DataFrame(data=df)\n",
    "children_to_dept"
   ]
  },
  {
   "cell_type": "markdown",
   "id": "1db776a8",
   "metadata": {},
   "source": [
    "**Вывод: Данных о гражданах с 3 и более детей в выборке недостаточно, чтобы сделать полноценный анализ для этих групп субъектов. Необходимо собрать большее количество данных, либо объеденить граждан с 3 и более детьми в одну группу.\n",
    "Изучая остальную выборку, можно сделать вывод, что существует прямая зависиость нежелания субъекта вовремя вернуть кредит от количества детей в семье заёмщика - чем их больше, тем выше процент должников в соответствующей группе.**"
   ]
  },
  {
   "cell_type": "markdown",
   "id": "aa00f9e4",
   "metadata": {
    "deletable": false,
    "editable": false,
    "id": "97be82ca"
   },
   "source": [
    "#### 3.2 Есть ли зависимость между семейным положением и возвратом кредита в срок?"
   ]
  },
  {
   "cell_type": "markdown",
   "id": "6f16260b",
   "metadata": {},
   "source": [
    "Составим аналогичную предыдущему заданию таблицу, разделяющую выборку по семейному положению и доле должников в каждой группе:"
   ]
  },
  {
   "cell_type": "code",
   "execution_count": 23,
   "id": "e47f1ef5",
   "metadata": {
    "deletable": false,
    "id": "dc3f7ee8",
    "scrolled": true
   },
   "outputs": [
    {
     "data": {
      "text/html": [
       "<div>\n",
       "<style scoped>\n",
       "    .dataframe tbody tr th:only-of-type {\n",
       "        vertical-align: middle;\n",
       "    }\n",
       "\n",
       "    .dataframe tbody tr th {\n",
       "        vertical-align: top;\n",
       "    }\n",
       "\n",
       "    .dataframe thead th {\n",
       "        text-align: right;\n",
       "    }\n",
       "</style>\n",
       "<table border=\"1\" class=\"dataframe\">\n",
       "  <thead>\n",
       "    <tr style=\"text-align: right;\">\n",
       "      <th></th>\n",
       "      <th>gross</th>\n",
       "      <th>debters</th>\n",
       "      <th>debters_share</th>\n",
       "    </tr>\n",
       "  </thead>\n",
       "  <tbody>\n",
       "    <tr>\n",
       "      <th>вдовец / вдова</th>\n",
       "      <td>951</td>\n",
       "      <td>63</td>\n",
       "      <td>6.62</td>\n",
       "    </tr>\n",
       "    <tr>\n",
       "      <th>в разводе</th>\n",
       "      <td>1189</td>\n",
       "      <td>84</td>\n",
       "      <td>7.06</td>\n",
       "    </tr>\n",
       "    <tr>\n",
       "      <th>женат / замужем</th>\n",
       "      <td>12261</td>\n",
       "      <td>927</td>\n",
       "      <td>7.56</td>\n",
       "    </tr>\n",
       "    <tr>\n",
       "      <th>гражданский брак</th>\n",
       "      <td>4134</td>\n",
       "      <td>385</td>\n",
       "      <td>9.31</td>\n",
       "    </tr>\n",
       "    <tr>\n",
       "      <th>Не женат / не замужем</th>\n",
       "      <td>2796</td>\n",
       "      <td>273</td>\n",
       "      <td>9.76</td>\n",
       "    </tr>\n",
       "  </tbody>\n",
       "</table>\n",
       "</div>"
      ],
      "text/plain": [
       "                       gross  debters  debters_share\n",
       "вдовец / вдова           951       63           6.62\n",
       "в разводе               1189       84           7.06\n",
       "женат / замужем        12261      927           7.56\n",
       "гражданский брак        4134      385           9.31\n",
       "Не женат / не замужем   2796      273           9.76"
      ]
     },
     "execution_count": 23,
     "metadata": {},
     "output_type": "execute_result"
    }
   ],
   "source": [
    "df = {'gross': data['family_status'].value_counts(), \\\n",
    "      'debters': data.groupby('family_status')['debt'].sum(), \\\n",
    "      'debters_share': round((data.groupby('family_status')['debt'].sum() / data['family_status'].value_counts()*100), 2)\n",
    "     }\n",
    "\n",
    "children_to_dept = pd.DataFrame(data=df).sort_values('debters_share')\n",
    "children_to_dept"
   ]
  },
  {
   "cell_type": "markdown",
   "id": "4e2bb425",
   "metadata": {
    "deletable": false,
    "id": "1cef7837"
   },
   "source": [
    "**Вывод: Наименьшая доля должников среди вдовцов/вдов - 6.62%. Более 9% у граждан, состоящих в гражанском браке и неженатых/незамужних. Напрашивается вывод, что субъекты, когда-либо вступавшие в брачные отношениями, более охотно расплачиваются с банком по кредиту.**\n",
    "\n",
    "Для большей наглядности результата можно объединить группы на состоящих/состоявших в официальном браке, не женатых/замужних и состоящих в гражданскои браке. "
   ]
  },
  {
   "cell_type": "markdown",
   "id": "d9a68e67",
   "metadata": {
    "deletable": false,
    "editable": false,
    "id": "1e8b2fca"
   },
   "source": [
    "#### 3.3 Есть ли зависимость между уровнем дохода и возвратом кредита в срок?"
   ]
  },
  {
   "cell_type": "markdown",
   "id": "3f15530e",
   "metadata": {},
   "source": [
    "Составим таблицу, показывающую должников и их доли от групп доходов в столбце 'total_income_category':"
   ]
  },
  {
   "cell_type": "code",
   "execution_count": 24,
   "id": "0ac9f1f2",
   "metadata": {
    "deletable": false,
    "id": "cd7e3720"
   },
   "outputs": [
    {
     "data": {
      "text/html": [
       "<div>\n",
       "<style scoped>\n",
       "    .dataframe tbody tr th:only-of-type {\n",
       "        vertical-align: middle;\n",
       "    }\n",
       "\n",
       "    .dataframe tbody tr th {\n",
       "        vertical-align: top;\n",
       "    }\n",
       "\n",
       "    .dataframe thead th {\n",
       "        text-align: right;\n",
       "    }\n",
       "</style>\n",
       "<table border=\"1\" class=\"dataframe\">\n",
       "  <thead>\n",
       "    <tr style=\"text-align: right;\">\n",
       "      <th></th>\n",
       "      <th>gross</th>\n",
       "      <th>debters</th>\n",
       "      <th>debters_share</th>\n",
       "    </tr>\n",
       "  </thead>\n",
       "  <tbody>\n",
       "    <tr>\n",
       "      <th>A</th>\n",
       "      <td>25</td>\n",
       "      <td>2</td>\n",
       "      <td>8.00</td>\n",
       "    </tr>\n",
       "    <tr>\n",
       "      <th>B</th>\n",
       "      <td>5014</td>\n",
       "      <td>354</td>\n",
       "      <td>7.06</td>\n",
       "    </tr>\n",
       "    <tr>\n",
       "      <th>C</th>\n",
       "      <td>15921</td>\n",
       "      <td>1353</td>\n",
       "      <td>8.50</td>\n",
       "    </tr>\n",
       "    <tr>\n",
       "      <th>D</th>\n",
       "      <td>349</td>\n",
       "      <td>21</td>\n",
       "      <td>6.02</td>\n",
       "    </tr>\n",
       "    <tr>\n",
       "      <th>E</th>\n",
       "      <td>22</td>\n",
       "      <td>2</td>\n",
       "      <td>9.09</td>\n",
       "    </tr>\n",
       "  </tbody>\n",
       "</table>\n",
       "</div>"
      ],
      "text/plain": [
       "   gross  debters  debters_share\n",
       "A     25        2           8.00\n",
       "B   5014      354           7.06\n",
       "C  15921     1353           8.50\n",
       "D    349       21           6.02\n",
       "E     22        2           9.09"
      ]
     },
     "execution_count": 24,
     "metadata": {},
     "output_type": "execute_result"
    }
   ],
   "source": [
    "df = {'gross': data['total_income_category'].value_counts(), \\\n",
    "      'debters': data.groupby('total_income_category')['debt'].sum(), \\\n",
    "      'debters_share': round((data.groupby('total_income_category')['debt'].sum() / data['total_income_category'].value_counts()*100), 2)\n",
    "     }\n",
    "\n",
    "children_to_dept = pd.DataFrame(data=df)\n",
    "children_to_dept"
   ]
  },
  {
   "cell_type": "markdown",
   "id": "3cd68fee",
   "metadata": {
    "deletable": false,
    "id": "e8593def"
   },
   "source": [
    "**Вывод: Из полученных результатов видно, что данных по гражданам групп Е, D и А недостаточно, чтобы полноценно их проанализировать. Однако, субъекты с категориями заработка А и Е входят в тройку лидеров должников, наряду с гражданами со средним уровнем дохода С. Утверждать о наличии зависимости между уровнем дохода и возвратом кредита в срок только по результатам оценки граждан с доходами категорий В и С нельзя.** "
   ]
  },
  {
   "cell_type": "markdown",
   "id": "c74bf9a8",
   "metadata": {
    "deletable": false,
    "editable": false,
    "id": "99ecbd1f"
   },
   "source": [
    "#### 3.4 Как разные цели кредита влияют на его возврат в срок?"
   ]
  },
  {
   "cell_type": "markdown",
   "id": "b6bb79e4",
   "metadata": {},
   "source": [
    "Для этого построим таблицу, взяв за основу категории причин, что мы вывели ранее в столбце 'purpose_category':"
   ]
  },
  {
   "cell_type": "code",
   "execution_count": 25,
   "id": "e6d9caf6",
   "metadata": {
    "deletable": false,
    "id": "2b687290"
   },
   "outputs": [
    {
     "data": {
      "text/html": [
       "<div>\n",
       "<style scoped>\n",
       "    .dataframe tbody tr th:only-of-type {\n",
       "        vertical-align: middle;\n",
       "    }\n",
       "\n",
       "    .dataframe tbody tr th {\n",
       "        vertical-align: top;\n",
       "    }\n",
       "\n",
       "    .dataframe thead th {\n",
       "        text-align: right;\n",
       "    }\n",
       "</style>\n",
       "<table border=\"1\" class=\"dataframe\">\n",
       "  <thead>\n",
       "    <tr style=\"text-align: right;\">\n",
       "      <th></th>\n",
       "      <th>gross</th>\n",
       "      <th>debters</th>\n",
       "      <th>debters_share</th>\n",
       "    </tr>\n",
       "  </thead>\n",
       "  <tbody>\n",
       "    <tr>\n",
       "      <th>операции с недвижимостью</th>\n",
       "      <td>10751</td>\n",
       "      <td>780</td>\n",
       "      <td>7.26</td>\n",
       "    </tr>\n",
       "    <tr>\n",
       "      <th>проведение свадьбы</th>\n",
       "      <td>2313</td>\n",
       "      <td>183</td>\n",
       "      <td>7.91</td>\n",
       "    </tr>\n",
       "    <tr>\n",
       "      <th>получение образования</th>\n",
       "      <td>3988</td>\n",
       "      <td>369</td>\n",
       "      <td>9.25</td>\n",
       "    </tr>\n",
       "    <tr>\n",
       "      <th>операции с автомобилем</th>\n",
       "      <td>4279</td>\n",
       "      <td>400</td>\n",
       "      <td>9.35</td>\n",
       "    </tr>\n",
       "  </tbody>\n",
       "</table>\n",
       "</div>"
      ],
      "text/plain": [
       "                          gross  debters  debters_share\n",
       "операции с недвижимостью  10751      780           7.26\n",
       "проведение свадьбы         2313      183           7.91\n",
       "получение образования      3988      369           9.25\n",
       "операции с автомобилем     4279      400           9.35"
      ]
     },
     "execution_count": 25,
     "metadata": {},
     "output_type": "execute_result"
    }
   ],
   "source": [
    "df = {'gross': data['purpose_category'].value_counts(), \\\n",
    "      'debters': data.groupby('purpose_category')['debt'].sum(), \\\n",
    "      'debters_share': round((data.groupby('purpose_category')['debt'].sum() / data['purpose_category'].value_counts()*100), 2)\n",
    "     }\n",
    "\n",
    "children_to_dept = pd.DataFrame(data=df).sort_values('debters_share')\n",
    "children_to_dept"
   ]
  },
  {
   "cell_type": "markdown",
   "id": "850f1533",
   "metadata": {
    "deletable": false,
    "id": "b4bb2ce6"
   },
   "source": [
    "**Вывод: можно утверждать, что граждане, берущие кредит на операции с недвижимостью и проведение свадьбы в среднем на 2% чаще возвращают долг, чем субъекты, взявшие займ на получение образования или операции с автомобилем.** "
   ]
  },
  {
   "cell_type": "markdown",
   "id": "8907c1a9",
   "metadata": {
    "deletable": false,
    "editable": false,
    "id": "09c3ac4c"
   },
   "source": [
    "#### 3.5 Приведите возможные причины появления пропусков в исходных данных."
   ]
  },
  {
   "cell_type": "markdown",
   "id": "205b5a8e",
   "metadata": {
    "deletable": false,
    "id": "9da2ceda"
   },
   "source": [
    "*Ответ: в изначальной выборке отсутствовали данные некоторых граждан в столбцах \"доход\" и \"количестве дней трудового стажа\". Вероятнее всего, некоторые субъекты не декларировали собственные доход и стаж, либо работник, указывающий эти категории, не сделал этого, что и послужило причиной пропуска.* "
   ]
  },
  {
   "cell_type": "markdown",
   "id": "dfe88727",
   "metadata": {
    "deletable": false,
    "editable": false,
    "id": "7b0487d6"
   },
   "source": [
    "#### 3.6 Объясните, почему заполнить пропуски медианным значением — лучшее решение для количественных переменных."
   ]
  },
  {
   "cell_type": "markdown",
   "id": "773f0f2c",
   "metadata": {
    "deletable": false,
    "id": "7ecf2b8e"
   },
   "source": [
    "*Ответ: С помощью медианы можно получить более точные данные и правильнее интерпретировать статистику. Например, при расчёте средней заработной платы, когда 19 сотрудников получают по 20 тысяч рублей, а директор — миллион. Среднее арифметическое в этом случае будет равным 69 тысячам рублей, а медиана — 20. Исходя из этой логики, мы заполнили пропуски в столбце дохода именно медианой, а не средней арфиметической.* "
   ]
  },
  {
   "cell_type": "markdown",
   "id": "a0f24695",
   "metadata": {
    "deletable": false,
    "editable": false,
    "id": "6db5255a"
   },
   "source": [
    "### Шаг 4: общий вывод."
   ]
  },
  {
   "cell_type": "markdown",
   "id": "312ae496",
   "metadata": {
    "deletable": false,
    "id": "bad65432"
   },
   "source": [
    "С целью определения факторов, влияющих на желание субъектов банка вернуть кредит в срок, были проанализированы предосталвенные данные, содержащие личностные характеристики каждго субъекта.\n",
    "\n",
    "На этапе предобработки данных обнаружилось, что в стобцах дохода и рабочего стажа некоторых субъектов отсуствовали данные. Вероятнее всего, часть заёмщиков не декларировали доход и стаж, либо работник, указывающий эти категории, по ошибке не сделал этого, что и послужило причиной пропуска. Чтобы избежать дальнейших ошибок при анализе данных, указанные пропуски были заполнены медианным значением по каждому виду деятельности субъекта. С помощью медианы можно получить более точные данные и правильнее интерпретировать статистику. Так же из выборки были исключены данные о субъектах с аномальным количеством детей (-1 и 20), так как это наверняка ошибка в исходных данных, которая помешала бы нам при дальнейшем анализе.\n",
    "\n",
    "Далее мы произвели группировку субъектов по причинам взятия кредита и уровням дохода (на категории Е-А), поскольку без обобщения этих данных невозможно провести адекватную оценку.\n",
    "\n",
    "Для нахождения корреляционных связей со статусом должника субъекта, были выбраны следующие личностные характеристики заёмщика:\n",
    "1. Количество детей\n",
    "1. Семейное положение\n",
    "1. Уровень дохода (по группам)\n",
    "1. Причина взятия кредита (по группам)\n",
    "\n",
    "Результаты анализа следующие:\n",
    "- Большее количество детей в семье заёмщика напрямую влечёт его нежелание раслпачиваться вовремя, однако данный тезис необходимо проверить, собрав больше данных о многодетных семьях;\n",
    "- Субъекты, когда-либо вступавшие в брачные отношениями, охотнее расплачиваются с банком по кредиту;\n",
    "- Для оценки зависимости статуса должника субъекта от его уровня дохода недостаточно данных о гражданах с заработком от 0 до 50 тыс. и более 1 млн. Возможен вывод, что заёмщики, входящие в группу Е (доход от 0 до 30 тыс.) чаще всего просрачивают выплаты по кредиту;\n",
    "- Граждане, берущие кредит на операции с недвижимостью и проведение свадьбы в среднем на 2% чаще возвращают долг в срок, чем субъекты, взявшие займ на получение образования или операции с автомобилем."
   ]
  },
  {
   "cell_type": "markdown",
   "id": "b7a7dd3a",
   "metadata": {
    "deletable": false,
    "id": "3a6b99ec",
    "scrolled": true
   },
   "source": []
  }
 ],
 "metadata": {
  "ExecuteTimeLog": [
   {
    "duration": 50,
    "start_time": "2022-12-07T17:58:45.511Z"
   },
   {
    "duration": 581,
    "start_time": "2022-12-07T17:58:59.175Z"
   },
   {
    "duration": 31,
    "start_time": "2022-12-07T17:58:59.759Z"
   },
   {
    "duration": 17,
    "start_time": "2022-12-07T17:58:59.791Z"
   },
   {
    "duration": 10,
    "start_time": "2022-12-07T17:58:59.810Z"
   },
   {
    "duration": 59,
    "start_time": "2022-12-07T17:58:59.822Z"
   },
   {
    "duration": 3,
    "start_time": "2022-12-07T17:58:59.883Z"
   },
   {
    "duration": 29,
    "start_time": "2022-12-07T17:58:59.888Z"
   },
   {
    "duration": 18,
    "start_time": "2022-12-07T17:58:59.919Z"
   },
   {
    "duration": 31,
    "start_time": "2022-12-07T17:58:59.939Z"
   },
   {
    "duration": 18,
    "start_time": "2022-12-07T17:58:59.972Z"
   },
   {
    "duration": 63,
    "start_time": "2022-12-07T17:58:59.992Z"
   },
   {
    "duration": 11,
    "start_time": "2022-12-07T17:59:00.057Z"
   },
   {
    "duration": 30,
    "start_time": "2022-12-07T17:59:00.069Z"
   },
   {
    "duration": 43,
    "start_time": "2022-12-07T17:59:00.101Z"
   },
   {
    "duration": 22,
    "start_time": "2022-12-07T17:59:00.319Z"
   },
   {
    "duration": 47,
    "start_time": "2022-12-07T17:59:00.342Z"
   },
   {
    "duration": 8,
    "start_time": "2022-12-07T17:59:00.391Z"
   },
   {
    "duration": 56,
    "start_time": "2022-12-07T17:59:00.401Z"
   },
   {
    "duration": 32,
    "start_time": "2022-12-07T17:59:00.459Z"
   },
   {
    "duration": 22,
    "start_time": "2022-12-07T17:59:00.493Z"
   },
   {
    "duration": 32,
    "start_time": "2022-12-07T17:59:00.517Z"
   },
   {
    "duration": 12,
    "start_time": "2022-12-07T17:59:00.550Z"
   },
   {
    "duration": 22,
    "start_time": "2022-12-07T17:59:00.564Z"
   },
   {
    "duration": 39,
    "start_time": "2022-12-07T17:59:00.588Z"
   },
   {
    "duration": 30,
    "start_time": "2022-12-07T17:59:00.629Z"
   },
   {
    "duration": 65,
    "start_time": "2022-12-07T18:00:23.408Z"
   },
   {
    "duration": 5,
    "start_time": "2022-12-07T18:00:45.458Z"
   },
   {
    "duration": 6,
    "start_time": "2022-12-07T18:00:55.005Z"
   },
   {
    "duration": 10,
    "start_time": "2022-12-07T18:04:20.030Z"
   },
   {
    "duration": 1633,
    "start_time": "2022-12-07T18:06:16.583Z"
   },
   {
    "duration": 20,
    "start_time": "2022-12-07T18:06:24.547Z"
   },
   {
    "duration": 22,
    "start_time": "2022-12-07T18:06:32.476Z"
   },
   {
    "duration": 18,
    "start_time": "2022-12-07T18:07:06.527Z"
   },
   {
    "duration": 6,
    "start_time": "2022-12-07T18:15:17.826Z"
   },
   {
    "duration": 9,
    "start_time": "2022-12-07T18:15:23.154Z"
   },
   {
    "duration": 1203,
    "start_time": "2022-12-07T18:17:37.000Z"
   },
   {
    "duration": 15,
    "start_time": "2022-12-07T18:17:55.297Z"
   },
   {
    "duration": 7,
    "start_time": "2022-12-07T18:18:06.920Z"
   },
   {
    "duration": 12,
    "start_time": "2022-12-07T18:18:16.177Z"
   },
   {
    "duration": 7,
    "start_time": "2022-12-07T18:18:42.273Z"
   },
   {
    "duration": 105,
    "start_time": "2022-12-07T18:19:52.755Z"
   },
   {
    "duration": 438,
    "start_time": "2022-12-07T18:19:59.220Z"
   },
   {
    "duration": 7,
    "start_time": "2022-12-07T18:20:35.607Z"
   },
   {
    "duration": 1665,
    "start_time": "2022-12-07T18:21:38.226Z"
   },
   {
    "duration": 6,
    "start_time": "2022-12-07T18:22:12.151Z"
   },
   {
    "duration": 408,
    "start_time": "2022-12-07T18:22:36.644Z"
   },
   {
    "duration": 430,
    "start_time": "2022-12-07T18:22:54.303Z"
   },
   {
    "duration": 8,
    "start_time": "2022-12-07T18:23:26.036Z"
   },
   {
    "duration": 16,
    "start_time": "2022-12-07T18:24:05.555Z"
   },
   {
    "duration": 1697,
    "start_time": "2022-12-07T18:24:21.917Z"
   },
   {
    "duration": 102,
    "start_time": "2022-12-07T18:26:16.763Z"
   },
   {
    "duration": 10,
    "start_time": "2022-12-07T18:26:22.074Z"
   },
   {
    "duration": 9,
    "start_time": "2022-12-07T18:26:45.448Z"
   },
   {
    "duration": 10,
    "start_time": "2022-12-07T18:27:05.613Z"
   },
   {
    "duration": 12,
    "start_time": "2022-12-07T18:27:41.677Z"
   },
   {
    "duration": 17,
    "start_time": "2022-12-07T18:27:49.771Z"
   },
   {
    "duration": 14,
    "start_time": "2022-12-07T18:28:31.982Z"
   },
   {
    "duration": 13,
    "start_time": "2022-12-07T18:28:42.355Z"
   },
   {
    "duration": 10,
    "start_time": "2022-12-07T18:29:11.121Z"
   },
   {
    "duration": 10,
    "start_time": "2022-12-07T18:29:26.312Z"
   },
   {
    "duration": 11,
    "start_time": "2022-12-07T18:29:39.005Z"
   },
   {
    "duration": 11,
    "start_time": "2022-12-07T18:30:05.820Z"
   },
   {
    "duration": 12,
    "start_time": "2022-12-07T18:31:33.306Z"
   },
   {
    "duration": 8,
    "start_time": "2022-12-07T18:31:40.297Z"
   },
   {
    "duration": 10,
    "start_time": "2022-12-07T18:31:45.675Z"
   },
   {
    "duration": 10,
    "start_time": "2022-12-07T18:31:54.030Z"
   },
   {
    "duration": 11,
    "start_time": "2022-12-07T18:32:11.715Z"
   },
   {
    "duration": 10,
    "start_time": "2022-12-07T18:32:32.828Z"
   },
   {
    "duration": 10,
    "start_time": "2022-12-07T18:33:47.012Z"
   },
   {
    "duration": 10,
    "start_time": "2022-12-07T18:33:58.980Z"
   },
   {
    "duration": 12,
    "start_time": "2022-12-07T18:35:17.145Z"
   },
   {
    "duration": 18,
    "start_time": "2022-12-07T18:36:45.398Z"
   },
   {
    "duration": 14,
    "start_time": "2022-12-07T18:37:05.782Z"
   },
   {
    "duration": 11,
    "start_time": "2022-12-07T18:41:10.965Z"
   },
   {
    "duration": 108,
    "start_time": "2022-12-07T18:41:53.633Z"
   },
   {
    "duration": 17,
    "start_time": "2022-12-07T18:41:57.483Z"
   },
   {
    "duration": 25,
    "start_time": "2022-12-07T18:42:51.966Z"
   },
   {
    "duration": 18,
    "start_time": "2022-12-07T18:42:58.344Z"
   },
   {
    "duration": 27,
    "start_time": "2022-12-07T18:43:16.234Z"
   },
   {
    "duration": 25,
    "start_time": "2022-12-07T18:43:25.967Z"
   },
   {
    "duration": 22,
    "start_time": "2022-12-07T18:44:17.651Z"
   },
   {
    "duration": 23,
    "start_time": "2022-12-07T18:45:46.976Z"
   },
   {
    "duration": 104,
    "start_time": "2022-12-07T18:50:48.198Z"
   },
   {
    "duration": 101,
    "start_time": "2022-12-07T18:50:52.260Z"
   },
   {
    "duration": 7,
    "start_time": "2022-12-07T18:57:57.045Z"
   },
   {
    "duration": 21,
    "start_time": "2022-12-07T18:57:58.953Z"
   },
   {
    "duration": 102,
    "start_time": "2022-12-07T18:59:05.615Z"
   },
   {
    "duration": 6,
    "start_time": "2022-12-07T18:59:09.910Z"
   },
   {
    "duration": 6,
    "start_time": "2022-12-07T18:59:23.817Z"
   },
   {
    "duration": 7,
    "start_time": "2022-12-07T19:00:22.341Z"
   },
   {
    "duration": 9,
    "start_time": "2022-12-07T19:00:29.773Z"
   },
   {
    "duration": 7,
    "start_time": "2022-12-07T19:00:44.199Z"
   },
   {
    "duration": 4,
    "start_time": "2022-12-07T19:00:53.052Z"
   },
   {
    "duration": 8,
    "start_time": "2022-12-07T19:00:56.901Z"
   },
   {
    "duration": 9,
    "start_time": "2022-12-07T19:01:09.363Z"
   },
   {
    "duration": 6,
    "start_time": "2022-12-07T19:03:09.209Z"
   },
   {
    "duration": 23,
    "start_time": "2022-12-07T19:03:44.750Z"
   },
   {
    "duration": 101,
    "start_time": "2022-12-07T19:05:12.340Z"
   },
   {
    "duration": 113,
    "start_time": "2022-12-07T19:05:49.360Z"
   },
   {
    "duration": 116,
    "start_time": "2022-12-07T19:06:11.841Z"
   },
   {
    "duration": 102,
    "start_time": "2022-12-07T19:06:30.965Z"
   },
   {
    "duration": 15,
    "start_time": "2022-12-07T19:06:51.303Z"
   },
   {
    "duration": 9,
    "start_time": "2022-12-07T19:07:23.474Z"
   },
   {
    "duration": 8,
    "start_time": "2022-12-07T19:07:36.112Z"
   },
   {
    "duration": 9,
    "start_time": "2022-12-07T19:08:31.809Z"
   },
   {
    "duration": 102,
    "start_time": "2022-12-07T19:08:58.753Z"
   },
   {
    "duration": 16,
    "start_time": "2022-12-07T19:09:39.606Z"
   },
   {
    "duration": 161,
    "start_time": "2022-12-07T19:09:53.729Z"
   },
   {
    "duration": 110,
    "start_time": "2022-12-07T19:10:06.543Z"
   },
   {
    "duration": 19,
    "start_time": "2022-12-07T19:10:22.950Z"
   },
   {
    "duration": 6,
    "start_time": "2022-12-07T19:11:02.441Z"
   },
   {
    "duration": 6,
    "start_time": "2022-12-07T19:11:10.333Z"
   },
   {
    "duration": 9,
    "start_time": "2022-12-07T19:11:26.999Z"
   },
   {
    "duration": 14,
    "start_time": "2022-12-07T19:12:28.519Z"
   },
   {
    "duration": 24,
    "start_time": "2022-12-07T19:12:42.185Z"
   },
   {
    "duration": 14,
    "start_time": "2022-12-07T19:13:03.001Z"
   },
   {
    "duration": 15,
    "start_time": "2022-12-07T19:13:35.010Z"
   },
   {
    "duration": 21,
    "start_time": "2022-12-07T19:14:08.584Z"
   },
   {
    "duration": 22,
    "start_time": "2022-12-07T19:14:48.549Z"
   },
   {
    "duration": 29,
    "start_time": "2022-12-07T19:14:58.747Z"
   },
   {
    "duration": 24,
    "start_time": "2022-12-07T19:15:29.753Z"
   },
   {
    "duration": 9,
    "start_time": "2022-12-07T19:16:18.479Z"
   },
   {
    "duration": 11,
    "start_time": "2022-12-07T19:16:22.462Z"
   },
   {
    "duration": 17,
    "start_time": "2022-12-07T19:17:45.969Z"
   },
   {
    "duration": 17,
    "start_time": "2022-12-07T19:18:09.634Z"
   },
   {
    "duration": 16,
    "start_time": "2022-12-07T19:20:04.664Z"
   },
   {
    "duration": 65,
    "start_time": "2022-12-08T06:09:34.102Z"
   },
   {
    "duration": 562,
    "start_time": "2022-12-08T06:09:41.519Z"
   },
   {
    "duration": 22,
    "start_time": "2022-12-08T06:09:42.083Z"
   },
   {
    "duration": 53,
    "start_time": "2022-12-08T06:09:42.106Z"
   },
   {
    "duration": 9,
    "start_time": "2022-12-08T06:09:42.161Z"
   },
   {
    "duration": 40,
    "start_time": "2022-12-08T06:09:42.171Z"
   },
   {
    "duration": 3,
    "start_time": "2022-12-08T06:09:42.212Z"
   },
   {
    "duration": 30,
    "start_time": "2022-12-08T06:09:42.217Z"
   },
   {
    "duration": 21,
    "start_time": "2022-12-08T06:09:42.249Z"
   },
   {
    "duration": 12,
    "start_time": "2022-12-08T06:09:42.272Z"
   },
   {
    "duration": 18,
    "start_time": "2022-12-08T06:09:42.288Z"
   },
   {
    "duration": 53,
    "start_time": "2022-12-08T06:09:42.308Z"
   },
   {
    "duration": 9,
    "start_time": "2022-12-08T06:09:42.362Z"
   },
   {
    "duration": 28,
    "start_time": "2022-12-08T06:09:42.373Z"
   },
   {
    "duration": 38,
    "start_time": "2022-12-08T06:09:42.403Z"
   },
   {
    "duration": 38,
    "start_time": "2022-12-08T06:09:42.443Z"
   },
   {
    "duration": 16,
    "start_time": "2022-12-08T06:09:42.483Z"
   },
   {
    "duration": 36,
    "start_time": "2022-12-08T06:09:42.501Z"
   },
   {
    "duration": 24,
    "start_time": "2022-12-08T06:09:42.539Z"
   },
   {
    "duration": 22,
    "start_time": "2022-12-08T06:09:42.564Z"
   },
   {
    "duration": 8,
    "start_time": "2022-12-08T06:09:42.588Z"
   },
   {
    "duration": 54,
    "start_time": "2022-12-08T06:09:42.597Z"
   },
   {
    "duration": 32,
    "start_time": "2022-12-08T06:09:42.653Z"
   },
   {
    "duration": 39,
    "start_time": "2022-12-08T06:09:42.687Z"
   },
   {
    "duration": 51,
    "start_time": "2022-12-08T06:09:42.733Z"
   },
   {
    "duration": 20,
    "start_time": "2022-12-08T06:09:42.786Z"
   },
   {
    "duration": 32,
    "start_time": "2022-12-08T06:09:42.807Z"
   },
   {
    "duration": 51,
    "start_time": "2022-12-08T06:09:42.841Z"
   },
   {
    "duration": 14,
    "start_time": "2022-12-08T06:09:56.440Z"
   },
   {
    "duration": 14,
    "start_time": "2022-12-08T06:10:33.174Z"
   },
   {
    "duration": 20,
    "start_time": "2022-12-08T06:11:27.788Z"
   },
   {
    "duration": 1480,
    "start_time": "2022-12-08T06:11:48.756Z"
   },
   {
    "duration": 26,
    "start_time": "2022-12-08T06:11:56.274Z"
   },
   {
    "duration": 14,
    "start_time": "2022-12-08T06:12:04.023Z"
   },
   {
    "duration": 11,
    "start_time": "2022-12-08T06:12:09.658Z"
   },
   {
    "duration": 13,
    "start_time": "2022-12-08T06:12:13.495Z"
   },
   {
    "duration": 16,
    "start_time": "2022-12-08T06:12:24.049Z"
   },
   {
    "duration": 11,
    "start_time": "2022-12-08T06:14:01.016Z"
   },
   {
    "duration": 24,
    "start_time": "2022-12-08T06:16:04.204Z"
   },
   {
    "duration": 14,
    "start_time": "2022-12-08T06:16:17.692Z"
   },
   {
    "duration": 121,
    "start_time": "2022-12-08T06:16:53.378Z"
   },
   {
    "duration": 529,
    "start_time": "2022-12-08T06:18:13.612Z"
   },
   {
    "duration": 36,
    "start_time": "2022-12-08T06:18:14.143Z"
   },
   {
    "duration": 16,
    "start_time": "2022-12-08T06:18:14.181Z"
   },
   {
    "duration": 38,
    "start_time": "2022-12-08T06:18:14.199Z"
   },
   {
    "duration": 68,
    "start_time": "2022-12-08T06:18:14.240Z"
   },
   {
    "duration": 7,
    "start_time": "2022-12-08T06:18:14.311Z"
   },
   {
    "duration": 40,
    "start_time": "2022-12-08T06:18:14.323Z"
   },
   {
    "duration": 22,
    "start_time": "2022-12-08T06:18:14.366Z"
   },
   {
    "duration": 22,
    "start_time": "2022-12-08T06:18:14.390Z"
   },
   {
    "duration": 9,
    "start_time": "2022-12-08T06:18:14.416Z"
   },
   {
    "duration": 62,
    "start_time": "2022-12-08T06:18:14.431Z"
   },
   {
    "duration": 10,
    "start_time": "2022-12-08T06:18:14.494Z"
   },
   {
    "duration": 4,
    "start_time": "2022-12-08T06:18:14.506Z"
   },
   {
    "duration": 21,
    "start_time": "2022-12-08T06:18:14.511Z"
   },
   {
    "duration": 27,
    "start_time": "2022-12-08T06:18:14.534Z"
   },
   {
    "duration": 17,
    "start_time": "2022-12-08T06:18:14.563Z"
   },
   {
    "duration": 4,
    "start_time": "2022-12-08T06:18:14.581Z"
   },
   {
    "duration": 14,
    "start_time": "2022-12-08T06:18:14.587Z"
   },
   {
    "duration": 22,
    "start_time": "2022-12-08T06:18:14.603Z"
   },
   {
    "duration": 4,
    "start_time": "2022-12-08T06:18:14.627Z"
   },
   {
    "duration": 29,
    "start_time": "2022-12-08T06:18:14.633Z"
   },
   {
    "duration": 16,
    "start_time": "2022-12-08T06:18:14.664Z"
   },
   {
    "duration": 3,
    "start_time": "2022-12-08T06:18:14.681Z"
   },
   {
    "duration": 6,
    "start_time": "2022-12-08T06:18:14.685Z"
   },
   {
    "duration": 5,
    "start_time": "2022-12-08T06:24:01.365Z"
   },
   {
    "duration": 12,
    "start_time": "2022-12-08T06:24:02.644Z"
   },
   {
    "duration": 99,
    "start_time": "2022-12-08T06:26:03.340Z"
   },
   {
    "duration": 29,
    "start_time": "2022-12-08T06:26:55.429Z"
   },
   {
    "duration": 31,
    "start_time": "2022-12-08T06:27:40.135Z"
   },
   {
    "duration": 19,
    "start_time": "2022-12-08T06:28:38.259Z"
   },
   {
    "duration": 28,
    "start_time": "2022-12-08T06:28:41.558Z"
   },
   {
    "duration": 39,
    "start_time": "2022-12-08T06:29:14.975Z"
   },
   {
    "duration": 31,
    "start_time": "2022-12-08T06:29:53.707Z"
   },
   {
    "duration": 134,
    "start_time": "2022-12-08T06:38:05.900Z"
   },
   {
    "duration": 31,
    "start_time": "2022-12-08T06:39:08.863Z"
   },
   {
    "duration": 26,
    "start_time": "2022-12-08T06:39:27.511Z"
   },
   {
    "duration": 14,
    "start_time": "2022-12-08T06:39:40.450Z"
   },
   {
    "duration": 14,
    "start_time": "2022-12-08T07:05:54.399Z"
   },
   {
    "duration": 19,
    "start_time": "2022-12-08T07:06:02.411Z"
   },
   {
    "duration": 21,
    "start_time": "2022-12-08T07:10:51.118Z"
   },
   {
    "duration": 21,
    "start_time": "2022-12-08T07:11:00.895Z"
   },
   {
    "duration": 131,
    "start_time": "2022-12-08T07:12:15.212Z"
   },
   {
    "duration": 556,
    "start_time": "2022-12-08T09:31:53.808Z"
   },
   {
    "duration": 23,
    "start_time": "2022-12-08T09:31:54.366Z"
   },
   {
    "duration": 33,
    "start_time": "2022-12-08T09:31:54.390Z"
   },
   {
    "duration": 10,
    "start_time": "2022-12-08T09:31:54.425Z"
   },
   {
    "duration": 36,
    "start_time": "2022-12-08T09:31:54.437Z"
   },
   {
    "duration": 3,
    "start_time": "2022-12-08T09:31:54.475Z"
   },
   {
    "duration": 14,
    "start_time": "2022-12-08T09:31:54.480Z"
   },
   {
    "duration": 28,
    "start_time": "2022-12-08T09:31:54.495Z"
   },
   {
    "duration": 7,
    "start_time": "2022-12-08T09:31:54.525Z"
   },
   {
    "duration": 5,
    "start_time": "2022-12-08T09:31:54.537Z"
   },
   {
    "duration": 43,
    "start_time": "2022-12-08T09:31:54.544Z"
   },
   {
    "duration": 10,
    "start_time": "2022-12-08T09:31:54.589Z"
   },
   {
    "duration": 25,
    "start_time": "2022-12-08T09:31:54.600Z"
   },
   {
    "duration": 14,
    "start_time": "2022-12-08T09:31:54.627Z"
   },
   {
    "duration": 21,
    "start_time": "2022-12-08T09:31:54.643Z"
   },
   {
    "duration": 18,
    "start_time": "2022-12-08T09:31:54.665Z"
   },
   {
    "duration": 4,
    "start_time": "2022-12-08T09:31:54.685Z"
   },
   {
    "duration": 37,
    "start_time": "2022-12-08T09:31:54.690Z"
   },
   {
    "duration": 6,
    "start_time": "2022-12-08T09:31:54.728Z"
   },
   {
    "duration": 5,
    "start_time": "2022-12-08T09:31:54.735Z"
   },
   {
    "duration": 15,
    "start_time": "2022-12-08T09:31:54.741Z"
   },
   {
    "duration": 15,
    "start_time": "2022-12-08T09:31:54.757Z"
   },
   {
    "duration": 21,
    "start_time": "2022-12-08T09:31:54.773Z"
   },
   {
    "duration": 42,
    "start_time": "2022-12-08T09:31:54.796Z"
   },
   {
    "duration": 20,
    "start_time": "2022-12-08T09:31:54.839Z"
   },
   {
    "duration": 2,
    "start_time": "2022-12-08T09:31:54.861Z"
   },
   {
    "duration": 79,
    "start_time": "2022-12-09T04:38:35.821Z"
   }
  ],
  "colab": {
   "name": "dpp_template_part2.ipynb",
   "provenance": []
  },
  "kernelspec": {
   "display_name": "Python 3 (ipykernel)",
   "language": "python",
   "name": "python3"
  },
  "language_info": {
   "codemirror_mode": {
    "name": "ipython",
    "version": 3
   },
   "file_extension": ".py",
   "mimetype": "text/x-python",
   "name": "python",
   "nbconvert_exporter": "python",
   "pygments_lexer": "ipython3",
   "version": "3.10.12"
  },
  "toc": {
   "base_numbering": 1,
   "nav_menu": {},
   "number_sections": true,
   "sideBar": true,
   "skip_h1_title": true,
   "title_cell": "Table of Contents",
   "title_sidebar": "Contents",
   "toc_cell": false,
   "toc_position": {},
   "toc_section_display": true,
   "toc_window_display": false
  }
 },
 "nbformat": 4,
 "nbformat_minor": 5
}
